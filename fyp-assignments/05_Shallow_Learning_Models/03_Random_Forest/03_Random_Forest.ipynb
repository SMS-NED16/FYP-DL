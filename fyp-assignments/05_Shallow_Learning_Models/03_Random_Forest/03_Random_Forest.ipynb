{
  "nbformat": 4,
  "nbformat_minor": 0,
  "metadata": {
    "colab": {
      "name": "03_Random_Forest.ipynb",
      "provenance": [],
      "collapsed_sections": []
    },
    "kernelspec": {
      "name": "python3",
      "display_name": "Python 3"
    },
    "accelerator": "TPU"
  },
  "cells": [
    {
      "cell_type": "markdown",
      "metadata": {
        "id": "Hqva_AgI2ffv",
        "colab_type": "text"
      },
      "source": [
        "# Model 03 - Random Forest Classifier"
      ]
    },
    {
      "cell_type": "markdown",
      "metadata": {
        "id": "EY-M5yLs3bUe",
        "colab_type": "text"
      },
      "source": [
        "## Setting up Workspace"
      ]
    },
    {
      "cell_type": "code",
      "metadata": {
        "id": "RKhOh5lL2mAu",
        "colab_type": "code",
        "colab": {}
      },
      "source": [
        "# Standard imports\n",
        "import numpy as np\n",
        "import pandas as pd\n",
        "\n",
        "# Seed random number generator for consistent OPs across runs\n",
        "np.random.seed(42)\n",
        "\n",
        "# Matplotlib styles\n",
        "import matplotlib.pyplot as plt\n",
        "%matplotlib inline\n",
        "from matplotlib import style\n",
        "style.use('ggplot')\n",
        "\n",
        "# Seaborn for distributions\n",
        "from seaborn import distplot\n",
        "from seaborn import light_palette # For confusion matrix color coding\n",
        "\n",
        "# Linear and Non-Linear Support Vector Classifiers\n",
        "from sklearn.ensemble import RandomForestClassifier\n",
        "\n",
        "# Sckikit metrics for classification and coring \n",
        "from sklearn.metrics import classification_report, roc_auc_score, roc_curve, auc, \\\n",
        "confusion_matrix, average_precision_score, make_scorer\n",
        "\n",
        "# Scikit cross validation, splitting, and grid search methods\n",
        "from sklearn.model_selection import cross_validate, GridSearchCV, train_test_split\n",
        "\n",
        "# For defining custom transformer classes in a pipeline\n",
        "from sklearn.pipeline import Pipeline\n",
        "from sklearn.base import BaseEstimator, TransformerMixin\n",
        "\n",
        "# Needed in feature scaler transformer\n",
        "from sklearn.preprocessing import StandardScaler, Normalizer, MinMaxScaler, MaxAbsScaler, RobustScaler\n",
        "\n",
        "# For manipulating files within CoLab\n",
        "import os\n",
        "\n",
        "# No warnings pls\n",
        "import warnings\n",
        "warnings.filterwarnings('ignore')"
      ],
      "execution_count": 0,
      "outputs": []
    },
    {
      "cell_type": "markdown",
      "metadata": {
        "id": "LtH79UcW3gfX",
        "colab_type": "text"
      },
      "source": [
        "## Loading Data"
      ]
    },
    {
      "cell_type": "code",
      "metadata": {
        "id": "QMveQOfO2vjP",
        "colab_type": "code",
        "colab": {
          "base_uri": "https://localhost:8080/",
          "height": 122
        },
        "outputId": "5f01ab30-ecd2-4a53-d3dc-5f7e42d484e1"
      },
      "source": [
        "from google.colab import drive\n",
        "drive.mount('/content/drive')"
      ],
      "execution_count": 2,
      "outputs": [
        {
          "output_type": "stream",
          "text": [
            "Go to this URL in a browser: https://accounts.google.com/o/oauth2/auth?client_id=947318989803-6bn6qk8qdgf4n4g3pfee6491hc0brc4i.apps.googleusercontent.com&redirect_uri=urn%3aietf%3awg%3aoauth%3a2.0%3aoob&response_type=code&scope=email%20https%3a%2f%2fwww.googleapis.com%2fauth%2fdocs.test%20https%3a%2f%2fwww.googleapis.com%2fauth%2fdrive%20https%3a%2f%2fwww.googleapis.com%2fauth%2fdrive.photos.readonly%20https%3a%2f%2fwww.googleapis.com%2fauth%2fpeopleapi.readonly\n",
            "\n",
            "Enter your authorization code:\n",
            "··········\n",
            "Mounted at /content/drive\n"
          ],
          "name": "stdout"
        }
      ]
    },
    {
      "cell_type": "code",
      "metadata": {
        "id": "0zEfuXm-2x0L",
        "colab_type": "code",
        "colab": {
          "base_uri": "https://localhost:8080/",
          "height": 34
        },
        "outputId": "ad04ebe5-3386-434b-af3b-2eb2e2dedcef"
      },
      "source": [
        "fyp_dir = '/content/drive/My Drive/EE 16-17 FYP DL Energy Theft Detection'\n",
        "data_dir = 'Data'\n",
        "data_file = 'data-final.csv'\n",
        "data_path = os.path.join(fyp_dir, data_dir, data_file)\n",
        "print(data_path)"
      ],
      "execution_count": 3,
      "outputs": [
        {
          "output_type": "stream",
          "text": [
            "/content/drive/My Drive/EE 16-17 FYP DL Energy Theft Detection/Data/data-final.csv\n"
          ],
          "name": "stdout"
        }
      ]
    },
    {
      "cell_type": "code",
      "metadata": {
        "id": "70le9Nkj25IC",
        "colab_type": "code",
        "colab": {}
      },
      "source": [
        "data = pd.read_csv(data_path)"
      ],
      "execution_count": 0,
      "outputs": []
    },
    {
      "cell_type": "code",
      "metadata": {
        "id": "QMJdGxHY26At",
        "colab_type": "code",
        "colab": {}
      },
      "source": [
        "# Targets - class labels for all training samples\n",
        "y = data['FLAG'].values"
      ],
      "execution_count": 0,
      "outputs": []
    },
    {
      "cell_type": "code",
      "metadata": {
        "id": "ajzJzyrz2627",
        "colab_type": "code",
        "colab": {}
      },
      "source": [
        "X = data.iloc[:, 2:].values"
      ],
      "execution_count": 0,
      "outputs": []
    },
    {
      "cell_type": "code",
      "metadata": {
        "id": "Wlo8EqP6271-",
        "colab_type": "code",
        "colab": {}
      },
      "source": [
        "# Is there one training sample per label?\n",
        "assert X.shape[0] == y.shape[0]"
      ],
      "execution_count": 0,
      "outputs": []
    },
    {
      "cell_type": "code",
      "metadata": {
        "id": "2pRAEg1I28vB",
        "colab_type": "code",
        "colab": {}
      },
      "source": [
        "# Test Size = 1 - Training Ratio\n",
        "TEST_SIZE = 0.20"
      ],
      "execution_count": 0,
      "outputs": []
    },
    {
      "cell_type": "code",
      "metadata": {
        "id": "CMBVtrrc29nS",
        "colab_type": "code",
        "colab": {}
      },
      "source": [
        "# Shuffling data and making sure both training and test sets contain same proportion of classes\n",
        "X_train, X_test, y_train, y_test = train_test_split(X, y, \n",
        "                                                    test_size=TEST_SIZE, \n",
        "                                                    random_state=0, \n",
        "                                                    shuffle=True, \n",
        "                                                    stratify=y)"
      ],
      "execution_count": 0,
      "outputs": []
    },
    {
      "cell_type": "markdown",
      "metadata": {
        "id": "edHSd2Cx2-db",
        "colab_type": "text"
      },
      "source": [
        "## Helper Function Definitions"
      ]
    },
    {
      "cell_type": "code",
      "metadata": {
        "id": "nBN8s-a83Cd6",
        "colab_type": "code",
        "colab": {}
      },
      "source": [
        "def get_classification_result(y_pred, y_true, classifier_name=None):\n",
        "    \"\"\"Custom function to display classification results\"\"\"\n",
        "    # Display the classification report \n",
        "    print(\"CLASSIFICATION REPORT\")\n",
        "    print(classification_report(y_true, y_pred, labels=[0, 1], \n",
        "                                target_names=['Regular Consumer', 'Thieves']))\n",
        "    \n",
        "    # Display the confusion matrix\n",
        "    print(\"CONFUSION MATRIX\")\n",
        "    conf_mat = pd.DataFrame(data=confusion_matrix(y_true, y_pred))\n",
        "    conf_mat.index = ['True 0', 'True 1']\n",
        "    conf_mat.columns = ['Predicted 0', 'Predicted 1']\n",
        "    cm = light_palette('blue', as_cmap=True)\n",
        "    conf_mat_display = conf_mat.style.background_gradient(cmap=cm)\n",
        "    display(conf_mat_display)\n",
        "    \n",
        "    # Display ROC \n",
        "    fpr, tpr, _ = roc_curve(y_true, y_pred, pos_label=1)\n",
        "    roc_auc = auc(fpr, tpr) \n",
        "    plt.figure(figsize=(5, 5))\n",
        "    plt.plot(fpr, tpr, lw=2, label='ROC Curve (area = %0.2f)' % roc_auc)\n",
        "    plt.xlabel('False Positive Rate', fontsize=14)\n",
        "    plt.ylabel('True Positive Rate', fontsize=14)\n",
        "    plt.legend(loc='lower right')\n",
        "    \n",
        "    if classifier_name is not None:\n",
        "        plt.title(f'ROC Curve - {classifier_name}', fontsize=14)"
      ],
      "execution_count": 0,
      "outputs": []
    },
    {
      "cell_type": "code",
      "metadata": {
        "id": "kjILjECi3C0V",
        "colab_type": "code",
        "colab": {}
      },
      "source": [
        "def visualizeCVResults(cv_obj, model_name=None, metric='auc'):\n",
        "  # First, convert to dataframe\n",
        "  cvResults = pd.DataFrame(cv_obj.cv_results_)\n",
        "  if metric=='auc':\n",
        "      # Drop unnecessary columns\n",
        "      newResults = cvResults[['rank_test_roc_auc_scorer', 'params', 'mean_test_roc_auc_scorer',\n",
        "                           'std_test_roc_auc_scorer']]\n",
        "  \n",
        "      # Then, sort by rank - highest score comes first\n",
        "      newResults.sort_values(by=['rank_test_roc_auc_scorer'], inplace=True, ascending=True)\n",
        "  else:\n",
        "      newResults = cvResults[['rank_test_map_scorer', 'params', 'mean_test_map_scorer', \n",
        "                             'std_test_map_scorer']]\n",
        "      # Then, sort by rank - highest score comes first\n",
        "      newResults.sort_values(by=['rank_test_map_scorer'], inplace=True, ascending=True)\n",
        "\n",
        "  # Rename the columns for easier referencing, regardless of metrics\n",
        "  newResults.columns = ['rank_test_score', 'params', 'mean_test_score', 'std_test_score']\n",
        "\n",
        "  # Create a bar graph\n",
        "\n",
        "  # Make a figure\n",
        "  plt.figure(figsize=(12, 6))\n",
        "\n",
        "  # One bar for each model being compared, so one tick for each bar\n",
        "  xtick_range = list(range(0, len(newResults)))\n",
        "\n",
        "  # Label for the ticks will be the parameters\n",
        "  xtick_labels = newResults['params']\n",
        "\n",
        "  # Plot the bar graph\n",
        "  plt.bar(xtick_range, height=newResults['mean_test_score'])\n",
        "\n",
        "  # Replace the tick labels with parameter values\n",
        "  plt.xticks(xtick_range, xtick_labels, rotation='vertical')\n",
        "\n",
        "  # Annotate\n",
        "  plt.xlabel('Parameters', fontsize=14)\n",
        "  y_label_str = 'Mean CV AUC' if metric is 'auc' else 'Mean CV AP'\n",
        "  plt.ylabel(y_label_str, fontsize=14)\n",
        "  title_str = y_label_str + ' - '  + model_name if model_name is not None else y_label\n",
        "  plt.title(title_str, fontsize=18)"
      ],
      "execution_count": 0,
      "outputs": []
    },
    {
      "cell_type": "markdown",
      "metadata": {
        "id": "5vMPhUeI3VFU",
        "colab_type": "text"
      },
      "source": [
        "## Transformers"
      ]
    },
    {
      "cell_type": "code",
      "metadata": {
        "id": "JGi95gaJ3nmr",
        "colab_type": "code",
        "colab": {}
      },
      "source": [
        "# Creating a custom transformer \n",
        "class MyFeatureScaler(BaseEstimator, TransformerMixin):\n",
        "    def __init__(self, scalingStrategy='StandardScaler'):\n",
        "        \"\"\"Initialize this transformer with an instance of the scaler you wish to use\"\"\"\n",
        "        # Initialise dictionary of all possible scaling strategies\n",
        "        self.scalingStrategies = {\n",
        "            'StandardScaler': StandardScaler(),\n",
        "            'MinMaxScaler': MinMaxScaler(),\n",
        "            'MaxAbsScaler': MaxAbsScaler(),\n",
        "            'RobustScaler': RobustScaler(),\n",
        "            'ScaleByConsumer': Normalizer(),\n",
        "        }\n",
        "        self.scaler = self.scalingStrategies[scalingStrategy]\n",
        "        \n",
        "    def fit(self, X, y=None):\n",
        "        # Do nothing for now\n",
        "        return self.scaler.fit(X, y)\n",
        "    \n",
        "    def transform(self, X, y=None):\n",
        "        scaled_features = self.scaler.transform(X, y)"
      ],
      "execution_count": 0,
      "outputs": []
    },
    {
      "cell_type": "code",
      "metadata": {
        "id": "GYlJT7Pz3oSy",
        "colab_type": "code",
        "colab": {}
      },
      "source": [
        "class Transposer(BaseEstimator, TransformerMixin):\n",
        "  \"\"\"Transposes a matrix of features\"\"\"\n",
        "  def __init__(self):\n",
        "    # Do nothing for now\n",
        "    pass\n",
        "\n",
        "  def fit(self, X, y=None):\n",
        "    # Do nothing for now \n",
        "    return self\n",
        "\n",
        "  def transform(self, X, y=None):\n",
        "    return X.transpose()"
      ],
      "execution_count": 0,
      "outputs": []
    },
    {
      "cell_type": "markdown",
      "metadata": {
        "id": "-8k1U7W-3pZh",
        "colab_type": "text"
      },
      "source": [
        "## Pipelines"
      ]
    },
    {
      "cell_type": "code",
      "metadata": {
        "id": "p1HROCKw3r2I",
        "colab_type": "code",
        "colab": {}
      },
      "source": [
        "pipeline_zheng = Pipeline([\n",
        "                           ('FeatureScaler', MyFeatureScaler())\n",
        "])"
      ],
      "execution_count": 0,
      "outputs": []
    },
    {
      "cell_type": "code",
      "metadata": {
        "id": "kl2uchRB3smB",
        "colab_type": "code",
        "colab": {}
      },
      "source": [
        "pipeline_custom = Pipeline([\n",
        "                            ('Transposer', Transposer()),\n",
        "                            ('FeatureScaler', MyFeatureScaler()),\n",
        "                            ('Retransposer', Transposer())\n",
        "])"
      ],
      "execution_count": 0,
      "outputs": []
    },
    {
      "cell_type": "markdown",
      "metadata": {
        "id": "BjlahJVT3tww",
        "colab_type": "text"
      },
      "source": [
        "## Cross Validation Scoring Functions"
      ]
    },
    {
      "cell_type": "code",
      "metadata": {
        "id": "AnJcLiAs3viY",
        "colab_type": "code",
        "colab": {}
      },
      "source": [
        "roc_auc_scorer = make_scorer(roc_auc_score, greater_is_better=True)\n",
        "avg_precision_scorer = make_scorer(average_precision_score, greater_is_better=True, needs_proba=False)"
      ],
      "execution_count": 0,
      "outputs": []
    },
    {
      "cell_type": "markdown",
      "metadata": {
        "id": "4OzUqPYr3xAR",
        "colab_type": "text"
      },
      "source": [
        "## Zheng's Random Forest Classifier\n",
        "\n",
        "Zheng's paper has specified the following hyperparameters for the support vector machine.\n",
        "1. Number of trees: 200\n",
        "2. Function to measure quality of split (aka `criterion`): `gini`"
      ]
    },
    {
      "cell_type": "code",
      "metadata": {
        "id": "aK2CWSux4FaA",
        "colab_type": "code",
        "colab": {}
      },
      "source": [
        "randomForestClfZheng = RandomForestClassifier(n_estimators=200, criterion='gini',\n",
        "                                              random_state=42, verbose=2)"
      ],
      "execution_count": 0,
      "outputs": []
    },
    {
      "cell_type": "code",
      "metadata": {
        "id": "H1-Jgb124po5",
        "colab_type": "code",
        "colab": {}
      },
      "source": [
        "randomForestClfZheng.fit(X=pipeline_zheng.fit_transform(X_train), \n",
        "                         y=y_train)"
      ],
      "execution_count": 0,
      "outputs": []
    },
    {
      "cell_type": "markdown",
      "metadata": {
        "id": "AeUXSxnc44Ra",
        "colab_type": "text"
      },
      "source": [
        "`[Parallel(n_jobs=1)]: Done 200 out of 200 | elapsed:  5.3min finished`\n",
        "\n",
        "`RandomForestClassifier(bootstrap=True, ccp_alpha=0.0, class_weight=None,\n",
        "                       criterion='gini', max_depth=None, max_features='auto',\n",
        "                       max_leaf_nodes=None, max_samples=None,\n",
        "                       min_impurity_decrease=0.0, min_impurity_split=None,\n",
        "                       min_samples_leaf=1, min_samples_split=2,\n",
        "                       min_weight_fraction_leaf=0.0, n_estimators=200,\n",
        "                       n_jobs=None, oob_score=False, random_state=42, verbose=3,\n",
        "                       warm_start=False)`"
      ]
    },
    {
      "cell_type": "code",
      "metadata": {
        "id": "ENce8hnv6mKh",
        "colab_type": "code",
        "colab": {
          "base_uri": "https://localhost:8080/",
          "height": 85
        },
        "outputId": "99262aa5-2a48-4052-d173-48d6681a16b6"
      },
      "source": [
        "y_pred = randomForestClfZheng.predict(pipeline_zheng.fit_transform(X_test))"
      ],
      "execution_count": 28,
      "outputs": [
        {
          "output_type": "stream",
          "text": [
            "[Parallel(n_jobs=1)]: Using backend SequentialBackend with 1 concurrent workers.\n",
            "[Parallel(n_jobs=1)]: Done   1 out of   1 | elapsed:    0.0s remaining:    0.0s\n",
            "[Parallel(n_jobs=1)]: Done   2 out of   2 | elapsed:    0.0s remaining:    0.0s\n",
            "[Parallel(n_jobs=1)]: Done 200 out of 200 | elapsed:    0.8s finished\n"
          ],
          "name": "stderr"
        }
      ]
    },
    {
      "cell_type": "code",
      "metadata": {
        "id": "OxYaqG8B60gv",
        "colab_type": "code",
        "colab": {
          "base_uri": "https://localhost:8080/",
          "height": 607
        },
        "outputId": "5a6b767c-45ef-42cb-f1ca-c1cf61dfdf8c"
      },
      "source": [
        "get_classification_result(y_pred, y_test, classifier_name=\"Zheng's Random Forest Classifier\")"
      ],
      "execution_count": 29,
      "outputs": [
        {
          "output_type": "stream",
          "text": [
            "CLASSIFICATION REPORT\n",
            "                  precision    recall  f1-score   support\n",
            "\n",
            "Regular Consumer       0.94      0.97      0.95      7752\n",
            "         Thieves       0.43      0.28      0.34       723\n",
            "\n",
            "        accuracy                           0.91      8475\n",
            "       macro avg       0.68      0.62      0.65      8475\n",
            "    weighted avg       0.89      0.91      0.90      8475\n",
            "\n",
            "CONFUSION MATRIX\n"
          ],
          "name": "stdout"
        },
        {
          "output_type": "display_data",
          "data": {
            "text/html": [
              "<style  type=\"text/css\" >\n",
              "    #T_407064f0_4014_11ea_84f7_0242ac1c0002row0_col0 {\n",
              "            background-color:  #0000ff;\n",
              "            color:  #f1f1f1;\n",
              "        }    #T_407064f0_4014_11ea_84f7_0242ac1c0002row0_col1 {\n",
              "            background-color:  #0000ff;\n",
              "            color:  #f1f1f1;\n",
              "        }    #T_407064f0_4014_11ea_84f7_0242ac1c0002row1_col0 {\n",
              "            background-color:  #e5e5ff;\n",
              "            color:  #000000;\n",
              "        }    #T_407064f0_4014_11ea_84f7_0242ac1c0002row1_col1 {\n",
              "            background-color:  #e5e5ff;\n",
              "            color:  #000000;\n",
              "        }</style><table id=\"T_407064f0_4014_11ea_84f7_0242ac1c0002\" ><thead>    <tr>        <th class=\"blank level0\" ></th>        <th class=\"col_heading level0 col0\" >Predicted 0</th>        <th class=\"col_heading level0 col1\" >Predicted 1</th>    </tr></thead><tbody>\n",
              "                <tr>\n",
              "                        <th id=\"T_407064f0_4014_11ea_84f7_0242ac1c0002level0_row0\" class=\"row_heading level0 row0\" >True 0</th>\n",
              "                        <td id=\"T_407064f0_4014_11ea_84f7_0242ac1c0002row0_col0\" class=\"data row0 col0\" >7481</td>\n",
              "                        <td id=\"T_407064f0_4014_11ea_84f7_0242ac1c0002row0_col1\" class=\"data row0 col1\" >271</td>\n",
              "            </tr>\n",
              "            <tr>\n",
              "                        <th id=\"T_407064f0_4014_11ea_84f7_0242ac1c0002level0_row1\" class=\"row_heading level0 row1\" >True 1</th>\n",
              "                        <td id=\"T_407064f0_4014_11ea_84f7_0242ac1c0002row1_col0\" class=\"data row1 col0\" >519</td>\n",
              "                        <td id=\"T_407064f0_4014_11ea_84f7_0242ac1c0002row1_col1\" class=\"data row1 col1\" >204</td>\n",
              "            </tr>\n",
              "    </tbody></table>"
            ],
            "text/plain": [
              "<pandas.io.formats.style.Styler at 0x7fef16683e80>"
            ]
          },
          "metadata": {
            "tags": []
          }
        },
        {
          "output_type": "display_data",
          "data": {
            "image/png": "[encoded data removed]",
            "text/plain": [
              "<Figure size 360x360 with 1 Axes>"
            ]
          },
          "metadata": {
            "tags": []
          }
        }
      ]
    },
    {
      "cell_type": "markdown",
      "metadata": {
        "id": "JpuaXPXx7RJP",
        "colab_type": "text"
      },
      "source": [
        "## Cross Validating Custom Classifier"
      ]
    },
    {
      "cell_type": "code",
      "metadata": {
        "id": "7B2k1rbq7Znl",
        "colab_type": "code",
        "colab": {}
      },
      "source": [
        "# Grid of hyperparameters to tune\n",
        "param_grid = {\n",
        "    'criterion': ['gini', 'entropy'],    # Function for deciding tree separation\n",
        "    'n_estimators': [150, 200, 250],     # Number of trees in forest\n",
        "}"
      ],
      "execution_count": 0,
      "outputs": []
    },
    {
      "cell_type": "code",
      "metadata": {
        "id": "1BMtsHMkC43I",
        "colab_type": "code",
        "colab": {}
      },
      "source": [
        "randomForestClfCustom = RandomForestClassifier(random_state=0)"
      ],
      "execution_count": 0,
      "outputs": []
    },
    {
      "cell_type": "code",
      "metadata": {
        "id": "n2vIAfWy--of",
        "colab_type": "code",
        "colab": {}
      },
      "source": [
        "rf_clf_CV = GridSearchCV(estimator=randomForestClfCustom, \n",
        "                         param_grid=param_grid, \n",
        "                         scoring={\n",
        "                             'roc_auc_scorer': roc_auc_scorer,\n",
        "                             'map_scorer': avg_precision_scorer, \n",
        "                         }, \n",
        "                         n_jobs=1, \n",
        "                         verbose=2, \n",
        "                         refit='roc_auc_scorer', \n",
        "                         cv=3)"
      ],
      "execution_count": 0,
      "outputs": []
    },
    {
      "cell_type": "code",
      "metadata": {
        "id": "eItBByRqCFuA",
        "colab_type": "code",
        "colab": {
          "base_uri": "https://localhost:8080/",
          "height": 697
        },
        "outputId": "758a0bea-fd21-44ef-dd64-2934f2760239"
      },
      "source": [
        "rf_clf_cv_results = rf_clf_CV.fit(X=pipeline_custom.fit_transform(X_train), \n",
        "                                  y=y_train)"
      ],
      "execution_count": 25,
      "outputs": [
        {
          "output_type": "stream",
          "text": [
            "Fitting 3 folds for each of 6 candidates, totalling 18 fits\n",
            "[CV] criterion=gini, n_estimators=150 ................................\n"
          ],
          "name": "stdout"
        },
        {
          "output_type": "stream",
          "text": [
            "[Parallel(n_jobs=1)]: Using backend SequentialBackend with 1 concurrent workers.\n"
          ],
          "name": "stderr"
        },
        {
          "output_type": "stream",
          "text": [
            "[CV] ................. criterion=gini, n_estimators=150, total= 4.4min\n",
            "[CV] criterion=gini, n_estimators=150 ................................\n"
          ],
          "name": "stdout"
        },
        {
          "output_type": "stream",
          "text": [
            "[Parallel(n_jobs=1)]: Done   1 out of   1 | elapsed:  4.4min remaining:    0.0s\n"
          ],
          "name": "stderr"
        },
        {
          "output_type": "stream",
          "text": [
            "[CV] ................. criterion=gini, n_estimators=150, total= 4.8min\n",
            "[CV] criterion=gini, n_estimators=150 ................................\n",
            "[CV] ................. criterion=gini, n_estimators=150, total= 4.6min\n",
            "[CV] criterion=gini, n_estimators=200 ................................\n",
            "[CV] ................. criterion=gini, n_estimators=200, total= 5.9min\n",
            "[CV] criterion=gini, n_estimators=200 ................................\n",
            "[CV] ................. criterion=gini, n_estimators=200, total= 6.1min\n",
            "[CV] criterion=gini, n_estimators=200 ................................\n",
            "[CV] ................. criterion=gini, n_estimators=200, total= 6.0min\n",
            "[CV] criterion=gini, n_estimators=250 ................................\n",
            "[CV] ................. criterion=gini, n_estimators=250, total= 7.5min\n",
            "[CV] criterion=gini, n_estimators=250 ................................\n",
            "[CV] ................. criterion=gini, n_estimators=250, total= 7.7min\n",
            "[CV] criterion=gini, n_estimators=250 ................................\n",
            "[CV] ................. criterion=gini, n_estimators=250, total= 7.6min\n",
            "[CV] criterion=entropy, n_estimators=150 .............................\n",
            "[CV] .............. criterion=entropy, n_estimators=150, total= 3.6min\n",
            "[CV] criterion=entropy, n_estimators=150 .............................\n",
            "[CV] .............. criterion=entropy, n_estimators=150, total= 3.5min\n",
            "[CV] criterion=entropy, n_estimators=150 .............................\n",
            "[CV] .............. criterion=entropy, n_estimators=150, total= 3.5min\n",
            "[CV] criterion=entropy, n_estimators=200 .............................\n",
            "[CV] .............. criterion=entropy, n_estimators=200, total= 4.7min\n",
            "[CV] criterion=entropy, n_estimators=200 .............................\n",
            "[CV] .............. criterion=entropy, n_estimators=200, total= 4.7min\n",
            "[CV] criterion=entropy, n_estimators=200 .............................\n",
            "[CV] .............. criterion=entropy, n_estimators=200, total= 4.7min\n",
            "[CV] criterion=entropy, n_estimators=250 .............................\n",
            "[CV] .............. criterion=entropy, n_estimators=250, total= 5.9min\n",
            "[CV] criterion=entropy, n_estimators=250 .............................\n",
            "[CV] .............. criterion=entropy, n_estimators=250, total= 6.0min\n",
            "[CV] criterion=entropy, n_estimators=250 .............................\n",
            "[CV] .............. criterion=entropy, n_estimators=250, total= 6.0min\n"
          ],
          "name": "stdout"
        },
        {
          "output_type": "stream",
          "text": [
            "[Parallel(n_jobs=1)]: Done  18 out of  18 | elapsed: 97.4min finished\n"
          ],
          "name": "stderr"
        }
      ]
    },
    {
      "cell_type": "code",
      "metadata": {
        "id": "OR_rurq3DCb9",
        "colab_type": "code",
        "colab": {}
      },
      "source": [
        "# Saving the model with tuned hyperparameters\n",
        "import pickle\n",
        "pickle.dump(rf_clf_cv_results.best_estimator_, open('rf_clf_cv_best_estimator_.joblib', 'wb')) "
      ],
      "execution_count": 0,
      "outputs": []
    },
    {
      "cell_type": "code",
      "metadata": {
        "id": "EJ4QEoaFcaL_",
        "colab_type": "code",
        "colab": {
          "base_uri": "https://localhost:8080/",
          "height": 34
        },
        "outputId": "8b953201-7b11-494f-8c39-14c3c1e86b7d"
      },
      "source": [
        "# Examining Random Forest Classifier Results\n",
        "rf_clf_cv_results.best_params_"
      ],
      "execution_count": 28,
      "outputs": [
        {
          "output_type": "execute_result",
          "data": {
            "text/plain": [
              "{'criterion': 'entropy', 'n_estimators': 250}"
            ]
          },
          "metadata": {
            "tags": []
          },
          "execution_count": 28
        }
      ]
    },
    {
      "cell_type": "code",
      "metadata": {
        "id": "qqL47q8Zcrq_",
        "colab_type": "code",
        "colab": {
          "base_uri": "https://localhost:8080/",
          "height": 34
        },
        "outputId": "b9c18bbd-1910-43cf-b0bb-21b612a7270b"
      },
      "source": [
        "rf_clf_cv_results.best_score_"
      ],
      "execution_count": 29,
      "outputs": [
        {
          "output_type": "execute_result",
          "data": {
            "text/plain": [
              "0.5144976951247991"
            ]
          },
          "metadata": {
            "tags": []
          },
          "execution_count": 29
        }
      ]
    },
    {
      "cell_type": "code",
      "metadata": {
        "id": "4afqZk8scuRw",
        "colab_type": "code",
        "colab": {
          "base_uri": "https://localhost:8080/",
          "height": 615
        },
        "outputId": "ba3c47d1-9404-4fc2-e765-8733e99ea443"
      },
      "source": [
        "visualizeCVResults(rf_clf_cv_results, model_name='Random Forest (Standard Scaling)', \n",
        "                   metric='auc')"
      ],
      "execution_count": 30,
      "outputs": [
        {
          "output_type": "display_data",
          "data": {
            "image/png": "[encoded data removed]",
            "text/plain": [
              "<Figure size 864x432 with 1 Axes>"
            ]
          },
          "metadata": {
            "tags": []
          }
        }
      ]
    },
    {
      "cell_type": "code",
      "metadata": {
        "id": "uGaiA3CkdFE1",
        "colab_type": "code",
        "colab": {}
      },
      "source": [
        ""
      ],
      "execution_count": 0,
      "outputs": []
    }
  ]
}