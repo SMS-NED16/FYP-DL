{
 "cells": [
  {
   "cell_type": "markdown",
   "metadata": {},
   "source": [
    "# 00 - Baseline Classifier\n",
    "\n",
    "We have a dataset of 42,372 consumers with a roughly 91-9 split between regular consumers (the negative class - `0`) and thieves (the target or positive class `1`). \n",
    "\n",
    "This begs the question: when 91% of the consumers will be regular consumers, why even have a machine learning model to differentiate between the two classes? Why not **always predict 0**? \n",
    "\n",
    "This is going to be the rationale behind our **baseline classifier**: a model that we will use to establish a benchmark (in terms of some quantifiable metric) to justify the need (or lack thereof) of a machine learning model."
   ]
  },
  {
   "cell_type": "markdown",
   "metadata": {},
   "source": [
    "## Setting up Workspace"
   ]
  },
  {
   "cell_type": "code",
   "execution_count": 1,
   "metadata": {},
   "outputs": [],
   "source": [
    "# For loading and manipulating data\n",
    "import numpy as np\n",
    "import pandas as pd\n",
    "\n",
    "# Seed random number generator\n",
    "np.random.seed(42)\n",
    "\n",
    "# Matplotlib with ggplot styles\n",
    "import matplotlib.pyplot as plt \n",
    "from matplotlib import style\n",
    "style.use('ggplot')\n",
    "%matplotlib inline\n",
    "\n",
    "# Seaborn for distribution plots\n",
    "from seaborn import distplot\n",
    "\n",
    "# Please stop with the warnings\n",
    "import warnings\n",
    "warnings.filterwarnings('ignore')"
   ]
  },
  {
   "cell_type": "markdown",
   "metadata": {},
   "source": [
    "## Loading Data"
   ]
  },
  {
   "cell_type": "code",
   "execution_count": 2,
   "metadata": {},
   "outputs": [],
   "source": [
    "df = pd.read_csv('../data-final.csv')"
   ]
  },
  {
   "cell_type": "code",
   "execution_count": 3,
   "metadata": {},
   "outputs": [
    {
     "data": {
      "text/html": [
       "<div>\n",
       "<style scoped>\n",
       "    .dataframe tbody tr th:only-of-type {\n",
       "        vertical-align: middle;\n",
       "    }\n",
       "\n",
       "    .dataframe tbody tr th {\n",
       "        vertical-align: top;\n",
       "    }\n",
       "\n",
       "    .dataframe thead th {\n",
       "        text-align: right;\n",
       "    }\n",
       "</style>\n",
       "<table border=\"1\" class=\"dataframe\">\n",
       "  <thead>\n",
       "    <tr style=\"text-align: right;\">\n",
       "      <th></th>\n",
       "      <th>CONS_NO</th>\n",
       "      <th>FLAG</th>\n",
       "      <th>2014-01-01</th>\n",
       "      <th>2014-01-02</th>\n",
       "      <th>2014-01-03</th>\n",
       "      <th>2014-01-04</th>\n",
       "      <th>2014-01-05</th>\n",
       "      <th>2014-01-06</th>\n",
       "      <th>2014-01-07</th>\n",
       "      <th>2014-01-08</th>\n",
       "      <th>...</th>\n",
       "      <th>2016-10-22</th>\n",
       "      <th>2016-10-23</th>\n",
       "      <th>2016-10-24</th>\n",
       "      <th>2016-10-25</th>\n",
       "      <th>2016-10-26</th>\n",
       "      <th>2016-10-27</th>\n",
       "      <th>2016-10-28</th>\n",
       "      <th>2016-10-29</th>\n",
       "      <th>2016-10-30</th>\n",
       "      <th>2016-10-31</th>\n",
       "    </tr>\n",
       "  </thead>\n",
       "  <tbody>\n",
       "    <tr>\n",
       "      <td>0</td>\n",
       "      <td>0387DD8A07E07FDA6271170F86AD9151</td>\n",
       "      <td>1</td>\n",
       "      <td>0.0</td>\n",
       "      <td>0.00</td>\n",
       "      <td>0.00</td>\n",
       "      <td>0.00</td>\n",
       "      <td>0.00</td>\n",
       "      <td>0.00</td>\n",
       "      <td>0.00</td>\n",
       "      <td>0.00</td>\n",
       "      <td>...</td>\n",
       "      <td>7.18</td>\n",
       "      <td>8.07</td>\n",
       "      <td>8.09</td>\n",
       "      <td>9.53</td>\n",
       "      <td>5.48</td>\n",
       "      <td>8.75</td>\n",
       "      <td>9.30</td>\n",
       "      <td>7.54</td>\n",
       "      <td>9.16</td>\n",
       "      <td>6.74</td>\n",
       "    </tr>\n",
       "    <tr>\n",
       "      <td>1</td>\n",
       "      <td>01D6177B5D4FFE0CABA9EF17DAFC2B84</td>\n",
       "      <td>1</td>\n",
       "      <td>0.0</td>\n",
       "      <td>0.00</td>\n",
       "      <td>0.00</td>\n",
       "      <td>0.00</td>\n",
       "      <td>0.00</td>\n",
       "      <td>0.00</td>\n",
       "      <td>0.00</td>\n",
       "      <td>0.00</td>\n",
       "      <td>...</td>\n",
       "      <td>0.00</td>\n",
       "      <td>0.00</td>\n",
       "      <td>0.00</td>\n",
       "      <td>0.00</td>\n",
       "      <td>0.00</td>\n",
       "      <td>0.00</td>\n",
       "      <td>0.00</td>\n",
       "      <td>0.00</td>\n",
       "      <td>0.00</td>\n",
       "      <td>0.00</td>\n",
       "    </tr>\n",
       "    <tr>\n",
       "      <td>2</td>\n",
       "      <td>4B75AC4F2D8434CFF62DB64D0BB43103</td>\n",
       "      <td>1</td>\n",
       "      <td>0.0</td>\n",
       "      <td>0.00</td>\n",
       "      <td>0.00</td>\n",
       "      <td>0.00</td>\n",
       "      <td>0.00</td>\n",
       "      <td>0.00</td>\n",
       "      <td>0.00</td>\n",
       "      <td>0.00</td>\n",
       "      <td>...</td>\n",
       "      <td>10.95</td>\n",
       "      <td>17.95</td>\n",
       "      <td>17.83</td>\n",
       "      <td>17.31</td>\n",
       "      <td>21.44</td>\n",
       "      <td>19.09</td>\n",
       "      <td>18.56</td>\n",
       "      <td>16.25</td>\n",
       "      <td>14.20</td>\n",
       "      <td>13.66</td>\n",
       "    </tr>\n",
       "    <tr>\n",
       "      <td>3</td>\n",
       "      <td>B32AC8CC6D5D805AC053557AB05F5343</td>\n",
       "      <td>1</td>\n",
       "      <td>0.0</td>\n",
       "      <td>0.00</td>\n",
       "      <td>0.00</td>\n",
       "      <td>0.00</td>\n",
       "      <td>0.00</td>\n",
       "      <td>0.00</td>\n",
       "      <td>0.00</td>\n",
       "      <td>0.00</td>\n",
       "      <td>...</td>\n",
       "      <td>12.81</td>\n",
       "      <td>15.12</td>\n",
       "      <td>17.26</td>\n",
       "      <td>14.91</td>\n",
       "      <td>19.59</td>\n",
       "      <td>20.79</td>\n",
       "      <td>17.95</td>\n",
       "      <td>19.26</td>\n",
       "      <td>14.46</td>\n",
       "      <td>11.72</td>\n",
       "    </tr>\n",
       "    <tr>\n",
       "      <td>4</td>\n",
       "      <td>EDFC78B07BA2908B3395C4EB2304665E</td>\n",
       "      <td>1</td>\n",
       "      <td>2.9</td>\n",
       "      <td>5.64</td>\n",
       "      <td>6.99</td>\n",
       "      <td>3.32</td>\n",
       "      <td>3.61</td>\n",
       "      <td>5.35</td>\n",
       "      <td>4.73</td>\n",
       "      <td>3.68</td>\n",
       "      <td>...</td>\n",
       "      <td>14.21</td>\n",
       "      <td>10.22</td>\n",
       "      <td>8.47</td>\n",
       "      <td>6.11</td>\n",
       "      <td>6.10</td>\n",
       "      <td>6.73</td>\n",
       "      <td>7.52</td>\n",
       "      <td>10.89</td>\n",
       "      <td>9.86</td>\n",
       "      <td>8.72</td>\n",
       "    </tr>\n",
       "  </tbody>\n",
       "</table>\n",
       "<p>5 rows × 1036 columns</p>\n",
       "</div>"
      ],
      "text/plain": [
       "                            CONS_NO  FLAG  2014-01-01  2014-01-02  2014-01-03  \\\n",
       "0  0387DD8A07E07FDA6271170F86AD9151     1         0.0        0.00        0.00   \n",
       "1  01D6177B5D4FFE0CABA9EF17DAFC2B84     1         0.0        0.00        0.00   \n",
       "2  4B75AC4F2D8434CFF62DB64D0BB43103     1         0.0        0.00        0.00   \n",
       "3  B32AC8CC6D5D805AC053557AB05F5343     1         0.0        0.00        0.00   \n",
       "4  EDFC78B07BA2908B3395C4EB2304665E     1         2.9        5.64        6.99   \n",
       "\n",
       "   2014-01-04  2014-01-05  2014-01-06  2014-01-07  2014-01-08  ...  \\\n",
       "0        0.00        0.00        0.00        0.00        0.00  ...   \n",
       "1        0.00        0.00        0.00        0.00        0.00  ...   \n",
       "2        0.00        0.00        0.00        0.00        0.00  ...   \n",
       "3        0.00        0.00        0.00        0.00        0.00  ...   \n",
       "4        3.32        3.61        5.35        4.73        3.68  ...   \n",
       "\n",
       "   2016-10-22  2016-10-23  2016-10-24  2016-10-25  2016-10-26  2016-10-27  \\\n",
       "0        7.18        8.07        8.09        9.53        5.48        8.75   \n",
       "1        0.00        0.00        0.00        0.00        0.00        0.00   \n",
       "2       10.95       17.95       17.83       17.31       21.44       19.09   \n",
       "3       12.81       15.12       17.26       14.91       19.59       20.79   \n",
       "4       14.21       10.22        8.47        6.11        6.10        6.73   \n",
       "\n",
       "   2016-10-28  2016-10-29  2016-10-30  2016-10-31  \n",
       "0        9.30        7.54        9.16        6.74  \n",
       "1        0.00        0.00        0.00        0.00  \n",
       "2       18.56       16.25       14.20       13.66  \n",
       "3       17.95       19.26       14.46       11.72  \n",
       "4        7.52       10.89        9.86        8.72  \n",
       "\n",
       "[5 rows x 1036 columns]"
      ]
     },
     "execution_count": 3,
     "metadata": {},
     "output_type": "execute_result"
    }
   ],
   "source": [
    "df.head()"
   ]
  },
  {
   "cell_type": "code",
   "execution_count": 5,
   "metadata": {},
   "outputs": [],
   "source": [
    "df = df.drop(['CONS_NO'], axis=1)"
   ]
  },
  {
   "cell_type": "code",
   "execution_count": 11,
   "metadata": {},
   "outputs": [],
   "source": [
    "NUM_CONSUMERS = len(df['FLAG'])\n",
    "NUM_DAYS = len(df.columns) - 1"
   ]
  },
  {
   "cell_type": "markdown",
   "metadata": {},
   "source": [
    "## Extracting Targets and Labels"
   ]
  },
  {
   "cell_type": "code",
   "execution_count": 12,
   "metadata": {},
   "outputs": [],
   "source": [
    "labels = df['FLAG']\n",
    "features = df.drop(['FLAG'], axis=1)"
   ]
  },
  {
   "cell_type": "code",
   "execution_count": 13,
   "metadata": {},
   "outputs": [],
   "source": [
    "assert len(labels) == len(features)"
   ]
  },
  {
   "cell_type": "code",
   "execution_count": 14,
   "metadata": {},
   "outputs": [
    {
     "data": {
      "text/plain": [
       "(42372, 1034)"
      ]
     },
     "execution_count": 14,
     "metadata": {},
     "output_type": "execute_result"
    }
   ],
   "source": [
    "features.shape"
   ]
  },
  {
   "cell_type": "code",
   "execution_count": 15,
   "metadata": {},
   "outputs": [],
   "source": [
    "assert features.shape[1] == NUM_DAYS"
   ]
  },
  {
   "cell_type": "markdown",
   "metadata": {},
   "source": [
    "## Stratified Random Sampling \n",
    "\n",
    "To ensure both the training and validation data have the same proportions of positive and negative training examples, we will use stratified random sampling."
   ]
  },
  {
   "cell_type": "code",
   "execution_count": 16,
   "metadata": {},
   "outputs": [],
   "source": [
    "from sklearn.model_selection import train_test_split"
   ]
  },
  {
   "cell_type": "code",
   "execution_count": 17,
   "metadata": {},
   "outputs": [],
   "source": [
    "X_train, X_test, y_train, y_test = train_test_split(features, labels, \n",
    "                                                   test_size=0.2,\n",
    "                                                   shuffle=True, \n",
    "                                                   stratify=labels)"
   ]
  },
  {
   "cell_type": "code",
   "execution_count": 18,
   "metadata": {},
   "outputs": [],
   "source": [
    "assert(len(X_train) == len(y_train))\n",
    "assert(len(X_test) == len(y_test))\n",
    "assert(X_train.shape[1] == NUM_DAYS)"
   ]
  },
  {
   "cell_type": "code",
   "execution_count": 19,
   "metadata": {},
   "outputs": [
    {
     "data": {
      "text/plain": [
       "Text(0.5, 1.0, 'Class Distribution - Training Set')"
      ]
     },
     "execution_count": 19,
     "metadata": {},
     "output_type": "execute_result"
    },
    {
     "data": {
      "image/png": "[encoded data removed]",
      "text/plain": [
       "<Figure size 432x288 with 1 Axes>"
      ]
     },
     "metadata": {},
     "output_type": "display_data"
    }
   ],
   "source": [
    "# Exploring distribution of values\n",
    "distplot(y_train, kde=False)\n",
    "plt.xlabel('Class Label', fontsize=14)\n",
    "plt.ylabel('Proportion', fontsize=14)\n",
    "plt.title('Class Distribution - Training Set')"
   ]
  },
  {
   "cell_type": "code",
   "execution_count": 20,
   "metadata": {},
   "outputs": [
    {
     "data": {
      "text/plain": [
       "Text(0.5, 1.0, 'Class Distribution - Test Set')"
      ]
     },
     "execution_count": 20,
     "metadata": {},
     "output_type": "execute_result"
    },
    {
     "data": {
      "image/png": "[encoded data removed]",
      "text/plain": [
       "<Figure size 432x288 with 1 Axes>"
      ]
     },
     "metadata": {},
     "output_type": "display_data"
    }
   ],
   "source": [
    "distplot(y_test, kde=False, color='blue')\n",
    "plt.xlabel('Class Label', fontsize=14)\n",
    "plt.ylabel('Proportion', fontsize=14)\n",
    "plt.title('Class Distribution - Test Set')"
   ]
  },
  {
   "cell_type": "markdown",
   "metadata": {},
   "source": [
    "## Baseline Classifier"
   ]
  },
  {
   "cell_type": "code",
   "execution_count": 21,
   "metadata": {},
   "outputs": [],
   "source": [
    "NUM_TRAIN_SAMPLES = len(X_train)\n",
    "NUM_TEST_SAMPLES = len(X_test)"
   ]
  },
  {
   "cell_type": "code",
   "execution_count": 22,
   "metadata": {},
   "outputs": [],
   "source": [
    "# Predictions will be zero regardless of the model\n",
    "y_pred_train = np.zeros((NUM_TRAIN_SAMPLES, 1))\n",
    "y_pred_test = np.zeros((NUM_TEST_SAMPLES, 1))"
   ]
  },
  {
   "cell_type": "markdown",
   "metadata": {},
   "source": [
    "## Evaluating Performance\n",
    "\n",
    "Zheng's metrics for evaluating classifier performance are\n",
    "1. **AUC Score**: Area under the model's receiver operating characteristics curve. In other words, a plot of **True Positive Rate (TPR)** (y-axis) against the **False Positive Rate (FPR)**. \n",
    "$$TPR_{max} \\in [0, 1.0]$$\n",
    "$$FPR_{max} \\in [0, 1.0]$$\n",
    "$$\\therefore AUC_{max} = [0, 1.0]$$\n",
    "\n",
    "Visually, this means the graph of TPR against FPR will 'hug' the top-left corner of the ROC axes.\n",
    "\n",
    "2. **Mean Average Precision (MAP)**: This is magic. I do not understand it.\n",
    "\n",
    "Additionally, I will also use the following metrics\n",
    "3. **Precision**: A measure of the number of true positives in all predicted positives. In other words, of all the examples predicted to belong to the positive class, which ones actually belonged to the positive class?\n",
    "$$Precision = \\frac{TP}{TP + FP}$$\n",
    "\n",
    "4. **Recall**: Of all the positive class samples in the set, how many were actually detected? \n",
    "$$Recall = \\frac{TP}{TP + FN}$$\n",
    "\n",
    "5. **F1-Score**: Weighted harmonic mean of the precision and recall. Precision and recall are a tradeoff - can't have max precision AND max recall, although the ideal model would have both. This means when evaluating the performance of a classification model, a high precision is useless if recall is very low, and vice versa. F1 score will only be high when both of these metrics are high. \n",
    "$$ F_1 = \\frac{2}{\\frac{1}{precision} + \\frac{1}{recall}}$$\n",
    "$$ \\Rightarrow F_1 = \\frac{TP}{TP + \\frac{FN + FP}{2}}$$\n",
    "\n",
    "Precision, Recall, and F-1 score can all be predicted with a confusion matrix."
   ]
  },
  {
   "cell_type": "code",
   "execution_count": 49,
   "metadata": {},
   "outputs": [],
   "source": [
    "from sklearn.metrics import classification_report, roc_auc_score, roc_curve, auc, confusion_matrix\n",
    "from seaborn import light_palette"
   ]
  },
  {
   "cell_type": "code",
   "execution_count": 79,
   "metadata": {},
   "outputs": [],
   "source": [
    "def get_classification_result(y_pred, y_true, classifier_name=None):\n",
    "    # Display the classification report \n",
    "    print(\"CLASSIFICATION REPORT\")\n",
    "    print(classification_report(y_true, y_pred, labels=[0, 1], \n",
    "                                target_names=['Regular Consumer', 'Thieves']))\n",
    "    \n",
    "    # Display the confusion matrix\n",
    "    print(\"CONFUSION MATRIX\")\n",
    "    conf_mat = pd.DataFrame(data=confusion_matrix(y_true, y_pred))\n",
    "    conf_mat.index = ['True 0', 'True 1']\n",
    "    conf_mat.columns = ['Predicted 0', 'Predicted 1']\n",
    "    cm = light_palette('blue', as_cmap=True)\n",
    "    conf_mat_display = conf_mat.style.background_gradient(cmap=cm)\n",
    "    display(conf_mat_display)\n",
    "    \n",
    "    # Display ROC \n",
    "    fpr, tpr, _ = roc_curve(y_true, y_pred, pos_label=1)\n",
    "    roc_auc = auc(fpr, tpr)\n",
    "    plt.figure(figsize=(5, 5))\n",
    "    plt.plot(fpr, tpr, lw=2, label='ROC Curve (area = %0.2f)' % roc_auc)\n",
    "    plt.xlabel('False Positive Rate', fontsize=14)\n",
    "    plt.ylabel('True Positive Rate', fontsize=14)\n",
    "    plt.legend(loc='lower right')\n",
    "    \n",
    "    if classifier_name is not None:\n",
    "        plt.title(f'ROC Curve - {classifier_name}', fontsize=14)"
   ]
  },
  {
   "cell_type": "code",
   "execution_count": 80,
   "metadata": {},
   "outputs": [
    {
     "name": "stdout",
     "output_type": "stream",
     "text": [
      "CLASSIFICATION REPORT\n",
      "                  precision    recall  f1-score   support\n",
      "\n",
      "Regular Consumer       0.91      1.00      0.96      7752\n",
      "         Thieves       0.00      0.00      0.00       723\n",
      "\n",
      "       micro avg       0.91      0.91      0.91      8475\n",
      "       macro avg       0.46      0.50      0.48      8475\n",
      "    weighted avg       0.84      0.91      0.87      8475\n",
      "\n",
      "CONFUSION MATRIX\n"
     ]
    },
    {
     "data": {
      "text/html": [
       "<style  type=\"text/css\" >\n",
       "    #T_081a8a18_3ec7_11ea_838d_acbc3292d475row0_col0 {\n",
       "            background-color:  #0000ff;\n",
       "            color:  #f1f1f1;\n",
       "        }    #T_081a8a18_3ec7_11ea_838d_acbc3292d475row0_col1 {\n",
       "            background-color:  #e5e5ff;\n",
       "            color:  #000000;\n",
       "        }    #T_081a8a18_3ec7_11ea_838d_acbc3292d475row1_col0 {\n",
       "            background-color:  #e5e5ff;\n",
       "            color:  #000000;\n",
       "        }    #T_081a8a18_3ec7_11ea_838d_acbc3292d475row1_col1 {\n",
       "            background-color:  #e5e5ff;\n",
       "            color:  #000000;\n",
       "        }</style><table id=\"T_081a8a18_3ec7_11ea_838d_acbc3292d475\" ><thead>    <tr>        <th class=\"blank level0\" ></th>        <th class=\"col_heading level0 col0\" >Predicted 0</th>        <th class=\"col_heading level0 col1\" >Predicted 1</th>    </tr></thead><tbody>\n",
       "                <tr>\n",
       "                        <th id=\"T_081a8a18_3ec7_11ea_838d_acbc3292d475level0_row0\" class=\"row_heading level0 row0\" >True 0</th>\n",
       "                        <td id=\"T_081a8a18_3ec7_11ea_838d_acbc3292d475row0_col0\" class=\"data row0 col0\" >7752</td>\n",
       "                        <td id=\"T_081a8a18_3ec7_11ea_838d_acbc3292d475row0_col1\" class=\"data row0 col1\" >0</td>\n",
       "            </tr>\n",
       "            <tr>\n",
       "                        <th id=\"T_081a8a18_3ec7_11ea_838d_acbc3292d475level0_row1\" class=\"row_heading level0 row1\" >True 1</th>\n",
       "                        <td id=\"T_081a8a18_3ec7_11ea_838d_acbc3292d475row1_col0\" class=\"data row1 col0\" >723</td>\n",
       "                        <td id=\"T_081a8a18_3ec7_11ea_838d_acbc3292d475row1_col1\" class=\"data row1 col1\" >0</td>\n",
       "            </tr>\n",
       "    </tbody></table>"
      ],
      "text/plain": [
       "<pandas.io.formats.style.Styler at 0x11f28cc18>"
      ]
     },
     "metadata": {},
     "output_type": "display_data"
    },
    {
     "data": {
      "image/png": "[encoded data removed]",
      "text/plain": [
       "<Figure size 360x360 with 1 Axes>"
      ]
     },
     "metadata": {},
     "output_type": "display_data"
    }
   ],
   "source": [
    "get_classification_result(y_pred_test, y_test, 'Always 0 Classifier')"
   ]
  },
  {
   "cell_type": "markdown",
   "metadata": {},
   "source": [
    "## Interpretation\n",
    "- The ROC curve is exactly what I would expect for this classifier.\n",
    "    - It is a straight line going from 0.0 to 1.0.\n",
    "    - The are under the curve is 0.50.\n",
    "- Precision, recall, and F1 score for the non-target class/negative class are very high\n",
    "    - This makes sense because there is a large number of true positives for this class, and a very small number of alse positives. \n",
    "    - Recall is a perfect 1.00 - this is because there are no false negatives.\n",
    "- Precision, recall, and F1 score for the target class are terrible.\n",
    "    - All zeroes. \n",
    "    - Could be an error in the way I have implemented this. \n",
    "    - Need someone to check this."
   ]
  }
 ],
 "metadata": {
  "kernelspec": {
   "display_name": "Python 3",
   "language": "python",
   "name": "python3"
  },
  "language_info": {
   "codemirror_mode": {
    "name": "ipython",
    "version": 3
   },
   "file_extension": ".py",
   "mimetype": "text/x-python",
   "name": "python",
   "nbconvert_exporter": "python",
   "pygments_lexer": "ipython3",
   "version": "3.6.5"
  }
 },
 "nbformat": 4,
 "nbformat_minor": 2
}
