{
  "nbformat": 4,
  "nbformat_minor": 0,
  "metadata": {
    "colab": {
      "name": "Logistic_Regression_Test.ipynb",
      "provenance": [],
      "collapsed_sections": [],
      "toc_visible": true
    },
    "kernelspec": {
      "name": "python3",
      "display_name": "Python 3"
    },
    "accelerator": "GPU"
  },
  "cells": [
    {
      "cell_type": "markdown",
      "metadata": {
        "id": "Czjz_cUD6_R5",
        "colab_type": "text"
      },
      "source": [
        "# Shallow Learning Model 1 - Logistic Regression "
      ]
    },
    {
      "cell_type": "markdown",
      "metadata": {
        "id": "vm8G32P577rZ",
        "colab_type": "text"
      },
      "source": [
        "# Workspace Setup"
      ]
    },
    {
      "cell_type": "code",
      "metadata": {
        "id": "OUV2hLBi7_xO",
        "colab_type": "code",
        "colab": {}
      },
      "source": [
        "# Data loading and manipulation\n",
        "import pandas as pd\n",
        "import numpy as np\n",
        "\n",
        "# Seed random number generator\n",
        "np.random.seed(0)\n",
        "\n",
        "# Matplotlib for general plotting\n",
        "import matplotlib.pyplot as plt\n",
        "from matplotlib import style\n",
        "style.use('ggplot')\n",
        "\n",
        "# Seaborn for distribution plots\n",
        "from seaborn import distplot\n",
        "\n",
        "# Scikit imports - Splitting Data, Cross Validation\n",
        "from sklearn.model_selection import train_test_split, cross_validate\n",
        "from sklearn.metrics import make_scorer, log_loss\n",
        "\n",
        "# Scikit imports - Creating Models\n",
        "from sklearn.linear_model import LogisticRegression, LogisticRegressionCV, SGDClassifier\n",
        "\n",
        "# Scikit imports - Classification and Training \n",
        "from sklearn.metrics import classification_report, roc_auc_score, roc_curve, confusion_matrix, \\\n",
        "plot_confusion_matrix"
      ],
      "execution_count": 0,
      "outputs": []
    },
    {
      "cell_type": "markdown",
      "metadata": {
        "id": "UQ3BPgm6BrG7",
        "colab_type": "text"
      },
      "source": [
        "# Functions"
      ]
    },
    {
      "cell_type": "markdown",
      "metadata": {
        "id": "nLLe4jiNBs_R",
        "colab_type": "text"
      },
      "source": [
        "\n",
        "## Function 1 - Classification Results\n",
        "\n",
        " Uses a classification report, a receiver-operating characteristics curve with its area, and the confusion matrix to summarise classification performance of a model."
      ]
    },
    {
      "cell_type": "code",
      "metadata": {
        "id": "lnl3XDotB5Zo",
        "colab_type": "code",
        "colab": {}
      },
      "source": [
        "def get_classification_result(estimator, X, y_true, classifier_name=None,\n",
        "                              normalize_conf_mat='all'):\n",
        "    \"\"\"Custom function to display classification results\"\"\"\n",
        "    # Predictions will be used several times\n",
        "    y_pred = estimator.predict(X) \n",
        "\n",
        "    # Display the classification report \n",
        "    print(\"CLASSIFICATION REPORT\")\n",
        "    print(classification_report(y_true, y_pred, labels=[0, 1], \n",
        "                                target_names=['Regular Consumer', 'Thieves'],))\n",
        "    \n",
        "    # Display the confusion matrix\n",
        "    print(\"CONFUSION MATRIX\")\n",
        "    normalize=None\n",
        "    if (normalize_conf_mat=='rows'):\n",
        "      normalize='true'\n",
        "    elif (normalize_conf_mat=='cols'):\n",
        "        normalize='pred'\n",
        "    else:\n",
        "      normalize='all'\n",
        "\n",
        "    # Use built-in function to get confusion matrix for this estimator\n",
        "    conf_mat_display = plot_confusion_matrix(estimator=estimator, \n",
        "                                             X=X, \n",
        "                                             y_true=y_true, \n",
        "                                             labels=[0, 1],\n",
        "                                             normalize=normalize, \n",
        "                                             display_labels=['Regular Consumers', 'Thieves'], \n",
        "                                             cmap=plt.cm.Blues)\n",
        "    \n",
        "    # Add a title (with optional classifier name)\n",
        "    conf_mat_display.ax_.set_title(\"Confusion Matrix - {}\".format(\n",
        "        classifier_name if classifier_name is not None \n",
        "        else 'Test Classifier' ))\n",
        "    \n",
        "    # This will render the confusion matrix as an image\n",
        "    print(conf_mat_display.confusion_matrix);\n",
        "    plt.grid(False)       # Remove extra lines from confusion matrix\n",
        "    \n",
        "    # Display ROC \n",
        "    fpr, tpr, _ = roc_curve(y_true, y_pred, pos_label=1)\n",
        "    roc_auc = roc_auc_score(y_true, y_pred) \n",
        "    plt.figure(figsize=(5, 5))\n",
        "    plt.plot(fpr, tpr, lw=2, label='ROC Curve (area = %0.2f)' % roc_auc)\n",
        "    plt.xlabel('False Positive Rate', fontsize=14)\n",
        "    plt.ylabel('True Positive Rate', fontsize=14)\n",
        "    plt.legend(loc='lower right')\n",
        "    \n",
        "    if classifier_name is not None:\n",
        "        plt.title(f'ROC Curve - {classifier_name}', fontsize=14)"
      ],
      "execution_count": 0,
      "outputs": []
    },
    {
      "cell_type": "code",
      "metadata": {
        "id": "syS5FBrwffkR",
        "colab_type": "code",
        "colab": {}
      },
      "source": [
        "def get_keras_classifier_results(model, X, y_true, model_name):\n",
        "  #"
      ],
      "execution_count": 0,
      "outputs": []
    },
    {
      "cell_type": "markdown",
      "metadata": {
        "id": "FTEi_NtJ7IDo",
        "colab_type": "text"
      },
      "source": [
        "# Importing Data"
      ]
    },
    {
      "cell_type": "code",
      "metadata": {
        "id": "wawONHZI7Keu",
        "colab_type": "code",
        "outputId": "1b74b899-14a8-48a6-a023-55854f54f751",
        "colab": {
          "base_uri": "https://localhost:8080/",
          "height": 34
        }
      },
      "source": [
        "from google.colab import drive\n",
        "drive.mount('/content/drive', force_remount=True)"
      ],
      "execution_count": 0,
      "outputs": [
        {
          "output_type": "stream",
          "text": [
            "Mounted at /content/drive\n"
          ],
          "name": "stdout"
        }
      ]
    },
    {
      "cell_type": "code",
      "metadata": {
        "id": "LjyZZh-n7ceW",
        "colab_type": "code",
        "colab": {}
      },
      "source": [
        "filepath = '/content/drive/My Drive/EE 16-17 FYP DL Energy Theft Detection/Data/full-processing-data/final-scaled-data.csv'"
      ],
      "execution_count": 0,
      "outputs": []
    },
    {
      "cell_type": "code",
      "metadata": {
        "id": "fCrUrZfO7p7N",
        "colab_type": "code",
        "colab": {}
      },
      "source": [
        "data = pd.read_csv(filepath)"
      ],
      "execution_count": 0,
      "outputs": []
    },
    {
      "cell_type": "code",
      "metadata": {
        "id": "EfcOGxVF7quR",
        "colab_type": "code",
        "outputId": "db9007d8-2cfd-4e5e-95fa-2acdb2c3209d",
        "colab": {
          "base_uri": "https://localhost:8080/",
          "height": 270
        }
      },
      "source": [
        "data.head()"
      ],
      "execution_count": 0,
      "outputs": [
        {
          "output_type": "execute_result",
          "data": {
            "text/html": [
              "<div>\n",
              "<style scoped>\n",
              "    .dataframe tbody tr th:only-of-type {\n",
              "        vertical-align: middle;\n",
              "    }\n",
              "\n",
              "    .dataframe tbody tr th {\n",
              "        vertical-align: top;\n",
              "    }\n",
              "\n",
              "    .dataframe thead th {\n",
              "        text-align: right;\n",
              "    }\n",
              "</style>\n",
              "<table border=\"1\" class=\"dataframe\">\n",
              "  <thead>\n",
              "    <tr style=\"text-align: right;\">\n",
              "      <th></th>\n",
              "      <th>CONS_NO</th>\n",
              "      <th>FLAG</th>\n",
              "      <th>2014-01-01</th>\n",
              "      <th>2014-01-02</th>\n",
              "      <th>2014-01-03</th>\n",
              "      <th>2014-01-04</th>\n",
              "      <th>2014-01-05</th>\n",
              "      <th>2014-01-06</th>\n",
              "      <th>2014-01-07</th>\n",
              "      <th>2014-01-08</th>\n",
              "      <th>2014-01-09</th>\n",
              "      <th>2014-01-10</th>\n",
              "      <th>2014-01-11</th>\n",
              "      <th>2014-01-12</th>\n",
              "      <th>2014-01-13</th>\n",
              "      <th>2014-01-14</th>\n",
              "      <th>2014-01-15</th>\n",
              "      <th>2014-01-16</th>\n",
              "      <th>2014-01-17</th>\n",
              "      <th>2014-01-18</th>\n",
              "      <th>2014-01-19</th>\n",
              "      <th>2014-01-20</th>\n",
              "      <th>2014-01-21</th>\n",
              "      <th>2014-01-22</th>\n",
              "      <th>2014-01-23</th>\n",
              "      <th>2014-01-24</th>\n",
              "      <th>2014-01-25</th>\n",
              "      <th>2014-01-26</th>\n",
              "      <th>2014-01-27</th>\n",
              "      <th>2014-01-28</th>\n",
              "      <th>2014-01-29</th>\n",
              "      <th>2014-01-30</th>\n",
              "      <th>2014-01-31</th>\n",
              "      <th>2014-02-01</th>\n",
              "      <th>2014-02-02</th>\n",
              "      <th>2014-02-03</th>\n",
              "      <th>2014-02-04</th>\n",
              "      <th>2014-02-05</th>\n",
              "      <th>2014-02-06</th>\n",
              "      <th>2014-02-07</th>\n",
              "      <th>...</th>\n",
              "      <th>2016-09-22</th>\n",
              "      <th>2016-09-23</th>\n",
              "      <th>2016-09-24</th>\n",
              "      <th>2016-09-25</th>\n",
              "      <th>2016-09-26</th>\n",
              "      <th>2016-09-27</th>\n",
              "      <th>2016-09-28</th>\n",
              "      <th>2016-09-29</th>\n",
              "      <th>2016-09-30</th>\n",
              "      <th>2016-10-01</th>\n",
              "      <th>2016-10-02</th>\n",
              "      <th>2016-10-03</th>\n",
              "      <th>2016-10-04</th>\n",
              "      <th>2016-10-05</th>\n",
              "      <th>2016-10-06</th>\n",
              "      <th>2016-10-07</th>\n",
              "      <th>2016-10-08</th>\n",
              "      <th>2016-10-09</th>\n",
              "      <th>2016-10-10</th>\n",
              "      <th>2016-10-11</th>\n",
              "      <th>2016-10-12</th>\n",
              "      <th>2016-10-13</th>\n",
              "      <th>2016-10-14</th>\n",
              "      <th>2016-10-15</th>\n",
              "      <th>2016-10-16</th>\n",
              "      <th>2016-10-17</th>\n",
              "      <th>2016-10-18</th>\n",
              "      <th>2016-10-19</th>\n",
              "      <th>2016-10-20</th>\n",
              "      <th>2016-10-21</th>\n",
              "      <th>2016-10-22</th>\n",
              "      <th>2016-10-23</th>\n",
              "      <th>2016-10-24</th>\n",
              "      <th>2016-10-25</th>\n",
              "      <th>2016-10-26</th>\n",
              "      <th>2016-10-27</th>\n",
              "      <th>2016-10-28</th>\n",
              "      <th>2016-10-29</th>\n",
              "      <th>2016-10-30</th>\n",
              "      <th>2016-10-31</th>\n",
              "    </tr>\n",
              "  </thead>\n",
              "  <tbody>\n",
              "    <tr>\n",
              "      <th>0</th>\n",
              "      <td>0387DD8A07E07FDA6271170F86AD9151</td>\n",
              "      <td>1</td>\n",
              "      <td>0.000000</td>\n",
              "      <td>0.000000</td>\n",
              "      <td>0.000000</td>\n",
              "      <td>0.000000</td>\n",
              "      <td>0.000000</td>\n",
              "      <td>0.000000</td>\n",
              "      <td>0.000000</td>\n",
              "      <td>0.000000</td>\n",
              "      <td>0.000000</td>\n",
              "      <td>0.00000</td>\n",
              "      <td>0.000000</td>\n",
              "      <td>0.000000</td>\n",
              "      <td>0.000000</td>\n",
              "      <td>0.000000</td>\n",
              "      <td>0.000000</td>\n",
              "      <td>0.000000</td>\n",
              "      <td>0.000000</td>\n",
              "      <td>0.000000</td>\n",
              "      <td>0.000000</td>\n",
              "      <td>0.000000</td>\n",
              "      <td>0.000000</td>\n",
              "      <td>0.000000</td>\n",
              "      <td>0.000000</td>\n",
              "      <td>0.000000</td>\n",
              "      <td>0.000000</td>\n",
              "      <td>0.000000</td>\n",
              "      <td>0.000000</td>\n",
              "      <td>0.000000</td>\n",
              "      <td>0.000000</td>\n",
              "      <td>0.000000</td>\n",
              "      <td>0.000000</td>\n",
              "      <td>0.000000</td>\n",
              "      <td>0.000000</td>\n",
              "      <td>0.000000</td>\n",
              "      <td>0.000000</td>\n",
              "      <td>0.00000</td>\n",
              "      <td>0.000000</td>\n",
              "      <td>0.0000</td>\n",
              "      <td>...</td>\n",
              "      <td>0.315047</td>\n",
              "      <td>0.385712</td>\n",
              "      <td>0.301797</td>\n",
              "      <td>0.461161</td>\n",
              "      <td>0.290756</td>\n",
              "      <td>0.315783</td>\n",
              "      <td>0.372462</td>\n",
              "      <td>0.366573</td>\n",
              "      <td>0.279715</td>\n",
              "      <td>0.669475</td>\n",
              "      <td>0.402274</td>\n",
              "      <td>0.419940</td>\n",
              "      <td>0.733147</td>\n",
              "      <td>0.393809</td>\n",
              "      <td>0.338602</td>\n",
              "      <td>0.249167</td>\n",
              "      <td>0.248799</td>\n",
              "      <td>0.226348</td>\n",
              "      <td>0.239230</td>\n",
              "      <td>0.297381</td>\n",
              "      <td>0.293332</td>\n",
              "      <td>0.324248</td>\n",
              "      <td>0.271249</td>\n",
              "      <td>0.431349</td>\n",
              "      <td>0.405586</td>\n",
              "      <td>0.301061</td>\n",
              "      <td>0.269777</td>\n",
              "      <td>0.246958</td>\n",
              "      <td>0.313575</td>\n",
              "      <td>0.232237</td>\n",
              "      <td>0.264257</td>\n",
              "      <td>0.297013</td>\n",
              "      <td>0.297749</td>\n",
              "      <td>0.350747</td>\n",
              "      <td>0.201689</td>\n",
              "      <td>0.322040</td>\n",
              "      <td>0.342282</td>\n",
              "      <td>0.277506</td>\n",
              "      <td>0.337130</td>\n",
              "      <td>0.248063</td>\n",
              "    </tr>\n",
              "    <tr>\n",
              "      <th>1</th>\n",
              "      <td>01D6177B5D4FFE0CABA9EF17DAFC2B84</td>\n",
              "      <td>1</td>\n",
              "      <td>0.000000</td>\n",
              "      <td>0.000000</td>\n",
              "      <td>0.000000</td>\n",
              "      <td>0.000000</td>\n",
              "      <td>0.000000</td>\n",
              "      <td>0.000000</td>\n",
              "      <td>0.000000</td>\n",
              "      <td>0.000000</td>\n",
              "      <td>0.000000</td>\n",
              "      <td>0.00000</td>\n",
              "      <td>0.000000</td>\n",
              "      <td>0.000000</td>\n",
              "      <td>0.000000</td>\n",
              "      <td>0.000000</td>\n",
              "      <td>0.000000</td>\n",
              "      <td>0.000000</td>\n",
              "      <td>0.000000</td>\n",
              "      <td>0.000000</td>\n",
              "      <td>0.000000</td>\n",
              "      <td>0.000000</td>\n",
              "      <td>0.000000</td>\n",
              "      <td>0.000000</td>\n",
              "      <td>0.000000</td>\n",
              "      <td>0.000000</td>\n",
              "      <td>0.000000</td>\n",
              "      <td>0.000000</td>\n",
              "      <td>0.000000</td>\n",
              "      <td>0.000000</td>\n",
              "      <td>0.000000</td>\n",
              "      <td>0.000000</td>\n",
              "      <td>0.000000</td>\n",
              "      <td>0.000000</td>\n",
              "      <td>0.000000</td>\n",
              "      <td>0.000000</td>\n",
              "      <td>0.000000</td>\n",
              "      <td>0.00000</td>\n",
              "      <td>0.000000</td>\n",
              "      <td>0.0000</td>\n",
              "      <td>...</td>\n",
              "      <td>0.000000</td>\n",
              "      <td>0.000000</td>\n",
              "      <td>0.000000</td>\n",
              "      <td>0.000000</td>\n",
              "      <td>0.000000</td>\n",
              "      <td>0.000000</td>\n",
              "      <td>0.000000</td>\n",
              "      <td>0.000000</td>\n",
              "      <td>0.000000</td>\n",
              "      <td>0.000000</td>\n",
              "      <td>0.000000</td>\n",
              "      <td>0.000000</td>\n",
              "      <td>0.000000</td>\n",
              "      <td>0.000000</td>\n",
              "      <td>0.000000</td>\n",
              "      <td>0.000000</td>\n",
              "      <td>0.000000</td>\n",
              "      <td>0.000000</td>\n",
              "      <td>0.000000</td>\n",
              "      <td>0.000000</td>\n",
              "      <td>0.000000</td>\n",
              "      <td>0.000000</td>\n",
              "      <td>0.000000</td>\n",
              "      <td>0.000000</td>\n",
              "      <td>0.000000</td>\n",
              "      <td>0.000000</td>\n",
              "      <td>0.000000</td>\n",
              "      <td>0.000000</td>\n",
              "      <td>0.000000</td>\n",
              "      <td>0.000000</td>\n",
              "      <td>0.000000</td>\n",
              "      <td>0.000000</td>\n",
              "      <td>0.000000</td>\n",
              "      <td>0.000000</td>\n",
              "      <td>0.000000</td>\n",
              "      <td>0.000000</td>\n",
              "      <td>0.000000</td>\n",
              "      <td>0.000000</td>\n",
              "      <td>0.000000</td>\n",
              "      <td>0.000000</td>\n",
              "    </tr>\n",
              "    <tr>\n",
              "      <th>2</th>\n",
              "      <td>4B75AC4F2D8434CFF62DB64D0BB43103</td>\n",
              "      <td>1</td>\n",
              "      <td>0.000000</td>\n",
              "      <td>0.000000</td>\n",
              "      <td>0.000000</td>\n",
              "      <td>0.000000</td>\n",
              "      <td>0.000000</td>\n",
              "      <td>0.000000</td>\n",
              "      <td>0.000000</td>\n",
              "      <td>0.000000</td>\n",
              "      <td>0.000000</td>\n",
              "      <td>0.00000</td>\n",
              "      <td>0.000000</td>\n",
              "      <td>0.000000</td>\n",
              "      <td>0.000000</td>\n",
              "      <td>0.000000</td>\n",
              "      <td>0.000000</td>\n",
              "      <td>0.000000</td>\n",
              "      <td>0.000000</td>\n",
              "      <td>0.000000</td>\n",
              "      <td>0.000000</td>\n",
              "      <td>0.000000</td>\n",
              "      <td>0.000000</td>\n",
              "      <td>0.000000</td>\n",
              "      <td>0.000000</td>\n",
              "      <td>0.000000</td>\n",
              "      <td>0.000000</td>\n",
              "      <td>0.000000</td>\n",
              "      <td>0.000000</td>\n",
              "      <td>0.000000</td>\n",
              "      <td>0.000000</td>\n",
              "      <td>0.000000</td>\n",
              "      <td>0.000000</td>\n",
              "      <td>0.000000</td>\n",
              "      <td>0.000000</td>\n",
              "      <td>0.000000</td>\n",
              "      <td>0.000000</td>\n",
              "      <td>0.00000</td>\n",
              "      <td>0.000000</td>\n",
              "      <td>0.0000</td>\n",
              "      <td>...</td>\n",
              "      <td>0.000000</td>\n",
              "      <td>0.000000</td>\n",
              "      <td>0.000000</td>\n",
              "      <td>0.000000</td>\n",
              "      <td>0.000000</td>\n",
              "      <td>0.000000</td>\n",
              "      <td>0.000000</td>\n",
              "      <td>0.000000</td>\n",
              "      <td>0.000000</td>\n",
              "      <td>0.000000</td>\n",
              "      <td>0.000000</td>\n",
              "      <td>0.000000</td>\n",
              "      <td>0.000000</td>\n",
              "      <td>0.000000</td>\n",
              "      <td>0.000000</td>\n",
              "      <td>0.618551</td>\n",
              "      <td>1.000000</td>\n",
              "      <td>1.000000</td>\n",
              "      <td>1.000000</td>\n",
              "      <td>1.000000</td>\n",
              "      <td>0.944143</td>\n",
              "      <td>1.000000</td>\n",
              "      <td>1.000000</td>\n",
              "      <td>1.000000</td>\n",
              "      <td>1.000000</td>\n",
              "      <td>1.000000</td>\n",
              "      <td>1.000000</td>\n",
              "      <td>1.000000</td>\n",
              "      <td>1.000000</td>\n",
              "      <td>1.000000</td>\n",
              "      <td>0.812126</td>\n",
              "      <td>1.000000</td>\n",
              "      <td>1.000000</td>\n",
              "      <td>1.000000</td>\n",
              "      <td>1.000000</td>\n",
              "      <td>1.000000</td>\n",
              "      <td>1.000000</td>\n",
              "      <td>1.000000</td>\n",
              "      <td>1.000000</td>\n",
              "      <td>1.000000</td>\n",
              "    </tr>\n",
              "    <tr>\n",
              "      <th>3</th>\n",
              "      <td>B32AC8CC6D5D805AC053557AB05F5343</td>\n",
              "      <td>1</td>\n",
              "      <td>0.000000</td>\n",
              "      <td>0.000000</td>\n",
              "      <td>0.000000</td>\n",
              "      <td>0.000000</td>\n",
              "      <td>0.000000</td>\n",
              "      <td>0.000000</td>\n",
              "      <td>0.000000</td>\n",
              "      <td>0.000000</td>\n",
              "      <td>0.000000</td>\n",
              "      <td>0.00000</td>\n",
              "      <td>0.000000</td>\n",
              "      <td>0.000000</td>\n",
              "      <td>0.000000</td>\n",
              "      <td>0.000000</td>\n",
              "      <td>0.000000</td>\n",
              "      <td>0.000000</td>\n",
              "      <td>0.000000</td>\n",
              "      <td>0.000000</td>\n",
              "      <td>0.000000</td>\n",
              "      <td>0.000000</td>\n",
              "      <td>0.000000</td>\n",
              "      <td>0.000000</td>\n",
              "      <td>0.000000</td>\n",
              "      <td>0.000000</td>\n",
              "      <td>0.000000</td>\n",
              "      <td>0.000000</td>\n",
              "      <td>0.000000</td>\n",
              "      <td>0.000000</td>\n",
              "      <td>0.000000</td>\n",
              "      <td>0.000000</td>\n",
              "      <td>0.000000</td>\n",
              "      <td>0.000000</td>\n",
              "      <td>0.000000</td>\n",
              "      <td>0.000000</td>\n",
              "      <td>0.000000</td>\n",
              "      <td>0.00000</td>\n",
              "      <td>0.000000</td>\n",
              "      <td>0.0000</td>\n",
              "      <td>...</td>\n",
              "      <td>0.619902</td>\n",
              "      <td>0.607360</td>\n",
              "      <td>0.295618</td>\n",
              "      <td>0.815547</td>\n",
              "      <td>0.504163</td>\n",
              "      <td>0.741732</td>\n",
              "      <td>0.232911</td>\n",
              "      <td>0.357966</td>\n",
              "      <td>0.666126</td>\n",
              "      <td>0.601627</td>\n",
              "      <td>0.961027</td>\n",
              "      <td>0.526737</td>\n",
              "      <td>0.575111</td>\n",
              "      <td>0.863563</td>\n",
              "      <td>0.452922</td>\n",
              "      <td>0.388782</td>\n",
              "      <td>0.421748</td>\n",
              "      <td>0.466897</td>\n",
              "      <td>0.439306</td>\n",
              "      <td>0.561137</td>\n",
              "      <td>0.481230</td>\n",
              "      <td>0.538562</td>\n",
              "      <td>0.523512</td>\n",
              "      <td>0.500580</td>\n",
              "      <td>0.539995</td>\n",
              "      <td>0.505596</td>\n",
              "      <td>0.529246</td>\n",
              "      <td>0.419957</td>\n",
              "      <td>0.420315</td>\n",
              "      <td>0.429273</td>\n",
              "      <td>0.459014</td>\n",
              "      <td>0.541787</td>\n",
              "      <td>0.618469</td>\n",
              "      <td>0.534262</td>\n",
              "      <td>0.701958</td>\n",
              "      <td>0.744957</td>\n",
              "      <td>0.643193</td>\n",
              "      <td>0.690133</td>\n",
              "      <td>0.518138</td>\n",
              "      <td>0.419957</td>\n",
              "    </tr>\n",
              "    <tr>\n",
              "      <th>4</th>\n",
              "      <td>EDFC78B07BA2908B3395C4EB2304665E</td>\n",
              "      <td>1</td>\n",
              "      <td>0.144169</td>\n",
              "      <td>0.280383</td>\n",
              "      <td>0.347496</td>\n",
              "      <td>0.165048</td>\n",
              "      <td>0.179465</td>\n",
              "      <td>0.265966</td>\n",
              "      <td>0.235144</td>\n",
              "      <td>0.182945</td>\n",
              "      <td>0.175488</td>\n",
              "      <td>0.17002</td>\n",
              "      <td>0.189408</td>\n",
              "      <td>0.227687</td>\n",
              "      <td>0.176979</td>\n",
              "      <td>0.211282</td>\n",
              "      <td>0.191893</td>\n",
              "      <td>0.175488</td>\n",
              "      <td>0.169522</td>\n",
              "      <td>0.042256</td>\n",
              "      <td>0.043748</td>\n",
              "      <td>0.189408</td>\n",
              "      <td>0.323634</td>\n",
              "      <td>0.456866</td>\n",
              "      <td>0.387267</td>\n",
              "      <td>0.348988</td>\n",
              "      <td>0.360422</td>\n",
              "      <td>0.316674</td>\n",
              "      <td>0.319657</td>\n",
              "      <td>0.392238</td>\n",
              "      <td>0.370861</td>\n",
              "      <td>0.395221</td>\n",
              "      <td>0.377324</td>\n",
              "      <td>0.240613</td>\n",
              "      <td>0.301263</td>\n",
              "      <td>0.278395</td>\n",
              "      <td>0.334074</td>\n",
              "      <td>0.36241</td>\n",
              "      <td>0.278395</td>\n",
              "      <td>0.3122</td>\n",
              "      <td>...</td>\n",
              "      <td>0.475259</td>\n",
              "      <td>0.471282</td>\n",
              "      <td>0.526961</td>\n",
              "      <td>0.500116</td>\n",
              "      <td>0.536407</td>\n",
              "      <td>0.542372</td>\n",
              "      <td>0.883406</td>\n",
              "      <td>0.515527</td>\n",
              "      <td>0.671627</td>\n",
              "      <td>0.702449</td>\n",
              "      <td>0.867001</td>\n",
              "      <td>0.793425</td>\n",
              "      <td>0.605508</td>\n",
              "      <td>0.921685</td>\n",
              "      <td>0.668147</td>\n",
              "      <td>0.580652</td>\n",
              "      <td>0.454877</td>\n",
              "      <td>0.455374</td>\n",
              "      <td>0.506579</td>\n",
              "      <td>0.512544</td>\n",
              "      <td>0.399198</td>\n",
              "      <td>0.501110</td>\n",
              "      <td>0.514036</td>\n",
              "      <td>0.558778</td>\n",
              "      <td>0.752660</td>\n",
              "      <td>0.713883</td>\n",
              "      <td>0.615948</td>\n",
              "      <td>0.515030</td>\n",
              "      <td>0.461837</td>\n",
              "      <td>0.393232</td>\n",
              "      <td>0.706426</td>\n",
              "      <td>0.508070</td>\n",
              "      <td>0.421072</td>\n",
              "      <td>0.303748</td>\n",
              "      <td>0.303251</td>\n",
              "      <td>0.334571</td>\n",
              "      <td>0.373844</td>\n",
              "      <td>0.541378</td>\n",
              "      <td>0.490173</td>\n",
              "      <td>0.433500</td>\n",
              "    </tr>\n",
              "  </tbody>\n",
              "</table>\n",
              "<p>5 rows × 1036 columns</p>\n",
              "</div>"
            ],
            "text/plain": [
              "                            CONS_NO  FLAG  ...  2016-10-30  2016-10-31\n",
              "0  0387DD8A07E07FDA6271170F86AD9151     1  ...    0.337130    0.248063\n",
              "1  01D6177B5D4FFE0CABA9EF17DAFC2B84     1  ...    0.000000    0.000000\n",
              "2  4B75AC4F2D8434CFF62DB64D0BB43103     1  ...    1.000000    1.000000\n",
              "3  B32AC8CC6D5D805AC053557AB05F5343     1  ...    0.518138    0.419957\n",
              "4  EDFC78B07BA2908B3395C4EB2304665E     1  ...    0.490173    0.433500\n",
              "\n",
              "[5 rows x 1036 columns]"
            ]
          },
          "metadata": {
            "tags": []
          },
          "execution_count": 33
        }
      ]
    },
    {
      "cell_type": "markdown",
      "metadata": {
        "id": "fGGe69v49zKS",
        "colab_type": "text"
      },
      "source": [
        "## Train-Test Split"
      ]
    },
    {
      "cell_type": "code",
      "metadata": {
        "id": "ZalcZzzx9-mM",
        "colab_type": "code",
        "colab": {}
      },
      "source": [
        "from sklearn.model_selection import train_test_split"
      ],
      "execution_count": 0,
      "outputs": []
    },
    {
      "cell_type": "code",
      "metadata": {
        "id": "0c0D1H8C_l8q",
        "colab_type": "code",
        "colab": {}
      },
      "source": [
        "# Extracting features and labels\n",
        "X = data.iloc[:, 2:]\n",
        "y = data.iloc[:, 1]"
      ],
      "execution_count": 0,
      "outputs": []
    },
    {
      "cell_type": "code",
      "metadata": {
        "id": "bNaJr-kH_Fda",
        "colab_type": "code",
        "colab": {}
      },
      "source": [
        "# Stratified random sampling of training and test data\n",
        "X_train, X_test, y_train, y_test = train_test_split(X, y, \n",
        "                                                    test_size=0.2, \n",
        "                                                    random_state=0, \n",
        "                                                    stratify=y)"
      ],
      "execution_count": 0,
      "outputs": []
    },
    {
      "cell_type": "code",
      "metadata": {
        "id": "Ug5c33kj_1SE",
        "colab_type": "code",
        "colab": {}
      },
      "source": [
        "# Confirm one-one correspondence between train and test features and labels\n",
        "assert len(X_train) == len(y_train)\n",
        "assert len(X_test) == len(y_test)"
      ],
      "execution_count": 0,
      "outputs": []
    },
    {
      "cell_type": "markdown",
      "metadata": {
        "id": "SFVMZv9rBMAC",
        "colab_type": "text"
      },
      "source": [
        "## Confirming Stratification in Train/Test Data"
      ]
    },
    {
      "cell_type": "code",
      "metadata": {
        "id": "yCeCqNnXAAYm",
        "colab_type": "code",
        "colab": {}
      },
      "source": [
        "from seaborn import barplot"
      ],
      "execution_count": 0,
      "outputs": []
    },
    {
      "cell_type": "code",
      "metadata": {
        "id": "UivGRzRmAYlp",
        "colab_type": "code",
        "colab": {}
      },
      "source": [
        "# Dictionaries of raw counts of class labels\n",
        "raw_counts = {\n",
        "    'train': {\n",
        "        '0': np.count_nonzero(y_train == 0),\n",
        "        '1': np.count_nonzero(y_train == 1)\n",
        "    }, \n",
        "    'test': {\n",
        "        '0': np.count_nonzero(y_test == 0),\n",
        "        '1': np.count_nonzero(y_test == 1)\n",
        "    }\n",
        "}"
      ],
      "execution_count": 0,
      "outputs": []
    },
    {
      "cell_type": "code",
      "metadata": {
        "id": "uIdrQR0OA1dD",
        "colab_type": "code",
        "colab": {}
      },
      "source": [
        "# Repeat for normalized counts\n",
        "NUM_TRAIN = len(y_train)\n",
        "NUM_TEST = len(y_test)\n",
        "NUM_SAMPLES = len(y)\n",
        "\n",
        "normed_counts = {\n",
        "    'train': {\n",
        "        '0': np.count_nonzero(y_train == 0) / NUM_TRAIN,\n",
        "        '1': np.count_nonzero(y_train == 1) / NUM_TRAIN\n",
        "    }, \n",
        "    'test': {\n",
        "        '0': np.count_nonzero(y_test == 0) / NUM_TEST,\n",
        "        '1': np.count_nonzero(y_test == 1) / NUM_TEST\n",
        "    }\n",
        "}"
      ],
      "execution_count": 0,
      "outputs": []
    },
    {
      "cell_type": "code",
      "metadata": {
        "id": "Vi0ms8CgA-qb",
        "colab_type": "code",
        "outputId": "97a7dd41-020d-4425-9469-b4dbf93e1df2",
        "colab": {
          "base_uri": "https://localhost:8080/",
          "height": 369
        }
      },
      "source": [
        "# Comparing train, test, and original data in 3 side-by-side graphs\n",
        "fig, axes = plt.subplots(ncols=3, figsize=(10, 5), sharey=False)\n",
        "\n",
        "# First plot - Training Data\n",
        "plt.sca(axes[0])\n",
        "plt.bar(x=normed_counts['train'].keys(), height=normed_counts['train'].values(), \n",
        "       color=['red', 'blue'], width=0.4)\n",
        "plt.xlabel('Consumer Class', fontsize=14)\n",
        "plt.ylabel('Proportion of Samples', fontsize=14)\n",
        "plt.title('Training Data', fontsize=18)\n",
        "\n",
        "# Second plot - Test Data\n",
        "plt.sca(axes[1])\n",
        "plt.xlabel('Consumer Class', fontsize=14)\n",
        "plt.bar(x=normed_counts['test'].keys(), height=normed_counts['test'].values(), \n",
        "       color=['red', 'blue'], width=0.4)\n",
        "plt.ylabel('Proportion of Samples', fontsize=14)\n",
        "plt.title('Test Data', fontsize=18)\n",
        "\n",
        "\n",
        "# Third plot - All data\n",
        "plt.sca(axes[2])\n",
        "plt.xlabel('Consumer Class', fontsize=14)\n",
        "plt.bar(x=normed_counts['test'].keys(), \n",
        "       height=[np.count_nonzero(y == 0) / NUM_SAMPLES, \n",
        "               np.count_nonzero(y == 1) / NUM_SAMPLES], \n",
        "       color=['red', 'blue'], width=0.4)\n",
        "plt.ylabel('Proportion of Samples', fontsize=14)\n",
        "plt.title('All Data', fontsize=18)\n",
        "plt.tight_layout()"
      ],
      "execution_count": 0,
      "outputs": [
        {
          "output_type": "display_data",
          "data": {
            "image/png": "[encoded data removed]",
            "text/plain": [
              "<Figure size 720x360 with 3 Axes>"
            ]
          },
          "metadata": {
            "tags": []
          }
        }
      ]
    },
    {
      "cell_type": "markdown",
      "metadata": {
        "id": "tak9W0YDBDi0",
        "colab_type": "text"
      },
      "source": [
        "# Training Zheng's Logistic Regression Model\n",
        "\n",
        "Zheng's model specifies L2 regularization with inverse regularization strength of 1.0. "
      ]
    },
    {
      "cell_type": "code",
      "metadata": {
        "id": "DdBr27FnCZl5",
        "colab_type": "code",
        "colab": {}
      },
      "source": [
        "from sklearn.linear_model import LogisticRegression\n",
        "from sklearn.model_selection import StratifiedKFold, GridSearchCV, cross_validate, learning_curve\n",
        "from sklearn.metrics import make_scorer, log_loss"
      ],
      "execution_count": 0,
      "outputs": []
    },
    {
      "cell_type": "code",
      "metadata": {
        "id": "trkmuvyWCxJq",
        "colab_type": "code",
        "colab": {}
      },
      "source": [
        "# Instantiate a logistic regression model with the specified hyperparameters\n",
        "logRegZheng = LogisticRegression(penalty='l2', C=1.0, solver='liblinear', max_iter=500)"
      ],
      "execution_count": 0,
      "outputs": []
    },
    {
      "cell_type": "code",
      "metadata": {
        "id": "8-l8Qe7zC34N",
        "colab_type": "code",
        "outputId": "8f4927f0-1821-41bb-c716-c747c195b880",
        "colab": {
          "base_uri": "https://localhost:8080/",
          "height": 51
        }
      },
      "source": [
        "# Instantiate a stratified K-Fold Cross Validator for the logRegModel\n",
        "logRegZhengScores = cross_validate(estimator=logRegZheng, \n",
        "                                X=X_train, \n",
        "                                y=y_train, \n",
        "                                scoring={\n",
        "                                    'crossentropy': make_scorer(log_loss)},\n",
        "                                     cv=5,\n",
        "                                verbose=1)"
      ],
      "execution_count": 0,
      "outputs": [
        {
          "output_type": "stream",
          "text": [
            "[Parallel(n_jobs=1)]: Using backend SequentialBackend with 1 concurrent workers.\n",
            "[Parallel(n_jobs=1)]: Done   5 out of   5 | elapsed:  1.1min finished\n"
          ],
          "name": "stderr"
        }
      ]
    },
    {
      "cell_type": "markdown",
      "metadata": {
        "id": "DxHyC49JElR1",
        "colab_type": "text"
      },
      "source": [
        "## Exploring `logRegZhengScores`"
      ]
    },
    {
      "cell_type": "code",
      "metadata": {
        "id": "fHUOz38dGwiY",
        "colab_type": "code",
        "outputId": "35d93ff1-5adc-4f36-99c9-4ec4f5960f28",
        "colab": {
          "base_uri": "https://localhost:8080/",
          "height": 68
        }
      },
      "source": [
        "logRegZhengScores"
      ],
      "execution_count": 0,
      "outputs": [
        {
          "output_type": "execute_result",
          "data": {
            "text/plain": [
              "{'fit_time': array([12.21127653, 12.73287582, 13.84764862, 12.49016142, 13.03085446]),\n",
              " 'score_time': array([0.0141685 , 0.01610041, 0.01957154, 0.01700187, 0.01492238]),\n",
              " 'test_crossentropy': array([3.02087551, 2.99540338, 3.06208134, 3.05189034, 3.00094104])}"
            ]
          },
          "metadata": {
            "tags": []
          },
          "execution_count": 41
        }
      ]
    },
    {
      "cell_type": "markdown",
      "metadata": {
        "id": "hbOJ6n1TmI5_",
        "colab_type": "text"
      },
      "source": [
        "## Classification Results for this Classifier\n"
      ]
    },
    {
      "cell_type": "code",
      "metadata": {
        "id": "a5Y2PoTbmPix",
        "colab_type": "code",
        "outputId": "9405b7d7-b09f-41bf-c3ad-6c72995df980",
        "colab": {
          "base_uri": "https://localhost:8080/",
          "height": 102
        }
      },
      "source": [
        "logRegZheng.fit(X_train, y_train)"
      ],
      "execution_count": 0,
      "outputs": [
        {
          "output_type": "execute_result",
          "data": {
            "text/plain": [
              "LogisticRegression(C=1.0, class_weight=None, dual=False, fit_intercept=True,\n",
              "                   intercept_scaling=1, l1_ratio=None, max_iter=500,\n",
              "                   multi_class='auto', n_jobs=None, penalty='l2',\n",
              "                   random_state=None, solver='liblinear', tol=0.0001, verbose=0,\n",
              "                   warm_start=False)"
            ]
          },
          "metadata": {
            "tags": []
          },
          "execution_count": 42
        }
      ]
    },
    {
      "cell_type": "code",
      "metadata": {
        "id": "FhnGit4JmPls",
        "colab_type": "code",
        "outputId": "3c0904b1-a7ef-4afd-a158-068ca6c09cc3",
        "colab": {
          "base_uri": "https://localhost:8080/",
          "height": 858
        }
      },
      "source": [
        "get_classification_result(logRegZheng, X_test, y_test, classifier_name=\"Zheng's Model\", \n",
        "                          normalize_conf_mat='cols')"
      ],
      "execution_count": 0,
      "outputs": [
        {
          "output_type": "stream",
          "text": [
            "CLASSIFICATION REPORT\n",
            "                  precision    recall  f1-score   support\n",
            "\n",
            "Regular Consumer       0.92      0.99      0.95      7752\n",
            "         Thieves       0.43      0.06      0.10       723\n",
            "\n",
            "        accuracy                           0.91      8475\n",
            "       macro avg       0.68      0.52      0.53      8475\n",
            "    weighted avg       0.88      0.91      0.88      8475\n",
            "\n",
            "CONFUSION MATRIX\n",
            "[[0.91861575 0.56842105]\n",
            " [0.08138425 0.43157895]]\n"
          ],
          "name": "stdout"
        },
        {
          "output_type": "display_data",
          "data": {
            "image/png": "[encoded data removed]",
            "text/plain": [
              "<Figure size 432x288 with 2 Axes>"
            ]
          },
          "metadata": {
            "tags": []
          }
        },
        {
          "output_type": "display_data",
          "data": {
            "image/png": "[encoded data removed]",
            "text/plain": [
              "<Figure size 360x360 with 1 Axes>"
            ]
          },
          "metadata": {
            "tags": []
          }
        }
      ]
    },
    {
      "cell_type": "markdown",
      "metadata": {
        "id": "tu7cJMw9HRfr",
        "colab_type": "text"
      },
      "source": [
        "# SGDClassifier"
      ]
    },
    {
      "cell_type": "code",
      "metadata": {
        "id": "8DjvadfxKfQH",
        "colab_type": "code",
        "colab": {}
      },
      "source": [
        "from sklearn.linear_model import SGDClassifier"
      ],
      "execution_count": 0,
      "outputs": []
    },
    {
      "cell_type": "code",
      "metadata": {
        "id": "J3ZFlIM1NL53",
        "colab_type": "code",
        "colab": {}
      },
      "source": [
        "sgdZheng = SGDClassifier(loss='log', \n",
        "                         penalty='l2', \n",
        "                         shuffle=True, \n",
        "                         random_state=0, \n",
        "                         learning_rate='adaptive',\n",
        "                         eta0=0.01,\n",
        "                         validation_fraction=0.2, \n",
        "                         alpha=1)"
      ],
      "execution_count": 0,
      "outputs": []
    },
    {
      "cell_type": "code",
      "metadata": {
        "id": "y9OciCRVONr2",
        "colab_type": "code",
        "outputId": "be638a35-015d-4fa5-ff6c-d558800ca55b",
        "colab": {
          "base_uri": "https://localhost:8080/",
          "height": 54
        }
      },
      "source": [
        "# Instantiate a stratified K-Fold Cross Validator for the logRegModel\n",
        "logRegZhengScores = cross_validate(estimator=logRegZheng, \n",
        "                                X=X_train, \n",
        "                                y=y_train, \n",
        "                                scoring={\n",
        "                                    'crossentropy': make_scorer(log_loss)},\n",
        "                                cv=5,\n",
        "                                verbose=1)"
      ],
      "execution_count": 0,
      "outputs": [
        {
          "output_type": "stream",
          "text": [
            "[Parallel(n_jobs=1)]: Using backend SequentialBackend with 1 concurrent workers.\n",
            "[Parallel(n_jobs=1)]: Done   5 out of   5 | elapsed:  1.1min finished\n"
          ],
          "name": "stderr"
        }
      ]
    },
    {
      "cell_type": "code",
      "metadata": {
        "id": "iQVn5AVqPVmF",
        "colab_type": "code",
        "outputId": "c7e359aa-b064-436e-c2a3-27cffc2f03f9",
        "colab": {
          "base_uri": "https://localhost:8080/",
          "height": 72
        }
      },
      "source": [
        "logRegZhengScores"
      ],
      "execution_count": 0,
      "outputs": [
        {
          "output_type": "execute_result",
          "data": {
            "text/plain": [
              "{'fit_time': array([13.37964606, 14.37420011, 13.19492412, 13.05697846, 12.27574515]),\n",
              " 'score_time': array([0.01402283, 0.01401973, 0.01424789, 0.01390743, 0.01454592]),\n",
              " 'test_crossentropy': array([3.04125202, 3.05653514, 3.05698684, 3.03660568, 3.0315106 ])}"
            ]
          },
          "metadata": {
            "tags": []
          },
          "execution_count": 91
        }
      ]
    },
    {
      "cell_type": "code",
      "metadata": {
        "id": "ARiKwknpPu89",
        "colab_type": "code",
        "colab": {}
      },
      "source": [
        "logRegTest = LogisticRegression(penalty='l2', C=1.0, max_iter=500, \n",
        "                                verbose=2, solver='liblinear')"
      ],
      "execution_count": 0,
      "outputs": []
    },
    {
      "cell_type": "code",
      "metadata": {
        "id": "C_KxSmP9RpDk",
        "colab_type": "code",
        "outputId": "d3cb1b5a-f360-49c6-bc34-421bdf4634b1",
        "colab": {
          "base_uri": "https://localhost:8080/",
          "height": 108
        }
      },
      "source": [
        "logRegTest.fit(X_train, y_train)"
      ],
      "execution_count": 0,
      "outputs": [
        {
          "output_type": "stream",
          "text": [
            "[LibLinear]"
          ],
          "name": "stdout"
        },
        {
          "output_type": "execute_result",
          "data": {
            "text/plain": [
              "LogisticRegression(C=1.0, class_weight=None, dual=False, fit_intercept=True,\n",
              "                   intercept_scaling=1, l1_ratio=None, max_iter=500,\n",
              "                   multi_class='auto', n_jobs=None, penalty='l2',\n",
              "                   random_state=None, solver='liblinear', tol=0.0001, verbose=2,\n",
              "                   warm_start=False)"
            ]
          },
          "metadata": {
            "tags": []
          },
          "execution_count": 95
        }
      ]
    },
    {
      "cell_type": "code",
      "metadata": {
        "id": "LvlodhasRt3I",
        "colab_type": "code",
        "outputId": "c2e851bf-0f72-4493-b3d8-56f8c52eae2a",
        "colab": {
          "base_uri": "https://localhost:8080/",
          "height": 619
        }
      },
      "source": [
        "get_classification_result(logRegTest.predict(X_test), \n",
        "                          y_true=y_test, classifier_name='LogRegZhengTest')"
      ],
      "execution_count": 0,
      "outputs": [
        {
          "output_type": "stream",
          "text": [
            "CLASSIFICATION REPORT\n",
            "                  precision    recall  f1-score   support\n",
            "\n",
            "Regular Consumer       0.92      0.99      0.95      7752\n",
            "         Thieves       0.44      0.06      0.10       723\n",
            "\n",
            "        accuracy                           0.91      8475\n",
            "       macro avg       0.68      0.52      0.53      8475\n",
            "    weighted avg       0.88      0.91      0.88      8475\n",
            "\n",
            "CONFUSION MATRIX\n"
          ],
          "name": "stdout"
        },
        {
          "output_type": "display_data",
          "data": {
            "text/html": [
              "<style  type=\"text/css\" >\n",
              "    #T_651058e4_4eef_11ea_9854_0242ac1c0002row0_col0 {\n",
              "            background-color:  #0000ff;\n",
              "            color:  #f1f1f1;\n",
              "        }    #T_651058e4_4eef_11ea_9854_0242ac1c0002row0_col1 {\n",
              "            background-color:  #0000ff;\n",
              "            color:  #f1f1f1;\n",
              "        }    #T_651058e4_4eef_11ea_9854_0242ac1c0002row1_col0 {\n",
              "            background-color:  #e5e5ff;\n",
              "            color:  #000000;\n",
              "        }    #T_651058e4_4eef_11ea_9854_0242ac1c0002row1_col1 {\n",
              "            background-color:  #e5e5ff;\n",
              "            color:  #000000;\n",
              "        }</style><table id=\"T_651058e4_4eef_11ea_9854_0242ac1c0002\" ><thead>    <tr>        <th class=\"blank level0\" ></th>        <th class=\"col_heading level0 col0\" >Predicted 0</th>        <th class=\"col_heading level0 col1\" >Predicted 1</th>    </tr></thead><tbody>\n",
              "                <tr>\n",
              "                        <th id=\"T_651058e4_4eef_11ea_9854_0242ac1c0002level0_row0\" class=\"row_heading level0 row0\" >True 0</th>\n",
              "                        <td id=\"T_651058e4_4eef_11ea_9854_0242ac1c0002row0_col0\" class=\"data row0 col0\" >7701</td>\n",
              "                        <td id=\"T_651058e4_4eef_11ea_9854_0242ac1c0002row0_col1\" class=\"data row0 col1\" >51</td>\n",
              "            </tr>\n",
              "            <tr>\n",
              "                        <th id=\"T_651058e4_4eef_11ea_9854_0242ac1c0002level0_row1\" class=\"row_heading level0 row1\" >True 1</th>\n",
              "                        <td id=\"T_651058e4_4eef_11ea_9854_0242ac1c0002row1_col0\" class=\"data row1 col0\" >683</td>\n",
              "                        <td id=\"T_651058e4_4eef_11ea_9854_0242ac1c0002row1_col1\" class=\"data row1 col1\" >40</td>\n",
              "            </tr>\n",
              "    </tbody></table>"
            ],
            "text/plain": [
              "<pandas.io.formats.style.Styler at 0x7ff272ff2358>"
            ]
          },
          "metadata": {
            "tags": []
          }
        },
        {
          "output_type": "display_data",
          "data": {
            "image/png": "[encoded data removed]",
            "text/plain": [
              "<Figure size 360x360 with 1 Axes>"
            ]
          },
          "metadata": {
            "tags": []
          }
        }
      ]
    },
    {
      "cell_type": "code",
      "metadata": {
        "id": "FriNmL30SWla",
        "colab_type": "code",
        "colab": {}
      },
      "source": [
        "sgdClassifier = SGDClassifier(loss='log', penalty='l2')"
      ],
      "execution_count": 0,
      "outputs": []
    },
    {
      "cell_type": "code",
      "metadata": {
        "id": "lQpY6Q15SmdJ",
        "colab_type": "code",
        "outputId": "fcde6e80-59d9-4694-bcb8-a569663f470a",
        "colab": {
          "base_uri": "https://localhost:8080/",
          "height": 126
        }
      },
      "source": [
        "sgdClassifier.fit(X_train, y_train)"
      ],
      "execution_count": 0,
      "outputs": [
        {
          "output_type": "execute_result",
          "data": {
            "text/plain": [
              "SGDClassifier(alpha=0.0001, average=False, class_weight=None,\n",
              "              early_stopping=False, epsilon=0.1, eta0=0.0, fit_intercept=True,\n",
              "              l1_ratio=0.15, learning_rate='optimal', loss='log', max_iter=1000,\n",
              "              n_iter_no_change=5, n_jobs=None, penalty='l2', power_t=0.5,\n",
              "              random_state=None, shuffle=True, tol=0.001,\n",
              "              validation_fraction=0.1, verbose=0, warm_start=False)"
            ]
          },
          "metadata": {
            "tags": []
          },
          "execution_count": 102
        }
      ]
    },
    {
      "cell_type": "code",
      "metadata": {
        "id": "k48vK0P4Sqga",
        "colab_type": "code",
        "outputId": "b27e64ec-1567-4051-c577-063eacffc540",
        "colab": {
          "base_uri": "https://localhost:8080/",
          "height": 619
        }
      },
      "source": [
        "get_classification_result(sgdClassifier.predict(X_test), y_test, classifier_name='SGD Classifier')"
      ],
      "execution_count": 0,
      "outputs": [
        {
          "output_type": "stream",
          "text": [
            "CLASSIFICATION REPORT\n",
            "                  precision    recall  f1-score   support\n",
            "\n",
            "Regular Consumer       0.92      0.99      0.95      7752\n",
            "         Thieves       0.40      0.08      0.14       723\n",
            "\n",
            "        accuracy                           0.91      8475\n",
            "       macro avg       0.66      0.54      0.54      8475\n",
            "    weighted avg       0.88      0.91      0.88      8475\n",
            "\n",
            "CONFUSION MATRIX\n"
          ],
          "name": "stdout"
        },
        {
          "output_type": "display_data",
          "data": {
            "text/html": [
              "<style  type=\"text/css\" >\n",
              "    #T_d15b0418_4eef_11ea_9854_0242ac1c0002row0_col0 {\n",
              "            background-color:  #0000ff;\n",
              "            color:  #f1f1f1;\n",
              "        }    #T_d15b0418_4eef_11ea_9854_0242ac1c0002row0_col1 {\n",
              "            background-color:  #0000ff;\n",
              "            color:  #f1f1f1;\n",
              "        }    #T_d15b0418_4eef_11ea_9854_0242ac1c0002row1_col0 {\n",
              "            background-color:  #e5e5ff;\n",
              "            color:  #000000;\n",
              "        }    #T_d15b0418_4eef_11ea_9854_0242ac1c0002row1_col1 {\n",
              "            background-color:  #e5e5ff;\n",
              "            color:  #000000;\n",
              "        }</style><table id=\"T_d15b0418_4eef_11ea_9854_0242ac1c0002\" ><thead>    <tr>        <th class=\"blank level0\" ></th>        <th class=\"col_heading level0 col0\" >Predicted 0</th>        <th class=\"col_heading level0 col1\" >Predicted 1</th>    </tr></thead><tbody>\n",
              "                <tr>\n",
              "                        <th id=\"T_d15b0418_4eef_11ea_9854_0242ac1c0002level0_row0\" class=\"row_heading level0 row0\" >True 0</th>\n",
              "                        <td id=\"T_d15b0418_4eef_11ea_9854_0242ac1c0002row0_col0\" class=\"data row0 col0\" >7665</td>\n",
              "                        <td id=\"T_d15b0418_4eef_11ea_9854_0242ac1c0002row0_col1\" class=\"data row0 col1\" >87</td>\n",
              "            </tr>\n",
              "            <tr>\n",
              "                        <th id=\"T_d15b0418_4eef_11ea_9854_0242ac1c0002level0_row1\" class=\"row_heading level0 row1\" >True 1</th>\n",
              "                        <td id=\"T_d15b0418_4eef_11ea_9854_0242ac1c0002row1_col0\" class=\"data row1 col0\" >664</td>\n",
              "                        <td id=\"T_d15b0418_4eef_11ea_9854_0242ac1c0002row1_col1\" class=\"data row1 col1\" >59</td>\n",
              "            </tr>\n",
              "    </tbody></table>"
            ],
            "text/plain": [
              "<pandas.io.formats.style.Styler at 0x7ff26d211a20>"
            ]
          },
          "metadata": {
            "tags": []
          }
        },
        {
          "output_type": "display_data",
          "data": {
            "image/png": "[encoded data removed]",
            "text/plain": [
              "<Figure size 360x360 with 1 Axes>"
            ]
          },
          "metadata": {
            "tags": []
          }
        }
      ]
    },
    {
      "cell_type": "markdown",
      "metadata": {
        "id": "FPicerk_S2T2",
        "colab_type": "text"
      },
      "source": [
        "# Grid Search Cross Validation"
      ]
    },
    {
      "cell_type": "code",
      "metadata": {
        "id": "6Y9vrICQUVu_",
        "colab_type": "code",
        "colab": {}
      },
      "source": [
        "from sklearn.linear_model import LogisticRegressionCV"
      ],
      "execution_count": 0,
      "outputs": []
    },
    {
      "cell_type": "code",
      "metadata": {
        "id": "Jcn_HH_PUeyQ",
        "colab_type": "code",
        "colab": {}
      },
      "source": [
        "logRegCV = LogisticRegressionCV(max_iter=500, solver='liblinear', \n",
        "                                scoring='roc_auc', cv=5, \n",
        "                                Cs=[0.01, 0.03, 0.1, 0.3, 1, 3], \n",
        "                                verbose=2)"
      ],
      "execution_count": 0,
      "outputs": []
    },
    {
      "cell_type": "code",
      "metadata": {
        "id": "G43u61kVU8fp",
        "colab_type": "code",
        "outputId": "32e91dce-3f7d-42d5-d2f3-6ccfdd3ed629",
        "colab": {
          "base_uri": "https://localhost:8080/",
          "height": 219
        }
      },
      "source": [
        "logRegCV.fit(X_train, y_train)"
      ],
      "execution_count": 0,
      "outputs": [
        {
          "output_type": "stream",
          "text": [
            "[Parallel(n_jobs=1)]: Using backend SequentialBackend with 1 concurrent workers.\n"
          ],
          "name": "stderr"
        },
        {
          "output_type": "stream",
          "text": [
            "[LibLinear][LibLinear][LibLinear][LibLinear][LibLinear][LibLinear]"
          ],
          "name": "stdout"
        },
        {
          "output_type": "stream",
          "text": [
            "[Parallel(n_jobs=1)]: Done   1 out of   1 | elapsed:  1.0min remaining:    0.0s\n"
          ],
          "name": "stderr"
        },
        {
          "output_type": "stream",
          "text": [
            "[LibLinear][LibLinear][LibLinear][LibLinear][LibLinear][LibLinear][LibLinear][LibLinear][LibLinear][LibLinear][LibLinear][LibLinear][LibLinear][LibLinear][LibLinear][LibLinear][LibLinear][LibLinear][LibLinear][LibLinear][LibLinear][LibLinear][LibLinear][LibLinear]"
          ],
          "name": "stdout"
        },
        {
          "output_type": "stream",
          "text": [
            "[Parallel(n_jobs=1)]: Done   5 out of   5 | elapsed:  4.7min finished\n"
          ],
          "name": "stderr"
        },
        {
          "output_type": "stream",
          "text": [
            "[LibLinear]"
          ],
          "name": "stdout"
        },
        {
          "output_type": "execute_result",
          "data": {
            "text/plain": [
              "LogisticRegressionCV(Cs=[0.01, 0.03, 0.1, 0.3, 1, 3], class_weight=None, cv=5,\n",
              "                     dual=False, fit_intercept=True, intercept_scaling=1.0,\n",
              "                     l1_ratios=None, max_iter=500, multi_class='auto',\n",
              "                     n_jobs=None, penalty='l2', random_state=None, refit=True,\n",
              "                     scoring='roc_auc', solver='liblinear', tol=0.0001,\n",
              "                     verbose=2)"
            ]
          },
          "metadata": {
            "tags": []
          },
          "execution_count": 116
        }
      ]
    },
    {
      "cell_type": "code",
      "metadata": {
        "id": "qZ3OSVLGWzfb",
        "colab_type": "code",
        "outputId": "0d740021-5bac-4f92-f757-5e93b4a33ce9",
        "colab": {
          "base_uri": "https://localhost:8080/",
          "height": 619
        }
      },
      "source": [
        "get_classification_result(logRegCV.predict(X_test), y_test, classifier_name='Logistic Regression CV')"
      ],
      "execution_count": 0,
      "outputs": [
        {
          "output_type": "stream",
          "text": [
            "CLASSIFICATION REPORT\n",
            "                  precision    recall  f1-score   support\n",
            "\n",
            "Regular Consumer       0.92      1.00      0.96      7752\n",
            "         Thieves       0.61      0.04      0.07       723\n",
            "\n",
            "        accuracy                           0.92      8475\n",
            "       macro avg       0.77      0.52      0.51      8475\n",
            "    weighted avg       0.89      0.92      0.88      8475\n",
            "\n",
            "CONFUSION MATRIX\n"
          ],
          "name": "stdout"
        },
        {
          "output_type": "display_data",
          "data": {
            "text/html": [
              "<style  type=\"text/css\" >\n",
              "    #T_4955e15c_4ef2_11ea_9854_0242ac1c0002row0_col0 {\n",
              "            background-color:  #0000ff;\n",
              "            color:  #f1f1f1;\n",
              "        }    #T_4955e15c_4ef2_11ea_9854_0242ac1c0002row0_col1 {\n",
              "            background-color:  #e5e5ff;\n",
              "            color:  #000000;\n",
              "        }    #T_4955e15c_4ef2_11ea_9854_0242ac1c0002row1_col0 {\n",
              "            background-color:  #e5e5ff;\n",
              "            color:  #000000;\n",
              "        }    #T_4955e15c_4ef2_11ea_9854_0242ac1c0002row1_col1 {\n",
              "            background-color:  #0000ff;\n",
              "            color:  #f1f1f1;\n",
              "        }</style><table id=\"T_4955e15c_4ef2_11ea_9854_0242ac1c0002\" ><thead>    <tr>        <th class=\"blank level0\" ></th>        <th class=\"col_heading level0 col0\" >Predicted 0</th>        <th class=\"col_heading level0 col1\" >Predicted 1</th>    </tr></thead><tbody>\n",
              "                <tr>\n",
              "                        <th id=\"T_4955e15c_4ef2_11ea_9854_0242ac1c0002level0_row0\" class=\"row_heading level0 row0\" >True 0</th>\n",
              "                        <td id=\"T_4955e15c_4ef2_11ea_9854_0242ac1c0002row0_col0\" class=\"data row0 col0\" >7735</td>\n",
              "                        <td id=\"T_4955e15c_4ef2_11ea_9854_0242ac1c0002row0_col1\" class=\"data row0 col1\" >17</td>\n",
              "            </tr>\n",
              "            <tr>\n",
              "                        <th id=\"T_4955e15c_4ef2_11ea_9854_0242ac1c0002level0_row1\" class=\"row_heading level0 row1\" >True 1</th>\n",
              "                        <td id=\"T_4955e15c_4ef2_11ea_9854_0242ac1c0002row1_col0\" class=\"data row1 col0\" >696</td>\n",
              "                        <td id=\"T_4955e15c_4ef2_11ea_9854_0242ac1c0002row1_col1\" class=\"data row1 col1\" >27</td>\n",
              "            </tr>\n",
              "    </tbody></table>"
            ],
            "text/plain": [
              "<pandas.io.formats.style.Styler at 0x7ff26d18a160>"
            ]
          },
          "metadata": {
            "tags": []
          }
        },
        {
          "output_type": "display_data",
          "data": {
            "image/png": "[encoded data removed]",
            "text/plain": [
              "<Figure size 360x360 with 1 Axes>"
            ]
          },
          "metadata": {
            "tags": []
          }
        }
      ]
    },
    {
      "cell_type": "markdown",
      "metadata": {
        "id": "13Q80_DJXGI_",
        "colab_type": "text"
      },
      "source": [
        "# LogReg Without Shuffling"
      ]
    },
    {
      "cell_type": "code",
      "metadata": {
        "id": "AjbIm_xQXc5T",
        "colab_type": "code",
        "outputId": "40c066de-3cc9-4d8d-e0c3-998b0d953b13",
        "colab": {
          "base_uri": "https://localhost:8080/",
          "height": 265
        }
      },
      "source": [
        "data.head()"
      ],
      "execution_count": 0,
      "outputs": [
        {
          "output_type": "execute_result",
          "data": {
            "text/html": [
              "<div>\n",
              "<style scoped>\n",
              "    .dataframe tbody tr th:only-of-type {\n",
              "        vertical-align: middle;\n",
              "    }\n",
              "\n",
              "    .dataframe tbody tr th {\n",
              "        vertical-align: top;\n",
              "    }\n",
              "\n",
              "    .dataframe thead th {\n",
              "        text-align: right;\n",
              "    }\n",
              "</style>\n",
              "<table border=\"1\" class=\"dataframe\">\n",
              "  <thead>\n",
              "    <tr style=\"text-align: right;\">\n",
              "      <th></th>\n",
              "      <th>CONS_NO</th>\n",
              "      <th>FLAG</th>\n",
              "      <th>2014-01-01</th>\n",
              "      <th>2014-01-02</th>\n",
              "      <th>2014-01-03</th>\n",
              "      <th>2014-01-04</th>\n",
              "      <th>2014-01-05</th>\n",
              "      <th>2014-01-06</th>\n",
              "      <th>2014-01-07</th>\n",
              "      <th>2014-01-08</th>\n",
              "      <th>2014-01-09</th>\n",
              "      <th>2014-01-10</th>\n",
              "      <th>2014-01-11</th>\n",
              "      <th>2014-01-12</th>\n",
              "      <th>2014-01-13</th>\n",
              "      <th>2014-01-14</th>\n",
              "      <th>2014-01-15</th>\n",
              "      <th>2014-01-16</th>\n",
              "      <th>2014-01-17</th>\n",
              "      <th>2014-01-18</th>\n",
              "      <th>2014-01-19</th>\n",
              "      <th>2014-01-20</th>\n",
              "      <th>2014-01-21</th>\n",
              "      <th>2014-01-22</th>\n",
              "      <th>2014-01-23</th>\n",
              "      <th>2014-01-24</th>\n",
              "      <th>2014-01-25</th>\n",
              "      <th>2014-01-26</th>\n",
              "      <th>2014-01-27</th>\n",
              "      <th>2014-01-28</th>\n",
              "      <th>2014-01-29</th>\n",
              "      <th>2014-01-30</th>\n",
              "      <th>2014-01-31</th>\n",
              "      <th>2014-02-01</th>\n",
              "      <th>2014-02-02</th>\n",
              "      <th>2014-02-03</th>\n",
              "      <th>2014-02-04</th>\n",
              "      <th>2014-02-05</th>\n",
              "      <th>2014-02-06</th>\n",
              "      <th>2014-02-07</th>\n",
              "      <th>...</th>\n",
              "      <th>2016-09-22</th>\n",
              "      <th>2016-09-23</th>\n",
              "      <th>2016-09-24</th>\n",
              "      <th>2016-09-25</th>\n",
              "      <th>2016-09-26</th>\n",
              "      <th>2016-09-27</th>\n",
              "      <th>2016-09-28</th>\n",
              "      <th>2016-09-29</th>\n",
              "      <th>2016-09-30</th>\n",
              "      <th>2016-10-01</th>\n",
              "      <th>2016-10-02</th>\n",
              "      <th>2016-10-03</th>\n",
              "      <th>2016-10-04</th>\n",
              "      <th>2016-10-05</th>\n",
              "      <th>2016-10-06</th>\n",
              "      <th>2016-10-07</th>\n",
              "      <th>2016-10-08</th>\n",
              "      <th>2016-10-09</th>\n",
              "      <th>2016-10-10</th>\n",
              "      <th>2016-10-11</th>\n",
              "      <th>2016-10-12</th>\n",
              "      <th>2016-10-13</th>\n",
              "      <th>2016-10-14</th>\n",
              "      <th>2016-10-15</th>\n",
              "      <th>2016-10-16</th>\n",
              "      <th>2016-10-17</th>\n",
              "      <th>2016-10-18</th>\n",
              "      <th>2016-10-19</th>\n",
              "      <th>2016-10-20</th>\n",
              "      <th>2016-10-21</th>\n",
              "      <th>2016-10-22</th>\n",
              "      <th>2016-10-23</th>\n",
              "      <th>2016-10-24</th>\n",
              "      <th>2016-10-25</th>\n",
              "      <th>2016-10-26</th>\n",
              "      <th>2016-10-27</th>\n",
              "      <th>2016-10-28</th>\n",
              "      <th>2016-10-29</th>\n",
              "      <th>2016-10-30</th>\n",
              "      <th>2016-10-31</th>\n",
              "    </tr>\n",
              "  </thead>\n",
              "  <tbody>\n",
              "    <tr>\n",
              "      <th>0</th>\n",
              "      <td>0387DD8A07E07FDA6271170F86AD9151</td>\n",
              "      <td>1</td>\n",
              "      <td>0.000000</td>\n",
              "      <td>0.000000</td>\n",
              "      <td>0.000000</td>\n",
              "      <td>0.000000</td>\n",
              "      <td>0.000000</td>\n",
              "      <td>0.000000</td>\n",
              "      <td>0.000000</td>\n",
              "      <td>0.000000</td>\n",
              "      <td>0.000000</td>\n",
              "      <td>0.00000</td>\n",
              "      <td>0.000000</td>\n",
              "      <td>0.000000</td>\n",
              "      <td>0.000000</td>\n",
              "      <td>0.000000</td>\n",
              "      <td>0.000000</td>\n",
              "      <td>0.000000</td>\n",
              "      <td>0.000000</td>\n",
              "      <td>0.000000</td>\n",
              "      <td>0.000000</td>\n",
              "      <td>0.000000</td>\n",
              "      <td>0.000000</td>\n",
              "      <td>0.000000</td>\n",
              "      <td>0.000000</td>\n",
              "      <td>0.000000</td>\n",
              "      <td>0.000000</td>\n",
              "      <td>0.000000</td>\n",
              "      <td>0.000000</td>\n",
              "      <td>0.000000</td>\n",
              "      <td>0.000000</td>\n",
              "      <td>0.000000</td>\n",
              "      <td>0.000000</td>\n",
              "      <td>0.000000</td>\n",
              "      <td>0.000000</td>\n",
              "      <td>0.000000</td>\n",
              "      <td>0.000000</td>\n",
              "      <td>0.00000</td>\n",
              "      <td>0.000000</td>\n",
              "      <td>0.0000</td>\n",
              "      <td>...</td>\n",
              "      <td>0.315047</td>\n",
              "      <td>0.385712</td>\n",
              "      <td>0.301797</td>\n",
              "      <td>0.461161</td>\n",
              "      <td>0.290756</td>\n",
              "      <td>0.315783</td>\n",
              "      <td>0.372462</td>\n",
              "      <td>0.366573</td>\n",
              "      <td>0.279715</td>\n",
              "      <td>0.669475</td>\n",
              "      <td>0.402274</td>\n",
              "      <td>0.419940</td>\n",
              "      <td>0.733147</td>\n",
              "      <td>0.393809</td>\n",
              "      <td>0.338602</td>\n",
              "      <td>0.249167</td>\n",
              "      <td>0.248799</td>\n",
              "      <td>0.226348</td>\n",
              "      <td>0.239230</td>\n",
              "      <td>0.297381</td>\n",
              "      <td>0.293332</td>\n",
              "      <td>0.324248</td>\n",
              "      <td>0.271249</td>\n",
              "      <td>0.431349</td>\n",
              "      <td>0.405586</td>\n",
              "      <td>0.301061</td>\n",
              "      <td>0.269777</td>\n",
              "      <td>0.246958</td>\n",
              "      <td>0.313575</td>\n",
              "      <td>0.232237</td>\n",
              "      <td>0.264257</td>\n",
              "      <td>0.297013</td>\n",
              "      <td>0.297749</td>\n",
              "      <td>0.350747</td>\n",
              "      <td>0.201689</td>\n",
              "      <td>0.322040</td>\n",
              "      <td>0.342282</td>\n",
              "      <td>0.277506</td>\n",
              "      <td>0.337130</td>\n",
              "      <td>0.248063</td>\n",
              "    </tr>\n",
              "    <tr>\n",
              "      <th>1</th>\n",
              "      <td>01D6177B5D4FFE0CABA9EF17DAFC2B84</td>\n",
              "      <td>1</td>\n",
              "      <td>0.000000</td>\n",
              "      <td>0.000000</td>\n",
              "      <td>0.000000</td>\n",
              "      <td>0.000000</td>\n",
              "      <td>0.000000</td>\n",
              "      <td>0.000000</td>\n",
              "      <td>0.000000</td>\n",
              "      <td>0.000000</td>\n",
              "      <td>0.000000</td>\n",
              "      <td>0.00000</td>\n",
              "      <td>0.000000</td>\n",
              "      <td>0.000000</td>\n",
              "      <td>0.000000</td>\n",
              "      <td>0.000000</td>\n",
              "      <td>0.000000</td>\n",
              "      <td>0.000000</td>\n",
              "      <td>0.000000</td>\n",
              "      <td>0.000000</td>\n",
              "      <td>0.000000</td>\n",
              "      <td>0.000000</td>\n",
              "      <td>0.000000</td>\n",
              "      <td>0.000000</td>\n",
              "      <td>0.000000</td>\n",
              "      <td>0.000000</td>\n",
              "      <td>0.000000</td>\n",
              "      <td>0.000000</td>\n",
              "      <td>0.000000</td>\n",
              "      <td>0.000000</td>\n",
              "      <td>0.000000</td>\n",
              "      <td>0.000000</td>\n",
              "      <td>0.000000</td>\n",
              "      <td>0.000000</td>\n",
              "      <td>0.000000</td>\n",
              "      <td>0.000000</td>\n",
              "      <td>0.000000</td>\n",
              "      <td>0.00000</td>\n",
              "      <td>0.000000</td>\n",
              "      <td>0.0000</td>\n",
              "      <td>...</td>\n",
              "      <td>0.000000</td>\n",
              "      <td>0.000000</td>\n",
              "      <td>0.000000</td>\n",
              "      <td>0.000000</td>\n",
              "      <td>0.000000</td>\n",
              "      <td>0.000000</td>\n",
              "      <td>0.000000</td>\n",
              "      <td>0.000000</td>\n",
              "      <td>0.000000</td>\n",
              "      <td>0.000000</td>\n",
              "      <td>0.000000</td>\n",
              "      <td>0.000000</td>\n",
              "      <td>0.000000</td>\n",
              "      <td>0.000000</td>\n",
              "      <td>0.000000</td>\n",
              "      <td>0.000000</td>\n",
              "      <td>0.000000</td>\n",
              "      <td>0.000000</td>\n",
              "      <td>0.000000</td>\n",
              "      <td>0.000000</td>\n",
              "      <td>0.000000</td>\n",
              "      <td>0.000000</td>\n",
              "      <td>0.000000</td>\n",
              "      <td>0.000000</td>\n",
              "      <td>0.000000</td>\n",
              "      <td>0.000000</td>\n",
              "      <td>0.000000</td>\n",
              "      <td>0.000000</td>\n",
              "      <td>0.000000</td>\n",
              "      <td>0.000000</td>\n",
              "      <td>0.000000</td>\n",
              "      <td>0.000000</td>\n",
              "      <td>0.000000</td>\n",
              "      <td>0.000000</td>\n",
              "      <td>0.000000</td>\n",
              "      <td>0.000000</td>\n",
              "      <td>0.000000</td>\n",
              "      <td>0.000000</td>\n",
              "      <td>0.000000</td>\n",
              "      <td>0.000000</td>\n",
              "    </tr>\n",
              "    <tr>\n",
              "      <th>2</th>\n",
              "      <td>4B75AC4F2D8434CFF62DB64D0BB43103</td>\n",
              "      <td>1</td>\n",
              "      <td>0.000000</td>\n",
              "      <td>0.000000</td>\n",
              "      <td>0.000000</td>\n",
              "      <td>0.000000</td>\n",
              "      <td>0.000000</td>\n",
              "      <td>0.000000</td>\n",
              "      <td>0.000000</td>\n",
              "      <td>0.000000</td>\n",
              "      <td>0.000000</td>\n",
              "      <td>0.00000</td>\n",
              "      <td>0.000000</td>\n",
              "      <td>0.000000</td>\n",
              "      <td>0.000000</td>\n",
              "      <td>0.000000</td>\n",
              "      <td>0.000000</td>\n",
              "      <td>0.000000</td>\n",
              "      <td>0.000000</td>\n",
              "      <td>0.000000</td>\n",
              "      <td>0.000000</td>\n",
              "      <td>0.000000</td>\n",
              "      <td>0.000000</td>\n",
              "      <td>0.000000</td>\n",
              "      <td>0.000000</td>\n",
              "      <td>0.000000</td>\n",
              "      <td>0.000000</td>\n",
              "      <td>0.000000</td>\n",
              "      <td>0.000000</td>\n",
              "      <td>0.000000</td>\n",
              "      <td>0.000000</td>\n",
              "      <td>0.000000</td>\n",
              "      <td>0.000000</td>\n",
              "      <td>0.000000</td>\n",
              "      <td>0.000000</td>\n",
              "      <td>0.000000</td>\n",
              "      <td>0.000000</td>\n",
              "      <td>0.00000</td>\n",
              "      <td>0.000000</td>\n",
              "      <td>0.0000</td>\n",
              "      <td>...</td>\n",
              "      <td>0.000000</td>\n",
              "      <td>0.000000</td>\n",
              "      <td>0.000000</td>\n",
              "      <td>0.000000</td>\n",
              "      <td>0.000000</td>\n",
              "      <td>0.000000</td>\n",
              "      <td>0.000000</td>\n",
              "      <td>0.000000</td>\n",
              "      <td>0.000000</td>\n",
              "      <td>0.000000</td>\n",
              "      <td>0.000000</td>\n",
              "      <td>0.000000</td>\n",
              "      <td>0.000000</td>\n",
              "      <td>0.000000</td>\n",
              "      <td>0.000000</td>\n",
              "      <td>0.618551</td>\n",
              "      <td>1.000000</td>\n",
              "      <td>1.000000</td>\n",
              "      <td>1.000000</td>\n",
              "      <td>1.000000</td>\n",
              "      <td>0.944143</td>\n",
              "      <td>1.000000</td>\n",
              "      <td>1.000000</td>\n",
              "      <td>1.000000</td>\n",
              "      <td>1.000000</td>\n",
              "      <td>1.000000</td>\n",
              "      <td>1.000000</td>\n",
              "      <td>1.000000</td>\n",
              "      <td>1.000000</td>\n",
              "      <td>1.000000</td>\n",
              "      <td>0.812126</td>\n",
              "      <td>1.000000</td>\n",
              "      <td>1.000000</td>\n",
              "      <td>1.000000</td>\n",
              "      <td>1.000000</td>\n",
              "      <td>1.000000</td>\n",
              "      <td>1.000000</td>\n",
              "      <td>1.000000</td>\n",
              "      <td>1.000000</td>\n",
              "      <td>1.000000</td>\n",
              "    </tr>\n",
              "    <tr>\n",
              "      <th>3</th>\n",
              "      <td>B32AC8CC6D5D805AC053557AB05F5343</td>\n",
              "      <td>1</td>\n",
              "      <td>0.000000</td>\n",
              "      <td>0.000000</td>\n",
              "      <td>0.000000</td>\n",
              "      <td>0.000000</td>\n",
              "      <td>0.000000</td>\n",
              "      <td>0.000000</td>\n",
              "      <td>0.000000</td>\n",
              "      <td>0.000000</td>\n",
              "      <td>0.000000</td>\n",
              "      <td>0.00000</td>\n",
              "      <td>0.000000</td>\n",
              "      <td>0.000000</td>\n",
              "      <td>0.000000</td>\n",
              "      <td>0.000000</td>\n",
              "      <td>0.000000</td>\n",
              "      <td>0.000000</td>\n",
              "      <td>0.000000</td>\n",
              "      <td>0.000000</td>\n",
              "      <td>0.000000</td>\n",
              "      <td>0.000000</td>\n",
              "      <td>0.000000</td>\n",
              "      <td>0.000000</td>\n",
              "      <td>0.000000</td>\n",
              "      <td>0.000000</td>\n",
              "      <td>0.000000</td>\n",
              "      <td>0.000000</td>\n",
              "      <td>0.000000</td>\n",
              "      <td>0.000000</td>\n",
              "      <td>0.000000</td>\n",
              "      <td>0.000000</td>\n",
              "      <td>0.000000</td>\n",
              "      <td>0.000000</td>\n",
              "      <td>0.000000</td>\n",
              "      <td>0.000000</td>\n",
              "      <td>0.000000</td>\n",
              "      <td>0.00000</td>\n",
              "      <td>0.000000</td>\n",
              "      <td>0.0000</td>\n",
              "      <td>...</td>\n",
              "      <td>0.619902</td>\n",
              "      <td>0.607360</td>\n",
              "      <td>0.295618</td>\n",
              "      <td>0.815547</td>\n",
              "      <td>0.504163</td>\n",
              "      <td>0.741732</td>\n",
              "      <td>0.232911</td>\n",
              "      <td>0.357966</td>\n",
              "      <td>0.666126</td>\n",
              "      <td>0.601627</td>\n",
              "      <td>0.961027</td>\n",
              "      <td>0.526737</td>\n",
              "      <td>0.575111</td>\n",
              "      <td>0.863563</td>\n",
              "      <td>0.452922</td>\n",
              "      <td>0.388782</td>\n",
              "      <td>0.421748</td>\n",
              "      <td>0.466897</td>\n",
              "      <td>0.439306</td>\n",
              "      <td>0.561137</td>\n",
              "      <td>0.481230</td>\n",
              "      <td>0.538562</td>\n",
              "      <td>0.523512</td>\n",
              "      <td>0.500580</td>\n",
              "      <td>0.539995</td>\n",
              "      <td>0.505596</td>\n",
              "      <td>0.529246</td>\n",
              "      <td>0.419957</td>\n",
              "      <td>0.420315</td>\n",
              "      <td>0.429273</td>\n",
              "      <td>0.459014</td>\n",
              "      <td>0.541787</td>\n",
              "      <td>0.618469</td>\n",
              "      <td>0.534262</td>\n",
              "      <td>0.701958</td>\n",
              "      <td>0.744957</td>\n",
              "      <td>0.643193</td>\n",
              "      <td>0.690133</td>\n",
              "      <td>0.518138</td>\n",
              "      <td>0.419957</td>\n",
              "    </tr>\n",
              "    <tr>\n",
              "      <th>4</th>\n",
              "      <td>EDFC78B07BA2908B3395C4EB2304665E</td>\n",
              "      <td>1</td>\n",
              "      <td>0.144169</td>\n",
              "      <td>0.280383</td>\n",
              "      <td>0.347496</td>\n",
              "      <td>0.165048</td>\n",
              "      <td>0.179465</td>\n",
              "      <td>0.265966</td>\n",
              "      <td>0.235144</td>\n",
              "      <td>0.182945</td>\n",
              "      <td>0.175488</td>\n",
              "      <td>0.17002</td>\n",
              "      <td>0.189408</td>\n",
              "      <td>0.227687</td>\n",
              "      <td>0.176979</td>\n",
              "      <td>0.211282</td>\n",
              "      <td>0.191893</td>\n",
              "      <td>0.175488</td>\n",
              "      <td>0.169522</td>\n",
              "      <td>0.042256</td>\n",
              "      <td>0.043748</td>\n",
              "      <td>0.189408</td>\n",
              "      <td>0.323634</td>\n",
              "      <td>0.456866</td>\n",
              "      <td>0.387267</td>\n",
              "      <td>0.348988</td>\n",
              "      <td>0.360422</td>\n",
              "      <td>0.316674</td>\n",
              "      <td>0.319657</td>\n",
              "      <td>0.392238</td>\n",
              "      <td>0.370861</td>\n",
              "      <td>0.395221</td>\n",
              "      <td>0.377324</td>\n",
              "      <td>0.240613</td>\n",
              "      <td>0.301263</td>\n",
              "      <td>0.278395</td>\n",
              "      <td>0.334074</td>\n",
              "      <td>0.36241</td>\n",
              "      <td>0.278395</td>\n",
              "      <td>0.3122</td>\n",
              "      <td>...</td>\n",
              "      <td>0.475259</td>\n",
              "      <td>0.471282</td>\n",
              "      <td>0.526961</td>\n",
              "      <td>0.500116</td>\n",
              "      <td>0.536407</td>\n",
              "      <td>0.542372</td>\n",
              "      <td>0.883406</td>\n",
              "      <td>0.515527</td>\n",
              "      <td>0.671627</td>\n",
              "      <td>0.702449</td>\n",
              "      <td>0.867001</td>\n",
              "      <td>0.793425</td>\n",
              "      <td>0.605508</td>\n",
              "      <td>0.921685</td>\n",
              "      <td>0.668147</td>\n",
              "      <td>0.580652</td>\n",
              "      <td>0.454877</td>\n",
              "      <td>0.455374</td>\n",
              "      <td>0.506579</td>\n",
              "      <td>0.512544</td>\n",
              "      <td>0.399198</td>\n",
              "      <td>0.501110</td>\n",
              "      <td>0.514036</td>\n",
              "      <td>0.558778</td>\n",
              "      <td>0.752660</td>\n",
              "      <td>0.713883</td>\n",
              "      <td>0.615948</td>\n",
              "      <td>0.515030</td>\n",
              "      <td>0.461837</td>\n",
              "      <td>0.393232</td>\n",
              "      <td>0.706426</td>\n",
              "      <td>0.508070</td>\n",
              "      <td>0.421072</td>\n",
              "      <td>0.303748</td>\n",
              "      <td>0.303251</td>\n",
              "      <td>0.334571</td>\n",
              "      <td>0.373844</td>\n",
              "      <td>0.541378</td>\n",
              "      <td>0.490173</td>\n",
              "      <td>0.433500</td>\n",
              "    </tr>\n",
              "  </tbody>\n",
              "</table>\n",
              "<p>5 rows × 1036 columns</p>\n",
              "</div>"
            ],
            "text/plain": [
              "                            CONS_NO  FLAG  ...  2016-10-30  2016-10-31\n",
              "0  0387DD8A07E07FDA6271170F86AD9151     1  ...    0.337130    0.248063\n",
              "1  01D6177B5D4FFE0CABA9EF17DAFC2B84     1  ...    0.000000    0.000000\n",
              "2  4B75AC4F2D8434CFF62DB64D0BB43103     1  ...    1.000000    1.000000\n",
              "3  B32AC8CC6D5D805AC053557AB05F5343     1  ...    0.518138    0.419957\n",
              "4  EDFC78B07BA2908B3395C4EB2304665E     1  ...    0.490173    0.433500\n",
              "\n",
              "[5 rows x 1036 columns]"
            ]
          },
          "metadata": {
            "tags": []
          },
          "execution_count": 118
        }
      ]
    },
    {
      "cell_type": "code",
      "metadata": {
        "id": "wPv7T9MuXfJM",
        "colab_type": "code",
        "colab": {}
      },
      "source": [
        "X = data.iloc[:, 2:]\n",
        "y = data.iloc[:, 1]"
      ],
      "execution_count": 0,
      "outputs": []
    },
    {
      "cell_type": "code",
      "metadata": {
        "id": "VAS1VfPhXktF",
        "colab_type": "code",
        "colab": {}
      },
      "source": [
        "from sklearn.model_selection import train_test_split"
      ],
      "execution_count": 0,
      "outputs": []
    },
    {
      "cell_type": "code",
      "metadata": {
        "id": "k_eyPP88XpPq",
        "colab_type": "code",
        "colab": {}
      },
      "source": [
        "X_train, X_test, y_train, y_test = train_test_split(X, y, \n",
        "                                                    random_state=0, \n",
        "                                                    stratify=y,\n",
        "                                                    test_size=0.20)"
      ],
      "execution_count": 0,
      "outputs": []
    },
    {
      "cell_type": "code",
      "metadata": {
        "id": "9ZpMkJD-YEgw",
        "colab_type": "code",
        "colab": {}
      },
      "source": [
        "# Logistic Regression with Zheng's Parameters\n",
        "logRegClfZheng = LogisticRegression(penalty='l2', C=1.0, solver='liblinear', random_state=0, \n",
        "                                    max_iter=1000)"
      ],
      "execution_count": 0,
      "outputs": []
    },
    {
      "cell_type": "code",
      "metadata": {
        "id": "ydPES5rSYQZ6",
        "colab_type": "code",
        "colab": {}
      },
      "source": [
        "# SGDClassifier\n",
        "sgdClfZheng = SGDClassifier(loss='log', penalty='l2', max_iter=1000, shuffle=False, \n",
        "                            random_state=0, learning_rate='optimal')"
      ],
      "execution_count": 0,
      "outputs": []
    },
    {
      "cell_type": "code",
      "metadata": {
        "id": "rmFXf18KY3JD",
        "colab_type": "code",
        "outputId": "d8b6857c-b315-4a0e-c8be-c7c5183a3c94",
        "colab": {
          "base_uri": "https://localhost:8080/",
          "height": 254
        }
      },
      "source": [
        "# Cross Validating the Logistic Regression Classifier\n",
        "logRegCVResults = cross_validate(estimator=logRegClfZheng, \n",
        "                                 X=X_train,\n",
        "                                 y=y_train,\n",
        "                                 scoring='neg_log_loss', \n",
        "                                 cv=5,\n",
        "                                 verbose=2)"
      ],
      "execution_count": 0,
      "outputs": [
        {
          "output_type": "stream",
          "text": [
            "[Parallel(n_jobs=1)]: Using backend SequentialBackend with 1 concurrent workers.\n"
          ],
          "name": "stderr"
        },
        {
          "output_type": "stream",
          "text": [
            "[CV]  ................................................................\n",
            "[CV] ................................................. , total=  11.2s\n",
            "[CV]  ................................................................\n"
          ],
          "name": "stdout"
        },
        {
          "output_type": "stream",
          "text": [
            "[Parallel(n_jobs=1)]: Done   1 out of   1 | elapsed:   11.2s remaining:    0.0s\n"
          ],
          "name": "stderr"
        },
        {
          "output_type": "stream",
          "text": [
            "[CV] ................................................. , total=  12.4s\n",
            "[CV]  ................................................................\n",
            "[CV] ................................................. , total=  13.3s\n",
            "[CV]  ................................................................\n",
            "[CV] ................................................. , total=  12.2s\n",
            "[CV]  ................................................................\n",
            "[CV] ................................................. , total=  12.6s\n"
          ],
          "name": "stdout"
        },
        {
          "output_type": "stream",
          "text": [
            "[Parallel(n_jobs=1)]: Done   5 out of   5 | elapsed:  1.0min finished\n"
          ],
          "name": "stderr"
        }
      ]
    },
    {
      "cell_type": "code",
      "metadata": {
        "id": "ZWsC4cZRZJw0",
        "colab_type": "code",
        "outputId": "a5c4c69b-93a1-468c-8187-787c6a8951ec",
        "colab": {
          "base_uri": "https://localhost:8080/",
          "height": 254
        }
      },
      "source": [
        "# Cross Validating the SGDClassifier\n",
        "sgdClfResults = cross_validate(estimator=sgdClfZheng, \n",
        "                               X=X_train, \n",
        "                               y=y_train, \n",
        "                               scoring='neg_log_loss', \n",
        "                               cv=5, \n",
        "                               verbose=2)"
      ],
      "execution_count": 0,
      "outputs": [
        {
          "output_type": "stream",
          "text": [
            "[Parallel(n_jobs=1)]: Using backend SequentialBackend with 1 concurrent workers.\n"
          ],
          "name": "stderr"
        },
        {
          "output_type": "stream",
          "text": [
            "[CV]  ................................................................\n",
            "[CV] ................................................. , total=   4.1s\n",
            "[CV]  ................................................................\n"
          ],
          "name": "stdout"
        },
        {
          "output_type": "stream",
          "text": [
            "[Parallel(n_jobs=1)]: Done   1 out of   1 | elapsed:    4.1s remaining:    0.0s\n"
          ],
          "name": "stderr"
        },
        {
          "output_type": "stream",
          "text": [
            "[CV] ................................................. , total=   4.0s\n",
            "[CV]  ................................................................\n",
            "[CV] ................................................. , total=   4.0s\n",
            "[CV]  ................................................................\n",
            "[CV] ................................................. , total=   4.0s\n",
            "[CV]  ................................................................\n",
            "[CV] ................................................. , total=   4.0s\n"
          ],
          "name": "stdout"
        },
        {
          "output_type": "stream",
          "text": [
            "[Parallel(n_jobs=1)]: Done   5 out of   5 | elapsed:   20.1s finished\n"
          ],
          "name": "stderr"
        }
      ]
    },
    {
      "cell_type": "code",
      "metadata": {
        "id": "VYi_MM2aZth8",
        "colab_type": "code",
        "outputId": "63b43a82-de01-4220-80b2-fee39c70a309",
        "colab": {
          "base_uri": "https://localhost:8080/",
          "height": 35
        }
      },
      "source": [
        "# Printing log loss results for the logistic regression model\n",
        "logRegCVResults['test_score']"
      ],
      "execution_count": 0,
      "outputs": [
        {
          "output_type": "execute_result",
          "data": {
            "text/plain": [
              "array([-0.26689756, -0.27205386, -0.28200425, -0.28321308, -0.27842965])"
            ]
          },
          "metadata": {
            "tags": []
          },
          "execution_count": 131
        }
      ]
    },
    {
      "cell_type": "code",
      "metadata": {
        "id": "WUR1nTrQZgNF",
        "colab_type": "code",
        "outputId": "450b890f-c1ed-4069-989a-b475cd1d66e9",
        "colab": {
          "base_uri": "https://localhost:8080/",
          "height": 35
        }
      },
      "source": [
        "# Printing log loss results for the SGD classifier model\n",
        "sgdClfResults['test_score']"
      ],
      "execution_count": 0,
      "outputs": [
        {
          "output_type": "execute_result",
          "data": {
            "text/plain": [
              "array([-0.28082786, -0.28519975, -0.30014592, -0.30644884, -1.76853601])"
            ]
          },
          "metadata": {
            "tags": []
          },
          "execution_count": 132
        }
      ]
    },
    {
      "cell_type": "code",
      "metadata": {
        "id": "L5-tDBPZbA2C",
        "colab_type": "code",
        "outputId": "0abb075f-097e-453a-97fb-95c5ab3f51cb",
        "colab": {
          "base_uri": "https://localhost:8080/",
          "height": 108
        }
      },
      "source": [
        "# Train these classifiers on the entire training data\n",
        "logRegClfZheng.fit(X_train, y_train)"
      ],
      "execution_count": 0,
      "outputs": [
        {
          "output_type": "execute_result",
          "data": {
            "text/plain": [
              "LogisticRegression(C=1.0, class_weight=None, dual=False, fit_intercept=True,\n",
              "                   intercept_scaling=1, l1_ratio=None, max_iter=500,\n",
              "                   multi_class='auto', n_jobs=None, penalty='l2',\n",
              "                   random_state=0, solver='liblinear', tol=0.0001, verbose=0,\n",
              "                   warm_start=False)"
            ]
          },
          "metadata": {
            "tags": []
          },
          "execution_count": 138
        }
      ]
    },
    {
      "cell_type": "code",
      "metadata": {
        "id": "Z7FPlys9cENe",
        "colab_type": "code",
        "outputId": "d53f4fac-e0f8-4a9f-87e7-2557b3d3cfc1",
        "colab": {
          "base_uri": "https://localhost:8080/",
          "height": 126
        }
      },
      "source": [
        "sgdClfZheng.fit(X_train, y_train)"
      ],
      "execution_count": 0,
      "outputs": [
        {
          "output_type": "execute_result",
          "data": {
            "text/plain": [
              "SGDClassifier(alpha=0.0001, average=False, class_weight=None,\n",
              "              early_stopping=False, epsilon=0.1, eta0=0.0, fit_intercept=True,\n",
              "              l1_ratio=0.15, learning_rate='optimal', loss='log', max_iter=1000,\n",
              "              n_iter_no_change=5, n_jobs=None, penalty='l2', power_t=0.5,\n",
              "              random_state=0, shuffle=False, tol=0.001, validation_fraction=0.1,\n",
              "              verbose=0, warm_start=False)"
            ]
          },
          "metadata": {
            "tags": []
          },
          "execution_count": 139
        }
      ]
    },
    {
      "cell_type": "code",
      "metadata": {
        "id": "KdOcStxbcTpR",
        "colab_type": "code",
        "outputId": "76cf3407-2807-4a0f-fac3-ac62768cb38b",
        "colab": {
          "base_uri": "https://localhost:8080/",
          "height": 619
        }
      },
      "source": [
        "# Visualize results\n",
        "get_classification_result(logRegClfZheng.predict(X_test), y_test, classifier_name='Non-Shuffled CV LogReg')"
      ],
      "execution_count": 0,
      "outputs": [
        {
          "output_type": "stream",
          "text": [
            "CLASSIFICATION REPORT\n",
            "                  precision    recall  f1-score   support\n",
            "\n",
            "Regular Consumer       0.92      0.99      0.95      7752\n",
            "         Thieves       0.43      0.06      0.10       723\n",
            "\n",
            "        accuracy                           0.91      8475\n",
            "       macro avg       0.68      0.52      0.53      8475\n",
            "    weighted avg       0.88      0.91      0.88      8475\n",
            "\n",
            "CONFUSION MATRIX\n"
          ],
          "name": "stdout"
        },
        {
          "output_type": "display_data",
          "data": {
            "text/html": [
              "<style  type=\"text/css\" >\n",
              "    #T_8a7bfc4a_4ef5_11ea_9854_0242ac1c0002row0_col0 {\n",
              "            background-color:  #0000ff;\n",
              "            color:  #f1f1f1;\n",
              "        }    #T_8a7bfc4a_4ef5_11ea_9854_0242ac1c0002row0_col1 {\n",
              "            background-color:  #0000ff;\n",
              "            color:  #f1f1f1;\n",
              "        }    #T_8a7bfc4a_4ef5_11ea_9854_0242ac1c0002row1_col0 {\n",
              "            background-color:  #e5e5ff;\n",
              "            color:  #000000;\n",
              "        }    #T_8a7bfc4a_4ef5_11ea_9854_0242ac1c0002row1_col1 {\n",
              "            background-color:  #e5e5ff;\n",
              "            color:  #000000;\n",
              "        }</style><table id=\"T_8a7bfc4a_4ef5_11ea_9854_0242ac1c0002\" ><thead>    <tr>        <th class=\"blank level0\" ></th>        <th class=\"col_heading level0 col0\" >Predicted 0</th>        <th class=\"col_heading level0 col1\" >Predicted 1</th>    </tr></thead><tbody>\n",
              "                <tr>\n",
              "                        <th id=\"T_8a7bfc4a_4ef5_11ea_9854_0242ac1c0002level0_row0\" class=\"row_heading level0 row0\" >True 0</th>\n",
              "                        <td id=\"T_8a7bfc4a_4ef5_11ea_9854_0242ac1c0002row0_col0\" class=\"data row0 col0\" >7698</td>\n",
              "                        <td id=\"T_8a7bfc4a_4ef5_11ea_9854_0242ac1c0002row0_col1\" class=\"data row0 col1\" >54</td>\n",
              "            </tr>\n",
              "            <tr>\n",
              "                        <th id=\"T_8a7bfc4a_4ef5_11ea_9854_0242ac1c0002level0_row1\" class=\"row_heading level0 row1\" >True 1</th>\n",
              "                        <td id=\"T_8a7bfc4a_4ef5_11ea_9854_0242ac1c0002row1_col0\" class=\"data row1 col0\" >682</td>\n",
              "                        <td id=\"T_8a7bfc4a_4ef5_11ea_9854_0242ac1c0002row1_col1\" class=\"data row1 col1\" >41</td>\n",
              "            </tr>\n",
              "    </tbody></table>"
            ],
            "text/plain": [
              "<pandas.io.formats.style.Styler at 0x7ff26d2066a0>"
            ]
          },
          "metadata": {
            "tags": []
          }
        },
        {
          "output_type": "display_data",
          "data": {
            "image/png": "[encoded data removed]",
            "text/plain": [
              "<Figure size 360x360 with 1 Axes>"
            ]
          },
          "metadata": {
            "tags": []
          }
        }
      ]
    },
    {
      "cell_type": "code",
      "metadata": {
        "id": "l_jttktWcbW8",
        "colab_type": "code",
        "outputId": "76ce3e61-1a34-44a2-ad77-4cecbd251724",
        "colab": {
          "base_uri": "https://localhost:8080/",
          "height": 619
        }
      },
      "source": [
        "get_classification_result(sgdClfZheng.predict(X_test), y_test, classifier_name='Non-Shuffled SGD Classifier')"
      ],
      "execution_count": 0,
      "outputs": [
        {
          "output_type": "stream",
          "text": [
            "CLASSIFICATION REPORT\n",
            "                  precision    recall  f1-score   support\n",
            "\n",
            "Regular Consumer       0.92      0.99      0.95      7752\n",
            "         Thieves       0.46      0.05      0.09       723\n",
            "\n",
            "        accuracy                           0.91      8475\n",
            "       macro avg       0.69      0.52      0.52      8475\n",
            "    weighted avg       0.88      0.91      0.88      8475\n",
            "\n",
            "CONFUSION MATRIX\n"
          ],
          "name": "stdout"
        },
        {
          "output_type": "display_data",
          "data": {
            "text/html": [
              "<style  type=\"text/css\" >\n",
              "    #T_a0555de0_4ef5_11ea_9854_0242ac1c0002row0_col0 {\n",
              "            background-color:  #0000ff;\n",
              "            color:  #f1f1f1;\n",
              "        }    #T_a0555de0_4ef5_11ea_9854_0242ac1c0002row0_col1 {\n",
              "            background-color:  #0000ff;\n",
              "            color:  #f1f1f1;\n",
              "        }    #T_a0555de0_4ef5_11ea_9854_0242ac1c0002row1_col0 {\n",
              "            background-color:  #e5e5ff;\n",
              "            color:  #000000;\n",
              "        }    #T_a0555de0_4ef5_11ea_9854_0242ac1c0002row1_col1 {\n",
              "            background-color:  #e5e5ff;\n",
              "            color:  #000000;\n",
              "        }</style><table id=\"T_a0555de0_4ef5_11ea_9854_0242ac1c0002\" ><thead>    <tr>        <th class=\"blank level0\" ></th>        <th class=\"col_heading level0 col0\" >Predicted 0</th>        <th class=\"col_heading level0 col1\" >Predicted 1</th>    </tr></thead><tbody>\n",
              "                <tr>\n",
              "                        <th id=\"T_a0555de0_4ef5_11ea_9854_0242ac1c0002level0_row0\" class=\"row_heading level0 row0\" >True 0</th>\n",
              "                        <td id=\"T_a0555de0_4ef5_11ea_9854_0242ac1c0002row0_col0\" class=\"data row0 col0\" >7708</td>\n",
              "                        <td id=\"T_a0555de0_4ef5_11ea_9854_0242ac1c0002row0_col1\" class=\"data row0 col1\" >44</td>\n",
              "            </tr>\n",
              "            <tr>\n",
              "                        <th id=\"T_a0555de0_4ef5_11ea_9854_0242ac1c0002level0_row1\" class=\"row_heading level0 row1\" >True 1</th>\n",
              "                        <td id=\"T_a0555de0_4ef5_11ea_9854_0242ac1c0002row1_col0\" class=\"data row1 col0\" >685</td>\n",
              "                        <td id=\"T_a0555de0_4ef5_11ea_9854_0242ac1c0002row1_col1\" class=\"data row1 col1\" >38</td>\n",
              "            </tr>\n",
              "    </tbody></table>"
            ],
            "text/plain": [
              "<pandas.io.formats.style.Styler at 0x7ff26d03d2b0>"
            ]
          },
          "metadata": {
            "tags": []
          }
        },
        {
          "output_type": "display_data",
          "data": {
            "image/png": "[encoded data removed]",
            "text/plain": [
              "<Figure size 360x360 with 1 Axes>"
            ]
          },
          "metadata": {
            "tags": []
          }
        }
      ]
    },
    {
      "cell_type": "code",
      "metadata": {
        "id": "Li5hAcu0gQuA",
        "colab_type": "code",
        "colab": {}
      },
      "source": [
        "logRegTest = LogisticRegression()"
      ],
      "execution_count": 0,
      "outputs": []
    },
    {
      "cell_type": "code",
      "metadata": {
        "id": "3Tofgvi5gTP7",
        "colab_type": "code",
        "colab": {}
      },
      "source": [
        "coefs = np.random.rand()"
      ],
      "execution_count": 0,
      "outputs": []
    },
    {
      "cell_type": "markdown",
      "metadata": {
        "id": "74-90hPBgYOD",
        "colab_type": "text"
      },
      "source": [
        "# `StandardScaler` Logistic Regression Model"
      ]
    },
    {
      "cell_type": "markdown",
      "metadata": {
        "id": "1j4LmBNdFGh_",
        "colab_type": "text"
      },
      "source": [
        "## Importing Data"
      ]
    },
    {
      "cell_type": "code",
      "metadata": {
        "id": "5UXt9YUjvBvl",
        "colab_type": "code",
        "colab": {}
      },
      "source": [
        "# Import pre-scaled data with outliers removed\n",
        "filepath = '/content/drive/My Drive/EE 16-17 FYP DL Energy Theft Detection/Data/full-processing-data/outliersRemoved.csv'\n",
        "df = pd.read_csv(filepath)"
      ],
      "execution_count": 0,
      "outputs": []
    },
    {
      "cell_type": "code",
      "metadata": {
        "id": "Mv3wM9kCvOCR",
        "colab_type": "code",
        "colab": {
          "base_uri": "https://localhost:8080/",
          "height": 270
        },
        "outputId": "a726f1b1-a72e-4cca-9cf3-8ff8fa612d1b"
      },
      "source": [
        "# Checking that data was loaded correctly\n",
        "df.head()"
      ],
      "execution_count": 256,
      "outputs": [
        {
          "output_type": "execute_result",
          "data": {
            "text/html": [
              "<div>\n",
              "<style scoped>\n",
              "    .dataframe tbody tr th:only-of-type {\n",
              "        vertical-align: middle;\n",
              "    }\n",
              "\n",
              "    .dataframe tbody tr th {\n",
              "        vertical-align: top;\n",
              "    }\n",
              "\n",
              "    .dataframe thead th {\n",
              "        text-align: right;\n",
              "    }\n",
              "</style>\n",
              "<table border=\"1\" class=\"dataframe\">\n",
              "  <thead>\n",
              "    <tr style=\"text-align: right;\">\n",
              "      <th></th>\n",
              "      <th>CONS_NO</th>\n",
              "      <th>FLAG</th>\n",
              "      <th>2014-01-01</th>\n",
              "      <th>2014-01-02</th>\n",
              "      <th>2014-01-03</th>\n",
              "      <th>2014-01-04</th>\n",
              "      <th>2014-01-05</th>\n",
              "      <th>2014-01-06</th>\n",
              "      <th>2014-01-07</th>\n",
              "      <th>2014-01-08</th>\n",
              "      <th>2014-01-09</th>\n",
              "      <th>2014-01-10</th>\n",
              "      <th>2014-01-11</th>\n",
              "      <th>2014-01-12</th>\n",
              "      <th>2014-01-13</th>\n",
              "      <th>2014-01-14</th>\n",
              "      <th>2014-01-15</th>\n",
              "      <th>2014-01-16</th>\n",
              "      <th>2014-01-17</th>\n",
              "      <th>2014-01-18</th>\n",
              "      <th>2014-01-19</th>\n",
              "      <th>2014-01-20</th>\n",
              "      <th>2014-01-21</th>\n",
              "      <th>2014-01-22</th>\n",
              "      <th>2014-01-23</th>\n",
              "      <th>2014-01-24</th>\n",
              "      <th>2014-01-25</th>\n",
              "      <th>2014-01-26</th>\n",
              "      <th>2014-01-27</th>\n",
              "      <th>2014-01-28</th>\n",
              "      <th>2014-01-29</th>\n",
              "      <th>2014-01-30</th>\n",
              "      <th>2014-01-31</th>\n",
              "      <th>2014-02-01</th>\n",
              "      <th>2014-02-02</th>\n",
              "      <th>2014-02-03</th>\n",
              "      <th>2014-02-04</th>\n",
              "      <th>2014-02-05</th>\n",
              "      <th>2014-02-06</th>\n",
              "      <th>2014-02-07</th>\n",
              "      <th>...</th>\n",
              "      <th>2016-09-22</th>\n",
              "      <th>2016-09-23</th>\n",
              "      <th>2016-09-24</th>\n",
              "      <th>2016-09-25</th>\n",
              "      <th>2016-09-26</th>\n",
              "      <th>2016-09-27</th>\n",
              "      <th>2016-09-28</th>\n",
              "      <th>2016-09-29</th>\n",
              "      <th>2016-09-30</th>\n",
              "      <th>2016-10-01</th>\n",
              "      <th>2016-10-02</th>\n",
              "      <th>2016-10-03</th>\n",
              "      <th>2016-10-04</th>\n",
              "      <th>2016-10-05</th>\n",
              "      <th>2016-10-06</th>\n",
              "      <th>2016-10-07</th>\n",
              "      <th>2016-10-08</th>\n",
              "      <th>2016-10-09</th>\n",
              "      <th>2016-10-10</th>\n",
              "      <th>2016-10-11</th>\n",
              "      <th>2016-10-12</th>\n",
              "      <th>2016-10-13</th>\n",
              "      <th>2016-10-14</th>\n",
              "      <th>2016-10-15</th>\n",
              "      <th>2016-10-16</th>\n",
              "      <th>2016-10-17</th>\n",
              "      <th>2016-10-18</th>\n",
              "      <th>2016-10-19</th>\n",
              "      <th>2016-10-20</th>\n",
              "      <th>2016-10-21</th>\n",
              "      <th>2016-10-22</th>\n",
              "      <th>2016-10-23</th>\n",
              "      <th>2016-10-24</th>\n",
              "      <th>2016-10-25</th>\n",
              "      <th>2016-10-26</th>\n",
              "      <th>2016-10-27</th>\n",
              "      <th>2016-10-28</th>\n",
              "      <th>2016-10-29</th>\n",
              "      <th>2016-10-30</th>\n",
              "      <th>2016-10-31</th>\n",
              "    </tr>\n",
              "  </thead>\n",
              "  <tbody>\n",
              "    <tr>\n",
              "      <th>0</th>\n",
              "      <td>0387DD8A07E07FDA6271170F86AD9151</td>\n",
              "      <td>1</td>\n",
              "      <td>0.0</td>\n",
              "      <td>0.00</td>\n",
              "      <td>0.00</td>\n",
              "      <td>0.00</td>\n",
              "      <td>0.00</td>\n",
              "      <td>0.00</td>\n",
              "      <td>0.00</td>\n",
              "      <td>0.00</td>\n",
              "      <td>0.00</td>\n",
              "      <td>0.00</td>\n",
              "      <td>0.00</td>\n",
              "      <td>0.00</td>\n",
              "      <td>0.00</td>\n",
              "      <td>0.00</td>\n",
              "      <td>0.00</td>\n",
              "      <td>0.00</td>\n",
              "      <td>0.00</td>\n",
              "      <td>0.00</td>\n",
              "      <td>0.00</td>\n",
              "      <td>0.00</td>\n",
              "      <td>0.00</td>\n",
              "      <td>0.00</td>\n",
              "      <td>0.00</td>\n",
              "      <td>0.00</td>\n",
              "      <td>0.00</td>\n",
              "      <td>0.00</td>\n",
              "      <td>0.00</td>\n",
              "      <td>0.00</td>\n",
              "      <td>0.00</td>\n",
              "      <td>0.00</td>\n",
              "      <td>0.00</td>\n",
              "      <td>0.00</td>\n",
              "      <td>0.00</td>\n",
              "      <td>0.0</td>\n",
              "      <td>0.00</td>\n",
              "      <td>0.00</td>\n",
              "      <td>0.0</td>\n",
              "      <td>0.00</td>\n",
              "      <td>...</td>\n",
              "      <td>8.56</td>\n",
              "      <td>10.48</td>\n",
              "      <td>8.20</td>\n",
              "      <td>12.53</td>\n",
              "      <td>7.90</td>\n",
              "      <td>8.58</td>\n",
              "      <td>10.12</td>\n",
              "      <td>9.96</td>\n",
              "      <td>7.60</td>\n",
              "      <td>18.19</td>\n",
              "      <td>10.93</td>\n",
              "      <td>11.41</td>\n",
              "      <td>19.92</td>\n",
              "      <td>10.70</td>\n",
              "      <td>9.20</td>\n",
              "      <td>6.77</td>\n",
              "      <td>6.760000</td>\n",
              "      <td>6.150000</td>\n",
              "      <td>6.500000</td>\n",
              "      <td>8.080000</td>\n",
              "      <td>7.97</td>\n",
              "      <td>8.810000</td>\n",
              "      <td>7.370000</td>\n",
              "      <td>11.720000</td>\n",
              "      <td>11.020000</td>\n",
              "      <td>8.180000</td>\n",
              "      <td>7.330000</td>\n",
              "      <td>6.710000</td>\n",
              "      <td>8.520000</td>\n",
              "      <td>6.310000</td>\n",
              "      <td>7.18</td>\n",
              "      <td>8.070000</td>\n",
              "      <td>8.090000</td>\n",
              "      <td>9.530000</td>\n",
              "      <td>5.480000</td>\n",
              "      <td>8.750000</td>\n",
              "      <td>9.300000</td>\n",
              "      <td>7.540000</td>\n",
              "      <td>9.160000</td>\n",
              "      <td>6.740000</td>\n",
              "    </tr>\n",
              "    <tr>\n",
              "      <th>1</th>\n",
              "      <td>01D6177B5D4FFE0CABA9EF17DAFC2B84</td>\n",
              "      <td>1</td>\n",
              "      <td>0.0</td>\n",
              "      <td>0.00</td>\n",
              "      <td>0.00</td>\n",
              "      <td>0.00</td>\n",
              "      <td>0.00</td>\n",
              "      <td>0.00</td>\n",
              "      <td>0.00</td>\n",
              "      <td>0.00</td>\n",
              "      <td>0.00</td>\n",
              "      <td>0.00</td>\n",
              "      <td>0.00</td>\n",
              "      <td>0.00</td>\n",
              "      <td>0.00</td>\n",
              "      <td>0.00</td>\n",
              "      <td>0.00</td>\n",
              "      <td>0.00</td>\n",
              "      <td>0.00</td>\n",
              "      <td>0.00</td>\n",
              "      <td>0.00</td>\n",
              "      <td>0.00</td>\n",
              "      <td>0.00</td>\n",
              "      <td>0.00</td>\n",
              "      <td>0.00</td>\n",
              "      <td>0.00</td>\n",
              "      <td>0.00</td>\n",
              "      <td>0.00</td>\n",
              "      <td>0.00</td>\n",
              "      <td>0.00</td>\n",
              "      <td>0.00</td>\n",
              "      <td>0.00</td>\n",
              "      <td>0.00</td>\n",
              "      <td>0.00</td>\n",
              "      <td>0.00</td>\n",
              "      <td>0.0</td>\n",
              "      <td>0.00</td>\n",
              "      <td>0.00</td>\n",
              "      <td>0.0</td>\n",
              "      <td>0.00</td>\n",
              "      <td>...</td>\n",
              "      <td>0.00</td>\n",
              "      <td>0.00</td>\n",
              "      <td>0.00</td>\n",
              "      <td>0.00</td>\n",
              "      <td>0.00</td>\n",
              "      <td>0.00</td>\n",
              "      <td>0.00</td>\n",
              "      <td>0.00</td>\n",
              "      <td>0.00</td>\n",
              "      <td>0.00</td>\n",
              "      <td>0.00</td>\n",
              "      <td>0.00</td>\n",
              "      <td>0.00</td>\n",
              "      <td>0.00</td>\n",
              "      <td>0.00</td>\n",
              "      <td>0.00</td>\n",
              "      <td>0.000000</td>\n",
              "      <td>0.000000</td>\n",
              "      <td>0.000000</td>\n",
              "      <td>0.000000</td>\n",
              "      <td>0.00</td>\n",
              "      <td>0.000000</td>\n",
              "      <td>0.000000</td>\n",
              "      <td>0.000000</td>\n",
              "      <td>0.000000</td>\n",
              "      <td>0.000000</td>\n",
              "      <td>0.000000</td>\n",
              "      <td>0.000000</td>\n",
              "      <td>0.000000</td>\n",
              "      <td>0.000000</td>\n",
              "      <td>0.00</td>\n",
              "      <td>0.000000</td>\n",
              "      <td>0.000000</td>\n",
              "      <td>0.000000</td>\n",
              "      <td>0.000000</td>\n",
              "      <td>0.000000</td>\n",
              "      <td>0.000000</td>\n",
              "      <td>0.000000</td>\n",
              "      <td>0.000000</td>\n",
              "      <td>0.000000</td>\n",
              "    </tr>\n",
              "    <tr>\n",
              "      <th>2</th>\n",
              "      <td>4B75AC4F2D8434CFF62DB64D0BB43103</td>\n",
              "      <td>1</td>\n",
              "      <td>0.0</td>\n",
              "      <td>0.00</td>\n",
              "      <td>0.00</td>\n",
              "      <td>0.00</td>\n",
              "      <td>0.00</td>\n",
              "      <td>0.00</td>\n",
              "      <td>0.00</td>\n",
              "      <td>0.00</td>\n",
              "      <td>0.00</td>\n",
              "      <td>0.00</td>\n",
              "      <td>0.00</td>\n",
              "      <td>0.00</td>\n",
              "      <td>0.00</td>\n",
              "      <td>0.00</td>\n",
              "      <td>0.00</td>\n",
              "      <td>0.00</td>\n",
              "      <td>0.00</td>\n",
              "      <td>0.00</td>\n",
              "      <td>0.00</td>\n",
              "      <td>0.00</td>\n",
              "      <td>0.00</td>\n",
              "      <td>0.00</td>\n",
              "      <td>0.00</td>\n",
              "      <td>0.00</td>\n",
              "      <td>0.00</td>\n",
              "      <td>0.00</td>\n",
              "      <td>0.00</td>\n",
              "      <td>0.00</td>\n",
              "      <td>0.00</td>\n",
              "      <td>0.00</td>\n",
              "      <td>0.00</td>\n",
              "      <td>0.00</td>\n",
              "      <td>0.00</td>\n",
              "      <td>0.0</td>\n",
              "      <td>0.00</td>\n",
              "      <td>0.00</td>\n",
              "      <td>0.0</td>\n",
              "      <td>0.00</td>\n",
              "      <td>...</td>\n",
              "      <td>0.00</td>\n",
              "      <td>0.00</td>\n",
              "      <td>0.00</td>\n",
              "      <td>0.00</td>\n",
              "      <td>0.00</td>\n",
              "      <td>0.00</td>\n",
              "      <td>0.00</td>\n",
              "      <td>0.00</td>\n",
              "      <td>0.00</td>\n",
              "      <td>0.00</td>\n",
              "      <td>0.00</td>\n",
              "      <td>0.00</td>\n",
              "      <td>0.00</td>\n",
              "      <td>0.00</td>\n",
              "      <td>0.00</td>\n",
              "      <td>8.34</td>\n",
              "      <td>13.483126</td>\n",
              "      <td>13.483126</td>\n",
              "      <td>13.483126</td>\n",
              "      <td>13.483126</td>\n",
              "      <td>12.73</td>\n",
              "      <td>13.483126</td>\n",
              "      <td>13.483126</td>\n",
              "      <td>13.483126</td>\n",
              "      <td>13.483126</td>\n",
              "      <td>13.483126</td>\n",
              "      <td>13.483126</td>\n",
              "      <td>13.483126</td>\n",
              "      <td>13.483126</td>\n",
              "      <td>13.483126</td>\n",
              "      <td>10.95</td>\n",
              "      <td>13.483126</td>\n",
              "      <td>13.483126</td>\n",
              "      <td>13.483126</td>\n",
              "      <td>13.483126</td>\n",
              "      <td>13.483126</td>\n",
              "      <td>13.483126</td>\n",
              "      <td>13.483126</td>\n",
              "      <td>13.483126</td>\n",
              "      <td>13.483126</td>\n",
              "    </tr>\n",
              "    <tr>\n",
              "      <th>3</th>\n",
              "      <td>B32AC8CC6D5D805AC053557AB05F5343</td>\n",
              "      <td>1</td>\n",
              "      <td>0.0</td>\n",
              "      <td>0.00</td>\n",
              "      <td>0.00</td>\n",
              "      <td>0.00</td>\n",
              "      <td>0.00</td>\n",
              "      <td>0.00</td>\n",
              "      <td>0.00</td>\n",
              "      <td>0.00</td>\n",
              "      <td>0.00</td>\n",
              "      <td>0.00</td>\n",
              "      <td>0.00</td>\n",
              "      <td>0.00</td>\n",
              "      <td>0.00</td>\n",
              "      <td>0.00</td>\n",
              "      <td>0.00</td>\n",
              "      <td>0.00</td>\n",
              "      <td>0.00</td>\n",
              "      <td>0.00</td>\n",
              "      <td>0.00</td>\n",
              "      <td>0.00</td>\n",
              "      <td>0.00</td>\n",
              "      <td>0.00</td>\n",
              "      <td>0.00</td>\n",
              "      <td>0.00</td>\n",
              "      <td>0.00</td>\n",
              "      <td>0.00</td>\n",
              "      <td>0.00</td>\n",
              "      <td>0.00</td>\n",
              "      <td>0.00</td>\n",
              "      <td>0.00</td>\n",
              "      <td>0.00</td>\n",
              "      <td>0.00</td>\n",
              "      <td>0.00</td>\n",
              "      <td>0.0</td>\n",
              "      <td>0.00</td>\n",
              "      <td>0.00</td>\n",
              "      <td>0.0</td>\n",
              "      <td>0.00</td>\n",
              "      <td>...</td>\n",
              "      <td>17.30</td>\n",
              "      <td>16.95</td>\n",
              "      <td>8.25</td>\n",
              "      <td>22.76</td>\n",
              "      <td>14.07</td>\n",
              "      <td>20.70</td>\n",
              "      <td>6.50</td>\n",
              "      <td>9.99</td>\n",
              "      <td>18.59</td>\n",
              "      <td>16.79</td>\n",
              "      <td>26.82</td>\n",
              "      <td>14.70</td>\n",
              "      <td>16.05</td>\n",
              "      <td>24.10</td>\n",
              "      <td>12.64</td>\n",
              "      <td>10.85</td>\n",
              "      <td>11.770000</td>\n",
              "      <td>13.030000</td>\n",
              "      <td>12.260000</td>\n",
              "      <td>15.660000</td>\n",
              "      <td>13.43</td>\n",
              "      <td>15.030000</td>\n",
              "      <td>14.610000</td>\n",
              "      <td>13.970000</td>\n",
              "      <td>15.070000</td>\n",
              "      <td>14.110000</td>\n",
              "      <td>14.770000</td>\n",
              "      <td>11.720000</td>\n",
              "      <td>11.730000</td>\n",
              "      <td>11.980000</td>\n",
              "      <td>12.81</td>\n",
              "      <td>15.120000</td>\n",
              "      <td>17.260000</td>\n",
              "      <td>14.910000</td>\n",
              "      <td>19.590000</td>\n",
              "      <td>20.790000</td>\n",
              "      <td>17.950000</td>\n",
              "      <td>19.260000</td>\n",
              "      <td>14.460000</td>\n",
              "      <td>11.720000</td>\n",
              "    </tr>\n",
              "    <tr>\n",
              "      <th>4</th>\n",
              "      <td>EDFC78B07BA2908B3395C4EB2304665E</td>\n",
              "      <td>1</td>\n",
              "      <td>2.9</td>\n",
              "      <td>5.64</td>\n",
              "      <td>6.99</td>\n",
              "      <td>3.32</td>\n",
              "      <td>3.61</td>\n",
              "      <td>5.35</td>\n",
              "      <td>4.73</td>\n",
              "      <td>3.68</td>\n",
              "      <td>3.53</td>\n",
              "      <td>3.42</td>\n",
              "      <td>3.81</td>\n",
              "      <td>4.58</td>\n",
              "      <td>3.56</td>\n",
              "      <td>4.25</td>\n",
              "      <td>3.86</td>\n",
              "      <td>3.53</td>\n",
              "      <td>3.41</td>\n",
              "      <td>0.85</td>\n",
              "      <td>0.88</td>\n",
              "      <td>3.81</td>\n",
              "      <td>6.51</td>\n",
              "      <td>9.19</td>\n",
              "      <td>7.79</td>\n",
              "      <td>7.02</td>\n",
              "      <td>7.25</td>\n",
              "      <td>6.37</td>\n",
              "      <td>6.43</td>\n",
              "      <td>7.89</td>\n",
              "      <td>7.46</td>\n",
              "      <td>7.95</td>\n",
              "      <td>7.59</td>\n",
              "      <td>4.84</td>\n",
              "      <td>6.06</td>\n",
              "      <td>5.6</td>\n",
              "      <td>6.72</td>\n",
              "      <td>7.29</td>\n",
              "      <td>5.6</td>\n",
              "      <td>6.28</td>\n",
              "      <td>...</td>\n",
              "      <td>9.56</td>\n",
              "      <td>9.48</td>\n",
              "      <td>10.60</td>\n",
              "      <td>10.06</td>\n",
              "      <td>10.79</td>\n",
              "      <td>10.91</td>\n",
              "      <td>17.77</td>\n",
              "      <td>10.37</td>\n",
              "      <td>13.51</td>\n",
              "      <td>14.13</td>\n",
              "      <td>17.44</td>\n",
              "      <td>15.96</td>\n",
              "      <td>12.18</td>\n",
              "      <td>18.54</td>\n",
              "      <td>13.44</td>\n",
              "      <td>11.68</td>\n",
              "      <td>9.150000</td>\n",
              "      <td>9.160000</td>\n",
              "      <td>10.190000</td>\n",
              "      <td>10.310000</td>\n",
              "      <td>8.03</td>\n",
              "      <td>10.080000</td>\n",
              "      <td>10.340000</td>\n",
              "      <td>11.240000</td>\n",
              "      <td>15.140000</td>\n",
              "      <td>14.360000</td>\n",
              "      <td>12.390000</td>\n",
              "      <td>10.360000</td>\n",
              "      <td>9.290000</td>\n",
              "      <td>7.910000</td>\n",
              "      <td>14.21</td>\n",
              "      <td>10.220000</td>\n",
              "      <td>8.470000</td>\n",
              "      <td>6.110000</td>\n",
              "      <td>6.100000</td>\n",
              "      <td>6.730000</td>\n",
              "      <td>7.520000</td>\n",
              "      <td>10.890000</td>\n",
              "      <td>9.860000</td>\n",
              "      <td>8.720000</td>\n",
              "    </tr>\n",
              "  </tbody>\n",
              "</table>\n",
              "<p>5 rows × 1036 columns</p>\n",
              "</div>"
            ],
            "text/plain": [
              "                            CONS_NO  FLAG  ...  2016-10-30  2016-10-31\n",
              "0  0387DD8A07E07FDA6271170F86AD9151     1  ...    9.160000    6.740000\n",
              "1  01D6177B5D4FFE0CABA9EF17DAFC2B84     1  ...    0.000000    0.000000\n",
              "2  4B75AC4F2D8434CFF62DB64D0BB43103     1  ...   13.483126   13.483126\n",
              "3  B32AC8CC6D5D805AC053557AB05F5343     1  ...   14.460000   11.720000\n",
              "4  EDFC78B07BA2908B3395C4EB2304665E     1  ...    9.860000    8.720000\n",
              "\n",
              "[5 rows x 1036 columns]"
            ]
          },
          "metadata": {
            "tags": []
          },
          "execution_count": 256
        }
      ]
    },
    {
      "cell_type": "markdown",
      "metadata": {
        "id": "yBQAZI7ZFIyb",
        "colab_type": "text"
      },
      "source": [
        "\n",
        "## Visualizing Pre-Scaling Distribution"
      ]
    },
    {
      "cell_type": "code",
      "metadata": {
        "id": "lILeVOnxwSzQ",
        "colab_type": "code",
        "colab": {
          "base_uri": "https://localhost:8080/",
          "height": 429
        },
        "outputId": "57d03167-b02a-42c5-8e5d-1102bc47a940"
      },
      "source": [
        "# Confirming the distribution of values is not limited to 0 and 1\n",
        "plt.figure(figsize=(12, 6))\n",
        "distplot(df.iloc[:, 2:].values.ravel(), kde=False, hist_kws=dict(edgecolor='k', linewidth=2))\n",
        "plt.xlabel(\"kWh Values\", fontsize=14)\n",
        "plt.ylabel(\"Frequency\", fontsize=14)\n",
        "plt.title(\"Pre-scaling Distribution of kWhs\", fontsize=18)"
      ],
      "execution_count": 4,
      "outputs": [
        {
          "output_type": "execute_result",
          "data": {
            "text/plain": [
              "Text(0.5, 1.0, 'Pre-scaling Distribution of kWhs')"
            ]
          },
          "metadata": {
            "tags": []
          },
          "execution_count": 4
        },
        {
          "output_type": "display_data",
          "data": {
            "image/png": "[encoded data removed]",
            "text/plain": [
              "<Figure size 864x432 with 1 Axes>"
            ]
          },
          "metadata": {
            "tags": []
          }
        }
      ]
    },
    {
      "cell_type": "code",
      "metadata": {
        "id": "An5Sbj11xzAU",
        "colab_type": "code",
        "colab": {
          "base_uri": "https://localhost:8080/",
          "height": 429
        },
        "outputId": "0029398a-3052-461d-b8f8-92a5bcb67650"
      },
      "source": [
        "# The data is clearly being skewed by outliers. Examining a smaller region\n",
        "# Confirming the distribution of values is not limited to 0 and 1\n",
        "plt.figure(figsize=(12, 6))\n",
        "distplot(df.iloc[:, 2:].values.ravel(), kde=False, hist_kws=dict(edgecolor='k', linewidth=2))\n",
        "plt.xlabel(\"kWh Values\", fontsize=14)\n",
        "plt.ylabel(\"Frequency\", fontsize=14)\n",
        "plt.title(\"Pre-scaling Distribution of kWhs\", fontsize=18)"
      ],
      "execution_count": 5,
      "outputs": [
        {
          "output_type": "execute_result",
          "data": {
            "text/plain": [
              "Text(0.5, 1.0, 'Pre-scaling Distribution of kWhs')"
            ]
          },
          "metadata": {
            "tags": []
          },
          "execution_count": 5
        },
        {
          "output_type": "display_data",
          "data": {
            "image/png": "[encoded data removed]",
            "text/plain": [
              "<Figure size 864x432 with 1 Axes>"
            ]
          },
          "metadata": {
            "tags": []
          }
        }
      ]
    },
    {
      "cell_type": "code",
      "metadata": {
        "id": "2-WM4tkcxAW-",
        "colab_type": "code",
        "colab": {
          "base_uri": "https://localhost:8080/",
          "height": 412
        },
        "outputId": "31cab044-3889-4181-8e8c-847496af4702"
      },
      "source": [
        "plt.figure(figsize=(12, 6))\n",
        "plt.plot(df.iloc[:, 2:].values.ravel())\n",
        "plt.xticks([])\n",
        "plt.xlabel('Arbitrary Axes', fontsize=14)\n",
        "plt.ylabel('kWh Values', fontsize=14)\n",
        "plt.title('Unraveled kWh Values', fontsize=18)"
      ],
      "execution_count": 71,
      "outputs": [
        {
          "output_type": "execute_result",
          "data": {
            "text/plain": [
              "Text(0.5, 1.0, 'Unraveled kWh Values')"
            ]
          },
          "metadata": {
            "tags": []
          },
          "execution_count": 71
        },
        {
          "output_type": "display_data",
          "data": {
            "image/png": "[encoded data removed]",
            "text/plain": [
              "<Figure size 864x432 with 1 Axes>"
            ]
          },
          "metadata": {
            "tags": []
          }
        }
      ]
    },
    {
      "cell_type": "markdown",
      "metadata": {
        "id": "T42yzeS2xAPp",
        "colab_type": "text"
      },
      "source": [
        "Few outliers, but majority of values are contained within the 0 - 250 kWh region."
      ]
    },
    {
      "cell_type": "markdown",
      "metadata": {
        "id": "vnhKCsbmydkn",
        "colab_type": "text"
      },
      "source": [
        "## Standardizing by Consumer"
      ]
    },
    {
      "cell_type": "code",
      "metadata": {
        "id": "iEYEUCYQyiDW",
        "colab_type": "code",
        "colab": {}
      },
      "source": [
        "from sklearn.preprocessing import StandardScaler"
      ],
      "execution_count": 0,
      "outputs": []
    },
    {
      "cell_type": "code",
      "metadata": {
        "id": "8i9nZkoFylzQ",
        "colab_type": "code",
        "colab": {}
      },
      "source": [
        "# Extract the kWhs - copying so that I don't mutate original data\n",
        "kWhs_unscaled = df.iloc[:, 2:].copy()"
      ],
      "execution_count": 0,
      "outputs": []
    },
    {
      "cell_type": "code",
      "metadata": {
        "id": "EDDIZQnbzAF-",
        "colab_type": "code",
        "colab": {
          "base_uri": "https://localhost:8080/",
          "height": 270
        },
        "outputId": "c4b2d83b-a3a8-42db-846a-0979dbf6086e"
      },
      "source": [
        "kWhs_unscaled.head()"
      ],
      "execution_count": 136,
      "outputs": [
        {
          "output_type": "execute_result",
          "data": {
            "text/html": [
              "<div>\n",
              "<style scoped>\n",
              "    .dataframe tbody tr th:only-of-type {\n",
              "        vertical-align: middle;\n",
              "    }\n",
              "\n",
              "    .dataframe tbody tr th {\n",
              "        vertical-align: top;\n",
              "    }\n",
              "\n",
              "    .dataframe thead th {\n",
              "        text-align: right;\n",
              "    }\n",
              "</style>\n",
              "<table border=\"1\" class=\"dataframe\">\n",
              "  <thead>\n",
              "    <tr style=\"text-align: right;\">\n",
              "      <th></th>\n",
              "      <th>2014-01-01</th>\n",
              "      <th>2014-01-02</th>\n",
              "      <th>2014-01-03</th>\n",
              "      <th>2014-01-04</th>\n",
              "      <th>2014-01-05</th>\n",
              "      <th>2014-01-06</th>\n",
              "      <th>2014-01-07</th>\n",
              "      <th>2014-01-08</th>\n",
              "      <th>2014-01-09</th>\n",
              "      <th>2014-01-10</th>\n",
              "      <th>2014-01-11</th>\n",
              "      <th>2014-01-12</th>\n",
              "      <th>2014-01-13</th>\n",
              "      <th>2014-01-14</th>\n",
              "      <th>2014-01-15</th>\n",
              "      <th>2014-01-16</th>\n",
              "      <th>2014-01-17</th>\n",
              "      <th>2014-01-18</th>\n",
              "      <th>2014-01-19</th>\n",
              "      <th>2014-01-20</th>\n",
              "      <th>2014-01-21</th>\n",
              "      <th>2014-01-22</th>\n",
              "      <th>2014-01-23</th>\n",
              "      <th>2014-01-24</th>\n",
              "      <th>2014-01-25</th>\n",
              "      <th>2014-01-26</th>\n",
              "      <th>2014-01-27</th>\n",
              "      <th>2014-01-28</th>\n",
              "      <th>2014-01-29</th>\n",
              "      <th>2014-01-30</th>\n",
              "      <th>2014-01-31</th>\n",
              "      <th>2014-02-01</th>\n",
              "      <th>2014-02-02</th>\n",
              "      <th>2014-02-03</th>\n",
              "      <th>2014-02-04</th>\n",
              "      <th>2014-02-05</th>\n",
              "      <th>2014-02-06</th>\n",
              "      <th>2014-02-07</th>\n",
              "      <th>2014-02-08</th>\n",
              "      <th>2014-02-09</th>\n",
              "      <th>...</th>\n",
              "      <th>2016-09-22</th>\n",
              "      <th>2016-09-23</th>\n",
              "      <th>2016-09-24</th>\n",
              "      <th>2016-09-25</th>\n",
              "      <th>2016-09-26</th>\n",
              "      <th>2016-09-27</th>\n",
              "      <th>2016-09-28</th>\n",
              "      <th>2016-09-29</th>\n",
              "      <th>2016-09-30</th>\n",
              "      <th>2016-10-01</th>\n",
              "      <th>2016-10-02</th>\n",
              "      <th>2016-10-03</th>\n",
              "      <th>2016-10-04</th>\n",
              "      <th>2016-10-05</th>\n",
              "      <th>2016-10-06</th>\n",
              "      <th>2016-10-07</th>\n",
              "      <th>2016-10-08</th>\n",
              "      <th>2016-10-09</th>\n",
              "      <th>2016-10-10</th>\n",
              "      <th>2016-10-11</th>\n",
              "      <th>2016-10-12</th>\n",
              "      <th>2016-10-13</th>\n",
              "      <th>2016-10-14</th>\n",
              "      <th>2016-10-15</th>\n",
              "      <th>2016-10-16</th>\n",
              "      <th>2016-10-17</th>\n",
              "      <th>2016-10-18</th>\n",
              "      <th>2016-10-19</th>\n",
              "      <th>2016-10-20</th>\n",
              "      <th>2016-10-21</th>\n",
              "      <th>2016-10-22</th>\n",
              "      <th>2016-10-23</th>\n",
              "      <th>2016-10-24</th>\n",
              "      <th>2016-10-25</th>\n",
              "      <th>2016-10-26</th>\n",
              "      <th>2016-10-27</th>\n",
              "      <th>2016-10-28</th>\n",
              "      <th>2016-10-29</th>\n",
              "      <th>2016-10-30</th>\n",
              "      <th>2016-10-31</th>\n",
              "    </tr>\n",
              "  </thead>\n",
              "  <tbody>\n",
              "    <tr>\n",
              "      <th>0</th>\n",
              "      <td>0.0</td>\n",
              "      <td>0.00</td>\n",
              "      <td>0.00</td>\n",
              "      <td>0.00</td>\n",
              "      <td>0.00</td>\n",
              "      <td>0.00</td>\n",
              "      <td>0.00</td>\n",
              "      <td>0.00</td>\n",
              "      <td>0.00</td>\n",
              "      <td>0.00</td>\n",
              "      <td>0.00</td>\n",
              "      <td>0.00</td>\n",
              "      <td>0.00</td>\n",
              "      <td>0.00</td>\n",
              "      <td>0.00</td>\n",
              "      <td>0.00</td>\n",
              "      <td>0.00</td>\n",
              "      <td>0.00</td>\n",
              "      <td>0.00</td>\n",
              "      <td>0.00</td>\n",
              "      <td>0.00</td>\n",
              "      <td>0.00</td>\n",
              "      <td>0.00</td>\n",
              "      <td>0.00</td>\n",
              "      <td>0.00</td>\n",
              "      <td>0.00</td>\n",
              "      <td>0.00</td>\n",
              "      <td>0.00</td>\n",
              "      <td>0.00</td>\n",
              "      <td>0.00</td>\n",
              "      <td>0.00</td>\n",
              "      <td>0.00</td>\n",
              "      <td>0.00</td>\n",
              "      <td>0.0</td>\n",
              "      <td>0.00</td>\n",
              "      <td>0.00</td>\n",
              "      <td>0.0</td>\n",
              "      <td>0.00</td>\n",
              "      <td>0.00</td>\n",
              "      <td>0.00</td>\n",
              "      <td>...</td>\n",
              "      <td>8.56</td>\n",
              "      <td>10.48</td>\n",
              "      <td>8.20</td>\n",
              "      <td>12.53</td>\n",
              "      <td>7.90</td>\n",
              "      <td>8.58</td>\n",
              "      <td>10.12</td>\n",
              "      <td>9.96</td>\n",
              "      <td>7.60</td>\n",
              "      <td>18.19</td>\n",
              "      <td>10.93</td>\n",
              "      <td>11.41</td>\n",
              "      <td>19.92</td>\n",
              "      <td>10.70</td>\n",
              "      <td>9.20</td>\n",
              "      <td>6.77</td>\n",
              "      <td>6.760000</td>\n",
              "      <td>6.150000</td>\n",
              "      <td>6.500000</td>\n",
              "      <td>8.080000</td>\n",
              "      <td>7.97</td>\n",
              "      <td>8.810000</td>\n",
              "      <td>7.370000</td>\n",
              "      <td>11.720000</td>\n",
              "      <td>11.020000</td>\n",
              "      <td>8.180000</td>\n",
              "      <td>7.330000</td>\n",
              "      <td>6.710000</td>\n",
              "      <td>8.520000</td>\n",
              "      <td>6.310000</td>\n",
              "      <td>7.18</td>\n",
              "      <td>8.070000</td>\n",
              "      <td>8.090000</td>\n",
              "      <td>9.530000</td>\n",
              "      <td>5.480000</td>\n",
              "      <td>8.750000</td>\n",
              "      <td>9.300000</td>\n",
              "      <td>7.540000</td>\n",
              "      <td>9.160000</td>\n",
              "      <td>6.740000</td>\n",
              "    </tr>\n",
              "    <tr>\n",
              "      <th>1</th>\n",
              "      <td>0.0</td>\n",
              "      <td>0.00</td>\n",
              "      <td>0.00</td>\n",
              "      <td>0.00</td>\n",
              "      <td>0.00</td>\n",
              "      <td>0.00</td>\n",
              "      <td>0.00</td>\n",
              "      <td>0.00</td>\n",
              "      <td>0.00</td>\n",
              "      <td>0.00</td>\n",
              "      <td>0.00</td>\n",
              "      <td>0.00</td>\n",
              "      <td>0.00</td>\n",
              "      <td>0.00</td>\n",
              "      <td>0.00</td>\n",
              "      <td>0.00</td>\n",
              "      <td>0.00</td>\n",
              "      <td>0.00</td>\n",
              "      <td>0.00</td>\n",
              "      <td>0.00</td>\n",
              "      <td>0.00</td>\n",
              "      <td>0.00</td>\n",
              "      <td>0.00</td>\n",
              "      <td>0.00</td>\n",
              "      <td>0.00</td>\n",
              "      <td>0.00</td>\n",
              "      <td>0.00</td>\n",
              "      <td>0.00</td>\n",
              "      <td>0.00</td>\n",
              "      <td>0.00</td>\n",
              "      <td>0.00</td>\n",
              "      <td>0.00</td>\n",
              "      <td>0.00</td>\n",
              "      <td>0.0</td>\n",
              "      <td>0.00</td>\n",
              "      <td>0.00</td>\n",
              "      <td>0.0</td>\n",
              "      <td>0.00</td>\n",
              "      <td>0.00</td>\n",
              "      <td>0.00</td>\n",
              "      <td>...</td>\n",
              "      <td>0.00</td>\n",
              "      <td>0.00</td>\n",
              "      <td>0.00</td>\n",
              "      <td>0.00</td>\n",
              "      <td>0.00</td>\n",
              "      <td>0.00</td>\n",
              "      <td>0.00</td>\n",
              "      <td>0.00</td>\n",
              "      <td>0.00</td>\n",
              "      <td>0.00</td>\n",
              "      <td>0.00</td>\n",
              "      <td>0.00</td>\n",
              "      <td>0.00</td>\n",
              "      <td>0.00</td>\n",
              "      <td>0.00</td>\n",
              "      <td>0.00</td>\n",
              "      <td>0.000000</td>\n",
              "      <td>0.000000</td>\n",
              "      <td>0.000000</td>\n",
              "      <td>0.000000</td>\n",
              "      <td>0.00</td>\n",
              "      <td>0.000000</td>\n",
              "      <td>0.000000</td>\n",
              "      <td>0.000000</td>\n",
              "      <td>0.000000</td>\n",
              "      <td>0.000000</td>\n",
              "      <td>0.000000</td>\n",
              "      <td>0.000000</td>\n",
              "      <td>0.000000</td>\n",
              "      <td>0.000000</td>\n",
              "      <td>0.00</td>\n",
              "      <td>0.000000</td>\n",
              "      <td>0.000000</td>\n",
              "      <td>0.000000</td>\n",
              "      <td>0.000000</td>\n",
              "      <td>0.000000</td>\n",
              "      <td>0.000000</td>\n",
              "      <td>0.000000</td>\n",
              "      <td>0.000000</td>\n",
              "      <td>0.000000</td>\n",
              "    </tr>\n",
              "    <tr>\n",
              "      <th>2</th>\n",
              "      <td>0.0</td>\n",
              "      <td>0.00</td>\n",
              "      <td>0.00</td>\n",
              "      <td>0.00</td>\n",
              "      <td>0.00</td>\n",
              "      <td>0.00</td>\n",
              "      <td>0.00</td>\n",
              "      <td>0.00</td>\n",
              "      <td>0.00</td>\n",
              "      <td>0.00</td>\n",
              "      <td>0.00</td>\n",
              "      <td>0.00</td>\n",
              "      <td>0.00</td>\n",
              "      <td>0.00</td>\n",
              "      <td>0.00</td>\n",
              "      <td>0.00</td>\n",
              "      <td>0.00</td>\n",
              "      <td>0.00</td>\n",
              "      <td>0.00</td>\n",
              "      <td>0.00</td>\n",
              "      <td>0.00</td>\n",
              "      <td>0.00</td>\n",
              "      <td>0.00</td>\n",
              "      <td>0.00</td>\n",
              "      <td>0.00</td>\n",
              "      <td>0.00</td>\n",
              "      <td>0.00</td>\n",
              "      <td>0.00</td>\n",
              "      <td>0.00</td>\n",
              "      <td>0.00</td>\n",
              "      <td>0.00</td>\n",
              "      <td>0.00</td>\n",
              "      <td>0.00</td>\n",
              "      <td>0.0</td>\n",
              "      <td>0.00</td>\n",
              "      <td>0.00</td>\n",
              "      <td>0.0</td>\n",
              "      <td>0.00</td>\n",
              "      <td>0.00</td>\n",
              "      <td>0.00</td>\n",
              "      <td>...</td>\n",
              "      <td>0.00</td>\n",
              "      <td>0.00</td>\n",
              "      <td>0.00</td>\n",
              "      <td>0.00</td>\n",
              "      <td>0.00</td>\n",
              "      <td>0.00</td>\n",
              "      <td>0.00</td>\n",
              "      <td>0.00</td>\n",
              "      <td>0.00</td>\n",
              "      <td>0.00</td>\n",
              "      <td>0.00</td>\n",
              "      <td>0.00</td>\n",
              "      <td>0.00</td>\n",
              "      <td>0.00</td>\n",
              "      <td>0.00</td>\n",
              "      <td>8.34</td>\n",
              "      <td>13.483126</td>\n",
              "      <td>13.483126</td>\n",
              "      <td>13.483126</td>\n",
              "      <td>13.483126</td>\n",
              "      <td>12.73</td>\n",
              "      <td>13.483126</td>\n",
              "      <td>13.483126</td>\n",
              "      <td>13.483126</td>\n",
              "      <td>13.483126</td>\n",
              "      <td>13.483126</td>\n",
              "      <td>13.483126</td>\n",
              "      <td>13.483126</td>\n",
              "      <td>13.483126</td>\n",
              "      <td>13.483126</td>\n",
              "      <td>10.95</td>\n",
              "      <td>13.483126</td>\n",
              "      <td>13.483126</td>\n",
              "      <td>13.483126</td>\n",
              "      <td>13.483126</td>\n",
              "      <td>13.483126</td>\n",
              "      <td>13.483126</td>\n",
              "      <td>13.483126</td>\n",
              "      <td>13.483126</td>\n",
              "      <td>13.483126</td>\n",
              "    </tr>\n",
              "    <tr>\n",
              "      <th>3</th>\n",
              "      <td>0.0</td>\n",
              "      <td>0.00</td>\n",
              "      <td>0.00</td>\n",
              "      <td>0.00</td>\n",
              "      <td>0.00</td>\n",
              "      <td>0.00</td>\n",
              "      <td>0.00</td>\n",
              "      <td>0.00</td>\n",
              "      <td>0.00</td>\n",
              "      <td>0.00</td>\n",
              "      <td>0.00</td>\n",
              "      <td>0.00</td>\n",
              "      <td>0.00</td>\n",
              "      <td>0.00</td>\n",
              "      <td>0.00</td>\n",
              "      <td>0.00</td>\n",
              "      <td>0.00</td>\n",
              "      <td>0.00</td>\n",
              "      <td>0.00</td>\n",
              "      <td>0.00</td>\n",
              "      <td>0.00</td>\n",
              "      <td>0.00</td>\n",
              "      <td>0.00</td>\n",
              "      <td>0.00</td>\n",
              "      <td>0.00</td>\n",
              "      <td>0.00</td>\n",
              "      <td>0.00</td>\n",
              "      <td>0.00</td>\n",
              "      <td>0.00</td>\n",
              "      <td>0.00</td>\n",
              "      <td>0.00</td>\n",
              "      <td>0.00</td>\n",
              "      <td>0.00</td>\n",
              "      <td>0.0</td>\n",
              "      <td>0.00</td>\n",
              "      <td>0.00</td>\n",
              "      <td>0.0</td>\n",
              "      <td>0.00</td>\n",
              "      <td>0.00</td>\n",
              "      <td>0.00</td>\n",
              "      <td>...</td>\n",
              "      <td>17.30</td>\n",
              "      <td>16.95</td>\n",
              "      <td>8.25</td>\n",
              "      <td>22.76</td>\n",
              "      <td>14.07</td>\n",
              "      <td>20.70</td>\n",
              "      <td>6.50</td>\n",
              "      <td>9.99</td>\n",
              "      <td>18.59</td>\n",
              "      <td>16.79</td>\n",
              "      <td>26.82</td>\n",
              "      <td>14.70</td>\n",
              "      <td>16.05</td>\n",
              "      <td>24.10</td>\n",
              "      <td>12.64</td>\n",
              "      <td>10.85</td>\n",
              "      <td>11.770000</td>\n",
              "      <td>13.030000</td>\n",
              "      <td>12.260000</td>\n",
              "      <td>15.660000</td>\n",
              "      <td>13.43</td>\n",
              "      <td>15.030000</td>\n",
              "      <td>14.610000</td>\n",
              "      <td>13.970000</td>\n",
              "      <td>15.070000</td>\n",
              "      <td>14.110000</td>\n",
              "      <td>14.770000</td>\n",
              "      <td>11.720000</td>\n",
              "      <td>11.730000</td>\n",
              "      <td>11.980000</td>\n",
              "      <td>12.81</td>\n",
              "      <td>15.120000</td>\n",
              "      <td>17.260000</td>\n",
              "      <td>14.910000</td>\n",
              "      <td>19.590000</td>\n",
              "      <td>20.790000</td>\n",
              "      <td>17.950000</td>\n",
              "      <td>19.260000</td>\n",
              "      <td>14.460000</td>\n",
              "      <td>11.720000</td>\n",
              "    </tr>\n",
              "    <tr>\n",
              "      <th>4</th>\n",
              "      <td>2.9</td>\n",
              "      <td>5.64</td>\n",
              "      <td>6.99</td>\n",
              "      <td>3.32</td>\n",
              "      <td>3.61</td>\n",
              "      <td>5.35</td>\n",
              "      <td>4.73</td>\n",
              "      <td>3.68</td>\n",
              "      <td>3.53</td>\n",
              "      <td>3.42</td>\n",
              "      <td>3.81</td>\n",
              "      <td>4.58</td>\n",
              "      <td>3.56</td>\n",
              "      <td>4.25</td>\n",
              "      <td>3.86</td>\n",
              "      <td>3.53</td>\n",
              "      <td>3.41</td>\n",
              "      <td>0.85</td>\n",
              "      <td>0.88</td>\n",
              "      <td>3.81</td>\n",
              "      <td>6.51</td>\n",
              "      <td>9.19</td>\n",
              "      <td>7.79</td>\n",
              "      <td>7.02</td>\n",
              "      <td>7.25</td>\n",
              "      <td>6.37</td>\n",
              "      <td>6.43</td>\n",
              "      <td>7.89</td>\n",
              "      <td>7.46</td>\n",
              "      <td>7.95</td>\n",
              "      <td>7.59</td>\n",
              "      <td>4.84</td>\n",
              "      <td>6.06</td>\n",
              "      <td>5.6</td>\n",
              "      <td>6.72</td>\n",
              "      <td>7.29</td>\n",
              "      <td>5.6</td>\n",
              "      <td>6.28</td>\n",
              "      <td>6.73</td>\n",
              "      <td>6.97</td>\n",
              "      <td>...</td>\n",
              "      <td>9.56</td>\n",
              "      <td>9.48</td>\n",
              "      <td>10.60</td>\n",
              "      <td>10.06</td>\n",
              "      <td>10.79</td>\n",
              "      <td>10.91</td>\n",
              "      <td>17.77</td>\n",
              "      <td>10.37</td>\n",
              "      <td>13.51</td>\n",
              "      <td>14.13</td>\n",
              "      <td>17.44</td>\n",
              "      <td>15.96</td>\n",
              "      <td>12.18</td>\n",
              "      <td>18.54</td>\n",
              "      <td>13.44</td>\n",
              "      <td>11.68</td>\n",
              "      <td>9.150000</td>\n",
              "      <td>9.160000</td>\n",
              "      <td>10.190000</td>\n",
              "      <td>10.310000</td>\n",
              "      <td>8.03</td>\n",
              "      <td>10.080000</td>\n",
              "      <td>10.340000</td>\n",
              "      <td>11.240000</td>\n",
              "      <td>15.140000</td>\n",
              "      <td>14.360000</td>\n",
              "      <td>12.390000</td>\n",
              "      <td>10.360000</td>\n",
              "      <td>9.290000</td>\n",
              "      <td>7.910000</td>\n",
              "      <td>14.21</td>\n",
              "      <td>10.220000</td>\n",
              "      <td>8.470000</td>\n",
              "      <td>6.110000</td>\n",
              "      <td>6.100000</td>\n",
              "      <td>6.730000</td>\n",
              "      <td>7.520000</td>\n",
              "      <td>10.890000</td>\n",
              "      <td>9.860000</td>\n",
              "      <td>8.720000</td>\n",
              "    </tr>\n",
              "  </tbody>\n",
              "</table>\n",
              "<p>5 rows × 1034 columns</p>\n",
              "</div>"
            ],
            "text/plain": [
              "   2014-01-01  2014-01-02  2014-01-03  ...  2016-10-29  2016-10-30  2016-10-31\n",
              "0         0.0        0.00        0.00  ...    7.540000    9.160000    6.740000\n",
              "1         0.0        0.00        0.00  ...    0.000000    0.000000    0.000000\n",
              "2         0.0        0.00        0.00  ...   13.483126   13.483126   13.483126\n",
              "3         0.0        0.00        0.00  ...   19.260000   14.460000   11.720000\n",
              "4         2.9        5.64        6.99  ...   10.890000    9.860000    8.720000\n",
              "\n",
              "[5 rows x 1034 columns]"
            ]
          },
          "metadata": {
            "tags": []
          },
          "execution_count": 136
        }
      ]
    },
    {
      "cell_type": "code",
      "metadata": {
        "id": "AP-AvEZ4zDEK",
        "colab_type": "code",
        "colab": {}
      },
      "source": [
        "# Instantiate a StandardScaler\n",
        "standardScaler = StandardScaler()"
      ],
      "execution_count": 0,
      "outputs": []
    },
    {
      "cell_type": "code",
      "metadata": {
        "id": "JHyArljnzJqV",
        "colab_type": "code",
        "colab": {}
      },
      "source": [
        "# Fit the standard scaler ton a consumer basis by transposing the kWhs\n",
        "kWhs_scaled = standardScaler.fit_transform(kWhs_unscaled.transpose()).transpose()"
      ],
      "execution_count": 0,
      "outputs": []
    },
    {
      "cell_type": "code",
      "metadata": {
        "id": "A_-7LqaGzbKA",
        "colab_type": "code",
        "colab": {
          "base_uri": "https://localhost:8080/",
          "height": 34
        },
        "outputId": "0e8e9d52-936e-40b6-b7cf-0499dd1cb257"
      },
      "source": [
        "# Confirming shape is as expected\n",
        "kWhs_scaled.shape"
      ],
      "execution_count": 261,
      "outputs": [
        {
          "output_type": "execute_result",
          "data": {
            "text/plain": [
              "(42372, 1034)"
            ]
          },
          "metadata": {
            "tags": []
          },
          "execution_count": 261
        }
      ]
    },
    {
      "cell_type": "code",
      "metadata": {
        "id": "dt0-BCrkzeJb",
        "colab_type": "code",
        "colab": {}
      },
      "source": [
        "# Making a new dataframe\n",
        "df_std_scaled = df.copy()"
      ],
      "execution_count": 0,
      "outputs": []
    },
    {
      "cell_type": "code",
      "metadata": {
        "id": "VacVLdt3zste",
        "colab_type": "code",
        "colab": {}
      },
      "source": [
        "# Replacing kWhs with scaled version\n",
        "df_std_scaled.iloc[:, 2:] = kWhs_scaled"
      ],
      "execution_count": 0,
      "outputs": []
    },
    {
      "cell_type": "code",
      "metadata": {
        "id": "TueuZ4MIzxJH",
        "colab_type": "code",
        "colab": {
          "base_uri": "https://localhost:8080/",
          "height": 34
        },
        "outputId": "db7dbaac-6246-4db5-835e-ae6f2ae5512a"
      },
      "source": [
        "# Confirming shape is as expected\n",
        "df_std_scaled.shape"
      ],
      "execution_count": 264,
      "outputs": [
        {
          "output_type": "execute_result",
          "data": {
            "text/plain": [
              "(42372, 1036)"
            ]
          },
          "metadata": {
            "tags": []
          },
          "execution_count": 264
        }
      ]
    },
    {
      "cell_type": "markdown",
      "metadata": {
        "id": "pvWaD05TFPNk",
        "colab_type": "text"
      },
      "source": [
        "## Visualizing Post-Scaling Distribution"
      ]
    },
    {
      "cell_type": "code",
      "metadata": {
        "id": "rZbX48nbz1Ir",
        "colab_type": "code",
        "colab": {
          "base_uri": "https://localhost:8080/",
          "height": 398
        },
        "outputId": "fbfecea8-71b7-46bf-b4cb-33e92c0d2cc1"
      },
      "source": [
        "# Checking distribution of kWhs after scaling\n",
        "plt.figure(figsize=(12, 6))\n",
        "plt.plot(kWhs_scaled.ravel())\n",
        "plt.xticks([])\n",
        "plt.ylabel(\"kWhs\", fontsize=14)\n",
        "plt.title(\"Feature Values after Standard Scaler\", fontsize=18)"
      ],
      "execution_count": 81,
      "outputs": [
        {
          "output_type": "execute_result",
          "data": {
            "text/plain": [
              "Text(0.5, 1.0, 'Feature Values after Standard Scaler')"
            ]
          },
          "metadata": {
            "tags": []
          },
          "execution_count": 81
        },
        {
          "output_type": "display_data",
          "data": {
            "image/png": "[encoded data removed]",
            "text/plain": [
              "<Figure size 864x432 with 1 Axes>"
            ]
          },
          "metadata": {
            "tags": []
          }
        }
      ]
    },
    {
      "cell_type": "code",
      "metadata": {
        "id": "hKjohpEp00Bm",
        "colab_type": "code",
        "colab": {
          "base_uri": "https://localhost:8080/",
          "height": 450
        },
        "outputId": "72567e1f-4527-4f22-fddb-41aa0ab6a03d"
      },
      "source": [
        "plt.figure(figsize=(12, 6))\n",
        "distplot(kWhs_scaled.ravel(), kde=False, hist_kws=dict(edgecolor='k', linewidth=2))\n",
        "plt.xlabel('Scaled kWh Values', fontsize=14)\n",
        "plt.ylabel('Frequency', fontsize=14)\n",
        "plt.title(\"Distribution of kWh Values\\nAfter Standard Scaler\", fontsize=18)"
      ],
      "execution_count": 265,
      "outputs": [
        {
          "output_type": "execute_result",
          "data": {
            "text/plain": [
              "Text(0.5, 1.0, 'Distribution of kWh Values\\nAfter Standard Scaler')"
            ]
          },
          "metadata": {
            "tags": []
          },
          "execution_count": 265
        },
        {
          "output_type": "display_data",
          "data": {
            "image/png": "[encoded data removed]",
            "text/plain": [
              "<Figure size 864x432 with 1 Axes>"
            ]
          },
          "metadata": {
            "tags": []
          }
        }
      ]
    },
    {
      "cell_type": "code",
      "metadata": {
        "id": "sPjCMnza1517",
        "colab_type": "code",
        "colab": {}
      },
      "source": [
        "# Comparing a random consumer before and after scaling\n",
        "CONS_INDEX = 1234\n",
        "scaled_kWhs = df_std_scaled.iloc[CONS_INDEX, 2:]\n",
        "original_kWhs = df.iloc[CONS_INDEX, 2:]\n",
        "\n",
        "assert len(scaled_kWhs) == len(original_kWhs)"
      ],
      "execution_count": 0,
      "outputs": []
    },
    {
      "cell_type": "code",
      "metadata": {
        "id": "EqNDTjbZ2Vib",
        "colab_type": "code",
        "colab": {
          "base_uri": "https://localhost:8080/",
          "height": 442
        },
        "outputId": "f599adc4-e1d8-4e50-8a07-3f99afb8a8b0"
      },
      "source": [
        "plt.figure(figsize=(12, 6))\n",
        "dates = pd.DatetimeIndex(df.columns[2:])\n",
        "mean_threshold = np.ones((len(original_kWhs), 1)) * original_kWhs.mean()\n",
        "std_threshold = np.ones((len(original_kWhs), 1)) * original_kWhs.std()\n",
        "plt.plot(dates, original_kWhs, label='Scaled kWhs')\n",
        "plt.plot(dates, mean_threshold, 'k', label='Mean Value')\n",
        "plt.plot(dates, mean_threshold + std_threshold, 'k--', label='Mean + Std')\n",
        "plt.plot(dates, mean_threshold - std_threshold, 'k:', label='Mean - Std')\n",
        "plt.xlabel(\"Date\", fontsize=14)\n",
        "plt.ylabel(\"kWh\", fontsize=14) \n",
        "plt.title(f\"Scaled kWh Values\\nConsumer {CONS_INDEX} ending in: {df.iloc[CONS_INDEX, 0][-5:-1]}\")\n",
        "plt.legend()"
      ],
      "execution_count": 97,
      "outputs": [
        {
          "output_type": "execute_result",
          "data": {
            "text/plain": [
              "<matplotlib.legend.Legend at 0x7f4c4bbbc160>"
            ]
          },
          "metadata": {
            "tags": []
          },
          "execution_count": 97
        },
        {
          "output_type": "display_data",
          "data": {
            "image/png": "[encoded data removed]",
            "text/plain": [
              "<Figure size 864x432 with 1 Axes>"
            ]
          },
          "metadata": {
            "tags": []
          }
        }
      ]
    },
    {
      "cell_type": "code",
      "metadata": {
        "id": "dsvyHwckEFmQ",
        "colab_type": "code",
        "colab": {
          "base_uri": "https://localhost:8080/",
          "height": 442
        },
        "outputId": "4ca683d8-5037-4b22-b4b7-0a7fd3f05cf7"
      },
      "source": [
        "# Plotting the original data for this consumer\n",
        "plt.figure(figsize=(12, 6))\n",
        "dates = pd.DatetimeIndex(df.columns[2:])\n",
        "mean_threshold = np.ones((len(scaled_kWhs), 1)) * scaled_kWhs.mean()\n",
        "std_threshold = np.ones((len(scaled_kWhs), 1)) * scaled_kWhs.std()\n",
        "plt.plot(dates, scaled_kWhs, label='Scaled kWhs')\n",
        "plt.plot(dates, mean_threshold, 'k', label='Mean Value')\n",
        "plt.plot(dates, mean_threshold + std_threshold, 'k--', label='Mean + Std')\n",
        "plt.plot(dates, mean_threshold - std_threshold, 'k:', label='Mean - Std')\n",
        "plt.xlabel(\"Date\", fontsize=14)\n",
        "plt.ylabel(\"kWh\", fontsize=14) \n",
        "plt.title(f\"Unscaled kWh Values\\nConsumer {CONS_INDEX} ending in: {df.iloc[CONS_INDEX, 0][-5:-1]}\")\n",
        "plt.legend()"
      ],
      "execution_count": 99,
      "outputs": [
        {
          "output_type": "execute_result",
          "data": {
            "text/plain": [
              "<matplotlib.legend.Legend at 0x7f4c4c389fd0>"
            ]
          },
          "metadata": {
            "tags": []
          },
          "execution_count": 99
        },
        {
          "output_type": "display_data",
          "data": {
            "image/png": "[encoded data removed]",
            "text/plain": [
              "<Figure size 864x432 with 1 Axes>"
            ]
          },
          "metadata": {
            "tags": []
          }
        }
      ]
    },
    {
      "cell_type": "markdown",
      "metadata": {
        "id": "EE154g0b4qNx",
        "colab_type": "text"
      },
      "source": [
        "## Train-Test Split"
      ]
    },
    {
      "cell_type": "code",
      "metadata": {
        "id": "7XP_CfCU5EB3",
        "colab_type": "code",
        "colab": {}
      },
      "source": [
        "# Extracting features and labels\n",
        "X = df_std_scaled.iloc[:, 2:]\n",
        "y = df_std_scaled.iloc[:, 1]"
      ],
      "execution_count": 0,
      "outputs": []
    },
    {
      "cell_type": "code",
      "metadata": {
        "id": "fHvysJmT5jjP",
        "colab_type": "code",
        "colab": {
          "base_uri": "https://localhost:8080/",
          "height": 51
        },
        "outputId": "84d58281-25b6-4e3c-bde9-4c05a7849767"
      },
      "source": [
        "# Confirming shapes\n",
        "print(\"Shape of features matrix: \", X.shape)\n",
        "print(\"Shape of labels matrix: \", y.shape)"
      ],
      "execution_count": 269,
      "outputs": [
        {
          "output_type": "stream",
          "text": [
            "Shape of features matrix:  (42372, 1034)\n",
            "Shape of labels matrix:  (42372,)\n"
          ],
          "name": "stdout"
        }
      ]
    },
    {
      "cell_type": "code",
      "metadata": {
        "id": "aKJPrqXG5kjk",
        "colab_type": "code",
        "colab": {}
      },
      "source": [
        "# Stratified random sampling of training and test data\n",
        "X_train, X_test, y_train, y_test = train_test_split(X, y, \n",
        "                                                    test_size=0.2, \n",
        "                                                    random_state=0, \n",
        "                                                    stratify=y)"
      ],
      "execution_count": 0,
      "outputs": []
    },
    {
      "cell_type": "markdown",
      "metadata": {
        "id": "8D9K6TXTFrHk",
        "colab_type": "text"
      },
      "source": [
        "## Cross-Validating Model"
      ]
    },
    {
      "cell_type": "code",
      "metadata": {
        "id": "DAQjq_F66bYw",
        "colab_type": "code",
        "colab": {}
      },
      "source": [
        "# Cross Validating on Training Set\n",
        "logRegStd = LogisticRegression(C=1.0, penalty='l2', solver='liblinear', \n",
        "                                     max_iter=500)"
      ],
      "execution_count": 0,
      "outputs": []
    },
    {
      "cell_type": "code",
      "metadata": {
        "id": "av1ILGV261y8",
        "colab_type": "code",
        "colab": {
          "base_uri": "https://localhost:8080/",
          "height": 238
        },
        "outputId": "af45c36b-6f32-4ddd-bfd4-b19514850a50"
      },
      "source": [
        "# First explore cross validation fold scores\n",
        "logRegStdScores = cross_validate(estimator=logRegStd, \n",
        "                                 X=X_train,\n",
        "                                 y=y_train, \n",
        "                                 scoring='neg_log_loss',\n",
        "                                 cv=5, \n",
        "                                 verbose=2)"
      ],
      "execution_count": 148,
      "outputs": [
        {
          "output_type": "stream",
          "text": [
            "[Parallel(n_jobs=1)]: Using backend SequentialBackend with 1 concurrent workers.\n"
          ],
          "name": "stderr"
        },
        {
          "output_type": "stream",
          "text": [
            "[CV]  ................................................................\n",
            "[CV] ................................................. , total=  23.5s\n",
            "[CV]  ................................................................\n"
          ],
          "name": "stdout"
        },
        {
          "output_type": "stream",
          "text": [
            "[Parallel(n_jobs=1)]: Done   1 out of   1 | elapsed:   23.6s remaining:    0.0s\n"
          ],
          "name": "stderr"
        },
        {
          "output_type": "stream",
          "text": [
            "[CV] ................................................. , total=  19.7s\n",
            "[CV]  ................................................................\n",
            "[CV] ................................................. , total=  18.8s\n",
            "[CV]  ................................................................\n",
            "[CV] ................................................. , total=  18.5s\n",
            "[CV]  ................................................................\n",
            "[CV] ................................................. , total=  19.2s\n"
          ],
          "name": "stdout"
        },
        {
          "output_type": "stream",
          "text": [
            "[Parallel(n_jobs=1)]: Done   5 out of   5 | elapsed:  1.7min finished\n"
          ],
          "name": "stderr"
        }
      ]
    },
    {
      "cell_type": "markdown",
      "metadata": {
        "id": "YURZXp93FvQG",
        "colab_type": "text"
      },
      "source": [
        "## Cross Validation Scores"
      ]
    },
    {
      "cell_type": "code",
      "metadata": {
        "id": "UAipJ8vj90i4",
        "colab_type": "code",
        "colab": {
          "base_uri": "https://localhost:8080/",
          "height": 34
        },
        "outputId": "6d4d044f-1b90-49a2-a17f-be41890da157"
      },
      "source": [
        "# Did it have any effect on log loss?\n",
        "logRegStdScores['test_score']"
      ],
      "execution_count": 149,
      "outputs": [
        {
          "output_type": "execute_result",
          "data": {
            "text/plain": [
              "array([-0.27357219, -0.28106377, -0.28511293, -0.2904709 , -0.28348817])"
            ]
          },
          "metadata": {
            "tags": []
          },
          "execution_count": 149
        }
      ]
    },
    {
      "cell_type": "markdown",
      "metadata": {
        "id": "dWcpxli_-RNP",
        "colab_type": "text"
      },
      "source": [
        "# `MinMax` Scaling"
      ]
    },
    {
      "cell_type": "markdown",
      "metadata": {
        "id": "mdOGpR1JFePQ",
        "colab_type": "text"
      },
      "source": [
        "## Importing Data"
      ]
    },
    {
      "cell_type": "code",
      "metadata": {
        "id": "IpxWs3Cm-xbQ",
        "colab_type": "code",
        "colab": {}
      },
      "source": [
        "filepath = '/content/drive/My Drive/EE 16-17 FYP DL Energy Theft Detection/Data/full-processing-data/final-scaled-data.csv'"
      ],
      "execution_count": 0,
      "outputs": []
    },
    {
      "cell_type": "code",
      "metadata": {
        "id": "aFypZmrn-7ZY",
        "colab_type": "code",
        "colab": {}
      },
      "source": [
        "df_minmax = pd.read_csv(filepath)"
      ],
      "execution_count": 0,
      "outputs": []
    },
    {
      "cell_type": "code",
      "metadata": {
        "id": "C10qzNFY--Ye",
        "colab_type": "code",
        "colab": {
          "base_uri": "https://localhost:8080/",
          "height": 270
        },
        "outputId": "675d0b0e-2d68-4055-b5a8-e3a860d8e9b4"
      },
      "source": [
        "df_minmax.head()"
      ],
      "execution_count": 179,
      "outputs": [
        {
          "output_type": "execute_result",
          "data": {
            "text/html": [
              "<div>\n",
              "<style scoped>\n",
              "    .dataframe tbody tr th:only-of-type {\n",
              "        vertical-align: middle;\n",
              "    }\n",
              "\n",
              "    .dataframe tbody tr th {\n",
              "        vertical-align: top;\n",
              "    }\n",
              "\n",
              "    .dataframe thead th {\n",
              "        text-align: right;\n",
              "    }\n",
              "</style>\n",
              "<table border=\"1\" class=\"dataframe\">\n",
              "  <thead>\n",
              "    <tr style=\"text-align: right;\">\n",
              "      <th></th>\n",
              "      <th>CONS_NO</th>\n",
              "      <th>FLAG</th>\n",
              "      <th>2014-01-01</th>\n",
              "      <th>2014-01-02</th>\n",
              "      <th>2014-01-03</th>\n",
              "      <th>2014-01-04</th>\n",
              "      <th>2014-01-05</th>\n",
              "      <th>2014-01-06</th>\n",
              "      <th>2014-01-07</th>\n",
              "      <th>2014-01-08</th>\n",
              "      <th>2014-01-09</th>\n",
              "      <th>2014-01-10</th>\n",
              "      <th>2014-01-11</th>\n",
              "      <th>2014-01-12</th>\n",
              "      <th>2014-01-13</th>\n",
              "      <th>2014-01-14</th>\n",
              "      <th>2014-01-15</th>\n",
              "      <th>2014-01-16</th>\n",
              "      <th>2014-01-17</th>\n",
              "      <th>2014-01-18</th>\n",
              "      <th>2014-01-19</th>\n",
              "      <th>2014-01-20</th>\n",
              "      <th>2014-01-21</th>\n",
              "      <th>2014-01-22</th>\n",
              "      <th>2014-01-23</th>\n",
              "      <th>2014-01-24</th>\n",
              "      <th>2014-01-25</th>\n",
              "      <th>2014-01-26</th>\n",
              "      <th>2014-01-27</th>\n",
              "      <th>2014-01-28</th>\n",
              "      <th>2014-01-29</th>\n",
              "      <th>2014-01-30</th>\n",
              "      <th>2014-01-31</th>\n",
              "      <th>2014-02-01</th>\n",
              "      <th>2014-02-02</th>\n",
              "      <th>2014-02-03</th>\n",
              "      <th>2014-02-04</th>\n",
              "      <th>2014-02-05</th>\n",
              "      <th>2014-02-06</th>\n",
              "      <th>2014-02-07</th>\n",
              "      <th>...</th>\n",
              "      <th>2016-09-22</th>\n",
              "      <th>2016-09-23</th>\n",
              "      <th>2016-09-24</th>\n",
              "      <th>2016-09-25</th>\n",
              "      <th>2016-09-26</th>\n",
              "      <th>2016-09-27</th>\n",
              "      <th>2016-09-28</th>\n",
              "      <th>2016-09-29</th>\n",
              "      <th>2016-09-30</th>\n",
              "      <th>2016-10-01</th>\n",
              "      <th>2016-10-02</th>\n",
              "      <th>2016-10-03</th>\n",
              "      <th>2016-10-04</th>\n",
              "      <th>2016-10-05</th>\n",
              "      <th>2016-10-06</th>\n",
              "      <th>2016-10-07</th>\n",
              "      <th>2016-10-08</th>\n",
              "      <th>2016-10-09</th>\n",
              "      <th>2016-10-10</th>\n",
              "      <th>2016-10-11</th>\n",
              "      <th>2016-10-12</th>\n",
              "      <th>2016-10-13</th>\n",
              "      <th>2016-10-14</th>\n",
              "      <th>2016-10-15</th>\n",
              "      <th>2016-10-16</th>\n",
              "      <th>2016-10-17</th>\n",
              "      <th>2016-10-18</th>\n",
              "      <th>2016-10-19</th>\n",
              "      <th>2016-10-20</th>\n",
              "      <th>2016-10-21</th>\n",
              "      <th>2016-10-22</th>\n",
              "      <th>2016-10-23</th>\n",
              "      <th>2016-10-24</th>\n",
              "      <th>2016-10-25</th>\n",
              "      <th>2016-10-26</th>\n",
              "      <th>2016-10-27</th>\n",
              "      <th>2016-10-28</th>\n",
              "      <th>2016-10-29</th>\n",
              "      <th>2016-10-30</th>\n",
              "      <th>2016-10-31</th>\n",
              "    </tr>\n",
              "  </thead>\n",
              "  <tbody>\n",
              "    <tr>\n",
              "      <th>0</th>\n",
              "      <td>0387DD8A07E07FDA6271170F86AD9151</td>\n",
              "      <td>1</td>\n",
              "      <td>0.000000</td>\n",
              "      <td>0.000000</td>\n",
              "      <td>0.000000</td>\n",
              "      <td>0.000000</td>\n",
              "      <td>0.000000</td>\n",
              "      <td>0.000000</td>\n",
              "      <td>0.000000</td>\n",
              "      <td>0.000000</td>\n",
              "      <td>0.000000</td>\n",
              "      <td>0.00000</td>\n",
              "      <td>0.000000</td>\n",
              "      <td>0.000000</td>\n",
              "      <td>0.000000</td>\n",
              "      <td>0.000000</td>\n",
              "      <td>0.000000</td>\n",
              "      <td>0.000000</td>\n",
              "      <td>0.000000</td>\n",
              "      <td>0.000000</td>\n",
              "      <td>0.000000</td>\n",
              "      <td>0.000000</td>\n",
              "      <td>0.000000</td>\n",
              "      <td>0.000000</td>\n",
              "      <td>0.000000</td>\n",
              "      <td>0.000000</td>\n",
              "      <td>0.000000</td>\n",
              "      <td>0.000000</td>\n",
              "      <td>0.000000</td>\n",
              "      <td>0.000000</td>\n",
              "      <td>0.000000</td>\n",
              "      <td>0.000000</td>\n",
              "      <td>0.000000</td>\n",
              "      <td>0.000000</td>\n",
              "      <td>0.000000</td>\n",
              "      <td>0.000000</td>\n",
              "      <td>0.000000</td>\n",
              "      <td>0.00000</td>\n",
              "      <td>0.000000</td>\n",
              "      <td>0.0000</td>\n",
              "      <td>...</td>\n",
              "      <td>0.315047</td>\n",
              "      <td>0.385712</td>\n",
              "      <td>0.301797</td>\n",
              "      <td>0.461161</td>\n",
              "      <td>0.290756</td>\n",
              "      <td>0.315783</td>\n",
              "      <td>0.372462</td>\n",
              "      <td>0.366573</td>\n",
              "      <td>0.279715</td>\n",
              "      <td>0.669475</td>\n",
              "      <td>0.402274</td>\n",
              "      <td>0.419940</td>\n",
              "      <td>0.733147</td>\n",
              "      <td>0.393809</td>\n",
              "      <td>0.338602</td>\n",
              "      <td>0.249167</td>\n",
              "      <td>0.248799</td>\n",
              "      <td>0.226348</td>\n",
              "      <td>0.239230</td>\n",
              "      <td>0.297381</td>\n",
              "      <td>0.293332</td>\n",
              "      <td>0.324248</td>\n",
              "      <td>0.271249</td>\n",
              "      <td>0.431349</td>\n",
              "      <td>0.405586</td>\n",
              "      <td>0.301061</td>\n",
              "      <td>0.269777</td>\n",
              "      <td>0.246958</td>\n",
              "      <td>0.313575</td>\n",
              "      <td>0.232237</td>\n",
              "      <td>0.264257</td>\n",
              "      <td>0.297013</td>\n",
              "      <td>0.297749</td>\n",
              "      <td>0.350747</td>\n",
              "      <td>0.201689</td>\n",
              "      <td>0.322040</td>\n",
              "      <td>0.342282</td>\n",
              "      <td>0.277506</td>\n",
              "      <td>0.337130</td>\n",
              "      <td>0.248063</td>\n",
              "    </tr>\n",
              "    <tr>\n",
              "      <th>1</th>\n",
              "      <td>01D6177B5D4FFE0CABA9EF17DAFC2B84</td>\n",
              "      <td>1</td>\n",
              "      <td>0.000000</td>\n",
              "      <td>0.000000</td>\n",
              "      <td>0.000000</td>\n",
              "      <td>0.000000</td>\n",
              "      <td>0.000000</td>\n",
              "      <td>0.000000</td>\n",
              "      <td>0.000000</td>\n",
              "      <td>0.000000</td>\n",
              "      <td>0.000000</td>\n",
              "      <td>0.00000</td>\n",
              "      <td>0.000000</td>\n",
              "      <td>0.000000</td>\n",
              "      <td>0.000000</td>\n",
              "      <td>0.000000</td>\n",
              "      <td>0.000000</td>\n",
              "      <td>0.000000</td>\n",
              "      <td>0.000000</td>\n",
              "      <td>0.000000</td>\n",
              "      <td>0.000000</td>\n",
              "      <td>0.000000</td>\n",
              "      <td>0.000000</td>\n",
              "      <td>0.000000</td>\n",
              "      <td>0.000000</td>\n",
              "      <td>0.000000</td>\n",
              "      <td>0.000000</td>\n",
              "      <td>0.000000</td>\n",
              "      <td>0.000000</td>\n",
              "      <td>0.000000</td>\n",
              "      <td>0.000000</td>\n",
              "      <td>0.000000</td>\n",
              "      <td>0.000000</td>\n",
              "      <td>0.000000</td>\n",
              "      <td>0.000000</td>\n",
              "      <td>0.000000</td>\n",
              "      <td>0.000000</td>\n",
              "      <td>0.00000</td>\n",
              "      <td>0.000000</td>\n",
              "      <td>0.0000</td>\n",
              "      <td>...</td>\n",
              "      <td>0.000000</td>\n",
              "      <td>0.000000</td>\n",
              "      <td>0.000000</td>\n",
              "      <td>0.000000</td>\n",
              "      <td>0.000000</td>\n",
              "      <td>0.000000</td>\n",
              "      <td>0.000000</td>\n",
              "      <td>0.000000</td>\n",
              "      <td>0.000000</td>\n",
              "      <td>0.000000</td>\n",
              "      <td>0.000000</td>\n",
              "      <td>0.000000</td>\n",
              "      <td>0.000000</td>\n",
              "      <td>0.000000</td>\n",
              "      <td>0.000000</td>\n",
              "      <td>0.000000</td>\n",
              "      <td>0.000000</td>\n",
              "      <td>0.000000</td>\n",
              "      <td>0.000000</td>\n",
              "      <td>0.000000</td>\n",
              "      <td>0.000000</td>\n",
              "      <td>0.000000</td>\n",
              "      <td>0.000000</td>\n",
              "      <td>0.000000</td>\n",
              "      <td>0.000000</td>\n",
              "      <td>0.000000</td>\n",
              "      <td>0.000000</td>\n",
              "      <td>0.000000</td>\n",
              "      <td>0.000000</td>\n",
              "      <td>0.000000</td>\n",
              "      <td>0.000000</td>\n",
              "      <td>0.000000</td>\n",
              "      <td>0.000000</td>\n",
              "      <td>0.000000</td>\n",
              "      <td>0.000000</td>\n",
              "      <td>0.000000</td>\n",
              "      <td>0.000000</td>\n",
              "      <td>0.000000</td>\n",
              "      <td>0.000000</td>\n",
              "      <td>0.000000</td>\n",
              "    </tr>\n",
              "    <tr>\n",
              "      <th>2</th>\n",
              "      <td>4B75AC4F2D8434CFF62DB64D0BB43103</td>\n",
              "      <td>1</td>\n",
              "      <td>0.000000</td>\n",
              "      <td>0.000000</td>\n",
              "      <td>0.000000</td>\n",
              "      <td>0.000000</td>\n",
              "      <td>0.000000</td>\n",
              "      <td>0.000000</td>\n",
              "      <td>0.000000</td>\n",
              "      <td>0.000000</td>\n",
              "      <td>0.000000</td>\n",
              "      <td>0.00000</td>\n",
              "      <td>0.000000</td>\n",
              "      <td>0.000000</td>\n",
              "      <td>0.000000</td>\n",
              "      <td>0.000000</td>\n",
              "      <td>0.000000</td>\n",
              "      <td>0.000000</td>\n",
              "      <td>0.000000</td>\n",
              "      <td>0.000000</td>\n",
              "      <td>0.000000</td>\n",
              "      <td>0.000000</td>\n",
              "      <td>0.000000</td>\n",
              "      <td>0.000000</td>\n",
              "      <td>0.000000</td>\n",
              "      <td>0.000000</td>\n",
              "      <td>0.000000</td>\n",
              "      <td>0.000000</td>\n",
              "      <td>0.000000</td>\n",
              "      <td>0.000000</td>\n",
              "      <td>0.000000</td>\n",
              "      <td>0.000000</td>\n",
              "      <td>0.000000</td>\n",
              "      <td>0.000000</td>\n",
              "      <td>0.000000</td>\n",
              "      <td>0.000000</td>\n",
              "      <td>0.000000</td>\n",
              "      <td>0.00000</td>\n",
              "      <td>0.000000</td>\n",
              "      <td>0.0000</td>\n",
              "      <td>...</td>\n",
              "      <td>0.000000</td>\n",
              "      <td>0.000000</td>\n",
              "      <td>0.000000</td>\n",
              "      <td>0.000000</td>\n",
              "      <td>0.000000</td>\n",
              "      <td>0.000000</td>\n",
              "      <td>0.000000</td>\n",
              "      <td>0.000000</td>\n",
              "      <td>0.000000</td>\n",
              "      <td>0.000000</td>\n",
              "      <td>0.000000</td>\n",
              "      <td>0.000000</td>\n",
              "      <td>0.000000</td>\n",
              "      <td>0.000000</td>\n",
              "      <td>0.000000</td>\n",
              "      <td>0.618551</td>\n",
              "      <td>1.000000</td>\n",
              "      <td>1.000000</td>\n",
              "      <td>1.000000</td>\n",
              "      <td>1.000000</td>\n",
              "      <td>0.944143</td>\n",
              "      <td>1.000000</td>\n",
              "      <td>1.000000</td>\n",
              "      <td>1.000000</td>\n",
              "      <td>1.000000</td>\n",
              "      <td>1.000000</td>\n",
              "      <td>1.000000</td>\n",
              "      <td>1.000000</td>\n",
              "      <td>1.000000</td>\n",
              "      <td>1.000000</td>\n",
              "      <td>0.812126</td>\n",
              "      <td>1.000000</td>\n",
              "      <td>1.000000</td>\n",
              "      <td>1.000000</td>\n",
              "      <td>1.000000</td>\n",
              "      <td>1.000000</td>\n",
              "      <td>1.000000</td>\n",
              "      <td>1.000000</td>\n",
              "      <td>1.000000</td>\n",
              "      <td>1.000000</td>\n",
              "    </tr>\n",
              "    <tr>\n",
              "      <th>3</th>\n",
              "      <td>B32AC8CC6D5D805AC053557AB05F5343</td>\n",
              "      <td>1</td>\n",
              "      <td>0.000000</td>\n",
              "      <td>0.000000</td>\n",
              "      <td>0.000000</td>\n",
              "      <td>0.000000</td>\n",
              "      <td>0.000000</td>\n",
              "      <td>0.000000</td>\n",
              "      <td>0.000000</td>\n",
              "      <td>0.000000</td>\n",
              "      <td>0.000000</td>\n",
              "      <td>0.00000</td>\n",
              "      <td>0.000000</td>\n",
              "      <td>0.000000</td>\n",
              "      <td>0.000000</td>\n",
              "      <td>0.000000</td>\n",
              "      <td>0.000000</td>\n",
              "      <td>0.000000</td>\n",
              "      <td>0.000000</td>\n",
              "      <td>0.000000</td>\n",
              "      <td>0.000000</td>\n",
              "      <td>0.000000</td>\n",
              "      <td>0.000000</td>\n",
              "      <td>0.000000</td>\n",
              "      <td>0.000000</td>\n",
              "      <td>0.000000</td>\n",
              "      <td>0.000000</td>\n",
              "      <td>0.000000</td>\n",
              "      <td>0.000000</td>\n",
              "      <td>0.000000</td>\n",
              "      <td>0.000000</td>\n",
              "      <td>0.000000</td>\n",
              "      <td>0.000000</td>\n",
              "      <td>0.000000</td>\n",
              "      <td>0.000000</td>\n",
              "      <td>0.000000</td>\n",
              "      <td>0.000000</td>\n",
              "      <td>0.00000</td>\n",
              "      <td>0.000000</td>\n",
              "      <td>0.0000</td>\n",
              "      <td>...</td>\n",
              "      <td>0.619902</td>\n",
              "      <td>0.607360</td>\n",
              "      <td>0.295618</td>\n",
              "      <td>0.815547</td>\n",
              "      <td>0.504163</td>\n",
              "      <td>0.741732</td>\n",
              "      <td>0.232911</td>\n",
              "      <td>0.357966</td>\n",
              "      <td>0.666126</td>\n",
              "      <td>0.601627</td>\n",
              "      <td>0.961027</td>\n",
              "      <td>0.526737</td>\n",
              "      <td>0.575111</td>\n",
              "      <td>0.863563</td>\n",
              "      <td>0.452922</td>\n",
              "      <td>0.388782</td>\n",
              "      <td>0.421748</td>\n",
              "      <td>0.466897</td>\n",
              "      <td>0.439306</td>\n",
              "      <td>0.561137</td>\n",
              "      <td>0.481230</td>\n",
              "      <td>0.538562</td>\n",
              "      <td>0.523512</td>\n",
              "      <td>0.500580</td>\n",
              "      <td>0.539995</td>\n",
              "      <td>0.505596</td>\n",
              "      <td>0.529246</td>\n",
              "      <td>0.419957</td>\n",
              "      <td>0.420315</td>\n",
              "      <td>0.429273</td>\n",
              "      <td>0.459014</td>\n",
              "      <td>0.541787</td>\n",
              "      <td>0.618469</td>\n",
              "      <td>0.534262</td>\n",
              "      <td>0.701958</td>\n",
              "      <td>0.744957</td>\n",
              "      <td>0.643193</td>\n",
              "      <td>0.690133</td>\n",
              "      <td>0.518138</td>\n",
              "      <td>0.419957</td>\n",
              "    </tr>\n",
              "    <tr>\n",
              "      <th>4</th>\n",
              "      <td>EDFC78B07BA2908B3395C4EB2304665E</td>\n",
              "      <td>1</td>\n",
              "      <td>0.144169</td>\n",
              "      <td>0.280383</td>\n",
              "      <td>0.347496</td>\n",
              "      <td>0.165048</td>\n",
              "      <td>0.179465</td>\n",
              "      <td>0.265966</td>\n",
              "      <td>0.235144</td>\n",
              "      <td>0.182945</td>\n",
              "      <td>0.175488</td>\n",
              "      <td>0.17002</td>\n",
              "      <td>0.189408</td>\n",
              "      <td>0.227687</td>\n",
              "      <td>0.176979</td>\n",
              "      <td>0.211282</td>\n",
              "      <td>0.191893</td>\n",
              "      <td>0.175488</td>\n",
              "      <td>0.169522</td>\n",
              "      <td>0.042256</td>\n",
              "      <td>0.043748</td>\n",
              "      <td>0.189408</td>\n",
              "      <td>0.323634</td>\n",
              "      <td>0.456866</td>\n",
              "      <td>0.387267</td>\n",
              "      <td>0.348988</td>\n",
              "      <td>0.360422</td>\n",
              "      <td>0.316674</td>\n",
              "      <td>0.319657</td>\n",
              "      <td>0.392238</td>\n",
              "      <td>0.370861</td>\n",
              "      <td>0.395221</td>\n",
              "      <td>0.377324</td>\n",
              "      <td>0.240613</td>\n",
              "      <td>0.301263</td>\n",
              "      <td>0.278395</td>\n",
              "      <td>0.334074</td>\n",
              "      <td>0.36241</td>\n",
              "      <td>0.278395</td>\n",
              "      <td>0.3122</td>\n",
              "      <td>...</td>\n",
              "      <td>0.475259</td>\n",
              "      <td>0.471282</td>\n",
              "      <td>0.526961</td>\n",
              "      <td>0.500116</td>\n",
              "      <td>0.536407</td>\n",
              "      <td>0.542372</td>\n",
              "      <td>0.883406</td>\n",
              "      <td>0.515527</td>\n",
              "      <td>0.671627</td>\n",
              "      <td>0.702449</td>\n",
              "      <td>0.867001</td>\n",
              "      <td>0.793425</td>\n",
              "      <td>0.605508</td>\n",
              "      <td>0.921685</td>\n",
              "      <td>0.668147</td>\n",
              "      <td>0.580652</td>\n",
              "      <td>0.454877</td>\n",
              "      <td>0.455374</td>\n",
              "      <td>0.506579</td>\n",
              "      <td>0.512544</td>\n",
              "      <td>0.399198</td>\n",
              "      <td>0.501110</td>\n",
              "      <td>0.514036</td>\n",
              "      <td>0.558778</td>\n",
              "      <td>0.752660</td>\n",
              "      <td>0.713883</td>\n",
              "      <td>0.615948</td>\n",
              "      <td>0.515030</td>\n",
              "      <td>0.461837</td>\n",
              "      <td>0.393232</td>\n",
              "      <td>0.706426</td>\n",
              "      <td>0.508070</td>\n",
              "      <td>0.421072</td>\n",
              "      <td>0.303748</td>\n",
              "      <td>0.303251</td>\n",
              "      <td>0.334571</td>\n",
              "      <td>0.373844</td>\n",
              "      <td>0.541378</td>\n",
              "      <td>0.490173</td>\n",
              "      <td>0.433500</td>\n",
              "    </tr>\n",
              "  </tbody>\n",
              "</table>\n",
              "<p>5 rows × 1036 columns</p>\n",
              "</div>"
            ],
            "text/plain": [
              "                            CONS_NO  FLAG  ...  2016-10-30  2016-10-31\n",
              "0  0387DD8A07E07FDA6271170F86AD9151     1  ...    0.337130    0.248063\n",
              "1  01D6177B5D4FFE0CABA9EF17DAFC2B84     1  ...    0.000000    0.000000\n",
              "2  4B75AC4F2D8434CFF62DB64D0BB43103     1  ...    1.000000    1.000000\n",
              "3  B32AC8CC6D5D805AC053557AB05F5343     1  ...    0.518138    0.419957\n",
              "4  EDFC78B07BA2908B3395C4EB2304665E     1  ...    0.490173    0.433500\n",
              "\n",
              "[5 rows x 1036 columns]"
            ]
          },
          "metadata": {
            "tags": []
          },
          "execution_count": 179
        }
      ]
    },
    {
      "cell_type": "code",
      "metadata": {
        "id": "adM8DbLT_jJ_",
        "colab_type": "code",
        "colab": {}
      },
      "source": [
        "# Extracting features and labels\n",
        "X = df_minmax.iloc[:, 2:]\n",
        "y = df_minmax.iloc[:, 1]"
      ],
      "execution_count": 0,
      "outputs": []
    },
    {
      "cell_type": "markdown",
      "metadata": {
        "id": "dwbAPtqAMQzT",
        "colab_type": "text"
      },
      "source": [
        "## Visualizing Distribution of Features"
      ]
    },
    {
      "cell_type": "code",
      "metadata": {
        "id": "WS8XJfGAMUL8",
        "colab_type": "code",
        "colab": {
          "base_uri": "https://localhost:8080/",
          "height": 450
        },
        "outputId": "9b1de35e-1090-4dfe-f675-0da9c10deb9b"
      },
      "source": [
        "plt.figure(figsize=(12, 6))\n",
        "distplot(X.values.ravel(), kde=False, hist_kws=dict(edgecolor='k', linewidth=2))\n",
        "plt.xlabel('kWh Values', fontsize=14)\n",
        "plt.ylabel('Frequency', fontsize=14)\n",
        "plt.title('Distribution of kWh Values\\nMinMax Scaling', fontsize=18)"
      ],
      "execution_count": 182,
      "outputs": [
        {
          "output_type": "execute_result",
          "data": {
            "text/plain": [
              "Text(0.5, 1.0, 'Distribution of kWh Values\\nMinMax Scaling')"
            ]
          },
          "metadata": {
            "tags": []
          },
          "execution_count": 182
        },
        {
          "output_type": "display_data",
          "data": {
            "image/png": "[encoded data removed]",
            "text/plain": [
              "<Figure size 864x432 with 1 Axes>"
            ]
          },
          "metadata": {
            "tags": []
          }
        }
      ]
    },
    {
      "cell_type": "markdown",
      "metadata": {
        "id": "0IQZ6sYuFhi_",
        "colab_type": "text"
      },
      "source": [
        "## Train-Test Split"
      ]
    },
    {
      "cell_type": "code",
      "metadata": {
        "id": "eO65h6V3_AFY",
        "colab_type": "code",
        "colab": {}
      },
      "source": [
        "X_train, X_test, y_train, y_test = train_test_split(X, y,\n",
        "                                                    test_size=0.20, \n",
        "                                                    random_state=0, \n",
        "                                                    stratify=y)"
      ],
      "execution_count": 0,
      "outputs": []
    },
    {
      "cell_type": "markdown",
      "metadata": {
        "id": "LGQGewC4Flla",
        "colab_type": "text"
      },
      "source": [
        "## Cross-Validating Model"
      ]
    },
    {
      "cell_type": "code",
      "metadata": {
        "id": "N3kTBkV6_fUI",
        "colab_type": "code",
        "colab": {}
      },
      "source": [
        "# Instantiate a Logistic Regression model with same hyperparams\n",
        "logRegMinMax = LogisticRegression(penalty='l2', solver='liblinear', C=1.0)"
      ],
      "execution_count": 0,
      "outputs": []
    },
    {
      "cell_type": "code",
      "metadata": {
        "id": "a8zYfWY3_4E2",
        "colab_type": "code",
        "colab": {
          "base_uri": "https://localhost:8080/",
          "height": 238
        },
        "outputId": "96ed84ad-a187-40a7-cc94-e6eb7c2b5324"
      },
      "source": [
        "# Cross validate on the training data with 5 folds and log loss \n",
        "logRegMinMaxScores = cross_validate(estimator=logRegMinMax, \n",
        "                                    X=X_train,\n",
        "                                    y=y_train, \n",
        "                                    scoring='neg_log_loss', \n",
        "                                    cv=5, \n",
        "                                    verbose=2)"
      ],
      "execution_count": 185,
      "outputs": [
        {
          "output_type": "stream",
          "text": [
            "[Parallel(n_jobs=1)]: Using backend SequentialBackend with 1 concurrent workers.\n"
          ],
          "name": "stderr"
        },
        {
          "output_type": "stream",
          "text": [
            "[CV]  ................................................................\n",
            "[CV] ................................................. , total=  11.5s\n",
            "[CV]  ................................................................\n"
          ],
          "name": "stdout"
        },
        {
          "output_type": "stream",
          "text": [
            "[Parallel(n_jobs=1)]: Done   1 out of   1 | elapsed:   11.5s remaining:    0.0s\n"
          ],
          "name": "stderr"
        },
        {
          "output_type": "stream",
          "text": [
            "[CV] ................................................. , total=  13.0s\n",
            "[CV]  ................................................................\n",
            "[CV] ................................................. , total=  14.3s\n",
            "[CV]  ................................................................\n",
            "[CV] ................................................. , total=  12.5s\n",
            "[CV]  ................................................................\n",
            "[CV] ................................................. , total=  13.1s\n"
          ],
          "name": "stdout"
        },
        {
          "output_type": "stream",
          "text": [
            "[Parallel(n_jobs=1)]: Done   5 out of   5 | elapsed:  1.1min finished\n"
          ],
          "name": "stderr"
        }
      ]
    },
    {
      "cell_type": "markdown",
      "metadata": {
        "id": "JIdbTusfFzie",
        "colab_type": "text"
      },
      "source": [
        "## Cross Validation Scores"
      ]
    },
    {
      "cell_type": "code",
      "metadata": {
        "id": "5aAupMkLAKLs",
        "colab_type": "code",
        "colab": {
          "base_uri": "https://localhost:8080/",
          "height": 34
        },
        "outputId": "c172a12d-4fff-4abe-d4bf-cd85158b6a8f"
      },
      "source": [
        "# Echo results of this model's cross validation\n",
        "logRegMinMaxScores['test_score']"
      ],
      "execution_count": 163,
      "outputs": [
        {
          "output_type": "execute_result",
          "data": {
            "text/plain": [
              "array([-0.26689756, -0.27205386, -0.28200425, -0.28321308, -0.27842965])"
            ]
          },
          "metadata": {
            "tags": []
          },
          "execution_count": 163
        }
      ]
    },
    {
      "cell_type": "markdown",
      "metadata": {
        "id": "ZgKm2CPsAPLd",
        "colab_type": "text"
      },
      "source": [
        "# Comparing Effect of Scaling Strategy on Log Loss"
      ]
    },
    {
      "cell_type": "code",
      "metadata": {
        "id": "31E9CuNnAlZb",
        "colab_type": "code",
        "colab": {}
      },
      "source": [
        "# Extract the validation set scores\n",
        "minMaxScores = logRegMinMaxScores['test_score']\n",
        "stdScores = logRegStdScores['test_score']"
      ],
      "execution_count": 0,
      "outputs": []
    },
    {
      "cell_type": "code",
      "metadata": {
        "id": "0JaUhGCXBBU3",
        "colab_type": "code",
        "colab": {
          "base_uri": "https://localhost:8080/",
          "height": 429
        },
        "outputId": "6ca31f56-4ebc-455f-e670-4b0a376a8971"
      },
      "source": [
        "# Plotting a grouped bar chart to compare the log loss of standard and minmax scaling\n",
        "barWidth = 0.25 \n",
        "\n",
        "minMaxTicks = np.arange(1, len(minMaxScores) + 1, 1)\n",
        "stdTicks = [x + barWidth for x in minMaxTicks]\n",
        "\n",
        "plt.figure(figsize=(12, 6))\n",
        "plt.bar(minMaxTicks, -1 * minMaxScores, width=barWidth, edgecolor='k', label='MinMax Scaling')\n",
        "plt.bar(stdTicks, -1 * stdScores, width=barWidth, edgecolor='k', label='Standard Scaling')\n",
        "plt.xlabel('CV Fold Number', fontsize=14)\n",
        "plt.title(\"Effect of Scaling on 5-Fold CV Losses\", fontsize=18)\n",
        "\n",
        "plt.legend(loc='lower right')"
      ],
      "execution_count": 165,
      "outputs": [
        {
          "output_type": "execute_result",
          "data": {
            "text/plain": [
              "<matplotlib.legend.Legend at 0x7f4c4b7f3f28>"
            ]
          },
          "metadata": {
            "tags": []
          },
          "execution_count": 165
        },
        {
          "output_type": "display_data",
          "data": {
            "image/png": "[encoded data removed]",
            "text/plain": [
              "<Figure size 864x432 with 1 Axes>"
            ]
          },
          "metadata": {
            "tags": []
          }
        }
      ]
    },
    {
      "cell_type": "markdown",
      "metadata": {
        "id": "jpqS2EdJCwae",
        "colab_type": "text"
      },
      "source": [
        "`MinMax` scaling gives a marginally lower log loss than `StandardScaler` for all cross validation folds."
      ]
    },
    {
      "cell_type": "markdown",
      "metadata": {
        "id": "gOc9unIBDyX0",
        "colab_type": "text"
      },
      "source": [
        "# Test Set Results"
      ]
    },
    {
      "cell_type": "markdown",
      "metadata": {
        "id": "ZCQy1i1WF7JB",
        "colab_type": "text"
      },
      "source": [
        "## `StandardScaler` Model"
      ]
    },
    {
      "cell_type": "code",
      "metadata": {
        "id": "A1Kn2POLIenU",
        "colab_type": "code",
        "colab": {
          "base_uri": "https://localhost:8080/",
          "height": 102
        },
        "outputId": "c1466a6f-c26d-43e5-b36f-447d9950625f"
      },
      "source": [
        "# Must fit on entire training set before validating\n",
        "logRegStd.fit(X_train, y_train)"
      ],
      "execution_count": 151,
      "outputs": [
        {
          "output_type": "execute_result",
          "data": {
            "text/plain": [
              "LogisticRegression(C=1.0, class_weight=None, dual=False, fit_intercept=True,\n",
              "                   intercept_scaling=1, l1_ratio=None, max_iter=500,\n",
              "                   multi_class='auto', n_jobs=None, penalty='l2',\n",
              "                   random_state=None, solver='liblinear', tol=0.0001, verbose=0,\n",
              "                   warm_start=False)"
            ]
          },
          "metadata": {
            "tags": []
          },
          "execution_count": 151
        }
      ]
    },
    {
      "cell_type": "code",
      "metadata": {
        "id": "tm1lmcWpIpSz",
        "colab_type": "code",
        "colab": {
          "base_uri": "https://localhost:8080/",
          "height": 858
        },
        "outputId": "0631d237-77a6-499b-d5db-347bf8649d85"
      },
      "source": [
        "get_classification_result(estimator=logRegStd, X=X_test, \n",
        "                          y_true=y_test, classifier_name='LogReg (Standard Scaler)')"
      ],
      "execution_count": 155,
      "outputs": [
        {
          "output_type": "stream",
          "text": [
            "CLASSIFICATION REPORT\n",
            "                  precision    recall  f1-score   support\n",
            "\n",
            "Regular Consumer       0.93      0.99      0.96      7752\n",
            "         Thieves       0.79      0.23      0.36       723\n",
            "\n",
            "        accuracy                           0.93      8475\n",
            "       macro avg       0.86      0.61      0.66      8475\n",
            "    weighted avg       0.92      0.93      0.91      8475\n",
            "\n",
            "CONFUSION MATRIX\n",
            "[[0.90938053 0.00530973]\n",
            " [0.06536873 0.019941  ]]\n"
          ],
          "name": "stdout"
        },
        {
          "output_type": "display_data",
          "data": {
            "image/png": "[encoded data removed]",
            "text/plain": [
              "<Figure size 432x288 with 2 Axes>"
            ]
          },
          "metadata": {
            "tags": []
          }
        },
        {
          "output_type": "display_data",
          "data": {
            "image/png": "[encoded data removed]",
            "text/plain": [
              "<Figure size 360x360 with 1 Axes>"
            ]
          },
          "metadata": {
            "tags": []
          }
        }
      ]
    },
    {
      "cell_type": "markdown",
      "metadata": {
        "id": "hweo6ba9F-mo",
        "colab_type": "text"
      },
      "source": [
        "## `MinMax` Model"
      ]
    },
    {
      "cell_type": "code",
      "metadata": {
        "id": "JqPZA578KJsj",
        "colab_type": "code",
        "colab": {
          "base_uri": "https://localhost:8080/",
          "height": 102
        },
        "outputId": "654ecef2-c578-4327-d196-49771c339867"
      },
      "source": [
        "# Must fit on the entire training set before testing\n",
        "logRegMinMax.fit(X_train, y_train)"
      ],
      "execution_count": 189,
      "outputs": [
        {
          "output_type": "execute_result",
          "data": {
            "text/plain": [
              "LogisticRegression(C=1.0, class_weight=None, dual=False, fit_intercept=True,\n",
              "                   intercept_scaling=1, l1_ratio=None, max_iter=100,\n",
              "                   multi_class='auto', n_jobs=None, penalty='l2',\n",
              "                   random_state=None, solver='liblinear', tol=0.0001, verbose=0,\n",
              "                   warm_start=False)"
            ]
          },
          "metadata": {
            "tags": []
          },
          "execution_count": 189
        }
      ]
    },
    {
      "cell_type": "code",
      "metadata": {
        "id": "tGKoY95ZKWJO",
        "colab_type": "code",
        "colab": {
          "base_uri": "https://localhost:8080/",
          "height": 858
        },
        "outputId": "41723f9f-d1f5-40f9-de0b-6c8050c79e88"
      },
      "source": [
        "# How does it perform on the test set?\n",
        "get_classification_result(estimator=logRegMinMax, X=X_test, \n",
        "                          y_true=y_test, classifier_name='LogReg (Min Max Scaler)')"
      ],
      "execution_count": 190,
      "outputs": [
        {
          "output_type": "stream",
          "text": [
            "CLASSIFICATION REPORT\n",
            "                  precision    recall  f1-score   support\n",
            "\n",
            "Regular Consumer       0.92      0.99      0.95      7752\n",
            "         Thieves       0.43      0.06      0.10       723\n",
            "\n",
            "        accuracy                           0.91      8475\n",
            "       macro avg       0.68      0.52      0.53      8475\n",
            "    weighted avg       0.88      0.91      0.88      8475\n",
            "\n",
            "CONFUSION MATRIX\n",
            "[[0.90831858 0.00637168]\n",
            " [0.08047198 0.00483776]]\n"
          ],
          "name": "stdout"
        },
        {
          "output_type": "display_data",
          "data": {
            "image/png": "[encoded data removed]",
            "text/plain": [
              "<Figure size 432x288 with 2 Axes>"
            ]
          },
          "metadata": {
            "tags": []
          }
        },
        {
          "output_type": "display_data",
          "data": {
            "image/png": "[encoded data removed]",
            "text/plain": [
              "<Figure size 360x360 with 1 Axes>"
            ]
          },
          "metadata": {
            "tags": []
          }
        }
      ]
    },
    {
      "cell_type": "markdown",
      "metadata": {
        "id": "fmgHu06eN3Bu",
        "colab_type": "text"
      },
      "source": [
        "# Results\n",
        "- Changing feature scaler from `MinMaxScaler` to `StanardScaler` had a marked effect on classifier AUC.\n",
        "- AUC increased from 0.52 with `MinMax` to 0.61 with `StandardScaler`."
      ]
    },
    {
      "cell_type": "markdown",
      "metadata": {
        "id": "nkPI_O8SQZIT",
        "colab_type": "text"
      },
      "source": [
        "# `keras` LogReg w/`StandardScaler`"
      ]
    },
    {
      "cell_type": "code",
      "metadata": {
        "id": "kRpzYZ_IQarg",
        "colab_type": "code",
        "colab": {}
      },
      "source": [
        "from keras.models import Sequential\n",
        "from keras.layers import Dense"
      ],
      "execution_count": 0,
      "outputs": []
    },
    {
      "cell_type": "markdown",
      "metadata": {
        "id": "jmi_75aUdRJA",
        "colab_type": "text"
      },
      "source": [
        "## Creating a Model"
      ]
    },
    {
      "cell_type": "code",
      "metadata": {
        "id": "yLflMD5jRAto",
        "colab_type": "code",
        "colab": {}
      },
      "source": [
        "# Instantiate a model\n",
        "model = Sequential()"
      ],
      "execution_count": 0,
      "outputs": []
    },
    {
      "cell_type": "code",
      "metadata": {
        "id": "wP93e5WpRXsi",
        "colab_type": "code",
        "colab": {}
      },
      "source": [
        "# Single node computes weighted sum of 1034 features as z\n",
        "# Passes this as argument to `sigmoid` activation function for output\n",
        "model.add(Dense(input_shape=(1034,), units=1, activation='sigmoid'))"
      ],
      "execution_count": 0,
      "outputs": []
    },
    {
      "cell_type": "code",
      "metadata": {
        "id": "_JMCMq6rTThx",
        "colab_type": "code",
        "colab": {
          "base_uri": "https://localhost:8080/",
          "height": 187
        },
        "outputId": "a28824b7-bcb0-4055-dcfc-72129d813672"
      },
      "source": [
        "model.summary()"
      ],
      "execution_count": 254,
      "outputs": [
        {
          "output_type": "stream",
          "text": [
            "Model: \"sequential_10\"\n",
            "_________________________________________________________________\n",
            "Layer (type)                 Output Shape              Param #   \n",
            "=================================================================\n",
            "dense_13 (Dense)             (None, 1)                 1035      \n",
            "=================================================================\n",
            "Total params: 1,035\n",
            "Trainable params: 1,035\n",
            "Non-trainable params: 0\n",
            "_________________________________________________________________\n"
          ],
          "name": "stdout"
        }
      ]
    },
    {
      "cell_type": "markdown",
      "metadata": {
        "id": "AJKvPmy9dUWp",
        "colab_type": "text"
      },
      "source": [
        "## Compiling Model"
      ]
    },
    {
      "cell_type": "code",
      "metadata": {
        "id": "wJ5Mk0daU6w9",
        "colab_type": "code",
        "colab": {}
      },
      "source": [
        "model.compile(optimizer='rmsprop', \n",
        "              loss='binary_crossentropy')"
      ],
      "execution_count": 0,
      "outputs": []
    },
    {
      "cell_type": "markdown",
      "metadata": {
        "id": "Y7IC1Tc8dWzB",
        "colab_type": "text"
      },
      "source": [
        "## Training Model"
      ]
    },
    {
      "cell_type": "code",
      "metadata": {
        "id": "IjqVYGVaTUPV",
        "colab_type": "code",
        "colab": {}
      },
      "source": [
        "# Train the model on \n",
        "keras_history = model.fit(X_train, y_train, \n",
        "          batch_size=128, epochs=50, validation_split=0.2, \n",
        "          verbose=1)"
      ],
      "execution_count": 0,
      "outputs": []
    },
    {
      "cell_type": "markdown",
      "metadata": {
        "id": "ENUKpxYtdcCC",
        "colab_type": "text"
      },
      "source": [
        "## Plotting History"
      ]
    },
    {
      "cell_type": "code",
      "metadata": {
        "id": "AboRGF_zVNaR",
        "colab_type": "code",
        "colab": {
          "base_uri": "https://localhost:8080/",
          "height": 429
        },
        "outputId": "8cc21196-addb-4aae-db11-803f97390f8e"
      },
      "source": [
        "epochs = range(1, len(keras_history.history['loss']) + 1)\n",
        "loss = keras_history.history['loss']\n",
        "val_loss = keras_history.history['val_loss']\n",
        "plt.figure(figsize=(12, 6))\n",
        "plt.plot(epochs, loss, label='Training Loss')\n",
        "plt.plot(epochs, val_loss, label='Validation Loss')\n",
        "plt.xlabel('Epochs', fontsize=14)\n",
        "plt.ylabel('Loss (Binary Crossentropy)', fontsize=14)\n",
        "plt.title(\"Training Curve - Keras LogReg Model\", fontsize=18)\n",
        "plt.legend()"
      ],
      "execution_count": 274,
      "outputs": [
        {
          "output_type": "execute_result",
          "data": {
            "text/plain": [
              "<matplotlib.legend.Legend at 0x7f4b9a881f98>"
            ]
          },
          "metadata": {
            "tags": []
          },
          "execution_count": 274
        },
        {
          "output_type": "display_data",
          "data": {
            "image/png": "[encoded data removed]",
            "text/plain": [
              "<Figure size 864x432 with 1 Axes>"
            ]
          },
          "metadata": {
            "tags": []
          }
        }
      ]
    },
    {
      "cell_type": "markdown",
      "metadata": {
        "id": "jMkXCFzhfAOl",
        "colab_type": "text"
      },
      "source": [
        "## Training Results\n",
        "Validation scores are between 0.275 and 0.300, which is exactly the same range as the `scikit-learn` `LogisitcRegression` models. "
      ]
    }
  ]
}