{
 "cells": [
  {
   "cell_type": "markdown",
   "metadata": {},
   "source": [
    "# Model 1 - Logistic Regression\n",
    "\n",
    "The most basic learning algorithm, perfect for binary classification. My primary goal in this investigation is to figure out a good workflow for training, evaluating, and testing shallow learning models. \n",
    "\n",
    "A lot of this work will therefore be experimental."
   ]
  },
  {
   "cell_type": "markdown",
   "metadata": {},
   "source": [
    "## Preparing Workspace"
   ]
  },
  {
   "cell_type": "code",
   "execution_count": 2,
   "metadata": {},
   "outputs": [],
   "source": [
    "import numpy as np\n",
    "import pandas as pd\n",
    "\n",
    "# Seed random number generator for consistent OPs across runs\n",
    "np.random.seed(42)\n",
    "\n",
    "import matplotlib.pyplot as plt\n",
    "%matplotlib inline\n",
    "\n",
    "from matplotlib import style\n",
    "style.use('ggplot')"
   ]
  },
  {
   "cell_type": "markdown",
   "metadata": {},
   "source": [
    "## Loading Data"
   ]
  },
  {
   "cell_type": "code",
   "execution_count": 3,
   "metadata": {},
   "outputs": [],
   "source": [
    "data = pd.read_csv('./data-final.csv')"
   ]
  },
  {
   "cell_type": "code",
   "execution_count": 4,
   "metadata": {},
   "outputs": [
    {
     "data": {
      "text/html": [
       "<div>\n",
       "<style scoped>\n",
       "    .dataframe tbody tr th:only-of-type {\n",
       "        vertical-align: middle;\n",
       "    }\n",
       "\n",
       "    .dataframe tbody tr th {\n",
       "        vertical-align: top;\n",
       "    }\n",
       "\n",
       "    .dataframe thead th {\n",
       "        text-align: right;\n",
       "    }\n",
       "</style>\n",
       "<table border=\"1\" class=\"dataframe\">\n",
       "  <thead>\n",
       "    <tr style=\"text-align: right;\">\n",
       "      <th></th>\n",
       "      <th>CONS_NO</th>\n",
       "      <th>FLAG</th>\n",
       "      <th>2014-01-01</th>\n",
       "      <th>2014-01-02</th>\n",
       "      <th>2014-01-03</th>\n",
       "      <th>2014-01-04</th>\n",
       "      <th>2014-01-05</th>\n",
       "      <th>2014-01-06</th>\n",
       "      <th>2014-01-07</th>\n",
       "      <th>2014-01-08</th>\n",
       "      <th>...</th>\n",
       "      <th>2016-10-22</th>\n",
       "      <th>2016-10-23</th>\n",
       "      <th>2016-10-24</th>\n",
       "      <th>2016-10-25</th>\n",
       "      <th>2016-10-26</th>\n",
       "      <th>2016-10-27</th>\n",
       "      <th>2016-10-28</th>\n",
       "      <th>2016-10-29</th>\n",
       "      <th>2016-10-30</th>\n",
       "      <th>2016-10-31</th>\n",
       "    </tr>\n",
       "  </thead>\n",
       "  <tbody>\n",
       "    <tr>\n",
       "      <td>0</td>\n",
       "      <td>0387DD8A07E07FDA6271170F86AD9151</td>\n",
       "      <td>1</td>\n",
       "      <td>0.0</td>\n",
       "      <td>0.00</td>\n",
       "      <td>0.00</td>\n",
       "      <td>0.00</td>\n",
       "      <td>0.00</td>\n",
       "      <td>0.00</td>\n",
       "      <td>0.00</td>\n",
       "      <td>0.00</td>\n",
       "      <td>...</td>\n",
       "      <td>7.18</td>\n",
       "      <td>8.07</td>\n",
       "      <td>8.09</td>\n",
       "      <td>9.53</td>\n",
       "      <td>5.48</td>\n",
       "      <td>8.75</td>\n",
       "      <td>9.30</td>\n",
       "      <td>7.54</td>\n",
       "      <td>9.16</td>\n",
       "      <td>6.74</td>\n",
       "    </tr>\n",
       "    <tr>\n",
       "      <td>1</td>\n",
       "      <td>01D6177B5D4FFE0CABA9EF17DAFC2B84</td>\n",
       "      <td>1</td>\n",
       "      <td>0.0</td>\n",
       "      <td>0.00</td>\n",
       "      <td>0.00</td>\n",
       "      <td>0.00</td>\n",
       "      <td>0.00</td>\n",
       "      <td>0.00</td>\n",
       "      <td>0.00</td>\n",
       "      <td>0.00</td>\n",
       "      <td>...</td>\n",
       "      <td>0.00</td>\n",
       "      <td>0.00</td>\n",
       "      <td>0.00</td>\n",
       "      <td>0.00</td>\n",
       "      <td>0.00</td>\n",
       "      <td>0.00</td>\n",
       "      <td>0.00</td>\n",
       "      <td>0.00</td>\n",
       "      <td>0.00</td>\n",
       "      <td>0.00</td>\n",
       "    </tr>\n",
       "    <tr>\n",
       "      <td>2</td>\n",
       "      <td>4B75AC4F2D8434CFF62DB64D0BB43103</td>\n",
       "      <td>1</td>\n",
       "      <td>0.0</td>\n",
       "      <td>0.00</td>\n",
       "      <td>0.00</td>\n",
       "      <td>0.00</td>\n",
       "      <td>0.00</td>\n",
       "      <td>0.00</td>\n",
       "      <td>0.00</td>\n",
       "      <td>0.00</td>\n",
       "      <td>...</td>\n",
       "      <td>10.95</td>\n",
       "      <td>17.95</td>\n",
       "      <td>17.83</td>\n",
       "      <td>17.31</td>\n",
       "      <td>21.44</td>\n",
       "      <td>19.09</td>\n",
       "      <td>18.56</td>\n",
       "      <td>16.25</td>\n",
       "      <td>14.20</td>\n",
       "      <td>13.66</td>\n",
       "    </tr>\n",
       "    <tr>\n",
       "      <td>3</td>\n",
       "      <td>B32AC8CC6D5D805AC053557AB05F5343</td>\n",
       "      <td>1</td>\n",
       "      <td>0.0</td>\n",
       "      <td>0.00</td>\n",
       "      <td>0.00</td>\n",
       "      <td>0.00</td>\n",
       "      <td>0.00</td>\n",
       "      <td>0.00</td>\n",
       "      <td>0.00</td>\n",
       "      <td>0.00</td>\n",
       "      <td>...</td>\n",
       "      <td>12.81</td>\n",
       "      <td>15.12</td>\n",
       "      <td>17.26</td>\n",
       "      <td>14.91</td>\n",
       "      <td>19.59</td>\n",
       "      <td>20.79</td>\n",
       "      <td>17.95</td>\n",
       "      <td>19.26</td>\n",
       "      <td>14.46</td>\n",
       "      <td>11.72</td>\n",
       "    </tr>\n",
       "    <tr>\n",
       "      <td>4</td>\n",
       "      <td>EDFC78B07BA2908B3395C4EB2304665E</td>\n",
       "      <td>1</td>\n",
       "      <td>2.9</td>\n",
       "      <td>5.64</td>\n",
       "      <td>6.99</td>\n",
       "      <td>3.32</td>\n",
       "      <td>3.61</td>\n",
       "      <td>5.35</td>\n",
       "      <td>4.73</td>\n",
       "      <td>3.68</td>\n",
       "      <td>...</td>\n",
       "      <td>14.21</td>\n",
       "      <td>10.22</td>\n",
       "      <td>8.47</td>\n",
       "      <td>6.11</td>\n",
       "      <td>6.10</td>\n",
       "      <td>6.73</td>\n",
       "      <td>7.52</td>\n",
       "      <td>10.89</td>\n",
       "      <td>9.86</td>\n",
       "      <td>8.72</td>\n",
       "    </tr>\n",
       "  </tbody>\n",
       "</table>\n",
       "<p>5 rows × 1036 columns</p>\n",
       "</div>"
      ],
      "text/plain": [
       "                            CONS_NO  FLAG  2014-01-01  2014-01-02  2014-01-03  \\\n",
       "0  0387DD8A07E07FDA6271170F86AD9151     1         0.0        0.00        0.00   \n",
       "1  01D6177B5D4FFE0CABA9EF17DAFC2B84     1         0.0        0.00        0.00   \n",
       "2  4B75AC4F2D8434CFF62DB64D0BB43103     1         0.0        0.00        0.00   \n",
       "3  B32AC8CC6D5D805AC053557AB05F5343     1         0.0        0.00        0.00   \n",
       "4  EDFC78B07BA2908B3395C4EB2304665E     1         2.9        5.64        6.99   \n",
       "\n",
       "   2014-01-04  2014-01-05  2014-01-06  2014-01-07  2014-01-08  ...  \\\n",
       "0        0.00        0.00        0.00        0.00        0.00  ...   \n",
       "1        0.00        0.00        0.00        0.00        0.00  ...   \n",
       "2        0.00        0.00        0.00        0.00        0.00  ...   \n",
       "3        0.00        0.00        0.00        0.00        0.00  ...   \n",
       "4        3.32        3.61        5.35        4.73        3.68  ...   \n",
       "\n",
       "   2016-10-22  2016-10-23  2016-10-24  2016-10-25  2016-10-26  2016-10-27  \\\n",
       "0        7.18        8.07        8.09        9.53        5.48        8.75   \n",
       "1        0.00        0.00        0.00        0.00        0.00        0.00   \n",
       "2       10.95       17.95       17.83       17.31       21.44       19.09   \n",
       "3       12.81       15.12       17.26       14.91       19.59       20.79   \n",
       "4       14.21       10.22        8.47        6.11        6.10        6.73   \n",
       "\n",
       "   2016-10-28  2016-10-29  2016-10-30  2016-10-31  \n",
       "0        9.30        7.54        9.16        6.74  \n",
       "1        0.00        0.00        0.00        0.00  \n",
       "2       18.56       16.25       14.20       13.66  \n",
       "3       17.95       19.26       14.46       11.72  \n",
       "4        7.52       10.89        9.86        8.72  \n",
       "\n",
       "[5 rows x 1036 columns]"
      ]
     },
     "execution_count": 4,
     "metadata": {},
     "output_type": "execute_result"
    }
   ],
   "source": [
    "data.head()"
   ]
  },
  {
   "cell_type": "markdown",
   "metadata": {},
   "source": [
    "## Extracting Features and Targets"
   ]
  },
  {
   "cell_type": "code",
   "execution_count": 23,
   "metadata": {},
   "outputs": [],
   "source": [
    "# Targets - class labels for all training samples\n",
    "y = data['FLAG'].values"
   ]
  },
  {
   "cell_type": "code",
   "execution_count": 24,
   "metadata": {},
   "outputs": [],
   "source": [
    "X = data.iloc[:, 2:].values"
   ]
  },
  {
   "cell_type": "code",
   "execution_count": 25,
   "metadata": {},
   "outputs": [],
   "source": [
    "# Is there one training sample per label?\n",
    "assert X.shape[0] == y.shape[0]"
   ]
  },
  {
   "cell_type": "markdown",
   "metadata": {},
   "source": [
    "## Stratified Sampling \n",
    "\n",
    "The dataset has a very large class imbalance - an approximate ~91/9 split between the negative (regular, non-target) and positive (thief, target) classes. \n",
    "\n",
    "As such, the model must not only be trained on a subset of the original data with this 91-9 split, but must also be validated for similarly proportioned data."
   ]
  },
  {
   "cell_type": "code",
   "execution_count": 26,
   "metadata": {},
   "outputs": [],
   "source": [
    "from sklearn.model_selection import train_test_split"
   ]
  },
  {
   "cell_type": "code",
   "execution_count": 31,
   "metadata": {},
   "outputs": [],
   "source": [
    "# Shuffling data and making sure both training and test sets contain same proportion of classes\n",
    "X_train, X_test, y_train, y_test = train_test_split(X, y, test_size=0.25, \n",
    "                                                   random_state=42, \n",
    "                                                   shuffle=True, \n",
    "                                                   stratify=y)"
   ]
  },
  {
   "cell_type": "markdown",
   "metadata": {},
   "source": [
    "### Visualizing Distributions of Classes"
   ]
  },
  {
   "cell_type": "code",
   "execution_count": 32,
   "metadata": {},
   "outputs": [],
   "source": [
    "import seaborn as sns"
   ]
  },
  {
   "cell_type": "code",
   "execution_count": 94,
   "metadata": {},
   "outputs": [
    {
     "name": "stderr",
     "output_type": "stream",
     "text": [
      "/anaconda3/lib/python3.6/site-packages/seaborn/distributions.py:218: MatplotlibDeprecationWarning: \n",
      "The 'normed' kwarg was deprecated in Matplotlib 2.1 and will be removed in 3.1. Use 'density' instead.\n",
      "  color=hist_color, **hist_kws)\n",
      "/anaconda3/lib/python3.6/site-packages/seaborn/distributions.py:218: MatplotlibDeprecationWarning: \n",
      "The 'normed' kwarg was deprecated in Matplotlib 2.1 and will be removed in 3.1. Use 'density' instead.\n",
      "  color=hist_color, **hist_kws)\n"
     ]
    },
    {
     "data": {
      "image/png": "[encoded data removed]",
      "text/plain": [
       "<Figure size 864x432 with 1 Axes>"
      ]
     },
     "metadata": {},
     "output_type": "display_data"
    }
   ],
   "source": [
    "plt.figure(figsize=(12, 6))\n",
    "sns.distplot(y_train)\n",
    "sns.distplot(y_test)\n",
    "plt.legend(['Training Data', 'Test Data'])\n",
    "plt.xlabel('Class Label', fontsize=14)\n",
    "plt.ylabel('Kernel Density', fontsize=14)\n",
    "plt.title('Class Distribution in Training and Test Data', fontsize=18);"
   ]
  },
  {
   "cell_type": "markdown",
   "metadata": {},
   "source": [
    "### Interpretation\n",
    "\n",
    "This isn't a great plot. \n",
    "- For starters, we're not interested in class labels other than 0.0 and 1.0, but the `distplot` command treats class label as a continuous random variable.\n",
    "- The histograms also overlap, which means its difficult to see whether the bars representing Training Data's class distribution is lower than or equal to that of Test Data.\n",
    "- Thirdly, it isn't readily interpretable. I have no idea what Kernel Density is. "
   ]
  },
  {
   "cell_type": "markdown",
   "metadata": {},
   "source": [
    "### Making Bar Graphs of Class Label Counts"
   ]
  },
  {
   "cell_type": "code",
   "execution_count": 44,
   "metadata": {},
   "outputs": [],
   "source": [
    "# Dictionaries of raw counts of class labels\n",
    "raw_counts = {\n",
    "    'train': {\n",
    "        '0': np.count_nonzero(y_train == 0),\n",
    "        '1': np.count_nonzero(y_train == 1)\n",
    "    }, \n",
    "    'test': {\n",
    "        '0': np.count_nonzero(y_test == 0),\n",
    "        '1': np.count_nonzero(y_test == 1)\n",
    "    }\n",
    "}"
   ]
  },
  {
   "cell_type": "code",
   "execution_count": 68,
   "metadata": {},
   "outputs": [],
   "source": [
    "# Repeat for normalized counts\n",
    "NUM_TRAIN = len(y_train)\n",
    "NUM_TEST = len(y_test)\n",
    "NUM_SAMPLES = len(y)\n",
    "\n",
    "normed_counts = {\n",
    "    'train': {\n",
    "        '0': np.count_nonzero(y_train == 0) / NUM_TRAIN,\n",
    "        '1': np.count_nonzero(y_train == 1) / NUM_TRAIN\n",
    "    }, \n",
    "    'test': {\n",
    "        '0': np.count_nonzero(y_test == 0) / NUM_TEST,\n",
    "        '1': np.count_nonzero(y_test == 1) / NUM_TEST\n",
    "    }\n",
    "}"
   ]
  },
  {
   "cell_type": "code",
   "execution_count": 83,
   "metadata": {},
   "outputs": [
    {
     "data": {
      "image/png": "[encoded data removed]",
      "text/plain": [
       "<Figure size 720x360 with 3 Axes>"
      ]
     },
     "metadata": {},
     "output_type": "display_data"
    }
   ],
   "source": [
    "# Comparing train, test, and original data in 3 side-by-side graphs\n",
    "fig, axes = plt.subplots(ncols=3, figsize=(10, 5), sharey=False)\n",
    "\n",
    "# First plot - Training Data\n",
    "plt.sca(axes[0])\n",
    "plt.bar(x=normed_counts['train'].keys(), height=normed_counts['train'].values(), \n",
    "       color=['red', 'blue'], width=0.4)\n",
    "plt.xlabel('Consumer Class', fontsize=14)\n",
    "plt.ylabel('Proportion of Samples', fontsize=14)\n",
    "plt.title('Training Data', fontsize=18)\n",
    "\n",
    "# Second plot - Test Data\n",
    "plt.sca(axes[1])\n",
    "plt.xlabel('Consumer Class', fontsize=14)\n",
    "plt.bar(x=normed_counts['test'].keys(), height=normed_counts['test'].values(), \n",
    "       color=['red', 'blue'], width=0.4)\n",
    "plt.ylabel('Proportion of Samples', fontsize=14)\n",
    "plt.title('Test Data', fontsize=18)\n",
    "\n",
    "\n",
    "# Third plot - All data\n",
    "plt.sca(axes[2])\n",
    "plt.xlabel('Consumer Class', fontsize=14)\n",
    "plt.bar(x=normed_counts['test'].keys(), \n",
    "       height=[np.count_nonzero(y == 0) / NUM_SAMPLES, \n",
    "               np.count_nonzero(y == 1) / NUM_SAMPLES], \n",
    "       color=['red', 'blue'], width=0.4)\n",
    "plt.ylabel('Proportion of Samples', fontsize=14)\n",
    "plt.title('All Data', fontsize=18)\n",
    "plt.tight_layout()"
   ]
  },
  {
   "cell_type": "markdown",
   "metadata": {},
   "source": [
    "Have confirmed that the `stratify` argument in `train_test_split` has worked as expected: there are equal proportions of both the positive and negative classes in both the training and test data.\n",
    "\n",
    "Furthermore, these proportions are exactly the same as in the entire dataset prior to the train/test split."
   ]
  },
  {
   "cell_type": "markdown",
   "metadata": {},
   "source": [
    "## First Model"
   ]
  },
  {
   "cell_type": "markdown",
   "metadata": {},
   "source": [
    "### Training"
   ]
  },
  {
   "cell_type": "code",
   "execution_count": 70,
   "metadata": {},
   "outputs": [],
   "source": [
    "from sklearn.linear_model import LogisticRegression"
   ]
  },
  {
   "cell_type": "code",
   "execution_count": 75,
   "metadata": {},
   "outputs": [],
   "source": [
    "logReg_1 = LogisticRegression()"
   ]
  },
  {
   "cell_type": "code",
   "execution_count": 76,
   "metadata": {
    "collapsed": true
   },
   "outputs": [
    {
     "name": "stderr",
     "output_type": "stream",
     "text": [
      "/Users/saadmashkoor/.local/lib/python3.6/site-packages/sklearn/linear_model/logistic.py:433: FutureWarning: Default solver will be changed to 'lbfgs' in 0.22. Specify a solver to silence this warning.\n",
      "  FutureWarning)\n",
      "/Users/saadmashkoor/.local/lib/python3.6/site-packages/sklearn/svm/base.py:931: ConvergenceWarning: Liblinear failed to converge, increase the number of iterations.\n",
      "  \"the number of iterations.\", ConvergenceWarning)\n"
     ]
    },
    {
     "data": {
      "text/plain": [
       "LogisticRegression(C=1.0, class_weight=None, dual=False, fit_intercept=True,\n",
       "          intercept_scaling=1, max_iter=100, multi_class='warn',\n",
       "          n_jobs=None, penalty='l2', random_state=None, solver='warn',\n",
       "          tol=0.0001, verbose=0, warm_start=False)"
      ]
     },
     "execution_count": 76,
     "metadata": {},
     "output_type": "execute_result"
    }
   ],
   "source": [
    "logReg_1.fit(X_train, y_train)"
   ]
  },
  {
   "cell_type": "code",
   "execution_count": 80,
   "metadata": {},
   "outputs": [
    {
     "name": "stdout",
     "output_type": "stream",
     "text": [
      "Number of parameters learnt:  1034\n"
     ]
    }
   ],
   "source": [
    "# Did it learn one parameter for each day?\n",
    "print(\"Number of parameters learnt: \", len(logReg_1.coef_[0]))"
   ]
  },
  {
   "cell_type": "markdown",
   "metadata": {},
   "source": [
    "### Evaluation"
   ]
  },
  {
   "cell_type": "code",
   "execution_count": 95,
   "metadata": {},
   "outputs": [],
   "source": [
    "from sklearn.metrics import confusion_matrix, classification_report, roc_auc_score"
   ]
  },
  {
   "cell_type": "code",
   "execution_count": 85,
   "metadata": {},
   "outputs": [],
   "source": [
    "y_pred = logReg_1.predict(X_test)"
   ]
  },
  {
   "cell_type": "code",
   "execution_count": 88,
   "metadata": {},
   "outputs": [
    {
     "data": {
      "text/plain": [
       "array([[9304,  385],\n",
       "       [ 792,  112]])"
      ]
     },
     "execution_count": 88,
     "metadata": {},
     "output_type": "execute_result"
    }
   ],
   "source": [
    "confusion_matrix(y_test, y_pred)"
   ]
  },
  {
   "cell_type": "code",
   "execution_count": 93,
   "metadata": {},
   "outputs": [
    {
     "name": "stdout",
     "output_type": "stream",
     "text": [
      "              precision    recall  f1-score   support\n",
      "\n",
      "     Regular       0.92      0.96      0.94      9689\n",
      "     Thieves       0.23      0.12      0.16       904\n",
      "\n",
      "   micro avg       0.89      0.89      0.89     10593\n",
      "   macro avg       0.57      0.54      0.55     10593\n",
      "weighted avg       0.86      0.89      0.87     10593\n",
      "\n"
     ]
    }
   ],
   "source": [
    "print(classification_report(y_test, y_pred, target_names=['Regular', 'Thieves']))"
   ]
  },
  {
   "cell_type": "code",
   "execution_count": 96,
   "metadata": {},
   "outputs": [
    {
     "data": {
      "text/plain": [
       "0.5420790112316037"
      ]
     },
     "execution_count": 96,
     "metadata": {},
     "output_type": "execute_result"
    }
   ],
   "source": [
    "roc_auc_score(y_test, y_pred)"
   ]
  },
  {
   "cell_type": "markdown",
   "metadata": {},
   "source": [
    "## K-Fold Cross Validated Logistic Regression"
   ]
  }
 ],
 "metadata": {
  "kernelspec": {
   "display_name": "Python 3",
   "language": "python",
   "name": "python3"
  },
  "language_info": {
   "codemirror_mode": {
    "name": "ipython",
    "version": 3
   },
   "file_extension": ".py",
   "mimetype": "text/x-python",
   "name": "python",
   "nbconvert_exporter": "python",
   "pygments_lexer": "ipython3",
   "version": "3.6.5"
  }
 },
 "nbformat": 4,
 "nbformat_minor": 2
}
