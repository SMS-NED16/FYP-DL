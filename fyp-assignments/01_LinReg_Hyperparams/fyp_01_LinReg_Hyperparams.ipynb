{
 "cells": [
  {
   "cell_type": "markdown",
   "metadata": {},
   "source": [
    "# FYP Assignment 01\n",
    "# Linear Regression - Hyperparameter Tuning\n",
    "\n",
    "The Boston Housing Prices dataset shows the median prices (in thousands of USD) of 506 different houses in the city of Boston, MA in 1978. This dataset is a canonical introduction to regression - a class of ML problems in which a continuous-valued output, called the **target**, is predicted based on other numeric or categorical data i.e. the **features**.\n",
    "\n",
    "Since this is an old and popular dataset, `keras` and other ML libraries such as `sklearn` already have the dataset built into them. As such, loading the dataset is usually as simple as a call to a function like `keras.datasets.boston_housing.load_data()`. Sometimes this data will already be preprocessed (normalized/standardized, missing values filled in, etc.), although this is not the case for the `keras` version of the dataset.\n",
    "\n",
    "However, for completenes, I am going to demonstrate how to load the data from a comma-separated value (CSV) file i.e. how to load any dataset into a Jupyter Notebook for exploration/ML."
   ]
  },
  {
   "cell_type": "markdown",
   "metadata": {},
   "source": [
    "## Workspace Setup"
   ]
  },
  {
   "cell_type": "code",
   "execution_count": 1,
   "metadata": {},
   "outputs": [],
   "source": [
    "import pandas as pd\n",
    "import numpy as np\n",
    "import matplotlib.pyplot as plt\n",
    "from seaborn import pairplot\n",
    "\n",
    "# This is a Jupyter Notebook command that ensures all matplotlib plots are displayed\n",
    "# inside the notebook and not in an external window.\n",
    "%matplotlib inline"
   ]
  },
  {
   "cell_type": "markdown",
   "metadata": {},
   "source": [
    "## Loading Dataset from CSV   \n",
    "Assumes CSV (comma-separated value) file of the Boston Housing prices dataset is present in the same directory as this notebook i.e. the working directory.\n",
    "\n",
    "If you don't have the Boston housing price CSV, you can find it [here](https://raw.githubusercontent.com/selva86/datasets/master/BostonHousing.csv).\n",
    "\n",
    "Using `pandas` - a highly optimised Python Data Analysis library - to load data from the CSV file into a `dataframe`: `pandas`'s way of storing information. A `dataframe` is a lot like a spreadsheet (has indexed rows and labeled columns), which makes it easy to manipulate/wrangle/modify data."
   ]
  },
  {
   "cell_type": "code",
   "execution_count": 2,
   "metadata": {},
   "outputs": [],
   "source": [
    "# Good practice to store the raw data separately \n",
    "raw_data = pd.read_csv('BostonHousing.csv')"
   ]
  },
  {
   "cell_type": "code",
   "execution_count": 3,
   "metadata": {},
   "outputs": [
    {
     "data": {
      "text/html": [
       "<div>\n",
       "<style scoped>\n",
       "    .dataframe tbody tr th:only-of-type {\n",
       "        vertical-align: middle;\n",
       "    }\n",
       "\n",
       "    .dataframe tbody tr th {\n",
       "        vertical-align: top;\n",
       "    }\n",
       "\n",
       "    .dataframe thead th {\n",
       "        text-align: right;\n",
       "    }\n",
       "</style>\n",
       "<table border=\"1\" class=\"dataframe\">\n",
       "  <thead>\n",
       "    <tr style=\"text-align: right;\">\n",
       "      <th></th>\n",
       "      <th>crim</th>\n",
       "      <th>zn</th>\n",
       "      <th>indus</th>\n",
       "      <th>chas</th>\n",
       "      <th>nox</th>\n",
       "      <th>rm</th>\n",
       "      <th>age</th>\n",
       "      <th>dis</th>\n",
       "      <th>rad</th>\n",
       "      <th>tax</th>\n",
       "      <th>ptratio</th>\n",
       "      <th>b</th>\n",
       "      <th>lstat</th>\n",
       "      <th>medv</th>\n",
       "    </tr>\n",
       "  </thead>\n",
       "  <tbody>\n",
       "    <tr>\n",
       "      <th>0</th>\n",
       "      <td>0.00632</td>\n",
       "      <td>18.0</td>\n",
       "      <td>2.31</td>\n",
       "      <td>0</td>\n",
       "      <td>0.538</td>\n",
       "      <td>6.575</td>\n",
       "      <td>65.2</td>\n",
       "      <td>4.0900</td>\n",
       "      <td>1</td>\n",
       "      <td>296</td>\n",
       "      <td>15.3</td>\n",
       "      <td>396.90</td>\n",
       "      <td>4.98</td>\n",
       "      <td>24.0</td>\n",
       "    </tr>\n",
       "    <tr>\n",
       "      <th>1</th>\n",
       "      <td>0.02731</td>\n",
       "      <td>0.0</td>\n",
       "      <td>7.07</td>\n",
       "      <td>0</td>\n",
       "      <td>0.469</td>\n",
       "      <td>6.421</td>\n",
       "      <td>78.9</td>\n",
       "      <td>4.9671</td>\n",
       "      <td>2</td>\n",
       "      <td>242</td>\n",
       "      <td>17.8</td>\n",
       "      <td>396.90</td>\n",
       "      <td>9.14</td>\n",
       "      <td>21.6</td>\n",
       "    </tr>\n",
       "    <tr>\n",
       "      <th>2</th>\n",
       "      <td>0.02729</td>\n",
       "      <td>0.0</td>\n",
       "      <td>7.07</td>\n",
       "      <td>0</td>\n",
       "      <td>0.469</td>\n",
       "      <td>7.185</td>\n",
       "      <td>61.1</td>\n",
       "      <td>4.9671</td>\n",
       "      <td>2</td>\n",
       "      <td>242</td>\n",
       "      <td>17.8</td>\n",
       "      <td>392.83</td>\n",
       "      <td>4.03</td>\n",
       "      <td>34.7</td>\n",
       "    </tr>\n",
       "    <tr>\n",
       "      <th>3</th>\n",
       "      <td>0.03237</td>\n",
       "      <td>0.0</td>\n",
       "      <td>2.18</td>\n",
       "      <td>0</td>\n",
       "      <td>0.458</td>\n",
       "      <td>6.998</td>\n",
       "      <td>45.8</td>\n",
       "      <td>6.0622</td>\n",
       "      <td>3</td>\n",
       "      <td>222</td>\n",
       "      <td>18.7</td>\n",
       "      <td>394.63</td>\n",
       "      <td>2.94</td>\n",
       "      <td>33.4</td>\n",
       "    </tr>\n",
       "    <tr>\n",
       "      <th>4</th>\n",
       "      <td>0.06905</td>\n",
       "      <td>0.0</td>\n",
       "      <td>2.18</td>\n",
       "      <td>0</td>\n",
       "      <td>0.458</td>\n",
       "      <td>7.147</td>\n",
       "      <td>54.2</td>\n",
       "      <td>6.0622</td>\n",
       "      <td>3</td>\n",
       "      <td>222</td>\n",
       "      <td>18.7</td>\n",
       "      <td>396.90</td>\n",
       "      <td>5.33</td>\n",
       "      <td>36.2</td>\n",
       "    </tr>\n",
       "  </tbody>\n",
       "</table>\n",
       "</div>"
      ],
      "text/plain": [
       "      crim    zn  indus  chas    nox     rm   age     dis  rad  tax  ptratio  \\\n",
       "0  0.00632  18.0   2.31     0  0.538  6.575  65.2  4.0900    1  296     15.3   \n",
       "1  0.02731   0.0   7.07     0  0.469  6.421  78.9  4.9671    2  242     17.8   \n",
       "2  0.02729   0.0   7.07     0  0.469  7.185  61.1  4.9671    2  242     17.8   \n",
       "3  0.03237   0.0   2.18     0  0.458  6.998  45.8  6.0622    3  222     18.7   \n",
       "4  0.06905   0.0   2.18     0  0.458  7.147  54.2  6.0622    3  222     18.7   \n",
       "\n",
       "        b  lstat  medv  \n",
       "0  396.90   4.98  24.0  \n",
       "1  396.90   9.14  21.6  \n",
       "2  392.83   4.03  34.7  \n",
       "3  394.63   2.94  33.4  \n",
       "4  396.90   5.33  36.2  "
      ]
     },
     "execution_count": 3,
     "metadata": {},
     "output_type": "execute_result"
    }
   ],
   "source": [
    "# Examine the head of the dataset - first five rows, gives a good overview of dataset columns and values\n",
    "# Head can only be called on a dataframe\n",
    "raw_data.head()"
   ]
  },
  {
   "cell_type": "markdown",
   "metadata": {},
   "source": [
    "Since the data is numeric, we can also examine some statistical information about each column using `pandas`'s `.describe()` method."
   ]
  },
  {
   "cell_type": "code",
   "execution_count": 4,
   "metadata": {},
   "outputs": [
    {
     "data": {
      "text/html": [
       "<div>\n",
       "<style scoped>\n",
       "    .dataframe tbody tr th:only-of-type {\n",
       "        vertical-align: middle;\n",
       "    }\n",
       "\n",
       "    .dataframe tbody tr th {\n",
       "        vertical-align: top;\n",
       "    }\n",
       "\n",
       "    .dataframe thead th {\n",
       "        text-align: right;\n",
       "    }\n",
       "</style>\n",
       "<table border=\"1\" class=\"dataframe\">\n",
       "  <thead>\n",
       "    <tr style=\"text-align: right;\">\n",
       "      <th></th>\n",
       "      <th>crim</th>\n",
       "      <th>zn</th>\n",
       "      <th>indus</th>\n",
       "      <th>chas</th>\n",
       "      <th>nox</th>\n",
       "      <th>rm</th>\n",
       "      <th>age</th>\n",
       "      <th>dis</th>\n",
       "      <th>rad</th>\n",
       "      <th>tax</th>\n",
       "      <th>ptratio</th>\n",
       "      <th>b</th>\n",
       "      <th>lstat</th>\n",
       "      <th>medv</th>\n",
       "    </tr>\n",
       "  </thead>\n",
       "  <tbody>\n",
       "    <tr>\n",
       "      <th>count</th>\n",
       "      <td>506.000000</td>\n",
       "      <td>506.000000</td>\n",
       "      <td>506.000000</td>\n",
       "      <td>506.000000</td>\n",
       "      <td>506.000000</td>\n",
       "      <td>506.000000</td>\n",
       "      <td>506.000000</td>\n",
       "      <td>506.000000</td>\n",
       "      <td>506.000000</td>\n",
       "      <td>506.000000</td>\n",
       "      <td>506.000000</td>\n",
       "      <td>506.000000</td>\n",
       "      <td>506.000000</td>\n",
       "      <td>506.000000</td>\n",
       "    </tr>\n",
       "    <tr>\n",
       "      <th>mean</th>\n",
       "      <td>3.613524</td>\n",
       "      <td>11.363636</td>\n",
       "      <td>11.136779</td>\n",
       "      <td>0.069170</td>\n",
       "      <td>0.554695</td>\n",
       "      <td>6.284634</td>\n",
       "      <td>68.574901</td>\n",
       "      <td>3.795043</td>\n",
       "      <td>9.549407</td>\n",
       "      <td>408.237154</td>\n",
       "      <td>18.455534</td>\n",
       "      <td>356.674032</td>\n",
       "      <td>12.653063</td>\n",
       "      <td>22.532806</td>\n",
       "    </tr>\n",
       "    <tr>\n",
       "      <th>std</th>\n",
       "      <td>8.601545</td>\n",
       "      <td>23.322453</td>\n",
       "      <td>6.860353</td>\n",
       "      <td>0.253994</td>\n",
       "      <td>0.115878</td>\n",
       "      <td>0.702617</td>\n",
       "      <td>28.148861</td>\n",
       "      <td>2.105710</td>\n",
       "      <td>8.707259</td>\n",
       "      <td>168.537116</td>\n",
       "      <td>2.164946</td>\n",
       "      <td>91.294864</td>\n",
       "      <td>7.141062</td>\n",
       "      <td>9.197104</td>\n",
       "    </tr>\n",
       "    <tr>\n",
       "      <th>min</th>\n",
       "      <td>0.006320</td>\n",
       "      <td>0.000000</td>\n",
       "      <td>0.460000</td>\n",
       "      <td>0.000000</td>\n",
       "      <td>0.385000</td>\n",
       "      <td>3.561000</td>\n",
       "      <td>2.900000</td>\n",
       "      <td>1.129600</td>\n",
       "      <td>1.000000</td>\n",
       "      <td>187.000000</td>\n",
       "      <td>12.600000</td>\n",
       "      <td>0.320000</td>\n",
       "      <td>1.730000</td>\n",
       "      <td>5.000000</td>\n",
       "    </tr>\n",
       "    <tr>\n",
       "      <th>25%</th>\n",
       "      <td>0.082045</td>\n",
       "      <td>0.000000</td>\n",
       "      <td>5.190000</td>\n",
       "      <td>0.000000</td>\n",
       "      <td>0.449000</td>\n",
       "      <td>5.885500</td>\n",
       "      <td>45.025000</td>\n",
       "      <td>2.100175</td>\n",
       "      <td>4.000000</td>\n",
       "      <td>279.000000</td>\n",
       "      <td>17.400000</td>\n",
       "      <td>375.377500</td>\n",
       "      <td>6.950000</td>\n",
       "      <td>17.025000</td>\n",
       "    </tr>\n",
       "    <tr>\n",
       "      <th>50%</th>\n",
       "      <td>0.256510</td>\n",
       "      <td>0.000000</td>\n",
       "      <td>9.690000</td>\n",
       "      <td>0.000000</td>\n",
       "      <td>0.538000</td>\n",
       "      <td>6.208500</td>\n",
       "      <td>77.500000</td>\n",
       "      <td>3.207450</td>\n",
       "      <td>5.000000</td>\n",
       "      <td>330.000000</td>\n",
       "      <td>19.050000</td>\n",
       "      <td>391.440000</td>\n",
       "      <td>11.360000</td>\n",
       "      <td>21.200000</td>\n",
       "    </tr>\n",
       "    <tr>\n",
       "      <th>75%</th>\n",
       "      <td>3.677082</td>\n",
       "      <td>12.500000</td>\n",
       "      <td>18.100000</td>\n",
       "      <td>0.000000</td>\n",
       "      <td>0.624000</td>\n",
       "      <td>6.623500</td>\n",
       "      <td>94.075000</td>\n",
       "      <td>5.188425</td>\n",
       "      <td>24.000000</td>\n",
       "      <td>666.000000</td>\n",
       "      <td>20.200000</td>\n",
       "      <td>396.225000</td>\n",
       "      <td>16.955000</td>\n",
       "      <td>25.000000</td>\n",
       "    </tr>\n",
       "    <tr>\n",
       "      <th>max</th>\n",
       "      <td>88.976200</td>\n",
       "      <td>100.000000</td>\n",
       "      <td>27.740000</td>\n",
       "      <td>1.000000</td>\n",
       "      <td>0.871000</td>\n",
       "      <td>8.780000</td>\n",
       "      <td>100.000000</td>\n",
       "      <td>12.126500</td>\n",
       "      <td>24.000000</td>\n",
       "      <td>711.000000</td>\n",
       "      <td>22.000000</td>\n",
       "      <td>396.900000</td>\n",
       "      <td>37.970000</td>\n",
       "      <td>50.000000</td>\n",
       "    </tr>\n",
       "  </tbody>\n",
       "</table>\n",
       "</div>"
      ],
      "text/plain": [
       "             crim          zn       indus        chas         nox          rm  \\\n",
       "count  506.000000  506.000000  506.000000  506.000000  506.000000  506.000000   \n",
       "mean     3.613524   11.363636   11.136779    0.069170    0.554695    6.284634   \n",
       "std      8.601545   23.322453    6.860353    0.253994    0.115878    0.702617   \n",
       "min      0.006320    0.000000    0.460000    0.000000    0.385000    3.561000   \n",
       "25%      0.082045    0.000000    5.190000    0.000000    0.449000    5.885500   \n",
       "50%      0.256510    0.000000    9.690000    0.000000    0.538000    6.208500   \n",
       "75%      3.677082   12.500000   18.100000    0.000000    0.624000    6.623500   \n",
       "max     88.976200  100.000000   27.740000    1.000000    0.871000    8.780000   \n",
       "\n",
       "              age         dis         rad         tax     ptratio           b  \\\n",
       "count  506.000000  506.000000  506.000000  506.000000  506.000000  506.000000   \n",
       "mean    68.574901    3.795043    9.549407  408.237154   18.455534  356.674032   \n",
       "std     28.148861    2.105710    8.707259  168.537116    2.164946   91.294864   \n",
       "min      2.900000    1.129600    1.000000  187.000000   12.600000    0.320000   \n",
       "25%     45.025000    2.100175    4.000000  279.000000   17.400000  375.377500   \n",
       "50%     77.500000    3.207450    5.000000  330.000000   19.050000  391.440000   \n",
       "75%     94.075000    5.188425   24.000000  666.000000   20.200000  396.225000   \n",
       "max    100.000000   12.126500   24.000000  711.000000   22.000000  396.900000   \n",
       "\n",
       "            lstat        medv  \n",
       "count  506.000000  506.000000  \n",
       "mean    12.653063   22.532806  \n",
       "std      7.141062    9.197104  \n",
       "min      1.730000    5.000000  \n",
       "25%      6.950000   17.025000  \n",
       "50%     11.360000   21.200000  \n",
       "75%     16.955000   25.000000  \n",
       "max     37.970000   50.000000  "
      ]
     },
     "execution_count": 4,
     "metadata": {},
     "output_type": "execute_result"
    }
   ],
   "source": [
    "raw_data.describe()"
   ]
  },
  {
   "cell_type": "markdown",
   "metadata": {},
   "source": [
    "Using the `.info()` method on a dataframe is a good way of quickly identifying the number and data types of each column in the dataframe."
   ]
  },
  {
   "cell_type": "code",
   "execution_count": 5,
   "metadata": {},
   "outputs": [
    {
     "name": "stdout",
     "output_type": "stream",
     "text": [
      "<class 'pandas.core.frame.DataFrame'>\n",
      "RangeIndex: 506 entries, 0 to 505\n",
      "Data columns (total 14 columns):\n",
      "crim       506 non-null float64\n",
      "zn         506 non-null float64\n",
      "indus      506 non-null float64\n",
      "chas       506 non-null int64\n",
      "nox        506 non-null float64\n",
      "rm         506 non-null float64\n",
      "age        506 non-null float64\n",
      "dis        506 non-null float64\n",
      "rad        506 non-null int64\n",
      "tax        506 non-null int64\n",
      "ptratio    506 non-null float64\n",
      "b          506 non-null float64\n",
      "lstat      506 non-null float64\n",
      "medv       506 non-null float64\n",
      "dtypes: float64(11), int64(3)\n",
      "memory usage: 55.4 KB\n"
     ]
    }
   ],
   "source": [
    "raw_data.info()"
   ]
  },
  {
   "cell_type": "markdown",
   "metadata": {},
   "source": [
    "We can see that we have 506 entries (rows) in the dataset, and 14 columns (including the index). We can find out what each of the columns mean by examining documentation for the dataset. Since this is a popular dataset, this won't be a problem. Just look at the descriptions [here](https://www.cs.toronto.edu/~delve/data/boston/bostonDetail.html).\n",
    "\n",
    "The `medv` column is the median value of the house in thousands of dollars (in the 1970s). This is our **target**: a continuous valued quantity that we will try to predict using all other columns i.e. **features** in the dataset.\n",
    "\n",
    "We can see that there are 506 entries in **all** columns of the dataset. This means there are no missing values \n",
    "(`NaN`, `NULL`) although it does **not** mean that there are no outliers or erroneous values in the dataset."
   ]
  },
  {
   "cell_type": "markdown",
   "metadata": {},
   "source": [
    "Not necessary to do this, but I often like to use `seaborn` - a statistical plotting library that's built on top of `matplotlib` - to visualize relationships between individual columns in the dataset. It helps identify correlated features as well as the frequency distribution of values for individual features."
   ]
  },
  {
   "cell_type": "markdown",
   "metadata": {},
   "source": [
    "## Data Preprocessing"
   ]
  },
  {
   "cell_type": "code",
   "execution_count": 7,
   "metadata": {},
   "outputs": [],
   "source": [
    "# First, extract the label from the dataset\n",
    "raw_labels = raw_data['medv'] # Get the column named `medv` from the dataset"
   ]
  },
  {
   "cell_type": "code",
   "execution_count": 8,
   "metadata": {},
   "outputs": [
    {
     "data": {
      "text/plain": [
       "0    24.0\n",
       "1    21.6\n",
       "2    34.7\n",
       "3    33.4\n",
       "4    36.2\n",
       "Name: medv, dtype: float64"
      ]
     },
     "execution_count": 8,
     "metadata": {},
     "output_type": "execute_result"
    }
   ],
   "source": [
    "# Sanity check - did we get the right values? Compare against raw_data.head() earlier\n",
    "raw_labels.head()"
   ]
  },
  {
   "cell_type": "code",
   "execution_count": 9,
   "metadata": {},
   "outputs": [],
   "source": [
    "# All columns except `medv` are features. So drop `medv` from dataframe and store result\n",
    "raw_features = raw_data.drop('medv', axis=1)"
   ]
  },
  {
   "cell_type": "code",
   "execution_count": 10,
   "metadata": {},
   "outputs": [
    {
     "data": {
      "text/html": [
       "<div>\n",
       "<style scoped>\n",
       "    .dataframe tbody tr th:only-of-type {\n",
       "        vertical-align: middle;\n",
       "    }\n",
       "\n",
       "    .dataframe tbody tr th {\n",
       "        vertical-align: top;\n",
       "    }\n",
       "\n",
       "    .dataframe thead th {\n",
       "        text-align: right;\n",
       "    }\n",
       "</style>\n",
       "<table border=\"1\" class=\"dataframe\">\n",
       "  <thead>\n",
       "    <tr style=\"text-align: right;\">\n",
       "      <th></th>\n",
       "      <th>crim</th>\n",
       "      <th>zn</th>\n",
       "      <th>indus</th>\n",
       "      <th>chas</th>\n",
       "      <th>nox</th>\n",
       "      <th>rm</th>\n",
       "      <th>age</th>\n",
       "      <th>dis</th>\n",
       "      <th>rad</th>\n",
       "      <th>tax</th>\n",
       "      <th>ptratio</th>\n",
       "      <th>b</th>\n",
       "      <th>lstat</th>\n",
       "    </tr>\n",
       "  </thead>\n",
       "  <tbody>\n",
       "    <tr>\n",
       "      <th>0</th>\n",
       "      <td>0.00632</td>\n",
       "      <td>18.0</td>\n",
       "      <td>2.31</td>\n",
       "      <td>0</td>\n",
       "      <td>0.538</td>\n",
       "      <td>6.575</td>\n",
       "      <td>65.2</td>\n",
       "      <td>4.0900</td>\n",
       "      <td>1</td>\n",
       "      <td>296</td>\n",
       "      <td>15.3</td>\n",
       "      <td>396.90</td>\n",
       "      <td>4.98</td>\n",
       "    </tr>\n",
       "    <tr>\n",
       "      <th>1</th>\n",
       "      <td>0.02731</td>\n",
       "      <td>0.0</td>\n",
       "      <td>7.07</td>\n",
       "      <td>0</td>\n",
       "      <td>0.469</td>\n",
       "      <td>6.421</td>\n",
       "      <td>78.9</td>\n",
       "      <td>4.9671</td>\n",
       "      <td>2</td>\n",
       "      <td>242</td>\n",
       "      <td>17.8</td>\n",
       "      <td>396.90</td>\n",
       "      <td>9.14</td>\n",
       "    </tr>\n",
       "    <tr>\n",
       "      <th>2</th>\n",
       "      <td>0.02729</td>\n",
       "      <td>0.0</td>\n",
       "      <td>7.07</td>\n",
       "      <td>0</td>\n",
       "      <td>0.469</td>\n",
       "      <td>7.185</td>\n",
       "      <td>61.1</td>\n",
       "      <td>4.9671</td>\n",
       "      <td>2</td>\n",
       "      <td>242</td>\n",
       "      <td>17.8</td>\n",
       "      <td>392.83</td>\n",
       "      <td>4.03</td>\n",
       "    </tr>\n",
       "    <tr>\n",
       "      <th>3</th>\n",
       "      <td>0.03237</td>\n",
       "      <td>0.0</td>\n",
       "      <td>2.18</td>\n",
       "      <td>0</td>\n",
       "      <td>0.458</td>\n",
       "      <td>6.998</td>\n",
       "      <td>45.8</td>\n",
       "      <td>6.0622</td>\n",
       "      <td>3</td>\n",
       "      <td>222</td>\n",
       "      <td>18.7</td>\n",
       "      <td>394.63</td>\n",
       "      <td>2.94</td>\n",
       "    </tr>\n",
       "    <tr>\n",
       "      <th>4</th>\n",
       "      <td>0.06905</td>\n",
       "      <td>0.0</td>\n",
       "      <td>2.18</td>\n",
       "      <td>0</td>\n",
       "      <td>0.458</td>\n",
       "      <td>7.147</td>\n",
       "      <td>54.2</td>\n",
       "      <td>6.0622</td>\n",
       "      <td>3</td>\n",
       "      <td>222</td>\n",
       "      <td>18.7</td>\n",
       "      <td>396.90</td>\n",
       "      <td>5.33</td>\n",
       "    </tr>\n",
       "  </tbody>\n",
       "</table>\n",
       "</div>"
      ],
      "text/plain": [
       "      crim    zn  indus  chas    nox     rm   age     dis  rad  tax  ptratio  \\\n",
       "0  0.00632  18.0   2.31     0  0.538  6.575  65.2  4.0900    1  296     15.3   \n",
       "1  0.02731   0.0   7.07     0  0.469  6.421  78.9  4.9671    2  242     17.8   \n",
       "2  0.02729   0.0   7.07     0  0.469  7.185  61.1  4.9671    2  242     17.8   \n",
       "3  0.03237   0.0   2.18     0  0.458  6.998  45.8  6.0622    3  222     18.7   \n",
       "4  0.06905   0.0   2.18     0  0.458  7.147  54.2  6.0622    3  222     18.7   \n",
       "\n",
       "        b  lstat  \n",
       "0  396.90   4.98  \n",
       "1  396.90   9.14  \n",
       "2  392.83   4.03  \n",
       "3  394.63   2.94  \n",
       "4  396.90   5.33  "
      ]
     },
     "execution_count": 10,
     "metadata": {},
     "output_type": "execute_result"
    }
   ],
   "source": [
    "# Sanity check - did we get the right values?\n",
    "raw_features.head()"
   ]
  },
  {
   "cell_type": "markdown",
   "metadata": {},
   "source": [
    "### Train-Test-Validation Split\n",
    "Now that we've separated labels from data, we can start separating the dataset into training, validation, and test sets.\n",
    "- **Training Set**: samples and labels that will be used to optimise the weights of our model using gradient descent i.e. the data the model will actually be trained on.\n",
    "- **Validation Set**: samples that will **not** be used to optimise weights, but will be used to monitor the model's accuracy during training (as a way of detecting overfittng or underfitting). Validation set is often used during hyperparameter tuning (although this carries the risk of creating [data leaks](https://towardsdatascience.com/data-leakage-in-machine-learning-10bdd3eec742)).\n",
    "- **Test Set**: samples that will be used to evaluate or test the final model's performance after all hyperparameter tuning/model training is done.\n",
    "\n",
    "Again, `keras` and `sklearn` already provide built-in methods for defining train/test splits. I'm just doing it manually to show you how we'd go about doing this manually for completeness. `sklearn` lets you do this with any arbitrary dataset, so manually doing this isn't strictly necessary.\n",
    "\n",
    "Since this isn't a very large dataset ($<10k$ samples), it's safer to specify a 75-15-15 train/validation/test split."
   ]
  },
  {
   "cell_type": "code",
   "execution_count": 11,
   "metadata": {},
   "outputs": [],
   "source": [
    "# Storing %age of all samples that will be assigned to each set\n",
    "TRAIN_RATIO = 0.75\n",
    "TEST_RATIO = 0.15\n",
    "VAL_RATIO = 0.15"
   ]
  },
  {
   "cell_type": "code",
   "execution_count": 12,
   "metadata": {},
   "outputs": [],
   "source": [
    "# Using these %ages to create sample indices. \n",
    "# Don't need to specify a TEST_INDEX - it's just the last index in the dataset\n",
    "# Using ceil to round indices up and then casting to int - indices must always be ints\n",
    "N_SAMPLES = len(raw_features)\n",
    "TRAIN_INDEX = int(np.ceil(N_SAMPLES * TRAIN_RATIO))\n",
    "VAL_INDEX = TRAIN_INDEX + int(np.ceil(N_SAMPLES * VAL_RATIO))"
   ]
  },
  {
   "cell_type": "code",
   "execution_count": 13,
   "metadata": {},
   "outputs": [
    {
     "name": "stdout",
     "output_type": "stream",
     "text": [
      "Total number of samples:  506\n",
      "Index of the last training sample:  380\n",
      "Index of the last validation sample:  456\n",
      "Indx of the last test sample:  505\n"
     ]
    }
   ],
   "source": [
    "print(\"Total number of samples: \", N_SAMPLES)\n",
    "print(\"Index of the last training sample: \", TRAIN_INDEX)\n",
    "print(\"Index of the last validation sample: \", VAL_INDEX)\n",
    "print(\"Indx of the last test sample: \", N_SAMPLES - 1) # accounting for 0 indexing"
   ]
  },
  {
   "cell_type": "code",
   "execution_count": 14,
   "metadata": {},
   "outputs": [],
   "source": [
    "# Now indexing the features and labels to manually create train/validation/test features\n",
    "# Using pandas `iloc` - index-based location function\n",
    "# Training set: First index to TRAIN_INDEX - 1\n",
    "raw_X_train = raw_features.iloc[:TRAIN_INDEX] \n",
    "y_train = raw_labels.iloc[:TRAIN_INDEX]\n",
    "\n",
    "# Validation Set: Between TRAIN_INDEX and VAL_INDEX \n",
    "raw_X_val = raw_features.iloc[TRAIN_INDEX : VAL_INDEX]    \n",
    "y_val = raw_features.iloc[TRAIN_INDEX : VAL_INDEX]\n",
    "\n",
    "# Test Set: Between VAL_INDEX and the last index in the dataframe\n",
    "raw_X_test = raw_features.iloc[VAL_INDEX:]    \n",
    "y_test = raw_features.iloc[VAL_INDEX:]"
   ]
  },
  {
   "cell_type": "code",
   "execution_count": 15,
   "metadata": {},
   "outputs": [],
   "source": [
    "# Sanity checks - using assert. If all conditions true, no O/P. Otherwise, error\n",
    "# Do all features have the same number of columns?\n",
    "assert (raw_X_train.shape[1] == raw_X_val.shape[1] and raw_X_train.shape[1] == raw_X_val.shape[1])\n",
    "\n",
    "# One label per each set of features across all sets?\n",
    "assert (len(raw_X_train) == len(y_train))\n",
    "assert (len(raw_X_test) == len(y_test))\n",
    "assert (len(raw_X_val) == len(y_val))"
   ]
  },
  {
   "cell_type": "markdown",
   "metadata": {},
   "source": [
    "### Normalization\n",
    "Looking back at the table generated by `raw_data.describe()`, it is clear that all features take drastically different values. This can skew the dataset's hypothesis: features with larger magnitudes can have a \"greater effect\" on the hypothesis output than those with smaller magnitudes.\n",
    "\n",
    "This is why we normalize or standardize features: each feature should occupy roughly the same range. We do this by subtracting the mean of each feature from all samples and then dividing the resultant by the standard deviation of that feature.\n",
    "\n",
    "Another caveat: we use the mean and standard deviation for the **training data** and only the training data when doing normalization. Although it may make more intuitive sense to use the validation set's mean/std for normalizing the validation features, and the test set's mean/std for normalizing the test set features, we use the **training mean and standard deviation** for this. \n",
    "\n",
    "We do this because when training an ML model, we always assume that we have the training data, and **only the training data** available to us. We want to fit the model to the training data, and not the validation or test data. Otherwise, the model's performance on these datasets would not be indicative of its performance on actual unseen data. \n",
    "\n",
    "If we use the mean of the validation or test sets to normalize these datasets, we're creating an unintentional data leak: implicitly, we're modifying the model's pipeline to fit data we technically don't even know exists. \n",
    "\n",
    "More details on page 86 of Deep Learning with Python by Francois Chollet, or [here](https://www.tensorflow.org/tutorials/keras/regression#normalize_the_data)."
   ]
  },
  {
   "cell_type": "code",
   "execution_count": 16,
   "metadata": {},
   "outputs": [],
   "source": [
    "# Storing mean and standard deviation for the original training features\n",
    "X_train_means = raw_X_train.mean(axis=0)\n",
    "X_train_stds = raw_X_train.std(axis=0)"
   ]
  },
  {
   "cell_type": "code",
   "execution_count": 17,
   "metadata": {},
   "outputs": [
    {
     "data": {
      "text/plain": [
       "crim         0.935720\n",
       "zn          15.131579\n",
       "indus        8.959316\n",
       "chas         0.092105\n",
       "nox          0.521460\n",
       "rm           6.372497\n",
       "age         62.443947\n",
       "dis          4.334727\n",
       "rad          5.702632\n",
       "tax        333.136842\n",
       "ptratio     17.888947\n",
       "b          379.545474\n",
       "lstat       10.606737\n",
       "dtype: float64"
      ]
     },
     "execution_count": 17,
     "metadata": {},
     "output_type": "execute_result"
    }
   ],
   "source": [
    "# This has calculated means and standard deviations for **each column** using the training data.\n",
    "X_train_means"
   ]
  },
  {
   "cell_type": "code",
   "execution_count": 18,
   "metadata": {},
   "outputs": [
    {
     "data": {
      "text/plain": [
       "crim         2.627286\n",
       "zn          25.838060\n",
       "indus        6.360139\n",
       "chas         0.289556\n",
       "nox          0.110250\n",
       "rm           0.719396\n",
       "age         28.794617\n",
       "dis          2.150173\n",
       "rad          5.004325\n",
       "tax        108.641538\n",
       "ptratio      2.218865\n",
       "b           41.276383\n",
       "lstat        6.182072\n",
       "dtype: float64"
      ]
     },
     "execution_count": 18,
     "metadata": {},
     "output_type": "execute_result"
    }
   ],
   "source": [
    "X_train_stds"
   ]
  },
  {
   "cell_type": "code",
   "execution_count": 19,
   "metadata": {},
   "outputs": [],
   "source": [
    "# Normalizing features\n",
    "X_train = (raw_X_train - X_train_means)/X_train_stds\n",
    "X_val = (raw_X_val - X_train_means)/X_train_stds\n",
    "X_test = (raw_X_test - X_train_means)/X_train_stds"
   ]
  },
  {
   "cell_type": "code",
   "execution_count": 20,
   "metadata": {},
   "outputs": [
    {
     "data": {
      "text/html": [
       "<div>\n",
       "<style scoped>\n",
       "    .dataframe tbody tr th:only-of-type {\n",
       "        vertical-align: middle;\n",
       "    }\n",
       "\n",
       "    .dataframe tbody tr th {\n",
       "        vertical-align: top;\n",
       "    }\n",
       "\n",
       "    .dataframe thead th {\n",
       "        text-align: right;\n",
       "    }\n",
       "</style>\n",
       "<table border=\"1\" class=\"dataframe\">\n",
       "  <thead>\n",
       "    <tr style=\"text-align: right;\">\n",
       "      <th></th>\n",
       "      <th>crim</th>\n",
       "      <th>zn</th>\n",
       "      <th>indus</th>\n",
       "      <th>chas</th>\n",
       "      <th>nox</th>\n",
       "      <th>rm</th>\n",
       "      <th>age</th>\n",
       "      <th>dis</th>\n",
       "      <th>rad</th>\n",
       "      <th>tax</th>\n",
       "      <th>ptratio</th>\n",
       "      <th>b</th>\n",
       "      <th>lstat</th>\n",
       "    </tr>\n",
       "  </thead>\n",
       "  <tbody>\n",
       "    <tr>\n",
       "      <th>count</th>\n",
       "      <td>3.800000e+02</td>\n",
       "      <td>3.800000e+02</td>\n",
       "      <td>3.800000e+02</td>\n",
       "      <td>3.800000e+02</td>\n",
       "      <td>3.800000e+02</td>\n",
       "      <td>3.800000e+02</td>\n",
       "      <td>3.800000e+02</td>\n",
       "      <td>3.800000e+02</td>\n",
       "      <td>3.800000e+02</td>\n",
       "      <td>3.800000e+02</td>\n",
       "      <td>3.800000e+02</td>\n",
       "      <td>3.800000e+02</td>\n",
       "      <td>3.800000e+02</td>\n",
       "    </tr>\n",
       "    <tr>\n",
       "      <th>mean</th>\n",
       "      <td>8.414322e-17</td>\n",
       "      <td>-3.850721e-16</td>\n",
       "      <td>3.089926e-15</td>\n",
       "      <td>5.714727e-16</td>\n",
       "      <td>-7.775067e-15</td>\n",
       "      <td>-5.271295e-15</td>\n",
       "      <td>-3.044348e-16</td>\n",
       "      <td>4.511011e-16</td>\n",
       "      <td>-3.505967e-17</td>\n",
       "      <td>-1.565999e-16</td>\n",
       "      <td>1.399582e-14</td>\n",
       "      <td>1.457694e-14</td>\n",
       "      <td>7.368375e-16</td>\n",
       "    </tr>\n",
       "    <tr>\n",
       "      <th>std</th>\n",
       "      <td>1.000000e+00</td>\n",
       "      <td>1.000000e+00</td>\n",
       "      <td>1.000000e+00</td>\n",
       "      <td>1.000000e+00</td>\n",
       "      <td>1.000000e+00</td>\n",
       "      <td>1.000000e+00</td>\n",
       "      <td>1.000000e+00</td>\n",
       "      <td>1.000000e+00</td>\n",
       "      <td>1.000000e+00</td>\n",
       "      <td>1.000000e+00</td>\n",
       "      <td>1.000000e+00</td>\n",
       "      <td>1.000000e+00</td>\n",
       "      <td>1.000000e+00</td>\n",
       "    </tr>\n",
       "    <tr>\n",
       "      <th>min</th>\n",
       "      <td>-3.537491e-01</td>\n",
       "      <td>-5.856314e-01</td>\n",
       "      <td>-1.336341e+00</td>\n",
       "      <td>-3.180917e-01</td>\n",
       "      <td>-1.237735e+00</td>\n",
       "      <td>-3.908135e+00</td>\n",
       "      <td>-2.067885e+00</td>\n",
       "      <td>-1.490637e+00</td>\n",
       "      <td>-9.397135e-01</td>\n",
       "      <td>-1.345129e+00</td>\n",
       "      <td>-2.383628e+00</td>\n",
       "      <td>-7.479955e+00</td>\n",
       "      <td>-1.435884e+00</td>\n",
       "    </tr>\n",
       "    <tr>\n",
       "      <th>25%</th>\n",
       "      <td>-3.327113e-01</td>\n",
       "      <td>-5.856314e-01</td>\n",
       "      <td>-7.718881e-01</td>\n",
       "      <td>-3.180917e-01</td>\n",
       "      <td>-7.504312e-01</td>\n",
       "      <td>-6.126630e-01</td>\n",
       "      <td>-8.975270e-01</td>\n",
       "      <td>-8.444095e-01</td>\n",
       "      <td>-3.402320e-01</td>\n",
       "      <td>-5.811483e-01</td>\n",
       "      <td>-6.710402e-01</td>\n",
       "      <td>2.742552e-02</td>\n",
       "      <td>-7.277878e-01</td>\n",
       "    </tr>\n",
       "    <tr>\n",
       "      <th>50%</th>\n",
       "      <td>-3.021427e-01</td>\n",
       "      <td>-5.856314e-01</td>\n",
       "      <td>-3.222124e-01</td>\n",
       "      <td>-3.180917e-01</td>\n",
       "      <td>-2.037172e-01</td>\n",
       "      <td>-1.709731e-01</td>\n",
       "      <td>1.113421e-01</td>\n",
       "      <td>-1.583252e-01</td>\n",
       "      <td>-1.404049e-01</td>\n",
       "      <td>-2.405787e-01</td>\n",
       "      <td>9.511740e-02</td>\n",
       "      <td>3.081551e-01</td>\n",
       "      <td>-1.887291e-01</td>\n",
       "    </tr>\n",
       "    <tr>\n",
       "      <th>75%</th>\n",
       "      <td>-1.483708e-01</td>\n",
       "      <td>2.658257e-01</td>\n",
       "      <td>2.909817e-01</td>\n",
       "      <td>-3.180917e-01</td>\n",
       "      <td>2.316586e-01</td>\n",
       "      <td>4.917355e-01</td>\n",
       "      <td>9.743506e-01</td>\n",
       "      <td>6.459821e-01</td>\n",
       "      <td>-1.404049e-01</td>\n",
       "      <td>5.970383e-01</td>\n",
       "      <td>7.711388e-01</td>\n",
       "      <td>4.005808e-01</td>\n",
       "      <td>4.587075e-01</td>\n",
       "    </tr>\n",
       "    <tr>\n",
       "      <th>max</th>\n",
       "      <td>8.644846e+00</td>\n",
       "      <td>3.284628e+00</td>\n",
       "      <td>2.624264e+00</td>\n",
       "      <td>3.135475e+00</td>\n",
       "      <td>3.170445e+00</td>\n",
       "      <td>3.346561e+00</td>\n",
       "      <td>1.304273e+00</td>\n",
       "      <td>3.623789e+00</td>\n",
       "      <td>3.656311e+00</td>\n",
       "      <td>3.063866e+00</td>\n",
       "      <td>1.852773e+00</td>\n",
       "      <td>4.204469e-01</td>\n",
       "      <td>4.426228e+00</td>\n",
       "    </tr>\n",
       "  </tbody>\n",
       "</table>\n",
       "</div>"
      ],
      "text/plain": [
       "               crim            zn         indus          chas           nox  \\\n",
       "count  3.800000e+02  3.800000e+02  3.800000e+02  3.800000e+02  3.800000e+02   \n",
       "mean   8.414322e-17 -3.850721e-16  3.089926e-15  5.714727e-16 -7.775067e-15   \n",
       "std    1.000000e+00  1.000000e+00  1.000000e+00  1.000000e+00  1.000000e+00   \n",
       "min   -3.537491e-01 -5.856314e-01 -1.336341e+00 -3.180917e-01 -1.237735e+00   \n",
       "25%   -3.327113e-01 -5.856314e-01 -7.718881e-01 -3.180917e-01 -7.504312e-01   \n",
       "50%   -3.021427e-01 -5.856314e-01 -3.222124e-01 -3.180917e-01 -2.037172e-01   \n",
       "75%   -1.483708e-01  2.658257e-01  2.909817e-01 -3.180917e-01  2.316586e-01   \n",
       "max    8.644846e+00  3.284628e+00  2.624264e+00  3.135475e+00  3.170445e+00   \n",
       "\n",
       "                 rm           age           dis           rad           tax  \\\n",
       "count  3.800000e+02  3.800000e+02  3.800000e+02  3.800000e+02  3.800000e+02   \n",
       "mean  -5.271295e-15 -3.044348e-16  4.511011e-16 -3.505967e-17 -1.565999e-16   \n",
       "std    1.000000e+00  1.000000e+00  1.000000e+00  1.000000e+00  1.000000e+00   \n",
       "min   -3.908135e+00 -2.067885e+00 -1.490637e+00 -9.397135e-01 -1.345129e+00   \n",
       "25%   -6.126630e-01 -8.975270e-01 -8.444095e-01 -3.402320e-01 -5.811483e-01   \n",
       "50%   -1.709731e-01  1.113421e-01 -1.583252e-01 -1.404049e-01 -2.405787e-01   \n",
       "75%    4.917355e-01  9.743506e-01  6.459821e-01 -1.404049e-01  5.970383e-01   \n",
       "max    3.346561e+00  1.304273e+00  3.623789e+00  3.656311e+00  3.063866e+00   \n",
       "\n",
       "            ptratio             b         lstat  \n",
       "count  3.800000e+02  3.800000e+02  3.800000e+02  \n",
       "mean   1.399582e-14  1.457694e-14  7.368375e-16  \n",
       "std    1.000000e+00  1.000000e+00  1.000000e+00  \n",
       "min   -2.383628e+00 -7.479955e+00 -1.435884e+00  \n",
       "25%   -6.710402e-01  2.742552e-02 -7.277878e-01  \n",
       "50%    9.511740e-02  3.081551e-01 -1.887291e-01  \n",
       "75%    7.711388e-01  4.005808e-01  4.587075e-01  \n",
       "max    1.852773e+00  4.204469e-01  4.426228e+00  "
      ]
     },
     "execution_count": 20,
     "metadata": {},
     "output_type": "execute_result"
    }
   ],
   "source": [
    "# Did it work? Sort of \n",
    "X_train.describe()"
   ]
  },
  {
   "cell_type": "code",
   "execution_count": 21,
   "metadata": {},
   "outputs": [
    {
     "data": {
      "text/html": [
       "<div>\n",
       "<style scoped>\n",
       "    .dataframe tbody tr th:only-of-type {\n",
       "        vertical-align: middle;\n",
       "    }\n",
       "\n",
       "    .dataframe tbody tr th {\n",
       "        vertical-align: top;\n",
       "    }\n",
       "\n",
       "    .dataframe thead th {\n",
       "        text-align: right;\n",
       "    }\n",
       "</style>\n",
       "<table border=\"1\" class=\"dataframe\">\n",
       "  <thead>\n",
       "    <tr style=\"text-align: right;\">\n",
       "      <th></th>\n",
       "      <th>crim</th>\n",
       "      <th>zn</th>\n",
       "      <th>indus</th>\n",
       "      <th>chas</th>\n",
       "      <th>nox</th>\n",
       "      <th>rm</th>\n",
       "      <th>age</th>\n",
       "      <th>dis</th>\n",
       "      <th>rad</th>\n",
       "      <th>tax</th>\n",
       "      <th>ptratio</th>\n",
       "      <th>b</th>\n",
       "      <th>lstat</th>\n",
       "    </tr>\n",
       "  </thead>\n",
       "  <tbody>\n",
       "    <tr>\n",
       "      <th>count</th>\n",
       "      <td>76.000000</td>\n",
       "      <td>7.600000e+01</td>\n",
       "      <td>7.600000e+01</td>\n",
       "      <td>7.600000e+01</td>\n",
       "      <td>76.000000</td>\n",
       "      <td>76.000000</td>\n",
       "      <td>76.000000</td>\n",
       "      <td>76.000000</td>\n",
       "      <td>7.600000e+01</td>\n",
       "      <td>7.600000e+01</td>\n",
       "      <td>7.600000e+01</td>\n",
       "      <td>76.000000</td>\n",
       "      <td>76.000000</td>\n",
       "    </tr>\n",
       "    <tr>\n",
       "      <th>mean</th>\n",
       "      <td>5.961772</td>\n",
       "      <td>-5.856314e-01</td>\n",
       "      <td>1.437183e+00</td>\n",
       "      <td>-3.180917e-01</td>\n",
       "      <td>1.491479</td>\n",
       "      <td>-0.544313</td>\n",
       "      <td>1.088179</td>\n",
       "      <td>-1.164213</td>\n",
       "      <td>3.656311e+00</td>\n",
       "      <td>3.063866e+00</td>\n",
       "      <td>1.041547e+00</td>\n",
       "      <td>-3.315365</td>\n",
       "      <td>1.753283</td>\n",
       "    </tr>\n",
       "    <tr>\n",
       "      <th>std</th>\n",
       "      <td>5.951101</td>\n",
       "      <td>2.235200e-16</td>\n",
       "      <td>1.341120e-15</td>\n",
       "      <td>1.117600e-16</td>\n",
       "      <td>0.423271</td>\n",
       "      <td>0.901748</td>\n",
       "      <td>0.279281</td>\n",
       "      <td>0.141090</td>\n",
       "      <td>3.129280e-15</td>\n",
       "      <td>4.023360e-15</td>\n",
       "      <td>2.011680e-15</td>\n",
       "      <td>3.903725</td>\n",
       "      <td>0.911137</td>\n",
       "    </tr>\n",
       "    <tr>\n",
       "      <th>min</th>\n",
       "      <td>1.452697</td>\n",
       "      <td>-5.856314e-01</td>\n",
       "      <td>1.437183e+00</td>\n",
       "      <td>-3.180917e-01</td>\n",
       "      <td>0.567261</td>\n",
       "      <td>-3.106074</td>\n",
       "      <td>-0.095294</td>\n",
       "      <td>-1.468080</td>\n",
       "      <td>3.656311e+00</td>\n",
       "      <td>3.063866e+00</td>\n",
       "      <td>1.041547e+00</td>\n",
       "      <td>-9.187469</td>\n",
       "      <td>-0.080351</td>\n",
       "    </tr>\n",
       "    <tr>\n",
       "      <th>25%</th>\n",
       "      <td>2.774073</td>\n",
       "      <td>-5.856314e-01</td>\n",
       "      <td>1.437183e+00</td>\n",
       "      <td>-3.180917e-01</td>\n",
       "      <td>1.428942</td>\n",
       "      <td>-1.053310</td>\n",
       "      <td>1.014289</td>\n",
       "      <td>-1.278049</td>\n",
       "      <td>3.656311e+00</td>\n",
       "      <td>3.063866e+00</td>\n",
       "      <td>1.041547e+00</td>\n",
       "      <td>-7.574621</td>\n",
       "      <td>1.075410</td>\n",
       "    </tr>\n",
       "    <tr>\n",
       "      <th>50%</th>\n",
       "      <td>3.877835</td>\n",
       "      <td>-5.856314e-01</td>\n",
       "      <td>1.437183e+00</td>\n",
       "      <td>-3.180917e-01</td>\n",
       "      <td>1.555926</td>\n",
       "      <td>-0.340560</td>\n",
       "      <td>1.182723</td>\n",
       "      <td>-1.169523</td>\n",
       "      <td>3.656311e+00</td>\n",
       "      <td>3.063866e+00</td>\n",
       "      <td>1.041547e+00</td>\n",
       "      <td>-1.457988</td>\n",
       "      <td>1.550979</td>\n",
       "    </tr>\n",
       "    <tr>\n",
       "      <th>75%</th>\n",
       "      <td>6.163882</td>\n",
       "      <td>-5.856314e-01</td>\n",
       "      <td>1.437183e+00</td>\n",
       "      <td>-3.180917e-01</td>\n",
       "      <td>1.737333</td>\n",
       "      <td>0.076109</td>\n",
       "      <td>1.304273</td>\n",
       "      <td>-1.072100</td>\n",
       "      <td>3.656311e+00</td>\n",
       "      <td>3.063866e+00</td>\n",
       "      <td>1.041547e+00</td>\n",
       "      <td>0.368238</td>\n",
       "      <td>2.236429</td>\n",
       "    </tr>\n",
       "    <tr>\n",
       "      <th>max</th>\n",
       "      <td>33.510051</td>\n",
       "      <td>-5.856314e-01</td>\n",
       "      <td>1.437183e+00</td>\n",
       "      <td>-3.180917e-01</td>\n",
       "      <td>1.982232</td>\n",
       "      <td>1.418555</td>\n",
       "      <td>1.304273</td>\n",
       "      <td>-0.855106</td>\n",
       "      <td>3.656311e+00</td>\n",
       "      <td>3.063866e+00</td>\n",
       "      <td>1.041547e+00</td>\n",
       "      <td>0.420447</td>\n",
       "      <td>4.266088</td>\n",
       "    </tr>\n",
       "  </tbody>\n",
       "</table>\n",
       "</div>"
      ],
      "text/plain": [
       "            crim            zn         indus          chas        nox  \\\n",
       "count  76.000000  7.600000e+01  7.600000e+01  7.600000e+01  76.000000   \n",
       "mean    5.961772 -5.856314e-01  1.437183e+00 -3.180917e-01   1.491479   \n",
       "std     5.951101  2.235200e-16  1.341120e-15  1.117600e-16   0.423271   \n",
       "min     1.452697 -5.856314e-01  1.437183e+00 -3.180917e-01   0.567261   \n",
       "25%     2.774073 -5.856314e-01  1.437183e+00 -3.180917e-01   1.428942   \n",
       "50%     3.877835 -5.856314e-01  1.437183e+00 -3.180917e-01   1.555926   \n",
       "75%     6.163882 -5.856314e-01  1.437183e+00 -3.180917e-01   1.737333   \n",
       "max    33.510051 -5.856314e-01  1.437183e+00 -3.180917e-01   1.982232   \n",
       "\n",
       "              rm        age        dis           rad           tax  \\\n",
       "count  76.000000  76.000000  76.000000  7.600000e+01  7.600000e+01   \n",
       "mean   -0.544313   1.088179  -1.164213  3.656311e+00  3.063866e+00   \n",
       "std     0.901748   0.279281   0.141090  3.129280e-15  4.023360e-15   \n",
       "min    -3.106074  -0.095294  -1.468080  3.656311e+00  3.063866e+00   \n",
       "25%    -1.053310   1.014289  -1.278049  3.656311e+00  3.063866e+00   \n",
       "50%    -0.340560   1.182723  -1.169523  3.656311e+00  3.063866e+00   \n",
       "75%     0.076109   1.304273  -1.072100  3.656311e+00  3.063866e+00   \n",
       "max     1.418555   1.304273  -0.855106  3.656311e+00  3.063866e+00   \n",
       "\n",
       "            ptratio          b      lstat  \n",
       "count  7.600000e+01  76.000000  76.000000  \n",
       "mean   1.041547e+00  -3.315365   1.753283  \n",
       "std    2.011680e-15   3.903725   0.911137  \n",
       "min    1.041547e+00  -9.187469  -0.080351  \n",
       "25%    1.041547e+00  -7.574621   1.075410  \n",
       "50%    1.041547e+00  -1.457988   1.550979  \n",
       "75%    1.041547e+00   0.368238   2.236429  \n",
       "max    1.041547e+00   0.420447   4.266088  "
      ]
     },
     "execution_count": 21,
     "metadata": {},
     "output_type": "execute_result"
    }
   ],
   "source": [
    "X_val.describe()"
   ]
  },
  {
   "cell_type": "code",
   "execution_count": 22,
   "metadata": {},
   "outputs": [
    {
     "data": {
      "text/html": [
       "<div>\n",
       "<style scoped>\n",
       "    .dataframe tbody tr th:only-of-type {\n",
       "        vertical-align: middle;\n",
       "    }\n",
       "\n",
       "    .dataframe tbody tr th {\n",
       "        vertical-align: top;\n",
       "    }\n",
       "\n",
       "    .dataframe thead th {\n",
       "        text-align: right;\n",
       "    }\n",
       "</style>\n",
       "<table border=\"1\" class=\"dataframe\">\n",
       "  <thead>\n",
       "    <tr style=\"text-align: right;\">\n",
       "      <th></th>\n",
       "      <th>crim</th>\n",
       "      <th>zn</th>\n",
       "      <th>indus</th>\n",
       "      <th>chas</th>\n",
       "      <th>nox</th>\n",
       "      <th>rm</th>\n",
       "      <th>age</th>\n",
       "      <th>dis</th>\n",
       "      <th>rad</th>\n",
       "      <th>tax</th>\n",
       "      <th>ptratio</th>\n",
       "      <th>b</th>\n",
       "      <th>lstat</th>\n",
       "    </tr>\n",
       "  </thead>\n",
       "  <tbody>\n",
       "    <tr>\n",
       "      <th>count</th>\n",
       "      <td>50.000000</td>\n",
       "      <td>5.000000e+01</td>\n",
       "      <td>50.000000</td>\n",
       "      <td>5.000000e+01</td>\n",
       "      <td>50.000000</td>\n",
       "      <td>50.000000</td>\n",
       "      <td>50.000000</td>\n",
       "      <td>50.000000</td>\n",
       "      <td>50.000000</td>\n",
       "      <td>50.000000</td>\n",
       "      <td>50.000000</td>\n",
       "      <td>50.000000</td>\n",
       "      <td>50.000000</td>\n",
       "    </tr>\n",
       "    <tr>\n",
       "      <th>mean</th>\n",
       "      <td>1.252694</td>\n",
       "      <td>-5.856314e-01</td>\n",
       "      <td>1.280174</td>\n",
       "      <td>-3.180917e-01</td>\n",
       "      <td>0.783679</td>\n",
       "      <td>-0.408645</td>\n",
       "      <td>0.500720</td>\n",
       "      <td>-0.770471</td>\n",
       "      <td>2.221552</td>\n",
       "      <td>2.338545</td>\n",
       "      <td>1.000986</td>\n",
       "      <td>-0.568186</td>\n",
       "      <td>0.684829</td>\n",
       "    </tr>\n",
       "    <tr>\n",
       "      <th>std</th>\n",
       "      <td>1.588619</td>\n",
       "      <td>2.242989e-16</td>\n",
       "      <td>0.768610</td>\n",
       "      <td>3.364484e-16</td>\n",
       "      <td>0.487613</td>\n",
       "      <td>0.613005</td>\n",
       "      <td>0.608830</td>\n",
       "      <td>0.248410</td>\n",
       "      <td>1.948590</td>\n",
       "      <td>1.364562</td>\n",
       "      <td>0.212024</td>\n",
       "      <td>2.269579</td>\n",
       "      <td>0.794527</td>\n",
       "    </tr>\n",
       "    <tr>\n",
       "      <th>min</th>\n",
       "      <td>-0.338924</td>\n",
       "      <td>-5.856314e-01</td>\n",
       "      <td>0.114885</td>\n",
       "      <td>-3.180917e-01</td>\n",
       "      <td>0.095604</td>\n",
       "      <td>-1.778571</td>\n",
       "      <td>-1.168411</td>\n",
       "      <td>-1.199590</td>\n",
       "      <td>-0.939714</td>\n",
       "      <td>-0.553535</td>\n",
       "      <td>0.590866</td>\n",
       "      <td>-9.110427</td>\n",
       "      <td>-0.803410</td>\n",
       "    </tr>\n",
       "    <tr>\n",
       "      <th>25%</th>\n",
       "      <td>-0.275581</td>\n",
       "      <td>-5.856314e-01</td>\n",
       "      <td>0.709605</td>\n",
       "      <td>-3.180917e-01</td>\n",
       "      <td>0.530979</td>\n",
       "      <td>-0.777384</td>\n",
       "      <td>0.192086</td>\n",
       "      <td>-0.908311</td>\n",
       "      <td>0.059422</td>\n",
       "      <td>1.165421</td>\n",
       "      <td>1.007746</td>\n",
       "      <td>-0.249731</td>\n",
       "      <td>0.184528</td>\n",
       "    </tr>\n",
       "    <tr>\n",
       "      <th>50%</th>\n",
       "      <td>1.130815</td>\n",
       "      <td>-5.856314e-01</td>\n",
       "      <td>1.437183</td>\n",
       "      <td>-3.180917e-01</td>\n",
       "      <td>0.576331</td>\n",
       "      <td>-0.478175</td>\n",
       "      <td>0.628800</td>\n",
       "      <td>-0.811877</td>\n",
       "      <td>3.656311</td>\n",
       "      <td>3.063866</td>\n",
       "      <td>1.041547</td>\n",
       "      <td>0.330323</td>\n",
       "      <td>0.604694</td>\n",
       "    </tr>\n",
       "    <tr>\n",
       "      <th>75%</th>\n",
       "      <td>1.860313</td>\n",
       "      <td>-5.856314e-01</td>\n",
       "      <td>1.437183</td>\n",
       "      <td>-3.180917e-01</td>\n",
       "      <td>0.839371</td>\n",
       "      <td>-0.087917</td>\n",
       "      <td>0.956118</td>\n",
       "      <td>-0.664738</td>\n",
       "      <td>3.656311</td>\n",
       "      <td>3.063866</td>\n",
       "      <td>1.041547</td>\n",
       "      <td>0.420447</td>\n",
       "      <td>1.183384</td>\n",
       "    </tr>\n",
       "    <tr>\n",
       "      <th>max</th>\n",
       "      <td>5.572283</td>\n",
       "      <td>-5.856314e-01</td>\n",
       "      <td>2.952873</td>\n",
       "      <td>-3.180917e-01</td>\n",
       "      <td>1.737333</td>\n",
       "      <td>0.957056</td>\n",
       "      <td>1.262599</td>\n",
       "      <td>-0.109957</td>\n",
       "      <td>3.656311</td>\n",
       "      <td>3.478073</td>\n",
       "      <td>1.402092</td>\n",
       "      <td>0.420447</td>\n",
       "      <td>3.085254</td>\n",
       "    </tr>\n",
       "  </tbody>\n",
       "</table>\n",
       "</div>"
      ],
      "text/plain": [
       "            crim            zn      indus          chas        nox         rm  \\\n",
       "count  50.000000  5.000000e+01  50.000000  5.000000e+01  50.000000  50.000000   \n",
       "mean    1.252694 -5.856314e-01   1.280174 -3.180917e-01   0.783679  -0.408645   \n",
       "std     1.588619  2.242989e-16   0.768610  3.364484e-16   0.487613   0.613005   \n",
       "min    -0.338924 -5.856314e-01   0.114885 -3.180917e-01   0.095604  -1.778571   \n",
       "25%    -0.275581 -5.856314e-01   0.709605 -3.180917e-01   0.530979  -0.777384   \n",
       "50%     1.130815 -5.856314e-01   1.437183 -3.180917e-01   0.576331  -0.478175   \n",
       "75%     1.860313 -5.856314e-01   1.437183 -3.180917e-01   0.839371  -0.087917   \n",
       "max     5.572283 -5.856314e-01   2.952873 -3.180917e-01   1.737333   0.957056   \n",
       "\n",
       "             age        dis        rad        tax    ptratio          b  \\\n",
       "count  50.000000  50.000000  50.000000  50.000000  50.000000  50.000000   \n",
       "mean    0.500720  -0.770471   2.221552   2.338545   1.000986  -0.568186   \n",
       "std     0.608830   0.248410   1.948590   1.364562   0.212024   2.269579   \n",
       "min    -1.168411  -1.199590  -0.939714  -0.553535   0.590866  -9.110427   \n",
       "25%     0.192086  -0.908311   0.059422   1.165421   1.007746  -0.249731   \n",
       "50%     0.628800  -0.811877   3.656311   3.063866   1.041547   0.330323   \n",
       "75%     0.956118  -0.664738   3.656311   3.063866   1.041547   0.420447   \n",
       "max     1.262599  -0.109957   3.656311   3.478073   1.402092   0.420447   \n",
       "\n",
       "           lstat  \n",
       "count  50.000000  \n",
       "mean    0.684829  \n",
       "std     0.794527  \n",
       "min    -0.803410  \n",
       "25%     0.184528  \n",
       "50%     0.604694  \n",
       "75%     1.183384  \n",
       "max     3.085254  "
      ]
     },
     "execution_count": 22,
     "metadata": {},
     "output_type": "execute_result"
    }
   ],
   "source": [
    "X_test.describe()"
   ]
  },
  {
   "cell_type": "markdown",
   "metadata": {},
   "source": [
    "Ideally, the normalization should have brought down values of all features to roughly the same ranges such as $[-1, 1]$ or $[-3, 3]$ with roughly the same mean (0) and standard deviation (1). \n",
    "\n",
    "The fact that this isn't happening in the train/test/validation splits we've created is a consequence of the dataset size: since this is a very small dataset (506 samples), and since the training set used to compute the mean and standard deviation for normalization was smaller still (308 samples), these values are more likely to have been skewed by outliers in the dataset. \n",
    "\n",
    "This won't be a problem with much larger datasets, where the outliers will be far too few to be statistically significant.\n",
    "\n",
    "However, this difference in mean/stds may affect the quality of our ML model. We will have to solve this by using other ML techniques such as regularization. "
   ]
  },
  {
   "cell_type": "markdown",
   "metadata": {},
   "source": [
    "## TLDR?\n",
    "\"Saad, I don't care about manually loading in data from a CSV or creating a train/test split. What do?\"\n",
    "\n",
    "[I gotchu fam](https://keras.io/datasets/#boston-housing-price-regression-dataset)!"
   ]
  },
  {
   "cell_type": "code",
   "execution_count": 68,
   "metadata": {},
   "outputs": [],
   "source": [
    "from tensorflow import keras\n",
    "from keras import datasets"
   ]
  },
  {
   "cell_type": "markdown",
   "metadata": {},
   "source": [
    "(X_train, y_train), (X_test, y_test) = datasets.boston_housing.load_data(seed=1, test_split=0.8)"
   ]
  },
  {
   "cell_type": "markdown",
   "metadata": {},
   "source": [
    "No train/test split, no normalization required. \n",
    "Enjoy."
   ]
  },
  {
   "cell_type": "markdown",
   "metadata": {},
   "source": [
    "## First Attempt at Linear Regression Model"
   ]
  },
  {
   "cell_type": "code",
   "execution_count": 57,
   "metadata": {},
   "outputs": [],
   "source": [
    "# For simplicity, using `keras` built-in dataset"
   ]
  },
  {
   "cell_type": "code",
   "execution_count": 58,
   "metadata": {},
   "outputs": [],
   "source": [
    "from keras.datasets import boston_housing\n",
    "from keras.models import Sequential\n",
    "from keras.layers import Dense"
   ]
  },
  {
   "cell_type": "code",
   "execution_count": 59,
   "metadata": {},
   "outputs": [],
   "source": [
    "(X_train, y_train), (X_test, y_test) = boston_housing.load_data()"
   ]
  },
  {
   "cell_type": "code",
   "execution_count": 60,
   "metadata": {},
   "outputs": [],
   "source": [
    "first_model = Sequential()"
   ]
  },
  {
   "cell_type": "code",
   "execution_count": 61,
   "metadata": {},
   "outputs": [],
   "source": [
    "first_model.add(Dense(units=1, activation='linear', \n",
    "                     input_shape=(X_train.shape[1], )))"
   ]
  },
  {
   "cell_type": "code",
   "execution_count": 63,
   "metadata": {},
   "outputs": [],
   "source": [
    "first_model.compile(optimizer='adam',\n",
    "                   loss='mse', \n",
    "                   metrics=['mae'])"
   ]
  },
  {
   "cell_type": "code",
   "execution_count": 65,
   "metadata": {},
   "outputs": [],
   "source": [
    "first_model_history = first_model.fit(X_train, y_train,\n",
    "                               epochs=30, \n",
    "                               batch_size=10, \n",
    "                               validation_data=(X_test, y_test), \n",
    "                               verbose=0)"
   ]
  },
  {
   "cell_type": "code",
   "execution_count": 71,
   "metadata": {},
   "outputs": [
    {
     "data": {
      "text/plain": [
       "dict_keys(['val_loss', 'val_mean_absolute_error', 'loss', 'mean_absolute_error'])"
      ]
     },
     "execution_count": 71,
     "metadata": {},
     "output_type": "execute_result"
    }
   ],
   "source": [
    "first_model_history.history.keys()"
   ]
  },
  {
   "cell_type": "code",
   "execution_count": 77,
   "metadata": {},
   "outputs": [],
   "source": [
    "# Extracting data from history object\n",
    "history = first_model_history.history;\n",
    "epochs = range(1, len(history['loss']) + 1)\n",
    "loss = history['loss']\n",
    "val_loss = history['val_loss']\n",
    "mae = history['mean_absolute_error']\n",
    "val_mae = history['val_mean_absolute_error']"
   ]
  },
  {
   "cell_type": "code",
   "execution_count": 286,
   "metadata": {},
   "outputs": [],
   "source": [
    "# For visualizing training history\n",
    "import matplotlib.pyplot as plt\n",
    "from matplotlib import style\n",
    "%matplotlib inline\n",
    "style.use('ggplot')"
   ]
  },
  {
   "cell_type": "code",
   "execution_count": 287,
   "metadata": {},
   "outputs": [],
   "source": [
    "def generate_plot(x_train, y_train, x_val, y_val, qty, model_name):\n",
    "    plt.figure()\n",
    "    plt.plot(x_train, y_train, 'b', label='Training ' + qty)\n",
    "    plt.plot(x_val, y_val, 'r', label='Validation ' + qty)\n",
    "    plt.grid(True) \n",
    "    plt.legend()\n",
    "    plt.title(model_name + ' - ' + qty)"
   ]
  },
  {
   "cell_type": "code",
   "execution_count": 79,
   "metadata": {},
   "outputs": [
    {
     "data": {
      "image/png": "[encoded data removed]",
      "text/plain": [
       "<Figure size 432x288 with 1 Axes>"
      ]
     },
     "metadata": {},
     "output_type": "display_data"
    }
   ],
   "source": [
    "generate_plot(epochs, loss, epochs, val_loss, 'Loss (MSE)', 'First Model')"
   ]
  },
  {
   "cell_type": "code",
   "execution_count": 80,
   "metadata": {},
   "outputs": [
    {
     "data": {
      "image/png": "[encoded data removed]",
      "text/plain": [
       "<Figure size 432x288 with 1 Axes>"
      ]
     },
     "metadata": {},
     "output_type": "display_data"
    }
   ],
   "source": [
    "generate_plot(epochs, mae, epochs, val_mae, 'MAE', 'First Model')"
   ]
  },
  {
   "cell_type": "code",
   "execution_count": 82,
   "metadata": {},
   "outputs": [
    {
     "name": "stdout",
     "output_type": "stream",
     "text": [
      "_________________________________________________________________\n",
      "Layer (type)                 Output Shape              Param #   \n",
      "=================================================================\n",
      "dense_1 (Dense)              (None, 1)                 14        \n",
      "=================================================================\n",
      "Total params: 14\n",
      "Trainable params: 14\n",
      "Non-trainable params: 0\n",
      "_________________________________________________________________\n"
     ]
    }
   ],
   "source": [
    "first_model.summary()"
   ]
  },
  {
   "cell_type": "markdown",
   "metadata": {},
   "source": [
    "### Interpretation\n",
    "There is clearly something wrong with this model. It does have 13 parameters for each of the features and one additional parameter for the bias term (0th feature, that is always unity). \n",
    "\n",
    "But the validation set error/loss is consistently lower than the test set error/loss. This is counterintuitive, as I have always found the validation loss to be higher than the test loss and not the other way round. \n",
    "\n",
    "Stack overflow seems to think this may be due to the training set having samples that are more difficult to fit than the validation set. \n",
    "\n",
    "I think it's a problem with the way the network's configured."
   ]
  },
  {
   "cell_type": "markdown",
   "metadata": {},
   "source": [
    "# Grid Search with `keras` Wrapper"
   ]
  },
  {
   "cell_type": "markdown",
   "metadata": {},
   "source": [
    "## Environment Setup"
   ]
  },
  {
   "cell_type": "code",
   "execution_count": 254,
   "metadata": {},
   "outputs": [],
   "source": [
    "import numpy as np\n",
    "from sklearn.model_selection import GridSearchCV\n",
    "from tensorflow.keras.models import Sequential\n",
    "from tensorflow.keras.layers import Dense\n",
    "from tensorflow.keras.wrappers.scikit_learn import KerasRegressor\n",
    "from tensorflow.keras.datasets import boston_housing\n",
    "import warnings\n",
    "warnings.filterwarnings(action=\"ignore\", message=\"^internal gelsd\")"
   ]
  },
  {
   "cell_type": "markdown",
   "metadata": {},
   "source": [
    "## Wrapper Configuration"
   ]
  },
  {
   "cell_type": "code",
   "execution_count": 222,
   "metadata": {},
   "outputs": [],
   "source": [
    "# Function used to create a model - passed as an arg to the Regressor\n",
    "def create_model(units=1,activation='linear', loss_fn='mae', \n",
    "                optimizer='adam'):\n",
    "    model = Sequential()\n",
    "    model.add(Dense(units=units, activation='linear', input_dim=13))\n",
    "    model.compile(loss=loss_fn, optimizer=optimizer)\n",
    "    return model"
   ]
  },
  {
   "cell_type": "code",
   "execution_count": 223,
   "metadata": {},
   "outputs": [],
   "source": [
    "# Seeding random number generator\n",
    "RANDOM_SEED = 7\n",
    "np.random.seed(RANDOM_SEED)"
   ]
  },
  {
   "cell_type": "code",
   "execution_count": 24,
   "metadata": {},
   "outputs": [],
   "source": [
    "# Load the dataset \n",
    "(train_data, train_labels), (test_data, test_labels) = boston_housing.load_data()"
   ]
  },
  {
   "cell_type": "code",
   "execution_count": 25,
   "metadata": {},
   "outputs": [],
   "source": [
    "# Instantiating a KerasRegressor that can be used in conjunction with sklearn\n",
    "model = KerasRegressor(build_fn=create_model, verbose=0)"
   ]
  },
  {
   "cell_type": "markdown",
   "metadata": {},
   "source": [
    "## Making Grids for `GridSearchCV`"
   ]
  },
  {
   "cell_type": "code",
   "execution_count": 230,
   "metadata": {},
   "outputs": [],
   "source": [
    "# List of hyperparam values to test\n",
    "epochs = [10, 50, 100, 150, 200]\n",
    "batch_sizes = [10, 20, 40, 60, 80, 100]\n",
    "optimizers = ['adam', 'rmsprop', 'adagrad', 'adadelta', 'sgd', 'adamax', 'nadam']\n",
    "units = [1, 2, 4, 8, 16, 64, 128]\n",
    "activations = ['linear', 'relu', 'tanh', 'sigmoid']"
   ]
  },
  {
   "cell_type": "code",
   "execution_count": 231,
   "metadata": {},
   "outputs": [],
   "source": [
    "# Making individual param grids\n",
    "pg_epochs = dict(epochs=epochs)\n",
    "pg_batch_sizes = dict(batch_size=batch_sizes)\n",
    "pg_optimizers = dict(optimizer=optimizers)\n",
    "pg_n_units = dict(units=units)\n",
    "pg_activations = dict(activation=activations)"
   ]
  },
  {
   "cell_type": "code",
   "execution_count": 232,
   "metadata": {},
   "outputs": [],
   "source": [
    "# Making composite param grids for features I think should be tested together\n",
    "pg_epoch_batch = dict(epochs=epochs, batch_size=batch_sizes)\n",
    "pg_units_activations = dict(units=units, activation=activations)"
   ]
  },
  {
   "cell_type": "code",
   "execution_count": 130,
   "metadata": {},
   "outputs": [],
   "source": [
    "# Configuring matplotlib for generating plots of mean and standard deviation in each cross validated model\n",
    "import matplotlib.pyplot as plt\n",
    "%matplotlib inline"
   ]
  },
  {
   "cell_type": "code",
   "execution_count": 224,
   "metadata": {},
   "outputs": [],
   "source": [
    "def plot_cv_result(param_list, results, qty_name, figsize=(5, 3), bar_thickness=10):\n",
    "    \"\"\"Extracts and plots mean and standard deviation of losses on all cross validated models for a given\n",
    "    hyperparameter\"\"\"\n",
    "    param_name = [key for key in param_list[0]][0]\n",
    "    param_vals = sum([list(param_dict.values()) for param_dict in param_list], [])\n",
    "    plt.figure(figsize=figsize)\n",
    "    plt.bar(param_vals, results, width=bar_thickness, edgecolor='k')\n",
    "    plt.xlabel(param_name)\n",
    "    plt.ylabel(f'Loss - {qty_name}')\n",
    "    plt.title(f'{qty_name} in Loss for {param_name}')\n",
    "    plt.grid(True)\n",
    "    plt.tight_layout()"
   ]
  },
  {
   "cell_type": "code",
   "execution_count": 249,
   "metadata": {},
   "outputs": [],
   "source": [
    "# Function to display results of a grid \n",
    "def display_single_hyp_results(grid_result, bar_thickness=10, figsize=(5, 3), \n",
    "                              generate_plot=True):\n",
    "    print(\"Best: %f using %s\" % (grid_result.best_score_, grid_result.best_params_))\n",
    "    means = grid_result.cv_results_['mean_test_score']\n",
    "    stds = grid_result.cv_results_['std_test_score']\n",
    "    params = grid_result.cv_results_['params']\n",
    "    for mean, stdev, param in zip(means, stds, params):\n",
    "        print(\"%f (%f) with %r\" % (mean, stdev, param))\n",
    "\n",
    "    if(generate_plot):\n",
    "        plot_cv_result(params, means, qty_name='Mean', figsize=figsize, \n",
    "                       bar_thickness=bar_thickness)\n",
    "        plot_cv_result(params, stds, qty_name='Standard Deviation', figsize=figsize, \n",
    "                       bar_thickness=bar_thickness)"
   ]
  },
  {
   "cell_type": "markdown",
   "metadata": {},
   "source": [
    "## Grid Search for Individual Param Grids"
   ]
  },
  {
   "cell_type": "markdown",
   "metadata": {},
   "source": [
    "### Epochs"
   ]
  },
  {
   "cell_type": "code",
   "execution_count": 158,
   "metadata": {},
   "outputs": [],
   "source": [
    "from sklearn.metrics import mean_squared_error"
   ]
  },
  {
   "cell_type": "code",
   "execution_count": 161,
   "metadata": {},
   "outputs": [
    {
     "name": "stderr",
     "output_type": "stream",
     "text": [
      "/Users/saadmashkoor/.local/lib/python3.6/site-packages/sklearn/model_selection/_search.py:842: DeprecationWarning: The default of the `iid` parameter will change from True to False in version 0.22 and will be removed in 0.24. This will change numeric results when test-set sizes are unequal.\n",
      "  DeprecationWarning)\n"
     ]
    }
   ],
   "source": [
    "model = KerasRegressor(build_fn=create_model, batch_size=10, verbose=0)\n",
    "grid_epochs = GridSearchCV(estimator=model, param_grid=pg_epochs,\n",
    "                          n_jobs=-1, cv=5, scoring='neg_mean_absolute_error')\n",
    "epochs_result = grid_epochs.fit(train_data, train_labels)"
   ]
  },
  {
   "cell_type": "code",
   "execution_count": 176,
   "metadata": {},
   "outputs": [
    {
     "name": "stdout",
     "output_type": "stream",
     "text": [
      "Best: -4.743247 using {'epochs': 200}\n",
      "-33.006695 (22.829323) with {'epochs': 10}\n",
      "-6.629485 (0.738840) with {'epochs': 50}\n",
      "-5.486243 (0.662991) with {'epochs': 100}\n",
      "-4.788357 (0.522128) with {'epochs': 150}\n",
      "-4.743247 (0.587084) with {'epochs': 200}\n"
     ]
    },
    {
     "data": {
      "image/png": "[encoded data removed]",
      "text/plain": [
       "<Figure size 360x216 with 1 Axes>"
      ]
     },
     "metadata": {},
     "output_type": "display_data"
    },
    {
     "data": {
      "image/png": "[encoded data removed]",
      "text/plain": [
       "<Figure size 360x216 with 1 Axes>"
      ]
     },
     "metadata": {},
     "output_type": "display_data"
    }
   ],
   "source": [
    "display_single_hyp_results(epochs_result)"
   ]
  },
  {
   "cell_type": "markdown",
   "metadata": {},
   "source": [
    "### Batch Size\n",
    "- `sklearn` is very weird about cross validation scoring. For consistency, higher scores for scoring metrics are always supposed to be better. This is why the mean absolute error for the loss in cross validation is negative: it's the negative of a mean absolute error.\n",
    "- Based on the elbow method, improvements in mean negative loss and standard deviation stop after 100 epochs. So choosing this as the value for epochs going forward."
   ]
  },
  {
   "cell_type": "code",
   "execution_count": 181,
   "metadata": {},
   "outputs": [],
   "source": [
    "optimal_epochs=100"
   ]
  },
  {
   "cell_type": "code",
   "execution_count": 165,
   "metadata": {},
   "outputs": [],
   "source": [
    "model_batch_size = KerasRegressor(build_fn=create_model, epochs=optimal_epochs)"
   ]
  },
  {
   "cell_type": "code",
   "execution_count": 166,
   "metadata": {},
   "outputs": [],
   "source": [
    "grid_batch_size = GridSearchCV(estimator=model, param_grid=pg_batch_sizes,\n",
    "                          n_jobs=-1, cv=5, scoring='neg_mean_absolute_error')"
   ]
  },
  {
   "cell_type": "code",
   "execution_count": 167,
   "metadata": {},
   "outputs": [
    {
     "name": "stderr",
     "output_type": "stream",
     "text": [
      "/Users/saadmashkoor/.local/lib/python3.6/site-packages/sklearn/model_selection/_search.py:842: DeprecationWarning: The default of the `iid` parameter will change from True to False in version 0.22 and will be removed in 0.24. This will change numeric results when test-set sizes are unequal.\n",
      "  DeprecationWarning)\n"
     ]
    }
   ],
   "source": [
    "batch_size_result = grid_batch_size.fit(train_data, train_labels)"
   ]
  },
  {
   "cell_type": "code",
   "execution_count": 210,
   "metadata": {},
   "outputs": [
    {
     "name": "stdout",
     "output_type": "stream",
     "text": [
      "Best: -130.344787 using {'batch_size': 60}\n",
      "-209.110452 (103.295047) with {'batch_size': 10}\n",
      "-167.264310 (106.014845) with {'batch_size': 20}\n",
      "-155.527061 (82.105742) with {'batch_size': 40}\n",
      "-130.344787 (127.009606) with {'batch_size': 60}\n",
      "-213.835709 (55.064812) with {'batch_size': 80}\n",
      "-180.767901 (109.471581) with {'batch_size': 100}\n"
     ]
    },
    {
     "data": {
      "image/png": "[encoded data removed]",
      "text/plain": [
       "<Figure size 360x216 with 1 Axes>"
      ]
     },
     "metadata": {},
     "output_type": "display_data"
    },
    {
     "data": {
      "image/png": "[encoded data removed]",
      "text/plain": [
       "<Figure size 360x216 with 1 Axes>"
      ]
     },
     "metadata": {},
     "output_type": "display_data"
    }
   ],
   "source": [
    "display_single_hyp_results(batch_size_result, bar_thickness=5)"
   ]
  },
  {
   "cell_type": "markdown",
   "metadata": {},
   "source": [
    "## Optimizers"
   ]
  },
  {
   "cell_type": "code",
   "execution_count": 180,
   "metadata": {},
   "outputs": [],
   "source": [
    "optimal_batch_size=60"
   ]
  },
  {
   "cell_type": "code",
   "execution_count": 182,
   "metadata": {},
   "outputs": [],
   "source": [
    "model_optimizers = KerasRegressor(build_fn=create_model, epochs=optimal_epochs, \n",
    "                                  batch_size=optimal_batch_size)"
   ]
  },
  {
   "cell_type": "code",
   "execution_count": 184,
   "metadata": {},
   "outputs": [],
   "source": [
    "grid_optimizers = GridSearchCV(estimator=model, param_grid=pg_optimizers,\n",
    "                          n_jobs=-1, cv=5, scoring='neg_mean_absolute_error')"
   ]
  },
  {
   "cell_type": "code",
   "execution_count": 185,
   "metadata": {},
   "outputs": [
    {
     "name": "stderr",
     "output_type": "stream",
     "text": [
      "/Users/saadmashkoor/.local/lib/python3.6/site-packages/sklearn/model_selection/_search.py:842: DeprecationWarning: The default of the `iid` parameter will change from True to False in version 0.22 and will be removed in 0.24. This will change numeric results when test-set sizes are unequal.\n",
      "  DeprecationWarning)\n"
     ]
    }
   ],
   "source": [
    ", optimizers_result = grid_optimizers.fit(train_data, train_labels)"
   ]
  },
  {
   "cell_type": "code",
   "execution_count": 253,
   "metadata": {},
   "outputs": [
    {
     "name": "stdout",
     "output_type": "stream",
     "text": [
      "Best: -67.443587 using {'optimizer': 'adam'}\n",
      "-67.443587 (39.425953) with {'optimizer': 'adam'}\n",
      "-151.150375 (110.894468) with {'optimizer': 'rmsprop'}\n",
      "-215.075316 (106.351579) with {'optimizer': 'adagrad'}\n",
      "-252.574004 (94.671249) with {'optimizer': 'adadelta'}\n",
      "-1750.545189 (370.689125) with {'optimizer': 'sgd'}\n",
      "-154.932589 (60.181947) with {'optimizer': 'adamax'}\n",
      "-103.081848 (69.973832) with {'optimizer': 'nadam'}\n"
     ]
    }
   ],
   "source": [
    "display_single_hyp_results(optimizers_result, figsize=(5, 3),\n",
    "                          bar_thickness=5, generate_plot=False)"
   ]
  },
  {
   "cell_type": "markdown",
   "metadata": {},
   "source": [
    "## Number of Units\n",
    "Can't vary the number of units for the model we've built. It's a single layer NN that attempts to perform linear regression. If I change the number of hidden units from `n` to `n+1`, this means the output of the model will also change from being `n` dimensional to `n+1` dimensional. This is a problem because the labels are one dimensional, so `y_pred` will not be of the same dimension as `y_label`."
   ]
  },
  {
   "cell_type": "markdown",
   "metadata": {},
   "source": [
    "## Activations"
   ]
  },
  {
   "cell_type": "code",
   "execution_count": 245,
   "metadata": {},
   "outputs": [],
   "source": [
    "model_activations = KerasRegressor(build_fn=create_model, epochs=optimal_epochs, \n",
    "                                  batch_size=optimal_batch_size)"
   ]
  },
  {
   "cell_type": "code",
   "execution_count": 246,
   "metadata": {},
   "outputs": [],
   "source": [
    "grid_activations = GridSearchCV(estimator=model, param_grid=pg_activations,\n",
    "                          n_jobs=-1, cv=5, scoring='neg_mean_absolute_error')"
   ]
  },
  {
   "cell_type": "code",
   "execution_count": 255,
   "metadata": {},
   "outputs": [
    {
     "name": "stderr",
     "output_type": "stream",
     "text": [
      "/Users/saadmashkoor/.local/lib/python3.6/site-packages/sklearn/model_selection/_search.py:842: DeprecationWarning: The default of the `iid` parameter will change from True to False in version 0.22 and will be removed in 0.24. This will change numeric results when test-set sizes are unequal.\n",
      "  DeprecationWarning)\n"
     ]
    }
   ],
   "source": [
    "activations_result = grid_activations.fit(train_data, train_labels)"
   ]
  },
  {
   "cell_type": "code",
   "execution_count": 250,
   "metadata": {},
   "outputs": [
    {
     "name": "stdout",
     "output_type": "stream",
     "text": [
      "Best: -10.810233 using {'activation': 'linear'}\n",
      "-10.810233 (1.870645) with {'activation': 'linear'}\n",
      "-11.483593 (4.061746) with {'activation': 'relu'}\n",
      "-16.655073 (17.297612) with {'activation': 'tanh'}\n",
      "-21.539289 (14.623154) with {'activation': 'sigmoid'}\n"
     ]
    }
   ],
   "source": [
    "display_single_hyp_results(activations_result, generate_plot=False)"
   ]
  },
  {
   "cell_type": "markdown",
   "metadata": {},
   "source": [
    "## `GridSearch` for multiple Hyperparameters"
   ]
  },
  {
   "cell_type": "markdown",
   "metadata": {},
   "source": [
    "Previous investigation has focused on finding the optimal value of a single hyperparameter while keeping all other hyperparameters constant. I tried to follow the sequence recommended by [Jason Brownlee on Machine Learning Mastery](https://machinelearningmastery.com/grid-search-hyperparameters-deep-learning-models-python-keras/), and hoped this was enough to optimise the model's performance.\n",
    "\n",
    "Now, I will attempt to optimise pairs of related hyperparameters at the same time. Since `n_units` can't really change, this means a good possible combo of hyperparms to test is **epochs with batch size** and **activation function with optimizer**."
   ]
  },
  {
   "cell_type": "markdown",
   "metadata": {},
   "source": [
    "### Epochs with Batch Size"
   ]
  },
  {
   "cell_type": "code",
   "execution_count": 256,
   "metadata": {},
   "outputs": [],
   "source": [
    "epoch_batch_model = KerasRegressor(build_fn=create_model, verbose=0)"
   ]
  },
  {
   "cell_type": "code",
   "execution_count": 257,
   "metadata": {},
   "outputs": [],
   "source": [
    "pg_epoch_batch = dict(epochs=epochs, batch_size=batch_sizes)"
   ]
  },
  {
   "cell_type": "code",
   "execution_count": 260,
   "metadata": {},
   "outputs": [],
   "source": [
    "epoch_batch_grid = GridSearchCV(estimator=epoch_batch_model, param_grid=pg_epoch_batch,\n",
    "                               scoring='neg_mean_absolute_error', n_jobs=-1, \n",
    "                               cv=5)"
   ]
  },
  {
   "cell_type": "code",
   "execution_count": 261,
   "metadata": {},
   "outputs": [
    {
     "name": "stderr",
     "output_type": "stream",
     "text": [
      "/Users/saadmashkoor/.local/lib/python3.6/site-packages/sklearn/model_selection/_search.py:842: DeprecationWarning: The default of the `iid` parameter will change from True to False in version 0.22 and will be removed in 0.24. This will change numeric results when test-set sizes are unequal.\n",
      "  DeprecationWarning)\n"
     ]
    }
   ],
   "source": [
    "epoch_batch_results = epoch_batch_grid.fit(train_data, train_labels)"
   ]
  },
  {
   "cell_type": "code",
   "execution_count": 262,
   "metadata": {},
   "outputs": [],
   "source": [
    "def display_gridCV_results(grid_result):\n",
    "    print(\"Best: %f using %s\" % (grid_result.best_score_, grid_result.best_params_))\n",
    "    means = grid_result.cv_results_['mean_test_score']\n",
    "    stds = grid_result.cv_results_['std_test_score']\n",
    "    params = grid_result.cv_results_['params']\n",
    "    for mean, stdev, param in zip(means, stds, params):\n",
    "        print(\"%f (%f) with: %r\" % (mean, stdev, param))"
   ]
  },
  {
   "cell_type": "code",
   "execution_count": 263,
   "metadata": {},
   "outputs": [
    {
     "name": "stdout",
     "output_type": "stream",
     "text": [
      "Best: -4.683919 using {'batch_size': 10, 'epochs': 200}\n",
      "-91.545257 (81.499144) with: {'batch_size': 10, 'epochs': 10}\n",
      "-6.010287 (0.844852) with: {'batch_size': 10, 'epochs': 50}\n",
      "-5.052248 (0.534079) with: {'batch_size': 10, 'epochs': 100}\n",
      "-4.858519 (0.554911) with: {'batch_size': 10, 'epochs': 150}\n",
      "-4.683919 (0.683076) with: {'batch_size': 10, 'epochs': 200}\n",
      "-59.723240 (36.079726) with: {'batch_size': 20, 'epochs': 10}\n",
      "-16.150880 (8.955171) with: {'batch_size': 20, 'epochs': 50}\n",
      "-7.298395 (3.011324) with: {'batch_size': 20, 'epochs': 100}\n",
      "-5.179211 (0.769638) with: {'batch_size': 20, 'epochs': 150}\n",
      "-5.073305 (0.647428) with: {'batch_size': 20, 'epochs': 200}\n",
      "-87.861759 (33.513784) with: {'batch_size': 40, 'epochs': 10}\n",
      "-25.385681 (19.867951) with: {'batch_size': 40, 'epochs': 50}\n",
      "-11.564920 (5.135842) with: {'batch_size': 40, 'epochs': 100}\n",
      "-6.764724 (1.417006) with: {'batch_size': 40, 'epochs': 150}\n",
      "-5.663758 (0.942563) with: {'batch_size': 40, 'epochs': 200}\n",
      "-220.252866 (126.527136) with: {'batch_size': 60, 'epochs': 10}\n",
      "-21.848089 (17.106306) with: {'batch_size': 60, 'epochs': 50}\n",
      "-12.986746 (4.587779) with: {'batch_size': 60, 'epochs': 100}\n",
      "-9.241556 (4.567848) with: {'batch_size': 60, 'epochs': 150}\n",
      "-6.483963 (1.304017) with: {'batch_size': 60, 'epochs': 200}\n",
      "-127.017462 (114.389829) with: {'batch_size': 80, 'epochs': 10}\n",
      "-27.815521 (20.752300) with: {'batch_size': 80, 'epochs': 50}\n",
      "-16.409533 (10.277265) with: {'batch_size': 80, 'epochs': 100}\n",
      "-11.678906 (5.184265) with: {'batch_size': 80, 'epochs': 150}\n",
      "-6.705141 (0.801173) with: {'batch_size': 80, 'epochs': 200}\n",
      "-174.514523 (120.699623) with: {'batch_size': 100, 'epochs': 10}\n",
      "-87.314741 (78.208207) with: {'batch_size': 100, 'epochs': 50}\n",
      "-28.291873 (12.545788) with: {'batch_size': 100, 'epochs': 100}\n",
      "-18.631535 (4.119913) with: {'batch_size': 100, 'epochs': 150}\n",
      "-9.782625 (5.091386) with: {'batch_size': 100, 'epochs': 200}\n"
     ]
    }
   ],
   "source": [
    "display_gridCV_results(epoch_batch_results)"
   ]
  },
  {
   "cell_type": "code",
   "execution_count": 264,
   "metadata": {},
   "outputs": [],
   "source": [
    "# TODO: Find out a way to plot these as grouped bar graphs"
   ]
  },
  {
   "cell_type": "markdown",
   "metadata": {},
   "source": [
    "### Activation with Optimizer"
   ]
  },
  {
   "cell_type": "code",
   "execution_count": 265,
   "metadata": {},
   "outputs": [],
   "source": [
    "act_opt_model = KerasRegressor(build_fn=create_model, verbose=0, epochs=100, batch_size=10)"
   ]
  },
  {
   "cell_type": "code",
   "execution_count": 266,
   "metadata": {},
   "outputs": [],
   "source": [
    "pg_act_opt = dict(activation=activations, optimizer=optimizers)"
   ]
  },
  {
   "cell_type": "code",
   "execution_count": 267,
   "metadata": {},
   "outputs": [],
   "source": [
    "grid_act_opt = GridSearchCV(estimator=act_opt_model, param_grid=pg_act_opt,\n",
    "                           scoring='neg_mean_absolute_error', n_jobs=-1,\n",
    "                           cv=5)"
   ]
  },
  {
   "cell_type": "code",
   "execution_count": 268,
   "metadata": {},
   "outputs": [
    {
     "name": "stderr",
     "output_type": "stream",
     "text": [
      "/Users/saadmashkoor/.local/lib/python3.6/site-packages/sklearn/model_selection/_search.py:842: DeprecationWarning: The default of the `iid` parameter will change from True to False in version 0.22 and will be removed in 0.24. This will change numeric results when test-set sizes are unequal.\n",
      "  DeprecationWarning)\n"
     ]
    }
   ],
   "source": [
    "act_opt_results = grid_act_opt.fit(train_data, train_labels)"
   ]
  },
  {
   "cell_type": "code",
   "execution_count": 269,
   "metadata": {},
   "outputs": [
    {
     "name": "stdout",
     "output_type": "stream",
     "text": [
      "Best: -5.182580 using {'activation': 'tanh', 'optimizer': 'adam'}\n",
      "-5.450716 (0.813560) with: {'activation': 'linear', 'optimizer': 'adam'}\n",
      "-5.505991 (0.611441) with: {'activation': 'linear', 'optimizer': 'rmsprop'}\n",
      "-179.007846 (133.059391) with: {'activation': 'linear', 'optimizer': 'adagrad'}\n",
      "-190.949276 (101.664497) with: {'activation': 'linear', 'optimizer': 'adadelta'}\n",
      "-1617.111455 (744.727104) with: {'activation': 'linear', 'optimizer': 'sgd'}\n",
      "-6.286957 (0.819522) with: {'activation': 'linear', 'optimizer': 'adamax'}\n",
      "-5.402540 (1.046222) with: {'activation': 'linear', 'optimizer': 'nadam'}\n",
      "-5.496571 (0.411616) with: {'activation': 'relu', 'optimizer': 'adam'}\n",
      "-5.347776 (0.667287) with: {'activation': 'relu', 'optimizer': 'rmsprop'}\n",
      "-68.348538 (26.824778) with: {'activation': 'relu', 'optimizer': 'adagrad'}\n",
      "-148.723343 (130.323830) with: {'activation': 'relu', 'optimizer': 'adadelta'}\n",
      "-1589.317078 (648.612029) with: {'activation': 'relu', 'optimizer': 'sgd'}\n",
      "-6.215508 (1.526702) with: {'activation': 'relu', 'optimizer': 'adamax'}\n",
      "-5.441373 (0.688201) with: {'activation': 'relu', 'optimizer': 'nadam'}\n",
      "-5.182580 (1.064559) with: {'activation': 'tanh', 'optimizer': 'adam'}\n",
      "-5.367404 (1.028867) with: {'activation': 'tanh', 'optimizer': 'rmsprop'}\n",
      "-78.805154 (43.291323) with: {'activation': 'tanh', 'optimizer': 'adagrad'}\n",
      "-196.091174 (109.326327) with: {'activation': 'tanh', 'optimizer': 'adadelta'}\n",
      "-866.541279 (529.394081) with: {'activation': 'tanh', 'optimizer': 'sgd'}\n",
      "-6.453841 (1.066521) with: {'activation': 'tanh', 'optimizer': 'adamax'}\n",
      "-5.503091 (0.730414) with: {'activation': 'tanh', 'optimizer': 'nadam'}\n",
      "-5.205492 (0.669205) with: {'activation': 'sigmoid', 'optimizer': 'adam'}\n",
      "-5.787950 (0.648920) with: {'activation': 'sigmoid', 'optimizer': 'rmsprop'}\n",
      "-197.629118 (142.682652) with: {'activation': 'sigmoid', 'optimizer': 'adagrad'}\n",
      "-78.875373 (43.484830) with: {'activation': 'sigmoid', 'optimizer': 'adadelta'}\n",
      "-1440.347270 (761.134104) with: {'activation': 'sigmoid', 'optimizer': 'sgd'}\n",
      "-6.269599 (0.834907) with: {'activation': 'sigmoid', 'optimizer': 'adamax'}\n",
      "-5.200286 (0.804139) with: {'activation': 'sigmoid', 'optimizer': 'nadam'}\n"
     ]
    }
   ],
   "source": [
    "display_gridCV_results(act_opt_results)"
   ]
  },
  {
   "cell_type": "markdown",
   "metadata": {},
   "source": [
    "## Testing Model with Optimized Hyperparams"
   ]
  },
  {
   "cell_type": "code",
   "execution_count": 312,
   "metadata": {},
   "outputs": [],
   "source": [
    "from tensorflow.keras.layers import Dense\n",
    "from tensorflow.keras.models import Sequential"
   ]
  },
  {
   "cell_type": "code",
   "execution_count": 313,
   "metadata": {},
   "outputs": [],
   "source": [
    "test_model = Sequential()\n",
    "test_model.add(Dense(units=1, activation='linear', input_shape=(13, )))"
   ]
  },
  {
   "cell_type": "code",
   "execution_count": 314,
   "metadata": {},
   "outputs": [],
   "source": [
    "test_model.compile(optimizer='adam', loss='mae')"
   ]
  },
  {
   "cell_type": "code",
   "execution_count": 315,
   "metadata": {},
   "outputs": [],
   "source": [
    "test_model_history = test_model.fit(x=train_data, y=train_labels,\n",
    "                                   epochs=60, batch_size=10,\n",
    "                                   validation_data=(test_data, test_labels), verbose=0)"
   ]
  },
  {
   "cell_type": "code",
   "execution_count": 316,
   "metadata": {},
   "outputs": [],
   "source": [
    "# Extracting data from history object\n",
    "history = test_model_history.history;\n",
    "epochs = range(1, len(history['loss']) + 1)\n",
    "loss = history['loss']\n",
    "val_loss = history['val_loss']"
   ]
  },
  {
   "cell_type": "code",
   "execution_count": 317,
   "metadata": {},
   "outputs": [
    {
     "data": {
      "image/png": "[encoded data removed]",
      "text/plain": [
       "<Figure size 432x288 with 1 Axes>"
      ]
     },
     "metadata": {},
     "output_type": "display_data"
    }
   ],
   "source": [
    "generate_plot(epochs, loss, epochs, val_loss, 'Loss (MAE)', 'Test Model')"
   ]
  },
  {
   "cell_type": "markdown",
   "metadata": {},
   "source": [
    "## Analysis\n",
    "- Optimal hyperparameters\n",
    "    - epochs: 60\n",
    "    - optimizer: adam\n",
    "    - batch size: 10\n",
    "    - activation: `tanh` but chose linear because linear regression"
   ]
  },
  {
   "cell_type": "markdown",
   "metadata": {},
   "source": [
    "## Test Performance"
   ]
  },
  {
   "cell_type": "code",
   "execution_count": 318,
   "metadata": {},
   "outputs": [],
   "source": [
    "y_pred = test_model.predict(x=test_data)"
   ]
  },
  {
   "cell_type": "code",
   "execution_count": 320,
   "metadata": {},
   "outputs": [],
   "source": [
    "mae = np.mean(np.abs(y_pred - test_labels))"
   ]
  },
  {
   "cell_type": "code",
   "execution_count": 321,
   "metadata": {},
   "outputs": [
    {
     "data": {
      "text/plain": [
       "7.8679340129355095"
      ]
     },
     "execution_count": 321,
     "metadata": {},
     "output_type": "execute_result"
    }
   ],
   "source": [
    "mae"
   ]
  },
  {
   "cell_type": "markdown",
   "metadata": {},
   "source": [
    "The mean absolute error on the validation set is quite a bit higher than the minimum mean absolute error in the validation set at the end of 60 epochs. This, I really don't understand because the two sets are the same, so theoretically we should get the same MAE.\n",
    "\n",
    "In any case, there is room for improvement. Next step is to try regularization and dropout."
   ]
  }
 ],
 "metadata": {
  "kernelspec": {
   "display_name": "Python 3",
   "language": "python",
   "name": "python3"
  },
  "language_info": {
   "codemirror_mode": {
    "name": "ipython",
    "version": 3
   },
   "file_extension": ".py",
   "mimetype": "text/x-python",
   "name": "python",
   "nbconvert_exporter": "python",
   "pygments_lexer": "ipython3",
   "version": "3.6.5"
  }
 },
 "nbformat": 4,
 "nbformat_minor": 2
}
