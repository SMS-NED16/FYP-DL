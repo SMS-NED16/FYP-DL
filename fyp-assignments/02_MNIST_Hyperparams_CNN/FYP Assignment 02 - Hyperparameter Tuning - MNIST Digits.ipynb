{
  "nbformat": 4,
  "nbformat_minor": 0,
  "metadata": {
    "kernelspec": {
      "name": "python3",
      "display_name": "Python 3"
    },
    "language_info": {
      "codemirror_mode": {
        "name": "ipython",
        "version": 3
      },
      "file_extension": ".py",
      "mimetype": "text/x-python",
      "name": "python",
      "nbconvert_exporter": "python",
      "pygments_lexer": "ipython3",
      "version": "3.6.5"
    },
    "colab": {
      "name": "FYP Assignment 02 - Hyperparameter Tuning - MNIST Digits.ipynb",
      "provenance": [],
      "collapsed_sections": [
        "VQim7yG2Gr3N",
        "WiOmNDy3Gr4n",
        "1U93mz86Gr4r",
        "vfwMgcW1Gr4u",
        "5iLJuJ0rGr4z",
        "ipu3iqrUGr45",
        "WpPI0-LxGr4-",
        "s2TeyvkJGr5T",
        "FQtp1WU5Gr5k",
        "JmyY2PH5KWYH"
      ]
    },
    "accelerator": "GPU"
  },
  "cells": [
    {
      "cell_type": "markdown",
      "metadata": {
        "id": "o0N7_hj8Gr2Y",
        "colab_type": "text"
      },
      "source": [
        "# FYP Assignment 02 - Hyperparameter Tuning - MNIST Digits"
      ]
    },
    {
      "cell_type": "code",
      "metadata": {
        "id": "CceGSe5lGr2b",
        "colab_type": "code",
        "colab": {}
      },
      "source": [
        "# Basic libs\n",
        "import numpy as np\n",
        "import pandas as pd\n",
        "\n",
        "# matplotlib setup for plotting\n",
        "import matplotlib.pyplot as plt\n",
        "from matplotlib import style\n",
        "style.use('ggplot')\n",
        "%matplotlib inline\n",
        "\n",
        "# For saving and loading training histories\n",
        "import pickle\n",
        "import os\n",
        "\n",
        "# Filtering warnings\n",
        "import warnings\n",
        "warnings.filterwarnings(action=\"ignore\", message=\"^internal gelsd\")"
      ],
      "execution_count": 0,
      "outputs": []
    },
    {
      "cell_type": "markdown",
      "metadata": {
        "id": "kUIUyo5GGr2h",
        "colab_type": "text"
      },
      "source": [
        "## Saving and Loading Histories"
      ]
    },
    {
      "cell_type": "code",
      "metadata": {
        "id": "eEU275tTGr2i",
        "colab_type": "code",
        "colab": {}
      },
      "source": [
        "def save_history(history, model_name):\n",
        "    \"\"\"Saves training history as a pickle file\"\"\"\n",
        "    with open('./model_histories/' + model_name, 'wb') as history_pkl:\n",
        "        pickle.dump(history.history, history_pkl)"
      ],
      "execution_count": 0,
      "outputs": []
    },
    {
      "cell_type": "code",
      "metadata": {
        "id": "yalg-ZsxGr2m",
        "colab_type": "code",
        "colab": {}
      },
      "source": [
        "def load_history(file_name):\n",
        "    with open('./model_histories/' + file_name, 'rb') as history_pkl:\n",
        "        return pickle.load(history_pkl)"
      ],
      "execution_count": 0,
      "outputs": []
    },
    {
      "cell_type": "markdown",
      "metadata": {
        "id": "33gwe78PGr2q",
        "colab_type": "text"
      },
      "source": [
        "## Loading Dataset"
      ]
    },
    {
      "cell_type": "code",
      "metadata": {
        "id": "f1AF8LhdGr2r",
        "colab_type": "code",
        "colab": {}
      },
      "source": [
        "from keras.datasets import mnist"
      ],
      "execution_count": 0,
      "outputs": []
    },
    {
      "cell_type": "code",
      "metadata": {
        "id": "4PKhVcw_Gr2w",
        "colab_type": "code",
        "colab": {}
      },
      "source": [
        "# Train-test split has already been done for us\n",
        "(X_train, y_train), (X_test, y_test) = mnist.load_data()"
      ],
      "execution_count": 0,
      "outputs": []
    },
    {
      "cell_type": "code",
      "metadata": {
        "id": "fUIkCp1rGr20",
        "colab_type": "code",
        "colab": {}
      },
      "source": [
        "# Before proceeding, make sure you didn't mess up the order of tuple unpacking\n",
        "assert len(X_train) == len(y_train)\n",
        "assert len(X_test) == len(y_test)"
      ],
      "execution_count": 0,
      "outputs": []
    },
    {
      "cell_type": "code",
      "metadata": {
        "id": "D4ACnva1Gr23",
        "colab_type": "code",
        "outputId": "0fee6c0e-dcd3-4bd0-e296-46a24bc8fd53",
        "colab": {
          "base_uri": "https://localhost:8080/",
          "height": 51
        }
      },
      "source": [
        "# Sanity check: 60k-10k split?\n",
        "print(f\"Number of training samples: {len(X_train)}\")\n",
        "print(f\"Number of test samples: {len(X_test)}\")"
      ],
      "execution_count": 59,
      "outputs": [
        {
          "output_type": "stream",
          "text": [
            "Number of training samples: 60000\n",
            "Number of test samples: 10000\n"
          ],
          "name": "stdout"
        }
      ]
    },
    {
      "cell_type": "markdown",
      "metadata": {
        "id": "GwEDDa__Gr27",
        "colab_type": "text"
      },
      "source": [
        "## Visualizing a Single Image"
      ]
    },
    {
      "cell_type": "code",
      "metadata": {
        "id": "CXd5XvMmGr28",
        "colab_type": "code",
        "outputId": "053d8141-bdc6-456e-e6e2-50a315878a81",
        "colab": {
          "base_uri": "https://localhost:8080/",
          "height": 282
        }
      },
      "source": [
        "test_image = X_train[0]\n",
        "plt.figure()\n",
        "plt.imshow(test_image, cmap='viridis')"
      ],
      "execution_count": 8,
      "outputs": [
        {
          "output_type": "execute_result",
          "data": {
            "text/plain": [
              "<matplotlib.image.AxesImage at 0x7f34feba79e8>"
            ]
          },
          "metadata": {
            "tags": []
          },
          "execution_count": 8
        },
        {
          "output_type": "display_data",
          "data": {
            "image/png": "[encoded data removed]",
            "text/plain": [
              "<Figure size 432x288 with 1 Axes>"
            ]
          },
          "metadata": {
            "tags": []
          }
        }
      ]
    },
    {
      "cell_type": "code",
      "metadata": {
        "id": "MgCVnxTyGr3A",
        "colab_type": "code",
        "outputId": "be6f684f-9b6c-42bd-adb4-595eb77fa067",
        "colab": {
          "base_uri": "https://localhost:8080/",
          "height": 68
        }
      },
      "source": [
        "# Shape of images and labels?\n",
        "print(\"Training image shape: \", test_image.shape)\n",
        "print(\"Maximum value in image: \", test_image.max())\n",
        "print(\"Minimum value in image: \", test_image.min())"
      ],
      "execution_count": 60,
      "outputs": [
        {
          "output_type": "stream",
          "text": [
            "Training image shape:  (28, 28)\n",
            "Maximum value in image:  255\n",
            "Minimum value in image:  0\n"
          ],
          "name": "stdout"
        }
      ]
    },
    {
      "cell_type": "markdown",
      "metadata": {
        "id": "9k4ipL7OGr3E",
        "colab_type": "text"
      },
      "source": [
        "Images will have to be unrolled or flattened before being fed to simple feedforward neural network. The pixel intensities should also be scaled. No flattening required for convolutional neural network."
      ]
    },
    {
      "cell_type": "markdown",
      "metadata": {
        "id": "xA9kaLupGr3F",
        "colab_type": "text"
      },
      "source": [
        "## Class Distribution\n",
        "Do both training and test sets contain roughly the same proportions of samples for each class?"
      ]
    },
    {
      "cell_type": "code",
      "metadata": {
        "id": "QA0f7F_qGr3G",
        "colab_type": "code",
        "colab": {}
      },
      "source": [
        "# Training data \n",
        "y_train_counts = pd.DataFrame(data={'labels': y_train})['labels'].value_counts(normalize=True)\n",
        "\n",
        "# Test data\n",
        "y_test_counts = pd.DataFrame(data={'labels': y_test})['labels'].value_counts(normalize=True)"
      ],
      "execution_count": 0,
      "outputs": []
    },
    {
      "cell_type": "code",
      "metadata": {
        "id": "zRCQKIemGr3I",
        "colab_type": "code",
        "outputId": "87649567-18aa-4c89-e963-b462b8459653",
        "colab": {
          "base_uri": "https://localhost:8080/",
          "height": 297
        }
      },
      "source": [
        "# Plotting normalized training and test set label counts side by side for comparison\n",
        "\n",
        "# Training\n",
        "plt.subplot(121)\n",
        "plt.bar(np.unique(y_train), y_train_counts)\n",
        "plt.xticks(np.unique(y_train))\n",
        "plt.xlabel('Classes')\n",
        "plt.ylabel('Proportion')\n",
        "plt.title('Training Class Distribution')\n",
        "\n",
        "# Test\n",
        "plt.subplot(122)\n",
        "plt.bar(np.unique(y_test), y_test_counts)\n",
        "plt.xticks(np.unique(y_test))\n",
        "plt.xlabel('Classes')\n",
        "plt.ylabel('Proportion')\n",
        "plt.title('Test Class Distribution')\n",
        "\n",
        "plt.tight_layout()"
      ],
      "execution_count": 62,
      "outputs": [
        {
          "output_type": "display_data",
          "data": {
            "image/png": "[encoded data removed]",
            "text/plain": [
              "<Figure size 432x288 with 2 Axes>"
            ]
          },
          "metadata": {
            "tags": []
          }
        }
      ]
    },
    {
      "cell_type": "markdown",
      "metadata": {
        "id": "eGx2z126Gr3N",
        "colab_type": "text"
      },
      "source": [
        "Both training and test set label distributions are roughly identical, which means that we don't need to carry out stratified sampling for the training set results to be applicable to the test set data. "
      ]
    },
    {
      "cell_type": "markdown",
      "metadata": {
        "id": "VQim7yG2Gr3N",
        "colab_type": "text"
      },
      "source": [
        "## Building Preprocessing Pipeline\n",
        "Data preprocessing for this model includes\n",
        "1. 'Unrolling' or flattening the 28x28 images into 784-dimensional vectors of pixel intensities.\n",
        "2. Pixel values should also be scaled.\n",
        "\n",
        "Since feature scaling strategy is a hyperparameter, defining a custom data transformer class called `FeatureScaler` that will use a different scaling strategy based on an initializer argument."
      ]
    },
    {
      "cell_type": "markdown",
      "metadata": {
        "id": "7HTfJK4jGr3O",
        "colab_type": "text"
      },
      "source": [
        "## Preprocessing"
      ]
    },
    {
      "cell_type": "markdown",
      "metadata": {
        "id": "apj213cjGr3P",
        "colab_type": "text"
      },
      "source": [
        "### Step 1 - Cast all features to `numpy` floats"
      ]
    },
    {
      "cell_type": "code",
      "metadata": {
        "id": "Iwq2DgLmGr3Q",
        "colab_type": "code",
        "colab": {}
      },
      "source": [
        "X_train = X_train.astype('float32')\n",
        "X_test = X_test.astype('float32')"
      ],
      "execution_count": 0,
      "outputs": []
    },
    {
      "cell_type": "markdown",
      "metadata": {
        "id": "pcRIyzO8Gr3T",
        "colab_type": "text"
      },
      "source": [
        "### Step 2 - Convert labels to 10-dimensional categorical vectors"
      ]
    },
    {
      "cell_type": "code",
      "metadata": {
        "id": "7xFrzTYXGr3U",
        "colab_type": "code",
        "colab": {}
      },
      "source": [
        "from tensorflow.keras.utils import to_categorical"
      ],
      "execution_count": 0,
      "outputs": []
    },
    {
      "cell_type": "code",
      "metadata": {
        "id": "oTepafDFGr3X",
        "colab_type": "code",
        "colab": {}
      },
      "source": [
        "num_classes = 10;\n",
        "y_train = to_categorical(y=y_train, num_classes=num_classes)\n",
        "y_test = to_categorical(y=y_test, num_classes=num_classes)"
      ],
      "execution_count": 0,
      "outputs": []
    },
    {
      "cell_type": "code",
      "metadata": {
        "id": "WJN9HTQRGr3c",
        "colab_type": "code",
        "outputId": "3f2dc480-e4b5-4b30-d1ed-b0ea0f20e567",
        "colab": {
          "base_uri": "https://localhost:8080/",
          "height": 34
        }
      },
      "source": [
        "# Sanity check\n",
        "y_train.shape"
      ],
      "execution_count": 13,
      "outputs": [
        {
          "output_type": "execute_result",
          "data": {
            "text/plain": [
              "(60000, 10)"
            ]
          },
          "metadata": {
            "tags": []
          },
          "execution_count": 13
        }
      ]
    },
    {
      "cell_type": "code",
      "metadata": {
        "id": "_gzX3Re_Gr3f",
        "colab_type": "code",
        "outputId": "f771fb94-f510-4e2c-e908-f6647176a941",
        "colab": {
          "base_uri": "https://localhost:8080/",
          "height": 34
        }
      },
      "source": [
        "y_test.shape"
      ],
      "execution_count": 14,
      "outputs": [
        {
          "output_type": "execute_result",
          "data": {
            "text/plain": [
              "(10000, 10)"
            ]
          },
          "metadata": {
            "tags": []
          },
          "execution_count": 14
        }
      ]
    },
    {
      "cell_type": "code",
      "metadata": {
        "id": "bm11E_JgGr3k",
        "colab_type": "code",
        "outputId": "80ad3b6b-308b-4f3c-93d2-b7b3aacdadf1",
        "colab": {
          "base_uri": "https://localhost:8080/",
          "height": 34
        }
      },
      "source": [
        "y_train[0]"
      ],
      "execution_count": 15,
      "outputs": [
        {
          "output_type": "execute_result",
          "data": {
            "text/plain": [
              "array([0., 0., 0., 0., 0., 1., 0., 0., 0., 0.], dtype=float32)"
            ]
          },
          "metadata": {
            "tags": []
          },
          "execution_count": 15
        }
      ]
    },
    {
      "cell_type": "code",
      "metadata": {
        "id": "z0LZBczrGr3r",
        "colab_type": "code",
        "outputId": "387b5519-7d06-47d8-8318-613b1f13ccd1",
        "colab": {
          "base_uri": "https://localhost:8080/",
          "height": 34
        }
      },
      "source": [
        "y_test[0]"
      ],
      "execution_count": 16,
      "outputs": [
        {
          "output_type": "execute_result",
          "data": {
            "text/plain": [
              "array([0., 0., 0., 0., 0., 0., 0., 1., 0., 0.], dtype=float32)"
            ]
          },
          "metadata": {
            "tags": []
          },
          "execution_count": 16
        }
      ]
    },
    {
      "cell_type": "markdown",
      "metadata": {
        "id": "n1gjIYc5Gr3u",
        "colab_type": "text"
      },
      "source": [
        "### Step 3 - Feature Scaling"
      ]
    },
    {
      "cell_type": "code",
      "metadata": {
        "id": "bgwo0pu5Gr3x",
        "colab_type": "code",
        "colab": {}
      },
      "source": [
        "def print_feature_statistics(X, scaling_strategy):\n",
        "    print(\"Statistics for \", scaling_strategy)\n",
        "    print(\"Mean value: \", X.mean())\n",
        "    print(\"Std Dev: \", X.std())\n",
        "    print(\"Minimum: \", X.min())\n",
        "    print(\"Maximum: \", X.max())"
      ],
      "execution_count": 0,
      "outputs": []
    },
    {
      "cell_type": "code",
      "metadata": {
        "id": "99gsE8fPGr30",
        "colab_type": "code",
        "colab": {}
      },
      "source": [
        "def preprocess_features(X, X_train=X_train, scaling_strategy='Standard'):\n",
        "    # First, convert to float32s\n",
        "    X_transformed = X.astype('float32')\n",
        "    \n",
        "    # Scale based on specified training strategy using training data for intermediate computations\n",
        "    if scaling_strategy == 'Standard':\n",
        "        X_transformed -= X_train.mean()\n",
        "        X_transformed /= X_train.std()\n",
        "    elif scaling_strategy == 'MinMax':\n",
        "        X_transformed = (X_transformed - X_train.min())/(X_train.max() - X_train.min())\n",
        "    elif scaling_strategy == 'MaxAbs':\n",
        "        X_transformed /= np.max(np.abs(X_train))\n",
        "    elif scaling_strategy == 'Variance':\n",
        "        X_transformed = (X_transformed - X_train.mean()) / (X_train.var())\n",
        "        \n",
        "    # Reshape array by explicitly adding a channels axis\n",
        "    X_transformed = X_transformed.reshape(-1, X.shape[1], X.shape[1], 1)\n",
        "    \n",
        "    # Optional - printing mean/min/max/std\n",
        "    # print_feature_statistics(X_transformed, scaling_strategy)\n",
        "    \n",
        "    # Return the transformed features\n",
        "    return X_transformed"
      ],
      "execution_count": 0,
      "outputs": []
    },
    {
      "cell_type": "code",
      "metadata": {
        "id": "MHoYL9KrGr32",
        "colab_type": "code",
        "colab": {}
      },
      "source": [
        "X_train_transformed = preprocess_features(X_train, X_train, scaling_strategy='Standard')"
      ],
      "execution_count": 0,
      "outputs": []
    },
    {
      "cell_type": "code",
      "metadata": {
        "id": "6SK9icUtGr36",
        "colab_type": "code",
        "outputId": "7c758a0b-34d2-4f44-cf27-a5d6396f0fbb",
        "colab": {
          "base_uri": "https://localhost:8080/",
          "height": 34
        }
      },
      "source": [
        "X_train_transformed.shape"
      ],
      "execution_count": 21,
      "outputs": [
        {
          "output_type": "execute_result",
          "data": {
            "text/plain": [
              "(60000, 28, 28, 1)"
            ]
          },
          "metadata": {
            "tags": []
          },
          "execution_count": 21
        }
      ]
    },
    {
      "cell_type": "markdown",
      "metadata": {
        "id": "ZKOM_WiXGr3_",
        "colab_type": "text"
      },
      "source": [
        "## Base CNN"
      ]
    },
    {
      "cell_type": "code",
      "metadata": {
        "id": "csf_X8lvGr4A",
        "colab_type": "code",
        "colab": {}
      },
      "source": [
        "from tensorflow.keras.models import Sequential\n",
        "from tensorflow.keras.layers import Flatten, Dense, Conv2D, MaxPooling2D, Dropout"
      ],
      "execution_count": 0,
      "outputs": []
    },
    {
      "cell_type": "code",
      "metadata": {
        "id": "GyRYMRxtGr4E",
        "colab_type": "code",
        "colab": {}
      },
      "source": [
        "def build_model():\n",
        "    model = Sequential()\n",
        "\n",
        "    # Convolutional base\n",
        "    # First conv-pool pair\n",
        "    model.add(Conv2D(filters=32, kernel_size=(3, 3), activation='relu', input_shape=(28, 28, 1)))\n",
        "    model.add(MaxPooling2D(pool_size=(2, 2)))\n",
        "    model.add(Dropout(0.25))\n",
        "\n",
        "    # Second conv-pool pair\n",
        "    model.add(Conv2D(filters=64, kernel_size=(3, 3), activation='relu'))\n",
        "    model.add(MaxPooling2D(pool_size=(2, 2)))\n",
        "    model.add(Dropout(0.25))\n",
        "\n",
        "    # Densely connected classifier\n",
        "    model.add(Flatten())\n",
        "    model.add(Dense(units=128, activation='relu'))\n",
        "    model.add(Dense(units=10, activation='softmax'))\n",
        "    \n",
        "    \n",
        "    # Compile with reasonable defaults for this problem\n",
        "    model.compile(optimizer='rmsprop', loss='categorical_crossentropy',\n",
        "                  metrics=['acc'])\n",
        "    \n",
        "    # Return the compiled model\n",
        "    return model"
      ],
      "execution_count": 0,
      "outputs": []
    },
    {
      "cell_type": "code",
      "metadata": {
        "id": "dp5-_DruGr4G",
        "colab_type": "code",
        "outputId": "78bebd17-406e-4e60-a48b-e57a06b381b8",
        "colab": {
          "base_uri": "https://localhost:8080/",
          "height": 88
        }
      },
      "source": [
        "base_model = build_model()"
      ],
      "execution_count": 24,
      "outputs": [
        {
          "output_type": "stream",
          "text": [
            "WARNING:tensorflow:From /usr/local/lib/python3.6/dist-packages/tensorflow_core/python/ops/resource_variable_ops.py:1630: calling BaseResourceVariable.__init__ (from tensorflow.python.ops.resource_variable_ops) with constraint is deprecated and will be removed in a future version.\n",
            "Instructions for updating:\n",
            "If using Keras pass *_constraint arguments to layers.\n"
          ],
          "name": "stdout"
        }
      ]
    },
    {
      "cell_type": "code",
      "metadata": {
        "id": "m-MYETWWGr4J",
        "colab_type": "code",
        "outputId": "324d8433-28f8-4d88-f0ff-bf91d15c8c7c",
        "colab": {
          "base_uri": "https://localhost:8080/",
          "height": 442
        }
      },
      "source": [
        "# Fit the model, remember its training history\n",
        "base_history = base_model.fit(X_train_transformed, y_train, \n",
        "                             batch_size=128, epochs=12,\n",
        "                             validation_split=0.15)"
      ],
      "execution_count": 0,
      "outputs": [
        {
          "output_type": "stream",
          "text": [
            "Train on 51000 samples, validate on 9000 samples\n",
            "Epoch 1/12\n",
            "51000/51000 [==============================] - 9s 173us/sample - loss: 0.2237 - acc: 0.9307 - val_loss: 0.0951 - val_acc: 0.9699\n",
            "Epoch 2/12\n",
            "51000/51000 [==============================] - 5s 95us/sample - loss: 0.0657 - acc: 0.9798 - val_loss: 0.0443 - val_acc: 0.9881\n",
            "Epoch 3/12\n",
            "51000/51000 [==============================] - 5s 94us/sample - loss: 0.0480 - acc: 0.9849 - val_loss: 0.0402 - val_acc: 0.9887\n",
            "Epoch 4/12\n",
            "51000/51000 [==============================] - 5s 95us/sample - loss: 0.0392 - acc: 0.9875 - val_loss: 0.0331 - val_acc: 0.9904\n",
            "Epoch 5/12\n",
            "51000/51000 [==============================] - 5s 94us/sample - loss: 0.0332 - acc: 0.9894 - val_loss: 0.0406 - val_acc: 0.9896\n",
            "Epoch 6/12\n",
            "51000/51000 [==============================] - 5s 93us/sample - loss: 0.0289 - acc: 0.9904 - val_loss: 0.0286 - val_acc: 0.9927\n",
            "Epoch 7/12\n",
            "51000/51000 [==============================] - 5s 95us/sample - loss: 0.0245 - acc: 0.9924 - val_loss: 0.0280 - val_acc: 0.9918\n",
            "Epoch 8/12\n",
            "51000/51000 [==============================] - 5s 94us/sample - loss: 0.0218 - acc: 0.9930 - val_loss: 0.0319 - val_acc: 0.9923\n",
            "Epoch 9/12\n",
            "51000/51000 [==============================] - 5s 95us/sample - loss: 0.0200 - acc: 0.9935 - val_loss: 0.0313 - val_acc: 0.9919\n",
            "Epoch 10/12\n",
            "51000/51000 [==============================] - 5s 96us/sample - loss: 0.0182 - acc: 0.9939 - val_loss: 0.0335 - val_acc: 0.9929\n",
            "Epoch 11/12\n",
            "51000/51000 [==============================] - 5s 96us/sample - loss: 0.0171 - acc: 0.9943 - val_loss: 0.0333 - val_acc: 0.9920\n",
            "Epoch 12/12\n",
            "51000/51000 [==============================] - 5s 92us/sample - loss: 0.0158 - acc: 0.9947 - val_loss: 0.0327 - val_acc: 0.9927\n"
          ],
          "name": "stdout"
        }
      ]
    },
    {
      "cell_type": "code",
      "metadata": {
        "id": "k11VaIRFGr4N",
        "colab_type": "code",
        "colab": {}
      },
      "source": [
        "def generate_train_val_plot(epochs, train_data, val_data, metric, model_name):\n",
        "    plt.figure()\n",
        "    plt.plot(epochs, train_data, 'b', label='Training ' + metric)\n",
        "    plt.plot(epochs, val_data, 'r', label='Validation ' + metric)\n",
        "    plt.grid(); plt.xlabel('Epochs'); plt.ylabel(metric); plt.legend()\n",
        "    plt.title('Training vs Validation ' + metric + ' - ' + model_name)"
      ],
      "execution_count": 0,
      "outputs": []
    },
    {
      "cell_type": "code",
      "metadata": {
        "id": "bHFbC_nzGr4T",
        "colab_type": "code",
        "colab": {}
      },
      "source": [
        "def plot_history_data(history, model_name):\n",
        "    history = history.history\n",
        "    epochs = list(range(1, len(history['loss']) + 1))\n",
        "    loss = history['loss']\n",
        "    val_loss = history['val_loss']\n",
        "    acc = history['acc']\n",
        "    val_acc = history['val_acc']\n",
        "    generate_train_val_plot(epochs, loss, val_loss, 'Loss', model_name=model_name)\n",
        "    generate_train_val_plot(epochs, acc, val_acc, 'Accuracy', model_name=model_name)"
      ],
      "execution_count": 0,
      "outputs": []
    },
    {
      "cell_type": "code",
      "metadata": {
        "id": "y_sR2HLdGr4X",
        "colab_type": "code",
        "outputId": "11861c33-7c44-418f-ba24-9bc7f719f68e",
        "colab": {
          "base_uri": "https://localhost:8080/",
          "height": 581
        }
      },
      "source": [
        "plot_history_data(base_history, model_name='Base Model')"
      ],
      "execution_count": 0,
      "outputs": [
        {
          "output_type": "display_data",
          "data": {
            "image/png": "[encoded data removed]",
            "text/plain": [
              "<Figure size 432x288 with 1 Axes>"
            ]
          },
          "metadata": {
            "tags": []
          }
        },
        {
          "output_type": "display_data",
          "data": {
            "image/png": "[encoded data removed]",
            "text/plain": [
              "<Figure size 432x288 with 1 Axes>"
            ]
          },
          "metadata": {
            "tags": []
          }
        }
      ]
    },
    {
      "cell_type": "markdown",
      "metadata": {
        "id": "Ih3Ny1KrGr4a",
        "colab_type": "text"
      },
      "source": [
        "## Testing History R/W"
      ]
    },
    {
      "cell_type": "code",
      "metadata": {
        "id": "7XtlqQMsH8wl",
        "colab_type": "code",
        "colab": {}
      },
      "source": [
        "import os \n",
        "model_histories_folder = os.path.join(os.getcwd(), 'model_histories/')"
      ],
      "execution_count": 0,
      "outputs": []
    },
    {
      "cell_type": "code",
      "metadata": {
        "id": "6bQIjVbCIedB",
        "colab_type": "code",
        "colab": {}
      },
      "source": [
        "os.makedirs(model_histories_folder, exist_ok=True)"
      ],
      "execution_count": 0,
      "outputs": []
    },
    {
      "cell_type": "code",
      "metadata": {
        "id": "BLh5euVoGr4b",
        "colab_type": "code",
        "colab": {}
      },
      "source": [
        "save_history(base_history, 'base_model_history')"
      ],
      "execution_count": 0,
      "outputs": []
    },
    {
      "cell_type": "code",
      "metadata": {
        "id": "7zBluB6tGr4d",
        "colab_type": "code",
        "colab": {}
      },
      "source": [
        "loaded_base_history = load_history('base_model_history')"
      ],
      "execution_count": 0,
      "outputs": []
    },
    {
      "cell_type": "markdown",
      "metadata": {
        "id": "jcK2IxJPGr4f",
        "colab_type": "text"
      },
      "source": [
        "# Hyperparameter 1 - Feature Scaling"
      ]
    },
    {
      "cell_type": "markdown",
      "metadata": {
        "id": "rnMAIRXGGr4h",
        "colab_type": "text"
      },
      "source": [
        "## Preprocessing Data"
      ]
    },
    {
      "cell_type": "code",
      "metadata": {
        "id": "sYmEzquNGr4i",
        "colab_type": "code",
        "colab": {}
      },
      "source": [
        "X_train_minmax = preprocess_features(X_train, X_train, scaling_strategy='MinMax')\n",
        "X_train_standard = preprocess_features(X_train, X_train, scaling_strategy='Standard')\n",
        "X_train_variance = preprocess_features(X_train, X_train, scaling_strategy='Variance')\n",
        "X_train_maxabs = preprocess_features(X_train, X_train, scaling_strategy='MaxAbs')"
      ],
      "execution_count": 0,
      "outputs": []
    },
    {
      "cell_type": "markdown",
      "metadata": {
        "id": "WiOmNDy3Gr4n",
        "colab_type": "text"
      },
      "source": [
        "## MinMax Scaling"
      ]
    },
    {
      "cell_type": "code",
      "metadata": {
        "id": "LYkcvyfwGr4n",
        "colab_type": "code",
        "colab": {}
      },
      "source": [
        "scaling_minmax_history = build_model().fit(X_train_minmax, y_train, batch_size=128, epochs=12, validation_split=0.2, \n",
        "                                           verbose=0)"
      ],
      "execution_count": 0,
      "outputs": []
    },
    {
      "cell_type": "code",
      "metadata": {
        "id": "xM53xkCkGr4p",
        "colab_type": "code",
        "colab": {}
      },
      "source": [
        "save_history(scaling_minmax_history, 'scaling_minmax')"
      ],
      "execution_count": 0,
      "outputs": []
    },
    {
      "cell_type": "markdown",
      "metadata": {
        "id": "1U93mz86Gr4r",
        "colab_type": "text"
      },
      "source": [
        "## Standard Scaling"
      ]
    },
    {
      "cell_type": "code",
      "metadata": {
        "id": "twkluprdGr4s",
        "colab_type": "code",
        "outputId": "c018e516-c06a-4f53-d3df-67f1cb30f8b3",
        "colab": {
          "base_uri": "https://localhost:8080/",
          "height": 442
        }
      },
      "source": [
        "scaling_standard_history = build_model().fit(X_train_standard, y_train, batch_size=128, epochs=12, validation_split=0.2)\n",
        "save_history(scaling_standard_history, 'scaling_standard')"
      ],
      "execution_count": 0,
      "outputs": [
        {
          "output_type": "stream",
          "text": [
            "Train on 48000 samples, validate on 12000 samples\n",
            "Epoch 1/12\n",
            "48000/48000 [==============================] - 6s 119us/sample - loss: 0.2432 - acc: 0.9234 - val_loss: 0.0746 - val_acc: 0.9778\n",
            "Epoch 2/12\n",
            "48000/48000 [==============================] - 5s 113us/sample - loss: 0.0662 - acc: 0.9795 - val_loss: 0.0442 - val_acc: 0.9875\n",
            "Epoch 3/12\n",
            "48000/48000 [==============================] - 5s 111us/sample - loss: 0.0473 - acc: 0.9852 - val_loss: 0.0402 - val_acc: 0.9881\n",
            "Epoch 4/12\n",
            "48000/48000 [==============================] - 5s 103us/sample - loss: 0.0393 - acc: 0.9876 - val_loss: 0.0364 - val_acc: 0.9899\n",
            "Epoch 5/12\n",
            "48000/48000 [==============================] - 5s 100us/sample - loss: 0.0335 - acc: 0.9896 - val_loss: 0.0337 - val_acc: 0.9907\n",
            "Epoch 6/12\n",
            "48000/48000 [==============================] - 5s 100us/sample - loss: 0.0278 - acc: 0.9914 - val_loss: 0.0343 - val_acc: 0.9907\n",
            "Epoch 7/12\n",
            "48000/48000 [==============================] - 5s 98us/sample - loss: 0.0249 - acc: 0.9921 - val_loss: 0.0326 - val_acc: 0.9918\n",
            "Epoch 8/12\n",
            "48000/48000 [==============================] - 5s 98us/sample - loss: 0.0221 - acc: 0.9931 - val_loss: 0.0387 - val_acc: 0.9904\n",
            "Epoch 9/12\n",
            "48000/48000 [==============================] - 5s 99us/sample - loss: 0.0193 - acc: 0.9939 - val_loss: 0.0345 - val_acc: 0.9906\n",
            "Epoch 10/12\n",
            "48000/48000 [==============================] - 5s 98us/sample - loss: 0.0186 - acc: 0.9942 - val_loss: 0.0325 - val_acc: 0.9918\n",
            "Epoch 11/12\n",
            "48000/48000 [==============================] - 5s 97us/sample - loss: 0.0171 - acc: 0.9945 - val_loss: 0.0351 - val_acc: 0.9904\n",
            "Epoch 12/12\n",
            "48000/48000 [==============================] - 5s 95us/sample - loss: 0.0161 - acc: 0.9945 - val_loss: 0.0331 - val_acc: 0.9918\n"
          ],
          "name": "stdout"
        }
      ]
    },
    {
      "cell_type": "markdown",
      "metadata": {
        "id": "vfwMgcW1Gr4u",
        "colab_type": "text"
      },
      "source": [
        "## MaxAbs Scaling"
      ]
    },
    {
      "cell_type": "code",
      "metadata": {
        "id": "qr5GeCOXGr4v",
        "colab_type": "code",
        "outputId": "9f2a4528-072f-4428-b5c0-a7c5ab3a6aba",
        "colab": {
          "base_uri": "https://localhost:8080/",
          "height": 442
        }
      },
      "source": [
        "scaling_maxabs_history = build_model().fit(X_train_maxabs, y_train, batch_size=128, epochs=12, validation_split=0.2)\n",
        "save_history(scaling_maxabs_history, 'scaling_maxabs')"
      ],
      "execution_count": 0,
      "outputs": [
        {
          "output_type": "stream",
          "text": [
            "Train on 48000 samples, validate on 12000 samples\n",
            "Epoch 1/12\n",
            "48000/48000 [==============================] - 5s 114us/sample - loss: 0.2676 - acc: 0.9160 - val_loss: 0.0832 - val_acc: 0.9751\n",
            "Epoch 2/12\n",
            "48000/48000 [==============================] - 5s 105us/sample - loss: 0.0800 - acc: 0.9755 - val_loss: 0.0538 - val_acc: 0.9845\n",
            "Epoch 3/12\n",
            "48000/48000 [==============================] - 5s 101us/sample - loss: 0.0557 - acc: 0.9824 - val_loss: 0.0515 - val_acc: 0.9857\n",
            "Epoch 4/12\n",
            "48000/48000 [==============================] - 4s 93us/sample - loss: 0.0441 - acc: 0.9858 - val_loss: 0.0380 - val_acc: 0.9890\n",
            "Epoch 5/12\n",
            "48000/48000 [==============================] - 4s 89us/sample - loss: 0.0375 - acc: 0.9879 - val_loss: 0.0359 - val_acc: 0.9905\n",
            "Epoch 6/12\n",
            "48000/48000 [==============================] - 4s 90us/sample - loss: 0.0318 - acc: 0.9896 - val_loss: 0.0325 - val_acc: 0.9905\n",
            "Epoch 7/12\n",
            "48000/48000 [==============================] - 4s 86us/sample - loss: 0.0296 - acc: 0.9903 - val_loss: 0.0348 - val_acc: 0.9908\n",
            "Epoch 8/12\n",
            "48000/48000 [==============================] - 4s 87us/sample - loss: 0.0247 - acc: 0.9919 - val_loss: 0.0356 - val_acc: 0.9909\n",
            "Epoch 9/12\n",
            "48000/48000 [==============================] - 4s 87us/sample - loss: 0.0226 - acc: 0.9926 - val_loss: 0.0311 - val_acc: 0.9918\n",
            "Epoch 10/12\n",
            "48000/48000 [==============================] - 4s 88us/sample - loss: 0.0209 - acc: 0.9931 - val_loss: 0.0307 - val_acc: 0.9916\n",
            "Epoch 11/12\n",
            "48000/48000 [==============================] - 4s 88us/sample - loss: 0.0180 - acc: 0.9941 - val_loss: 0.0338 - val_acc: 0.9919\n",
            "Epoch 12/12\n",
            "48000/48000 [==============================] - 4s 88us/sample - loss: 0.0175 - acc: 0.9942 - val_loss: 0.0313 - val_acc: 0.9923\n"
          ],
          "name": "stdout"
        }
      ]
    },
    {
      "cell_type": "markdown",
      "metadata": {
        "id": "5iLJuJ0rGr4z",
        "colab_type": "text"
      },
      "source": [
        "## Variance Scaling"
      ]
    },
    {
      "cell_type": "code",
      "metadata": {
        "id": "pgVFPauaGr4z",
        "colab_type": "code",
        "outputId": "80eeaf52-942a-469f-b00b-93aaaf49d35a",
        "colab": {
          "base_uri": "https://localhost:8080/",
          "height": 442
        }
      },
      "source": [
        "scaling_variance_history = build_model().fit(X_train_variance, y_train, batch_size=128, epochs=12, \n",
        "                                            validation_split=0.2)\n",
        "save_history(scaling_variance_history, 'scaling_variance')"
      ],
      "execution_count": 0,
      "outputs": [
        {
          "output_type": "stream",
          "text": [
            "Train on 48000 samples, validate on 12000 samples\n",
            "Epoch 1/12\n",
            "48000/48000 [==============================] - 5s 99us/sample - loss: 0.5112 - acc: 0.8429 - val_loss: 0.1597 - val_acc: 0.9536\n",
            "Epoch 2/12\n",
            "48000/48000 [==============================] - 4s 87us/sample - loss: 0.1498 - acc: 0.9531 - val_loss: 0.0956 - val_acc: 0.9705\n",
            "Epoch 3/12\n",
            "48000/48000 [==============================] - 4s 86us/sample - loss: 0.1016 - acc: 0.9681 - val_loss: 0.0829 - val_acc: 0.9752\n",
            "Epoch 4/12\n",
            "48000/48000 [==============================] - 4s 88us/sample - loss: 0.0808 - acc: 0.9750 - val_loss: 0.0630 - val_acc: 0.9816\n",
            "Epoch 5/12\n",
            "48000/48000 [==============================] - 4s 86us/sample - loss: 0.0662 - acc: 0.9788 - val_loss: 0.0615 - val_acc: 0.9821\n",
            "Epoch 6/12\n",
            "48000/48000 [==============================] - 4s 88us/sample - loss: 0.0568 - acc: 0.9819 - val_loss: 0.0528 - val_acc: 0.9838\n",
            "Epoch 7/12\n",
            "48000/48000 [==============================] - 4s 86us/sample - loss: 0.0521 - acc: 0.9843 - val_loss: 0.0503 - val_acc: 0.9847\n",
            "Epoch 8/12\n",
            "48000/48000 [==============================] - 4s 85us/sample - loss: 0.0464 - acc: 0.9854 - val_loss: 0.0472 - val_acc: 0.9860\n",
            "Epoch 9/12\n",
            "48000/48000 [==============================] - 4s 86us/sample - loss: 0.0404 - acc: 0.9876 - val_loss: 0.0494 - val_acc: 0.9867\n",
            "Epoch 10/12\n",
            "48000/48000 [==============================] - 4s 86us/sample - loss: 0.0378 - acc: 0.9874 - val_loss: 0.0561 - val_acc: 0.9837\n",
            "Epoch 11/12\n",
            "48000/48000 [==============================] - 4s 86us/sample - loss: 0.0338 - acc: 0.9897 - val_loss: 0.0479 - val_acc: 0.9867\n",
            "Epoch 12/12\n",
            "48000/48000 [==============================] - 4s 87us/sample - loss: 0.0323 - acc: 0.9899 - val_loss: 0.0486 - val_acc: 0.9870\n"
          ],
          "name": "stdout"
        }
      ]
    },
    {
      "cell_type": "markdown",
      "metadata": {
        "id": "ipu3iqrUGr45",
        "colab_type": "text"
      },
      "source": [
        "## Comparing Losses and Accuracies"
      ]
    },
    {
      "cell_type": "code",
      "metadata": {
        "id": "1gXIpPfbGr46",
        "colab_type": "code",
        "colab": {}
      },
      "source": [
        "# Store all training histories into a dictionary\n",
        "training_histories = {\n",
        "    'standard': scaling_standard_history.history, \n",
        "    'maxabs': scaling_maxabs_history.history, \n",
        "    'minmax': scaling_minmax_history.history,\n",
        "    'variance': scaling_variance_history.history\n",
        "}"
      ],
      "execution_count": 0,
      "outputs": []
    },
    {
      "cell_type": "code",
      "metadata": {
        "id": "fDRUHCFJGr48",
        "colab_type": "code",
        "outputId": "359d231f-6c0c-4eff-9acc-bd293a02a06e",
        "colab": {
          "base_uri": "https://localhost:8080/",
          "height": 873
        }
      },
      "source": [
        "plt.figure(figsize=(12, 12))\n",
        "for scaling_strategy, history in training_histories.items():\n",
        "    plt.subplot(221)\n",
        "    plt.plot(history['loss'], label=scaling_strategy)\n",
        "    plt.title('Loss'); plt.legend();\n",
        "    \n",
        "    plt.subplot(222)\n",
        "    plt.plot(history['val_loss'], label=scaling_strategy)\n",
        "    plt.title('Val Loss'); plt.legend();\n",
        "    \n",
        "    plt.subplot(223)\n",
        "    plt.plot(history['acc'], label=scaling_strategy)\n",
        "    plt.title('Acc'); plt.legend();\n",
        "    \n",
        "    plt.subplot(224)\n",
        "    plt.plot(history['val_acc'], label=scaling_strategy)\n",
        "    plt.title('Val Acc'); plt.legend()"
      ],
      "execution_count": 0,
      "outputs": [
        {
          "output_type": "stream",
          "text": [
            "/usr/local/lib/python3.6/dist-packages/ipykernel_launcher.py:3: MatplotlibDeprecationWarning: Adding an axes using the same arguments as a previous axes currently reuses the earlier instance.  In a future version, a new instance will always be created and returned.  Meanwhile, this warning can be suppressed, and the future behavior ensured, by passing a unique label to each axes instance.\n",
            "  This is separate from the ipykernel package so we can avoid doing imports until\n",
            "/usr/local/lib/python3.6/dist-packages/ipykernel_launcher.py:7: MatplotlibDeprecationWarning: Adding an axes using the same arguments as a previous axes currently reuses the earlier instance.  In a future version, a new instance will always be created and returned.  Meanwhile, this warning can be suppressed, and the future behavior ensured, by passing a unique label to each axes instance.\n",
            "  import sys\n",
            "/usr/local/lib/python3.6/dist-packages/ipykernel_launcher.py:11: MatplotlibDeprecationWarning: Adding an axes using the same arguments as a previous axes currently reuses the earlier instance.  In a future version, a new instance will always be created and returned.  Meanwhile, this warning can be suppressed, and the future behavior ensured, by passing a unique label to each axes instance.\n",
            "  # This is added back by InteractiveShellApp.init_path()\n",
            "/usr/local/lib/python3.6/dist-packages/ipykernel_launcher.py:15: MatplotlibDeprecationWarning: Adding an axes using the same arguments as a previous axes currently reuses the earlier instance.  In a future version, a new instance will always be created and returned.  Meanwhile, this warning can be suppressed, and the future behavior ensured, by passing a unique label to each axes instance.\n",
            "  from ipykernel import kernelapp as app\n"
          ],
          "name": "stderr"
        },
        {
          "output_type": "display_data",
          "data": {
            "image/png": "[encoded data removed]",
            "text/plain": [
              "<Figure size 864x864 with 4 Axes>"
            ]
          },
          "metadata": {
            "tags": []
          }
        }
      ]
    },
    {
      "cell_type": "markdown",
      "metadata": {
        "id": "WpPI0-LxGr4-",
        "colab_type": "text"
      },
      "source": [
        "### Interpretation\n",
        "- Across all epochs, the `Standard` scaling strategy appears to give the highest training set accuracy and training set loss, with the `MaxAbs` scaling strategy a close second. \n",
        "- Worst training and test set accuracy/loss is achieved by the `Variance` scaling strategy. \n",
        "- For this problem, the `MaxAbs` and `MinMax` scaling strategies gave virtually identical training set performance, which is to be expected because their formulae evaluate to the same experession.\n",
        "    - Differences in these scaling strategies for the validation set are due to sampling noise. \n",
        "    - `MaxAbs` uses two calls to `np` functions, which may be faster than manual subtraction and division. \n",
        "- Intuitively, I would expect the `MaxAbs` or `MinMax` strategy to give the highest accuracy since these strategies put neural network inputs in range $[0, 1]$. \n",
        "- Validation set results show that standardization is a better strategy. Does this mean that the pixel values are normally distributed across the dataset?\n",
        "    - This could be true because the training set size is very large, so any sampling noise in an image is virtually nonexistent, so as far as the model is concerned, the input pixel intensities are truly random in nature. This is why a Gaussian distribution works well.\n",
        "    - However, a drawback of this scaling strategy is the implicit assumption that some pixel values will be **negative** (see min value of standardized features below). This does not make sense for an image where pixel values are either 0 or 1.\n",
        "- **TODO**: Discuss why `Standard` is giving ostensibly better performance than `MinMax` and `MaxAbs`.\n",
        "- **TODO**: Calculate mean epoch training times for `MaxAbs` and `MinMax` strategies to decide which one is faster.\n",
        "\n",
        "### Best Hyperparameter Value: `MinMax`\n",
        "- It gives virtually the same test/validation accuracy and loss as the `Standard` scaling strategy.\n",
        "- However, it does so without making the model implicitly (and incorrectly) assume negative values for features.\n",
        "- For a large enough test set of this problem, the `MinMax` and `MaxAbs`scaling strategies will give roughly identical performance (as is evident in training set results). Any deviations in their validation set performances is largely due to the sampling noise (12k samples vs 48k samples).\n",
        "- As there are no negative values present in the features, it is useless to make an extra call to `np.max` and `np.abs`. However, cursory look at training history shows that this may be faster than `MinMax`."
      ]
    },
    {
      "cell_type": "code",
      "metadata": {
        "id": "btxNtuIiGr4_",
        "colab_type": "code",
        "outputId": "c34594f0-0066-45f2-9abd-87b2f845324a",
        "colab": {
          "base_uri": "https://localhost:8080/",
          "height": 102
        }
      },
      "source": [
        "print_feature_statistics(X_train_standard, 'Standard')\n",
        "# Minimum value is -0.42, max is 2.82, range is not bounded - this is bad"
      ],
      "execution_count": 0,
      "outputs": [
        {
          "output_type": "stream",
          "text": [
            "Statistics for  Standard\n",
            "Mean value:  -3.4560264e-07\n",
            "Std Dev:  0.9999998\n",
            "Minimum:  -0.42407447\n",
            "Maximum:  2.8215446\n"
          ],
          "name": "stdout"
        }
      ]
    },
    {
      "cell_type": "code",
      "metadata": {
        "id": "sSk4gWCWGr5B",
        "colab_type": "code",
        "outputId": "795b165d-0370-41e3-f0c8-7686177fdef0",
        "colab": {
          "base_uri": "https://localhost:8080/",
          "height": 102
        }
      },
      "source": [
        "print_feature_statistics(X_train_minmax, 'MinMax')\n",
        "# Identical to maxabs stats"
      ],
      "execution_count": 0,
      "outputs": [
        {
          "output_type": "stream",
          "text": [
            "Statistics for  MinMax\n",
            "Mean value:  0.13066062\n",
            "Std Dev:  0.30810776\n",
            "Minimum:  0.0\n",
            "Maximum:  1.0\n"
          ],
          "name": "stdout"
        }
      ]
    },
    {
      "cell_type": "code",
      "metadata": {
        "id": "bBkFN0C6Gr5D",
        "colab_type": "code",
        "outputId": "176ce21d-3aaa-46f4-ae97-ff89c909fbcc",
        "colab": {
          "base_uri": "https://localhost:8080/",
          "height": 102
        }
      },
      "source": [
        "print_feature_statistics(X_train_maxabs, 'MaxAbs')"
      ],
      "execution_count": 0,
      "outputs": [
        {
          "output_type": "stream",
          "text": [
            "Statistics for  MaxAbs\n",
            "Mean value:  0.13066062\n",
            "Std Dev:  0.30810776\n",
            "Minimum:  0.0\n",
            "Maximum:  1.0\n"
          ],
          "name": "stdout"
        }
      ]
    },
    {
      "cell_type": "markdown",
      "metadata": {
        "id": "tbmPv_cwGr5I",
        "colab_type": "text"
      },
      "source": [
        "# Hyperparameter 2 - Epochs"
      ]
    },
    {
      "cell_type": "code",
      "metadata": {
        "id": "vw9FGYlVGr5J",
        "colab_type": "code",
        "colab": {}
      },
      "source": [
        "X_train = preprocess_features(X_train, X_train, scaling_strategy='MinMax')"
      ],
      "execution_count": 0,
      "outputs": []
    },
    {
      "cell_type": "code",
      "metadata": {
        "id": "j5WR7eYvGr5K",
        "colab_type": "code",
        "colab": {}
      },
      "source": [
        "epochs_model = build_model()"
      ],
      "execution_count": 0,
      "outputs": []
    },
    {
      "cell_type": "code",
      "metadata": {
        "id": "VcRpRv3LGr5M",
        "colab_type": "code",
        "colab": {}
      },
      "source": [
        "EPOCHS = 16"
      ],
      "execution_count": 0,
      "outputs": []
    },
    {
      "cell_type": "code",
      "metadata": {
        "id": "hux9VG-BGr5N",
        "colab_type": "code",
        "outputId": "b8e6f3bb-4383-4033-e918-54f8f07dd7d1",
        "colab": {
          "base_uri": "https://localhost:8080/",
          "height": 578
        }
      },
      "source": [
        "epochs_model_history = epochs_model.fit(X_train, y_train, batch_size=128, epochs=EPOCHS,\n",
        "                                        validation_split=0.2)"
      ],
      "execution_count": 0,
      "outputs": [
        {
          "output_type": "stream",
          "text": [
            "Train on 48000 samples, validate on 12000 samples\n",
            "Epoch 1/16\n",
            "48000/48000 [==============================] - 6s 121us/sample - loss: 0.2630 - acc: 0.9167 - val_loss: 0.0776 - val_acc: 0.9767\n",
            "Epoch 2/16\n",
            "48000/48000 [==============================] - 5s 103us/sample - loss: 0.0788 - acc: 0.9751 - val_loss: 0.0515 - val_acc: 0.9854\n",
            "Epoch 3/16\n",
            "48000/48000 [==============================] - 5s 99us/sample - loss: 0.0556 - acc: 0.9825 - val_loss: 0.0406 - val_acc: 0.9877\n",
            "Epoch 4/16\n",
            "48000/48000 [==============================] - 5s 98us/sample - loss: 0.0435 - acc: 0.9860 - val_loss: 0.0375 - val_acc: 0.9889\n",
            "Epoch 5/16\n",
            "48000/48000 [==============================] - 5s 96us/sample - loss: 0.0365 - acc: 0.9885 - val_loss: 0.0350 - val_acc: 0.9907\n",
            "Epoch 6/16\n",
            "48000/48000 [==============================] - 5s 98us/sample - loss: 0.0324 - acc: 0.9895 - val_loss: 0.0363 - val_acc: 0.9895\n",
            "Epoch 7/16\n",
            "48000/48000 [==============================] - 5s 99us/sample - loss: 0.0289 - acc: 0.9906 - val_loss: 0.0320 - val_acc: 0.9916\n",
            "Epoch 8/16\n",
            "48000/48000 [==============================] - 5s 95us/sample - loss: 0.0251 - acc: 0.9922 - val_loss: 0.0340 - val_acc: 0.9902\n",
            "Epoch 9/16\n",
            "48000/48000 [==============================] - 5s 95us/sample - loss: 0.0226 - acc: 0.9926 - val_loss: 0.0380 - val_acc: 0.9893\n",
            "Epoch 10/16\n",
            "48000/48000 [==============================] - 4s 94us/sample - loss: 0.0199 - acc: 0.9936 - val_loss: 0.0301 - val_acc: 0.9922\n",
            "Epoch 11/16\n",
            "48000/48000 [==============================] - 4s 93us/sample - loss: 0.0179 - acc: 0.9942 - val_loss: 0.0311 - val_acc: 0.9918\n",
            "Epoch 12/16\n",
            "48000/48000 [==============================] - 5s 95us/sample - loss: 0.0174 - acc: 0.9944 - val_loss: 0.0355 - val_acc: 0.9906\n",
            "Epoch 13/16\n",
            "48000/48000 [==============================] - 4s 88us/sample - loss: 0.0169 - acc: 0.9946 - val_loss: 0.0318 - val_acc: 0.9918\n",
            "Epoch 14/16\n",
            "48000/48000 [==============================] - 4s 86us/sample - loss: 0.0159 - acc: 0.9946 - val_loss: 0.0303 - val_acc: 0.9925\n",
            "Epoch 15/16\n",
            "48000/48000 [==============================] - 4s 83us/sample - loss: 0.0141 - acc: 0.9954 - val_loss: 0.0312 - val_acc: 0.9928\n",
            "Epoch 16/16\n",
            "48000/48000 [==============================] - 4s 83us/sample - loss: 0.0123 - acc: 0.9960 - val_loss: 0.0298 - val_acc: 0.9928\n"
          ],
          "name": "stdout"
        }
      ]
    },
    {
      "cell_type": "code",
      "metadata": {
        "id": "6QK_9eOUGr5P",
        "colab_type": "code",
        "colab": {}
      },
      "source": [
        "save_history(epochs_model_history, 'epochs_16')"
      ],
      "execution_count": 0,
      "outputs": []
    },
    {
      "cell_type": "code",
      "metadata": {
        "id": "zPfKpVBpGr5R",
        "colab_type": "code",
        "outputId": "6be86574-45dd-4d2d-e04e-8bc03489447a",
        "colab": {}
      },
      "source": [
        "plot_history_data(epochs_model_history, 'epochs_16')"
      ],
      "execution_count": 0,
      "outputs": [
        {
          "output_type": "display_data",
          "data": {
            "image/png": "[encoded data removed]",
            "text/plain": [
              "<Figure size 432x288 with 1 Axes>"
            ]
          },
          "metadata": {
            "tags": []
          }
        },
        {
          "output_type": "display_data",
          "data": {
            "image/png": "[encoded data removed]",
            "text/plain": [
              "<Figure size 432x288 with 1 Axes>"
            ]
          },
          "metadata": {
            "tags": []
          }
        }
      ]
    },
    {
      "cell_type": "markdown",
      "metadata": {
        "id": "s2TeyvkJGr5T",
        "colab_type": "text"
      },
      "source": [
        "## Plotting Epoch History Data\n",
        "Loading all training histories and plotting maximim accuracies/minimum losses for each."
      ]
    },
    {
      "cell_type": "code",
      "metadata": {
        "id": "y5G35ALmGr5U",
        "colab_type": "code",
        "colab": {}
      },
      "source": [
        "epoch_histories = {\n",
        "    '12': load_history('scaling_minmax'),\n",
        "    '16': load_history('epochs_16'),\n",
        "    '24': load_history('epochs_24')\n",
        "}"
      ],
      "execution_count": 0,
      "outputs": []
    },
    {
      "cell_type": "code",
      "metadata": {
        "id": "xfmfrDzhGr5Y",
        "colab_type": "code",
        "colab": {}
      },
      "source": [
        "# Creating a dictionary to populate with minimum losses and maximum accs\n",
        "# for each metric of each dictionary in the epoch\n",
        "epoch_data = {\n",
        "    'loss': {},\n",
        "    'val_loss': {},\n",
        "    'acc': {},\n",
        "    'val_acc': {}\n",
        "}"
      ],
      "execution_count": 0,
      "outputs": []
    },
    {
      "cell_type": "code",
      "metadata": {
        "id": "tbIty7VKGr5b",
        "colab_type": "code",
        "colab": {}
      },
      "source": [
        "for key, item in epoch_histories.items():\n",
        "    epoch_data['loss'][key] = np.min(item['loss'])\n",
        "    epoch_data['val_loss'][key] = np.min(item['val_loss'])\n",
        "    epoch_data['acc'][key] = np.max(item['acc'])\n",
        "    epoch_data['val_acc'][key] = np.max(item['val_acc'])"
      ],
      "execution_count": 0,
      "outputs": []
    },
    {
      "cell_type": "code",
      "metadata": {
        "id": "5sgtQ9F8Gr5d",
        "colab_type": "code",
        "colab": {}
      },
      "source": [
        "epochs_df = pd.DataFrame.from_dict(epoch_data)"
      ],
      "execution_count": 0,
      "outputs": []
    },
    {
      "cell_type": "code",
      "metadata": {
        "id": "cCwd9ITcGr5e",
        "colab_type": "code",
        "outputId": "d7a8eeef-c137-45c1-c106-7fba76fa7947",
        "colab": {}
      },
      "source": [
        "plt.bar(epochs_df.index, epochs_df['acc'])\n",
        "plt.xlabel('Epochs'); plt.ylabel('Training Accuracy')\n",
        "plt.grid(); plt.title('Training Accuracy')\n",
        "plt.ylim([0.98, 1.0])"
      ],
      "execution_count": 0,
      "outputs": [
        {
          "output_type": "execute_result",
          "data": {
            "text/plain": [
              "(0.98, 1.0)"
            ]
          },
          "metadata": {
            "tags": []
          },
          "execution_count": 73
        },
        {
          "output_type": "display_data",
          "data": {
            "image/png": "[encoded data removed]",
            "text/plain": [
              "<Figure size 432x288 with 1 Axes>"
            ]
          },
          "metadata": {
            "tags": []
          }
        }
      ]
    },
    {
      "cell_type": "code",
      "metadata": {
        "id": "iT1Ro4EgGr5g",
        "colab_type": "code",
        "outputId": "c5e519ab-2ffa-4a75-8229-256107537a3c",
        "colab": {}
      },
      "source": [
        "# Figure should be YUGE\n",
        "fig = plt.figure(figsize=(12, 12))\n",
        "\n",
        "# Separate axes references for each subplot \n",
        "ax_acc = fig.add_subplot(221)\n",
        "ax_acc.bar(epochs_df.index, epochs_df['acc'])\n",
        "plt.ylim([0.98, 1.0]); plt.title('Training Accuracy'); plt.xlabel('Epochs');\n",
        "\n",
        "ax_val_acc = fig.add_subplot(222)\n",
        "ax_val_acc.bar(epochs_df.index, epochs_df['val_acc'])\n",
        "plt.ylim([0.98, 1.0]); plt.title('Validation Accuracy'); plt.xlabel('Epochs');\n",
        "\n",
        "ax_loss = fig.add_subplot(223)\n",
        "ax_loss.bar(epochs_df.index, epochs_df['loss']); plt.title('Training Loss'); \n",
        "plt.xlabel('Epochs'); plt.ylim([0.00, 0.035]);\n",
        "\n",
        "\n",
        "ax_val_loss = fig.add_subplot(224)\n",
        "ax_val_loss.bar(epochs_df.index, epochs_df['val_loss'])\n",
        "plt.xlabel('Epochs'); plt.title('Validation Loss'); plt.ylim([0.00, 0.035]);"
      ],
      "execution_count": 0,
      "outputs": [
        {
          "output_type": "execute_result",
          "data": {
            "text/plain": [
              "(0.0, 0.035)"
            ]
          },
          "metadata": {
            "tags": []
          },
          "execution_count": 83
        },
        {
          "output_type": "display_data",
          "data": {
            "image/png": "[encoded data removed]",
            "text/plain": [
              "<Figure size 864x864 with 4 Axes>"
            ]
          },
          "metadata": {
            "tags": []
          }
        }
      ]
    },
    {
      "cell_type": "markdown",
      "metadata": {
        "id": "FQtp1WU5Gr5k",
        "colab_type": "text"
      },
      "source": [
        "### Interpretation\n",
        "- Validation set accuracy increases only incrementally with increases in epochs.\n",
        "    - ~0.029% increase with 8 additional epochs\n",
        "    - ~0.035% increse with 16 additional epochs\n",
        "- Improvement in model performance is incremental at best, but considering that base model accuracy was already 99.2% to begin with, this is still promising.\n",
        "- As loss continues to decrease while accuracy continues to increase with increasing epochs, I should probably test for more epochs until point of diminishing returns is reached. \n",
        "\n",
        "## Best Epoch Value - 24"
      ]
    },
    {
      "cell_type": "markdown",
      "metadata": {
        "id": "JmyY2PH5KWYH",
        "colab_type": "text"
      },
      "source": [
        "## Epochs with Grid Search"
      ]
    },
    {
      "cell_type": "markdown",
      "metadata": {
        "id": "qENDZ7BqQ8xb",
        "colab_type": "text"
      },
      "source": [
        "# Hyperparameter 3 - Dropout Rate "
      ]
    },
    {
      "cell_type": "code",
      "metadata": {
        "id": "FujWWixaWxVk",
        "colab_type": "code",
        "colab": {}
      },
      "source": [
        "def build_model(filters=[32, 64], dropout=0.25,\n",
        "               activation='relu', pool_size=(2, 2), kernel_size=(3, 3),\n",
        "               dense_neurons=128, optimizer='rmsprop'):\n",
        "    model = Sequential()\n",
        "\n",
        "    # Convolutional base\n",
        "    # First conv-pool pair\n",
        "    model.add(Conv2D(filters=filters[0], kernel_size=kernel_size, \n",
        "                     activation=activation, input_shape=(28, 28, 1)))\n",
        "    model.add(MaxPooling2D(pool_size=pool_size))\n",
        "    model.add(Dropout(dropout))\n",
        "\n",
        "    # Second conv-pool pair\n",
        "    model.add(Conv2D(filters=filters[1], kernel_size=kernel_size, \n",
        "                     activation=activation))\n",
        "    model.add(MaxPooling2D(pool_size=pool_size))\n",
        "    model.add(Dropout(dropout))\n",
        "\n",
        "    # Densely connected classifier\n",
        "    model.add(Flatten())\n",
        "    model.add(Dense(units=dense_neurons, activation=activation))\n",
        "    model.add(Dense(units=10, activation='softmax'))\n",
        "    \n",
        "    \n",
        "    # Compile with reasonable defaults for this problem\n",
        "    model.compile(optimizer='rmsprop', loss='categorical_crossentropy',\n",
        "                  metrics=['acc'])\n",
        "    \n",
        "    # Return the compiled model\n",
        "    return model"
      ],
      "execution_count": 0,
      "outputs": []
    },
    {
      "cell_type": "code",
      "metadata": {
        "id": "TqzeJbnddS2e",
        "colab_type": "code",
        "colab": {}
      },
      "source": [
        "from sklearn.model_selection import GridSearchCV\n",
        "from tensorflow.keras.wrappers.scikit_learn import KerasClassifier"
      ],
      "execution_count": 0,
      "outputs": []
    },
    {
      "cell_type": "code",
      "metadata": {
        "id": "Pm2GAZ1IdUm4",
        "colab_type": "code",
        "colab": {}
      },
      "source": [
        "dropout_grid = {'dropout': np.arange(0.1, 1.0, 0.2)}"
      ],
      "execution_count": 0,
      "outputs": []
    },
    {
      "cell_type": "code",
      "metadata": {
        "id": "KRp8BoXBdV8k",
        "colab_type": "code",
        "colab": {}
      },
      "source": [
        "dropout_classifier = KerasClassifier(build_model, epochs=16, batch_size=128)"
      ],
      "execution_count": 0,
      "outputs": []
    },
    {
      "cell_type": "code",
      "metadata": {
        "id": "5WvPXbWsdW6t",
        "colab_type": "code",
        "colab": {}
      },
      "source": [
        "dropout_validator = GridSearchCV(estimator=dropout_classifier, \n",
        "                                param_grid=dropout_grid, \n",
        "                                scoring='accuracy', cv=2)"
      ],
      "execution_count": 0,
      "outputs": []
    },
    {
      "cell_type": "code",
      "metadata": {
        "id": "3UuDRajLdZqD",
        "colab_type": "code",
        "outputId": "d7c56941-032f-4d1b-9d75-a2bd77b86ef5",
        "colab": {
          "base_uri": "https://localhost:8080/",
          "height": 1000
        }
      },
      "source": [
        "dropout_validator.fit(preprocess_features(X_train, X_train, 'MinMax'), \n",
        "                      y_train)"
      ],
      "execution_count": 0,
      "outputs": [
        {
          "output_type": "stream",
          "text": [
            "Train on 30000 samples\n",
            "Epoch 1/16\n",
            "30000/30000 [==============================] - 3s 98us/sample - loss: 0.3175 - acc: 0.9018\n",
            "Epoch 2/16\n",
            "30000/30000 [==============================] - 2s 83us/sample - loss: 0.0873 - acc: 0.9725\n",
            "Epoch 3/16\n",
            "30000/30000 [==============================] - 2s 82us/sample - loss: 0.0603 - acc: 0.9810\n",
            "Epoch 4/16\n",
            "30000/30000 [==============================] - 2s 81us/sample - loss: 0.0447 - acc: 0.9859\n",
            "Epoch 5/16\n",
            "30000/30000 [==============================] - 2s 83us/sample - loss: 0.0350 - acc: 0.9892\n",
            "Epoch 6/16\n",
            "30000/30000 [==============================] - 2s 81us/sample - loss: 0.0277 - acc: 0.9912\n",
            "Epoch 7/16\n",
            "30000/30000 [==============================] - 2s 80us/sample - loss: 0.0226 - acc: 0.9926\n",
            "Epoch 8/16\n",
            "30000/30000 [==============================] - 2s 81us/sample - loss: 0.0193 - acc: 0.9944\n",
            "Epoch 9/16\n",
            "30000/30000 [==============================] - 2s 81us/sample - loss: 0.0166 - acc: 0.9948\n",
            "Epoch 10/16\n",
            "30000/30000 [==============================] - 2s 80us/sample - loss: 0.0132 - acc: 0.9960\n",
            "Epoch 11/16\n",
            "30000/30000 [==============================] - 2s 80us/sample - loss: 0.0125 - acc: 0.9959\n",
            "Epoch 12/16\n",
            "30000/30000 [==============================] - 2s 80us/sample - loss: 0.0095 - acc: 0.9971\n",
            "Epoch 13/16\n",
            "30000/30000 [==============================] - 2s 81us/sample - loss: 0.0083 - acc: 0.9975\n",
            "Epoch 14/16\n",
            "30000/30000 [==============================] - 2s 80us/sample - loss: 0.0074 - acc: 0.9974\n",
            "Epoch 15/16\n",
            "30000/30000 [==============================] - 2s 81us/sample - loss: 0.0072 - acc: 0.9976\n",
            "Epoch 16/16\n",
            "30000/30000 [==============================] - 2s 80us/sample - loss: 0.0057 - acc: 0.9981\n",
            "Train on 30000 samples\n",
            "Epoch 1/16\n",
            "30000/30000 [==============================] - 3s 97us/sample - loss: 0.3293 - acc: 0.8978\n",
            "Epoch 2/16\n",
            "30000/30000 [==============================] - 2s 82us/sample - loss: 0.0840 - acc: 0.9745\n",
            "Epoch 3/16\n",
            "30000/30000 [==============================] - 2s 81us/sample - loss: 0.0562 - acc: 0.9830\n",
            "Epoch 4/16\n",
            "30000/30000 [==============================] - 2s 82us/sample - loss: 0.0427 - acc: 0.9870\n",
            "Epoch 5/16\n",
            "30000/30000 [==============================] - 2s 81us/sample - loss: 0.0318 - acc: 0.9893\n",
            "Epoch 6/16\n",
            "30000/30000 [==============================] - 2s 82us/sample - loss: 0.0253 - acc: 0.9920\n",
            "Epoch 7/16\n",
            "30000/30000 [==============================] - 2s 82us/sample - loss: 0.0211 - acc: 0.9930\n",
            "Epoch 8/16\n",
            "30000/30000 [==============================] - 2s 81us/sample - loss: 0.0159 - acc: 0.9949\n",
            "Epoch 9/16\n",
            "30000/30000 [==============================] - 2s 79us/sample - loss: 0.0147 - acc: 0.9952\n",
            "Epoch 10/16\n",
            "30000/30000 [==============================] - 2s 80us/sample - loss: 0.0110 - acc: 0.9962\n",
            "Epoch 11/16\n",
            "30000/30000 [==============================] - 2s 79us/sample - loss: 0.0100 - acc: 0.9967\n",
            "Epoch 12/16\n",
            "30000/30000 [==============================] - 2s 79us/sample - loss: 0.0084 - acc: 0.9975\n",
            "Epoch 13/16\n",
            "30000/30000 [==============================] - 2s 79us/sample - loss: 0.0079 - acc: 0.9971\n",
            "Epoch 14/16\n",
            "30000/30000 [==============================] - 2s 79us/sample - loss: 0.0075 - acc: 0.9973\n",
            "Epoch 15/16\n",
            "30000/30000 [==============================] - 2s 79us/sample - loss: 0.0056 - acc: 0.9982\n",
            "Epoch 16/16\n",
            "30000/30000 [==============================] - 2s 79us/sample - loss: 0.0060 - acc: 0.9981\n",
            "Train on 30000 samples\n",
            "Epoch 1/16\n",
            "30000/30000 [==============================] - 3s 94us/sample - loss: 0.3706 - acc: 0.8831\n",
            "Epoch 2/16\n",
            "30000/30000 [==============================] - 2s 80us/sample - loss: 0.1123 - acc: 0.9650\n",
            "Epoch 3/16\n",
            "30000/30000 [==============================] - 2s 80us/sample - loss: 0.0774 - acc: 0.9753\n",
            "Epoch 4/16\n",
            "30000/30000 [==============================] - 2s 78us/sample - loss: 0.0607 - acc: 0.9811\n",
            "Epoch 5/16\n",
            "30000/30000 [==============================] - 2s 78us/sample - loss: 0.0508 - acc: 0.9836\n",
            "Epoch 6/16\n",
            "30000/30000 [==============================] - 2s 79us/sample - loss: 0.0430 - acc: 0.9864\n",
            "Epoch 7/16\n",
            "30000/30000 [==============================] - 2s 80us/sample - loss: 0.0371 - acc: 0.9881\n",
            "Epoch 8/16\n",
            "30000/30000 [==============================] - 2s 79us/sample - loss: 0.0344 - acc: 0.9893\n",
            "Epoch 9/16\n",
            "30000/30000 [==============================] - 2s 80us/sample - loss: 0.0290 - acc: 0.9904\n",
            "Epoch 10/16\n",
            "30000/30000 [==============================] - 2s 78us/sample - loss: 0.0286 - acc: 0.9906\n",
            "Epoch 11/16\n",
            "30000/30000 [==============================] - 2s 80us/sample - loss: 0.0249 - acc: 0.9923\n",
            "Epoch 12/16\n",
            "30000/30000 [==============================] - 2s 78us/sample - loss: 0.0225 - acc: 0.9928\n",
            "Epoch 13/16\n",
            "30000/30000 [==============================] - 2s 78us/sample - loss: 0.0207 - acc: 0.9932\n",
            "Epoch 14/16\n",
            "30000/30000 [==============================] - 2s 78us/sample - loss: 0.0217 - acc: 0.9929\n",
            "Epoch 15/16\n",
            "30000/30000 [==============================] - 2s 79us/sample - loss: 0.0181 - acc: 0.9942\n",
            "Epoch 16/16\n",
            "30000/30000 [==============================] - 2s 83us/sample - loss: 0.0183 - acc: 0.9946\n",
            "Train on 30000 samples\n",
            "Epoch 1/16\n",
            "30000/30000 [==============================] - 3s 96us/sample - loss: 0.3947 - acc: 0.8766\n",
            "Epoch 2/16\n",
            "30000/30000 [==============================] - 2s 82us/sample - loss: 0.1134 - acc: 0.9654\n",
            "Epoch 3/16\n",
            "30000/30000 [==============================] - 2s 82us/sample - loss: 0.0748 - acc: 0.9767\n",
            "Epoch 4/16\n",
            "30000/30000 [==============================] - 2s 82us/sample - loss: 0.0611 - acc: 0.9810\n",
            "Epoch 5/16\n",
            "30000/30000 [==============================] - 2s 82us/sample - loss: 0.0496 - acc: 0.9845\n",
            "Epoch 6/16\n",
            "30000/30000 [==============================] - 2s 83us/sample - loss: 0.0413 - acc: 0.9867\n",
            "Epoch 7/16\n",
            "30000/30000 [==============================] - 2s 81us/sample - loss: 0.0371 - acc: 0.9880\n",
            "Epoch 8/16\n",
            "30000/30000 [==============================] - 2s 81us/sample - loss: 0.0307 - acc: 0.9904\n",
            "Epoch 9/16\n",
            "30000/30000 [==============================] - 2s 81us/sample - loss: 0.0273 - acc: 0.9916\n",
            "Epoch 10/16\n",
            "30000/30000 [==============================] - 2s 83us/sample - loss: 0.0259 - acc: 0.9913\n",
            "Epoch 11/16\n",
            "30000/30000 [==============================] - 2s 82us/sample - loss: 0.0214 - acc: 0.9929\n",
            "Epoch 12/16\n",
            "30000/30000 [==============================] - 2s 83us/sample - loss: 0.0213 - acc: 0.9929\n",
            "Epoch 13/16\n",
            "30000/30000 [==============================] - 2s 82us/sample - loss: 0.0195 - acc: 0.9934\n",
            "Epoch 14/16\n",
            "30000/30000 [==============================] - 2s 82us/sample - loss: 0.0176 - acc: 0.9938\n",
            "Epoch 15/16\n",
            "30000/30000 [==============================] - 2s 82us/sample - loss: 0.0167 - acc: 0.9944\n",
            "Epoch 16/16\n",
            "30000/30000 [==============================] - 2s 81us/sample - loss: 0.0151 - acc: 0.9950\n",
            "WARNING:tensorflow:Large dropout rate: 0.5 (>0.5). In TensorFlow 2.x, dropout() uses dropout rate instead of keep_prob. Please ensure that this is intended.\n",
            "WARNING:tensorflow:Large dropout rate: 0.5 (>0.5). In TensorFlow 2.x, dropout() uses dropout rate instead of keep_prob. Please ensure that this is intended.\n",
            "Train on 30000 samples\n",
            "Epoch 1/16\n",
            "30000/30000 [==============================] - 3s 97us/sample - loss: 0.4646 - acc: 0.8509\n",
            "Epoch 2/16\n",
            "30000/30000 [==============================] - 2s 82us/sample - loss: 0.1511 - acc: 0.9537\n",
            "Epoch 3/16\n",
            "30000/30000 [==============================] - 3s 84us/sample - loss: 0.1110 - acc: 0.9651\n",
            "Epoch 4/16\n",
            "30000/30000 [==============================] - 3s 84us/sample - loss: 0.0902 - acc: 0.9718\n",
            "Epoch 5/16\n",
            "30000/30000 [==============================] - 3s 84us/sample - loss: 0.0777 - acc: 0.9756\n",
            "Epoch 6/16\n",
            "30000/30000 [==============================] - 3s 83us/sample - loss: 0.0683 - acc: 0.9782\n",
            "Epoch 7/16\n",
            "30000/30000 [==============================] - 2s 82us/sample - loss: 0.0637 - acc: 0.9801\n",
            "Epoch 8/16\n",
            "30000/30000 [==============================] - 2s 81us/sample - loss: 0.0569 - acc: 0.9821\n",
            "Epoch 9/16\n",
            "30000/30000 [==============================] - 2s 81us/sample - loss: 0.0539 - acc: 0.9831\n",
            "Epoch 10/16\n",
            "30000/30000 [==============================] - 2s 82us/sample - loss: 0.0485 - acc: 0.9844\n",
            "Epoch 11/16\n",
            "30000/30000 [==============================] - 2s 82us/sample - loss: 0.0485 - acc: 0.9842\n",
            "Epoch 12/16\n",
            "30000/30000 [==============================] - 2s 83us/sample - loss: 0.0436 - acc: 0.9865\n",
            "Epoch 13/16\n",
            "30000/30000 [==============================] - 2s 83us/sample - loss: 0.0439 - acc: 0.9860\n",
            "Epoch 14/16\n",
            "30000/30000 [==============================] - 2s 82us/sample - loss: 0.0400 - acc: 0.9869\n",
            "Epoch 15/16\n",
            "30000/30000 [==============================] - 2s 82us/sample - loss: 0.0382 - acc: 0.9882\n",
            "Epoch 16/16\n",
            "30000/30000 [==============================] - 2s 82us/sample - loss: 0.0373 - acc: 0.9874\n",
            "WARNING:tensorflow:Large dropout rate: 0.5 (>0.5). In TensorFlow 2.x, dropout() uses dropout rate instead of keep_prob. Please ensure that this is intended.\n",
            "WARNING:tensorflow:Large dropout rate: 0.5 (>0.5). In TensorFlow 2.x, dropout() uses dropout rate instead of keep_prob. Please ensure that this is intended.\n",
            "Train on 30000 samples\n",
            "Epoch 1/16\n",
            "30000/30000 [==============================] - 3s 101us/sample - loss: 0.4515 - acc: 0.8553\n",
            "Epoch 2/16\n",
            "30000/30000 [==============================] - 3s 86us/sample - loss: 0.1502 - acc: 0.9534\n",
            "Epoch 3/16\n",
            "30000/30000 [==============================] - 3s 85us/sample - loss: 0.1095 - acc: 0.9661\n",
            "Epoch 4/16\n",
            "30000/30000 [==============================] - 3s 83us/sample - loss: 0.0906 - acc: 0.9712\n",
            "Epoch 5/16\n",
            "30000/30000 [==============================] - 3s 84us/sample - loss: 0.0767 - acc: 0.9758\n",
            "Epoch 6/16\n",
            "30000/30000 [==============================] - 3s 84us/sample - loss: 0.0701 - acc: 0.9780\n",
            "Epoch 7/16\n",
            "30000/30000 [==============================] - 3s 84us/sample - loss: 0.0614 - acc: 0.9806\n",
            "Epoch 8/16\n",
            "30000/30000 [==============================] - 3s 84us/sample - loss: 0.0562 - acc: 0.9822\n",
            "Epoch 9/16\n",
            "30000/30000 [==============================] - 3s 85us/sample - loss: 0.0510 - acc: 0.9827\n",
            "Epoch 10/16\n",
            "30000/30000 [==============================] - 3s 85us/sample - loss: 0.0490 - acc: 0.9845\n",
            "Epoch 11/16\n",
            "30000/30000 [==============================] - 3s 84us/sample - loss: 0.0451 - acc: 0.9853\n",
            "Epoch 12/16\n",
            "30000/30000 [==============================] - 3s 85us/sample - loss: 0.0430 - acc: 0.9863\n",
            "Epoch 13/16\n",
            "30000/30000 [==============================] - 3s 84us/sample - loss: 0.0426 - acc: 0.9861\n",
            "Epoch 14/16\n",
            "30000/30000 [==============================] - 3s 84us/sample - loss: 0.0381 - acc: 0.9879\n",
            "Epoch 15/16\n",
            "30000/30000 [==============================] - 3s 84us/sample - loss: 0.0393 - acc: 0.9871\n",
            "Epoch 16/16\n",
            "30000/30000 [==============================] - 3s 84us/sample - loss: 0.0355 - acc: 0.9882\n",
            "WARNING:tensorflow:Large dropout rate: 0.7 (>0.5). In TensorFlow 2.x, dropout() uses dropout rate instead of keep_prob. Please ensure that this is intended.\n",
            "Train on 30000 samples\n",
            "Epoch 1/16\n",
            "30000/30000 [==============================] - 3s 106us/sample - loss: 0.6822 - acc: 0.7771\n",
            "Epoch 2/16\n",
            "30000/30000 [==============================] - 3s 86us/sample - loss: 0.2616 - acc: 0.9186\n",
            "Epoch 3/16\n",
            "30000/30000 [==============================] - 3s 85us/sample - loss: 0.2037 - acc: 0.9349\n",
            "Epoch 4/16\n",
            "30000/30000 [==============================] - 3s 85us/sample - loss: 0.1688 - acc: 0.9471\n",
            "Epoch 5/16\n",
            "30000/30000 [==============================] - 3s 86us/sample - loss: 0.1479 - acc: 0.9525\n",
            "Epoch 6/16\n",
            "30000/30000 [==============================] - 3s 85us/sample - loss: 0.1376 - acc: 0.9571\n",
            "Epoch 7/16\n",
            "30000/30000 [==============================] - 3s 85us/sample - loss: 0.1218 - acc: 0.9617\n",
            "Epoch 8/16\n",
            "30000/30000 [==============================] - 3s 84us/sample - loss: 0.1126 - acc: 0.9638\n",
            "Epoch 9/16\n",
            "30000/30000 [==============================] - 3s 84us/sample - loss: 0.1104 - acc: 0.9646\n",
            "Epoch 10/16\n",
            "30000/30000 [==============================] - 2s 82us/sample - loss: 0.1041 - acc: 0.9672\n",
            "Epoch 11/16\n",
            "30000/30000 [==============================] - 2s 83us/sample - loss: 0.1018 - acc: 0.9684\n",
            "Epoch 12/16\n",
            "30000/30000 [==============================] - 2s 82us/sample - loss: 0.0968 - acc: 0.9700\n",
            "Epoch 13/16\n",
            "30000/30000 [==============================] - 2s 82us/sample - loss: 0.0941 - acc: 0.9698\n",
            "Epoch 14/16\n",
            "30000/30000 [==============================] - 2s 83us/sample - loss: 0.0913 - acc: 0.9715\n",
            "Epoch 15/16\n",
            "30000/30000 [==============================] - 2s 82us/sample - loss: 0.0883 - acc: 0.9731\n",
            "Epoch 16/16\n",
            "30000/30000 [==============================] - 2s 80us/sample - loss: 0.0858 - acc: 0.9731\n",
            "Train on 30000 samples\n",
            "Epoch 1/16\n",
            "30000/30000 [==============================] - 3s 102us/sample - loss: 0.7370 - acc: 0.7568\n",
            "Epoch 2/16\n",
            "30000/30000 [==============================] - 3s 86us/sample - loss: 0.3080 - acc: 0.9053\n",
            "Epoch 3/16\n",
            "30000/30000 [==============================] - 3s 85us/sample - loss: 0.2162 - acc: 0.9308\n",
            "Epoch 4/16\n",
            "30000/30000 [==============================] - 3s 85us/sample - loss: 0.1816 - acc: 0.9431\n",
            "Epoch 5/16\n",
            "30000/30000 [==============================] - 3s 84us/sample - loss: 0.1592 - acc: 0.9505\n",
            "Epoch 6/16\n",
            "30000/30000 [==============================] - 2s 82us/sample - loss: 0.1376 - acc: 0.9566\n",
            "Epoch 7/16\n",
            "30000/30000 [==============================] - 3s 83us/sample - loss: 0.1286 - acc: 0.9599\n",
            "Epoch 8/16\n",
            "30000/30000 [==============================] - 2s 83us/sample - loss: 0.1186 - acc: 0.9628\n",
            "Epoch 9/16\n",
            "30000/30000 [==============================] - 3s 83us/sample - loss: 0.1119 - acc: 0.9651\n",
            "Epoch 10/16\n",
            "30000/30000 [==============================] - 3s 84us/sample - loss: 0.1020 - acc: 0.9684\n",
            "Epoch 11/16\n",
            "30000/30000 [==============================] - 3s 84us/sample - loss: 0.0982 - acc: 0.9695\n",
            "Epoch 12/16\n",
            "30000/30000 [==============================] - 2s 82us/sample - loss: 0.0992 - acc: 0.9691\n",
            "Epoch 13/16\n",
            "30000/30000 [==============================] - 3s 83us/sample - loss: 0.0930 - acc: 0.9717\n",
            "Epoch 14/16\n",
            "30000/30000 [==============================] - 2s 83us/sample - loss: 0.0897 - acc: 0.9720\n",
            "Epoch 15/16\n",
            "30000/30000 [==============================] - 2s 83us/sample - loss: 0.0885 - acc: 0.9712\n",
            "Epoch 16/16\n",
            "30000/30000 [==============================] - 2s 83us/sample - loss: 0.0863 - acc: 0.9726\n",
            "Train on 30000 samples\n",
            "Epoch 1/16\n",
            "30000/30000 [==============================] - 3s 104us/sample - loss: 1.4812 - acc: 0.4870\n",
            "Epoch 2/16\n",
            "30000/30000 [==============================] - 3s 86us/sample - loss: 0.8964 - acc: 0.7063\n",
            "Epoch 3/16\n",
            "30000/30000 [==============================] - 3s 87us/sample - loss: 0.6828 - acc: 0.7797\n",
            "Epoch 4/16\n",
            "30000/30000 [==============================] - 3s 87us/sample - loss: 0.5848 - acc: 0.8121\n",
            "Epoch 5/16\n",
            "30000/30000 [==============================] - 3s 88us/sample - loss: 0.5205 - acc: 0.8325\n",
            "Epoch 6/16\n",
            "30000/30000 [==============================] - 3s 86us/sample - loss: 0.4695 - acc: 0.8481\n",
            "Epoch 7/16\n",
            "30000/30000 [==============================] - 3s 86us/sample - loss: 0.4485 - acc: 0.8584\n",
            "Epoch 8/16\n",
            "30000/30000 [==============================] - 3s 86us/sample - loss: 0.4160 - acc: 0.8689\n",
            "Epoch 9/16\n",
            "30000/30000 [==============================] - 3s 86us/sample - loss: 0.3940 - acc: 0.8759\n",
            "Epoch 10/16\n",
            "30000/30000 [==============================] - 3s 85us/sample - loss: 0.3829 - acc: 0.8786\n",
            "Epoch 11/16\n",
            "30000/30000 [==============================] - 3s 84us/sample - loss: 0.3772 - acc: 0.8810\n",
            "Epoch 12/16\n",
            "30000/30000 [==============================] - 3s 87us/sample - loss: 0.3614 - acc: 0.8865\n",
            "Epoch 13/16\n",
            "30000/30000 [==============================] - 3s 85us/sample - loss: 0.3446 - acc: 0.8889\n",
            "Epoch 14/16\n",
            "30000/30000 [==============================] - 3s 84us/sample - loss: 0.3426 - acc: 0.8914\n",
            "Epoch 15/16\n",
            "30000/30000 [==============================] - 3s 84us/sample - loss: 0.3429 - acc: 0.8910\n",
            "Epoch 16/16\n",
            "30000/30000 [==============================] - 3s 84us/sample - loss: 0.3310 - acc: 0.8974\n",
            "Train on 30000 samples\n",
            "Epoch 1/16\n",
            "30000/30000 [==============================] - 3s 107us/sample - loss: 1.4998 - acc: 0.4792\n",
            "Epoch 2/16\n",
            "30000/30000 [==============================] - 3s 86us/sample - loss: 0.9048 - acc: 0.6983\n",
            "Epoch 3/16\n",
            "30000/30000 [==============================] - 3s 86us/sample - loss: 0.6915 - acc: 0.7751\n",
            "Epoch 4/16\n",
            "30000/30000 [==============================] - 3s 86us/sample - loss: 0.5867 - acc: 0.8105\n",
            "Epoch 5/16\n",
            "30000/30000 [==============================] - 3s 87us/sample - loss: 0.5210 - acc: 0.8329\n",
            "Epoch 6/16\n",
            "30000/30000 [==============================] - 3s 86us/sample - loss: 0.4833 - acc: 0.8474\n",
            "Epoch 7/16\n",
            "30000/30000 [==============================] - 3s 85us/sample - loss: 0.4485 - acc: 0.8570\n",
            "Epoch 8/16\n",
            "30000/30000 [==============================] - 3s 85us/sample - loss: 0.4266 - acc: 0.8626\n",
            "Epoch 9/16\n",
            "30000/30000 [==============================] - 3s 86us/sample - loss: 0.4007 - acc: 0.8732\n",
            "Epoch 10/16\n",
            "30000/30000 [==============================] - 3s 84us/sample - loss: 0.3930 - acc: 0.8742\n",
            "Epoch 11/16\n",
            "30000/30000 [==============================] - 3s 86us/sample - loss: 0.3752 - acc: 0.8808\n",
            "Epoch 12/16\n",
            "30000/30000 [==============================] - 3s 85us/sample - loss: 0.3696 - acc: 0.8833\n",
            "Epoch 13/16\n",
            "30000/30000 [==============================] - 3s 88us/sample - loss: 0.3514 - acc: 0.8868\n",
            "Epoch 14/16\n",
            "30000/30000 [==============================] - 3s 85us/sample - loss: 0.3564 - acc: 0.8887\n",
            "Epoch 15/16\n",
            "30000/30000 [==============================] - 3s 85us/sample - loss: 0.3414 - acc: 0.8907\n",
            "Epoch 16/16\n",
            "30000/30000 [==============================] - 3s 84us/sample - loss: 0.3378 - acc: 0.8914\n",
            "Train on 60000 samples\n",
            "Epoch 1/16\n",
            "60000/60000 [==============================] - 6s 97us/sample - loss: 0.2486 - acc: 0.9222\n",
            "Epoch 2/16\n",
            "60000/60000 [==============================] - 5s 85us/sample - loss: 0.0735 - acc: 0.9771\n",
            "Epoch 3/16\n",
            "60000/60000 [==============================] - 5s 84us/sample - loss: 0.0529 - acc: 0.9837\n",
            "Epoch 4/16\n",
            "60000/60000 [==============================] - 5s 86us/sample - loss: 0.0437 - acc: 0.9863\n",
            "Epoch 5/16\n",
            "60000/60000 [==============================] - 5s 84us/sample - loss: 0.0366 - acc: 0.9886\n",
            "Epoch 6/16\n",
            "60000/60000 [==============================] - 5s 84us/sample - loss: 0.0329 - acc: 0.9894\n",
            "Epoch 7/16\n",
            "60000/60000 [==============================] - 5s 84us/sample - loss: 0.0304 - acc: 0.9904\n",
            "Epoch 8/16\n",
            "60000/60000 [==============================] - 5s 84us/sample - loss: 0.0265 - acc: 0.9921\n",
            "Epoch 9/16\n",
            "60000/60000 [==============================] - 5s 86us/sample - loss: 0.0249 - acc: 0.9923\n",
            "Epoch 10/16\n",
            "60000/60000 [==============================] - 5s 88us/sample - loss: 0.0225 - acc: 0.9931\n",
            "Epoch 11/16\n",
            "60000/60000 [==============================] - 5s 86us/sample - loss: 0.0213 - acc: 0.9935\n",
            "Epoch 12/16\n",
            "60000/60000 [==============================] - 5s 84us/sample - loss: 0.0190 - acc: 0.9940\n",
            "Epoch 13/16\n",
            "60000/60000 [==============================] - 5s 86us/sample - loss: 0.0178 - acc: 0.9943\n",
            "Epoch 14/16\n",
            "60000/60000 [==============================] - 5s 84us/sample - loss: 0.0187 - acc: 0.9941\n",
            "Epoch 15/16\n",
            "60000/60000 [==============================] - 5s 85us/sample - loss: 0.0171 - acc: 0.9946\n",
            "Epoch 16/16\n",
            "60000/60000 [==============================] - 5s 85us/sample - loss: 0.0164 - acc: 0.9948\n"
          ],
          "name": "stdout"
        },
        {
          "output_type": "execute_result",
          "data": {
            "text/plain": [
              "GridSearchCV(cv=2, error_score='raise-deprecating',\n",
              "             estimator=<tensorflow.python.keras.wrappers.scikit_learn.KerasClassifier object at 0x7f8edaffaba8>,\n",
              "             iid='warn', n_jobs=None,\n",
              "             param_grid={'dropout': array([0.1, 0.3, 0.5, 0.7, 0.9])},\n",
              "             pre_dispatch='2*n_jobs', refit=True, return_train_score=False,\n",
              "             scoring='accuracy', verbose=0)"
            ]
          },
          "metadata": {
            "tags": []
          },
          "execution_count": 95
        }
      ]
    },
    {
      "cell_type": "code",
      "metadata": {
        "id": "3miZSmg9dfZb",
        "colab_type": "code",
        "outputId": "2f9a4959-1bd8-490a-cf65-a91089b75bdc",
        "colab": {
          "base_uri": "https://localhost:8080/",
          "height": 34
        }
      },
      "source": [
        "dropout_validator.best_params_"
      ],
      "execution_count": 0,
      "outputs": [
        {
          "output_type": "execute_result",
          "data": {
            "text/plain": [
              "{'dropout': 0.30000000000000004}"
            ]
          },
          "metadata": {
            "tags": []
          },
          "execution_count": 96
        }
      ]
    },
    {
      "cell_type": "code",
      "metadata": {
        "id": "6zfknHNaf0cB",
        "colab_type": "code",
        "outputId": "cb2ecb34-ad12-45f8-e6cb-22122a10e37c",
        "colab": {
          "base_uri": "https://localhost:8080/",
          "height": 292
        }
      },
      "source": [
        "dropout_df = pd.DataFrame(dropout_validator.cv_results_)\n",
        "dropout_df"
      ],
      "execution_count": 0,
      "outputs": [
        {
          "output_type": "execute_result",
          "data": {
            "text/html": [
              "<div>\n",
              "<style scoped>\n",
              "    .dataframe tbody tr th:only-of-type {\n",
              "        vertical-align: middle;\n",
              "    }\n",
              "\n",
              "    .dataframe tbody tr th {\n",
              "        vertical-align: top;\n",
              "    }\n",
              "\n",
              "    .dataframe thead th {\n",
              "        text-align: right;\n",
              "    }\n",
              "</style>\n",
              "<table border=\"1\" class=\"dataframe\">\n",
              "  <thead>\n",
              "    <tr style=\"text-align: right;\">\n",
              "      <th></th>\n",
              "      <th>mean_fit_time</th>\n",
              "      <th>std_fit_time</th>\n",
              "      <th>mean_score_time</th>\n",
              "      <th>std_score_time</th>\n",
              "      <th>param_dropout</th>\n",
              "      <th>params</th>\n",
              "      <th>split0_test_score</th>\n",
              "      <th>split1_test_score</th>\n",
              "      <th>mean_test_score</th>\n",
              "      <th>std_test_score</th>\n",
              "      <th>rank_test_score</th>\n",
              "    </tr>\n",
              "  </thead>\n",
              "  <tbody>\n",
              "    <tr>\n",
              "      <th>0</th>\n",
              "      <td>41.261404</td>\n",
              "      <td>0.128214</td>\n",
              "      <td>1.349959</td>\n",
              "      <td>0.015435</td>\n",
              "      <td>0.1</td>\n",
              "      <td>{'dropout': 0.1}</td>\n",
              "      <td>0.986500</td>\n",
              "      <td>0.988300</td>\n",
              "      <td>0.987400</td>\n",
              "      <td>0.000900</td>\n",
              "      <td>3</td>\n",
              "    </tr>\n",
              "    <tr>\n",
              "      <th>1</th>\n",
              "      <td>41.461311</td>\n",
              "      <td>0.623526</td>\n",
              "      <td>1.506317</td>\n",
              "      <td>0.016934</td>\n",
              "      <td>0.3</td>\n",
              "      <td>{'dropout': 0.30000000000000004}</td>\n",
              "      <td>0.990600</td>\n",
              "      <td>0.989433</td>\n",
              "      <td>0.990017</td>\n",
              "      <td>0.000583</td>\n",
              "      <td>1</td>\n",
              "    </tr>\n",
              "    <tr>\n",
              "      <th>2</th>\n",
              "      <td>42.912863</td>\n",
              "      <td>0.547331</td>\n",
              "      <td>1.575847</td>\n",
              "      <td>0.042936</td>\n",
              "      <td>0.5</td>\n",
              "      <td>{'dropout': 0.5000000000000001}</td>\n",
              "      <td>0.989933</td>\n",
              "      <td>0.987833</td>\n",
              "      <td>0.988883</td>\n",
              "      <td>0.001050</td>\n",
              "      <td>2</td>\n",
              "    </tr>\n",
              "    <tr>\n",
              "      <th>3</th>\n",
              "      <td>43.308766</td>\n",
              "      <td>0.039938</td>\n",
              "      <td>1.659247</td>\n",
              "      <td>0.032997</td>\n",
              "      <td>0.7</td>\n",
              "      <td>{'dropout': 0.7000000000000001}</td>\n",
              "      <td>0.988200</td>\n",
              "      <td>0.985900</td>\n",
              "      <td>0.987050</td>\n",
              "      <td>0.001150</td>\n",
              "      <td>4</td>\n",
              "    </tr>\n",
              "    <tr>\n",
              "      <th>4</th>\n",
              "      <td>44.428063</td>\n",
              "      <td>0.091441</td>\n",
              "      <td>1.737032</td>\n",
              "      <td>0.009057</td>\n",
              "      <td>0.9</td>\n",
              "      <td>{'dropout': 0.9000000000000001}</td>\n",
              "      <td>0.964567</td>\n",
              "      <td>0.965533</td>\n",
              "      <td>0.965050</td>\n",
              "      <td>0.000483</td>\n",
              "      <td>5</td>\n",
              "    </tr>\n",
              "  </tbody>\n",
              "</table>\n",
              "</div>"
            ],
            "text/plain": [
              "   mean_fit_time  std_fit_time  ...  std_test_score  rank_test_score\n",
              "0      41.261404      0.128214  ...        0.000900                3\n",
              "1      41.461311      0.623526  ...        0.000583                1\n",
              "2      42.912863      0.547331  ...        0.001050                2\n",
              "3      43.308766      0.039938  ...        0.001150                4\n",
              "4      44.428063      0.091441  ...        0.000483                5\n",
              "\n",
              "[5 rows x 11 columns]"
            ]
          },
          "metadata": {
            "tags": []
          },
          "execution_count": 105
        }
      ]
    },
    {
      "cell_type": "code",
      "metadata": {
        "id": "CzoYNT-Kgjek",
        "colab_type": "code",
        "colab": {}
      },
      "source": [
        "with open('./dropout_validator', 'wb') as pkl_file:\n",
        "  pickle.dump(dropout_validator.cv_results_, pkl_file)"
      ],
      "execution_count": 0,
      "outputs": []
    },
    {
      "cell_type": "code",
      "metadata": {
        "id": "pCLD-6v0gxm8",
        "colab_type": "code",
        "colab": {}
      },
      "source": [
        "dropout_df = dropout_df[['param_dropout','mean_test_score']]"
      ],
      "execution_count": 0,
      "outputs": []
    },
    {
      "cell_type": "code",
      "metadata": {
        "id": "Z8qGu8IAhdIO",
        "colab_type": "code",
        "outputId": "f18f5302-5a0b-48a9-b98c-728fe350f943",
        "colab": {
          "base_uri": "https://localhost:8080/",
          "height": 235
        }
      },
      "source": [
        "dropout_df.set_index('param_dropout')"
      ],
      "execution_count": 0,
      "outputs": [
        {
          "output_type": "execute_result",
          "data": {
            "text/html": [
              "<div>\n",
              "<style scoped>\n",
              "    .dataframe tbody tr th:only-of-type {\n",
              "        vertical-align: middle;\n",
              "    }\n",
              "\n",
              "    .dataframe tbody tr th {\n",
              "        vertical-align: top;\n",
              "    }\n",
              "\n",
              "    .dataframe thead th {\n",
              "        text-align: right;\n",
              "    }\n",
              "</style>\n",
              "<table border=\"1\" class=\"dataframe\">\n",
              "  <thead>\n",
              "    <tr style=\"text-align: right;\">\n",
              "      <th></th>\n",
              "      <th>mean_test_score</th>\n",
              "    </tr>\n",
              "    <tr>\n",
              "      <th>param_dropout</th>\n",
              "      <th></th>\n",
              "    </tr>\n",
              "  </thead>\n",
              "  <tbody>\n",
              "    <tr>\n",
              "      <th>0.1</th>\n",
              "      <td>0.987400</td>\n",
              "    </tr>\n",
              "    <tr>\n",
              "      <th>0.3</th>\n",
              "      <td>0.990017</td>\n",
              "    </tr>\n",
              "    <tr>\n",
              "      <th>0.5</th>\n",
              "      <td>0.988883</td>\n",
              "    </tr>\n",
              "    <tr>\n",
              "      <th>0.7</th>\n",
              "      <td>0.987050</td>\n",
              "    </tr>\n",
              "    <tr>\n",
              "      <th>0.9</th>\n",
              "      <td>0.965050</td>\n",
              "    </tr>\n",
              "  </tbody>\n",
              "</table>\n",
              "</div>"
            ],
            "text/plain": [
              "               mean_test_score\n",
              "param_dropout                 \n",
              "0.1                   0.987400\n",
              "0.3                   0.990017\n",
              "0.5                   0.988883\n",
              "0.7                   0.987050\n",
              "0.9                   0.965050"
            ]
          },
          "metadata": {
            "tags": []
          },
          "execution_count": 146
        }
      ]
    },
    {
      "cell_type": "code",
      "metadata": {
        "id": "MIISjAFLlX_Z",
        "colab_type": "code",
        "colab": {}
      },
      "source": [
        "dropout_df['param_dropout'] = dropout_df['param_dropout'].round(1)"
      ],
      "execution_count": 0,
      "outputs": []
    },
    {
      "cell_type": "code",
      "metadata": {
        "id": "zBY8Orf4iKRG",
        "colab_type": "code",
        "outputId": "f1cde32f-0d0b-4a41-b484-143a4dc39c85",
        "colab": {
          "base_uri": "https://localhost:8080/",
          "height": 441
        }
      },
      "source": [
        "dropout_df.plot.bar('param_dropout', 'mean_test_score', figsize=(6, 6))\n",
        "plt.xlabel('Dropout Rate')\n",
        "plt.ylabel('Cross Validated Accuracy')\n",
        "plt.ylim([0.95, 1.0])\n",
        "plt.title('3-Fold CV Accuracy vs Dropout')\n",
        "plt.tight_layout()"
      ],
      "execution_count": 0,
      "outputs": [
        {
          "output_type": "display_data",
          "data": {
            "image/png": "[encoded data removed]",
            "text/plain": [
              "<Figure size 432x432 with 1 Axes>"
            ]
          },
          "metadata": {
            "tags": []
          }
        }
      ]
    },
    {
      "cell_type": "code",
      "metadata": {
        "id": "jZ3toVYuieDk",
        "colab_type": "code",
        "colab": {}
      },
      "source": [
        "from google.colab import files"
      ],
      "execution_count": 0,
      "outputs": []
    },
    {
      "cell_type": "code",
      "metadata": {
        "id": "41FZfTHSmYsh",
        "colab_type": "code",
        "colab": {}
      },
      "source": [
        "files.download('dropout_validator')"
      ],
      "execution_count": 0,
      "outputs": []
    },
    {
      "cell_type": "markdown",
      "metadata": {
        "id": "lCHeas2mmear",
        "colab_type": "text"
      },
      "source": [
        "# Hyperparameter 3 - Densely Connected Classifier Neurons"
      ]
    },
    {
      "cell_type": "code",
      "metadata": {
        "id": "ezbFpvNBslNA",
        "colab_type": "code",
        "colab": {}
      },
      "source": [
        "from keras.callbacks import CSVLogger"
      ],
      "execution_count": 0,
      "outputs": []
    },
    {
      "cell_type": "code",
      "metadata": {
        "id": "aLHR4m7Vlau-",
        "colab_type": "code",
        "colab": {}
      },
      "source": [
        "dnn_grid = {'dense_neurons': [16, 32, 64, 128, 256, 512, 1024]}"
      ],
      "execution_count": 0,
      "outputs": []
    },
    {
      "cell_type": "code",
      "metadata": {
        "id": "1Xmd6j2pnbAu",
        "colab_type": "code",
        "colab": {}
      },
      "source": [
        "dnn_classifier = KerasClassifier(build_fn=build_model, \n",
        "                                 epochs=16, batch_size=128)"
      ],
      "execution_count": 0,
      "outputs": []
    },
    {
      "cell_type": "code",
      "metadata": {
        "id": "Qi8VVs1jmRSQ",
        "colab_type": "code",
        "colab": {}
      },
      "source": [
        "dnn_validator = GridSearchCV(estimator=dnn_classifier, param_grid=dnn_grid, \n",
        "                             scoring='accuracy', cv=3)"
      ],
      "execution_count": 0,
      "outputs": []
    },
    {
      "cell_type": "code",
      "metadata": {
        "id": "4wP0qhQKuVCg",
        "colab_type": "code",
        "colab": {}
      },
      "source": [
        "callbacks_fit_params = {'callbacks': [CSVLogger('./dnn_logs', append=True)]}"
      ],
      "execution_count": 0,
      "outputs": []
    },
    {
      "cell_type": "code",
      "metadata": {
        "id": "OjuiWULOmlcm",
        "colab_type": "code",
        "colab": {}
      },
      "source": [
        "dnn_validator.fit(X_train_minmax, y_train, verbose=3, **callbacks_fit_params)"
      ],
      "execution_count": 0,
      "outputs": []
    },
    {
      "cell_type": "code",
      "metadata": {
        "id": "sER_0N2spV5E",
        "colab_type": "code",
        "colab": {
          "base_uri": "https://localhost:8080/",
          "height": 34
        },
        "outputId": "e13630db-21c7-4bc9-8984-8668e24453ae"
      },
      "source": [
        "dnn_validator.best_params_"
      ],
      "execution_count": 125,
      "outputs": [
        {
          "output_type": "execute_result",
          "data": {
            "text/plain": [
              "{'dense_neurons': 256}"
            ]
          },
          "metadata": {
            "tags": []
          },
          "execution_count": 125
        }
      ]
    },
    {
      "cell_type": "code",
      "metadata": {
        "id": "PvjI_grBqGj7",
        "colab_type": "code",
        "colab": {
          "base_uri": "https://localhost:8080/",
          "height": 34
        },
        "outputId": "2a6a8310-2b9a-4b5a-c205-ee53ab0dbc4d"
      },
      "source": [
        "dnn_validator.best_score_"
      ],
      "execution_count": 126,
      "outputs": [
        {
          "output_type": "execute_result",
          "data": {
            "text/plain": [
              "0.99115"
            ]
          },
          "metadata": {
            "tags": []
          },
          "execution_count": 126
        }
      ]
    },
    {
      "cell_type": "code",
      "metadata": {
        "id": "gzbdYP51yLwa",
        "colab_type": "code",
        "colab": {}
      },
      "source": [
        "files.download('./dnn_logs')"
      ],
      "execution_count": 0,
      "outputs": []
    },
    {
      "cell_type": "code",
      "metadata": {
        "id": "PCNOUo_YySY_",
        "colab_type": "code",
        "colab": {}
      },
      "source": [
        "with open('./dnn_validator', 'wb') as validator_pkl:\n",
        "  pickle.dump(dnn_validator.cv_results_, validator_pkl)"
      ],
      "execution_count": 0,
      "outputs": []
    },
    {
      "cell_type": "code",
      "metadata": {
        "id": "2nf24buHzrim",
        "colab_type": "code",
        "colab": {}
      },
      "source": [
        "files.download('./dnn_validator')"
      ],
      "execution_count": 0,
      "outputs": []
    },
    {
      "cell_type": "code",
      "metadata": {
        "id": "Rzm5sV38zxBa",
        "colab_type": "code",
        "colab": {}
      },
      "source": [
        "dnn_validator_results = pd.DataFrame.from_dict(dnn_validator.cv_results_)"
      ],
      "execution_count": 0,
      "outputs": []
    },
    {
      "cell_type": "code",
      "metadata": {
        "id": "oS00i4V_z5Vq",
        "colab_type": "code",
        "colab": {
          "base_uri": "https://localhost:8080/",
          "height": 405
        },
        "outputId": "d54bac6c-8c6c-40e6-da39-78b68b9ad27e"
      },
      "source": [
        "dnn_validator_results"
      ],
      "execution_count": 131,
      "outputs": [
        {
          "output_type": "execute_result",
          "data": {
            "text/html": [
              "<div>\n",
              "<style scoped>\n",
              "    .dataframe tbody tr th:only-of-type {\n",
              "        vertical-align: middle;\n",
              "    }\n",
              "\n",
              "    .dataframe tbody tr th {\n",
              "        vertical-align: top;\n",
              "    }\n",
              "\n",
              "    .dataframe thead th {\n",
              "        text-align: right;\n",
              "    }\n",
              "</style>\n",
              "<table border=\"1\" class=\"dataframe\">\n",
              "  <thead>\n",
              "    <tr style=\"text-align: right;\">\n",
              "      <th></th>\n",
              "      <th>mean_fit_time</th>\n",
              "      <th>std_fit_time</th>\n",
              "      <th>mean_score_time</th>\n",
              "      <th>std_score_time</th>\n",
              "      <th>param_dense_neurons</th>\n",
              "      <th>params</th>\n",
              "      <th>split0_test_score</th>\n",
              "      <th>split1_test_score</th>\n",
              "      <th>split2_test_score</th>\n",
              "      <th>mean_test_score</th>\n",
              "      <th>std_test_score</th>\n",
              "      <th>rank_test_score</th>\n",
              "    </tr>\n",
              "  </thead>\n",
              "  <tbody>\n",
              "    <tr>\n",
              "      <th>0</th>\n",
              "      <td>49.115621</td>\n",
              "      <td>0.585222</td>\n",
              "      <td>1.238867</td>\n",
              "      <td>0.024995</td>\n",
              "      <td>16</td>\n",
              "      <td>{'dense_neurons': 16}</td>\n",
              "      <td>0.98935</td>\n",
              "      <td>0.98845</td>\n",
              "      <td>0.98870</td>\n",
              "      <td>0.988833</td>\n",
              "      <td>0.000379</td>\n",
              "      <td>7</td>\n",
              "    </tr>\n",
              "    <tr>\n",
              "      <th>1</th>\n",
              "      <td>48.947506</td>\n",
              "      <td>0.271041</td>\n",
              "      <td>1.338869</td>\n",
              "      <td>0.011224</td>\n",
              "      <td>32</td>\n",
              "      <td>{'dense_neurons': 32}</td>\n",
              "      <td>0.98945</td>\n",
              "      <td>0.98880</td>\n",
              "      <td>0.98945</td>\n",
              "      <td>0.989233</td>\n",
              "      <td>0.000306</td>\n",
              "      <td>5</td>\n",
              "    </tr>\n",
              "    <tr>\n",
              "      <th>2</th>\n",
              "      <td>49.458462</td>\n",
              "      <td>0.514817</td>\n",
              "      <td>1.419277</td>\n",
              "      <td>0.029125</td>\n",
              "      <td>64</td>\n",
              "      <td>{'dense_neurons': 64}</td>\n",
              "      <td>0.98755</td>\n",
              "      <td>0.98940</td>\n",
              "      <td>0.98975</td>\n",
              "      <td>0.988900</td>\n",
              "      <td>0.000965</td>\n",
              "      <td>6</td>\n",
              "    </tr>\n",
              "    <tr>\n",
              "      <th>3</th>\n",
              "      <td>50.753038</td>\n",
              "      <td>0.627697</td>\n",
              "      <td>1.520186</td>\n",
              "      <td>0.030323</td>\n",
              "      <td>128</td>\n",
              "      <td>{'dense_neurons': 128}</td>\n",
              "      <td>0.99200</td>\n",
              "      <td>0.98800</td>\n",
              "      <td>0.99095</td>\n",
              "      <td>0.990317</td>\n",
              "      <td>0.001693</td>\n",
              "      <td>4</td>\n",
              "    </tr>\n",
              "    <tr>\n",
              "      <th>4</th>\n",
              "      <td>52.045785</td>\n",
              "      <td>0.381919</td>\n",
              "      <td>1.638338</td>\n",
              "      <td>0.027647</td>\n",
              "      <td>256</td>\n",
              "      <td>{'dense_neurons': 256}</td>\n",
              "      <td>0.99175</td>\n",
              "      <td>0.99045</td>\n",
              "      <td>0.99125</td>\n",
              "      <td>0.991150</td>\n",
              "      <td>0.000535</td>\n",
              "      <td>1</td>\n",
              "    </tr>\n",
              "    <tr>\n",
              "      <th>5</th>\n",
              "      <td>54.959750</td>\n",
              "      <td>0.076631</td>\n",
              "      <td>1.749444</td>\n",
              "      <td>0.020549</td>\n",
              "      <td>512</td>\n",
              "      <td>{'dense_neurons': 512}</td>\n",
              "      <td>0.99195</td>\n",
              "      <td>0.99020</td>\n",
              "      <td>0.99045</td>\n",
              "      <td>0.990867</td>\n",
              "      <td>0.000773</td>\n",
              "      <td>2</td>\n",
              "    </tr>\n",
              "    <tr>\n",
              "      <th>6</th>\n",
              "      <td>59.736291</td>\n",
              "      <td>0.277275</td>\n",
              "      <td>1.882086</td>\n",
              "      <td>0.035628</td>\n",
              "      <td>1024</td>\n",
              "      <td>{'dense_neurons': 1024}</td>\n",
              "      <td>0.99250</td>\n",
              "      <td>0.98965</td>\n",
              "      <td>0.99015</td>\n",
              "      <td>0.990767</td>\n",
              "      <td>0.001243</td>\n",
              "      <td>3</td>\n",
              "    </tr>\n",
              "  </tbody>\n",
              "</table>\n",
              "</div>"
            ],
            "text/plain": [
              "   mean_fit_time  std_fit_time  ...  std_test_score  rank_test_score\n",
              "0      49.115621      0.585222  ...        0.000379                7\n",
              "1      48.947506      0.271041  ...        0.000306                5\n",
              "2      49.458462      0.514817  ...        0.000965                6\n",
              "3      50.753038      0.627697  ...        0.001693                4\n",
              "4      52.045785      0.381919  ...        0.000535                1\n",
              "5      54.959750      0.076631  ...        0.000773                2\n",
              "6      59.736291      0.277275  ...        0.001243                3\n",
              "\n",
              "[7 rows x 12 columns]"
            ]
          },
          "metadata": {
            "tags": []
          },
          "execution_count": 131
        }
      ]
    },
    {
      "cell_type": "code",
      "metadata": {
        "id": "kUSJdf4iz6zE",
        "colab_type": "code",
        "colab": {}
      },
      "source": [
        "dnn_validator_results = dnn_validator_results[['param_dense_neurons', 'mean_test_score']]"
      ],
      "execution_count": 0,
      "outputs": []
    },
    {
      "cell_type": "code",
      "metadata": {
        "id": "amNiLF8d0L8Z",
        "colab_type": "code",
        "colab": {
          "base_uri": "https://localhost:8080/",
          "height": 297
        },
        "outputId": "294c907f-2701-4421-a6a6-93d85c47d913"
      },
      "source": [
        "dnn_validator_results.set_index('param_dense_neurons')"
      ],
      "execution_count": 133,
      "outputs": [
        {
          "output_type": "execute_result",
          "data": {
            "text/html": [
              "<div>\n",
              "<style scoped>\n",
              "    .dataframe tbody tr th:only-of-type {\n",
              "        vertical-align: middle;\n",
              "    }\n",
              "\n",
              "    .dataframe tbody tr th {\n",
              "        vertical-align: top;\n",
              "    }\n",
              "\n",
              "    .dataframe thead th {\n",
              "        text-align: right;\n",
              "    }\n",
              "</style>\n",
              "<table border=\"1\" class=\"dataframe\">\n",
              "  <thead>\n",
              "    <tr style=\"text-align: right;\">\n",
              "      <th></th>\n",
              "      <th>mean_test_score</th>\n",
              "    </tr>\n",
              "    <tr>\n",
              "      <th>param_dense_neurons</th>\n",
              "      <th></th>\n",
              "    </tr>\n",
              "  </thead>\n",
              "  <tbody>\n",
              "    <tr>\n",
              "      <th>16</th>\n",
              "      <td>0.988833</td>\n",
              "    </tr>\n",
              "    <tr>\n",
              "      <th>32</th>\n",
              "      <td>0.989233</td>\n",
              "    </tr>\n",
              "    <tr>\n",
              "      <th>64</th>\n",
              "      <td>0.988900</td>\n",
              "    </tr>\n",
              "    <tr>\n",
              "      <th>128</th>\n",
              "      <td>0.990317</td>\n",
              "    </tr>\n",
              "    <tr>\n",
              "      <th>256</th>\n",
              "      <td>0.991150</td>\n",
              "    </tr>\n",
              "    <tr>\n",
              "      <th>512</th>\n",
              "      <td>0.990867</td>\n",
              "    </tr>\n",
              "    <tr>\n",
              "      <th>1024</th>\n",
              "      <td>0.990767</td>\n",
              "    </tr>\n",
              "  </tbody>\n",
              "</table>\n",
              "</div>"
            ],
            "text/plain": [
              "                     mean_test_score\n",
              "param_dense_neurons                 \n",
              "16                          0.988833\n",
              "32                          0.989233\n",
              "64                          0.988900\n",
              "128                         0.990317\n",
              "256                         0.991150\n",
              "512                         0.990867\n",
              "1024                        0.990767"
            ]
          },
          "metadata": {
            "tags": []
          },
          "execution_count": 133
        }
      ]
    },
    {
      "cell_type": "code",
      "metadata": {
        "id": "m8TumMmw0NAU",
        "colab_type": "code",
        "colab": {
          "base_uri": "https://localhost:8080/",
          "height": 441
        },
        "outputId": "5eba4a2a-7bac-4291-b063-1f0282055b68"
      },
      "source": [
        "dnn_validator_results.plot.bar('param_dense_neurons', 'mean_test_score', figsize=(6, 6))\n",
        "plt.xlabel('Dense Classifier Neurons')\n",
        "plt.ylabel('Cross Validated Accuracy')\n",
        "plt.ylim([0.95, 1.0])\n",
        "plt.title('3-Fold CV Accuracy vs DNN Neurons')\n",
        "plt.tight_layout()"
      ],
      "execution_count": 136,
      "outputs": [
        {
          "output_type": "display_data",
          "data": {
            "image/png": "[encoded data removed]",
            "text/plain": [
              "<Figure size 432x432 with 1 Axes>"
            ]
          },
          "metadata": {
            "tags": []
          }
        }
      ]
    },
    {
      "cell_type": "markdown",
      "metadata": {
        "id": "2_NDscmG0cxG",
        "colab_type": "text"
      },
      "source": [
        "# Hyperparameter 4 - CNN Window Size \n",
        "Standard sizes are `(2, 2)`, `(3, 3)` or `(5, 5)`. "
      ]
    },
    {
      "cell_type": "code",
      "metadata": {
        "id": "rH0FqTHA8w2N",
        "colab_type": "code",
        "colab": {}
      },
      "source": [
        "cnn_window_grid = {'kernel_size': [(2, 2), (3, 3), (5, 5)]}"
      ],
      "execution_count": 0,
      "outputs": []
    },
    {
      "cell_type": "code",
      "metadata": {
        "id": "PI1X6a2o85o8",
        "colab_type": "code",
        "colab": {}
      },
      "source": [
        "cnn_window_classifier = KerasClassifier(build_model, epochs=16, batch_size=128,\n",
        "                                        dense_neurons=256, dropout=0.25)"
      ],
      "execution_count": 0,
      "outputs": []
    },
    {
      "cell_type": "code",
      "metadata": {
        "id": "aEWILHVu9XEg",
        "colab_type": "code",
        "colab": {}
      },
      "source": [
        "cnn_window_validator = GridSearchCV(estimator=cnn_window_classifier,\n",
        "                                    param_grid=cnn_window_grid, \n",
        "                                    scoring='accuracy', cv=3)"
      ],
      "execution_count": 0,
      "outputs": []
    },
    {
      "cell_type": "code",
      "metadata": {
        "id": "pZuYBOO4_5d1",
        "colab_type": "code",
        "colab": {}
      },
      "source": [
        "callbacks_fit_params = {'callbacks': [CSVLogger('./cnn_kernel_logs', append=True)]}"
      ],
      "execution_count": 0,
      "outputs": []
    },
    {
      "cell_type": "code",
      "metadata": {
        "id": "okywOigR_ZIr",
        "colab_type": "code",
        "colab": {}
      },
      "source": [
        "cnn_window_validator.fit(X_train_minmax, y_train, **callbacks_fit_params, \n",
        "                         verbose=3)"
      ],
      "execution_count": 0,
      "outputs": []
    },
    {
      "cell_type": "code",
      "metadata": {
        "id": "ipxtT63C_dwI",
        "colab_type": "code",
        "colab": {
          "base_uri": "https://localhost:8080/",
          "height": 34
        },
        "outputId": "618421e5-c58d-45cf-8619-8ed0920c0d49"
      },
      "source": [
        "cnn_window_validator.best_params_"
      ],
      "execution_count": 152,
      "outputs": [
        {
          "output_type": "execute_result",
          "data": {
            "text/plain": [
              "{'kernel_size': (5, 5)}"
            ]
          },
          "metadata": {
            "tags": []
          },
          "execution_count": 152
        }
      ]
    },
    {
      "cell_type": "code",
      "metadata": {
        "id": "mQ1j9By3DMzh",
        "colab_type": "code",
        "colab": {}
      },
      "source": [
        "cnn_window_results = pd.DataFrame.from_dict(cnn_window_validator.cv_results_)"
      ],
      "execution_count": 0,
      "outputs": []
    },
    {
      "cell_type": "code",
      "metadata": {
        "id": "PMHLi0ZFDf4e",
        "colab_type": "code",
        "colab": {
          "base_uri": "https://localhost:8080/",
          "height": 213
        },
        "outputId": "3c7bab67-38dd-4571-9d52-80647f69f2fe"
      },
      "source": [
        "cnn_window_results"
      ],
      "execution_count": 155,
      "outputs": [
        {
          "output_type": "execute_result",
          "data": {
            "text/html": [
              "<div>\n",
              "<style scoped>\n",
              "    .dataframe tbody tr th:only-of-type {\n",
              "        vertical-align: middle;\n",
              "    }\n",
              "\n",
              "    .dataframe tbody tr th {\n",
              "        vertical-align: top;\n",
              "    }\n",
              "\n",
              "    .dataframe thead th {\n",
              "        text-align: right;\n",
              "    }\n",
              "</style>\n",
              "<table border=\"1\" class=\"dataframe\">\n",
              "  <thead>\n",
              "    <tr style=\"text-align: right;\">\n",
              "      <th></th>\n",
              "      <th>mean_fit_time</th>\n",
              "      <th>std_fit_time</th>\n",
              "      <th>mean_score_time</th>\n",
              "      <th>std_score_time</th>\n",
              "      <th>param_kernel_size</th>\n",
              "      <th>params</th>\n",
              "      <th>split0_test_score</th>\n",
              "      <th>split1_test_score</th>\n",
              "      <th>split2_test_score</th>\n",
              "      <th>mean_test_score</th>\n",
              "      <th>std_test_score</th>\n",
              "      <th>rank_test_score</th>\n",
              "    </tr>\n",
              "  </thead>\n",
              "  <tbody>\n",
              "    <tr>\n",
              "      <th>0</th>\n",
              "      <td>53.169836</td>\n",
              "      <td>0.149715</td>\n",
              "      <td>2.057280</td>\n",
              "      <td>0.023925</td>\n",
              "      <td>(2, 2)</td>\n",
              "      <td>{'kernel_size': (2, 2)}</td>\n",
              "      <td>0.98985</td>\n",
              "      <td>0.98685</td>\n",
              "      <td>0.98880</td>\n",
              "      <td>0.988500</td>\n",
              "      <td>0.001243</td>\n",
              "      <td>3</td>\n",
              "    </tr>\n",
              "    <tr>\n",
              "      <th>1</th>\n",
              "      <td>56.244463</td>\n",
              "      <td>0.076838</td>\n",
              "      <td>2.194274</td>\n",
              "      <td>0.044288</td>\n",
              "      <td>(3, 3)</td>\n",
              "      <td>{'kernel_size': (3, 3)}</td>\n",
              "      <td>0.99165</td>\n",
              "      <td>0.99095</td>\n",
              "      <td>0.99050</td>\n",
              "      <td>0.991033</td>\n",
              "      <td>0.000473</td>\n",
              "      <td>2</td>\n",
              "    </tr>\n",
              "    <tr>\n",
              "      <th>2</th>\n",
              "      <td>56.484857</td>\n",
              "      <td>0.741353</td>\n",
              "      <td>2.282255</td>\n",
              "      <td>0.015266</td>\n",
              "      <td>(5, 5)</td>\n",
              "      <td>{'kernel_size': (5, 5)}</td>\n",
              "      <td>0.99240</td>\n",
              "      <td>0.99020</td>\n",
              "      <td>0.99095</td>\n",
              "      <td>0.991183</td>\n",
              "      <td>0.000913</td>\n",
              "      <td>1</td>\n",
              "    </tr>\n",
              "  </tbody>\n",
              "</table>\n",
              "</div>"
            ],
            "text/plain": [
              "   mean_fit_time  std_fit_time  ...  std_test_score  rank_test_score\n",
              "0      53.169836      0.149715  ...        0.001243                3\n",
              "1      56.244463      0.076838  ...        0.000473                2\n",
              "2      56.484857      0.741353  ...        0.000913                1\n",
              "\n",
              "[3 rows x 12 columns]"
            ]
          },
          "metadata": {
            "tags": []
          },
          "execution_count": 155
        }
      ]
    },
    {
      "cell_type": "code",
      "metadata": {
        "id": "72JTOF-SDpnQ",
        "colab_type": "code",
        "colab": {}
      },
      "source": [
        "cnn_window_results = cnn_window_results[['param_kernel_size', 'mean_test_score' ]]"
      ],
      "execution_count": 0,
      "outputs": []
    },
    {
      "cell_type": "code",
      "metadata": {
        "id": "ARRXTgvdD1fh",
        "colab_type": "code",
        "colab": {
          "base_uri": "https://localhost:8080/",
          "height": 441
        },
        "outputId": "3b475056-f759-45fe-ade1-48809fdb0256"
      },
      "source": [
        "cnn_window_results.plot.bar('param_kernel_size', 'mean_test_score', figsize=(6, 6))\n",
        "plt.xlabel('Convolutional Window Size')\n",
        "plt.ylabel('Cross Validated Accuracy')\n",
        "plt.ylim([0.95, 1.0])\n",
        "plt.title('3-Fold CV Accuracy vs CNN Window Size')\n",
        "plt.tight_layout()"
      ],
      "execution_count": 157,
      "outputs": [
        {
          "output_type": "display_data",
          "data": {
            "image/png": "[encoded data removed]",
            "text/plain": [
              "<Figure size 432x432 with 1 Axes>"
            ]
          },
          "metadata": {
            "tags": []
          }
        }
      ]
    },
    {
      "cell_type": "code",
      "metadata": {
        "id": "gS91ZUkZEAte",
        "colab_type": "code",
        "colab": {}
      },
      "source": [
        ""
      ],
      "execution_count": 0,
      "outputs": []
    }
  ]
}