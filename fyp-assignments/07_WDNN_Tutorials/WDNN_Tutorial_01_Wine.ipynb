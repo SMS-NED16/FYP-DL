{
  "nbformat": 4,
  "nbformat_minor": 0,
  "metadata": {
    "colab": {
      "name": "WDNN-Tutorial-01-Wine.ipynb",
      "provenance": [],
      "collapsed_sections": [],
      "toc_visible": true,
      "machine_shape": "hm"
    },
    "kernelspec": {
      "name": "python3",
      "display_name": "Python 3"
    },
    "accelerator": "GPU"
  },
  "cells": [
    {
      "cell_type": "markdown",
      "metadata": {
        "id": "Wyn-tUIkKPR0",
        "colab_type": "text"
      },
      "source": [
        "# WDNN Example 01 - Wine Price Prediction \n",
        "\n",
        "Using the `keras` functional API to build a wide and deep neural netwrk (WDNN) that can predict the price of a wine using its description and variety. \n",
        "\n",
        "Trained using [Kaggle's Wine Reviews](https://www.kaggle.com/zynicide/wine-reviews/data) dataset as described in [this blog post](https://blog.tensorflow.org/2018/04/predicting-price-of-wine-with-keras-api-tensorflow.html) by Sara Robinson.\n",
        "\n",
        "## Theory \n",
        "The author notes that WDNNs are suitable for problems in which\n",
        "1. There is **no relatively direct relationship between inputs and outputs**. \n",
        "  - For instance, wines with the word 'fruity' in their description are not necessarily more expensive. \n",
        "  - This is where the deep neural network component of the WDNN shines. It is able to extract unexpected relationships between IOs.\n",
        "  - For the deep component, reviews should be condensed to low-dimensional embeddings that are then learned during training.\n",
        "2. **Feature vectors are sparse**\n",
        "  - This means that input vectors consist mostly of zero values. \n",
        "  - This is usually the case in text-based input vectors, where a sequence of words can be converted to a high-dimensional, sparse vector based on a bag of words model.\n",
        "\n",
        "Recommender systems and models with text inputs are good use cases for WDNNs."
      ]
    },
    {
      "cell_type": "markdown",
      "metadata": {
        "id": "YUfX8d1VNCpP",
        "colab_type": "text"
      },
      "source": [
        "# Imports"
      ]
    },
    {
      "cell_type": "code",
      "metadata": {
        "id": "MdBsfvZSNE2M",
        "colab_type": "code",
        "outputId": "3d162e92-c860-4df5-9f0b-49df2f58c6e4",
        "colab": {
          "base_uri": "https://localhost:8080/",
          "height": 34
        }
      },
      "source": [
        "# Standard imports\n",
        "import numpy as np\n",
        "import pandas as pd \n",
        "\n",
        "# For file and directory manipulation\n",
        "import os \n",
        "\n",
        "# For converting categorical varieties to numerical ones\n",
        "from sklearn.preprocessing import LabelEncoder \n",
        "\n",
        "# For building the neural network\n",
        "import tensorflow as tf\n",
        "from tensorflow import keras\n",
        "layers = keras.layers\n",
        "\n",
        "# Original tutorial used TensorFlow v1.7. We're using 2.2.0\n",
        "print(\"TensorFlow verson\", tf.__version__)"
      ],
      "execution_count": 5,
      "outputs": [
        {
          "output_type": "stream",
          "text": [
            "TensorFlow verson 2.2.0-rc2\n"
          ],
          "name": "stdout"
        }
      ]
    },
    {
      "cell_type": "markdown",
      "metadata": {
        "id": "luYPTJMUKyP2",
        "colab_type": "text"
      },
      "source": [
        "# Preparing Data\n",
        "- There are lots of features in the original dataset.\n",
        "- For simplicity, we're going to use only the `description` and `variety`.\n",
        "- The target is the `price` of the wine. **bold text**"
      ]
    },
    {
      "cell_type": "markdown",
      "metadata": {
        "id": "DTDTNY3ZMzOs",
        "colab_type": "text"
      },
      "source": [
        "## Downloading Data\n",
        "\n",
        "Runs a shell command to get the dataset from the web. "
      ]
    },
    {
      "cell_type": "code",
      "metadata": {
        "id": "e1TR0DoJN78C",
        "colab_type": "code",
        "colab": {}
      },
      "source": [
        "!wget -q https://storage.googleapis.com/sara-cloud-ml/wine_data.csv"
      ],
      "execution_count": 0,
      "outputs": []
    },
    {
      "cell_type": "markdown",
      "metadata": {
        "id": "HGeXJIveOLoW",
        "colab_type": "text"
      },
      "source": [
        "Confirming that the data has been downloaded to the current working directory."
      ]
    },
    {
      "cell_type": "code",
      "metadata": {
        "id": "KwpCzfm2OQyV",
        "colab_type": "code",
        "outputId": "a585d172-1031-46a1-e7a0-f859bd2c58cf",
        "colab": {
          "base_uri": "https://localhost:8080/",
          "height": 34
        }
      },
      "source": [
        "!ls wine_data.csv"
      ],
      "execution_count": 7,
      "outputs": [
        {
          "output_type": "stream",
          "text": [
            "wine_data.csv\n"
          ],
          "name": "stdout"
        }
      ]
    },
    {
      "cell_type": "markdown",
      "metadata": {
        "id": "rmNZKdf0OH-2",
        "colab_type": "text"
      },
      "source": [
        "## Reading Data"
      ]
    },
    {
      "cell_type": "code",
      "metadata": {
        "id": "5cNEL6j2OKib",
        "colab_type": "code",
        "colab": {}
      },
      "source": [
        "data = pd.read_csv('./wine_data.csv')"
      ],
      "execution_count": 0,
      "outputs": []
    },
    {
      "cell_type": "code",
      "metadata": {
        "id": "1-iZ9pV5OkCo",
        "colab_type": "code",
        "outputId": "413d4fd1-3ee4-4562-be2a-a26f8b45f308",
        "colab": {
          "base_uri": "https://localhost:8080/",
          "height": 530
        }
      },
      "source": [
        "data.head()"
      ],
      "execution_count": 9,
      "outputs": [
        {
          "output_type": "execute_result",
          "data": {
            "text/html": [
              "<div>\n",
              "<style scoped>\n",
              "    .dataframe tbody tr th:only-of-type {\n",
              "        vertical-align: middle;\n",
              "    }\n",
              "\n",
              "    .dataframe tbody tr th {\n",
              "        vertical-align: top;\n",
              "    }\n",
              "\n",
              "    .dataframe thead th {\n",
              "        text-align: right;\n",
              "    }\n",
              "</style>\n",
              "<table border=\"1\" class=\"dataframe\">\n",
              "  <thead>\n",
              "    <tr style=\"text-align: right;\">\n",
              "      <th></th>\n",
              "      <th>Unnamed: 0</th>\n",
              "      <th>country</th>\n",
              "      <th>description</th>\n",
              "      <th>designation</th>\n",
              "      <th>points</th>\n",
              "      <th>price</th>\n",
              "      <th>province</th>\n",
              "      <th>region_1</th>\n",
              "      <th>region_2</th>\n",
              "      <th>variety</th>\n",
              "      <th>winery</th>\n",
              "    </tr>\n",
              "  </thead>\n",
              "  <tbody>\n",
              "    <tr>\n",
              "      <th>0</th>\n",
              "      <td>0</td>\n",
              "      <td>US</td>\n",
              "      <td>This tremendous 100% varietal wine hails from ...</td>\n",
              "      <td>Martha's Vineyard</td>\n",
              "      <td>96</td>\n",
              "      <td>235.0</td>\n",
              "      <td>California</td>\n",
              "      <td>Napa Valley</td>\n",
              "      <td>Napa</td>\n",
              "      <td>Cabernet Sauvignon</td>\n",
              "      <td>Heitz</td>\n",
              "    </tr>\n",
              "    <tr>\n",
              "      <th>1</th>\n",
              "      <td>1</td>\n",
              "      <td>Spain</td>\n",
              "      <td>Ripe aromas of fig, blackberry and cassis are ...</td>\n",
              "      <td>Carodorum Selección Especial Reserva</td>\n",
              "      <td>96</td>\n",
              "      <td>110.0</td>\n",
              "      <td>Northern Spain</td>\n",
              "      <td>Toro</td>\n",
              "      <td>NaN</td>\n",
              "      <td>Tinta de Toro</td>\n",
              "      <td>Bodega Carmen Rodríguez</td>\n",
              "    </tr>\n",
              "    <tr>\n",
              "      <th>2</th>\n",
              "      <td>2</td>\n",
              "      <td>US</td>\n",
              "      <td>Mac Watson honors the memory of a wine once ma...</td>\n",
              "      <td>Special Selected Late Harvest</td>\n",
              "      <td>96</td>\n",
              "      <td>90.0</td>\n",
              "      <td>California</td>\n",
              "      <td>Knights Valley</td>\n",
              "      <td>Sonoma</td>\n",
              "      <td>Sauvignon Blanc</td>\n",
              "      <td>Macauley</td>\n",
              "    </tr>\n",
              "    <tr>\n",
              "      <th>3</th>\n",
              "      <td>3</td>\n",
              "      <td>US</td>\n",
              "      <td>This spent 20 months in 30% new French oak, an...</td>\n",
              "      <td>Reserve</td>\n",
              "      <td>96</td>\n",
              "      <td>65.0</td>\n",
              "      <td>Oregon</td>\n",
              "      <td>Willamette Valley</td>\n",
              "      <td>Willamette Valley</td>\n",
              "      <td>Pinot Noir</td>\n",
              "      <td>Ponzi</td>\n",
              "    </tr>\n",
              "    <tr>\n",
              "      <th>4</th>\n",
              "      <td>4</td>\n",
              "      <td>France</td>\n",
              "      <td>This is the top wine from La Bégude, named aft...</td>\n",
              "      <td>La Brûlade</td>\n",
              "      <td>95</td>\n",
              "      <td>66.0</td>\n",
              "      <td>Provence</td>\n",
              "      <td>Bandol</td>\n",
              "      <td>NaN</td>\n",
              "      <td>Provence red blend</td>\n",
              "      <td>Domaine de la Bégude</td>\n",
              "    </tr>\n",
              "  </tbody>\n",
              "</table>\n",
              "</div>"
            ],
            "text/plain": [
              "   Unnamed: 0 country  ...             variety                   winery\n",
              "0           0      US  ...  Cabernet Sauvignon                    Heitz\n",
              "1           1   Spain  ...       Tinta de Toro  Bodega Carmen Rodríguez\n",
              "2           2      US  ...     Sauvignon Blanc                 Macauley\n",
              "3           3      US  ...          Pinot Noir                    Ponzi\n",
              "4           4  France  ...  Provence red blend     Domaine de la Bégude\n",
              "\n",
              "[5 rows x 11 columns]"
            ]
          },
          "metadata": {
            "tags": []
          },
          "execution_count": 9
        }
      ]
    },
    {
      "cell_type": "markdown",
      "metadata": {
        "id": "YF1evXP1Wmzq",
        "colab_type": "text"
      },
      "source": [
        "## Shuffle The Dataset"
      ]
    },
    {
      "cell_type": "code",
      "metadata": {
        "id": "Y7QvZ99gWpOs",
        "colab_type": "code",
        "outputId": "914c5487-2789-4bd6-87cc-ded47800e9ec",
        "colab": {
          "base_uri": "https://localhost:8080/",
          "height": 530
        }
      },
      "source": [
        "# Randomly sample the entire dataset: frac=1 means get a new sample of the same size as the original data\n",
        "data = data.sample(frac=1)\n",
        "\n",
        "# Did shuffling work?\n",
        "data.head()"
      ],
      "execution_count": 10,
      "outputs": [
        {
          "output_type": "execute_result",
          "data": {
            "text/html": [
              "<div>\n",
              "<style scoped>\n",
              "    .dataframe tbody tr th:only-of-type {\n",
              "        vertical-align: middle;\n",
              "    }\n",
              "\n",
              "    .dataframe tbody tr th {\n",
              "        vertical-align: top;\n",
              "    }\n",
              "\n",
              "    .dataframe thead th {\n",
              "        text-align: right;\n",
              "    }\n",
              "</style>\n",
              "<table border=\"1\" class=\"dataframe\">\n",
              "  <thead>\n",
              "    <tr style=\"text-align: right;\">\n",
              "      <th></th>\n",
              "      <th>Unnamed: 0</th>\n",
              "      <th>country</th>\n",
              "      <th>description</th>\n",
              "      <th>designation</th>\n",
              "      <th>points</th>\n",
              "      <th>price</th>\n",
              "      <th>province</th>\n",
              "      <th>region_1</th>\n",
              "      <th>region_2</th>\n",
              "      <th>variety</th>\n",
              "      <th>winery</th>\n",
              "    </tr>\n",
              "  </thead>\n",
              "  <tbody>\n",
              "    <tr>\n",
              "      <th>35243</th>\n",
              "      <td>35243</td>\n",
              "      <td>Italy</td>\n",
              "      <td>This fabulous blend of Cabernet Sauvignon, Mer...</td>\n",
              "      <td>Giusto di Notri</td>\n",
              "      <td>95</td>\n",
              "      <td>80.0</td>\n",
              "      <td>Tuscany</td>\n",
              "      <td>Toscana</td>\n",
              "      <td>NaN</td>\n",
              "      <td>Red Blend</td>\n",
              "      <td>Tua Rita</td>\n",
              "    </tr>\n",
              "    <tr>\n",
              "      <th>149361</th>\n",
              "      <td>149362</td>\n",
              "      <td>Australia</td>\n",
              "      <td>This Chard relies heavily on oak to get its me...</td>\n",
              "      <td>NaN</td>\n",
              "      <td>86</td>\n",
              "      <td>18.0</td>\n",
              "      <td>Western Australia</td>\n",
              "      <td>Western Australia</td>\n",
              "      <td>NaN</td>\n",
              "      <td>Chardonnay</td>\n",
              "      <td>West Cape Howe</td>\n",
              "    </tr>\n",
              "    <tr>\n",
              "      <th>32929</th>\n",
              "      <td>32929</td>\n",
              "      <td>Italy</td>\n",
              "      <td>Spelt is a mature and richly extracted Montepu...</td>\n",
              "      <td>Spelt</td>\n",
              "      <td>90</td>\n",
              "      <td>20.0</td>\n",
              "      <td>Central Italy</td>\n",
              "      <td>Montepulciano d'Abruzzo</td>\n",
              "      <td>NaN</td>\n",
              "      <td>Montepulciano</td>\n",
              "      <td>La Valentina</td>\n",
              "    </tr>\n",
              "    <tr>\n",
              "      <th>23700</th>\n",
              "      <td>23700</td>\n",
              "      <td>Argentina</td>\n",
              "      <td>Smells different than most, with blueberry, ca...</td>\n",
              "      <td>NaN</td>\n",
              "      <td>83</td>\n",
              "      <td>15.0</td>\n",
              "      <td>Mendoza Province</td>\n",
              "      <td>Mendoza</td>\n",
              "      <td>NaN</td>\n",
              "      <td>Malbec</td>\n",
              "      <td>Manos Negras</td>\n",
              "    </tr>\n",
              "    <tr>\n",
              "      <th>102458</th>\n",
              "      <td>102458</td>\n",
              "      <td>US</td>\n",
              "      <td>This is a dry, full-bodied blend of unidentifi...</td>\n",
              "      <td>Cuvée Iris</td>\n",
              "      <td>88</td>\n",
              "      <td>22.0</td>\n",
              "      <td>California</td>\n",
              "      <td>Sonoma County</td>\n",
              "      <td>Sonoma</td>\n",
              "      <td>Red Blend</td>\n",
              "      <td>Kokomo</td>\n",
              "    </tr>\n",
              "  </tbody>\n",
              "</table>\n",
              "</div>"
            ],
            "text/plain": [
              "        Unnamed: 0    country  ...        variety          winery\n",
              "35243        35243      Italy  ...      Red Blend        Tua Rita\n",
              "149361      149362  Australia  ...     Chardonnay  West Cape Howe\n",
              "32929        32929      Italy  ...  Montepulciano    La Valentina\n",
              "23700        23700  Argentina  ...         Malbec    Manos Negras\n",
              "102458      102458         US  ...      Red Blend          Kokomo\n",
              "\n",
              "[5 rows x 11 columns]"
            ]
          },
          "metadata": {
            "tags": []
          },
          "execution_count": 10
        }
      ]
    },
    {
      "cell_type": "markdown",
      "metadata": {
        "id": "w-nD5chLVTX7",
        "colab_type": "text"
      },
      "source": [
        "## Eliminating Missing Values "
      ]
    },
    {
      "cell_type": "code",
      "metadata": {
        "id": "E3bIv-DhViTv",
        "colab_type": "code",
        "colab": {}
      },
      "source": [
        "# Get all rows where the `country` column is not null\n",
        "data = data[pd.notnull(data['country'])]\n",
        "\n",
        "# Within this dataset, only retain rows where the `price` is not null\n",
        "data = data[pd.notnull(data['price'])]\n",
        "\n",
        "# Drop the first column: redundant index\n",
        "data = data.drop(data.columns[0], axis=1)"
      ],
      "execution_count": 0,
      "outputs": []
    },
    {
      "cell_type": "code",
      "metadata": {
        "id": "I6y495RxW_j_",
        "colab_type": "code",
        "outputId": "b954df45-e62b-4e6a-85f5-4a2b2b5533d9",
        "colab": {
          "base_uri": "https://localhost:8080/",
          "height": 297
        }
      },
      "source": [
        "# Did it work?\n",
        "data.describe()"
      ],
      "execution_count": 12,
      "outputs": [
        {
          "output_type": "execute_result",
          "data": {
            "text/html": [
              "<div>\n",
              "<style scoped>\n",
              "    .dataframe tbody tr th:only-of-type {\n",
              "        vertical-align: middle;\n",
              "    }\n",
              "\n",
              "    .dataframe tbody tr th {\n",
              "        vertical-align: top;\n",
              "    }\n",
              "\n",
              "    .dataframe thead th {\n",
              "        text-align: right;\n",
              "    }\n",
              "</style>\n",
              "<table border=\"1\" class=\"dataframe\">\n",
              "  <thead>\n",
              "    <tr style=\"text-align: right;\">\n",
              "      <th></th>\n",
              "      <th>points</th>\n",
              "      <th>price</th>\n",
              "    </tr>\n",
              "  </thead>\n",
              "  <tbody>\n",
              "    <tr>\n",
              "      <th>count</th>\n",
              "      <td>137229.000000</td>\n",
              "      <td>137229.000000</td>\n",
              "    </tr>\n",
              "    <tr>\n",
              "      <th>mean</th>\n",
              "      <td>87.788033</td>\n",
              "      <td>33.131896</td>\n",
              "    </tr>\n",
              "    <tr>\n",
              "      <th>std</th>\n",
              "      <td>3.221583</td>\n",
              "      <td>36.323176</td>\n",
              "    </tr>\n",
              "    <tr>\n",
              "      <th>min</th>\n",
              "      <td>80.000000</td>\n",
              "      <td>4.000000</td>\n",
              "    </tr>\n",
              "    <tr>\n",
              "      <th>25%</th>\n",
              "      <td>86.000000</td>\n",
              "      <td>16.000000</td>\n",
              "    </tr>\n",
              "    <tr>\n",
              "      <th>50%</th>\n",
              "      <td>88.000000</td>\n",
              "      <td>24.000000</td>\n",
              "    </tr>\n",
              "    <tr>\n",
              "      <th>75%</th>\n",
              "      <td>90.000000</td>\n",
              "      <td>40.000000</td>\n",
              "    </tr>\n",
              "    <tr>\n",
              "      <th>max</th>\n",
              "      <td>100.000000</td>\n",
              "      <td>2300.000000</td>\n",
              "    </tr>\n",
              "  </tbody>\n",
              "</table>\n",
              "</div>"
            ],
            "text/plain": [
              "              points          price\n",
              "count  137229.000000  137229.000000\n",
              "mean       87.788033      33.131896\n",
              "std         3.221583      36.323176\n",
              "min        80.000000       4.000000\n",
              "25%        86.000000      16.000000\n",
              "50%        88.000000      24.000000\n",
              "75%        90.000000      40.000000\n",
              "max       100.000000    2300.000000"
            ]
          },
          "metadata": {
            "tags": []
          },
          "execution_count": 12
        }
      ]
    },
    {
      "cell_type": "markdown",
      "metadata": {
        "id": "Mn0WsARRViMy",
        "colab_type": "text"
      },
      "source": [
        "## Eliminating Wine Varieties\n",
        "\n",
        "For simplicity, we are considering only the 40 most frequently occuring wine varieties from the total 632 varieties in the original dataset.\n",
        "\n"
      ]
    },
    {
      "cell_type": "code",
      "metadata": {
        "id": "OPypGwC5ViJ3",
        "colab_type": "code",
        "colab": {}
      },
      "source": [
        "# Any wine variety that occurs less than 500 times will be removed \n",
        "variety_threshold = 500\n",
        "\n",
        "# Get number of times each variety string occurs in the variety column\n",
        "value_counts = data['variety'].value_counts()\n",
        "\n",
        "# The names of wine varieties to remove: all less than 500 occurrences\n",
        "to_remove = value_counts[value_counts <= variety_threshold].index\n",
        "\n",
        "# Replace these wine varieties with `nan` so that they can be dropped easily\n",
        "data.replace(to_remove, np.nan, inplace=True)\n",
        "\n",
        "# Retain rows with non-null value in variety column: i.e. rows with variety > 500 occurrences\n",
        "data = data[pd.notnull(data['variety'])]"
      ],
      "execution_count": 0,
      "outputs": []
    },
    {
      "cell_type": "markdown",
      "metadata": {
        "id": "7LBbbrE8Okn0",
        "colab_type": "text"
      },
      "source": [
        "## Train-Test Spli"
      ]
    },
    {
      "cell_type": "code",
      "metadata": {
        "id": "fP9-EnlqOsNt",
        "colab_type": "code",
        "outputId": "5d21886c-6189-4e19-d6a5-8c0701d77105",
        "colab": {
          "base_uri": "https://localhost:8080/",
          "height": 51
        }
      },
      "source": [
        "# The first 80% of samples will be training data\n",
        "train_size = int(len(data) * .8)\n",
        "\n",
        "# How many samples in the train and test set this way?\n",
        "print(\"Train Size: %d\" % train_size)\n",
        "print(\"Test Size: %d\" % (len(data) - train_size))"
      ],
      "execution_count": 14,
      "outputs": [
        {
          "output_type": "stream",
          "text": [
            "Train Size: 95646\n",
            "Test Size: 23912\n"
          ],
          "name": "stdout"
        }
      ]
    },
    {
      "cell_type": "code",
      "metadata": {
        "id": "8Y1JCLgAOyUZ",
        "colab_type": "code",
        "colab": {}
      },
      "source": [
        "# Indexing to extract training features\n",
        "description_train = data['description'][:train_size]\n",
        "variety_train = data['variety'][:train_size]\n",
        "\n",
        "# Indexing to extract training labels\n",
        "labels_train = data['price'][:train_size]"
      ],
      "execution_count": 0,
      "outputs": []
    },
    {
      "cell_type": "code",
      "metadata": {
        "id": "uBTuZU2YPIy8",
        "colab_type": "code",
        "colab": {}
      },
      "source": [
        "# Indexing to extract test features\n",
        "description_test = data['description'][train_size:]\n",
        "variety_test = data['variety'][train_size:]\n",
        "\n",
        "# Indexing to extract test labels\n",
        "labels_test = data['price'][train_size:]"
      ],
      "execution_count": 0,
      "outputs": []
    },
    {
      "cell_type": "markdown",
      "metadata": {
        "id": "J-c24RCvPVtn",
        "colab_type": "text"
      },
      "source": [
        "# Building the Model"
      ]
    },
    {
      "cell_type": "markdown",
      "metadata": {
        "id": "sX8AD-DlPaef",
        "colab_type": "text"
      },
      "source": [
        "## Part 1 - Wide Component\n",
        "\n",
        "- Wide NNs are great at extracting direct relationships between inputs and outputs.\n",
        "- This is especially true for sparse inputs: inputs in which most elements are 0.\n",
        "- Will use a **bag of words model** for converting each description into a sparse feature vector. \n",
        "  - Find all unique words that appear in all descriptions. This is `n`.\n",
        "  - Then each feature vector will be an `n`-dimensional vector which\n",
        "    - is 1 when the word at index `i` is present in the description\n",
        "    - is 0 when the word at index `i` is **not** present in the description.\n",
        "  - For simplicity, limiting `n` to 12k: the 12k most commonly occurring words only.\n",
        "  - So each feature vector will be 12,000-dimensional vector. "
      ]
    },
    {
      "cell_type": "markdown",
      "metadata": {
        "id": "ybU24jYgRuml",
        "colab_type": "text"
      },
      "source": [
        "### Feature 1 - Bag of Words "
      ]
    },
    {
      "cell_type": "code",
      "metadata": {
        "id": "428oxXWsRxiO",
        "colab_type": "code",
        "colab": {}
      },
      "source": [
        "# Look for the 12k most commonly occurring words across all descriptions\n",
        "vocab_size = 12000\n",
        "\n",
        "# Instantiate a keras Tokenizer to do this: look at unique words, not characters\n",
        "tokenize = keras.preprocessing.text.Tokenizer(num_words=vocab_size, char_level=False)\n",
        "\n",
        "# Fit it to the training descriptions only.\n",
        "tokenize.fit_on_texts(description_train)"
      ],
      "execution_count": 0,
      "outputs": []
    },
    {
      "cell_type": "markdown",
      "metadata": {
        "id": "XnBk-kHCSPEp",
        "colab_type": "text"
      },
      "source": [
        "We don't fit the `Tokenizer` to test set, because we want to construct a vocabulary of 12k commonly occurring words from only the training set. \n",
        "\n",
        "`texts_to_matrix` will now use the 12k words found in training to convert each description to a 12k-dimensional vector as described above. \n",
        "\n",
        "The words found in the training data are also assumed to exist in the test data. This shows that an underlying assumption: we expect the test data to come from roughly the same distribution as the training data. Alternatively, we expect the training data to come from a distribution that is large enough to accommodate the words in the test distribution."
      ]
    },
    {
      "cell_type": "code",
      "metadata": {
        "id": "EW0l4GzxSy9d",
        "colab_type": "code",
        "colab": {}
      },
      "source": [
        "# Create matrices: `bow` means 'bag of words'. Each row in each matrix is 12k dimensional vector\n",
        "description_bow_train = tokenize.texts_to_matrix(description_train)"
      ],
      "execution_count": 0,
      "outputs": []
    },
    {
      "cell_type": "code",
      "metadata": {
        "id": "6-NF-y7WTTxF",
        "colab_type": "code",
        "colab": {}
      },
      "source": [
        "# Do the same for the test data\n",
        "description_bow_test = tokenize.texts_to_matrix(description_test)"
      ],
      "execution_count": 0,
      "outputs": []
    },
    {
      "cell_type": "markdown",
      "metadata": {
        "id": "tdv8tp2yS_8N",
        "colab_type": "text"
      },
      "source": [
        "### Feature 2 - Variety\n",
        "\n",
        "In the original dataset, there are ~630 varieties of wine. For simplicity, the tutorial will consider only the 40 most commonly occurring varieties. \n",
        "\n",
        "Since these varieties are names such as 'Pinot Noir', we must convert them from label strings to numbered indices that can be used with a neural network."
      ]
    },
    {
      "cell_type": "code",
      "metadata": {
        "id": "ciDtvUpPTN0h",
        "colab_type": "code",
        "colab": {}
      },
      "source": [
        "# Use sklearn utility to convert label strings to numbered index\n",
        "\n",
        "# Instantiate a label encoder\n",
        "encoder = LabelEncoder()\n",
        "\n",
        "# Fit it to the training set varieties: learn categorical variables for each category string\n",
        "encoder.fit(variety_train)\n",
        "\n",
        "# Change each label string to a number in both training and test data\n",
        "variety_train = encoder.transform(variety_train)\n",
        "variety_test = encoder.transform(variety_test)\n",
        "\n",
        "# Varieties are numbered from 0 to K - 1, where K is the number of distinct labels\n",
        "num_classes = np.max(variety_train) + 1"
      ],
      "execution_count": 0,
      "outputs": []
    },
    {
      "cell_type": "code",
      "metadata": {
        "id": "YgqJOw2LUQ0y",
        "colab_type": "code",
        "colab": {}
      },
      "source": [
        "# To eliminate effects of ordinality in labels, convert them to one-hot encoded vectors\n",
        "variety_train = keras.utils.to_categorical(variety_train, num_classes)\n",
        "variety_test = keras.utils.to_categorical(variety_test, num_classes)"
      ],
      "execution_count": 0,
      "outputs": []
    },
    {
      "cell_type": "markdown",
      "metadata": {
        "id": "TaktdDS8YpJX",
        "colab_type": "text"
      },
      "source": [
        "### Constructing the Wide Component \n",
        "\n",
        "Using the functional API, in which layers in a neural network are actually functions. We can pass tensors to these layers as we would pass arguments to a function, and then receive new tensors just like we would receive outputs from a function. \n",
        "\n",
        "Layers can be shared between different parts of the same model, and linked together in an acyclic graph by `keras. \n",
        "\n",
        "Taken together, a sequence of layers represents a transformation from X $\\rightarrow$ Y."
      ]
    },
    {
      "cell_type": "code",
      "metadata": {
        "id": "fpfUpCLMYtDI",
        "colab_type": "code",
        "colab": {}
      },
      "source": [
        "# `Input` tensor for the wide component: sparse, 12k-dimensional word vectors\n",
        "bow_inputs = layers.Input(shape=(vocab_size, ), name='wide_bow')   # (k, ) = An arbitrary number of samples\n",
        "\n",
        "# `Input` tensor of variety labels for the wide component: multi-input model \n",
        "variety_inputs = layers.Input(shape=(num_classes, ), name='wide_variety')\n",
        "\n",
        "# Two different inputs will then be concatenated \n",
        "merged_layer = layers.concatenate([bow_inputs, variety_inputs])\n",
        "\n",
        "# Densely connected classifier will process merged inputs\n",
        "merged_layer = layers.Dense(256, activation='relu')(merged_layer)\n",
        "\n",
        "# Linear unit will output continuous value - price of the wine\n",
        "predictions = layers.Dense(1)(merged_layer)"
      ],
      "execution_count": 0,
      "outputs": []
    },
    {
      "cell_type": "code",
      "metadata": {
        "id": "BhLlkviRaqcS",
        "colab_type": "code",
        "colab": {}
      },
      "source": [
        "# Combine this sequence of transformations into an acyclic graph\n",
        "wide_model = keras.Model(inputs=[bow_inputs, variety_inputs], outputs=predictions)"
      ],
      "execution_count": 0,
      "outputs": []
    },
    {
      "cell_type": "code",
      "metadata": {
        "id": "HMxBV7wJa3WK",
        "colab_type": "code",
        "colab": {}
      },
      "source": [
        "# Specify metrics for the wide model\n",
        "\"\"\"\n",
        "- loss is mean squared error since we're predicting a continuous valued output.\n",
        "- optimizer is adam: combines momentum with rmsprop - fewer oscillations, updates based on magnitude of moving average of gradients\n",
        "- metric is accuracy: accuracy of what?\n",
        "\"\"\"\n",
        "wide_model.compile(loss='mse', optimizer='adam', metrics=['accuracy'])"
      ],
      "execution_count": 0,
      "outputs": []
    },
    {
      "cell_type": "markdown",
      "metadata": {
        "id": "Fr_zu6uyVbzD",
        "colab_type": "text"
      },
      "source": [
        "### Wide Model Summary"
      ]
    },
    {
      "cell_type": "code",
      "metadata": {
        "id": "mYvkmmsIVgNV",
        "colab_type": "code",
        "colab": {
          "base_uri": "https://localhost:8080/",
          "height": 357
        },
        "outputId": "08eb1479-4c10-4fdc-b75b-d43b08e49458"
      },
      "source": [
        "# What does the wide model look like?\n",
        "print(wide_model.summary())"
      ],
      "execution_count": 25,
      "outputs": [
        {
          "output_type": "stream",
          "text": [
            "Model: \"model\"\n",
            "__________________________________________________________________________________________________\n",
            "Layer (type)                    Output Shape         Param #     Connected to                     \n",
            "==================================================================================================\n",
            "wide_bow (InputLayer)           [(None, 12000)]      0                                            \n",
            "__________________________________________________________________________________________________\n",
            "wide_variety (InputLayer)       [(None, 40)]         0                                            \n",
            "__________________________________________________________________________________________________\n",
            "concatenate (Concatenate)       (None, 12040)        0           wide_bow[0][0]                   \n",
            "                                                                 wide_variety[0][0]               \n",
            "__________________________________________________________________________________________________\n",
            "dense (Dense)                   (None, 256)          3082496     concatenate[0][0]                \n",
            "__________________________________________________________________________________________________\n",
            "dense_1 (Dense)                 (None, 1)            257         dense[0][0]                      \n",
            "==================================================================================================\n",
            "Total params: 3,082,753\n",
            "Trainable params: 3,082,753\n",
            "Non-trainable params: 0\n",
            "__________________________________________________________________________________________________\n",
            "None\n"
          ],
          "name": "stdout"
        }
      ]
    },
    {
      "cell_type": "markdown",
      "metadata": {
        "id": "JLZMjfWYb9TT",
        "colab_type": "text"
      },
      "source": [
        "## Part 2 - Deep Component\n",
        "\n",
        "The deep component will process wine descriptions as embeddings: dense numerical vectors to which specific sequences of words have been mapped. \n",
        "\n",
        "No need for sparse vectors in a deep neural network because unlike the wide NN, it works better with dense input features. \n",
        "\n",
        "Dense embeddings reduce number of parameters, and can also be learned during training. \n",
        "\n",
        "The deep component will not use the variety of the wine as a feature."
      ]
    },
    {
      "cell_type": "markdown",
      "metadata": {
        "id": "pvNoWurmcInI",
        "colab_type": "text"
      },
      "source": [
        "### Feature 1 - Word Embeddings\n",
        "\n",
        "Instead of converting each description to a 12k-dimensional one-hot encoded vectors (as in the case of `texts_to_matrix`), we are going to convert each description to a sequence of numbers: not necessarily ones or zeros. \n",
        "\n",
        "A bag of words model is created. Each unique word in each description is assigned a unique integer from 0 to `n`, where `n - 1` is the total number of unique words in all descriptions. \n",
        "\n",
        "This is different from text_to_matrix because it does not one-hot encode sequences. \n",
        "\n"
      ]
    },
    {
      "cell_type": "code",
      "metadata": {
        "id": "MVA09Evcf3cu",
        "colab_type": "code",
        "colab": {}
      },
      "source": [
        "train_embed = tokenize.texts_to_sequences(description_train)\n",
        "test_embed = tokenize.texts_to_sequences(description_test)"
      ],
      "execution_count": 0,
      "outputs": []
    },
    {
      "cell_type": "markdown",
      "metadata": {
        "id": "9d6cq0TX04p1",
        "colab_type": "text"
      },
      "source": [
        "Each word in each description has been tokenized i.e. converted to one of `n` different integers. \n",
        "\n",
        "However, because this isn't one-hot encoding, each sequence of numbers is of different length. We want all descriptions to be of the same length so they can be fed into a neural network. \n",
        "\n",
        "We're definining an arbitrary sequence length of 170: each description will be limited to 170 words. Any sequences with more than 170 words will be truncated, and any sequences with fewer than 170 words will have 0s appended to them (after the last number of the sequence) to bring their length to 170."
      ]
    },
    {
      "cell_type": "code",
      "metadata": {
        "id": "sQ1UuGGQTn3g",
        "colab_type": "code",
        "colab": {}
      },
      "source": [
        "max_seq_length = 170 \n",
        "\n",
        "# Create a 170-dimensional embedding vector for training data\n",
        "train_embed = keras.preprocessing.sequence.pad_sequences(train_embed, \n",
        "                                                         maxlen=max_seq_length, \n",
        "                                                         padding='post')\n",
        "\n",
        "# Do the same for the test data\n",
        "test_embed = keras.preprocessing.sequence.pad_sequences(test_embed, \n",
        "                                                        maxlen=max_seq_length, \n",
        "                                                        padding='post')"
      ],
      "execution_count": 0,
      "outputs": []
    },
    {
      "cell_type": "markdown",
      "metadata": {
        "id": "7W_Zi8b3UHdx",
        "colab_type": "text"
      },
      "source": [
        "### Constructing the Deep Component"
      ]
    },
    {
      "cell_type": "code",
      "metadata": {
        "id": "18FvjdY5USTh",
        "colab_type": "code",
        "colab": {}
      },
      "source": [
        "# Input tensor is a collection of 170-dimensional vectors\n",
        "deep_inputs = layers.Input(shape=(max_seq_length, ))\n",
        "\n",
        "# First layer condenses 170-dimensional sequences to 8-dimensional representations\n",
        "embedding = layers.Embedding(vocab_size, 8, input_length=max_seq_length)(deep_inputs)\n",
        "\n",
        "# Next layer flattens the 8-dimensional data to connect to Dense layer\n",
        "embedding = layers.Flatten()(embedding)\n",
        "\n",
        "# Output of the deep model is once again a linear unit to output price\n",
        "embed_out = layers.Dense(1)(embedding)"
      ],
      "execution_count": 0,
      "outputs": []
    },
    {
      "cell_type": "code",
      "metadata": {
        "id": "iEBliEoVU6T7",
        "colab_type": "code",
        "colab": {}
      },
      "source": [
        "# Combine these layers and tensor operations into a Model\n",
        "deep_model = keras.Model(inputs=deep_inputs, outputs=embed_out)"
      ],
      "execution_count": 0,
      "outputs": []
    },
    {
      "cell_type": "code",
      "metadata": {
        "id": "mLFcIJbOV3Tg",
        "colab_type": "code",
        "colab": {}
      },
      "source": [
        "# Compile\n",
        "deep_model.compile(loss='mse', optimizer='adam', metrics=['accuracy'])"
      ],
      "execution_count": 0,
      "outputs": []
    },
    {
      "cell_type": "markdown",
      "metadata": {
        "id": "Wt7eyzsdVrUG",
        "colab_type": "text"
      },
      "source": [
        "### Deep Model Summary"
      ]
    },
    {
      "cell_type": "code",
      "metadata": {
        "id": "eMIKaGwFVASr",
        "colab_type": "code",
        "colab": {
          "base_uri": "https://localhost:8080/",
          "height": 306
        },
        "outputId": "230eeff0-20ed-4719-95cf-e28e473b7995"
      },
      "source": [
        "# What does the deep component look like?\n",
        "print(deep_model.summary())"
      ],
      "execution_count": 31,
      "outputs": [
        {
          "output_type": "stream",
          "text": [
            "Model: \"model_1\"\n",
            "_________________________________________________________________\n",
            "Layer (type)                 Output Shape              Param #   \n",
            "=================================================================\n",
            "input_1 (InputLayer)         [(None, 170)]             0         \n",
            "_________________________________________________________________\n",
            "embedding (Embedding)        (None, 170, 8)            96000     \n",
            "_________________________________________________________________\n",
            "flatten (Flatten)            (None, 1360)              0         \n",
            "_________________________________________________________________\n",
            "dense_2 (Dense)              (None, 1)                 1361      \n",
            "=================================================================\n",
            "Total params: 97,361\n",
            "Trainable params: 97,361\n",
            "Non-trainable params: 0\n",
            "_________________________________________________________________\n",
            "None\n"
          ],
          "name": "stdout"
        }
      ]
    },
    {
      "cell_type": "markdown",
      "metadata": {
        "id": "URsxhD_OVDWp",
        "colab_type": "text"
      },
      "source": [
        "It has significantly fewer parameters than the wide component, which makes sense because we've restricted the input to be a 170-dimensional vector which is further condensed t 8-dimensional during forward propagation.\n",
        "\n",
        "In comparison, the wide network had 12k-dimensional inputs (descriptions) and another 40-dimensional input for category."
      ]
    },
    {
      "cell_type": "markdown",
      "metadata": {
        "id": "69dNW6TcVWnw",
        "colab_type": "text"
      },
      "source": [
        "## Part 3 - Wide and Deep\n",
        "\n",
        "Now we need to combine our submodels into a single model by concatenating their outputs, and then adding another layer that maps these concatenated outputs to a single value - the price of the wine. "
      ]
    },
    {
      "cell_type": "code",
      "metadata": {
        "id": "MO2IAV_4WlOC",
        "colab_type": "code",
        "colab": {}
      },
      "source": [
        "# Combining outputs of wide and deep models\n",
        "merged_out = layers.concatenate([wide_model.output, deep_model.output])\n",
        "\n",
        "# Adding another linear unit \n",
        "merged_out = layers.Dense(1)(merged_out)\n",
        "\n",
        "# Create a wide and deep model\n",
        "combined_model = keras.Model(wide_model.input + [deep_model.input], \n",
        "                       merged_out)"
      ],
      "execution_count": 0,
      "outputs": []
    },
    {
      "cell_type": "code",
      "metadata": {
        "id": "mtkIrSMRXile",
        "colab_type": "code",
        "colab": {}
      },
      "source": [
        "# Compile it with same settings as constituents \n",
        "combined_model.compile(loss='mse', optimizer='adam', metrics=['accuracy'])"
      ],
      "execution_count": 0,
      "outputs": []
    },
    {
      "cell_type": "markdown",
      "metadata": {
        "id": "Tui3379mW_Ja",
        "colab_type": "text"
      },
      "source": [
        "### Model Summary"
      ]
    },
    {
      "cell_type": "code",
      "metadata": {
        "id": "cvi72-4xXBxI",
        "colab_type": "code",
        "colab": {
          "base_uri": "https://localhost:8080/",
          "height": 578
        },
        "outputId": "8f0915be-07ab-4638-b213-202ad9e5665d"
      },
      "source": [
        "# What does the wide and deep model look like?\n",
        "print(combined_model.summary())"
      ],
      "execution_count": 34,
      "outputs": [
        {
          "output_type": "stream",
          "text": [
            "Model: \"model_2\"\n",
            "__________________________________________________________________________________________________\n",
            "Layer (type)                    Output Shape         Param #     Connected to                     \n",
            "==================================================================================================\n",
            "wide_bow (InputLayer)           [(None, 12000)]      0                                            \n",
            "__________________________________________________________________________________________________\n",
            "wide_variety (InputLayer)       [(None, 40)]         0                                            \n",
            "__________________________________________________________________________________________________\n",
            "input_1 (InputLayer)            [(None, 170)]        0                                            \n",
            "__________________________________________________________________________________________________\n",
            "concatenate (Concatenate)       (None, 12040)        0           wide_bow[0][0]                   \n",
            "                                                                 wide_variety[0][0]               \n",
            "__________________________________________________________________________________________________\n",
            "embedding (Embedding)           (None, 170, 8)       96000       input_1[0][0]                    \n",
            "__________________________________________________________________________________________________\n",
            "dense (Dense)                   (None, 256)          3082496     concatenate[0][0]                \n",
            "__________________________________________________________________________________________________\n",
            "flatten (Flatten)               (None, 1360)         0           embedding[0][0]                  \n",
            "__________________________________________________________________________________________________\n",
            "dense_1 (Dense)                 (None, 1)            257         dense[0][0]                      \n",
            "__________________________________________________________________________________________________\n",
            "dense_2 (Dense)                 (None, 1)            1361        flatten[0][0]                    \n",
            "__________________________________________________________________________________________________\n",
            "concatenate_1 (Concatenate)     (None, 2)            0           dense_1[0][0]                    \n",
            "                                                                 dense_2[0][0]                    \n",
            "__________________________________________________________________________________________________\n",
            "dense_3 (Dense)                 (None, 1)            3           concatenate_1[0][0]              \n",
            "==================================================================================================\n",
            "Total params: 3,180,117\n",
            "Trainable params: 3,180,117\n",
            "Non-trainable params: 0\n",
            "__________________________________________________________________________________________________\n",
            "None\n"
          ],
          "name": "stdout"
        }
      ]
    },
    {
      "cell_type": "markdown",
      "metadata": {
        "id": "xoj_XOSAXG6P",
        "colab_type": "text"
      },
      "source": [
        "### Training"
      ]
    },
    {
      "cell_type": "code",
      "metadata": {
        "id": "z39lutoiXO6S",
        "colab_type": "code",
        "colab": {
          "base_uri": "https://localhost:8080/",
          "height": 357
        },
        "outputId": "36fb9a9b-ab23-40be-d711-4b4c0d52cb4c"
      },
      "source": [
        "wdnn_history = combined_model.fit([description_bow_train, variety_train] + [train_embed], \n",
        "                   labels_train, \n",
        "                   epochs=10, \n",
        "                   batch_size=128)"
      ],
      "execution_count": 35,
      "outputs": [
        {
          "output_type": "stream",
          "text": [
            "Epoch 1/10\n",
            "748/748 [==============================] - 5s 7ms/step - loss: 1083.4337 - accuracy: 0.0000e+00\n",
            "Epoch 2/10\n",
            "748/748 [==============================] - 5s 7ms/step - loss: 843.6837 - accuracy: 0.0000e+00\n",
            "Epoch 3/10\n",
            "748/748 [==============================] - 5s 7ms/step - loss: 706.2977 - accuracy: 0.0000e+00\n",
            "Epoch 4/10\n",
            "748/748 [==============================] - 5s 7ms/step - loss: 578.8711 - accuracy: 0.0000e+00\n",
            "Epoch 5/10\n",
            "748/748 [==============================] - 5s 7ms/step - loss: 461.7855 - accuracy: 0.0000e+00\n",
            "Epoch 6/10\n",
            "748/748 [==============================] - 5s 7ms/step - loss: 355.4139 - accuracy: 0.0000e+00\n",
            "Epoch 7/10\n",
            "748/748 [==============================] - 6s 7ms/step - loss: 266.5933 - accuracy: 0.0000e+00\n",
            "Epoch 8/10\n",
            "748/748 [==============================] - 6s 8ms/step - loss: 199.4175 - accuracy: 0.0000e+00\n",
            "Epoch 9/10\n",
            "748/748 [==============================] - 5s 7ms/step - loss: 150.3047 - accuracy: 0.0000e+00\n",
            "Epoch 10/10\n",
            "748/748 [==============================] - 6s 7ms/step - loss: 117.8853 - accuracy: 0.0000e+00\n"
          ],
          "name": "stdout"
        }
      ]
    },
    {
      "cell_type": "markdown",
      "metadata": {
        "id": "TuYXfzzbX44t",
        "colab_type": "text"
      },
      "source": [
        "## Training History"
      ]
    },
    {
      "cell_type": "code",
      "metadata": {
        "id": "qZkPGr4DYb7q",
        "colab_type": "code",
        "colab": {
          "base_uri": "https://localhost:8080/",
          "height": 391
        },
        "outputId": "ad6f4253-d338-4702-fc40-a907981d0734"
      },
      "source": [
        "pd.DataFrame(wdnn_history.history).plot(figsize=(12, 6))"
      ],
      "execution_count": 41,
      "outputs": [
        {
          "output_type": "execute_result",
          "data": {
            "text/plain": [
              "<matplotlib.axes._subplots.AxesSubplot at 0x7ff40ef79160>"
            ]
          },
          "metadata": {
            "tags": []
          },
          "execution_count": 41
        },
        {
          "output_type": "display_data",
          "data": {
            "image/png": "[encoded data removed]",
            "text/plain": [
              "<Figure size 864x432 with 1 Axes>"
            ]
          },
          "metadata": {
            "tags": []
          }
        }
      ]
    },
    {
      "cell_type": "markdown",
      "metadata": {
        "id": "yj4m2H2RY0nJ",
        "colab_type": "text"
      },
      "source": [
        "## Evaluating Model"
      ]
    },
    {
      "cell_type": "code",
      "metadata": {
        "id": "GFw64vAnZoWf",
        "colab_type": "code",
        "colab": {
          "base_uri": "https://localhost:8080/",
          "height": 51
        },
        "outputId": "2d329fda-fb99-4fb9-9677-dc5f42a77422"
      },
      "source": [
        "combined_model.evaluate([description_bow_test, variety_test] + [test_embed], \n",
        "                        labels_test, \n",
        "                        batch_size=128)"
      ],
      "execution_count": 34,
      "outputs": [
        {
          "output_type": "stream",
          "text": [
            "187/187 [==============================] - 1s 4ms/step - loss: 514.1050 - accuracy: 0.0000e+00\n"
          ],
          "name": "stdout"
        },
        {
          "output_type": "execute_result",
          "data": {
            "text/plain": [
              "[514.1050415039062, 0.0]"
            ]
          },
          "metadata": {
            "tags": []
          },
          "execution_count": 34
        }
      ]
    },
    {
      "cell_type": "markdown",
      "metadata": {
        "id": "MKFf53xnZw-9",
        "colab_type": "text"
      },
      "source": [
        "## Predictions\n",
        "\n",
        "Will print actual descriptions and varieties for some examples from the training set along with their predicted price and actual price. \n",
        "\n",
        "This will help us get a feel for how the model is performing."
      ]
    },
    {
      "cell_type": "code",
      "metadata": {
        "id": "bVdP7xTAZzrW",
        "colab_type": "code",
        "colab": {}
      },
      "source": [
        "predictions = combined_model.predict([description_bow_test, variety_test] + [test_embed])"
      ],
      "execution_count": 0,
      "outputs": []
    },
    {
      "cell_type": "code",
      "metadata": {
        "id": "n-Xa9i1QaBLd",
        "colab_type": "code",
        "colab": {
          "base_uri": "https://localhost:8080/",
          "height": 1000
        },
        "outputId": "3f0dfb53-96b7-4ecf-b3d2-9170765f42ec"
      },
      "source": [
        "# Compare predictions wth actual values for the first few items in our dataset\n",
        "num_predictions = 40 \n",
        "\n",
        "# Used to keep a running sum of the prediction error \n",
        "diff = 0\n",
        "\n",
        "for i in range(num_predictions):\n",
        "  val = predictions[i]\n",
        "  print(description_test.iloc[i])\n",
        "  print(\"Predicted:\", val[0], \"Actual:\", labels_test.iloc[i], '\\n')\n",
        "\n",
        "  # Update the running sum of difference between predicted and actual cost\n",
        "  diff += abs(val[0] - labels_test.iloc[i])"
      ],
      "execution_count": 37,
      "outputs": [
        {
          "output_type": "stream",
          "text": [
            "This is an earthier, less overtly fruity rendition of McLaren Vale Shiraz, but one that still has plenty of merit. It's reasonably round and supple in texture, with flavors of black olive that coat the mouth and persist nicely on the finish.\n",
            "Predicted: 26.260443 Actual: 20.0 \n",
            "\n",
            "Notes of hay, pollen and beeswax add a savory, honeyed tone to this exquisitely dainty Riesling. The palate is intensely packed with sweet citrus fruit, but it's balanced with striking acidity and a shower of minerality on the finish.\n",
            "Predicted: 70.51112 Actual: 83.0 \n",
            "\n",
            "Pale salmon color and slightly bricked, this wine displays aromas of geranium, dried herbs and strawberry. It drinks off dry, with lightly spritzy herb flavors.\n",
            "Predicted: 20.423956 Actual: 16.0 \n",
            "\n",
            "Fresh cut pear fruit flavors carry this wine. It's crisp and clean, with fresh fruit balanced against natural acidity. Drink it now while the freshness is paramount.\n",
            "Predicted: 13.142658 Actual: 15.0 \n",
            "\n",
            "This lovely brut offers real Champagne-like finesse. It's rich and dry, with yeasty flavors of pineapples, lemon chiffon and raspberries. The mousse is creamy and smooth. This polished bubbly will develop with five years of cellaring.\n",
            "Predicted: 20.425411 Actual: 19.0 \n",
            "\n",
            "A nose of black cherry and red berry leads on this Romanian Merlot, followed by flavors of cherry and spice. Backed by a solid tannic structure but slightly acidic, this wine will pair well with grilled meats.\n",
            "Predicted: 7.782715 Actual: 10.0 \n",
            "\n",
            "Perfumy on the nose, with scents of lilacs and bubble gum. Light and frothy on the palate, offering soft, slightly sweet flavors reminscent of cotton candy.\n",
            "Predicted: 10.242501 Actual: 25.0 \n",
            "\n",
            "Oily and citrusy, with pungent, almost nutty aromas that are at once exotic but simultaneously funky and sour. The palate hits with chopping passion fruit and citrus, but there's also some banana to contemplate. In the end, it's just too hard to embrace and go beyond a sip or two, which isn't a great testimonial.\n",
            "Predicted: 27.680494 Actual: 30.0 \n",
            "\n",
            "All of Viu Manent's single-vineyard wines have the right stuff. This one starts out staunch and concentrated before it unfolds with inky, black-fruit aromas, warm earth and saturated blackberry and spice flavors. Ripe, rich and meaty. A prime New World Syrah with teeth and character. Drink now through 2012.\n",
            "Predicted: 22.96792 Actual: 25.0 \n",
            "\n",
            "A fairly standard Zin that plays it right down the middle. It's dry, clean and spicy, with wild berry and tobacco flavors wrapped into smooth tannins. Drink now.\n",
            "Predicted: 23.67057 Actual: 15.0 \n",
            "\n",
            "Grown in the flatlands and benches of Alexander Valley, this Cab tastes more like a high mountain wine, with its firm tannins and flavor intensity. It's quite fine, showing intense blackberry, cherry, black currant, plum, cocoa and violet flavors that are tinged with soft, dry herbs. Very beautiful now for sheer charm, it will develop bottle complexities over the next decade. The best Cabernet from Hanna in memory.\n",
            "Predicted: 40.826954 Actual: 52.0 \n",
            "\n",
            "Closed now, but the impressive depth and richness of fruit and texture are still evident. Opens with aromas of black and blueberries, touches of carob and cinnamon. Chewy, yet smooth and polished, cocoa and espresso accent the subdued very dark cherry fruit. Shows dusty tannins and a leathery note on the long finish. Cellar til 2005.\n",
            "Predicted: 39.87688 Actual: 25.0 \n",
            "\n",
            "This fruity Pinot is loaded with ripe strawberry preserves, mixed in with tomato leaf and slightly resiny flavors that are typical in Oregon. It's an interesting mix, both ripe and herbal at the same time, but not yet entirely melded together. It will be fun to see where it goes in the next five years.\n",
            "Predicted: 32.65453 Actual: 34.0 \n",
            "\n",
            "Made with Chardonnay, Pinot Nero and Pinot Bianco grapes from the Vigne di Strevi in Piedmont, this is a linear, genuine sparkler with lemon-lime flavors and toasted bread notes that come through loud and clear. Easy to drink and easy to like. Imported by Banfi Vintners.\n",
            "Predicted: 45.515167 Actual: 24.0 \n",
            "\n",
            "A blend of three quarters Chenin Blanc and one quarter Viognier, this fragrant and lively young white wine is loaded with pretty green and yellow fruits, nuances of citrus rind, and a textural freshness that keeps resonating through the finish.\n",
            "Predicted: 14.971882 Actual: 12.0 \n",
            "\n",
            "This is a fully formed mouthful of a wine, meaty and smoky and brisk in savory fruit. From one of Terre Rouge's higher-elevation sites, it signals mountain fruit for sure, in terms of tannins and structure, but offers finesse in the glass, too.\n",
            "Predicted: 32.914165 Actual: 35.0 \n",
            "\n",
            "This Chiles Valley producer, on the eastern edge of the Napa Valley, has made a big Chardonnay that doesn't exude much aromatically at first and veers sweet, but is otherwise balanced and could develop some interesting minerality over time.\n",
            "Predicted: 42.030952 Actual: 43.0 \n",
            "\n",
            "Winemaker Pierre Jehan's interpretation of Corton-Charlemagne for Henri de Villamont is to retain great fruit, but not to produce a wine with too much weight. The advantage is rich wine, with spicy pear and ripe yellow fruits, but with a great bounce of acidity.\n",
            "Predicted: 77.84813 Actual: 102.0 \n",
            "\n",
            "This Syrah shows just a touch of smokiness. It has vital acids and furry tannins that structure the cherry pie flavor. Great for drinking now if you're looking for a medium-bodied selection.\n",
            "Predicted: 32.77873 Actual: 26.0 \n",
            "\n",
            "Martin & Weyrich, which is based in Paso Robles, has released three consecutive vintages of this red Napa Valley blend, which is comprised of multiple Spanish and Portuguese varieties. This is the best of the trio, rich and dense, filled with extracted berry flavors and sweet tobacco. It's an interesting, complex wine. Try as an alternative to Cab or Zin.\n",
            "Predicted: 34.190758 Actual: 35.0 \n",
            "\n",
            "The estate wine from Herdade Grande is big, rich and dark in texture. It is smooth and ripe, the wood aging layering with the black plum and blackberry fruit flavors to yield a solid and dense wine. From a warm vintage, it is now maturing, although three to four years more aging will make it even deeper.\n",
            "Predicted: 32.16453 Actual: 58.0 \n",
            "\n",
            "For an ice wine, this is relatively rich. But it certainly doesn't take away from the pure acidity that lifts the sweet fruit, giving the ripe peach and dried apricot flavors a great frame. It is ready to drink now, but another year and it will be even better focused.\n",
            "Predicted: 90.12847 Actual: 52.0 \n",
            "\n",
            "Very ripe and almost sweet in jammy, pie-filling cherries and raspberries, with a rich seasoning of cinnamon, brown sugar and cocoa. But it's technically dry, and has a crispness from fine Arroyo Seco acidity. Drink now.\n",
            "Predicted: 31.97222 Actual: 35.0 \n",
            "\n",
            "Cascina Adelaide always stands out in a crowd of Barolos thanks to the overall intensity of its Nebbiolo characteristics. Thanks to careful winemaking techniques, Preda takes that extra step: the fruit is brighter here and the spice notes are noticeably more piquant. You'll also taste fine mineral notes, violets and green olive.\n",
            "Predicted: 89.27073 Actual: 88.0 \n",
            "\n",
            "The difference from Luna's regular '04 Cab is in the increased alcohol, nearly 1% higher, and greater tannic structure. There's probably more new oak, too, which is in proportion to the massive blackcurrant and cherry fruit. As young as it is, it's fully drinkable now, but should hold and improve for six to eight years.\n",
            "Predicted: 80.11004 Actual: 100.0 \n",
            "\n",
            "Black ash, cedar and crushed raspberries are the aromas here, while an underlying note of wet earth keeps things grounded. The palate has a sweet cherry cordial character while the short finish offers up a hit of mixed berry soup. Drink up.\n",
            "Predicted: 13.60504 Actual: 12.0 \n",
            "\n",
            "This is a solid Cab, rich in licorice, blackberry, mocha and toast, but it lacks subtlety. It feels heavy and sharp in the mouth, with citrusy acid, yet it doesn't seem to have the inherent balance to age.\n",
            "Predicted: 52.67809 Actual: 65.0 \n",
            "\n",
            "This wine lacks a bit of intensity, but otherwise shows reasonably complex flavors of dried cherries and old wine barrels and a supple, creamy texure. Turns a bit tart and astringent on the finish, limiting its appeal.\n",
            "Predicted: 34.773273 Actual: 28.0 \n",
            "\n",
            "If Schramsberg's regular sparkling wines are too pricy for your budget, this second label is a nice alternative. It shows good brut sparkling wine character, with slightly sweet fruity, yeasty flavors and crisp acids that finish with elegance.\n",
            "Predicted: 14.953371 Actual: 19.0 \n",
            "\n",
            "Kind of hot and overripe in raisiny, stewed fruit flavors, but dry, this rustic wine is made for quaffing. It'll be fine with a grilled steak or broiled chicken.\n",
            "Predicted: 12.96694 Actual: 15.0 \n",
            "\n",
            "With fruit sourced from the excellent Hyland Vineyard, this blends a pair of Dijon clones and was aged in half new French oak for 15 months. Black cherry and cola syrup flavors combine in a sappy, concentrated midpalate. Highlights of underbrush and balsamic add flavor interest, and the dry, polished tannins frame the flavors perfectly. There's every reason to believe this can age well, but why wait?\n",
            "Predicted: 61.787617 Actual: 39.0 \n",
            "\n",
            "The nose offers a full, interesting blend of Oriental spice, cherry, ginger and soy elements. The flavors turn to tart cherry, and brisk, slightly drying tannins show on the finish.\n",
            "Predicted: 17.94934 Actual: 11.0 \n",
            "\n",
            "Labeled Columbia Valley, but actually from Wahluke Slope fruit, this refreshing, tart take on Chardonnay offers a palate-cleansing mix of cucumber, melon and apple-flavored fruit. Crisp acids and a phenolic kick to the finish make this a super food wine.\n",
            "Predicted: 14.650744 Actual: 12.0 \n",
            "\n",
            "There's lots of ripe raspberry and cherry fruit in this Pinot, with a rich touch of smoky oak and vanilla. It's nice and light in the mouth, with brisk, mouthwatering acidity. A great wine for the price that's ready to drink now.\n",
            "Predicted: 24.60059 Actual: 22.0 \n",
            "\n",
            "A little too soft and sweet, especially at this price, when you want something with more structure. But there's no denying the richness. Offers masses of ripe blackberries, currants, dark chocolate and baking spices. Drink now–2014.\n",
            "Predicted: 54.248653 Actual: 55.0 \n",
            "\n",
            "This has notes of raspberries, cherries and whipped cream. It's addictively drinkable, showing none of the problems Grenache so often encounters. Enjoy it now for its fresh, irrepressible appeal.\n",
            "Predicted: 35.136482 Actual: 30.0 \n",
            "\n",
            "A simple wine that's offered at a fair price, this has sweet, candied cherry and blackberry flavors.\n",
            "Predicted: 9.668356 Actual: 10.0 \n",
            "\n",
            "This vineyard is coming into its own, with stellar wines emerging from Felton Road and Pyramid Valley in 2007 as well as this offering. It's nearly jammy, filled with cherry fruit, but there is enough sous bois character to make it recognizably Pinot Noir, and a delightfully lush, creamy texture framed by supple tannins and adequate acids. Drink now–2017.\n",
            "Predicted: 57.23892 Actual: 50.0 \n",
            "\n",
            "This pretty white start with aromas of fragrant flowers, spice and vanilla, leading into creamy layers of citrus and fruit. A richer style of Chardonnay, but balanced with acidity and minerals. Pair with steak, lamb, richer seafood dishes.\n",
            "Predicted: 14.486836 Actual: 11.0 \n",
            "\n",
            "A soft, ripe, creamy wine that works because of its fine balance between soft fruit flavors and a line of acidity. There is some intensity of flavor from the old-vine fruits. Enjoy over the next two or three years.\n",
            "Predicted: 32.49867 Actual: 65.0 \n",
            "\n"
          ],
          "name": "stdout"
        }
      ]
    },
    {
      "cell_type": "code",
      "metadata": {
        "id": "Dj7NkXaoayhr",
        "colab_type": "code",
        "colab": {
          "base_uri": "https://localhost:8080/",
          "height": 429
        },
        "outputId": "e7589594-23f9-4673-a5d6-5e1a718d957c"
      },
      "source": [
        "# It might be more useful to plot the two prices on a graph\n",
        "import matplotlib.pyplot as plt \n",
        "NUM_SAMPLES = 40\n",
        "\n",
        "plt.figure(figsize=(12, 6))\n",
        "plt.plot(list(range(len(labels_test[:NUM_SAMPLES]))), labels_test[:NUM_SAMPLES], \n",
        "         label='Actual Price')\n",
        "plt.plot(list(range(len(predictions[:NUM_SAMPLES]))), predictions[:NUM_SAMPLES], \n",
        "         label='Predicted Price')\n",
        "plt.xlabel('Test Example Number', fontsize=14)\n",
        "plt.ylabel('Cost', fontsize=14)\n",
        "plt.title('Comparing Predicted and Actual Prices - Test Set', fontsize=18)\n",
        "plt.grid()\n",
        "plt.legend()"
      ],
      "execution_count": 40,
      "outputs": [
        {
          "output_type": "execute_result",
          "data": {
            "text/plain": [
              "<matplotlib.legend.Legend at 0x7f89516392e8>"
            ]
          },
          "metadata": {
            "tags": []
          },
          "execution_count": 40
        },
        {
          "output_type": "display_data",
          "data": {
            "image/png": "[encoded data removed]",
            "text/plain": [
              "<Figure size 864x432 with 1 Axes>"
            ]
          },
          "metadata": {
            "tags": []
          }
        }
      ]
    },
    {
      "cell_type": "markdown",
      "metadata": {
        "id": "0vF286kZbUtt",
        "colab_type": "text"
      },
      "source": [
        "# Comparing with Standalone Networks\n",
        "\n",
        "The real question is whether or not the use of a wide and deep neural network actually improve on the results obtained from either a standalone wide or deep neural network. \n",
        "\n",
        "I will train the wide and deep models using the same hyperparameters and compare their loss with that of the WDNN."
      ]
    },
    {
      "cell_type": "markdown",
      "metadata": {
        "id": "OOxgFQi6eXhH",
        "colab_type": "text"
      },
      "source": [
        "## Wide Network"
      ]
    },
    {
      "cell_type": "code",
      "metadata": {
        "id": "dmygtqIafMx-",
        "colab_type": "code",
        "colab": {
          "base_uri": "https://localhost:8080/",
          "height": 357
        },
        "outputId": "20a0f2ed-2d6f-4ae4-b957-292e9120dd0a"
      },
      "source": [
        "wide_history = wide_model.fit([description_bow_train, variety_train], labels_train,\n",
        "                              epochs=10, \n",
        "                              batch_size=128)"
      ],
      "execution_count": 28,
      "outputs": [
        {
          "output_type": "stream",
          "text": [
            "Epoch 1/10\n",
            "748/748 [==============================] - 4s 5ms/step - loss: 1186.3929 - accuracy: 0.0000e+00\n",
            "Epoch 2/10\n",
            "748/748 [==============================] - 4s 5ms/step - loss: 956.0668 - accuracy: 0.0000e+00\n",
            "Epoch 3/10\n",
            "748/748 [==============================] - 4s 5ms/step - loss: 850.3281 - accuracy: 0.0000e+00\n",
            "Epoch 4/10\n",
            "748/748 [==============================] - 4s 5ms/step - loss: 760.5903 - accuracy: 0.0000e+00\n",
            "Epoch 5/10\n",
            "748/748 [==============================] - 4s 5ms/step - loss: 679.2787 - accuracy: 0.0000e+00\n",
            "Epoch 6/10\n",
            "748/748 [==============================] - 4s 5ms/step - loss: 602.5382 - accuracy: 0.0000e+00\n",
            "Epoch 7/10\n",
            "748/748 [==============================] - 4s 5ms/step - loss: 528.3565 - accuracy: 0.0000e+00\n",
            "Epoch 8/10\n",
            "748/748 [==============================] - 4s 5ms/step - loss: 459.0305 - accuracy: 0.0000e+00\n",
            "Epoch 9/10\n",
            "748/748 [==============================] - 4s 5ms/step - loss: 396.0287 - accuracy: 0.0000e+00\n",
            "Epoch 10/10\n",
            "748/748 [==============================] - 4s 5ms/step - loss: 339.9895 - accuracy: 0.0000e+00\n"
          ],
          "name": "stdout"
        }
      ]
    },
    {
      "cell_type": "markdown",
      "metadata": {
        "id": "ZKYkjXfDfW35",
        "colab_type": "text"
      },
      "source": [
        "## Deep Network"
      ]
    },
    {
      "cell_type": "code",
      "metadata": {
        "id": "di8qHyGPgDYQ",
        "colab_type": "code",
        "colab": {
          "base_uri": "https://localhost:8080/",
          "height": 357
        },
        "outputId": "12669633-50de-4066-b773-ef5d90335564"
      },
      "source": [
        "deep_history = deep_model.fit([train_embed], labels_train, \n",
        "                              epochs=10, \n",
        "                              batch_size=128)"
      ],
      "execution_count": 30,
      "outputs": [
        {
          "output_type": "stream",
          "text": [
            "Epoch 1/10\n",
            "748/748 [==============================] - 4s 5ms/step - loss: 1446.2074 - accuracy: 0.0000e+00\n",
            "Epoch 2/10\n",
            "748/748 [==============================] - 4s 5ms/step - loss: 1156.3501 - accuracy: 0.0000e+00\n",
            "Epoch 3/10\n",
            "748/748 [==============================] - 4s 5ms/step - loss: 1090.9279 - accuracy: 0.0000e+00\n",
            "Epoch 4/10\n",
            "748/748 [==============================] - 4s 5ms/step - loss: 1050.1217 - accuracy: 0.0000e+00\n",
            "Epoch 5/10\n",
            "748/748 [==============================] - 4s 5ms/step - loss: 1020.8936 - accuracy: 0.0000e+00\n",
            "Epoch 6/10\n",
            "748/748 [==============================] - 4s 5ms/step - loss: 997.8959 - accuracy: 0.0000e+00\n",
            "Epoch 7/10\n",
            "748/748 [==============================] - 4s 5ms/step - loss: 978.8176 - accuracy: 0.0000e+00\n",
            "Epoch 8/10\n",
            "748/748 [==============================] - 4s 5ms/step - loss: 963.4370 - accuracy: 0.0000e+00\n",
            "Epoch 9/10\n",
            "748/748 [==============================] - 4s 5ms/step - loss: 947.8560 - accuracy: 0.0000e+00\n",
            "Epoch 10/10\n",
            "748/748 [==============================] - 4s 5ms/step - loss: 934.7800 - accuracy: 0.0000e+00\n"
          ],
          "name": "stdout"
        }
      ]
    },
    {
      "cell_type": "markdown",
      "metadata": {
        "id": "PZvhiUMHgN4C",
        "colab_type": "text"
      },
      "source": [
        "## Visualizing Losses"
      ]
    },
    {
      "cell_type": "markdown",
      "metadata": {
        "id": "7W3pHqYVi3RU",
        "colab_type": "text"
      },
      "source": [
        "### Write History"
      ]
    },
    {
      "cell_type": "code",
      "metadata": {
        "id": "DvKMhi2_g5Ao",
        "colab_type": "code",
        "colab": {}
      },
      "source": [
        "# Wrote history to Drive because RAM limit meant could not train WDNN, WNN, and DNN in one session\n",
        "import pickle \n",
        "\n",
        "with open('./wideHistory.pickle', 'wb') as file_pickle:\n",
        "  pickle.dump(wide_history.history, file_pickle)\n",
        "\n",
        "with open('./deepHistory.pickle', 'wb') as file_pickle:\n",
        "  pickle.dump(deep_history.history, file_pickle)"
      ],
      "execution_count": 0,
      "outputs": []
    },
    {
      "cell_type": "markdown",
      "metadata": {
        "id": "9i-KvWJLi7_K",
        "colab_type": "text"
      },
      "source": [
        "### Read History"
      ]
    },
    {
      "cell_type": "code",
      "metadata": {
        "id": "W9qGwicIhOsX",
        "colab_type": "code",
        "colab": {}
      },
      "source": [
        "# Loading wide and deep histories\n",
        "import pickle\n",
        "\n",
        "with open('./deepHistory.pickle', 'rb') as history:\n",
        "  deep_history = pickle.load(history)\n",
        "\n",
        "with open('./wideHistory.pickle', 'rb') as history:\n",
        "  wide_history = pickle.load(history)"
      ],
      "execution_count": 0,
      "outputs": []
    },
    {
      "cell_type": "markdown",
      "metadata": {
        "id": "igtAJ1z1itMf",
        "colab_type": "text"
      },
      "source": [
        "### Preparing Plotting Data"
      ]
    },
    {
      "cell_type": "code",
      "metadata": {
        "id": "fFsFcWnKjAMB",
        "colab_type": "code",
        "colab": {}
      },
      "source": [
        "epochs = list(range(10))\n",
        "wide_loss = wide_history['loss']\n",
        "deep_loss = deep_history['loss']\n",
        "wide_deep_loss = wdnn_history.history['loss']"
      ],
      "execution_count": 0,
      "outputs": []
    },
    {
      "cell_type": "markdown",
      "metadata": {
        "id": "FZzLWoqijNXG",
        "colab_type": "text"
      },
      "source": [
        "### Plot"
      ]
    },
    {
      "cell_type": "code",
      "metadata": {
        "id": "nhxW2t4ojPHF",
        "colab_type": "code",
        "colab": {
          "base_uri": "https://localhost:8080/",
          "height": 412
        },
        "outputId": "beff9aa8-7918-470d-e44e-1383f1c82213"
      },
      "source": [
        "import matplotlib.pyplot as plt\n",
        "\n",
        "plt.figure(figsize=(12, 6))\n",
        "plt.plot(epochs, wide_loss, label='Wide')\n",
        "plt.plot(epochs, deep_loss, label='Deep')\n",
        "plt.plot(epochs, wide_deep_loss, label='Wide and Deep')\n",
        "plt.xlabel('Epochs', fontsize=14)\n",
        "plt.ylabel('Loss', fontsize=14)\n",
        "plt.title('Comparing Training Losses', fontsize=18)\n",
        "plt.grid(True)\n",
        "plt.legend()\n",
        "plt.show()"
      ],
      "execution_count": 43,
      "outputs": [
        {
          "output_type": "display_data",
          "data": {
            "image/png": "[encoded data removed]",
            "text/plain": [
              "<Figure size 864x432 with 1 Axes>"
            ]
          },
          "metadata": {
            "tags": []
          }
        }
      ]
    },
    {
      "cell_type": "markdown",
      "metadata": {
        "id": "F4TZzP_fjRAh",
        "colab_type": "text"
      },
      "source": [
        "# Final Comments\n",
        "- WDNN indeed outperforms both standalone wide and deep NNs on this problem.\n",
        "- WNNs performance follows roughly the same trend as WDNNs, suggesting that sparse feature vectors have more predictive power on this problem than dense embeddings.\n",
        "- Difference between WDNN loss and WNN loss sems to grow as the number of epochs increases.\n",
        "  - This could suggest that the WNN will exhaust its learning capacity before the WDNN. \n",
        "- WDNN clearly seems to benefit from the additional predictive power of a DNN component.\n",
        "- DNN component has the worst performance: clearly, using dense embeddings alone does not seem to be a good approach. \n",
        "\n",
        "## Pitfalls\n",
        "- Difficult to keep track of the order in which inputs have to be fed to the WDNN.\n",
        "  - Characteristic of all multi-input models.\n",
        "  - Solution is to specify a `name` for the `Input` tensor of a model.\n",
        "- Building a WDNN uses up more RAM than any other model I've seen so far.\n",
        "  - Multiple Google CoLab session crashes because of lack of memory. \n",
        "  - Couldn't train WDNN, WNN, DNN in the same session (hence the awkward `pickle` dump/load).\n",
        "  - Is there a way to fix this?"
      ]
    }
  ]
}