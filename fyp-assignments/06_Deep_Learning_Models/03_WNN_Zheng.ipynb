{
  "nbformat": 4,
  "nbformat_minor": 0,
  "metadata": {
    "colab": {
      "name": "fyp-wide-nn.ipynb",
      "provenance": [],
      "collapsed_sections": [],
      "toc_visible": true
    },
    "kernelspec": {
      "name": "python3",
      "display_name": "Python 3"
    },
    "accelerator": "GPU"
  },
  "cells": [
    {
      "cell_type": "markdown",
      "metadata": {
        "id": "24S1S8ey-op3",
        "colab_type": "text"
      },
      "source": [
        "# Wide Neural Network\n",
        "\n",
        "An implementation of Zheng's Wide Neural Network (WNN)."
      ]
    },
    {
      "cell_type": "markdown",
      "metadata": {
        "id": "H8dDkx-gLQr8",
        "colab_type": "text"
      },
      "source": [
        "# Imports"
      ]
    },
    {
      "cell_type": "code",
      "metadata": {
        "id": "Gc6ip6GnLSb4",
        "colab_type": "code",
        "colab": {}
      },
      "source": [
        "import numpy as np\n",
        "import pandas as pd \n",
        "\n",
        "# Regular expression library (just so I can automate auc key extraction)\n",
        "import re\n",
        "\n",
        "# Plotting imports - Seaborn\n",
        "from seaborn import distplot, heatmap\n",
        "\n",
        "# Plotting imports - Matplotlib\n",
        "import matplotlib.pyplot as plt \n",
        "from matplotlib import style\n",
        "style.use('ggplot')\n",
        "\n",
        "# Scikit-Learn imports\n",
        "from sklearn.preprocessing import StandardScaler, MinMaxScaler, MaxAbsScaler\n",
        "from sklearn.model_selection import train_test_split\n",
        "from sklearn.metrics import plot_confusion_matrix, classification_report, roc_auc_score, roc_curve\n",
        "\n",
        "# Have to use Tensorflow's distribution of Keras for compatibility with metrics\n",
        "%tensorflow_version 2.x\n",
        "from tensorflow.keras.models import Sequential\n",
        "from tensorflow.keras.layers import Dense\n",
        "from tensorflow.keras.metrics import AUC\n",
        "from tensorflow.keras.regularizers import l2\n",
        "from tensorflow.keras.wrappers.scikit_learn import KerasClassifier"
      ],
      "execution_count": 0,
      "outputs": []
    },
    {
      "cell_type": "markdown",
      "metadata": {
        "id": "sneaYe62qSys",
        "colab_type": "text"
      },
      "source": [
        "# Functions\n"
      ]
    },
    {
      "cell_type": "markdown",
      "metadata": {
        "id": "QqV2idVvz9HR",
        "colab_type": "text"
      },
      "source": [
        "### Function 1 - Feature Scaler \n",
        "\n",
        "Defining a single function to help scale data according to specified scaling strategy.\n",
        "\n",
        "Under the hood it uses a `Scikit-Learn` feature scaler object to apply the right kind of feature scaling to the data. \n",
        "\n",
        "All you need to do is specify one of following values for the `scaling_strategy` argument\n",
        "- `Standard`: all features will have mean of 0, standard deviation of 1.\n",
        "- `MinMax`: all feature values `x` will be scaled according to `(x - x_min)/(x_max - x_min)`, where `x_min` and `x_max` are the minimum and maximum values for that feature.\n",
        "- `MaxAbs`: all feature valeus `x` will be scaled according t `(x / abs(x_max))` where `x_max` is the maximum value of the feature, and `abs` is a function that finds its absolute value. \n",
        "\n",
        "Zheng has used `MinMax`, but my results show `Standard` to be more effective. \n",
        "\n",
        "You can also specify whether or not you want to compare the distribution of kWhs before and after scaling using the `plot_distributions` argument. **Plotting distributions will cause the function to take a little more time than usual to execute**."
      ]
    },
    {
      "cell_type": "code",
      "metadata": {
        "id": "YTR-svIUz88s",
        "colab_type": "code",
        "colab": {}
      },
      "source": [
        "def scale_features(X=kWhs, scaling_strategy='Standard', plot_distributions=False):\n",
        "  \"\"\"Allows user to scale features for individual samples using specified scaling strategy.\n",
        "  `Standard` - all features scaled to have mean 0, standard deviation of 1\n",
        "  `MinMax` - all features scaled according to x - x_min / (x_max - x_min)\n",
        "  `MaxAbs` - all features scaled according to x / abs(x_max)\n",
        "  \n",
        "  Returns matrix of scaled features as a numpy array.\n",
        "\n",
        "  Also allows before/after plots of feature values to compare effect of scaling\n",
        "  \"\"\"\n",
        "  # StandardScaler - all features will have mean of 0, and std deviation of 1\n",
        "  if (scaling_strategy=='Standard'):\n",
        "    # Instantiate a StandardScaler object\n",
        "    scaler = StandardScaler()\n",
        "  elif (scaling_strategy=='MinMax'):\n",
        "    scaler = MinMaxScaler()\n",
        "  elif (scaling_strategy=='MaxAbs'):\n",
        "    scaler = MaxAbsScaler()\n",
        "\n",
        "  # Make a copy of the features, transpose so that consumers become columns\n",
        "  X_copy = X.copy().transpose()\n",
        "\n",
        "  # Once consumers are in columns, scale each consumer using scaler object and retranspose results \n",
        "  # Retransposing ensures that in scaled data, the consumers are still rows\n",
        "  X_scaled = scaler.fit_transform(X_copy).transpose() # THIS IS A NUMPY ARRAY, NOT A DATAFRAME\n",
        "\n",
        "  # If the user has asked to compare distributions\n",
        "  if plot_distributions:\n",
        "    # First figure - before scaling\n",
        "    plt.figure(figsize=(12, 6))\n",
        "    distplot(X.values.ravel(), kde=False, hist_kws=dict(edgecolor='k', linewidth=2))\n",
        "    plt.xlabel('Unscaled kWh Values', fontsize=14)\n",
        "    plt.ylabel('Frequency', fontsize=14)\n",
        "    plt.title('kWh Values - Before Scaling', fontsize=18)\n",
        "\n",
        "    # Second figure - after scaling\n",
        "    plt.figure(figsize=(12, 6))\n",
        "    distplot(X_scaled.ravel(), kde=False, hist_kws=dict(edgecolor='k', linewidth=2))\n",
        "    plt.xlabel('Scaled kWh Values', fontsize=14)\n",
        "    plt.ylabel('Frequency', fontsize=14)\n",
        "    plt.title('kWh Values - After {} Scaling'.format(scaling_strategy), fontsize=18)\n",
        "\n",
        "  # Return the scaled features\n",
        "  return X_scaled"
      ],
      "execution_count": 0,
      "outputs": []
    },
    {
      "cell_type": "markdown",
      "metadata": {
        "id": "lvkQ9bCjykgC",
        "colab_type": "text"
      },
      "source": [
        "### Function 2 - Plotting Training History\n",
        "Generates figures to compare training and validation loss as well as area under the receiver operating characteristics curve (AUC). \n",
        "\n",
        "Unlike loss and validation loss, which will always be identified by `loss` and `val_loss` in the `.history` object's keys, the AUC keys are not fixed, will be numbered `auc_1`, `val_auc_2`, etc. depending on the number of `tf.keras.metrics.AUC` objects instantiated.\n",
        "\n",
        "A large part of this function is a quick and dirty approach to extracting the `auc` and `val_auc` keys."
      ]
    },
    {
      "cell_type": "code",
      "metadata": {
        "id": "LeyX2d_BqWHU",
        "colab_type": "code",
        "colab": {}
      },
      "source": [
        "def plot_history(history, model_name=None, figsize=(12, 6), \n",
        "                 loss_name=None):\n",
        "  # Extract loss from the history object\n",
        "  loss = history.history['loss']\n",
        "  val_loss = history.history['val_loss']\n",
        "  epochs = range(1, len(loss) + 1)\n",
        "\n",
        "  # Extract AUCs\n",
        "  auc = None\n",
        "  val_auc = None\n",
        "\n",
        "  # Extract `auc` and `val_auc` regardless of last number in key\n",
        "  for key in list(history.history.keys()):\n",
        "    if 'auc' in key and 'val' not in key:\n",
        "      auc = history.history[key]\n",
        "    elif 'auc'in key and 'val' in key:\n",
        "      val_auc = history.history[key]\n",
        "\n",
        "  # Plotting Loss\n",
        "  plt.figure(figsize=figsize)\n",
        "  plt.plot(epochs, loss, label='Training Loss')\n",
        "  plt.plot(epochs, val_loss, label='Validation Loss')\n",
        "  plt.xlabel('Epochs', fontsize=14)\n",
        "  plt.ylabel('Loss' if loss_name is None else loss_name, fontsize=14)\n",
        "  plt.title('Loss ' + ('' if model_name is None else ' - {}'.format(model_name)), \n",
        "            fontsize=18)\n",
        "  plt.legend(loc='lower right')\n",
        "\n",
        "  # Plotting AUC - only if in dictionary\n",
        "  if auc is not None and val_auc is not None:\n",
        "    plt.figure(figsize=figsize)\n",
        "    plt.plot(epochs, auc, label='Training AUC')\n",
        "    plt.plot(epochs, val_auc, label='Validation AUC')\n",
        "    plt.xlabel('Epochs', fontsize=14)\n",
        "    plt.ylabel('AUC', fontsize=14)\n",
        "    plt.title('AUC ' + ('' if model_name is None else' - {}'.format(model_name)), \n",
        "              fontsize=18)"
      ],
      "execution_count": 0,
      "outputs": []
    },
    {
      "cell_type": "markdown",
      "metadata": {
        "id": "vqgQZaoByq5d",
        "colab_type": "text"
      },
      "source": [
        "### Function 3 - Classification Results\n",
        "\n",
        "Generates \n",
        "- a classification report (with precision, accuracy, recall, and F1 score)\n",
        "- a confusion matrix (showing the proportion of true and false positives and negatives).\n",
        "- a ROC curve with AUC\n",
        "\n",
        "Make sure the following imports have been made before running the function\n",
        "- `from sklearn.metrics import classification_report, roc_auc_score, roc_curve`\n",
        "\n",
        "- `from seaborn import heatmap`"
      ]
    },
    {
      "cell_type": "code",
      "metadata": {
        "id": "QGP6i7IN1lqD",
        "colab_type": "code",
        "colab": {}
      },
      "source": [
        "def get_classification_result(model, X_test, y_true, model_name=None, \n",
        "                              normalize_conf_mat='all'):\n",
        "  \"\"\"Displays classification report, confusion matrix, and ROC curve for a trained\n",
        "  model using classification results on data provided\"\"\"\n",
        "  # PREDICTIONS\n",
        "  # First, get the predictions for the test data\n",
        "  y_pred = model.predict_classes(X_test)\n",
        "\n",
        "  # CLASSIFICATION REPORT\n",
        "  print(\"classification report\".upper(), end='\\n')\n",
        "  print(classification_report(y_true, y_pred, labels=[0, 1], \n",
        "                              target_names=['Regular Consumer', 'Thief']))\n",
        "  \n",
        "  # CONFUSION MATRIX\n",
        "  if (normalize_conf_mat=='rows'):\n",
        "    normalize='true'\n",
        "  elif (normalize_conf_mat=='cols'):\n",
        "    normalize='pred'\n",
        "  else:\n",
        "    normalize='all'\n",
        "\n",
        "  # Using Seaborn to plot confusion matrix as a heatmap \n",
        "  conf_mat = confusion_matrix(y_true, y_pred, normalize=normalize)\n",
        "\n",
        "  # Create a heatmap in lieu of the plot_confusion_matrix call in sklearn\n",
        "  plt.figure(figsize=(8, 8))\n",
        "  heatmap(conf_mat, annot=True, fmt='.5g', cmap='Blues', \n",
        "        xticklabels=['Predicted Reg', 'Predicted Thief'], \n",
        "        yticklabels=['True Reg', 'True Thief'])\n",
        "  plt.title('Confusion Matrix ' + ('' if model_name is None else ' - ' + model_name))\n",
        "\n",
        "  # ROC Curve\n",
        "  plt.figure(figsize=(8, 8))\n",
        "  fpr, tpr, _ = roc_curve(y_true, y_pred, pos_label=1)\n",
        "  roc_auc = roc_auc_score(y_true, y_pred)\n",
        "  plt.plot(fpr, tpr, lw=2, label='ROC Curve (area = %0.2f)' % roc_auc)\n",
        "  plt.xlabel('False Positive Rate', fontsize=14)\n",
        "  plt.ylabel('True Positive Rate', fontsize=14)\n",
        "  plt.title('ROC Curve' + ('' if model_name is None else (' - ' + model_name)))\n",
        "  plt.legend(loc='lower right')\n",
        "  "
      ],
      "execution_count": 0,
      "outputs": []
    },
    {
      "cell_type": "markdown",
      "metadata": {
        "id": "-2PLmXURLgH_",
        "colab_type": "text"
      },
      "source": [
        "# Loading Data\n",
        "\n",
        "**What is being loaded?**: `outliersRemoved.csv` \n",
        "This data is sorted, has no missing values, and has no outliers. However, it is **not scaled**.\n",
        "\n",
        "You will scale the data as you wish by running the cells in the **Scaling** section."
      ]
    },
    {
      "cell_type": "code",
      "metadata": {
        "id": "BK71t3SELn0q",
        "colab_type": "code",
        "colab": {}
      },
      "source": [
        "filepath = '/content/drive/My Drive/EE 16-17 FYP DL Energy Theft Detection/Data/full-processing-data/outliersRemoved.csv'"
      ],
      "execution_count": 0,
      "outputs": []
    },
    {
      "cell_type": "code",
      "metadata": {
        "id": "QexEY55KMMCT",
        "colab_type": "code",
        "colab": {}
      },
      "source": [
        "raw_data = pd.read_csv(filepath)"
      ],
      "execution_count": 0,
      "outputs": []
    },
    {
      "cell_type": "code",
      "metadata": {
        "id": "_oOq2sliMipH",
        "colab_type": "code",
        "outputId": "5ed8ed8c-b28b-4b3d-d46a-33305f4003c4",
        "colab": {
          "base_uri": "https://localhost:8080/",
          "height": 270
        }
      },
      "source": [
        "# Did it work?\n",
        "raw_data.head()"
      ],
      "execution_count": 32,
      "outputs": [
        {
          "output_type": "execute_result",
          "data": {
            "text/html": [
              "<div>\n",
              "<style scoped>\n",
              "    .dataframe tbody tr th:only-of-type {\n",
              "        vertical-align: middle;\n",
              "    }\n",
              "\n",
              "    .dataframe tbody tr th {\n",
              "        vertical-align: top;\n",
              "    }\n",
              "\n",
              "    .dataframe thead th {\n",
              "        text-align: right;\n",
              "    }\n",
              "</style>\n",
              "<table border=\"1\" class=\"dataframe\">\n",
              "  <thead>\n",
              "    <tr style=\"text-align: right;\">\n",
              "      <th></th>\n",
              "      <th>CONS_NO</th>\n",
              "      <th>FLAG</th>\n",
              "      <th>2014-01-01</th>\n",
              "      <th>2014-01-02</th>\n",
              "      <th>2014-01-03</th>\n",
              "      <th>2014-01-04</th>\n",
              "      <th>2014-01-05</th>\n",
              "      <th>2014-01-06</th>\n",
              "      <th>2014-01-07</th>\n",
              "      <th>2014-01-08</th>\n",
              "      <th>2014-01-09</th>\n",
              "      <th>2014-01-10</th>\n",
              "      <th>2014-01-11</th>\n",
              "      <th>2014-01-12</th>\n",
              "      <th>2014-01-13</th>\n",
              "      <th>2014-01-14</th>\n",
              "      <th>2014-01-15</th>\n",
              "      <th>2014-01-16</th>\n",
              "      <th>2014-01-17</th>\n",
              "      <th>2014-01-18</th>\n",
              "      <th>2014-01-19</th>\n",
              "      <th>2014-01-20</th>\n",
              "      <th>2014-01-21</th>\n",
              "      <th>2014-01-22</th>\n",
              "      <th>2014-01-23</th>\n",
              "      <th>2014-01-24</th>\n",
              "      <th>2014-01-25</th>\n",
              "      <th>2014-01-26</th>\n",
              "      <th>2014-01-27</th>\n",
              "      <th>2014-01-28</th>\n",
              "      <th>2014-01-29</th>\n",
              "      <th>2014-01-30</th>\n",
              "      <th>2014-01-31</th>\n",
              "      <th>2014-02-01</th>\n",
              "      <th>2014-02-02</th>\n",
              "      <th>2014-02-03</th>\n",
              "      <th>2014-02-04</th>\n",
              "      <th>2014-02-05</th>\n",
              "      <th>2014-02-06</th>\n",
              "      <th>2014-02-07</th>\n",
              "      <th>...</th>\n",
              "      <th>2016-09-22</th>\n",
              "      <th>2016-09-23</th>\n",
              "      <th>2016-09-24</th>\n",
              "      <th>2016-09-25</th>\n",
              "      <th>2016-09-26</th>\n",
              "      <th>2016-09-27</th>\n",
              "      <th>2016-09-28</th>\n",
              "      <th>2016-09-29</th>\n",
              "      <th>2016-09-30</th>\n",
              "      <th>2016-10-01</th>\n",
              "      <th>2016-10-02</th>\n",
              "      <th>2016-10-03</th>\n",
              "      <th>2016-10-04</th>\n",
              "      <th>2016-10-05</th>\n",
              "      <th>2016-10-06</th>\n",
              "      <th>2016-10-07</th>\n",
              "      <th>2016-10-08</th>\n",
              "      <th>2016-10-09</th>\n",
              "      <th>2016-10-10</th>\n",
              "      <th>2016-10-11</th>\n",
              "      <th>2016-10-12</th>\n",
              "      <th>2016-10-13</th>\n",
              "      <th>2016-10-14</th>\n",
              "      <th>2016-10-15</th>\n",
              "      <th>2016-10-16</th>\n",
              "      <th>2016-10-17</th>\n",
              "      <th>2016-10-18</th>\n",
              "      <th>2016-10-19</th>\n",
              "      <th>2016-10-20</th>\n",
              "      <th>2016-10-21</th>\n",
              "      <th>2016-10-22</th>\n",
              "      <th>2016-10-23</th>\n",
              "      <th>2016-10-24</th>\n",
              "      <th>2016-10-25</th>\n",
              "      <th>2016-10-26</th>\n",
              "      <th>2016-10-27</th>\n",
              "      <th>2016-10-28</th>\n",
              "      <th>2016-10-29</th>\n",
              "      <th>2016-10-30</th>\n",
              "      <th>2016-10-31</th>\n",
              "    </tr>\n",
              "  </thead>\n",
              "  <tbody>\n",
              "    <tr>\n",
              "      <th>0</th>\n",
              "      <td>0387DD8A07E07FDA6271170F86AD9151</td>\n",
              "      <td>1</td>\n",
              "      <td>0.0</td>\n",
              "      <td>0.00</td>\n",
              "      <td>0.00</td>\n",
              "      <td>0.00</td>\n",
              "      <td>0.00</td>\n",
              "      <td>0.00</td>\n",
              "      <td>0.00</td>\n",
              "      <td>0.00</td>\n",
              "      <td>0.00</td>\n",
              "      <td>0.00</td>\n",
              "      <td>0.00</td>\n",
              "      <td>0.00</td>\n",
              "      <td>0.00</td>\n",
              "      <td>0.00</td>\n",
              "      <td>0.00</td>\n",
              "      <td>0.00</td>\n",
              "      <td>0.00</td>\n",
              "      <td>0.00</td>\n",
              "      <td>0.00</td>\n",
              "      <td>0.00</td>\n",
              "      <td>0.00</td>\n",
              "      <td>0.00</td>\n",
              "      <td>0.00</td>\n",
              "      <td>0.00</td>\n",
              "      <td>0.00</td>\n",
              "      <td>0.00</td>\n",
              "      <td>0.00</td>\n",
              "      <td>0.00</td>\n",
              "      <td>0.00</td>\n",
              "      <td>0.00</td>\n",
              "      <td>0.00</td>\n",
              "      <td>0.00</td>\n",
              "      <td>0.00</td>\n",
              "      <td>0.0</td>\n",
              "      <td>0.00</td>\n",
              "      <td>0.00</td>\n",
              "      <td>0.0</td>\n",
              "      <td>0.00</td>\n",
              "      <td>...</td>\n",
              "      <td>8.56</td>\n",
              "      <td>10.48</td>\n",
              "      <td>8.20</td>\n",
              "      <td>12.53</td>\n",
              "      <td>7.90</td>\n",
              "      <td>8.58</td>\n",
              "      <td>10.12</td>\n",
              "      <td>9.96</td>\n",
              "      <td>7.60</td>\n",
              "      <td>18.19</td>\n",
              "      <td>10.93</td>\n",
              "      <td>11.41</td>\n",
              "      <td>19.92</td>\n",
              "      <td>10.70</td>\n",
              "      <td>9.20</td>\n",
              "      <td>6.77</td>\n",
              "      <td>6.760000</td>\n",
              "      <td>6.150000</td>\n",
              "      <td>6.500000</td>\n",
              "      <td>8.080000</td>\n",
              "      <td>7.97</td>\n",
              "      <td>8.810000</td>\n",
              "      <td>7.370000</td>\n",
              "      <td>11.720000</td>\n",
              "      <td>11.020000</td>\n",
              "      <td>8.180000</td>\n",
              "      <td>7.330000</td>\n",
              "      <td>6.710000</td>\n",
              "      <td>8.520000</td>\n",
              "      <td>6.310000</td>\n",
              "      <td>7.18</td>\n",
              "      <td>8.070000</td>\n",
              "      <td>8.090000</td>\n",
              "      <td>9.530000</td>\n",
              "      <td>5.480000</td>\n",
              "      <td>8.750000</td>\n",
              "      <td>9.300000</td>\n",
              "      <td>7.540000</td>\n",
              "      <td>9.160000</td>\n",
              "      <td>6.740000</td>\n",
              "    </tr>\n",
              "    <tr>\n",
              "      <th>1</th>\n",
              "      <td>01D6177B5D4FFE0CABA9EF17DAFC2B84</td>\n",
              "      <td>1</td>\n",
              "      <td>0.0</td>\n",
              "      <td>0.00</td>\n",
              "      <td>0.00</td>\n",
              "      <td>0.00</td>\n",
              "      <td>0.00</td>\n",
              "      <td>0.00</td>\n",
              "      <td>0.00</td>\n",
              "      <td>0.00</td>\n",
              "      <td>0.00</td>\n",
              "      <td>0.00</td>\n",
              "      <td>0.00</td>\n",
              "      <td>0.00</td>\n",
              "      <td>0.00</td>\n",
              "      <td>0.00</td>\n",
              "      <td>0.00</td>\n",
              "      <td>0.00</td>\n",
              "      <td>0.00</td>\n",
              "      <td>0.00</td>\n",
              "      <td>0.00</td>\n",
              "      <td>0.00</td>\n",
              "      <td>0.00</td>\n",
              "      <td>0.00</td>\n",
              "      <td>0.00</td>\n",
              "      <td>0.00</td>\n",
              "      <td>0.00</td>\n",
              "      <td>0.00</td>\n",
              "      <td>0.00</td>\n",
              "      <td>0.00</td>\n",
              "      <td>0.00</td>\n",
              "      <td>0.00</td>\n",
              "      <td>0.00</td>\n",
              "      <td>0.00</td>\n",
              "      <td>0.00</td>\n",
              "      <td>0.0</td>\n",
              "      <td>0.00</td>\n",
              "      <td>0.00</td>\n",
              "      <td>0.0</td>\n",
              "      <td>0.00</td>\n",
              "      <td>...</td>\n",
              "      <td>0.00</td>\n",
              "      <td>0.00</td>\n",
              "      <td>0.00</td>\n",
              "      <td>0.00</td>\n",
              "      <td>0.00</td>\n",
              "      <td>0.00</td>\n",
              "      <td>0.00</td>\n",
              "      <td>0.00</td>\n",
              "      <td>0.00</td>\n",
              "      <td>0.00</td>\n",
              "      <td>0.00</td>\n",
              "      <td>0.00</td>\n",
              "      <td>0.00</td>\n",
              "      <td>0.00</td>\n",
              "      <td>0.00</td>\n",
              "      <td>0.00</td>\n",
              "      <td>0.000000</td>\n",
              "      <td>0.000000</td>\n",
              "      <td>0.000000</td>\n",
              "      <td>0.000000</td>\n",
              "      <td>0.00</td>\n",
              "      <td>0.000000</td>\n",
              "      <td>0.000000</td>\n",
              "      <td>0.000000</td>\n",
              "      <td>0.000000</td>\n",
              "      <td>0.000000</td>\n",
              "      <td>0.000000</td>\n",
              "      <td>0.000000</td>\n",
              "      <td>0.000000</td>\n",
              "      <td>0.000000</td>\n",
              "      <td>0.00</td>\n",
              "      <td>0.000000</td>\n",
              "      <td>0.000000</td>\n",
              "      <td>0.000000</td>\n",
              "      <td>0.000000</td>\n",
              "      <td>0.000000</td>\n",
              "      <td>0.000000</td>\n",
              "      <td>0.000000</td>\n",
              "      <td>0.000000</td>\n",
              "      <td>0.000000</td>\n",
              "    </tr>\n",
              "    <tr>\n",
              "      <th>2</th>\n",
              "      <td>4B75AC4F2D8434CFF62DB64D0BB43103</td>\n",
              "      <td>1</td>\n",
              "      <td>0.0</td>\n",
              "      <td>0.00</td>\n",
              "      <td>0.00</td>\n",
              "      <td>0.00</td>\n",
              "      <td>0.00</td>\n",
              "      <td>0.00</td>\n",
              "      <td>0.00</td>\n",
              "      <td>0.00</td>\n",
              "      <td>0.00</td>\n",
              "      <td>0.00</td>\n",
              "      <td>0.00</td>\n",
              "      <td>0.00</td>\n",
              "      <td>0.00</td>\n",
              "      <td>0.00</td>\n",
              "      <td>0.00</td>\n",
              "      <td>0.00</td>\n",
              "      <td>0.00</td>\n",
              "      <td>0.00</td>\n",
              "      <td>0.00</td>\n",
              "      <td>0.00</td>\n",
              "      <td>0.00</td>\n",
              "      <td>0.00</td>\n",
              "      <td>0.00</td>\n",
              "      <td>0.00</td>\n",
              "      <td>0.00</td>\n",
              "      <td>0.00</td>\n",
              "      <td>0.00</td>\n",
              "      <td>0.00</td>\n",
              "      <td>0.00</td>\n",
              "      <td>0.00</td>\n",
              "      <td>0.00</td>\n",
              "      <td>0.00</td>\n",
              "      <td>0.00</td>\n",
              "      <td>0.0</td>\n",
              "      <td>0.00</td>\n",
              "      <td>0.00</td>\n",
              "      <td>0.0</td>\n",
              "      <td>0.00</td>\n",
              "      <td>...</td>\n",
              "      <td>0.00</td>\n",
              "      <td>0.00</td>\n",
              "      <td>0.00</td>\n",
              "      <td>0.00</td>\n",
              "      <td>0.00</td>\n",
              "      <td>0.00</td>\n",
              "      <td>0.00</td>\n",
              "      <td>0.00</td>\n",
              "      <td>0.00</td>\n",
              "      <td>0.00</td>\n",
              "      <td>0.00</td>\n",
              "      <td>0.00</td>\n",
              "      <td>0.00</td>\n",
              "      <td>0.00</td>\n",
              "      <td>0.00</td>\n",
              "      <td>8.34</td>\n",
              "      <td>13.483126</td>\n",
              "      <td>13.483126</td>\n",
              "      <td>13.483126</td>\n",
              "      <td>13.483126</td>\n",
              "      <td>12.73</td>\n",
              "      <td>13.483126</td>\n",
              "      <td>13.483126</td>\n",
              "      <td>13.483126</td>\n",
              "      <td>13.483126</td>\n",
              "      <td>13.483126</td>\n",
              "      <td>13.483126</td>\n",
              "      <td>13.483126</td>\n",
              "      <td>13.483126</td>\n",
              "      <td>13.483126</td>\n",
              "      <td>10.95</td>\n",
              "      <td>13.483126</td>\n",
              "      <td>13.483126</td>\n",
              "      <td>13.483126</td>\n",
              "      <td>13.483126</td>\n",
              "      <td>13.483126</td>\n",
              "      <td>13.483126</td>\n",
              "      <td>13.483126</td>\n",
              "      <td>13.483126</td>\n",
              "      <td>13.483126</td>\n",
              "    </tr>\n",
              "    <tr>\n",
              "      <th>3</th>\n",
              "      <td>B32AC8CC6D5D805AC053557AB05F5343</td>\n",
              "      <td>1</td>\n",
              "      <td>0.0</td>\n",
              "      <td>0.00</td>\n",
              "      <td>0.00</td>\n",
              "      <td>0.00</td>\n",
              "      <td>0.00</td>\n",
              "      <td>0.00</td>\n",
              "      <td>0.00</td>\n",
              "      <td>0.00</td>\n",
              "      <td>0.00</td>\n",
              "      <td>0.00</td>\n",
              "      <td>0.00</td>\n",
              "      <td>0.00</td>\n",
              "      <td>0.00</td>\n",
              "      <td>0.00</td>\n",
              "      <td>0.00</td>\n",
              "      <td>0.00</td>\n",
              "      <td>0.00</td>\n",
              "      <td>0.00</td>\n",
              "      <td>0.00</td>\n",
              "      <td>0.00</td>\n",
              "      <td>0.00</td>\n",
              "      <td>0.00</td>\n",
              "      <td>0.00</td>\n",
              "      <td>0.00</td>\n",
              "      <td>0.00</td>\n",
              "      <td>0.00</td>\n",
              "      <td>0.00</td>\n",
              "      <td>0.00</td>\n",
              "      <td>0.00</td>\n",
              "      <td>0.00</td>\n",
              "      <td>0.00</td>\n",
              "      <td>0.00</td>\n",
              "      <td>0.00</td>\n",
              "      <td>0.0</td>\n",
              "      <td>0.00</td>\n",
              "      <td>0.00</td>\n",
              "      <td>0.0</td>\n",
              "      <td>0.00</td>\n",
              "      <td>...</td>\n",
              "      <td>17.30</td>\n",
              "      <td>16.95</td>\n",
              "      <td>8.25</td>\n",
              "      <td>22.76</td>\n",
              "      <td>14.07</td>\n",
              "      <td>20.70</td>\n",
              "      <td>6.50</td>\n",
              "      <td>9.99</td>\n",
              "      <td>18.59</td>\n",
              "      <td>16.79</td>\n",
              "      <td>26.82</td>\n",
              "      <td>14.70</td>\n",
              "      <td>16.05</td>\n",
              "      <td>24.10</td>\n",
              "      <td>12.64</td>\n",
              "      <td>10.85</td>\n",
              "      <td>11.770000</td>\n",
              "      <td>13.030000</td>\n",
              "      <td>12.260000</td>\n",
              "      <td>15.660000</td>\n",
              "      <td>13.43</td>\n",
              "      <td>15.030000</td>\n",
              "      <td>14.610000</td>\n",
              "      <td>13.970000</td>\n",
              "      <td>15.070000</td>\n",
              "      <td>14.110000</td>\n",
              "      <td>14.770000</td>\n",
              "      <td>11.720000</td>\n",
              "      <td>11.730000</td>\n",
              "      <td>11.980000</td>\n",
              "      <td>12.81</td>\n",
              "      <td>15.120000</td>\n",
              "      <td>17.260000</td>\n",
              "      <td>14.910000</td>\n",
              "      <td>19.590000</td>\n",
              "      <td>20.790000</td>\n",
              "      <td>17.950000</td>\n",
              "      <td>19.260000</td>\n",
              "      <td>14.460000</td>\n",
              "      <td>11.720000</td>\n",
              "    </tr>\n",
              "    <tr>\n",
              "      <th>4</th>\n",
              "      <td>EDFC78B07BA2908B3395C4EB2304665E</td>\n",
              "      <td>1</td>\n",
              "      <td>2.9</td>\n",
              "      <td>5.64</td>\n",
              "      <td>6.99</td>\n",
              "      <td>3.32</td>\n",
              "      <td>3.61</td>\n",
              "      <td>5.35</td>\n",
              "      <td>4.73</td>\n",
              "      <td>3.68</td>\n",
              "      <td>3.53</td>\n",
              "      <td>3.42</td>\n",
              "      <td>3.81</td>\n",
              "      <td>4.58</td>\n",
              "      <td>3.56</td>\n",
              "      <td>4.25</td>\n",
              "      <td>3.86</td>\n",
              "      <td>3.53</td>\n",
              "      <td>3.41</td>\n",
              "      <td>0.85</td>\n",
              "      <td>0.88</td>\n",
              "      <td>3.81</td>\n",
              "      <td>6.51</td>\n",
              "      <td>9.19</td>\n",
              "      <td>7.79</td>\n",
              "      <td>7.02</td>\n",
              "      <td>7.25</td>\n",
              "      <td>6.37</td>\n",
              "      <td>6.43</td>\n",
              "      <td>7.89</td>\n",
              "      <td>7.46</td>\n",
              "      <td>7.95</td>\n",
              "      <td>7.59</td>\n",
              "      <td>4.84</td>\n",
              "      <td>6.06</td>\n",
              "      <td>5.6</td>\n",
              "      <td>6.72</td>\n",
              "      <td>7.29</td>\n",
              "      <td>5.6</td>\n",
              "      <td>6.28</td>\n",
              "      <td>...</td>\n",
              "      <td>9.56</td>\n",
              "      <td>9.48</td>\n",
              "      <td>10.60</td>\n",
              "      <td>10.06</td>\n",
              "      <td>10.79</td>\n",
              "      <td>10.91</td>\n",
              "      <td>17.77</td>\n",
              "      <td>10.37</td>\n",
              "      <td>13.51</td>\n",
              "      <td>14.13</td>\n",
              "      <td>17.44</td>\n",
              "      <td>15.96</td>\n",
              "      <td>12.18</td>\n",
              "      <td>18.54</td>\n",
              "      <td>13.44</td>\n",
              "      <td>11.68</td>\n",
              "      <td>9.150000</td>\n",
              "      <td>9.160000</td>\n",
              "      <td>10.190000</td>\n",
              "      <td>10.310000</td>\n",
              "      <td>8.03</td>\n",
              "      <td>10.080000</td>\n",
              "      <td>10.340000</td>\n",
              "      <td>11.240000</td>\n",
              "      <td>15.140000</td>\n",
              "      <td>14.360000</td>\n",
              "      <td>12.390000</td>\n",
              "      <td>10.360000</td>\n",
              "      <td>9.290000</td>\n",
              "      <td>7.910000</td>\n",
              "      <td>14.21</td>\n",
              "      <td>10.220000</td>\n",
              "      <td>8.470000</td>\n",
              "      <td>6.110000</td>\n",
              "      <td>6.100000</td>\n",
              "      <td>6.730000</td>\n",
              "      <td>7.520000</td>\n",
              "      <td>10.890000</td>\n",
              "      <td>9.860000</td>\n",
              "      <td>8.720000</td>\n",
              "    </tr>\n",
              "  </tbody>\n",
              "</table>\n",
              "<p>5 rows × 1036 columns</p>\n",
              "</div>"
            ],
            "text/plain": [
              "                            CONS_NO  FLAG  ...  2016-10-30  2016-10-31\n",
              "0  0387DD8A07E07FDA6271170F86AD9151     1  ...    9.160000    6.740000\n",
              "1  01D6177B5D4FFE0CABA9EF17DAFC2B84     1  ...    0.000000    0.000000\n",
              "2  4B75AC4F2D8434CFF62DB64D0BB43103     1  ...   13.483126   13.483126\n",
              "3  B32AC8CC6D5D805AC053557AB05F5343     1  ...   14.460000   11.720000\n",
              "4  EDFC78B07BA2908B3395C4EB2304665E     1  ...    9.860000    8.720000\n",
              "\n",
              "[5 rows x 1036 columns]"
            ]
          },
          "metadata": {
            "tags": []
          },
          "execution_count": 32
        }
      ]
    },
    {
      "cell_type": "markdown",
      "metadata": {
        "id": "77MdpldMMllJ",
        "colab_type": "text"
      },
      "source": [
        "# Extracting Features and Labels"
      ]
    },
    {
      "cell_type": "code",
      "metadata": {
        "id": "TRJZUOL8M5W2",
        "colab_type": "code",
        "colab": {}
      },
      "source": [
        "# Column 2 onwards are kWhs, column 1 is the FLAG\n",
        "kWhs = raw_data.iloc[:, 2:]\n",
        "labels = raw_data.iloc[:, 1]"
      ],
      "execution_count": 0,
      "outputs": []
    },
    {
      "cell_type": "code",
      "metadata": {
        "id": "mg-h4Xe3M9DQ",
        "colab_type": "code",
        "colab": {}
      },
      "source": [
        "# Extracting number of rows and columns in the feature matrix\n",
        "NUM_CONSUMERS, NUM_DAYS = kWhs.shape"
      ],
      "execution_count": 0,
      "outputs": []
    },
    {
      "cell_type": "code",
      "metadata": {
        "id": "0XBM4S9INLAw",
        "colab_type": "code",
        "outputId": "6602a327-034e-4ee8-ada7-f056bb44a58e",
        "colab": {
          "base_uri": "https://localhost:8080/",
          "height": 34
        }
      },
      "source": [
        "print(NUM_CONSUMERS, NUM_DAYS)"
      ],
      "execution_count": 35,
      "outputs": [
        {
          "output_type": "stream",
          "text": [
            "42372 1034\n"
          ],
          "name": "stdout"
        }
      ]
    },
    {
      "cell_type": "markdown",
      "metadata": {
        "id": "Xzi-zonnNVYc",
        "colab_type": "text"
      },
      "source": [
        "# Scaling"
      ]
    },
    {
      "cell_type": "code",
      "metadata": {
        "id": "whGI-GgoNX70",
        "colab_type": "code",
        "colab": {}
      },
      "source": [
        "def scale_features(X=kWhs, scaling_strategy='Standard', plot_distributions=False):\n",
        "  \"\"\"Allows user to scale features for individual samples using specified scaling strategy.\n",
        "  `Standard` - all features scaled to have mean 0, standard deviation of 1\n",
        "  `MinMax` - all features scaled according to x - x_min / (x_max - x_min)\n",
        "  `MaxAbs` - all features scaled according to x / abs(x_max)\n",
        "  \n",
        "  Returns matrix of scaled features as a numpy array.\n",
        "\n",
        "  Also allows before/after plots of feature values to compare effect of scaling\n",
        "  \"\"\"\n",
        "  # StandardScaler - all features will have mean of 0, and std deviation of 1\n",
        "  if (scaling_strategy=='Standard'):\n",
        "    # Instantiate a StandardScaler object\n",
        "    scaler = StandardScaler()\n",
        "  elif (scaling_strategy=='MinMax'):\n",
        "    scaler = MinMaxScaler()\n",
        "  elif (scaling_strategy=='MaxAbs'):\n",
        "    scaler = MaxAbsScaler()\n",
        "\n",
        "  # Make a copy of the features, transpose so that consumers become columns\n",
        "  X_copy = X.copy().transpose()\n",
        "\n",
        "  # Once consumers are in columns, scale each consumer using scaler object and retranspose results \n",
        "  # Retransposing ensures that in scaled data, the consumers are still rows\n",
        "  X_scaled = scaler.fit_transform(X_copy).transpose() # THIS IS A NUMPY ARRAY, NOT A DATAFRAME\n",
        "\n",
        "  # If the user has asked to compare distributions\n",
        "  if plot_distributions:\n",
        "    # First figure - before scaling\n",
        "    plt.figure(figsize=(12, 6))\n",
        "    distplot(X.values.ravel(), kde=False, hist_kws=dict(edgecolor='k', linewidth=2))\n",
        "    plt.xlabel('Unscaled kWh Values', fontsize=14)\n",
        "    plt.ylabel('Frequency', fontsize=14)\n",
        "    plt.title('kWh Values - Before Scaling', fontsize=18)\n",
        "\n",
        "    # Second figure - after scaling\n",
        "    plt.figure(figsize=(12, 6))\n",
        "    distplot(X_scaled.ravel(), kde=False, hist_kws=dict(edgecolor='k', linewidth=2))\n",
        "    plt.xlabel('Scaled kWh Values', fontsize=14)\n",
        "    plt.ylabel('Frequency', fontsize=14)\n",
        "    plt.title('kWh Values - After {} Scaling'.format(scaling_strategy), fontsize=18)\n",
        "\n",
        "  # Return the scaled features\n",
        "  return X_scaled"
      ],
      "execution_count": 0,
      "outputs": []
    },
    {
      "cell_type": "code",
      "metadata": {
        "id": "NU50Kl-nQZ2S",
        "colab_type": "code",
        "outputId": "f801e610-0b7d-454d-b68c-156822e9ae13",
        "colab": {
          "base_uri": "https://localhost:8080/",
          "height": 807
        }
      },
      "source": [
        "X_scaled_std = scale_features(X=kWhs, plot_distributions=True)"
      ],
      "execution_count": 17,
      "outputs": [
        {
          "output_type": "display_data",
          "data": {
            "image/png": "[encoded data removed]",
            "text/plain": [
              "<Figure size 864x432 with 1 Axes>"
            ]
          },
          "metadata": {
            "tags": []
          }
        },
        {
          "output_type": "display_data",
          "data": {
            "image/png": "[encoded data removed]",
            "text/plain": [
              "<Figure size 864x432 with 1 Axes>"
            ]
          },
          "metadata": {
            "tags": []
          }
        }
      ]
    },
    {
      "cell_type": "markdown",
      "metadata": {
        "id": "E04Ey9XLne5D",
        "colab_type": "text"
      },
      "source": [
        "# Train-Test Split"
      ]
    },
    {
      "cell_type": "code",
      "metadata": {
        "id": "fYW8wN8Mnijq",
        "colab_type": "code",
        "colab": {}
      },
      "source": [
        "X_train, X_test, y_train, y_test = train_test_split(X_scaled_std, \n",
        "                                                    labels, \n",
        "                                                    stratify=labels, \n",
        "                                                    shuffle=True, \n",
        "                                                    test_size=0.2, \n",
        "                                                    random_state=0)"
      ],
      "execution_count": 0,
      "outputs": []
    },
    {
      "cell_type": "markdown",
      "metadata": {
        "id": "mnhHizLtzh6G",
        "colab_type": "text"
      },
      "source": [
        "# Wide CNN - Zheng's Model"
      ]
    },
    {
      "cell_type": "code",
      "metadata": {
        "id": "GrA2wPH90FYo",
        "colab_type": "code",
        "colab": {}
      },
      "source": [
        "# Insantiate a Model\n",
        "model = Sequential()"
      ],
      "execution_count": 0,
      "outputs": []
    },
    {
      "cell_type": "markdown",
      "metadata": {
        "id": "nWNukVpok85G",
        "colab_type": "text"
      },
      "source": [
        "## Adding Layers\n",
        "\n",
        "Zheng's wide model has a single layer which takes a 1034-dimensional input. \n",
        "\n",
        "**Number of Neurons**: The paper is unclear about the optimal number of neurons. In the description, it states that V.C.1) (Parameter Study, Effect of Alpha), it states the optimal number of neurons is 50. However, the graphs of the parameter study presented in figure 6(a)-(b) show that highest AUC is obtained when number of neurons is closer to 90.\n",
        "\n",
        "**Activation Function**: `ReLu`, as defined in paper. \n",
        "\n",
        "**No regularizaton** specified. "
      ]
    },
    {
      "cell_type": "markdown",
      "metadata": {
        "id": "ZCHIj-YLo8qf",
        "colab_type": "text"
      },
      "source": [
        "### `Wide` Input Layer"
      ]
    },
    {
      "cell_type": "code",
      "metadata": {
        "id": "SP4sMsEe0Ndo",
        "colab_type": "code",
        "colab": {}
      },
      "source": [
        "model.add(Dense(units=90, \n",
        "                activation='relu', \n",
        "                input_shape=(1034,)))"
      ],
      "execution_count": 0,
      "outputs": []
    },
    {
      "cell_type": "markdown",
      "metadata": {
        "id": "8pz5dAMOpBF-",
        "colab_type": "text"
      },
      "source": [
        "### `Sigmoid` Layer"
      ]
    },
    {
      "cell_type": "code",
      "metadata": {
        "id": "pb7-Guyw2o1o",
        "colab_type": "code",
        "colab": {}
      },
      "source": [
        "model.add(Dense(units=1, activation='sigmoid'))"
      ],
      "execution_count": 0,
      "outputs": []
    },
    {
      "cell_type": "markdown",
      "metadata": {
        "id": "OGCx3C-opFrq",
        "colab_type": "text"
      },
      "source": [
        "## Compiling Model"
      ]
    },
    {
      "cell_type": "code",
      "metadata": {
        "id": "g7J7mzkr2tfH",
        "colab_type": "code",
        "colab": {}
      },
      "source": [
        "model.compile(optimizer='sgd',\n",
        "              loss='binary_crossentropy', \n",
        "              metrics=[AUC()])"
      ],
      "execution_count": 0,
      "outputs": []
    },
    {
      "cell_type": "markdown",
      "metadata": {
        "id": "GJfgc5rUpLuK",
        "colab_type": "text"
      },
      "source": [
        "## Model Summary"
      ]
    },
    {
      "cell_type": "code",
      "metadata": {
        "id": "zLgxIxpVpN7C",
        "colab_type": "code",
        "colab": {
          "base_uri": "https://localhost:8080/",
          "height": 221
        },
        "outputId": "a7620c8d-457e-4a5d-a30c-eec8141ddf93"
      },
      "source": [
        "model.summary()"
      ],
      "execution_count": 42,
      "outputs": [
        {
          "output_type": "stream",
          "text": [
            "Model: \"sequential_2\"\n",
            "_________________________________________________________________\n",
            "Layer (type)                 Output Shape              Param #   \n",
            "=================================================================\n",
            "dense_3 (Dense)              (None, 90)                93150     \n",
            "_________________________________________________________________\n",
            "dense_4 (Dense)              (None, 1)                 91        \n",
            "=================================================================\n",
            "Total params: 93,241\n",
            "Trainable params: 93,241\n",
            "Non-trainable params: 0\n",
            "_________________________________________________________________\n"
          ],
          "name": "stdout"
        }
      ]
    },
    {
      "cell_type": "markdown",
      "metadata": {
        "id": "nhWABLEywtBJ",
        "colab_type": "text"
      },
      "source": [
        "## Training Model"
      ]
    },
    {
      "cell_type": "code",
      "metadata": {
        "id": "wlA0Mizd37jP",
        "colab_type": "code",
        "outputId": "728ea409-51dd-4cdd-f34b-1c996e177c42",
        "colab": {
          "base_uri": "https://localhost:8080/",
          "height": 734
        }
      },
      "source": [
        "wide_history = model.fit(X_train, y_train,\n",
        "                         validation_split=0.2, \n",
        "                         epochs=20, \n",
        "                         verbose=1)"
      ],
      "execution_count": 43,
      "outputs": [
        {
          "output_type": "stream",
          "text": [
            "Train on 27117 samples, validate on 6780 samples\n",
            "Epoch 1/20\n",
            "27117/27117 [==============================] - 6s 215us/sample - loss: 0.3255 - auc_2: 0.5578 - val_loss: 0.3087 - val_auc_2: 0.6124\n",
            "Epoch 2/20\n",
            "27117/27117 [==============================] - 3s 129us/sample - loss: 0.2881 - auc_2: 0.6538 - val_loss: 0.2936 - val_auc_2: 0.6504\n",
            "Epoch 3/20\n",
            "27117/27117 [==============================] - 3s 129us/sample - loss: 0.2735 - auc_2: 0.6977 - val_loss: 0.2905 - val_auc_2: 0.6595\n",
            "Epoch 4/20\n",
            "27117/27117 [==============================] - 3s 125us/sample - loss: 0.2617 - auc_2: 0.7314 - val_loss: 0.2916 - val_auc_2: 0.6520\n",
            "Epoch 5/20\n",
            "27117/27117 [==============================] - 4s 131us/sample - loss: 0.2528 - auc_2: 0.7574 - val_loss: 0.2889 - val_auc_2: 0.6823\n",
            "Epoch 6/20\n",
            "27117/27117 [==============================] - 3s 128us/sample - loss: 0.2445 - auc_2: 0.7803 - val_loss: 0.2753 - val_auc_2: 0.7126\n",
            "Epoch 7/20\n",
            "27117/27117 [==============================] - 3s 125us/sample - loss: 0.2359 - auc_2: 0.8029 - val_loss: 0.2724 - val_auc_2: 0.7146\n",
            "Epoch 8/20\n",
            "27117/27117 [==============================] - 3s 126us/sample - loss: 0.2285 - auc_2: 0.8214 - val_loss: 0.2763 - val_auc_2: 0.7128\n",
            "Epoch 9/20\n",
            "27117/27117 [==============================] - 4s 131us/sample - loss: 0.2223 - auc_2: 0.8357 - val_loss: 0.2800 - val_auc_2: 0.7034\n",
            "Epoch 10/20\n",
            "27117/27117 [==============================] - 3s 126us/sample - loss: 0.2147 - auc_2: 0.8505 - val_loss: 0.2699 - val_auc_2: 0.7310\n",
            "Epoch 11/20\n",
            "27117/27117 [==============================] - 3s 125us/sample - loss: 0.2089 - auc_2: 0.8634 - val_loss: 0.2731 - val_auc_2: 0.7316\n",
            "Epoch 12/20\n",
            "27117/27117 [==============================] - 3s 123us/sample - loss: 0.2019 - auc_2: 0.8760 - val_loss: 0.2732 - val_auc_2: 0.7349\n",
            "Epoch 13/20\n",
            "27117/27117 [==============================] - 3s 123us/sample - loss: 0.1960 - auc_2: 0.8859 - val_loss: 0.2731 - val_auc_2: 0.7401\n",
            "Epoch 14/20\n",
            "27117/27117 [==============================] - 3s 127us/sample - loss: 0.1903 - auc_2: 0.8939 - val_loss: 0.2876 - val_auc_2: 0.7404\n",
            "Epoch 15/20\n",
            "27117/27117 [==============================] - 3s 127us/sample - loss: 0.1843 - auc_2: 0.9027 - val_loss: 0.2801 - val_auc_2: 0.7387\n",
            "Epoch 16/20\n",
            "27117/27117 [==============================] - 3s 126us/sample - loss: 0.1781 - auc_2: 0.9108 - val_loss: 0.2765 - val_auc_2: 0.7442\n",
            "Epoch 17/20\n",
            "27117/27117 [==============================] - 3s 125us/sample - loss: 0.1726 - auc_2: 0.9176 - val_loss: 0.2857 - val_auc_2: 0.7397\n",
            "Epoch 18/20\n",
            "27117/27117 [==============================] - 3s 126us/sample - loss: 0.1676 - auc_2: 0.9225 - val_loss: 0.2831 - val_auc_2: 0.7371\n",
            "Epoch 19/20\n",
            "27117/27117 [==============================] - 3s 125us/sample - loss: 0.1619 - auc_2: 0.9284 - val_loss: 0.2945 - val_auc_2: 0.7382\n",
            "Epoch 20/20\n",
            "27117/27117 [==============================] - 4s 130us/sample - loss: 0.1574 - auc_2: 0.9328 - val_loss: 0.3242 - val_auc_2: 0.7380\n"
          ],
          "name": "stdout"
        }
      ]
    },
    {
      "cell_type": "markdown",
      "metadata": {
        "id": "ZmTUZuICwyQR",
        "colab_type": "text"
      },
      "source": [
        "## Model History"
      ]
    },
    {
      "cell_type": "code",
      "metadata": {
        "id": "eGwIqrvZvVfL",
        "colab_type": "code",
        "colab": {
          "base_uri": "https://localhost:8080/",
          "height": 849
        },
        "outputId": "b483b297-2d33-413b-c597-d94ef7a5ae7e"
      },
      "source": [
        "plot_history(history=wide_history, \n",
        "             model_name='Wide CNN\\n90 Neurons, ReLU, No Regularization', \n",
        "             loss_name='Binary Crossentropy')"
      ],
      "execution_count": 84,
      "outputs": [
        {
          "output_type": "display_data",
          "data": {
            "image/png": "[encoded data removed]",
            "text/plain": [
              "<Figure size 864x432 with 1 Axes>"
            ]
          },
          "metadata": {
            "tags": []
          }
        },
        {
          "output_type": "display_data",
          "data": {
            "image/png": "[encoded data removed]",
            "text/plain": [
              "<Figure size 864x432 with 1 Axes>"
            ]
          },
          "metadata": {
            "tags": []
          }
        }
      ]
    },
    {
      "cell_type": "markdown",
      "metadata": {
        "id": "TYxnJedSxIrb",
        "colab_type": "text"
      },
      "source": [
        "## Evaluation Results\n",
        "\n",
        "**I HAVE EVALUATED THIS MODEL ON A SUBSET OF THE TRAINING DATA**.\n",
        "\n",
        "I expect there will be a lot of hyperparameter tuning on this model going forward, so it does not make sense to evaluate it on the test data. \n",
        "\n",
        "Instead, I am going to extract 20% of randomly selected samples from the training set and evaluate the results on it. "
      ]
    },
    {
      "cell_type": "code",
      "metadata": {
        "id": "CSyqZcqt30m5",
        "colab_type": "code",
        "colab": {}
      },
      "source": [
        "_, X_val, _, y_val = train_test_split(X_train, y_train,   # Splitting training data\n",
        "                                      stratify=y_train,\n",
        "                                      random_state=42,    # Different from previous split\n",
        "                                      shuffle=True, \n",
        "                                      test_size=0.2)"
      ],
      "execution_count": 0,
      "outputs": []
    },
    {
      "cell_type": "code",
      "metadata": {
        "id": "WljQ-JOb9v1K",
        "colab_type": "code",
        "colab": {
          "base_uri": "https://localhost:8080/",
          "height": 1000
        },
        "outputId": "75184d35-55ea-48ea-a78f-8adf4ab0f429"
      },
      "source": [
        "get_classification_result(model=model, X_test=X_val, y_true=y_val,\n",
        "                          model_name='WNN \\n90 Units, ReLu, 20 Epochs, No Reg')"
      ],
      "execution_count": 151,
      "outputs": [
        {
          "output_type": "stream",
          "text": [
            "CLASSIFICATION REPORT\n",
            "                  precision    recall  f1-score   support\n",
            "\n",
            "Regular Consumer       0.96      0.96      0.96      6202\n",
            "           Thief       0.56      0.60      0.58       578\n",
            "\n",
            "        accuracy                           0.93      6780\n",
            "       macro avg       0.76      0.78      0.77      6780\n",
            "    weighted avg       0.93      0.93      0.93      6780\n",
            "\n",
            "\n",
            "\n",
            "CONFUSION MATRIX\n",
            "\n",
            "\n",
            "ROC CURVE\n"
          ],
          "name": "stdout"
        },
        {
          "output_type": "display_data",
          "data": {
            "image/png": "[encoded data removed]",
            "text/plain": [
              "<Figure size 576x576 with 2 Axes>"
            ]
          },
          "metadata": {
            "tags": []
          }
        },
        {
          "output_type": "display_data",
          "data": {
            "image/png": "[encoded data removed]",
            "text/plain": [
              "<Figure size 576x576 with 1 Axes>"
            ]
          },
          "metadata": {
            "tags": []
          }
        }
      ]
    }
  ]
}