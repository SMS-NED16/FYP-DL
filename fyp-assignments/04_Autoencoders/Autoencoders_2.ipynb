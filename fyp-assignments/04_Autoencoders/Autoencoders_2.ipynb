{
  "nbformat": 4,
  "nbformat_minor": 0,
  "metadata": {
    "colab": {
      "name": "Autoencoders-2.ipynb",
      "provenance": [],
      "collapsed_sections": []
    },
    "kernelspec": {
      "name": "python3",
      "display_name": "Python 3"
    },
    "accelerator": "GPU"
  },
  "cells": [
    {
      "cell_type": "markdown",
      "metadata": {
        "id": "BLJ42h_ugemL",
        "colab_type": "text"
      },
      "source": [
        "# Autoencoders Tutorial - Part 2 - Convolutional Autoencoder and Image Denoising\n",
        "\n",
        "## Convolutional Autoencoder\n",
        "When working with image data, it is common to use convolutional neural networks to create encoding and decoding functions. According to the the author, they just tend to perform better."
      ]
    },
    {
      "cell_type": "code",
      "metadata": {
        "id": "lZnDOr6EgjZ8",
        "colab_type": "code",
        "colab": {
          "base_uri": "https://localhost:8080/",
          "height": 80
        },
        "outputId": "e3977797-45e0-4167-ed18-9e13b00a1718"
      },
      "source": [
        "from keras.layers import Input, Dense, Conv2D, MaxPooling2D, UpSampling2D\n",
        "from keras.models import Model\n",
        "import matplotlib.pyplot as plt\n",
        "import numpy as np"
      ],
      "execution_count": 1,
      "outputs": [
        {
          "output_type": "stream",
          "text": [
            "Using TensorFlow backend.\n"
          ],
          "name": "stderr"
        },
        {
          "output_type": "display_data",
          "data": {
            "text/html": [
              "<p style=\"color: red;\">\n",
              "The default version of TensorFlow in Colab will soon switch to TensorFlow 2.x.<br>\n",
              "We recommend you <a href=\"https://www.tensorflow.org/guide/migrate\" target=\"_blank\">upgrade</a> now \n",
              "or ensure your notebook will continue to use TensorFlow 1.x via the <code>%tensorflow_version 1.x</code> magic:\n",
              "<a href=\"https://colab.research.google.com/notebooks/tensorflow_version.ipynb\" target=\"_blank\">more info</a>.</p>\n"
            ],
            "text/plain": [
              "<IPython.core.display.HTML object>"
            ]
          },
          "metadata": {
            "tags": []
          }
        }
      ]
    },
    {
      "cell_type": "code",
      "metadata": {
        "id": "83bXSOjrgvab",
        "colab_type": "code",
        "colab": {}
      },
      "source": [
        "# When working with Conv2D, dont' need to flatten inputs\n",
        "input_img = Input(shape=(28, 28, 1)) # Channels last"
      ],
      "execution_count": 0,
      "outputs": []
    },
    {
      "cell_type": "code",
      "metadata": {
        "id": "obn0H9Ngg5HR",
        "colab_type": "code",
        "colab": {}
      },
      "source": [
        "# First Conv-Pooling set\n",
        "x = Conv2D(16, (3, 3), activation='relu', padding='same')(input_img)\n",
        "x = MaxPooling2D((2, 2), padding='same')(x)\n",
        "\n",
        "# Second Conv-Pooling set\n",
        "x = Conv2D(8, (3, 3), activation='relu', padding='same')(x)\n",
        "x = MaxPooling2D((2, 2), padding='same')(x)\n",
        "\n",
        "# Third Conv-Pooling set - last pooling layer O/P is encoder O/P\n",
        "x = Conv2D(8, (3, 3), activation='relu', padding='same')(x)\n",
        "encoded = MaxPooling2D((2, 2), padding='same')(x)"
      ],
      "execution_count": 0,
      "outputs": []
    },
    {
      "cell_type": "code",
      "metadata": {
        "id": "6nZFQeb4g9RD",
        "colab_type": "code",
        "colab": {}
      },
      "source": [
        "# Decoder begins here\n",
        "x = Conv2D(8, (3, 3), activation='relu', padding='same')(encoded)\n",
        "x = UpSampling2D((2, 2))(x)\n",
        "\n",
        "# Second Conv2D and UpSampler\n",
        "x = Conv2D(8, (3, 3), activation='relu', padding='same')(x)\n",
        "x = UpSampling2D((2, 2))(x)\n",
        "\n",
        "# Third Conv2D and UpSampler\n",
        "x = Conv2D(16, (3, 3), activation='relu')(x)\n",
        "x = UpSampling2D((2, 2))(x)\n",
        "\n",
        "# Final decoder result \n",
        "decoded = Conv2D(1, (3, 3), activation='sigmoid', padding='same')(x)"
      ],
      "execution_count": 0,
      "outputs": []
    },
    {
      "cell_type": "code",
      "metadata": {
        "id": "Z0ztqbmjhDjM",
        "colab_type": "code",
        "colab": {}
      },
      "source": [
        "conv_autoencoder = Model(input_img, decoded)\n",
        "conv_autoencoder.compile(optimizer='adam', loss='binary_crossentropy')"
      ],
      "execution_count": 0,
      "outputs": []
    },
    {
      "cell_type": "markdown",
      "metadata": {
        "id": "YxReFxpQhE8Y",
        "colab_type": "text"
      },
      "source": [
        "Data preprocessing will once again be a little different. Flattening no longer required. Input are in the form `(samples, channels, width, height)`. Must be reshaped accordingly.\n",
        "\n",
        "Images will still be normalized by `MaxAbs` scaling."
      ]
    },
    {
      "cell_type": "code",
      "metadata": {
        "id": "KU8ERmBchH4L",
        "colab_type": "code",
        "colab": {}
      },
      "source": [
        "from keras.datasets import mnist"
      ],
      "execution_count": 0,
      "outputs": []
    },
    {
      "cell_type": "code",
      "metadata": {
        "id": "_BhROpuehLJY",
        "colab_type": "code",
        "outputId": "9fdbf2d7-3f29-4859-bf18-231d1be350b8",
        "colab": {
          "base_uri": "https://localhost:8080/",
          "height": 51
        }
      },
      "source": [
        "(x_train, _), (x_test, _) = mnist.load_data()"
      ],
      "execution_count": 0,
      "outputs": [
        {
          "output_type": "stream",
          "text": [
            "Downloading data from https://s3.amazonaws.com/img-datasets/mnist.npz\n",
            "11493376/11490434 [==============================] - 0s 0us/step\n"
          ],
          "name": "stdout"
        }
      ]
    },
    {
      "cell_type": "code",
      "metadata": {
        "id": "-10s_dnAhMcI",
        "colab_type": "code",
        "colab": {}
      },
      "source": [
        "x_train = x_train.astype('float32') / 255.\n",
        "x_test = x_test.astype('float32') / 255.\n",
        "\n",
        "x_train = np.reshape(x_train, (len(x_train), 28, 28, 1))\n",
        "x_test = np.reshape(x_test, (len(x_test), 28, 28, 1))"
      ],
      "execution_count": 0,
      "outputs": []
    },
    {
      "cell_type": "code",
      "metadata": {
        "id": "X0w4WGKahN6v",
        "colab_type": "code",
        "outputId": "14059ddb-d2c0-4779-db9b-afa4de3d135b",
        "colab": {
          "base_uri": "https://localhost:8080/",
          "height": 51
        }
      },
      "source": [
        "print(x_train.shape)\n",
        "print(x_test.shape)"
      ],
      "execution_count": 0,
      "outputs": [
        {
          "output_type": "stream",
          "text": [
            "(60000, 28, 28, 1)\n",
            "(10000, 28, 28, 1)\n"
          ],
          "name": "stdout"
        }
      ]
    },
    {
      "cell_type": "code",
      "metadata": {
        "id": "PxafFXgRhQrT",
        "colab_type": "code",
        "colab": {}
      },
      "source": [
        "conv_autoenc_history = conv_autoencoder.fit(x_train, x_train,\n",
        "                                           epochs=50, \n",
        "                                           batch_size=128, \n",
        "                                           shuffle=True,\n",
        "                                           validation_data=(x_test, x_test))"
      ],
      "execution_count": 0,
      "outputs": []
    },
    {
      "cell_type": "code",
      "metadata": {
        "id": "eIXukSnOhS3e",
        "colab_type": "code",
        "colab": {}
      },
      "source": [
        "def plot_training_history(history):\n",
        "    hist = history.history\n",
        "    loss = hist['loss']\n",
        "    val_loss = hist['val_loss']\n",
        "    epochs = range(1, len(loss) + 1)\n",
        "        \n",
        "    plt.plot(epochs, loss, 'r-', label='Loss')\n",
        "    plt.plot(epochs, val_loss, 'b-', label='Validation Loss')\n",
        "    plt.xlabel('Epochs')\n",
        "    plt.ylabel('Loss')\n",
        "    plt.title('Training History')\n",
        "    plt.grid(True)\n",
        "    plt.legend()"
      ],
      "execution_count": 0,
      "outputs": []
    },
    {
      "cell_type": "code",
      "metadata": {
        "id": "HelSZuw4igWV",
        "colab_type": "code",
        "outputId": "c2a21e79-3e41-4cc0-a076-da6e3cbffb99",
        "colab": {
          "base_uri": "https://localhost:8080/",
          "height": 295
        }
      },
      "source": [
        "plot_training_history(conv_autoenc_history)"
      ],
      "execution_count": 0,
      "outputs": [
        {
          "output_type": "display_data",
          "data": {
            "image/png": "[encoded data removed]",
            "text/plain": [
              "<Figure size 432x288 with 1 Axes>"
            ]
          },
          "metadata": {
            "tags": []
          }
        }
      ]
    },
    {
      "cell_type": "code",
      "metadata": {
        "id": "ctj7f5a8ijXW",
        "colab_type": "code",
        "outputId": "7dc92a80-f9c9-48d2-9908-f4285992ba23",
        "colab": {
          "base_uri": "https://localhost:8080/",
          "height": 68
        }
      },
      "source": [
        "print(f\"Final Training Loss: {conv_autoenc_history.history['loss'][-1]}\")\n",
        "print(f\"\\nFinal Validation Loss: {conv_autoenc_history.history['val_loss'][-1]}\")"
      ],
      "execution_count": 0,
      "outputs": [
        {
          "output_type": "stream",
          "text": [
            "Final Training Loss: 0.09045226176182429\n",
            "\n",
            "Final Validation Loss: 0.08914827568531036\n"
          ],
          "name": "stdout"
        }
      ]
    },
    {
      "cell_type": "markdown",
      "metadata": {
        "id": "sNC1ZeYnjhqi",
        "colab_type": "text"
      },
      "source": [
        "The final validation loss is the lowest of all models tested so far, even with only 50 epochs."
      ]
    },
    {
      "cell_type": "code",
      "metadata": {
        "id": "PO1CeyKHjxR_",
        "colab_type": "code",
        "colab": {}
      },
      "source": [
        "decoded_imgs = conv_autoencoder.predict(x_test)"
      ],
      "execution_count": 0,
      "outputs": []
    },
    {
      "cell_type": "code",
      "metadata": {
        "id": "h9GWXcNUjztJ",
        "colab_type": "code",
        "outputId": "59285a7b-595f-4236-ab9e-fe07919bbc3c",
        "colab": {
          "base_uri": "https://localhost:8080/",
          "height": 248
        }
      },
      "source": [
        "n = 10\n",
        "plt.figure(figsize=(20, 4))\n",
        "for i in range(1, n):\n",
        "    # display original\n",
        "    ax = plt.subplot(2, n, i)\n",
        "    plt.imshow(x_test[i].reshape(28, 28))\n",
        "    plt.gray()\n",
        "    ax.get_xaxis().set_visible(False)\n",
        "    ax.get_yaxis().set_visible(False)\n",
        "\n",
        "    # display reconstruction\n",
        "    ax = plt.subplot(2, n, i + n)\n",
        "    plt.imshow(decoded_imgs[i].reshape(28, 28))\n",
        "    plt.gray()\n",
        "    ax.get_xaxis().set_visible(False)\n",
        "    ax.get_yaxis().set_visible(False)\n",
        "plt.show()"
      ],
      "execution_count": 0,
      "outputs": [
        {
          "output_type": "display_data",
          "data": {
            "image/png": "[encoded data removed]",
            "text/plain": [
              "<Figure size 1440x288 with 18 Axes>"
            ]
          },
          "metadata": {
            "tags": []
          }
        }
      ]
    },
    {
      "cell_type": "markdown",
      "metadata": {
        "id": "a4u-FSmhj4yH",
        "colab_type": "text"
      },
      "source": [
        "Almost perfect reconstruction of the original images."
      ]
    },
    {
      "cell_type": "code",
      "metadata": {
        "id": "VPg6XA7BkdMz",
        "colab_type": "code",
        "colab": {}
      },
      "source": [
        "# Create a model that only encodes images\n",
        "encoder = Model(input_img, encoded)\n",
        "\n",
        "# Use this model to transform the input images into encoded representations\n",
        "encoded_imgs = encoder.predict(x_test)"
      ],
      "execution_count": 0,
      "outputs": []
    },
    {
      "cell_type": "code",
      "metadata": {
        "id": "ag-wRvtOkiP3",
        "colab_type": "code",
        "outputId": "f27f3c58-da0f-44ee-ac4d-def181d7dbeb",
        "colab": {
          "base_uri": "https://localhost:8080/",
          "height": 469
        }
      },
      "source": [
        "# Plot encoded images\n",
        "n = 10\n",
        "plt.figure(figsize=(20, 8))\n",
        "for i in range(1, n):\n",
        "    ax = plt.subplot(1, n, i)\n",
        "    plt.imshow(encoded_imgs[i].reshape(4, 4 * 8).T)\n",
        "    plt.gray()\n",
        "    ax.get_xaxis().set_visible(False)\n",
        "    ax.get_yaxis().set_visible(False)\n",
        "plt.show()"
      ],
      "execution_count": 0,
      "outputs": [
        {
          "output_type": "display_data",
          "data": {
            "image/png": "[encoded data removed]",
            "text/plain": [
              "<Figure size 1440x576 with 9 Axes>"
            ]
          },
          "metadata": {
            "tags": []
          }
        }
      ]
    },
    {
      "cell_type": "markdown",
      "metadata": {
        "id": "GA4NWQXmk7_K",
        "colab_type": "text"
      },
      "source": [
        "This demonstrates the extent of the compression/encoding operation learnt by the autoencoder. Each 784 pixel image has been compressed to a `(4, 4, 8)` dimensional image, which is visualized by reshaping the image to a `(4, 32)` dimensional image."
      ]
    },
    {
      "cell_type": "markdown",
      "metadata": {
        "id": "9aUoCNqXl7bZ",
        "colab_type": "text"
      },
      "source": [
        "## Image Denoising\n",
        "\n",
        "Applying Gaussian noise to the original MNIST digits, and then creating an autoencoder that will learn how to encode and decode these noisy images to denoised versions. "
      ]
    },
    {
      "cell_type": "code",
      "metadata": {
        "id": "f7k5-r6CmYzs",
        "colab_type": "code",
        "colab": {}
      },
      "source": [
        "from keras.datasets import mnist\n",
        "import numpy as np"
      ],
      "execution_count": 0,
      "outputs": []
    },
    {
      "cell_type": "code",
      "metadata": {
        "id": "oG4K5i_NmbTi",
        "colab_type": "code",
        "colab": {
          "base_uri": "https://localhost:8080/",
          "height": 51
        },
        "outputId": "c0d20c55-e86c-45dc-a96c-0fda58daaa8c"
      },
      "source": [
        "(x_train, _), (x_test, _) = mnist.load_data()"
      ],
      "execution_count": 3,
      "outputs": [
        {
          "output_type": "stream",
          "text": [
            "Downloading data from https://s3.amazonaws.com/img-datasets/mnist.npz\n",
            "11493376/11490434 [==============================] - 1s 0us/step\n"
          ],
          "name": "stdout"
        }
      ]
    },
    {
      "cell_type": "code",
      "metadata": {
        "id": "2YyAdDsxmdUg",
        "colab_type": "code",
        "colab": {}
      },
      "source": [
        "x_train = x_train.astype('float32') / 255.\n",
        "x_test = x_test.astype('float32') / 255.\n",
        "\n",
        "x_train = np.reshape(x_train, (len(x_train), 28, 28, 1))\n",
        "x_test = np.reshape(x_test, (len(x_test), 28, 28, 1))"
      ],
      "execution_count": 0,
      "outputs": []
    },
    {
      "cell_type": "code",
      "metadata": {
        "id": "IoJnUvq7mouc",
        "colab_type": "code",
        "colab": {}
      },
      "source": [
        "# Adding Gaussian noise to each training and test image\n",
        "noise_factor = 0.5\n",
        "x_train_noisy = x_train + noise_factor * np.random.normal(loc=0.0, scale=1.0, size=x_train.shape)\n",
        "\n",
        "# Fixed an error here - noise factor TIMES random noise, not +\n",
        "x_test_noisy = x_test + noise_factor * np.random.normal(loc=0.0, scale=1.0, size=x_test.shape)\n",
        "\n",
        "# Limit all values to between 0 and 1\n",
        "x_train_noisy = np.clip(x_train_noisy, 0., 1.)\n",
        "x_test_noisy = np.clip(x_test_noisy, 0., 1.)"
      ],
      "execution_count": 0,
      "outputs": []
    },
    {
      "cell_type": "code",
      "metadata": {
        "id": "e5WAZZhGm565",
        "colab_type": "code",
        "outputId": "8b8534c1-4950-4605-9660-2607baa8a63b",
        "colab": {
          "base_uri": "https://localhost:8080/",
          "height": 129
        }
      },
      "source": [
        "# Visualize the noisy digits\n",
        "n = 10\n",
        "plt.figure(figsize=(20, 2))\n",
        "for i in range(1, n):\n",
        "    ax = plt.subplot(1, n, i)\n",
        "    plt.imshow(x_test_noisy[i].reshape(28, 28))\n",
        "    plt.gray()\n",
        "    ax.get_xaxis().set_visible(False)\n",
        "    ax.get_yaxis().set_visible(False)\n",
        "plt.show()"
      ],
      "execution_count": 6,
      "outputs": [
        {
          "output_type": "display_data",
          "data": {
            "image/png": "[encoded data removed]",
            "text/plain": [
              "<Figure size 1440x144 with 9 Axes>"
            ]
          },
          "metadata": {
            "tags": []
          }
        }
      ]
    },
    {
      "cell_type": "markdown",
      "metadata": {
        "id": "2saidkYWMD3Q",
        "colab_type": "text"
      },
      "source": [
        "In an earlier version of this notebook, I made the mistake of adding the random noise matrix to the pixel values instead of multiplying them. This resulted in images that were less clear than the ones in the tutorial.\n",
        "\n",
        "After I fixed the typo, the images match those in the original tutorial.\n",
        "\n",
        "TLDR: Don't mix up your operators."
      ]
    },
    {
      "cell_type": "code",
      "metadata": {
        "id": "4PfZmlHam_0D",
        "colab_type": "code",
        "colab": {
          "base_uri": "https://localhost:8080/",
          "height": 105
        },
        "outputId": "1ea68e39-8ee4-44f5-b4e0-5298df75dc32"
      },
      "source": [
        "# Input layer is still the same\n",
        "input_img = Input(shape=(28, 28, 1))"
      ],
      "execution_count": 7,
      "outputs": [
        {
          "output_type": "stream",
          "text": [
            "WARNING:tensorflow:From /usr/local/lib/python3.6/dist-packages/keras/backend/tensorflow_backend.py:66: The name tf.get_default_graph is deprecated. Please use tf.compat.v1.get_default_graph instead.\n",
            "\n",
            "WARNING:tensorflow:From /usr/local/lib/python3.6/dist-packages/keras/backend/tensorflow_backend.py:541: The name tf.placeholder is deprecated. Please use tf.compat.v1.placeholder instead.\n",
            "\n"
          ],
          "name": "stdout"
        }
      ]
    },
    {
      "cell_type": "code",
      "metadata": {
        "id": "eeotXmcbn1ls",
        "colab_type": "code",
        "colab": {
          "base_uri": "https://localhost:8080/",
          "height": 105
        },
        "outputId": "ce53e86f-adb5-4d06-ee51-550a4abb7419"
      },
      "source": [
        "# Using more filters per layer to improve quality of reconstructed image\n",
        "x = Conv2D(32, (3, 3), activation='relu', padding='same')(input_img)\n",
        "x = MaxPooling2D((2, 2), padding='same')(x)\n",
        "x = Conv2D(32, (3, 3), activation='relu', padding='same')(x)\n",
        "encoded = MaxPooling2D((2, 2), padding='same')(x)"
      ],
      "execution_count": 8,
      "outputs": [
        {
          "output_type": "stream",
          "text": [
            "WARNING:tensorflow:From /usr/local/lib/python3.6/dist-packages/keras/backend/tensorflow_backend.py:4432: The name tf.random_uniform is deprecated. Please use tf.random.uniform instead.\n",
            "\n",
            "WARNING:tensorflow:From /usr/local/lib/python3.6/dist-packages/keras/backend/tensorflow_backend.py:4267: The name tf.nn.max_pool is deprecated. Please use tf.nn.max_pool2d instead.\n",
            "\n"
          ],
          "name": "stdout"
        }
      ]
    },
    {
      "cell_type": "code",
      "metadata": {
        "id": "w0SHUSbwoH8k",
        "colab_type": "code",
        "colab": {}
      },
      "source": [
        "# Representation of the encoder is (7, 7, 32)"
      ],
      "execution_count": 0,
      "outputs": []
    },
    {
      "cell_type": "code",
      "metadata": {
        "id": "2NY1CjnsoL8z",
        "colab_type": "code",
        "colab": {
          "base_uri": "https://localhost:8080/",
          "height": 71
        },
        "outputId": "ce0aaeca-e64b-49d2-90f0-a0bbc88d154a"
      },
      "source": [
        "# Decoder begins here \n",
        "x = Conv2D(32, (3, 3), activation='relu', padding='same')(encoded)\n",
        "x = UpSampling2D((2, 2))(x)\n",
        "x = Conv2D(32, (3, 3), activation='relu', padding='same')(x)\n",
        "x = UpSampling2D((2, 2))(x)\n",
        "decoded = Conv2D(1, (3, 3), activation='sigmoid', padding='same')(x)"
      ],
      "execution_count": 10,
      "outputs": [
        {
          "output_type": "stream",
          "text": [
            "WARNING:tensorflow:From /usr/local/lib/python3.6/dist-packages/keras/backend/tensorflow_backend.py:2239: The name tf.image.resize_nearest_neighbor is deprecated. Please use tf.compat.v1.image.resize_nearest_neighbor instead.\n",
            "\n"
          ],
          "name": "stdout"
        }
      ]
    },
    {
      "cell_type": "code",
      "metadata": {
        "id": "grznnju0oec8",
        "colab_type": "code",
        "colab": {
          "base_uri": "https://localhost:8080/",
          "height": 156
        },
        "outputId": "1d546548-198d-426c-a7a2-e74f5bd5213c"
      },
      "source": [
        "# Compile \n",
        "denoising_autoencoder = Model(input_img, decoded)\n",
        "denoising_autoencoder.compile(optimizer='adam', loss='binary_crossentropy')"
      ],
      "execution_count": 11,
      "outputs": [
        {
          "output_type": "stream",
          "text": [
            "WARNING:tensorflow:From /usr/local/lib/python3.6/dist-packages/keras/optimizers.py:793: The name tf.train.Optimizer is deprecated. Please use tf.compat.v1.train.Optimizer instead.\n",
            "\n",
            "WARNING:tensorflow:From /usr/local/lib/python3.6/dist-packages/keras/backend/tensorflow_backend.py:3657: The name tf.log is deprecated. Please use tf.math.log instead.\n",
            "\n",
            "WARNING:tensorflow:From /usr/local/lib/python3.6/dist-packages/tensorflow_core/python/ops/nn_impl.py:183: where (from tensorflow.python.ops.array_ops) is deprecated and will be removed in a future version.\n",
            "Instructions for updating:\n",
            "Use tf.where in 2.0, which has the same broadcast rule as np.where\n"
          ],
          "name": "stdout"
        }
      ]
    },
    {
      "cell_type": "code",
      "metadata": {
        "id": "xsCyTYFxocGW",
        "colab_type": "code",
        "colab": {}
      },
      "source": [
        "# Train for 100 epochs\n",
        "denoising_history = denoising_autoencoder.fit(x_train_noisy, x_train, \n",
        "                                  epochs=100,\n",
        "                                  batch_size=128,\n",
        "                                  shuffle=True,\n",
        "                                  validation_data=(x_test_noisy, x_test))"
      ],
      "execution_count": 0,
      "outputs": []
    },
    {
      "cell_type": "code",
      "metadata": {
        "id": "Zzl9MD1UpAYb",
        "colab_type": "code",
        "colab": {}
      },
      "source": [
        "# How does the model encode and then decode the noisy images?\n",
        "decoded_imgs = denoising_autoencoder.predict(x_test_noisy)"
      ],
      "execution_count": 0,
      "outputs": []
    },
    {
      "cell_type": "code",
      "metadata": {
        "id": "xNp-uWBMp46t",
        "colab_type": "code",
        "outputId": "2e07685f-0f8e-45a2-fbe9-1225806ee343",
        "colab": {
          "base_uri": "https://localhost:8080/",
          "height": 295
        }
      },
      "source": [
        "# Training history \n",
        "plot_training_history(denoising_history)"
      ],
      "execution_count": 16,
      "outputs": [
        {
          "output_type": "display_data",
          "data": {
            "image/png": "[encoded data removed]",
            "text/plain": [
              "<Figure size 432x288 with 1 Axes>"
            ]
          },
          "metadata": {
            "tags": []
          }
        }
      ]
    },
    {
      "cell_type": "markdown",
      "metadata": {
        "id": "UYQIMat4sI0g",
        "colab_type": "text"
      },
      "source": [
        "~Underfitting? There is a large difference between the final validation and  training losses. Validation loss is high, training loss is low. High bias?~\n",
        "\n",
        "Fixed."
      ]
    },
    {
      "cell_type": "code",
      "metadata": {
        "id": "r9I3tmrYo58q",
        "colab_type": "code",
        "outputId": "f0067045-01a6-4f3c-abac-886a9a4a0cb1",
        "colab": {
          "base_uri": "https://localhost:8080/",
          "height": 248
        }
      },
      "source": [
        "# Display original noisy and decoded/denoised images \n",
        "n = 10\n",
        "plt.figure(figsize=(20, 4))\n",
        "for i in range(1, n):\n",
        "    # display original\n",
        "    ax = plt.subplot(2, n, i)\n",
        "    plt.imshow(x_test_noisy[i].reshape(28, 28))\n",
        "    plt.gray()\n",
        "    ax.get_xaxis().set_visible(False)\n",
        "    ax.get_yaxis().set_visible(False)\n",
        "\n",
        "    # display reconstruction\n",
        "    ax = plt.subplot(2, n, i + n)\n",
        "    plt.imshow(decoded_imgs[i].reshape(28, 28))\n",
        "    plt.gray()\n",
        "    ax.get_xaxis().set_visible(False)\n",
        "    ax.get_yaxis().set_visible(False)\n",
        "plt.show()"
      ],
      "execution_count": 17,
      "outputs": [
        {
          "output_type": "display_data",
          "data": {
            "image/png": "[encoded data removed]",
            "text/plain": [
              "<Figure size 1440x288 with 18 Axes>"
            ]
          },
          "metadata": {
            "tags": []
          }
        }
      ]
    },
    {
      "cell_type": "markdown",
      "metadata": {
        "id": "ejfkcMO9qahV",
        "colab_type": "text"
      },
      "source": [
        "~This clearly did not work. What did I do wrong?~\n",
        "Don't add a random noise matrix to the test images. Scale their pixel values by the random noise using elementwise multiplication."
      ]
    }
  ]
}