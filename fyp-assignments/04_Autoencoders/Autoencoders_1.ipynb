{
 "cells": [
  {
   "cell_type": "markdown",
   "metadata": {},
   "source": [
    "# Autoencoders 1 (Non-CNN model"
   ]
  },
  {
   "cell_type": "markdown",
   "metadata": {},
   "source": [
    "## Simplest Autoencoder"
   ]
  },
  {
   "cell_type": "code",
   "execution_count": 85,
   "metadata": {},
   "outputs": [],
   "source": [
    "from tensorflow.keras.layers import Input, Dense\n",
    "from tensorflow.keras.models import Model"
   ]
  },
  {
   "cell_type": "code",
   "execution_count": 86,
   "metadata": {},
   "outputs": [],
   "source": [
    "from tensorflow.keras.datasets import mnist\n",
    "import numpy as np"
   ]
  },
  {
   "cell_type": "code",
   "execution_count": 87,
   "metadata": {},
   "outputs": [],
   "source": [
    "import matplotlib.pyplot as plt\n",
    "%matplotlib inline"
   ]
  },
  {
   "cell_type": "code",
   "execution_count": 88,
   "metadata": {},
   "outputs": [],
   "source": [
    "# The size of our encoded representation\n",
    "encoding_dim = 32 \n",
    "\n",
    "# Input placeholder - array of 784 pixels\n",
    "input_img = Input(shape=(784,))"
   ]
  },
  {
   "cell_type": "markdown",
   "metadata": {},
   "source": [
    "The `encoding_dim` defines the dimension of the output to be produced by our encoding/compression function.\n",
    "\n",
    "In this case, we are creating an encoder that will compress a 784 px array to a 32 dimensional array. "
   ]
  },
  {
   "cell_type": "code",
   "execution_count": 89,
   "metadata": {},
   "outputs": [],
   "source": [
    "\"\"\"`encoded` is a densely connected layer with `relu` activation that will map `input_img` to reduced dimensionality defined by `encoding_dim`\"\"\"\n",
    "encoded = Dense(encoding_dim, activation='relu')(input_img)\n",
    "\n",
    "\n",
    "\"\"\"`decoded` is another densely connected layer with `sigmoid` activation that will map the output of the `encoded` layer (i.e. the compressed/encoded representation of `input_img` to a 784-dimensional array)\"\"\"\n",
    "decoded = Dense(784, activation='sigmoid')(encoded)"
   ]
  },
  {
   "cell_type": "markdown",
   "metadata": {},
   "source": [
    "Have used the `keras` functional API to define the inputs, outputs, and activations for encoding and decoding layers. Will now combine both of them into a single model called `autoencoder` whose first layer (input) is `input_img` and last layer is `decoded`.\n",
    "\n",
    "The model will therefore map the `input_img` to a decoded reconstruction. Don't need to specify `encoder` as a hidden layer because we have already defined it as the input to the `decoded` layer."
   ]
  },
  {
   "cell_type": "code",
   "execution_count": 90,
   "metadata": {},
   "outputs": [],
   "source": [
    "autoencoder = Model(input_img, decoded)"
   ]
  },
  {
   "cell_type": "markdown",
   "metadata": {},
   "source": [
    "### Separate `encoder` Model\n",
    "This model will simply map the input image to its encoded or compressed representation."
   ]
  },
  {
   "cell_type": "code",
   "execution_count": 91,
   "metadata": {},
   "outputs": [],
   "source": [
    "encoder = Model(input_img, encoded)"
   ]
  },
  {
   "cell_type": "markdown",
   "metadata": {},
   "source": [
    "### Separate `decoder` Model\n",
    "This model will map a compressed representation of an input with dimensionality of `encoding_dim` to a decompressed output representation."
   ]
  },
  {
   "cell_type": "code",
   "execution_count": 92,
   "metadata": {},
   "outputs": [],
   "source": [
    "# create a placeholder for an encoded (32-dimensional) input\n",
    "encoded_input = Input(shape=(encoding_dim,))\n",
    "\n",
    "# retrieve the last layer of the autoencoder model\n",
    "decoder_layer = autoencoder.layers[-1]\n",
    "\n",
    "# create the decoder model\n",
    "decoder = Model(encoded_input, decoder_layer(encoded_input))"
   ]
  },
  {
   "cell_type": "markdown",
   "metadata": {},
   "source": [
    "### Training `autoencoder`\n",
    "\n",
    "Training the autoencoder to reconstruct MNIST digits. "
   ]
  },
  {
   "cell_type": "code",
   "execution_count": 93,
   "metadata": {},
   "outputs": [],
   "source": [
    "# per-pixel binary crossentropy loss\n",
    "autoencoder.compile(optimizer='adam', loss='binary_crossentropy')"
   ]
  },
  {
   "cell_type": "code",
   "execution_count": 94,
   "metadata": {},
   "outputs": [],
   "source": [
    "# Preprocessing the input data - don't need labels because semi-supervised learning\n",
    "(x_train, _), (x_test, _) = mnist.load_data()"
   ]
  },
  {
   "cell_type": "code",
   "execution_count": 95,
   "metadata": {},
   "outputs": [
    {
     "name": "stdout",
     "output_type": "stream",
     "text": [
      "(60000, 784)\n",
      "(10000, 784)\n"
     ]
    }
   ],
   "source": [
    "# Normalize\n",
    "x_train = x_train.astype('float32') / 255.\n",
    "x_test = x_test.astype('float32') / 255.\n",
    "\n",
    "# Reshape to 784-dimensional vector\n",
    "x_train = x_train.reshape((len(x_train), np.prod(x_train.shape[1:])))\n",
    "x_test = x_test.reshape((len(x_test), np.prod(x_test.shape[1:])))\n",
    "\n",
    "# Print shapes\n",
    "print(x_train.shape)\n",
    "print(x_test.shape)"
   ]
  },
  {
   "cell_type": "markdown",
   "metadata": {},
   "source": [
    "### Training for 50 Epochs\n",
    "\n",
    "The target for each sample is the sample itself - the 'right answer' is the original image. The ideal autoencoder will be one that will embed 784 px image to 32 px and then reconstruct the original 784 px from the 32 px embedding.\n",
    "\n",
    "This is also why `x_test` is passed as the label/target for the validation data."
   ]
  },
  {
   "cell_type": "code",
   "execution_count": 96,
   "metadata": {},
   "outputs": [
    {
     "name": "stdout",
     "output_type": "stream",
     "text": [
      "Train on 60000 samples, validate on 10000 samples\n",
      "Epoch 1/50\n",
      "60000/60000 [==============================] - 3s 48us/sample - loss: 0.2786 - val_loss: 0.1958\n",
      "Epoch 2/50\n",
      "60000/60000 [==============================] - 2s 40us/sample - loss: 0.1737 - val_loss: 0.1545\n",
      "Epoch 3/50\n",
      "60000/60000 [==============================] - 3s 43us/sample - loss: 0.1449 - val_loss: 0.1335\n",
      "Epoch 4/50\n",
      "60000/60000 [==============================] - 3s 44us/sample - loss: 0.1277 - val_loss: 0.1200\n",
      "Epoch 5/50\n",
      "60000/60000 [==============================] - 2s 41us/sample - loss: 0.1169 - val_loss: 0.1115\n",
      "Epoch 6/50\n",
      "60000/60000 [==============================] - 2s 39us/sample - loss: 0.1099 - val_loss: 0.1057\n",
      "Epoch 7/50\n",
      "60000/60000 [==============================] - 3s 50us/sample - loss: 0.1049 - val_loss: 0.1016\n",
      "Epoch 8/50\n",
      "60000/60000 [==============================] - 2s 40us/sample - loss: 0.1013 - val_loss: 0.0986\n",
      "Epoch 9/50\n",
      "60000/60000 [==============================] - 2s 39us/sample - loss: 0.0988 - val_loss: 0.0965\n",
      "Epoch 10/50\n",
      "60000/60000 [==============================] - 2s 36us/sample - loss: 0.0971 - val_loss: 0.0951\n",
      "Epoch 11/50\n",
      "60000/60000 [==============================] - 2s 36us/sample - loss: 0.0960 - val_loss: 0.0942\n",
      "Epoch 12/50\n",
      "60000/60000 [==============================] - 2s 36us/sample - loss: 0.0952 - val_loss: 0.0936\n",
      "Epoch 13/50\n",
      "60000/60000 [==============================] - 2s 36us/sample - loss: 0.0947 - val_loss: 0.0932\n",
      "Epoch 14/50\n",
      "60000/60000 [==============================] - 2s 36us/sample - loss: 0.0944 - val_loss: 0.0929\n",
      "Epoch 15/50\n",
      "60000/60000 [==============================] - 2s 36us/sample - loss: 0.0941 - val_loss: 0.0928\n",
      "Epoch 16/50\n",
      "60000/60000 [==============================] - 2s 36us/sample - loss: 0.0939 - val_loss: 0.0926\n",
      "Epoch 17/50\n",
      "60000/60000 [==============================] - 2s 37us/sample - loss: 0.0937 - val_loss: 0.0925\n",
      "Epoch 18/50\n",
      "60000/60000 [==============================] - 2s 37us/sample - loss: 0.0936 - val_loss: 0.0924\n",
      "Epoch 19/50\n",
      "60000/60000 [==============================] - 2s 36us/sample - loss: 0.0935 - val_loss: 0.0923\n",
      "Epoch 20/50\n",
      "60000/60000 [==============================] - 2s 37us/sample - loss: 0.0934 - val_loss: 0.0922\n",
      "Epoch 21/50\n",
      "60000/60000 [==============================] - 2s 37us/sample - loss: 0.0934 - val_loss: 0.0922\n",
      "Epoch 22/50\n",
      "60000/60000 [==============================] - 2s 37us/sample - loss: 0.0933 - val_loss: 0.0920\n",
      "Epoch 23/50\n",
      "60000/60000 [==============================] - 2s 37us/sample - loss: 0.0932 - val_loss: 0.0920\n",
      "Epoch 24/50\n",
      "60000/60000 [==============================] - 2s 36us/sample - loss: 0.0932 - val_loss: 0.0921\n",
      "Epoch 25/50\n",
      "60000/60000 [==============================] - 2s 38us/sample - loss: 0.0931 - val_loss: 0.0921\n",
      "Epoch 26/50\n",
      "60000/60000 [==============================] - 2s 36us/sample - loss: 0.0931 - val_loss: 0.0920\n",
      "Epoch 27/50\n",
      "60000/60000 [==============================] - 2s 37us/sample - loss: 0.0931 - val_loss: 0.0919\n",
      "Epoch 28/50\n",
      "60000/60000 [==============================] - 2s 37us/sample - loss: 0.0930 - val_loss: 0.0920\n",
      "Epoch 29/50\n",
      "60000/60000 [==============================] - 2s 37us/sample - loss: 0.0930 - val_loss: 0.0918\n",
      "Epoch 30/50\n",
      "60000/60000 [==============================] - 2s 37us/sample - loss: 0.0930 - val_loss: 0.0918\n",
      "Epoch 31/50\n",
      "60000/60000 [==============================] - 2s 38us/sample - loss: 0.0929 - val_loss: 0.0918\n",
      "Epoch 32/50\n",
      "60000/60000 [==============================] - 2s 38us/sample - loss: 0.0929 - val_loss: 0.0918\n",
      "Epoch 33/50\n",
      "60000/60000 [==============================] - 2s 37us/sample - loss: 0.0929 - val_loss: 0.0918\n",
      "Epoch 34/50\n",
      "60000/60000 [==============================] - 2s 37us/sample - loss: 0.0929 - val_loss: 0.0918\n",
      "Epoch 35/50\n",
      "60000/60000 [==============================] - 2s 38us/sample - loss: 0.0929 - val_loss: 0.0918\n",
      "Epoch 36/50\n",
      "60000/60000 [==============================] - 2s 38us/sample - loss: 0.0928 - val_loss: 0.0917\n",
      "Epoch 37/50\n",
      "60000/60000 [==============================] - 3s 43us/sample - loss: 0.0928 - val_loss: 0.0917\n",
      "Epoch 38/50\n",
      "60000/60000 [==============================] - 3s 49us/sample - loss: 0.0928 - val_loss: 0.0918\n",
      "Epoch 39/50\n",
      "60000/60000 [==============================] - 3s 44us/sample - loss: 0.0928 - val_loss: 0.0917\n",
      "Epoch 40/50\n",
      "60000/60000 [==============================] - 3s 44us/sample - loss: 0.0928 - val_loss: 0.0918\n",
      "Epoch 41/50\n",
      "60000/60000 [==============================] - 3s 42us/sample - loss: 0.0928 - val_loss: 0.0917\n",
      "Epoch 42/50\n",
      "60000/60000 [==============================] - 2s 41us/sample - loss: 0.0928 - val_loss: 0.0917\n",
      "Epoch 43/50\n",
      "60000/60000 [==============================] - 2s 39us/sample - loss: 0.0927 - val_loss: 0.0917\n",
      "Epoch 44/50\n",
      "60000/60000 [==============================] - 2s 40us/sample - loss: 0.0927 - val_loss: 0.0916\n",
      "Epoch 45/50\n",
      "60000/60000 [==============================] - 2s 38us/sample - loss: 0.0927 - val_loss: 0.0917\n",
      "Epoch 46/50\n",
      "60000/60000 [==============================] - 3s 43us/sample - loss: 0.0927 - val_loss: 0.0917\n",
      "Epoch 47/50\n",
      "60000/60000 [==============================] - 3s 44us/sample - loss: 0.0927 - val_loss: 0.0916\n",
      "Epoch 48/50\n",
      "60000/60000 [==============================] - 3s 43us/sample - loss: 0.0927 - val_loss: 0.0917\n",
      "Epoch 49/50\n",
      "60000/60000 [==============================] - 3s 42us/sample - loss: 0.0927 - val_loss: 0.0916\n",
      "Epoch 50/50\n",
      "60000/60000 [==============================] - 3s 43us/sample - loss: 0.0926 - val_loss: 0.0916\n"
     ]
    }
   ],
   "source": [
    "autoenc_history = autoencoder.fit(x_train, x_train, \n",
    "               epochs=50, \n",
    "               batch_size=256, \n",
    "               shuffle=True, \n",
    "               validation_data=(x_test, x_test))"
   ]
  },
  {
   "cell_type": "markdown",
   "metadata": {},
   "source": [
    "I had to switch the model's optimizer from `adadelta` to `adam` for the loss to converge. With `adadelta`, the loss hovered around 0.68 - 0.69, and decreased almost linearly."
   ]
  },
  {
   "cell_type": "code",
   "execution_count": 99,
   "metadata": {},
   "outputs": [],
   "source": [
    "def plot_training_history(history):\n",
    "    hist = history.history\n",
    "    loss = hist['loss']\n",
    "    val_loss = hist['val_loss']\n",
    "    epochs = range(1, len(loss) + 1)\n",
    "        \n",
    "    plt.plot(epochs, loss, 'r-', label='Loss')\n",
    "    plt.plot(epochs, val_loss, 'b-', label='Validation Loss')\n",
    "    plt.xlabel('Epochs')\n",
    "    plt.ylabel('Loss')\n",
    "    plt.title('Training History')\n",
    "    plt.grid(True)\n",
    "    plt.legend()"
   ]
  },
  {
   "cell_type": "code",
   "execution_count": 100,
   "metadata": {},
   "outputs": [
    {
     "data": {
      "image/png": "[encoded data removed]",
      "text/plain": [
       "<Figure size 432x288 with 1 Axes>"
      ]
     },
     "metadata": {},
     "output_type": "display_data"
    }
   ],
   "source": [
    "plot_training_history(autoenc_history)"
   ]
  },
  {
   "cell_type": "code",
   "execution_count": 101,
   "metadata": {},
   "outputs": [],
   "source": [
    "# Encode the images \n",
    "encoded_imgs = encoder.predict(x_test)\n",
    "\n",
    "# Decode the encoded images\n",
    "decoded_imgs = decoder.predict(encoded_imgs)"
   ]
  },
  {
   "cell_type": "code",
   "execution_count": 102,
   "metadata": {},
   "outputs": [
    {
     "data": {
      "image/png": "[encoded data removed]",
      "text/plain": [
       "<Figure size 1440x288 with 20 Axes>"
      ]
     },
     "metadata": {},
     "output_type": "display_data"
    }
   ],
   "source": [
    "# Use matplotlib to plot the images\n",
    "\n",
    "# Number of images to plot\n",
    "n = 10 \n",
    "\n",
    "plt.figure(figsize=(20, 4))\n",
    "\n",
    "for i in range(n):\n",
    "    # Display original\n",
    "    ax = plt.subplot(2, n, i + 1)\n",
    "    \n",
    "    plt.imshow(x_test[i].reshape(28, 28))\n",
    "    plt.gray()\n",
    "    \n",
    "    ax.get_xaxis().set_visible(False)\n",
    "    ax.get_yaxis().set_visible(False)\n",
    "    \n",
    "    \n",
    "    # Display reconstructions\n",
    "    ax = plt.subplot(2, n, i + 1 + n)\n",
    "    plt.imshow(decoded_imgs[i].reshape(28, 28))\n",
    "    plt.gray()\n",
    "    ax.get_xaxis().set_visible(False)\n",
    "    ax.get_yaxis().set_visible(False)\n",
    "\n",
    "plt.show()"
   ]
  },
  {
   "cell_type": "markdown",
   "metadata": {},
   "source": [
    "### Interpretation\n",
    "\n",
    "The autoencoder works very well. Using 60,000 training images, it was able to learn how to compress the images to a 32-dimensional representation, and reconstruct them from the same representation with minimal loss."
   ]
  },
  {
   "cell_type": "markdown",
   "metadata": {},
   "source": [
    "## Sparsity Constraint\n",
    "\n",
    "\n",
    "In original example, used the dimensionality of the encoded dimension (and thus the size of the hidden layer) to constrain the size of the encoding. \n",
    "\n",
    "Another way of making representations more compact is to add a sparsity constraint - only a subset of the units in a hidden layer will 'fire' at a time. \n",
    "\n",
    "**How is this different from `dropout`?**"
   ]
  },
  {
   "cell_type": "code",
   "execution_count": 103,
   "metadata": {},
   "outputs": [],
   "source": [
    "from tensorflow.keras import regularizers"
   ]
  },
  {
   "cell_type": "code",
   "execution_count": 104,
   "metadata": {},
   "outputs": [],
   "source": [
    "# Still encoding the 784-dimensional vectors into 32-dimensional vectors \n",
    "encoding_dim = 32\n",
    "\n",
    "# Input is still 784-dimensional vector (flattened 28 by 28)\n",
    "input_img = Input(shape=(784, ))"
   ]
  },
  {
   "cell_type": "code",
   "execution_count": 105,
   "metadata": {},
   "outputs": [],
   "source": [
    "# Add a Dense layer with L1 activity regularizer\n",
    "encoded = Dense(encoding_dim, activation='relu', \n",
    "               activity_regularizer=regularizers.l1(10e-5))(input_img)"
   ]
  },
  {
   "cell_type": "code",
   "execution_count": 106,
   "metadata": {},
   "outputs": [],
   "source": [
    "# Decoder layer is still the same\n",
    "decoded = Dense(784, activation='sigmoid')(encoded)"
   ]
  },
  {
   "cell_type": "code",
   "execution_count": 107,
   "metadata": {},
   "outputs": [],
   "source": [
    "# Create an autoencoder with L1 regularizer\n",
    "autoencoder = Model(input_img, decoded)"
   ]
  },
  {
   "cell_type": "code",
   "execution_count": 109,
   "metadata": {},
   "outputs": [],
   "source": [
    "autoencoder.compile(optimizer='adam', loss='binary_crossentropy')"
   ]
  },
  {
   "cell_type": "code",
   "execution_count": 110,
   "metadata": {
    "scrolled": true
   },
   "outputs": [
    {
     "name": "stdout",
     "output_type": "stream",
     "text": [
      "Train on 60000 samples, validate on 10000 samples\n",
      "Epoch 1/100\n",
      "60000/60000 [==============================] - 3s 49us/sample - loss: 0.2846 - val_loss: 0.1976\n",
      "Epoch 2/100\n",
      "60000/60000 [==============================] - 3s 47us/sample - loss: 0.1776 - val_loss: 0.1613\n",
      "Epoch 3/100\n",
      "60000/60000 [==============================] - 3s 47us/sample - loss: 0.1527 - val_loss: 0.1426\n",
      "Epoch 4/100\n",
      "60000/60000 [==============================] - 3s 43us/sample - loss: 0.1374 - val_loss: 0.1303\n",
      "Epoch 5/100\n",
      "60000/60000 [==============================] - 3s 44us/sample - loss: 0.1274 - val_loss: 0.1224\n",
      "Epoch 6/100\n",
      "60000/60000 [==============================] - 3s 43us/sample - loss: 0.1207 - val_loss: 0.1168\n",
      "Epoch 7/100\n",
      "60000/60000 [==============================] - 3s 45us/sample - loss: 0.1159 - val_loss: 0.1128\n",
      "Epoch 8/100\n",
      "60000/60000 [==============================] - 3s 46us/sample - loss: 0.1125 - val_loss: 0.1100\n",
      "Epoch 9/100\n",
      "60000/60000 [==============================] - 3s 46us/sample - loss: 0.1103 - val_loss: 0.1082\n",
      "Epoch 10/100\n",
      "60000/60000 [==============================] - 3s 46us/sample - loss: 0.1088 - val_loss: 0.1069\n",
      "Epoch 11/100\n",
      "60000/60000 [==============================] - 3s 47us/sample - loss: 0.1076 - val_loss: 0.1060\n",
      "Epoch 12/100\n",
      "60000/60000 [==============================] - 2s 41us/sample - loss: 0.1068 - val_loss: 0.1052\n",
      "Epoch 13/100\n",
      "60000/60000 [==============================] - 2s 40us/sample - loss: 0.1061 - val_loss: 0.1046\n",
      "Epoch 14/100\n",
      "60000/60000 [==============================] - 2s 41us/sample - loss: 0.1055 - val_loss: 0.1040\n",
      "Epoch 15/100\n",
      "60000/60000 [==============================] - 2s 40us/sample - loss: 0.1050 - val_loss: 0.1036\n",
      "Epoch 16/100\n",
      "60000/60000 [==============================] - 2s 41us/sample - loss: 0.1046 - val_loss: 0.1032\n",
      "Epoch 17/100\n",
      "60000/60000 [==============================] - 2s 41us/sample - loss: 0.1042 - val_loss: 0.1028\n",
      "Epoch 18/100\n",
      "60000/60000 [==============================] - 2s 40us/sample - loss: 0.1038 - val_loss: 0.1025\n",
      "Epoch 19/100\n",
      "60000/60000 [==============================] - 2s 40us/sample - loss: 0.1035 - val_loss: 0.1022\n",
      "Epoch 20/100\n",
      "60000/60000 [==============================] - 3s 47us/sample - loss: 0.1032 - val_loss: 0.1019\n",
      "Epoch 21/100\n",
      "60000/60000 [==============================] - 2s 40us/sample - loss: 0.1029 - val_loss: 0.1016\n",
      "Epoch 22/100\n",
      "60000/60000 [==============================] - 2s 40us/sample - loss: 0.1027 - val_loss: 0.1014\n",
      "Epoch 23/100\n",
      "60000/60000 [==============================] - 3s 44us/sample - loss: 0.1024 - val_loss: 0.1012\n",
      "Epoch 24/100\n",
      "60000/60000 [==============================] - 3s 44us/sample - loss: 0.1022 - val_loss: 0.1010\n",
      "Epoch 25/100\n",
      "60000/60000 [==============================] - 3s 47us/sample - loss: 0.1020 - val_loss: 0.1008\n",
      "Epoch 26/100\n",
      "60000/60000 [==============================] - 3s 44us/sample - loss: 0.1018 - val_loss: 0.1006\n",
      "Epoch 27/100\n",
      "60000/60000 [==============================] - 3s 49us/sample - loss: 0.1016 - val_loss: 0.1004\n",
      "Epoch 28/100\n",
      "60000/60000 [==============================] - 3s 50us/sample - loss: 0.1015 - val_loss: 0.1003\n",
      "Epoch 29/100\n",
      "60000/60000 [==============================] - 2s 40us/sample - loss: 0.1013 - val_loss: 0.1003\n",
      "Epoch 30/100\n",
      "60000/60000 [==============================] - 3s 44us/sample - loss: 0.1011 - val_loss: 0.1000\n",
      "Epoch 31/100\n",
      "60000/60000 [==============================] - 3s 45us/sample - loss: 0.1010 - val_loss: 0.0999\n",
      "Epoch 32/100\n",
      "60000/60000 [==============================] - 3s 47us/sample - loss: 0.1009 - val_loss: 0.0998\n",
      "Epoch 33/100\n",
      "60000/60000 [==============================] - 3s 47us/sample - loss: 0.1007 - val_loss: 0.0996\n",
      "Epoch 34/100\n",
      "60000/60000 [==============================] - 2s 41us/sample - loss: 0.1006 - val_loss: 0.0995\n",
      "Epoch 35/100\n",
      "60000/60000 [==============================] - 3s 52us/sample - loss: 0.1005 - val_loss: 0.0994\n",
      "Epoch 36/100\n",
      "60000/60000 [==============================] - 3s 49us/sample - loss: 0.1004 - val_loss: 0.0993\n",
      "Epoch 37/100\n",
      "60000/60000 [==============================] - 3s 43us/sample - loss: 0.1003 - val_loss: 0.0992\n",
      "Epoch 38/100\n",
      "60000/60000 [==============================] - 3s 48us/sample - loss: 0.1001 - val_loss: 0.0991\n",
      "Epoch 39/100\n",
      "60000/60000 [==============================] - 3s 46us/sample - loss: 0.1000 - val_loss: 0.0989\n",
      "Epoch 40/100\n",
      "60000/60000 [==============================] - 3s 51us/sample - loss: 0.0999 - val_loss: 0.0990\n",
      "Epoch 41/100\n",
      "60000/60000 [==============================] - 3s 54us/sample - loss: 0.0999 - val_loss: 0.0988\n",
      "Epoch 42/100\n",
      "60000/60000 [==============================] - 3s 54us/sample - loss: 0.0998 - val_loss: 0.0987\n",
      "Epoch 43/100\n",
      "60000/60000 [==============================] - 3s 43us/sample - loss: 0.0997 - val_loss: 0.0986\n",
      "Epoch 44/100\n",
      "60000/60000 [==============================] - 2s 37us/sample - loss: 0.0996 - val_loss: 0.0985\n",
      "Epoch 45/100\n",
      "60000/60000 [==============================] - 2s 37us/sample - loss: 0.0995 - val_loss: 0.0984\n",
      "Epoch 46/100\n",
      "60000/60000 [==============================] - 2s 37us/sample - loss: 0.0994 - val_loss: 0.0984\n",
      "Epoch 47/100\n",
      "60000/60000 [==============================] - 2s 36us/sample - loss: 0.0993 - val_loss: 0.0983\n",
      "Epoch 48/100\n",
      "60000/60000 [==============================] - 2s 36us/sample - loss: 0.0993 - val_loss: 0.0982\n",
      "Epoch 49/100\n",
      "60000/60000 [==============================] - 2s 36us/sample - loss: 0.0992 - val_loss: 0.0981\n",
      "Epoch 50/100\n",
      "60000/60000 [==============================] - 2s 36us/sample - loss: 0.0991 - val_loss: 0.0981\n",
      "Epoch 51/100\n",
      "60000/60000 [==============================] - 3s 45us/sample - loss: 0.0991 - val_loss: 0.0980\n",
      "Epoch 52/100\n",
      "60000/60000 [==============================] - 3s 48us/sample - loss: 0.0990 - val_loss: 0.0980\n",
      "Epoch 53/100\n",
      "60000/60000 [==============================] - 3s 47us/sample - loss: 0.0989 - val_loss: 0.0979\n",
      "Epoch 54/100\n",
      "60000/60000 [==============================] - 3s 45us/sample - loss: 0.0989 - val_loss: 0.0979\n",
      "Epoch 55/100\n",
      "60000/60000 [==============================] - 3s 50us/sample - loss: 0.0988 - val_loss: 0.0978\n",
      "Epoch 56/100\n",
      "60000/60000 [==============================] - 3s 54us/sample - loss: 0.0987 - val_loss: 0.0977\n",
      "Epoch 57/100\n",
      "60000/60000 [==============================] - 3s 48us/sample - loss: 0.0987 - val_loss: 0.0976\n",
      "Epoch 58/100\n",
      "60000/60000 [==============================] - 3s 44us/sample - loss: 0.0986 - val_loss: 0.0977\n",
      "Epoch 59/100\n",
      "60000/60000 [==============================] - 3s 46us/sample - loss: 0.0986 - val_loss: 0.0976\n",
      "Epoch 60/100\n",
      "60000/60000 [==============================] - 3s 46us/sample - loss: 0.0985 - val_loss: 0.0976\n",
      "Epoch 61/100\n",
      "60000/60000 [==============================] - 3s 45us/sample - loss: 0.0985 - val_loss: 0.0975\n",
      "Epoch 62/100\n",
      "60000/60000 [==============================] - 3s 43us/sample - loss: 0.0984 - val_loss: 0.0974\n",
      "Epoch 63/100\n",
      "60000/60000 [==============================] - 3s 45us/sample - loss: 0.0984 - val_loss: 0.0974\n",
      "Epoch 64/100\n",
      "60000/60000 [==============================] - 3s 46us/sample - loss: 0.0983 - val_loss: 0.0973\n",
      "Epoch 65/100\n",
      "60000/60000 [==============================] - 3s 49us/sample - loss: 0.0983 - val_loss: 0.0974\n",
      "Epoch 66/100\n",
      "60000/60000 [==============================] - 3s 49us/sample - loss: 0.0982 - val_loss: 0.0973\n",
      "Epoch 67/100\n",
      "60000/60000 [==============================] - 3s 45us/sample - loss: 0.0982 - val_loss: 0.0972\n",
      "Epoch 68/100\n",
      "60000/60000 [==============================] - 3s 48us/sample - loss: 0.0981 - val_loss: 0.0973\n",
      "Epoch 69/100\n",
      "60000/60000 [==============================] - 3s 45us/sample - loss: 0.0981 - val_loss: 0.0971\n",
      "Epoch 70/100\n",
      "60000/60000 [==============================] - 3s 47us/sample - loss: 0.0981 - val_loss: 0.0971\n",
      "Epoch 71/100\n",
      "60000/60000 [==============================] - 3s 42us/sample - loss: 0.0980 - val_loss: 0.0970\n",
      "Epoch 72/100\n",
      "60000/60000 [==============================] - 2s 41us/sample - loss: 0.0980 - val_loss: 0.0969\n",
      "Epoch 73/100\n",
      "60000/60000 [==============================] - 2s 39us/sample - loss: 0.0979 - val_loss: 0.0971\n",
      "Epoch 74/100\n",
      "60000/60000 [==============================] - 3s 45us/sample - loss: 0.0979 - val_loss: 0.0969\n",
      "Epoch 75/100\n",
      "60000/60000 [==============================] - 3s 45us/sample - loss: 0.0978 - val_loss: 0.0969\n"
     ]
    },
    {
     "name": "stdout",
     "output_type": "stream",
     "text": [
      "Epoch 76/100\n",
      "60000/60000 [==============================] - 2s 42us/sample - loss: 0.0978 - val_loss: 0.0969\n",
      "Epoch 77/100\n",
      "60000/60000 [==============================] - 2s 37us/sample - loss: 0.0978 - val_loss: 0.0968\n",
      "Epoch 78/100\n",
      "60000/60000 [==============================] - 3s 42us/sample - loss: 0.0977 - val_loss: 0.0968\n",
      "Epoch 79/100\n",
      "60000/60000 [==============================] - 2s 41us/sample - loss: 0.0977 - val_loss: 0.0968\n",
      "Epoch 80/100\n",
      "60000/60000 [==============================] - 2s 40us/sample - loss: 0.0977 - val_loss: 0.0968\n",
      "Epoch 81/100\n",
      "60000/60000 [==============================] - 3s 43us/sample - loss: 0.0976 - val_loss: 0.0966\n",
      "Epoch 82/100\n",
      "60000/60000 [==============================] - 2s 42us/sample - loss: 0.0976 - val_loss: 0.0966\n",
      "Epoch 83/100\n",
      "60000/60000 [==============================] - 2s 41us/sample - loss: 0.0976 - val_loss: 0.0966\n",
      "Epoch 84/100\n",
      "60000/60000 [==============================] - 3s 43us/sample - loss: 0.0975 - val_loss: 0.0966\n",
      "Epoch 85/100\n",
      "60000/60000 [==============================] - 2s 40us/sample - loss: 0.0975 - val_loss: 0.0966\n",
      "Epoch 86/100\n",
      "60000/60000 [==============================] - 2s 37us/sample - loss: 0.0975 - val_loss: 0.0965\n",
      "Epoch 87/100\n",
      "60000/60000 [==============================] - 3s 42us/sample - loss: 0.0974 - val_loss: 0.0965\n",
      "Epoch 88/100\n",
      "60000/60000 [==============================] - 3s 43us/sample - loss: 0.0974 - val_loss: 0.0964\n",
      "Epoch 89/100\n",
      "60000/60000 [==============================] - 3s 43us/sample - loss: 0.0974 - val_loss: 0.0964\n",
      "Epoch 90/100\n",
      "60000/60000 [==============================] - 2s 41us/sample - loss: 0.0974 - val_loss: 0.0964\n",
      "Epoch 91/100\n",
      "60000/60000 [==============================] - 2s 41us/sample - loss: 0.0973 - val_loss: 0.0964\n",
      "Epoch 92/100\n",
      "60000/60000 [==============================] - 2s 37us/sample - loss: 0.0973 - val_loss: 0.0963\n",
      "Epoch 93/100\n",
      "60000/60000 [==============================] - 2s 37us/sample - loss: 0.0973 - val_loss: 0.0963\n",
      "Epoch 94/100\n",
      "60000/60000 [==============================] - 2s 37us/sample - loss: 0.0972 - val_loss: 0.0963\n",
      "Epoch 95/100\n",
      "60000/60000 [==============================] - 2s 37us/sample - loss: 0.0972 - val_loss: 0.0962\n",
      "Epoch 96/100\n",
      "60000/60000 [==============================] - 2s 36us/sample - loss: 0.0972 - val_loss: 0.0963\n",
      "Epoch 97/100\n",
      "60000/60000 [==============================] - 2s 37us/sample - loss: 0.0972 - val_loss: 0.0962\n",
      "Epoch 98/100\n",
      "60000/60000 [==============================] - 2s 37us/sample - loss: 0.0971 - val_loss: 0.0962\n",
      "Epoch 99/100\n",
      "60000/60000 [==============================] - 2s 37us/sample - loss: 0.0971 - val_loss: 0.0962\n",
      "Epoch 100/100\n",
      "60000/60000 [==============================] - 2s 37us/sample - loss: 0.0971 - val_loss: 0.0961\n"
     ]
    }
   ],
   "source": [
    "sparse_autoenc_history = autoencoder.fit(x_train, x_train, \n",
    "               epochs=100, \n",
    "               batch_size=256, \n",
    "               shuffle=True, \n",
    "               validation_data=(x_test, x_test))"
   ]
  },
  {
   "cell_type": "markdown",
   "metadata": {},
   "source": [
    "Because we added L1 regularization to the encoder, we can train the model for more epochs without overfitting. This means we can obtain comparable performance to the original model. "
   ]
  },
  {
   "cell_type": "code",
   "execution_count": 111,
   "metadata": {},
   "outputs": [
    {
     "data": {
      "image/png": "[encoded data removed]",
      "text/plain": [
       "<Figure size 432x288 with 1 Axes>"
      ]
     },
     "metadata": {},
     "output_type": "display_data"
    }
   ],
   "source": [
    "plot_training_historyistory_history(sparse_autoenc_history)"
   ]
  },
  {
   "cell_type": "code",
   "execution_count": 115,
   "metadata": {},
   "outputs": [],
   "source": [
    "# Repeating the encoding/decoding process with test set\n",
    "encoded_imgs = encoder.predict(x_test)\n",
    "decoded_imgs = decoder.predict(encoded_imgs)"
   ]
  },
  {
   "cell_type": "code",
   "execution_count": 116,
   "metadata": {},
   "outputs": [
    {
     "data": {
      "image/png": "[encoded data removed]",
      "text/plain": [
       "<Figure size 1440x288 with 20 Axes>"
      ]
     },
     "metadata": {},
     "output_type": "display_data"
    }
   ],
   "source": [
    "n = 10 \n",
    "\n",
    "plt.figure(figsize=(20, 4))\n",
    "\n",
    "for i in range(n):\n",
    "    # Display original\n",
    "    ax = plt.subplot(2, n, i + 1)\n",
    "    \n",
    "    plt.imshow(x_test[i].reshape(28, 28))\n",
    "    plt.gray()\n",
    "    \n",
    "    ax.get_xaxis().set_visible(False)\n",
    "    ax.get_yaxis().set_visible(False)\n",
    "    \n",
    "    \n",
    "    # Display reconstructions\n",
    "    ax = plt.subplot(2, n, i + 1 + n)\n",
    "    plt.imshow(decoded_imgs[i].reshape(28, 28))\n",
    "    plt.gray()\n",
    "    ax.get_xaxis().set_visible(False)\n",
    "    ax.get_yaxis().set_visible(False)\n",
    "\n",
    "plt.show()"
   ]
  },
  {
   "cell_type": "code",
   "execution_count": 118,
   "metadata": {},
   "outputs": [
    {
     "data": {
      "text/plain": [
       "8.951278"
      ]
     },
     "execution_count": 118,
     "metadata": {},
     "output_type": "execute_result"
    }
   ],
   "source": [
    "encoded_imgs.mean()"
   ]
  },
  {
   "cell_type": "markdown",
   "metadata": {},
   "source": [
    "### Interpretation\n",
    "Even though this approach has a similar loss (and visual results) as the previous model, the encoded representations have greater sparsity - of the 32 floating-point values used to encode each image, a larger proportion are 0. \n",
    "\n",
    "However, the results I got with my implementation don't support his hypothesis - the mean value of the pixels is closer to the blog's value for the representations of the first model rather than the sparse one."
   ]
  },
  {
   "cell_type": "markdown",
   "metadata": {},
   "source": [
    "## Deep Autoencoder\n",
    "\n",
    "Can use multiple layers of encoding and decoding. Such a network is called a deep autoencoder."
   ]
  },
  {
   "cell_type": "code",
   "execution_count": 119,
   "metadata": {},
   "outputs": [],
   "source": [
    "np.random.seed(42)"
   ]
  },
  {
   "cell_type": "code",
   "execution_count": 120,
   "metadata": {},
   "outputs": [],
   "source": [
    "input_img = Input(shape=(784, ))"
   ]
  },
  {
   "cell_type": "code",
   "execution_count": 121,
   "metadata": {},
   "outputs": [],
   "source": [
    "encoded = Dense(128, activation='relu')(input_img)\n",
    "encoded = Dense(64, activation='relu')(encoded)\n",
    "encoded = Dense(32, activation='relu')(encoded)"
   ]
  },
  {
   "cell_type": "code",
   "execution_count": 122,
   "metadata": {},
   "outputs": [],
   "source": [
    "# The input to the first decoder layer is the output of the last encoder layer\n",
    "decoded = Dense(64, activation='relu')(encoded)\n",
    "\n",
    "# Previous layer's output is the input\n",
    "decoded = Dense(128, activation='relu')(decoded)\n",
    "decoded = Dense(784, activation='sigmoid')(decoded)"
   ]
  },
  {
   "cell_type": "code",
   "execution_count": 123,
   "metadata": {},
   "outputs": [],
   "source": [
    "deep_autoencoder = Model(input_img, decoded)"
   ]
  },
  {
   "cell_type": "code",
   "execution_count": 126,
   "metadata": {},
   "outputs": [],
   "source": [
    "# Training without regularization on 100 epochs"
   ]
  },
  {
   "cell_type": "code",
   "execution_count": 129,
   "metadata": {},
   "outputs": [],
   "source": [
    "deep_autoencoder.compile(optimizer='adam', loss='binary_crossentropy')"
   ]
  },
  {
   "cell_type": "code",
   "execution_count": 130,
   "metadata": {
    "scrolled": true
   },
   "outputs": [
    {
     "name": "stdout",
     "output_type": "stream",
     "text": [
      "Train on 60000 samples, validate on 10000 samples\n",
      "Epoch 1/100\n",
      "60000/60000 [==============================] - 5s 76us/sample - loss: 0.2405 - val_loss: 0.1631\n",
      "Epoch 2/100\n",
      "60000/60000 [==============================] - 4s 64us/sample - loss: 0.1480 - val_loss: 0.1362\n",
      "Epoch 3/100\n",
      "60000/60000 [==============================] - 4s 64us/sample - loss: 0.1319 - val_loss: 0.1245\n",
      "Epoch 4/100\n",
      "60000/60000 [==============================] - 4s 65us/sample - loss: 0.1219 - val_loss: 0.1171\n",
      "Epoch 5/100\n",
      "60000/60000 [==============================] - 4s 66us/sample - loss: 0.1148 - val_loss: 0.1112\n",
      "Epoch 6/100\n",
      "60000/60000 [==============================] - 5s 76us/sample - loss: 0.1108 - val_loss: 0.1079\n",
      "Epoch 7/100\n",
      "60000/60000 [==============================] - 5s 79us/sample - loss: 0.1079 - val_loss: 0.1055\n",
      "Epoch 8/100\n",
      "60000/60000 [==============================] - 5s 75us/sample - loss: 0.1053 - val_loss: 0.1029\n",
      "Epoch 9/100\n",
      "60000/60000 [==============================] - 4s 61us/sample - loss: 0.1035 - val_loss: 0.1012\n",
      "Epoch 10/100\n",
      "60000/60000 [==============================] - 4s 65us/sample - loss: 0.1017 - val_loss: 0.0996\n",
      "Epoch 11/100\n",
      "60000/60000 [==============================] - 4s 63us/sample - loss: 0.1001 - val_loss: 0.0984\n",
      "Epoch 12/100\n",
      "60000/60000 [==============================] - 4s 75us/sample - loss: 0.0988 - val_loss: 0.0973\n",
      "Epoch 13/100\n",
      "60000/60000 [==============================] - 5s 77us/sample - loss: 0.0976 - val_loss: 0.0958\n",
      "Epoch 14/100\n",
      "60000/60000 [==============================] - 4s 66us/sample - loss: 0.0963 - val_loss: 0.0953\n",
      "Epoch 15/100\n",
      "60000/60000 [==============================] - 4s 73us/sample - loss: 0.0954 - val_loss: 0.0938\n",
      "Epoch 16/100\n",
      "60000/60000 [==============================] - 5s 80us/sample - loss: 0.0945 - val_loss: 0.0935\n",
      "Epoch 17/100\n",
      "60000/60000 [==============================] - 4s 71us/sample - loss: 0.0937 - val_loss: 0.0922\n",
      "Epoch 18/100\n",
      "60000/60000 [==============================] - 4s 65us/sample - loss: 0.0930 - val_loss: 0.0916\n",
      "Epoch 19/100\n",
      "60000/60000 [==============================] - 4s 63us/sample - loss: 0.0924 - val_loss: 0.0913\n",
      "Epoch 20/100\n",
      "60000/60000 [==============================] - 4s 70us/sample - loss: 0.0918 - val_loss: 0.0907\n",
      "Epoch 21/100\n",
      "60000/60000 [==============================] - 4s 68us/sample - loss: 0.0912 - val_loss: 0.0906\n",
      "Epoch 22/100\n",
      "60000/60000 [==============================] - 4s 72us/sample - loss: 0.0906 - val_loss: 0.0896\n",
      "Epoch 23/100\n",
      "60000/60000 [==============================] - 5s 81us/sample - loss: 0.0902 - val_loss: 0.0895\n",
      "Epoch 24/100\n",
      "60000/60000 [==============================] - 4s 74us/sample - loss: 0.0897 - val_loss: 0.0887\n",
      "Epoch 25/100\n",
      "60000/60000 [==============================] - 5s 75us/sample - loss: 0.0894 - val_loss: 0.0885\n",
      "Epoch 26/100\n",
      "60000/60000 [==============================] - 4s 70us/sample - loss: 0.0889 - val_loss: 0.0878\n",
      "Epoch 27/100\n",
      "60000/60000 [==============================] - 5s 75us/sample - loss: 0.0885 - val_loss: 0.0878\n",
      "Epoch 28/100\n",
      "60000/60000 [==============================] - 4s 74us/sample - loss: 0.0882 - val_loss: 0.0871\n",
      "Epoch 29/100\n",
      "60000/60000 [==============================] - 5s 87us/sample - loss: 0.0878 - val_loss: 0.0872\n",
      "Epoch 30/100\n",
      "60000/60000 [==============================] - 4s 68us/sample - loss: 0.0875 - val_loss: 0.0867\n",
      "Epoch 31/100\n",
      "60000/60000 [==============================] - 4s 68us/sample - loss: 0.0872 - val_loss: 0.0866\n",
      "Epoch 32/100\n",
      "60000/60000 [==============================] - 4s 66us/sample - loss: 0.0869 - val_loss: 0.0862\n",
      "Epoch 33/100\n",
      "60000/60000 [==============================] - 4s 61us/sample - loss: 0.0866 - val_loss: 0.0858\n",
      "Epoch 34/100\n",
      "60000/60000 [==============================] - 4s 59us/sample - loss: 0.0864 - val_loss: 0.0855\n",
      "Epoch 35/100\n",
      "60000/60000 [==============================] - 4s 65us/sample - loss: 0.0861 - val_loss: 0.0857\n",
      "Epoch 36/100\n",
      "60000/60000 [==============================] - 4s 63us/sample - loss: 0.0860 - val_loss: 0.0852\n",
      "Epoch 37/100\n",
      "60000/60000 [==============================] - 4s 66us/sample - loss: 0.0858 - val_loss: 0.0850\n",
      "Epoch 38/100\n",
      "60000/60000 [==============================] - 4s 60us/sample - loss: 0.0856 - val_loss: 0.0850\n",
      "Epoch 39/100\n",
      "60000/60000 [==============================] - 3s 57us/sample - loss: 0.0854 - val_loss: 0.0848\n",
      "Epoch 40/100\n",
      "60000/60000 [==============================] - 4s 61us/sample - loss: 0.0852 - val_loss: 0.0846\n",
      "Epoch 41/100\n",
      "60000/60000 [==============================] - 4s 68us/sample - loss: 0.0851 - val_loss: 0.0847\n",
      "Epoch 42/100\n",
      "60000/60000 [==============================] - 4s 62us/sample - loss: 0.0849 - val_loss: 0.0844\n",
      "Epoch 43/100\n",
      "60000/60000 [==============================] - 4s 62us/sample - loss: 0.0848 - val_loss: 0.0841\n",
      "Epoch 44/100\n",
      "60000/60000 [==============================] - 4s 68us/sample - loss: 0.0847 - val_loss: 0.0843\n",
      "Epoch 45/100\n",
      "60000/60000 [==============================] - 4s 68us/sample - loss: 0.0845 - val_loss: 0.0839\n",
      "Epoch 46/100\n",
      "60000/60000 [==============================] - 4s 66us/sample - loss: 0.0844 - val_loss: 0.0842\n",
      "Epoch 47/100\n",
      "60000/60000 [==============================] - 4s 67us/sample - loss: 0.0844 - val_loss: 0.0840\n",
      "Epoch 48/100\n",
      "60000/60000 [==============================] - 4s 70us/sample - loss: 0.0842 - val_loss: 0.0839\n",
      "Epoch 49/100\n",
      "60000/60000 [==============================] - 5s 75us/sample - loss: 0.0841 - val_loss: 0.0836\n",
      "Epoch 50/100\n",
      "60000/60000 [==============================] - 4s 66us/sample - loss: 0.0840 - val_loss: 0.0834\n",
      "Epoch 51/100\n",
      "60000/60000 [==============================] - 4s 68us/sample - loss: 0.0840 - val_loss: 0.0835\n",
      "Epoch 52/100\n",
      "60000/60000 [==============================] - 4s 65us/sample - loss: 0.0839 - val_loss: 0.0836\n",
      "Epoch 53/100\n",
      "60000/60000 [==============================] - 4s 65us/sample - loss: 0.0838 - val_loss: 0.0833\n",
      "Epoch 54/100\n",
      "60000/60000 [==============================] - 4s 67us/sample - loss: 0.0837 - val_loss: 0.0834\n",
      "Epoch 55/100\n",
      "60000/60000 [==============================] - 4s 66us/sample - loss: 0.0836 - val_loss: 0.0831\n",
      "Epoch 56/100\n",
      "60000/60000 [==============================] - 4s 66us/sample - loss: 0.0836 - val_loss: 0.0832\n",
      "Epoch 57/100\n",
      "60000/60000 [==============================] - 4s 64us/sample - loss: 0.0835 - val_loss: 0.0834\n",
      "Epoch 58/100\n",
      "60000/60000 [==============================] - 4s 67us/sample - loss: 0.0835 - val_loss: 0.0832\n",
      "Epoch 59/100\n",
      "60000/60000 [==============================] - 4s 71us/sample - loss: 0.0834 - val_loss: 0.0830\n",
      "Epoch 60/100\n",
      "60000/60000 [==============================] - 5s 79us/sample - loss: 0.0833 - val_loss: 0.0831\n",
      "Epoch 61/100\n",
      "60000/60000 [==============================] - 4s 72us/sample - loss: 0.0833 - val_loss: 0.0833\n",
      "Epoch 62/100\n",
      "60000/60000 [==============================] - 4s 65us/sample - loss: 0.0832 - val_loss: 0.0830\n",
      "Epoch 63/100\n",
      "60000/60000 [==============================] - 4s 69us/sample - loss: 0.0832 - val_loss: 0.0827\n",
      "Epoch 64/100\n",
      "60000/60000 [==============================] - 4s 66us/sample - loss: 0.0831 - val_loss: 0.0829\n",
      "Epoch 65/100\n",
      "60000/60000 [==============================] - 4s 65us/sample - loss: 0.0831 - val_loss: 0.0826\n",
      "Epoch 66/100\n",
      "60000/60000 [==============================] - 4s 65us/sample - loss: 0.0830 - val_loss: 0.0825\n",
      "Epoch 67/100\n",
      "60000/60000 [==============================] - 4s 62us/sample - loss: 0.0830 - val_loss: 0.0826\n",
      "Epoch 68/100\n",
      "60000/60000 [==============================] - 4s 66us/sample - loss: 0.0829 - val_loss: 0.0830\n",
      "Epoch 69/100\n",
      "60000/60000 [==============================] - 4s 63us/sample - loss: 0.0829 - val_loss: 0.0825\n",
      "Epoch 70/100\n",
      "60000/60000 [==============================] - 4s 65us/sample - loss: 0.0829 - val_loss: 0.0825\n",
      "Epoch 71/100\n",
      "60000/60000 [==============================] - 4s 68us/sample - loss: 0.0828 - val_loss: 0.0826\n",
      "Epoch 72/100\n",
      "60000/60000 [==============================] - 4s 67us/sample - loss: 0.0828 - val_loss: 0.0826\n",
      "Epoch 73/100\n",
      "60000/60000 [==============================] - 4s 62us/sample - loss: 0.0827 - val_loss: 0.0823\n",
      "Epoch 74/100\n",
      "60000/60000 [==============================] - 4s 68us/sample - loss: 0.0827 - val_loss: 0.0824\n",
      "Epoch 75/100\n",
      "60000/60000 [==============================] - 4s 66us/sample - loss: 0.0826 - val_loss: 0.0827\n"
     ]
    },
    {
     "name": "stdout",
     "output_type": "stream",
     "text": [
      "Epoch 76/100\n",
      "60000/60000 [==============================] - 4s 62us/sample - loss: 0.0826 - val_loss: 0.0825\n",
      "Epoch 77/100\n",
      "60000/60000 [==============================] - 4s 61us/sample - loss: 0.0826 - val_loss: 0.0822\n",
      "Epoch 78/100\n",
      "60000/60000 [==============================] - 4s 60us/sample - loss: 0.0825 - val_loss: 0.0823\n",
      "Epoch 79/100\n",
      "60000/60000 [==============================] - 4s 60us/sample - loss: 0.0825 - val_loss: 0.0824\n",
      "Epoch 80/100\n",
      "60000/60000 [==============================] - 4s 59us/sample - loss: 0.0825 - val_loss: 0.0823\n",
      "Epoch 81/100\n",
      "60000/60000 [==============================] - 4s 62us/sample - loss: 0.0824 - val_loss: 0.0822\n",
      "Epoch 82/100\n",
      "60000/60000 [==============================] - 4s 60us/sample - loss: 0.0824 - val_loss: 0.0821\n",
      "Epoch 83/100\n",
      "60000/60000 [==============================] - 4s 61us/sample - loss: 0.0824 - val_loss: 0.0821\n",
      "Epoch 84/100\n",
      "60000/60000 [==============================] - 4s 62us/sample - loss: 0.0824 - val_loss: 0.0820\n",
      "Epoch 85/100\n",
      "60000/60000 [==============================] - 4s 64us/sample - loss: 0.0823 - val_loss: 0.0819\n",
      "Epoch 86/100\n",
      "60000/60000 [==============================] - 3s 58us/sample - loss: 0.0822 - val_loss: 0.0819\n",
      "Epoch 87/100\n",
      "60000/60000 [==============================] - 4s 59us/sample - loss: 0.0823 - val_loss: 0.0819\n",
      "Epoch 88/100\n",
      "60000/60000 [==============================] - 4s 61us/sample - loss: 0.0822 - val_loss: 0.0819\n",
      "Epoch 89/100\n",
      "60000/60000 [==============================] - 4s 60us/sample - loss: 0.0822 - val_loss: 0.0819\n",
      "Epoch 90/100\n",
      "60000/60000 [==============================] - 4s 60us/sample - loss: 0.0822 - val_loss: 0.0820\n",
      "Epoch 91/100\n",
      "60000/60000 [==============================] - 4s 62us/sample - loss: 0.0821 - val_loss: 0.0818\n",
      "Epoch 92/100\n",
      "60000/60000 [==============================] - 4s 61us/sample - loss: 0.0821 - val_loss: 0.0818\n",
      "Epoch 93/100\n",
      "60000/60000 [==============================] - 4s 62us/sample - loss: 0.0821 - val_loss: 0.0821\n",
      "Epoch 94/100\n",
      "60000/60000 [==============================] - 4s 59us/sample - loss: 0.0821 - val_loss: 0.0818\n",
      "Epoch 95/100\n",
      "60000/60000 [==============================] - 4s 65us/sample - loss: 0.0820 - val_loss: 0.0819\n",
      "Epoch 96/100\n",
      "60000/60000 [==============================] - 4s 59us/sample - loss: 0.0820 - val_loss: 0.0819\n",
      "Epoch 97/100\n",
      "60000/60000 [==============================] - 4s 64us/sample - loss: 0.0819 - val_loss: 0.0819\n",
      "Epoch 98/100\n",
      "60000/60000 [==============================] - 4s 64us/sample - loss: 0.0820 - val_loss: 0.0818\n",
      "Epoch 99/100\n",
      "60000/60000 [==============================] - 4s 63us/sample - loss: 0.0819 - val_loss: 0.0818\n",
      "Epoch 100/100\n",
      "60000/60000 [==============================] - 4s 62us/sample - loss: 0.0819 - val_loss: 0.0818\n"
     ]
    }
   ],
   "source": [
    "# Train\n",
    "deep_autoenc_history = deep_autoencoder.fit(x_train,\n",
    "                                            x_train, \n",
    "                                            epochs=100,\n",
    "                                            batch_size=256,\n",
    "                                            shuffle=True, validation_data=(x_test, x_test))"
   ]
  },
  {
   "cell_type": "code",
   "execution_count": 131,
   "metadata": {},
   "outputs": [
    {
     "data": {
      "image/png": "[encoded data removed]",
      "text/plain": [
       "<Figure size 432x288 with 1 Axes>"
      ]
     },
     "metadata": {},
     "output_type": "display_data"
    }
   ],
   "source": [
    "plot_training_history(deep_autoenc_history)"
   ]
  },
  {
   "cell_type": "markdown",
   "metadata": {},
   "source": [
    "## Convolutional Autoencoder\n",
    "\n",
    "When working with image data, it is common to use convolutional neural networks to create encoding and decoding functions. According to the the author, they just tend to perform better."
   ]
  },
  {
   "cell_type": "code",
   "execution_count": 147,
   "metadata": {},
   "outputs": [],
   "source": [
    "from tensorflow.keras.layers import Input, Dense, Conv2D, MaxPooling2D, UpSampling2D\n",
    "from tensorflow.keras.models import Model\n",
    "from tensorflow.keras import backend as K"
   ]
  },
  {
   "cell_type": "code",
   "execution_count": 148,
   "metadata": {},
   "outputs": [],
   "source": [
    "# When working with Conv2D, dont' need to flatten inputs\n",
    "input_img = Input(shape=(28, 28, 1)) # Channels last"
   ]
  },
  {
   "cell_type": "code",
   "execution_count": 149,
   "metadata": {},
   "outputs": [],
   "source": [
    "# First Conv-Pooling set\n",
    "x = Conv2D(16, (3, 3), activation='relu', padding='same')(input_img)\n",
    "x = MaxPooling2D((2, 2), padding='same')(x)\n",
    "\n",
    "# Second Conv-Pooling set\n",
    "x = Conv2D(8, (3, 3), activation='relu', padding='same')(x)\n",
    "x = MaxPooling2D((2, 2), padding='same')(x)\n",
    "\n",
    "# Third Conv-Pooling set - last pooling layer O/P is encoder O/P\n",
    "x = Conv2D(8, (3, 3), activation='relu', padding='same')(x)\n",
    "encoded = MaxPooling2D((2, 2), padding='same')(x)"
   ]
  },
  {
   "cell_type": "markdown",
   "metadata": {},
   "source": [
    "At this point, the representation is (4, 4, 8) i.e. 128-dimensional."
   ]
  },
  {
   "cell_type": "code",
   "execution_count": 150,
   "metadata": {},
   "outputs": [],
   "source": [
    "# Decoder begins here\n",
    "x = Conv2D(8, (3, 3), activation='relu', padding='same')(encoded)\n",
    "x = UpSampling2D((2, 2))(x)\n",
    "\n",
    "# Second Conv2D and UpSampler\n",
    "x = Conv2D(8, (3, 3), activation='relu', padding='same')(x)\n",
    "x = UpSampling2D((2, 2))(x)\n",
    "\n",
    "# Third Conv2D and UpSampler\n",
    "x = Conv2D(16, (3, 3), activation='relu')(x)\n",
    "x = UpSampling2D((2, 2))(x)\n",
    "\n",
    "# Final decoder result \n",
    "decoded = Conv2D(1, (3, 3), activation='sigmoid', padding='same')(x)"
   ]
  },
  {
   "cell_type": "code",
   "execution_count": 158,
   "metadata": {},
   "outputs": [],
   "source": [
    "conv_autoencoder = Model(input_img, decoded)\n",
    "conv_autoencoder.compile(optimizer='adam', loss='binary_crossentropy')"
   ]
  },
  {
   "cell_type": "markdown",
   "metadata": {},
   "source": [
    "Data preprocessing will once again be a little different. Flattening no longer required. Input are in the form `(samples, channels, width, height)`. Must be reshaped accordingly.\n",
    "\n",
    "Images will still be normalized by `MaxAbs` scaling."
   ]
  },
  {
   "cell_type": "code",
   "execution_count": 153,
   "metadata": {},
   "outputs": [],
   "source": [
    "from tensorflow.keras.datasets import mnist\n",
    "import numpy as np"
   ]
  },
  {
   "cell_type": "code",
   "execution_count": 154,
   "metadata": {},
   "outputs": [],
   "source": [
    "(x_train, _), (x_test, _) = mnist.load_data()"
   ]
  },
  {
   "cell_type": "code",
   "execution_count": 155,
   "metadata": {},
   "outputs": [],
   "source": [
    "x_train = x_train.astype('float32') / 255.\n",
    "x_test = x_test.astype('float32') / 255.\n",
    "\n",
    "x_train = np.reshape(x_train, (len(x_train), 28, 28, 1))\n",
    "x_test = np.reshape(x_test, (len(x_test), 28, 28, 1))"
   ]
  },
  {
   "cell_type": "code",
   "execution_count": 156,
   "metadata": {},
   "outputs": [
    {
     "name": "stdout",
     "output_type": "stream",
     "text": [
      "(60000, 28, 28, 1)\n"
     ]
    }
   ],
   "source": [
    "print(x_train.shape)"
   ]
  },
  {
   "cell_type": "code",
   "execution_count": 157,
   "metadata": {},
   "outputs": [
    {
     "name": "stdout",
     "output_type": "stream",
     "text": [
      "(10000, 28, 28, 1)\n"
     ]
    }
   ],
   "source": [
    "\n",
    "print(x_test.shape)"
   ]
  },
  {
   "cell_type": "markdown",
   "metadata": {},
   "source": [
    "Not using `tensorboard`. Will just plot the training history with `matplotlib`."
   ]
  },
  {
   "cell_type": "code",
   "execution_count": null,
   "metadata": {},
   "outputs": [],
   "source": [
    "conv_autoenc_history = conv_autoencoder.fit(x_train, x_train,\n",
    "                                           epochs=50, \n",
    "                                           batch_size=128, \n",
    "                                           shuffle=True,\n",
    "                                           validation_data=(x_test, x_test))"
   ]
  },
  {
   "cell_type": "markdown",
   "metadata": {},
   "source": [
    "This is taking more than a minute per epoch. Does this mean the model will take ~50 minutes to train? Pls no.\n",
    "\n",
    "Switching to CoLab. GPU does make a difference. Per-epoch time down from 70s to 4s."
   ]
  }
 ],
 "metadata": {
  "kernelspec": {
   "display_name": "Python 3",
   "language": "python",
   "name": "python3"
  },
  "language_info": {
   "codemirror_mode": {
    "name": "ipython",
    "version": 3
   },
   "file_extension": ".py",
   "mimetype": "text/x-python",
   "name": "python",
   "nbconvert_exporter": "python",
   "pygments_lexer": "ipython3",
   "version": "3.6.5"
  }
 },
 "nbformat": 4,
 "nbformat_minor": 2
}
