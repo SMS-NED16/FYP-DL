{
  "nbformat": 4,
  "nbformat_minor": 0,
  "metadata": {
    "colab": {
      "name": "WDNN_Hyperparameter_Tuning.ipynb",
      "provenance": [],
      "collapsed_sections": [],
      "toc_visible": true
    },
    "kernelspec": {
      "name": "python3",
      "display_name": "Python 3"
    }
  },
  "cells": [
    {
      "cell_type": "markdown",
      "metadata": {
        "id": "9-sVA5JEu3zN",
        "colab_type": "text"
      },
      "source": [
        "# WDNN - Hyperparameter Tuning"
      ]
    },
    {
      "cell_type": "markdown",
      "metadata": {
        "id": "8zTtBp-Wu6G_",
        "colab_type": "text"
      },
      "source": [
        "# Imports"
      ]
    },
    {
      "cell_type": "code",
      "metadata": {
        "id": "zj3jnhSOu7XS",
        "colab_type": "code",
        "colab": {}
      },
      "source": [
        "# Standard imports\n",
        "import numpy as np \n",
        "import pandas as pd \n",
        "import os \n",
        "\n",
        "# For loading data from Drive\n",
        "from google.colab import drive\n",
        "\n",
        "# Plotting \n",
        "import matplotlib.pyplot as plt \n",
        "from matplotlib import style\n",
        "style.use('ggplot')\n",
        "%matplotlib inline \n",
        "from seaborn import distplot, heatmap\n",
        "\n",
        "# Scikit-Learn imports\n",
        "from sklearn.model_selection import RandomizedSearchCV, train_test_split \n",
        "from sklearn.preprocessing import StandardScaler, MinMaxScaler, RobustScaler, MaxAbsScaler, FunctionTransformer\n",
        "from sklearn.pipeline import Pipeline\n",
        "from sklearn.base import BaseEstimator, TransformerMixin\n",
        "\n",
        "# Tensorflow and Keras\n",
        "from tensorflow import keras"
      ],
      "execution_count": 0,
      "outputs": []
    },
    {
      "cell_type": "markdown",
      "metadata": {
        "id": "cQyOIPSs1uZu",
        "colab_type": "text"
      },
      "source": [
        "# Loading Data"
      ]
    },
    {
      "cell_type": "code",
      "metadata": {
        "id": "4OtuaAc4pp5X",
        "colab_type": "code",
        "outputId": "15dafc8a-4f21-4f2c-a1a2-920aa8067598",
        "colab": {
          "base_uri": "https://localhost:8080/",
          "height": 54
        }
      },
      "source": [
        "# Mount Google Drive\n",
        "drive.mount('/content/drive/')"
      ],
      "execution_count": 168,
      "outputs": [
        {
          "output_type": "stream",
          "text": [
            "Drive already mounted at /content/drive/; to attempt to forcibly remount, call drive.mount(\"/content/drive/\", force_remount=True).\n"
          ],
          "name": "stdout"
        }
      ]
    },
    {
      "cell_type": "code",
      "metadata": {
        "id": "KHAb1W3Nf75C",
        "colab_type": "code",
        "colab": {}
      },
      "source": [
        "# Defining filepaths\n",
        "ROOT_DIR = \"/content/drive/My Drive\"\n",
        "FYP_DIR = \"EE 16-17 FYP DL Energy Theft Detection\"\n",
        "DATA_DIR = \"Data/full-processing-data\"\n",
        "FILE_NAME = \"outliersRemoved.csv\"\n",
        "\n",
        "# Create filepath\n",
        "FILE_PATH = os.path.join(ROOT_DIR, FYP_DIR, DATA_DIR, FILE_NAME)"
      ],
      "execution_count": 0,
      "outputs": []
    },
    {
      "cell_type": "code",
      "metadata": {
        "id": "JFVrfX1ypfI7",
        "colab_type": "code",
        "outputId": "947bec4a-b0f4-4670-f377-8904b0a5ff9a",
        "colab": {
          "base_uri": "https://localhost:8080/",
          "height": 34
        }
      },
      "source": [
        "# Print the filepath for checking\n",
        "print(FILE_PATH)"
      ],
      "execution_count": 170,
      "outputs": [
        {
          "output_type": "stream",
          "text": [
            "/content/drive/My Drive/EE 16-17 FYP DL Energy Theft Detection/Data/full-processing-data/outliersRemoved.csv\n"
          ],
          "name": "stdout"
        }
      ]
    },
    {
      "cell_type": "code",
      "metadata": {
        "id": "ZX_IjAPTpg58",
        "colab_type": "code",
        "colab": {}
      },
      "source": [
        "df = pd.read_csv(FILE_PATH)"
      ],
      "execution_count": 0,
      "outputs": []
    },
    {
      "cell_type": "code",
      "metadata": {
        "id": "CgC7W4Rbpj7o",
        "colab_type": "code",
        "outputId": "64f0d230-b0aa-4759-9d66-2fad5497f1c8",
        "colab": {
          "base_uri": "https://localhost:8080/",
          "height": 270
        }
      },
      "source": [
        "# Did it work?\n",
        "df.head()"
      ],
      "execution_count": 172,
      "outputs": [
        {
          "output_type": "execute_result",
          "data": {
            "text/html": [
              "<div>\n",
              "<style scoped>\n",
              "    .dataframe tbody tr th:only-of-type {\n",
              "        vertical-align: middle;\n",
              "    }\n",
              "\n",
              "    .dataframe tbody tr th {\n",
              "        vertical-align: top;\n",
              "    }\n",
              "\n",
              "    .dataframe thead th {\n",
              "        text-align: right;\n",
              "    }\n",
              "</style>\n",
              "<table border=\"1\" class=\"dataframe\">\n",
              "  <thead>\n",
              "    <tr style=\"text-align: right;\">\n",
              "      <th></th>\n",
              "      <th>CONS_NO</th>\n",
              "      <th>FLAG</th>\n",
              "      <th>2014-01-01</th>\n",
              "      <th>2014-01-02</th>\n",
              "      <th>2014-01-03</th>\n",
              "      <th>2014-01-04</th>\n",
              "      <th>2014-01-05</th>\n",
              "      <th>2014-01-06</th>\n",
              "      <th>2014-01-07</th>\n",
              "      <th>2014-01-08</th>\n",
              "      <th>2014-01-09</th>\n",
              "      <th>2014-01-10</th>\n",
              "      <th>2014-01-11</th>\n",
              "      <th>2014-01-12</th>\n",
              "      <th>2014-01-13</th>\n",
              "      <th>2014-01-14</th>\n",
              "      <th>2014-01-15</th>\n",
              "      <th>2014-01-16</th>\n",
              "      <th>2014-01-17</th>\n",
              "      <th>2014-01-18</th>\n",
              "      <th>2014-01-19</th>\n",
              "      <th>2014-01-20</th>\n",
              "      <th>2014-01-21</th>\n",
              "      <th>2014-01-22</th>\n",
              "      <th>2014-01-23</th>\n",
              "      <th>2014-01-24</th>\n",
              "      <th>2014-01-25</th>\n",
              "      <th>2014-01-26</th>\n",
              "      <th>2014-01-27</th>\n",
              "      <th>2014-01-28</th>\n",
              "      <th>2014-01-29</th>\n",
              "      <th>2014-01-30</th>\n",
              "      <th>2014-01-31</th>\n",
              "      <th>2014-02-01</th>\n",
              "      <th>2014-02-02</th>\n",
              "      <th>2014-02-03</th>\n",
              "      <th>2014-02-04</th>\n",
              "      <th>2014-02-05</th>\n",
              "      <th>2014-02-06</th>\n",
              "      <th>2014-02-07</th>\n",
              "      <th>...</th>\n",
              "      <th>2016-09-22</th>\n",
              "      <th>2016-09-23</th>\n",
              "      <th>2016-09-24</th>\n",
              "      <th>2016-09-25</th>\n",
              "      <th>2016-09-26</th>\n",
              "      <th>2016-09-27</th>\n",
              "      <th>2016-09-28</th>\n",
              "      <th>2016-09-29</th>\n",
              "      <th>2016-09-30</th>\n",
              "      <th>2016-10-01</th>\n",
              "      <th>2016-10-02</th>\n",
              "      <th>2016-10-03</th>\n",
              "      <th>2016-10-04</th>\n",
              "      <th>2016-10-05</th>\n",
              "      <th>2016-10-06</th>\n",
              "      <th>2016-10-07</th>\n",
              "      <th>2016-10-08</th>\n",
              "      <th>2016-10-09</th>\n",
              "      <th>2016-10-10</th>\n",
              "      <th>2016-10-11</th>\n",
              "      <th>2016-10-12</th>\n",
              "      <th>2016-10-13</th>\n",
              "      <th>2016-10-14</th>\n",
              "      <th>2016-10-15</th>\n",
              "      <th>2016-10-16</th>\n",
              "      <th>2016-10-17</th>\n",
              "      <th>2016-10-18</th>\n",
              "      <th>2016-10-19</th>\n",
              "      <th>2016-10-20</th>\n",
              "      <th>2016-10-21</th>\n",
              "      <th>2016-10-22</th>\n",
              "      <th>2016-10-23</th>\n",
              "      <th>2016-10-24</th>\n",
              "      <th>2016-10-25</th>\n",
              "      <th>2016-10-26</th>\n",
              "      <th>2016-10-27</th>\n",
              "      <th>2016-10-28</th>\n",
              "      <th>2016-10-29</th>\n",
              "      <th>2016-10-30</th>\n",
              "      <th>2016-10-31</th>\n",
              "    </tr>\n",
              "  </thead>\n",
              "  <tbody>\n",
              "    <tr>\n",
              "      <th>0</th>\n",
              "      <td>0387DD8A07E07FDA6271170F86AD9151</td>\n",
              "      <td>1</td>\n",
              "      <td>0.0</td>\n",
              "      <td>0.00</td>\n",
              "      <td>0.00</td>\n",
              "      <td>0.00</td>\n",
              "      <td>0.00</td>\n",
              "      <td>0.00</td>\n",
              "      <td>0.00</td>\n",
              "      <td>0.00</td>\n",
              "      <td>0.00</td>\n",
              "      <td>0.00</td>\n",
              "      <td>0.00</td>\n",
              "      <td>0.00</td>\n",
              "      <td>0.00</td>\n",
              "      <td>0.00</td>\n",
              "      <td>0.00</td>\n",
              "      <td>0.00</td>\n",
              "      <td>0.00</td>\n",
              "      <td>0.00</td>\n",
              "      <td>0.00</td>\n",
              "      <td>0.00</td>\n",
              "      <td>0.00</td>\n",
              "      <td>0.00</td>\n",
              "      <td>0.00</td>\n",
              "      <td>0.00</td>\n",
              "      <td>0.00</td>\n",
              "      <td>0.00</td>\n",
              "      <td>0.00</td>\n",
              "      <td>0.00</td>\n",
              "      <td>0.00</td>\n",
              "      <td>0.00</td>\n",
              "      <td>0.00</td>\n",
              "      <td>0.00</td>\n",
              "      <td>0.00</td>\n",
              "      <td>0.0</td>\n",
              "      <td>0.00</td>\n",
              "      <td>0.00</td>\n",
              "      <td>0.0</td>\n",
              "      <td>0.00</td>\n",
              "      <td>...</td>\n",
              "      <td>8.56</td>\n",
              "      <td>10.48</td>\n",
              "      <td>8.20</td>\n",
              "      <td>12.53</td>\n",
              "      <td>7.90</td>\n",
              "      <td>8.58</td>\n",
              "      <td>10.12</td>\n",
              "      <td>9.96</td>\n",
              "      <td>7.60</td>\n",
              "      <td>18.19</td>\n",
              "      <td>10.93</td>\n",
              "      <td>11.41</td>\n",
              "      <td>19.92</td>\n",
              "      <td>10.70</td>\n",
              "      <td>9.20</td>\n",
              "      <td>6.77</td>\n",
              "      <td>6.760000</td>\n",
              "      <td>6.150000</td>\n",
              "      <td>6.500000</td>\n",
              "      <td>8.080000</td>\n",
              "      <td>7.97</td>\n",
              "      <td>8.810000</td>\n",
              "      <td>7.370000</td>\n",
              "      <td>11.720000</td>\n",
              "      <td>11.020000</td>\n",
              "      <td>8.180000</td>\n",
              "      <td>7.330000</td>\n",
              "      <td>6.710000</td>\n",
              "      <td>8.520000</td>\n",
              "      <td>6.310000</td>\n",
              "      <td>7.18</td>\n",
              "      <td>8.070000</td>\n",
              "      <td>8.090000</td>\n",
              "      <td>9.530000</td>\n",
              "      <td>5.480000</td>\n",
              "      <td>8.750000</td>\n",
              "      <td>9.300000</td>\n",
              "      <td>7.540000</td>\n",
              "      <td>9.160000</td>\n",
              "      <td>6.740000</td>\n",
              "    </tr>\n",
              "    <tr>\n",
              "      <th>1</th>\n",
              "      <td>01D6177B5D4FFE0CABA9EF17DAFC2B84</td>\n",
              "      <td>1</td>\n",
              "      <td>0.0</td>\n",
              "      <td>0.00</td>\n",
              "      <td>0.00</td>\n",
              "      <td>0.00</td>\n",
              "      <td>0.00</td>\n",
              "      <td>0.00</td>\n",
              "      <td>0.00</td>\n",
              "      <td>0.00</td>\n",
              "      <td>0.00</td>\n",
              "      <td>0.00</td>\n",
              "      <td>0.00</td>\n",
              "      <td>0.00</td>\n",
              "      <td>0.00</td>\n",
              "      <td>0.00</td>\n",
              "      <td>0.00</td>\n",
              "      <td>0.00</td>\n",
              "      <td>0.00</td>\n",
              "      <td>0.00</td>\n",
              "      <td>0.00</td>\n",
              "      <td>0.00</td>\n",
              "      <td>0.00</td>\n",
              "      <td>0.00</td>\n",
              "      <td>0.00</td>\n",
              "      <td>0.00</td>\n",
              "      <td>0.00</td>\n",
              "      <td>0.00</td>\n",
              "      <td>0.00</td>\n",
              "      <td>0.00</td>\n",
              "      <td>0.00</td>\n",
              "      <td>0.00</td>\n",
              "      <td>0.00</td>\n",
              "      <td>0.00</td>\n",
              "      <td>0.00</td>\n",
              "      <td>0.0</td>\n",
              "      <td>0.00</td>\n",
              "      <td>0.00</td>\n",
              "      <td>0.0</td>\n",
              "      <td>0.00</td>\n",
              "      <td>...</td>\n",
              "      <td>0.00</td>\n",
              "      <td>0.00</td>\n",
              "      <td>0.00</td>\n",
              "      <td>0.00</td>\n",
              "      <td>0.00</td>\n",
              "      <td>0.00</td>\n",
              "      <td>0.00</td>\n",
              "      <td>0.00</td>\n",
              "      <td>0.00</td>\n",
              "      <td>0.00</td>\n",
              "      <td>0.00</td>\n",
              "      <td>0.00</td>\n",
              "      <td>0.00</td>\n",
              "      <td>0.00</td>\n",
              "      <td>0.00</td>\n",
              "      <td>0.00</td>\n",
              "      <td>0.000000</td>\n",
              "      <td>0.000000</td>\n",
              "      <td>0.000000</td>\n",
              "      <td>0.000000</td>\n",
              "      <td>0.00</td>\n",
              "      <td>0.000000</td>\n",
              "      <td>0.000000</td>\n",
              "      <td>0.000000</td>\n",
              "      <td>0.000000</td>\n",
              "      <td>0.000000</td>\n",
              "      <td>0.000000</td>\n",
              "      <td>0.000000</td>\n",
              "      <td>0.000000</td>\n",
              "      <td>0.000000</td>\n",
              "      <td>0.00</td>\n",
              "      <td>0.000000</td>\n",
              "      <td>0.000000</td>\n",
              "      <td>0.000000</td>\n",
              "      <td>0.000000</td>\n",
              "      <td>0.000000</td>\n",
              "      <td>0.000000</td>\n",
              "      <td>0.000000</td>\n",
              "      <td>0.000000</td>\n",
              "      <td>0.000000</td>\n",
              "    </tr>\n",
              "    <tr>\n",
              "      <th>2</th>\n",
              "      <td>4B75AC4F2D8434CFF62DB64D0BB43103</td>\n",
              "      <td>1</td>\n",
              "      <td>0.0</td>\n",
              "      <td>0.00</td>\n",
              "      <td>0.00</td>\n",
              "      <td>0.00</td>\n",
              "      <td>0.00</td>\n",
              "      <td>0.00</td>\n",
              "      <td>0.00</td>\n",
              "      <td>0.00</td>\n",
              "      <td>0.00</td>\n",
              "      <td>0.00</td>\n",
              "      <td>0.00</td>\n",
              "      <td>0.00</td>\n",
              "      <td>0.00</td>\n",
              "      <td>0.00</td>\n",
              "      <td>0.00</td>\n",
              "      <td>0.00</td>\n",
              "      <td>0.00</td>\n",
              "      <td>0.00</td>\n",
              "      <td>0.00</td>\n",
              "      <td>0.00</td>\n",
              "      <td>0.00</td>\n",
              "      <td>0.00</td>\n",
              "      <td>0.00</td>\n",
              "      <td>0.00</td>\n",
              "      <td>0.00</td>\n",
              "      <td>0.00</td>\n",
              "      <td>0.00</td>\n",
              "      <td>0.00</td>\n",
              "      <td>0.00</td>\n",
              "      <td>0.00</td>\n",
              "      <td>0.00</td>\n",
              "      <td>0.00</td>\n",
              "      <td>0.00</td>\n",
              "      <td>0.0</td>\n",
              "      <td>0.00</td>\n",
              "      <td>0.00</td>\n",
              "      <td>0.0</td>\n",
              "      <td>0.00</td>\n",
              "      <td>...</td>\n",
              "      <td>0.00</td>\n",
              "      <td>0.00</td>\n",
              "      <td>0.00</td>\n",
              "      <td>0.00</td>\n",
              "      <td>0.00</td>\n",
              "      <td>0.00</td>\n",
              "      <td>0.00</td>\n",
              "      <td>0.00</td>\n",
              "      <td>0.00</td>\n",
              "      <td>0.00</td>\n",
              "      <td>0.00</td>\n",
              "      <td>0.00</td>\n",
              "      <td>0.00</td>\n",
              "      <td>0.00</td>\n",
              "      <td>0.00</td>\n",
              "      <td>8.34</td>\n",
              "      <td>13.483126</td>\n",
              "      <td>13.483126</td>\n",
              "      <td>13.483126</td>\n",
              "      <td>13.483126</td>\n",
              "      <td>12.73</td>\n",
              "      <td>13.483126</td>\n",
              "      <td>13.483126</td>\n",
              "      <td>13.483126</td>\n",
              "      <td>13.483126</td>\n",
              "      <td>13.483126</td>\n",
              "      <td>13.483126</td>\n",
              "      <td>13.483126</td>\n",
              "      <td>13.483126</td>\n",
              "      <td>13.483126</td>\n",
              "      <td>10.95</td>\n",
              "      <td>13.483126</td>\n",
              "      <td>13.483126</td>\n",
              "      <td>13.483126</td>\n",
              "      <td>13.483126</td>\n",
              "      <td>13.483126</td>\n",
              "      <td>13.483126</td>\n",
              "      <td>13.483126</td>\n",
              "      <td>13.483126</td>\n",
              "      <td>13.483126</td>\n",
              "    </tr>\n",
              "    <tr>\n",
              "      <th>3</th>\n",
              "      <td>B32AC8CC6D5D805AC053557AB05F5343</td>\n",
              "      <td>1</td>\n",
              "      <td>0.0</td>\n",
              "      <td>0.00</td>\n",
              "      <td>0.00</td>\n",
              "      <td>0.00</td>\n",
              "      <td>0.00</td>\n",
              "      <td>0.00</td>\n",
              "      <td>0.00</td>\n",
              "      <td>0.00</td>\n",
              "      <td>0.00</td>\n",
              "      <td>0.00</td>\n",
              "      <td>0.00</td>\n",
              "      <td>0.00</td>\n",
              "      <td>0.00</td>\n",
              "      <td>0.00</td>\n",
              "      <td>0.00</td>\n",
              "      <td>0.00</td>\n",
              "      <td>0.00</td>\n",
              "      <td>0.00</td>\n",
              "      <td>0.00</td>\n",
              "      <td>0.00</td>\n",
              "      <td>0.00</td>\n",
              "      <td>0.00</td>\n",
              "      <td>0.00</td>\n",
              "      <td>0.00</td>\n",
              "      <td>0.00</td>\n",
              "      <td>0.00</td>\n",
              "      <td>0.00</td>\n",
              "      <td>0.00</td>\n",
              "      <td>0.00</td>\n",
              "      <td>0.00</td>\n",
              "      <td>0.00</td>\n",
              "      <td>0.00</td>\n",
              "      <td>0.00</td>\n",
              "      <td>0.0</td>\n",
              "      <td>0.00</td>\n",
              "      <td>0.00</td>\n",
              "      <td>0.0</td>\n",
              "      <td>0.00</td>\n",
              "      <td>...</td>\n",
              "      <td>17.30</td>\n",
              "      <td>16.95</td>\n",
              "      <td>8.25</td>\n",
              "      <td>22.76</td>\n",
              "      <td>14.07</td>\n",
              "      <td>20.70</td>\n",
              "      <td>6.50</td>\n",
              "      <td>9.99</td>\n",
              "      <td>18.59</td>\n",
              "      <td>16.79</td>\n",
              "      <td>26.82</td>\n",
              "      <td>14.70</td>\n",
              "      <td>16.05</td>\n",
              "      <td>24.10</td>\n",
              "      <td>12.64</td>\n",
              "      <td>10.85</td>\n",
              "      <td>11.770000</td>\n",
              "      <td>13.030000</td>\n",
              "      <td>12.260000</td>\n",
              "      <td>15.660000</td>\n",
              "      <td>13.43</td>\n",
              "      <td>15.030000</td>\n",
              "      <td>14.610000</td>\n",
              "      <td>13.970000</td>\n",
              "      <td>15.070000</td>\n",
              "      <td>14.110000</td>\n",
              "      <td>14.770000</td>\n",
              "      <td>11.720000</td>\n",
              "      <td>11.730000</td>\n",
              "      <td>11.980000</td>\n",
              "      <td>12.81</td>\n",
              "      <td>15.120000</td>\n",
              "      <td>17.260000</td>\n",
              "      <td>14.910000</td>\n",
              "      <td>19.590000</td>\n",
              "      <td>20.790000</td>\n",
              "      <td>17.950000</td>\n",
              "      <td>19.260000</td>\n",
              "      <td>14.460000</td>\n",
              "      <td>11.720000</td>\n",
              "    </tr>\n",
              "    <tr>\n",
              "      <th>4</th>\n",
              "      <td>EDFC78B07BA2908B3395C4EB2304665E</td>\n",
              "      <td>1</td>\n",
              "      <td>2.9</td>\n",
              "      <td>5.64</td>\n",
              "      <td>6.99</td>\n",
              "      <td>3.32</td>\n",
              "      <td>3.61</td>\n",
              "      <td>5.35</td>\n",
              "      <td>4.73</td>\n",
              "      <td>3.68</td>\n",
              "      <td>3.53</td>\n",
              "      <td>3.42</td>\n",
              "      <td>3.81</td>\n",
              "      <td>4.58</td>\n",
              "      <td>3.56</td>\n",
              "      <td>4.25</td>\n",
              "      <td>3.86</td>\n",
              "      <td>3.53</td>\n",
              "      <td>3.41</td>\n",
              "      <td>0.85</td>\n",
              "      <td>0.88</td>\n",
              "      <td>3.81</td>\n",
              "      <td>6.51</td>\n",
              "      <td>9.19</td>\n",
              "      <td>7.79</td>\n",
              "      <td>7.02</td>\n",
              "      <td>7.25</td>\n",
              "      <td>6.37</td>\n",
              "      <td>6.43</td>\n",
              "      <td>7.89</td>\n",
              "      <td>7.46</td>\n",
              "      <td>7.95</td>\n",
              "      <td>7.59</td>\n",
              "      <td>4.84</td>\n",
              "      <td>6.06</td>\n",
              "      <td>5.6</td>\n",
              "      <td>6.72</td>\n",
              "      <td>7.29</td>\n",
              "      <td>5.6</td>\n",
              "      <td>6.28</td>\n",
              "      <td>...</td>\n",
              "      <td>9.56</td>\n",
              "      <td>9.48</td>\n",
              "      <td>10.60</td>\n",
              "      <td>10.06</td>\n",
              "      <td>10.79</td>\n",
              "      <td>10.91</td>\n",
              "      <td>17.77</td>\n",
              "      <td>10.37</td>\n",
              "      <td>13.51</td>\n",
              "      <td>14.13</td>\n",
              "      <td>17.44</td>\n",
              "      <td>15.96</td>\n",
              "      <td>12.18</td>\n",
              "      <td>18.54</td>\n",
              "      <td>13.44</td>\n",
              "      <td>11.68</td>\n",
              "      <td>9.150000</td>\n",
              "      <td>9.160000</td>\n",
              "      <td>10.190000</td>\n",
              "      <td>10.310000</td>\n",
              "      <td>8.03</td>\n",
              "      <td>10.080000</td>\n",
              "      <td>10.340000</td>\n",
              "      <td>11.240000</td>\n",
              "      <td>15.140000</td>\n",
              "      <td>14.360000</td>\n",
              "      <td>12.390000</td>\n",
              "      <td>10.360000</td>\n",
              "      <td>9.290000</td>\n",
              "      <td>7.910000</td>\n",
              "      <td>14.21</td>\n",
              "      <td>10.220000</td>\n",
              "      <td>8.470000</td>\n",
              "      <td>6.110000</td>\n",
              "      <td>6.100000</td>\n",
              "      <td>6.730000</td>\n",
              "      <td>7.520000</td>\n",
              "      <td>10.890000</td>\n",
              "      <td>9.860000</td>\n",
              "      <td>8.720000</td>\n",
              "    </tr>\n",
              "  </tbody>\n",
              "</table>\n",
              "<p>5 rows × 1036 columns</p>\n",
              "</div>"
            ],
            "text/plain": [
              "                            CONS_NO  FLAG  ...  2016-10-30  2016-10-31\n",
              "0  0387DD8A07E07FDA6271170F86AD9151     1  ...    9.160000    6.740000\n",
              "1  01D6177B5D4FFE0CABA9EF17DAFC2B84     1  ...    0.000000    0.000000\n",
              "2  4B75AC4F2D8434CFF62DB64D0BB43103     1  ...   13.483126   13.483126\n",
              "3  B32AC8CC6D5D805AC053557AB05F5343     1  ...   14.460000   11.720000\n",
              "4  EDFC78B07BA2908B3395C4EB2304665E     1  ...    9.860000    8.720000\n",
              "\n",
              "[5 rows x 1036 columns]"
            ]
          },
          "metadata": {
            "tags": []
          },
          "execution_count": 172
        }
      ]
    },
    {
      "cell_type": "markdown",
      "metadata": {
        "id": "ZkXW8Ucz6fG_",
        "colab_type": "text"
      },
      "source": [
        "# Custom Transformers"
      ]
    },
    {
      "cell_type": "markdown",
      "metadata": {
        "id": "94SBtByR6kNF",
        "colab_type": "text"
      },
      "source": [
        "## `ZeroPadder` Transformer \n",
        "- A custom transformer that I've written to pad feature 2D matrices (`X_train, X_test, X_val`) with the right number of zeroes to make the daily kWh data capable of being transformed to weekly kWh data. \n",
        "- I wanted to use `numpy` operations as much as possible because `pandas` operations tend to be slower. \n",
        "- I think the `transform` method can be simplified with `np.append`. "
      ]
    },
    {
      "cell_type": "code",
      "metadata": {
        "id": "1S0eYV9D6mjN",
        "colab_type": "code",
        "colab": {}
      },
      "source": [
        "class ZeroPadder(BaseEstimator, TransformerMixin):\n",
        "  \"\"\"Custom transformer class for padding 1D numpy array of daily kWh values so\n",
        "  that the total number of days is evenly divisible into a whole number of weeks.\n",
        "  \n",
        "    ATTRIBUTES\n",
        "    - `days_per_consumer` is the number of kWh entries in 1D array of a single consumer\n",
        "    - `days_per_week` is the number of days in a week \n",
        "    - `weeks_per_consumer` is the minimum number of whole weeks which cover `days_per_consumer`\n",
        "    - `padding` is the number of `pad_value`s to add to each 1D array.\n",
        "    - `pad_value` is the value with which the each 1D array in `X` will be padded\n",
        "\n",
        "    METHODS\n",
        "    - `pad_zeroes(self, row)`\n",
        "      Helper function to pad the right number of zeroes to a 1D numpy array `row`. \n",
        "      `row` is a single row of the 2D numpy array `X`.\n",
        "\n",
        "    - `fit(self, X, y=None)` \n",
        "      - initializes the attributes with the correct values according to\n",
        "      the input matrix `X`.\n",
        "      - returns an instance of the transformer class with the attributes initialised.\n",
        "\n",
        "    - `transform(self, X, y=None)\n",
        "      - uses numpy's apply_along_axis function to apply `pad_zeroes` to each row\n",
        "      of `X`. \n",
        "      - Returns 0 padded numpy matrix of dimension (m, n + padding)`\n",
        "    \"\"\"  \n",
        "  def __init__(self):\n",
        "    \"\"\"Initialise attributes with dummy values so that they can be reinitialized\n",
        "    when fit to the array `X`.\"\"\"\n",
        "    self.days_per_consumer = 0\n",
        "    self.days_per_week = 7\n",
        "    self.weeks_per_consumer = 0\n",
        "    self.padding = 0\n",
        "    self.pad_value = 0.0\n",
        "\n",
        "  def pad_zeroes(self, row):\n",
        "    \"\"\"Appends zeroes to end of each 1D numpy array of kWh values\"\"\"\n",
        "    return np.pad(row, pad_width=(0, self.padding), mode='constant', constant_values=self.pad_value)\n",
        "\n",
        "  def fit(self, X, y=None):\n",
        "    \"\"\"Update the attributes based on X\"\"\" \n",
        "    # Find the number of days of kWh entries for each consumer\n",
        "    self.days_per_consumer = X.shape[-1]\n",
        "\n",
        "    # Find the number of weeks in these days rounded to the nearest whole number \n",
        "    self.weeks_per_consumer = np.ceil(self.days_per_consumer / self.days_per_week).astype('uint8')\n",
        "\n",
        "    # Number of zeros for padding = number of extra days required to turn days_per_consumer\n",
        "    # into a number that is equivalent to a whole number of weeks\n",
        "    self.padding = self.weeks_per_consumer * self.days_per_week - self.days_per_consumer\n",
        "\n",
        "    # Once parameters have been fit, just return the updated instance of the transformer\n",
        "    return self\n",
        "\n",
        "  def transform(self, X, y=None):\n",
        "    \"\"\"Transform the data according to the specified attributes\"\"\"\n",
        "\n",
        "    # TODO: A simpler way to do this would be to use np.append(X, np.zeros((len(X), self.padding)), axis=1)\n",
        "    # This will eliminate the apply_along_axis call and nested calls to pad_zeroes\n",
        "    # Pad zeroes is more complicated than required for this application\n",
        "    return np.apply_along_axis(self.pad_zeroes, axis=1, arr=X)"
      ],
      "execution_count": 0,
      "outputs": []
    },
    {
      "cell_type": "markdown",
      "metadata": {
        "id": "lCgSHctO6pem",
        "colab_type": "text"
      },
      "source": [
        "## `DailyToWeekly` Transformer \n",
        "- A simple transformer that reshapes the daily kWh data to weekly kWh data. \n",
        "- For use with a 2D CNN, must also specify a channels dimension: in this case, channel is 1 (we don't have multiple streams of information for each consumer). "
      ]
    },
    {
      "cell_type": "code",
      "metadata": {
        "id": "A_Us_8qS6sMF",
        "colab_type": "code",
        "colab": {}
      },
      "source": [
        "class DailyToWeekly(BaseEstimator, TransformerMixin):\n",
        "  \"\"\"Custom transformer class that reshapes a 1D daily kWh data to 2D weekly data.\n",
        "  For compatibility with 2D CNN layers, adding a vestigial channels axis with \n",
        "  dimensionality of 1\"\"\"\n",
        "\n",
        "  def __init__(self):\n",
        "    \"\"\"Initialise a DailyToWeekly transformer with attributes for channel and \n",
        "    days per week that can be used in reshaping.\"\"\"\n",
        "    self.days = 0\n",
        "    self.weeks = 0\n",
        "    self.channels = 1 \n",
        "    self.days_per_week = 7\n",
        "\n",
        "  def daily_to_weekly(self, row):\n",
        "    \"\"\"Helper function to reshape (n, ) into (number_of_weeks, number_of_days_per_day, 1)\n",
        "    `row` is a single consumer's vector of kWh data.\"\"\"\n",
        "    return row.reshape((self.weeks, self.days_per_week, self.channels))\n",
        "\n",
        "  def fit(self, X, y=None):\n",
        "    \"\"\"Initialise `days` and `weeks` attributes with the right values based on `X`.\"\"\"\n",
        "    self.days = X.shape[-1]\n",
        "    self.weeks = self.days // self.days_per_week\n",
        "\n",
        "    # Must return instance with attributes initialised\n",
        "    return self\n",
        "\n",
        "  def transform(self, X, y=None):\n",
        "    \"\"\"Applies the `daily_to_weekly` transformation to each row in `X`\"\"\"\n",
        "    return np.apply_along_axis(self.daily_to_weekly, axis=1, arr=X)"
      ],
      "execution_count": 0,
      "outputs": []
    },
    {
      "cell_type": "markdown",
      "metadata": {
        "id": "0Mb0RQa86ycd",
        "colab_type": "text"
      },
      "source": [
        "# Pipelines "
      ]
    },
    {
      "cell_type": "markdown",
      "metadata": {
        "id": "opHcYtWE60lh",
        "colab_type": "text"
      },
      "source": [
        "## `pipeline_1D` - WNN\n",
        "\n",
        "This pipeline prepares our data for the WNN component. It consists of the following individual transformations. \n",
        "1. `to_numpy`: Convert any `DataFrames` to `numpy` `ndarray`s for faster processing.\n",
        "2. `row_to_col`: Transpose all features arrays so that rows (consumers) become columns.\n",
        "3. `scaler`: Apply a user-specified scaling strategy to the transposed data on a column-wise (consumer-wise) basis.\n",
        "4. `col_to_row`: Retranspose the scaled data so that consumers are once again along the rows axis."
      ]
    },
    {
      "cell_type": "code",
      "metadata": {
        "id": "-DlU2ZiW6-vm",
        "colab_type": "code",
        "colab": {}
      },
      "source": [
        "pipeline_1D = Pipeline([\n",
        "            # Convert all matrices to numpy array for faster processing\n",
        "            ('to_numpy', FunctionTransformer(pd.DataFrame.to_numpy)),\n",
        "\n",
        "            # Transpose once so that consumers are now along column axis\n",
        "            ('row_to_col', FunctionTransformer(np.transpose)), \n",
        "\n",
        "            # Use scikit-learn scaler of your choice to scale kWhs on a consumer basis\n",
        "            ('scaler', StandardScaler()),\n",
        "\n",
        "            # Retranspose so that consumers are once again along the rows axis\n",
        "            ('col_to_row', FunctionTransformer(np.transpose)),\n",
        "])"
      ],
      "execution_count": 0,
      "outputs": []
    },
    {
      "cell_type": "markdown",
      "metadata": {
        "id": "0lgNoNJT60gt",
        "colab_type": "text"
      },
      "source": [
        "## `pipeline_2D` - CNN\n",
        "\n",
        "This pipeline prepares features for the CNN component of our WDNN through the following custom transformers\n",
        "\n",
        "1. `ZeroPadder`: a transformer that appends to each consumer's kWh array the minimum number of zeroes required for the daily kWh data to be transformable to weekly data.\n",
        "2. `DailyToWeekly`: a second transformer that reshapes each consumer's kWh data into weekly data with is compatible for the convolutional component of the model"
      ]
    },
    {
      "cell_type": "code",
      "metadata": {
        "id": "ZbLApXB272yG",
        "colab_type": "code",
        "colab": {}
      },
      "source": [
        "pipeline_2D = Pipeline([\n",
        "      # Pad each row with zeroes for reshaping \n",
        "      ('ZeroPadder', ZeroPadder()),\n",
        "\n",
        "      # Reshape to a weekly data that can be fed to a CNN\n",
        "      ('Reshaper_2D', DailyToWeekly())\n",
        "])"
      ],
      "execution_count": 0,
      "outputs": []
    },
    {
      "cell_type": "markdown",
      "metadata": {
        "id": "U-_zo6AuyPYz",
        "colab_type": "text"
      },
      "source": [
        "# Extracting features and labels\n",
        "\n",
        "- `features`: all kWh data (columns at index `2` and onwards)\n",
        "- `targets`: `FLAG` column in the original dataset. "
      ]
    },
    {
      "cell_type": "code",
      "metadata": {
        "id": "-Ux-htIzzEZh",
        "colab_type": "code",
        "colab": {}
      },
      "source": [
        "features, labels = df.iloc[:, 2:], df.iloc[:, 1]"
      ],
      "execution_count": 0,
      "outputs": []
    },
    {
      "cell_type": "markdown",
      "metadata": {
        "id": "fKmdnuZHzpE-",
        "colab_type": "text"
      },
      "source": [
        "# Train-Test Split"
      ]
    },
    {
      "cell_type": "markdown",
      "metadata": {
        "id": "pVnwLEPV8QCw",
        "colab_type": "text"
      },
      "source": [
        "## Split"
      ]
    },
    {
      "cell_type": "code",
      "metadata": {
        "id": "l5gdjKKKzrLB",
        "colab_type": "code",
        "colab": {}
      },
      "source": [
        "X_train, X_test, y_train, y_test = train_test_split(features, labels, \n",
        "                                                    test_size=0.2, \n",
        "                                                    random_state=0, \n",
        "                                                    stratify=labels.values)"
      ],
      "execution_count": 0,
      "outputs": []
    },
    {
      "cell_type": "markdown",
      "metadata": {
        "id": "AKf9p5vQ8RRR",
        "colab_type": "text"
      },
      "source": [
        "## Check Shapes"
      ]
    },
    {
      "cell_type": "code",
      "metadata": {
        "id": "hY2xB6vN9THZ",
        "colab_type": "code",
        "colab": {}
      },
      "source": [
        "NUM_CONSUMERS, NUM_DAYS = features.shape"
      ],
      "execution_count": 0,
      "outputs": []
    },
    {
      "cell_type": "code",
      "metadata": {
        "id": "8mHWVxiHz33d",
        "colab_type": "code",
        "colab": {}
      },
      "source": [
        "# First, confirm one label per example in training and test data\n",
        "assert len(X_train) == len(y_train)\n",
        "assert len(X_test) == len(y_test)\n",
        "\n",
        "# Then, confirm that the training and test features have the right dimensions\n",
        "assert X_train.ndim == 2\n",
        "assert X_test.ndim == 2\n",
        "\n",
        "# Next, confirm that the training and test set have exactly the right number of features\n",
        "assert X_train.shape[-1] == NUM_DAYS\n",
        "assert X_test.shape[-1] == NUM_DAYS\n",
        "\n",
        "# Are all consumers accounted for?\n",
        "assert len(X_train) + len(X_test) == NUM_CONSUMERS\n",
        "assert len(y_train) + len(y_test) == NUM_CONSUMERS\n",
        "\n",
        "# If all shapes are correct, remember them for later\n",
        "NUM_TRAIN, NUM_TEST = len(X_train), len(X_test)"
      ],
      "execution_count": 0,
      "outputs": []
    },
    {
      "cell_type": "markdown",
      "metadata": {
        "id": "u8lty9588dev",
        "colab_type": "text"
      },
      "source": [
        "# Testing Pipelines\n",
        "\n",
        "Before I begin hyperparameter tuning, I want to confirm that the `pipeline` approach hasn't introduced errors in my data.\n",
        "\n",
        "The flow of data is \n",
        "1. Load from data source.\n",
        "2. Stratified train test split\n",
        "3. Preprocess 1D data to get `X_1D`\n",
        "    - Convert to `numpy` array.\n",
        "    - Scale using chosen strategy.\n",
        "4. Preprocess `X_1D` to get `X_2D`\n",
        "\n",
        "\n"
      ]
    },
    {
      "cell_type": "code",
      "metadata": {
        "id": "FhQN5G1t8iCq",
        "colab_type": "code",
        "colab": {}
      },
      "source": [
        "# First, process the original data to get processed 1D data\n",
        "X_train_1D, y_train_1D = pipeline_1D.fit_transform(X_train), y_train.copy()"
      ],
      "execution_count": 0,
      "outputs": []
    },
    {
      "cell_type": "code",
      "metadata": {
        "id": "o4bHN0Ne8pW_",
        "colab_type": "code",
        "colab": {}
      },
      "source": [
        "# Then use processed 1D data to get 2D data\n",
        "X_train_2D, y_train_2D = pipeline_2D.fit_transform(X_train_1D), y_train.copy()"
      ],
      "execution_count": 0,
      "outputs": []
    },
    {
      "cell_type": "markdown",
      "metadata": {
        "id": "peCuJGWE8uNM",
        "colab_type": "text"
      },
      "source": [
        "## Test 1 - Distribution of Values\n",
        "\n",
        "Both the 1D and 2D data should have the normal distribution that we have come to expect from `StandardScaler` features."
      ]
    },
    {
      "cell_type": "code",
      "metadata": {
        "id": "96BNdJvP-T9G",
        "colab_type": "code",
        "colab": {}
      },
      "source": [
        "def plot_feature_distribution(X, kde=False, arr_name=None):\n",
        "  plt.figure(figsize=(12, 6))\n",
        "  distplot(X.ravel(), kde=kde, hist_kws=dict(edgecolor='k', linewidth=2))\n",
        "  plt.xlabel('Scaled kWh Values', fontsize=14)\n",
        "  plt.ylabel('Frequency', fontsize=14)\n",
        "  plt.title('Feature Distribution' if arr_name is None else 'Feature Distribution - ' + arr_name,\n",
        "            fontsize=18)"
      ],
      "execution_count": 0,
      "outputs": []
    },
    {
      "cell_type": "code",
      "metadata": {
        "id": "pn4T8ysV-2bZ",
        "colab_type": "code",
        "colab": {
          "base_uri": "https://localhost:8080/",
          "height": 412
        },
        "outputId": "158c897b-cca6-4c19-97a1-db2a92aab34a"
      },
      "source": [
        "plot_feature_distribution(X_train_1D, arr_name='X_train_1D - Standard')"
      ],
      "execution_count": 218,
      "outputs": [
        {
          "output_type": "display_data",
          "data": {
            "image/png": "[encoded data removed]",
            "text/plain": [
              "<Figure size 864x432 with 1 Axes>"
            ]
          },
          "metadata": {
            "tags": [],
            "needs_background": "light"
          }
        }
      ]
    },
    {
      "cell_type": "code",
      "metadata": {
        "id": "pIwtgPbR-7Um",
        "colab_type": "code",
        "colab": {
          "base_uri": "https://localhost:8080/",
          "height": 412
        },
        "outputId": "6b448f13-160a-4271-b2e6-033150665dc3"
      },
      "source": [
        "plot_feature_distribution(X_train_2D, arr_name='X_train_2D - Standard')"
      ],
      "execution_count": 220,
      "outputs": [
        {
          "output_type": "display_data",
          "data": {
            "image/png": "[encoded data removed]",
            "text/plain": [
              "<Figure size 864x432 with 1 Axes>"
            ]
          },
          "metadata": {
            "tags": [],
            "needs_background": "light"
          }
        }
      ]
    },
    {
      "cell_type": "markdown",
      "metadata": {
        "id": "by8R24dx_8zD",
        "colab_type": "text"
      },
      "source": [
        "## Test 2 - Shapes\n",
        "\n",
        "Once unravelled, the 2D data should have the shape as the 1D data (as long as we account for the zeroes that were appended during the transformation)."
      ]
    },
    {
      "cell_type": "code",
      "metadata": {
        "id": "8eDngvJUAcVQ",
        "colab_type": "code",
        "colab": {}
      },
      "source": [
        "# Same number of samples in 1D and 2D data?\n",
        "assert(X_train_1D_shape[0] == X_train_2D_shape[0])"
      ],
      "execution_count": 0,
      "outputs": []
    },
    {
      "cell_type": "code",
      "metadata": {
        "id": "wS4TSzDaAf8l",
        "colab_type": "code",
        "colab": {}
      },
      "source": [
        "# Are all original kWh values in the 1D and 2D data preserved? Test with first example\n",
        "# Indexing until the second last value because 2 zeros added in 2D data - don't consider those\n",
        "# All values expect for the appended zeros must match\n",
        "assert np.all(X_train_1D[0] == X_train_2D[0].ravel()[:-2])"
      ],
      "execution_count": 0,
      "outputs": []
    },
    {
      "cell_type": "code",
      "metadata": {
        "id": "OtImpHS8CzLw",
        "colab_type": "code",
        "colab": {}
      },
      "source": [
        "# Confirming that this ^ is the case for all 1D and 2D training examples\n",
        "assert np.all([X_1D.ravel() == X_2D.ravel()[:-2] for (X_1D, X_2D) in zip(X_train_1D, X_train_2D)])"
      ],
      "execution_count": 0,
      "outputs": []
    },
    {
      "cell_type": "code",
      "metadata": {
        "id": "oshs19_MA1yh",
        "colab_type": "code",
        "colab": {}
      },
      "source": [
        "# Confirm that the only data added to 2D train is the data added during zero padding\n",
        "PADDING = 2 \n",
        "\n",
        "# Number of values added to the 1D data during padding = 2 zeros per consumer \n",
        "VALS_ADDED = PADDING * NUM_TRAIN\n",
        "\n",
        "# Difference betwween count of 2D and 1D data = number of zeroes added\n",
        "assert X_train_2D.ravel().shape[0] - X_train_1D.ravel().shape[0] == VALS_ADDED"
      ],
      "execution_count": 0,
      "outputs": []
    }
  ]
}