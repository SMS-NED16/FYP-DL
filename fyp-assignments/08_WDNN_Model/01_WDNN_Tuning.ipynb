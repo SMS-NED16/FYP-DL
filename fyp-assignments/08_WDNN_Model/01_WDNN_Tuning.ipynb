{
  "nbformat": 4,
  "nbformat_minor": 0,
  "metadata": {
    "colab": {
      "name": "WDNN_Hyperparameter_Tuning.ipynb",
      "provenance": [],
      "collapsed_sections": [],
      "toc_visible": true
    },
    "kernelspec": {
      "name": "python3",
      "display_name": "Python 3"
    },
    "accelerator": "GPU"
  },
  "cells": [
    {
      "cell_type": "markdown",
      "metadata": {
        "id": "9-sVA5JEu3zN",
        "colab_type": "text"
      },
      "source": [
        "# WDNN - Hyperparameter Tuning"
      ]
    },
    {
      "cell_type": "markdown",
      "metadata": {
        "id": "8zTtBp-Wu6G_",
        "colab_type": "text"
      },
      "source": [
        "# Imports"
      ]
    },
    {
      "cell_type": "code",
      "metadata": {
        "id": "zj3jnhSOu7XS",
        "colab_type": "code",
        "colab": {
          "base_uri": "https://localhost:8080/",
          "height": 71
        },
        "outputId": "0732da85-8fb7-480e-8afa-c278cd7ef69d"
      },
      "source": [
        "# Standard imports\n",
        "import numpy as np \n",
        "import pandas as pd \n",
        "import os \n",
        "\n",
        "# For loading data from Drive\n",
        "from google.colab import drive\n",
        "\n",
        "# Plotting \n",
        "import matplotlib.pyplot as plt \n",
        "from matplotlib import style\n",
        "style.use('ggplot')\n",
        "%matplotlib inline \n",
        "from seaborn import distplot, heatmap\n",
        "\n",
        "# Scikit-Learn imports\n",
        "from sklearn.model_selection import RandomizedSearchCV, train_test_split \n",
        "from sklearn.preprocessing import StandardScaler, MinMaxScaler, RobustScaler, MaxAbsScaler, FunctionTransformer\n",
        "from sklearn.pipeline import Pipeline\n",
        "from sklearn.base import BaseEstimator, TransformerMixin\n",
        "\n",
        "# Tensorflow and Keras\n",
        "from tensorflow import keras"
      ],
      "execution_count": 1,
      "outputs": [
        {
          "output_type": "stream",
          "text": [
            "/usr/local/lib/python3.6/dist-packages/statsmodels/tools/_testing.py:19: FutureWarning: pandas.util.testing is deprecated. Use the functions in the public API at pandas.testing instead.\n",
            "  import pandas.util.testing as tm\n"
          ],
          "name": "stderr"
        }
      ]
    },
    {
      "cell_type": "markdown",
      "metadata": {
        "id": "cQyOIPSs1uZu",
        "colab_type": "text"
      },
      "source": [
        "# Loading Data"
      ]
    },
    {
      "cell_type": "code",
      "metadata": {
        "id": "4OtuaAc4pp5X",
        "colab_type": "code",
        "outputId": "6de1e4c2-f366-4c68-b758-2eb863c18678",
        "colab": {
          "base_uri": "https://localhost:8080/",
          "height": 54
        }
      },
      "source": [
        "# Mount Google Drive\n",
        "drive.mount('/content/drive/')"
      ],
      "execution_count": 2,
      "outputs": [
        {
          "output_type": "stream",
          "text": [
            "Drive already mounted at /content/drive/; to attempt to forcibly remount, call drive.mount(\"/content/drive/\", force_remount=True).\n"
          ],
          "name": "stdout"
        }
      ]
    },
    {
      "cell_type": "code",
      "metadata": {
        "id": "KHAb1W3Nf75C",
        "colab_type": "code",
        "colab": {}
      },
      "source": [
        "# Defining filepaths\n",
        "ROOT_DIR = \"/content/drive/My Drive\"\n",
        "FYP_DIR = \"EE 16-17 FYP DL Energy Theft Detection\"\n",
        "DATA_DIR = \"Data/full-processing-data\"\n",
        "FILE_NAME = \"outliersRemoved.csv\"\n",
        "\n",
        "# Create filepath\n",
        "FILE_PATH = os.path.join(ROOT_DIR, FYP_DIR, DATA_DIR, FILE_NAME)"
      ],
      "execution_count": 0,
      "outputs": []
    },
    {
      "cell_type": "code",
      "metadata": {
        "id": "JFVrfX1ypfI7",
        "colab_type": "code",
        "outputId": "98d1cc59-67e8-40a0-c947-cc5ea5c158cd",
        "colab": {
          "base_uri": "https://localhost:8080/",
          "height": 34
        }
      },
      "source": [
        "# Print the filepath for checking\n",
        "print(FILE_PATH)"
      ],
      "execution_count": 4,
      "outputs": [
        {
          "output_type": "stream",
          "text": [
            "/content/drive/My Drive/EE 16-17 FYP DL Energy Theft Detection/Data/full-processing-data/outliersRemoved.csv\n"
          ],
          "name": "stdout"
        }
      ]
    },
    {
      "cell_type": "code",
      "metadata": {
        "id": "ZX_IjAPTpg58",
        "colab_type": "code",
        "colab": {}
      },
      "source": [
        "df = pd.read_csv(FILE_PATH)"
      ],
      "execution_count": 0,
      "outputs": []
    },
    {
      "cell_type": "code",
      "metadata": {
        "id": "CgC7W4Rbpj7o",
        "colab_type": "code",
        "outputId": "61404d6a-549e-47cd-c262-030d51a12b76",
        "colab": {
          "base_uri": "https://localhost:8080/",
          "height": 270
        }
      },
      "source": [
        "# Did it work?\n",
        "df.head()"
      ],
      "execution_count": 6,
      "outputs": [
        {
          "output_type": "execute_result",
          "data": {
            "text/html": [
              "<div>\n",
              "<style scoped>\n",
              "    .dataframe tbody tr th:only-of-type {\n",
              "        vertical-align: middle;\n",
              "    }\n",
              "\n",
              "    .dataframe tbody tr th {\n",
              "        vertical-align: top;\n",
              "    }\n",
              "\n",
              "    .dataframe thead th {\n",
              "        text-align: right;\n",
              "    }\n",
              "</style>\n",
              "<table border=\"1\" class=\"dataframe\">\n",
              "  <thead>\n",
              "    <tr style=\"text-align: right;\">\n",
              "      <th></th>\n",
              "      <th>CONS_NO</th>\n",
              "      <th>FLAG</th>\n",
              "      <th>2014-01-01</th>\n",
              "      <th>2014-01-02</th>\n",
              "      <th>2014-01-03</th>\n",
              "      <th>2014-01-04</th>\n",
              "      <th>2014-01-05</th>\n",
              "      <th>2014-01-06</th>\n",
              "      <th>2014-01-07</th>\n",
              "      <th>2014-01-08</th>\n",
              "      <th>2014-01-09</th>\n",
              "      <th>2014-01-10</th>\n",
              "      <th>2014-01-11</th>\n",
              "      <th>2014-01-12</th>\n",
              "      <th>2014-01-13</th>\n",
              "      <th>2014-01-14</th>\n",
              "      <th>2014-01-15</th>\n",
              "      <th>2014-01-16</th>\n",
              "      <th>2014-01-17</th>\n",
              "      <th>2014-01-18</th>\n",
              "      <th>2014-01-19</th>\n",
              "      <th>2014-01-20</th>\n",
              "      <th>2014-01-21</th>\n",
              "      <th>2014-01-22</th>\n",
              "      <th>2014-01-23</th>\n",
              "      <th>2014-01-24</th>\n",
              "      <th>2014-01-25</th>\n",
              "      <th>2014-01-26</th>\n",
              "      <th>2014-01-27</th>\n",
              "      <th>2014-01-28</th>\n",
              "      <th>2014-01-29</th>\n",
              "      <th>2014-01-30</th>\n",
              "      <th>2014-01-31</th>\n",
              "      <th>2014-02-01</th>\n",
              "      <th>2014-02-02</th>\n",
              "      <th>2014-02-03</th>\n",
              "      <th>2014-02-04</th>\n",
              "      <th>2014-02-05</th>\n",
              "      <th>2014-02-06</th>\n",
              "      <th>2014-02-07</th>\n",
              "      <th>...</th>\n",
              "      <th>2016-09-22</th>\n",
              "      <th>2016-09-23</th>\n",
              "      <th>2016-09-24</th>\n",
              "      <th>2016-09-25</th>\n",
              "      <th>2016-09-26</th>\n",
              "      <th>2016-09-27</th>\n",
              "      <th>2016-09-28</th>\n",
              "      <th>2016-09-29</th>\n",
              "      <th>2016-09-30</th>\n",
              "      <th>2016-10-01</th>\n",
              "      <th>2016-10-02</th>\n",
              "      <th>2016-10-03</th>\n",
              "      <th>2016-10-04</th>\n",
              "      <th>2016-10-05</th>\n",
              "      <th>2016-10-06</th>\n",
              "      <th>2016-10-07</th>\n",
              "      <th>2016-10-08</th>\n",
              "      <th>2016-10-09</th>\n",
              "      <th>2016-10-10</th>\n",
              "      <th>2016-10-11</th>\n",
              "      <th>2016-10-12</th>\n",
              "      <th>2016-10-13</th>\n",
              "      <th>2016-10-14</th>\n",
              "      <th>2016-10-15</th>\n",
              "      <th>2016-10-16</th>\n",
              "      <th>2016-10-17</th>\n",
              "      <th>2016-10-18</th>\n",
              "      <th>2016-10-19</th>\n",
              "      <th>2016-10-20</th>\n",
              "      <th>2016-10-21</th>\n",
              "      <th>2016-10-22</th>\n",
              "      <th>2016-10-23</th>\n",
              "      <th>2016-10-24</th>\n",
              "      <th>2016-10-25</th>\n",
              "      <th>2016-10-26</th>\n",
              "      <th>2016-10-27</th>\n",
              "      <th>2016-10-28</th>\n",
              "      <th>2016-10-29</th>\n",
              "      <th>2016-10-30</th>\n",
              "      <th>2016-10-31</th>\n",
              "    </tr>\n",
              "  </thead>\n",
              "  <tbody>\n",
              "    <tr>\n",
              "      <th>0</th>\n",
              "      <td>0387DD8A07E07FDA6271170F86AD9151</td>\n",
              "      <td>1</td>\n",
              "      <td>0.0</td>\n",
              "      <td>0.00</td>\n",
              "      <td>0.00</td>\n",
              "      <td>0.00</td>\n",
              "      <td>0.00</td>\n",
              "      <td>0.00</td>\n",
              "      <td>0.00</td>\n",
              "      <td>0.00</td>\n",
              "      <td>0.00</td>\n",
              "      <td>0.00</td>\n",
              "      <td>0.00</td>\n",
              "      <td>0.00</td>\n",
              "      <td>0.00</td>\n",
              "      <td>0.00</td>\n",
              "      <td>0.00</td>\n",
              "      <td>0.00</td>\n",
              "      <td>0.00</td>\n",
              "      <td>0.00</td>\n",
              "      <td>0.00</td>\n",
              "      <td>0.00</td>\n",
              "      <td>0.00</td>\n",
              "      <td>0.00</td>\n",
              "      <td>0.00</td>\n",
              "      <td>0.00</td>\n",
              "      <td>0.00</td>\n",
              "      <td>0.00</td>\n",
              "      <td>0.00</td>\n",
              "      <td>0.00</td>\n",
              "      <td>0.00</td>\n",
              "      <td>0.00</td>\n",
              "      <td>0.00</td>\n",
              "      <td>0.00</td>\n",
              "      <td>0.00</td>\n",
              "      <td>0.0</td>\n",
              "      <td>0.00</td>\n",
              "      <td>0.00</td>\n",
              "      <td>0.0</td>\n",
              "      <td>0.00</td>\n",
              "      <td>...</td>\n",
              "      <td>8.56</td>\n",
              "      <td>10.48</td>\n",
              "      <td>8.20</td>\n",
              "      <td>12.53</td>\n",
              "      <td>7.90</td>\n",
              "      <td>8.58</td>\n",
              "      <td>10.12</td>\n",
              "      <td>9.96</td>\n",
              "      <td>7.60</td>\n",
              "      <td>18.19</td>\n",
              "      <td>10.93</td>\n",
              "      <td>11.41</td>\n",
              "      <td>19.92</td>\n",
              "      <td>10.70</td>\n",
              "      <td>9.20</td>\n",
              "      <td>6.77</td>\n",
              "      <td>6.760000</td>\n",
              "      <td>6.150000</td>\n",
              "      <td>6.500000</td>\n",
              "      <td>8.080000</td>\n",
              "      <td>7.97</td>\n",
              "      <td>8.810000</td>\n",
              "      <td>7.370000</td>\n",
              "      <td>11.720000</td>\n",
              "      <td>11.020000</td>\n",
              "      <td>8.180000</td>\n",
              "      <td>7.330000</td>\n",
              "      <td>6.710000</td>\n",
              "      <td>8.520000</td>\n",
              "      <td>6.310000</td>\n",
              "      <td>7.18</td>\n",
              "      <td>8.070000</td>\n",
              "      <td>8.090000</td>\n",
              "      <td>9.530000</td>\n",
              "      <td>5.480000</td>\n",
              "      <td>8.750000</td>\n",
              "      <td>9.300000</td>\n",
              "      <td>7.540000</td>\n",
              "      <td>9.160000</td>\n",
              "      <td>6.740000</td>\n",
              "    </tr>\n",
              "    <tr>\n",
              "      <th>1</th>\n",
              "      <td>01D6177B5D4FFE0CABA9EF17DAFC2B84</td>\n",
              "      <td>1</td>\n",
              "      <td>0.0</td>\n",
              "      <td>0.00</td>\n",
              "      <td>0.00</td>\n",
              "      <td>0.00</td>\n",
              "      <td>0.00</td>\n",
              "      <td>0.00</td>\n",
              "      <td>0.00</td>\n",
              "      <td>0.00</td>\n",
              "      <td>0.00</td>\n",
              "      <td>0.00</td>\n",
              "      <td>0.00</td>\n",
              "      <td>0.00</td>\n",
              "      <td>0.00</td>\n",
              "      <td>0.00</td>\n",
              "      <td>0.00</td>\n",
              "      <td>0.00</td>\n",
              "      <td>0.00</td>\n",
              "      <td>0.00</td>\n",
              "      <td>0.00</td>\n",
              "      <td>0.00</td>\n",
              "      <td>0.00</td>\n",
              "      <td>0.00</td>\n",
              "      <td>0.00</td>\n",
              "      <td>0.00</td>\n",
              "      <td>0.00</td>\n",
              "      <td>0.00</td>\n",
              "      <td>0.00</td>\n",
              "      <td>0.00</td>\n",
              "      <td>0.00</td>\n",
              "      <td>0.00</td>\n",
              "      <td>0.00</td>\n",
              "      <td>0.00</td>\n",
              "      <td>0.00</td>\n",
              "      <td>0.0</td>\n",
              "      <td>0.00</td>\n",
              "      <td>0.00</td>\n",
              "      <td>0.0</td>\n",
              "      <td>0.00</td>\n",
              "      <td>...</td>\n",
              "      <td>0.00</td>\n",
              "      <td>0.00</td>\n",
              "      <td>0.00</td>\n",
              "      <td>0.00</td>\n",
              "      <td>0.00</td>\n",
              "      <td>0.00</td>\n",
              "      <td>0.00</td>\n",
              "      <td>0.00</td>\n",
              "      <td>0.00</td>\n",
              "      <td>0.00</td>\n",
              "      <td>0.00</td>\n",
              "      <td>0.00</td>\n",
              "      <td>0.00</td>\n",
              "      <td>0.00</td>\n",
              "      <td>0.00</td>\n",
              "      <td>0.00</td>\n",
              "      <td>0.000000</td>\n",
              "      <td>0.000000</td>\n",
              "      <td>0.000000</td>\n",
              "      <td>0.000000</td>\n",
              "      <td>0.00</td>\n",
              "      <td>0.000000</td>\n",
              "      <td>0.000000</td>\n",
              "      <td>0.000000</td>\n",
              "      <td>0.000000</td>\n",
              "      <td>0.000000</td>\n",
              "      <td>0.000000</td>\n",
              "      <td>0.000000</td>\n",
              "      <td>0.000000</td>\n",
              "      <td>0.000000</td>\n",
              "      <td>0.00</td>\n",
              "      <td>0.000000</td>\n",
              "      <td>0.000000</td>\n",
              "      <td>0.000000</td>\n",
              "      <td>0.000000</td>\n",
              "      <td>0.000000</td>\n",
              "      <td>0.000000</td>\n",
              "      <td>0.000000</td>\n",
              "      <td>0.000000</td>\n",
              "      <td>0.000000</td>\n",
              "    </tr>\n",
              "    <tr>\n",
              "      <th>2</th>\n",
              "      <td>4B75AC4F2D8434CFF62DB64D0BB43103</td>\n",
              "      <td>1</td>\n",
              "      <td>0.0</td>\n",
              "      <td>0.00</td>\n",
              "      <td>0.00</td>\n",
              "      <td>0.00</td>\n",
              "      <td>0.00</td>\n",
              "      <td>0.00</td>\n",
              "      <td>0.00</td>\n",
              "      <td>0.00</td>\n",
              "      <td>0.00</td>\n",
              "      <td>0.00</td>\n",
              "      <td>0.00</td>\n",
              "      <td>0.00</td>\n",
              "      <td>0.00</td>\n",
              "      <td>0.00</td>\n",
              "      <td>0.00</td>\n",
              "      <td>0.00</td>\n",
              "      <td>0.00</td>\n",
              "      <td>0.00</td>\n",
              "      <td>0.00</td>\n",
              "      <td>0.00</td>\n",
              "      <td>0.00</td>\n",
              "      <td>0.00</td>\n",
              "      <td>0.00</td>\n",
              "      <td>0.00</td>\n",
              "      <td>0.00</td>\n",
              "      <td>0.00</td>\n",
              "      <td>0.00</td>\n",
              "      <td>0.00</td>\n",
              "      <td>0.00</td>\n",
              "      <td>0.00</td>\n",
              "      <td>0.00</td>\n",
              "      <td>0.00</td>\n",
              "      <td>0.00</td>\n",
              "      <td>0.0</td>\n",
              "      <td>0.00</td>\n",
              "      <td>0.00</td>\n",
              "      <td>0.0</td>\n",
              "      <td>0.00</td>\n",
              "      <td>...</td>\n",
              "      <td>0.00</td>\n",
              "      <td>0.00</td>\n",
              "      <td>0.00</td>\n",
              "      <td>0.00</td>\n",
              "      <td>0.00</td>\n",
              "      <td>0.00</td>\n",
              "      <td>0.00</td>\n",
              "      <td>0.00</td>\n",
              "      <td>0.00</td>\n",
              "      <td>0.00</td>\n",
              "      <td>0.00</td>\n",
              "      <td>0.00</td>\n",
              "      <td>0.00</td>\n",
              "      <td>0.00</td>\n",
              "      <td>0.00</td>\n",
              "      <td>8.34</td>\n",
              "      <td>13.483126</td>\n",
              "      <td>13.483126</td>\n",
              "      <td>13.483126</td>\n",
              "      <td>13.483126</td>\n",
              "      <td>12.73</td>\n",
              "      <td>13.483126</td>\n",
              "      <td>13.483126</td>\n",
              "      <td>13.483126</td>\n",
              "      <td>13.483126</td>\n",
              "      <td>13.483126</td>\n",
              "      <td>13.483126</td>\n",
              "      <td>13.483126</td>\n",
              "      <td>13.483126</td>\n",
              "      <td>13.483126</td>\n",
              "      <td>10.95</td>\n",
              "      <td>13.483126</td>\n",
              "      <td>13.483126</td>\n",
              "      <td>13.483126</td>\n",
              "      <td>13.483126</td>\n",
              "      <td>13.483126</td>\n",
              "      <td>13.483126</td>\n",
              "      <td>13.483126</td>\n",
              "      <td>13.483126</td>\n",
              "      <td>13.483126</td>\n",
              "    </tr>\n",
              "    <tr>\n",
              "      <th>3</th>\n",
              "      <td>B32AC8CC6D5D805AC053557AB05F5343</td>\n",
              "      <td>1</td>\n",
              "      <td>0.0</td>\n",
              "      <td>0.00</td>\n",
              "      <td>0.00</td>\n",
              "      <td>0.00</td>\n",
              "      <td>0.00</td>\n",
              "      <td>0.00</td>\n",
              "      <td>0.00</td>\n",
              "      <td>0.00</td>\n",
              "      <td>0.00</td>\n",
              "      <td>0.00</td>\n",
              "      <td>0.00</td>\n",
              "      <td>0.00</td>\n",
              "      <td>0.00</td>\n",
              "      <td>0.00</td>\n",
              "      <td>0.00</td>\n",
              "      <td>0.00</td>\n",
              "      <td>0.00</td>\n",
              "      <td>0.00</td>\n",
              "      <td>0.00</td>\n",
              "      <td>0.00</td>\n",
              "      <td>0.00</td>\n",
              "      <td>0.00</td>\n",
              "      <td>0.00</td>\n",
              "      <td>0.00</td>\n",
              "      <td>0.00</td>\n",
              "      <td>0.00</td>\n",
              "      <td>0.00</td>\n",
              "      <td>0.00</td>\n",
              "      <td>0.00</td>\n",
              "      <td>0.00</td>\n",
              "      <td>0.00</td>\n",
              "      <td>0.00</td>\n",
              "      <td>0.00</td>\n",
              "      <td>0.0</td>\n",
              "      <td>0.00</td>\n",
              "      <td>0.00</td>\n",
              "      <td>0.0</td>\n",
              "      <td>0.00</td>\n",
              "      <td>...</td>\n",
              "      <td>17.30</td>\n",
              "      <td>16.95</td>\n",
              "      <td>8.25</td>\n",
              "      <td>22.76</td>\n",
              "      <td>14.07</td>\n",
              "      <td>20.70</td>\n",
              "      <td>6.50</td>\n",
              "      <td>9.99</td>\n",
              "      <td>18.59</td>\n",
              "      <td>16.79</td>\n",
              "      <td>26.82</td>\n",
              "      <td>14.70</td>\n",
              "      <td>16.05</td>\n",
              "      <td>24.10</td>\n",
              "      <td>12.64</td>\n",
              "      <td>10.85</td>\n",
              "      <td>11.770000</td>\n",
              "      <td>13.030000</td>\n",
              "      <td>12.260000</td>\n",
              "      <td>15.660000</td>\n",
              "      <td>13.43</td>\n",
              "      <td>15.030000</td>\n",
              "      <td>14.610000</td>\n",
              "      <td>13.970000</td>\n",
              "      <td>15.070000</td>\n",
              "      <td>14.110000</td>\n",
              "      <td>14.770000</td>\n",
              "      <td>11.720000</td>\n",
              "      <td>11.730000</td>\n",
              "      <td>11.980000</td>\n",
              "      <td>12.81</td>\n",
              "      <td>15.120000</td>\n",
              "      <td>17.260000</td>\n",
              "      <td>14.910000</td>\n",
              "      <td>19.590000</td>\n",
              "      <td>20.790000</td>\n",
              "      <td>17.950000</td>\n",
              "      <td>19.260000</td>\n",
              "      <td>14.460000</td>\n",
              "      <td>11.720000</td>\n",
              "    </tr>\n",
              "    <tr>\n",
              "      <th>4</th>\n",
              "      <td>EDFC78B07BA2908B3395C4EB2304665E</td>\n",
              "      <td>1</td>\n",
              "      <td>2.9</td>\n",
              "      <td>5.64</td>\n",
              "      <td>6.99</td>\n",
              "      <td>3.32</td>\n",
              "      <td>3.61</td>\n",
              "      <td>5.35</td>\n",
              "      <td>4.73</td>\n",
              "      <td>3.68</td>\n",
              "      <td>3.53</td>\n",
              "      <td>3.42</td>\n",
              "      <td>3.81</td>\n",
              "      <td>4.58</td>\n",
              "      <td>3.56</td>\n",
              "      <td>4.25</td>\n",
              "      <td>3.86</td>\n",
              "      <td>3.53</td>\n",
              "      <td>3.41</td>\n",
              "      <td>0.85</td>\n",
              "      <td>0.88</td>\n",
              "      <td>3.81</td>\n",
              "      <td>6.51</td>\n",
              "      <td>9.19</td>\n",
              "      <td>7.79</td>\n",
              "      <td>7.02</td>\n",
              "      <td>7.25</td>\n",
              "      <td>6.37</td>\n",
              "      <td>6.43</td>\n",
              "      <td>7.89</td>\n",
              "      <td>7.46</td>\n",
              "      <td>7.95</td>\n",
              "      <td>7.59</td>\n",
              "      <td>4.84</td>\n",
              "      <td>6.06</td>\n",
              "      <td>5.6</td>\n",
              "      <td>6.72</td>\n",
              "      <td>7.29</td>\n",
              "      <td>5.6</td>\n",
              "      <td>6.28</td>\n",
              "      <td>...</td>\n",
              "      <td>9.56</td>\n",
              "      <td>9.48</td>\n",
              "      <td>10.60</td>\n",
              "      <td>10.06</td>\n",
              "      <td>10.79</td>\n",
              "      <td>10.91</td>\n",
              "      <td>17.77</td>\n",
              "      <td>10.37</td>\n",
              "      <td>13.51</td>\n",
              "      <td>14.13</td>\n",
              "      <td>17.44</td>\n",
              "      <td>15.96</td>\n",
              "      <td>12.18</td>\n",
              "      <td>18.54</td>\n",
              "      <td>13.44</td>\n",
              "      <td>11.68</td>\n",
              "      <td>9.150000</td>\n",
              "      <td>9.160000</td>\n",
              "      <td>10.190000</td>\n",
              "      <td>10.310000</td>\n",
              "      <td>8.03</td>\n",
              "      <td>10.080000</td>\n",
              "      <td>10.340000</td>\n",
              "      <td>11.240000</td>\n",
              "      <td>15.140000</td>\n",
              "      <td>14.360000</td>\n",
              "      <td>12.390000</td>\n",
              "      <td>10.360000</td>\n",
              "      <td>9.290000</td>\n",
              "      <td>7.910000</td>\n",
              "      <td>14.21</td>\n",
              "      <td>10.220000</td>\n",
              "      <td>8.470000</td>\n",
              "      <td>6.110000</td>\n",
              "      <td>6.100000</td>\n",
              "      <td>6.730000</td>\n",
              "      <td>7.520000</td>\n",
              "      <td>10.890000</td>\n",
              "      <td>9.860000</td>\n",
              "      <td>8.720000</td>\n",
              "    </tr>\n",
              "  </tbody>\n",
              "</table>\n",
              "<p>5 rows × 1036 columns</p>\n",
              "</div>"
            ],
            "text/plain": [
              "                            CONS_NO  FLAG  ...  2016-10-30  2016-10-31\n",
              "0  0387DD8A07E07FDA6271170F86AD9151     1  ...    9.160000    6.740000\n",
              "1  01D6177B5D4FFE0CABA9EF17DAFC2B84     1  ...    0.000000    0.000000\n",
              "2  4B75AC4F2D8434CFF62DB64D0BB43103     1  ...   13.483126   13.483126\n",
              "3  B32AC8CC6D5D805AC053557AB05F5343     1  ...   14.460000   11.720000\n",
              "4  EDFC78B07BA2908B3395C4EB2304665E     1  ...    9.860000    8.720000\n",
              "\n",
              "[5 rows x 1036 columns]"
            ]
          },
          "metadata": {
            "tags": []
          },
          "execution_count": 6
        }
      ]
    },
    {
      "cell_type": "markdown",
      "metadata": {
        "id": "ZkXW8Ucz6fG_",
        "colab_type": "text"
      },
      "source": [
        "# Custom Transformers"
      ]
    },
    {
      "cell_type": "markdown",
      "metadata": {
        "id": "94SBtByR6kNF",
        "colab_type": "text"
      },
      "source": [
        "## `ZeroPadder` Transformer \n",
        "- A custom transformer that I've written to pad feature 2D matrices (`X_train, X_test, X_val`) with the right number of zeroes to make the daily kWh data capable of being transformed to weekly kWh data. \n",
        "- I wanted to use `numpy` operations as much as possible because `pandas` operations tend to be slower. \n",
        "- I think the `transform` method can be simplified with `np.append`. "
      ]
    },
    {
      "cell_type": "code",
      "metadata": {
        "id": "1S0eYV9D6mjN",
        "colab_type": "code",
        "colab": {}
      },
      "source": [
        "class ZeroPadder(BaseEstimator, TransformerMixin):\n",
        "  \"\"\"Custom transformer class for padding 1D numpy array of daily kWh values so\n",
        "  that the total number of days is evenly divisible into a whole number of weeks.\n",
        "  \n",
        "    ATTRIBUTES\n",
        "    - `days_per_consumer` is the number of kWh entries in 1D array of a single consumer\n",
        "    - `days_per_week` is the number of days in a week \n",
        "    - `weeks_per_consumer` is the minimum number of whole weeks which cover `days_per_consumer`\n",
        "    - `padding` is the number of `pad_value`s to add to each 1D array.\n",
        "    - `pad_value` is the value with which the each 1D array in `X` will be padded\n",
        "\n",
        "    METHODS\n",
        "    - `pad_zeroes(self, row)`\n",
        "      Helper function to pad the right number of zeroes to a 1D numpy array `row`. \n",
        "      `row` is a single row of the 2D numpy array `X`.\n",
        "\n",
        "    - `fit(self, X, y=None)` \n",
        "      - initializes the attributes with the correct values according to\n",
        "      the input matrix `X`.\n",
        "      - returns an instance of the transformer class with the attributes initialised.\n",
        "\n",
        "    - `transform(self, X, y=None)\n",
        "      - uses numpy's apply_along_axis function to apply `pad_zeroes` to each row\n",
        "      of `X`. \n",
        "      - Returns 0 padded numpy matrix of dimension (m, n + padding)`\n",
        "    \"\"\"  \n",
        "  def __init__(self):\n",
        "    \"\"\"Initialise attributes with dummy values so that they can be reinitialized\n",
        "    when fit to the array `X`.\"\"\"\n",
        "    self.days_per_consumer = 0\n",
        "    self.days_per_week = 7\n",
        "    self.weeks_per_consumer = 0\n",
        "    self.padding = 0\n",
        "    self.pad_value = 0.0\n",
        "\n",
        "  def pad_zeroes(self, row):\n",
        "    \"\"\"Appends zeroes to end of each 1D numpy array of kWh values\"\"\"\n",
        "    return np.pad(row, pad_width=(0, self.padding), mode='constant', constant_values=self.pad_value)\n",
        "\n",
        "  def fit(self, X, y=None):\n",
        "    \"\"\"Update the attributes based on X\"\"\" \n",
        "    # Find the number of days of kWh entries for each consumer\n",
        "    self.days_per_consumer = X.shape[-1]\n",
        "\n",
        "    # Find the number of weeks in these days rounded to the nearest whole number \n",
        "    self.weeks_per_consumer = np.ceil(self.days_per_consumer / self.days_per_week).astype('uint8')\n",
        "\n",
        "    # Number of zeros for padding = number of extra days required to turn days_per_consumer\n",
        "    # into a number that is equivalent to a whole number of weeks\n",
        "    self.padding = self.weeks_per_consumer * self.days_per_week - self.days_per_consumer\n",
        "\n",
        "    # Once parameters have been fit, just return the updated instance of the transformer\n",
        "    return self\n",
        "\n",
        "  def transform(self, X, y=None):\n",
        "    \"\"\"Transform the data according to the specified attributes\"\"\"\n",
        "\n",
        "    # TODO: A simpler way to do this would be to use np.append(X, np.zeros((len(X), self.padding)), axis=1)\n",
        "    # This will eliminate the apply_along_axis call and nested calls to pad_zeroes\n",
        "    # Pad zeroes is more complicated than required for this application\n",
        "    return np.apply_along_axis(self.pad_zeroes, axis=1, arr=X)"
      ],
      "execution_count": 0,
      "outputs": []
    },
    {
      "cell_type": "markdown",
      "metadata": {
        "id": "lCgSHctO6pem",
        "colab_type": "text"
      },
      "source": [
        "## `DailyToWeekly` Transformer \n",
        "- A simple transformer that reshapes the daily kWh data to weekly kWh data. \n",
        "- For use with a 2D CNN, must also specify a channels dimension: in this case, channel is 1 (we don't have multiple streams of information for each consumer). "
      ]
    },
    {
      "cell_type": "code",
      "metadata": {
        "id": "A_Us_8qS6sMF",
        "colab_type": "code",
        "colab": {}
      },
      "source": [
        "class DailyToWeekly(BaseEstimator, TransformerMixin):\n",
        "  \"\"\"Custom transformer class that reshapes a 1D daily kWh data to 2D weekly data.\n",
        "  For compatibility with 2D CNN layers, adding a vestigial channels axis with \n",
        "  dimensionality of 1\"\"\"\n",
        "\n",
        "  def __init__(self):\n",
        "    \"\"\"Initialise a DailyToWeekly transformer with attributes for channel and \n",
        "    days per week that can be used in reshaping.\"\"\"\n",
        "    self.days = 0\n",
        "    self.weeks = 0\n",
        "    self.channels = 1 \n",
        "    self.days_per_week = 7\n",
        "\n",
        "  def daily_to_weekly(self, row):\n",
        "    \"\"\"Helper function to reshape (n, ) into (number_of_weeks, number_of_days_per_day, 1)\n",
        "    `row` is a single consumer's vector of kWh data.\"\"\"\n",
        "    return row.reshape((self.weeks, self.days_per_week, self.channels))\n",
        "\n",
        "  def fit(self, X, y=None):\n",
        "    \"\"\"Initialise `days` and `weeks` attributes with the right values based on `X`.\"\"\"\n",
        "    self.days = X.shape[-1]\n",
        "    self.weeks = self.days // self.days_per_week\n",
        "\n",
        "    # Must return instance with attributes initialised\n",
        "    return self\n",
        "\n",
        "  def transform(self, X, y=None):\n",
        "    \"\"\"Applies the `daily_to_weekly` transformation to each row in `X`\"\"\"\n",
        "    return np.apply_along_axis(self.daily_to_weekly, axis=1, arr=X)"
      ],
      "execution_count": 0,
      "outputs": []
    },
    {
      "cell_type": "markdown",
      "metadata": {
        "id": "0Mb0RQa86ycd",
        "colab_type": "text"
      },
      "source": [
        "# Pipelines "
      ]
    },
    {
      "cell_type": "markdown",
      "metadata": {
        "id": "opHcYtWE60lh",
        "colab_type": "text"
      },
      "source": [
        "## `pipeline_1D` - WNN\n",
        "\n",
        "This pipeline prepares our data for the WNN component. It consists of the following individual transformations. \n",
        "1. `to_numpy`: Convert any `DataFrames` to `numpy` `ndarray`s for faster processing.\n",
        "2. `row_to_col`: Transpose all features arrays so that rows (consumers) become columns.\n",
        "3. `scaler`: Apply a user-specified scaling strategy to the transposed data on a column-wise (consumer-wise) basis.\n",
        "4. `col_to_row`: Retranspose the scaled data so that consumers are once again along the rows axis."
      ]
    },
    {
      "cell_type": "code",
      "metadata": {
        "id": "-DlU2ZiW6-vm",
        "colab_type": "code",
        "colab": {}
      },
      "source": [
        "pipeline_1D = Pipeline([\n",
        "            # Convert all matrices to numpy array for faster processing\n",
        "            ('to_numpy', FunctionTransformer(pd.DataFrame.to_numpy)),\n",
        "\n",
        "            # Transpose once so that consumers are now along column axis\n",
        "            ('row_to_col', FunctionTransformer(np.transpose)), \n",
        "\n",
        "            # Use scikit-learn scaler of your choice to scale kWhs on a consumer basis\n",
        "            ('scaler', StandardScaler()),\n",
        "\n",
        "            # Retranspose so that consumers are once again along the rows axis\n",
        "            ('col_to_row', FunctionTransformer(np.transpose)),\n",
        "])"
      ],
      "execution_count": 0,
      "outputs": []
    },
    {
      "cell_type": "markdown",
      "metadata": {
        "id": "0lgNoNJT60gt",
        "colab_type": "text"
      },
      "source": [
        "## `pipeline_2D` - CNN\n",
        "\n",
        "This pipeline prepares features for the CNN component of our WDNN through the following custom transformers\n",
        "\n",
        "1. `ZeroPadder`: a transformer that appends to each consumer's kWh array the minimum number of zeroes required for the daily kWh data to be transformable to weekly data.\n",
        "2. `DailyToWeekly`: a second transformer that reshapes each consumer's kWh data into weekly data with is compatible for the convolutional component of the model"
      ]
    },
    {
      "cell_type": "code",
      "metadata": {
        "id": "ZbLApXB272yG",
        "colab_type": "code",
        "colab": {}
      },
      "source": [
        "pipeline_2D = Pipeline([\n",
        "      # Pad each row with zeroes for reshaping \n",
        "      ('ZeroPadder', ZeroPadder()),\n",
        "\n",
        "      # Reshape to a weekly data that can be fed to a CNN\n",
        "      ('Reshaper_2D', DailyToWeekly())\n",
        "])"
      ],
      "execution_count": 0,
      "outputs": []
    },
    {
      "cell_type": "markdown",
      "metadata": {
        "id": "U-_zo6AuyPYz",
        "colab_type": "text"
      },
      "source": [
        "# Extracting features and labels\n",
        "\n",
        "- `features`: all kWh data (columns at index `2` and onwards)\n",
        "- `targets`: `FLAG` column in the original dataset. "
      ]
    },
    {
      "cell_type": "code",
      "metadata": {
        "id": "-Ux-htIzzEZh",
        "colab_type": "code",
        "colab": {}
      },
      "source": [
        "features, labels = df.iloc[:, 2:], df.iloc[:, 1]"
      ],
      "execution_count": 0,
      "outputs": []
    },
    {
      "cell_type": "markdown",
      "metadata": {
        "id": "fKmdnuZHzpE-",
        "colab_type": "text"
      },
      "source": [
        "# Train-Test-Val Split"
      ]
    },
    {
      "cell_type": "markdown",
      "metadata": {
        "id": "pVnwLEPV8QCw",
        "colab_type": "text"
      },
      "source": [
        "## Split 1: Train/Test"
      ]
    },
    {
      "cell_type": "code",
      "metadata": {
        "id": "l5gdjKKKzrLB",
        "colab_type": "code",
        "colab": {}
      },
      "source": [
        "X_train, X_test, y_train, y_test = train_test_split(features, labels, \n",
        "                                                    test_size=0.2, \n",
        "                                                    random_state=0, \n",
        "                                                    stratify=labels.values)"
      ],
      "execution_count": 0,
      "outputs": []
    },
    {
      "cell_type": "markdown",
      "metadata": {
        "id": "AKf9p5vQ8RRR",
        "colab_type": "text"
      },
      "source": [
        "### Check Shapes"
      ]
    },
    {
      "cell_type": "code",
      "metadata": {
        "id": "hY2xB6vN9THZ",
        "colab_type": "code",
        "colab": {}
      },
      "source": [
        "NUM_CONSUMERS, NUM_DAYS = features.shape"
      ],
      "execution_count": 0,
      "outputs": []
    },
    {
      "cell_type": "code",
      "metadata": {
        "id": "8mHWVxiHz33d",
        "colab_type": "code",
        "colab": {}
      },
      "source": [
        "# First, confirm one label per example in training and test data\n",
        "assert len(X_train) == len(y_train)\n",
        "assert len(X_test) == len(y_test)\n",
        "\n",
        "# Then, confirm that the training and test features have the right dimensions\n",
        "assert X_train.ndim == 2\n",
        "assert X_test.ndim == 2\n",
        "\n",
        "# Next, confirm that the training and test set have exactly the right number of features\n",
        "assert X_train.shape[-1] == NUM_DAYS\n",
        "assert X_test.shape[-1] == NUM_DAYS\n",
        "\n",
        "# Are all consumers accounted for?\n",
        "assert len(X_train) + len(X_test) == NUM_CONSUMERS\n",
        "assert len(y_train) + len(y_test) == NUM_CONSUMERS\n",
        "\n",
        "# If all shapes are correct, remember them for later\n",
        "NUM_TRAIN, NUM_TEST = len(X_train), len(X_test)"
      ],
      "execution_count": 0,
      "outputs": []
    },
    {
      "cell_type": "markdown",
      "metadata": {
        "id": "2PJkzWpPaSNF",
        "colab_type": "text"
      },
      "source": [
        "## Split 2: Train/Val"
      ]
    },
    {
      "cell_type": "code",
      "metadata": {
        "id": "oqM8z7CxamQr",
        "colab_type": "code",
        "colab": {}
      },
      "source": [
        "X_train, X_val, y_train, y_val = train_test_split(X_train, y_train, \n",
        "                                                  random_state=0, \n",
        "                                                  test_size=0.2, \n",
        "                                                  stratify=y_train.values)"
      ],
      "execution_count": 0,
      "outputs": []
    },
    {
      "cell_type": "markdown",
      "metadata": {
        "id": "MM6e8ke4a7L_",
        "colab_type": "text"
      },
      "source": [
        "### Check Shapes"
      ]
    },
    {
      "cell_type": "code",
      "metadata": {
        "id": "5brEx5mga9i7",
        "colab_type": "code",
        "colab": {}
      },
      "source": [
        "# One label per training example in validation set\n",
        "assert len(X_val) == len(y_val)\n",
        "\n",
        "# Confirm the validation features have the right dimensions\n",
        "assert X_val.ndim == 2\n",
        "assert y_val.ndim == 1\n",
        "\n",
        "# Confirm that validation set has the right number of features\n",
        "assert X_val.shape[-1] == NUM_DAYS"
      ],
      "execution_count": 0,
      "outputs": []
    },
    {
      "cell_type": "markdown",
      "metadata": {
        "id": "u8lty9588dev",
        "colab_type": "text"
      },
      "source": [
        "# Testing Pipelines\n",
        "\n",
        "Before I begin hyperparameter tuning, I want to confirm that the `pipeline` approach hasn't introduced errors in my data.\n",
        "\n",
        "The flow of data is \n",
        "1. Load from data source.\n",
        "2. Stratified train test split\n",
        "3. Preprocess 1D data to get `X_1D`\n",
        "    - Convert to `numpy` array.\n",
        "    - Scale using chosen strategy.\n",
        "4. Preprocess `X_1D` to get `X_2D`\n",
        "\n",
        "\n"
      ]
    },
    {
      "cell_type": "code",
      "metadata": {
        "id": "FhQN5G1t8iCq",
        "colab_type": "code",
        "colab": {}
      },
      "source": [
        "# First, process the original data to get processed 1D data\n",
        "X_train_1D, y_train_1D = pipeline_1D.fit_transform(X_train), y_train.copy()"
      ],
      "execution_count": 0,
      "outputs": []
    },
    {
      "cell_type": "code",
      "metadata": {
        "id": "o4bHN0Ne8pW_",
        "colab_type": "code",
        "colab": {}
      },
      "source": [
        "# Then use processed 1D data to get 2D data\n",
        "X_train_2D, y_train_2D = pipeline_2D.fit_transform(X_train_1D), y_train.copy()"
      ],
      "execution_count": 0,
      "outputs": []
    },
    {
      "cell_type": "markdown",
      "metadata": {
        "id": "peCuJGWE8uNM",
        "colab_type": "text"
      },
      "source": [
        "## Test 1 - Distribution of Values\n",
        "\n",
        "Both the 1D and 2D data should have the normal distribution that we have come to expect from `StandardScaler` features."
      ]
    },
    {
      "cell_type": "code",
      "metadata": {
        "id": "96BNdJvP-T9G",
        "colab_type": "code",
        "colab": {}
      },
      "source": [
        "def plot_feature_distribution(X, kde=False, arr_name=None):\n",
        "  plt.figure(figsize=(12, 6))\n",
        "  distplot(X.ravel(), kde=kde, hist_kws=dict(edgecolor='k', linewidth=2))\n",
        "  plt.xlabel('Scaled kWh Values', fontsize=14)\n",
        "  plt.ylabel('Frequency', fontsize=14)\n",
        "  plt.title('Feature Distribution' if arr_name is None else 'Feature Distribution - ' + arr_name,\n",
        "            fontsize=18)"
      ],
      "execution_count": 0,
      "outputs": []
    },
    {
      "cell_type": "code",
      "metadata": {
        "id": "pn4T8ysV-2bZ",
        "colab_type": "code",
        "colab": {
          "base_uri": "https://localhost:8080/",
          "height": 412
        },
        "outputId": "a692acb7-66fd-46ce-c265-e26e7d5c797b"
      },
      "source": [
        "plot_feature_distribution(X_train_1D, arr_name='X_train_1D - Standard')"
      ],
      "execution_count": 20,
      "outputs": [
        {
          "output_type": "display_data",
          "data": {
            "image/png": "[encoded data removed]",
            "text/plain": [
              "<Figure size 864x432 with 1 Axes>"
            ]
          },
          "metadata": {
            "tags": [],
            "needs_background": "light"
          }
        }
      ]
    },
    {
      "cell_type": "code",
      "metadata": {
        "id": "pIwtgPbR-7Um",
        "colab_type": "code",
        "colab": {
          "base_uri": "https://localhost:8080/",
          "height": 412
        },
        "outputId": "f8ea57dc-465b-45f8-eb47-e22f8f0bd9d7"
      },
      "source": [
        "plot_feature_distribution(X_train_2D, arr_name='X_train_2D - Standard')"
      ],
      "execution_count": 21,
      "outputs": [
        {
          "output_type": "display_data",
          "data": {
            "image/png": "[encoded data removed]",
            "text/plain": [
              "<Figure size 864x432 with 1 Axes>"
            ]
          },
          "metadata": {
            "tags": [],
            "needs_background": "light"
          }
        }
      ]
    },
    {
      "cell_type": "markdown",
      "metadata": {
        "id": "by8R24dx_8zD",
        "colab_type": "text"
      },
      "source": [
        "## Test 2 - Shapes\n",
        "\n",
        "Once unravelled, the 2D data should have the shape as the 1D data (as long as we account for the zeroes that were appended during the transformation)."
      ]
    },
    {
      "cell_type": "code",
      "metadata": {
        "id": "8eDngvJUAcVQ",
        "colab_type": "code",
        "colab": {}
      },
      "source": [
        "# Same number of samples in 1D and 2D data?\n",
        "assert(X_train_1D.shape[0] == X_train_2D.shape[0])"
      ],
      "execution_count": 0,
      "outputs": []
    },
    {
      "cell_type": "code",
      "metadata": {
        "id": "wS4TSzDaAf8l",
        "colab_type": "code",
        "colab": {}
      },
      "source": [
        "# Are all original kWh values in the 1D and 2D data preserved? Test with first example\n",
        "# Indexing until the second last value because 2 zeros added in 2D data - don't consider those\n",
        "# All values expect for the appended zeros must match\n",
        "assert np.all(X_train_1D[0] == X_train_2D[0].ravel()[:-2])"
      ],
      "execution_count": 0,
      "outputs": []
    },
    {
      "cell_type": "code",
      "metadata": {
        "id": "OtImpHS8CzLw",
        "colab_type": "code",
        "colab": {}
      },
      "source": [
        "# Confirming that this ^ is the case for all 1D and 2D training examples\n",
        "assert np.all([X_1D.ravel() == X_2D.ravel()[:-2] for (X_1D, X_2D) in zip(X_train_1D, X_train_2D)])"
      ],
      "execution_count": 0,
      "outputs": []
    },
    {
      "cell_type": "code",
      "metadata": {
        "id": "oshs19_MA1yh",
        "colab_type": "code",
        "colab": {}
      },
      "source": [
        "# Confirm that the only data added to 2D train is the data added during zero padding\n",
        "PADDING = 2 \n",
        "\n",
        "# Number of values added to the 1D data during padding = 2 zeros per consumer \n",
        "VALS_ADDED = PADDING * len(X_train)\n",
        "\n",
        "# Difference betwween count of 2D and 1D data = number of zeroes added\n",
        "assert X_train_2D.ravel().shape[0] - X_train_1D.ravel().shape[0] == VALS_ADDED"
      ],
      "execution_count": 0,
      "outputs": []
    },
    {
      "cell_type": "markdown",
      "metadata": {
        "id": "SaFHz1hKDvwg",
        "colab_type": "text"
      },
      "source": [
        "# Preparing WDNN\n",
        "\n",
        "Previously, we've tuned hyperparameters of our `keras` models by wrapping them up in a `KerasClassifier` that is compatible with `keras`'s API for `scikit-learn`. This classifier is then passed as an estimator to a `GridSearchCV` from `sklearn` along with a `param_grid` that defines the hyperparameter space. \n",
        "\n",
        "However, we can't use this approach with the WDNN because the `keras` Scikit-Learn API only supports `Sequential` models, whereas the WDNN is built with a functional API. "
      ]
    },
    {
      "cell_type": "markdown",
      "metadata": {
        "id": "etH61x8kKD2R",
        "colab_type": "text"
      },
      "source": [
        "## Build Function\n",
        "\n",
        "This function can be used to build a customised WDNN with user-defined hyperparameters. These include\n",
        "\n",
        "**For WNN Densely Connected Layer**\n",
        "- `wnn_units`: number of hidden units. This must be equal to the number of hidden units in the CNN's Dense layer if the two outputs are to be merged with `add, subtract, multiply, dot` or any other merging function that requires same dimensionality of inputs. \n",
        "- `wnn_activation`: the activation function.\n",
        "\n",
        "**For CNN's Convolutional Layers**\n",
        "- `cnn_filters`: Same for all layers, according to Zheng's architecture, but you can change these.\n",
        "- `cnn_activation`: `relu` and `tanh` are worth investigating.\n",
        "- `cnn_kernel_size`\n",
        "\n",
        "**For CNN Pooling**\n",
        "- `cnn_pool_size`\n",
        "- TODO: add option to use other pooling layers. \n",
        "\n",
        "**For CNN Densely Connected Classifier**\n",
        "- `cnn_dense_activation`: activation function for densely connected classiifer units.\n",
        "\n",
        "**Compilation**\n",
        "- `optimizer`\n",
        "\n",
        "**Other Params**\n",
        "- `show_summary`: if `True`, will print result of `model.summary()`.\n",
        "- `show_graph`: if `True`, will display an image of the  computation graph of the model. \n",
        "\n"
      ]
    },
    {
      "cell_type": "code",
      "metadata": {
        "id": "1u1RgjZLD2cr",
        "colab_type": "code",
        "colab": {}
      },
      "source": [
        "def build_WDNN(wnn_activation='relu', wnn_units=60, cnn_activation='relu',\n",
        "               cnn_filters=18, cnn_kernel_size=(3, 3), cnn_pool_size=(3, 3), \n",
        "               cnn_dense_activation='relu', optimizer='adam', show_summary=False,\n",
        "               show_graph=False): \n",
        "  \"\"\"Function that builds a WDNN with the specified hyperparameters. Will be passed\n",
        "  as a build function to a `kerasClassifier` wrapper\"\"\"\n",
        "  # Defining some constants - bad practice, need to find a way to do this automatically\n",
        "  num_features = 1034 \n",
        "  weeks_per_consumer = 148\n",
        "  days_per_week = 7\n",
        "  channels = 1\n",
        "\n",
        "  # INPUT LAYERS\n",
        "  wnn_input = keras.layers.Input(name='wnn_input', shape=(num_features,))\n",
        "  cnn_input = keras.layers.Input(name='cnn_input',\n",
        "                                 shape=(weeks_per_consumer, days_per_week, channels))\n",
        "  \n",
        "  # WNN HIDDEN LAYERS\n",
        "  wnn_dense_1 = keras.layers.Dense(activation=wnn_activation, units=wnn_units)(wnn_input)\n",
        "\n",
        "\n",
        "  # CNN HIDDEN LAYERS\n",
        "  # First convolutional layer\n",
        "  cnn_conv_1 = keras.layers.Conv2D(filters=cnn_filters, activation=cnn_activation, \n",
        "                                    padding='same', kernel_size=cnn_kernel_size)(cnn_input)\n",
        "\n",
        "  # Second Conv2D\n",
        "  cnn_conv_2 = keras.layers.Conv2D(filters=cnn_filters, activation=cnn_activation, \n",
        "                                    padding='same', kernel_size=cnn_kernel_size)(cnn_conv_1)\n",
        "\n",
        "  # Third Conv2D\n",
        "  cnn_conv_3 = keras.layers.Conv2D(filters=cnn_filters, activation=cnn_activation, \n",
        "                                    padding='same', kernel_size=cnn_kernel_size)(cnn_conv_2)\n",
        "\n",
        "  # Fourth Conv2D\n",
        "  cnn_conv_4 = keras.layers.Conv2D(filters=cnn_filters, activation=cnn_activation, \n",
        "                                    padding='same', kernel_size=cnn_kernel_size)(cnn_conv_3)\n",
        "\n",
        "  # Fifth Conv2D\n",
        "  cnn_conv_5 = keras.layers.Conv2D(filters=cnn_filters, activation=cnn_activation,\n",
        "                                    padding='same', kernel_size=cnn_kernel_size)(cnn_conv_4)\n",
        "\n",
        "  # CNN Max Pooling\n",
        "  cnn_max_pooling_2d = keras.layers.MaxPooling2D(pool_size=cnn_pool_size)(cnn_conv_5)\n",
        "\n",
        "  # Fully connected classifier\n",
        "  cnn_flatten = keras.layers.Flatten()(cnn_max_pooling_2d)\n",
        "  \n",
        "  # Number of units must be same as wnn_dense_1 if usign `add`, `subtract`, `multiply`, `dot` for merge \n",
        "  cnn_dense_1 = keras.layers.Dense(units=wnn_units, \n",
        "                                   activation=cnn_dense_activation)(cnn_flatten)\n",
        "\n",
        "  # Merge CNN and WNN outputs\n",
        "  merged_outputs = keras.layers.add(inputs=[wnn_dense_1, cnn_dense_1])\n",
        "\n",
        "  # Output\n",
        "  wdnn_output = keras.layers.Dense(units=1, activation='sigmoid', name='main_output')(merged_outputs)\n",
        "\n",
        "  # Build the computation graph and return it \n",
        "  wdnn_model = keras.models.Model(inputs={'wnn_input': wnn_input, 'cnn_input': cnn_input}, \n",
        "                            outputs={'wdnn_output': wdnn_output})\n",
        "  \n",
        "  # Compile it with the optimizer\n",
        "  wdnn_model.compile(loss='binary_crossentropy', metrics=[keras.metrics.AUC()], \n",
        "                     optimizer=optimizer)\n",
        "  \n",
        "  # Optionally, print summary and show model graph\n",
        "  if show_summary:\n",
        "    print(wdnn_model.summary())\n",
        "  \n",
        "  # Optionally, show an image of the model's architecture\n",
        "  if show_graph:\n",
        "    keras.utils.plot_model(wdnn_model, show_shapes=True, show_layer_names=True, \n",
        "                           to_file='model.png')\n",
        "\n",
        "  # Return wdnn_model\n",
        "  return wdnn_model"
      ],
      "execution_count": 0,
      "outputs": []
    },
    {
      "cell_type": "markdown",
      "metadata": {
        "id": "YykYScqFPyym",
        "colab_type": "text"
      },
      "source": [
        "### TODOS\n",
        "- **Add option to dynamically vary the number of CNN layers**.\n",
        "    - Must write a for loop.\n",
        "    - Use variable to keep track of previous layer.\n",
        "    - Route output of last layer to flatten.\n",
        "    - Can each layer have its own filter count?\n",
        "- **Add option to change merging function**\n",
        "    - Will require some assertions and tests to confirm shape compatibility.\n",
        "    - Options: `add`. `subtract`, `multiply`, `dot`, `average`, `concatenate`.\n",
        "- **Add Regularization**\n",
        "    - How to do this dynamically? \n",
        "    - Should dropout be added after every layer? Only the CNN layers? Shoud dropout rates be the same?\n",
        "    - Why dropout? Why not L1/L2/L1-L2 regularization? How to specify the rate?\n",
        "    - Batch normalization?\n",
        "- **Fix `plot_model`**\n"
      ]
    },
    {
      "cell_type": "markdown",
      "metadata": {
        "id": "7EEI5-8bhbQf",
        "colab_type": "text"
      },
      "source": [
        "## Does the build function work?"
      ]
    },
    {
      "cell_type": "code",
      "metadata": {
        "id": "SuqoH2P_QPy4",
        "colab_type": "code",
        "colab": {
          "base_uri": "https://localhost:8080/",
          "height": 629
        },
        "outputId": "b23371b2-b0d1-43e8-f2df-57822b873483"
      },
      "source": [
        "wdnn_model = build_WDNN(show_graph=True, show_summary=True)"
      ],
      "execution_count": 28,
      "outputs": [
        {
          "output_type": "stream",
          "text": [
            "Model: \"model\"\n",
            "__________________________________________________________________________________________________\n",
            "Layer (type)                    Output Shape         Param #     Connected to                     \n",
            "==================================================================================================\n",
            "cnn_input (InputLayer)          [(None, 148, 7, 1)]  0                                            \n",
            "__________________________________________________________________________________________________\n",
            "conv2d (Conv2D)                 (None, 148, 7, 18)   180         cnn_input[0][0]                  \n",
            "__________________________________________________________________________________________________\n",
            "conv2d_1 (Conv2D)               (None, 148, 7, 18)   2934        conv2d[0][0]                     \n",
            "__________________________________________________________________________________________________\n",
            "conv2d_2 (Conv2D)               (None, 148, 7, 18)   2934        conv2d_1[0][0]                   \n",
            "__________________________________________________________________________________________________\n",
            "conv2d_3 (Conv2D)               (None, 148, 7, 18)   2934        conv2d_2[0][0]                   \n",
            "__________________________________________________________________________________________________\n",
            "conv2d_4 (Conv2D)               (None, 148, 7, 18)   2934        conv2d_3[0][0]                   \n",
            "__________________________________________________________________________________________________\n",
            "max_pooling2d (MaxPooling2D)    (None, 49, 2, 18)    0           conv2d_4[0][0]                   \n",
            "__________________________________________________________________________________________________\n",
            "wnn_input (InputLayer)          [(None, 1034)]       0                                            \n",
            "__________________________________________________________________________________________________\n",
            "flatten (Flatten)               (None, 1764)         0           max_pooling2d[0][0]              \n",
            "__________________________________________________________________________________________________\n",
            "dense (Dense)                   (None, 60)           62100       wnn_input[0][0]                  \n",
            "__________________________________________________________________________________________________\n",
            "dense_1 (Dense)                 (None, 60)           105900      flatten[0][0]                    \n",
            "__________________________________________________________________________________________________\n",
            "add (Add)                       (None, 60)           0           dense[0][0]                      \n",
            "                                                                 dense_1[0][0]                    \n",
            "__________________________________________________________________________________________________\n",
            "main_output (Dense)             (None, 1)            61          add[0][0]                        \n",
            "==================================================================================================\n",
            "Total params: 179,977\n",
            "Trainable params: 179,977\n",
            "Non-trainable params: 0\n",
            "__________________________________________________________________________________________________\n",
            "None\n"
          ],
          "name": "stdout"
        }
      ]
    },
    {
      "cell_type": "code",
      "metadata": {
        "id": "zLr6VOrnQYds",
        "colab_type": "code",
        "colab": {
          "base_uri": "https://localhost:8080/",
          "height": 1000
        },
        "outputId": "19f53dce-6ace-4eef-cb7e-202597e4746d"
      },
      "source": [
        "keras.utils.plot_model(wdnn_model, show_shapes=True, show_layer_names=False)"
      ],
      "execution_count": 29,
      "outputs": [
        {
          "output_type": "execute_result",
          "data": {
            "image/png": "[encoded data removed]",
            "text/plain": [
              "<IPython.core.display.Image object>"
            ]
          },
          "metadata": {
            "tags": []
          },
          "execution_count": 29
        }
      ]
    },
    {
      "cell_type": "markdown",
      "metadata": {
        "id": "MwX_I2vrhf7A",
        "colab_type": "text"
      },
      "source": [
        "# WDNN Workflow"
      ]
    },
    {
      "cell_type": "markdown",
      "metadata": {
        "id": "A5Jp9aOXhiIw",
        "colab_type": "text"
      },
      "source": [
        "## Step 0 - Train/Test/Val Data Preparation\n",
        "\n",
        "For all three sets, the flow is \n",
        "- `data_1D` = `original_data` -> `pipeline_1D` \n",
        "- `data_2D` = `data_1D` -> `pipeline_2D` \n",
        "\n",
        "Only the features are passed to the pipelines' `fit_transform`. "
      ]
    },
    {
      "cell_type": "code",
      "metadata": {
        "id": "oIZwUVWchl_U",
        "colab_type": "code",
        "colab": {}
      },
      "source": [
        "# Training data \n",
        "X_train_1D = pipeline_1D.fit_transform(X_train)\n",
        "X_train_2D = pipeline_2D.fit_transform(X_train_1D)\n",
        "y_train_copy = y_train.copy()\n",
        "\n",
        "# Validation data\n",
        "X_val_1D = pipeline_1D.fit_transform(X_val)\n",
        "X_val_2D = pipeline_2D.fit_transform(X_val_1D)\n",
        "y_validation = y_val.copy()"
      ],
      "execution_count": 0,
      "outputs": []
    },
    {
      "cell_type": "markdown",
      "metadata": {
        "id": "ls6sSocYu1iJ",
        "colab_type": "text"
      },
      "source": [
        "Prepare test set at the very end."
      ]
    },
    {
      "cell_type": "markdown",
      "metadata": {
        "id": "HqqegIiBQ7In",
        "colab_type": "text"
      },
      "source": [
        "## Step 1: Build a List of Models\n",
        "\n",
        "Try and make models with all except one hyperparameter same. For this test hyperparameter, you can specify different values.\n",
        "\n",
        "As an example, I am building 4 different WDNNs. Each as a different number of filters for the convolutional layers."
      ]
    },
    {
      "cell_type": "code",
      "metadata": {
        "id": "wH4qv2h4RwiT",
        "colab_type": "code",
        "colab": {}
      },
      "source": [
        "# This is your list of hyperparameters\n",
        "cnn_filters_to_test = [6, 12, 18, 24]\n",
        "\n",
        "# Use list comprehension to build a list of models with a call to the build_WDNN function\n",
        "cnn_filter_models = [build_WDNN(cnn_filters=n_filters) for n_filters in cnn_filters_to_test]"
      ],
      "execution_count": 0,
      "outputs": []
    },
    {
      "cell_type": "markdown",
      "metadata": {
        "id": "O5OAMrmMSB6k",
        "colab_type": "text"
      },
      "source": [
        "This can also be done with combinations of features. In the cell below, I want to build models using \n",
        "- 3 different CNN activations\n",
        "- 3 different WNN activations\n",
        "- 2 different CNN filter values\n",
        "\n",
        "which makes for a total of $3 \\times 3 \\times 2 = 18$ unique models. "
      ]
    },
    {
      "cell_type": "code",
      "metadata": {
        "id": "Wwh9lu1CSt31",
        "colab_type": "code",
        "colab": {
          "base_uri": "https://localhost:8080/",
          "height": 51
        },
        "outputId": "bfa8def0-6ba5-4675-8831-7b3d2c8c99c0"
      },
      "source": [
        "# Define individual hyperparameter values\n",
        "cnn_filter_space = [8, 12]\n",
        "cnn_activation_space = ['relu', 'tanh', 'selu']\n",
        "# wnn_activation_space = ['relu', 'tanh', 'selu']\n",
        "\n",
        "# Hyperparameter space is a list of combinations made through list comprehension\n",
        "feature_space = [(filters, cnn_act) \n",
        "                 for filters in cnn_filter_space \n",
        "                 for cnn_act in cnn_activation_space]\n",
        "                #  for wnn_act in wnn_activation_space]\n",
        "\n",
        "# Did it work\n",
        "print(feature_space)\n",
        "\n",
        "# How to use this with build function? Use some tuple unpacking\n",
        "filter_activation_models = [build_WDNN(cnn_filters=filters, cnn_activation=cnn_act) for\n",
        "                            (filters, cnn_act) in feature_space]\n",
        "\n",
        "# If this worked, we should have 6 different models in `filter_activation_models`\n",
        "len(filter_activation_models)      "
      ],
      "execution_count": 33,
      "outputs": [
        {
          "output_type": "stream",
          "text": [
            "[(8, 'relu'), (8, 'tanh'), (8, 'selu'), (12, 'relu'), (12, 'tanh'), (12, 'selu')]\n"
          ],
          "name": "stdout"
        },
        {
          "output_type": "execute_result",
          "data": {
            "text/plain": [
              "6"
            ]
          },
          "metadata": {
            "tags": []
          },
          "execution_count": 33
        }
      ]
    },
    {
      "cell_type": "markdown",
      "metadata": {
        "id": "LN0JRABJT8Zl",
        "colab_type": "text"
      },
      "source": [
        "## Step 2 - Train Individual Models\n",
        "\n",
        "Make sure they're trained on the same data. Save their training histories (by name in a dictionary, if possible).\n",
        "\n",
        "Completely optional: use an `EarlyStopping` callback to stop training when the model's validation set data hasn't been "
      ]
    },
    {
      "cell_type": "markdown",
      "metadata": {
        "id": "JMOmj4Y2d9iL",
        "colab_type": "text"
      },
      "source": [
        "### Callbacks"
      ]
    },
    {
      "cell_type": "code",
      "metadata": {
        "id": "sU2ytHVoeBih",
        "colab_type": "code",
        "colab": {}
      },
      "source": [
        "# Early stopping: stop training if val loss stagnates for more than 3 epochs \n",
        "es_callback = keras.callbacks.EarlyStopping(monitor='val_loss', \n",
        "                                            restore_best_weights=True, \n",
        "                                            patience=5)"
      ],
      "execution_count": 0,
      "outputs": []
    },
    {
      "cell_type": "markdown",
      "metadata": {
        "id": "YzJlgE9WsxSg",
        "colab_type": "text"
      },
      "source": [
        "### Training"
      ]
    },
    {
      "cell_type": "code",
      "metadata": {
        "id": "noEjnqMPWj8U",
        "colab_type": "code",
        "colab": {}
      },
      "source": [
        "# Create an empty list to which model histories will be appended\n",
        "model_histories = {}\n",
        "\n",
        "# Print which model is being trained\n",
        "for (i, model) in enumerate(cnn_filter_models):\n",
        "  # Fit the model - this is going to be a messy call\n",
        "  history = model.fit(\n",
        "      # Training Features: named dictionary, keys is layer name, value is tensor\n",
        "      x={'wnn_input': X_train_1D, 'cnn_input': X_train_2D}, \n",
        "\n",
        "      # Training Labels: only one output, so don't need to specify name\n",
        "      y=y_train_copy, \n",
        "\n",
        "      # Overfits very quickly, so training for few epochs\n",
        "      epochs=1, \n",
        "\n",
        "      # Smaller batch sizez (8 - 16) -> less likely to go out of memory\n",
        "      batch_size=16, \n",
        "\n",
        "      # Stop training if validation loss doesn't improve in 5 epochs\n",
        "      callbacks=[es_callback], \n",
        "\n",
        "      # Print full logs for now\n",
        "      verbose=1, \n",
        "\n",
        "      # Must specify validation data in same format as training data\n",
        "      validation_data=({'wnn_input': X_val_1D,'cnn_input': X_val_2D}, y_validation)\n",
        "  )\n",
        "\n",
        "  # At the end of training, append the history to the list of model histories\n",
        "  # Use hyperparam combo as key\n",
        "  model_histories[str(feature_space[i])] = history"
      ],
      "execution_count": 0,
      "outputs": []
    }
  ]
}