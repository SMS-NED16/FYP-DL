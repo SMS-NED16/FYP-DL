{
  "nbformat": 4,
  "nbformat_minor": 0,
  "metadata": {
    "colab": {
      "name": "FYP_WDNN_Zheng.ipynb",
      "provenance": [],
      "collapsed_sections": [],
      "toc_visible": true
    },
    "kernelspec": {
      "name": "python3",
      "display_name": "Python 3"
    }
  },
  "cells": [
    {
      "cell_type": "markdown",
      "metadata": {
        "id": "YrPJVAtZkvt1",
        "colab_type": "text"
      },
      "source": [
        "# FYP-DL: Wide and Deep Convolutional Neural Netork - Zheng\n",
        "\n",
        "Using Zheng et. al's hyperparameters to build a wide and deep convolutional neural network. \n",
        "\n",
        "# Why?\n",
        "- Both wide and deep (convolutional) neural networks complement each others' weaknesses. \n",
        "- Learn different **kinds** of features.\n",
        "- Combine both of them into a single model -> better model (in theory). \n",
        "\n",
        "\n",
        "|     |    Good At    |    Bad At    |\n",
        "|-----|:-------------:|:------------:|\n",
        "| WNN | Memorizing    | Generalizing |\n",
        "| CNN | Generalizing  | Memorizing   |\n",
        "\n",
        "## Memorization\n",
        "- According to [Cheng](https://arxiv.org/abs/1606.07792) et al, wide neural networks excel at memorization.\n",
        "- Specifically, they are very good at learning cross-feature **interactions** that are associated with the target class.\n",
        "- **Interactions** can be thought of as the co-occurence of specific features.\n",
        "  - Cheng et. al discuss this only in the context of categorical features, not numerical ones.\n",
        "- We can think of memorization as the process of learning rules involving feature co-occurences: the model **memorizes** rules like (if X and Y and Z then A).\n",
        "- Drawback: model won't be able to recognize co-occurrences that aren't present in the training data. \n",
        "\n",
        "## Generalization\n",
        "- CNNs are capable of learning new features from existing data that are more abstract than just simple co-occurrences.\n",
        "- They are **feature extractors**: by looking at data at increasing levels of abstraction, they are able to create new feature spaces that are correlated with the target class.\n",
        "- Cheng says CNNs and DNNs are good at generalization because this feature extraction helps them learn **exceptions to the rule**. \n",
        "- Drawback: Don't learn cross-feature interactions as well as WNNs.\n"
      ]
    },
    {
      "cell_type": "markdown",
      "metadata": {
        "id": "pY_ak7hLlv7P",
        "colab_type": "text"
      },
      "source": [
        "# Imports"
      ]
    },
    {
      "cell_type": "code",
      "metadata": {
        "id": "PXKu7XzInpwx",
        "colab_type": "code",
        "outputId": "90d00aa7-02ae-4386-f315-3e47807eebd6",
        "colab": {
          "base_uri": "https://localhost:8080/",
          "height": 71
        }
      },
      "source": [
        "# Standard imports \n",
        "import numpy as np\n",
        "import pandas as pd \n",
        "import os \n",
        "\n",
        "# For loading data from Google Drive\n",
        "from google.colab import drive\n",
        "\n",
        "# For building DL models\n",
        "import tensorflow as tf\n",
        "from tensorflow import keras        # Using the tf implementation of keras \n",
        "\n",
        "# Seed the random number generators\n",
        "np.random.seed(0)\n",
        "tf.random.set_seed(0)\n",
        "\n",
        "# For plotting \n",
        "import matplotlib.pyplot as plt \n",
        "from matplotlib import style\n",
        "style.use('ggplot')               # Don't have to use this. Just a matter of preference\n",
        "from seaborn import distplot      # For visualizing feature distributions\n",
        "\n",
        "# Scikit Imports\n",
        "from sklearn.model_selection import train_test_split\n",
        "from sklearn.preprocessing import StandardScaler, MinMaxScaler, MaxAbsScaler \n",
        "from sklearn.pipeline import Pipeline"
      ],
      "execution_count": 0,
      "outputs": [
        {
          "output_type": "stream",
          "text": [
            "/usr/local/lib/python3.6/dist-packages/statsmodels/tools/_testing.py:19: FutureWarning: pandas.util.testing is deprecated. Use the functions in the public API at pandas.testing instead.\n",
            "  import pandas.util.testing as tm\n"
          ],
          "name": "stderr"
        }
      ]
    },
    {
      "cell_type": "markdown",
      "metadata": {
        "id": "xwzXf1hArFsF",
        "colab_type": "text"
      },
      "source": [
        "# Functions"
      ]
    },
    {
      "cell_type": "code",
      "metadata": {
        "id": "YTR-svIUz88s",
        "colab_type": "code",
        "colab": {}
      },
      "source": [
        "def scale_features(X, scaling_strategy='Standard', plot_distributions=False):\n",
        "  \"\"\"Allows user to scale features for individual samples using specified scaling strategy.\n",
        "  `Standard` - all features scaled to have mean 0, standard deviation of 1\n",
        "  `MinMax` - all features scaled according to x - x_min / (x_max - x_min)\n",
        "  `MaxAbs` - all features scaled according to x / abs(x_max)\n",
        "  \n",
        "  Returns matrix of scaled features as a numpy array.\n",
        "\n",
        "  Also allows before/after plots of feature values to compare effect of scaling\n",
        "  \"\"\"\n",
        "  # StandardScaler - all features will have mean of 0, and std deviation of 1\n",
        "  if (scaling_strategy=='Standard'):\n",
        "    # Instantiate a StandardScaler object\n",
        "    scaler = StandardScaler()\n",
        "  elif (scaling_strategy=='MinMax'):\n",
        "    scaler = MinMaxScaler()\n",
        "  elif (scaling_strategy=='MaxAbs'):\n",
        "    scaler = MaxAbsScaler()\n",
        "\n",
        "  # Make a copy of the features, transpose so that consumers become columns\n",
        "  X_copy = X.copy().transpose()\n",
        "\n",
        "  # Once consumers are in columns, scale each consumer using scaler object and retranspose results \n",
        "  # Retransposing ensures that in scaled data, the consumers are still rows\n",
        "  X_scaled = scaler.fit_transform(X_copy).transpose() # THIS IS A NUMPY ARRAY, NOT A DATAFRAME\n",
        "\n",
        "  # If the user has asked to compare distributions\n",
        "  if plot_distributions:\n",
        "    # First figure - before scaling\n",
        "    plt.figure(figsize=(12, 6))\n",
        "    distplot(X.values.ravel(), kde=False, hist_kws=dict(edgecolor='k', linewidth=2))\n",
        "    plt.xlabel('Unscaled kWh Values', fontsize=14)\n",
        "    plt.ylabel('Frequency', fontsize=14)\n",
        "    plt.title('kWh Values - Before Scaling', fontsize=18)\n",
        "\n",
        "    # Second figure - after scaling\n",
        "    plt.figure(figsize=(12, 6))\n",
        "    distplot(X_scaled.ravel(), kde=False, hist_kws=dict(edgecolor='k', linewidth=2))\n",
        "    plt.xlabel('Scaled kWh Values', fontsize=14)\n",
        "    plt.ylabel('Frequency', fontsize=14)\n",
        "    plt.title('kWh Values - After {} Scaling'.format(scaling_strategy), fontsize=18)\n",
        "\n",
        "  # Return the scaled features\n",
        "  return X_scaled"
      ],
      "execution_count": 0,
      "outputs": []
    },
    {
      "cell_type": "code",
      "metadata": {
        "id": "uilApaJAnx00",
        "colab_type": "code",
        "colab": {}
      },
      "source": [
        "def plot_history(history, model_name=None, figsize=(12, 6), \n",
        "                 loss_name='Binary Crossentropy'):\n",
        "  # Extract loss from the history object\n",
        "  loss = history.history['loss']\n",
        "  val_loss = history.history['val_loss']\n",
        "  epochs = range(1, len(loss) + 1)\n",
        "\n",
        "  # Extract AUCs\n",
        "  auc = None\n",
        "  val_auc = None\n",
        "\n",
        "  # Extract `auc` and `val_auc` regardless of last number in key\n",
        "  for key in list(history.history.keys()):\n",
        "    if 'auc' in key and 'val' not in key:\n",
        "      auc = history.history[key]\n",
        "    elif 'auc'in key and 'val' in key:\n",
        "      val_auc = history.history[key]\n",
        "\n",
        "  # Plotting Loss\n",
        "  plt.figure(figsize=figsize)\n",
        "  plt.plot(epochs, loss, label='Training Loss')\n",
        "  plt.plot(epochs, val_loss, label='Validation Loss')\n",
        "  plt.xlabel('Epochs', fontsize=14)\n",
        "  plt.ylabel(loss_name, fontsize=14)\n",
        "  plt.title('Loss ' + ('' if model_name is None else ' - {}'.format(model_name)), \n",
        "            fontsize=18)\n",
        "  plt.legend(loc='lower right')\n",
        "\n",
        "  # Plotting AUC - only if in dictionary\n",
        "  if auc is not None and val_auc is not None:\n",
        "    plt.figure(figsize=figsize)\n",
        "    plt.plot(epochs, auc, label='Training AUC')\n",
        "    plt.plot(epochs, val_auc, label='Validation AUC')\n",
        "    plt.xlabel('Epochs', fontsize=14)\n",
        "    plt.ylabel('AUC', fontsize=14)\n",
        "    plt.title('AUC ' + ('' if model_name is None else' - {}'.format(model_name)), \n",
        "              fontsize=18)"
      ],
      "execution_count": 0,
      "outputs": []
    },
    {
      "cell_type": "code",
      "metadata": {
        "id": "tUYArDsRrIdW",
        "colab_type": "code",
        "colab": {}
      },
      "source": [
        "def get_classification_result(model, X_test, y_true, model_name=None, \n",
        "                              normalize_conf_mat='all'):\n",
        "  \"\"\"Displays classification report, confusion matrix, and ROC curve for a trained\n",
        "  model using classification results on data provided\"\"\"\n",
        "  # PREDICTIONS\n",
        "  # First, get the predictions for the test data\n",
        "  y_pred = model.predict_classes(X_test)\n",
        "\n",
        "  # CLASSIFICATION REPORT\n",
        "  print(\"classification report\".upper(), end='\\n')\n",
        "  print(classification_report(y_true, y_pred, labels=[0, 1], \n",
        "                              target_names=['Regular Consumer', 'Thief']))\n",
        "  \n",
        "  # CONFUSION MATRIX\n",
        "  if (normalize_conf_mat=='rows'):\n",
        "    normalize='true'\n",
        "  elif (normalize_conf_mat=='cols'):\n",
        "    normalize='pred'\n",
        "  else:\n",
        "    normalize='all'\n",
        "\n",
        "  # Using Seaborn to plot confusion matrix as a heatmap \n",
        "  conf_mat = confusion_matrix(y_true, y_pred, normalize=normalize)\n",
        "\n",
        "  # Create a heatmap in lieu of the plot_confusion_matrix call in sklearn\n",
        "  plt.figure(figsize=(8, 8))\n",
        "  heatmap(conf_mat, annot=True, fmt='.5g', cmap='Blues', \n",
        "        xticklabels=['Predicted Reg', 'Predicted Thief'], \n",
        "        yticklabels=['True Reg', 'True Thief'])\n",
        "  plt.title('Confusion Matrix ' + ('' if model_name is None else ' - ' + model_name))\n",
        "\n",
        "  # ROC Curve\n",
        "  plt.figure(figsize=(8, 8))\n",
        "  y_pred_keras = model.predict(X_test).ravel()\n",
        "  fpr, tpr, _ = roc_curve(y_true, y_pred_keras, pos_label=1)\n",
        "  roc_auc = roc_auc_score(y_true, y_pred_keras)\n",
        "  plt.plot(fpr, tpr, lw=2, label='ROC Curve (area = %0.2f)' % roc_auc)\n",
        "  plt.xlabel('False Positive Rate', fontsize=14)\n",
        "  plt.ylabel('True Positive Rate', fontsize=14)\n",
        "  plt.title('ROC Curve' + ('' if model_name is None else (' - ' + model_name)))\n",
        "  plt.legend(loc='lower right')\n",
        "  "
      ],
      "execution_count": 0,
      "outputs": []
    },
    {
      "cell_type": "code",
      "metadata": {
        "id": "rPTyL8jvrIbP",
        "colab_type": "code",
        "colab": {}
      },
      "source": [
        "def plot_training_trends(history_list, labels_list, suptitle):\n",
        "  # Empty lists first\n",
        "  lost_lists = []\n",
        "  val_loss_lists = []\n",
        "  auc_lists = []\n",
        "  val_auc_lists = []\n",
        "\n",
        "  # Extracting list of training losses \n",
        "  loss_lists = [history.history['loss'] for history in history_list]\n",
        "  val_loss_lists = [history.history['val_loss'] for history in history_list]\n",
        "\n",
        "  # Epochs will be the same as the length of any given loss list\n",
        "  epochs = range(1, len(loss_lists[0]) + 1)\n",
        "\n",
        "  # Extracting list of accuracies will be more difficult - uses functions defined earlier\n",
        "  auc_lists = get_auc(history_list)\n",
        "  val_auc_lists = get_val_auc(history_list)\n",
        "\n",
        "  # Labels for each plot in same order as dropout rates of models\n",
        "  legend_labels = labels_list\n",
        "\n",
        "  fig, ((ax1, ax2), (ax3, ax4)) = plt.subplots(2,2, figsize=(20, 10))\n",
        "\n",
        "  for i in range(0, len(loss_lists)):\n",
        "    ax1.plot(epochs, loss_lists[i])\n",
        "    ax2.plot(epochs, val_loss_lists[i])\n",
        "    ax3.plot(epochs, auc_lists[i])\n",
        "    ax4.plot(epochs, val_auc_lists[i])\n",
        "\n",
        "  for ax in (ax1, ax2, ax3, ax4):\n",
        "    ax.set_xlabel('Epochs')\n",
        "    ax.legend(legend_labels) \n",
        "\n",
        "  ax1.set_title('Training Loss'); ax2.set_title('Validation Loss')\n",
        "  ax3.set_title('Training AUC'); ax4.set_title('Validation AUC')\n",
        "  fig.suptitle(suptitle, fontsize=18)"
      ],
      "execution_count": 0,
      "outputs": []
    },
    {
      "cell_type": "markdown",
      "metadata": {
        "id": "pOp-h5zXoT9y",
        "colab_type": "text"
      },
      "source": [
        "# Loading Data"
      ]
    },
    {
      "cell_type": "markdown",
      "metadata": {
        "id": "IDZmiP4Zmr-T",
        "colab_type": "text"
      },
      "source": [
        "## Defining Filepaths"
      ]
    },
    {
      "cell_type": "code",
      "metadata": {
        "id": "JNZtiiCcrIFS",
        "colab_type": "code",
        "outputId": "476b8ce1-6ee0-40d2-8dbd-ccee02efec06",
        "colab": {
          "base_uri": "https://localhost:8080/",
          "height": 54
        }
      },
      "source": [
        "# Mounting Google Drive\n",
        "drive.mount('/content/drive')"
      ],
      "execution_count": 0,
      "outputs": [
        {
          "output_type": "stream",
          "text": [
            "Drive already mounted at /content/drive; to attempt to forcibly remount, call drive.mount(\"/content/drive\", force_remount=True).\n"
          ],
          "name": "stdout"
        }
      ]
    },
    {
      "cell_type": "code",
      "metadata": {
        "id": "eEvrJWpIrIDD",
        "colab_type": "code",
        "colab": {}
      },
      "source": [
        "# Define filepaths\n",
        "ROOT_DIR = '/content/drive/My Drive'\n",
        "FYP_DIR = 'EE 16-17 FYP DL Energy Theft Detection'\n",
        "DATA_DIR  = 'Data'\n",
        "DATA_RAW = 'data-interpolated.csv'\n",
        "\n",
        "# Combining filepaths\n",
        "DATA_FILEPATH = os.path.join(ROOT_DIR, FYP_DIR, DATA_DIR, DATA_RAW)"
      ],
      "execution_count": 0,
      "outputs": []
    },
    {
      "cell_type": "markdown",
      "metadata": {
        "id": "9FnExYyImtra",
        "colab_type": "text"
      },
      "source": [
        "## Creating `DataFrame`"
      ]
    },
    {
      "cell_type": "code",
      "metadata": {
        "id": "z_eSgsv-rIAa",
        "colab_type": "code",
        "colab": {}
      },
      "source": [
        "# Read data from CSV\n",
        "df = pd.read_csv(DATA_FILEPATH, index_col=0)"
      ],
      "execution_count": 0,
      "outputs": []
    },
    {
      "cell_type": "code",
      "metadata": {
        "id": "9vGDYN6WmUs6",
        "colab_type": "code",
        "outputId": "57d656e7-0f2b-49ed-d2d4-a4d96504d775",
        "colab": {
          "base_uri": "https://localhost:8080/",
          "height": 270
        }
      },
      "source": [
        "# Did it work?\n",
        "df.head()"
      ],
      "execution_count": 0,
      "outputs": [
        {
          "output_type": "execute_result",
          "data": {
            "text/html": [
              "<div>\n",
              "<style scoped>\n",
              "    .dataframe tbody tr th:only-of-type {\n",
              "        vertical-align: middle;\n",
              "    }\n",
              "\n",
              "    .dataframe tbody tr th {\n",
              "        vertical-align: top;\n",
              "    }\n",
              "\n",
              "    .dataframe thead th {\n",
              "        text-align: right;\n",
              "    }\n",
              "</style>\n",
              "<table border=\"1\" class=\"dataframe\">\n",
              "  <thead>\n",
              "    <tr style=\"text-align: right;\">\n",
              "      <th></th>\n",
              "      <th>CONS_NO</th>\n",
              "      <th>FLAG</th>\n",
              "      <th>2014-01-01</th>\n",
              "      <th>2014-01-02</th>\n",
              "      <th>2014-01-03</th>\n",
              "      <th>2014-01-04</th>\n",
              "      <th>2014-01-05</th>\n",
              "      <th>2014-01-06</th>\n",
              "      <th>2014-01-07</th>\n",
              "      <th>2014-01-08</th>\n",
              "      <th>2014-01-09</th>\n",
              "      <th>2014-01-10</th>\n",
              "      <th>2014-01-11</th>\n",
              "      <th>2014-01-12</th>\n",
              "      <th>2014-01-13</th>\n",
              "      <th>2014-01-14</th>\n",
              "      <th>2014-01-15</th>\n",
              "      <th>2014-01-16</th>\n",
              "      <th>2014-01-17</th>\n",
              "      <th>2014-01-18</th>\n",
              "      <th>2014-01-19</th>\n",
              "      <th>2014-01-20</th>\n",
              "      <th>2014-01-21</th>\n",
              "      <th>2014-01-22</th>\n",
              "      <th>2014-01-23</th>\n",
              "      <th>2014-01-24</th>\n",
              "      <th>2014-01-25</th>\n",
              "      <th>2014-01-26</th>\n",
              "      <th>2014-01-27</th>\n",
              "      <th>2014-01-28</th>\n",
              "      <th>2014-01-29</th>\n",
              "      <th>2014-01-30</th>\n",
              "      <th>2014-01-31</th>\n",
              "      <th>2014-02-01</th>\n",
              "      <th>2014-02-02</th>\n",
              "      <th>2014-02-03</th>\n",
              "      <th>2014-02-04</th>\n",
              "      <th>2014-02-05</th>\n",
              "      <th>2014-02-06</th>\n",
              "      <th>2014-02-07</th>\n",
              "      <th>...</th>\n",
              "      <th>2016-09-22</th>\n",
              "      <th>2016-09-23</th>\n",
              "      <th>2016-09-24</th>\n",
              "      <th>2016-09-25</th>\n",
              "      <th>2016-09-26</th>\n",
              "      <th>2016-09-27</th>\n",
              "      <th>2016-09-28</th>\n",
              "      <th>2016-09-29</th>\n",
              "      <th>2016-09-30</th>\n",
              "      <th>2016-10-01</th>\n",
              "      <th>2016-10-02</th>\n",
              "      <th>2016-10-03</th>\n",
              "      <th>2016-10-04</th>\n",
              "      <th>2016-10-05</th>\n",
              "      <th>2016-10-06</th>\n",
              "      <th>2016-10-07</th>\n",
              "      <th>2016-10-08</th>\n",
              "      <th>2016-10-09</th>\n",
              "      <th>2016-10-10</th>\n",
              "      <th>2016-10-11</th>\n",
              "      <th>2016-10-12</th>\n",
              "      <th>2016-10-13</th>\n",
              "      <th>2016-10-14</th>\n",
              "      <th>2016-10-15</th>\n",
              "      <th>2016-10-16</th>\n",
              "      <th>2016-10-17</th>\n",
              "      <th>2016-10-18</th>\n",
              "      <th>2016-10-19</th>\n",
              "      <th>2016-10-20</th>\n",
              "      <th>2016-10-21</th>\n",
              "      <th>2016-10-22</th>\n",
              "      <th>2016-10-23</th>\n",
              "      <th>2016-10-24</th>\n",
              "      <th>2016-10-25</th>\n",
              "      <th>2016-10-26</th>\n",
              "      <th>2016-10-27</th>\n",
              "      <th>2016-10-28</th>\n",
              "      <th>2016-10-29</th>\n",
              "      <th>2016-10-30</th>\n",
              "      <th>2016-10-31</th>\n",
              "    </tr>\n",
              "  </thead>\n",
              "  <tbody>\n",
              "    <tr>\n",
              "      <th>0</th>\n",
              "      <td>0387DD8A07E07FDA6271170F86AD9151</td>\n",
              "      <td>1</td>\n",
              "      <td>NaN</td>\n",
              "      <td>0.00</td>\n",
              "      <td>0.00</td>\n",
              "      <td>0.00</td>\n",
              "      <td>0.00</td>\n",
              "      <td>0.00</td>\n",
              "      <td>0.00</td>\n",
              "      <td>0.00</td>\n",
              "      <td>0.00</td>\n",
              "      <td>0.00</td>\n",
              "      <td>0.00</td>\n",
              "      <td>0.00</td>\n",
              "      <td>0.00</td>\n",
              "      <td>0.00</td>\n",
              "      <td>0.00</td>\n",
              "      <td>0.00</td>\n",
              "      <td>0.00</td>\n",
              "      <td>0.00</td>\n",
              "      <td>0.00</td>\n",
              "      <td>0.00</td>\n",
              "      <td>0.00</td>\n",
              "      <td>0.00</td>\n",
              "      <td>0.00</td>\n",
              "      <td>0.00</td>\n",
              "      <td>0.00</td>\n",
              "      <td>0.00</td>\n",
              "      <td>0.00</td>\n",
              "      <td>0.00</td>\n",
              "      <td>0.00</td>\n",
              "      <td>0.00</td>\n",
              "      <td>0.00</td>\n",
              "      <td>0.00</td>\n",
              "      <td>0.00</td>\n",
              "      <td>0.0</td>\n",
              "      <td>0.00</td>\n",
              "      <td>0.00</td>\n",
              "      <td>0.0</td>\n",
              "      <td>0.00</td>\n",
              "      <td>...</td>\n",
              "      <td>8.56</td>\n",
              "      <td>10.48</td>\n",
              "      <td>8.20</td>\n",
              "      <td>12.53</td>\n",
              "      <td>7.90</td>\n",
              "      <td>8.58</td>\n",
              "      <td>10.12</td>\n",
              "      <td>9.96</td>\n",
              "      <td>7.60</td>\n",
              "      <td>18.19</td>\n",
              "      <td>10.93</td>\n",
              "      <td>11.41</td>\n",
              "      <td>19.92</td>\n",
              "      <td>10.70</td>\n",
              "      <td>9.20</td>\n",
              "      <td>6.77</td>\n",
              "      <td>6.76</td>\n",
              "      <td>6.15</td>\n",
              "      <td>6.50</td>\n",
              "      <td>8.08</td>\n",
              "      <td>7.97</td>\n",
              "      <td>8.81</td>\n",
              "      <td>7.37</td>\n",
              "      <td>11.72</td>\n",
              "      <td>11.02</td>\n",
              "      <td>8.18</td>\n",
              "      <td>7.33</td>\n",
              "      <td>6.71</td>\n",
              "      <td>8.52</td>\n",
              "      <td>6.31</td>\n",
              "      <td>7.18</td>\n",
              "      <td>8.07</td>\n",
              "      <td>8.09</td>\n",
              "      <td>9.53</td>\n",
              "      <td>5.48</td>\n",
              "      <td>8.75</td>\n",
              "      <td>9.30</td>\n",
              "      <td>7.54</td>\n",
              "      <td>9.16</td>\n",
              "      <td>6.74</td>\n",
              "    </tr>\n",
              "    <tr>\n",
              "      <th>1</th>\n",
              "      <td>01D6177B5D4FFE0CABA9EF17DAFC2B84</td>\n",
              "      <td>1</td>\n",
              "      <td>NaN</td>\n",
              "      <td>0.00</td>\n",
              "      <td>0.00</td>\n",
              "      <td>0.00</td>\n",
              "      <td>0.00</td>\n",
              "      <td>0.00</td>\n",
              "      <td>0.00</td>\n",
              "      <td>0.00</td>\n",
              "      <td>0.00</td>\n",
              "      <td>0.00</td>\n",
              "      <td>0.00</td>\n",
              "      <td>0.00</td>\n",
              "      <td>0.00</td>\n",
              "      <td>0.00</td>\n",
              "      <td>0.00</td>\n",
              "      <td>0.00</td>\n",
              "      <td>0.00</td>\n",
              "      <td>0.00</td>\n",
              "      <td>0.00</td>\n",
              "      <td>0.00</td>\n",
              "      <td>0.00</td>\n",
              "      <td>0.00</td>\n",
              "      <td>0.00</td>\n",
              "      <td>0.00</td>\n",
              "      <td>0.00</td>\n",
              "      <td>0.00</td>\n",
              "      <td>0.00</td>\n",
              "      <td>0.00</td>\n",
              "      <td>0.00</td>\n",
              "      <td>0.00</td>\n",
              "      <td>0.00</td>\n",
              "      <td>0.00</td>\n",
              "      <td>0.00</td>\n",
              "      <td>0.0</td>\n",
              "      <td>0.00</td>\n",
              "      <td>0.00</td>\n",
              "      <td>0.0</td>\n",
              "      <td>0.00</td>\n",
              "      <td>...</td>\n",
              "      <td>0.00</td>\n",
              "      <td>0.00</td>\n",
              "      <td>0.00</td>\n",
              "      <td>0.00</td>\n",
              "      <td>0.00</td>\n",
              "      <td>0.00</td>\n",
              "      <td>0.00</td>\n",
              "      <td>0.00</td>\n",
              "      <td>0.00</td>\n",
              "      <td>0.00</td>\n",
              "      <td>0.00</td>\n",
              "      <td>0.00</td>\n",
              "      <td>0.00</td>\n",
              "      <td>0.00</td>\n",
              "      <td>0.00</td>\n",
              "      <td>0.00</td>\n",
              "      <td>0.00</td>\n",
              "      <td>0.00</td>\n",
              "      <td>0.00</td>\n",
              "      <td>0.00</td>\n",
              "      <td>0.00</td>\n",
              "      <td>0.00</td>\n",
              "      <td>0.00</td>\n",
              "      <td>0.00</td>\n",
              "      <td>0.00</td>\n",
              "      <td>0.00</td>\n",
              "      <td>0.00</td>\n",
              "      <td>0.00</td>\n",
              "      <td>0.00</td>\n",
              "      <td>0.00</td>\n",
              "      <td>0.00</td>\n",
              "      <td>0.00</td>\n",
              "      <td>0.00</td>\n",
              "      <td>0.00</td>\n",
              "      <td>0.00</td>\n",
              "      <td>0.00</td>\n",
              "      <td>0.00</td>\n",
              "      <td>0.00</td>\n",
              "      <td>0.00</td>\n",
              "      <td>0.00</td>\n",
              "    </tr>\n",
              "    <tr>\n",
              "      <th>2</th>\n",
              "      <td>4B75AC4F2D8434CFF62DB64D0BB43103</td>\n",
              "      <td>1</td>\n",
              "      <td>NaN</td>\n",
              "      <td>0.00</td>\n",
              "      <td>0.00</td>\n",
              "      <td>0.00</td>\n",
              "      <td>0.00</td>\n",
              "      <td>0.00</td>\n",
              "      <td>0.00</td>\n",
              "      <td>0.00</td>\n",
              "      <td>0.00</td>\n",
              "      <td>0.00</td>\n",
              "      <td>0.00</td>\n",
              "      <td>0.00</td>\n",
              "      <td>0.00</td>\n",
              "      <td>0.00</td>\n",
              "      <td>0.00</td>\n",
              "      <td>0.00</td>\n",
              "      <td>0.00</td>\n",
              "      <td>0.00</td>\n",
              "      <td>0.00</td>\n",
              "      <td>0.00</td>\n",
              "      <td>0.00</td>\n",
              "      <td>0.00</td>\n",
              "      <td>0.00</td>\n",
              "      <td>0.00</td>\n",
              "      <td>0.00</td>\n",
              "      <td>0.00</td>\n",
              "      <td>0.00</td>\n",
              "      <td>0.00</td>\n",
              "      <td>0.00</td>\n",
              "      <td>0.00</td>\n",
              "      <td>0.00</td>\n",
              "      <td>0.00</td>\n",
              "      <td>0.00</td>\n",
              "      <td>0.0</td>\n",
              "      <td>0.00</td>\n",
              "      <td>0.00</td>\n",
              "      <td>0.0</td>\n",
              "      <td>0.00</td>\n",
              "      <td>...</td>\n",
              "      <td>0.00</td>\n",
              "      <td>0.00</td>\n",
              "      <td>0.00</td>\n",
              "      <td>0.00</td>\n",
              "      <td>0.00</td>\n",
              "      <td>0.00</td>\n",
              "      <td>0.00</td>\n",
              "      <td>0.00</td>\n",
              "      <td>0.00</td>\n",
              "      <td>0.00</td>\n",
              "      <td>0.00</td>\n",
              "      <td>0.00</td>\n",
              "      <td>0.00</td>\n",
              "      <td>0.00</td>\n",
              "      <td>0.00</td>\n",
              "      <td>8.34</td>\n",
              "      <td>16.68</td>\n",
              "      <td>16.28</td>\n",
              "      <td>13.96</td>\n",
              "      <td>16.13</td>\n",
              "      <td>12.73</td>\n",
              "      <td>14.03</td>\n",
              "      <td>14.42</td>\n",
              "      <td>15.73</td>\n",
              "      <td>16.71</td>\n",
              "      <td>14.27</td>\n",
              "      <td>14.17</td>\n",
              "      <td>17.73</td>\n",
              "      <td>17.67</td>\n",
              "      <td>20.40</td>\n",
              "      <td>10.95</td>\n",
              "      <td>17.95</td>\n",
              "      <td>17.83</td>\n",
              "      <td>17.31</td>\n",
              "      <td>21.44</td>\n",
              "      <td>19.09</td>\n",
              "      <td>18.56</td>\n",
              "      <td>16.25</td>\n",
              "      <td>14.20</td>\n",
              "      <td>13.66</td>\n",
              "    </tr>\n",
              "    <tr>\n",
              "      <th>3</th>\n",
              "      <td>B32AC8CC6D5D805AC053557AB05F5343</td>\n",
              "      <td>1</td>\n",
              "      <td>NaN</td>\n",
              "      <td>0.00</td>\n",
              "      <td>0.00</td>\n",
              "      <td>0.00</td>\n",
              "      <td>0.00</td>\n",
              "      <td>0.00</td>\n",
              "      <td>0.00</td>\n",
              "      <td>0.00</td>\n",
              "      <td>0.00</td>\n",
              "      <td>0.00</td>\n",
              "      <td>0.00</td>\n",
              "      <td>0.00</td>\n",
              "      <td>0.00</td>\n",
              "      <td>0.00</td>\n",
              "      <td>0.00</td>\n",
              "      <td>0.00</td>\n",
              "      <td>0.00</td>\n",
              "      <td>0.00</td>\n",
              "      <td>0.00</td>\n",
              "      <td>0.00</td>\n",
              "      <td>0.00</td>\n",
              "      <td>0.00</td>\n",
              "      <td>0.00</td>\n",
              "      <td>0.00</td>\n",
              "      <td>0.00</td>\n",
              "      <td>0.00</td>\n",
              "      <td>0.00</td>\n",
              "      <td>0.00</td>\n",
              "      <td>0.00</td>\n",
              "      <td>0.00</td>\n",
              "      <td>0.00</td>\n",
              "      <td>0.00</td>\n",
              "      <td>0.00</td>\n",
              "      <td>0.0</td>\n",
              "      <td>0.00</td>\n",
              "      <td>0.00</td>\n",
              "      <td>0.0</td>\n",
              "      <td>0.00</td>\n",
              "      <td>...</td>\n",
              "      <td>17.30</td>\n",
              "      <td>16.95</td>\n",
              "      <td>8.25</td>\n",
              "      <td>22.76</td>\n",
              "      <td>14.07</td>\n",
              "      <td>20.70</td>\n",
              "      <td>6.50</td>\n",
              "      <td>9.99</td>\n",
              "      <td>18.59</td>\n",
              "      <td>16.79</td>\n",
              "      <td>26.82</td>\n",
              "      <td>14.70</td>\n",
              "      <td>16.05</td>\n",
              "      <td>24.10</td>\n",
              "      <td>12.64</td>\n",
              "      <td>10.85</td>\n",
              "      <td>11.77</td>\n",
              "      <td>13.03</td>\n",
              "      <td>12.26</td>\n",
              "      <td>15.66</td>\n",
              "      <td>13.43</td>\n",
              "      <td>15.03</td>\n",
              "      <td>14.61</td>\n",
              "      <td>13.97</td>\n",
              "      <td>15.07</td>\n",
              "      <td>14.11</td>\n",
              "      <td>14.77</td>\n",
              "      <td>11.72</td>\n",
              "      <td>11.73</td>\n",
              "      <td>11.98</td>\n",
              "      <td>12.81</td>\n",
              "      <td>15.12</td>\n",
              "      <td>17.26</td>\n",
              "      <td>14.91</td>\n",
              "      <td>19.59</td>\n",
              "      <td>20.79</td>\n",
              "      <td>17.95</td>\n",
              "      <td>19.26</td>\n",
              "      <td>14.46</td>\n",
              "      <td>11.72</td>\n",
              "    </tr>\n",
              "    <tr>\n",
              "      <th>4</th>\n",
              "      <td>EDFC78B07BA2908B3395C4EB2304665E</td>\n",
              "      <td>1</td>\n",
              "      <td>2.9</td>\n",
              "      <td>5.64</td>\n",
              "      <td>6.99</td>\n",
              "      <td>3.32</td>\n",
              "      <td>3.61</td>\n",
              "      <td>5.35</td>\n",
              "      <td>4.73</td>\n",
              "      <td>3.68</td>\n",
              "      <td>3.53</td>\n",
              "      <td>3.42</td>\n",
              "      <td>3.81</td>\n",
              "      <td>4.58</td>\n",
              "      <td>3.56</td>\n",
              "      <td>4.25</td>\n",
              "      <td>3.86</td>\n",
              "      <td>3.53</td>\n",
              "      <td>3.41</td>\n",
              "      <td>0.85</td>\n",
              "      <td>0.88</td>\n",
              "      <td>3.81</td>\n",
              "      <td>6.51</td>\n",
              "      <td>9.19</td>\n",
              "      <td>7.79</td>\n",
              "      <td>7.02</td>\n",
              "      <td>7.25</td>\n",
              "      <td>6.37</td>\n",
              "      <td>6.43</td>\n",
              "      <td>7.89</td>\n",
              "      <td>7.46</td>\n",
              "      <td>7.95</td>\n",
              "      <td>7.59</td>\n",
              "      <td>4.84</td>\n",
              "      <td>6.06</td>\n",
              "      <td>5.6</td>\n",
              "      <td>6.72</td>\n",
              "      <td>7.29</td>\n",
              "      <td>5.6</td>\n",
              "      <td>6.28</td>\n",
              "      <td>...</td>\n",
              "      <td>9.56</td>\n",
              "      <td>9.48</td>\n",
              "      <td>10.60</td>\n",
              "      <td>10.06</td>\n",
              "      <td>10.79</td>\n",
              "      <td>10.91</td>\n",
              "      <td>17.77</td>\n",
              "      <td>10.37</td>\n",
              "      <td>13.51</td>\n",
              "      <td>14.13</td>\n",
              "      <td>17.44</td>\n",
              "      <td>15.96</td>\n",
              "      <td>12.18</td>\n",
              "      <td>18.54</td>\n",
              "      <td>13.44</td>\n",
              "      <td>11.68</td>\n",
              "      <td>9.15</td>\n",
              "      <td>9.16</td>\n",
              "      <td>10.19</td>\n",
              "      <td>10.31</td>\n",
              "      <td>8.03</td>\n",
              "      <td>10.08</td>\n",
              "      <td>10.34</td>\n",
              "      <td>11.24</td>\n",
              "      <td>15.14</td>\n",
              "      <td>14.36</td>\n",
              "      <td>12.39</td>\n",
              "      <td>10.36</td>\n",
              "      <td>9.29</td>\n",
              "      <td>7.91</td>\n",
              "      <td>14.21</td>\n",
              "      <td>10.22</td>\n",
              "      <td>8.47</td>\n",
              "      <td>6.11</td>\n",
              "      <td>6.10</td>\n",
              "      <td>6.73</td>\n",
              "      <td>7.52</td>\n",
              "      <td>10.89</td>\n",
              "      <td>9.86</td>\n",
              "      <td>8.72</td>\n",
              "    </tr>\n",
              "  </tbody>\n",
              "</table>\n",
              "<p>5 rows × 1036 columns</p>\n",
              "</div>"
            ],
            "text/plain": [
              "                            CONS_NO  FLAG  ...  2016-10-30  2016-10-31\n",
              "0  0387DD8A07E07FDA6271170F86AD9151     1  ...        9.16        6.74\n",
              "1  01D6177B5D4FFE0CABA9EF17DAFC2B84     1  ...        0.00        0.00\n",
              "2  4B75AC4F2D8434CFF62DB64D0BB43103     1  ...       14.20       13.66\n",
              "3  B32AC8CC6D5D805AC053557AB05F5343     1  ...       14.46       11.72\n",
              "4  EDFC78B07BA2908B3395C4EB2304665E     1  ...        9.86        8.72\n",
              "\n",
              "[5 rows x 1036 columns]"
            ]
          },
          "metadata": {
            "tags": []
          },
          "execution_count": 9
        }
      ]
    },
    {
      "cell_type": "markdown",
      "metadata": {
        "id": "dzkWaRJsmkH7",
        "colab_type": "text"
      },
      "source": [
        "## Extracting Features and Labels"
      ]
    },
    {
      "cell_type": "code",
      "metadata": {
        "id": "YBQ8W_2Jmqd0",
        "colab_type": "code",
        "colab": {}
      },
      "source": [
        "# Second column - FLAG - is the target\n",
        "targets = df.iloc[:, 1]"
      ],
      "execution_count": 0,
      "outputs": []
    },
    {
      "cell_type": "code",
      "metadata": {
        "id": "k_gsGtOMmznu",
        "colab_type": "code",
        "colab": {}
      },
      "source": [
        "# Third column onwards are kWhs - these are our features\n",
        "features = df.iloc[:, 2:]"
      ],
      "execution_count": 0,
      "outputs": []
    },
    {
      "cell_type": "markdown",
      "metadata": {
        "id": "RXgLJMrOm8Xh",
        "colab_type": "text"
      },
      "source": [
        "## Scale Features\n",
        "\n",
        "Creating separate arrays prepared using standard and minmax scalers."
      ]
    },
    {
      "cell_type": "code",
      "metadata": {
        "id": "mT7QDGC-nA5E",
        "colab_type": "code",
        "outputId": "184197e4-9361-49ab-c2ee-33a97e321ecf",
        "colab": {
          "base_uri": "https://localhost:8080/",
          "height": 1000
        }
      },
      "source": [
        "X_scaled_std = scale_features(features, plot_distributions=True)\n",
        "X_scaled_minmax = scale_features(features, scaling_strategy='MinMax', plot_distributions=True)"
      ],
      "execution_count": 0,
      "outputs": [
        {
          "output_type": "display_data",
          "data": {
            "image/png": "[encoded data removed]",
            "text/plain": [
              "<Figure size 864x432 with 1 Axes>"
            ]
          },
          "metadata": {
            "tags": [],
            "needs_background": "light"
          }
        },
        {
          "output_type": "display_data",
          "data": {
            "image/png": "[encoded data removed]",
            "text/plain": [
              "<Figure size 864x432 with 1 Axes>"
            ]
          },
          "metadata": {
            "tags": [],
            "needs_background": "light"
          }
        },
        {
          "output_type": "display_data",
          "data": {
            "image/png": "[encoded data removed]",
            "text/plain": [
              "<Figure size 864x432 with 1 Axes>"
            ]
          },
          "metadata": {
            "tags": [],
            "needs_background": "light"
          }
        },
        {
          "output_type": "display_data",
          "data": {
            "image/png": "[encoded data removed]",
            "text/plain": [
              "<Figure size 864x432 with 1 Axes>"
            ]
          },
          "metadata": {
            "tags": [],
            "needs_background": "light"
          }
        }
      ]
    },
    {
      "cell_type": "markdown",
      "metadata": {
        "id": "ge9e07anqwkl",
        "colab_type": "text"
      },
      "source": [
        "## Train-Test Split"
      ]
    },
    {
      "cell_type": "code",
      "metadata": {
        "id": "iH3IG4l-sKJE",
        "colab_type": "code",
        "colab": {}
      },
      "source": [
        "# Standard scaled data\n",
        "X_train_std, X_test_std, y_train_std, y_test_std = train_test_split(X_scaled_std, targets, \n",
        "                                                                    random_state=0, \n",
        "                                                                    shuffle=True, \n",
        "                                                                    test_size=0.2,\n",
        "                                                                    stratify=targets.values)     # Must be numpy array for stratification|"
      ],
      "execution_count": 0,
      "outputs": []
    },
    {
      "cell_type": "code",
      "metadata": {
        "id": "rEQQNHl8s04A",
        "colab_type": "code",
        "colab": {}
      },
      "source": [
        "# Minmax scaled data\n",
        "X_train_minmax, X_test_minmax, y_train_minmax, y_test_minmax = train_test_split(\n",
        "    X_scaled_minmax, targets, random_state=0, shuffle=True, stratify=targets.values, test_size=0.2\n",
        ")"
      ],
      "execution_count": 0,
      "outputs": []
    },
    {
      "cell_type": "markdown",
      "metadata": {
        "id": "Zb1ykTegtkfg",
        "colab_type": "text"
      },
      "source": [
        "## Checking Train-Test Split"
      ]
    },
    {
      "cell_type": "code",
      "metadata": {
        "id": "h9YjeOhVs-JZ",
        "colab_type": "code",
        "colab": {}
      },
      "source": [
        "# Confirming both feature sets are similar\n",
        "assert X_train_std.shape == X_train_minmax.shape\n",
        "assert X_test_std.shape == X_test_minmax.shape\n",
        "\n",
        "# Confirming 1-1 mapping between targets and labels\n",
        "assert len(X_train_minmax) == len(y_train_minmax)\n",
        "assert len(X_test_minmax) == len(y_test_minmax)\n",
        "assert len(X_train_std) == len(y_train_std)\n",
        "assert len(X_test_std) == len(y_test_std) "
      ],
      "execution_count": 0,
      "outputs": []
    },
    {
      "cell_type": "code",
      "metadata": {
        "id": "bAZLqMtftISP",
        "colab_type": "code",
        "outputId": "adbb2ef9-5b4f-4398-e932-f83bc0e19572",
        "colab": {
          "base_uri": "https://localhost:8080/",
          "height": 441
        }
      },
      "source": [
        "# Confirming class distributions are same \n",
        "data_dict = {\n",
        "    'y_train_minmax': y_train_minmax, \n",
        "    'y_test_minmax': y_test_minmax, \n",
        "    'y_train_std': y_train_std, \n",
        "    'y_test_std': y_test_std\n",
        "}\n",
        "\n",
        "fig, axes = plt.subplots(1, 4, figsize=(12, 6))\n",
        "for i, ((arr_name, label_arr)) in enumerate(data_dict.items()):\n",
        "  plt.sca(axes[i])\n",
        "  plt.bar([0, 1], (pd.Series(label_arr).value_counts() / len(label_arr)))\n",
        "  plt.xticks([0, 1])\n",
        "  plt.title(arr_name)\n",
        "  plt.xlabel('Class', fontsize=14)\n",
        "  plt.ylabel('Proportion of Examples', fontsize=14)\n",
        "\n",
        "plt.tight_layout()"
      ],
      "execution_count": 0,
      "outputs": [
        {
          "output_type": "display_data",
          "data": {
            "image/png": "[encoded data removed]",
            "text/plain": [
              "<Figure size 864x432 with 4 Axes>"
            ]
          },
          "metadata": {
            "tags": [],
            "needs_background": "light"
          }
        }
      ]
    },
    {
      "cell_type": "markdown",
      "metadata": {
        "id": "kc-NepEWB71s",
        "colab_type": "text"
      },
      "source": [
        "## Padding Data \n",
        "\n",
        "- CNN expects data to be two-dimensional.\n",
        "- This can only be done if there are enough features for `n_features / 7` to be a whole number.\n",
        "- With 1,034 features per consumer, we are just about shy of 148 weeks of data.\n",
        "- So pad the all training features with 2 additional columns of zeroes. "
      ]
    },
    {
      "cell_type": "code",
      "metadata": {
        "id": "H51ct_IKCbZG",
        "colab_type": "code",
        "colab": {}
      },
      "source": [
        "# Features common to all examples\n",
        "NUM_FEATURES = features.shape[-1]\n",
        "\n",
        "# Have already asserted that the minmax data has the same number of entries\n",
        "NUM_TRAIN = len(X_train_std)\n",
        "NUM_TEST = len(X_test_std)\n",
        "\n",
        "# Number of columns to add to the CNN data\n",
        "PADDING = 2 \n",
        "\n",
        "# For reshaping\n",
        "DAYS_PER_WEEK = 7\n",
        "PADDING = 2\n",
        "WEEKS_PER_CONSUMER = int((NUM_FEATURES + PADDING) / DAYS_PER_WEEK)"
      ],
      "execution_count": 0,
      "outputs": []
    },
    {
      "cell_type": "markdown",
      "metadata": {
        "id": "HdPEiFJY8982",
        "colab_type": "text"
      },
      "source": [
        "## Reshaping Data"
      ]
    },
    {
      "cell_type": "markdown",
      "metadata": {
        "id": "k4IdE-Ba9Du2",
        "colab_type": "text"
      },
      "source": [
        "### Reshaping Function"
      ]
    },
    {
      "cell_type": "code",
      "metadata": {
        "id": "PT3B8wYAEQJ8",
        "colab_type": "code",
        "colab": {}
      },
      "source": [
        "def get2DFeatures(features_arr):\n",
        "  \"\"\"Transforms 1D array of features into a 2D array suitable for use with a CNN\"\"\"\n",
        "  # First, find some metrics for reshaping\n",
        "  num_samples = len(features_arr)\n",
        "\n",
        "  # Create a new array of features by appending 2 columns of zeros to the existing features\n",
        "  modified_features = np.append(features_arr, axis=1, values=np.zeros((num_samples, 2)))\n",
        "\n",
        "  # Reshape into a 3D array of dimensions (samples, weeks, days) - each consumer is now a 3D array\n",
        "  # of type (samples, week number, day number, channel) - channel is necessary for CNN.\n",
        "  return modified_features.reshape((num_samples, WEEKS_PER_CONSUMER, DAYS_PER_WEEK, 1))"
      ],
      "execution_count": 0,
      "outputs": []
    },
    {
      "cell_type": "markdown",
      "metadata": {
        "id": "zP43Eu3t8_ve",
        "colab_type": "text"
      },
      "source": [
        "### Reshaping MinMax Features"
      ]
    },
    {
      "cell_type": "code",
      "metadata": {
        "id": "0lbraBGn8S3W",
        "colab_type": "code",
        "colab": {}
      },
      "source": [
        "# MINMAX\n",
        "X_train_minmax_2D = get2DFeatures(X_train_minmax)\n",
        "X_test_minmax_2D = get2DFeatures(X_test_minmax)"
      ],
      "execution_count": 0,
      "outputs": []
    },
    {
      "cell_type": "markdown",
      "metadata": {
        "id": "z-OG7axj811_",
        "colab_type": "text"
      },
      "source": [
        "### Reshaping Standard Scaler Features"
      ]
    },
    {
      "cell_type": "code",
      "metadata": {
        "id": "8NiYuUQJ81xv",
        "colab_type": "code",
        "colab": {}
      },
      "source": [
        "# STANDARD SCALER DATA\n",
        "X_train_std_2D = get2DFeatures(X_train_std)\n",
        "X_test_std_2D = get2DFeatures(X_test_std)"
      ],
      "execution_count": 0,
      "outputs": []
    },
    {
      "cell_type": "markdown",
      "metadata": {
        "id": "ptx5L_1q9Y3_",
        "colab_type": "text"
      },
      "source": [
        "### Testing Reshaping"
      ]
    },
    {
      "cell_type": "code",
      "metadata": {
        "id": "0dXPsAst9ZT_",
        "colab_type": "code",
        "outputId": "e9848236-b856-4bbf-a60a-19a8a4eecf7c",
        "colab": {
          "base_uri": "https://localhost:8080/",
          "height": 34
        }
      },
      "source": [
        "# First, confirm that each sample is a matrix of 2D features -> 3D arrays of train/test data\n",
        "np.all([feature_arr.ndim == 4 for feature_arr in [X_train_std_2D, X_test_std_2D, X_train_minmax_2D, X_test_minmax_2D]])"
      ],
      "execution_count": 0,
      "outputs": [
        {
          "output_type": "execute_result",
          "data": {
            "text/plain": [
              "True"
            ]
          },
          "metadata": {
            "tags": []
          },
          "execution_count": 92
        }
      ]
    },
    {
      "cell_type": "code",
      "metadata": {
        "id": "3ijqkK9n9cP2",
        "colab_type": "code",
        "colab": {}
      },
      "source": [
        "# Then check that the samples axis is unchanged \n",
        "original_features = [X_train_minmax, X_test_minmax, X_train_std, X_test_std]\n",
        "reshaped_features = [X_train_minmax_2D, X_test_minmax_2D, X_train_minmax_2D, X_test_minmax_2D]\n",
        "\n",
        "# Compare corresponding arrays\n",
        "for (original_arr, reshaped_arr) in zip(original_features, reshaped_features):\n",
        "  assert len(original_arr) == len(reshaped_arr)"
      ],
      "execution_count": 0,
      "outputs": []
    },
    {
      "cell_type": "markdown",
      "metadata": {
        "id": "SxABlnDhttX9",
        "colab_type": "text"
      },
      "source": [
        "# WDNN "
      ]
    },
    {
      "cell_type": "markdown",
      "metadata": {
        "id": "RwVcj_m6Am9g",
        "colab_type": "text"
      },
      "source": [
        "## Inputs\n",
        "\n",
        "Since we're using the functional API, we are defining the inputs for the WNN and CNN separately as tensors of specific dimensions.\n",
        "\n",
        "Providing a `name` for these inputs is optional, but, as we'll see when fitting the model, it makes it much easier to pass data to the model. \n",
        "\n",
        "We aren't specifying the size of the `sample` axis either tensor. This means the NN will be able to accept whatever batch size we provide to it."
      ]
    },
    {
      "cell_type": "code",
      "metadata": {
        "id": "TA2Masc5At0E",
        "colab_type": "code",
        "colab": {}
      },
      "source": [
        "# (dim1, ) means the sample axis can have any size -> same applies to 2D inputs as well\n",
        "wnn_input = keras.layers.Input(shape=(NUM_FEATURES,), name='wnn_input')\n",
        "cnn_input = keras.layers.Input(shape=(WEEKS_PER_CONSUMER, DAYS_PER_WEEK, 1), name='cnn_input')"
      ],
      "execution_count": 0,
      "outputs": []
    },
    {
      "cell_type": "markdown",
      "metadata": {
        "id": "jgVrkT7ABFw3",
        "colab_type": "text"
      },
      "source": [
        "## Hidden Layers - WNN\n",
        "\n",
        "The WNN consists of a single densely connected hidden layer. This layer transforms the Wide Neural Network's input.\n",
        "\n",
        "We used 50 in the original WNN, but I had to change it to 60 for merging the layers OP with that of the CNN. \n",
        "\n",
        "Detailed explanation is just a few cells down. "
      ]
    },
    {
      "cell_type": "code",
      "metadata": {
        "id": "ZNg6Wgk5Bikz",
        "colab_type": "code",
        "colab": {}
      },
      "source": [
        "# Only one hidden layer in WNN - 60 ReLu units\n",
        "wnn_dense_1 = keras.layers.Dense(activation='relu', units=60)(wnn_input)"
      ],
      "execution_count": 0,
      "outputs": []
    },
    {
      "cell_type": "markdown",
      "metadata": {
        "id": "LUgDXNUOB4qt",
        "colab_type": "text"
      },
      "source": [
        "## Hidden Layers - CNN"
      ]
    },
    {
      "cell_type": "markdown",
      "metadata": {
        "id": "0jZkjI54Er0d",
        "colab_type": "text"
      },
      "source": [
        "### Successsive Convolutional layers"
      ]
    },
    {
      "cell_type": "code",
      "metadata": {
        "id": "27p7szYoB6-6",
        "colab_type": "code",
        "colab": {}
      },
      "source": [
        "# First convolutional layer\n",
        "cnn_conv_1 = keras.layers.Conv2D(filters=18, activation='relu', \n",
        "                                   padding='same', kernel_size=(3, 3))(cnn_input)\n",
        "\n",
        "# Second Conv2D\n",
        "cnn_conv_2 = keras.layers.Conv2D(filters=36, activation='relu', \n",
        "                                   padding='same', kernel_size=(3, 3))(cnn_conv_1)\n",
        "\n",
        "# Third Conv2D\n",
        "cnn_conv_3 = keras.layers.Conv2D(filters=72, activation='relu', \n",
        "                                   padding='same', kernel_size=(3, 3))(cnn_conv_2)\n",
        "\n",
        "# Fourth Conv2D\n",
        "cnn_conv_4 = keras.layers.Conv2D(filters=144, activation='relu', \n",
        "                                   padding='same', kernel_size=(3, 3))(cnn_conv_3)\n",
        "\n",
        "# Fifth Conv2D\n",
        "cnn_conv_5 = keras.layers.Conv2D(filters=288, activation='relu',\n",
        "                                   padding='same', kernel_size=(3, 3))(cnn_conv_4)"
      ],
      "execution_count": 0,
      "outputs": []
    },
    {
      "cell_type": "markdown",
      "metadata": {
        "id": "eXXTX3NqED6Y",
        "colab_type": "text"
      },
      "source": [
        "### Max Pooling \n",
        "\n",
        "there is a single max pooling layer after a series of convolutional layers. "
      ]
    },
    {
      "cell_type": "code",
      "metadata": {
        "id": "AoyQZaAxEyLK",
        "colab_type": "code",
        "colab": {}
      },
      "source": [
        "cnn_max_pooling2d = keras.layers.MaxPooling2D(pool_size=(3, 3))(cnn_conv_5)"
      ],
      "execution_count": 0,
      "outputs": []
    },
    {
      "cell_type": "markdown",
      "metadata": {
        "id": "fjAaCxqZE5YX",
        "colab_type": "text"
      },
      "source": [
        "### Fully Connected Classifier\n",
        "\n",
        "This is still part of the CNN. The output of the max pooling layer of the CNN is flattened and then fed to densely connected feedforward neural network."
      ]
    },
    {
      "cell_type": "code",
      "metadata": {
        "id": "DkKz5gTvE86Y",
        "colab_type": "code",
        "colab": {}
      },
      "source": [
        "# Flatten before feeding to the dnn \n",
        "cnn_flatten = keras.layers.Flatten()(cnn_max_pooling2d)\n",
        "\n",
        "# Hope this works\n",
        "cnn_dense_1 = keras.layers.Dense(units=60, activation='relu')(cnn_flatten)"
      ],
      "execution_count": 0,
      "outputs": []
    },
    {
      "cell_type": "markdown",
      "metadata": {
        "id": "zf_0mB--Fdyz",
        "colab_type": "text"
      },
      "source": [
        "## Merging WNN/CNN Outputs\n",
        "\n",
        "The paper states, in the very last paragraph of page 5, that the outputs of the wide and convolutional networks are **added** as a weighted sum. \n",
        "\n",
        "*Finally, the Wide component and the Deep CNN component\n",
        "are **combined using a weighted sum** of their output as hidden\n",
        "features\"*\n",
        "\n",
        "I'm assuming this means I should use an `add` layer instead of the usual `concatenate`.\n",
        "\n",
        "### Is `add` the right merging function?\n",
        "If I use `add`, it will require the dimension of the WNN's hidden layer OP to be the same as that of the last layer of the CNN's densely connected classifier. \n",
        "\n",
        "This is a problem: Zheng seems to have used 50 units in the WNN hidden layer and 60 units in the CNN's densely connected classifier. So when I try and `add` these tensors together, I get the following error\n",
        "```python\n",
        "ValueError: Operands could not be broadcast together with shapes (60,) (50,)\n",
        "```\n",
        "\n",
        "For now, I'm changing the WNN's OP to 50 units. This will help in two ways\n",
        "- it will resolve the dimensionality error.\n",
        "- the WNN seems to suffer from low learning capacity (its trying to learn cross-feature interactions if 1034-dimensional vectors with only 50 units!). Increasing units will result in a (modest) increase in its learning capacity."
      ]
    },
    {
      "cell_type": "code",
      "metadata": {
        "id": "ZWRZitB3GOp9",
        "colab_type": "code",
        "colab": {}
      },
      "source": [
        "merged_outputs = keras.layers.add(inputs=[cnn_dense_1, wnn_dense_1])"
      ],
      "execution_count": 0,
      "outputs": []
    },
    {
      "cell_type": "markdown",
      "metadata": {
        "id": "FcionraAGhZz",
        "colab_type": "text"
      },
      "source": [
        "## Outputs\n",
        "\n",
        "I will use the tensor transformations described by these ^ layers to build three models\n",
        "1. A Wide Neural Network\n",
        "2. A Deep Neural Netwok\n",
        "3. A Wide and Deep Neural Network\n",
        "\n",
        "Each of them will have different output layers. So need to define them separately."
      ]
    },
    {
      "cell_type": "markdown",
      "metadata": {
        "id": "2TkFA3voLDJo",
        "colab_type": "text"
      },
      "source": [
        "### WNN Output\n",
        "\n",
        "The WNN output is simply the result of passing the WNN's densely connected layer's outout to a sigmoid activation."
      ]
    },
    {
      "cell_type": "code",
      "metadata": {
        "id": "zF1lI1GYLJNI",
        "colab_type": "code",
        "colab": {}
      },
      "source": [
        "wnn_output = keras.layers.Dense(units=1, activation='sigmoid', name='wnn_output')(wnn_dense_1)"
      ],
      "execution_count": 0,
      "outputs": []
    },
    {
      "cell_type": "markdown",
      "metadata": {
        "id": "BmZR5OOfLJHe",
        "colab_type": "text"
      },
      "source": [
        "### CNN Output\n",
        "\n",
        "The output of the standalone CNN model is the result of passing the densely connected classifier's output to a sigmoid activation unit."
      ]
    },
    {
      "cell_type": "code",
      "metadata": {
        "id": "q7Ruq13MLXSg",
        "colab_type": "code",
        "colab": {}
      },
      "source": [
        "cnn_output = keras.layers.Dense(units=1, activation='sigmoid', name='cnn_output')(cnn_dense_1)"
      ],
      "execution_count": 0,
      "outputs": []
    },
    {
      "cell_type": "markdown",
      "metadata": {
        "id": "C4E5f6wMLeZX",
        "colab_type": "text"
      },
      "source": [
        "### WDNN Output\n",
        "\n",
        "The WDNN's output is the result of passing a weighted sum of outputs from the WNN and CNN's last dense layers to a single sigmoid activation unit."
      ]
    },
    {
      "cell_type": "code",
      "metadata": {
        "id": "0N5QQA76Jgda",
        "colab_type": "code",
        "colab": {}
      },
      "source": [
        "wdnn_output = keras.layers.Dense(units=1, activation='sigmoid', name='main_output')(merged_outputs)"
      ],
      "execution_count": 0,
      "outputs": []
    },
    {
      "cell_type": "markdown",
      "metadata": {
        "id": "-zES1z6hJxDi",
        "colab_type": "text"
      },
      "source": [
        "## Building Models\n",
        "\n",
        "Because I've defined tensor transformations using the functional API, I can now mix and match these layers to create three different models.\n",
        "\n",
        "1. Wide neural network\n",
        "2. Deep convolutional neural network\n",
        "3. Wide and Deep Convolutional Neural Network"
      ]
    },
    {
      "cell_type": "markdown",
      "metadata": {
        "id": "-JFZUxyfJ1Hf",
        "colab_type": "text"
      },
      "source": [
        "### WDNN"
      ]
    },
    {
      "cell_type": "code",
      "metadata": {
        "id": "iIt5Lpt_KfoA",
        "colab_type": "code",
        "colab": {}
      },
      "source": [
        "wdnn_model = keras.models.Model(inputs={'wnn_input': wnn_input, 'cnn_input': cnn_input}, \n",
        "                                outputs={'wdnn_output': wdnn_output})"
      ],
      "execution_count": 0,
      "outputs": []
    },
    {
      "cell_type": "markdown",
      "metadata": {
        "id": "VIHGZA9KMjk_",
        "colab_type": "text"
      },
      "source": [
        "### Visualizing WDNN\n",
        "\n",
        "What does the model look like?"
      ]
    },
    {
      "cell_type": "code",
      "metadata": {
        "id": "jaLEBlzrMm4i",
        "colab_type": "code",
        "outputId": "be2cf785-de2f-4816-ff5d-6d3693b99943",
        "colab": {
          "base_uri": "https://localhost:8080/",
          "height": 1000
        }
      },
      "source": [
        "keras.utils.plot_model(wdnn_model, to_file='wdnn_network.png', show_shapes=True, \n",
        "                       show_layer_names=True)"
      ],
      "execution_count": 0,
      "outputs": [
        {
          "output_type": "execute_result",
          "data": {
            "image/png": "[encoded data removed]",
            "text/plain": [
              "<IPython.core.display.Image object>"
            ]
          },
          "metadata": {
            "tags": []
          },
          "execution_count": 130
        }
      ]
    },
    {
      "cell_type": "markdown",
      "metadata": {
        "id": "qk8jjG2gMsBJ",
        "colab_type": "text"
      },
      "source": [
        "### Model Summary"
      ]
    },
    {
      "cell_type": "code",
      "metadata": {
        "id": "lJ9LXil-N9rb",
        "colab_type": "code",
        "outputId": "30bbc9df-6320-4cf5-df0b-b382f417455f",
        "colab": {
          "base_uri": "https://localhost:8080/",
          "height": 612
        }
      },
      "source": [
        "wdnn_model.summary()"
      ],
      "execution_count": 0,
      "outputs": [
        {
          "output_type": "stream",
          "text": [
            "Model: \"model_1\"\n",
            "__________________________________________________________________________________________________\n",
            "Layer (type)                    Output Shape         Param #     Connected to                     \n",
            "==================================================================================================\n",
            "cnn_input (InputLayer)          [(None, 148, 7, 1)]  0                                            \n",
            "__________________________________________________________________________________________________\n",
            "conv2d_7 (Conv2D)               (None, 148, 7, 18)   180         cnn_input[0][0]                  \n",
            "__________________________________________________________________________________________________\n",
            "conv2d_8 (Conv2D)               (None, 148, 7, 36)   5868        conv2d_7[0][0]                   \n",
            "__________________________________________________________________________________________________\n",
            "conv2d_9 (Conv2D)               (None, 148, 7, 72)   23400       conv2d_8[0][0]                   \n",
            "__________________________________________________________________________________________________\n",
            "conv2d_10 (Conv2D)              (None, 148, 7, 144)  93456       conv2d_9[0][0]                   \n",
            "__________________________________________________________________________________________________\n",
            "conv2d_11 (Conv2D)              (None, 148, 7, 288)  373536      conv2d_10[0][0]                  \n",
            "__________________________________________________________________________________________________\n",
            "max_pooling2d_2 (MaxPooling2D)  (None, 49, 2, 288)   0           conv2d_11[0][0]                  \n",
            "__________________________________________________________________________________________________\n",
            "flatten (Flatten)               (None, 28224)        0           max_pooling2d_2[0][0]            \n",
            "__________________________________________________________________________________________________\n",
            "wnn_input (InputLayer)          [(None, 1034)]       0                                            \n",
            "__________________________________________________________________________________________________\n",
            "dense_6 (Dense)                 (None, 60)           1693500     flatten[0][0]                    \n",
            "__________________________________________________________________________________________________\n",
            "dense_7 (Dense)                 (None, 60)           62100       wnn_input[0][0]                  \n",
            "__________________________________________________________________________________________________\n",
            "add_4 (Add)                     (None, 60)           0           dense_6[0][0]                    \n",
            "                                                                 dense_7[0][0]                    \n",
            "__________________________________________________________________________________________________\n",
            "main_output (Dense)             (None, 1)            61          add_4[0][0]                      \n",
            "==================================================================================================\n",
            "Total params: 2,252,101\n",
            "Trainable params: 2,252,101\n",
            "Non-trainable params: 0\n",
            "__________________________________________________________________________________________________\n"
          ],
          "name": "stdout"
        }
      ]
    },
    {
      "cell_type": "markdown",
      "metadata": {
        "id": "h2ygF0_rPVKQ",
        "colab_type": "text"
      },
      "source": [
        "# Standalone Models\n",
        "\n",
        "For comparison, I am also going to build the standalone WNN and CNNs with the same hyperparameters as in the WDNN."
      ]
    },
    {
      "cell_type": "markdown",
      "metadata": {
        "id": "xQHN540gPVH8",
        "colab_type": "text"
      },
      "source": [
        "## WNN"
      ]
    },
    {
      "cell_type": "markdown",
      "metadata": {
        "id": "PXdZtgp-Q8Wr",
        "colab_type": "text"
      },
      "source": [
        "### Building Model"
      ]
    },
    {
      "cell_type": "code",
      "metadata": {
        "id": "3rLWj2UfPVG6",
        "colab_type": "code",
        "colab": {}
      },
      "source": [
        "wnn_model = keras.models.Sequential([\n",
        "            keras.layers.Dense(input_shape=(1034,), activation='relu', units=60),\n",
        "            keras.layers.Dense(units=1, activation='sigmoid')\n",
        "])"
      ],
      "execution_count": 0,
      "outputs": []
    },
    {
      "cell_type": "markdown",
      "metadata": {
        "id": "3_8QyaLLQ_Nq",
        "colab_type": "text"
      },
      "source": [
        "### Model Summary"
      ]
    },
    {
      "cell_type": "code",
      "metadata": {
        "id": "7MaLInFqRAzS",
        "colab_type": "code",
        "outputId": "64295ad2-2993-4fef-e697-243eaa6db1c0",
        "colab": {
          "base_uri": "https://localhost:8080/",
          "height": 221
        }
      },
      "source": [
        "wnn_model.summary()"
      ],
      "execution_count": 0,
      "outputs": [
        {
          "output_type": "stream",
          "text": [
            "Model: \"sequential\"\n",
            "_________________________________________________________________\n",
            "Layer (type)                 Output Shape              Param #   \n",
            "=================================================================\n",
            "dense_11 (Dense)             (None, 60)                62100     \n",
            "_________________________________________________________________\n",
            "dense_12 (Dense)             (None, 1)                 61        \n",
            "=================================================================\n",
            "Total params: 62,161\n",
            "Trainable params: 62,161\n",
            "Non-trainable params: 0\n",
            "_________________________________________________________________\n"
          ],
          "name": "stdout"
        }
      ]
    },
    {
      "cell_type": "markdown",
      "metadata": {
        "id": "jt5X3hKjRAw4",
        "colab_type": "text"
      },
      "source": [
        "### Model Plot"
      ]
    },
    {
      "cell_type": "code",
      "metadata": {
        "id": "__plY51fRAuS",
        "colab_type": "code",
        "outputId": "31835822-cbcd-477b-9d5e-77500f69258f",
        "colab": {
          "base_uri": "https://localhost:8080/",
          "height": 312
        }
      },
      "source": [
        "keras.utils.plot_model(wnn_model, to_file='wnn_model.png', show_shapes=True, \n",
        "                       show_layer_names=True)"
      ],
      "execution_count": 0,
      "outputs": [
        {
          "output_type": "execute_result",
          "data": {
            "image/png": "[encoded data removed]",
            "text/plain": [
              "<IPython.core.display.Image object>"
            ]
          },
          "metadata": {
            "tags": []
          },
          "execution_count": 137
        }
      ]
    },
    {
      "cell_type": "markdown",
      "metadata": {
        "id": "f1MFiSKvPVEJ",
        "colab_type": "text"
      },
      "source": [
        "## CNN Model "
      ]
    },
    {
      "cell_type": "markdown",
      "metadata": {
        "id": "qc295igLRRZx",
        "colab_type": "text"
      },
      "source": [
        "### Building Model"
      ]
    },
    {
      "cell_type": "code",
      "metadata": {
        "id": "glhVvRcXPVBf",
        "colab_type": "code",
        "colab": {}
      },
      "source": [
        "cnn_model = keras.models.Sequential([\n",
        "            # Sequence of 5 Conv2D layers\n",
        "            keras.layers.Conv2D(input_shape=(WEEKS_PER_CONSUMER, DAYS_PER_WEEK, 1), \n",
        "                                filters=18, activation='relu', kernel_size=(3, 3), padding='same'),\n",
        "            keras.layers.Conv2D(filters=36, activation='relu', kernel_size=(3, 3), padding='same'),\n",
        "            keras.layers.Conv2D(filters=72, activation='relu', kernel_size=(3, 3), padding='same'),\n",
        "            keras.layers.Conv2D(filters=144, activation='relu', kernel_size=(3, 3), padding='same'),\n",
        "            keras.layers.Conv2D(filters=288, activation='relu', kernel_size=(3, 3), padding='same'),\n",
        "\n",
        "            # Single Max Pooling layer,\n",
        "            keras.layers.MaxPooling2D(pool_size=(3, 3)),\n",
        "\n",
        "            # Densely connected classifier \n",
        "            keras.layers.Dense(units=60, activation='relu'),\n",
        "            keras.layers.Dense(units=1, activation='sigmoid')\n",
        "])"
      ],
      "execution_count": 0,
      "outputs": []
    },
    {
      "cell_type": "markdown",
      "metadata": {
        "id": "QZdez8SEPU-k",
        "colab_type": "text"
      },
      "source": [
        "### Model Summary"
      ]
    },
    {
      "cell_type": "code",
      "metadata": {
        "id": "NTH0Yl-cPU9N",
        "colab_type": "code",
        "outputId": "53eac172-ee99-4263-a18d-f37bb305771a",
        "colab": {
          "base_uri": "https://localhost:8080/",
          "height": 425
        }
      },
      "source": [
        "cnn_model.summary()"
      ],
      "execution_count": 0,
      "outputs": [
        {
          "output_type": "stream",
          "text": [
            "Model: \"sequential_2\"\n",
            "_________________________________________________________________\n",
            "Layer (type)                 Output Shape              Param #   \n",
            "=================================================================\n",
            "conv2d_17 (Conv2D)           (None, 148, 7, 18)        180       \n",
            "_________________________________________________________________\n",
            "conv2d_18 (Conv2D)           (None, 148, 7, 36)        5868      \n",
            "_________________________________________________________________\n",
            "conv2d_19 (Conv2D)           (None, 148, 7, 72)        23400     \n",
            "_________________________________________________________________\n",
            "conv2d_20 (Conv2D)           (None, 148, 7, 144)       93456     \n",
            "_________________________________________________________________\n",
            "conv2d_21 (Conv2D)           (None, 148, 7, 288)       373536    \n",
            "_________________________________________________________________\n",
            "max_pooling2d_4 (MaxPooling2 (None, 49, 2, 288)        0         \n",
            "_________________________________________________________________\n",
            "dense_15 (Dense)             (None, 49, 2, 60)         17340     \n",
            "_________________________________________________________________\n",
            "dense_16 (Dense)             (None, 49, 2, 1)          61        \n",
            "=================================================================\n",
            "Total params: 513,841\n",
            "Trainable params: 513,841\n",
            "Non-trainable params: 0\n",
            "_________________________________________________________________\n"
          ],
          "name": "stdout"
        }
      ]
    },
    {
      "cell_type": "markdown",
      "metadata": {
        "id": "RyrLIk2JPU7J",
        "colab_type": "text"
      },
      "source": [
        "### Model Plot"
      ]
    },
    {
      "cell_type": "code",
      "metadata": {
        "id": "nQ4q_bofPU4S",
        "colab_type": "code",
        "outputId": "60c4a44b-4800-4208-e051-faff5ffb3edb",
        "colab": {
          "base_uri": "https://localhost:8080/",
          "height": 976
        }
      },
      "source": [
        "keras.utils.plot_model(cnn_model, show_shapes=True, show_layer_names=True)"
      ],
      "execution_count": 0,
      "outputs": [
        {
          "output_type": "execute_result",
          "data": {
            "image/png": "[encoded data removed]",
            "text/plain": [
              "<IPython.core.display.Image object>"
            ]
          },
          "metadata": {
            "tags": []
          },
          "execution_count": 143
        }
      ]
    },
    {
      "cell_type": "markdown",
      "metadata": {
        "id": "7ranSk_7SAvc",
        "colab_type": "text"
      },
      "source": [
        "# Compiling Models\n",
        "\n",
        "Using `adam` optimizer to minimize `binary_crossentropy` loss while measuring `AUC` for all three models."
      ]
    },
    {
      "cell_type": "code",
      "metadata": {
        "id": "Vfcd0WsySCFX",
        "colab_type": "code",
        "colab": {}
      },
      "source": [
        "for model in [wnn_model, cnn_model, wdnn_model]:\n",
        "  model.compile(loss='binary_crossentropy', metrics=keras.metrics.AUC(), \n",
        "                optimizer='adam')"
      ],
      "execution_count": 0,
      "outputs": []
    }
  ]
}