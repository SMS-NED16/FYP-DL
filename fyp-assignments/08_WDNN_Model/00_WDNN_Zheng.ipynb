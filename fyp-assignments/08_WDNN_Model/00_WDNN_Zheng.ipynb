{
  "nbformat": 4,
  "nbformat_minor": 0,
  "metadata": {
    "colab": {
      "name": "FYP_WDNN_Zheng.ipynb",
      "provenance": [],
      "collapsed_sections": [],
      "toc_visible": true
    },
    "kernelspec": {
      "name": "python3",
      "display_name": "Python 3"
    },
    "accelerator": "GPU"
  },
  "cells": [
    {
      "cell_type": "markdown",
      "metadata": {
        "id": "YrPJVAtZkvt1",
        "colab_type": "text"
      },
      "source": [
        "# FYP-DL: Wide and Deep Convolutional Neural Netork - Zheng\n",
        "\n",
        "Using Zheng et. al's hyperparameters to build a wide and deep convolutional neural network. \n",
        "\n",
        "# Why?\n",
        "- Both wide and deep (convolutional) neural networks complement each others' weaknesses. \n",
        "- Learn different **kinds** of features.\n",
        "- Combine both of them into a single model -> better model (in theory). \n",
        "\n",
        "\n",
        "|     |    Good At    |    Bad At    |\n",
        "|-----|:-------------:|:------------:|\n",
        "| WNN | Memorizing    | Generalizing |\n",
        "| CNN | Generalizing  | Memorizing   |\n",
        "\n",
        "## Memorization\n",
        "- According to [Cheng](https://arxiv.org/abs/1606.07792) et al, wide neural networks excel at memorization.\n",
        "- Specifically, they are very good at learning cross-feature **interactions** that are associated with the target class.\n",
        "- **Interactions** can be thought of as the co-occurence of specific features.\n",
        "  - Cheng et. al discuss this only in the context of categorical features, not numerical ones.\n",
        "- We can think of memorization as the process of learning rules involving feature co-occurences: the model **memorizes** rules like (if X and Y and Z then A).\n",
        "- Drawback: model won't be able to recognize co-occurrences that aren't present in the training data. \n",
        "\n",
        "## Generalization\n",
        "- CNNs are capable of learning new features from existing data that are more abstract than just simple co-occurrences.\n",
        "- They are **feature extractors**: by looking at data at increasing levels of abstraction, they are able to create new feature spaces that are correlated with the target class.\n",
        "- Cheng says CNNs and DNNs are good at generalization because this feature extraction helps them learn **exceptions to the rule**. \n",
        "- Drawback: Don't learn cross-feature interactions as well as WNNs.\n"
      ]
    },
    {
      "cell_type": "markdown",
      "metadata": {
        "id": "pY_ak7hLlv7P",
        "colab_type": "text"
      },
      "source": [
        "# Imports"
      ]
    },
    {
      "cell_type": "code",
      "metadata": {
        "id": "PXKu7XzInpwx",
        "colab_type": "code",
        "colab": {}
      },
      "source": [
        "# Standard imports \n",
        "import numpy as np\n",
        "import pandas as pd \n",
        "import os \n",
        "\n",
        "# For loading data from Google Drive\n",
        "from google.colab import drive\n",
        "\n",
        "# For building DL models\n",
        "import tensorflow as tf\n",
        "from tensorflow import keras        # Using the tf implementation of keras \n",
        "\n",
        "# Seed the random number generators\n",
        "np.random.seed(0)\n",
        "tf.random.set_seed(0)\n",
        "\n",
        "# For plotting \n",
        "import matplotlib.pyplot as plt \n",
        "from matplotlib import style\n",
        "style.use('ggplot')                        # Don't have to use this. Just a matter of preference\n",
        "from seaborn import distplot, heatmap      # For visualizing feature distributions\n",
        "\n",
        "# Scikit Imports\n",
        "from sklearn.model_selection import train_test_split\n",
        "from sklearn.preprocessing import StandardScaler, MinMaxScaler, MaxAbsScaler \n",
        "from sklearn.metrics import classification_report, confusion_matrix, roc_curve, roc_auc_score"
      ],
      "execution_count": 0,
      "outputs": []
    },
    {
      "cell_type": "markdown",
      "metadata": {
        "id": "xwzXf1hArFsF",
        "colab_type": "text"
      },
      "source": [
        "# Functions"
      ]
    },
    {
      "cell_type": "markdown",
      "metadata": {
        "id": "Vhhsly8q_0Dv",
        "colab_type": "text"
      },
      "source": [
        "## `scale_features`\n",
        "\n",
        "A custom function that transposes feature matrices so that `sklearn` `Scaler` transformers can be applied to it on a consumer basis."
      ]
    },
    {
      "cell_type": "code",
      "metadata": {
        "id": "YTR-svIUz88s",
        "colab_type": "code",
        "colab": {}
      },
      "source": [
        "def scale_features(X, scaling_strategy='Standard', plot_distributions=False):\n",
        "  \"\"\"Allows user to scale features for individual samples using specified scaling strategy.\n",
        "  `Standard` - all features scaled to have mean 0, standard deviation of 1\n",
        "  `MinMax` - all features scaled according to x - x_min / (x_max - x_min)\n",
        "  `MaxAbs` - all features scaled according to x / abs(x_max)\n",
        "  \n",
        "  Returns matrix of scaled features as a numpy array.\n",
        "\n",
        "  Also allows before/after plots of feature values to compare effect of scaling\n",
        "  \"\"\"\n",
        "  # StandardScaler - all features will have mean of 0, and std deviation of 1\n",
        "  if (scaling_strategy=='Standard'):\n",
        "    # Instantiate a StandardScaler object\n",
        "    scaler = StandardScaler()\n",
        "  elif (scaling_strategy=='MinMax'):\n",
        "    scaler = MinMaxScaler()\n",
        "  elif (scaling_strategy=='MaxAbs'):\n",
        "    scaler = MaxAbsScaler()\n",
        "\n",
        "  # Make a copy of the features, transpose so that consumers become columns\n",
        "  X_copy = X.copy().transpose()\n",
        "\n",
        "  # Once consumers are in columns, scale each consumer using scaler object and retranspose results \n",
        "  # Retransposing ensures that in scaled data, the consumers are still rows\n",
        "  X_scaled = scaler.fit_transform(X_copy).transpose() # THIS IS A NUMPY ARRAY, NOT A DATAFRAME\n",
        "\n",
        "  # If the user has asked to compare distributions\n",
        "  if plot_distributions:\n",
        "    # First figure - before scaling\n",
        "    plt.figure(figsize=(12, 6))\n",
        "    distplot(X.values.ravel(), kde=False, hist_kws=dict(edgecolor='k', linewidth=2))\n",
        "    plt.xlabel('Unscaled kWh Values', fontsize=14)\n",
        "    plt.ylabel('Frequency', fontsize=14)\n",
        "    plt.title('kWh Values - Before Scaling', fontsize=18)\n",
        "\n",
        "    # Second figure - after scaling\n",
        "    plt.figure(figsize=(12, 6))\n",
        "    distplot(X_scaled.ravel(), kde=False, hist_kws=dict(edgecolor='k', linewidth=2))\n",
        "    plt.xlabel('Scaled kWh Values', fontsize=14)\n",
        "    plt.ylabel('Frequency', fontsize=14)\n",
        "    plt.title('kWh Values - After {} Scaling'.format(scaling_strategy), fontsize=18)\n",
        "\n",
        "  # Return the scaled features\n",
        "  return X_scaled"
      ],
      "execution_count": 0,
      "outputs": []
    },
    {
      "cell_type": "markdown",
      "metadata": {
        "id": "4NLOM098_1y3",
        "colab_type": "text"
      },
      "source": [
        "## `plot_history`\n",
        "\n",
        "Helper function to plot the training and validation loss and AUC of a `keras` model from its `history` object."
      ]
    },
    {
      "cell_type": "code",
      "metadata": {
        "id": "uilApaJAnx00",
        "colab_type": "code",
        "colab": {}
      },
      "source": [
        "def plot_history(history, model_name=None, figsize=(12, 6), \n",
        "                 loss_name='Binary Crossentropy'):\n",
        "  # Extract loss from the history object\n",
        "  loss = history.history['loss']\n",
        "  val_loss = history.history['val_loss']\n",
        "  epochs = range(1, len(loss) + 1)\n",
        "\n",
        "  # Extract AUCs\n",
        "  auc = None\n",
        "  val_auc = None\n",
        "\n",
        "  # Extract `auc` and `val_auc` regardless of last number in key\n",
        "  for key in list(history.history.keys()):\n",
        "    if 'auc' in key and 'val' not in key:\n",
        "      auc = history.history[key]\n",
        "    elif 'auc'in key and 'val' in key:\n",
        "      val_auc = history.history[key]\n",
        "\n",
        "  # Plotting Loss\n",
        "  plt.figure(figsize=figsize)\n",
        "  plt.plot(epochs, loss, label='Training Loss')\n",
        "  plt.plot(epochs, val_loss, label='Validation Loss')\n",
        "  plt.xlabel('Epochs', fontsize=14)\n",
        "  plt.ylabel(loss_name, fontsize=14)\n",
        "  plt.title('Loss ' + ('' if model_name is None else ' - {}'.format(model_name)), \n",
        "            fontsize=18)\n",
        "  plt.legend(loc='lower right')\n",
        "\n",
        "  # Plotting AUC - only if in dictionary\n",
        "  if auc is not None and val_auc is not None:\n",
        "    plt.figure(figsize=figsize)\n",
        "    plt.plot(epochs, auc, label='Training AUC')\n",
        "    plt.plot(epochs, val_auc, label='Validation AUC')\n",
        "    plt.xlabel('Epochs', fontsize=14)\n",
        "    plt.ylabel('AUC', fontsize=14)\n",
        "    plt.title('AUC ' + ('' if model_name is None else' - {}'.format(model_name)), \n",
        "              fontsize=18)"
      ],
      "execution_count": 0,
      "outputs": []
    },
    {
      "cell_type": "markdown",
      "metadata": {
        "id": "CP0jUC1bF0v0",
        "colab_type": "text"
      },
      "source": [
        "## `convert_functional_probas`\n",
        "\n",
        "`keras` functional API `Model`s do not have a `predict_classes` function, which is why we can't re-use the `get_classification_result` function from previous notebooks.\n",
        "\n",
        "This is a custom function that gets the predicted probabilities by \n",
        "1. calling `predict` on a functional `Model` \n",
        "2. extracting the probabilities from the `output_name` key in the dictionary returned by 1.\n",
        "3. unraveling/flattening these predictions into a single-dimensional array.\n",
        "4. comparing them to the threshold value of 0.5 (as in the [keras `Sequential` class's `predict_classes` function](https://github.com/keras-team/keras/blob/7a39b6c62d43c25472b2c2476bd2a8983ae4f682/keras/engine/sequential.py#L254) to get class labels.\n",
        "5. Returns both probabilities and labels for the given data."
      ]
    },
    {
      "cell_type": "code",
      "metadata": {
        "id": "ObL58fbtF0I0",
        "colab_type": "code",
        "colab": {}
      },
      "source": [
        "def get_functional_model_preds(model, X_test, batch_size=None, output_name='wdnn_output', \n",
        "                               threshold=0.5):\n",
        "  # Because functional API returns dictionary of outputs, must index using output name\n",
        "  # And then unravel to create a single-dimensional array\n",
        "  y_probas = model.predict(X_test, batch_size=batch_size)[output_name].ravel()\n",
        "\n",
        "  # Convert to predicted class labels - 0 or 1 - based on threshold\n",
        "  y_classes = (y_probas > threshold).astype('uint8')\n",
        "\n",
        "  # Return both the probability and the class labels\n",
        "  return y_classes, y_probas"
      ],
      "execution_count": 0,
      "outputs": []
    },
    {
      "cell_type": "markdown",
      "metadata": {
        "id": "Nr7VHzql_3tA",
        "colab_type": "text"
      },
      "source": [
        "## `get_classification_result`\n",
        "\n",
        "Modified version of the `get_classification_result` function from previous notebooks. \n",
        "\n",
        "Only difference is the use of `get_functional_model_preds` to get predicted probabilities and classes for input data.\n",
        "\n",
        "Also different from the `get_classification_result` in shallow learning models because built-in `sklearn` functions for plotting confusion matrices and ROC curves are incompatible with `keras` models that aren't encapsulated in the `sklearn kerasClassifier` wrapper. "
      ]
    },
    {
      "cell_type": "code",
      "metadata": {
        "id": "tUYArDsRrIdW",
        "colab_type": "code",
        "colab": {}
      },
      "source": [
        "def get_classification_result(model, X_test, y_true, model_name=None, \n",
        "                              normalize_conf_mat='all'):\n",
        "  \"\"\"Displays classification report, confusion matrix, and ROC curve for a trained\n",
        "  model using classification results on data provided\"\"\"\n",
        "  # PREDICTIONS\n",
        "  # First, get the predictions for the test data - batch size must be smaller\n",
        "  # than default 32, otherwise we'll run out of memory during prediction for WDNN\n",
        "  y_pred, y_probas = get_functional_model_preds(model, X_test, batch_size=8)\n",
        "\n",
        "  # CLASSIFICATION REPORT\n",
        "  print(\"classification report\".upper(), end='\\n')\n",
        "  print(classification_report(y_true, y_pred, labels=[0, 1], \n",
        "                              target_names=['Regular Consumer', 'Thief']))\n",
        "  \n",
        "  # CONFUSION MATRIX\n",
        "  if (normalize_conf_mat=='rows'):\n",
        "    normalize='true'\n",
        "  elif (normalize_conf_mat=='cols'):\n",
        "    normalize='pred'\n",
        "  else:\n",
        "    normalize='all'\n",
        "\n",
        "  # Using Seaborn to plot confusion matrix as a heatmap \n",
        "  conf_mat = confusion_matrix(y_true, y_pred, normalize=normalize)\n",
        "\n",
        "  # Create a heatmap in lieu of the plot_confusion_matrix call in sklearn\n",
        "  plt.figure(figsize=(8, 8))\n",
        "  heatmap(conf_mat, annot=True, fmt='.5g', cmap='Blues', \n",
        "        xticklabels=['Predicted Reg', 'Predicted Thief'], \n",
        "        yticklabels=['True Reg', 'True Thief'])\n",
        "  plt.title('Confusion Matrix ' + ('' if model_name is None else ' - ' + model_name))\n",
        "\n",
        "  # ROC Curve\n",
        "  plt.figure(figsize=(8, 8))\n",
        "  fpr, tpr, _ = roc_curve(y_true, y_probas, pos_label=1)\n",
        "  roc_auc = roc_auc_score(y_true, y_probas)\n",
        "  plt.plot(fpr, tpr, lw=2, label='ROC Curve (area = %0.2f)' % roc_auc)\n",
        "  plt.xlabel('False Positive Rate', fontsize=14)\n",
        "  plt.ylabel('True Positive Rate', fontsize=14)\n",
        "  plt.title('ROC Curve' + ('' if model_name is None else (' - ' + model_name)))\n",
        "  plt.legend(loc='lower right')\n",
        "  "
      ],
      "execution_count": 0,
      "outputs": []
    },
    {
      "cell_type": "markdown",
      "metadata": {
        "id": "UcaTnej__5f9",
        "colab_type": "text"
      },
      "source": [
        "## `training_trends`\n",
        "\n",
        "Helper function for exploring validation data trends in the history of a `keras` model's history."
      ]
    },
    {
      "cell_type": "code",
      "metadata": {
        "id": "rPTyL8jvrIbP",
        "colab_type": "code",
        "colab": {}
      },
      "source": [
        "def plot_training_trends(history_list, labels_list, suptitle):\n",
        "  # Empty lists first\n",
        "  lost_lists = []\n",
        "  val_loss_lists = []\n",
        "  auc_lists = []\n",
        "  val_auc_lists = []\n",
        "\n",
        "  # Extracting list of training losses \n",
        "  loss_lists = [history.history['loss'] for history in history_list]\n",
        "  val_loss_lists = [history.history['val_loss'] for history in history_list]\n",
        "\n",
        "  # Epochs will be the same as the length of any given loss list\n",
        "  epochs = range(1, len(loss_lists[0]) + 1)\n",
        "\n",
        "  # Extracting list of accuracies will be more difficult - uses functions defined earlier\n",
        "  auc_lists = get_auc(history_list)\n",
        "  val_auc_lists = get_val_auc(history_list)\n",
        "\n",
        "  # Labels for each plot in same order as dropout rates of models\n",
        "  legend_labels = labels_list\n",
        "\n",
        "  fig, ((ax1, ax2), (ax3, ax4)) = plt.subplots(2,2, figsize=(20, 10))\n",
        "\n",
        "  for i in range(0, len(loss_lists)):\n",
        "    ax1.plot(epochs, loss_lists[i])\n",
        "    ax2.plot(epochs, val_loss_lists[i])\n",
        "    ax3.plot(epochs, auc_lists[i])\n",
        "    ax4.plot(epochs, val_auc_lists[i])\n",
        "\n",
        "  for ax in (ax1, ax2, ax3, ax4):\n",
        "    ax.set_xlabel('Epochs')\n",
        "    ax.legend(legend_labels) \n",
        "\n",
        "  ax1.set_title('Training Loss'); ax2.set_title('Validation Loss')\n",
        "  ax3.set_title('Training AUC'); ax4.set_title('Validation AUC')\n",
        "  fig.suptitle(suptitle, fontsize=18)"
      ],
      "execution_count": 0,
      "outputs": []
    },
    {
      "cell_type": "markdown",
      "metadata": {
        "id": "pOp-h5zXoT9y",
        "colab_type": "text"
      },
      "source": [
        "# Loading Data"
      ]
    },
    {
      "cell_type": "markdown",
      "metadata": {
        "id": "IDZmiP4Zmr-T",
        "colab_type": "text"
      },
      "source": [
        "## Defining Filepaths"
      ]
    },
    {
      "cell_type": "code",
      "metadata": {
        "id": "JNZtiiCcrIFS",
        "colab_type": "code",
        "outputId": "e38be62d-3d1e-43c4-94e6-9b741489a6dd",
        "colab": {
          "base_uri": "https://localhost:8080/",
          "height": 54
        }
      },
      "source": [
        "# Mounting Google Drive\n",
        "drive.mount('/content/drive')"
      ],
      "execution_count": 65,
      "outputs": [
        {
          "output_type": "stream",
          "text": [
            "Drive already mounted at /content/drive; to attempt to forcibly remount, call drive.mount(\"/content/drive\", force_remount=True).\n"
          ],
          "name": "stdout"
        }
      ]
    },
    {
      "cell_type": "code",
      "metadata": {
        "id": "eEvrJWpIrIDD",
        "colab_type": "code",
        "colab": {}
      },
      "source": [
        "# Define filepaths\n",
        "ROOT_DIR = '/content/drive/My Drive'\n",
        "FYP_DIR = 'EE 16-17 FYP DL Energy Theft Detection'\n",
        "DATA_DIR  = 'Data/full-processing-data'\n",
        "DATA_RAW = 'outliersRemoved.csv'\n",
        "\n",
        "# Combining filepaths\n",
        "DATA_FILEPATH = os.path.join(ROOT_DIR, FYP_DIR, DATA_DIR, DATA_RAW)"
      ],
      "execution_count": 0,
      "outputs": []
    },
    {
      "cell_type": "markdown",
      "metadata": {
        "id": "9FnExYyImtra",
        "colab_type": "text"
      },
      "source": [
        "## Creating `DataFrame`"
      ]
    },
    {
      "cell_type": "code",
      "metadata": {
        "id": "z_eSgsv-rIAa",
        "colab_type": "code",
        "colab": {}
      },
      "source": [
        "# Read data from CSV\n",
        "df = pd.read_csv(DATA_FILEPATH)"
      ],
      "execution_count": 0,
      "outputs": []
    },
    {
      "cell_type": "code",
      "metadata": {
        "id": "9vGDYN6WmUs6",
        "colab_type": "code",
        "outputId": "6c4e2c1c-c466-4a00-f075-77f91693c86a",
        "colab": {
          "base_uri": "https://localhost:8080/",
          "height": 270
        }
      },
      "source": [
        "# Did it work?\n",
        "df.head()"
      ],
      "execution_count": 68,
      "outputs": [
        {
          "output_type": "execute_result",
          "data": {
            "text/html": [
              "<div>\n",
              "<style scoped>\n",
              "    .dataframe tbody tr th:only-of-type {\n",
              "        vertical-align: middle;\n",
              "    }\n",
              "\n",
              "    .dataframe tbody tr th {\n",
              "        vertical-align: top;\n",
              "    }\n",
              "\n",
              "    .dataframe thead th {\n",
              "        text-align: right;\n",
              "    }\n",
              "</style>\n",
              "<table border=\"1\" class=\"dataframe\">\n",
              "  <thead>\n",
              "    <tr style=\"text-align: right;\">\n",
              "      <th></th>\n",
              "      <th>CONS_NO</th>\n",
              "      <th>FLAG</th>\n",
              "      <th>2014-01-01</th>\n",
              "      <th>2014-01-02</th>\n",
              "      <th>2014-01-03</th>\n",
              "      <th>2014-01-04</th>\n",
              "      <th>2014-01-05</th>\n",
              "      <th>2014-01-06</th>\n",
              "      <th>2014-01-07</th>\n",
              "      <th>2014-01-08</th>\n",
              "      <th>2014-01-09</th>\n",
              "      <th>2014-01-10</th>\n",
              "      <th>2014-01-11</th>\n",
              "      <th>2014-01-12</th>\n",
              "      <th>2014-01-13</th>\n",
              "      <th>2014-01-14</th>\n",
              "      <th>2014-01-15</th>\n",
              "      <th>2014-01-16</th>\n",
              "      <th>2014-01-17</th>\n",
              "      <th>2014-01-18</th>\n",
              "      <th>2014-01-19</th>\n",
              "      <th>2014-01-20</th>\n",
              "      <th>2014-01-21</th>\n",
              "      <th>2014-01-22</th>\n",
              "      <th>2014-01-23</th>\n",
              "      <th>2014-01-24</th>\n",
              "      <th>2014-01-25</th>\n",
              "      <th>2014-01-26</th>\n",
              "      <th>2014-01-27</th>\n",
              "      <th>2014-01-28</th>\n",
              "      <th>2014-01-29</th>\n",
              "      <th>2014-01-30</th>\n",
              "      <th>2014-01-31</th>\n",
              "      <th>2014-02-01</th>\n",
              "      <th>2014-02-02</th>\n",
              "      <th>2014-02-03</th>\n",
              "      <th>2014-02-04</th>\n",
              "      <th>2014-02-05</th>\n",
              "      <th>2014-02-06</th>\n",
              "      <th>2014-02-07</th>\n",
              "      <th>...</th>\n",
              "      <th>2016-09-22</th>\n",
              "      <th>2016-09-23</th>\n",
              "      <th>2016-09-24</th>\n",
              "      <th>2016-09-25</th>\n",
              "      <th>2016-09-26</th>\n",
              "      <th>2016-09-27</th>\n",
              "      <th>2016-09-28</th>\n",
              "      <th>2016-09-29</th>\n",
              "      <th>2016-09-30</th>\n",
              "      <th>2016-10-01</th>\n",
              "      <th>2016-10-02</th>\n",
              "      <th>2016-10-03</th>\n",
              "      <th>2016-10-04</th>\n",
              "      <th>2016-10-05</th>\n",
              "      <th>2016-10-06</th>\n",
              "      <th>2016-10-07</th>\n",
              "      <th>2016-10-08</th>\n",
              "      <th>2016-10-09</th>\n",
              "      <th>2016-10-10</th>\n",
              "      <th>2016-10-11</th>\n",
              "      <th>2016-10-12</th>\n",
              "      <th>2016-10-13</th>\n",
              "      <th>2016-10-14</th>\n",
              "      <th>2016-10-15</th>\n",
              "      <th>2016-10-16</th>\n",
              "      <th>2016-10-17</th>\n",
              "      <th>2016-10-18</th>\n",
              "      <th>2016-10-19</th>\n",
              "      <th>2016-10-20</th>\n",
              "      <th>2016-10-21</th>\n",
              "      <th>2016-10-22</th>\n",
              "      <th>2016-10-23</th>\n",
              "      <th>2016-10-24</th>\n",
              "      <th>2016-10-25</th>\n",
              "      <th>2016-10-26</th>\n",
              "      <th>2016-10-27</th>\n",
              "      <th>2016-10-28</th>\n",
              "      <th>2016-10-29</th>\n",
              "      <th>2016-10-30</th>\n",
              "      <th>2016-10-31</th>\n",
              "    </tr>\n",
              "  </thead>\n",
              "  <tbody>\n",
              "    <tr>\n",
              "      <th>0</th>\n",
              "      <td>0387DD8A07E07FDA6271170F86AD9151</td>\n",
              "      <td>1</td>\n",
              "      <td>0.0</td>\n",
              "      <td>0.00</td>\n",
              "      <td>0.00</td>\n",
              "      <td>0.00</td>\n",
              "      <td>0.00</td>\n",
              "      <td>0.00</td>\n",
              "      <td>0.00</td>\n",
              "      <td>0.00</td>\n",
              "      <td>0.00</td>\n",
              "      <td>0.00</td>\n",
              "      <td>0.00</td>\n",
              "      <td>0.00</td>\n",
              "      <td>0.00</td>\n",
              "      <td>0.00</td>\n",
              "      <td>0.00</td>\n",
              "      <td>0.00</td>\n",
              "      <td>0.00</td>\n",
              "      <td>0.00</td>\n",
              "      <td>0.00</td>\n",
              "      <td>0.00</td>\n",
              "      <td>0.00</td>\n",
              "      <td>0.00</td>\n",
              "      <td>0.00</td>\n",
              "      <td>0.00</td>\n",
              "      <td>0.00</td>\n",
              "      <td>0.00</td>\n",
              "      <td>0.00</td>\n",
              "      <td>0.00</td>\n",
              "      <td>0.00</td>\n",
              "      <td>0.00</td>\n",
              "      <td>0.00</td>\n",
              "      <td>0.00</td>\n",
              "      <td>0.00</td>\n",
              "      <td>0.0</td>\n",
              "      <td>0.00</td>\n",
              "      <td>0.00</td>\n",
              "      <td>0.0</td>\n",
              "      <td>0.00</td>\n",
              "      <td>...</td>\n",
              "      <td>8.56</td>\n",
              "      <td>10.48</td>\n",
              "      <td>8.20</td>\n",
              "      <td>12.53</td>\n",
              "      <td>7.90</td>\n",
              "      <td>8.58</td>\n",
              "      <td>10.12</td>\n",
              "      <td>9.96</td>\n",
              "      <td>7.60</td>\n",
              "      <td>18.19</td>\n",
              "      <td>10.93</td>\n",
              "      <td>11.41</td>\n",
              "      <td>19.92</td>\n",
              "      <td>10.70</td>\n",
              "      <td>9.20</td>\n",
              "      <td>6.77</td>\n",
              "      <td>6.760000</td>\n",
              "      <td>6.150000</td>\n",
              "      <td>6.500000</td>\n",
              "      <td>8.080000</td>\n",
              "      <td>7.97</td>\n",
              "      <td>8.810000</td>\n",
              "      <td>7.370000</td>\n",
              "      <td>11.720000</td>\n",
              "      <td>11.020000</td>\n",
              "      <td>8.180000</td>\n",
              "      <td>7.330000</td>\n",
              "      <td>6.710000</td>\n",
              "      <td>8.520000</td>\n",
              "      <td>6.310000</td>\n",
              "      <td>7.18</td>\n",
              "      <td>8.070000</td>\n",
              "      <td>8.090000</td>\n",
              "      <td>9.530000</td>\n",
              "      <td>5.480000</td>\n",
              "      <td>8.750000</td>\n",
              "      <td>9.300000</td>\n",
              "      <td>7.540000</td>\n",
              "      <td>9.160000</td>\n",
              "      <td>6.740000</td>\n",
              "    </tr>\n",
              "    <tr>\n",
              "      <th>1</th>\n",
              "      <td>01D6177B5D4FFE0CABA9EF17DAFC2B84</td>\n",
              "      <td>1</td>\n",
              "      <td>0.0</td>\n",
              "      <td>0.00</td>\n",
              "      <td>0.00</td>\n",
              "      <td>0.00</td>\n",
              "      <td>0.00</td>\n",
              "      <td>0.00</td>\n",
              "      <td>0.00</td>\n",
              "      <td>0.00</td>\n",
              "      <td>0.00</td>\n",
              "      <td>0.00</td>\n",
              "      <td>0.00</td>\n",
              "      <td>0.00</td>\n",
              "      <td>0.00</td>\n",
              "      <td>0.00</td>\n",
              "      <td>0.00</td>\n",
              "      <td>0.00</td>\n",
              "      <td>0.00</td>\n",
              "      <td>0.00</td>\n",
              "      <td>0.00</td>\n",
              "      <td>0.00</td>\n",
              "      <td>0.00</td>\n",
              "      <td>0.00</td>\n",
              "      <td>0.00</td>\n",
              "      <td>0.00</td>\n",
              "      <td>0.00</td>\n",
              "      <td>0.00</td>\n",
              "      <td>0.00</td>\n",
              "      <td>0.00</td>\n",
              "      <td>0.00</td>\n",
              "      <td>0.00</td>\n",
              "      <td>0.00</td>\n",
              "      <td>0.00</td>\n",
              "      <td>0.00</td>\n",
              "      <td>0.0</td>\n",
              "      <td>0.00</td>\n",
              "      <td>0.00</td>\n",
              "      <td>0.0</td>\n",
              "      <td>0.00</td>\n",
              "      <td>...</td>\n",
              "      <td>0.00</td>\n",
              "      <td>0.00</td>\n",
              "      <td>0.00</td>\n",
              "      <td>0.00</td>\n",
              "      <td>0.00</td>\n",
              "      <td>0.00</td>\n",
              "      <td>0.00</td>\n",
              "      <td>0.00</td>\n",
              "      <td>0.00</td>\n",
              "      <td>0.00</td>\n",
              "      <td>0.00</td>\n",
              "      <td>0.00</td>\n",
              "      <td>0.00</td>\n",
              "      <td>0.00</td>\n",
              "      <td>0.00</td>\n",
              "      <td>0.00</td>\n",
              "      <td>0.000000</td>\n",
              "      <td>0.000000</td>\n",
              "      <td>0.000000</td>\n",
              "      <td>0.000000</td>\n",
              "      <td>0.00</td>\n",
              "      <td>0.000000</td>\n",
              "      <td>0.000000</td>\n",
              "      <td>0.000000</td>\n",
              "      <td>0.000000</td>\n",
              "      <td>0.000000</td>\n",
              "      <td>0.000000</td>\n",
              "      <td>0.000000</td>\n",
              "      <td>0.000000</td>\n",
              "      <td>0.000000</td>\n",
              "      <td>0.00</td>\n",
              "      <td>0.000000</td>\n",
              "      <td>0.000000</td>\n",
              "      <td>0.000000</td>\n",
              "      <td>0.000000</td>\n",
              "      <td>0.000000</td>\n",
              "      <td>0.000000</td>\n",
              "      <td>0.000000</td>\n",
              "      <td>0.000000</td>\n",
              "      <td>0.000000</td>\n",
              "    </tr>\n",
              "    <tr>\n",
              "      <th>2</th>\n",
              "      <td>4B75AC4F2D8434CFF62DB64D0BB43103</td>\n",
              "      <td>1</td>\n",
              "      <td>0.0</td>\n",
              "      <td>0.00</td>\n",
              "      <td>0.00</td>\n",
              "      <td>0.00</td>\n",
              "      <td>0.00</td>\n",
              "      <td>0.00</td>\n",
              "      <td>0.00</td>\n",
              "      <td>0.00</td>\n",
              "      <td>0.00</td>\n",
              "      <td>0.00</td>\n",
              "      <td>0.00</td>\n",
              "      <td>0.00</td>\n",
              "      <td>0.00</td>\n",
              "      <td>0.00</td>\n",
              "      <td>0.00</td>\n",
              "      <td>0.00</td>\n",
              "      <td>0.00</td>\n",
              "      <td>0.00</td>\n",
              "      <td>0.00</td>\n",
              "      <td>0.00</td>\n",
              "      <td>0.00</td>\n",
              "      <td>0.00</td>\n",
              "      <td>0.00</td>\n",
              "      <td>0.00</td>\n",
              "      <td>0.00</td>\n",
              "      <td>0.00</td>\n",
              "      <td>0.00</td>\n",
              "      <td>0.00</td>\n",
              "      <td>0.00</td>\n",
              "      <td>0.00</td>\n",
              "      <td>0.00</td>\n",
              "      <td>0.00</td>\n",
              "      <td>0.00</td>\n",
              "      <td>0.0</td>\n",
              "      <td>0.00</td>\n",
              "      <td>0.00</td>\n",
              "      <td>0.0</td>\n",
              "      <td>0.00</td>\n",
              "      <td>...</td>\n",
              "      <td>0.00</td>\n",
              "      <td>0.00</td>\n",
              "      <td>0.00</td>\n",
              "      <td>0.00</td>\n",
              "      <td>0.00</td>\n",
              "      <td>0.00</td>\n",
              "      <td>0.00</td>\n",
              "      <td>0.00</td>\n",
              "      <td>0.00</td>\n",
              "      <td>0.00</td>\n",
              "      <td>0.00</td>\n",
              "      <td>0.00</td>\n",
              "      <td>0.00</td>\n",
              "      <td>0.00</td>\n",
              "      <td>0.00</td>\n",
              "      <td>8.34</td>\n",
              "      <td>13.483126</td>\n",
              "      <td>13.483126</td>\n",
              "      <td>13.483126</td>\n",
              "      <td>13.483126</td>\n",
              "      <td>12.73</td>\n",
              "      <td>13.483126</td>\n",
              "      <td>13.483126</td>\n",
              "      <td>13.483126</td>\n",
              "      <td>13.483126</td>\n",
              "      <td>13.483126</td>\n",
              "      <td>13.483126</td>\n",
              "      <td>13.483126</td>\n",
              "      <td>13.483126</td>\n",
              "      <td>13.483126</td>\n",
              "      <td>10.95</td>\n",
              "      <td>13.483126</td>\n",
              "      <td>13.483126</td>\n",
              "      <td>13.483126</td>\n",
              "      <td>13.483126</td>\n",
              "      <td>13.483126</td>\n",
              "      <td>13.483126</td>\n",
              "      <td>13.483126</td>\n",
              "      <td>13.483126</td>\n",
              "      <td>13.483126</td>\n",
              "    </tr>\n",
              "    <tr>\n",
              "      <th>3</th>\n",
              "      <td>B32AC8CC6D5D805AC053557AB05F5343</td>\n",
              "      <td>1</td>\n",
              "      <td>0.0</td>\n",
              "      <td>0.00</td>\n",
              "      <td>0.00</td>\n",
              "      <td>0.00</td>\n",
              "      <td>0.00</td>\n",
              "      <td>0.00</td>\n",
              "      <td>0.00</td>\n",
              "      <td>0.00</td>\n",
              "      <td>0.00</td>\n",
              "      <td>0.00</td>\n",
              "      <td>0.00</td>\n",
              "      <td>0.00</td>\n",
              "      <td>0.00</td>\n",
              "      <td>0.00</td>\n",
              "      <td>0.00</td>\n",
              "      <td>0.00</td>\n",
              "      <td>0.00</td>\n",
              "      <td>0.00</td>\n",
              "      <td>0.00</td>\n",
              "      <td>0.00</td>\n",
              "      <td>0.00</td>\n",
              "      <td>0.00</td>\n",
              "      <td>0.00</td>\n",
              "      <td>0.00</td>\n",
              "      <td>0.00</td>\n",
              "      <td>0.00</td>\n",
              "      <td>0.00</td>\n",
              "      <td>0.00</td>\n",
              "      <td>0.00</td>\n",
              "      <td>0.00</td>\n",
              "      <td>0.00</td>\n",
              "      <td>0.00</td>\n",
              "      <td>0.00</td>\n",
              "      <td>0.0</td>\n",
              "      <td>0.00</td>\n",
              "      <td>0.00</td>\n",
              "      <td>0.0</td>\n",
              "      <td>0.00</td>\n",
              "      <td>...</td>\n",
              "      <td>17.30</td>\n",
              "      <td>16.95</td>\n",
              "      <td>8.25</td>\n",
              "      <td>22.76</td>\n",
              "      <td>14.07</td>\n",
              "      <td>20.70</td>\n",
              "      <td>6.50</td>\n",
              "      <td>9.99</td>\n",
              "      <td>18.59</td>\n",
              "      <td>16.79</td>\n",
              "      <td>26.82</td>\n",
              "      <td>14.70</td>\n",
              "      <td>16.05</td>\n",
              "      <td>24.10</td>\n",
              "      <td>12.64</td>\n",
              "      <td>10.85</td>\n",
              "      <td>11.770000</td>\n",
              "      <td>13.030000</td>\n",
              "      <td>12.260000</td>\n",
              "      <td>15.660000</td>\n",
              "      <td>13.43</td>\n",
              "      <td>15.030000</td>\n",
              "      <td>14.610000</td>\n",
              "      <td>13.970000</td>\n",
              "      <td>15.070000</td>\n",
              "      <td>14.110000</td>\n",
              "      <td>14.770000</td>\n",
              "      <td>11.720000</td>\n",
              "      <td>11.730000</td>\n",
              "      <td>11.980000</td>\n",
              "      <td>12.81</td>\n",
              "      <td>15.120000</td>\n",
              "      <td>17.260000</td>\n",
              "      <td>14.910000</td>\n",
              "      <td>19.590000</td>\n",
              "      <td>20.790000</td>\n",
              "      <td>17.950000</td>\n",
              "      <td>19.260000</td>\n",
              "      <td>14.460000</td>\n",
              "      <td>11.720000</td>\n",
              "    </tr>\n",
              "    <tr>\n",
              "      <th>4</th>\n",
              "      <td>EDFC78B07BA2908B3395C4EB2304665E</td>\n",
              "      <td>1</td>\n",
              "      <td>2.9</td>\n",
              "      <td>5.64</td>\n",
              "      <td>6.99</td>\n",
              "      <td>3.32</td>\n",
              "      <td>3.61</td>\n",
              "      <td>5.35</td>\n",
              "      <td>4.73</td>\n",
              "      <td>3.68</td>\n",
              "      <td>3.53</td>\n",
              "      <td>3.42</td>\n",
              "      <td>3.81</td>\n",
              "      <td>4.58</td>\n",
              "      <td>3.56</td>\n",
              "      <td>4.25</td>\n",
              "      <td>3.86</td>\n",
              "      <td>3.53</td>\n",
              "      <td>3.41</td>\n",
              "      <td>0.85</td>\n",
              "      <td>0.88</td>\n",
              "      <td>3.81</td>\n",
              "      <td>6.51</td>\n",
              "      <td>9.19</td>\n",
              "      <td>7.79</td>\n",
              "      <td>7.02</td>\n",
              "      <td>7.25</td>\n",
              "      <td>6.37</td>\n",
              "      <td>6.43</td>\n",
              "      <td>7.89</td>\n",
              "      <td>7.46</td>\n",
              "      <td>7.95</td>\n",
              "      <td>7.59</td>\n",
              "      <td>4.84</td>\n",
              "      <td>6.06</td>\n",
              "      <td>5.6</td>\n",
              "      <td>6.72</td>\n",
              "      <td>7.29</td>\n",
              "      <td>5.6</td>\n",
              "      <td>6.28</td>\n",
              "      <td>...</td>\n",
              "      <td>9.56</td>\n",
              "      <td>9.48</td>\n",
              "      <td>10.60</td>\n",
              "      <td>10.06</td>\n",
              "      <td>10.79</td>\n",
              "      <td>10.91</td>\n",
              "      <td>17.77</td>\n",
              "      <td>10.37</td>\n",
              "      <td>13.51</td>\n",
              "      <td>14.13</td>\n",
              "      <td>17.44</td>\n",
              "      <td>15.96</td>\n",
              "      <td>12.18</td>\n",
              "      <td>18.54</td>\n",
              "      <td>13.44</td>\n",
              "      <td>11.68</td>\n",
              "      <td>9.150000</td>\n",
              "      <td>9.160000</td>\n",
              "      <td>10.190000</td>\n",
              "      <td>10.310000</td>\n",
              "      <td>8.03</td>\n",
              "      <td>10.080000</td>\n",
              "      <td>10.340000</td>\n",
              "      <td>11.240000</td>\n",
              "      <td>15.140000</td>\n",
              "      <td>14.360000</td>\n",
              "      <td>12.390000</td>\n",
              "      <td>10.360000</td>\n",
              "      <td>9.290000</td>\n",
              "      <td>7.910000</td>\n",
              "      <td>14.21</td>\n",
              "      <td>10.220000</td>\n",
              "      <td>8.470000</td>\n",
              "      <td>6.110000</td>\n",
              "      <td>6.100000</td>\n",
              "      <td>6.730000</td>\n",
              "      <td>7.520000</td>\n",
              "      <td>10.890000</td>\n",
              "      <td>9.860000</td>\n",
              "      <td>8.720000</td>\n",
              "    </tr>\n",
              "  </tbody>\n",
              "</table>\n",
              "<p>5 rows × 1036 columns</p>\n",
              "</div>"
            ],
            "text/plain": [
              "                            CONS_NO  FLAG  ...  2016-10-30  2016-10-31\n",
              "0  0387DD8A07E07FDA6271170F86AD9151     1  ...    9.160000    6.740000\n",
              "1  01D6177B5D4FFE0CABA9EF17DAFC2B84     1  ...    0.000000    0.000000\n",
              "2  4B75AC4F2D8434CFF62DB64D0BB43103     1  ...   13.483126   13.483126\n",
              "3  B32AC8CC6D5D805AC053557AB05F5343     1  ...   14.460000   11.720000\n",
              "4  EDFC78B07BA2908B3395C4EB2304665E     1  ...    9.860000    8.720000\n",
              "\n",
              "[5 rows x 1036 columns]"
            ]
          },
          "metadata": {
            "tags": []
          },
          "execution_count": 68
        }
      ]
    },
    {
      "cell_type": "code",
      "metadata": {
        "id": "QLrKjrzp1Vak",
        "colab_type": "code",
        "outputId": "0fcf73cb-aec2-4d75-d531-94dbd1968654",
        "colab": {
          "base_uri": "https://localhost:8080/",
          "height": 34
        }
      },
      "source": [
        "# Any missing values in this dataset?\n",
        "df.values[np.where(np.isnan(df.iloc[:, 1:].values))[0], :]"
      ],
      "execution_count": 69,
      "outputs": [
        {
          "output_type": "execute_result",
          "data": {
            "text/plain": [
              "array([], shape=(0, 1036), dtype=object)"
            ]
          },
          "metadata": {
            "tags": []
          },
          "execution_count": 69
        }
      ]
    },
    {
      "cell_type": "markdown",
      "metadata": {
        "id": "dzkWaRJsmkH7",
        "colab_type": "text"
      },
      "source": [
        "## Extracting Features and Labels"
      ]
    },
    {
      "cell_type": "code",
      "metadata": {
        "id": "YBQ8W_2Jmqd0",
        "colab_type": "code",
        "colab": {}
      },
      "source": [
        "# Second column - FLAG - is the target\n",
        "targets = df['FLAG']"
      ],
      "execution_count": 0,
      "outputs": []
    },
    {
      "cell_type": "code",
      "metadata": {
        "id": "k_gsGtOMmznu",
        "colab_type": "code",
        "colab": {}
      },
      "source": [
        "# Third column onwards are kWhs - these are our features\n",
        "features = df.iloc[:, 2:]"
      ],
      "execution_count": 0,
      "outputs": []
    },
    {
      "cell_type": "markdown",
      "metadata": {
        "id": "RXgLJMrOm8Xh",
        "colab_type": "text"
      },
      "source": [
        "## Scale Features\n",
        "\n",
        "Creating separate arrays prepared using standard and minmax scalers."
      ]
    },
    {
      "cell_type": "code",
      "metadata": {
        "id": "mT7QDGC-nA5E",
        "colab_type": "code",
        "outputId": "f6bfa9f6-2d23-44c2-bc3e-ca8862194747",
        "colab": {
          "base_uri": "https://localhost:8080/",
          "height": 1000
        }
      },
      "source": [
        "X_scaled_std = scale_features(features, plot_distributions=True)\n",
        "X_scaled_minmax = scale_features(features, scaling_strategy='MinMax', plot_distributions=True)"
      ],
      "execution_count": 72,
      "outputs": [
        {
          "output_type": "display_data",
          "data": {
            "image/png": "[encoded data removed]",
            "text/plain": [
              "<Figure size 864x432 with 1 Axes>"
            ]
          },
          "metadata": {
            "tags": []
          }
        },
        {
          "output_type": "display_data",
          "data": {
            "image/png": "[encoded data removed]",
            "text/plain": [
              "<Figure size 864x432 with 1 Axes>"
            ]
          },
          "metadata": {
            "tags": []
          }
        },
        {
          "output_type": "display_data",
          "data": {
            "image/png": "[encoded data removed]",
            "text/plain": [
              "<Figure size 864x432 with 1 Axes>"
            ]
          },
          "metadata": {
            "tags": []
          }
        },
        {
          "output_type": "display_data",
          "data": {
            "image/png": "[encoded data removed]",
            "text/plain": [
              "<Figure size 864x432 with 1 Axes>"
            ]
          },
          "metadata": {
            "tags": []
          }
        }
      ]
    },
    {
      "cell_type": "code",
      "metadata": {
        "id": "mJF4-uJP12dl",
        "colab_type": "code",
        "outputId": "f0d5812c-2b74-42b0-f79f-a6e0e51d124c",
        "colab": {
          "base_uri": "https://localhost:8080/",
          "height": 51
        }
      },
      "source": [
        "# Any missing values after this transformation?\n",
        "print(np.any(np.isnan((X_scaled_std))))\n",
        "print(np.any(np.isnan(X_scaled_minmax)))"
      ],
      "execution_count": 73,
      "outputs": [
        {
          "output_type": "stream",
          "text": [
            "False\n",
            "False\n"
          ],
          "name": "stdout"
        }
      ]
    },
    {
      "cell_type": "markdown",
      "metadata": {
        "id": "ge9e07anqwkl",
        "colab_type": "text"
      },
      "source": [
        "## Train-Test Split"
      ]
    },
    {
      "cell_type": "code",
      "metadata": {
        "id": "iH3IG4l-sKJE",
        "colab_type": "code",
        "colab": {}
      },
      "source": [
        "# Standard scaled data\n",
        "X_train_std, X_test_std, y_train_std, y_test_std = train_test_split(X_scaled_std, targets, \n",
        "                                                                    random_state=0, \n",
        "                                                                    shuffle=True, \n",
        "                                                                    test_size=0.2,\n",
        "                                                                    stratify=targets.values)     # Must be numpy array for stratification|"
      ],
      "execution_count": 0,
      "outputs": []
    },
    {
      "cell_type": "code",
      "metadata": {
        "id": "rEQQNHl8s04A",
        "colab_type": "code",
        "colab": {}
      },
      "source": [
        "# Minmax scaled data\n",
        "X_train_minmax, X_test_minmax, y_train_minmax, y_test_minmax = train_test_split(\n",
        "    X_scaled_minmax, targets, random_state=0, shuffle=True, stratify=targets.values, test_size=0.2\n",
        ")"
      ],
      "execution_count": 0,
      "outputs": []
    },
    {
      "cell_type": "markdown",
      "metadata": {
        "id": "Zb1ykTegtkfg",
        "colab_type": "text"
      },
      "source": [
        "## Checking Train-Test Split"
      ]
    },
    {
      "cell_type": "code",
      "metadata": {
        "id": "h9YjeOhVs-JZ",
        "colab_type": "code",
        "colab": {}
      },
      "source": [
        "# Confirming both feature sets are similar\n",
        "assert X_train_std.shape == X_train_minmax.shape\n",
        "assert X_test_std.shape == X_test_minmax.shape\n",
        "\n",
        "# Confirming 1-1 mapping between targets and labels\n",
        "assert len(X_train_minmax) == len(y_train_minmax)\n",
        "assert len(X_test_minmax) == len(y_test_minmax)\n",
        "assert len(X_train_std) == len(y_train_std)\n",
        "assert len(X_test_std) == len(y_test_std) "
      ],
      "execution_count": 0,
      "outputs": []
    },
    {
      "cell_type": "code",
      "metadata": {
        "id": "bAZLqMtftISP",
        "colab_type": "code",
        "outputId": "0fe16b69-3db4-490f-a78c-d6c1268c7db3",
        "colab": {
          "base_uri": "https://localhost:8080/",
          "height": 441
        }
      },
      "source": [
        "# Confirming class distributions are same \n",
        "data_dict = {\n",
        "    'y_train_minmax': y_train_minmax, \n",
        "    'y_test_minmax': y_test_minmax, \n",
        "    'y_train_std': y_train_std, \n",
        "    'y_test_std': y_test_std\n",
        "}\n",
        "\n",
        "fig, axes = plt.subplots(1, 4, figsize=(12, 6))\n",
        "for i, ((arr_name, label_arr)) in enumerate(data_dict.items()):\n",
        "  plt.sca(axes[i])\n",
        "  plt.bar([0, 1], (pd.Series(label_arr).value_counts() / len(label_arr)))\n",
        "  plt.xticks([0, 1])\n",
        "  plt.title(arr_name)\n",
        "  plt.xlabel('Class', fontsize=14)\n",
        "  plt.ylabel('Proportion of Examples', fontsize=14)\n",
        "\n",
        "plt.tight_layout()"
      ],
      "execution_count": 77,
      "outputs": [
        {
          "output_type": "display_data",
          "data": {
            "image/png": "[encoded data removed]",
            "text/plain": [
              "<Figure size 864x432 with 4 Axes>"
            ]
          },
          "metadata": {
            "tags": []
          }
        }
      ]
    },
    {
      "cell_type": "markdown",
      "metadata": {
        "id": "uQmZvrdQQ0WM",
        "colab_type": "text"
      },
      "source": [
        "For explicitness, I've made four different versions of the input data that have been scaled as follows\n",
        "1. Train - Standard\n",
        "2. Train - MinMax\n",
        "3. Test - Standard\n",
        "4. Test - MinMax\n",
        "\n",
        "The plot in the previous cell just confirms that all of them have the same distribution of classes in their targets. "
      ]
    },
    {
      "cell_type": "markdown",
      "metadata": {
        "id": "kc-NepEWB71s",
        "colab_type": "text"
      },
      "source": [
        "## Padding Data \n",
        "\n",
        "- CNN expects data to be two-dimensional.\n",
        "- This can only be done if there are enough features for `n_features / 7` to be a whole number.\n",
        "- With 1,034 features per consumer, we are just about shy of 148 weeks of data.\n",
        "- So pad the all training features with 2 additional columns of zeroes. "
      ]
    },
    {
      "cell_type": "code",
      "metadata": {
        "id": "H51ct_IKCbZG",
        "colab_type": "code",
        "colab": {}
      },
      "source": [
        "# Features common to all examples\n",
        "NUM_FEATURES = features.shape[-1]\n",
        "\n",
        "# Have already asserted that the minmax data has the same number of entries\n",
        "NUM_TRAIN = len(X_train_std)\n",
        "NUM_TEST = len(X_test_std)\n",
        "\n",
        "# Number of columns to add to the CNN data\n",
        "PADDING = 2 \n",
        "\n",
        "# For reshaping\n",
        "DAYS_PER_WEEK = 7\n",
        "PADDING = 2\n",
        "WEEKS_PER_CONSUMER = int((NUM_FEATURES + PADDING) / DAYS_PER_WEEK)"
      ],
      "execution_count": 0,
      "outputs": []
    },
    {
      "cell_type": "markdown",
      "metadata": {
        "id": "HdPEiFJY8982",
        "colab_type": "text"
      },
      "source": [
        "## Reshaping Data\n",
        "\n",
        "Reshaping 1D daily data (1034,) for a single consumer into 2D weekly data (148, 7) that is compatible with a 2D CNN."
      ]
    },
    {
      "cell_type": "markdown",
      "metadata": {
        "id": "k4IdE-Ba9Du2",
        "colab_type": "text"
      },
      "source": [
        "### Reshaping Function"
      ]
    },
    {
      "cell_type": "code",
      "metadata": {
        "id": "PT3B8wYAEQJ8",
        "colab_type": "code",
        "colab": {}
      },
      "source": [
        "def get2DFeatures(features_arr):\n",
        "  \"\"\"Transforms 1D array of features into a 2D array suitable for use with a CNN\"\"\"\n",
        "  # First, find some metrics for reshaping\n",
        "  num_samples = len(features_arr)\n",
        "\n",
        "  # Create a new array of features by appending 2 columns of zeros to the existing features\n",
        "  modified_features = np.append(features_arr, axis=1, values=np.zeros((num_samples, 2)))\n",
        "\n",
        "  # Reshape into a 3D array of dimensions (samples, weeks, days) - each consumer is now a 3D array\n",
        "  # of type (samples, week number, day number, channel) - channel is necessary for CNN.\n",
        "  return modified_features.reshape((num_samples, WEEKS_PER_CONSUMER, DAYS_PER_WEEK, 1))"
      ],
      "execution_count": 0,
      "outputs": []
    },
    {
      "cell_type": "markdown",
      "metadata": {
        "id": "zP43Eu3t8_ve",
        "colab_type": "text"
      },
      "source": [
        "### Reshaping MinMax Features"
      ]
    },
    {
      "cell_type": "code",
      "metadata": {
        "id": "0lbraBGn8S3W",
        "colab_type": "code",
        "colab": {}
      },
      "source": [
        "# MINMAX\n",
        "X_train_minmax_2D = get2DFeatures(X_train_minmax)\n",
        "X_test_minmax_2D = get2DFeatures(X_test_minmax)\n",
        "\n",
        "# Also creating targets - need separate arrays for validation set\n",
        "y_train_minmax_2D = y_train_minmax.copy()\n",
        "y_test_minmax_2D = y_test_minmax.copy()"
      ],
      "execution_count": 0,
      "outputs": []
    },
    {
      "cell_type": "markdown",
      "metadata": {
        "id": "z-OG7axj811_",
        "colab_type": "text"
      },
      "source": [
        "### Reshaping Standard Scaler Features"
      ]
    },
    {
      "cell_type": "code",
      "metadata": {
        "id": "8NiYuUQJ81xv",
        "colab_type": "code",
        "colab": {}
      },
      "source": [
        "# STANDARD SCALER DATA\n",
        "X_train_std_2D = get2DFeatures(X_train_std)\n",
        "X_test_std_2D = get2DFeatures(X_test_std)\n",
        "\n",
        "# Also creating targets - will need these for validation set\n",
        "y_train_std_2D = y_train_minmax.copy()\n",
        "y_test_std_2D = y_test_minmax.copy() "
      ],
      "execution_count": 0,
      "outputs": []
    },
    {
      "cell_type": "markdown",
      "metadata": {
        "id": "ptx5L_1q9Y3_",
        "colab_type": "text"
      },
      "source": [
        "### Testing Reshaping"
      ]
    },
    {
      "cell_type": "code",
      "metadata": {
        "id": "0dXPsAst9ZT_",
        "colab_type": "code",
        "outputId": "586804a5-8c25-458f-b74a-e68cc676e3bc",
        "colab": {
          "base_uri": "https://localhost:8080/",
          "height": 34
        }
      },
      "source": [
        "# First, confirm that each sample is a matrix of 2D features -> 3D arrays of train/test data\n",
        "np.all([feature_arr.ndim == 4 for feature_arr in [X_train_std_2D, X_test_std_2D, X_train_minmax_2D, X_test_minmax_2D]])"
      ],
      "execution_count": 82,
      "outputs": [
        {
          "output_type": "execute_result",
          "data": {
            "text/plain": [
              "True"
            ]
          },
          "metadata": {
            "tags": []
          },
          "execution_count": 82
        }
      ]
    },
    {
      "cell_type": "code",
      "metadata": {
        "id": "3ijqkK9n9cP2",
        "colab_type": "code",
        "colab": {}
      },
      "source": [
        "# Then check that the samples axis is unchanged \n",
        "original_features = [X_train_minmax, X_test_minmax, X_train_std, X_test_std]\n",
        "reshaped_features = [X_train_minmax_2D, X_test_minmax_2D, X_train_minmax_2D, X_test_minmax_2D]\n",
        "\n",
        "# Compare corresponding arrays\n",
        "for (original_arr, reshaped_arr) in zip(original_features, reshaped_features):\n",
        "  assert len(original_arr) == len(reshaped_arr)"
      ],
      "execution_count": 0,
      "outputs": []
    },
    {
      "cell_type": "markdown",
      "metadata": {
        "id": "tV7vSWBaxJB_",
        "colab_type": "text"
      },
      "source": [
        "# WDNN"
      ]
    },
    {
      "cell_type": "markdown",
      "metadata": {
        "id": "RwVcj_m6Am9g",
        "colab_type": "text"
      },
      "source": [
        "## Inputs\n",
        "\n",
        "Since we're using the functional API, we are defining the inputs for the WNN and CNN separately as tensors of specific dimensions.\n",
        "\n",
        "Providing a `name` for these inputs is optional, but, as we'll see when fitting the model, it makes it much easier to pass data to the model. \n",
        "\n",
        "We aren't specifying the size of the `sample` axis either tensor. This means the NN will be able to accept whatever batch size we provide to it."
      ]
    },
    {
      "cell_type": "code",
      "metadata": {
        "id": "TA2Masc5At0E",
        "colab_type": "code",
        "colab": {}
      },
      "source": [
        "# (dim1, ) means the sample axis can have any size -> same applies to 2D inputs as well\n",
        "wnn_input = keras.layers.Input(shape=(NUM_FEATURES,), name='wnn_input')\n",
        "cnn_input = keras.layers.Input(shape=(WEEKS_PER_CONSUMER, DAYS_PER_WEEK, 1), name='cnn_input')"
      ],
      "execution_count": 0,
      "outputs": []
    },
    {
      "cell_type": "markdown",
      "metadata": {
        "id": "jgVrkT7ABFw3",
        "colab_type": "text"
      },
      "source": [
        "## Hidden Layers - WNN\n",
        "\n",
        "The WNN consists of a single densely connected hidden layer. This layer transforms the Wide Neural Network's input.\n",
        "\n",
        "We used 50 in the original WNN, but I had to change it to 60 for merging the layers OP with that of the CNN. \n",
        "\n",
        "Detailed explanation is just a few cells down. "
      ]
    },
    {
      "cell_type": "code",
      "metadata": {
        "id": "ZNg6Wgk5Bikz",
        "colab_type": "code",
        "colab": {}
      },
      "source": [
        "# Only one hidden layer in WNN - 60 ReLu units\n",
        "wnn_dense_1 = keras.layers.Dense(activation='relu', units=60)(wnn_input)"
      ],
      "execution_count": 0,
      "outputs": []
    },
    {
      "cell_type": "markdown",
      "metadata": {
        "id": "LUgDXNUOB4qt",
        "colab_type": "text"
      },
      "source": [
        "## Hidden Layers - CNN"
      ]
    },
    {
      "cell_type": "markdown",
      "metadata": {
        "id": "0jZkjI54Er0d",
        "colab_type": "text"
      },
      "source": [
        "### Successsive Convolutional layers"
      ]
    },
    {
      "cell_type": "code",
      "metadata": {
        "id": "27p7szYoB6-6",
        "colab_type": "code",
        "colab": {}
      },
      "source": [
        "# First convolutional layer\n",
        "cnn_conv_1 = keras.layers.Conv2D(filters=18, activation='relu', \n",
        "                                   padding='same', kernel_size=(3, 3))(cnn_input)\n",
        "\n",
        "# Second Conv2D\n",
        "cnn_conv_2 = keras.layers.Conv2D(filters=18, activation='relu', \n",
        "                                   padding='same', kernel_size=(3, 3))(cnn_conv_1)\n",
        "\n",
        "# Third Conv2D\n",
        "cnn_conv_3 = keras.layers.Conv2D(filters=18, activation='relu', \n",
        "                                   padding='same', kernel_size=(3, 3))(cnn_conv_2)\n",
        "\n",
        "# Fourth Conv2D\n",
        "cnn_conv_4 = keras.layers.Conv2D(filters=18, activation='relu', \n",
        "                                   padding='same', kernel_size=(3, 3))(cnn_conv_3)\n",
        "\n",
        "# Fifth Conv2D\n",
        "cnn_conv_5 = keras.layers.Conv2D(filters=18, activation='relu',\n",
        "                                   padding='same', kernel_size=(3, 3))(cnn_conv_4)"
      ],
      "execution_count": 0,
      "outputs": []
    },
    {
      "cell_type": "markdown",
      "metadata": {
        "id": "eXXTX3NqED6Y",
        "colab_type": "text"
      },
      "source": [
        "### Max Pooling \n",
        "\n",
        "there is a single max pooling layer after a series of convolutional layers. "
      ]
    },
    {
      "cell_type": "code",
      "metadata": {
        "id": "AoyQZaAxEyLK",
        "colab_type": "code",
        "colab": {}
      },
      "source": [
        "cnn_max_pooling2d = keras.layers.MaxPooling2D(pool_size=(3, 3))(cnn_conv_5)"
      ],
      "execution_count": 0,
      "outputs": []
    },
    {
      "cell_type": "markdown",
      "metadata": {
        "id": "fjAaCxqZE5YX",
        "colab_type": "text"
      },
      "source": [
        "### Fully Connected Classifier\n",
        "\n",
        "This is still part of the CNN. The output of the max pooling layer of the CNN is flattened and then fed to densely connected feedforward neural network."
      ]
    },
    {
      "cell_type": "code",
      "metadata": {
        "id": "DkKz5gTvE86Y",
        "colab_type": "code",
        "colab": {}
      },
      "source": [
        "# Flatten before feeding to the dnn \n",
        "cnn_flatten = keras.layers.Flatten()(cnn_max_pooling2d)\n",
        "\n",
        "# Hope this works\n",
        "cnn_dense_1 = keras.layers.Dense(units=60, activation='relu')(cnn_flatten)"
      ],
      "execution_count": 0,
      "outputs": []
    },
    {
      "cell_type": "markdown",
      "metadata": {
        "id": "zf_0mB--Fdyz",
        "colab_type": "text"
      },
      "source": [
        "## Merging WNN/CNN Outputs\n",
        "\n",
        "The paper states, in the very last paragraph of page 5, that the outputs of the wide and convolutional networks are **added** as a weighted sum. \n",
        "\n",
        "*Finally, the Wide component and the Deep CNN component\n",
        "are **combined using a weighted sum** of their output as hidden\n",
        "features\"*\n",
        "\n",
        "I'm assuming this means I should use an `add` layer instead of the usual `concatenate`.\n",
        "\n",
        "### Is `add` the right merging function?\n",
        "If I use `add`, it will require the dimension of the WNN's hidden layer OP to be the same as that of the last layer of the CNN's densely connected classifier. \n",
        "\n",
        "This is a problem: Zheng seems to have used 50 units in the WNN hidden layer and 60 units in the CNN's densely connected classifier. So when I try and `add` these tensors together, I get the following error\n",
        "```python\n",
        "ValueError: Operands could not be broadcast together with shapes (60,) (50,)\n",
        "```\n",
        "\n",
        "For now, I'm changing the WNN's OP to 60 units. This will help in two ways\n",
        "- it will resolve the dimensionality error.\n",
        "- the WNN seems to suffer from low learning capacity (its trying to learn cross-feature interactions if 1034-dimensional vectors with only 50 units!). Increasing units will result in a (modest) increase in its learning capacity."
      ]
    },
    {
      "cell_type": "code",
      "metadata": {
        "id": "ZWRZitB3GOp9",
        "colab_type": "code",
        "colab": {}
      },
      "source": [
        "merged_outputs = keras.layers.add(inputs=[cnn_dense_1, wnn_dense_1])"
      ],
      "execution_count": 0,
      "outputs": []
    },
    {
      "cell_type": "markdown",
      "metadata": {
        "id": "FcionraAGhZz",
        "colab_type": "text"
      },
      "source": [
        "## Outputs\n"
      ]
    },
    {
      "cell_type": "markdown",
      "metadata": {
        "id": "C4E5f6wMLeZX",
        "colab_type": "text"
      },
      "source": [
        "### WDNN Output\n",
        "\n",
        "The WDNN's output is the result of passing a weighted sum of outputs from the WNN and CNN's last dense layers to a single sigmoid activation unit."
      ]
    },
    {
      "cell_type": "code",
      "metadata": {
        "id": "0N5QQA76Jgda",
        "colab_type": "code",
        "colab": {}
      },
      "source": [
        "wdnn_output = keras.layers.Dense(units=1, activation='sigmoid', name='main_output')(merged_outputs)"
      ],
      "execution_count": 0,
      "outputs": []
    },
    {
      "cell_type": "markdown",
      "metadata": {
        "id": "-zES1z6hJxDi",
        "colab_type": "text"
      },
      "source": [
        "## Building Models"
      ]
    },
    {
      "cell_type": "markdown",
      "metadata": {
        "id": "-JFZUxyfJ1Hf",
        "colab_type": "text"
      },
      "source": [
        "### WDNN"
      ]
    },
    {
      "cell_type": "code",
      "metadata": {
        "id": "iIt5Lpt_KfoA",
        "colab_type": "code",
        "colab": {}
      },
      "source": [
        "wdnn_model = keras.models.Model(inputs={'wnn_input': wnn_input, 'cnn_input': cnn_input}, \n",
        "                                outputs={'wdnn_output': wdnn_output})"
      ],
      "execution_count": 0,
      "outputs": []
    },
    {
      "cell_type": "markdown",
      "metadata": {
        "id": "VIHGZA9KMjk_",
        "colab_type": "text"
      },
      "source": [
        "### Visualizing WDNN\n",
        "\n",
        "What does the model look like?"
      ]
    },
    {
      "cell_type": "code",
      "metadata": {
        "id": "jaLEBlzrMm4i",
        "colab_type": "code",
        "outputId": "2e4eec2b-c80a-4ede-9b14-c6e68fc8bae1",
        "colab": {
          "base_uri": "https://localhost:8080/",
          "height": 1000
        }
      },
      "source": [
        "keras.utils.plot_model(wdnn_model, to_file='wdnn_network.png', show_shapes=True, \n",
        "                       show_layer_names=True)"
      ],
      "execution_count": 120,
      "outputs": [
        {
          "output_type": "execute_result",
          "data": {
            "image/png": "[encoded data removed]",
            "text/plain": [
              "<IPython.core.display.Image object>"
            ]
          },
          "metadata": {
            "tags": []
          },
          "execution_count": 120
        }
      ]
    },
    {
      "cell_type": "markdown",
      "metadata": {
        "id": "qk8jjG2gMsBJ",
        "colab_type": "text"
      },
      "source": [
        "### Model Summary"
      ]
    },
    {
      "cell_type": "code",
      "metadata": {
        "id": "lJ9LXil-N9rb",
        "colab_type": "code",
        "outputId": "b7ba7dea-4995-4b4a-c37d-67f53f99e1ce",
        "colab": {
          "base_uri": "https://localhost:8080/",
          "height": 612
        }
      },
      "source": [
        "wdnn_model.summary()"
      ],
      "execution_count": 121,
      "outputs": [
        {
          "output_type": "stream",
          "text": [
            "Model: \"model_4\"\n",
            "__________________________________________________________________________________________________\n",
            "Layer (type)                    Output Shape         Param #     Connected to                     \n",
            "==================================================================================================\n",
            "cnn_input (InputLayer)          [(None, 148, 7, 1)]  0                                            \n",
            "__________________________________________________________________________________________________\n",
            "conv2d_20 (Conv2D)              (None, 148, 7, 18)   180         cnn_input[0][0]                  \n",
            "__________________________________________________________________________________________________\n",
            "conv2d_21 (Conv2D)              (None, 148, 7, 18)   2934        conv2d_20[0][0]                  \n",
            "__________________________________________________________________________________________________\n",
            "conv2d_22 (Conv2D)              (None, 148, 7, 18)   2934        conv2d_21[0][0]                  \n",
            "__________________________________________________________________________________________________\n",
            "conv2d_23 (Conv2D)              (None, 148, 7, 18)   2934        conv2d_22[0][0]                  \n",
            "__________________________________________________________________________________________________\n",
            "conv2d_24 (Conv2D)              (None, 148, 7, 18)   2934        conv2d_23[0][0]                  \n",
            "__________________________________________________________________________________________________\n",
            "max_pooling2d_4 (MaxPooling2D)  (None, 49, 2, 18)    0           conv2d_24[0][0]                  \n",
            "__________________________________________________________________________________________________\n",
            "flatten_4 (Flatten)             (None, 1764)         0           max_pooling2d_4[0][0]            \n",
            "__________________________________________________________________________________________________\n",
            "wnn_input (InputLayer)          [(None, 1034)]       0                                            \n",
            "__________________________________________________________________________________________________\n",
            "dense_9 (Dense)                 (None, 60)           105900      flatten_4[0][0]                  \n",
            "__________________________________________________________________________________________________\n",
            "dense_8 (Dense)                 (None, 60)           62100       wnn_input[0][0]                  \n",
            "__________________________________________________________________________________________________\n",
            "add_4 (Add)                     (None, 60)           0           dense_9[0][0]                    \n",
            "                                                                 dense_8[0][0]                    \n",
            "__________________________________________________________________________________________________\n",
            "main_output (Dense)             (None, 1)            61          add_4[0][0]                      \n",
            "==================================================================================================\n",
            "Total params: 179,977\n",
            "Trainable params: 179,977\n",
            "Non-trainable params: 0\n",
            "__________________________________________________________________________________________________\n"
          ],
          "name": "stdout"
        }
      ]
    },
    {
      "cell_type": "markdown",
      "metadata": {
        "id": "7ranSk_7SAvc",
        "colab_type": "text"
      },
      "source": [
        "# Compiling Models\n",
        "\n",
        "Using `adam` optimizer to minimize `binary_crossentropy` loss while measuring `AUC` for the WNN model.\n",
        "\n",
        "Can extend this lsit with other models: for instance, a clone of the wnn_model that will be trained on a different kind of input data. "
      ]
    },
    {
      "cell_type": "code",
      "metadata": {
        "id": "Vfcd0WsySCFX",
        "colab_type": "code",
        "colab": {}
      },
      "source": [
        "for model in [wdnn_model]:\n",
        "  model.compile(loss='binary_crossentropy', metrics=keras.metrics.AUC(), \n",
        "                optimizer='adam')"
      ],
      "execution_count": 0,
      "outputs": []
    },
    {
      "cell_type": "markdown",
      "metadata": {
        "id": "PdGg-5jcWkxH",
        "colab_type": "text"
      },
      "source": [
        "# Training Models\n",
        "\n",
        "Will train two versions of the WDNN model, each trained on a different type of scaled data\n",
        "1. Standard Scaled\n",
        "2. MinMax Scaled"
      ]
    },
    {
      "cell_type": "markdown",
      "metadata": {
        "id": "QjcRPs8YWm5T",
        "colab_type": "text"
      },
      "source": [
        "# WDNN - Standard Scaler Data"
      ]
    },
    {
      "cell_type": "markdown",
      "metadata": {
        "id": "dWLG2K_lWwle",
        "colab_type": "text"
      },
      "source": [
        "## Training\n",
        "\n",
        "I tried passing a named dictionary of models that would map actual numpy arrays to the layer names, but this gave me a lot of errors. \n",
        "\n",
        "By trial-and-error, I found that passing the 2D features and then the 1D features is correct, and avoids any dimensionality mismatches.\n",
        "\n",
        "**TODO: Why wasn't the dictionary syntax working?**"
      ]
    },
    {
      "cell_type": "code",
      "metadata": {
        "id": "1D2_AJMrWnxH",
        "colab_type": "code",
        "outputId": "b9c2d528-02b1-47d5-92b2-44158005a406",
        "colab": {
          "base_uri": "https://localhost:8080/",
          "height": 411
        }
      },
      "source": [
        "wdnn_history = wdnn_model.fit(x=[X_train_std_2D, X_train_std], y=y_train_std, \n",
        "                              epochs=10, batch_size=128, verbose=1)"
      ],
      "execution_count": 111,
      "outputs": [
        {
          "output_type": "stream",
          "text": [
            "Epoch 1/10\n",
            "265/265 [==============================] - 7s 28ms/step - loss: 0.2929 - auc_3: 0.6597\n",
            "Epoch 2/10\n",
            "121/265 [============>.................] - ETA: 3s - loss: 0.2496 - auc_3: 0.7676"
          ],
          "name": "stdout"
        },
        {
          "output_type": "error",
          "ename": "KeyboardInterrupt",
          "evalue": "ignored",
          "traceback": [
            "\u001b[0;31m---------------------------------------------------------------------------\u001b[0m",
            "\u001b[0;31mKeyboardInterrupt\u001b[0m                         Traceback (most recent call last)",
            "\u001b[0;32m<ipython-input-111-7328bb179b6e>\u001b[0m in \u001b[0;36m<module>\u001b[0;34m()\u001b[0m\n\u001b[1;32m      1\u001b[0m wdnn_history = wdnn_model.fit(x=[X_train_std_2D, X_train_std], y=y_train_std, \n\u001b[0;32m----> 2\u001b[0;31m                               epochs=10, batch_size=128, verbose=1)\n\u001b[0m",
            "\u001b[0;32m/usr/local/lib/python3.6/dist-packages/tensorflow/python/keras/engine/training.py\u001b[0m in \u001b[0;36m_method_wrapper\u001b[0;34m(self, *args, **kwargs)\u001b[0m\n\u001b[1;32m     64\u001b[0m   \u001b[0;32mdef\u001b[0m \u001b[0m_method_wrapper\u001b[0m\u001b[0;34m(\u001b[0m\u001b[0mself\u001b[0m\u001b[0;34m,\u001b[0m \u001b[0;34m*\u001b[0m\u001b[0margs\u001b[0m\u001b[0;34m,\u001b[0m \u001b[0;34m**\u001b[0m\u001b[0mkwargs\u001b[0m\u001b[0;34m)\u001b[0m\u001b[0;34m:\u001b[0m\u001b[0;34m\u001b[0m\u001b[0;34m\u001b[0m\u001b[0m\n\u001b[1;32m     65\u001b[0m     \u001b[0;32mif\u001b[0m \u001b[0;32mnot\u001b[0m \u001b[0mself\u001b[0m\u001b[0;34m.\u001b[0m\u001b[0m_in_multi_worker_mode\u001b[0m\u001b[0;34m(\u001b[0m\u001b[0;34m)\u001b[0m\u001b[0;34m:\u001b[0m  \u001b[0;31m# pylint: disable=protected-access\u001b[0m\u001b[0;34m\u001b[0m\u001b[0;34m\u001b[0m\u001b[0m\n\u001b[0;32m---> 66\u001b[0;31m       \u001b[0;32mreturn\u001b[0m \u001b[0mmethod\u001b[0m\u001b[0;34m(\u001b[0m\u001b[0mself\u001b[0m\u001b[0;34m,\u001b[0m \u001b[0;34m*\u001b[0m\u001b[0margs\u001b[0m\u001b[0;34m,\u001b[0m \u001b[0;34m**\u001b[0m\u001b[0mkwargs\u001b[0m\u001b[0;34m)\u001b[0m\u001b[0;34m\u001b[0m\u001b[0;34m\u001b[0m\u001b[0m\n\u001b[0m\u001b[1;32m     67\u001b[0m \u001b[0;34m\u001b[0m\u001b[0m\n\u001b[1;32m     68\u001b[0m     \u001b[0;31m# Running inside `run_distribute_coordinator` already.\u001b[0m\u001b[0;34m\u001b[0m\u001b[0;34m\u001b[0m\u001b[0;34m\u001b[0m\u001b[0m\n",
            "\u001b[0;32m/usr/local/lib/python3.6/dist-packages/tensorflow/python/keras/engine/training.py\u001b[0m in \u001b[0;36mfit\u001b[0;34m(self, x, y, batch_size, epochs, verbose, callbacks, validation_split, validation_data, shuffle, class_weight, sample_weight, initial_epoch, steps_per_epoch, validation_steps, validation_batch_size, validation_freq, max_queue_size, workers, use_multiprocessing, **kwargs)\u001b[0m\n\u001b[1;32m    849\u001b[0m                 batch_size=batch_size):\n\u001b[1;32m    850\u001b[0m               \u001b[0mcallbacks\u001b[0m\u001b[0;34m.\u001b[0m\u001b[0mon_train_batch_begin\u001b[0m\u001b[0;34m(\u001b[0m\u001b[0mstep\u001b[0m\u001b[0;34m)\u001b[0m\u001b[0;34m\u001b[0m\u001b[0;34m\u001b[0m\u001b[0m\n\u001b[0;32m--> 851\u001b[0;31m               \u001b[0mtmp_logs\u001b[0m \u001b[0;34m=\u001b[0m \u001b[0mtrain_function\u001b[0m\u001b[0;34m(\u001b[0m\u001b[0miterator\u001b[0m\u001b[0;34m)\u001b[0m\u001b[0;34m\u001b[0m\u001b[0;34m\u001b[0m\u001b[0m\n\u001b[0m\u001b[1;32m    852\u001b[0m               \u001b[0;31m# Catch OutOfRangeError for Datasets of unknown size.\u001b[0m\u001b[0;34m\u001b[0m\u001b[0;34m\u001b[0m\u001b[0;34m\u001b[0m\u001b[0m\n\u001b[1;32m    853\u001b[0m               \u001b[0;31m# This blocks until the batch has finished executing.\u001b[0m\u001b[0;34m\u001b[0m\u001b[0;34m\u001b[0m\u001b[0;34m\u001b[0m\u001b[0m\n",
            "\u001b[0;32m/usr/local/lib/python3.6/dist-packages/tensorflow/python/eager/def_function.py\u001b[0m in \u001b[0;36m__call__\u001b[0;34m(self, *args, **kwds)\u001b[0m\n\u001b[1;32m    578\u001b[0m         \u001b[0mxla_context\u001b[0m\u001b[0;34m.\u001b[0m\u001b[0mExit\u001b[0m\u001b[0;34m(\u001b[0m\u001b[0;34m)\u001b[0m\u001b[0;34m\u001b[0m\u001b[0;34m\u001b[0m\u001b[0m\n\u001b[1;32m    579\u001b[0m     \u001b[0;32melse\u001b[0m\u001b[0;34m:\u001b[0m\u001b[0;34m\u001b[0m\u001b[0;34m\u001b[0m\u001b[0m\n\u001b[0;32m--> 580\u001b[0;31m       \u001b[0mresult\u001b[0m \u001b[0;34m=\u001b[0m \u001b[0mself\u001b[0m\u001b[0;34m.\u001b[0m\u001b[0m_call\u001b[0m\u001b[0;34m(\u001b[0m\u001b[0;34m*\u001b[0m\u001b[0margs\u001b[0m\u001b[0;34m,\u001b[0m \u001b[0;34m**\u001b[0m\u001b[0mkwds\u001b[0m\u001b[0;34m)\u001b[0m\u001b[0;34m\u001b[0m\u001b[0;34m\u001b[0m\u001b[0m\n\u001b[0m\u001b[1;32m    581\u001b[0m \u001b[0;34m\u001b[0m\u001b[0m\n\u001b[1;32m    582\u001b[0m     \u001b[0;32mif\u001b[0m \u001b[0mtracing_count\u001b[0m \u001b[0;34m==\u001b[0m \u001b[0mself\u001b[0m\u001b[0;34m.\u001b[0m\u001b[0m_get_tracing_count\u001b[0m\u001b[0;34m(\u001b[0m\u001b[0;34m)\u001b[0m\u001b[0;34m:\u001b[0m\u001b[0;34m\u001b[0m\u001b[0;34m\u001b[0m\u001b[0m\n",
            "\u001b[0;32m/usr/local/lib/python3.6/dist-packages/tensorflow/python/eager/def_function.py\u001b[0m in \u001b[0;36m_call\u001b[0;34m(self, *args, **kwds)\u001b[0m\n\u001b[1;32m    609\u001b[0m       \u001b[0;31m# In this case we have created variables on the first call, so we run the\u001b[0m\u001b[0;34m\u001b[0m\u001b[0;34m\u001b[0m\u001b[0;34m\u001b[0m\u001b[0m\n\u001b[1;32m    610\u001b[0m       \u001b[0;31m# defunned version which is guaranteed to never create variables.\u001b[0m\u001b[0;34m\u001b[0m\u001b[0;34m\u001b[0m\u001b[0;34m\u001b[0m\u001b[0m\n\u001b[0;32m--> 611\u001b[0;31m       \u001b[0;32mreturn\u001b[0m \u001b[0mself\u001b[0m\u001b[0;34m.\u001b[0m\u001b[0m_stateless_fn\u001b[0m\u001b[0;34m(\u001b[0m\u001b[0;34m*\u001b[0m\u001b[0margs\u001b[0m\u001b[0;34m,\u001b[0m \u001b[0;34m**\u001b[0m\u001b[0mkwds\u001b[0m\u001b[0;34m)\u001b[0m  \u001b[0;31m# pylint: disable=not-callable\u001b[0m\u001b[0;34m\u001b[0m\u001b[0;34m\u001b[0m\u001b[0m\n\u001b[0m\u001b[1;32m    612\u001b[0m     \u001b[0;32melif\u001b[0m \u001b[0mself\u001b[0m\u001b[0;34m.\u001b[0m\u001b[0m_stateful_fn\u001b[0m \u001b[0;32mis\u001b[0m \u001b[0;32mnot\u001b[0m \u001b[0;32mNone\u001b[0m\u001b[0;34m:\u001b[0m\u001b[0;34m\u001b[0m\u001b[0;34m\u001b[0m\u001b[0m\n\u001b[1;32m    613\u001b[0m       \u001b[0;31m# Release the lock early so that multiple threads can perform the call\u001b[0m\u001b[0;34m\u001b[0m\u001b[0;34m\u001b[0m\u001b[0;34m\u001b[0m\u001b[0m\n",
            "\u001b[0;32m/usr/local/lib/python3.6/dist-packages/tensorflow/python/eager/function.py\u001b[0m in \u001b[0;36m__call__\u001b[0;34m(self, *args, **kwargs)\u001b[0m\n\u001b[1;32m   2418\u001b[0m     \u001b[0;32mwith\u001b[0m \u001b[0mself\u001b[0m\u001b[0;34m.\u001b[0m\u001b[0m_lock\u001b[0m\u001b[0;34m:\u001b[0m\u001b[0;34m\u001b[0m\u001b[0;34m\u001b[0m\u001b[0m\n\u001b[1;32m   2419\u001b[0m       \u001b[0mgraph_function\u001b[0m\u001b[0;34m,\u001b[0m \u001b[0margs\u001b[0m\u001b[0;34m,\u001b[0m \u001b[0mkwargs\u001b[0m \u001b[0;34m=\u001b[0m \u001b[0mself\u001b[0m\u001b[0;34m.\u001b[0m\u001b[0m_maybe_define_function\u001b[0m\u001b[0;34m(\u001b[0m\u001b[0margs\u001b[0m\u001b[0;34m,\u001b[0m \u001b[0mkwargs\u001b[0m\u001b[0;34m)\u001b[0m\u001b[0;34m\u001b[0m\u001b[0;34m\u001b[0m\u001b[0m\n\u001b[0;32m-> 2420\u001b[0;31m     \u001b[0;32mreturn\u001b[0m \u001b[0mgraph_function\u001b[0m\u001b[0;34m.\u001b[0m\u001b[0m_filtered_call\u001b[0m\u001b[0;34m(\u001b[0m\u001b[0margs\u001b[0m\u001b[0;34m,\u001b[0m \u001b[0mkwargs\u001b[0m\u001b[0;34m)\u001b[0m  \u001b[0;31m# pylint: disable=protected-access\u001b[0m\u001b[0;34m\u001b[0m\u001b[0;34m\u001b[0m\u001b[0m\n\u001b[0m\u001b[1;32m   2421\u001b[0m \u001b[0;34m\u001b[0m\u001b[0m\n\u001b[1;32m   2422\u001b[0m   \u001b[0;34m@\u001b[0m\u001b[0mproperty\u001b[0m\u001b[0;34m\u001b[0m\u001b[0;34m\u001b[0m\u001b[0m\n",
            "\u001b[0;32m/usr/local/lib/python3.6/dist-packages/tensorflow/python/eager/function.py\u001b[0m in \u001b[0;36m_filtered_call\u001b[0;34m(self, args, kwargs)\u001b[0m\n\u001b[1;32m   1663\u001b[0m          if isinstance(t, (ops.Tensor,\n\u001b[1;32m   1664\u001b[0m                            resource_variable_ops.BaseResourceVariable))),\n\u001b[0;32m-> 1665\u001b[0;31m         self.captured_inputs)\n\u001b[0m\u001b[1;32m   1666\u001b[0m \u001b[0;34m\u001b[0m\u001b[0m\n\u001b[1;32m   1667\u001b[0m   \u001b[0;32mdef\u001b[0m \u001b[0m_call_flat\u001b[0m\u001b[0;34m(\u001b[0m\u001b[0mself\u001b[0m\u001b[0;34m,\u001b[0m \u001b[0margs\u001b[0m\u001b[0;34m,\u001b[0m \u001b[0mcaptured_inputs\u001b[0m\u001b[0;34m,\u001b[0m \u001b[0mcancellation_manager\u001b[0m\u001b[0;34m=\u001b[0m\u001b[0;32mNone\u001b[0m\u001b[0;34m)\u001b[0m\u001b[0;34m:\u001b[0m\u001b[0;34m\u001b[0m\u001b[0;34m\u001b[0m\u001b[0m\n",
            "\u001b[0;32m/usr/local/lib/python3.6/dist-packages/tensorflow/python/eager/function.py\u001b[0m in \u001b[0;36m_call_flat\u001b[0;34m(self, args, captured_inputs, cancellation_manager)\u001b[0m\n\u001b[1;32m   1744\u001b[0m       \u001b[0;31m# No tape is watching; skip to running the function.\u001b[0m\u001b[0;34m\u001b[0m\u001b[0;34m\u001b[0m\u001b[0;34m\u001b[0m\u001b[0m\n\u001b[1;32m   1745\u001b[0m       return self._build_call_outputs(self._inference_function.call(\n\u001b[0;32m-> 1746\u001b[0;31m           ctx, args, cancellation_manager=cancellation_manager))\n\u001b[0m\u001b[1;32m   1747\u001b[0m     forward_backward = self._select_forward_and_backward_functions(\n\u001b[1;32m   1748\u001b[0m         \u001b[0margs\u001b[0m\u001b[0;34m,\u001b[0m\u001b[0;34m\u001b[0m\u001b[0;34m\u001b[0m\u001b[0m\n",
            "\u001b[0;32m/usr/local/lib/python3.6/dist-packages/tensorflow/python/eager/function.py\u001b[0m in \u001b[0;36mcall\u001b[0;34m(self, ctx, args, cancellation_manager)\u001b[0m\n\u001b[1;32m    596\u001b[0m               \u001b[0minputs\u001b[0m\u001b[0;34m=\u001b[0m\u001b[0margs\u001b[0m\u001b[0;34m,\u001b[0m\u001b[0;34m\u001b[0m\u001b[0;34m\u001b[0m\u001b[0m\n\u001b[1;32m    597\u001b[0m               \u001b[0mattrs\u001b[0m\u001b[0;34m=\u001b[0m\u001b[0mattrs\u001b[0m\u001b[0;34m,\u001b[0m\u001b[0;34m\u001b[0m\u001b[0;34m\u001b[0m\u001b[0m\n\u001b[0;32m--> 598\u001b[0;31m               ctx=ctx)\n\u001b[0m\u001b[1;32m    599\u001b[0m         \u001b[0;32melse\u001b[0m\u001b[0;34m:\u001b[0m\u001b[0;34m\u001b[0m\u001b[0;34m\u001b[0m\u001b[0m\n\u001b[1;32m    600\u001b[0m           outputs = execute.execute_with_cancellation(\n",
            "\u001b[0;32m/usr/local/lib/python3.6/dist-packages/tensorflow/python/eager/execute.py\u001b[0m in \u001b[0;36mquick_execute\u001b[0;34m(op_name, num_outputs, inputs, attrs, ctx, name)\u001b[0m\n\u001b[1;32m     58\u001b[0m     \u001b[0mctx\u001b[0m\u001b[0;34m.\u001b[0m\u001b[0mensure_initialized\u001b[0m\u001b[0;34m(\u001b[0m\u001b[0;34m)\u001b[0m\u001b[0;34m\u001b[0m\u001b[0;34m\u001b[0m\u001b[0m\n\u001b[1;32m     59\u001b[0m     tensors = pywrap_tfe.TFE_Py_Execute(ctx._handle, device_name, op_name,\n\u001b[0;32m---> 60\u001b[0;31m                                         inputs, attrs, num_outputs)\n\u001b[0m\u001b[1;32m     61\u001b[0m   \u001b[0;32mexcept\u001b[0m \u001b[0mcore\u001b[0m\u001b[0;34m.\u001b[0m\u001b[0m_NotOkStatusException\u001b[0m \u001b[0;32mas\u001b[0m \u001b[0me\u001b[0m\u001b[0;34m:\u001b[0m\u001b[0;34m\u001b[0m\u001b[0;34m\u001b[0m\u001b[0m\n\u001b[1;32m     62\u001b[0m     \u001b[0;32mif\u001b[0m \u001b[0mname\u001b[0m \u001b[0;32mis\u001b[0m \u001b[0;32mnot\u001b[0m \u001b[0;32mNone\u001b[0m\u001b[0;34m:\u001b[0m\u001b[0;34m\u001b[0m\u001b[0;34m\u001b[0m\u001b[0m\n",
            "\u001b[0;31mKeyboardInterrupt\u001b[0m: "
          ]
        }
      ]
    },
    {
      "cell_type": "markdown",
      "metadata": {
        "id": "sAvuMdhy5mrQ",
        "colab_type": "text"
      },
      "source": [
        "## Saving Weights"
      ]
    },
    {
      "cell_type": "code",
      "metadata": {
        "id": "daf7RKvf5w2x",
        "colab_type": "code",
        "colab": {}
      },
      "source": [
        "wdnn_model.save('wdnn_standard_zheng.h5')"
      ],
      "execution_count": 0,
      "outputs": []
    },
    {
      "cell_type": "markdown",
      "metadata": {
        "id": "P0x0G9YY6aIJ",
        "colab_type": "text"
      },
      "source": [
        "## Plotting Training History\n",
        "\n",
        "Can't use the `plot_training_history` function for now because I don't have validation data. So I'm just plotting the loss and AUC on the same graph to observe trends. "
      ]
    },
    {
      "cell_type": "code",
      "metadata": {
        "id": "Ppe9T1Kg6c6H",
        "colab_type": "code",
        "colab": {}
      },
      "source": [
        "pd.DataFrame(wdnn_history.history).plot(figsize=(12, 6 ))"
      ],
      "execution_count": 0,
      "outputs": []
    },
    {
      "cell_type": "markdown",
      "metadata": {
        "id": "5bmCnf-66gLV",
        "colab_type": "text"
      },
      "source": [
        "## Evaluation \n",
        "\n",
        "Since this is a version of Zheng's model, I'm assuming he has tuned his hyperparameters properly, and will go straight to testing.\n",
        "\n",
        "First, evaluating using the `keras` `evaluate` method. This shows the loss and AUC for the test data.\n",
        "\n",
        "Next, I will use `get_classification_results` to obtain a more detailed view of the model's performance. "
      ]
    },
    {
      "cell_type": "code",
      "metadata": {
        "id": "iC-m_fSp6pPt",
        "colab_type": "code",
        "colab": {}
      },
      "source": [
        "wdnn_model.evaluate([X_test_std_2D, X_test_std], y_test_std)"
      ],
      "execution_count": 0,
      "outputs": []
    },
    {
      "cell_type": "code",
      "metadata": {
        "id": "lhHCL1fP9yB8",
        "colab_type": "code",
        "colab": {}
      },
      "source": [
        "get_classification_result(model=wdnn_model, X_test=[X_test_std_2D, X_test_std], \n",
        "                          y_true=y_test_std, model_name='WDNN - Zheng - Standard')"
      ],
      "execution_count": 0,
      "outputs": []
    },
    {
      "cell_type": "markdown",
      "metadata": {
        "id": "TcfaLYnYTT8z",
        "colab_type": "text"
      },
      "source": [
        "## Interpretation\n",
        "\n",
        "- The model is clearly overfitting, despite being trained for very few epochs. I think this may be because\n",
        "  - There is little to no regularization in this model.\n",
        "  - The CNN never decreases the input size, so we're clearly suffering from the curse of dimensionality: higher dimensions -> more likely to overfit. \n",
        "  - False positive rate is high.\n",
        "  - AUC is lower than that of a standalone CNN, suggest\n",
        "\n",
        "\n",
        "- I observed the training AUC appraoch ~0.99 by 20+ epochs, which is why I reduced the epochs to 10. \n",
        "- There is a slight discrepancy in the ROC Curve AUCs reported by `keras` and `sklearn`. Since we've used the `sklearn` results for our report, I will continue using them for consistency.\n",
        "\n"
      ]
    },
    {
      "cell_type": "markdown",
      "metadata": {
        "id": "emN6lsiRIh23",
        "colab_type": "text"
      },
      "source": [
        "# WDNN - MinMax Scaler Data"
      ]
    },
    {
      "cell_type": "markdown",
      "metadata": {
        "id": "GyKx8hryJF5W",
        "colab_type": "text"
      },
      "source": [
        "## Training"
      ]
    },
    {
      "cell_type": "code",
      "metadata": {
        "id": "Gwx0POWMIl0-",
        "colab_type": "code",
        "outputId": "3504e8f2-32a8-4633-8e29-7f77648751be",
        "colab": {
          "base_uri": "https://localhost:8080/",
          "height": 357
        }
      },
      "source": [
        "wdnn_history = wdnn_model.fit(x=[X_train_minmax_2D, X_train_minmax], y=y_train_minmax, \n",
        "                              epochs=10, batch_size=128, verbose=1)"
      ],
      "execution_count": 123,
      "outputs": [
        {
          "output_type": "stream",
          "text": [
            "Epoch 1/10\n",
            "265/265 [==============================] - 7s 28ms/step - loss: 0.2899 - auc_4: 0.6368\n",
            "Epoch 2/10\n",
            "265/265 [==============================] - 7s 27ms/step - loss: 0.2665 - auc_4: 0.7096\n",
            "Epoch 3/10\n",
            "265/265 [==============================] - 7s 27ms/step - loss: 0.2523 - auc_4: 0.7570\n",
            "Epoch 4/10\n",
            "265/265 [==============================] - 7s 27ms/step - loss: 0.2426 - auc_4: 0.7857\n",
            "Epoch 5/10\n",
            "265/265 [==============================] - 7s 27ms/step - loss: 0.2387 - auc_4: 0.7966\n",
            "Epoch 6/10\n",
            "265/265 [==============================] - 7s 27ms/step - loss: 0.2284 - auc_4: 0.8190\n",
            "Epoch 7/10\n",
            "265/265 [==============================] - 7s 27ms/step - loss: 0.2231 - auc_4: 0.8304\n",
            "Epoch 8/10\n",
            "265/265 [==============================] - 7s 27ms/step - loss: 0.2131 - auc_4: 0.8505\n",
            "Epoch 9/10\n",
            "265/265 [==============================] - 7s 27ms/step - loss: 0.2068 - auc_4: 0.8606\n",
            "Epoch 10/10\n",
            "265/265 [==============================] - 7s 27ms/step - loss: 0.1979 - auc_4: 0.8747\n"
          ],
          "name": "stdout"
        }
      ]
    },
    {
      "cell_type": "markdown",
      "metadata": {
        "id": "TMXKWZQyI1QL",
        "colab_type": "text"
      },
      "source": [
        "## Saving Weights"
      ]
    },
    {
      "cell_type": "code",
      "metadata": {
        "id": "DZS3Ysh1JKJ7",
        "colab_type": "code",
        "colab": {}
      },
      "source": [
        "wdnn_model.save('wdnn_minmax_zheng.h5')"
      ],
      "execution_count": 0,
      "outputs": []
    },
    {
      "cell_type": "markdown",
      "metadata": {
        "id": "ZUcTn66pJcJs",
        "colab_type": "text"
      },
      "source": [
        "## Plotting Training History"
      ]
    },
    {
      "cell_type": "code",
      "metadata": {
        "id": "pRD_EMiMJd8L",
        "colab_type": "code",
        "outputId": "db630eb7-af1d-464d-cfd9-0ba96f1791f3",
        "colab": {
          "base_uri": "https://localhost:8080/",
          "height": 391
        }
      },
      "source": [
        "pd.DataFrame(wdnn_history.history).plot(figsize=(12, 6))"
      ],
      "execution_count": 129,
      "outputs": [
        {
          "output_type": "execute_result",
          "data": {
            "text/plain": [
              "<matplotlib.axes._subplots.AxesSubplot at 0x7f6eaf492898>"
            ]
          },
          "metadata": {
            "tags": []
          },
          "execution_count": 129
        },
        {
          "output_type": "display_data",
          "data": {
            "image/png": "[encoded data removed]",
            "text/plain": [
              "<Figure size 864x432 with 1 Axes>"
            ]
          },
          "metadata": {
            "tags": []
          }
        }
      ]
    },
    {
      "cell_type": "markdown",
      "metadata": {
        "id": "157TfJNlJgbj",
        "colab_type": "text"
      },
      "source": [
        "## Evaluation"
      ]
    },
    {
      "cell_type": "code",
      "metadata": {
        "id": "J6wsD2jmJm2c",
        "colab_type": "code",
        "outputId": "d3707ea3-9b11-437b-a2f2-27e029067e8e",
        "colab": {
          "base_uri": "https://localhost:8080/",
          "height": 51
        }
      },
      "source": [
        "wdnn_model.evaluate([X_test_minmax_2D, X_test_minmax], y_test_minmax)"
      ],
      "execution_count": 130,
      "outputs": [
        {
          "output_type": "stream",
          "text": [
            "265/265 [==============================] - 2s 6ms/step - loss: 0.2385 - auc_4: 0.7962\n"
          ],
          "name": "stdout"
        },
        {
          "output_type": "execute_result",
          "data": {
            "text/plain": [
              "[0.23853348195552826, 0.796199381351471]"
            ]
          },
          "metadata": {
            "tags": []
          },
          "execution_count": 130
        }
      ]
    },
    {
      "cell_type": "code",
      "metadata": {
        "id": "LThICDGGJuJX",
        "colab_type": "code",
        "outputId": "82cfe2d6-350f-4a2b-9613-b4caf23fc1c7",
        "colab": {
          "base_uri": "https://localhost:8080/",
          "height": 1000
        }
      },
      "source": [
        "get_classification_result(model=wdnn_model, X_test=[X_test_minmax_2D, X_test_minmax], \n",
        "                          y_true=y_test_minmax, model_name='WDNN - Zheng - MinMax')"
      ],
      "execution_count": 131,
      "outputs": [
        {
          "output_type": "stream",
          "text": [
            "CLASSIFICATION REPORT\n",
            "                  precision    recall  f1-score   support\n",
            "\n",
            "Regular Consumer       0.93      0.99      0.96      7752\n",
            "           Thief       0.65      0.22      0.33       723\n",
            "\n",
            "        accuracy                           0.92      8475\n",
            "       macro avg       0.79      0.61      0.65      8475\n",
            "    weighted avg       0.91      0.92      0.91      8475\n",
            "\n"
          ],
          "name": "stdout"
        },
        {
          "output_type": "display_data",
          "data": {
            "image/png": "[encoded data removed]",
            "text/plain": [
              "<Figure size 576x576 with 2 Axes>"
            ]
          },
          "metadata": {
            "tags": []
          }
        },
        {
          "output_type": "display_data",
          "data": {
            "image/png": "[encoded data removed]",
            "text/plain": [
              "<Figure size 576x576 with 1 Axes>"
            ]
          },
          "metadata": {
            "tags": []
          }
        }
      ]
    },
    {
      "cell_type": "markdown",
      "metadata": {
        "id": "EynLGP8bVHq_",
        "colab_type": "text"
      },
      "source": [
        "## Interpretation \n",
        "\n",
        "- `sklearn` AUC is lower than that of the Standard Scaler model.\n",
        "- But `keras`'s AUC (determined by call to `evaluate`) is higher than of the Standard Scaler model. \n",
        "- How to address this discrepancy?\n",
        "- Assuming the `sklearn` metrics to be correct, the `MinMax` model underperforms compared to the CNN and WDNN."
      ]
    }
  ]
}