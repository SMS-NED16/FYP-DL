{
  "nbformat": 4,
  "nbformat_minor": 0,
  "metadata": {
    "colab": {
      "name": "FYP_Sequence_Models.ipynb",
      "provenance": [],
      "collapsed_sections": []
    },
    "kernelspec": {
      "name": "python3",
      "display_name": "Python 3"
    },
    "accelerator": "GPU"
  },
  "cells": [
    {
      "cell_type": "markdown",
      "metadata": {
        "id": "X3DbttVMeU6M",
        "colab_type": "text"
      },
      "source": [
        "# FYP-DL: RNN Experimentation"
      ]
    },
    {
      "cell_type": "markdown",
      "metadata": {
        "id": "tJsnJaSDfJiB",
        "colab_type": "text"
      },
      "source": [
        "# Imports"
      ]
    },
    {
      "cell_type": "code",
      "metadata": {
        "id": "xVOM3ipVeX3J",
        "colab_type": "code",
        "colab": {}
      },
      "source": [
        "import numpy as np \n",
        "import pandas as pd \n",
        "import os \n",
        "np.random.seed(42)\n",
        "\n",
        "import matplotlib.pyplot as plt\n",
        "from matplotlib import style\n",
        "style.use('ggplot')\n",
        "\n",
        "from google.colab import drive\n",
        "\n",
        "from sklearn.model_selection import train_test_split\n",
        "\n",
        "from tensorflow.keras.layers import Embedding, SimpleRNN, LSTM, GRU, Conv1D, MaxPooling1D, Dense\n",
        "from tensorflow.keras.models import Sequential\n",
        "from tensorflow.keras.utils import plot_model\n",
        "from tensorflow.keras.metrics import AUC"
      ],
      "execution_count": 0,
      "outputs": []
    },
    {
      "cell_type": "markdown",
      "metadata": {
        "id": "zNdCeDzxfGV3",
        "colab_type": "text"
      },
      "source": [
        "# Loading Data"
      ]
    },
    {
      "cell_type": "code",
      "metadata": {
        "id": "bX8pa0u5fPsT",
        "colab_type": "code",
        "colab": {}
      },
      "source": [
        "ROOT_DIR = './'\n",
        "MOUNT_DIR = os.path.join(ROOT_DIR, 'gdrive')\n",
        "FYP_DIR = os.path.join(MOUNT_DIR, 'My Drive', 'EE 16-17 FYP DL Energy Theft Detection')\n",
        "DATA_DIR = os.path.join(FYP_DIR, 'Data', 'full-processing-data')\n",
        "DATA_FILE = os.path.join(DATA_DIR, 'outliersRemoved.csv')"
      ],
      "execution_count": 0,
      "outputs": []
    },
    {
      "cell_type": "code",
      "metadata": {
        "id": "aPZmfWi5fM4V",
        "colab_type": "code",
        "outputId": "a0caa6bf-2c7f-474d-db95-7ad8bcd5fc4f",
        "colab": {
          "base_uri": "https://localhost:8080/",
          "height": 34
        }
      },
      "source": [
        "drive.mount(MOUNT_DIR, force_remount=True)"
      ],
      "execution_count": 0,
      "outputs": [
        {
          "output_type": "stream",
          "text": [
            "Mounted at ./gdrive\n"
          ],
          "name": "stdout"
        }
      ]
    },
    {
      "cell_type": "code",
      "metadata": {
        "id": "L17r1tR1gGx7",
        "colab_type": "code",
        "colab": {}
      },
      "source": [
        "data = pd.read_csv(DATA_FILE)"
      ],
      "execution_count": 0,
      "outputs": []
    },
    {
      "cell_type": "code",
      "metadata": {
        "id": "fWsxIbFogK_u",
        "colab_type": "code",
        "outputId": "ab568dfe-aff9-418f-932b-c398921abf51",
        "colab": {
          "base_uri": "https://localhost:8080/",
          "height": 270
        }
      },
      "source": [
        "data.head()"
      ],
      "execution_count": 0,
      "outputs": [
        {
          "output_type": "execute_result",
          "data": {
            "text/html": [
              "<div>\n",
              "<style scoped>\n",
              "    .dataframe tbody tr th:only-of-type {\n",
              "        vertical-align: middle;\n",
              "    }\n",
              "\n",
              "    .dataframe tbody tr th {\n",
              "        vertical-align: top;\n",
              "    }\n",
              "\n",
              "    .dataframe thead th {\n",
              "        text-align: right;\n",
              "    }\n",
              "</style>\n",
              "<table border=\"1\" class=\"dataframe\">\n",
              "  <thead>\n",
              "    <tr style=\"text-align: right;\">\n",
              "      <th></th>\n",
              "      <th>CONS_NO</th>\n",
              "      <th>FLAG</th>\n",
              "      <th>2014-01-01</th>\n",
              "      <th>2014-01-02</th>\n",
              "      <th>2014-01-03</th>\n",
              "      <th>2014-01-04</th>\n",
              "      <th>2014-01-05</th>\n",
              "      <th>2014-01-06</th>\n",
              "      <th>2014-01-07</th>\n",
              "      <th>2014-01-08</th>\n",
              "      <th>2014-01-09</th>\n",
              "      <th>2014-01-10</th>\n",
              "      <th>2014-01-11</th>\n",
              "      <th>2014-01-12</th>\n",
              "      <th>2014-01-13</th>\n",
              "      <th>2014-01-14</th>\n",
              "      <th>2014-01-15</th>\n",
              "      <th>2014-01-16</th>\n",
              "      <th>2014-01-17</th>\n",
              "      <th>2014-01-18</th>\n",
              "      <th>2014-01-19</th>\n",
              "      <th>2014-01-20</th>\n",
              "      <th>2014-01-21</th>\n",
              "      <th>2014-01-22</th>\n",
              "      <th>2014-01-23</th>\n",
              "      <th>2014-01-24</th>\n",
              "      <th>2014-01-25</th>\n",
              "      <th>2014-01-26</th>\n",
              "      <th>2014-01-27</th>\n",
              "      <th>2014-01-28</th>\n",
              "      <th>2014-01-29</th>\n",
              "      <th>2014-01-30</th>\n",
              "      <th>2014-01-31</th>\n",
              "      <th>2014-02-01</th>\n",
              "      <th>2014-02-02</th>\n",
              "      <th>2014-02-03</th>\n",
              "      <th>2014-02-04</th>\n",
              "      <th>2014-02-05</th>\n",
              "      <th>2014-02-06</th>\n",
              "      <th>2014-02-07</th>\n",
              "      <th>...</th>\n",
              "      <th>2016-09-22</th>\n",
              "      <th>2016-09-23</th>\n",
              "      <th>2016-09-24</th>\n",
              "      <th>2016-09-25</th>\n",
              "      <th>2016-09-26</th>\n",
              "      <th>2016-09-27</th>\n",
              "      <th>2016-09-28</th>\n",
              "      <th>2016-09-29</th>\n",
              "      <th>2016-09-30</th>\n",
              "      <th>2016-10-01</th>\n",
              "      <th>2016-10-02</th>\n",
              "      <th>2016-10-03</th>\n",
              "      <th>2016-10-04</th>\n",
              "      <th>2016-10-05</th>\n",
              "      <th>2016-10-06</th>\n",
              "      <th>2016-10-07</th>\n",
              "      <th>2016-10-08</th>\n",
              "      <th>2016-10-09</th>\n",
              "      <th>2016-10-10</th>\n",
              "      <th>2016-10-11</th>\n",
              "      <th>2016-10-12</th>\n",
              "      <th>2016-10-13</th>\n",
              "      <th>2016-10-14</th>\n",
              "      <th>2016-10-15</th>\n",
              "      <th>2016-10-16</th>\n",
              "      <th>2016-10-17</th>\n",
              "      <th>2016-10-18</th>\n",
              "      <th>2016-10-19</th>\n",
              "      <th>2016-10-20</th>\n",
              "      <th>2016-10-21</th>\n",
              "      <th>2016-10-22</th>\n",
              "      <th>2016-10-23</th>\n",
              "      <th>2016-10-24</th>\n",
              "      <th>2016-10-25</th>\n",
              "      <th>2016-10-26</th>\n",
              "      <th>2016-10-27</th>\n",
              "      <th>2016-10-28</th>\n",
              "      <th>2016-10-29</th>\n",
              "      <th>2016-10-30</th>\n",
              "      <th>2016-10-31</th>\n",
              "    </tr>\n",
              "  </thead>\n",
              "  <tbody>\n",
              "    <tr>\n",
              "      <th>0</th>\n",
              "      <td>0387DD8A07E07FDA6271170F86AD9151</td>\n",
              "      <td>1</td>\n",
              "      <td>0.0</td>\n",
              "      <td>0.00</td>\n",
              "      <td>0.00</td>\n",
              "      <td>0.00</td>\n",
              "      <td>0.00</td>\n",
              "      <td>0.00</td>\n",
              "      <td>0.00</td>\n",
              "      <td>0.00</td>\n",
              "      <td>0.00</td>\n",
              "      <td>0.00</td>\n",
              "      <td>0.00</td>\n",
              "      <td>0.00</td>\n",
              "      <td>0.00</td>\n",
              "      <td>0.00</td>\n",
              "      <td>0.00</td>\n",
              "      <td>0.00</td>\n",
              "      <td>0.00</td>\n",
              "      <td>0.00</td>\n",
              "      <td>0.00</td>\n",
              "      <td>0.00</td>\n",
              "      <td>0.00</td>\n",
              "      <td>0.00</td>\n",
              "      <td>0.00</td>\n",
              "      <td>0.00</td>\n",
              "      <td>0.00</td>\n",
              "      <td>0.00</td>\n",
              "      <td>0.00</td>\n",
              "      <td>0.00</td>\n",
              "      <td>0.00</td>\n",
              "      <td>0.00</td>\n",
              "      <td>0.00</td>\n",
              "      <td>0.00</td>\n",
              "      <td>0.00</td>\n",
              "      <td>0.0</td>\n",
              "      <td>0.00</td>\n",
              "      <td>0.00</td>\n",
              "      <td>0.0</td>\n",
              "      <td>0.00</td>\n",
              "      <td>...</td>\n",
              "      <td>8.56</td>\n",
              "      <td>10.48</td>\n",
              "      <td>8.20</td>\n",
              "      <td>12.53</td>\n",
              "      <td>7.90</td>\n",
              "      <td>8.58</td>\n",
              "      <td>10.12</td>\n",
              "      <td>9.96</td>\n",
              "      <td>7.60</td>\n",
              "      <td>18.19</td>\n",
              "      <td>10.93</td>\n",
              "      <td>11.41</td>\n",
              "      <td>19.92</td>\n",
              "      <td>10.70</td>\n",
              "      <td>9.20</td>\n",
              "      <td>6.77</td>\n",
              "      <td>6.760000</td>\n",
              "      <td>6.150000</td>\n",
              "      <td>6.500000</td>\n",
              "      <td>8.080000</td>\n",
              "      <td>7.97</td>\n",
              "      <td>8.810000</td>\n",
              "      <td>7.370000</td>\n",
              "      <td>11.720000</td>\n",
              "      <td>11.020000</td>\n",
              "      <td>8.180000</td>\n",
              "      <td>7.330000</td>\n",
              "      <td>6.710000</td>\n",
              "      <td>8.520000</td>\n",
              "      <td>6.310000</td>\n",
              "      <td>7.18</td>\n",
              "      <td>8.070000</td>\n",
              "      <td>8.090000</td>\n",
              "      <td>9.530000</td>\n",
              "      <td>5.480000</td>\n",
              "      <td>8.750000</td>\n",
              "      <td>9.300000</td>\n",
              "      <td>7.540000</td>\n",
              "      <td>9.160000</td>\n",
              "      <td>6.740000</td>\n",
              "    </tr>\n",
              "    <tr>\n",
              "      <th>1</th>\n",
              "      <td>01D6177B5D4FFE0CABA9EF17DAFC2B84</td>\n",
              "      <td>1</td>\n",
              "      <td>0.0</td>\n",
              "      <td>0.00</td>\n",
              "      <td>0.00</td>\n",
              "      <td>0.00</td>\n",
              "      <td>0.00</td>\n",
              "      <td>0.00</td>\n",
              "      <td>0.00</td>\n",
              "      <td>0.00</td>\n",
              "      <td>0.00</td>\n",
              "      <td>0.00</td>\n",
              "      <td>0.00</td>\n",
              "      <td>0.00</td>\n",
              "      <td>0.00</td>\n",
              "      <td>0.00</td>\n",
              "      <td>0.00</td>\n",
              "      <td>0.00</td>\n",
              "      <td>0.00</td>\n",
              "      <td>0.00</td>\n",
              "      <td>0.00</td>\n",
              "      <td>0.00</td>\n",
              "      <td>0.00</td>\n",
              "      <td>0.00</td>\n",
              "      <td>0.00</td>\n",
              "      <td>0.00</td>\n",
              "      <td>0.00</td>\n",
              "      <td>0.00</td>\n",
              "      <td>0.00</td>\n",
              "      <td>0.00</td>\n",
              "      <td>0.00</td>\n",
              "      <td>0.00</td>\n",
              "      <td>0.00</td>\n",
              "      <td>0.00</td>\n",
              "      <td>0.00</td>\n",
              "      <td>0.0</td>\n",
              "      <td>0.00</td>\n",
              "      <td>0.00</td>\n",
              "      <td>0.0</td>\n",
              "      <td>0.00</td>\n",
              "      <td>...</td>\n",
              "      <td>0.00</td>\n",
              "      <td>0.00</td>\n",
              "      <td>0.00</td>\n",
              "      <td>0.00</td>\n",
              "      <td>0.00</td>\n",
              "      <td>0.00</td>\n",
              "      <td>0.00</td>\n",
              "      <td>0.00</td>\n",
              "      <td>0.00</td>\n",
              "      <td>0.00</td>\n",
              "      <td>0.00</td>\n",
              "      <td>0.00</td>\n",
              "      <td>0.00</td>\n",
              "      <td>0.00</td>\n",
              "      <td>0.00</td>\n",
              "      <td>0.00</td>\n",
              "      <td>0.000000</td>\n",
              "      <td>0.000000</td>\n",
              "      <td>0.000000</td>\n",
              "      <td>0.000000</td>\n",
              "      <td>0.00</td>\n",
              "      <td>0.000000</td>\n",
              "      <td>0.000000</td>\n",
              "      <td>0.000000</td>\n",
              "      <td>0.000000</td>\n",
              "      <td>0.000000</td>\n",
              "      <td>0.000000</td>\n",
              "      <td>0.000000</td>\n",
              "      <td>0.000000</td>\n",
              "      <td>0.000000</td>\n",
              "      <td>0.00</td>\n",
              "      <td>0.000000</td>\n",
              "      <td>0.000000</td>\n",
              "      <td>0.000000</td>\n",
              "      <td>0.000000</td>\n",
              "      <td>0.000000</td>\n",
              "      <td>0.000000</td>\n",
              "      <td>0.000000</td>\n",
              "      <td>0.000000</td>\n",
              "      <td>0.000000</td>\n",
              "    </tr>\n",
              "    <tr>\n",
              "      <th>2</th>\n",
              "      <td>4B75AC4F2D8434CFF62DB64D0BB43103</td>\n",
              "      <td>1</td>\n",
              "      <td>0.0</td>\n",
              "      <td>0.00</td>\n",
              "      <td>0.00</td>\n",
              "      <td>0.00</td>\n",
              "      <td>0.00</td>\n",
              "      <td>0.00</td>\n",
              "      <td>0.00</td>\n",
              "      <td>0.00</td>\n",
              "      <td>0.00</td>\n",
              "      <td>0.00</td>\n",
              "      <td>0.00</td>\n",
              "      <td>0.00</td>\n",
              "      <td>0.00</td>\n",
              "      <td>0.00</td>\n",
              "      <td>0.00</td>\n",
              "      <td>0.00</td>\n",
              "      <td>0.00</td>\n",
              "      <td>0.00</td>\n",
              "      <td>0.00</td>\n",
              "      <td>0.00</td>\n",
              "      <td>0.00</td>\n",
              "      <td>0.00</td>\n",
              "      <td>0.00</td>\n",
              "      <td>0.00</td>\n",
              "      <td>0.00</td>\n",
              "      <td>0.00</td>\n",
              "      <td>0.00</td>\n",
              "      <td>0.00</td>\n",
              "      <td>0.00</td>\n",
              "      <td>0.00</td>\n",
              "      <td>0.00</td>\n",
              "      <td>0.00</td>\n",
              "      <td>0.00</td>\n",
              "      <td>0.0</td>\n",
              "      <td>0.00</td>\n",
              "      <td>0.00</td>\n",
              "      <td>0.0</td>\n",
              "      <td>0.00</td>\n",
              "      <td>...</td>\n",
              "      <td>0.00</td>\n",
              "      <td>0.00</td>\n",
              "      <td>0.00</td>\n",
              "      <td>0.00</td>\n",
              "      <td>0.00</td>\n",
              "      <td>0.00</td>\n",
              "      <td>0.00</td>\n",
              "      <td>0.00</td>\n",
              "      <td>0.00</td>\n",
              "      <td>0.00</td>\n",
              "      <td>0.00</td>\n",
              "      <td>0.00</td>\n",
              "      <td>0.00</td>\n",
              "      <td>0.00</td>\n",
              "      <td>0.00</td>\n",
              "      <td>8.34</td>\n",
              "      <td>13.483126</td>\n",
              "      <td>13.483126</td>\n",
              "      <td>13.483126</td>\n",
              "      <td>13.483126</td>\n",
              "      <td>12.73</td>\n",
              "      <td>13.483126</td>\n",
              "      <td>13.483126</td>\n",
              "      <td>13.483126</td>\n",
              "      <td>13.483126</td>\n",
              "      <td>13.483126</td>\n",
              "      <td>13.483126</td>\n",
              "      <td>13.483126</td>\n",
              "      <td>13.483126</td>\n",
              "      <td>13.483126</td>\n",
              "      <td>10.95</td>\n",
              "      <td>13.483126</td>\n",
              "      <td>13.483126</td>\n",
              "      <td>13.483126</td>\n",
              "      <td>13.483126</td>\n",
              "      <td>13.483126</td>\n",
              "      <td>13.483126</td>\n",
              "      <td>13.483126</td>\n",
              "      <td>13.483126</td>\n",
              "      <td>13.483126</td>\n",
              "    </tr>\n",
              "    <tr>\n",
              "      <th>3</th>\n",
              "      <td>B32AC8CC6D5D805AC053557AB05F5343</td>\n",
              "      <td>1</td>\n",
              "      <td>0.0</td>\n",
              "      <td>0.00</td>\n",
              "      <td>0.00</td>\n",
              "      <td>0.00</td>\n",
              "      <td>0.00</td>\n",
              "      <td>0.00</td>\n",
              "      <td>0.00</td>\n",
              "      <td>0.00</td>\n",
              "      <td>0.00</td>\n",
              "      <td>0.00</td>\n",
              "      <td>0.00</td>\n",
              "      <td>0.00</td>\n",
              "      <td>0.00</td>\n",
              "      <td>0.00</td>\n",
              "      <td>0.00</td>\n",
              "      <td>0.00</td>\n",
              "      <td>0.00</td>\n",
              "      <td>0.00</td>\n",
              "      <td>0.00</td>\n",
              "      <td>0.00</td>\n",
              "      <td>0.00</td>\n",
              "      <td>0.00</td>\n",
              "      <td>0.00</td>\n",
              "      <td>0.00</td>\n",
              "      <td>0.00</td>\n",
              "      <td>0.00</td>\n",
              "      <td>0.00</td>\n",
              "      <td>0.00</td>\n",
              "      <td>0.00</td>\n",
              "      <td>0.00</td>\n",
              "      <td>0.00</td>\n",
              "      <td>0.00</td>\n",
              "      <td>0.00</td>\n",
              "      <td>0.0</td>\n",
              "      <td>0.00</td>\n",
              "      <td>0.00</td>\n",
              "      <td>0.0</td>\n",
              "      <td>0.00</td>\n",
              "      <td>...</td>\n",
              "      <td>17.30</td>\n",
              "      <td>16.95</td>\n",
              "      <td>8.25</td>\n",
              "      <td>22.76</td>\n",
              "      <td>14.07</td>\n",
              "      <td>20.70</td>\n",
              "      <td>6.50</td>\n",
              "      <td>9.99</td>\n",
              "      <td>18.59</td>\n",
              "      <td>16.79</td>\n",
              "      <td>26.82</td>\n",
              "      <td>14.70</td>\n",
              "      <td>16.05</td>\n",
              "      <td>24.10</td>\n",
              "      <td>12.64</td>\n",
              "      <td>10.85</td>\n",
              "      <td>11.770000</td>\n",
              "      <td>13.030000</td>\n",
              "      <td>12.260000</td>\n",
              "      <td>15.660000</td>\n",
              "      <td>13.43</td>\n",
              "      <td>15.030000</td>\n",
              "      <td>14.610000</td>\n",
              "      <td>13.970000</td>\n",
              "      <td>15.070000</td>\n",
              "      <td>14.110000</td>\n",
              "      <td>14.770000</td>\n",
              "      <td>11.720000</td>\n",
              "      <td>11.730000</td>\n",
              "      <td>11.980000</td>\n",
              "      <td>12.81</td>\n",
              "      <td>15.120000</td>\n",
              "      <td>17.260000</td>\n",
              "      <td>14.910000</td>\n",
              "      <td>19.590000</td>\n",
              "      <td>20.790000</td>\n",
              "      <td>17.950000</td>\n",
              "      <td>19.260000</td>\n",
              "      <td>14.460000</td>\n",
              "      <td>11.720000</td>\n",
              "    </tr>\n",
              "    <tr>\n",
              "      <th>4</th>\n",
              "      <td>EDFC78B07BA2908B3395C4EB2304665E</td>\n",
              "      <td>1</td>\n",
              "      <td>2.9</td>\n",
              "      <td>5.64</td>\n",
              "      <td>6.99</td>\n",
              "      <td>3.32</td>\n",
              "      <td>3.61</td>\n",
              "      <td>5.35</td>\n",
              "      <td>4.73</td>\n",
              "      <td>3.68</td>\n",
              "      <td>3.53</td>\n",
              "      <td>3.42</td>\n",
              "      <td>3.81</td>\n",
              "      <td>4.58</td>\n",
              "      <td>3.56</td>\n",
              "      <td>4.25</td>\n",
              "      <td>3.86</td>\n",
              "      <td>3.53</td>\n",
              "      <td>3.41</td>\n",
              "      <td>0.85</td>\n",
              "      <td>0.88</td>\n",
              "      <td>3.81</td>\n",
              "      <td>6.51</td>\n",
              "      <td>9.19</td>\n",
              "      <td>7.79</td>\n",
              "      <td>7.02</td>\n",
              "      <td>7.25</td>\n",
              "      <td>6.37</td>\n",
              "      <td>6.43</td>\n",
              "      <td>7.89</td>\n",
              "      <td>7.46</td>\n",
              "      <td>7.95</td>\n",
              "      <td>7.59</td>\n",
              "      <td>4.84</td>\n",
              "      <td>6.06</td>\n",
              "      <td>5.6</td>\n",
              "      <td>6.72</td>\n",
              "      <td>7.29</td>\n",
              "      <td>5.6</td>\n",
              "      <td>6.28</td>\n",
              "      <td>...</td>\n",
              "      <td>9.56</td>\n",
              "      <td>9.48</td>\n",
              "      <td>10.60</td>\n",
              "      <td>10.06</td>\n",
              "      <td>10.79</td>\n",
              "      <td>10.91</td>\n",
              "      <td>17.77</td>\n",
              "      <td>10.37</td>\n",
              "      <td>13.51</td>\n",
              "      <td>14.13</td>\n",
              "      <td>17.44</td>\n",
              "      <td>15.96</td>\n",
              "      <td>12.18</td>\n",
              "      <td>18.54</td>\n",
              "      <td>13.44</td>\n",
              "      <td>11.68</td>\n",
              "      <td>9.150000</td>\n",
              "      <td>9.160000</td>\n",
              "      <td>10.190000</td>\n",
              "      <td>10.310000</td>\n",
              "      <td>8.03</td>\n",
              "      <td>10.080000</td>\n",
              "      <td>10.340000</td>\n",
              "      <td>11.240000</td>\n",
              "      <td>15.140000</td>\n",
              "      <td>14.360000</td>\n",
              "      <td>12.390000</td>\n",
              "      <td>10.360000</td>\n",
              "      <td>9.290000</td>\n",
              "      <td>7.910000</td>\n",
              "      <td>14.21</td>\n",
              "      <td>10.220000</td>\n",
              "      <td>8.470000</td>\n",
              "      <td>6.110000</td>\n",
              "      <td>6.100000</td>\n",
              "      <td>6.730000</td>\n",
              "      <td>7.520000</td>\n",
              "      <td>10.890000</td>\n",
              "      <td>9.860000</td>\n",
              "      <td>8.720000</td>\n",
              "    </tr>\n",
              "  </tbody>\n",
              "</table>\n",
              "<p>5 rows × 1036 columns</p>\n",
              "</div>"
            ],
            "text/plain": [
              "                            CONS_NO  FLAG  ...  2016-10-30  2016-10-31\n",
              "0  0387DD8A07E07FDA6271170F86AD9151     1  ...    9.160000    6.740000\n",
              "1  01D6177B5D4FFE0CABA9EF17DAFC2B84     1  ...    0.000000    0.000000\n",
              "2  4B75AC4F2D8434CFF62DB64D0BB43103     1  ...   13.483126   13.483126\n",
              "3  B32AC8CC6D5D805AC053557AB05F5343     1  ...   14.460000   11.720000\n",
              "4  EDFC78B07BA2908B3395C4EB2304665E     1  ...    9.860000    8.720000\n",
              "\n",
              "[5 rows x 1036 columns]"
            ]
          },
          "metadata": {
            "tags": []
          },
          "execution_count": 5
        }
      ]
    },
    {
      "cell_type": "code",
      "metadata": {
        "id": "f9vFrmxFgNpQ",
        "colab_type": "code",
        "colab": {}
      },
      "source": [
        "features, targets = data.iloc[:, 2:], data['FLAG']"
      ],
      "execution_count": 0,
      "outputs": []
    },
    {
      "cell_type": "markdown",
      "metadata": {
        "id": "EsLZipavgVtV",
        "colab_type": "text"
      },
      "source": [
        "# Train Test Split"
      ]
    },
    {
      "cell_type": "code",
      "metadata": {
        "id": "ZO5PGLLYgZCE",
        "colab_type": "code",
        "colab": {}
      },
      "source": [
        "# Remove any existing modules\n",
        "!rm ./*.py\n",
        "\n",
        "# Download from GH\n",
        "!wget -q https://raw.githubusercontent.com/SMS-NED16/FYP-DL/master/fyp-assignments/08_WDNN_Model/02_WDNN_py_files/pipelines.py\n",
        "!wget -q https://raw.githubusercontent.com/SMS-NED16/FYP-DL/master/fyp-assignments/08_WDNN_Model/02_WDNN_py_files/wdnn_transformers.py"
      ],
      "execution_count": 0,
      "outputs": []
    },
    {
      "cell_type": "code",
      "metadata": {
        "id": "MvjdJwIWgwwW",
        "colab_type": "code",
        "colab": {}
      },
      "source": [
        "from pipelines import get_feature_scaler, get_pipeline_1D"
      ],
      "execution_count": 0,
      "outputs": []
    },
    {
      "cell_type": "code",
      "metadata": {
        "id": "-YS7EvqXg4No",
        "colab_type": "code",
        "colab": {}
      },
      "source": [
        "pipeline_1D = get_pipeline_1D(scaling_strategy='Standard')"
      ],
      "execution_count": 0,
      "outputs": []
    },
    {
      "cell_type": "code",
      "metadata": {
        "id": "-CWdCSjOiTu-",
        "colab_type": "code",
        "colab": {}
      },
      "source": [
        "X_train_val, X_test, y_train_val, y_test = train_test_split(\n",
        "    features, targets, random_state=0, test_size=0.2, stratify=targets.values\n",
        ")"
      ],
      "execution_count": 0,
      "outputs": []
    },
    {
      "cell_type": "code",
      "metadata": {
        "id": "NlPD5Zncip01",
        "colab_type": "code",
        "colab": {}
      },
      "source": [
        "X_train, X_val, y_train, y_val = train_test_split(\n",
        "    X_train_val, y_train_val, random_state=0, test_size=0.2, stratify=y_train_val.values\n",
        ")"
      ],
      "execution_count": 0,
      "outputs": []
    },
    {
      "cell_type": "markdown",
      "metadata": {
        "id": "OkoRixd9i4hF",
        "colab_type": "text"
      },
      "source": [
        "# Feature Scaling"
      ]
    },
    {
      "cell_type": "code",
      "metadata": {
        "id": "uIiz7cpWi5yk",
        "colab_type": "code",
        "colab": {}
      },
      "source": [
        "X_train = pipeline_1D.fit_transform(X_train)\n",
        "X_val = pipeline_1D.fit_transform(X_val)\n",
        "X_test = pipeline_1D.fit_transform(X_test)"
      ],
      "execution_count": 0,
      "outputs": []
    },
    {
      "cell_type": "markdown",
      "metadata": {
        "id": "cYLWA7B1jOzV",
        "colab_type": "text"
      },
      "source": [
        "# Building RNN"
      ]
    },
    {
      "cell_type": "code",
      "metadata": {
        "id": "xr6hCryfj0Wm",
        "colab_type": "code",
        "colab": {}
      },
      "source": [
        "NUM_X_TRAIN, NUM_X_VAL, NUM_X_TEST, *_ = [len(my_data) for my_data in [X_train, X_val, X_test]]"
      ],
      "execution_count": 0,
      "outputs": []
    },
    {
      "cell_type": "code",
      "metadata": {
        "id": "1dtp0cdxkSSx",
        "colab_type": "code",
        "colab": {}
      },
      "source": [
        "NUM_FEATURES = X_train.shape[-1]"
      ],
      "execution_count": 0,
      "outputs": []
    },
    {
      "cell_type": "code",
      "metadata": {
        "id": "B6VZfGHkpW7x",
        "colab_type": "code",
        "colab": {}
      },
      "source": [
        "X_train = X_train.reshape((NUM_X_TRAIN, NUM_FEATURES, 1))\n",
        "X_test = X_test.reshape((NUM_X_TEST, NUM_FEATURES, 1))\n",
        "X_val = X_val.reshape((NUM_X_VAL, NUM_FEATURES, 1))"
      ],
      "execution_count": 0,
      "outputs": []
    },
    {
      "cell_type": "code",
      "metadata": {
        "id": "A-QYlbmzjR-o",
        "colab_type": "code",
        "colab": {}
      },
      "source": [
        "rnn_model = Sequential()\n",
        "rnn_model.add(Conv1D(12, 5, activation='relu', input_shape=(None, X_train.shape[-1])))\n",
        "rnn_model.add(MaxPooling1D(5))\n",
        "rnn_model.add(Conv1D(24, 5, activation='relu'))\n",
        "rnn_model.add(MaxPooling1D(5))\n",
        "rnn_model.add(LSTM(32, dropout=0.1, recurrent_dropout=0.5))\n",
        "rnn_model.add(Dense(1, activation='sigmoid'))"
      ],
      "execution_count": 0,
      "outputs": []
    },
    {
      "cell_type": "code",
      "metadata": {
        "id": "PsZwpD7qlRKA",
        "colab_type": "code",
        "outputId": "98026462-c079-4c9f-b801-a18063396b50",
        "colab": {
          "base_uri": "https://localhost:8080/",
          "height": 754
        }
      },
      "source": [
        "plot_model(rnn_model, show_shapes=True, show_layer_names=True)"
      ],
      "execution_count": 0,
      "outputs": [
        {
          "output_type": "execute_result",
          "data": {
            "image/png": "[encoded data removed]",
            "text/plain": [
              "<IPython.core.display.Image object>"
            ]
          },
          "metadata": {
            "tags": []
          },
          "execution_count": 29
        }
      ]
    },
    {
      "cell_type": "code",
      "metadata": {
        "id": "p9dGglw4lwLP",
        "colab_type": "code",
        "outputId": "3fad3f45-784c-4c8a-f79d-52c705f3ada3",
        "colab": {
          "base_uri": "https://localhost:8080/",
          "height": 357
        }
      },
      "source": [
        "rnn_model.summary()"
      ],
      "execution_count": 0,
      "outputs": [
        {
          "output_type": "stream",
          "text": [
            "Model: \"sequential_3\"\n",
            "_________________________________________________________________\n",
            "Layer (type)                 Output Shape              Param #   \n",
            "=================================================================\n",
            "conv1d_6 (Conv1D)            (None, None, 12)          72        \n",
            "_________________________________________________________________\n",
            "max_pooling1d_3 (MaxPooling1 (None, None, 12)          0         \n",
            "_________________________________________________________________\n",
            "conv1d_7 (Conv1D)            (None, None, 24)          1464      \n",
            "_________________________________________________________________\n",
            "max_pooling1d_4 (MaxPooling1 (None, None, 24)          0         \n",
            "_________________________________________________________________\n",
            "simple_rnn_3 (SimpleRNN)     (None, 32)                1824      \n",
            "_________________________________________________________________\n",
            "dense_3 (Dense)              (None, 1)                 33        \n",
            "=================================================================\n",
            "Total params: 3,393\n",
            "Trainable params: 3,393\n",
            "Non-trainable params: 0\n",
            "_________________________________________________________________\n"
          ],
          "name": "stdout"
        }
      ]
    },
    {
      "cell_type": "code",
      "metadata": {
        "id": "QZrr8_Sol_4Y",
        "colab_type": "code",
        "colab": {}
      },
      "source": [
        "rnn_model.compile(loss='binary_crossentropy', metrics=[AUC()], optimizer='rmsprop')"
      ],
      "execution_count": 0,
      "outputs": []
    },
    {
      "cell_type": "code",
      "metadata": {
        "id": "kkRgqrmKl2XW",
        "colab_type": "code",
        "outputId": "f497628d-7d9b-4bcf-8672-a15a6d48f678",
        "colab": {
          "base_uri": "https://localhost:8080/",
          "height": 357
        }
      },
      "source": [
        "rnn_history = rnn_model.fit(X_train, y_train, batch_size=32, epochs=10, verbose=1, \n",
        "                            validation_data=(X_val, y_val))"
      ],
      "execution_count": 0,
      "outputs": [
        {
          "output_type": "stream",
          "text": [
            "Epoch 1/10\n",
            "848/848 [==============================] - 62s 73ms/step - loss: 0.2930 - auc_3: 0.5811 - val_loss: 0.2848 - val_auc_3: 0.6266\n",
            "Epoch 2/10\n",
            "848/848 [==============================] - 61s 72ms/step - loss: 0.2846 - auc_3: 0.6221 - val_loss: 0.2785 - val_auc_3: 0.6616\n",
            "Epoch 3/10\n",
            "848/848 [==============================] - 61s 72ms/step - loss: 0.2821 - auc_3: 0.6329 - val_loss: 0.2773 - val_auc_3: 0.6710\n",
            "Epoch 4/10\n",
            "848/848 [==============================] - 61s 72ms/step - loss: 0.2805 - auc_3: 0.6408 - val_loss: 0.2754 - val_auc_3: 0.6795\n",
            "Epoch 5/10\n",
            "848/848 [==============================] - 61s 72ms/step - loss: 0.2788 - auc_3: 0.6490 - val_loss: 0.2739 - val_auc_3: 0.6823\n",
            "Epoch 6/10\n",
            "848/848 [==============================] - 61s 72ms/step - loss: 0.2773 - auc_3: 0.6584 - val_loss: 0.2736 - val_auc_3: 0.6871\n",
            "Epoch 7/10\n",
            "848/848 [==============================] - 61s 72ms/step - loss: 0.2774 - auc_3: 0.6592 - val_loss: 0.2743 - val_auc_3: 0.6772\n",
            "Epoch 8/10\n",
            "848/848 [==============================] - 61s 72ms/step - loss: 0.2765 - auc_3: 0.6626 - val_loss: 0.2743 - val_auc_3: 0.6839\n",
            "Epoch 9/10\n",
            "848/848 [==============================] - 61s 72ms/step - loss: 0.2765 - auc_3: 0.6626 - val_loss: 0.2742 - val_auc_3: 0.6822\n",
            "Epoch 10/10\n",
            "848/848 [==============================] - 61s 72ms/step - loss: 0.2766 - auc_3: 0.6601 - val_loss: 0.2751 - val_auc_3: 0.6775\n"
          ],
          "name": "stdout"
        }
      ]
    },
    {
      "cell_type": "code",
      "metadata": {
        "id": "S8ZruVFmsVtx",
        "colab_type": "code",
        "outputId": "5a00a9e5-b975-4b6d-d6e1-ddccd1d49ff3",
        "colab": {
          "base_uri": "https://localhost:8080/",
          "height": 391
        }
      },
      "source": [
        "pd.DataFrame(rnn_history.history).plot(figsize=(12, 6))"
      ],
      "execution_count": 0,
      "outputs": [
        {
          "output_type": "execute_result",
          "data": {
            "text/plain": [
              "<matplotlib.axes._subplots.AxesSubplot at 0x7fb68270a2e8>"
            ]
          },
          "metadata": {
            "tags": []
          },
          "execution_count": 35
        },
        {
          "output_type": "display_data",
          "data": {
            "image/png": "[encoded data removed]",
            "text/plain": [
              "<Figure size 864x432 with 1 Axes>"
            ]
          },
          "metadata": {
            "tags": [],
            "needs_background": "light"
          }
        }
      ]
    },
    {
      "cell_type": "code",
      "metadata": {
        "id": "0Xf6KGdmyLqv",
        "colab_type": "code",
        "colab": {}
      },
      "source": [
        "plt.plot"
      ],
      "execution_count": 0,
      "outputs": []
    },
    {
      "cell_type": "code",
      "metadata": {
        "id": "tgQKt1DWyLjJ",
        "colab_type": "code",
        "colab": {}
      },
      "source": [
        "stacked_rnn = Sequential()\n",
        "stacked_rnn.add(SimpleRNN(input_shape=(None, X_train.shape[-1]), \n",
        "                                       units=8, return_sequences=True))\n",
        "stacked_rnn.add(SimpleRNN(units=12, return_sequences=True))\n",
        "stacked_rnn.add(SimpleRNN(1, activation='sigmoid'))"
      ],
      "execution_count": 0,
      "outputs": []
    },
    {
      "cell_type": "code",
      "metadata": {
        "id": "WMqQnQuY1ooA",
        "colab_type": "code",
        "colab": {}
      },
      "source": [
        "stacked_rnn.summary()"
      ],
      "execution_count": 0,
      "outputs": []
    },
    {
      "cell_type": "code",
      "metadata": {
        "id": "_gstEDNO1Wd1",
        "colab_type": "code",
        "colab": {}
      },
      "source": [
        "stacked_rnn.compile(loss='binary_crossentropy', metrics=[AUC()], optimizer='adam')"
      ],
      "execution_count": 0,
      "outputs": []
    },
    {
      "cell_type": "code",
      "metadata": {
        "id": "4DBCZfcR1b4f",
        "colab_type": "code",
        "colab": {}
      },
      "source": [
        "stacked_rnn_history = stacked_rnn.fit(X_train, y_train, epochs=10,\n",
        "                                      validation_data=(X_val, y_val), batch_size=64)"
      ],
      "execution_count": 0,
      "outputs": []
    }
  ]
}