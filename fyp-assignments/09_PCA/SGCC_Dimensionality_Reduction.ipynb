{
  "nbformat": 4,
  "nbformat_minor": 0,
  "metadata": {
    "colab": {
      "name": "SGCC_Dimensionality_Reduction.ipynb",
      "provenance": [],
      "collapsed_sections": []
    },
    "kernelspec": {
      "name": "python3",
      "display_name": "Python 3"
    },
    "accelerator": "GPU"
  },
  "cells": [
    {
      "cell_type": "markdown",
      "metadata": {
        "id": "qZrV4xJ9Rmkz",
        "colab_type": "text"
      },
      "source": [
        "# Workspace Setup"
      ]
    },
    {
      "cell_type": "code",
      "metadata": {
        "id": "GAl8jGWJRo9n",
        "colab_type": "code",
        "outputId": "69927078-2b9b-43d8-8d10-b13e7b17c18d",
        "colab": {
          "base_uri": "https://localhost:8080/",
          "height": 72
        }
      },
      "source": [
        "import pandas as pd\n",
        "import numpy as np\n",
        "import matplotlib.pyplot as plt\n",
        "from matplotlib import style\n",
        "style.use('ggplot')\n",
        "\n",
        "# Seaborn Imports\n",
        "import seaborn as sn \n",
        "from seaborn import distplot\n",
        "\n",
        "# Tensorflow Imports\n",
        "import tensorflow as tf\n",
        "from tensorflow.keras.metrics import AUC\n",
        "from tensorflow.keras.models import Sequential \n",
        "from tensorflow.keras.layers import Flatten, Dense,Conv2D, Dropout, MaxPooling2D\n",
        "\n",
        "# Scikit-Learn imports\n",
        "from sklearn.preprocessing import StandardScaler, MinMaxScaler, MaxAbsScaler\n",
        "from sklearn.model_selection import train_test_split\n",
        "from sklearn.model_selection import GridSearchCV, StratifiedKFold\n",
        "from sklearn.model_selection import cross_validate\n",
        "from sklearn.decomposition import PCA\n",
        "from sklearn.manifold import LocallyLinearEmbedding"
      ],
      "execution_count": 0,
      "outputs": [
        {
          "output_type": "stream",
          "text": [
            "/usr/local/lib/python3.6/dist-packages/statsmodels/tools/_testing.py:19: FutureWarning: pandas.util.testing is deprecated. Use the functions in the public API at pandas.testing instead.\n",
            "  import pandas.util.testing as tm\n"
          ],
          "name": "stderr"
        }
      ]
    },
    {
      "cell_type": "markdown",
      "metadata": {
        "id": "5ueCmZK4RuJK",
        "colab_type": "text"
      },
      "source": [
        "# Data Importing "
      ]
    },
    {
      "cell_type": "code",
      "metadata": {
        "id": "C6He6AeNRqk8",
        "colab_type": "code",
        "colab": {}
      },
      "source": [
        "# Getting Filepath of the data\n",
        "filepath = '/content/drive/My Drive/EE 16-17 FYP DL Energy Theft Detection/Data/full-processing-data/outliersRemoved.csv'"
      ],
      "execution_count": 0,
      "outputs": []
    },
    {
      "cell_type": "code",
      "metadata": {
        "id": "QMiz8ybNR1VX",
        "colab_type": "code",
        "outputId": "fd4b8dc1-432b-48d7-80e0-dedbdf7af862",
        "colab": {
          "base_uri": "https://localhost:8080/",
          "height": 263
        }
      },
      "source": [
        "# Reading data\n",
        "raw_data = pd.read_csv(filepath)\n",
        "raw_data.head()"
      ],
      "execution_count": 0,
      "outputs": [
        {
          "output_type": "execute_result",
          "data": {
            "text/html": [
              "<div>\n",
              "<style scoped>\n",
              "    .dataframe tbody tr th:only-of-type {\n",
              "        vertical-align: middle;\n",
              "    }\n",
              "\n",
              "    .dataframe tbody tr th {\n",
              "        vertical-align: top;\n",
              "    }\n",
              "\n",
              "    .dataframe thead th {\n",
              "        text-align: right;\n",
              "    }\n",
              "</style>\n",
              "<table border=\"1\" class=\"dataframe\">\n",
              "  <thead>\n",
              "    <tr style=\"text-align: right;\">\n",
              "      <th></th>\n",
              "      <th>CONS_NO</th>\n",
              "      <th>FLAG</th>\n",
              "      <th>2014-01-01</th>\n",
              "      <th>2014-01-02</th>\n",
              "      <th>2014-01-03</th>\n",
              "      <th>2014-01-04</th>\n",
              "      <th>2014-01-05</th>\n",
              "      <th>2014-01-06</th>\n",
              "      <th>2014-01-07</th>\n",
              "      <th>2014-01-08</th>\n",
              "      <th>2014-01-09</th>\n",
              "      <th>2014-01-10</th>\n",
              "      <th>2014-01-11</th>\n",
              "      <th>2014-01-12</th>\n",
              "      <th>2014-01-13</th>\n",
              "      <th>2014-01-14</th>\n",
              "      <th>2014-01-15</th>\n",
              "      <th>2014-01-16</th>\n",
              "      <th>2014-01-17</th>\n",
              "      <th>2014-01-18</th>\n",
              "      <th>2014-01-19</th>\n",
              "      <th>2014-01-20</th>\n",
              "      <th>2014-01-21</th>\n",
              "      <th>2014-01-22</th>\n",
              "      <th>2014-01-23</th>\n",
              "      <th>2014-01-24</th>\n",
              "      <th>2014-01-25</th>\n",
              "      <th>2014-01-26</th>\n",
              "      <th>2014-01-27</th>\n",
              "      <th>2014-01-28</th>\n",
              "      <th>2014-01-29</th>\n",
              "      <th>2014-01-30</th>\n",
              "      <th>2014-01-31</th>\n",
              "      <th>2014-02-01</th>\n",
              "      <th>2014-02-02</th>\n",
              "      <th>2014-02-03</th>\n",
              "      <th>2014-02-04</th>\n",
              "      <th>2014-02-05</th>\n",
              "      <th>2014-02-06</th>\n",
              "      <th>2014-02-07</th>\n",
              "      <th>...</th>\n",
              "      <th>2016-09-22</th>\n",
              "      <th>2016-09-23</th>\n",
              "      <th>2016-09-24</th>\n",
              "      <th>2016-09-25</th>\n",
              "      <th>2016-09-26</th>\n",
              "      <th>2016-09-27</th>\n",
              "      <th>2016-09-28</th>\n",
              "      <th>2016-09-29</th>\n",
              "      <th>2016-09-30</th>\n",
              "      <th>2016-10-01</th>\n",
              "      <th>2016-10-02</th>\n",
              "      <th>2016-10-03</th>\n",
              "      <th>2016-10-04</th>\n",
              "      <th>2016-10-05</th>\n",
              "      <th>2016-10-06</th>\n",
              "      <th>2016-10-07</th>\n",
              "      <th>2016-10-08</th>\n",
              "      <th>2016-10-09</th>\n",
              "      <th>2016-10-10</th>\n",
              "      <th>2016-10-11</th>\n",
              "      <th>2016-10-12</th>\n",
              "      <th>2016-10-13</th>\n",
              "      <th>2016-10-14</th>\n",
              "      <th>2016-10-15</th>\n",
              "      <th>2016-10-16</th>\n",
              "      <th>2016-10-17</th>\n",
              "      <th>2016-10-18</th>\n",
              "      <th>2016-10-19</th>\n",
              "      <th>2016-10-20</th>\n",
              "      <th>2016-10-21</th>\n",
              "      <th>2016-10-22</th>\n",
              "      <th>2016-10-23</th>\n",
              "      <th>2016-10-24</th>\n",
              "      <th>2016-10-25</th>\n",
              "      <th>2016-10-26</th>\n",
              "      <th>2016-10-27</th>\n",
              "      <th>2016-10-28</th>\n",
              "      <th>2016-10-29</th>\n",
              "      <th>2016-10-30</th>\n",
              "      <th>2016-10-31</th>\n",
              "    </tr>\n",
              "  </thead>\n",
              "  <tbody>\n",
              "    <tr>\n",
              "      <th>0</th>\n",
              "      <td>0387DD8A07E07FDA6271170F86AD9151</td>\n",
              "      <td>1</td>\n",
              "      <td>0.0</td>\n",
              "      <td>0.00</td>\n",
              "      <td>0.00</td>\n",
              "      <td>0.00</td>\n",
              "      <td>0.00</td>\n",
              "      <td>0.00</td>\n",
              "      <td>0.00</td>\n",
              "      <td>0.00</td>\n",
              "      <td>0.00</td>\n",
              "      <td>0.00</td>\n",
              "      <td>0.00</td>\n",
              "      <td>0.00</td>\n",
              "      <td>0.00</td>\n",
              "      <td>0.00</td>\n",
              "      <td>0.00</td>\n",
              "      <td>0.00</td>\n",
              "      <td>0.00</td>\n",
              "      <td>0.00</td>\n",
              "      <td>0.00</td>\n",
              "      <td>0.00</td>\n",
              "      <td>0.00</td>\n",
              "      <td>0.00</td>\n",
              "      <td>0.00</td>\n",
              "      <td>0.00</td>\n",
              "      <td>0.00</td>\n",
              "      <td>0.00</td>\n",
              "      <td>0.00</td>\n",
              "      <td>0.00</td>\n",
              "      <td>0.00</td>\n",
              "      <td>0.00</td>\n",
              "      <td>0.00</td>\n",
              "      <td>0.00</td>\n",
              "      <td>0.00</td>\n",
              "      <td>0.0</td>\n",
              "      <td>0.00</td>\n",
              "      <td>0.00</td>\n",
              "      <td>0.0</td>\n",
              "      <td>0.00</td>\n",
              "      <td>...</td>\n",
              "      <td>8.56</td>\n",
              "      <td>10.48</td>\n",
              "      <td>8.20</td>\n",
              "      <td>12.53</td>\n",
              "      <td>7.90</td>\n",
              "      <td>8.58</td>\n",
              "      <td>10.12</td>\n",
              "      <td>9.96</td>\n",
              "      <td>7.60</td>\n",
              "      <td>18.19</td>\n",
              "      <td>10.93</td>\n",
              "      <td>11.41</td>\n",
              "      <td>19.92</td>\n",
              "      <td>10.70</td>\n",
              "      <td>9.20</td>\n",
              "      <td>6.77</td>\n",
              "      <td>6.760000</td>\n",
              "      <td>6.150000</td>\n",
              "      <td>6.500000</td>\n",
              "      <td>8.080000</td>\n",
              "      <td>7.97</td>\n",
              "      <td>8.810000</td>\n",
              "      <td>7.370000</td>\n",
              "      <td>11.720000</td>\n",
              "      <td>11.020000</td>\n",
              "      <td>8.180000</td>\n",
              "      <td>7.330000</td>\n",
              "      <td>6.710000</td>\n",
              "      <td>8.520000</td>\n",
              "      <td>6.310000</td>\n",
              "      <td>7.18</td>\n",
              "      <td>8.070000</td>\n",
              "      <td>8.090000</td>\n",
              "      <td>9.530000</td>\n",
              "      <td>5.480000</td>\n",
              "      <td>8.750000</td>\n",
              "      <td>9.300000</td>\n",
              "      <td>7.540000</td>\n",
              "      <td>9.160000</td>\n",
              "      <td>6.740000</td>\n",
              "    </tr>\n",
              "    <tr>\n",
              "      <th>1</th>\n",
              "      <td>01D6177B5D4FFE0CABA9EF17DAFC2B84</td>\n",
              "      <td>1</td>\n",
              "      <td>0.0</td>\n",
              "      <td>0.00</td>\n",
              "      <td>0.00</td>\n",
              "      <td>0.00</td>\n",
              "      <td>0.00</td>\n",
              "      <td>0.00</td>\n",
              "      <td>0.00</td>\n",
              "      <td>0.00</td>\n",
              "      <td>0.00</td>\n",
              "      <td>0.00</td>\n",
              "      <td>0.00</td>\n",
              "      <td>0.00</td>\n",
              "      <td>0.00</td>\n",
              "      <td>0.00</td>\n",
              "      <td>0.00</td>\n",
              "      <td>0.00</td>\n",
              "      <td>0.00</td>\n",
              "      <td>0.00</td>\n",
              "      <td>0.00</td>\n",
              "      <td>0.00</td>\n",
              "      <td>0.00</td>\n",
              "      <td>0.00</td>\n",
              "      <td>0.00</td>\n",
              "      <td>0.00</td>\n",
              "      <td>0.00</td>\n",
              "      <td>0.00</td>\n",
              "      <td>0.00</td>\n",
              "      <td>0.00</td>\n",
              "      <td>0.00</td>\n",
              "      <td>0.00</td>\n",
              "      <td>0.00</td>\n",
              "      <td>0.00</td>\n",
              "      <td>0.00</td>\n",
              "      <td>0.0</td>\n",
              "      <td>0.00</td>\n",
              "      <td>0.00</td>\n",
              "      <td>0.0</td>\n",
              "      <td>0.00</td>\n",
              "      <td>...</td>\n",
              "      <td>0.00</td>\n",
              "      <td>0.00</td>\n",
              "      <td>0.00</td>\n",
              "      <td>0.00</td>\n",
              "      <td>0.00</td>\n",
              "      <td>0.00</td>\n",
              "      <td>0.00</td>\n",
              "      <td>0.00</td>\n",
              "      <td>0.00</td>\n",
              "      <td>0.00</td>\n",
              "      <td>0.00</td>\n",
              "      <td>0.00</td>\n",
              "      <td>0.00</td>\n",
              "      <td>0.00</td>\n",
              "      <td>0.00</td>\n",
              "      <td>0.00</td>\n",
              "      <td>0.000000</td>\n",
              "      <td>0.000000</td>\n",
              "      <td>0.000000</td>\n",
              "      <td>0.000000</td>\n",
              "      <td>0.00</td>\n",
              "      <td>0.000000</td>\n",
              "      <td>0.000000</td>\n",
              "      <td>0.000000</td>\n",
              "      <td>0.000000</td>\n",
              "      <td>0.000000</td>\n",
              "      <td>0.000000</td>\n",
              "      <td>0.000000</td>\n",
              "      <td>0.000000</td>\n",
              "      <td>0.000000</td>\n",
              "      <td>0.00</td>\n",
              "      <td>0.000000</td>\n",
              "      <td>0.000000</td>\n",
              "      <td>0.000000</td>\n",
              "      <td>0.000000</td>\n",
              "      <td>0.000000</td>\n",
              "      <td>0.000000</td>\n",
              "      <td>0.000000</td>\n",
              "      <td>0.000000</td>\n",
              "      <td>0.000000</td>\n",
              "    </tr>\n",
              "    <tr>\n",
              "      <th>2</th>\n",
              "      <td>4B75AC4F2D8434CFF62DB64D0BB43103</td>\n",
              "      <td>1</td>\n",
              "      <td>0.0</td>\n",
              "      <td>0.00</td>\n",
              "      <td>0.00</td>\n",
              "      <td>0.00</td>\n",
              "      <td>0.00</td>\n",
              "      <td>0.00</td>\n",
              "      <td>0.00</td>\n",
              "      <td>0.00</td>\n",
              "      <td>0.00</td>\n",
              "      <td>0.00</td>\n",
              "      <td>0.00</td>\n",
              "      <td>0.00</td>\n",
              "      <td>0.00</td>\n",
              "      <td>0.00</td>\n",
              "      <td>0.00</td>\n",
              "      <td>0.00</td>\n",
              "      <td>0.00</td>\n",
              "      <td>0.00</td>\n",
              "      <td>0.00</td>\n",
              "      <td>0.00</td>\n",
              "      <td>0.00</td>\n",
              "      <td>0.00</td>\n",
              "      <td>0.00</td>\n",
              "      <td>0.00</td>\n",
              "      <td>0.00</td>\n",
              "      <td>0.00</td>\n",
              "      <td>0.00</td>\n",
              "      <td>0.00</td>\n",
              "      <td>0.00</td>\n",
              "      <td>0.00</td>\n",
              "      <td>0.00</td>\n",
              "      <td>0.00</td>\n",
              "      <td>0.00</td>\n",
              "      <td>0.0</td>\n",
              "      <td>0.00</td>\n",
              "      <td>0.00</td>\n",
              "      <td>0.0</td>\n",
              "      <td>0.00</td>\n",
              "      <td>...</td>\n",
              "      <td>0.00</td>\n",
              "      <td>0.00</td>\n",
              "      <td>0.00</td>\n",
              "      <td>0.00</td>\n",
              "      <td>0.00</td>\n",
              "      <td>0.00</td>\n",
              "      <td>0.00</td>\n",
              "      <td>0.00</td>\n",
              "      <td>0.00</td>\n",
              "      <td>0.00</td>\n",
              "      <td>0.00</td>\n",
              "      <td>0.00</td>\n",
              "      <td>0.00</td>\n",
              "      <td>0.00</td>\n",
              "      <td>0.00</td>\n",
              "      <td>8.34</td>\n",
              "      <td>13.483126</td>\n",
              "      <td>13.483126</td>\n",
              "      <td>13.483126</td>\n",
              "      <td>13.483126</td>\n",
              "      <td>12.73</td>\n",
              "      <td>13.483126</td>\n",
              "      <td>13.483126</td>\n",
              "      <td>13.483126</td>\n",
              "      <td>13.483126</td>\n",
              "      <td>13.483126</td>\n",
              "      <td>13.483126</td>\n",
              "      <td>13.483126</td>\n",
              "      <td>13.483126</td>\n",
              "      <td>13.483126</td>\n",
              "      <td>10.95</td>\n",
              "      <td>13.483126</td>\n",
              "      <td>13.483126</td>\n",
              "      <td>13.483126</td>\n",
              "      <td>13.483126</td>\n",
              "      <td>13.483126</td>\n",
              "      <td>13.483126</td>\n",
              "      <td>13.483126</td>\n",
              "      <td>13.483126</td>\n",
              "      <td>13.483126</td>\n",
              "    </tr>\n",
              "    <tr>\n",
              "      <th>3</th>\n",
              "      <td>B32AC8CC6D5D805AC053557AB05F5343</td>\n",
              "      <td>1</td>\n",
              "      <td>0.0</td>\n",
              "      <td>0.00</td>\n",
              "      <td>0.00</td>\n",
              "      <td>0.00</td>\n",
              "      <td>0.00</td>\n",
              "      <td>0.00</td>\n",
              "      <td>0.00</td>\n",
              "      <td>0.00</td>\n",
              "      <td>0.00</td>\n",
              "      <td>0.00</td>\n",
              "      <td>0.00</td>\n",
              "      <td>0.00</td>\n",
              "      <td>0.00</td>\n",
              "      <td>0.00</td>\n",
              "      <td>0.00</td>\n",
              "      <td>0.00</td>\n",
              "      <td>0.00</td>\n",
              "      <td>0.00</td>\n",
              "      <td>0.00</td>\n",
              "      <td>0.00</td>\n",
              "      <td>0.00</td>\n",
              "      <td>0.00</td>\n",
              "      <td>0.00</td>\n",
              "      <td>0.00</td>\n",
              "      <td>0.00</td>\n",
              "      <td>0.00</td>\n",
              "      <td>0.00</td>\n",
              "      <td>0.00</td>\n",
              "      <td>0.00</td>\n",
              "      <td>0.00</td>\n",
              "      <td>0.00</td>\n",
              "      <td>0.00</td>\n",
              "      <td>0.00</td>\n",
              "      <td>0.0</td>\n",
              "      <td>0.00</td>\n",
              "      <td>0.00</td>\n",
              "      <td>0.0</td>\n",
              "      <td>0.00</td>\n",
              "      <td>...</td>\n",
              "      <td>17.30</td>\n",
              "      <td>16.95</td>\n",
              "      <td>8.25</td>\n",
              "      <td>22.76</td>\n",
              "      <td>14.07</td>\n",
              "      <td>20.70</td>\n",
              "      <td>6.50</td>\n",
              "      <td>9.99</td>\n",
              "      <td>18.59</td>\n",
              "      <td>16.79</td>\n",
              "      <td>26.82</td>\n",
              "      <td>14.70</td>\n",
              "      <td>16.05</td>\n",
              "      <td>24.10</td>\n",
              "      <td>12.64</td>\n",
              "      <td>10.85</td>\n",
              "      <td>11.770000</td>\n",
              "      <td>13.030000</td>\n",
              "      <td>12.260000</td>\n",
              "      <td>15.660000</td>\n",
              "      <td>13.43</td>\n",
              "      <td>15.030000</td>\n",
              "      <td>14.610000</td>\n",
              "      <td>13.970000</td>\n",
              "      <td>15.070000</td>\n",
              "      <td>14.110000</td>\n",
              "      <td>14.770000</td>\n",
              "      <td>11.720000</td>\n",
              "      <td>11.730000</td>\n",
              "      <td>11.980000</td>\n",
              "      <td>12.81</td>\n",
              "      <td>15.120000</td>\n",
              "      <td>17.260000</td>\n",
              "      <td>14.910000</td>\n",
              "      <td>19.590000</td>\n",
              "      <td>20.790000</td>\n",
              "      <td>17.950000</td>\n",
              "      <td>19.260000</td>\n",
              "      <td>14.460000</td>\n",
              "      <td>11.720000</td>\n",
              "    </tr>\n",
              "    <tr>\n",
              "      <th>4</th>\n",
              "      <td>EDFC78B07BA2908B3395C4EB2304665E</td>\n",
              "      <td>1</td>\n",
              "      <td>2.9</td>\n",
              "      <td>5.64</td>\n",
              "      <td>6.99</td>\n",
              "      <td>3.32</td>\n",
              "      <td>3.61</td>\n",
              "      <td>5.35</td>\n",
              "      <td>4.73</td>\n",
              "      <td>3.68</td>\n",
              "      <td>3.53</td>\n",
              "      <td>3.42</td>\n",
              "      <td>3.81</td>\n",
              "      <td>4.58</td>\n",
              "      <td>3.56</td>\n",
              "      <td>4.25</td>\n",
              "      <td>3.86</td>\n",
              "      <td>3.53</td>\n",
              "      <td>3.41</td>\n",
              "      <td>0.85</td>\n",
              "      <td>0.88</td>\n",
              "      <td>3.81</td>\n",
              "      <td>6.51</td>\n",
              "      <td>9.19</td>\n",
              "      <td>7.79</td>\n",
              "      <td>7.02</td>\n",
              "      <td>7.25</td>\n",
              "      <td>6.37</td>\n",
              "      <td>6.43</td>\n",
              "      <td>7.89</td>\n",
              "      <td>7.46</td>\n",
              "      <td>7.95</td>\n",
              "      <td>7.59</td>\n",
              "      <td>4.84</td>\n",
              "      <td>6.06</td>\n",
              "      <td>5.6</td>\n",
              "      <td>6.72</td>\n",
              "      <td>7.29</td>\n",
              "      <td>5.6</td>\n",
              "      <td>6.28</td>\n",
              "      <td>...</td>\n",
              "      <td>9.56</td>\n",
              "      <td>9.48</td>\n",
              "      <td>10.60</td>\n",
              "      <td>10.06</td>\n",
              "      <td>10.79</td>\n",
              "      <td>10.91</td>\n",
              "      <td>17.77</td>\n",
              "      <td>10.37</td>\n",
              "      <td>13.51</td>\n",
              "      <td>14.13</td>\n",
              "      <td>17.44</td>\n",
              "      <td>15.96</td>\n",
              "      <td>12.18</td>\n",
              "      <td>18.54</td>\n",
              "      <td>13.44</td>\n",
              "      <td>11.68</td>\n",
              "      <td>9.150000</td>\n",
              "      <td>9.160000</td>\n",
              "      <td>10.190000</td>\n",
              "      <td>10.310000</td>\n",
              "      <td>8.03</td>\n",
              "      <td>10.080000</td>\n",
              "      <td>10.340000</td>\n",
              "      <td>11.240000</td>\n",
              "      <td>15.140000</td>\n",
              "      <td>14.360000</td>\n",
              "      <td>12.390000</td>\n",
              "      <td>10.360000</td>\n",
              "      <td>9.290000</td>\n",
              "      <td>7.910000</td>\n",
              "      <td>14.21</td>\n",
              "      <td>10.220000</td>\n",
              "      <td>8.470000</td>\n",
              "      <td>6.110000</td>\n",
              "      <td>6.100000</td>\n",
              "      <td>6.730000</td>\n",
              "      <td>7.520000</td>\n",
              "      <td>10.890000</td>\n",
              "      <td>9.860000</td>\n",
              "      <td>8.720000</td>\n",
              "    </tr>\n",
              "  </tbody>\n",
              "</table>\n",
              "<p>5 rows × 1036 columns</p>\n",
              "</div>"
            ],
            "text/plain": [
              "                            CONS_NO  FLAG  ...  2016-10-30  2016-10-31\n",
              "0  0387DD8A07E07FDA6271170F86AD9151     1  ...    9.160000    6.740000\n",
              "1  01D6177B5D4FFE0CABA9EF17DAFC2B84     1  ...    0.000000    0.000000\n",
              "2  4B75AC4F2D8434CFF62DB64D0BB43103     1  ...   13.483126   13.483126\n",
              "3  B32AC8CC6D5D805AC053557AB05F5343     1  ...   14.460000   11.720000\n",
              "4  EDFC78B07BA2908B3395C4EB2304665E     1  ...    9.860000    8.720000\n",
              "\n",
              "[5 rows x 1036 columns]"
            ]
          },
          "metadata": {
            "tags": []
          },
          "execution_count": 3
        }
      ]
    },
    {
      "cell_type": "code",
      "metadata": {
        "id": "2mzQZqIlR3C7",
        "colab_type": "code",
        "outputId": "33770e5a-93cf-448b-fa03-03a0f1e4e5fc",
        "colab": {
          "base_uri": "https://localhost:8080/",
          "height": 34
        }
      },
      "source": [
        "# Column 2 onwards are kWhs, column 1 is the FLAG\n",
        "kWhs = raw_data.iloc[:, 2:]\n",
        "labels = raw_data.iloc[:, 1]\n",
        "\n",
        "NUM_CONSUMERS, NUM_DAYS = kWhs.shape\n",
        "print(NUM_CONSUMERS, NUM_DAYS)\n"
      ],
      "execution_count": 0,
      "outputs": [
        {
          "output_type": "stream",
          "text": [
            "42372 1034\n"
          ],
          "name": "stdout"
        }
      ]
    },
    {
      "cell_type": "markdown",
      "metadata": {
        "id": "-93wEQvcwLRe",
        "colab_type": "text"
      },
      "source": [
        "# PCA without Scaling\n"
      ]
    },
    {
      "cell_type": "code",
      "metadata": {
        "id": "E-yCnMDcSXjc",
        "colab_type": "code",
        "colab": {}
      },
      "source": [
        "# Applying PCA on raw Data\n",
        "pca = PCA(n_components=0.95, svd_solver='full')\n",
        "X_reduced = pca.fit_transform(kWhs)"
      ],
      "execution_count": 0,
      "outputs": []
    },
    {
      "cell_type": "code",
      "metadata": {
        "id": "UGEduWc-TBBJ",
        "colab_type": "code",
        "outputId": "af1a7bad-9d2c-4fec-ab44-45bc0e039cf7",
        "colab": {
          "base_uri": "https://localhost:8080/",
          "height": 34
        }
      },
      "source": [
        "# Checking the Dimension of reduced data\n",
        "X_reduced.shape"
      ],
      "execution_count": 0,
      "outputs": [
        {
          "output_type": "execute_result",
          "data": {
            "text/plain": [
              "(42372, 10)"
            ]
          },
          "metadata": {
            "tags": []
          },
          "execution_count": 6
        }
      ]
    },
    {
      "cell_type": "code",
      "metadata": {
        "id": "67LF44L0TFi9",
        "colab_type": "code",
        "outputId": "2e534dd2-96ab-4d64-f6c0-11c17a69d95a",
        "colab": {
          "base_uri": "https://localhost:8080/",
          "height": 52
        }
      },
      "source": [
        "# Checking variance of each Dimension\n",
        "pca.explained_variance_ratio_"
      ],
      "execution_count": 0,
      "outputs": [
        {
          "output_type": "execute_result",
          "data": {
            "text/plain": [
              "array([0.62006104, 0.12212078, 0.07901392, 0.03239373, 0.02937368,\n",
              "       0.02772248, 0.01781337, 0.01068211, 0.00728117, 0.0067785 ])"
            ]
          },
          "metadata": {
            "tags": []
          },
          "execution_count": 7
        }
      ]
    },
    {
      "cell_type": "code",
      "metadata": {
        "id": "_VuGhjAKTJEC",
        "colab_type": "code",
        "colab": {}
      },
      "source": [
        "# Applying Randomized PCA on raw Data\n",
        "rnd_pca = PCA(n_components = 15, svd_solver = 'randomized')\n",
        "X_reduced_rnd = rnd_pca.fit_transform(kWhs)"
      ],
      "execution_count": 0,
      "outputs": []
    },
    {
      "cell_type": "code",
      "metadata": {
        "id": "BGvyBcB_X4kD",
        "colab_type": "code",
        "outputId": "1e4c1c18-b87a-4c02-e2ed-61e262283eef",
        "colab": {
          "base_uri": "https://localhost:8080/",
          "height": 34
        }
      },
      "source": [
        "# Dimension check\n",
        "X_reduced_rnd.shape"
      ],
      "execution_count": 0,
      "outputs": [
        {
          "output_type": "execute_result",
          "data": {
            "text/plain": [
              "(42372, 15)"
            ]
          },
          "metadata": {
            "tags": []
          },
          "execution_count": 9
        }
      ]
    },
    {
      "cell_type": "code",
      "metadata": {
        "id": "ldqPom2CX-4h",
        "colab_type": "code",
        "outputId": "f92c51f1-9bfc-470d-c650-090a3bfc60c1",
        "colab": {
          "base_uri": "https://localhost:8080/",
          "height": 70
        }
      },
      "source": [
        "# Variance Check\n",
        "rnd_pca.explained_variance_ratio_"
      ],
      "execution_count": 0,
      "outputs": [
        {
          "output_type": "execute_result",
          "data": {
            "text/plain": [
              "array([0.62006104, 0.12212078, 0.07901392, 0.03239373, 0.02937368,\n",
              "       0.02772248, 0.01781337, 0.01068211, 0.00728117, 0.0067785 ,\n",
              "       0.00495273, 0.0042692 , 0.00403223, 0.00386527, 0.00336026])"
            ]
          },
          "metadata": {
            "tags": []
          },
          "execution_count": 10
        }
      ]
    },
    {
      "cell_type": "code",
      "metadata": {
        "id": "yWzidKPWau6P",
        "colab_type": "code",
        "colab": {}
      },
      "source": [
        "#lle = LocallyLinearEmbedding(n_components = 15, n_neighbors = 10)\n",
        "#X_lle = lle.fit_transform(kWhs)"
      ],
      "execution_count": 0,
      "outputs": []
    },
    {
      "cell_type": "markdown",
      "metadata": {
        "id": "_CgvhERmCVvC",
        "colab_type": "text"
      },
      "source": [
        "# PCA with Scaling"
      ]
    },
    {
      "cell_type": "markdown",
      "metadata": {
        "id": "bm-PT7N-yRgf",
        "colab_type": "text"
      },
      "source": [
        "## Scaling Data"
      ]
    },
    {
      "cell_type": "code",
      "metadata": {
        "id": "yTvmHjMsdZm_",
        "colab_type": "code",
        "outputId": "3e54c750-21d9-4e53-c099-e6e8bff3a48b",
        "colab": {
          "base_uri": "https://localhost:8080/",
          "height": 52
        }
      },
      "source": [
        "''' Scaling using both MinMax and standard scaling. but \n",
        "    preferable to use standard scaled data as it centers\n",
        "    the feature around a zero mean value. Shown in graph below'''\n",
        "\n",
        "\n",
        "# Scaling data using Standard scaler\n",
        "scaler = StandardScaler()\n",
        "X_standard = scaler.fit_transform(kWhs.transpose()).transpose()\n",
        "print(X_standard.shape)\n",
        "\n",
        "# Scaling Data using MinMax scaler\n",
        "scaler = MinMaxScaler()\n",
        "X_MinMax = scaler.fit_transform(kWhs.transpose()).transpose()\n",
        "print(X_MinMax.shape) \n",
        "\n"
      ],
      "execution_count": 0,
      "outputs": [
        {
          "output_type": "stream",
          "text": [
            "(42372, 1034)\n",
            "(42372, 1034)\n"
          ],
          "name": "stdout"
        }
      ]
    },
    {
      "cell_type": "code",
      "metadata": {
        "id": "-7mKp4bayvq1",
        "colab_type": "code",
        "outputId": "22d42018-5df6-4442-ab6e-718d939382df",
        "colab": {
          "base_uri": "https://localhost:8080/",
          "height": 368
        }
      },
      "source": [
        "# Distribution after standarad scaling\n",
        "\n",
        "plt.figure(figsize=(10, 5))\n",
        "distplot(X_standard.ravel(), hist_kws=dict(edgecolor='k', linewidth=2))\n",
        "plt.xlabel('Scaled kWh Values', fontsize=11)\n",
        "plt.ylabel('Frequency', fontsize=11)\n",
        "plt.title('kWh Values - After Standard Scaling', fontsize=14)"
      ],
      "execution_count": 0,
      "outputs": [
        {
          "output_type": "execute_result",
          "data": {
            "text/plain": [
              "Text(0.5, 1.0, 'kWh Values - After Standard Scaling')"
            ]
          },
          "metadata": {
            "tags": []
          },
          "execution_count": 13
        },
        {
          "output_type": "display_data",
          "data": {
            "image/png": "[encoded data removed]",
            "text/plain": [
              "<Figure size 720x360 with 1 Axes>"
            ]
          },
          "metadata": {
            "tags": [],
            "needs_background": "light"
          }
        }
      ]
    },
    {
      "cell_type": "code",
      "metadata": {
        "id": "saw1TXLzzi_l",
        "colab_type": "code",
        "outputId": "74da5e43-f2bd-41ab-f1da-80f7a99e86ad",
        "colab": {
          "base_uri": "https://localhost:8080/",
          "height": 368
        }
      },
      "source": [
        "# Distribution after MinMax scaling\n",
        "\n",
        "plt.figure(figsize=(10, 5))\n",
        "distplot(X_MinMax.ravel(), hist_kws=dict(edgecolor='k', linewidth=2))\n",
        "plt.xlabel('Scaled kWh Values', fontsize=11)\n",
        "plt.ylabel('Frequency', fontsize=11)\n",
        "plt.title('kWh Values - After MinMax Scaling', fontsize=14)"
      ],
      "execution_count": 0,
      "outputs": [
        {
          "output_type": "execute_result",
          "data": {
            "text/plain": [
              "Text(0.5, 1.0, 'kWh Values - After MinMax Scaling')"
            ]
          },
          "metadata": {
            "tags": []
          },
          "execution_count": 14
        },
        {
          "output_type": "display_data",
          "data": {
            "image/png": "[encoded data removed]",
            "text/plain": [
              "<Figure size 720x360 with 1 Axes>"
            ]
          },
          "metadata": {
            "tags": [],
            "needs_background": "light"
          }
        }
      ]
    },
    {
      "cell_type": "markdown",
      "metadata": {
        "id": "uqK3u56tQhF4",
        "colab_type": "text"
      },
      "source": [
        "### PCA on standard scaled Data"
      ]
    },
    {
      "cell_type": "code",
      "metadata": {
        "id": "LaFsNkTtCf5j",
        "colab_type": "code",
        "colab": {}
      },
      "source": [
        "# Applying PCA on Standard scaled data\n",
        "pca_scaled_std = PCA(n_components=0.95) # no need to set solver, cause default is auto\n",
        "X_reduced_scaled_std = pca_scaled_std.fit_transform(X_standard)"
      ],
      "execution_count": 0,
      "outputs": []
    },
    {
      "cell_type": "code",
      "metadata": {
        "id": "b2EMGXVNDSG5",
        "colab_type": "code",
        "outputId": "5c19130f-859a-4e41-ecd1-45035bdfa92e",
        "colab": {
          "base_uri": "https://localhost:8080/",
          "height": 34
        }
      },
      "source": [
        "# Dimension Check\n",
        "X_reduced_scaled_std.shape"
      ],
      "execution_count": 0,
      "outputs": [
        {
          "output_type": "execute_result",
          "data": {
            "text/plain": [
              "(42372, 648)"
            ]
          },
          "metadata": {
            "tags": []
          },
          "execution_count": 16
        }
      ]
    },
    {
      "cell_type": "code",
      "metadata": {
        "id": "Q0o1ArbZDYWw",
        "colab_type": "code",
        "outputId": "d353cc99-6fae-40aa-95c8-c0f73b8d4002",
        "colab": {
          "base_uri": "https://localhost:8080/",
          "height": 1000
        }
      },
      "source": [
        "# Variance Check\n",
        "pca_scaled_std.explained_variance_ratio_"
      ],
      "execution_count": 0,
      "outputs": [
        {
          "output_type": "execute_result",
          "data": {
            "text/plain": [
              "array([2.02720492e-01, 8.87556108e-02, 7.91670869e-02, 4.46811601e-02,\n",
              "       3.73649954e-02, 3.07747890e-02, 2.06653184e-02, 1.80853907e-02,\n",
              "       1.46794214e-02, 1.34450828e-02, 1.17329845e-02, 9.60064348e-03,\n",
              "       8.70753972e-03, 7.75617655e-03, 6.77092528e-03, 6.28605804e-03,\n",
              "       5.92353519e-03, 5.68144757e-03, 4.93162948e-03, 4.63318249e-03,\n",
              "       4.37301446e-03, 4.29489432e-03, 3.96482537e-03, 3.84887976e-03,\n",
              "       3.70422710e-03, 3.53715198e-03, 3.45095363e-03, 3.35165270e-03,\n",
              "       3.18908217e-03, 3.02779523e-03, 2.84144995e-03, 2.79753062e-03,\n",
              "       2.69167984e-03, 2.60849134e-03, 2.58047572e-03, 2.42244702e-03,\n",
              "       2.41293051e-03, 2.29697541e-03, 2.25987428e-03, 2.20912967e-03,\n",
              "       2.12417302e-03, 2.09266045e-03, 2.00855220e-03, 1.97547407e-03,\n",
              "       1.93144147e-03, 1.87791982e-03, 1.84724709e-03, 1.82075287e-03,\n",
              "       1.77873335e-03, 1.69983134e-03, 1.68046488e-03, 1.61196745e-03,\n",
              "       1.61059610e-03, 1.56849781e-03, 1.54277404e-03, 1.52625179e-03,\n",
              "       1.50950831e-03, 1.48591197e-03, 1.48075305e-03, 1.46434011e-03,\n",
              "       1.41067160e-03, 1.40168136e-03, 1.37921246e-03, 1.34860459e-03,\n",
              "       1.30429179e-03, 1.29655246e-03, 1.28918925e-03, 1.26295671e-03,\n",
              "       1.23754036e-03, 1.22123625e-03, 1.20595136e-03, 1.19090506e-03,\n",
              "       1.17599217e-03, 1.15527764e-03, 1.14956633e-03, 1.12755661e-03,\n",
              "       1.11701651e-03, 1.11067962e-03, 1.10356496e-03, 1.08013990e-03,\n",
              "       1.07698799e-03, 1.06971212e-03, 1.04576456e-03, 1.02090685e-03,\n",
              "       1.00867815e-03, 1.00456218e-03, 9.94475969e-04, 9.87456806e-04,\n",
              "       9.79390375e-04, 9.56724314e-04, 9.44629718e-04, 9.40331949e-04,\n",
              "       9.27931107e-04, 9.14029916e-04, 9.05328129e-04, 8.95197693e-04,\n",
              "       8.89574177e-04, 8.83254711e-04, 8.79070556e-04, 8.70771348e-04,\n",
              "       8.57506099e-04, 8.55692552e-04, 8.50412210e-04, 8.36588479e-04,\n",
              "       8.32050368e-04, 8.27545493e-04, 8.18232617e-04, 8.03562964e-04,\n",
              "       8.00852352e-04, 7.91611698e-04, 7.89174430e-04, 7.81665102e-04,\n",
              "       7.73934094e-04, 7.63994106e-04, 7.61132692e-04, 7.48043539e-04,\n",
              "       7.47155473e-04, 7.37085437e-04, 7.34309998e-04, 7.29575203e-04,\n",
              "       7.18512699e-04, 7.17894479e-04, 7.09518672e-04, 7.06388380e-04,\n",
              "       6.98124216e-04, 6.95803896e-04, 6.88686307e-04, 6.86982786e-04,\n",
              "       6.77441686e-04, 6.76707371e-04, 6.73553173e-04, 6.71415027e-04,\n",
              "       6.63780578e-04, 6.59744023e-04, 6.57759156e-04, 6.53243991e-04,\n",
              "       6.43858949e-04, 6.42306410e-04, 6.36890590e-04, 6.31985188e-04,\n",
              "       6.31384875e-04, 6.27419033e-04, 6.22321182e-04, 6.18514601e-04,\n",
              "       6.17301783e-04, 6.13837514e-04, 6.10084318e-04, 6.06672400e-04,\n",
              "       6.03717931e-04, 5.99936936e-04, 5.97871420e-04, 5.93573109e-04,\n",
              "       5.88289451e-04, 5.83557082e-04, 5.80891095e-04, 5.74940046e-04,\n",
              "       5.74028088e-04, 5.72664281e-04, 5.68738804e-04, 5.66244687e-04,\n",
              "       5.62781869e-04, 5.57767648e-04, 5.55685293e-04, 5.53666497e-04,\n",
              "       5.48896205e-04, 5.46196891e-04, 5.44363048e-04, 5.43017090e-04,\n",
              "       5.39435791e-04, 5.37657822e-04, 5.34344441e-04, 5.31148801e-04,\n",
              "       5.29991853e-04, 5.27898844e-04, 5.23549656e-04, 5.21285259e-04,\n",
              "       5.20401107e-04, 5.17163885e-04, 5.15437443e-04, 5.14035256e-04,\n",
              "       5.10459370e-04, 5.08542903e-04, 5.08168426e-04, 5.07171713e-04,\n",
              "       5.06534179e-04, 5.03094309e-04, 5.01905460e-04, 4.99280181e-04,\n",
              "       4.96282765e-04, 4.95053999e-04, 4.91519963e-04, 4.90073976e-04,\n",
              "       4.87109598e-04, 4.86991789e-04, 4.82139798e-04, 4.81785063e-04,\n",
              "       4.78682776e-04, 4.75373286e-04, 4.73560146e-04, 4.73087724e-04,\n",
              "       4.70283474e-04, 4.68097423e-04, 4.65679628e-04, 4.65232545e-04,\n",
              "       4.61511098e-04, 4.60229814e-04, 4.58023522e-04, 4.56690930e-04,\n",
              "       4.53866714e-04, 4.52755567e-04, 4.51551979e-04, 4.51298634e-04,\n",
              "       4.49421212e-04, 4.45412148e-04, 4.43987002e-04, 4.42972678e-04,\n",
              "       4.41284965e-04, 4.39651404e-04, 4.37498132e-04, 4.35084507e-04,\n",
              "       4.33795198e-04, 4.32948067e-04, 4.29626921e-04, 4.25781059e-04,\n",
              "       4.24889536e-04, 4.24093570e-04, 4.23437560e-04, 4.21360771e-04,\n",
              "       4.20702504e-04, 4.19553390e-04, 4.18344327e-04, 4.16757114e-04,\n",
              "       4.16067034e-04, 4.13825127e-04, 4.11896167e-04, 4.10708029e-04,\n",
              "       4.09979996e-04, 4.08245931e-04, 4.05212204e-04, 4.04514301e-04,\n",
              "       4.03316378e-04, 4.02368211e-04, 4.01349993e-04, 3.99855080e-04,\n",
              "       3.98454092e-04, 3.96977249e-04, 3.95852190e-04, 3.94767769e-04,\n",
              "       3.92946324e-04, 3.91959047e-04, 3.90213696e-04, 3.90009740e-04,\n",
              "       3.89003388e-04, 3.87490671e-04, 3.84803090e-04, 3.83959297e-04,\n",
              "       3.82997493e-04, 3.81360925e-04, 3.79943720e-04, 3.79414863e-04,\n",
              "       3.78893392e-04, 3.77729173e-04, 3.76886665e-04, 3.74513610e-04,\n",
              "       3.74218396e-04, 3.71710232e-04, 3.70872408e-04, 3.69432003e-04,\n",
              "       3.68744603e-04, 3.68461406e-04, 3.67669705e-04, 3.65472904e-04,\n",
              "       3.65014599e-04, 3.63478225e-04, 3.62430230e-04, 3.61901884e-04,\n",
              "       3.60676312e-04, 3.59756250e-04, 3.59634258e-04, 3.58514185e-04,\n",
              "       3.58265331e-04, 3.56936842e-04, 3.56441120e-04, 3.54995568e-04,\n",
              "       3.54286680e-04, 3.53472803e-04, 3.52752862e-04, 3.51445836e-04,\n",
              "       3.51044750e-04, 3.48854107e-04, 3.48564943e-04, 3.46882744e-04,\n",
              "       3.46229024e-04, 3.45626594e-04, 3.44991045e-04, 3.43555360e-04,\n",
              "       3.43501966e-04, 3.42769289e-04, 3.42021176e-04, 3.40952817e-04,\n",
              "       3.40723773e-04, 3.39914146e-04, 3.38570523e-04, 3.38148575e-04,\n",
              "       3.37203158e-04, 3.35887394e-04, 3.35506493e-04, 3.34598013e-04,\n",
              "       3.34318009e-04, 3.32518362e-04, 3.31658133e-04, 3.30312509e-04,\n",
              "       3.29145765e-04, 3.28618823e-04, 3.28085721e-04, 3.27811759e-04,\n",
              "       3.27304726e-04, 3.25377876e-04, 3.25147198e-04, 3.24963877e-04,\n",
              "       3.24276649e-04, 3.23365298e-04, 3.22910684e-04, 3.22250857e-04,\n",
              "       3.21125048e-04, 3.20854416e-04, 3.19427239e-04, 3.18694432e-04,\n",
              "       3.17068720e-04, 3.16942967e-04, 3.16670645e-04, 3.16534477e-04,\n",
              "       3.15638987e-04, 3.14040341e-04, 3.13512843e-04, 3.13039754e-04,\n",
              "       3.12509196e-04, 3.11965655e-04, 3.11434355e-04, 3.10286714e-04,\n",
              "       3.10057079e-04, 3.09641998e-04, 3.08177307e-04, 3.07361740e-04,\n",
              "       3.07071547e-04, 3.06160183e-04, 3.05059558e-04, 3.04828209e-04,\n",
              "       3.03286570e-04, 3.03143676e-04, 3.02289126e-04, 3.01241480e-04,\n",
              "       3.01000413e-04, 3.00657869e-04, 2.99817749e-04, 2.98886169e-04,\n",
              "       2.98779592e-04, 2.98137064e-04, 2.97512935e-04, 2.96992887e-04,\n",
              "       2.96412599e-04, 2.95233187e-04, 2.94889834e-04, 2.94481736e-04,\n",
              "       2.93877265e-04, 2.93089363e-04, 2.92859018e-04, 2.92675335e-04,\n",
              "       2.91839371e-04, 2.91083564e-04, 2.90632189e-04, 2.89733941e-04,\n",
              "       2.89081793e-04, 2.88620938e-04, 2.88196392e-04, 2.87671071e-04,\n",
              "       2.86993481e-04, 2.86061712e-04, 2.85670934e-04, 2.85252424e-04,\n",
              "       2.84834299e-04, 2.84341118e-04, 2.84116228e-04, 2.83135651e-04,\n",
              "       2.82358657e-04, 2.82173132e-04, 2.81580783e-04, 2.80581572e-04,\n",
              "       2.80249445e-04, 2.79867113e-04, 2.79478090e-04, 2.79228598e-04,\n",
              "       2.78161988e-04, 2.77621292e-04, 2.77372123e-04, 2.76760993e-04,\n",
              "       2.76355924e-04, 2.75512216e-04, 2.75236550e-04, 2.74659800e-04,\n",
              "       2.73766703e-04, 2.73303135e-04, 2.72816107e-04, 2.72218736e-04,\n",
              "       2.71218052e-04, 2.70985725e-04, 2.70669538e-04, 2.69697247e-04,\n",
              "       2.69621513e-04, 2.69306847e-04, 2.68670870e-04, 2.68134442e-04,\n",
              "       2.67534143e-04, 2.67303231e-04, 2.66700121e-04, 2.66550818e-04,\n",
              "       2.65975012e-04, 2.65574557e-04, 2.65274337e-04, 2.64537346e-04,\n",
              "       2.64217063e-04, 2.63350162e-04, 2.62944715e-04, 2.62493012e-04,\n",
              "       2.62308589e-04, 2.62136080e-04, 2.61675360e-04, 2.61460214e-04,\n",
              "       2.60838984e-04, 2.60594971e-04, 2.60079948e-04, 2.59596505e-04,\n",
              "       2.58616515e-04, 2.58260229e-04, 2.57914525e-04, 2.57589181e-04,\n",
              "       2.56860994e-04, 2.56515849e-04, 2.56052309e-04, 2.55005111e-04,\n",
              "       2.54379533e-04, 2.54197786e-04, 2.53920996e-04, 2.53551115e-04,\n",
              "       2.53212642e-04, 2.52473762e-04, 2.51493277e-04, 2.51235441e-04,\n",
              "       2.51018578e-04, 2.50433696e-04, 2.50265686e-04, 2.49705771e-04,\n",
              "       2.49329420e-04, 2.49027281e-04, 2.48643021e-04, 2.48452988e-04,\n",
              "       2.48077146e-04, 2.47137091e-04, 2.47053372e-04, 2.46603161e-04,\n",
              "       2.46158087e-04, 2.45592722e-04, 2.44640296e-04, 2.44485200e-04,\n",
              "       2.44177315e-04, 2.43899995e-04, 2.43445630e-04, 2.43095490e-04,\n",
              "       2.42999840e-04, 2.42451779e-04, 2.41890247e-04, 2.41582882e-04,\n",
              "       2.41260573e-04, 2.41143196e-04, 2.40352000e-04, 2.40318113e-04,\n",
              "       2.39651779e-04, 2.39139698e-04, 2.38472569e-04, 2.38069906e-04,\n",
              "       2.37945374e-04, 2.37470481e-04, 2.37267647e-04, 2.37002386e-04,\n",
              "       2.36830031e-04, 2.36187329e-04, 2.35639227e-04, 2.35409595e-04,\n",
              "       2.35161502e-04, 2.34536548e-04, 2.34123790e-04, 2.33969531e-04,\n",
              "       2.33756991e-04, 2.33553089e-04, 2.32831636e-04, 2.32460568e-04,\n",
              "       2.32218442e-04, 2.32007771e-04, 2.31354854e-04, 2.31093398e-04,\n",
              "       2.30399116e-04, 2.30133716e-04, 2.29778498e-04, 2.29145387e-04,\n",
              "       2.28871162e-04, 2.28471015e-04, 2.28255891e-04, 2.27762293e-04,\n",
              "       2.27586263e-04, 2.27196450e-04, 2.26768368e-04, 2.26616330e-04,\n",
              "       2.26165466e-04, 2.25877674e-04, 2.25518781e-04, 2.24961770e-04,\n",
              "       2.24475934e-04, 2.24285943e-04, 2.24021630e-04, 2.23537073e-04,\n",
              "       2.23366484e-04, 2.22527817e-04, 2.22324366e-04, 2.22093110e-04,\n",
              "       2.21236956e-04, 2.21125936e-04, 2.20837117e-04, 2.20476645e-04,\n",
              "       2.19932242e-04, 2.19372909e-04, 2.19312135e-04, 2.19223902e-04,\n",
              "       2.18685744e-04, 2.18654393e-04, 2.17817519e-04, 2.17599514e-04,\n",
              "       2.17350036e-04, 2.16711369e-04, 2.16514441e-04, 2.16157668e-04,\n",
              "       2.15882426e-04, 2.15623842e-04, 2.15288457e-04, 2.14550479e-04,\n",
              "       2.14517823e-04, 2.14257127e-04, 2.14008306e-04, 2.13380186e-04,\n",
              "       2.13310729e-04, 2.12963106e-04, 2.12474502e-04, 2.12007092e-04,\n",
              "       2.11599066e-04, 2.11018320e-04, 2.10829253e-04, 2.10617948e-04,\n",
              "       2.10035042e-04, 2.09914742e-04, 2.09306686e-04, 2.09202284e-04,\n",
              "       2.08907909e-04, 2.08294749e-04, 2.08161540e-04, 2.07811346e-04,\n",
              "       2.07643658e-04, 2.07461156e-04, 2.07045293e-04, 2.06526186e-04,\n",
              "       2.06229327e-04, 2.06079761e-04, 2.05815192e-04, 2.05692824e-04,\n",
              "       2.05365381e-04, 2.05187138e-04, 2.04987359e-04, 2.04035221e-04,\n",
              "       2.03838680e-04, 2.03299849e-04, 2.03166678e-04, 2.02872579e-04,\n",
              "       2.02739331e-04, 2.02483578e-04, 2.02169009e-04, 2.01820737e-04,\n",
              "       2.01315213e-04, 2.00892730e-04, 2.00815989e-04, 2.00178951e-04,\n",
              "       2.00107257e-04, 1.99649484e-04, 1.98913134e-04, 1.98681342e-04,\n",
              "       1.98467213e-04, 1.98453388e-04, 1.97980419e-04, 1.97637286e-04,\n",
              "       1.97240662e-04, 1.97058406e-04, 1.96671876e-04, 1.96237125e-04,\n",
              "       1.96067509e-04, 1.95807183e-04, 1.95609024e-04, 1.95228433e-04,\n",
              "       1.95168148e-04, 1.94867491e-04, 1.94605224e-04, 1.94133987e-04,\n",
              "       1.93882791e-04, 1.93787992e-04, 1.93031366e-04, 1.92757274e-04,\n",
              "       1.92429848e-04, 1.92219172e-04, 1.91827975e-04, 1.91503640e-04,\n",
              "       1.90965740e-04, 1.90536518e-04, 1.90364504e-04, 1.90126266e-04,\n",
              "       1.90024735e-04, 1.89445093e-04, 1.89084249e-04, 1.88868777e-04,\n",
              "       1.88694835e-04, 1.88360039e-04, 1.88137471e-04, 1.87866904e-04,\n",
              "       1.87643245e-04, 1.87434932e-04, 1.87085379e-04, 1.86920109e-04,\n",
              "       1.86282931e-04, 1.86139355e-04, 1.85762343e-04, 1.85105812e-04,\n",
              "       1.84851934e-04, 1.84579558e-04, 1.84386099e-04, 1.84269240e-04,\n",
              "       1.83879923e-04, 1.83513992e-04, 1.83210524e-04, 1.82892745e-04,\n",
              "       1.82803921e-04, 1.82117299e-04, 1.81965085e-04, 1.81659214e-04])"
            ]
          },
          "metadata": {
            "tags": []
          },
          "execution_count": 17
        }
      ]
    },
    {
      "cell_type": "markdown",
      "metadata": {
        "id": "lEHaYQdhQv6n",
        "colab_type": "text"
      },
      "source": [
        "### PCA on MinMax scaled Data"
      ]
    },
    {
      "cell_type": "code",
      "metadata": {
        "id": "xSqScWLGDj5F",
        "colab_type": "code",
        "colab": {}
      },
      "source": [
        "# Applying PCA on MinMax scaled Data\n",
        "pca_scaled_MinMax = PCA(n_components=0.95)\n",
        "X_reduced_scaled_MinMax = pca_scaled_MinMax.fit_transform(X_MinMax)"
      ],
      "execution_count": 0,
      "outputs": []
    },
    {
      "cell_type": "code",
      "metadata": {
        "id": "4kmazHAMEYpz",
        "colab_type": "code",
        "outputId": "d7fbb6a2-7a92-479d-bc7e-eb03030e09bb",
        "colab": {
          "base_uri": "https://localhost:8080/",
          "height": 34
        }
      },
      "source": [
        "# Dimension Check\n",
        "X_reduced_scaled_MinMax.shape"
      ],
      "execution_count": 0,
      "outputs": [
        {
          "output_type": "execute_result",
          "data": {
            "text/plain": [
              "(42372, 400)"
            ]
          },
          "metadata": {
            "tags": []
          },
          "execution_count": 19
        }
      ]
    },
    {
      "cell_type": "code",
      "metadata": {
        "id": "7ol9h4A9EdrK",
        "colab_type": "code",
        "outputId": "d22ecc9b-29ee-4559-a7fa-e62f80bf598d",
        "colab": {
          "base_uri": "https://localhost:8080/",
          "height": 1000
        }
      },
      "source": [
        "# Variance Check\n",
        "pca_scaled_MinMax.explained_variance_ratio_"
      ],
      "execution_count": 0,
      "outputs": [
        {
          "output_type": "execute_result",
          "data": {
            "text/plain": [
              "array([3.72008933e-01, 1.71336072e-01, 6.23987971e-02, 4.42965200e-02,\n",
              "       3.17733348e-02, 2.37717872e-02, 1.75285677e-02, 1.32422604e-02,\n",
              "       1.16918689e-02, 9.26872461e-03, 8.26350713e-03, 6.92257843e-03,\n",
              "       6.13834899e-03, 5.47542804e-03, 4.55220057e-03, 4.04830863e-03,\n",
              "       3.82981281e-03, 3.49223460e-03, 3.33418107e-03, 2.85822360e-03,\n",
              "       2.68125370e-03, 2.52946937e-03, 2.50831065e-03, 2.29129398e-03,\n",
              "       2.21587712e-03, 2.11052561e-03, 1.99803310e-03, 1.97619421e-03,\n",
              "       1.91494419e-03, 1.83797226e-03, 1.80589601e-03, 1.59787858e-03,\n",
              "       1.57878853e-03, 1.51128166e-03, 1.47265276e-03, 1.41176690e-03,\n",
              "       1.36048454e-03, 1.32086512e-03, 1.30178161e-03, 1.25164936e-03,\n",
              "       1.21466738e-03, 1.16170712e-03, 1.14913641e-03, 1.10185368e-03,\n",
              "       1.09702175e-03, 1.06564207e-03, 1.02302034e-03, 1.01043262e-03,\n",
              "       9.62557334e-04, 9.33104481e-04, 9.22716104e-04, 8.96001249e-04,\n",
              "       8.81900135e-04, 8.77415373e-04, 8.56085496e-04, 8.40870157e-04,\n",
              "       8.25793068e-04, 8.13592646e-04, 8.02047828e-04, 7.87352732e-04,\n",
              "       7.63936432e-04, 7.50395046e-04, 7.36090402e-04, 7.25986965e-04,\n",
              "       7.15556471e-04, 7.07701837e-04, 6.83754081e-04, 6.79321906e-04,\n",
              "       6.73504997e-04, 6.64834673e-04, 6.54083557e-04, 6.47648575e-04,\n",
              "       6.23997672e-04, 6.18634414e-04, 6.14636820e-04, 6.08346991e-04,\n",
              "       6.01814428e-04, 5.85075546e-04, 5.78635101e-04, 5.74647836e-04,\n",
              "       5.58665938e-04, 5.48214010e-04, 5.42368577e-04, 5.36793521e-04,\n",
              "       5.32781028e-04, 5.21077366e-04, 5.13721491e-04, 5.11196334e-04,\n",
              "       5.09257770e-04, 5.01298000e-04, 4.90118155e-04, 4.88745482e-04,\n",
              "       4.81248387e-04, 4.79733994e-04, 4.71031005e-04, 4.67614374e-04,\n",
              "       4.60031714e-04, 4.57415239e-04, 4.50912915e-04, 4.44333566e-04,\n",
              "       4.43271226e-04, 4.39053243e-04, 4.29719963e-04, 4.25101553e-04,\n",
              "       4.23197745e-04, 4.20603204e-04, 4.15247598e-04, 4.11417831e-04,\n",
              "       4.09202855e-04, 4.05120758e-04, 4.00950548e-04, 3.95577017e-04,\n",
              "       3.91341522e-04, 3.90662701e-04, 3.85841544e-04, 3.83998925e-04,\n",
              "       3.80115542e-04, 3.77620368e-04, 3.74105155e-04, 3.72587098e-04,\n",
              "       3.69861208e-04, 3.65235545e-04, 3.63925906e-04, 3.59813611e-04,\n",
              "       3.57801103e-04, 3.56659694e-04, 3.52595249e-04, 3.49842260e-04,\n",
              "       3.45479064e-04, 3.42398435e-04, 3.41986779e-04, 3.39099772e-04,\n",
              "       3.35724505e-04, 3.33053459e-04, 3.30657147e-04, 3.27452409e-04,\n",
              "       3.25643984e-04, 3.24417902e-04, 3.22895140e-04, 3.20967535e-04,\n",
              "       3.17163027e-04, 3.15456412e-04, 3.13480139e-04, 3.08480044e-04,\n",
              "       3.06883722e-04, 3.05556503e-04, 3.04532515e-04, 3.01932911e-04,\n",
              "       2.99921715e-04, 2.99098845e-04, 2.97025688e-04, 2.95947995e-04,\n",
              "       2.95276570e-04, 2.91544203e-04, 2.88373687e-04, 2.87751367e-04,\n",
              "       2.87038732e-04, 2.85306214e-04, 2.82858342e-04, 2.80455524e-04,\n",
              "       2.78931677e-04, 2.77075950e-04, 2.76478214e-04, 2.75425294e-04,\n",
              "       2.73269327e-04, 2.72237097e-04, 2.70539062e-04, 2.69600173e-04,\n",
              "       2.68355675e-04, 2.66535675e-04, 2.65485842e-04, 2.63509603e-04,\n",
              "       2.60813234e-04, 2.59428384e-04, 2.59140244e-04, 2.58143341e-04,\n",
              "       2.57310616e-04, 2.56048878e-04, 2.53322622e-04, 2.53029439e-04,\n",
              "       2.51705891e-04, 2.50901553e-04, 2.49437735e-04, 2.48023905e-04,\n",
              "       2.46862591e-04, 2.44915827e-04, 2.44106976e-04, 2.43801006e-04,\n",
              "       2.42110461e-04, 2.40187365e-04, 2.40131785e-04, 2.39121598e-04,\n",
              "       2.38420906e-04, 2.37120636e-04, 2.35608395e-04, 2.34281224e-04,\n",
              "       2.33882379e-04, 2.32953225e-04, 2.31801440e-04, 2.31217176e-04,\n",
              "       2.29319390e-04, 2.27676041e-04, 2.27108669e-04, 2.26390974e-04,\n",
              "       2.24955912e-04, 2.23909879e-04, 2.22658025e-04, 2.22367896e-04,\n",
              "       2.21481298e-04, 2.20814236e-04, 2.19099295e-04, 2.18489466e-04,\n",
              "       2.17495595e-04, 2.16811595e-04, 2.15290984e-04, 2.14862950e-04,\n",
              "       2.13854428e-04, 2.13073488e-04, 2.12231539e-04, 2.10793260e-04,\n",
              "       2.10161077e-04, 2.09619116e-04, 2.09279344e-04, 2.07477992e-04,\n",
              "       2.07294013e-04, 2.05968330e-04, 2.05389773e-04, 2.05017872e-04,\n",
              "       2.03991782e-04, 2.02500552e-04, 2.01896442e-04, 2.01547333e-04,\n",
              "       2.00303865e-04, 1.99849138e-04, 1.99260344e-04, 1.97936173e-04,\n",
              "       1.97288212e-04, 1.96840652e-04, 1.95967375e-04, 1.95269819e-04,\n",
              "       1.95051672e-04, 1.93854429e-04, 1.93423697e-04, 1.93050295e-04,\n",
              "       1.92712177e-04, 1.92030518e-04, 1.91814549e-04, 1.90614947e-04,\n",
              "       1.90348260e-04, 1.89879142e-04, 1.89459264e-04, 1.88674566e-04,\n",
              "       1.88131533e-04, 1.88019595e-04, 1.86539901e-04, 1.85511018e-04,\n",
              "       1.84792763e-04, 1.83945226e-04, 1.83198076e-04, 1.82522255e-04,\n",
              "       1.82246283e-04, 1.80956038e-04, 1.80518293e-04, 1.80334646e-04,\n",
              "       1.79553047e-04, 1.79121664e-04, 1.78288427e-04, 1.77503048e-04,\n",
              "       1.77230973e-04, 1.76449733e-04, 1.76045553e-04, 1.75603159e-04,\n",
              "       1.75397062e-04, 1.74610903e-04, 1.74466088e-04, 1.73879065e-04,\n",
              "       1.73619124e-04, 1.73103677e-04, 1.72525343e-04, 1.71957234e-04,\n",
              "       1.71677474e-04, 1.71439596e-04, 1.70810927e-04, 1.70106513e-04,\n",
              "       1.69957896e-04, 1.69610741e-04, 1.69008080e-04, 1.68600057e-04,\n",
              "       1.68162757e-04, 1.67732891e-04, 1.67382509e-04, 1.66792955e-04,\n",
              "       1.66403607e-04, 1.65797818e-04, 1.65347483e-04, 1.65179355e-04,\n",
              "       1.64605516e-04, 1.64109107e-04, 1.63601010e-04, 1.63078619e-04,\n",
              "       1.63026002e-04, 1.62655698e-04, 1.61797240e-04, 1.61589494e-04,\n",
              "       1.60958660e-04, 1.60773818e-04, 1.60283917e-04, 1.60197902e-04,\n",
              "       1.59560269e-04, 1.59281433e-04, 1.59105169e-04, 1.58605836e-04,\n",
              "       1.58068356e-04, 1.57666905e-04, 1.56996110e-04, 1.56959892e-04,\n",
              "       1.56615456e-04, 1.56402394e-04, 1.55880025e-04, 1.55036989e-04,\n",
              "       1.54768742e-04, 1.54380783e-04, 1.53804828e-04, 1.53562902e-04,\n",
              "       1.53182523e-04, 1.52886213e-04, 1.52395041e-04, 1.52261883e-04,\n",
              "       1.51865762e-04, 1.51377523e-04, 1.51277174e-04, 1.50812049e-04,\n",
              "       1.50540350e-04, 1.50221376e-04, 1.49810787e-04, 1.49613325e-04,\n",
              "       1.49465988e-04, 1.49090307e-04, 1.48779287e-04, 1.48391335e-04,\n",
              "       1.48210356e-04, 1.47810933e-04, 1.47261332e-04, 1.46960127e-04,\n",
              "       1.46871790e-04, 1.46489122e-04, 1.46143446e-04, 1.46003164e-04,\n",
              "       1.45878343e-04, 1.45343014e-04, 1.44782176e-04, 1.44369074e-04,\n",
              "       1.44280278e-04, 1.44144402e-04, 1.43703434e-04, 1.43317801e-04,\n",
              "       1.43212722e-04, 1.42993213e-04, 1.42745651e-04, 1.42542441e-04,\n",
              "       1.42176181e-04, 1.41725888e-04, 1.41319945e-04, 1.41082691e-04,\n",
              "       1.40705270e-04, 1.40449934e-04, 1.40165040e-04, 1.40006208e-04,\n",
              "       1.39604602e-04, 1.39326747e-04, 1.39166788e-04, 1.38890962e-04,\n",
              "       1.38217571e-04, 1.37939331e-04, 1.37759469e-04, 1.37274164e-04,\n",
              "       1.37230171e-04, 1.36892384e-04, 1.36554233e-04, 1.36358909e-04,\n",
              "       1.36205811e-04, 1.35536627e-04, 1.35444786e-04, 1.35190257e-04,\n",
              "       1.34957471e-04, 1.34758198e-04, 1.34663212e-04, 1.34470855e-04,\n",
              "       1.33919190e-04, 1.33715520e-04, 1.33511392e-04, 1.33377359e-04,\n",
              "       1.33028878e-04, 1.32927053e-04, 1.32538628e-04, 1.32104494e-04,\n",
              "       1.32028307e-04, 1.31795172e-04, 1.31375226e-04, 1.31153941e-04])"
            ]
          },
          "metadata": {
            "tags": []
          },
          "execution_count": 20
        }
      ]
    },
    {
      "cell_type": "markdown",
      "metadata": {
        "id": "koLjSFQc0m6H",
        "colab_type": "text"
      },
      "source": [
        "# CUMSUM Plots"
      ]
    },
    {
      "cell_type": "markdown",
      "metadata": {
        "id": "ToAL3Mtd0rGG",
        "colab_type": "text"
      },
      "source": [
        "## Unscaled Data"
      ]
    },
    {
      "cell_type": "code",
      "metadata": {
        "id": "yiNBWzpfOQ7k",
        "colab_type": "code",
        "outputId": "26f0c87a-fe8f-4ed8-bb58-26d080ffd881",
        "colab": {
          "base_uri": "https://localhost:8080/",
          "height": 34
        }
      },
      "source": [
        "pca_cumsum = PCA()\n",
        "pca_cumsum.fit(kWhs)\n",
        "cumsum = np.cumsum(pca_cumsum.explained_variance_ratio_)\n",
        "dim = np.argmax(cumsum>= 0.95)+1\n",
        "print(dim)"
      ],
      "execution_count": 0,
      "outputs": [
        {
          "output_type": "stream",
          "text": [
            "10\n"
          ],
          "name": "stdout"
        }
      ]
    },
    {
      "cell_type": "code",
      "metadata": {
        "id": "g_TFw4Zg0pm8",
        "colab_type": "code",
        "outputId": "bcd48224-b715-4cfa-ac98-cf85f7805d86",
        "colab": {
          "base_uri": "https://localhost:8080/",
          "height": 34
        }
      },
      "source": [
        "pca_cumsum.explained_variance_ratio_.shape"
      ],
      "execution_count": 0,
      "outputs": [
        {
          "output_type": "execute_result",
          "data": {
            "text/plain": [
              "(1034,)"
            ]
          },
          "metadata": {
            "tags": []
          },
          "execution_count": 22
        }
      ]
    },
    {
      "cell_type": "code",
      "metadata": {
        "id": "DEsMEwd_2jSx",
        "colab_type": "code",
        "outputId": "91441eb8-3bb7-4f5b-f30b-d3ced106a1bf",
        "colab": {
          "base_uri": "https://localhost:8080/",
          "height": 500
        }
      },
      "source": [
        "plt.figure(figsize=(10,8))\n",
        "plt.plot(np.cumsum(pca_cumsum.explained_variance_ratio_))\n",
        "plt.xlabel('number of components')\n",
        "plt.ylabel('cumulative explained variance');"
      ],
      "execution_count": 0,
      "outputs": [
        {
          "output_type": "display_data",
          "data": {
            "image/png": "[encoded data removed]",
            "text/plain": [
              "<Figure size 720x576 with 1 Axes>"
            ]
          },
          "metadata": {
            "tags": [],
            "needs_background": "light"
          }
        }
      ]
    },
    {
      "cell_type": "markdown",
      "metadata": {
        "id": "JZUYIe2-6qN3",
        "colab_type": "text"
      },
      "source": [
        "## Standard Scaled Data"
      ]
    },
    {
      "cell_type": "code",
      "metadata": {
        "id": "LW9cg0wy63ct",
        "colab_type": "code",
        "outputId": "6f4c8d34-9c3c-417b-c7b5-2d7c2ea8e036",
        "colab": {
          "base_uri": "https://localhost:8080/",
          "height": 34
        }
      },
      "source": [
        "pca_cumsum_std = PCA()\n",
        "pca_cumsum_std.fit(X_standard)\n",
        "cumsum_std = np.cumsum(pca_cumsum_std.explained_variance_ratio_)\n",
        "dim_std = np.argmax(cumsum_std>= 0.95)+1\n",
        "print(dim_std)"
      ],
      "execution_count": 0,
      "outputs": [
        {
          "output_type": "stream",
          "text": [
            "648\n"
          ],
          "name": "stdout"
        }
      ]
    },
    {
      "cell_type": "code",
      "metadata": {
        "id": "0qHfOu1v6qmB",
        "colab_type": "code",
        "outputId": "29a0db1d-8747-4a20-fd9a-814cf97a1620",
        "colab": {
          "base_uri": "https://localhost:8080/",
          "height": 500
        }
      },
      "source": [
        "plt.figure(figsize=(10,8))\n",
        "plt.plot(np.cumsum(pca_cumsum_std.explained_variance_ratio_))\n",
        "plt.xlabel('number of components')\n",
        "plt.ylabel('cumulative explained variance');"
      ],
      "execution_count": 0,
      "outputs": [
        {
          "output_type": "display_data",
          "data": {
            "image/png": "[encoded data removed]",
            "text/plain": [
              "<Figure size 720x576 with 1 Axes>"
            ]
          },
          "metadata": {
            "tags": [],
            "needs_background": "light"
          }
        }
      ]
    },
    {
      "cell_type": "markdown",
      "metadata": {
        "id": "QEZzVNrx7iDh",
        "colab_type": "text"
      },
      "source": [
        "## MinMax Scaled Data"
      ]
    },
    {
      "cell_type": "code",
      "metadata": {
        "id": "GThNGq1r7k2A",
        "colab_type": "code",
        "outputId": "1b66bd15-0df1-4173-8681-ef2e6385bc0a",
        "colab": {
          "base_uri": "https://localhost:8080/",
          "height": 34
        }
      },
      "source": [
        "pca_cumsum_MinMax = PCA()\n",
        "pca_cumsum_MinMax.fit(X_MinMax)\n",
        "cumsum_MinMax = np.cumsum(pca_cumsum_MinMax.explained_variance_ratio_)\n",
        "dim_MinMax = np.argmax(cumsum_MinMax>= 0.95)+1\n",
        "print(dim_MinMax)"
      ],
      "execution_count": 0,
      "outputs": [
        {
          "output_type": "stream",
          "text": [
            "400\n"
          ],
          "name": "stdout"
        }
      ]
    },
    {
      "cell_type": "code",
      "metadata": {
        "id": "V7XE9C0n7vwI",
        "colab_type": "code",
        "outputId": "cdc3e5d1-fe79-4b73-f2a0-b73733b95acc",
        "colab": {
          "base_uri": "https://localhost:8080/",
          "height": 500
        }
      },
      "source": [
        "plt.figure(figsize=(10,8))\n",
        "plt.plot(np.cumsum(pca_cumsum_MinMax.explained_variance_ratio_))\n",
        "plt.xlabel('number of components')\n",
        "plt.ylabel('cumulative explained variance');"
      ],
      "execution_count": 0,
      "outputs": [
        {
          "output_type": "display_data",
          "data": {
            "image/png": "[encoded data removed]",
            "text/plain": [
              "<Figure size 720x576 with 1 Axes>"
            ]
          },
          "metadata": {
            "tags": [],
            "needs_background": "light"
          }
        }
      ]
    },
    {
      "cell_type": "markdown",
      "metadata": {
        "id": "-jRtNZLlRHJO",
        "colab_type": "text"
      },
      "source": [
        "# Feature Importance Experimentation"
      ]
    },
    {
      "cell_type": "markdown",
      "metadata": {
        "id": "hF0a1nkPRT7Q",
        "colab_type": "text"
      },
      "source": [
        "## Unscaled Data"
      ]
    },
    {
      "cell_type": "code",
      "metadata": {
        "id": "SI_d4UeQ8G1_",
        "colab_type": "code",
        "outputId": "3585bfab-6100-45da-c713-be2881300dfe",
        "colab": {
          "base_uri": "https://localhost:8080/",
          "height": 721
        }
      },
      "source": [
        "def myplot(score,coeff,labels=None):\n",
        "    xs = score[:,0]\n",
        "    ys = score[:,1]\n",
        "    n = coeff.shape[0]\n",
        "    scalex = 1.0/(xs.max() - xs.min())\n",
        "    scaley = 1.0/(ys.max() - ys.min())\n",
        "    plt.scatter(xs * scalex,ys * scaley, c = labels)\n",
        "    for i in range(n):\n",
        "        plt.arrow(0, 0, coeff[i,0], coeff[i,1],color = 'r',alpha = 0.5)\n",
        "        if labels is None:\n",
        "            plt.text(coeff[i,0]* 1.15, coeff[i,1] * 1.15, \"Var\"+str(i+1), color = 'g', ha = 'center', va = 'center')\n",
        "        else:\n",
        "            plt.text(coeff[i,0]* 1.15, coeff[i,1] * 1.15, labels[i], color = 'g', ha = 'center', va = 'center')\n",
        "plt.figure(figsize=(10,10))\n",
        "plt.xlim(-0.1,0.1)\n",
        "plt.ylim(-0.1,0.1)\n",
        "plt.xlabel(\"PC{}\".format(1))\n",
        "plt.ylabel(\"PC{}\".format(2))\n",
        "plt.grid()\n",
        "\n",
        "#Call the function. Use only the 2 PCs.\n",
        "myplot(X_reduced[:,0:10],np.transpose(pca.components_[0:10, :]))\n",
        "plt.show()\n"
      ],
      "execution_count": 0,
      "outputs": [
        {
          "output_type": "display_data",
          "data": {
            "image/png": "[encoded data removed]",
            "text/plain": [
              "<Figure size 720x720 with 1 Axes>"
            ]
          },
          "metadata": {
            "tags": []
          }
        }
      ]
    },
    {
      "cell_type": "code",
      "metadata": {
        "id": "siHSe150-2JO",
        "colab_type": "code",
        "outputId": "fc90cb39-63bd-4e8c-8342-94756997a65c",
        "colab": {
          "base_uri": "https://localhost:8080/",
          "height": 247
        }
      },
      "source": [
        "print(abs( pca.components_ ))"
      ],
      "execution_count": 0,
      "outputs": [
        {
          "output_type": "stream",
          "text": [
            "[[3.94302585e-03 3.77944426e-03 4.45528598e-03 ... 5.57082846e-02\n",
            "  5.07048038e-02 4.59968042e-02]\n",
            " [3.14185930e-02 2.03005761e-02 2.28941637e-02 ... 8.32943704e-04\n",
            "  7.25626079e-03 2.92571298e-04]\n",
            " [5.57330711e-03 4.10523042e-03 4.61932104e-03 ... 2.99520813e-04\n",
            "  1.02776471e-03 5.43100543e-04]\n",
            " ...\n",
            " [9.09990604e-05 3.35998456e-02 3.32610451e-02 ... 1.94243290e-02\n",
            "  1.26371367e-03 5.11342421e-04]\n",
            " [4.51233180e-03 8.75247351e-03 1.04725823e-02 ... 2.43466333e-03\n",
            "  5.06504791e-03 1.78631791e-03]\n",
            " [2.04369720e-02 5.86433044e-02 7.53139907e-02 ... 1.75624016e-02\n",
            "  5.36114994e-02 3.99066274e-02]]\n"
          ],
          "name": "stdout"
        }
      ]
    },
    {
      "cell_type": "code",
      "metadata": {
        "id": "oj082cjB_9ik",
        "colab_type": "code",
        "outputId": "4dcfc223-bd91-4876-97b3-a29a1374f403",
        "colab": {
          "base_uri": "https://localhost:8080/",
          "height": 34
        }
      },
      "source": [
        "n_pcs = pca.components_.shape[0]\n",
        "print(n_pcs)\n",
        "\n",
        "# get the index of the most important feature on EACH component\n",
        "# LIST COMPREHENSION HERE\n",
        "most_important = [np.abs(pca.components_[i]).argmax() for i in range(n_pcs)]\n",
        "\n",
        "initial_feature_names = range(1,1034)\n",
        "# get the names\n",
        "most_important_names = [initial_feature_names[most_important[i]] for i in range(n_pcs)]\n",
        "\n",
        "# LIST COMPREHENSION HERE AGAIN\n",
        "dic = {'PC{}'.format(i): most_important_names[i] for i in range(n_pcs)}\n",
        "\n",
        "# build the dataframe\n",
        "df = pd.DataFrame(dic.items())"
      ],
      "execution_count": 0,
      "outputs": [
        {
          "output_type": "stream",
          "text": [
            "10\n"
          ],
          "name": "stdout"
        }
      ]
    },
    {
      "cell_type": "code",
      "metadata": {
        "id": "1AFi4uu5W-iK",
        "colab_type": "code",
        "colab": {}
      },
      "source": [
        "df['variance ratio'] = pca.explained_variance_ratio_"
      ],
      "execution_count": 0,
      "outputs": []
    },
    {
      "cell_type": "code",
      "metadata": {
        "id": "iUHrqmtAR-qP",
        "colab_type": "code",
        "colab": {}
      },
      "source": [
        "df.columns = ['principal components', ' feature number', 'variance ratio']"
      ],
      "execution_count": 0,
      "outputs": []
    },
    {
      "cell_type": "code",
      "metadata": {
        "id": "oe-O8JIrWua5",
        "colab_type": "code",
        "outputId": "9c7c81fc-bde0-4965-8079-d10a220c98fd",
        "colab": {
          "base_uri": "https://localhost:8080/",
          "height": 347
        }
      },
      "source": [
        "df"
      ],
      "execution_count": 0,
      "outputs": [
        {
          "output_type": "execute_result",
          "data": {
            "text/html": [
              "<div>\n",
              "<style scoped>\n",
              "    .dataframe tbody tr th:only-of-type {\n",
              "        vertical-align: middle;\n",
              "    }\n",
              "\n",
              "    .dataframe tbody tr th {\n",
              "        vertical-align: top;\n",
              "    }\n",
              "\n",
              "    .dataframe thead th {\n",
              "        text-align: right;\n",
              "    }\n",
              "</style>\n",
              "<table border=\"1\" class=\"dataframe\">\n",
              "  <thead>\n",
              "    <tr style=\"text-align: right;\">\n",
              "      <th></th>\n",
              "      <th>principal components</th>\n",
              "      <th>feature number</th>\n",
              "      <th>variance ratio</th>\n",
              "    </tr>\n",
              "  </thead>\n",
              "  <tbody>\n",
              "    <tr>\n",
              "      <th>0</th>\n",
              "      <td>PC0</td>\n",
              "      <td>924</td>\n",
              "      <td>0.620061</td>\n",
              "    </tr>\n",
              "    <tr>\n",
              "      <th>1</th>\n",
              "      <td>PC1</td>\n",
              "      <td>284</td>\n",
              "      <td>0.122121</td>\n",
              "    </tr>\n",
              "    <tr>\n",
              "      <th>2</th>\n",
              "      <td>PC2</td>\n",
              "      <td>282</td>\n",
              "      <td>0.079014</td>\n",
              "    </tr>\n",
              "    <tr>\n",
              "      <th>3</th>\n",
              "      <td>PC3</td>\n",
              "      <td>126</td>\n",
              "      <td>0.032394</td>\n",
              "    </tr>\n",
              "    <tr>\n",
              "      <th>4</th>\n",
              "      <td>PC4</td>\n",
              "      <td>181</td>\n",
              "      <td>0.029374</td>\n",
              "    </tr>\n",
              "    <tr>\n",
              "      <th>5</th>\n",
              "      <td>PC5</td>\n",
              "      <td>192</td>\n",
              "      <td>0.027722</td>\n",
              "    </tr>\n",
              "    <tr>\n",
              "      <th>6</th>\n",
              "      <td>PC6</td>\n",
              "      <td>127</td>\n",
              "      <td>0.017813</td>\n",
              "    </tr>\n",
              "    <tr>\n",
              "      <th>7</th>\n",
              "      <td>PC7</td>\n",
              "      <td>126</td>\n",
              "      <td>0.010682</td>\n",
              "    </tr>\n",
              "    <tr>\n",
              "      <th>8</th>\n",
              "      <td>PC8</td>\n",
              "      <td>25</td>\n",
              "      <td>0.007281</td>\n",
              "    </tr>\n",
              "    <tr>\n",
              "      <th>9</th>\n",
              "      <td>PC9</td>\n",
              "      <td>25</td>\n",
              "      <td>0.006779</td>\n",
              "    </tr>\n",
              "  </tbody>\n",
              "</table>\n",
              "</div>"
            ],
            "text/plain": [
              "  principal components   feature number  variance ratio\n",
              "0                  PC0              924        0.620061\n",
              "1                  PC1              284        0.122121\n",
              "2                  PC2              282        0.079014\n",
              "3                  PC3              126        0.032394\n",
              "4                  PC4              181        0.029374\n",
              "5                  PC5              192        0.027722\n",
              "6                  PC6              127        0.017813\n",
              "7                  PC7              126        0.010682\n",
              "8                  PC8               25        0.007281\n",
              "9                  PC9               25        0.006779"
            ]
          },
          "metadata": {
            "tags": []
          },
          "execution_count": 55
        }
      ]
    },
    {
      "cell_type": "markdown",
      "metadata": {
        "id": "M0e5D74IVr4U",
        "colab_type": "text"
      },
      "source": [
        "Above table precits that the 924th feature in the original dataset is the most important, when the dimension is reduced on unscaled data. it holds about 62% variance. this ofc is just for experimenting. later on feature importance will be applied on scaled data and a dataframe with variance ration and absolute feature importance ratio will be generated/"
      ]
    },
    {
      "cell_type": "markdown",
      "metadata": {
        "id": "VY95xyxQXaLi",
        "colab_type": "text"
      },
      "source": [
        "## Standard Scaled Data"
      ]
    },
    {
      "cell_type": "code",
      "metadata": {
        "id": "hMZmM_psXcb4",
        "colab_type": "code",
        "outputId": "58d225db-89df-4cc1-8ba4-4ec8375fabdd",
        "colab": {
          "base_uri": "https://localhost:8080/",
          "height": 34
        }
      },
      "source": [
        "n_pcs_std = pca_scaled_std.components_.shape[0]\n",
        "print(n_pcs_std)\n",
        "\n",
        "# get the index of the most important feature on EACH component\n",
        "# LIST COMPREHENSION HERE\n",
        "most_important = [np.abs(pca_scaled_std.components_[i]).argmax() for i in range(n_pcs_std)]\n",
        "\n",
        "initial_feature_names = range(1,1034)\n",
        "# get the names\n",
        "most_important_names = [initial_feature_names[most_important[i]] for i in range(n_pcs_std)]\n",
        "\n",
        "# LIST COMPREHENSION HERE AGAIN\n",
        "dic = {'PC{}'.format(i): most_important_names[i] for i in range(n_pcs_std)}\n",
        "\n",
        "# build the dataframe\n",
        "df_std = pd.DataFrame(dic.items())"
      ],
      "execution_count": 0,
      "outputs": [
        {
          "output_type": "stream",
          "text": [
            "648\n"
          ],
          "name": "stdout"
        }
      ]
    },
    {
      "cell_type": "code",
      "metadata": {
        "id": "Xazstt69Y_63",
        "colab_type": "code",
        "colab": {}
      },
      "source": [
        "df_std['variance ratio'] = pca_scaled_std.explained_variance_ratio_"
      ],
      "execution_count": 0,
      "outputs": []
    },
    {
      "cell_type": "code",
      "metadata": {
        "id": "GV4GZ4LZZFzB",
        "colab_type": "code",
        "colab": {}
      },
      "source": [
        "df_std.columns = ['principal components', ' feature number', 'variance ratio']"
      ],
      "execution_count": 0,
      "outputs": []
    },
    {
      "cell_type": "code",
      "metadata": {
        "id": "R3jh4CSlZQfI",
        "colab_type": "code",
        "outputId": "6a8b94fa-d49f-4655-f345-d81333494954",
        "colab": {
          "base_uri": "https://localhost:8080/",
          "height": 647
        }
      },
      "source": [
        "df_std.head(20)"
      ],
      "execution_count": 0,
      "outputs": [
        {
          "output_type": "execute_result",
          "data": {
            "text/html": [
              "<div>\n",
              "<style scoped>\n",
              "    .dataframe tbody tr th:only-of-type {\n",
              "        vertical-align: middle;\n",
              "    }\n",
              "\n",
              "    .dataframe tbody tr th {\n",
              "        vertical-align: top;\n",
              "    }\n",
              "\n",
              "    .dataframe thead th {\n",
              "        text-align: right;\n",
              "    }\n",
              "</style>\n",
              "<table border=\"1\" class=\"dataframe\">\n",
              "  <thead>\n",
              "    <tr style=\"text-align: right;\">\n",
              "      <th></th>\n",
              "      <th>principal components</th>\n",
              "      <th>feature number</th>\n",
              "      <th>variance ratio</th>\n",
              "    </tr>\n",
              "  </thead>\n",
              "  <tbody>\n",
              "    <tr>\n",
              "      <th>0</th>\n",
              "      <td>PC0</td>\n",
              "      <td>962</td>\n",
              "      <td>0.202720</td>\n",
              "    </tr>\n",
              "    <tr>\n",
              "      <th>1</th>\n",
              "      <td>PC1</td>\n",
              "      <td>46</td>\n",
              "      <td>0.088756</td>\n",
              "    </tr>\n",
              "    <tr>\n",
              "      <th>2</th>\n",
              "      <td>PC2</td>\n",
              "      <td>940</td>\n",
              "      <td>0.079167</td>\n",
              "    </tr>\n",
              "    <tr>\n",
              "      <th>3</th>\n",
              "      <td>PC3</td>\n",
              "      <td>25</td>\n",
              "      <td>0.044681</td>\n",
              "    </tr>\n",
              "    <tr>\n",
              "      <th>4</th>\n",
              "      <td>PC4</td>\n",
              "      <td>768</td>\n",
              "      <td>0.037365</td>\n",
              "    </tr>\n",
              "    <tr>\n",
              "      <th>5</th>\n",
              "      <td>PC5</td>\n",
              "      <td>414</td>\n",
              "      <td>0.030775</td>\n",
              "    </tr>\n",
              "    <tr>\n",
              "      <th>6</th>\n",
              "      <td>PC6</td>\n",
              "      <td>769</td>\n",
              "      <td>0.020665</td>\n",
              "    </tr>\n",
              "    <tr>\n",
              "      <th>7</th>\n",
              "      <td>PC7</td>\n",
              "      <td>717</td>\n",
              "      <td>0.018085</td>\n",
              "    </tr>\n",
              "    <tr>\n",
              "      <th>8</th>\n",
              "      <td>PC8</td>\n",
              "      <td>30</td>\n",
              "      <td>0.014679</td>\n",
              "    </tr>\n",
              "    <tr>\n",
              "      <th>9</th>\n",
              "      <td>PC9</td>\n",
              "      <td>415</td>\n",
              "      <td>0.013445</td>\n",
              "    </tr>\n",
              "    <tr>\n",
              "      <th>10</th>\n",
              "      <td>PC10</td>\n",
              "      <td>770</td>\n",
              "      <td>0.011733</td>\n",
              "    </tr>\n",
              "    <tr>\n",
              "      <th>11</th>\n",
              "      <td>PC11</td>\n",
              "      <td>581</td>\n",
              "      <td>0.009601</td>\n",
              "    </tr>\n",
              "    <tr>\n",
              "      <th>12</th>\n",
              "      <td>PC12</td>\n",
              "      <td>902</td>\n",
              "      <td>0.008708</td>\n",
              "    </tr>\n",
              "    <tr>\n",
              "      <th>13</th>\n",
              "      <td>PC13</td>\n",
              "      <td>75</td>\n",
              "      <td>0.007756</td>\n",
              "    </tr>\n",
              "    <tr>\n",
              "      <th>14</th>\n",
              "      <td>PC14</td>\n",
              "      <td>769</td>\n",
              "      <td>0.006771</td>\n",
              "    </tr>\n",
              "    <tr>\n",
              "      <th>15</th>\n",
              "      <td>PC15</td>\n",
              "      <td>786</td>\n",
              "      <td>0.006286</td>\n",
              "    </tr>\n",
              "    <tr>\n",
              "      <th>16</th>\n",
              "      <td>PC16</td>\n",
              "      <td>30</td>\n",
              "      <td>0.005924</td>\n",
              "    </tr>\n",
              "    <tr>\n",
              "      <th>17</th>\n",
              "      <td>PC17</td>\n",
              "      <td>970</td>\n",
              "      <td>0.005681</td>\n",
              "    </tr>\n",
              "    <tr>\n",
              "      <th>18</th>\n",
              "      <td>PC18</td>\n",
              "      <td>10</td>\n",
              "      <td>0.004932</td>\n",
              "    </tr>\n",
              "    <tr>\n",
              "      <th>19</th>\n",
              "      <td>PC19</td>\n",
              "      <td>577</td>\n",
              "      <td>0.004633</td>\n",
              "    </tr>\n",
              "  </tbody>\n",
              "</table>\n",
              "</div>"
            ],
            "text/plain": [
              "   principal components   feature number  variance ratio\n",
              "0                   PC0              962        0.202720\n",
              "1                   PC1               46        0.088756\n",
              "2                   PC2              940        0.079167\n",
              "3                   PC3               25        0.044681\n",
              "4                   PC4              768        0.037365\n",
              "5                   PC5              414        0.030775\n",
              "6                   PC6              769        0.020665\n",
              "7                   PC7              717        0.018085\n",
              "8                   PC8               30        0.014679\n",
              "9                   PC9              415        0.013445\n",
              "10                 PC10              770        0.011733\n",
              "11                 PC11              581        0.009601\n",
              "12                 PC12              902        0.008708\n",
              "13                 PC13               75        0.007756\n",
              "14                 PC14              769        0.006771\n",
              "15                 PC15              786        0.006286\n",
              "16                 PC16               30        0.005924\n",
              "17                 PC17              970        0.005681\n",
              "18                 PC18               10        0.004932\n",
              "19                 PC19              577        0.004633"
            ]
          },
          "metadata": {
            "tags": []
          },
          "execution_count": 60
        }
      ]
    },
    {
      "cell_type": "markdown",
      "metadata": {
        "id": "cYTBYy9JZZ9i",
        "colab_type": "text"
      },
      "source": [
        "# Training SVM on Standard scaled Reduced Data"
      ]
    },
    {
      "cell_type": "code",
      "metadata": {
        "id": "N7D6ihexZfAH",
        "colab_type": "code",
        "colab": {}
      },
      "source": [
        "# 80 20 split\n",
        "X_train, X_test, y_train, y_test = train_test_split(X_reduced_scaled_std, \n",
        "                                                    labels, \n",
        "                                                    test_size=0.2, \n",
        "                                                    random_state=0, \n",
        "                                                    stratify=labels)"
      ],
      "execution_count": 0,
      "outputs": []
    },
    {
      "cell_type": "code",
      "metadata": {
        "id": "mVdpVq3iaWub",
        "colab_type": "code",
        "outputId": "d38c72eb-e0de-42b5-eace-7cce18ba4b83",
        "colab": {
          "base_uri": "https://localhost:8080/",
          "height": 34
        }
      },
      "source": [
        "X_train.shape"
      ],
      "execution_count": 0,
      "outputs": [
        {
          "output_type": "execute_result",
          "data": {
            "text/plain": [
              "(33897, 648)"
            ]
          },
          "metadata": {
            "tags": []
          },
          "execution_count": 29
        }
      ]
    },
    {
      "cell_type": "code",
      "metadata": {
        "id": "ZRCFDkpZ6QEo",
        "colab_type": "code",
        "outputId": "36612b5f-f180-4f86-9a3f-029c8ab5ebbc",
        "colab": {
          "base_uri": "https://localhost:8080/",
          "height": 34
        }
      },
      "source": [
        "y_train.shape"
      ],
      "execution_count": 0,
      "outputs": [
        {
          "output_type": "execute_result",
          "data": {
            "text/plain": [
              "(33897,)"
            ]
          },
          "metadata": {
            "tags": []
          },
          "execution_count": 30
        }
      ]
    },
    {
      "cell_type": "code",
      "metadata": {
        "id": "2q7pQkSYaZNc",
        "colab_type": "code",
        "outputId": "7953394b-cb7c-4294-988b-3a53a4d3be6d",
        "colab": {
          "base_uri": "https://localhost:8080/",
          "height": 34
        }
      },
      "source": [
        "X_reduced_scaled_std.shape"
      ],
      "execution_count": 0,
      "outputs": [
        {
          "output_type": "execute_result",
          "data": {
            "text/plain": [
              "(42372, 648)"
            ]
          },
          "metadata": {
            "tags": []
          },
          "execution_count": 31
        }
      ]
    },
    {
      "cell_type": "code",
      "metadata": {
        "id": "mUqI2g4AabDe",
        "colab_type": "code",
        "colab": {}
      },
      "source": [
        "from sklearn import svm\n",
        "# building model with zheng's params\n",
        "svc_zheng_std = svm.SVC(C=1.0, kernel='rbf', random_state=0, probability = True, verbose=True)"
      ],
      "execution_count": 0,
      "outputs": []
    },
    {
      "cell_type": "code",
      "metadata": {
        "id": "qjN6Cf-raewJ",
        "colab_type": "code",
        "outputId": "bf959ed8-cc28-4027-d308-05b57822b028",
        "colab": {
          "base_uri": "https://localhost:8080/",
          "height": 34
        }
      },
      "source": [
        "import time\n",
        "\n",
        "# Record start time \n",
        "t_start = time.time() \n",
        "\n",
        "# Fit the SVC\n",
        "svc_zheng_std.fit(X_train, y_train)\n",
        "\n",
        "# Record end time \n",
        "t_end = time.time()\n",
        "\n",
        "# Print time for training\n",
        "print((t_end - t_start) / 60)"
      ],
      "execution_count": 0,
      "outputs": [
        {
          "output_type": "stream",
          "text": [
            "[LibSVM]120.97143535614013\n"
          ],
          "name": "stdout"
        }
      ]
    },
    {
      "cell_type": "code",
      "metadata": {
        "id": "BCaEXqKnap-c",
        "colab_type": "code",
        "colab": {}
      },
      "source": [
        "def get_classification_result(estimator, X, y_true, classifier_name=None, \n",
        "                              normalize_conf_mat='all'):\n",
        "  # Get the predicted classes for this classifier\n",
        "  y_pred = estimator.predict(X)\n",
        "\n",
        "  # Display the classification report\n",
        "  print(\"CLASSIFICATION REPORT\")\n",
        "  print(classification_report(y_true, y_pred, labels=[0, 1], \n",
        "                              target_names=['Regular Consumer', 'Thief']))\n",
        "  \n",
        "  # Confusion Matrix processing \n",
        "  if (normalize_conf_mat=='rows'):\n",
        "    normalize = 'true'\n",
        "  elif normalize_conf_mat=='cols':\n",
        "    normalize = 'pred'\n",
        "  else:\n",
        "    normalize = normalize_conf_mat\n",
        "\n",
        "  # Use built-in function to get confusion matrix\n",
        "  conf_mat_display = plot_confusion_matrix(estimator, \n",
        "                                           X, y_true, \n",
        "                                           labels=[0, 1], \n",
        "                                           normalize=normalize,\n",
        "                                           display_labels=['Regular Consumers', 'Thieves'], \n",
        "                                           cmap='Blues')\n",
        "  \n",
        "  # Render the confusion matrix\n",
        "  print(conf_mat_display.confusion_matrix)\n",
        "\n",
        "  # Do not render the grid lines in the confusion matrix\n",
        "  plt.grid(False)\n",
        "\n",
        "  # Add a title to the confusion matrix\n",
        "  conf_mat_display.ax_.set_title('Confusion Matrix' + \n",
        "                                 ('' if classifier_name is None else ' - {}'.format(classifier_name)), \n",
        "                                 fontsize=18)\n",
        "  \n",
        "  # Display ROC curve\n",
        "  roc_curve_display = plot_roc_curve(estimator, X, y_true)\n",
        "  roc_curve_display.ax_.set_title('ROC Curve' + ('' if classifier_name is None \n",
        "                                     else ' - {}'.format(classifier_name)), \n",
        "               fontsize=18);\n"
      ],
      "execution_count": 0,
      "outputs": []
    },
    {
      "cell_type": "code",
      "metadata": {
        "id": "WpWUcUSSrHjN",
        "colab_type": "code",
        "outputId": "e823518e-9e20-4bb7-a563-ad0a4637b9d9",
        "colab": {
          "base_uri": "https://localhost:8080/",
          "height": 800
        }
      },
      "source": [
        "# Scikit-Learn imports - Classification resutlts\n",
        "from sklearn.metrics import classification_report, plot_confusion_matrix, plot_roc_curve, roc_auc_score\n",
        "\n",
        "get_classification_result(estimator=svc_zheng_std, \n",
        "                          X=X_test, \n",
        "                          y_true=y_test, \n",
        "                          classifier_name='SVC Zheng (Std) - C = 1.0, RBF Kernel')"
      ],
      "execution_count": 0,
      "outputs": [
        {
          "output_type": "stream",
          "text": [
            "CLASSIFICATION REPORT\n",
            "                  precision    recall  f1-score   support\n",
            "\n",
            "Regular Consumer       0.92      1.00      0.96      7752\n",
            "           Thief       0.92      0.02      0.03       723\n",
            "\n",
            "        accuracy                           0.92      8475\n",
            "       macro avg       0.92      0.51      0.49      8475\n",
            "    weighted avg       0.92      0.92      0.88      8475\n",
            "\n",
            "[[9.14572271e-01 1.17994100e-04]\n",
            " [8.38938053e-02 1.41592920e-03]]\n"
          ],
          "name": "stdout"
        },
        {
          "output_type": "display_data",
          "data": {
            "image/png": "[encoded data removed]",
            "text/plain": [
              "<Figure size 432x288 with 2 Axes>"
            ]
          },
          "metadata": {
            "tags": []
          }
        },
        {
          "output_type": "display_data",
          "data": {
            "image/png": "[encoded data removed]",
            "text/plain": [
              "<Figure size 432x288 with 1 Axes>"
            ]
          },
          "metadata": {
            "tags": []
          }
        }
      ]
    },
    {
      "cell_type": "code",
      "metadata": {
        "id": "aBjyOUS_rH8O",
        "colab_type": "code",
        "outputId": "06b32440-8a27-41bf-b76e-37c1e0af62a4",
        "colab": {
          "base_uri": "https://localhost:8080/",
          "height": 34
        }
      },
      "source": [
        "from joblib import dump, load\n",
        "dump(svc_zheng_std, 'SVC_Zheng_80%_STD_PCA.joblib') "
      ],
      "execution_count": 0,
      "outputs": [
        {
          "output_type": "execute_result",
          "data": {
            "text/plain": [
              "['SVC_Zheng_80%_STD_PCA.joblib']"
            ]
          },
          "metadata": {
            "tags": []
          },
          "execution_count": 82
        }
      ]
    },
    {
      "cell_type": "code",
      "metadata": {
        "id": "JeIiUQyg5Bgz",
        "colab_type": "code",
        "colab": {}
      },
      "source": [
        ""
      ],
      "execution_count": 0,
      "outputs": []
    }
  ]
}