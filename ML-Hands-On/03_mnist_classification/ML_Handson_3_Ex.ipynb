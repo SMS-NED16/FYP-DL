{
 "cells": [
  {
   "cell_type": "markdown",
   "metadata": {
    "colab_type": "text",
    "id": "g9zxNENETgcx"
   },
   "source": [
    "# Hands-on ML Chapter 3 - Exercises"
   ]
  },
  {
   "cell_type": "markdown",
   "metadata": {
    "colab_type": "text",
    "id": "-EhMuBjhT6VH"
   },
   "source": [
    "## Exercise 1 - MNIST Classifier with 97%+ Accuracy"
   ]
  },
  {
   "cell_type": "code",
   "execution_count": 1,
   "metadata": {
    "colab": {},
    "colab_type": "code",
    "id": "hL595YEzUKre"
   },
   "outputs": [],
   "source": [
    "# Confirm Python version >= 3.5\n",
    "import sys\n",
    "assert sys.version_info >= (3, 5)\n",
    "\n",
    "# Confirm sklearn version >= 0.20\n",
    "import sklearn\n",
    "assert sklearn.__version__ >= \"0.20\"\n",
    "\n",
    "# helper libraries\n",
    "import numpy as np\n",
    "import pandas as pd \n",
    "\n",
    "# importing and configuring matplotlib\n",
    "import matplotlib.pyplot as plt \n",
    "%matplotlib inline \n",
    "import matplotlib as mpl\n",
    "mpl.rc('axes', labelsize=14)\n",
    "mpl.rc('xtick', labelsize=12)\n",
    "mpl.rc('ytick', labelsize=12)"
   ]
  },
  {
   "cell_type": "markdown",
   "metadata": {
    "colab_type": "text",
    "id": "haIKbnPlUvab"
   },
   "source": [
    "### Importing Data"
   ]
  },
  {
   "cell_type": "code",
   "execution_count": 2,
   "metadata": {
    "colab": {},
    "colab_type": "code",
    "id": "5wlCOL8_U2nt"
   },
   "outputs": [],
   "source": [
    "from sklearn.datasets import fetch_openml\n",
    "mnist = fetch_openml('mnist_784', version=1)"
   ]
  },
  {
   "cell_type": "code",
   "execution_count": 3,
   "metadata": {
    "colab": {
     "base_uri": "https://localhost:8080/",
     "height": 51
    },
    "colab_type": "code",
    "id": "EDYfFl0eU8WV",
    "outputId": "96bc16e4-d2fe-481d-e34c-43977eee861f"
   },
   "outputs": [
    {
     "name": "stdout",
     "output_type": "stream",
     "text": [
      "X shape:  (70000, 784)\n",
      "y shape:  (70000,)\n"
     ]
    }
   ],
   "source": [
    "# Extract target and features\n",
    "X, y = mnist['data'], mnist['target']\n",
    "\n",
    "# Confirm shapes\n",
    "print(\"X shape: \", X.shape)\n",
    "print(\"y shape: \", y.shape)"
   ]
  },
  {
   "cell_type": "code",
   "execution_count": 4,
   "metadata": {
    "colab": {},
    "colab_type": "code",
    "id": "v4vfKNduVHTF"
   },
   "outputs": [],
   "source": [
    "# Cast labels to unsigned 8 bit integers\n",
    "y = y.astype(np.uint8)"
   ]
  },
  {
   "cell_type": "code",
   "execution_count": 5,
   "metadata": {
    "colab": {},
    "colab_type": "code",
    "id": "mSAkn3adVONd"
   },
   "outputs": [],
   "source": [
    "# Train-test split: first 60k are training, next 10k are test\n",
    "X_train, X_test, y_train, y_test = X[:60000], X[60000:], y[:60000], y[60000:]"
   ]
  },
  {
   "cell_type": "code",
   "execution_count": 6,
   "metadata": {
    "colab": {},
    "colab_type": "code",
    "id": "vu399vGJYvxK"
   },
   "outputs": [],
   "source": [
    "# Feature scaling for training and test features\n",
    "X_train_mean = np.mean(X_train)\n",
    "X_train_scaled = (X_train - X_train_mean) / 255.0\n",
    "X_test_scaled = (X_test - X_train_mean) / 255.0"
   ]
  },
  {
   "cell_type": "markdown",
   "metadata": {
    "colab_type": "text",
    "id": "TZLj8vHyVZlH"
   },
   "source": [
    "### Building Classifier"
   ]
  },
  {
   "cell_type": "code",
   "execution_count": 7,
   "metadata": {
    "colab": {},
    "colab_type": "code",
    "id": "Zh8a9RubVhrx"
   },
   "outputs": [],
   "source": [
    "from sklearn.neighbors import KNeighborsClassifier\n",
    "from sklearn.model_selection import GridSearchCV"
   ]
  },
  {
   "cell_type": "markdown",
   "metadata": {
    "colab_type": "text",
    "id": "QyMK9UgyVlpi"
   },
   "source": [
    "Of all the hyperparameters of the `KNeighborsClassifier`, we are choosing to optimise only 2.\n",
    "- `n_neighbors`: the number of nearest samples used to make a classification decision.\n",
    "- `weights`: the function used to compute the weight of the distance between two nearby points. If `uniform`, then all points are weighted equally. If `distance`, then weight decreases the farther away a neighbor is from a given point.\n",
    "Both are used to compute a within-cluster sum of squares that is then used a a loss function."
   ]
  },
  {
   "cell_type": "code",
   "execution_count": 8,
   "metadata": {
    "colab": {},
    "colab_type": "code",
    "id": "qDEvCbllWRWr"
   },
   "outputs": [],
   "source": [
    "# Defining parameter grid for searching\n",
    "param_grid =[{'weights': ['uniform', 'distance'], \n",
    "              'n_neighbors': [3, 4, 5]}]"
   ]
  },
  {
   "cell_type": "code",
   "execution_count": null,
   "metadata": {
    "colab": {
     "base_uri": "https://localhost:8080/",
     "height": 375
    },
    "colab_type": "code",
    "id": "UBaNQrwXWZui",
    "outputId": "2d8036b1-a396-4ea4-a3fa-2f142c1a640b"
   },
   "outputs": [
    {
     "name": "stdout",
     "output_type": "stream",
     "text": [
      "Fitting 3 folds for each of 6 candidates, totalling 18 fits\n"
     ]
    },
    {
     "name": "stderr",
     "output_type": "stream",
     "text": [
      "[Parallel(n_jobs=-1)]: Using backend LokyBackend with 4 concurrent workers.\n"
     ]
    }
   ],
   "source": [
    "# Instantiating a classifier\n",
    "knn_clf = KNeighborsClassifier()\n",
    "\n",
    "# 5-fold cross-validation for 6 different combinations of hyperparameters\n",
    "# Which means 30 different models will be trained\n",
    "grid_search = GridSearchCV(estimator=knn_clf, param_grid=param_grid, cv=3, verbose=4, \n",
    "                           n_jobs=-1)\n",
    "\n",
    "# Fit all models and find the optimal combination of hyperparams\n",
    "grid_search.fit(X_train_scaled, y_train)"
   ]
  },
  {
   "cell_type": "code",
   "execution_count": 0,
   "metadata": {
    "colab": {},
    "colab_type": "code",
    "id": "ABMR2qP_XHlh"
   },
   "outputs": [],
   "source": [
    "# What is the best combination of hyperparameters for this problem?\n",
    "grid_search.best_params_"
   ]
  },
  {
   "cell_type": "code",
   "execution_count": 0,
   "metadata": {
    "colab": {},
    "colab_type": "code",
    "id": "6_BMkToqYGOg"
   },
   "outputs": [],
   "source": [
    "# What is the accuracy for this combination of hyperparameters?\n",
    "grid_search.best_score_ # Default classification score metric for CV is accuracy?"
   ]
  },
  {
   "cell_type": "code",
   "execution_count": 0,
   "metadata": {
    "colab": {},
    "colab_type": "code",
    "id": "qryiwYIcYM4A"
   },
   "outputs": [],
   "source": [
    "# Carrying out predictions on the test set\n",
    "from sklearn.metrics import accuracy_score, confusion_matrix\n",
    "y_pred = grid_search.predict(X_test) # Will use optimal model\n",
    "accuracy_score(y_test, y_pred)\n",
    "\n",
    "# Confusion matrix\n",
    "conf_mat_knn = confusion_matrix(y_test, y_pred)"
   ]
  },
  {
   "cell_type": "markdown",
   "metadata": {
    "colab_type": "text",
    "id": "M478Evrja-6M"
   },
   "source": [
    "## Exercise 2 - Data Augmentation\n",
    "Writing a function that shifts an MNIST image in any direction (left/right/up/down) by one pixel. Then using this function to create four copies of each training set image by shifting the image in one of four possible directions. These copies are added to the training set to create an **augmented** training set.\n",
    "\n",
    "Will then train the base model (`SGDClassifier`) on this augmented training set and evaluate on test set to confirm that data augmentation has improved model performance."
   ]
  },
  {
   "cell_type": "code",
   "execution_count": 0,
   "metadata": {
    "colab": {},
    "colab_type": "code",
    "id": "ftq6bhQ1bT6Y"
   },
   "outputs": [],
   "source": [
    "from scipy.ndimage.interpolation import shift"
   ]
  },
  {
   "cell_type": "code",
   "execution_count": 0,
   "metadata": {
    "colab": {},
    "colab_type": "code",
    "id": "laRQzIBja_M0"
   },
   "outputs": [],
   "source": [
    "def shift_image(image, dx, dy):\n",
    "  # 784-dimensional vector must first be transformed into square image\n",
    "  image = image.reshape((28, 28))\n",
    "\n",
    "  # Use scipy's built-in image shifting function to add specified offsets\n",
    "  shifted_image = shift(image, [dy, dx], cval=0, mode='constant')\n",
    "\n",
    "  # Return the shifted image\n",
    "  return shifted_image.reshape([-1])"
   ]
  },
  {
   "cell_type": "code",
   "execution_count": 0,
   "metadata": {
    "colab": {},
    "colab_type": "code",
    "id": "Zk1T3UIvcMtP"
   },
   "outputs": [],
   "source": [
    "# Demonstrating the shifting process with a sample \n",
    "image = X_train_scaled[1000]\n",
    "shifted_image_down = shift_image(image, 0, 5)\n",
    "shifted_image_left = shift_image(image, -5, 0)\n",
    "\n",
    "# Display original and shifted images side by side\n",
    "plt.figure(figsize=(12, 3))\n",
    "plt.subplot(131)\n",
    "plt.title('Original', fontsize=14))\n",
    "plt.imshow(image.reshape(28, 28), interpolation='nearest', cmap='Greys')\n",
    "plt.subplot(132)\n",
    "plt.title('Shifted Down', fontsize=14)\n",
    "plt.imshow(shifted_image_down.reshape(28, 28), interpolation='nearest', cmap='Greys')\n",
    "plt.subplot(133)\n",
    "plt.title('Shifted Left', fontsize=14)\n",
    "plt.imshow(shifted_image_left.reshape(28, 28), interpolation='nearest', cmap='Greys')\n",
    "\n",
    "# Render all three\n",
    "plt.show()"
   ]
  },
  {
   "cell_type": "code",
   "execution_count": 0,
   "metadata": {
    "colab": {},
    "colab_type": "code",
    "id": "-7f8NLt2c_-Z"
   },
   "outputs": [],
   "source": [
    "# Applying up/down/left/right transformations to all training set images\n",
    "X_train_augmented = [image for image in X_train_scaled]\n",
    "y_train_augmented = [label for label in y_train]"
   ]
  },
  {
   "cell_type": "code",
   "execution_count": 0,
   "metadata": {
    "colab": {},
    "colab_type": "code",
    "id": "3kLkQq85dOC7"
   },
   "outputs": [],
   "source": [
    "# Single pixel shifts/offsets specified using dx and dy\n",
    "for dx, dy in ((1, 0), (-1, 0), (0, 1), (0, -1)):\n",
    "    for image, label in zip(X_train_augmented, y_train_augmented):\n",
    "    # New image\n",
    "    X_train_augmented.append(shift_image(image, dx, dy))\n",
    "    \n",
    "    # Label will remain unchanged\n",
    "    y_train_augmented.append(label))\n",
    "\n",
    "# Cast to np arrays that can be fed to sklearn models\n",
    "X_train_augmented = np.array(X_train_augmented)\n",
    "y_train_augmented = np.array(y_train_augmented)"
   ]
  },
  {
   "cell_type": "markdown",
   "metadata": {
    "colab_type": "text",
    "id": "ySI45B2xdpqF"
   },
   "source": [
    "Because shifted versions of each sample will have been added to the augmented training set in sequence, it is a good idea to shuffle the dataset. This ensures that there is no 'sequence' in which traning samples will be fed to the model."
   ]
  },
  {
   "cell_type": "code",
   "execution_count": 0,
   "metadata": {
    "colab": {},
    "colab_type": "code",
    "id": "98g5i5ZIeAe6"
   },
   "outputs": [],
   "source": [
    "# Array of shuffled indices for training set\n",
    "shuffle_idx = np.random.permutation(len(X_train_augmented))\n",
    "X_train_augmented = X_train_augmented[shuffle_idx]\n",
    "y_train_augmented = y_train_augmented[shuffle_idx]"
   ]
  },
  {
   "cell_type": "code",
   "execution_count": 0,
   "metadata": {
    "colab": {},
    "colab_type": "code",
    "id": "j0QOfWI_eJWA"
   },
   "outputs": [],
   "source": [
    "# Training a new KNN classifier with the hyperparams found previously\n",
    "knn_clf = KNeighborsClassifier(**grid_search.best_params) # Unpacking list"
   ]
  },
  {
   "cell_type": "code",
   "execution_count": 0,
   "metadata": {
    "colab": {},
    "colab_type": "code",
    "id": "mIIvI9YdgM79"
   },
   "outputs": [],
   "source": [
    "knn_clf.fit(X_train_augmented, y_train_augmented)"
   ]
  },
  {
   "cell_type": "code",
   "execution_count": 0,
   "metadata": {
    "colab": {},
    "colab_type": "code",
    "id": "nokPFCpegPJB"
   },
   "outputs": [],
   "source": [
    "# Prediction should have improved\n",
    "y_pred = knn_clf.predict(X_test)\n",
    "accuracy_score(y_test, y_pred)"
   ]
  },
  {
   "cell_type": "code",
   "execution_count": 0,
   "metadata": {
    "colab": {},
    "colab_type": "code",
    "id": "jj1bd-SCgUYa"
   },
   "outputs": [],
   "source": []
  }
 ],
 "metadata": {
  "accelerator": "GPU",
  "colab": {
   "name": "ML-Handson-3-Ex.ipynb",
   "provenance": []
  },
  "kernelspec": {
   "display_name": "Python 3",
   "language": "python",
   "name": "python3"
  },
  "language_info": {
   "codemirror_mode": {
    "name": "ipython",
    "version": 3
   },
   "file_extension": ".py",
   "mimetype": "text/x-python",
   "name": "python",
   "nbconvert_exporter": "python",
   "pygments_lexer": "ipython3",
   "version": "3.6.5"
  }
 },
 "nbformat": 4,
 "nbformat_minor": 1
}
