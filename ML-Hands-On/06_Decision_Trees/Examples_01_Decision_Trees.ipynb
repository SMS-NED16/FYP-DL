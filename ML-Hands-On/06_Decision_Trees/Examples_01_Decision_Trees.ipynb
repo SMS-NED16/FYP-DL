{
 "cells": [
  {
   "cell_type": "markdown",
   "metadata": {},
   "source": [
    "# Hands-on Machine Learning - Chapter 6\n",
    "# Decision Trees"
   ]
  },
  {
   "cell_type": "markdown",
   "metadata": {},
   "source": [
    "# Workplace Setup"
   ]
  },
  {
   "cell_type": "code",
   "execution_count": 1,
   "metadata": {},
   "outputs": [],
   "source": [
    "# Python v3.5 or above required \n",
    "import sys\n",
    "assert sys.version_info >= (3, 5)\n",
    "\n",
    "# Scikit-Learn >= 0.20 required\n",
    "import sklearn\n",
    "assert sklearn.__version__ >= \"0.20\"\n",
    "\n",
    "# Data and file manipulation instructions\n",
    "import numpy as np\n",
    "import os \n",
    "\n",
    "# Seed random number generator\n",
    "np.random.seed(42) \n",
    "\n",
    "# For plotting pretty figures\n",
    "import matplotlib as mpl \n",
    "import matplotlib.pyplot as plt \n",
    "mpl.rc('axes', labelsize=14)\n",
    "mpl.rc('xtick', labelsize=12)\n",
    "mpl.rc('ytick', labelsize=12)\n",
    "\n",
    "# Need to save figures to file for this notebook\n",
    "ROOT_DIR = \"./\"\n",
    "IMAGES_PATH = os.path.join(ROOT_DIR, 'images')\n",
    "os.makedirs(IMAGES_PATH, exist_ok=True)"
   ]
  },
  {
   "cell_type": "code",
   "execution_count": 2,
   "metadata": {},
   "outputs": [],
   "source": [
    "def save_fig(fig_id, tight_layout=True, fig_extension='png', resolution=300):\n",
    "    path = os.path.join(IMAGES_PATH, fig_id + \".\" + fig_extension)\n",
    "    print(\"Saving figure \", fig_id)\n",
    "    if tight_layout:\n",
    "        plt.tight_layout()\n",
    "    plt.savefig(path, format=fig_extension, dpi=resolution)"
   ]
  },
  {
   "cell_type": "markdown",
   "metadata": {},
   "source": [
    "# Training and Visualizing Trees"
   ]
  },
  {
   "cell_type": "code",
   "execution_count": 3,
   "metadata": {},
   "outputs": [],
   "source": [
    "from sklearn.datasets import load_iris\n",
    "from sklearn.tree import DecisionTreeClassifier"
   ]
  },
  {
   "cell_type": "code",
   "execution_count": 4,
   "metadata": {},
   "outputs": [],
   "source": [
    "# Loading the data\n",
    "iris = load_iris()"
   ]
  },
  {
   "cell_type": "code",
   "execution_count": 5,
   "metadata": {},
   "outputs": [],
   "source": [
    "# Extracting features and labels\n",
    "X = iris.data[:, 2:]   # Petal length and width\n",
    "y = iris.target "
   ]
  },
  {
   "cell_type": "code",
   "execution_count": 6,
   "metadata": {},
   "outputs": [],
   "source": [
    "# Instantiating a DecisionTreeClassifier\n",
    "tree_clf = DecisionTreeClassifier(max_depth=2)"
   ]
  },
  {
   "cell_type": "code",
   "execution_count": 7,
   "metadata": {},
   "outputs": [
    {
     "data": {
      "text/plain": [
       "DecisionTreeClassifier(class_weight=None, criterion='gini', max_depth=2,\n",
       "            max_features=None, max_leaf_nodes=None,\n",
       "            min_impurity_decrease=0.0, min_impurity_split=None,\n",
       "            min_samples_leaf=1, min_samples_split=2,\n",
       "            min_weight_fraction_leaf=0.0, presort=False, random_state=None,\n",
       "            splitter='best')"
      ]
     },
     "execution_count": 7,
     "metadata": {},
     "output_type": "execute_result"
    }
   ],
   "source": [
    "# Fitting it to the training data\n",
    "tree_clf.fit(X, y)"
   ]
  },
  {
   "cell_type": "markdown",
   "metadata": {},
   "source": [
    "It fit almost instantly. Is this bcause the `iris` dataset does not contain a lot of samples?"
   ]
  },
  {
   "cell_type": "code",
   "execution_count": 8,
   "metadata": {},
   "outputs": [
    {
     "data": {
      "text/plain": [
       "(150, 2)"
      ]
     },
     "execution_count": 8,
     "metadata": {},
     "output_type": "execute_result"
    }
   ],
   "source": [
    "X.shape"
   ]
  },
  {
   "cell_type": "markdown",
   "metadata": {},
   "source": [
    "Yes. There are only 2 features in for each sample, and there are only 150 samples."
   ]
  },
  {
   "cell_type": "markdown",
   "metadata": {},
   "source": [
    "## Visualizing a Decision Tree\n",
    "\n",
    "Using the `export_graphviz()` function, can make a `dot` file that can then be converted to PDF/PNG/SVG/JPEG or other image format. \n",
    "\n",
    "The `dot` file shows how the `DecisionTreeClassifier` learns to make classifications.\n",
    "\n",
    "The following two cells will save the `dotfile` in the specified directory. We will then have to convert it to an image by entering the following commands in the terminal.\n",
    "\n",
    "`$ dot -Tpng iris_tree.dot -o iris_tree.png`"
   ]
  },
  {
   "cell_type": "code",
   "execution_count": 9,
   "metadata": {},
   "outputs": [],
   "source": [
    "from sklearn.tree import export_graphviz"
   ]
  },
  {
   "cell_type": "code",
   "execution_count": 10,
   "metadata": {},
   "outputs": [],
   "source": [
    "export_graphviz(decision_tree=tree_clf, out_file=os.path.join(IMAGES_PATH, 'iris_tree.dot'), \n",
    "                                                             feature_names=iris.feature_names[2:], \n",
    "                                                             class_names=iris.target_names, \n",
    "                                                             rounded=True, \n",
    "                                                              filled=True)"
   ]
  },
  {
   "cell_type": "markdown",
   "metadata": {},
   "source": [
    "## Decision Tree Boundaries"
   ]
  },
  {
   "cell_type": "code",
   "execution_count": 11,
   "metadata": {},
   "outputs": [],
   "source": [
    "from matplotlib.colors import ListedColormap"
   ]
  },
  {
   "cell_type": "code",
   "execution_count": 12,
   "metadata": {},
   "outputs": [],
   "source": [
    "def plot_decision_boundary(clf, X, y, axes=[0., 7.5, 0, 3], iris=True, \n",
    "                          legend=False, plot_training=True):\n",
    "    \n",
    "    # Create 100 linearly spaced values between the endpoints of horizontal axis\n",
    "    x1s = np.linspace(axes[0], axes[1], 100)\n",
    "    \n",
    "    # Create 100 linearly spaced values between endpoints of vertical axis\n",
    "    x2s = np.linspace(axes[2], axes[3], 100)\n",
    "    \n",
    "    # Combine these values into a 100 x 100 grid of values - these are features\n",
    "    x1, x2 = np.meshgrid(x1s, x2s)\n",
    "    \n",
    "    # Make a column by concatenating all x1 values with all x2 values - these \n",
    "    # can be passed to the classifier as a numpy array of features for predictions\n",
    "    X_new = np.c_[x1.ravel(), x2.ravel()]\n",
    "    \n",
    "    # Make predictions on the entire space of x1 and x2 \n",
    "    y_pred = clf.predict(X_new).reshape(x1.shape)\n",
    "    \n",
    "    # Custom colours for the different regions our input space will be split into\n",
    "    custom_cmap = ListedColormap(['#fafab0','#9898ff','#a0faa0'])\n",
    "    \n",
    "    # Make a contour map - regions with same values of y will be coloured same according\n",
    "    # to the custom colormap we have defined\n",
    "    plt.contourf(x1, x2, y_pred, alpha=0.3, cmap=custom_cmap)\n",
    "    \n",
    "    # Change the colormap if not plotting the iris dataset\n",
    "    if not iris:\n",
    "        custom_cmap2 = ListedColormap(['#7d7d58','#4c4c7f','#507d50'])\n",
    "        plt.contour(x1, x2, y_pred, cmap=custom_cmap2, alpha=0.8)\n",
    "    \n",
    "    # If also plotting the training sample, index all feature pairs from features set\n",
    "    # which belong to a specific class. Assign them different labels and markers\n",
    "    if plot_training:\n",
    "        plt.plot(X[:, 0][y == 0], X[:, 1][y == 0], 'yo', label='Iris Setosa')\n",
    "        plt.plot(X[:, 0][y == 1], X[:, 1][y == 1], 'bs', label='Iris Versicolor')\n",
    "        plt.plot(X[:, 0][y == 2], X[:, 1][y == 2], 'g^', label='Iris Virginica')\n",
    "    \n",
    "    # Axes labels specific if plotting iris dataset, otherwise generic \n",
    "    if iris:\n",
    "        plt.xlabel('Petal Length', fontsize=14)\n",
    "        plt.ylabel('Petal Width', fontsize=14)\n",
    "    else:\n",
    "        plt.xlabel(r\"$x_1$\", fontsize=18)\n",
    "        plt.ylabel(r\"$x_2$\", fontsize=18, rotation=0)\n",
    "    \n",
    "    # If also plotting a legend, make sure it is on the lower right\n",
    "    if legend:\n",
    "        plt.legend(loc='lower right', fontsize=14)"
   ]
  },
  {
   "cell_type": "code",
   "execution_count": 13,
   "metadata": {},
   "outputs": [
    {
     "name": "stdout",
     "output_type": "stream",
     "text": [
      "Saving figure  decision_tree_decision_boundaries_plot\n"
     ]
    },
    {
     "data": {
      "image/png": "[encoded data removed]",
      "text/plain": [
       "<Figure size 864x432 with 1 Axes>"
      ]
     },
     "metadata": {},
     "output_type": "display_data"
    }
   ],
   "source": [
    "# Create a new figure in which to display the decision boundaries for the tree classifier\n",
    "plt.figure(figsize=(12, 6))\n",
    "\n",
    "# Using our predefined function\n",
    "plot_decision_boundary(tree_clf, X, y)\n",
    "\n",
    "# Manually plotting lines to mark decision boundaries\n",
    "plt.plot([2.45, 2.45], [0, 3], \"k-\", linewidth=2)\n",
    "plt.plot([2.45, 7.5], [1.75, 1.75], \"k--\", linewidth=2)\n",
    "plt.plot([4.95, 4.95], [0, 1.75], \"k:\", linewidth=2)\n",
    "plt.plot([4.85, 4.85], [1.75, 3], \"k:\", linewidth=2)\n",
    "\n",
    "# Manually adding depth labels - makes it easier to relate to the tree diagram\n",
    "plt.text(1.40, 1.0, \"Depth=0\", fontsize=15)\n",
    "plt.text(3.2, 1.80, \"Depth=1\", fontsize=13)\n",
    "plt.text(4.05, 0.5, \"(Depth=2)\", fontsize=11)\n",
    "\n",
    "# This is a nice diagram. I am going to save it \n",
    "save_fig('decision_tree_decision_boundaries_plot')"
   ]
  },
  {
   "cell_type": "markdown",
   "metadata": {},
   "source": [
    "# Predicting Classes and Class Probabilities\n",
    "\n",
    "What is the probability that a petal with length of 5cm and width 1.5cm belongs to each of the three classes?"
   ]
  },
  {
   "cell_type": "code",
   "execution_count": 14,
   "metadata": {},
   "outputs": [
    {
     "data": {
      "text/plain": [
       "array([[0.        , 0.90740741, 0.09259259]])"
      ]
     },
     "execution_count": 14,
     "metadata": {},
     "output_type": "execute_result"
    }
   ],
   "source": [
    "tree_clf.predict_proba([[5, 1.5]])  # [[petal_width, petal_length]]"
   ]
  },
  {
   "cell_type": "code",
   "execution_count": 15,
   "metadata": {},
   "outputs": [
    {
     "data": {
      "text/plain": [
       "array([1])"
      ]
     },
     "execution_count": 15,
     "metadata": {},
     "output_type": "execute_result"
    }
   ],
   "source": [
    "# Can also just predict the class - will be the one with the highest probability\n",
    "tree_clf.predict([[5, 1.5]])"
   ]
  },
  {
   "cell_type": "markdown",
   "metadata": {},
   "source": [
    "# Decision Tree for `moons` Dataset\n",
    "\n",
    "The `moons` dataset is a simple toy dataset for visualizing classification algorithms."
   ]
  },
  {
   "cell_type": "code",
   "execution_count": 16,
   "metadata": {},
   "outputs": [],
   "source": [
    "from sklearn.datasets import make_moons"
   ]
  },
  {
   "cell_type": "code",
   "execution_count": 17,
   "metadata": {},
   "outputs": [],
   "source": [
    "Xm, ym = make_moons(n_samples=100, noise=0.25, random_state=53)"
   ]
  },
  {
   "cell_type": "markdown",
   "metadata": {},
   "source": [
    "## Classifier 1 - Unregularized\n",
    "\n",
    "Using default hyperparameters, so the classifier is not regularized. It is free to fit the data as closely as it can. "
   ]
  },
  {
   "cell_type": "code",
   "execution_count": 18,
   "metadata": {},
   "outputs": [],
   "source": [
    "deep_tree_clf1 = DecisionTreeClassifier(random_state=42)"
   ]
  },
  {
   "cell_type": "code",
   "execution_count": 19,
   "metadata": {},
   "outputs": [
    {
     "data": {
      "text/plain": [
       "DecisionTreeClassifier(class_weight=None, criterion='gini', max_depth=None,\n",
       "            max_features=None, max_leaf_nodes=None,\n",
       "            min_impurity_decrease=0.0, min_impurity_split=None,\n",
       "            min_samples_leaf=1, min_samples_split=2,\n",
       "            min_weight_fraction_leaf=0.0, presort=False, random_state=42,\n",
       "            splitter='best')"
      ]
     },
     "execution_count": 19,
     "metadata": {},
     "output_type": "execute_result"
    }
   ],
   "source": [
    "deep_tree_clf1.fit(Xm, ym)"
   ]
  },
  {
   "cell_type": "markdown",
   "metadata": {},
   "source": [
    "## Classifier 2 - Regularized \n",
    "\n",
    "By simply definining the `min_samples_leaf` hyperparameter, we are regularizing the decision tree by limiting the number of minimum samples required before a specific node in the decision tree can be considered a leaf. \n",
    "\n",
    "This will affect the number and nature of splits in the decision tree."
   ]
  },
  {
   "cell_type": "code",
   "execution_count": 20,
   "metadata": {},
   "outputs": [],
   "source": [
    "deep_tree_clf2 = DecisionTreeClassifier(min_samples_leaf=4, random_state=42)"
   ]
  },
  {
   "cell_type": "code",
   "execution_count": 21,
   "metadata": {},
   "outputs": [
    {
     "data": {
      "text/plain": [
       "DecisionTreeClassifier(class_weight=None, criterion='gini', max_depth=None,\n",
       "            max_features=None, max_leaf_nodes=None,\n",
       "            min_impurity_decrease=0.0, min_impurity_split=None,\n",
       "            min_samples_leaf=4, min_samples_split=2,\n",
       "            min_weight_fraction_leaf=0.0, presort=False, random_state=42,\n",
       "            splitter='best')"
      ]
     },
     "execution_count": 21,
     "metadata": {},
     "output_type": "execute_result"
    }
   ],
   "source": [
    "deep_tree_clf2.fit(Xm, ym)"
   ]
  },
  {
   "cell_type": "markdown",
   "metadata": {},
   "source": [
    "## Plotting the Effect of `min_tree_samples`"
   ]
  },
  {
   "cell_type": "code",
   "execution_count": 22,
   "metadata": {},
   "outputs": [
    {
     "data": {
      "text/plain": [
       "Text(0, 0.5, '')"
      ]
     },
     "execution_count": 22,
     "metadata": {},
     "output_type": "execute_result"
    },
    {
     "data": {
      "image/png": "[encoded data removed]",
      "text/plain": [
       "<Figure size 720x288 with 2 Axes>"
      ]
     },
     "metadata": {},
     "output_type": "display_data"
    }
   ],
   "source": [
    "fig, axes = plt.subplots(nrows=1, ncols=2, figsize=(10, 4), sharey=True)\n",
    "\n",
    "# All modifications being made to the left plot - unregularized model\n",
    "plt.sca(axes[0])\n",
    "plot_decision_boundary(deep_tree_clf1, Xm, ym, axes=[-1.5, 3, -1, 1.5], iris=False)\n",
    "plt.title('No Restrictions', fontsize=16)\n",
    "\n",
    "# All modifications made to the right plot - regularized model\n",
    "plt.sca(axes[1])\n",
    "plot_decision_boundary(deep_tree_clf2, Xm, ym, axes=[-1.5, 3, -1, 1.5 ], iris=False)\n",
    "plt.title(f\"Min Samples for Leaf = {deep_tree_clf2.min_samples_leaf}\", fontsize=16)\n",
    "plt.ylabel(\"\")"
   ]
  },
  {
   "cell_type": "markdown",
   "metadata": {},
   "source": [
    "# Regression Tree - Example 1 "
   ]
  },
  {
   "cell_type": "markdown",
   "metadata": {},
   "source": [
    "## Quadratic Dataset"
   ]
  },
  {
   "cell_type": "code",
   "execution_count": 23,
   "metadata": {},
   "outputs": [],
   "source": [
    "np.random.seed(42)\n",
    "m = 200                            # Number of training samples\n",
    "X = np.random.rand(m, 1)           # Features are `m` random numbers\n",
    "y = 4 * (X - 0.5) ** 2             # Quadratic expression \n",
    "y = y + np.random.randn(m, 1) / 10 # Adding random noise"
   ]
  },
  {
   "cell_type": "markdown",
   "metadata": {},
   "source": [
    "## Regression Tree"
   ]
  },
  {
   "cell_type": "code",
   "execution_count": 24,
   "metadata": {},
   "outputs": [],
   "source": [
    "from sklearn.tree import DecisionTreeRegressor"
   ]
  },
  {
   "cell_type": "code",
   "execution_count": 25,
   "metadata": {},
   "outputs": [],
   "source": [
    "# Instantiate - limiting to 2 nodes \n",
    "tree_reg = DecisionTreeRegressor(max_depth=2, random_state=42)"
   ]
  },
  {
   "cell_type": "code",
   "execution_count": 26,
   "metadata": {},
   "outputs": [
    {
     "data": {
      "text/plain": [
       "DecisionTreeRegressor(criterion='mse', max_depth=2, max_features=None,\n",
       "           max_leaf_nodes=None, min_impurity_decrease=0.0,\n",
       "           min_impurity_split=None, min_samples_leaf=1,\n",
       "           min_samples_split=2, min_weight_fraction_leaf=0.0,\n",
       "           presort=False, random_state=42, splitter='best')"
      ]
     },
     "execution_count": 26,
     "metadata": {},
     "output_type": "execute_result"
    }
   ],
   "source": [
    "# Fit to training data\n",
    "tree_reg.fit(X, y)"
   ]
  },
  {
   "cell_type": "code",
   "execution_count": 27,
   "metadata": {},
   "outputs": [],
   "source": [
    "# Visualizing the regression tree\n",
    "from sklearn.tree import export_graphviz"
   ]
  },
  {
   "cell_type": "code",
   "execution_count": 28,
   "metadata": {},
   "outputs": [],
   "source": [
    "export_graphviz(decision_tree=tree_reg, out_file=os.path.join(IMAGES_PATH, 'reg_tree_1.dot'),\n",
    "               feature_names=['x1'], rounded=True, filled=True)"
   ]
  },
  {
   "cell_type": "markdown",
   "metadata": {},
   "source": [
    "## Plotting Regression Tree Predictions"
   ]
  },
  {
   "cell_type": "code",
   "execution_count": 34,
   "metadata": {},
   "outputs": [],
   "source": [
    "def plot_regression_predictions(tree_reg, X, y, axes=[0, 1, -0.2, 1], ylabel='$y$'):\n",
    "    # Create 500 linearly spaced values between horizontal axis limits \n",
    "    # And then Reshape into a 1-dimensional vector\n",
    "    x1 = np.linspace(axes[0], axes[1], 500).reshape(-1, 1) \n",
    "    \n",
    "    # Predictions on this space of values \n",
    "    y_pred = tree_reg.predict(x1) \n",
    "    \n",
    "    # Define the axes limits for the figure\n",
    "    plt.axis(axes)\n",
    "    \n",
    "    # Add label to the x-axis\n",
    "    plt.xlabel(\"$x_1$\", fontsize=18)\n",
    "    \n",
    "    # If the user has also specified a ylabel\n",
    "    if ylabel:\n",
    "        plt.ylabel(ylabel, fontsize=18, rotation=0)\n",
    "    \n",
    "    # Plot training data with blue dots\n",
    "    plt.plot(X, y, 'b.')\n",
    "    \n",
    "    # Plot predictions as red line - legend should show this \n",
    "    plt.plot(x1, y_pred, 'r.-', linewidth=2, label=\"$\\hat{y}$\")"
   ]
  },
  {
   "cell_type": "markdown",
   "metadata": {},
   "source": [
    "## Effect of Tree Depth"
   ]
  },
  {
   "cell_type": "code",
   "execution_count": 39,
   "metadata": {},
   "outputs": [],
   "source": [
    "# First classifier is same as before - tree depth of 2 \n",
    "tree_reg1 = DecisionTreeRegressor(max_depth=2, random_state=42)\n",
    "\n",
    "# Second classifier is different - can have more split \n",
    "tree_reg2 = DecisionTreeRegressor(max_depth=3, random_state=42)"
   ]
  },
  {
   "cell_type": "code",
   "execution_count": 40,
   "metadata": {},
   "outputs": [
    {
     "data": {
      "text/plain": [
       "DecisionTreeRegressor(criterion='mse', max_depth=3, max_features=None,\n",
       "           max_leaf_nodes=None, min_impurity_decrease=0.0,\n",
       "           min_impurity_split=None, min_samples_leaf=1,\n",
       "           min_samples_split=2, min_weight_fraction_leaf=0.0,\n",
       "           presort=False, random_state=42, splitter='best')"
      ]
     },
     "execution_count": 40,
     "metadata": {},
     "output_type": "execute_result"
    }
   ],
   "source": [
    "# Fitting both classifiers to the same data\n",
    "tree_reg1.fit(X, y)\n",
    "tree_reg2.fit(X, y)"
   ]
  },
  {
   "cell_type": "code",
   "execution_count": 41,
   "metadata": {},
   "outputs": [
    {
     "name": "stdout",
     "output_type": "stream",
     "text": [
      "Saving figure  tree_regression_plot\n"
     ]
    },
    {
     "data": {
      "image/png": "[encoded data removed]",
      "text/plain": [
       "<Figure size 720x288 with 2 Axes>"
      ]
     },
     "metadata": {},
     "output_type": "display_data"
    }
   ],
   "source": [
    "# Creating a figure to compare effect of depth on regression \n",
    "fig, axes = plt.subplots(ncols=2, figsize=(10, 4), sharey=True)\n",
    "\n",
    "# First figure - depth = 2 \n",
    "plt.sca(axes[0])\n",
    "plot_regression_predictions(tree_reg_clf1, X, y)\n",
    "\n",
    "# Add decision boundaries - decision boundaries found by inspecting the .dot file\n",
    "for split, style in ((0.1973, 'k-'), (0.0917, 'k--'), (0.7718, 'k--')):\n",
    "    plt.plot([split, split], [-0.2, 1], style, linewidth=2)\n",
    "\n",
    "# Annotating the splits\n",
    "plt.text(0.21, 0.65, \"Depth=0\", fontsize=15)\n",
    "plt.text(0.01, 0.2, \"Depth=1\", fontsize=13)\n",
    "plt.text(0.65, 0.8, \"Depth=1\", fontsize=13)\n",
    "plt.legend(loc=\"upper center\", fontsize=18)\n",
    "plt.title(\"max_depth=2\", fontsize=14)\n",
    "\n",
    "# Second figure - depth of 3\n",
    "plt.sca(axes[1])\n",
    "plot_regression_predictions(tree_reg_clf2, X, y, ylabel=None)\n",
    "\n",
    "# Splits at depth 1\n",
    "for split, style in ((0.1973, 'k-'), (0.0917, 'k--'), (0.7718, 'k--')):\n",
    "    plt.plot([split, split], [-0.2, 1], style, linewidth=2)\n",
    "\n",
    "# Splits at depth 2\n",
    "for split in (0.0458, 0.1298, 0.2873, 0.9040):\n",
    "    plt.plot([split, split], [-0.2, 1], 'k:', linewidth=1)\n",
    "\n",
    "plt.text(0.3, 0.5, 'Depth = 2', fontsize=13)\n",
    "plt.title('max_depth=3', fontsize=14)\n",
    "\n",
    "save_fig('tree_regression_plot')\n",
    "plt.show()"
   ]
  },
  {
   "cell_type": "markdown",
   "metadata": {},
   "source": [
    "## Overfitting in Regression Trees"
   ]
  },
  {
   "cell_type": "code",
   "execution_count": 42,
   "metadata": {},
   "outputs": [],
   "source": [
    "# Instantiate two Regression Trees - regularized and unregularized\n",
    "tree_reg3 = DecisionTreeRegressor(random_state=42)\n",
    "tree_reg4 = DecisionTreeRegressor(random_state=42, min_samples_leaf=10)"
   ]
  },
  {
   "cell_type": "code",
   "execution_count": 43,
   "metadata": {},
   "outputs": [
    {
     "data": {
      "text/plain": [
       "DecisionTreeRegressor(criterion='mse', max_depth=None, max_features=None,\n",
       "           max_leaf_nodes=None, min_impurity_decrease=0.0,\n",
       "           min_impurity_split=None, min_samples_leaf=10,\n",
       "           min_samples_split=2, min_weight_fraction_leaf=0.0,\n",
       "           presort=False, random_state=42, splitter='best')"
      ]
     },
     "execution_count": 43,
     "metadata": {},
     "output_type": "execute_result"
    }
   ],
   "source": [
    "# Fitting to the quadaratic data\n",
    "tree_reg3.fit(X, y)\n",
    "tree_reg4.fit(X, y)"
   ]
  },
  {
   "cell_type": "code",
   "execution_count": 44,
   "metadata": {},
   "outputs": [],
   "source": [
    "# Creating matrix of values on which to predict\n",
    "x1 = np.linspace(0, 1, 500).reshape(-1, 1)"
   ]
  },
  {
   "cell_type": "code",
   "execution_count": 46,
   "metadata": {},
   "outputs": [],
   "source": [
    "y_pred3 = tree_reg3.predict(x1)\n",
    "y_pred4 = tree_reg4.predict(x1)"
   ]
  },
  {
   "cell_type": "code",
   "execution_count": 47,
   "metadata": {},
   "outputs": [],
   "source": [
    "# Plotting the effect of min_samples_leaf on regression trees"
   ]
  },
  {
   "cell_type": "code",
   "execution_count": 50,
   "metadata": {},
   "outputs": [
    {
     "name": "stdout",
     "output_type": "stream",
     "text": [
      "Saving figure  tree_regression_regularization_plot\n"
     ]
    },
    {
     "data": {
      "image/png": "[encoded data removed]",
      "text/plain": [
       "<Figure size 720x288 with 2 Axes>"
      ]
     },
     "metadata": {},
     "output_type": "display_data"
    }
   ],
   "source": [
    "fig, axes = plt.subplots(ncols=2, figsize=(10, 4))\n",
    "\n",
    "plt.sca(axes[0])\n",
    "plt.plot(X, y, 'b.')\n",
    "plt.plot(x1, y_pred3, 'r.-', linewidth=2, label=r'$\\hat{y}$')\n",
    "plt.axis([0, 1, -0.2, 1.1])\n",
    "plt.xlabel('$x_1$', fontsize=18)\n",
    "plt.ylabel('$y$', fontsize=18, rotation=0)\n",
    "plt.legend(loc='upper center', fontsize=18)\n",
    "plt.title('No Restrictions', fontsize=14)\n",
    "\n",
    "plt.sca(axes[1])\n",
    "plt.plot(X, y, 'b.')\n",
    "plt.plot(x1, y_pred4, 'r.-', linewidth=2, label=r'$\\hat{y}$')\n",
    "plt.axis([0, 1, -0.2, 1.1])\n",
    "plt.xlabel('$x_1$', fontsize=18)\n",
    "plt.title(f'Minimum Samples for Leaf {tree_reg4.min_samples_leaf}', fontsize=14)\n",
    "\n",
    "save_fig('tree_regression_regularization_plot')\n",
    "plt.show()"
   ]
  },
  {
   "cell_type": "markdown",
   "metadata": {},
   "source": [
    "# Instability in Decision Trees"
   ]
  },
  {
   "cell_type": "markdown",
   "metadata": {},
   "source": [
    "## Issue 1 - Orthogonal Splits\n",
    "\n",
    "The 'orientation' of the data in `n`-dimensional space greatly affects the decision boundary of a Decision Tree Classifier. Decision boundaries are always orthogonal to an axis. This can cause problems - if the features are not orthogonal to each other, the Decision Tree's classification boundary will be more complicated than needed, and will not generalize well."
   ]
  },
  {
   "cell_type": "markdown",
   "metadata": {},
   "source": [
    "### Random Data"
   ]
  },
  {
   "cell_type": "code",
   "execution_count": 51,
   "metadata": {},
   "outputs": [],
   "source": [
    "np.random.seed(6)"
   ]
  },
  {
   "cell_type": "code",
   "execution_count": 52,
   "metadata": {},
   "outputs": [],
   "source": [
    "# 100 vectors of 2 random floats, all centered centered at 0 between\n",
    "Xs = np.random.rand(100, 2) - 0.5"
   ]
  },
  {
   "cell_type": "code",
   "execution_count": 56,
   "metadata": {},
   "outputs": [],
   "source": [
    "# Wherever the first feature is positive, the target is 2.0, otherwise 0.0\n",
    "ys = (Xs[:, 0] > 0).astype(np.float32) * 2"
   ]
  },
  {
   "cell_type": "code",
   "execution_count": 58,
   "metadata": {},
   "outputs": [],
   "source": [
    "# Rotating the features in 2D space using a 2D rotation matrix\n",
    "angle = np.pi / 4\n",
    "rotation_matrix = np.array([[np.cos(angle), -np.sin(angle)], \n",
    "                           [np.sin(angle), np.cos(angle)]])\n",
    "Xs_rotated = Xs.dot(rotation_matrix)"
   ]
  },
  {
   "cell_type": "code",
   "execution_count": 60,
   "metadata": {},
   "outputs": [
    {
     "data": {
      "text/plain": [
       "DecisionTreeClassifier(class_weight=None, criterion='gini', max_depth=None,\n",
       "            max_features=None, max_leaf_nodes=None,\n",
       "            min_impurity_decrease=0.0, min_impurity_split=None,\n",
       "            min_samples_leaf=1, min_samples_split=2,\n",
       "            min_weight_fraction_leaf=0.0, presort=False, random_state=42,\n",
       "            splitter='best')"
      ]
     },
     "execution_count": 60,
     "metadata": {},
     "output_type": "execute_result"
    }
   ],
   "source": [
    "# Training one classifier using the original data\n",
    "tree_clf_s = DecisionTreeClassifier(random_state=42)\n",
    "tree_clf_s.fit(Xs, ys)"
   ]
  },
  {
   "cell_type": "code",
   "execution_count": 61,
   "metadata": {},
   "outputs": [
    {
     "data": {
      "text/plain": [
       "DecisionTreeClassifier(class_weight=None, criterion='gini', max_depth=None,\n",
       "            max_features=None, max_leaf_nodes=None,\n",
       "            min_impurity_decrease=0.0, min_impurity_split=None,\n",
       "            min_samples_leaf=1, min_samples_split=2,\n",
       "            min_weight_fraction_leaf=0.0, presort=False, random_state=42,\n",
       "            splitter='best')"
      ]
     },
     "execution_count": 61,
     "metadata": {},
     "output_type": "execute_result"
    }
   ],
   "source": [
    "# Training the second decision tree classifier using rotated data\n",
    "tree_clf_sr = DecisionTreeClassifier(random_state=42)\n",
    "tree_clf_sr.fit(Xs_rotated, ys)"
   ]
  },
  {
   "cell_type": "code",
   "execution_count": 64,
   "metadata": {},
   "outputs": [
    {
     "data": {
      "text/plain": [
       "Text(0.5, 1.0, 'Rotated Data')"
      ]
     },
     "execution_count": 64,
     "metadata": {},
     "output_type": "execute_result"
    },
    {
     "data": {
      "image/png": "[encoded data removed]",
      "text/plain": [
       "<Figure size 720x288 with 2 Axes>"
      ]
     },
     "metadata": {},
     "output_type": "display_data"
    }
   ],
   "source": [
    "# Plotting the decision boundaries for both classifiers\n",
    "fig, axes = plt.subplots(ncols=2, figsize=(10, 4), sharey=True)\n",
    "\n",
    "# Tree fitted to original data\n",
    "plt.sca(axes[0])\n",
    "plot_decision_boundary(tree_clf_s, Xs, ys, axes=[-0.7, 0.7, -0.7, 0.7], iris=False)\n",
    "plt.title(\"Original Data\", fontsize=18)\n",
    "\n",
    "# Tree fitted to rotated data\n",
    "plt.sca(axes[1])\n",
    "plot_decision_boundary(tree_clf_sr, Xs_rotated, ys, axes=[-0.7, 0.7, -0.7, 0.7], iris=False)\n",
    "plt.ylabel(\"\")    # Already plotted by the first subplot \n",
    "plt.title(\"Rotated Data\", fontsize=18)"
   ]
  },
  {
   "cell_type": "markdown",
   "metadata": {},
   "source": [
    "### Iris Data"
   ]
  },
  {
   "cell_type": "code",
   "execution_count": 82,
   "metadata": {},
   "outputs": [],
   "source": [
    "from sklearn.datasets import load_iris"
   ]
  },
  {
   "cell_type": "code",
   "execution_count": 83,
   "metadata": {},
   "outputs": [],
   "source": [
    "iris = load_iris()"
   ]
  },
  {
   "cell_type": "code",
   "execution_count": 85,
   "metadata": {},
   "outputs": [],
   "source": [
    "# Extracting features and targets\n",
    "X = iris.data[:, 2:]\n",
    "y = iris.target"
   ]
  },
  {
   "cell_type": "code",
   "execution_count": 87,
   "metadata": {},
   "outputs": [],
   "source": [
    "# Defining a rotation matrix to change the features\n",
    "angle = np.pi / 180 * 20 \n",
    "rotation_matrix = np.array([[np.cos(angle), -np.sin(angle)], \n",
    "                            [np.sin(angle), np.cos(angle)]])\n",
    "Xr = X.dot(rotation_matrix)"
   ]
  },
  {
   "cell_type": "code",
   "execution_count": 88,
   "metadata": {},
   "outputs": [
    {
     "data": {
      "text/plain": [
       "DecisionTreeClassifier(class_weight=None, criterion='gini', max_depth=None,\n",
       "            max_features=None, max_leaf_nodes=None,\n",
       "            min_impurity_decrease=0.0, min_impurity_split=None,\n",
       "            min_samples_leaf=1, min_samples_split=2,\n",
       "            min_weight_fraction_leaf=0.0, presort=False, random_state=42,\n",
       "            splitter='best')"
      ]
     },
     "execution_count": 88,
     "metadata": {},
     "output_type": "execute_result"
    }
   ],
   "source": [
    "# Train a new classifier \n",
    "tree_clf_r = DecisionTreeClassifier(random_state=42)\n",
    "tree_clf_r.fit(Xr, y)"
   ]
  },
  {
   "cell_type": "code",
   "execution_count": 90,
   "metadata": {},
   "outputs": [
    {
     "data": {
      "image/png": "[encoded data removed]",
      "text/plain": [
       "<Figure size 720x288 with 1 Axes>"
      ]
     },
     "metadata": {},
     "output_type": "display_data"
    }
   ],
   "source": [
    "# Decision boundaries and splits after rotation\n",
    "plt.figure(figsize=(10, 4))\n",
    "plot_decision_boundary(tree_clf_r, Xr, y, axes=[0.5, 7.5, -1.0, 1.0], iris=False)"
   ]
  },
  {
   "cell_type": "markdown",
   "metadata": {},
   "source": [
    "## Issue 2 - Affected by Outliers \n",
    "\n",
    "The more general issue here is that the decision boundary of a `DecisionTreeClassifier` is, in general, depends too much on the data. It will be skewed by outliers, or by the values of the data. \n",
    "\n",
    "In the following code, we're retraining a `DecisionTreeClassifier` on the `iris` dataset. The only difference is that we will be dropping the largest flower (the one with the longest and widest petals) from the dataset. \n",
    "\n",
    "Removing only one flower from the dataset will drastically change the decision boundaries and splits returned by the tree."
   ]
  },
  {
   "cell_type": "code",
   "execution_count": 66,
   "metadata": {},
   "outputs": [],
   "source": [
    "from sklearn.datasets import load_iris"
   ]
  },
  {
   "cell_type": "code",
   "execution_count": 69,
   "metadata": {},
   "outputs": [],
   "source": [
    "iris = load_iris()"
   ]
  },
  {
   "cell_type": "code",
   "execution_count": 71,
   "metadata": {},
   "outputs": [],
   "source": [
    "# Extracting the petal length and petal width \n",
    "X = iris.data[:, 2:]\n",
    "\n",
    "# Extracting the species \n",
    "y = iris.target"
   ]
  },
  {
   "cell_type": "code",
   "execution_count": 73,
   "metadata": {},
   "outputs": [
    {
     "data": {
      "text/plain": [
       "array([[4.8, 1.8]])"
      ]
     },
     "execution_count": 73,
     "metadata": {},
     "output_type": "execute_result"
    }
   ],
   "source": [
    "# Get feature values for the widest Iris versicolor flower from the dataset\n",
    "X[(X[:, 1] == X[:, 1][y == 1].max()) & (y == 1)]"
   ]
  },
  {
   "cell_type": "code",
   "execution_count": 74,
   "metadata": {},
   "outputs": [],
   "source": [
    "# Extract all features except the ones for this flower\n",
    "not_widest_versicolor = (X[:, 1] != 1.8) | (y == 2)"
   ]
  },
  {
   "cell_type": "code",
   "execution_count": 75,
   "metadata": {},
   "outputs": [],
   "source": [
    "X_tweaked = X[not_widest_versicolor]\n",
    "y_tweaked = y[not_widest_versicolor]"
   ]
  },
  {
   "cell_type": "code",
   "execution_count": 77,
   "metadata": {},
   "outputs": [
    {
     "data": {
      "text/plain": [
       "DecisionTreeClassifier(class_weight=None, criterion='gini', max_depth=2,\n",
       "            max_features=None, max_leaf_nodes=None,\n",
       "            min_impurity_decrease=0.0, min_impurity_split=None,\n",
       "            min_samples_leaf=1, min_samples_split=2,\n",
       "            min_weight_fraction_leaf=0.0, presort=False, random_state=40,\n",
       "            splitter='best')"
      ]
     },
     "execution_count": 77,
     "metadata": {},
     "output_type": "execute_result"
    }
   ],
   "source": [
    "# Training a classifier using the tweaked data\n",
    "tree_clf_tweaked = DecisionTreeClassifier(max_depth=2, random_state=40)\n",
    "tree_clf_tweaked.fit(X_tweaked, y_tweaked)"
   ]
  },
  {
   "cell_type": "code",
   "execution_count": 79,
   "metadata": {},
   "outputs": [
    {
     "data": {
      "text/plain": [
       "Text(1.0, 1.8, 'Depth = 1')"
      ]
     },
     "execution_count": 79,
     "metadata": {},
     "output_type": "execute_result"
    },
    {
     "data": {
      "image/png": "[encoded data removed]",
      "text/plain": [
       "<Figure size 576x288 with 1 Axes>"
      ]
     },
     "metadata": {},
     "output_type": "display_data"
    }
   ],
   "source": [
    "# Plot the new classifier's decision boundaries \n",
    "plt.figure(figsize=(8, 4))\n",
    "plot_decision_boundary(tree_clf_tweaked, X_tweaked, y_tweaked, legend=False)\n",
    "\n",
    "# Split coordinates found by inspecting the tree's dot file\n",
    "plt.plot([0, 7.5], [0.8, 0.8], 'k-', linewidth=2)\n",
    "plt.plot([0, 7.5], [1.75, 1.75], 'k--', linewidth=2)\n",
    "\n",
    "# Annotate the plot\n",
    "plt.text(1.0, 0.9, 'Depth = 0', fontsize=15)\n",
    "plt.text(1.0, 1.80, 'Depth = 1', fontsize=13)"
   ]
  }
 ],
 "metadata": {
  "kernelspec": {
   "display_name": "Python 3",
   "language": "python",
   "name": "python3"
  },
  "language_info": {
   "codemirror_mode": {
    "name": "ipython",
    "version": 3
   },
   "file_extension": ".py",
   "mimetype": "text/x-python",
   "name": "python",
   "nbconvert_exporter": "python",
   "pygments_lexer": "ipython3",
   "version": "3.6.5"
  }
 },
 "nbformat": 4,
 "nbformat_minor": 2
}
