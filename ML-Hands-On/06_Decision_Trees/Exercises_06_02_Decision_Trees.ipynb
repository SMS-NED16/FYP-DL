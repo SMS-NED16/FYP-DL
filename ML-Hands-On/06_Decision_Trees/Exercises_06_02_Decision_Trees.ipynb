{
  "nbformat": 4,
  "nbformat_minor": 0,
  "metadata": {
    "colab": {
      "name": "HOML_06_Decision_Trees.ipynb",
      "provenance": [],
      "collapsed_sections": []
    },
    "kernelspec": {
      "name": "python3",
      "display_name": "Python 3"
    },
    "accelerator": "GPU"
  },
  "cells": [
    {
      "cell_type": "markdown",
      "metadata": {
        "id": "WVD79NrbprzZ",
        "colab_type": "text"
      },
      "source": [
        "# Hands-on Machine Learning Chapter 06 - Decision Trees - Exercises"
      ]
    },
    {
      "cell_type": "markdown",
      "metadata": {
        "id": "rY44wCrDqhDp",
        "colab_type": "text"
      },
      "source": [
        "# Environment Setup"
      ]
    },
    {
      "cell_type": "code",
      "metadata": {
        "id": "A1EA4p5rqjHS",
        "colab_type": "code",
        "colab": {}
      },
      "source": [
        "import numpy as np\n",
        "np.random.seed(42)\n",
        "\n",
        "# Matplotlib for generating figures\n",
        "%matplotlib inline\n",
        "import matplotlib as mpl\n",
        "import matplotlib.pyplot as plt\n",
        "mpl.rc('axes', labelsize=14)\n",
        "mpl.rc('xtick', labelsize=12)\n",
        "mpl.rc('ytick', labelsize=12)\n",
        "\n",
        "# Scikit Imports\n",
        "from sklearn.datasets import make_moons\n",
        "from sklearn.model_selection import train_test_split, ShuffleSplit, GridSearchCV\n",
        "from sklearn.tree import DecisionTreeClassifier\n",
        "from sklearn.metrics import accuracy_score\n",
        "from sklearn.base import clone\n",
        "\n",
        "# For finding most frequently occurring label in predictions\n",
        "from scipy.stats import mode"
      ],
      "execution_count": 0,
      "outputs": []
    },
    {
      "cell_type": "markdown",
      "metadata": {
        "id": "sDYKBYlfpyhZ",
        "colab_type": "text"
      },
      "source": [
        "# Exercise 7 - `moons` Dataset"
      ]
    },
    {
      "cell_type": "markdown",
      "metadata": {
        "id": "R1UqN0Uhp-6T",
        "colab_type": "text"
      },
      "source": [
        "## Importing Data"
      ]
    },
    {
      "cell_type": "code",
      "metadata": {
        "id": "H3a3vc2ep6Go",
        "colab_type": "code",
        "colab": {}
      },
      "source": [
        "from sklearn.datasets import make_moons"
      ],
      "execution_count": 0,
      "outputs": []
    },
    {
      "cell_type": "code",
      "metadata": {
        "id": "-nnz0knBp82Q",
        "colab_type": "code",
        "colab": {}
      },
      "source": [
        "X, y = make_moons(n_samples=10000, noise=0.4, random_state=42)"
      ],
      "execution_count": 0,
      "outputs": []
    },
    {
      "cell_type": "code",
      "metadata": {
        "id": "4-YxQpEyq07J",
        "colab_type": "code",
        "colab": {
          "base_uri": "https://localhost:8080/",
          "height": 51
        },
        "outputId": "adef8f67-aca2-494c-b454-71773cce5f0a"
      },
      "source": [
        "print(\"Shape of training samples: \", X.shape)\n",
        "print(\"Shape of training labels: \", y.shape)"
      ],
      "execution_count": 28,
      "outputs": [
        {
          "output_type": "stream",
          "text": [
            "Shape of training samples:  (10000, 2)\n",
            "Shape of training labels:  (10000,)\n"
          ],
          "name": "stdout"
        }
      ]
    },
    {
      "cell_type": "code",
      "metadata": {
        "id": "KlfnRSB1q5lY",
        "colab_type": "code",
        "colab": {
          "base_uri": "https://localhost:8080/",
          "height": 34
        },
        "outputId": "285ca64e-dfa9-4036-8c99-6e2f5e72274a"
      },
      "source": [
        "# Is this a binary classification problem?\n",
        "np.unique(y)"
      ],
      "execution_count": 29,
      "outputs": [
        {
          "output_type": "execute_result",
          "data": {
            "text/plain": [
              "array([0, 1])"
            ]
          },
          "metadata": {
            "tags": []
          },
          "execution_count": 29
        }
      ]
    },
    {
      "cell_type": "markdown",
      "metadata": {
        "id": "MEUrnR7eq7Ez",
        "colab_type": "text"
      },
      "source": [
        "## Split into training and test sets"
      ]
    },
    {
      "cell_type": "code",
      "metadata": {
        "id": "Iu7t6XMIrAWv",
        "colab_type": "code",
        "colab": {}
      },
      "source": [
        "X_train, X_test, y_train, y_test = train_test_split(X, y, train_size=0.2, random_state=42)"
      ],
      "execution_count": 0,
      "outputs": []
    },
    {
      "cell_type": "code",
      "metadata": {
        "id": "-40KTOAmrRf7",
        "colab_type": "code",
        "colab": {
          "base_uri": "https://localhost:8080/",
          "height": 85
        },
        "outputId": "5c02b08f-b4bc-4902-fd19-521c9d10af9a"
      },
      "source": [
        "print(\"X train:\\t\", X_train.shape)\n",
        "print(\"X_test:\\t\\t\", X_test.shape)\n",
        "print(\"y_train:\\t\", y_train.shape)\n",
        "print(\"y_test:\\t\\t\", y_test.shape)"
      ],
      "execution_count": 31,
      "outputs": [
        {
          "output_type": "stream",
          "text": [
            "X train:\t (2000, 2)\n",
            "X_test:\t\t (8000, 2)\n",
            "y_train:\t (2000,)\n",
            "y_test:\t\t (8000,)\n"
          ],
          "name": "stdout"
        }
      ]
    },
    {
      "cell_type": "markdown",
      "metadata": {
        "id": "11Wo74ECraG4",
        "colab_type": "text"
      },
      "source": [
        "## Grid Search for Best Hyperparameters"
      ]
    },
    {
      "cell_type": "markdown",
      "metadata": {
        "id": "LCzuroXXrqSM",
        "colab_type": "text"
      },
      "source": [
        "### Defining Parameter Grid"
      ]
    },
    {
      "cell_type": "code",
      "metadata": {
        "id": "BSrhXQlrrxqE",
        "colab_type": "code",
        "colab": {}
      },
      "source": [
        "param_grid = {\n",
        "    'max_leaf_nodes': list(range(2, 100)),    # Must be greater than 1\n",
        "    'min_samples_split': list(range(2, 5)),   # Must be greater than 1\n",
        "}"
      ],
      "execution_count": 0,
      "outputs": []
    },
    {
      "cell_type": "markdown",
      "metadata": {
        "id": "c83kVToHsx22",
        "colab_type": "text"
      },
      "source": [
        "### Creating a `GridSearchCV` Object\n",
        "\n",
        "Creating this object with a `DecisionTreeClassifier` as the estimator, and the specified `param_grid`. Number of folds to be fitted per model are 3. Random state of the classifier is same so that no effect of stochastic selection of features."
      ]
    },
    {
      "cell_type": "code",
      "metadata": {
        "id": "80Be1mlksp8E",
        "colab_type": "code",
        "colab": {}
      },
      "source": [
        "decision_tree_cv = GridSearchCV(estimator=DecisionTreeClassifier(random_state=42), \n",
        "                                param_grid=param_grid, \n",
        "                                cv=3, \n",
        "                                verbose=1)"
      ],
      "execution_count": 0,
      "outputs": []
    },
    {
      "cell_type": "markdown",
      "metadata": {
        "id": "ZviZxCD9tmCi",
        "colab_type": "text"
      },
      "source": [
        "### Fitting Folds"
      ]
    },
    {
      "cell_type": "code",
      "metadata": {
        "id": "GXiGm-GntgBT",
        "colab_type": "code",
        "colab": {
          "base_uri": "https://localhost:8080/",
          "height": 425
        },
        "outputId": "0ebe1f90-b823-4aba-cf0f-54d5f52195f5"
      },
      "source": [
        "decision_tree_cv.fit(X_train, y_train)"
      ],
      "execution_count": 42,
      "outputs": [
        {
          "output_type": "stream",
          "text": [
            "Fitting 3 folds for each of 294 candidates, totalling 882 fits\n"
          ],
          "name": "stdout"
        },
        {
          "output_type": "stream",
          "text": [
            "[Parallel(n_jobs=1)]: Using backend SequentialBackend with 1 concurrent workers.\n",
            "[Parallel(n_jobs=1)]: Done 882 out of 882 | elapsed:    2.5s finished\n"
          ],
          "name": "stderr"
        },
        {
          "output_type": "execute_result",
          "data": {
            "text/plain": [
              "GridSearchCV(cv=3, error_score=nan,\n",
              "             estimator=DecisionTreeClassifier(ccp_alpha=0.0, class_weight=None,\n",
              "                                              criterion='gini', max_depth=None,\n",
              "                                              max_features=None,\n",
              "                                              max_leaf_nodes=None,\n",
              "                                              min_impurity_decrease=0.0,\n",
              "                                              min_impurity_split=None,\n",
              "                                              min_samples_leaf=1,\n",
              "                                              min_samples_split=2,\n",
              "                                              min_weight_fraction_leaf=0.0,\n",
              "                                              presort='deprecated',\n",
              "                                              random_state=42,\n",
              "                                              splitter='best'),\n",
              "             iid='deprecated', n_jobs=None,\n",
              "             param_grid={'max_leaf_nodes': [2, 3, 4, 5, 6, 7, 8, 9, 10, 11, 12,\n",
              "                                            13, 14, 15, 16, 17, 18, 19, 20, 21,\n",
              "                                            22, 23, 24, 25, 26, 27, 28, 29, 30,\n",
              "                                            31, ...],\n",
              "                         'min_samples_split': [2, 3, 4]},\n",
              "             pre_dispatch='2*n_jobs', refit=True, return_train_score=False,\n",
              "             scoring=None, verbose=1)"
            ]
          },
          "metadata": {
            "tags": []
          },
          "execution_count": 42
        }
      ]
    },
    {
      "cell_type": "code",
      "metadata": {
        "id": "fjaB7P-KtrOa",
        "colab_type": "code",
        "colab": {
          "base_uri": "https://localhost:8080/",
          "height": 119
        },
        "outputId": "557f45ee-076b-4115-d55d-45d61779cbba"
      },
      "source": [
        "decision_tree_cv.best_estimator_"
      ],
      "execution_count": 43,
      "outputs": [
        {
          "output_type": "execute_result",
          "data": {
            "text/plain": [
              "DecisionTreeClassifier(ccp_alpha=0.0, class_weight=None, criterion='gini',\n",
              "                       max_depth=None, max_features=None, max_leaf_nodes=17,\n",
              "                       min_impurity_decrease=0.0, min_impurity_split=None,\n",
              "                       min_samples_leaf=1, min_samples_split=2,\n",
              "                       min_weight_fraction_leaf=0.0, presort='deprecated',\n",
              "                       random_state=42, splitter='best')"
            ]
          },
          "metadata": {
            "tags": []
          },
          "execution_count": 43
        }
      ]
    },
    {
      "cell_type": "markdown",
      "metadata": {
        "id": "aLOSJtNougJF",
        "colab_type": "text"
      },
      "source": [
        "## Training Best Estimator"
      ]
    },
    {
      "cell_type": "markdown",
      "metadata": {
        "id": "iDm04tZ6uwzt",
        "colab_type": "text"
      },
      "source": [
        "### Extracting Best Estimator"
      ]
    },
    {
      "cell_type": "code",
      "metadata": {
        "id": "xQyFt7EQuoXY",
        "colab_type": "code",
        "colab": {}
      },
      "source": [
        "best_decision_tree = decision_tree_cv.best_estimator_"
      ],
      "execution_count": 0,
      "outputs": []
    },
    {
      "cell_type": "code",
      "metadata": {
        "id": "1uBsCYvIvG8r",
        "colab_type": "code",
        "colab": {
          "base_uri": "https://localhost:8080/",
          "height": 255
        },
        "outputId": "e5754e59-f304-4a72-a646-918fa74b6c09"
      },
      "source": [
        "best_decision_tree.get_params()"
      ],
      "execution_count": 45,
      "outputs": [
        {
          "output_type": "execute_result",
          "data": {
            "text/plain": [
              "{'ccp_alpha': 0.0,\n",
              " 'class_weight': None,\n",
              " 'criterion': 'gini',\n",
              " 'max_depth': None,\n",
              " 'max_features': None,\n",
              " 'max_leaf_nodes': 17,\n",
              " 'min_impurity_decrease': 0.0,\n",
              " 'min_impurity_split': None,\n",
              " 'min_samples_leaf': 1,\n",
              " 'min_samples_split': 2,\n",
              " 'min_weight_fraction_leaf': 0.0,\n",
              " 'presort': 'deprecated',\n",
              " 'random_state': 42,\n",
              " 'splitter': 'best'}"
            ]
          },
          "metadata": {
            "tags": []
          },
          "execution_count": 45
        }
      ]
    },
    {
      "cell_type": "markdown",
      "metadata": {
        "id": "b73EsMT8utIE",
        "colab_type": "text"
      },
      "source": [
        "### Training on Entire Dataset"
      ]
    },
    {
      "cell_type": "code",
      "metadata": {
        "id": "ifi6IgZ7uv1T",
        "colab_type": "code",
        "colab": {}
      },
      "source": [
        "decision_tree_clf_best = DecisionTreeClassifier(min_samples_split=2, \n",
        "                                                max_leaf_nodes=17, \n",
        "                                                random_state=42)"
      ],
      "execution_count": 0,
      "outputs": []
    },
    {
      "cell_type": "code",
      "metadata": {
        "id": "R4PmbOfMvSSI",
        "colab_type": "code",
        "colab": {
          "base_uri": "https://localhost:8080/",
          "height": 119
        },
        "outputId": "7df10c33-cfb3-46ea-8e9c-606fe3b5038c"
      },
      "source": [
        "decision_tree_clf_best.fit(X_train, y_train)"
      ],
      "execution_count": 48,
      "outputs": [
        {
          "output_type": "execute_result",
          "data": {
            "text/plain": [
              "DecisionTreeClassifier(ccp_alpha=0.0, class_weight=None, criterion='gini',\n",
              "                       max_depth=None, max_features=None, max_leaf_nodes=17,\n",
              "                       min_impurity_decrease=0.0, min_impurity_split=None,\n",
              "                       min_samples_leaf=1, min_samples_split=2,\n",
              "                       min_weight_fraction_leaf=0.0, presort='deprecated',\n",
              "                       random_state=42, splitter='best')"
            ]
          },
          "metadata": {
            "tags": []
          },
          "execution_count": 48
        }
      ]
    },
    {
      "cell_type": "code",
      "metadata": {
        "id": "_iSXz2yfvU-X",
        "colab_type": "code",
        "colab": {}
      },
      "source": [
        "y_pred_new = decision_tree_clf_best.predict(X_test)\n",
        "y_pred_cv = decision_tree_cv.best_estimator_.predict(X_test)"
      ],
      "execution_count": 0,
      "outputs": []
    },
    {
      "cell_type": "code",
      "metadata": {
        "id": "45-94zlcvm6V",
        "colab_type": "code",
        "colab": {
          "base_uri": "https://localhost:8080/",
          "height": 51
        },
        "outputId": "1f60348a-91f3-4f55-b5b4-f26bebb54c1c"
      },
      "source": [
        "print(\"Accuracy Score of CV's Best Estimator: \", accuracy_score(y_test, y_pred_cv))\n",
        "print(\"Accuracy Score of My Best Estimator: \", accuracy_score(y_test, y_pred_new))"
      ],
      "execution_count": 52,
      "outputs": [
        {
          "output_type": "stream",
          "text": [
            "Accuracy Score of CV's Best Estimator:  0.852875\n",
            "Accuracy Score of My Best Estimator:  0.852875\n"
          ],
          "name": "stdout"
        }
      ]
    },
    {
      "cell_type": "markdown",
      "metadata": {
        "id": "cW7m7RpzvxQh",
        "colab_type": "text"
      },
      "source": [
        "Both models give the same accuracy score, although it is on the lower side compared to Aurelien's results."
      ]
    },
    {
      "cell_type": "markdown",
      "metadata": {
        "id": "sn67hvKgwO-v",
        "colab_type": "text"
      },
      "source": [
        "# Exercise 2 - Grow a Forest\n",
        "\n",
        "We will be training 1,000 `DecisionTreeClassifiers` with the same hyperparameters as derived above on different subsets of the training data, and evaluating each of them on the test set. \n",
        "\n",
        "We will then find the predictions of all 1,000 trees on each instance of the test set. The final prediction for this instance of the test set will be the class predicted by the majority of the Decision Trees. These are called **majority vote predictions**."
      ]
    },
    {
      "cell_type": "code",
      "metadata": {
        "id": "7jGQ4mPrxWEr",
        "colab_type": "code",
        "colab": {}
      },
      "source": [
        "n_trees = 1000        # Number of trees to train\n",
        "n_instances = 100     # Number of samples per training set"
      ],
      "execution_count": 0,
      "outputs": []
    },
    {
      "cell_type": "code",
      "metadata": {
        "id": "8xhddFnVxkW-",
        "colab_type": "code",
        "colab": {}
      },
      "source": [
        "# List of training subsets \n",
        "mini_sets = []"
      ],
      "execution_count": 0,
      "outputs": []
    },
    {
      "cell_type": "code",
      "metadata": {
        "id": "Z7f1xl0kxtYv",
        "colab_type": "code",
        "colab": {}
      },
      "source": [
        "# Get indices for 1000 different training and test sets \n",
        "rs = ShuffleSplit(n_splits=n_trees,                             # One split per tree\n",
        "                  test_size=len(X_train) - n_instances,         # All samples expect training are test set\n",
        "                  random_state=42)"
      ],
      "execution_count": 0,
      "outputs": []
    },
    {
      "cell_type": "code",
      "metadata": {
        "id": "FdDe505-yJSi",
        "colab_type": "code",
        "colab": {}
      },
      "source": [
        "# Split the training set into 1000 training subsets\n",
        "for mini_train_index, mini_test_index in rs.split(X_train):\n",
        "  X_mini_train = X_train[mini_train_index]         # Subset samples\n",
        "  y_mini_train = y_train[mini_train_index]         # Subset labels\n",
        "  mini_sets.append((X_mini_train, y_mini_train))   # Append them to the list of sets"
      ],
      "execution_count": 0,
      "outputs": []
    },
    {
      "cell_type": "code",
      "metadata": {
        "id": "ssF-0_ugydnl",
        "colab_type": "code",
        "colab": {}
      },
      "source": [
        "# List of 1000 Decision Tree estimators with same hyperparams as best estimator from grid search\n",
        "forest = [clone(decision_tree_cv.best_estimator_) for _ in range(n_trees)]"
      ],
      "execution_count": 0,
      "outputs": []
    },
    {
      "cell_type": "code",
      "metadata": {
        "id": "E0yKhSlrzUuh",
        "colab_type": "code",
        "colab": {}
      },
      "source": [
        "# Will append each decision tree's accuracy scores to this\n",
        "accuracy_scores = []"
      ],
      "execution_count": 0,
      "outputs": []
    },
    {
      "cell_type": "code",
      "metadata": {
        "id": "ZhmV6pKmy1rw",
        "colab_type": "code",
        "colab": {}
      },
      "source": [
        "# Fit every tree to a separate subset\n",
        "for tree, (X_mini_train, y_mini_train) in zip(forest, mini_sets):\n",
        "  # Fit this tree to its corresponding subset of the training data\n",
        "  tree.fit(X_mini_train, y_mini_train)\n",
        "\n",
        "  # Evaluate it on the entire dataset's test data\n",
        "  y_pred = tree.predict(X_test)\n",
        "  accuracy_scores.append(accuracy_score(y_test, y_pred))"
      ],
      "execution_count": 0,
      "outputs": []
    },
    {
      "cell_type": "code",
      "metadata": {
        "id": "5BxMzEbkzRxn",
        "colab_type": "code",
        "colab": {
          "base_uri": "https://localhost:8080/",
          "height": 34
        },
        "outputId": "24433a38-0e1e-48d9-ff97-6a25ec90fe4a"
      },
      "source": [
        "# What is the average accuracy score?\n",
        "np.mean(accuracy_scores)"
      ],
      "execution_count": 71,
      "outputs": [
        {
          "output_type": "execute_result",
          "data": {
            "text/plain": [
              "0.79613325"
            ]
          },
          "metadata": {
            "tags": []
          },
          "execution_count": 71
        }
      ]
    },
    {
      "cell_type": "markdown",
      "metadata": {
        "id": "YgCXo6ih1LNw",
        "colab_type": "text"
      },
      "source": [
        "This is understandably worse than the original `DecisionTreeClassifier`, because each tree has been trained on 100 times fewer samples than the original."
      ]
    },
    {
      "cell_type": "code",
      "metadata": {
        "id": "Xxo9A14bzlSl",
        "colab_type": "code",
        "colab": {}
      },
      "source": [
        "# Make an empty array with one row per trained decision tree and one column per each sample in test set\n",
        "y_pred_test = np.empty([n_trees, len(X_test)], dtype=np.uint8)"
      ],
      "execution_count": 0,
      "outputs": []
    },
    {
      "cell_type": "code",
      "metadata": {
        "id": "5Da874mHz2oB",
        "colab_type": "code",
        "colab": {}
      },
      "source": [
        "# Make predictions on each test set sample using each tree\n",
        "for tree_index, tree in enumerate(forest):\n",
        "  y_pred_test[tree_index] = tree.predict(X_test)"
      ],
      "execution_count": 0,
      "outputs": []
    },
    {
      "cell_type": "code",
      "metadata": {
        "id": "0ktqTDCI0Dod",
        "colab_type": "code",
        "colab": {}
      },
      "source": [
        "# Use the `scipy.stats.mode` method to find the most frequently occurring prediction for each tree\n",
        "y_pred_majority_votes, n_votes = mode(y_pred_test, axis=0)"
      ],
      "execution_count": 0,
      "outputs": []
    },
    {
      "cell_type": "code",
      "metadata": {
        "id": "BLSJYgHZ0O1J",
        "colab_type": "code",
        "colab": {
          "base_uri": "https://localhost:8080/",
          "height": 34
        },
        "outputId": "01ae5eb0-2b85-429f-b14d-32016a10c968"
      },
      "source": [
        "# Does it improve accuracy?\n",
        "accuracy_score(y_test, y_pred_majority_votes.reshape([-1]))"
      ],
      "execution_count": 77,
      "outputs": [
        {
          "output_type": "execute_result",
          "data": {
            "text/plain": [
              "0.866125"
            ]
          },
          "metadata": {
            "tags": []
          },
          "execution_count": 77
        }
      ]
    },
    {
      "cell_type": "markdown",
      "metadata": {
        "id": "dyvU-_QR0ZOH",
        "colab_type": "text"
      },
      "source": [
        "It did. Accuracy increased from 85.2 to 86.6!"
      ]
    }
  ]
}