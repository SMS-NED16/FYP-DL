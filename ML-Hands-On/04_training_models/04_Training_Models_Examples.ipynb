{
 "cells": [
  {
   "cell_type": "markdown",
   "metadata": {},
   "source": [
    "# Hands-on Machine Learning\n",
    "# Chapter 4 - Training Models"
   ]
  },
  {
   "cell_type": "markdown",
   "metadata": {},
   "source": [
    "## Setup"
   ]
  },
  {
   "cell_type": "code",
   "execution_count": 66,
   "metadata": {},
   "outputs": [],
   "source": [
    "# Is Python version at least 3.5?\n",
    "import sys\n",
    "assert sys.version_info >= (3, 5)\n",
    "\n",
    "# Is sklearn at least version 0.2?\n",
    "import sklearn\n",
    "assert sklearn.__version__  >= \"0.20\"\n",
    "\n",
    "# Helper libraries\n",
    "import numpy as np\n",
    "import pandas as pd\n",
    "\n",
    "# Matplotlib setup \n",
    "import matplotlib.pyplot as plt\n",
    "%matplotlib inline\n",
    "import matplotlib as mpl\n",
    "mpl.rc('axes', labelsize=14)\n",
    "mpl.rc('xtick', labelsize=12)\n",
    "mpl.rc('ytick', labelsize=12)\n",
    "\n",
    "# Ignore warnings for this notebook\n",
    "import warnings\n",
    "warnings.filterwarnings(action='ignore', message='^internal gelsd')"
   ]
  },
  {
   "cell_type": "code",
   "execution_count": 67,
   "metadata": {},
   "outputs": [],
   "source": [
    "# Directory for storing images\n",
    "import os\n",
    "PROJECT_ROOT_DIR = \"../\"\n",
    "CHAPTER_ID = '04_training_linear_models'\n",
    "IMAGES_PATH = os.path.join(PROJECT_ROOT_DIR, 'images', CHAPTER_ID)\n",
    "os.makedirs(IMAGES_PATH, exist_ok=True)"
   ]
  },
  {
   "cell_type": "code",
   "execution_count": 68,
   "metadata": {},
   "outputs": [],
   "source": [
    "# Function save images\n",
    "def save_fig(fig_id, tight_layout=True, fig_extension='png', resolution=300):\n",
    "    path = os.path.join(IMAGES_PATH, fig_id + '.' + fig_extension)\n",
    "    print(\"Saving figure \", fig_id)\n",
    "    if tight_layout:\n",
    "        plt.tight_layout()\n",
    "    plt.savefig(path, format=fig_extension, dpi=resolution)"
   ]
  },
  {
   "cell_type": "markdown",
   "metadata": {},
   "source": [
    "## Example 1 - Normal Equation and Linear Models\n",
    "The normal equation provides a closed-form solution for minimising the parameter values $\\theta$ of a linear model to minimise the mean square error between the model's predictions $y'$ and $y$."
   ]
  },
  {
   "cell_type": "code",
   "execution_count": 11,
   "metadata": {},
   "outputs": [],
   "source": [
    "np.random.seed(42)"
   ]
  },
  {
   "cell_type": "code",
   "execution_count": 12,
   "metadata": {},
   "outputs": [],
   "source": [
    "# Create a domain of 100 random values between 0 and 1\n",
    "X = 2 * np.random.rand(100, 1)\n",
    "\n",
    "# Use this domain to create a linear sum with some normally distributed noise\n",
    "y = 4 + 3 * X + np.random.randn(100, 1)"
   ]
  },
  {
   "cell_type": "code",
   "execution_count": 13,
   "metadata": {},
   "outputs": [
    {
     "name": "stdout",
     "output_type": "stream",
     "text": [
      "Saving figure  01_generated_data_plot\n"
     ]
    },
    {
     "data": {
      "image/png": "[encoded data removed]",
      "text/plain": [
       "<Figure size 432x288 with 1 Axes>"
      ]
     },
     "metadata": {},
     "output_type": "display_data"
    }
   ],
   "source": [
    "# Create a scatter plot of the randomly generated data\n",
    "plt.plot(X, y, 'b.')\n",
    "plt.xlabel('$x_1$', fontsize=18)\n",
    "plt.ylabel('$y$', rotation=0, fontsize=18)\n",
    "plt.axis([0, 2, 0, 15]) # Axis limits\n",
    "save_fig('01_generated_data_plot')"
   ]
  },
  {
   "cell_type": "markdown",
   "metadata": {},
   "source": [
    "Will now compute the values of $\\theta$ for this dataset using the normal equation to prove that it does, indeed, derive the correct values. `np.linalg.inv` is used to invert the matrix and `dot` is used for matrix multiplication in the evaluation of  $$\\theta^{'} = (X^{T}X)^{-1}X^{T}y$$"
   ]
  },
  {
   "cell_type": "code",
   "execution_count": 14,
   "metadata": {},
   "outputs": [],
   "source": [
    "# Add the bias feature x_0 = 1 to all rows in X\n",
    "X_b = np.c_[np.ones((100, 1)), X]"
   ]
  },
  {
   "cell_type": "code",
   "execution_count": 15,
   "metadata": {},
   "outputs": [],
   "source": [
    "# Use the normal equation to find the values of theta for this model\n",
    "theta_best = np.linalg.inv(X_b.T.dot(X_b)).dot(X_b.T).dot(y)"
   ]
  },
  {
   "cell_type": "code",
   "execution_count": 16,
   "metadata": {},
   "outputs": [
    {
     "data": {
      "text/plain": [
       "array([[4.21509616],\n",
       "       [2.77011339]])"
      ]
     },
     "execution_count": 16,
     "metadata": {},
     "output_type": "execute_result"
    }
   ],
   "source": [
    "theta_best"
   ]
  },
  {
   "cell_type": "markdown",
   "metadata": {},
   "source": [
    "The reason why the normal equation does not predict exactly 4 and 3 is because we have added random noise to the value computed by the original function."
   ]
  },
  {
   "cell_type": "code",
   "execution_count": 17,
   "metadata": {},
   "outputs": [
    {
     "data": {
      "text/plain": [
       "array([[4.21509616],\n",
       "       [9.75532293]])"
      ]
     },
     "execution_count": 17,
     "metadata": {},
     "output_type": "execute_result"
    }
   ],
   "source": [
    "# Create new instances on which to test the normal equation\n",
    "X_new = np.array([[0], [2]])\n",
    "\n",
    "# Add x_0 = 1 to each instance\n",
    "X_new_b = np.c_[np.ones((2, 1)), X_new] \n",
    "\n",
    "# Make predictions\n",
    "y_predict = X_new_b.dot(theta_best)\n",
    "y_predict"
   ]
  },
  {
   "cell_type": "code",
   "execution_count": 23,
   "metadata": {},
   "outputs": [
    {
     "name": "stdout",
     "output_type": "stream",
     "text": [
      "Saving figure  02_linear_model_predictions_plot\n"
     ]
    },
    {
     "data": {
      "image/png": "[encoded data removed]",
      "text/plain": [
       "<Figure size 432x288 with 1 Axes>"
      ]
     },
     "metadata": {},
     "output_type": "display_data"
    }
   ],
   "source": [
    "# Plot the model's predictions for all values in the domain\n",
    "plt.plot(X_new, y_predict, 'r-', label='Predictions', linewidth=2)\n",
    "\n",
    "# Original scatterplot data\n",
    "plt.plot(X, y, 'b.')\n",
    "\n",
    "plt.axis([0, 2, 0, 15])\n",
    "plt.xlabel('$x_1$', fontsize=18)\n",
    "plt.ylabel('$y$', fontsize=18, rotation=0)\n",
    "plt.legend(loc='upper left', fontsize=14)\n",
    "save_fig('02_linear_model_predictions_plot')\n",
    "plt.show()"
   ]
  },
  {
   "cell_type": "markdown",
   "metadata": {},
   "source": [
    "## Example 2 - Linear Regression with `sklearn`"
   ]
  },
  {
   "cell_type": "code",
   "execution_count": 18,
   "metadata": {},
   "outputs": [],
   "source": [
    "from sklearn.linear_model import LinearRegression"
   ]
  },
  {
   "cell_type": "code",
   "execution_count": 19,
   "metadata": {},
   "outputs": [],
   "source": [
    "lin_reg = LinearRegression()"
   ]
  },
  {
   "cell_type": "code",
   "execution_count": 20,
   "metadata": {},
   "outputs": [
    {
     "data": {
      "text/plain": [
       "LinearRegression(copy_X=True, fit_intercept=True, n_jobs=None,\n",
       "         normalize=False)"
      ]
     },
     "execution_count": 20,
     "metadata": {},
     "output_type": "execute_result"
    }
   ],
   "source": [
    "# Computes the values of theta_0 and theta_1 that minimise MSE for X\n",
    "lin_reg.fit(X, y)"
   ]
  },
  {
   "cell_type": "code",
   "execution_count": 21,
   "metadata": {},
   "outputs": [
    {
     "name": "stdout",
     "output_type": "stream",
     "text": [
      "Intercept:  [4.21509616]\n",
      "Coefficients:  [[2.77011339]]\n"
     ]
    }
   ],
   "source": [
    "# Output the learnt params \n",
    "print(\"Intercept: \", lin_reg.intercept_)\n",
    "print(\"Coefficients: \", lin_reg.coef_)"
   ]
  },
  {
   "cell_type": "code",
   "execution_count": 22,
   "metadata": {},
   "outputs": [
    {
     "data": {
      "text/plain": [
       "array([[4.21509616],\n",
       "       [9.75532293]])"
      ]
     },
     "execution_count": 22,
     "metadata": {},
     "output_type": "execute_result"
    }
   ],
   "source": [
    "# Make predictions on new data using the linear regression model\n",
    "lin_reg.predict(X_new)"
   ]
  },
  {
   "cell_type": "markdown",
   "metadata": {},
   "source": [
    " Under the hood, the `LinearRegression.fit()` method calls the least squares minimising function built into `scipy`, which we can call directly. It returns the least squares solution to a linear matrix equation."
   ]
  },
  {
   "cell_type": "code",
   "execution_count": 23,
   "metadata": {},
   "outputs": [],
   "source": [
    "theta_best_svd, residuals, rank, s = np.linalg.lstsq(X_b, y, rcond=1e-6)"
   ]
  },
  {
   "cell_type": "code",
   "execution_count": 24,
   "metadata": {},
   "outputs": [
    {
     "data": {
      "text/plain": [
       "array([[4.21509616],\n",
       "       [2.77011339]])"
      ]
     },
     "execution_count": 24,
     "metadata": {},
     "output_type": "execute_result"
    }
   ],
   "source": [
    "theta_best_svd"
   ]
  },
  {
   "cell_type": "markdown",
   "metadata": {},
   "source": [
    "Gives the same results as the linear regression function, but at a lower level of abstraction. Also, doesn't compute the inverse, but rather the pseudoinverse of X. The equation it solves is $$\\theta^{'} = X^{+}y$$ where $X^{+}$ is the pseudoinverse of $X$."
   ]
  },
  {
   "cell_type": "code",
   "execution_count": 25,
   "metadata": {},
   "outputs": [
    {
     "data": {
      "text/plain": [
       "array([[4.21509616],\n",
       "       [2.77011339]])"
      ]
     },
     "execution_count": 25,
     "metadata": {},
     "output_type": "execute_result"
    }
   ],
   "source": [
    "# Can compute pseudoinverse and its dot product with y directly\n",
    "np.linalg.pinv(X_b).dot(y)"
   ]
  },
  {
   "cell_type": "markdown",
   "metadata": {},
   "source": [
    "### Pseudoinverse vs Inverse\n",
    "Pseudoinverse computation is done using **singular value decomposition (SVD)**, which decomposes a training set matrix **X** into the multiplication of three matrices $U$, $\\Sigma$, $V^{T}$. \n",
    "\n",
    "The pseudoinverse uses $X^{+} = V \\Sigma^{+}U^{T}$. To compute $Sigma^+$, the algorithm will set to 0 all values in $\\Sigma$ that are lower than a specified threshold. Non-zero values are replaced with their inverses. The resulting matrix is then transposed. \n",
    "\n",
    "This provides a more **computationally efficient approach** than computing the actual inverse as in the normal equation, and also handles edge cases very wel. "
   ]
  },
  {
   "cell_type": "markdown",
   "metadata": {},
   "source": [
    "## Batch Gradient Descent"
   ]
  },
  {
   "cell_type": "code",
   "execution_count": 87,
   "metadata": {},
   "outputs": [],
   "source": [
    "eta = 0.1         # Learning rate\n",
    "n_iterations = 1000    # Number of steps until convergence assumed\n",
    "m = 100           # Number of training samples in the batch "
   ]
  },
  {
   "cell_type": "code",
   "execution_count": 88,
   "metadata": {},
   "outputs": [],
   "source": [
    "theta = np.random.randn(2, 1) # Random initialisation of weights"
   ]
  },
  {
   "cell_type": "code",
   "execution_count": 89,
   "metadata": {},
   "outputs": [],
   "source": [
    "for iteration in range(n_iterations):\n",
    "    # Computing the gradient using entire batch - bias feature x_0 = 1 included\n",
    "    gradients = 2 / m * X_b.T.dot(X_b.dot(theta) - y) \n",
    "    \n",
    "    # Updating parameters by moving in the direction of steepest descent\n",
    "    theta = theta - eta * gradients"
   ]
  },
  {
   "cell_type": "code",
   "execution_count": 90,
   "metadata": {},
   "outputs": [
    {
     "data": {
      "text/plain": [
       "array([[4.21509616],\n",
       "       [2.77011339]])"
      ]
     },
     "execution_count": 90,
     "metadata": {},
     "output_type": "execute_result"
    }
   ],
   "source": [
    "theta"
   ]
  },
  {
   "cell_type": "markdown",
   "metadata": {},
   "source": [
    "Gives the same values for `theta_0` and `theta_` as the linear regression model we implemented earlier (both with `sklearn` and with normal equation)."
   ]
  },
  {
   "cell_type": "code",
   "execution_count": 91,
   "metadata": {},
   "outputs": [
    {
     "data": {
      "text/plain": [
       "array([[4.21509616],\n",
       "       [9.75532293]])"
      ]
     },
     "execution_count": 91,
     "metadata": {},
     "output_type": "execute_result"
    }
   ],
   "source": [
    "# Predictions made for a new data point will also be the same as earlier\n",
    "X_new_b.dot(theta)"
   ]
  },
  {
   "cell_type": "markdown",
   "metadata": {},
   "source": [
    "## How does learning rate affect BGD?\n",
    "\n",
    "Showing the first 10 steps of gradient descent with different learning rates. Updates values of theta, and then uses those values to plot a straight line at each step."
   ]
  },
  {
   "cell_type": "code",
   "execution_count": 92,
   "metadata": {},
   "outputs": [],
   "source": [
    "theta_path_bgd = []"
   ]
  },
  {
   "cell_type": "code",
   "execution_count": 93,
   "metadata": {},
   "outputs": [],
   "source": [
    "def plot_gradient_descent(theta, eta, theta_path=None):\n",
    "    m = len(X_b) # Number of features\n",
    "    plt.plot(X, y, 'b.') # Scatterplot of training samples\n",
    "    n_iterations = 100\n",
    "    \n",
    "    # At every iteration\n",
    "    for iteration in range(n_iterations):\n",
    "        # For the first 10 iterations\n",
    "        if iteration < 10:\n",
    "            # Make predictions using the last updated values of theta\n",
    "            y_predict = X_new_b.dot(theta)\n",
    "            \n",
    "            # The first prediction will be shown as a red line\n",
    "            style = 'b-' if iteration > 0 else 'r--'\n",
    "            \n",
    "            # All other predictions will be shown as blue lines\n",
    "            plt.plot(X_new, y_predict, style)\n",
    "            \n",
    "        # Compute the gradient for the next update of theta\n",
    "        gradients = 2 / m * X_b.T.dot(X_b.dot(theta) - y)\n",
    "        \n",
    "        # Update theta\n",
    "        theta = theta - eta * gradients\n",
    "        \n",
    "        # If there are already some values in theta_path, append the new theta updated values to it\n",
    "        if theta_path is not None:\n",
    "            theta_path.append(theta)\n",
    "    plt.xlabel('$x_1$', fontsize=18)\n",
    "    plt.axis([0, 2, 0, 15])\n",
    "    plt.title(r'$\\eta = {}$'.format(eta), fontsize=16)"
   ]
  },
  {
   "cell_type": "code",
   "execution_count": 94,
   "metadata": {},
   "outputs": [
    {
     "data": {
      "image/png": "[encoded data removed]",
      "text/plain": [
       "<Figure size 720x288 with 3 Axes>"
      ]
     },
     "metadata": {},
     "output_type": "display_data"
    }
   ],
   "source": [
    "np.random.seed(42)\n",
    "theta = np.random.randn(2, 1)\n",
    "plt.figure(figsize=(10, 4))\n",
    "plt.subplot(131); plot_gradient_descent(theta, eta=0.02)\n",
    "plt.ylabel('$y$', rotation=0, fontsize=18)\n",
    "plt.subplot(132); plot_gradient_descent(theta, eta=0.1, theta_path=theta_path_bgd)\n",
    "plt.subplot(133); plot_gradient_descent(theta, eta=0.5);"
   ]
  },
  {
   "cell_type": "markdown",
   "metadata": {},
   "source": [
    "The first plot shows what happens when the learning rate is too low: the model will probably converge to the right values of theta, but will take too many iterations to do so.\n",
    "\n",
    "The second plot shows what happens when the learning rate is \"just right\": it has already converged to the scatterplot in 10 iterations.\n",
    "\n",
    "When the learning rate is too large (as in the third plot), the model actually diverges: it moves farther away from the scatterplot at each iteration.\n",
    "\n",
    "Because the author knew that the optimal values of theta would be obtained with a learning rate of 0.1, he has chosen to save the values of theta with learning rate = 0.1 in `theta_path_bgd` so that they can be plotted later on."
   ]
  },
  {
   "cell_type": "markdown",
   "metadata": {},
   "source": [
    "## How to set iterations?\n",
    "- Specify a very large number of iterations to start with.\n",
    "- Calculate the magnitude of the gradient vector.\n",
    "- Specify a threshold value $\\epsilon$ - called the **tolerance**.\n",
    "- When the magnitude of the gradient vector becomes less than the threshold $\\epsilon$, the weights aren't really being updated substantially. This indicates that the model has converged. \n",
    "- Record the iterations at which this convergence aoccurs."
   ]
  },
  {
   "cell_type": "markdown",
   "metadata": {},
   "source": [
    "## Stochastic Gradient Descent\n",
    "The problem with batch gradient descent is that it uses **all** the samples in the training set to compute the gradient vector and update parameters. This means that if the training set is very large, a single update will be computationally very expensive and therefore the entire process of training the model will be very slow.\n",
    "\n",
    "Another way of updating weights is to pick a training sample at random from the data set and use it in computing the gradient. This is **stochastic** gradient descent. Because it uses only a single training sample, gradient computation is much faster and requires much less memory (which is why it can be implemented in an out of core leraning algorithm). \n",
    "\n",
    "However, because the sample is drawn at random, the weights are not updated in an organized systematic fashion. There is a lot of noise in the path taken by the parameters to converge. Even when it reaches near the global optimum, it will not settle on a single value, but continue to bounce around. **This isn't always a bad thing**: this can help the SGD algorithm escape local minima in highly irregular cost functions. \n",
    "\n",
    "### TLDR\n",
    "- **Good**: Can escape local minima.\n",
    "- **Bad**: Will never settle at a minimu,\n",
    "\n",
    "### Solution - Learning Schedules\n",
    "Gradually adjust the learning rate so that it is initially large, which will help the model escape local minima at first, and then decreases as the model approaches the global minimum, allowing it to settle. \n",
    "\n",
    "If the learning schedule decreases the learning rate too quickly, then the weights may get stuck at a local minimum or never reach a minimum to begin with (since updates are too small).\n",
    "\n",
    "If the learning schedule decreases the learning rate too slowly, then the weights may jump around the minimum for a long time before converging."
   ]
  },
  {
   "cell_type": "code",
   "execution_count": 95,
   "metadata": {},
   "outputs": [],
   "source": [
    "# Used to store the weight updates for the optimal learning schedule with SGD\n",
    "theta_path_sgd = []"
   ]
  },
  {
   "cell_type": "code",
   "execution_count": 96,
   "metadata": {},
   "outputs": [],
   "source": [
    "# Number of features\n",
    "m = len(X_b)\n",
    "\n",
    "# Seeding random number generator to match book's results\n",
    "np.random.seed(42)"
   ]
  },
  {
   "cell_type": "code",
   "execution_count": 97,
   "metadata": {},
   "outputs": [],
   "source": [
    "# Can think of this as the number of iterations/full passes over the training st\n",
    "n_epochs = 50\n",
    "\n",
    "t_0, t_1 = 5, 50 # Learning schedule hyperparameters"
   ]
  },
  {
   "cell_type": "code",
   "execution_count": 98,
   "metadata": {},
   "outputs": [],
   "source": [
    "def learning_schedule(t):\n",
    "    # Returns a coefficient for scaling the learning rate at time `t`\n",
    "    return t_0 / (t + t_1)"
   ]
  },
  {
   "cell_type": "code",
   "execution_count": 99,
   "metadata": {},
   "outputs": [],
   "source": [
    "# Random initialization\n",
    "theta = np.random.randn(2, 1)"
   ]
  },
  {
   "cell_type": "code",
   "execution_count": 100,
   "metadata": {},
   "outputs": [
    {
     "data": {
      "text/plain": [
       "[0, 2, 0, 15]"
      ]
     },
     "execution_count": 100,
     "metadata": {},
     "output_type": "execute_result"
    },
    {
     "data": {
      "image/png": "[encoded data removed]",
      "text/plain": [
       "<Figure size 432x288 with 1 Axes>"
      ]
     },
     "metadata": {},
     "output_type": "display_data"
    }
   ],
   "source": [
    "# For every epoch\n",
    "for epoch in range(n_epochs):\n",
    "    # Draw as many samples for SGD as there are samples in the training set\n",
    "    for i in range(m):\n",
    "        # For the first 20 samples in the first epoch\n",
    "        if epoch == 0 and i < 20:\n",
    "            # The prediciton using random initialised values of theta will be shown in red\n",
    "            # For all others, show blue line\n",
    "            y_predict = X_new_b.dot(theta)\n",
    "            style ='b-' if i > 0 else 'r--'\n",
    "            plt.plot(X_new, y_predict, style)\n",
    "        \n",
    "        # Generate index of sample to draw from training set to update weights\n",
    "        random_index = np.random.randint(m)\n",
    "        \n",
    "        # Draw sample and its label\n",
    "        x_i = X_b[random_index:random_index + 1]\n",
    "        y_i = y[random_index:random_index + 1]\n",
    "        \n",
    "        # Compute the gradient using this sample\n",
    "        gradients = 2 * x_i.T.dot(x_i.dot(theta) - y_i)\n",
    "        \n",
    "        # Calculate the learning rate as a function of the sample and epoch number\n",
    "        # Later epochs and later samples will have lower learning rates\n",
    "        eta = learning_schedule(epoch * m + i)\n",
    "        \n",
    "        # Update the params, append to theta_path_sgd\n",
    "        theta = theta - eta * gradients\n",
    "        theta_path_sgd.append(theta)\n",
    "\n",
    "# Superimpose scatterplot of training data\n",
    "plt.plot(X, y, 'b.') # B dot. Not b. Need to make a scatter plot\n",
    "plt.xlabel('$x_1$', fontsize=18)\n",
    "plt.ylabel('$y$', rotation=0, fontsize=18)\n",
    "plt.axis([0, 2, 0, 15])"
   ]
  },
  {
   "cell_type": "code",
   "execution_count": 101,
   "metadata": {},
   "outputs": [
    {
     "data": {
      "text/plain": [
       "array([[4.21076011],\n",
       "       [2.74856079]])"
      ]
     },
     "execution_count": 101,
     "metadata": {},
     "output_type": "execute_result"
    }
   ],
   "source": [
    "# What is the last value of theta calculated with SGD\n",
    "theta"
   ]
  },
  {
   "cell_type": "markdown",
   "metadata": {},
   "source": [
    "### Discussion\n",
    "- The BGD algorithm took 1,000 iterations or iterated 1,000 times through the whole training set.\n",
    "- SGD goes through the training set only 50 times before converging to a good solution.\n",
    "    - 50 epochs or passes over the training set, and we already have convergence.\n",
    "- Just because SGD iterates over `m` training samples **does not mean** that **all** samples in the training set will have been drawn at least once to update weights. Some samples may have been drawn more than once. Others may not have been drawn at all.\n",
    "- If we want to ensure that all samples are drawn at least once, shuffle the data at each iteration in an epoch, and then generate a random index. However, this will converge more slowly. "
   ]
  },
  {
   "cell_type": "markdown",
   "metadata": {},
   "source": [
    "## SGD with `sklearn`"
   ]
  },
  {
   "cell_type": "code",
   "execution_count": 56,
   "metadata": {},
   "outputs": [],
   "source": [
    "from sklearn.linear_model import SGDRegressor"
   ]
  },
  {
   "cell_type": "markdown",
   "metadata": {},
   "source": [
    "The following `SGDRegressor` uses the mean-squared error as a loss function. It is set to iterate over the training set 1000 times, and will stop iterating as soon as magnitude of the loss between two iterations changes by less than 0.001. It does not implement any regularization, since `penalty` is `None`. The initial learning rate `eta0` is 0.1, and the learning schedule it uses to change the learning rate is different from the one we've implemented earlier. "
   ]
  },
  {
   "cell_type": "code",
   "execution_count": 58,
   "metadata": {},
   "outputs": [],
   "source": [
    "sgd_reg = SGDRegressor(loss='squared_loss', max_iter=1000, tol=1e-3, penalty=None, \n",
    "                      eta0=0.1, random_state=42)"
   ]
  },
  {
   "cell_type": "code",
   "execution_count": 59,
   "metadata": {},
   "outputs": [
    {
     "data": {
      "text/plain": [
       "SGDRegressor(alpha=0.0001, average=False, early_stopping=False, epsilon=0.1,\n",
       "       eta0=0.1, fit_intercept=True, l1_ratio=0.15,\n",
       "       learning_rate='invscaling', loss='squared_loss', max_iter=1000,\n",
       "       n_iter=None, n_iter_no_change=5, penalty=None, power_t=0.25,\n",
       "       random_state=42, shuffle=True, tol=0.001, validation_fraction=0.1,\n",
       "       verbose=0, warm_start=False)"
      ]
     },
     "execution_count": 59,
     "metadata": {},
     "output_type": "execute_result"
    }
   ],
   "source": [
    "# Why are we using y.ravel()\n",
    "sgd_reg.fit(X, y.ravel())"
   ]
  },
  {
   "cell_type": "code",
   "execution_count": 62,
   "metadata": {},
   "outputs": [
    {
     "data": {
      "text/plain": [
       "(array([4.24365286]), array([2.8250878]))"
      ]
     },
     "execution_count": 62,
     "metadata": {},
     "output_type": "execute_result"
    }
   ],
   "source": [
    "sgd_reg.intercept_, sgd_reg.coef_"
   ]
  },
  {
   "cell_type": "markdown",
   "metadata": {},
   "source": [
    "These values for `theta_0` and `theta_1` are both very close to the ones estimated by the normal equation. "
   ]
  },
  {
   "cell_type": "markdown",
   "metadata": {},
   "source": [
    "## Minibatch Gradient Descent"
   ]
  },
  {
   "cell_type": "code",
   "execution_count": 112,
   "metadata": {},
   "outputs": [],
   "source": [
    "# Store weight updates for minibatch gradient descent to compare against other GDs\n",
    "theta_path_mgd = []"
   ]
  },
  {
   "cell_type": "code",
   "execution_count": 113,
   "metadata": {},
   "outputs": [],
   "source": [
    "n_iterations = 50"
   ]
  },
  {
   "cell_type": "code",
   "execution_count": 114,
   "metadata": {},
   "outputs": [],
   "source": [
    "minibatch_size = 20"
   ]
  },
  {
   "cell_type": "code",
   "execution_count": 115,
   "metadata": {},
   "outputs": [],
   "source": [
    "# Defining a function that will be used to update the learning rate \n",
    "t_0, t_1 = 200, 1000\n",
    "def learning_schedule(t):\n",
    "    return t_0 / (t + t_1)"
   ]
  },
  {
   "cell_type": "code",
   "execution_count": 116,
   "metadata": {},
   "outputs": [],
   "source": [
    "# Initializing t\n",
    "t = 0"
   ]
  },
  {
   "cell_type": "code",
   "execution_count": 117,
   "metadata": {},
   "outputs": [],
   "source": [
    "np.random.seed(42)"
   ]
  },
  {
   "cell_type": "code",
   "execution_count": 118,
   "metadata": {},
   "outputs": [],
   "source": [
    "# Random initialization of weights\n",
    "theta = np.random.randn(2, 1)"
   ]
  },
  {
   "cell_type": "code",
   "execution_count": 119,
   "metadata": {},
   "outputs": [],
   "source": [
    "for epoch in range(n_iterations):\n",
    "    # Why are we using the permutation command here? Why not np.random.\n",
    "    shuffled_indices = np.random.permutation(m)\n",
    "    \n",
    "    # Shuffle training samples and labels\n",
    "    X_b_shuffled = X_b[shuffled_indices]\n",
    "    y_shuffled = y[shuffled_indices]\n",
    "    \n",
    "    # Iterate over the minibatch, use it to compute weight updates and gradients\n",
    "    for i in range(0, m, minibatch_size):\n",
    "        # Increment learning schedule counter variable\n",
    "        t += 1\n",
    "        x_i = X_b_shuffled[i : i + minibatch_size]\n",
    "        y_i = y_shuffled[i : i + minibatch_size]\n",
    "        \n",
    "        # Denom is now the minibatch's size\n",
    "        gradients = 2 / minibatch_size * x_i.T.dot(x_i.dot(theta) - y_i)\n",
    "        \n",
    "        # Update the learning rate for this iteration\n",
    "        eta = learning_schedule(t)\n",
    "        \n",
    "        # Update the parameter weigths\n",
    "        theta = theta - eta * gradients\n",
    "        \n",
    "        # Record the param updates\n",
    "        theta_path_mgd.append(theta)"
   ]
  },
  {
   "cell_type": "code",
   "execution_count": 120,
   "metadata": {},
   "outputs": [
    {
     "data": {
      "text/plain": [
       "array([[4.25214635],\n",
       "       [2.7896408 ]])"
      ]
     },
     "execution_count": 120,
     "metadata": {},
     "output_type": "execute_result"
    }
   ],
   "source": [
    "# What is the final value of theta derived from SGD?\n",
    "theta"
   ]
  },
  {
   "cell_type": "markdown",
   "metadata": {},
   "source": [
    "## Comparing Gradient Descent Variants"
   ]
  },
  {
   "cell_type": "code",
   "execution_count": 121,
   "metadata": {},
   "outputs": [],
   "source": [
    "theta_path_bgd = np.array(theta_path_bgd)\n",
    "theta_path_sgd = np.array(theta_path_sgd)\n",
    "theta_path_mgd = np.array(theta_path_mgd)"
   ]
  },
  {
   "cell_type": "code",
   "execution_count": 124,
   "metadata": {},
   "outputs": [
    {
     "name": "stdout",
     "output_type": "stream",
     "text": [
      "Saving figure  gradient_descent_paths_plot\n"
     ]
    },
    {
     "data": {
      "image/png": "[encoded data removed]",
      "text/plain": [
       "<Figure size 504x288 with 1 Axes>"
      ]
     },
     "metadata": {},
     "output_type": "display_data"
    }
   ],
   "source": [
    "plt.figure(figsize=(7, 4))\n",
    "plt.plot(theta_path_sgd[:, 0], theta_path_sgd[:, 1], 'r-s', \n",
    "        linewidth=1, label='Stochastic')\n",
    "plt.plot(theta_path_mgd[:, 0], theta_path_mgd[:, 1], 'g-+', \n",
    "        linewidth=2, label='Mini-batch')\n",
    "plt.plot(theta_path_bgd[:, 0], theta_path_bgd[:, 1], 'b-o', \n",
    "        linewidth=3, label='Batch')\n",
    "plt.legend(loc='upper left', fontsize=16)\n",
    "plt.xlabel(r'$\\theta_0$', fontsize=20)\n",
    "plt.ylabel(r'$\\theta_1$', fontsize=20, rotation=0)\n",
    "plt.axis([2.5, 4.5, 2.3, 3.9])\n",
    "save_fig('gradient_descent_paths_plot')"
   ]
  }
 ],
 "metadata": {
  "kernelspec": {
   "display_name": "Python 3",
   "language": "python",
   "name": "python3"
  },
  "language_info": {
   "codemirror_mode": {
    "name": "ipython",
    "version": 3
   },
   "file_extension": ".py",
   "mimetype": "text/x-python",
   "name": "python",
   "nbconvert_exporter": "python",
   "pygments_lexer": "ipython3",
   "version": "3.6.5"
  }
 },
 "nbformat": 4,
 "nbformat_minor": 2
}
