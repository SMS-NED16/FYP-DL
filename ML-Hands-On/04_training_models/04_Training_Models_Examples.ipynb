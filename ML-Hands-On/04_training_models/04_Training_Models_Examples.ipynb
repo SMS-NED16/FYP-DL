{
 "cells": [
  {
   "cell_type": "markdown",
   "metadata": {},
   "source": [
    "# Hands-on Machine Learning\n",
    "# Chapter 4 - Training Models"
   ]
  },
  {
   "cell_type": "markdown",
   "metadata": {},
   "source": [
    "## Setup"
   ]
  },
  {
   "cell_type": "code",
   "execution_count": 38,
   "metadata": {},
   "outputs": [],
   "source": [
    "# Is Python version at least 3.5?\n",
    "import sys\n",
    "assert sys.version_info >= (3, 5)\n",
    "\n",
    "# Is sklearn at least version 0.2?\n",
    "import sklearn\n",
    "assert sklearn.__version__  >= \"0.20\"\n",
    "\n",
    "# Helper libraries\n",
    "import numpy as np\n",
    "import pandas as pd\n",
    "\n",
    "# Matplotlib setup \n",
    "import matplotlib.pyplot as plt\n",
    "%matplotlib inline\n",
    "import matplotlib as mpl\n",
    "mpl.rc('axes', labelsize=14)\n",
    "mpl.rc('xtick', labelsize=12)\n",
    "mpl.rc('ytick', labelsize=12)\n",
    "\n",
    "# Ignore warnings for this notebook\n",
    "import warnings\n",
    "warnings.filterwarnings(action='ignore', message='^internal gelsd')"
   ]
  },
  {
   "cell_type": "code",
   "execution_count": 39,
   "metadata": {},
   "outputs": [],
   "source": [
    "# Directory for storing images\n",
    "import os\n",
    "PROJECT_ROOT_DIR = \"../\"\n",
    "CHAPTER_ID = '04_training_linear_models'\n",
    "IMAGES_PATH = os.path.join(PROJECT_ROOT_DIR, 'images', CHAPTER_ID)\n",
    "os.makedirs(IMAGES_PATH, exist_ok=True)"
   ]
  },
  {
   "cell_type": "code",
   "execution_count": 40,
   "metadata": {},
   "outputs": [],
   "source": [
    "# Function save images\n",
    "def save_fig(fig_id, tight_layout=True, fig_extension='png', resolution=300):\n",
    "    path = os.path.join(IMAGES_PATH, fig_id + '.' + fig_extension)\n",
    "    print(\"Saving figure \", fig_id)\n",
    "    if tight_layout:\n",
    "        plt.tight_layout()\n",
    "    plt.savefig(path, format=fig_extension, dpi=resolution)"
   ]
  },
  {
   "cell_type": "markdown",
   "metadata": {},
   "source": [
    "## Example 1 - Normal Equation and Linear Models\n",
    "The normal equation provides a closed-form solution for minimising the parameter values $\\theta$ of a linear model to minimise the mean square error between the model's predictions $y'$ and $y$."
   ]
  },
  {
   "cell_type": "code",
   "execution_count": 5,
   "metadata": {},
   "outputs": [],
   "source": [
    "np.random.seed(42)"
   ]
  },
  {
   "cell_type": "code",
   "execution_count": 6,
   "metadata": {},
   "outputs": [],
   "source": [
    "# Create a domain of 100 random values between 0 and 1\n",
    "X = 2 * np.random.rand(100, 1)\n",
    "\n",
    "# Use this domain to create a linear sum with some normally distributed noise\n",
    "y = 4 + 3 * X + np.random.randn(100, 1)"
   ]
  },
  {
   "cell_type": "code",
   "execution_count": 7,
   "metadata": {},
   "outputs": [
    {
     "name": "stdout",
     "output_type": "stream",
     "text": [
      "Saving figure  01_generated_data_plot\n"
     ]
    },
    {
     "data": {
      "image/png": "[encoded data removed]",
      "text/plain": [
       "<Figure size 432x288 with 1 Axes>"
      ]
     },
     "metadata": {},
     "output_type": "display_data"
    }
   ],
   "source": [
    "# Create a scatter plot of the randomly generated data\n",
    "plt.plot(X, y, 'b.')\n",
    "plt.xlabel('$x_1$', fontsize=18)\n",
    "plt.ylabel('$y$', rotation=0, fontsize=18)\n",
    "plt.axis([0, 2, 0, 15]) # Axis limits\n",
    "save_fig('01_generated_data_plot')"
   ]
  },
  {
   "cell_type": "markdown",
   "metadata": {},
   "source": [
    "Will now compute the values of $\\theta$ for this dataset using the normal equation to prove that it does, indeed, derive the correct values. `np.linalg.inv` is used to invert the matrix and `dot` is used for matrix multiplication in the evaluation of  $$\\theta^{'} = (X^{T}X)^{-1}X^{T}y$$"
   ]
  },
  {
   "cell_type": "code",
   "execution_count": 8,
   "metadata": {},
   "outputs": [],
   "source": [
    "# Add the bias feature x_0 = 1 to all rows in X\n",
    "X_b = np.c_[np.ones((100, 1)), X]"
   ]
  },
  {
   "cell_type": "code",
   "execution_count": 9,
   "metadata": {},
   "outputs": [],
   "source": [
    "# Use the normal equation to find the values of theta for this model\n",
    "theta_best = np.linalg.inv(X_b.T.dot(X_b)).dot(X_b.T).dot(y)"
   ]
  },
  {
   "cell_type": "code",
   "execution_count": 10,
   "metadata": {},
   "outputs": [
    {
     "data": {
      "text/plain": [
       "array([[4.21509616],\n",
       "       [2.77011339]])"
      ]
     },
     "execution_count": 10,
     "metadata": {},
     "output_type": "execute_result"
    }
   ],
   "source": [
    "theta_best"
   ]
  },
  {
   "cell_type": "markdown",
   "metadata": {},
   "source": [
    "The reason why the normal equation does not predict exactly 4 and 3 is because we have added random noise to the value computed by the original function."
   ]
  },
  {
   "cell_type": "code",
   "execution_count": 11,
   "metadata": {},
   "outputs": [
    {
     "data": {
      "text/plain": [
       "array([[4.21509616],\n",
       "       [9.75532293]])"
      ]
     },
     "execution_count": 11,
     "metadata": {},
     "output_type": "execute_result"
    }
   ],
   "source": [
    "# Create new instances on which to test the normal equation\n",
    "X_new = np.array([[0], [2]])\n",
    "\n",
    "# Add x_0 = 1 to each instance\n",
    "X_new_b = np.c_[np.ones((2, 1)), X_new] \n",
    "\n",
    "# Make predictions\n",
    "y_predict = X_new_b.dot(theta_best)\n",
    "y_predict"
   ]
  },
  {
   "cell_type": "code",
   "execution_count": 11,
   "metadata": {},
   "outputs": [
    {
     "name": "stdout",
     "output_type": "stream",
     "text": [
      "Saving figure  02_linear_model_predictions_plot\n"
     ]
    },
    {
     "data": {
      "image/png": "[encoded data removed]",
      "text/plain": [
       "<Figure size 432x288 with 1 Axes>"
      ]
     },
     "metadata": {},
     "output_type": "display_data"
    }
   ],
   "source": [
    "# Plot the model's predictions for all values in the domain\n",
    "plt.plot(X_new, y_predict, 'r-', label='Predictions', linewidth=2)\n",
    "\n",
    "# Original scatterplot data\n",
    "plt.plot(X, y, 'b.')\n",
    "\n",
    "plt.axis([0, 2, 0, 15])\n",
    "plt.xlabel('$x_1$', fontsize=18)\n",
    "plt.ylabel('$y$', fontsize=18, rotation=0)\n",
    "plt.legend(loc='upper left', fontsize=14)\n",
    "save_fig('02_linear_model_predictions_plot')\n",
    "plt.show()"
   ]
  },
  {
   "cell_type": "markdown",
   "metadata": {},
   "source": [
    "## Example 2 - Linear Regression with `sklearn`"
   ]
  },
  {
   "cell_type": "code",
   "execution_count": 12,
   "metadata": {},
   "outputs": [],
   "source": [
    "from sklearn.linear_model import LinearRegression"
   ]
  },
  {
   "cell_type": "code",
   "execution_count": 13,
   "metadata": {},
   "outputs": [],
   "source": [
    "lin_reg = LinearRegression()"
   ]
  },
  {
   "cell_type": "code",
   "execution_count": 14,
   "metadata": {},
   "outputs": [
    {
     "data": {
      "text/plain": [
       "LinearRegression(copy_X=True, fit_intercept=True, n_jobs=None,\n",
       "         normalize=False)"
      ]
     },
     "execution_count": 14,
     "metadata": {},
     "output_type": "execute_result"
    }
   ],
   "source": [
    "# Computes the values of theta_0 and theta_1 that minimise MSE for X\n",
    "lin_reg.fit(X, y)"
   ]
  },
  {
   "cell_type": "code",
   "execution_count": 15,
   "metadata": {},
   "outputs": [
    {
     "name": "stdout",
     "output_type": "stream",
     "text": [
      "Intercept:  [4.21509616]\n",
      "Coefficients:  [[2.77011339]]\n"
     ]
    }
   ],
   "source": [
    "# Output the learnt params \n",
    "print(\"Intercept: \", lin_reg.intercept_)\n",
    "print(\"Coefficients: \", lin_reg.coef_)"
   ]
  },
  {
   "cell_type": "code",
   "execution_count": 16,
   "metadata": {},
   "outputs": [
    {
     "data": {
      "text/plain": [
       "array([[4.21509616],\n",
       "       [9.75532293]])"
      ]
     },
     "execution_count": 16,
     "metadata": {},
     "output_type": "execute_result"
    }
   ],
   "source": [
    "# Make predictions on new data using the linear regression model\n",
    "lin_reg.predict(X_new)"
   ]
  },
  {
   "cell_type": "markdown",
   "metadata": {},
   "source": [
    " Under the hood, the `LinearRegression.fit()` method calls the least squares minimising function built into `scipy`, which we can call directly. It returns the least squares solution to a linear matrix equation."
   ]
  },
  {
   "cell_type": "code",
   "execution_count": 17,
   "metadata": {},
   "outputs": [],
   "source": [
    "theta_best_svd, residuals, rank, s = np.linalg.lstsq(X_b, y, rcond=1e-6)"
   ]
  },
  {
   "cell_type": "code",
   "execution_count": 18,
   "metadata": {},
   "outputs": [
    {
     "data": {
      "text/plain": [
       "array([[4.21509616],\n",
       "       [2.77011339]])"
      ]
     },
     "execution_count": 18,
     "metadata": {},
     "output_type": "execute_result"
    }
   ],
   "source": [
    "theta_best_svd"
   ]
  },
  {
   "cell_type": "markdown",
   "metadata": {},
   "source": [
    "Gives the same results as the linear regression function, but at a lower level of abstraction. Also, doesn't compute the inverse, but rather the pseudoinverse of X. The equation it solves is $$\\theta^{'} = X^{+}y$$ where $X^{+}$ is the pseudoinverse of $X$."
   ]
  },
  {
   "cell_type": "code",
   "execution_count": 19,
   "metadata": {},
   "outputs": [
    {
     "data": {
      "text/plain": [
       "array([[4.21509616],\n",
       "       [2.77011339]])"
      ]
     },
     "execution_count": 19,
     "metadata": {},
     "output_type": "execute_result"
    }
   ],
   "source": [
    "# Can compute pseudoinverse and its dot product with y directly\n",
    "np.linalg.pinv(X_b).dot(y)"
   ]
  },
  {
   "cell_type": "markdown",
   "metadata": {},
   "source": [
    "### Pseudoinverse vs Inverse\n",
    "Pseudoinverse computation is done using **singular value decomposition (SVD)**, which decomposes a training set matrix **X** into the multiplication of three matrices $U$, $\\Sigma$, $V^{T}$. \n",
    "\n",
    "The pseudoinverse uses $X^{+} = V \\Sigma^{+}U^{T}$. To compute $Sigma^+$, the algorithm will set to 0 all values in $\\Sigma$ that are lower than a specified threshold. Non-zero values are replaced with their inverses. The resulting matrix is then transposed. \n",
    "\n",
    "This provides a more **computationally efficient approach** than computing the actual inverse as in the normal equation, and also handles edge cases very wel. "
   ]
  },
  {
   "cell_type": "markdown",
   "metadata": {},
   "source": [
    "## Batch Gradient Descent"
   ]
  },
  {
   "cell_type": "code",
   "execution_count": 20,
   "metadata": {},
   "outputs": [],
   "source": [
    "eta = 0.1         # Learning rate\n",
    "n_iterations = 1000    # Number of steps until convergence assumed\n",
    "m = 100           # Number of training samples in the batch "
   ]
  },
  {
   "cell_type": "code",
   "execution_count": 21,
   "metadata": {},
   "outputs": [],
   "source": [
    "theta = np.random.randn(2, 1) # Random initialisation of weights"
   ]
  },
  {
   "cell_type": "code",
   "execution_count": 22,
   "metadata": {},
   "outputs": [],
   "source": [
    "for iteration in range(n_iterations):\n",
    "    # Computing the gradient using entire batch - bias feature x_0 = 1 included\n",
    "    gradients = 2 / m * X_b.T.dot(X_b.dot(theta) - y) \n",
    "    \n",
    "    # Updating parameters by moving in the direction of steepest descent\n",
    "    theta = theta - eta * gradients"
   ]
  },
  {
   "cell_type": "code",
   "execution_count": 23,
   "metadata": {},
   "outputs": [
    {
     "data": {
      "text/plain": [
       "array([[4.21509616],\n",
       "       [2.77011339]])"
      ]
     },
     "execution_count": 23,
     "metadata": {},
     "output_type": "execute_result"
    }
   ],
   "source": [
    "theta"
   ]
  },
  {
   "cell_type": "markdown",
   "metadata": {},
   "source": [
    "Gives the same values for `theta_0` and `theta_` as the linear regression model we implemented earlier (both with `sklearn` and with normal equation)."
   ]
  },
  {
   "cell_type": "code",
   "execution_count": 24,
   "metadata": {},
   "outputs": [
    {
     "data": {
      "text/plain": [
       "array([[4.21509616],\n",
       "       [9.75532293]])"
      ]
     },
     "execution_count": 24,
     "metadata": {},
     "output_type": "execute_result"
    }
   ],
   "source": [
    "# Predictions made for a new data point will also be the same as earlier\n",
    "X_new_b.dot(theta)"
   ]
  },
  {
   "cell_type": "markdown",
   "metadata": {},
   "source": [
    "## How does learning rate affect BGD?\n",
    "\n",
    "Showing the first 10 steps of gradient descent with different learning rates. Updates values of theta, and then uses those values to plot a straight line at each step."
   ]
  },
  {
   "cell_type": "code",
   "execution_count": 25,
   "metadata": {},
   "outputs": [],
   "source": [
    "theta_path_bgd = []"
   ]
  },
  {
   "cell_type": "code",
   "execution_count": 26,
   "metadata": {},
   "outputs": [],
   "source": [
    "def plot_gradient_descent(theta, eta, theta_path=None):\n",
    "    m = len(X_b) # Number of features\n",
    "    plt.plot(X, y, 'b.') # Scatterplot of training samples\n",
    "    n_iterations = 100\n",
    "    \n",
    "    # At every iteration\n",
    "    for iteration in range(n_iterations):\n",
    "        # For the first 10 iterations\n",
    "        if iteration < 10:\n",
    "            # Make predictions using the last updated values of theta\n",
    "            y_predict = X_new_b.dot(theta)\n",
    "            \n",
    "            # The first prediction will be shown as a red line\n",
    "            style = 'b-' if iteration > 0 else 'r--'\n",
    "            \n",
    "            # All other predictions will be shown as blue lines\n",
    "            plt.plot(X_new, y_predict, style)\n",
    "            \n",
    "        # Compute the gradient for the next update of theta\n",
    "        gradients = 2 / m * X_b.T.dot(X_b.dot(theta) - y)\n",
    "        \n",
    "        # Update theta\n",
    "        theta = theta - eta * gradients\n",
    "        \n",
    "        # If there are already some values in theta_path, append the new theta updated values to it\n",
    "        if theta_path is not None:\n",
    "            theta_path.append(theta)\n",
    "    plt.xlabel('$x_1$', fontsize=18)\n",
    "    plt.axis([0, 2, 0, 15])\n",
    "    plt.title(r'$\\eta = {}$'.format(eta), fontsize=16)"
   ]
  },
  {
   "cell_type": "code",
   "execution_count": 27,
   "metadata": {},
   "outputs": [
    {
     "data": {
      "image/png": "[encoded data removed]",
      "text/plain": [
       "<Figure size 720x288 with 3 Axes>"
      ]
     },
     "metadata": {},
     "output_type": "display_data"
    }
   ],
   "source": [
    "np.random.seed(42)\n",
    "theta = np.random.randn(2, 1)\n",
    "plt.figure(figsize=(10, 4))\n",
    "plt.subplot(131); plot_gradient_descent(theta, eta=0.02)\n",
    "plt.ylabel('$y$', rotation=0, fontsize=18)\n",
    "plt.subplot(132); plot_gradient_descent(theta, eta=0.1, theta_path=theta_path_bgd)\n",
    "plt.subplot(133); plot_gradient_descent(theta, eta=0.5);"
   ]
  },
  {
   "cell_type": "markdown",
   "metadata": {},
   "source": [
    "The first plot shows what happens when the learning rate is too low: the model will probably converge to the right values of theta, but will take too many iterations to do so.\n",
    "\n",
    "The second plot shows what happens when the learning rate is \"just right\": it has already converged to the scatterplot in 10 iterations.\n",
    "\n",
    "When the learning rate is too large (as in the third plot), the model actually diverges: it moves farther away from the scatterplot at each iteration.\n",
    "\n",
    "Because the author knew that the optimal values of theta would be obtained with a learning rate of 0.1, he has chosen to save the values of theta with learning rate = 0.1 in `theta_path_bgd` so that they can be plotted later on."
   ]
  },
  {
   "cell_type": "markdown",
   "metadata": {},
   "source": [
    "## How to set iterations?\n",
    "- Specify a very large number of iterations to start with.\n",
    "- Calculate the magnitude of the gradient vector.\n",
    "- Specify a threshold value $\\epsilon$ - called the **tolerance**.\n",
    "- When the magnitude of the gradient vector becomes less than the threshold $\\epsilon$, the weights aren't really being updated substantially. This indicates that the model has converged. \n",
    "- Record the iterations at which this convergence aoccurs."
   ]
  },
  {
   "cell_type": "markdown",
   "metadata": {},
   "source": [
    "## Stochastic Gradient Descent\n",
    "The problem with batch gradient descent is that it uses **all** the samples in the training set to compute the gradient vector and update parameters. This means that if the training set is very large, a single update will be computationally very expensive and therefore the entire process of training the model will be very slow.\n",
    "\n",
    "Another way of updating weights is to pick a training sample at random from the data set and use it in computing the gradient. This is **stochastic** gradient descent. Because it uses only a single training sample, gradient computation is much faster and requires much less memory (which is why it can be implemented in an out of core leraning algorithm). \n",
    "\n",
    "However, because the sample is drawn at random, the weights are not updated in an organized systematic fashion. There is a lot of noise in the path taken by the parameters to converge. Even when it reaches near the global optimum, it will not settle on a single value, but continue to bounce around. **This isn't always a bad thing**: this can help the SGD algorithm escape local minima in highly irregular cost functions. \n",
    "\n",
    "### TLDR\n",
    "- **Good**: Can escape local minima.\n",
    "- **Bad**: Will never settle at a minimu,\n",
    "\n",
    "### Solution - Learning Schedules\n",
    "Gradually adjust the learning rate so that it is initially large, which will help the model escape local minima at first, and then decreases as the model approaches the global minimum, allowing it to settle. \n",
    "\n",
    "If the learning schedule decreases the learning rate too quickly, then the weights may get stuck at a local minimum or never reach a minimum to begin with (since updates are too small).\n",
    "\n",
    "If the learning schedule decreases the learning rate too slowly, then the weights may jump around the minimum for a long time before converging."
   ]
  },
  {
   "cell_type": "code",
   "execution_count": 28,
   "metadata": {},
   "outputs": [],
   "source": [
    "# Used to store the weight updates for the optimal learning schedule with SGD\n",
    "theta_path_sgd = []"
   ]
  },
  {
   "cell_type": "code",
   "execution_count": 29,
   "metadata": {},
   "outputs": [],
   "source": [
    "# Number of features\n",
    "m = len(X_b)\n",
    "\n",
    "# Seeding random number generator to match book's results\n",
    "np.random.seed(42)"
   ]
  },
  {
   "cell_type": "code",
   "execution_count": 30,
   "metadata": {},
   "outputs": [],
   "source": [
    "# Can think of this as the number of iterations/full passes over the training st\n",
    "n_epochs = 50\n",
    "\n",
    "t_0, t_1 = 5, 50 # Learning schedule hyperparameters"
   ]
  },
  {
   "cell_type": "code",
   "execution_count": 31,
   "metadata": {},
   "outputs": [],
   "source": [
    "def learning_schedule(t):\n",
    "    # Returns a coefficient for scaling the learning rate at time `t`\n",
    "    return t_0 / (t + t_1)"
   ]
  },
  {
   "cell_type": "code",
   "execution_count": 32,
   "metadata": {},
   "outputs": [],
   "source": [
    "# Random initialization\n",
    "theta = np.random.randn(2, 1)"
   ]
  },
  {
   "cell_type": "code",
   "execution_count": 33,
   "metadata": {},
   "outputs": [
    {
     "data": {
      "text/plain": [
       "[0, 2, 0, 15]"
      ]
     },
     "execution_count": 33,
     "metadata": {},
     "output_type": "execute_result"
    },
    {
     "data": {
      "image/png": "[encoded data removed]",
      "text/plain": [
       "<Figure size 432x288 with 1 Axes>"
      ]
     },
     "metadata": {},
     "output_type": "display_data"
    }
   ],
   "source": [
    "# For every epoch\n",
    "for epoch in range(n_epochs):\n",
    "    # Draw as many samples for SGD as there are samples in the training set\n",
    "    for i in range(m):\n",
    "        # For the first 20 samples in the first epoch\n",
    "        if epoch == 0 and i < 20:\n",
    "            # The prediciton using random initialised values of theta will be shown in red\n",
    "            # For all others, show blue line\n",
    "            y_predict = X_new_b.dot(theta)\n",
    "            style ='b-' if i > 0 else 'r--'\n",
    "            plt.plot(X_new, y_predict, style)\n",
    "        \n",
    "        # Generate index of sample to draw from training set to update weights\n",
    "        random_index = np.random.randint(m)\n",
    "        \n",
    "        # Draw sample and its label\n",
    "        x_i = X_b[random_index:random_index + 1]\n",
    "        y_i = y[random_index:random_index + 1]\n",
    "        \n",
    "        # Compute the gradient using this sample\n",
    "        gradients = 2 * x_i.T.dot(x_i.dot(theta) - y_i)\n",
    "        \n",
    "        # Calculate the learning rate as a function of the sample and epoch number\n",
    "        # Later epochs and later samples will have lower learning rates\n",
    "        eta = learning_schedule(epoch * m + i)\n",
    "        \n",
    "        # Update the params, append to theta_path_sgd\n",
    "        theta = theta - eta * gradients\n",
    "        theta_path_sgd.append(theta)\n",
    "\n",
    "# Superimpose scatterplot of training data\n",
    "plt.plot(X, y, 'b.') # B dot. Not b. Need to make a scatter plot\n",
    "plt.xlabel('$x_1$', fontsize=18)\n",
    "plt.ylabel('$y$', rotation=0, fontsize=18)\n",
    "plt.axis([0, 2, 0, 15])"
   ]
  },
  {
   "cell_type": "code",
   "execution_count": 34,
   "metadata": {},
   "outputs": [
    {
     "data": {
      "text/plain": [
       "array([[4.21076011],\n",
       "       [2.74856079]])"
      ]
     },
     "execution_count": 34,
     "metadata": {},
     "output_type": "execute_result"
    }
   ],
   "source": [
    "# What is the last value of theta calculated with SGD\n",
    "theta"
   ]
  },
  {
   "cell_type": "markdown",
   "metadata": {},
   "source": [
    "### Discussion\n",
    "- The BGD algorithm took 1,000 iterations or iterated 1,000 times through the whole training set.\n",
    "- SGD goes through the training set only 50 times before converging to a good solution.\n",
    "    - 50 epochs or passes over the training set, and we already have convergence.\n",
    "- Just because SGD iterates over `m` training samples **does not mean** that **all** samples in the training set will have been drawn at least once to update weights. Some samples may have been drawn more than once. Others may not have been drawn at all.\n",
    "- If we want to ensure that all samples are drawn at least once, shuffle the data at each iteration in an epoch, and then generate a random index. However, this will converge more slowly. "
   ]
  },
  {
   "cell_type": "markdown",
   "metadata": {},
   "source": [
    "## SGD with `sklearn`"
   ]
  },
  {
   "cell_type": "code",
   "execution_count": 35,
   "metadata": {},
   "outputs": [],
   "source": [
    "from sklearn.linear_model import SGDRegressor"
   ]
  },
  {
   "cell_type": "markdown",
   "metadata": {},
   "source": [
    "The following `SGDRegressor` uses the mean-squared error as a loss function. It is set to iterate over the training set 1000 times, and will stop iterating as soon as magnitude of the loss between two iterations changes by less than 0.001. It does not implement any regularization, since `penalty` is `None`. The initial learning rate `eta0` is 0.1, and the learning schedule it uses to change the learning rate is different from the one we've implemented earlier. "
   ]
  },
  {
   "cell_type": "code",
   "execution_count": 36,
   "metadata": {},
   "outputs": [],
   "source": [
    "sgd_reg = SGDRegressor(loss='squared_loss', max_iter=1000, tol=1e-3, penalty=None, \n",
    "                      eta0=0.1, random_state=42)"
   ]
  },
  {
   "cell_type": "code",
   "execution_count": 37,
   "metadata": {},
   "outputs": [
    {
     "data": {
      "text/plain": [
       "SGDRegressor(alpha=0.0001, average=False, early_stopping=False, epsilon=0.1,\n",
       "       eta0=0.1, fit_intercept=True, l1_ratio=0.15,\n",
       "       learning_rate='invscaling', loss='squared_loss', max_iter=1000,\n",
       "       n_iter=None, n_iter_no_change=5, penalty=None, power_t=0.25,\n",
       "       random_state=42, shuffle=True, tol=0.001, validation_fraction=0.1,\n",
       "       verbose=0, warm_start=False)"
      ]
     },
     "execution_count": 37,
     "metadata": {},
     "output_type": "execute_result"
    }
   ],
   "source": [
    "# Why are we using y.ravel()\n",
    "sgd_reg.fit(X, y.ravel())"
   ]
  },
  {
   "cell_type": "code",
   "execution_count": 38,
   "metadata": {},
   "outputs": [
    {
     "data": {
      "text/plain": [
       "(array([4.24365286]), array([2.8250878]))"
      ]
     },
     "execution_count": 38,
     "metadata": {},
     "output_type": "execute_result"
    }
   ],
   "source": [
    "sgd_reg.intercept_, sgd_reg.coef_"
   ]
  },
  {
   "cell_type": "markdown",
   "metadata": {},
   "source": [
    "These values for `theta_0` and `theta_1` are both very close to the ones estimated by the normal equation. "
   ]
  },
  {
   "cell_type": "markdown",
   "metadata": {},
   "source": [
    "## Minibatch Gradient Descent"
   ]
  },
  {
   "cell_type": "code",
   "execution_count": 39,
   "metadata": {},
   "outputs": [],
   "source": [
    "# Store weight updates for minibatch gradient descent to compare against other GDs\n",
    "theta_path_mgd = []"
   ]
  },
  {
   "cell_type": "code",
   "execution_count": 40,
   "metadata": {},
   "outputs": [],
   "source": [
    "n_iterations = 50"
   ]
  },
  {
   "cell_type": "code",
   "execution_count": 41,
   "metadata": {},
   "outputs": [],
   "source": [
    "minibatch_size = 20"
   ]
  },
  {
   "cell_type": "code",
   "execution_count": 42,
   "metadata": {},
   "outputs": [],
   "source": [
    "# Defining a function that will be used to update the learning rate \n",
    "t_0, t_1 = 200, 1000\n",
    "def learning_schedule(t):\n",
    "    return t_0 / (t + t_1)"
   ]
  },
  {
   "cell_type": "code",
   "execution_count": 43,
   "metadata": {},
   "outputs": [],
   "source": [
    "# Initializing t\n",
    "t = 0"
   ]
  },
  {
   "cell_type": "code",
   "execution_count": 44,
   "metadata": {},
   "outputs": [],
   "source": [
    "np.random.seed(42)"
   ]
  },
  {
   "cell_type": "code",
   "execution_count": 45,
   "metadata": {},
   "outputs": [],
   "source": [
    "# Random initialization of weights\n",
    "theta = np.random.randn(2, 1)"
   ]
  },
  {
   "cell_type": "code",
   "execution_count": 46,
   "metadata": {},
   "outputs": [],
   "source": [
    "for epoch in range(n_iterations):\n",
    "    # Why are we using the permutation command here? Why not np.random.\n",
    "    shuffled_indices = np.random.permutation(m)\n",
    "    \n",
    "    # Shuffle training samples and labels\n",
    "    X_b_shuffled = X_b[shuffled_indices]\n",
    "    y_shuffled = y[shuffled_indices]\n",
    "    \n",
    "    # Iterate over the minibatch, use it to compute weight updates and gradients\n",
    "    for i in range(0, m, minibatch_size):\n",
    "        # Increment learning schedule counter variable\n",
    "        t += 1\n",
    "        x_i = X_b_shuffled[i : i + minibatch_size]\n",
    "        y_i = y_shuffled[i : i + minibatch_size]\n",
    "        \n",
    "        # Denom is now the minibatch's size\n",
    "        gradients = 2 / minibatch_size * x_i.T.dot(x_i.dot(theta) - y_i)\n",
    "        \n",
    "        # Update the learning rate for this iteration\n",
    "        eta = learning_schedule(t)\n",
    "        \n",
    "        # Update the parameter weigths\n",
    "        theta = theta - eta * gradients\n",
    "        \n",
    "        # Record the param updates\n",
    "        theta_path_mgd.append(theta)"
   ]
  },
  {
   "cell_type": "code",
   "execution_count": 47,
   "metadata": {},
   "outputs": [
    {
     "data": {
      "text/plain": [
       "array([[4.25214635],\n",
       "       [2.7896408 ]])"
      ]
     },
     "execution_count": 47,
     "metadata": {},
     "output_type": "execute_result"
    }
   ],
   "source": [
    "# What is the final value of theta derived from SGD?\n",
    "theta"
   ]
  },
  {
   "cell_type": "markdown",
   "metadata": {},
   "source": [
    "## Comparing Gradient Descent Variants"
   ]
  },
  {
   "cell_type": "code",
   "execution_count": 48,
   "metadata": {},
   "outputs": [],
   "source": [
    "theta_path_bgd = np.array(theta_path_bgd)\n",
    "theta_path_sgd = np.array(theta_path_sgd)\n",
    "theta_path_mgd = np.array(theta_path_mgd)"
   ]
  },
  {
   "cell_type": "code",
   "execution_count": 49,
   "metadata": {},
   "outputs": [
    {
     "name": "stdout",
     "output_type": "stream",
     "text": [
      "Saving figure  gradient_descent_paths_plot\n"
     ]
    },
    {
     "data": {
      "image/png": "[encoded data removed]",
      "text/plain": [
       "<Figure size 504x288 with 1 Axes>"
      ]
     },
     "metadata": {},
     "output_type": "display_data"
    }
   ],
   "source": [
    "plt.figure(figsize=(7, 4))\n",
    "plt.plot(theta_path_sgd[:, 0], theta_path_sgd[:, 1], 'r-s', \n",
    "        linewidth=1, label='Stochastic')\n",
    "plt.plot(theta_path_mgd[:, 0], theta_path_mgd[:, 1], 'g-+', \n",
    "        linewidth=2, label='Mini-batch')\n",
    "plt.plot(theta_path_bgd[:, 0], theta_path_bgd[:, 1], 'b-o', \n",
    "        linewidth=3, label='Batch')\n",
    "plt.legend(loc='upper left', fontsize=16)\n",
    "plt.xlabel(r'$\\theta_0$', fontsize=20)\n",
    "plt.ylabel(r'$\\theta_1$', fontsize=20, rotation=0)\n",
    "plt.axis([2.5, 4.5, 2.3, 3.9])\n",
    "save_fig('gradient_descent_paths_plot')"
   ]
  },
  {
   "cell_type": "markdown",
   "metadata": {},
   "source": [
    "## Polynomial Regression\n",
    "If data is too complex to be fit with a simple straight line, can use polynomial regression: make new features that are powers of existing linear model features (by multiplying a feature either by itself or by other features). Then fit a linear regression model that is based on these features. "
   ]
  },
  {
   "cell_type": "markdown",
   "metadata": {},
   "source": [
    "### Generating Nonlinear Features"
   ]
  },
  {
   "cell_type": "code",
   "execution_count": 17,
   "metadata": {},
   "outputs": [],
   "source": [
    "import numpy as np\n",
    "import numpy.random as rnd\n",
    "\n",
    "np.random.seed(42)"
   ]
  },
  {
   "cell_type": "code",
   "execution_count": 18,
   "metadata": {},
   "outputs": [],
   "source": [
    "# Number of training samples\n",
    "m = 100\n",
    "\n",
    "# Features are scalars between -3 and 3\n",
    "X = 6 * np.random.rand(m, 1) - 3\n",
    "\n",
    "# Labels are non-linear combinations of the features\n",
    "# theta_0 = np.random.randn + 2\n",
    "# theta_1 = 1\n",
    "# theta_2 = 0.5\n",
    "y = 0.5 * X**2 + X + 2 + np.random.randn(m, 1)"
   ]
  },
  {
   "cell_type": "markdown",
   "metadata": {},
   "source": [
    "### Plotting the random data"
   ]
  },
  {
   "cell_type": "code",
   "execution_count": 19,
   "metadata": {},
   "outputs": [
    {
     "name": "stdout",
     "output_type": "stream",
     "text": [
      "Saving figure  quadratic_data_plot\n"
     ]
    },
    {
     "data": {
      "image/png": "[encoded data removed]",
      "text/plain": [
       "<Figure size 432x288 with 1 Axes>"
      ]
     },
     "metadata": {},
     "output_type": "display_data"
    }
   ],
   "source": [
    "plt.plot(X, y, 'b.'); plt.xlabel('$x_1$', fontsize=18); \n",
    "plt.ylabel('$y$', fontsize=18, rotation=0);\n",
    "plt.axis([-3, 3, 0, 10])\n",
    "save_fig('quadratic_data_plot')"
   ]
  },
  {
   "cell_type": "markdown",
   "metadata": {},
   "source": [
    "### Using `sklearn` to fit a polynomial model"
   ]
  },
  {
   "cell_type": "code",
   "execution_count": 20,
   "metadata": {},
   "outputs": [],
   "source": [
    "from sklearn.preprocessing import PolynomialFeatures"
   ]
  },
  {
   "cell_type": "code",
   "execution_count": 21,
   "metadata": {},
   "outputs": [],
   "source": [
    "# Generating a polynomial feature transformer - will create features with powers up to 2\n",
    "poly_features = PolynomialFeatures(degree=2, include_bias=False)\n",
    "\n",
    "# Then fit the transformer to the original features\n",
    "X_poly = poly_features.fit_transform(X)"
   ]
  },
  {
   "cell_type": "code",
   "execution_count": 22,
   "metadata": {},
   "outputs": [
    {
     "name": "stdout",
     "output_type": "stream",
     "text": [
      "The first original feature is:  [-0.75275929]\n",
      "The first polynomial feature is:  [-0.75275929  0.56664654]\n"
     ]
    }
   ],
   "source": [
    "# Comparing the original and polynomial features\n",
    "print(\"The first original feature is: \", X[0])\n",
    "print(\"The first polynomial feature is: \", X_poly[0])"
   ]
  },
  {
   "cell_type": "code",
   "execution_count": 23,
   "metadata": {},
   "outputs": [],
   "source": [
    "# A polynomial model is just a linear model with polynomial features\n",
    "from sklearn.linear_model import LinearRegression"
   ]
  },
  {
   "cell_type": "code",
   "execution_count": 24,
   "metadata": {},
   "outputs": [
    {
     "data": {
      "text/plain": [
       "LinearRegression(copy_X=True, fit_intercept=True, n_jobs=None,\n",
       "         normalize=False)"
      ]
     },
     "execution_count": 24,
     "metadata": {},
     "output_type": "execute_result"
    }
   ],
   "source": [
    "# Instantiate\n",
    "lin_reg = LinearRegression()\n",
    "\n",
    "# Fit to polynomial features\n",
    "lin_reg.fit(X_poly, y)"
   ]
  },
  {
   "cell_type": "markdown",
   "metadata": {},
   "source": [
    "### Comparing Fit to Original Data"
   ]
  },
  {
   "cell_type": "code",
   "execution_count": 25,
   "metadata": {},
   "outputs": [],
   "source": [
    "# Domain\n",
    "X_new = np.linspace(-3, 3, 100).reshape(100, 1)\n",
    "\n",
    "# Features, including polynomial ones - reusing the transformer\n",
    "X_new_poly = poly_features.transform(X_new)\n",
    "\n",
    "# Predictions will be made using learnt values of theta\n",
    "y_new = lin_reg.predict(X_new_poly)"
   ]
  },
  {
   "cell_type": "code",
   "execution_count": 26,
   "metadata": {},
   "outputs": [
    {
     "name": "stdout",
     "output_type": "stream",
     "text": [
      "Saving figure  quadratic_predictions_plot\n"
     ]
    },
    {
     "data": {
      "image/png": "[encoded data removed]",
      "text/plain": [
       "<Figure size 432x288 with 1 Axes>"
      ]
     },
     "metadata": {},
     "output_type": "display_data"
    }
   ],
   "source": [
    "# Original data scatterplot\n",
    "plt.plot(X, y, 'b.', label='Original Data')\n",
    "plt.plot(X_new, y_new, 'r-', linewidth=2, label='Predictions')\n",
    "plt.xlabel('$x_1$', fontsize=18)\n",
    "plt.ylabel('$y$', rotation=0, fontsize=18)\n",
    "plt.legend(loc='upper left', fontsize=14)\n",
    "plt.axis([-3, 3, 0, 10])\n",
    "save_fig('quadratic_predictions_plot')"
   ]
  },
  {
   "cell_type": "code",
   "execution_count": 89,
   "metadata": {},
   "outputs": [
    {
     "name": "stdout",
     "output_type": "stream",
     "text": [
      "Intercept:  [1.78134581]\n",
      "Coefficients:  [[0.93366893 0.56456263]]\n"
     ]
    }
   ],
   "source": [
    "# What values of parameters have been learnt?\n",
    "print(\"Intercept: \", lin_reg.intercept_) \n",
    "print(\"Coefficients: \", lin_reg.coef_)"
   ]
  },
  {
   "cell_type": "markdown",
   "metadata": {},
   "source": [
    "This means that the polynomial regression model learnt through this data is $$y' = 1.7813 + 0.9336x_1 + 0.5645x_2$$\n",
    "which is not that different from the original model $$y = 2 + rand + x_1 + 0.5x_2$$\n",
    "\n",
    "Another advantage of polynomial regression is that it can often find combinations of existing features that can often help find the best fit to to data. For instance, a polynomial model of degree 3 based on features `x_1, x_2, x_3` will not just have features `x_1, x_1^2, x_1^3` but also `x_1.x_2.x_3`, and all combinations of features up to degree 3."
   ]
  },
  {
   "cell_type": "markdown",
   "metadata": {},
   "source": [
    "## Learning Curves, Overfitting, Underfitting"
   ]
  },
  {
   "cell_type": "markdown",
   "metadata": {},
   "source": [
    "### Comparing 300-degree polynomial model\n",
    "Training a higher degree polynomial model will likely result in a model that fits the training data very well, but won't necesssarily mean that this model is a good predictor on data it hasn't seen before.\n",
    "\n",
    "Comparing the performance of a simple linear regression model, a 2 degree linear regression model, and a 300 degree linear regression model."
   ]
  },
  {
   "cell_type": "code",
   "execution_count": 27,
   "metadata": {},
   "outputs": [],
   "source": [
    "# Seeding random number generator, just in case\n",
    "np.random.seed(42)"
   ]
  },
  {
   "cell_type": "code",
   "execution_count": 28,
   "metadata": {},
   "outputs": [],
   "source": [
    "# Importing required libraries\n",
    "from sklearn.preprocessing import StandardScaler, PolynomialFeatures\n",
    "from sklearn.pipeline import Pipeline\n",
    "from sklearn.linear_model import LinearRegression"
   ]
  },
  {
   "cell_type": "code",
   "execution_count": 29,
   "metadata": {},
   "outputs": [],
   "source": [
    "# Instantiating original data for all models\n",
    "m = 100\n",
    "X = 6 * np.random.rand(m, 1) - 3\n",
    "y = 0.5 * X**2 + X + 2 + np.random.randn(m, 1)"
   ]
  },
  {
   "cell_type": "code",
   "execution_count": 30,
   "metadata": {},
   "outputs": [],
   "source": [
    "# Creating a list of all models to train and plot with degrees and styles\n",
    "model_list = (('g-', 1, 300), ('b--', 2, 2), ('r-+', 2, 1))"
   ]
  },
  {
   "cell_type": "code",
   "execution_count": 31,
   "metadata": {},
   "outputs": [
    {
     "name": "stdout",
     "output_type": "stream",
     "text": [
      "Saving figure  high_degree_poly_plot\n"
     ]
    },
    {
     "data": {
      "image/png": "[encoded data removed]",
      "text/plain": [
       "<Figure size 432x288 with 1 Axes>"
      ]
     },
     "metadata": {},
     "output_type": "display_data"
    }
   ],
   "source": [
    "for style, width, degree in model_list:\n",
    "    # Instantiate polynomial feature transformer of the right degree\n",
    "    poly_big_features = PolynomialFeatures(degree=degree, include_bias=False)\n",
    "        \n",
    "    # Instantiate standard scaler (b/c different degrees -> different ranges of feature values)\n",
    "    standard_scaler = StandardScaler()\n",
    "    \n",
    "    # Instantiate a generic linear regression model\n",
    "    lin_reg = LinearRegression()\n",
    "    \n",
    "    # Create a pipeline that transforms to polynomial features, scales them, and uses the to fit a lin model\n",
    "    polynomial_regression = Pipeline([\n",
    "        ('poly_features', poly_big_features),\n",
    "        ('std_scaler', standard_scaler),\n",
    "        ('lin_reg', lin_reg)\n",
    "    ])\n",
    "    \n",
    "    # Fit the model after performing the transformation defined in the pipeline\n",
    "    polynomial_regression.fit(X, y)\n",
    "\n",
    "    # Record predictions\n",
    "    y_new_big = polynomial_regression.predict(X_new)\n",
    "    \n",
    "    # Plot\n",
    "    plt.plot(X_new, y_new_big, style, label=str(degree), linewidth=width)\n",
    "\n",
    "    \n",
    "# Plot the original data\n",
    "plt.plot(X, y, 'b.', linewidth=3)\n",
    "plt.legend(loc='upper left')\n",
    "plt.xlabel('$x_1$', fontsize=18)\n",
    "plt.ylabel('$y$', fontsize=18, rotation=0)\n",
    "plt.axis([-3, 3, 0, 10])\n",
    "save_fig('high_degree_poly_plot')"
   ]
  },
  {
   "cell_type": "markdown",
   "metadata": {},
   "source": [
    "It is obvious that the quadratic model fits the data best, and that the 300 degree and 1 degree polynomials overfit and underfit the data respectively. Intuitively, this makes sense since we know the original data was generated using a quadratic function.\n",
    "\n",
    "But IRL, we won't often know what function was used to create data (or if such a function even exists). We will also not necessarily be able to plot data in this way to see if a model curves or 'wiggles' too much or too little to fit the data. So how to confirm underfitting or overfitting? \n",
    "\n",
    "The solution is to use learning curves: plot the model's performance on training and validation sets as a function of training set size (or the training iteration)."
   ]
  },
  {
   "cell_type": "markdown",
   "metadata": {},
   "source": [
    "## Case 1 - Underfitting"
   ]
  },
  {
   "cell_type": "code",
   "execution_count": 32,
   "metadata": {},
   "outputs": [],
   "source": [
    "from sklearn.metrics import mean_squared_error\n",
    "from sklearn.model_selection import train_test_split"
   ]
  },
  {
   "cell_type": "code",
   "execution_count": 33,
   "metadata": {},
   "outputs": [],
   "source": [
    "np.random.seed(42)"
   ]
  },
  {
   "cell_type": "code",
   "execution_count": 34,
   "metadata": {},
   "outputs": [],
   "source": [
    "def plot_learning_curves(model, X, y):\n",
    "    \"\"\"Generic function to plot supervised learning curves for a model given X and y\"\"\"\n",
    "    # Perform a train-test split - RANDOM STATE IS IMPORTANT FOR REPRODUCABILITY\n",
    "    X_train, X_val, y_train, y_val = train_test_split(X, y, test_size=0.2, random_state=10)\n",
    "    \n",
    "    # Separate lists to store training and validation set errors\n",
    "    train_errors, val_errors= [], []\n",
    "    \n",
    "    # Train the model on increasingly larger training sets, and plot errors\n",
    "    for m in range(1, len(X_train)):\n",
    "        model.fit(X_train[:m], y_train[:m])\n",
    "        # Training predictions over the first `m` samples only\n",
    "        y_train_predict = model.predict(X_train[:m])\n",
    "        \n",
    "        # Validation predictons on the entire set\n",
    "        y_val_predict = model.predict(X_val)\n",
    "        \n",
    "        # Add training error for this size by comparing the first `m` predictions to lables\n",
    "        train_errors.append(mean_squared_error(y_train[:m], y_train_predict))\n",
    "        \n",
    "        # Add validation error for this size\n",
    "        val_errors.append(mean_squared_error(y_val, y_val_predict))\n",
    "        \n",
    "    # Plot the training and validation errors\n",
    "    plt.plot(np.sqrt(train_errors), 'r-+', linewidth=2, label='train RMSE')\n",
    "    plt.plot(np.sqrt(val_errors), 'b-', linewidth=3, label='val RMSE')\n",
    "    \n",
    "    # Annotate the plot\n",
    "    plt.legend(loc='upper right', fontsize=14);\n",
    "    plt.xlabel('Training Set Size', fontsize=14)\n",
    "    plt.ylabel('RMSE', fontsize=14)"
   ]
  },
  {
   "cell_type": "code",
   "execution_count": 35,
   "metadata": {},
   "outputs": [
    {
     "data": {
      "text/plain": [
       "[0, 80, 0, 3]"
      ]
     },
     "execution_count": 35,
     "metadata": {},
     "output_type": "execute_result"
    },
    {
     "data": {
      "image/png": "[encoded data removed]",
      "text/plain": [
       "<Figure size 432x288 with 1 Axes>"
      ]
     },
     "metadata": {},
     "output_type": "display_data"
    }
   ],
   "source": [
    "# Instantiate a model to plot learning curves for \n",
    "lin_reg = LinearRegression()\n",
    "\n",
    "# Pass the model to the function along with its trainin set\n",
    "plot_learning_curves(lin_reg, X, y)\n",
    "\n",
    "# Annotate\n",
    "plt.axis([0, 80, 0, 3])"
   ]
  },
  {
   "cell_type": "markdown",
   "metadata": {},
   "source": [
    "### Interpretation - Underfitting\n",
    "- Training loss is initially very low because there are only a few training samples in the data, which means it isn't difficult for the learning algorithm to modify model parameters to fit all points.\n",
    "- As training set size grows, there are more points to fit, and eventually the model cannot fit all of them perfectly, hich is why the loss begins to increase.\n",
    "- Eventually, though, adding additional data points does not substantially change the average error in the training model, which is why it has plateaued. \n",
    "- Initial validation loss is high because when the model is trained on only a few samples, its parameters haven't been updated substantially to fit the data.\n",
    "- Eventually, as more samples are added, the model moves closer to its optimal parameters through gradient descent updates.\n",
    "- Validation loss also plateaus after a while because the model's weights are no longer being updated substantially enough by gradient descent, because they're already close enough to optimal model.\n",
    "\n",
    "### Underfitting: Validation and Training Loss are fairly high and close together.\n",
    "- Adding more training examples will not help.\n",
    "- Need a more complex model.\n",
    "- Need feature engineering."
   ]
  },
  {
   "cell_type": "markdown",
   "metadata": {},
   "source": [
    "## Case 2 - Overfitting\n",
    "Fitting a 10 degree polynomial to the data and plotting its training and validation RMSEs. When fitting a 10 degree polynomial to data that was originally generated using 2nd degree polynomial, there will obviously be a lot of overfitting: the model will try to find patterns that don't exist because it has to optimise more parameters than are necessary to fit the data."
   ]
  },
  {
   "cell_type": "code",
   "execution_count": 38,
   "metadata": {},
   "outputs": [],
   "source": [
    "from sklearn.preprocessing import PolynomialFeatures\n",
    "from sklearn.linear_model import LinearRegression\n",
    "from sklearn.pipeline import Pipeline"
   ]
  },
  {
   "cell_type": "code",
   "execution_count": 40,
   "metadata": {},
   "outputs": [],
   "source": [
    "# Instantiate pipeline that will fit 10 degree polynomial features to a lin reg model\n",
    "polynomial_regression = Pipeline([\n",
    "    (\"poly_features\", PolynomialFeatures(degree=10, include_bias=False)), \n",
    "    (\"lin_reg\", LinearRegression()), \n",
    "])"
   ]
  },
  {
   "cell_type": "code",
   "execution_count": 41,
   "metadata": {},
   "outputs": [
    {
     "name": "stdout",
     "output_type": "stream",
     "text": [
      "Saving figure  learning_curves_overfitting_plot\n"
     ]
    },
    {
     "data": {
      "image/png": "[encoded data removed]",
      "text/plain": [
       "<Figure size 432x288 with 1 Axes>"
      ]
     },
     "metadata": {},
     "output_type": "display_data"
    }
   ],
   "source": [
    "plot_learning_curves(polynomial_regression, X, y)\n",
    "plt.axis([0, 80, 0, 3]) \n",
    "save_fig('learning_curves_overfitting_plot')"
   ]
  },
  {
   "cell_type": "markdown",
   "metadata": {},
   "source": [
    "## Interpretation\n",
    "- Error in both training and validation sets is much lower than in the previous learning curves. \n",
    "- There is a significant gap between the curves, indicatng that the model performs significantly better on training data than on valiation data, which is a hallmark of **overfitting** \n",
    "- Solution: use regularization, or a much larger training set."
   ]
  },
  {
   "cell_type": "markdown",
   "metadata": {},
   "source": [
    "## Bias Variance Tradeoff\n",
    "There are **three** major components of the generalization error in a Machine Learning model\n",
    "- **bias**: incorrect assumptions about the nature of the model e.g. the error introduced by trying to fit a linear model to quadratic data. Models with high bias are likely to underfit the data, and increasing the number of training samples will not improve the models performance.\n",
    "- **variance**: the sensitivity of the model to small variations in data, or how much the model's parameter values are likely to vary between trainings with different subsets of the training data. A model with many degrees of freedom is likely to have high variance, which means its performance could be improved by regularizing features, decreasing the complexity of the model, or increasing the number of training examples.\n",
    "- **irreducible error**: error that cannot be eliminated and is due to the inherent noisiness of the data itself.\n",
    "\n",
    "As model complexity increases, its variance increases but bias decreases. As model complexity decreases, its bias increases but variance decreases.\n",
    "\n",
    "The optimal model will strike a balance between bias and variance - thus achieving an optimal bias-variance tradeoff."
   ]
  },
  {
   "cell_type": "markdown",
   "metadata": {},
   "source": [
    "## Regularized Linear Models\n",
    "A simple way of regularizing polynomial models is to decrease the degree of the polynomial, which in turn decreases the degrees of freedom.\n",
    "\n",
    "We can also constrain the weights of the model to take smaller values. Three methods of doing so\n",
    "- Ridge Regression\n",
    "- Lasso Regression\n",
    "- Elastic Net\n",
    "\n",
    "All three constrain the weights in different ways."
   ]
  },
  {
   "cell_type": "markdown",
   "metadata": {},
   "source": [
    "## Ridge Regression\n",
    "Modify the cost function so that in addition to minimising the the cost `MSE` i.e. the mean-squared error of the difference between predicted and actual values, the cost function also has to minimise the sum of the weight vector `w` scaled by a regularization factor `alpha`. \n",
    "\n",
    "This means the values of the parameters are constrained to be smaller, which minimises variance (but increases bias)."
   ]
  },
  {
   "cell_type": "markdown",
   "metadata": {},
   "source": [
    "### Ridge Regression Visualization"
   ]
  },
  {
   "cell_type": "code",
   "execution_count": 6,
   "metadata": {},
   "outputs": [],
   "source": [
    "np.random.seed(42)\n",
    "m = 20\n",
    "X = 3 * np.random.rand(m, 1)\n",
    "y = 1 + 0.5 * X + np.random.randn(m, 1) / 1.5\n",
    "X_new = np.linspace(0, 3, 100).reshape(100, 1)"
   ]
  },
  {
   "cell_type": "code",
   "execution_count": 19,
   "metadata": {},
   "outputs": [],
   "source": [
    "from sklearn.linear_model import Ridge, LinearRegression\n",
    "from sklearn.pipeline import Pipeline\n",
    "from sklearn.preprocessing import PolynomialFeatures, StandardScaler"
   ]
  },
  {
   "cell_type": "code",
   "execution_count": 20,
   "metadata": {},
   "outputs": [],
   "source": [
    "def plot_model(model_class, polynomial, alphas, **model_kargs):\n",
    "    \"\"\"Plots regularized linear and polynomial regression models\"\"\"\n",
    "    # For three possible valus of regularization coeff, each with their own color and plotting marker\n",
    "    for alpha, style in zip(alphas, ('b-', 'g--', 'r:')):\n",
    "        # Instantiate a model with the correct params if positive alpha, else make a lin reg model\n",
    "        model = model_class(alpha, **model_kargs) if alpha > 0 else LinearRegression()\n",
    "        \n",
    "        # If called with polynomial arg flag set to True\n",
    "        if polynomial:\n",
    "            model = Pipeline([\n",
    "                ('poly_features', PolynomialFeatures(degree=10, include_bias=False)),\n",
    "                ('std_scaler', StandardScaler()), # Must scale features b/c regularization sensitive to outliers\n",
    "                ('regul_reg', model)\n",
    "            ])\n",
    "        \n",
    "        # Fit the model, regardless of type\n",
    "        model.fit(X, y)\n",
    "        \n",
    "        # Store regularized predictions\n",
    "        y_new_regul = model.predict(X_new)\n",
    "        \n",
    "        # Set linewidth according to regularization rate\n",
    "        lw = 2 if alpha > 0 else 1\n",
    "        \n",
    "        # Plot the regularized model\n",
    "        plt.plot(X_new, y_new_regul, style, linewidth=lw, label=r'$\\alpha = {}$'.format(alpha))\n",
    "        \n",
    "        # Also plot scatter data for original samples\n",
    "        plt.plot(X, y, 'b.', linewidth=3)\n",
    "        \n",
    "        # Annotate\n",
    "        plt.legend(loc='upper left', fontsize=18)\n",
    "        plt.xlabel('$x_1$', fontsize=18)\n",
    "        plt.ylabel('$y$', rotation=0, fontsize=18)\n",
    "        plt.axis([0, 3, 0, 4])"
   ]
  },
  {
   "cell_type": "code",
   "execution_count": 21,
   "metadata": {},
   "outputs": [
    {
     "name": "stdout",
     "output_type": "stream",
     "text": [
      "Saving figure  ridge_reg_lin_poly\n"
     ]
    },
    {
     "data": {
      "image/png": "[encoded data removed]",
      "text/plain": [
       "<Figure size 576x288 with 2 Axes>"
      ]
     },
     "metadata": {},
     "output_type": "display_data"
    }
   ],
   "source": [
    "plt.figure(figsize=(8, 4))\n",
    "plt.subplot(121)\n",
    "plot_model(Ridge, polynomial=False, alphas=(0, 10, 100), random_state=42)\n",
    "plt.subplot(122)\n",
    "plot_model(Ridge, polynomial=True, alphas=(0, 10**-5, 1), random_state=42)\n",
    "plt.tight_layout()\n",
    "save_fig('ridge_reg_lin_poly')"
   ]
  },
  {
   "cell_type": "markdown",
   "metadata": {},
   "source": [
    "The left plot shows linear ridge regression models for with varying levels of regularization. With regularization coefficient set to 0, the model is simply a straight line and is identical to a standard linear regression model. As the regression coefficient increases, the model comes closer and closer to a straight line, because the cost function prioritises minimising weights to minimise the regularization term rather than minimising the loss itself. \n",
    "\n",
    "The right plot shows the effect of ridge regression on polynomial models. With no regularization, the model has high variance. As regularization increases, the degrees of freedom (and variance) of the model decrease. With regularization coefficient set to 1, the model has the best fit to the scatterplot data."
   ]
  },
  {
   "cell_type": "markdown",
   "metadata": {},
   "source": [
    "### Ridge Regression - Analytical Solution\n",
    "As with linear regression, ridge regression model's parameters can be derived analytically through a mathematical equation. \n",
    "\n",
    "$$\\theta' = (X^T.X + \\alpha A)^{-1}X^Ty$$"
   ]
  },
  {
   "cell_type": "code",
   "execution_count": 22,
   "metadata": {},
   "outputs": [
    {
     "data": {
      "text/plain": [
       "Ridge(alpha=1, copy_X=True, fit_intercept=True, max_iter=None,\n",
       "   normalize=False, random_state=42, solver='cholesky', tol=0.001)"
      ]
     },
     "execution_count": 22,
     "metadata": {},
     "output_type": "execute_result"
    }
   ],
   "source": [
    "# Can solve this using sklearn\n",
    "from sklearn.linear_model import Ridge\n",
    "ridge_reg_closed_form = Ridge(alpha=1, solver='cholesky', random_state=42)\n",
    "ridge_reg_closed_form.fit(X, y)"
   ]
  },
  {
   "cell_type": "code",
   "execution_count": 23,
   "metadata": {},
   "outputs": [
    {
     "data": {
      "text/plain": [
       "array([[1.55071465]])"
      ]
     },
     "execution_count": 23,
     "metadata": {},
     "output_type": "execute_result"
    }
   ],
   "source": [
    "ridge_reg_closed_form.predict([[1.5]])"
   ]
  },
  {
   "cell_type": "code",
   "execution_count": 24,
   "metadata": {},
   "outputs": [],
   "source": [
    "# Can also use SGDRegressor\n",
    "from sklearn.linear_model import SGDRegressor"
   ]
  },
  {
   "cell_type": "code",
   "execution_count": 26,
   "metadata": {},
   "outputs": [
    {
     "data": {
      "text/plain": [
       "array([1.47012588])"
      ]
     },
     "execution_count": 26,
     "metadata": {},
     "output_type": "execute_result"
    }
   ],
   "source": [
    "sgd_reg = SGDRegressor(penalty='l2', random_state=42, \n",
    "                      max_iter=1000, tol=1e-3) # L2 norm used for computing regularization term\n",
    "sgd_reg.fit(X, y.ravel())\n",
    "sgd_reg.predict([[1.5]])"
   ]
  },
  {
   "cell_type": "markdown",
   "metadata": {},
   "source": [
    "### Lasso Regression\n",
    "- **LASSO** - **L**east **A**bsolute **S**hrinkage **a**nd **S**election **O**perator regression\n",
    "- A different kind of regularization, just like ridge regression.\n",
    "- Adds a regularization term to the cost function.\n",
    "- But this time the regularization term is the L1 norm of the weight vector instead of half the square of the L2 norm. "
   ]
  },
  {
   "cell_type": "code",
   "execution_count": 27,
   "metadata": {},
   "outputs": [],
   "source": [
    "from sklearn.linear_model import Lasso"
   ]
  },
  {
   "cell_type": "code",
   "execution_count": 30,
   "metadata": {},
   "outputs": [
    {
     "name": "stderr",
     "output_type": "stream",
     "text": [
      "/Users/saadmashkoor/.local/lib/python3.6/site-packages/sklearn/linear_model/coordinate_descent.py:492: ConvergenceWarning: Objective did not converge. You might want to increase the number of iterations. Fitting data with very small alpha may cause precision problems.\n",
      "  ConvergenceWarning)\n"
     ]
    },
    {
     "name": "stdout",
     "output_type": "stream",
     "text": [
      "Saving figure  lasso_regression_plot\n"
     ]
    },
    {
     "data": {
      "image/png": "[encoded data removed]",
      "text/plain": [
       "<Figure size 576x288 with 2 Axes>"
      ]
     },
     "metadata": {},
     "output_type": "display_data"
    }
   ],
   "source": [
    "plt.figure(figsize=(8, 4))\n",
    "plt.subplot(121)\n",
    "plot_model(Lasso, polynomial=False, alphas=(0, 0.1, 1), random_state=42)\n",
    "plt.ylabel('$y$', rotation=0, fontsize=18)\n",
    "plt.subplot(122)\n",
    "plot_model(Lasso, polynomial=True, alphas=(0, 10**-7, 1), random_state=42)\n",
    "save_fig('lasso_regression_plot', tight_layout=True)"
   ]
  },
  {
   "cell_type": "markdown",
   "metadata": {},
   "source": [
    "The difference between ridge and lasso regression is the nature of the norm used in the regularization term. Ridge regression uses the L2 norm while lasso regression uses the L1 norm. \n",
    "\n",
    "The result of this difference is that lasso regression tends to eliminate the weights of the least important features. This is why the model with `alpha` set to `1e-07` is almost linear for the majority of the feature space: the weights of higher order polynomial terms have been eliminated. "
   ]
  },
  {
   "cell_type": "code",
   "execution_count": 33,
   "metadata": {},
   "outputs": [
    {
     "data": {
      "text/plain": [
       "array([1.53788174])"
      ]
     },
     "execution_count": 33,
     "metadata": {},
     "output_type": "execute_result"
    }
   ],
   "source": [
    "# Using sklearn's Lasso class\n",
    "from sklearn.linear_model import Lasso\n",
    "lasso_reg = Lasso(alpha=0.1)\n",
    "lasso_reg.fit(X, y)\n",
    "lasso_reg.predict([[1.5]])"
   ]
  },
  {
   "cell_type": "markdown",
   "metadata": {},
   "source": [
    "## Elastic Net\n",
    "- A regularization technique that is a mix of both ridge regression and lasso regression.\n",
    "- Need to specify the regularization mix `r` which, in turn, determines whether the cost function is \"more like\" ridge regression or lasso regression.\n",
    "    - As `r` -> 0, Elastic Net behaves more like ridge regression, which minimises the weights of **all** features. \n",
    "    - As `r` -> 1, Elastic Net behaves more like lasso regression, which eliminates the weights of irrelevant featurese entirely.\n",
    "- Ridge regression is a good default, but if you suspect lots of redundant, irrelevant, or correlated features, use lasso or elastic net regression.\n",
    "    - Elastic net regression is preferred because lasso may behave erratically when the number of features is greater than the number of training instances, or when several features are strongly correlated."
   ]
  },
  {
   "cell_type": "markdown",
   "metadata": {},
   "source": [
    "## Early Stopping\n",
    "Stop training after the validation set error is observed to reach a minimum i.e. when changes in validation set error become smaller than some threshold value. This is easiest to do with batch gradient descent, because parameter updates (and thus the error updates) are consistent and smooth.\n",
    "\n",
    "With stochastic or minibatch gradient desent, the loss will show a lot of noise. Better to wait for noise to be consistently low for a fixed number of epochs, and then roll back weights to the first instance/epoch at which these weights were seen."
   ]
  },
  {
   "cell_type": "code",
   "execution_count": 42,
   "metadata": {},
   "outputs": [],
   "source": [
    "# Setting up data set for early stopping example\n",
    "np.random.seed(42)\n",
    "m = 100 \n",
    "X = 6 * np.random.rand(m, 1) - 3\n",
    "y = 2 + X + 0.5 * X ** 2 + np.random.randn(m, 1)"
   ]
  },
  {
   "cell_type": "code",
   "execution_count": 45,
   "metadata": {},
   "outputs": [],
   "source": [
    "from sklearn.model_selection import train_test_split"
   ]
  },
  {
   "cell_type": "code",
   "execution_count": 46,
   "metadata": {},
   "outputs": [],
   "source": [
    "X_train, X_val, y_train, y_val = train_test_split(X[:50], y[:50].ravel(), \n",
    "                                                  test_size=0.5, random_state=10)"
   ]
  },
  {
   "cell_type": "code",
   "execution_count": 52,
   "metadata": {},
   "outputs": [],
   "source": [
    "from sklearn.base import clone\n",
    "from sklearn.linear_model import SGDRegressor\n",
    "from sklearn.metrics import mean_squared_error"
   ]
  },
  {
   "cell_type": "code",
   "execution_count": 36,
   "metadata": {},
   "outputs": [],
   "source": [
    "poly_scaler = Pipeline([\n",
    "    ('poly_features', PolynomialFeatures(degree=90, include_bias=False)), \n",
    "    ('std_scaler', StandardScaler()),\n",
    "])"
   ]
  },
  {
   "cell_type": "code",
   "execution_count": 47,
   "metadata": {},
   "outputs": [],
   "source": [
    "X_train_poly_scaled = poly_scaler.fit_transform(X_train)\n",
    "X_val_poly_scaled = poly_scaler.transform(X_val)"
   ]
  },
  {
   "cell_type": "code",
   "execution_count": 50,
   "metadata": {},
   "outputs": [],
   "source": [
    "sgd_reg = SGDRegressor(max_iter=1, tol=-np.infty, warm_start=True, \n",
    "                      penalty=None, learning_rate='constant', eta0=0.0005, random_state=42)"
   ]
  },
  {
   "cell_type": "code",
   "execution_count": 53,
   "metadata": {},
   "outputs": [],
   "source": [
    "minimum_val_error = float('inf')\n",
    "best_epoch = None\n",
    "best_model = None\n",
    "for epoch in range(1000):\n",
    "    # Continue training from the last epoch or epoch where we left off \n",
    "    sgd_reg.fit(X_train_poly_scaled, y_train)\n",
    "    \n",
    "    y_val_predict = sgd_reg.predict(X_val_poly_scaled)\n",
    "    val_error = mean_squared_error(y_val, y_val_predict)\n",
    "    if val_error < minimum_val_error:\n",
    "        minimum_val_error = val_error \n",
    "        best_epoch = epoch\n",
    "        best_model = clone(sgd_reg)"
   ]
  },
  {
   "cell_type": "code",
   "execution_count": 56,
   "metadata": {},
   "outputs": [
    {
     "name": "stdout",
     "output_type": "stream",
     "text": [
      "Saving figure  early_stopping_visualization\n"
     ]
    },
    {
     "data": {
      "image/png": "[encoded data removed]",
      "text/plain": [
       "<Figure size 432x288 with 1 Axes>"
      ]
     },
     "metadata": {},
     "output_type": "display_data"
    }
   ],
   "source": [
    "# Create graph for sgd regression over different epochs\n",
    "sgd_reg = SGDRegressor(max_iter=1, tol=-np.infty, warm_start=True, # To start training where it left off\n",
    "                      penalty=None, learning_rate='constant', eta0=0.0005, random_state=42)\n",
    "\n",
    "n_epochs = 500\n",
    "\n",
    "# Store training and validation errors for each epoch in separate lists\n",
    "train_errors, val_errors = [], []\n",
    "\n",
    "# For every epoch, do an additional round of training and remember the train + val MSE\n",
    "for epoch in range(n_epochs):\n",
    "    sgd_reg.fit(X_train_poly_scaled, y_train)\n",
    "    y_train_predict = sgd_reg.predict(X_train_poly_scaled)\n",
    "    y_val_predict = sgd_reg.predict(X_val_poly_scaled)\n",
    "    train_errors.append(mean_squared_error(y_train, y_train_predict))\n",
    "    val_errors.append(mean_squared_error(y_val, y_val_predict))\n",
    "    \n",
    "# Find the epochs for which we get the least RMSE \n",
    "best_epoch = np.argmin(val_errors)\n",
    "best_val_rmse = np.sqrt(val_errors[best_epoch])\n",
    "\n",
    "plt.annotate('Best model',\n",
    "            xy=(best_epoch, best_val_rmse), \n",
    "            xytext=(best_epoch, best_val_rmse + 1), \n",
    "            ha='center', \n",
    "            arrowprops=dict(facecolor='black', shrink=0.05), \n",
    "            fontsize=16)\n",
    "\n",
    "# Doing this just to make the graph look better\n",
    "best_val_rmse -= 0.03 \n",
    "\n",
    "# Draw a straight, dotted, horizontal line at the best (least) RMSE\n",
    "plt.plot([0, n_epochs], [best_val_rmse, best_val_rmse], 'k:', linewidth=2)\n",
    "\n",
    "# Plot the training RMSE against number of epochs\n",
    "plt.plot(np.sqrt(val_errors), 'b-', linewidth=3, label='Validation Set')\n",
    "plt.plot(np.sqrt(train_errors), 'r--', linewidth=2, label='Training Set')\n",
    "plt.legend(loc='upper right', fontsize=14)\n",
    "plt.xlabel('Epoch', fontsize=14)\n",
    "plt.ylabel('RMSE', fontsize=14)\n",
    "save_fig('early_stopping_visualization')"
   ]
  },
  {
   "cell_type": "code",
   "execution_count": 57,
   "metadata": {},
   "outputs": [
    {
     "data": {
      "text/plain": [
       "(239,\n",
       " SGDRegressor(alpha=0.0001, average=False, early_stopping=False, epsilon=0.1,\n",
       "        eta0=0.0005, fit_intercept=True, l1_ratio=0.15,\n",
       "        learning_rate='constant', loss='squared_loss', max_iter=1,\n",
       "        n_iter=None, n_iter_no_change=5, penalty=None, power_t=0.25,\n",
       "        random_state=42, shuffle=True, tol=-inf, validation_fraction=0.1,\n",
       "        verbose=0, warm_start=True))"
      ]
     },
     "execution_count": 57,
     "metadata": {},
     "output_type": "execute_result"
    }
   ],
   "source": [
    "# What are the parameters for the best model?\n",
    "best_epoch, best_model"
   ]
  },
  {
   "cell_type": "markdown",
   "metadata": {},
   "source": [
    "This shows that if we trained a simple SGD regressor to fit this specific data, we should stop training after 239 epochs because that is when the validation set loss reaches its minimum value.\n",
    "\n",
    "This is the same as regularization, because we're preventing overfitting by stopping training before the model starts to update its weights to match minute, inconsequential patterns in the data."
   ]
  },
  {
   "cell_type": "code",
   "execution_count": null,
   "metadata": {},
   "outputs": [],
   "source": []
  }
 ],
 "metadata": {
  "kernelspec": {
   "display_name": "Python 3",
   "language": "python",
   "name": "python3"
  },
  "language_info": {
   "codemirror_mode": {
    "name": "ipython",
    "version": 3
   },
   "file_extension": ".py",
   "mimetype": "text/x-python",
   "name": "python",
   "nbconvert_exporter": "python",
   "pygments_lexer": "ipython3",
   "version": "3.6.5"
  }
 },
 "nbformat": 4,
 "nbformat_minor": 2
}
