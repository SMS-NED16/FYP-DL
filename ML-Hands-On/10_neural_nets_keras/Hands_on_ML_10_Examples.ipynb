{
  "nbformat": 4,
  "nbformat_minor": 0,
  "metadata": {
    "colab": {
      "name": "Hands-on-ML-10-Examples.ipynb",
      "provenance": [],
      "collapsed_sections": []
    },
    "kernelspec": {
      "name": "python3",
      "display_name": "Python 3"
    }
  },
  "cells": [
    {
      "cell_type": "markdown",
      "metadata": {
        "id": "2_GUwGCc-iBh",
        "colab_type": "text"
      },
      "source": [
        "# Hands-on Machine Learning - Chapter 10 - Examples"
      ]
    },
    {
      "cell_type": "markdown",
      "metadata": {
        "id": "3hpDWNg7-0RM",
        "colab_type": "text"
      },
      "source": [
        "# Setup"
      ]
    },
    {
      "cell_type": "code",
      "metadata": {
        "id": "WHQ5bOdI-0LE",
        "colab_type": "code",
        "colab": {}
      },
      "source": [
        "# Python 3.5 or above \n",
        "import sys\n",
        "assert sys.version_info >= (3, 5)\n",
        "\n",
        "# Scikit-Learn version 0.20 or above\n",
        "import sklearn\n",
        "assert sklearn.__version__ >= \"0.20\"\n",
        "\n",
        "# Tensorflow 2.0 or above required\n",
        "import tensorflow as tf\n",
        "assert tf.__version__ >= \"2.0\"\n",
        "\n",
        "# Common imports \n",
        "import numpy as np \n",
        "import os \n",
        "\n",
        "# Seeding random number generator to make output consistent across runs\n",
        "np.random.seed(42)\n",
        "\n",
        "# For plotting pretty figures\n",
        "%matplotlib inline \n",
        "import matplotlib as mpl\n",
        "import matplotlib.pyplot as plt \n",
        "mpl.rc('axes', labelsize=14)\n",
        "mpl.rc('xtick', labelsize=12)\n",
        "mpl.rc('ytick', labelsize=12)\n",
        "\n",
        "# Filepaths for saving figures\n",
        "ROOT_DIR = '.'\n",
        "IMAGES_PATH = os.path.join(ROOT_DIR, \"images\")\n",
        "os.makedirs(IMAGES_PATH, exist_ok=True) \n",
        "\n",
        "# Function for saving figures\n",
        "def save_fig(fig_id, tight_layout=True, fig_extension='png', resolution=300):\n",
        "  path = os.path.join(IMAGES_PATH, fig_id + \".\" + fig_extension)\n",
        "  print(\"Saving figure\", fig_id)\n",
        "\n",
        "  if tight_layout:\n",
        "    plt.tight_layout()\n",
        "\n",
        "  plt.savefig(path, format=fig_extension, dpi=resolution)\n",
        "\n",
        "# Ignore warnings for this notebook\n",
        "import warnings\n",
        "warnings.filterwarnings(action='ignore', message='^internal gelsd')\n"
      ],
      "execution_count": 0,
      "outputs": []
    },
    {
      "cell_type": "markdown",
      "metadata": {
        "id": "yNmqmpgh-k7G",
        "colab_type": "text"
      },
      "source": [
        "# Example 1 - Perceptron"
      ]
    },
    {
      "cell_type": "code",
      "metadata": {
        "id": "HeYBYJ3P-zge",
        "colab_type": "code",
        "colab": {}
      },
      "source": [
        "import numpy as np \n",
        "from sklearn.datasets import load_iris\n",
        "from sklearn.linear_model import Perceptron # Implements single layer of TLUs"
      ],
      "execution_count": 0,
      "outputs": []
    },
    {
      "cell_type": "code",
      "metadata": {
        "id": "XOlqO_ZBATBI",
        "colab_type": "code",
        "colab": {}
      },
      "source": [
        "# Loading Iris flowers dataset\n",
        "iris = load_iris() \n",
        "X = iris.data[:, (2, 3)]              # Petal length, petal width\n",
        "y = (iris.target == 0).astype(np.int) # One-vs-rest classification for Setosa"
      ],
      "execution_count": 0,
      "outputs": []
    },
    {
      "cell_type": "code",
      "metadata": {
        "id": "WwwFASEEAl5Z",
        "colab_type": "code",
        "outputId": "fabb3cd3-8c76-40fb-ae7f-19fe72cec3cf",
        "colab": {
          "base_uri": "https://localhost:8080/",
          "height": 34
        }
      },
      "source": [
        "# Instantiating, fitting, and evaluating a Perceptron classifier\n",
        "per_clf = Perceptron(max_iter=1000, tol=1e-3, random_state=42)\n",
        "per_clf.fit(X, y)\n",
        "\n",
        "# Prediction for a petal length and width of 2cm/0.5cm\n",
        "y_pred = per_clf.predict([[2, 0.5]])\n",
        "print(y_pred)                         # Predicted to be a Setosa flower"
      ],
      "execution_count": 0,
      "outputs": [
        {
          "output_type": "stream",
          "text": [
            "[1]\n"
          ],
          "name": "stdout"
        }
      ]
    },
    {
      "cell_type": "markdown",
      "metadata": {
        "id": "IOCIag16Ax9I",
        "colab_type": "text"
      },
      "source": [
        "## Visualizing Perceptron Behaviour\n",
        "- A perceptron consists of a single layer of threshold logic units (TLUs).\n",
        "- The decision boundary of an individual TLU is linear.\n",
        "- This means the decision boundary of the Perceptron will also be linear, since its output is simply the collective output of all its TLUs. "
      ]
    },
    {
      "cell_type": "code",
      "metadata": {
        "id": "_zBNKNiLBfU7",
        "colab_type": "code",
        "outputId": "0bc025f9-9add-430c-9cd5-d0caacc0e903",
        "colab": {
          "base_uri": "https://localhost:8080/",
          "height": 314
        }
      },
      "source": [
        "# Calculate the slope and intercept of the decision boundary\n",
        "a = -per_clf.coef_[0][0] / per_clf.coef_[0][1]\n",
        "b = -per_clf.intercept_ / per_clf.coef_[0][1]\n",
        "\n",
        "axes = [0, 5, 0, 2]\n",
        "\n",
        "# Grid of values between axes limits - will be used as test points\n",
        "x0, x1 = np.meshgrid(\n",
        "    np.linspace(axes[0], axes[1], 500).reshape(-1, 1),\n",
        "    np.linspace(axes[2], axes[3], 200).reshape(-1, 1),\n",
        ")\n",
        "\n",
        "# Combine the two feature values as column vectors in a matrix\n",
        "X_new = np.c_[x0.ravel(), x1.ravel()]\n",
        "\n",
        "# Make predictions on the space of new data\n",
        "y_predict = per_clf.predict(X_new)\n",
        "\n",
        "# What is this?\n",
        "zz = y_predict.reshape(x0.shape)\n",
        "\n",
        "# Create a new figure\n",
        "plt.figure(figsize=(10, 4))\n",
        "\n",
        "# Index and plot all training samples with different labels according to their class\n",
        "plt.plot(X[y == 0, 0], X[y == 0, 1], 'bs', label='Not Iris-Setosa')\n",
        "plt.plot(X[y == 1, 0], X[y == 1, 1], 'yo', label='Iris-Setosa')\n",
        "\n",
        "# Plot the decision boundary - (x coordinates), (y coordinates)\n",
        "plt.plot([axes[0], axes[1]], [a * axes[0] + b, a * axes[1] + b], 'k-', linewidth=3)\n",
        "\n",
        "# Define colours for the contour map that shows the regions separated by the boundary\n",
        "from matplotlib.colors import ListedColormap\n",
        "custom_cmap = ListedColormap(['#9898ff', '#fafab0'])\n",
        "\n",
        "# Plot a contour map\n",
        "plt.contourf(x0, x1, zz, cmap=custom_cmap)\n",
        "plt.xlabel(\"Petal length\", fontsize=14)\n",
        "plt.ylabel(\"Petal width\", fontsize=14)\n",
        "plt.legend(loc=\"lower right\", fontsize=14)\n",
        "plt.axis(axes)\n",
        "\n",
        "# Save the figure\n",
        "save_fig('perceptron_iris_plot')\n",
        "plt.show()"
      ],
      "execution_count": 0,
      "outputs": [
        {
          "output_type": "stream",
          "text": [
            "Saving figure perceptron_iris_plot\n"
          ],
          "name": "stdout"
        },
        {
          "output_type": "display_data",
          "data": {
            "image/png": "[encoded data removed]",
            "text/plain": [
              "<Figure size 720x288 with 1 Axes>"
            ]
          },
          "metadata": {
            "tags": [],
            "needs_background": "light"
          }
        }
      ]
    },
    {
      "cell_type": "markdown",
      "metadata": {
        "id": "0gqCVVi2DVEo",
        "colab_type": "text"
      },
      "source": [
        "# Example 2 - Activation Functions"
      ]
    },
    {
      "cell_type": "code",
      "metadata": {
        "id": "pDsxKqa6J37U",
        "colab_type": "code",
        "colab": {}
      },
      "source": [
        "def sigmoid(z):\n",
        "  return 1 / (1 + np.exp(-z))\n",
        "\n",
        "def relu(z):\n",
        "  return np.maximum(0, z)\n",
        "\n",
        "def derivative(f, z, eps=0.0000001):\n",
        "  \"\"\"Manually computing the derivative of a function based on first principles\"\"\"\n",
        "  return (f(z + eps) - f(z - eps)) / (2 * eps)"
      ],
      "execution_count": 0,
      "outputs": []
    },
    {
      "cell_type": "code",
      "metadata": {
        "id": "5fcRv-DfKIjD",
        "colab_type": "code",
        "outputId": "04e044ff-f6e5-4043-f92e-76c236983f33",
        "colab": {
          "base_uri": "https://localhost:8080/",
          "height": 458
        }
      },
      "source": [
        "# Defining space of values to compute activation functions \n",
        "z = np.linspace(-5, 5, 200)\n",
        "\n",
        "# Comparing relu and sigmoid activation functions side by side\n",
        "plt.figure(figsize=(12, 6))\n",
        "\n",
        "# FIRST PLOT - ACTIVATION FUNCTIONS\n",
        "plt.subplot(121)\n",
        "plt.plot(z, np.sign(z), 'r-', linewidth=1, label='Step')\n",
        "plt.plot(z, sigmoid(z), 'g--', linewidth=2, label='Sigmoid')\n",
        "plt.plot(z, np.tanh(z), 'b-', linewidth=2, label='Tanh')\n",
        "plt.plot(z, relu(z), 'm-.', linewidth=2, label='ReLU')\n",
        "plt.grid(True)\n",
        "plt.legend(loc='center right', fontsize=14)\n",
        "plt.title('Activation Function', fontsize=14)\n",
        "plt.axis([-5, 5, -1.2, 1.2])\n",
        "\n",
        "# SECOND PLOT - DERIVATIVES OF ACTIVATION FUNCTIONS\n",
        "plt.subplot(122)\n",
        "plt.plot(z, derivative(np.sign, z), 'r-', linewidth=1, label='Step')\n",
        "plt.plot(z, derivative(sigmoid, z), 'g--', linewidth=2, label='Sigmoid')\n",
        "plt.plot(z, derivative(np.tanh, z), 'b-', linewidth=2, label='Tanh')\n",
        "plt.plot(z, derivative(relu, z), 'm-.', linewidth=2, label='ReLU')\n",
        "\n",
        "# Adding markers at (0, 0) to highlight discontinuities in gradients\n",
        "plt.plot(0, 0, \"ro\", markersize=5)\n",
        "plt.plot(0, 0, \"rx\", markersize=10)\n",
        "\n",
        "# Redefining axis limits\n",
        "plt.axis([-5, 5, -0.2, 1.2])\n",
        "\n",
        "plt.grid(True)\n",
        "plt.title('Derivatives', fontsize=14)\n",
        "\n",
        "save_fig('activation_functions_plot')"
      ],
      "execution_count": 0,
      "outputs": [
        {
          "output_type": "stream",
          "text": [
            "Saving figure activation_functions_plot\n"
          ],
          "name": "stdout"
        },
        {
          "output_type": "display_data",
          "data": {
            "image/png": "[encoded data removed]",
            "text/plain": [
              "<Figure size 864x432 with 2 Axes>"
            ]
          },
          "metadata": {
            "tags": [],
            "needs_background": "light"
          }
        }
      ]
    },
    {
      "cell_type": "markdown",
      "metadata": {
        "id": "JSmOpmCq1UGq",
        "colab_type": "text"
      },
      "source": [
        "# `tf.keras`\n",
        "\n",
        "`tf.keras` is an implementation of the `keras` API that is different from the vanilla `keras` implementation designed by the `keras-team`. \n",
        "\n",
        "In addition to all the features implemented by the original creators of `keras`, `keras-tf` also provides an API for using `tensorflow`-specific features. "
      ]
    },
    {
      "cell_type": "code",
      "metadata": {
        "id": "5Brr4zRZ1Wo7",
        "colab_type": "code",
        "outputId": "a5c08ca5-1ca2-474d-bf77-c26b7ce97ebb",
        "colab": {
          "base_uri": "https://localhost:8080/",
          "height": 51
        }
      },
      "source": [
        "import tensorflow as tf \n",
        "from tensorflow import keras\n",
        "\n",
        "# Are we using version 2.0 or above?\n",
        "print(\"Tensorflow Version\", tf.__version__)\n",
        "\n",
        "# What is the keras version?\n",
        "print(\"Keras Version\", keras.__version__) # -tf shows that it implements tf-specific features too"
      ],
      "execution_count": 22,
      "outputs": [
        {
          "output_type": "stream",
          "text": [
            "Tensorflow Version 2.2.0-rc3\n",
            "Keras Version 2.3.0-tf\n"
          ],
          "name": "stdout"
        }
      ]
    },
    {
      "cell_type": "markdown",
      "metadata": {
        "id": "MtcrvcMi1bwk",
        "colab_type": "text"
      },
      "source": [
        "# Example 3 - Image Classifer with `tf.keras`\n",
        "\n",
        "Using the Fashion-MNIST dataset, which is slightly more challenging to solve than the MNSIT digits dataset.\n",
        "\n",
        "However, it still has 70k 28-by-28 px images, and each of these images belong to one of 10 classes, just like the MNIST digits dataset."
      ]
    },
    {
      "cell_type": "code",
      "metadata": {
        "id": "v_7AVhHj2Bjz",
        "colab_type": "code",
        "colab": {}
      },
      "source": [
        "# Loading Data\n",
        "fashion_mnist = keras.datasets.fashion_mnist\n",
        "(X_train_full, y_train_full), (X_test, y_test) = fashion_mnist.load_data()"
      ],
      "execution_count": 0,
      "outputs": []
    },
    {
      "cell_type": "code",
      "metadata": {
        "id": "MdFMxuSq2g0s",
        "colab_type": "code",
        "outputId": "5fd28775-8dfb-4108-8c5c-131706121d6d",
        "colab": {
          "base_uri": "https://localhost:8080/",
          "height": 34
        }
      },
      "source": [
        "X_train_full.shape"
      ],
      "execution_count": 24,
      "outputs": [
        {
          "output_type": "execute_result",
          "data": {
            "text/plain": [
              "(60000, 28, 28)"
            ]
          },
          "metadata": {
            "tags": []
          },
          "execution_count": 24
        }
      ]
    },
    {
      "cell_type": "code",
      "metadata": {
        "id": "86mwRG-_2mhO",
        "colab_type": "code",
        "outputId": "ea629616-2966-42f1-accf-334d40fe66f1",
        "colab": {
          "base_uri": "https://localhost:8080/",
          "height": 34
        }
      },
      "source": [
        "X_test.shape"
      ],
      "execution_count": 25,
      "outputs": [
        {
          "output_type": "execute_result",
          "data": {
            "text/plain": [
              "(10000, 28, 28)"
            ]
          },
          "metadata": {
            "tags": []
          },
          "execution_count": 25
        }
      ]
    },
    {
      "cell_type": "code",
      "metadata": {
        "id": "NuhRrUS12n5p",
        "colab_type": "code",
        "outputId": "9c1e2b80-3d79-4df1-cea2-79a96646274a",
        "colab": {
          "base_uri": "https://localhost:8080/",
          "height": 34
        }
      },
      "source": [
        "X_train_full.dtype"
      ],
      "execution_count": 26,
      "outputs": [
        {
          "output_type": "execute_result",
          "data": {
            "text/plain": [
              "dtype('uint8')"
            ]
          },
          "metadata": {
            "tags": []
          },
          "execution_count": 26
        }
      ]
    },
    {
      "cell_type": "markdown",
      "metadata": {
        "id": "Tw9SD3TG2pd_",
        "colab_type": "text"
      },
      "source": [
        "There are two major differences between the MNIST data imported with `sklearn` and that imported with `keras.datasets`.\n",
        "- Each example is no longer a 1D array of 784 pixel values, but rather a 28 by 28 2D array of pixel values.\n",
        "- These pixel values are no longer floating point numbers. Instead, they are 8 bit unsigned integers."
      ]
    },
    {
      "cell_type": "markdown",
      "metadata": {
        "id": "8ybWUjNW26Qz",
        "colab_type": "text"
      },
      "source": [
        "## Feature Scaling and Validation Data\n",
        "- Extracting valiidaton data from the training data.\n",
        "- Scaling the pixel intensites by manually dividing by 255 (the maximum value of a pixel intensity).\n",
        "- Also converting them to floating-point values."
      ]
    },
    {
      "cell_type": "code",
      "metadata": {
        "id": "dtShH7XP2-3K",
        "colab_type": "code",
        "colab": {}
      },
      "source": [
        "X_valid, X_train = X_train_full[:5000] / 255.0, X_train_full[5000:] / 255.0 "
      ],
      "execution_count": 0,
      "outputs": []
    },
    {
      "cell_type": "code",
      "metadata": {
        "id": "pKkP_97P3Tb3",
        "colab_type": "code",
        "colab": {}
      },
      "source": [
        "y_valid, y_train = y_train_full[:5000], y_train_full[5000:]"
      ],
      "execution_count": 0,
      "outputs": []
    },
    {
      "cell_type": "markdown",
      "metadata": {
        "id": "yvSdO7vZ3Xsl",
        "colab_type": "text"
      },
      "source": [
        "## Class Names\n",
        "\n",
        "Need to know mappings between class integers and the article of clothing they represent."
      ]
    },
    {
      "cell_type": "code",
      "metadata": {
        "id": "ZlOzWDH63hrI",
        "colab_type": "code",
        "colab": {}
      },
      "source": [
        "class_names = [\"T-shirt/top\", \"Trouser\", \"Pullover\", \"Dress\", \"Coat\",\n",
        "                   \"Sandal\", \"Shirt\", \"Sneaker\", \"Bag\", \"Ankle boot\"]"
      ],
      "execution_count": 0,
      "outputs": []
    },
    {
      "cell_type": "code",
      "metadata": {
        "id": "5nU2Srtn3m9z",
        "colab_type": "code",
        "outputId": "72596ef7-b6c2-4154-e0e5-5b6a98dc86a3",
        "colab": {
          "base_uri": "https://localhost:8080/",
          "height": 34
        }
      },
      "source": [
        "# Can use these class names to find the type of clothing for each example\n",
        "class_names[y_train[0]]"
      ],
      "execution_count": 30,
      "outputs": [
        {
          "output_type": "execute_result",
          "data": {
            "text/plain": [
              "'Coat'"
            ]
          },
          "metadata": {
            "tags": []
          },
          "execution_count": 30
        }
      ]
    },
    {
      "cell_type": "markdown",
      "metadata": {
        "id": "iuKHH5Ip3uOV",
        "colab_type": "text"
      },
      "source": [
        "## MNIST Model - Sequential API"
      ]
    },
    {
      "cell_type": "code",
      "metadata": {
        "id": "352DEibA3yxN",
        "colab_type": "code",
        "colab": {}
      },
      "source": [
        "# Instantiate a Sequential model - a sequential stack of neural network layers\n",
        "model = keras.models.Sequential()\n",
        "\n",
        "# Add layers one by one to the model \n",
        "\n",
        "# Convert 2D input array to 1D vector - it has no learnable parameters\n",
        "model.add(keras.layers.Flatten(input_shape=[28, 28]))\n",
        "\n",
        "# Dense layer: each of the 300 neurons is connected by a weight to every neuron\n",
        "# in the previous layer, along with a vector of bias terms (one per neuron)\n",
        "model.add(keras.layers.Dense(300, activation='relu'))\n",
        "\n",
        "# Second dense layer \n",
        "model.add(keras.layers.Dense(100, activation='relu'))\n",
        "\n",
        "# Final dense layer - one unit per class, and because classes are exclusive,\n",
        "# We use the softmax activation function\n",
        "model.add(keras.layers.Dense(10, activation='softmax'))"
      ],
      "execution_count": 0,
      "outputs": []
    },
    {
      "cell_type": "code",
      "metadata": {
        "id": "t4C2gb-f4COn",
        "colab_type": "code",
        "colab": {}
      },
      "source": [
        "# Can also instantiate a model by passing a list of layers\n",
        "model = keras.models.Sequential([\n",
        "        keras.layers.Flatten(input_shape=[28, 28]), \n",
        "        keras.layers.Dense(300, activation='relu'),\n",
        "        keras.layers.Dense(100, activation='relu'),\n",
        "        keras.layers.Dense(10, activation='softmax')\n",
        "])"
      ],
      "execution_count": 0,
      "outputs": []
    },
    {
      "cell_type": "code",
      "metadata": {
        "id": "CKagLyDK4-fZ",
        "colab_type": "code",
        "outputId": "69ac66b8-2b28-4921-f37b-07c88d26ae19",
        "colab": {
          "base_uri": "https://localhost:8080/",
          "height": 289
        }
      },
      "source": [
        "# Display a formatted list of all the layers that make up the model\n",
        "# Along with theyr names, output shapes, and number of parameters\n",
        "model.summary()"
      ],
      "execution_count": 33,
      "outputs": [
        {
          "output_type": "stream",
          "text": [
            "Model: \"sequential_4\"\n",
            "_________________________________________________________________\n",
            "Layer (type)                 Output Shape              Param #   \n",
            "=================================================================\n",
            "flatten_4 (Flatten)          (None, 784)               0         \n",
            "_________________________________________________________________\n",
            "dense_12 (Dense)             (None, 300)               235500    \n",
            "_________________________________________________________________\n",
            "dense_13 (Dense)             (None, 100)               30100     \n",
            "_________________________________________________________________\n",
            "dense_14 (Dense)             (None, 10)                1010      \n",
            "=================================================================\n",
            "Total params: 266,610\n",
            "Trainable params: 266,610\n",
            "Non-trainable params: 0\n",
            "_________________________________________________________________\n"
          ],
          "name": "stdout"
        }
      ]
    },
    {
      "cell_type": "markdown",
      "metadata": {
        "id": "xFi-REci5siE",
        "colab_type": "text"
      },
      "source": [
        "### Accessing Model Attributes"
      ]
    },
    {
      "cell_type": "code",
      "metadata": {
        "id": "b90kDvPZ5O6v",
        "colab_type": "code",
        "outputId": "e6e35b07-6f83-4d9f-ea11-05d0eb2f3542",
        "colab": {
          "base_uri": "https://localhost:8080/",
          "height": 85
        }
      },
      "source": [
        "# Can iterate over the layers in a model like this\n",
        "model.layers"
      ],
      "execution_count": 34,
      "outputs": [
        {
          "output_type": "execute_result",
          "data": {
            "text/plain": [
              "[<tensorflow.python.keras.layers.core.Flatten at 0x7eff28cb4978>,\n",
              " <tensorflow.python.keras.layers.core.Dense at 0x7eff28d265f8>,\n",
              " <tensorflow.python.keras.layers.core.Dense at 0x7eff28cb79e8>,\n",
              " <tensorflow.python.keras.layers.core.Dense at 0x7eff28cb7dd8>]"
            ]
          },
          "metadata": {
            "tags": []
          },
          "execution_count": 34
        }
      ]
    },
    {
      "cell_type": "code",
      "metadata": {
        "id": "LzJijeeN5efo",
        "colab_type": "code",
        "outputId": "3619629b-5fc1-4740-e7e6-7f71139e4449",
        "colab": {
          "base_uri": "https://localhost:8080/",
          "height": 34
        }
      },
      "source": [
        "# model.layers is an iterable of objects, so can be indexed\n",
        "model.layers[1].name"
      ],
      "execution_count": 35,
      "outputs": [
        {
          "output_type": "execute_result",
          "data": {
            "text/plain": [
              "'dense_12'"
            ]
          },
          "metadata": {
            "tags": []
          },
          "execution_count": 35
        }
      ]
    },
    {
      "cell_type": "code",
      "metadata": {
        "id": "uAFstope5kc-",
        "colab_type": "code",
        "outputId": "4dd61915-20c8-4e08-d47b-94ede103e144",
        "colab": {
          "base_uri": "https://localhost:8080/",
          "height": 34
        }
      },
      "source": [
        "# Can also use methods that are called on model \n",
        "model.get_layer('dense_12').name"
      ],
      "execution_count": 37,
      "outputs": [
        {
          "output_type": "execute_result",
          "data": {
            "text/plain": [
              "'dense_12'"
            ]
          },
          "metadata": {
            "tags": []
          },
          "execution_count": 37
        }
      ]
    },
    {
      "cell_type": "code",
      "metadata": {
        "id": "JQG5RON35prj",
        "colab_type": "code",
        "colab": {}
      },
      "source": [
        "# Can access and modify weights of a biases of layers too\n",
        "hidden1 = model.layers[1]\n",
        "\n",
        "# `get_weights` will return both weights and biases separately\n",
        "weights, biases = hidden1.get_weights()"
      ],
      "execution_count": 0,
      "outputs": []
    },
    {
      "cell_type": "code",
      "metadata": {
        "id": "jsfJY8hO6yBB",
        "colab_type": "code",
        "colab": {
          "base_uri": "https://localhost:8080/",
          "height": 238
        },
        "outputId": "2901fc15-e132-4010-d146-c1e69a15bda7"
      },
      "source": [
        "weights"
      ],
      "execution_count": 40,
      "outputs": [
        {
          "output_type": "execute_result",
          "data": {
            "text/plain": [
              "array([[ 0.00086305,  0.03555709, -0.0651176 , ...,  0.06457838,\n",
              "        -0.06877986, -0.03905503],\n",
              "       [-0.02205615, -0.00141451, -0.04783842, ...,  0.02756567,\n",
              "        -0.01292818, -0.05715518],\n",
              "       [ 0.02462319, -0.03509757,  0.00977196, ..., -0.04900217,\n",
              "        -0.0426376 , -0.02407257],\n",
              "       ...,\n",
              "       [-0.00890683, -0.0678853 ,  0.03363097, ..., -0.04224531,\n",
              "        -0.04053664,  0.03851693],\n",
              "       [-0.05798389,  0.02285148,  0.05275621, ..., -0.06094335,\n",
              "         0.04417343,  0.0141556 ],\n",
              "       [ 0.07401396, -0.06056695, -0.05401753, ...,  0.0514818 ,\n",
              "        -0.04754713, -0.05215546]], dtype=float32)"
            ]
          },
          "metadata": {
            "tags": []
          },
          "execution_count": 40
        }
      ]
    },
    {
      "cell_type": "code",
      "metadata": {
        "id": "pF3A9UgI-Rsq",
        "colab_type": "code",
        "colab": {
          "base_uri": "https://localhost:8080/",
          "height": 34
        },
        "outputId": "b4a32c02-a179-4b6c-8421-d31e21d1e0ff"
      },
      "source": [
        "weights.shape # (784, 300) randomly initialised weights to break weight symmetry"
      ],
      "execution_count": 44,
      "outputs": [
        {
          "output_type": "execute_result",
          "data": {
            "text/plain": [
              "(784, 300)"
            ]
          },
          "metadata": {
            "tags": []
          },
          "execution_count": 44
        }
      ]
    },
    {
      "cell_type": "code",
      "metadata": {
        "id": "K0e3EA3C-Wvq",
        "colab_type": "code",
        "colab": {
          "base_uri": "https://localhost:8080/",
          "height": 323
        },
        "outputId": "7da60cb5-ee28-47e3-87ce-7202eace843a"
      },
      "source": [
        "biases # All zeros"
      ],
      "execution_count": 42,
      "outputs": [
        {
          "output_type": "execute_result",
          "data": {
            "text/plain": [
              "array([0., 0., 0., 0., 0., 0., 0., 0., 0., 0., 0., 0., 0., 0., 0., 0., 0.,\n",
              "       0., 0., 0., 0., 0., 0., 0., 0., 0., 0., 0., 0., 0., 0., 0., 0., 0.,\n",
              "       0., 0., 0., 0., 0., 0., 0., 0., 0., 0., 0., 0., 0., 0., 0., 0., 0.,\n",
              "       0., 0., 0., 0., 0., 0., 0., 0., 0., 0., 0., 0., 0., 0., 0., 0., 0.,\n",
              "       0., 0., 0., 0., 0., 0., 0., 0., 0., 0., 0., 0., 0., 0., 0., 0., 0.,\n",
              "       0., 0., 0., 0., 0., 0., 0., 0., 0., 0., 0., 0., 0., 0., 0., 0., 0.,\n",
              "       0., 0., 0., 0., 0., 0., 0., 0., 0., 0., 0., 0., 0., 0., 0., 0., 0.,\n",
              "       0., 0., 0., 0., 0., 0., 0., 0., 0., 0., 0., 0., 0., 0., 0., 0., 0.,\n",
              "       0., 0., 0., 0., 0., 0., 0., 0., 0., 0., 0., 0., 0., 0., 0., 0., 0.,\n",
              "       0., 0., 0., 0., 0., 0., 0., 0., 0., 0., 0., 0., 0., 0., 0., 0., 0.,\n",
              "       0., 0., 0., 0., 0., 0., 0., 0., 0., 0., 0., 0., 0., 0., 0., 0., 0.,\n",
              "       0., 0., 0., 0., 0., 0., 0., 0., 0., 0., 0., 0., 0., 0., 0., 0., 0.,\n",
              "       0., 0., 0., 0., 0., 0., 0., 0., 0., 0., 0., 0., 0., 0., 0., 0., 0.,\n",
              "       0., 0., 0., 0., 0., 0., 0., 0., 0., 0., 0., 0., 0., 0., 0., 0., 0.,\n",
              "       0., 0., 0., 0., 0., 0., 0., 0., 0., 0., 0., 0., 0., 0., 0., 0., 0.,\n",
              "       0., 0., 0., 0., 0., 0., 0., 0., 0., 0., 0., 0., 0., 0., 0., 0., 0.,\n",
              "       0., 0., 0., 0., 0., 0., 0., 0., 0., 0., 0., 0., 0., 0., 0., 0., 0.,\n",
              "       0., 0., 0., 0., 0., 0., 0., 0., 0., 0., 0.], dtype=float32)"
            ]
          },
          "metadata": {
            "tags": []
          },
          "execution_count": 42
        }
      ]
    },
    {
      "cell_type": "code",
      "metadata": {
        "id": "QrEmM2E0-Zn3",
        "colab_type": "code",
        "colab": {
          "base_uri": "https://localhost:8080/",
          "height": 34
        },
        "outputId": "f974e2f6-19bf-4f4e-ce41-1cd007444ff0"
      },
      "source": [
        "biases.shape"
      ],
      "execution_count": 43,
      "outputs": [
        {
          "output_type": "execute_result",
          "data": {
            "text/plain": [
              "(300,)"
            ]
          },
          "metadata": {
            "tags": []
          },
          "execution_count": 43
        }
      ]
    },
    {
      "cell_type": "markdown",
      "metadata": {
        "id": "Hu8ZXXuH-agy",
        "colab_type": "text"
      },
      "source": [
        "## Compiling Model\n",
        "\n",
        "After a model has been built, we use `compile` to specify \n",
        "- the loss functon (a numerical measure of the 'difference' between the predicted and actual outputs for a given training example)\n",
        "- the optimizer (what variant of gradient descent to use to minimise the loss)\n",
        "- metrics (any other numerical measures of how well our model is performing during training).\n",
        "\n",
        "We are using sparse categorical crossentropy because our output is a single class label (an integer) instead of a vector of target probabilities per class (in which case we would use `categorical_crossentropy`.\n"
      ]
    },
    {
      "cell_type": "code",
      "metadata": {
        "id": "-gNDp0_w_I4q",
        "colab_type": "code",
        "colab": {}
      },
      "source": [
        "model.compile(loss='sparse_categorical_crossentropy', \n",
        "              optimizer='sgd',\n",
        "              metrics=['accuracy'])"
      ],
      "execution_count": 0,
      "outputs": []
    },
    {
      "cell_type": "markdown",
      "metadata": {
        "id": "NR9b-0pe_PC3",
        "colab_type": "text"
      },
      "source": [
        "## Training the Model"
      ]
    },
    {
      "cell_type": "code",
      "metadata": {
        "id": "em7EIqU6CNY9",
        "colab_type": "code",
        "colab": {
          "base_uri": "https://localhost:8080/",
          "height": 1000
        },
        "outputId": "a12f70f6-514d-475a-e72d-18f74d7d6cca"
      },
      "source": [
        "history = model.fit(X_train, y_train, epochs=50, \n",
        "                    validation_data=(X_valid, y_valid))"
      ],
      "execution_count": 46,
      "outputs": [
        {
          "output_type": "stream",
          "text": [
            "Epoch 1/50\n",
            "1719/1719 [==============================] - 5s 3ms/step - loss: 0.7082 - accuracy: 0.7664 - val_loss: 0.5075 - val_accuracy: 0.8304\n",
            "Epoch 2/50\n",
            "1719/1719 [==============================] - 5s 3ms/step - loss: 0.4893 - accuracy: 0.8303 - val_loss: 0.4757 - val_accuracy: 0.8272\n",
            "Epoch 3/50\n",
            "1719/1719 [==============================] - 5s 3ms/step - loss: 0.4449 - accuracy: 0.8426 - val_loss: 0.4179 - val_accuracy: 0.8568\n",
            "Epoch 4/50\n",
            "1719/1719 [==============================] - 5s 3ms/step - loss: 0.4167 - accuracy: 0.8540 - val_loss: 0.3981 - val_accuracy: 0.8642\n",
            "Epoch 5/50\n",
            "1719/1719 [==============================] - 5s 3ms/step - loss: 0.3964 - accuracy: 0.8613 - val_loss: 0.4059 - val_accuracy: 0.8588\n",
            "Epoch 6/50\n",
            "1719/1719 [==============================] - 5s 3ms/step - loss: 0.3793 - accuracy: 0.8659 - val_loss: 0.3768 - val_accuracy: 0.8670\n",
            "Epoch 7/50\n",
            "1719/1719 [==============================] - 5s 3ms/step - loss: 0.3658 - accuracy: 0.8700 - val_loss: 0.3646 - val_accuracy: 0.8724\n",
            "Epoch 8/50\n",
            "1719/1719 [==============================] - 5s 3ms/step - loss: 0.3531 - accuracy: 0.8748 - val_loss: 0.3528 - val_accuracy: 0.8750\n",
            "Epoch 9/50\n",
            "1719/1719 [==============================] - 5s 3ms/step - loss: 0.3444 - accuracy: 0.8772 - val_loss: 0.3565 - val_accuracy: 0.8730\n",
            "Epoch 10/50\n",
            "1719/1719 [==============================] - 5s 3ms/step - loss: 0.3340 - accuracy: 0.8806 - val_loss: 0.3405 - val_accuracy: 0.8820\n",
            "Epoch 11/50\n",
            "1719/1719 [==============================] - 5s 3ms/step - loss: 0.3248 - accuracy: 0.8844 - val_loss: 0.3354 - val_accuracy: 0.8810\n",
            "Epoch 12/50\n",
            "1719/1719 [==============================] - 5s 3ms/step - loss: 0.3168 - accuracy: 0.8877 - val_loss: 0.3272 - val_accuracy: 0.8818\n",
            "Epoch 13/50\n",
            "1719/1719 [==============================] - 5s 3ms/step - loss: 0.3087 - accuracy: 0.8893 - val_loss: 0.3237 - val_accuracy: 0.8824\n",
            "Epoch 14/50\n",
            "1719/1719 [==============================] - 5s 3ms/step - loss: 0.3031 - accuracy: 0.8916 - val_loss: 0.3449 - val_accuracy: 0.8756\n",
            "Epoch 15/50\n",
            "1719/1719 [==============================] - 5s 3ms/step - loss: 0.2958 - accuracy: 0.8946 - val_loss: 0.3334 - val_accuracy: 0.8806\n",
            "Epoch 16/50\n",
            "1719/1719 [==============================] - 5s 3ms/step - loss: 0.2898 - accuracy: 0.8948 - val_loss: 0.3396 - val_accuracy: 0.8788\n",
            "Epoch 17/50\n",
            "1719/1719 [==============================] - 5s 3ms/step - loss: 0.2845 - accuracy: 0.8970 - val_loss: 0.3229 - val_accuracy: 0.8838\n",
            "Epoch 18/50\n",
            "1719/1719 [==============================] - 5s 3ms/step - loss: 0.2783 - accuracy: 0.8995 - val_loss: 0.3317 - val_accuracy: 0.8806\n",
            "Epoch 19/50\n",
            "1719/1719 [==============================] - 5s 3ms/step - loss: 0.2742 - accuracy: 0.9006 - val_loss: 0.3137 - val_accuracy: 0.8876\n",
            "Epoch 20/50\n",
            "1719/1719 [==============================] - 5s 3ms/step - loss: 0.2676 - accuracy: 0.9040 - val_loss: 0.3075 - val_accuracy: 0.8914\n",
            "Epoch 21/50\n",
            "1719/1719 [==============================] - 5s 3ms/step - loss: 0.2637 - accuracy: 0.9048 - val_loss: 0.3212 - val_accuracy: 0.8826\n",
            "Epoch 22/50\n",
            "1719/1719 [==============================] - 5s 3ms/step - loss: 0.2585 - accuracy: 0.9066 - val_loss: 0.3197 - val_accuracy: 0.8858\n",
            "Epoch 23/50\n",
            "1719/1719 [==============================] - 5s 3ms/step - loss: 0.2541 - accuracy: 0.9081 - val_loss: 0.3219 - val_accuracy: 0.8854\n",
            "Epoch 24/50\n",
            "1719/1719 [==============================] - 5s 3ms/step - loss: 0.2502 - accuracy: 0.9100 - val_loss: 0.3124 - val_accuracy: 0.8862\n",
            "Epoch 25/50\n",
            "1719/1719 [==============================] - 5s 3ms/step - loss: 0.2448 - accuracy: 0.9112 - val_loss: 0.3028 - val_accuracy: 0.8924\n",
            "Epoch 26/50\n",
            "1719/1719 [==============================] - 5s 3ms/step - loss: 0.2407 - accuracy: 0.9141 - val_loss: 0.2951 - val_accuracy: 0.8956\n",
            "Epoch 27/50\n",
            "1719/1719 [==============================] - 5s 3ms/step - loss: 0.2360 - accuracy: 0.9162 - val_loss: 0.2930 - val_accuracy: 0.8950\n",
            "Epoch 28/50\n",
            "1719/1719 [==============================] - 5s 3ms/step - loss: 0.2321 - accuracy: 0.9165 - val_loss: 0.2949 - val_accuracy: 0.8962\n",
            "Epoch 29/50\n",
            "1719/1719 [==============================] - 5s 3ms/step - loss: 0.2290 - accuracy: 0.9178 - val_loss: 0.3060 - val_accuracy: 0.8884\n",
            "Epoch 30/50\n",
            "1719/1719 [==============================] - 5s 3ms/step - loss: 0.2243 - accuracy: 0.9190 - val_loss: 0.3022 - val_accuracy: 0.8878\n",
            "Epoch 31/50\n",
            "1719/1719 [==============================] - 5s 3ms/step - loss: 0.2210 - accuracy: 0.9211 - val_loss: 0.2992 - val_accuracy: 0.8904\n",
            "Epoch 32/50\n",
            "1719/1719 [==============================] - 5s 3ms/step - loss: 0.2182 - accuracy: 0.9213 - val_loss: 0.3030 - val_accuracy: 0.8952\n",
            "Epoch 33/50\n",
            "1719/1719 [==============================] - 5s 3ms/step - loss: 0.2138 - accuracy: 0.9233 - val_loss: 0.3044 - val_accuracy: 0.8888\n",
            "Epoch 34/50\n",
            "1719/1719 [==============================] - 5s 3ms/step - loss: 0.2106 - accuracy: 0.9247 - val_loss: 0.2960 - val_accuracy: 0.8970\n",
            "Epoch 35/50\n",
            "1719/1719 [==============================] - 5s 3ms/step - loss: 0.2075 - accuracy: 0.9253 - val_loss: 0.2861 - val_accuracy: 0.8966\n",
            "Epoch 36/50\n",
            "1719/1719 [==============================] - 6s 3ms/step - loss: 0.2041 - accuracy: 0.9269 - val_loss: 0.2896 - val_accuracy: 0.8972\n",
            "Epoch 37/50\n",
            "1719/1719 [==============================] - 5s 3ms/step - loss: 0.2005 - accuracy: 0.9281 - val_loss: 0.2986 - val_accuracy: 0.8952\n",
            "Epoch 38/50\n",
            "1719/1719 [==============================] - 5s 3ms/step - loss: 0.1978 - accuracy: 0.9296 - val_loss: 0.3034 - val_accuracy: 0.8914\n",
            "Epoch 39/50\n",
            "1719/1719 [==============================] - 5s 3ms/step - loss: 0.1940 - accuracy: 0.9309 - val_loss: 0.2931 - val_accuracy: 0.8970\n",
            "Epoch 40/50\n",
            "1719/1719 [==============================] - 5s 3ms/step - loss: 0.1909 - accuracy: 0.9312 - val_loss: 0.2927 - val_accuracy: 0.8950\n",
            "Epoch 41/50\n",
            "1719/1719 [==============================] - 5s 3ms/step - loss: 0.1877 - accuracy: 0.9320 - val_loss: 0.3038 - val_accuracy: 0.8912\n",
            "Epoch 42/50\n",
            "1719/1719 [==============================] - 5s 3ms/step - loss: 0.1849 - accuracy: 0.9341 - val_loss: 0.2966 - val_accuracy: 0.8950\n",
            "Epoch 43/50\n",
            "1719/1719 [==============================] - 5s 3ms/step - loss: 0.1819 - accuracy: 0.9354 - val_loss: 0.3077 - val_accuracy: 0.8940\n",
            "Epoch 44/50\n",
            "1719/1719 [==============================] - 5s 3ms/step - loss: 0.1799 - accuracy: 0.9358 - val_loss: 0.2867 - val_accuracy: 0.8982\n",
            "Epoch 45/50\n",
            "1719/1719 [==============================] - 5s 3ms/step - loss: 0.1769 - accuracy: 0.9371 - val_loss: 0.2855 - val_accuracy: 0.9014\n",
            "Epoch 46/50\n",
            "1719/1719 [==============================] - 5s 3ms/step - loss: 0.1743 - accuracy: 0.9387 - val_loss: 0.2953 - val_accuracy: 0.8938\n",
            "Epoch 47/50\n",
            "1719/1719 [==============================] - 5s 3ms/step - loss: 0.1708 - accuracy: 0.9387 - val_loss: 0.2916 - val_accuracy: 0.8968\n",
            "Epoch 48/50\n",
            "1719/1719 [==============================] - 5s 3ms/step - loss: 0.1681 - accuracy: 0.9404 - val_loss: 0.2860 - val_accuracy: 0.8976\n",
            "Epoch 49/50\n",
            "1719/1719 [==============================] - 5s 3ms/step - loss: 0.1672 - accuracy: 0.9404 - val_loss: 0.2949 - val_accuracy: 0.8992\n",
            "Epoch 50/50\n",
            "1719/1719 [==============================] - 5s 3ms/step - loss: 0.1625 - accuracy: 0.9425 - val_loss: 0.2999 - val_accuracy: 0.8972\n"
          ],
          "name": "stdout"
        }
      ]
    },
    {
      "cell_type": "markdown",
      "metadata": {
        "id": "U6wxMuIYCRPU",
        "colab_type": "text"
      },
      "source": [
        "## Visualizing History"
      ]
    },
    {
      "cell_type": "code",
      "metadata": {
        "id": "RZhuNY0YCpO-",
        "colab_type": "code",
        "colab": {}
      },
      "source": [
        "import pandas as pd"
      ],
      "execution_count": 0,
      "outputs": []
    },
    {
      "cell_type": "code",
      "metadata": {
        "id": "cp1KliiPCqu2",
        "colab_type": "code",
        "colab": {
          "base_uri": "https://localhost:8080/",
          "height": 328
        },
        "outputId": "1888952e-afcb-431a-d15d-9ad29480d28f"
      },
      "source": [
        "pd.DataFrame(history.history).plot(figsize=(8, 5))\n",
        "plt.grid(True)\n",
        "plt.gca().set_ylim([0, 1])    # Set vertical range to [0 - 1]\n",
        "plt.show()"
      ],
      "execution_count": 48,
      "outputs": [
        {
          "output_type": "display_data",
          "data": {
            "image/png": "[encoded data removed]",
            "text/plain": [
              "<Figure size 576x360 with 1 Axes>"
            ]
          },
          "metadata": {
            "tags": [],
            "needs_background": "light"
          }
        }
      ]
    },
    {
      "cell_type": "markdown",
      "metadata": {
        "id": "U8kLznQiC0Gs",
        "colab_type": "text"
      },
      "source": [
        "## Evaluating Model on the Test Set"
      ]
    },
    {
      "cell_type": "code",
      "metadata": {
        "id": "wxeI9RNwDVrJ",
        "colab_type": "code",
        "colab": {
          "base_uri": "https://localhost:8080/",
          "height": 68
        },
        "outputId": "6640464a-4a03-4ba0-c2cd-dca0b12f8585"
      },
      "source": [
        "X_new = X_test[:3]\n",
        "y_proba = model.predict(X_new)\n",
        "y_proba.round(2)"
      ],
      "execution_count": 49,
      "outputs": [
        {
          "output_type": "execute_result",
          "data": {
            "text/plain": [
              "array([[0., 0., 0., 0., 0., 0., 0., 0., 0., 1.],\n",
              "       [0., 0., 1., 0., 0., 0., 0., 0., 0., 0.],\n",
              "       [0., 1., 0., 0., 0., 0., 0., 0., 0., 0.]], dtype=float32)"
            ]
          },
          "metadata": {
            "tags": []
          },
          "execution_count": 49
        }
      ]
    },
    {
      "cell_type": "code",
      "metadata": {
        "id": "GlANWMjVDZCe",
        "colab_type": "code",
        "colab": {
          "base_uri": "https://localhost:8080/",
          "height": 34
        },
        "outputId": "695d2231-bc3d-4264-d8a7-941d703d9d5a"
      },
      "source": [
        "y_pred = model.predict_classes(X_new)\n",
        "y_pred  "
      ],
      "execution_count": 52,
      "outputs": [
        {
          "output_type": "execute_result",
          "data": {
            "text/plain": [
              "array([9, 2, 1])"
            ]
          },
          "metadata": {
            "tags": []
          },
          "execution_count": 52
        }
      ]
    },
    {
      "cell_type": "markdown",
      "metadata": {
        "id": "4aJa4AjjFLiM",
        "colab_type": "text"
      },
      "source": [
        "# Example 4 - California Housing Prices (Sequential API)"
      ]
    },
    {
      "cell_type": "code",
      "metadata": {
        "id": "pI5D5x7TFVTR",
        "colab_type": "code",
        "colab": {}
      },
      "source": [
        "import tensorflow as tf\n",
        "from tensorflow import keras\n",
        "\n",
        "from sklearn.datasets import fetch_california_housing\n",
        "from sklearn.model_selection import train_test_split\n",
        "from sklearn.preprocessing import StandardScaler"
      ],
      "execution_count": 0,
      "outputs": []
    },
    {
      "cell_type": "code",
      "metadata": {
        "id": "RuaO9SwmFf6G",
        "colab_type": "code",
        "colab": {}
      },
      "source": [
        "# Fetch the data\n",
        "housing = fetch_california_housing()"
      ],
      "execution_count": 0,
      "outputs": []
    },
    {
      "cell_type": "code",
      "metadata": {
        "id": "0d8-F-jyFjJ4",
        "colab_type": "code",
        "colab": {}
      },
      "source": [
        "# Train-test split - need to specify X and y as attributes of `housing` \n",
        "X_train_full, X_test, y_train_full, y_test = train_test_split(housing.data, housing.target)"
      ],
      "execution_count": 0,
      "outputs": []
    },
    {
      "cell_type": "code",
      "metadata": {
        "id": "adq9BRLoFr3I",
        "colab_type": "code",
        "colab": {}
      },
      "source": [
        "# Another train test split to extract validation data\n",
        "X_train, X_valid, y_train, y_valid = train_test_split(X_train_full, y_train_full)"
      ],
      "execution_count": 0,
      "outputs": []
    },
    {
      "cell_type": "code",
      "metadata": {
        "id": "ysuhP00CFzAr",
        "colab_type": "code",
        "colab": {}
      },
      "source": [
        "# Feature Scaling \n",
        "standard_scaler = StandardScaler()\n",
        "X_train_scaled = standard_scaler.fit_transform(X_train)\n",
        "X_valid_scaled = standard_scaler.transform(X_valid)\n",
        "X_test_scaled = standard_scaler.transform(X_test)"
      ],
      "execution_count": 0,
      "outputs": []
    },
    {
      "cell_type": "code",
      "metadata": {
        "id": "rooHC13gF_lK",
        "colab_type": "code",
        "colab": {}
      },
      "source": [
        "# Build model\n",
        "house_model = keras.models.Sequential([\n",
        "        # noisy data, so a single layer with fewer neurons to prevent overfitting\n",
        "        keras.layers.Dense(30, activation='relu', input_shape=X_train.shape[1:]),\n",
        "\n",
        "        # Output layer has single linear unit so it can produce any range of values \n",
        "        keras.layers.Dense(1)\n",
        "])"
      ],
      "execution_count": 0,
      "outputs": []
    },
    {
      "cell_type": "code",
      "metadata": {
        "id": "k4fQNeRoGW86",
        "colab_type": "code",
        "colab": {}
      },
      "source": [
        "# Compile model\n",
        "house_model.compile(loss='mean_squared_error', \n",
        "              optimizer='sgd')"
      ],
      "execution_count": 0,
      "outputs": []
    },
    {
      "cell_type": "code",
      "metadata": {
        "id": "AADA_Rm3GaD_",
        "colab_type": "code",
        "colab": {
          "base_uri": "https://localhost:8080/",
          "height": 697
        },
        "outputId": "ad1bd8c9-edea-4c83-c689-13d863ba0d62"
      },
      "source": [
        "# Train the model, save its history\n",
        "house_model_history = house_model.fit(X_train_scaled, y_train,\n",
        "                                      validation_data=(X_valid_scaled, y_valid), \n",
        "                                      epochs=20)"
      ],
      "execution_count": 101,
      "outputs": [
        {
          "output_type": "stream",
          "text": [
            "Epoch 1/20\n",
            "363/363 [==============================] - 1s 2ms/step - loss: 0.7980 - val_loss: 0.5654\n",
            "Epoch 2/20\n",
            "363/363 [==============================] - 1s 2ms/step - loss: 0.5276 - val_loss: 0.5064\n",
            "Epoch 3/20\n",
            "363/363 [==============================] - 1s 2ms/step - loss: 0.5054 - val_loss: 0.4824\n",
            "Epoch 4/20\n",
            "363/363 [==============================] - 1s 2ms/step - loss: 0.5084 - val_loss: 0.4754\n",
            "Epoch 5/20\n",
            "363/363 [==============================] - 1s 2ms/step - loss: 0.4540 - val_loss: 0.4630\n",
            "Epoch 6/20\n",
            "363/363 [==============================] - 1s 2ms/step - loss: 0.4338 - val_loss: 0.4649\n",
            "Epoch 7/20\n",
            "363/363 [==============================] - 1s 1ms/step - loss: 0.4250 - val_loss: 0.4536\n",
            "Epoch 8/20\n",
            "363/363 [==============================] - 1s 1ms/step - loss: 0.4153 - val_loss: 0.4385\n",
            "Epoch 9/20\n",
            "363/363 [==============================] - 1s 1ms/step - loss: 0.4072 - val_loss: 0.4358\n",
            "Epoch 10/20\n",
            "363/363 [==============================] - 1s 1ms/step - loss: 0.4013 - val_loss: 0.4318\n",
            "Epoch 11/20\n",
            "363/363 [==============================] - 1s 1ms/step - loss: 0.4157 - val_loss: 0.4250\n",
            "Epoch 12/20\n",
            "363/363 [==============================] - 1s 1ms/step - loss: 0.3928 - val_loss: 0.4235\n",
            "Epoch 13/20\n",
            "363/363 [==============================] - 1s 1ms/step - loss: 0.4049 - val_loss: 0.4200\n",
            "Epoch 14/20\n",
            "363/363 [==============================] - 1s 1ms/step - loss: 0.3853 - val_loss: 0.4166\n",
            "Epoch 15/20\n",
            "363/363 [==============================] - 1s 1ms/step - loss: 0.3856 - val_loss: 0.4126\n",
            "Epoch 16/20\n",
            "363/363 [==============================] - 1s 1ms/step - loss: 0.3795 - val_loss: 0.4112\n",
            "Epoch 17/20\n",
            "363/363 [==============================] - 1s 2ms/step - loss: 0.3816 - val_loss: 0.4078\n",
            "Epoch 18/20\n",
            "363/363 [==============================] - 1s 1ms/step - loss: 0.3755 - val_loss: 0.4031\n",
            "Epoch 19/20\n",
            "363/363 [==============================] - 1s 1ms/step - loss: 0.3738 - val_loss: 0.4016\n",
            "Epoch 20/20\n",
            "363/363 [==============================] - 1s 1ms/step - loss: 0.3690 - val_loss: 0.4062\n"
          ],
          "name": "stdout"
        }
      ]
    },
    {
      "cell_type": "code",
      "metadata": {
        "id": "B0E20JMAGnq0",
        "colab_type": "code",
        "colab": {
          "base_uri": "https://localhost:8080/",
          "height": 382
        },
        "outputId": "071d00c6-85aa-43b8-8b49-bf233818d5f7"
      },
      "source": [
        "# What does the training history look like?\n",
        "pd.DataFrame(house_model_history.history).plot(figsize=(12, 6))\n",
        "plt.grid(True)\n",
        "plt.gca().set_ylim(0, 1)\n",
        "plt.show()"
      ],
      "execution_count": 102,
      "outputs": [
        {
          "output_type": "display_data",
          "data": {
            "image/png": "[encoded data removed]",
            "text/plain": [
              "<Figure size 864x432 with 1 Axes>"
            ]
          },
          "metadata": {
            "tags": [],
            "needs_background": "light"
          }
        }
      ]
    },
    {
      "cell_type": "code",
      "metadata": {
        "id": "XJsuw8y8GveB",
        "colab_type": "code",
        "colab": {
          "base_uri": "https://localhost:8080/",
          "height": 34
        },
        "outputId": "654c79dc-2421-484a-941a-2b583b2b8258"
      },
      "source": [
        "# Evaluating the model\n",
        "mse_test = house_model.evaluate(X_test_scaled, y_test)"
      ],
      "execution_count": 104,
      "outputs": [
        {
          "output_type": "stream",
          "text": [
            "162/162 [==============================] - 0s 1ms/step - loss: 0.3949\n"
          ],
          "name": "stdout"
        }
      ]
    },
    {
      "cell_type": "code",
      "metadata": {
        "id": "9Le1qa82IZXI",
        "colab_type": "code",
        "colab": {
          "base_uri": "https://localhost:8080/",
          "height": 68
        },
        "outputId": "e3d2663b-ad4b-4322-a255-62436d733130"
      },
      "source": [
        "y_pred = house_model.predict(X_test_scaled[:3])\n",
        "y_pred"
      ],
      "execution_count": 107,
      "outputs": [
        {
          "output_type": "execute_result",
          "data": {
            "text/plain": [
              "array([[0.8423238],\n",
              "       [2.138611 ],\n",
              "       [2.6149247]], dtype=float32)"
            ]
          },
          "metadata": {
            "tags": []
          },
          "execution_count": 107
        }
      ]
    },
    {
      "cell_type": "code",
      "metadata": {
        "id": "e6b5C71yIiJY",
        "colab_type": "code",
        "colab": {
          "base_uri": "https://localhost:8080/",
          "height": 34
        },
        "outputId": "9e021a5b-c754-431d-cd8b-802f6a6522ec"
      },
      "source": [
        "y_test[:3]"
      ],
      "execution_count": 108,
      "outputs": [
        {
          "output_type": "execute_result",
          "data": {
            "text/plain": [
              "array([1.303, 1.604, 4.175])"
            ]
          },
          "metadata": {
            "tags": []
          },
          "execution_count": 108
        }
      ]
    }
  ]
}