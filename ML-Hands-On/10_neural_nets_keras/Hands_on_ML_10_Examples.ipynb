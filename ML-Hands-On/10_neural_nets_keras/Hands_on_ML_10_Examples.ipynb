{
  "nbformat": 4,
  "nbformat_minor": 0,
  "metadata": {
    "colab": {
      "name": "Hands-on-ML-10-Examples.ipynb",
      "provenance": [],
      "collapsed_sections": [],
      "toc_visible": true
    },
    "kernelspec": {
      "name": "python3",
      "display_name": "Python 3"
    }
  },
  "cells": [
    {
      "cell_type": "markdown",
      "metadata": {
        "id": "2_GUwGCc-iBh",
        "colab_type": "text"
      },
      "source": [
        "# Hands-on Machine Learning - Chapter 10 - Examples"
      ]
    },
    {
      "cell_type": "markdown",
      "metadata": {
        "id": "3hpDWNg7-0RM",
        "colab_type": "text"
      },
      "source": [
        "# Setup"
      ]
    },
    {
      "cell_type": "code",
      "metadata": {
        "id": "WHQ5bOdI-0LE",
        "colab_type": "code",
        "colab": {}
      },
      "source": [
        "# Python 3.5 or above \n",
        "import sys\n",
        "assert sys.version_info >= (3, 5)\n",
        "\n",
        "# Scikit-Learn version 0.20 or above\n",
        "import sklearn\n",
        "assert sklearn.__version__ >= \"0.20\"\n",
        "\n",
        "# Tensorflow 2.0 or above required\n",
        "import tensorflow as tf\n",
        "assert tf.__version__ >= \"2.0\"\n",
        "\n",
        "# Common imports \n",
        "import numpy as np \n",
        "import os \n",
        "import pandas as pd\n",
        "\n",
        "# Seeding random number generator to make output consistent across runs\n",
        "np.random.seed(42)\n",
        "\n",
        "# For plotting pretty figures\n",
        "%matplotlib inline \n",
        "import matplotlib as mpl\n",
        "import matplotlib.pyplot as plt \n",
        "mpl.rc('axes', labelsize=14)\n",
        "mpl.rc('xtick', labelsize=12)\n",
        "mpl.rc('ytick', labelsize=12)\n",
        "\n",
        "# Filepaths for saving figures\n",
        "ROOT_DIR = '.'\n",
        "IMAGES_PATH = os.path.join(ROOT_DIR, \"images\")\n",
        "os.makedirs(IMAGES_PATH, exist_ok=True) \n",
        "\n",
        "# Function for saving figures\n",
        "def save_fig(fig_id, tight_layout=True, fig_extension='png', resolution=300):\n",
        "  path = os.path.join(IMAGES_PATH, fig_id + \".\" + fig_extension)\n",
        "  print(\"Saving figure\", fig_id)\n",
        "\n",
        "  if tight_layout:\n",
        "    plt.tight_layout()\n",
        "\n",
        "  plt.savefig(path, format=fig_extension, dpi=resolution)\n",
        "\n",
        "# Ignore warnings for this notebook\n",
        "import warnings\n",
        "warnings.filterwarnings(action='ignore', message='^internal gelsd')\n"
      ],
      "execution_count": 0,
      "outputs": []
    },
    {
      "cell_type": "markdown",
      "metadata": {
        "id": "yNmqmpgh-k7G",
        "colab_type": "text"
      },
      "source": [
        "# Example 1 - Perceptron"
      ]
    },
    {
      "cell_type": "code",
      "metadata": {
        "id": "HeYBYJ3P-zge",
        "colab_type": "code",
        "colab": {}
      },
      "source": [
        "import numpy as np \n",
        "from sklearn.datasets import load_iris\n",
        "from sklearn.linear_model import Perceptron # Implements single layer of TLUs"
      ],
      "execution_count": 0,
      "outputs": []
    },
    {
      "cell_type": "code",
      "metadata": {
        "id": "XOlqO_ZBATBI",
        "colab_type": "code",
        "colab": {}
      },
      "source": [
        "# Loading Iris flowers dataset\n",
        "iris = load_iris() \n",
        "X = iris.data[:, (2, 3)]              # Petal length, petal width\n",
        "y = (iris.target == 0).astype(np.int) # One-vs-rest classification for Setosa"
      ],
      "execution_count": 0,
      "outputs": []
    },
    {
      "cell_type": "code",
      "metadata": {
        "id": "WwwFASEEAl5Z",
        "colab_type": "code",
        "outputId": "e926d15c-460c-4cb5-f015-775c481aa80c",
        "colab": {
          "base_uri": "https://localhost:8080/",
          "height": 34
        }
      },
      "source": [
        "# Instantiating, fitting, and evaluating a Perceptron classifier\n",
        "per_clf = Perceptron(max_iter=1000, tol=1e-3, random_state=42)\n",
        "per_clf.fit(X, y)\n",
        "\n",
        "# Prediction for a petal length and width of 2cm/0.5cm\n",
        "y_pred = per_clf.predict([[2, 0.5]])\n",
        "print(y_pred)                         # Predicted to be a Setosa flower"
      ],
      "execution_count": 0,
      "outputs": [
        {
          "output_type": "stream",
          "text": [
            "[1]\n"
          ],
          "name": "stdout"
        }
      ]
    },
    {
      "cell_type": "markdown",
      "metadata": {
        "id": "IOCIag16Ax9I",
        "colab_type": "text"
      },
      "source": [
        "## Visualizing Perceptron Behaviour\n",
        "- A perceptron consists of a single layer of threshold logic units (TLUs).\n",
        "- The decision boundary of an individual TLU is linear.\n",
        "- This means the decision boundary of the Perceptron will also be linear, since its output is simply the collective output of all its TLUs. "
      ]
    },
    {
      "cell_type": "code",
      "metadata": {
        "id": "_zBNKNiLBfU7",
        "colab_type": "code",
        "outputId": "0bc025f9-9add-430c-9cd5-d0caacc0e903",
        "colab": {
          "base_uri": "https://localhost:8080/",
          "height": 314
        }
      },
      "source": [
        "# Calculate the slope and intercept of the decision boundary\n",
        "a = -per_clf.coef_[0][0] / per_clf.coef_[0][1]\n",
        "b = -per_clf.intercept_ / per_clf.coef_[0][1]\n",
        "\n",
        "axes = [0, 5, 0, 2]\n",
        "\n",
        "# Grid of values between axes limits - will be used as test points\n",
        "x0, x1 = np.meshgrid(\n",
        "    np.linspace(axes[0], axes[1], 500).reshape(-1, 1),\n",
        "    np.linspace(axes[2], axes[3], 200).reshape(-1, 1),\n",
        ")\n",
        "\n",
        "# Combine the two feature values as column vectors in a matrix\n",
        "X_new = np.c_[x0.ravel(), x1.ravel()]\n",
        "\n",
        "# Make predictions on the space of new data\n",
        "y_predict = per_clf.predict(X_new)\n",
        "\n",
        "# What is this?\n",
        "zz = y_predict.reshape(x0.shape)\n",
        "\n",
        "# Create a new figure\n",
        "plt.figure(figsize=(10, 4))\n",
        "\n",
        "# Index and plot all training samples with different labels according to their class\n",
        "plt.plot(X[y == 0, 0], X[y == 0, 1], 'bs', label='Not Iris-Setosa')\n",
        "plt.plot(X[y == 1, 0], X[y == 1, 1], 'yo', label='Iris-Setosa')\n",
        "\n",
        "# Plot the decision boundary - (x coordinates), (y coordinates)\n",
        "plt.plot([axes[0], axes[1]], [a * axes[0] + b, a * axes[1] + b], 'k-', linewidth=3)\n",
        "\n",
        "# Define colours for the contour map that shows the regions separated by the boundary\n",
        "from matplotlib.colors import ListedColormap\n",
        "custom_cmap = ListedColormap(['#9898ff', '#fafab0'])\n",
        "\n",
        "# Plot a contour map\n",
        "plt.contourf(x0, x1, zz, cmap=custom_cmap)\n",
        "plt.xlabel(\"Petal length\", fontsize=14)\n",
        "plt.ylabel(\"Petal width\", fontsize=14)\n",
        "plt.legend(loc=\"lower right\", fontsize=14)\n",
        "plt.axis(axes)\n",
        "\n",
        "# Save the figure\n",
        "save_fig('perceptron_iris_plot')\n",
        "plt.show()"
      ],
      "execution_count": 0,
      "outputs": [
        {
          "output_type": "stream",
          "text": [
            "Saving figure perceptron_iris_plot\n"
          ],
          "name": "stdout"
        },
        {
          "output_type": "display_data",
          "data": {
            "image/png": "[encoded data removed]",
            "text/plain": [
              "<Figure size 720x288 with 1 Axes>"
            ]
          },
          "metadata": {
            "tags": [],
            "needs_background": "light"
          }
        }
      ]
    },
    {
      "cell_type": "markdown",
      "metadata": {
        "id": "0gqCVVi2DVEo",
        "colab_type": "text"
      },
      "source": [
        "# Example 2 - Activation Functions"
      ]
    },
    {
      "cell_type": "code",
      "metadata": {
        "id": "pDsxKqa6J37U",
        "colab_type": "code",
        "colab": {}
      },
      "source": [
        "def sigmoid(z):\n",
        "  return 1 / (1 + np.exp(-z))\n",
        "\n",
        "def relu(z):\n",
        "  return np.maximum(0, z)\n",
        "\n",
        "def derivative(f, z, eps=0.0000001):\n",
        "  \"\"\"Manually computing the derivative of a function based on first principles\"\"\"\n",
        "  return (f(z + eps) - f(z - eps)) / (2 * eps)"
      ],
      "execution_count": 0,
      "outputs": []
    },
    {
      "cell_type": "code",
      "metadata": {
        "id": "5fcRv-DfKIjD",
        "colab_type": "code",
        "outputId": "04e044ff-f6e5-4043-f92e-76c236983f33",
        "colab": {
          "base_uri": "https://localhost:8080/",
          "height": 458
        }
      },
      "source": [
        "# Defining space of values to compute activation functions \n",
        "z = np.linspace(-5, 5, 200)\n",
        "\n",
        "# Comparing relu and sigmoid activation functions side by side\n",
        "plt.figure(figsize=(12, 6))\n",
        "\n",
        "# FIRST PLOT - ACTIVATION FUNCTIONS\n",
        "plt.subplot(121)\n",
        "plt.plot(z, np.sign(z), 'r-', linewidth=1, label='Step')\n",
        "plt.plot(z, sigmoid(z), 'g--', linewidth=2, label='Sigmoid')\n",
        "plt.plot(z, np.tanh(z), 'b-', linewidth=2, label='Tanh')\n",
        "plt.plot(z, relu(z), 'm-.', linewidth=2, label='ReLU')\n",
        "plt.grid(True)\n",
        "plt.legend(loc='center right', fontsize=14)\n",
        "plt.title('Activation Function', fontsize=14)\n",
        "plt.axis([-5, 5, -1.2, 1.2])\n",
        "\n",
        "# SECOND PLOT - DERIVATIVES OF ACTIVATION FUNCTIONS\n",
        "plt.subplot(122)\n",
        "plt.plot(z, derivative(np.sign, z), 'r-', linewidth=1, label='Step')\n",
        "plt.plot(z, derivative(sigmoid, z), 'g--', linewidth=2, label='Sigmoid')\n",
        "plt.plot(z, derivative(np.tanh, z), 'b-', linewidth=2, label='Tanh')\n",
        "plt.plot(z, derivative(relu, z), 'm-.', linewidth=2, label='ReLU')\n",
        "\n",
        "# Adding markers at (0, 0) to highlight discontinuities in gradients\n",
        "plt.plot(0, 0, \"ro\", markersize=5)\n",
        "plt.plot(0, 0, \"rx\", markersize=10)\n",
        "\n",
        "# Redefining axis limits\n",
        "plt.axis([-5, 5, -0.2, 1.2])\n",
        "\n",
        "plt.grid(True)\n",
        "plt.title('Derivatives', fontsize=14)\n",
        "\n",
        "save_fig('activation_functions_plot')"
      ],
      "execution_count": 0,
      "outputs": [
        {
          "output_type": "stream",
          "text": [
            "Saving figure activation_functions_plot\n"
          ],
          "name": "stdout"
        },
        {
          "output_type": "display_data",
          "data": {
            "image/png": "[encoded data removed]",
            "text/plain": [
              "<Figure size 864x432 with 2 Axes>"
            ]
          },
          "metadata": {
            "tags": [],
            "needs_background": "light"
          }
        }
      ]
    },
    {
      "cell_type": "markdown",
      "metadata": {
        "id": "JSmOpmCq1UGq",
        "colab_type": "text"
      },
      "source": [
        "# `tf.keras`\n",
        "\n",
        "`tf.keras` is an implementation of the `keras` API that is different from the vanilla `keras` implementation designed by the `keras-team`. \n",
        "\n",
        "In addition to all the features implemented by the original creators of `keras`, `keras-tf` also provides an API for using `tensorflow`-specific features. "
      ]
    },
    {
      "cell_type": "code",
      "metadata": {
        "id": "5Brr4zRZ1Wo7",
        "colab_type": "code",
        "outputId": "a5c08ca5-1ca2-474d-bf77-c26b7ce97ebb",
        "colab": {
          "base_uri": "https://localhost:8080/",
          "height": 51
        }
      },
      "source": [
        "import tensorflow as tf \n",
        "from tensorflow import keras\n",
        "\n",
        "# Are we using version 2.0 or above?\n",
        "print(\"Tensorflow Version\", tf.__version__)\n",
        "\n",
        "# What is the keras version?\n",
        "print(\"Keras Version\", keras.__version__) # -tf shows that it implements tf-specific features too"
      ],
      "execution_count": 0,
      "outputs": [
        {
          "output_type": "stream",
          "text": [
            "Tensorflow Version 2.2.0-rc3\n",
            "Keras Version 2.3.0-tf\n"
          ],
          "name": "stdout"
        }
      ]
    },
    {
      "cell_type": "markdown",
      "metadata": {
        "id": "MtcrvcMi1bwk",
        "colab_type": "text"
      },
      "source": [
        "# Example 3 - Image Classifer with `tf.keras`\n",
        "\n",
        "Using the Fashion-MNIST dataset, which is slightly more challenging to solve than the MNSIT digits dataset.\n",
        "\n",
        "However, it still has 70k 28-by-28 px images, and each of these images belong to one of 10 classes, just like the MNIST digits dataset."
      ]
    },
    {
      "cell_type": "code",
      "metadata": {
        "id": "v_7AVhHj2Bjz",
        "colab_type": "code",
        "colab": {}
      },
      "source": [
        "# Loading Data\n",
        "fashion_mnist = keras.datasets.fashion_mnist\n",
        "(X_train_full, y_train_full), (X_test, y_test) = fashion_mnist.load_data()"
      ],
      "execution_count": 0,
      "outputs": []
    },
    {
      "cell_type": "code",
      "metadata": {
        "id": "MdFMxuSq2g0s",
        "colab_type": "code",
        "outputId": "5fd28775-8dfb-4108-8c5c-131706121d6d",
        "colab": {
          "base_uri": "https://localhost:8080/",
          "height": 34
        }
      },
      "source": [
        "X_train_full.shape"
      ],
      "execution_count": 0,
      "outputs": [
        {
          "output_type": "execute_result",
          "data": {
            "text/plain": [
              "(60000, 28, 28)"
            ]
          },
          "metadata": {
            "tags": []
          },
          "execution_count": 24
        }
      ]
    },
    {
      "cell_type": "code",
      "metadata": {
        "id": "86mwRG-_2mhO",
        "colab_type": "code",
        "outputId": "ea629616-2966-42f1-accf-334d40fe66f1",
        "colab": {
          "base_uri": "https://localhost:8080/",
          "height": 34
        }
      },
      "source": [
        "X_test.shape"
      ],
      "execution_count": 0,
      "outputs": [
        {
          "output_type": "execute_result",
          "data": {
            "text/plain": [
              "(10000, 28, 28)"
            ]
          },
          "metadata": {
            "tags": []
          },
          "execution_count": 25
        }
      ]
    },
    {
      "cell_type": "code",
      "metadata": {
        "id": "NuhRrUS12n5p",
        "colab_type": "code",
        "outputId": "9c1e2b80-3d79-4df1-cea2-79a96646274a",
        "colab": {
          "base_uri": "https://localhost:8080/",
          "height": 34
        }
      },
      "source": [
        "X_train_full.dtype"
      ],
      "execution_count": 0,
      "outputs": [
        {
          "output_type": "execute_result",
          "data": {
            "text/plain": [
              "dtype('uint8')"
            ]
          },
          "metadata": {
            "tags": []
          },
          "execution_count": 26
        }
      ]
    },
    {
      "cell_type": "markdown",
      "metadata": {
        "id": "Tw9SD3TG2pd_",
        "colab_type": "text"
      },
      "source": [
        "There are two major differences between the MNIST data imported with `sklearn` and that imported with `keras.datasets`.\n",
        "- Each example is no longer a 1D array of 784 pixel values, but rather a 28 by 28 2D array of pixel values.\n",
        "- These pixel values are no longer floating point numbers. Instead, they are 8 bit unsigned integers."
      ]
    },
    {
      "cell_type": "markdown",
      "metadata": {
        "id": "8ybWUjNW26Qz",
        "colab_type": "text"
      },
      "source": [
        "## Feature Scaling and Validation Data\n",
        "- Extracting valiidaton data from the training data.\n",
        "- Scaling the pixel intensites by manually dividing by 255 (the maximum value of a pixel intensity).\n",
        "- Also converting them to floating-point values."
      ]
    },
    {
      "cell_type": "code",
      "metadata": {
        "id": "dtShH7XP2-3K",
        "colab_type": "code",
        "colab": {}
      },
      "source": [
        "X_valid, X_train = X_train_full[:5000] / 255.0, X_train_full[5000:] / 255.0 "
      ],
      "execution_count": 0,
      "outputs": []
    },
    {
      "cell_type": "code",
      "metadata": {
        "id": "pKkP_97P3Tb3",
        "colab_type": "code",
        "colab": {}
      },
      "source": [
        "y_valid, y_train = y_train_full[:5000], y_train_full[5000:]"
      ],
      "execution_count": 0,
      "outputs": []
    },
    {
      "cell_type": "markdown",
      "metadata": {
        "id": "yvSdO7vZ3Xsl",
        "colab_type": "text"
      },
      "source": [
        "## Class Names\n",
        "\n",
        "Need to know mappings between class integers and the article of clothing they represent."
      ]
    },
    {
      "cell_type": "code",
      "metadata": {
        "id": "ZlOzWDH63hrI",
        "colab_type": "code",
        "colab": {}
      },
      "source": [
        "class_names = [\"T-shirt/top\", \"Trouser\", \"Pullover\", \"Dress\", \"Coat\",\n",
        "                   \"Sandal\", \"Shirt\", \"Sneaker\", \"Bag\", \"Ankle boot\"]"
      ],
      "execution_count": 0,
      "outputs": []
    },
    {
      "cell_type": "code",
      "metadata": {
        "id": "5nU2Srtn3m9z",
        "colab_type": "code",
        "outputId": "72596ef7-b6c2-4154-e0e5-5b6a98dc86a3",
        "colab": {
          "base_uri": "https://localhost:8080/",
          "height": 34
        }
      },
      "source": [
        "# Can use these class names to find the type of clothing for each example\n",
        "class_names[y_train[0]]"
      ],
      "execution_count": 0,
      "outputs": [
        {
          "output_type": "execute_result",
          "data": {
            "text/plain": [
              "'Coat'"
            ]
          },
          "metadata": {
            "tags": []
          },
          "execution_count": 30
        }
      ]
    },
    {
      "cell_type": "markdown",
      "metadata": {
        "id": "iuKHH5Ip3uOV",
        "colab_type": "text"
      },
      "source": [
        "## MNIST Model - Sequential API"
      ]
    },
    {
      "cell_type": "code",
      "metadata": {
        "id": "352DEibA3yxN",
        "colab_type": "code",
        "colab": {}
      },
      "source": [
        "# Instantiate a Sequential model - a sequential stack of neural network layers\n",
        "model = keras.models.Sequential()\n",
        "\n",
        "# Add layers one by one to the model \n",
        "\n",
        "# Convert 2D input array to 1D vector - it has no learnable parameters\n",
        "model.add(keras.layers.Flatten(input_shape=[28, 28]))\n",
        "\n",
        "# Dense layer: each of the 300 neurons is connected by a weight to every neuron\n",
        "# in the previous layer, along with a vector of bias terms (one per neuron)\n",
        "model.add(keras.layers.Dense(300, activation='relu'))\n",
        "\n",
        "# Second dense layer \n",
        "model.add(keras.layers.Dense(100, activation='relu'))\n",
        "\n",
        "# Final dense layer - one unit per class, and because classes are exclusive,\n",
        "# We use the softmax activation function\n",
        "model.add(keras.layers.Dense(10, activation='softmax'))"
      ],
      "execution_count": 0,
      "outputs": []
    },
    {
      "cell_type": "code",
      "metadata": {
        "id": "t4C2gb-f4COn",
        "colab_type": "code",
        "colab": {}
      },
      "source": [
        "# Can also instantiate a model by passing a list of layers\n",
        "model = keras.models.Sequential([\n",
        "        keras.layers.Flatten(input_shape=[28, 28]), \n",
        "        keras.layers.Dense(300, activation='relu'),\n",
        "        keras.layers.Dense(100, activation='relu'),\n",
        "        keras.layers.Dense(10, activation='softmax')\n",
        "])"
      ],
      "execution_count": 0,
      "outputs": []
    },
    {
      "cell_type": "code",
      "metadata": {
        "id": "CKagLyDK4-fZ",
        "colab_type": "code",
        "outputId": "69ac66b8-2b28-4921-f37b-07c88d26ae19",
        "colab": {
          "base_uri": "https://localhost:8080/",
          "height": 289
        }
      },
      "source": [
        "# Display a formatted list of all the layers that make up the model\n",
        "# Along with theyr names, output shapes, and number of parameters\n",
        "model.summary()"
      ],
      "execution_count": 0,
      "outputs": [
        {
          "output_type": "stream",
          "text": [
            "Model: \"sequential_4\"\n",
            "_________________________________________________________________\n",
            "Layer (type)                 Output Shape              Param #   \n",
            "=================================================================\n",
            "flatten_4 (Flatten)          (None, 784)               0         \n",
            "_________________________________________________________________\n",
            "dense_12 (Dense)             (None, 300)               235500    \n",
            "_________________________________________________________________\n",
            "dense_13 (Dense)             (None, 100)               30100     \n",
            "_________________________________________________________________\n",
            "dense_14 (Dense)             (None, 10)                1010      \n",
            "=================================================================\n",
            "Total params: 266,610\n",
            "Trainable params: 266,610\n",
            "Non-trainable params: 0\n",
            "_________________________________________________________________\n"
          ],
          "name": "stdout"
        }
      ]
    },
    {
      "cell_type": "markdown",
      "metadata": {
        "id": "xFi-REci5siE",
        "colab_type": "text"
      },
      "source": [
        "### Accessing Model Attributes"
      ]
    },
    {
      "cell_type": "code",
      "metadata": {
        "id": "b90kDvPZ5O6v",
        "colab_type": "code",
        "outputId": "e6e35b07-6f83-4d9f-ea11-05d0eb2f3542",
        "colab": {
          "base_uri": "https://localhost:8080/",
          "height": 85
        }
      },
      "source": [
        "# Can iterate over the layers in a model like this\n",
        "model.layers"
      ],
      "execution_count": 0,
      "outputs": [
        {
          "output_type": "execute_result",
          "data": {
            "text/plain": [
              "[<tensorflow.python.keras.layers.core.Flatten at 0x7eff28cb4978>,\n",
              " <tensorflow.python.keras.layers.core.Dense at 0x7eff28d265f8>,\n",
              " <tensorflow.python.keras.layers.core.Dense at 0x7eff28cb79e8>,\n",
              " <tensorflow.python.keras.layers.core.Dense at 0x7eff28cb7dd8>]"
            ]
          },
          "metadata": {
            "tags": []
          },
          "execution_count": 34
        }
      ]
    },
    {
      "cell_type": "code",
      "metadata": {
        "id": "LzJijeeN5efo",
        "colab_type": "code",
        "outputId": "3619629b-5fc1-4740-e7e6-7f71139e4449",
        "colab": {
          "base_uri": "https://localhost:8080/",
          "height": 34
        }
      },
      "source": [
        "# model.layers is an iterable of objects, so can be indexed\n",
        "model.layers[1].name"
      ],
      "execution_count": 0,
      "outputs": [
        {
          "output_type": "execute_result",
          "data": {
            "text/plain": [
              "'dense_12'"
            ]
          },
          "metadata": {
            "tags": []
          },
          "execution_count": 35
        }
      ]
    },
    {
      "cell_type": "code",
      "metadata": {
        "id": "uAFstope5kc-",
        "colab_type": "code",
        "outputId": "4dd61915-20c8-4e08-d47b-94ede103e144",
        "colab": {
          "base_uri": "https://localhost:8080/",
          "height": 34
        }
      },
      "source": [
        "# Can also use methods that are called on model \n",
        "model.get_layer('dense_12').name"
      ],
      "execution_count": 0,
      "outputs": [
        {
          "output_type": "execute_result",
          "data": {
            "text/plain": [
              "'dense_12'"
            ]
          },
          "metadata": {
            "tags": []
          },
          "execution_count": 37
        }
      ]
    },
    {
      "cell_type": "code",
      "metadata": {
        "id": "JQG5RON35prj",
        "colab_type": "code",
        "colab": {}
      },
      "source": [
        "# Can access and modify weights of a biases of layers too\n",
        "hidden1 = model.layers[1]\n",
        "\n",
        "# `get_weights` will return both weights and biases separately\n",
        "weights, biases = hidden1.get_weights()"
      ],
      "execution_count": 0,
      "outputs": []
    },
    {
      "cell_type": "code",
      "metadata": {
        "id": "jsfJY8hO6yBB",
        "colab_type": "code",
        "outputId": "2901fc15-e132-4010-d146-c1e69a15bda7",
        "colab": {
          "base_uri": "https://localhost:8080/",
          "height": 238
        }
      },
      "source": [
        "weights"
      ],
      "execution_count": 0,
      "outputs": [
        {
          "output_type": "execute_result",
          "data": {
            "text/plain": [
              "array([[ 0.00086305,  0.03555709, -0.0651176 , ...,  0.06457838,\n",
              "        -0.06877986, -0.03905503],\n",
              "       [-0.02205615, -0.00141451, -0.04783842, ...,  0.02756567,\n",
              "        -0.01292818, -0.05715518],\n",
              "       [ 0.02462319, -0.03509757,  0.00977196, ..., -0.04900217,\n",
              "        -0.0426376 , -0.02407257],\n",
              "       ...,\n",
              "       [-0.00890683, -0.0678853 ,  0.03363097, ..., -0.04224531,\n",
              "        -0.04053664,  0.03851693],\n",
              "       [-0.05798389,  0.02285148,  0.05275621, ..., -0.06094335,\n",
              "         0.04417343,  0.0141556 ],\n",
              "       [ 0.07401396, -0.06056695, -0.05401753, ...,  0.0514818 ,\n",
              "        -0.04754713, -0.05215546]], dtype=float32)"
            ]
          },
          "metadata": {
            "tags": []
          },
          "execution_count": 40
        }
      ]
    },
    {
      "cell_type": "code",
      "metadata": {
        "id": "pF3A9UgI-Rsq",
        "colab_type": "code",
        "outputId": "b4a32c02-a179-4b6c-8421-d31e21d1e0ff",
        "colab": {
          "base_uri": "https://localhost:8080/",
          "height": 34
        }
      },
      "source": [
        "weights.shape # (784, 300) randomly initialised weights to break weight symmetry"
      ],
      "execution_count": 0,
      "outputs": [
        {
          "output_type": "execute_result",
          "data": {
            "text/plain": [
              "(784, 300)"
            ]
          },
          "metadata": {
            "tags": []
          },
          "execution_count": 44
        }
      ]
    },
    {
      "cell_type": "code",
      "metadata": {
        "id": "K0e3EA3C-Wvq",
        "colab_type": "code",
        "outputId": "7da60cb5-ee28-47e3-87ce-7202eace843a",
        "colab": {
          "base_uri": "https://localhost:8080/",
          "height": 323
        }
      },
      "source": [
        "biases # All zeros"
      ],
      "execution_count": 0,
      "outputs": [
        {
          "output_type": "execute_result",
          "data": {
            "text/plain": [
              "array([0., 0., 0., 0., 0., 0., 0., 0., 0., 0., 0., 0., 0., 0., 0., 0., 0.,\n",
              "       0., 0., 0., 0., 0., 0., 0., 0., 0., 0., 0., 0., 0., 0., 0., 0., 0.,\n",
              "       0., 0., 0., 0., 0., 0., 0., 0., 0., 0., 0., 0., 0., 0., 0., 0., 0.,\n",
              "       0., 0., 0., 0., 0., 0., 0., 0., 0., 0., 0., 0., 0., 0., 0., 0., 0.,\n",
              "       0., 0., 0., 0., 0., 0., 0., 0., 0., 0., 0., 0., 0., 0., 0., 0., 0.,\n",
              "       0., 0., 0., 0., 0., 0., 0., 0., 0., 0., 0., 0., 0., 0., 0., 0., 0.,\n",
              "       0., 0., 0., 0., 0., 0., 0., 0., 0., 0., 0., 0., 0., 0., 0., 0., 0.,\n",
              "       0., 0., 0., 0., 0., 0., 0., 0., 0., 0., 0., 0., 0., 0., 0., 0., 0.,\n",
              "       0., 0., 0., 0., 0., 0., 0., 0., 0., 0., 0., 0., 0., 0., 0., 0., 0.,\n",
              "       0., 0., 0., 0., 0., 0., 0., 0., 0., 0., 0., 0., 0., 0., 0., 0., 0.,\n",
              "       0., 0., 0., 0., 0., 0., 0., 0., 0., 0., 0., 0., 0., 0., 0., 0., 0.,\n",
              "       0., 0., 0., 0., 0., 0., 0., 0., 0., 0., 0., 0., 0., 0., 0., 0., 0.,\n",
              "       0., 0., 0., 0., 0., 0., 0., 0., 0., 0., 0., 0., 0., 0., 0., 0., 0.,\n",
              "       0., 0., 0., 0., 0., 0., 0., 0., 0., 0., 0., 0., 0., 0., 0., 0., 0.,\n",
              "       0., 0., 0., 0., 0., 0., 0., 0., 0., 0., 0., 0., 0., 0., 0., 0., 0.,\n",
              "       0., 0., 0., 0., 0., 0., 0., 0., 0., 0., 0., 0., 0., 0., 0., 0., 0.,\n",
              "       0., 0., 0., 0., 0., 0., 0., 0., 0., 0., 0., 0., 0., 0., 0., 0., 0.,\n",
              "       0., 0., 0., 0., 0., 0., 0., 0., 0., 0., 0.], dtype=float32)"
            ]
          },
          "metadata": {
            "tags": []
          },
          "execution_count": 42
        }
      ]
    },
    {
      "cell_type": "code",
      "metadata": {
        "id": "QrEmM2E0-Zn3",
        "colab_type": "code",
        "outputId": "f974e2f6-19bf-4f4e-ce41-1cd007444ff0",
        "colab": {
          "base_uri": "https://localhost:8080/",
          "height": 34
        }
      },
      "source": [
        "biases.shape"
      ],
      "execution_count": 0,
      "outputs": [
        {
          "output_type": "execute_result",
          "data": {
            "text/plain": [
              "(300,)"
            ]
          },
          "metadata": {
            "tags": []
          },
          "execution_count": 43
        }
      ]
    },
    {
      "cell_type": "markdown",
      "metadata": {
        "id": "Hu8ZXXuH-agy",
        "colab_type": "text"
      },
      "source": [
        "## Compiling Model\n",
        "\n",
        "After a model has been built, we use `compile` to specify \n",
        "- the loss functon (a numerical measure of the 'difference' between the predicted and actual outputs for a given training example)\n",
        "- the optimizer (what variant of gradient descent to use to minimise the loss)\n",
        "- metrics (any other numerical measures of how well our model is performing during training).\n",
        "\n",
        "We are using sparse categorical crossentropy because our output is a single class label (an integer) instead of a vector of target probabilities per class (in which case we would use `categorical_crossentropy`.\n"
      ]
    },
    {
      "cell_type": "code",
      "metadata": {
        "id": "-gNDp0_w_I4q",
        "colab_type": "code",
        "colab": {}
      },
      "source": [
        "model.compile(loss='sparse_categorical_crossentropy', \n",
        "              optimizer='sgd',\n",
        "              metrics=['accuracy'])"
      ],
      "execution_count": 0,
      "outputs": []
    },
    {
      "cell_type": "markdown",
      "metadata": {
        "id": "NR9b-0pe_PC3",
        "colab_type": "text"
      },
      "source": [
        "## Training the Model"
      ]
    },
    {
      "cell_type": "code",
      "metadata": {
        "id": "em7EIqU6CNY9",
        "colab_type": "code",
        "outputId": "a12f70f6-514d-475a-e72d-18f74d7d6cca",
        "colab": {
          "base_uri": "https://localhost:8080/",
          "height": 1000
        }
      },
      "source": [
        "history = model.fit(X_train, y_train, epochs=50, \n",
        "                    validation_data=(X_valid, y_valid))"
      ],
      "execution_count": 0,
      "outputs": [
        {
          "output_type": "stream",
          "text": [
            "Epoch 1/50\n",
            "1719/1719 [==============================] - 5s 3ms/step - loss: 0.7082 - accuracy: 0.7664 - val_loss: 0.5075 - val_accuracy: 0.8304\n",
            "Epoch 2/50\n",
            "1719/1719 [==============================] - 5s 3ms/step - loss: 0.4893 - accuracy: 0.8303 - val_loss: 0.4757 - val_accuracy: 0.8272\n",
            "Epoch 3/50\n",
            "1719/1719 [==============================] - 5s 3ms/step - loss: 0.4449 - accuracy: 0.8426 - val_loss: 0.4179 - val_accuracy: 0.8568\n",
            "Epoch 4/50\n",
            "1719/1719 [==============================] - 5s 3ms/step - loss: 0.4167 - accuracy: 0.8540 - val_loss: 0.3981 - val_accuracy: 0.8642\n",
            "Epoch 5/50\n",
            "1719/1719 [==============================] - 5s 3ms/step - loss: 0.3964 - accuracy: 0.8613 - val_loss: 0.4059 - val_accuracy: 0.8588\n",
            "Epoch 6/50\n",
            "1719/1719 [==============================] - 5s 3ms/step - loss: 0.3793 - accuracy: 0.8659 - val_loss: 0.3768 - val_accuracy: 0.8670\n",
            "Epoch 7/50\n",
            "1719/1719 [==============================] - 5s 3ms/step - loss: 0.3658 - accuracy: 0.8700 - val_loss: 0.3646 - val_accuracy: 0.8724\n",
            "Epoch 8/50\n",
            "1719/1719 [==============================] - 5s 3ms/step - loss: 0.3531 - accuracy: 0.8748 - val_loss: 0.3528 - val_accuracy: 0.8750\n",
            "Epoch 9/50\n",
            "1719/1719 [==============================] - 5s 3ms/step - loss: 0.3444 - accuracy: 0.8772 - val_loss: 0.3565 - val_accuracy: 0.8730\n",
            "Epoch 10/50\n",
            "1719/1719 [==============================] - 5s 3ms/step - loss: 0.3340 - accuracy: 0.8806 - val_loss: 0.3405 - val_accuracy: 0.8820\n",
            "Epoch 11/50\n",
            "1719/1719 [==============================] - 5s 3ms/step - loss: 0.3248 - accuracy: 0.8844 - val_loss: 0.3354 - val_accuracy: 0.8810\n",
            "Epoch 12/50\n",
            "1719/1719 [==============================] - 5s 3ms/step - loss: 0.3168 - accuracy: 0.8877 - val_loss: 0.3272 - val_accuracy: 0.8818\n",
            "Epoch 13/50\n",
            "1719/1719 [==============================] - 5s 3ms/step - loss: 0.3087 - accuracy: 0.8893 - val_loss: 0.3237 - val_accuracy: 0.8824\n",
            "Epoch 14/50\n",
            "1719/1719 [==============================] - 5s 3ms/step - loss: 0.3031 - accuracy: 0.8916 - val_loss: 0.3449 - val_accuracy: 0.8756\n",
            "Epoch 15/50\n",
            "1719/1719 [==============================] - 5s 3ms/step - loss: 0.2958 - accuracy: 0.8946 - val_loss: 0.3334 - val_accuracy: 0.8806\n",
            "Epoch 16/50\n",
            "1719/1719 [==============================] - 5s 3ms/step - loss: 0.2898 - accuracy: 0.8948 - val_loss: 0.3396 - val_accuracy: 0.8788\n",
            "Epoch 17/50\n",
            "1719/1719 [==============================] - 5s 3ms/step - loss: 0.2845 - accuracy: 0.8970 - val_loss: 0.3229 - val_accuracy: 0.8838\n",
            "Epoch 18/50\n",
            "1719/1719 [==============================] - 5s 3ms/step - loss: 0.2783 - accuracy: 0.8995 - val_loss: 0.3317 - val_accuracy: 0.8806\n",
            "Epoch 19/50\n",
            "1719/1719 [==============================] - 5s 3ms/step - loss: 0.2742 - accuracy: 0.9006 - val_loss: 0.3137 - val_accuracy: 0.8876\n",
            "Epoch 20/50\n",
            "1719/1719 [==============================] - 5s 3ms/step - loss: 0.2676 - accuracy: 0.9040 - val_loss: 0.3075 - val_accuracy: 0.8914\n",
            "Epoch 21/50\n",
            "1719/1719 [==============================] - 5s 3ms/step - loss: 0.2637 - accuracy: 0.9048 - val_loss: 0.3212 - val_accuracy: 0.8826\n",
            "Epoch 22/50\n",
            "1719/1719 [==============================] - 5s 3ms/step - loss: 0.2585 - accuracy: 0.9066 - val_loss: 0.3197 - val_accuracy: 0.8858\n",
            "Epoch 23/50\n",
            "1719/1719 [==============================] - 5s 3ms/step - loss: 0.2541 - accuracy: 0.9081 - val_loss: 0.3219 - val_accuracy: 0.8854\n",
            "Epoch 24/50\n",
            "1719/1719 [==============================] - 5s 3ms/step - loss: 0.2502 - accuracy: 0.9100 - val_loss: 0.3124 - val_accuracy: 0.8862\n",
            "Epoch 25/50\n",
            "1719/1719 [==============================] - 5s 3ms/step - loss: 0.2448 - accuracy: 0.9112 - val_loss: 0.3028 - val_accuracy: 0.8924\n",
            "Epoch 26/50\n",
            "1719/1719 [==============================] - 5s 3ms/step - loss: 0.2407 - accuracy: 0.9141 - val_loss: 0.2951 - val_accuracy: 0.8956\n",
            "Epoch 27/50\n",
            "1719/1719 [==============================] - 5s 3ms/step - loss: 0.2360 - accuracy: 0.9162 - val_loss: 0.2930 - val_accuracy: 0.8950\n",
            "Epoch 28/50\n",
            "1719/1719 [==============================] - 5s 3ms/step - loss: 0.2321 - accuracy: 0.9165 - val_loss: 0.2949 - val_accuracy: 0.8962\n",
            "Epoch 29/50\n",
            "1719/1719 [==============================] - 5s 3ms/step - loss: 0.2290 - accuracy: 0.9178 - val_loss: 0.3060 - val_accuracy: 0.8884\n",
            "Epoch 30/50\n",
            "1719/1719 [==============================] - 5s 3ms/step - loss: 0.2243 - accuracy: 0.9190 - val_loss: 0.3022 - val_accuracy: 0.8878\n",
            "Epoch 31/50\n",
            "1719/1719 [==============================] - 5s 3ms/step - loss: 0.2210 - accuracy: 0.9211 - val_loss: 0.2992 - val_accuracy: 0.8904\n",
            "Epoch 32/50\n",
            "1719/1719 [==============================] - 5s 3ms/step - loss: 0.2182 - accuracy: 0.9213 - val_loss: 0.3030 - val_accuracy: 0.8952\n",
            "Epoch 33/50\n",
            "1719/1719 [==============================] - 5s 3ms/step - loss: 0.2138 - accuracy: 0.9233 - val_loss: 0.3044 - val_accuracy: 0.8888\n",
            "Epoch 34/50\n",
            "1719/1719 [==============================] - 5s 3ms/step - loss: 0.2106 - accuracy: 0.9247 - val_loss: 0.2960 - val_accuracy: 0.8970\n",
            "Epoch 35/50\n",
            "1719/1719 [==============================] - 5s 3ms/step - loss: 0.2075 - accuracy: 0.9253 - val_loss: 0.2861 - val_accuracy: 0.8966\n",
            "Epoch 36/50\n",
            "1719/1719 [==============================] - 6s 3ms/step - loss: 0.2041 - accuracy: 0.9269 - val_loss: 0.2896 - val_accuracy: 0.8972\n",
            "Epoch 37/50\n",
            "1719/1719 [==============================] - 5s 3ms/step - loss: 0.2005 - accuracy: 0.9281 - val_loss: 0.2986 - val_accuracy: 0.8952\n",
            "Epoch 38/50\n",
            "1719/1719 [==============================] - 5s 3ms/step - loss: 0.1978 - accuracy: 0.9296 - val_loss: 0.3034 - val_accuracy: 0.8914\n",
            "Epoch 39/50\n",
            "1719/1719 [==============================] - 5s 3ms/step - loss: 0.1940 - accuracy: 0.9309 - val_loss: 0.2931 - val_accuracy: 0.8970\n",
            "Epoch 40/50\n",
            "1719/1719 [==============================] - 5s 3ms/step - loss: 0.1909 - accuracy: 0.9312 - val_loss: 0.2927 - val_accuracy: 0.8950\n",
            "Epoch 41/50\n",
            "1719/1719 [==============================] - 5s 3ms/step - loss: 0.1877 - accuracy: 0.9320 - val_loss: 0.3038 - val_accuracy: 0.8912\n",
            "Epoch 42/50\n",
            "1719/1719 [==============================] - 5s 3ms/step - loss: 0.1849 - accuracy: 0.9341 - val_loss: 0.2966 - val_accuracy: 0.8950\n",
            "Epoch 43/50\n",
            "1719/1719 [==============================] - 5s 3ms/step - loss: 0.1819 - accuracy: 0.9354 - val_loss: 0.3077 - val_accuracy: 0.8940\n",
            "Epoch 44/50\n",
            "1719/1719 [==============================] - 5s 3ms/step - loss: 0.1799 - accuracy: 0.9358 - val_loss: 0.2867 - val_accuracy: 0.8982\n",
            "Epoch 45/50\n",
            "1719/1719 [==============================] - 5s 3ms/step - loss: 0.1769 - accuracy: 0.9371 - val_loss: 0.2855 - val_accuracy: 0.9014\n",
            "Epoch 46/50\n",
            "1719/1719 [==============================] - 5s 3ms/step - loss: 0.1743 - accuracy: 0.9387 - val_loss: 0.2953 - val_accuracy: 0.8938\n",
            "Epoch 47/50\n",
            "1719/1719 [==============================] - 5s 3ms/step - loss: 0.1708 - accuracy: 0.9387 - val_loss: 0.2916 - val_accuracy: 0.8968\n",
            "Epoch 48/50\n",
            "1719/1719 [==============================] - 5s 3ms/step - loss: 0.1681 - accuracy: 0.9404 - val_loss: 0.2860 - val_accuracy: 0.8976\n",
            "Epoch 49/50\n",
            "1719/1719 [==============================] - 5s 3ms/step - loss: 0.1672 - accuracy: 0.9404 - val_loss: 0.2949 - val_accuracy: 0.8992\n",
            "Epoch 50/50\n",
            "1719/1719 [==============================] - 5s 3ms/step - loss: 0.1625 - accuracy: 0.9425 - val_loss: 0.2999 - val_accuracy: 0.8972\n"
          ],
          "name": "stdout"
        }
      ]
    },
    {
      "cell_type": "markdown",
      "metadata": {
        "id": "U6wxMuIYCRPU",
        "colab_type": "text"
      },
      "source": [
        "## Visualizing History"
      ]
    },
    {
      "cell_type": "code",
      "metadata": {
        "id": "RZhuNY0YCpO-",
        "colab_type": "code",
        "colab": {}
      },
      "source": [
        "import pandas as pd"
      ],
      "execution_count": 0,
      "outputs": []
    },
    {
      "cell_type": "code",
      "metadata": {
        "id": "cp1KliiPCqu2",
        "colab_type": "code",
        "outputId": "1888952e-afcb-431a-d15d-9ad29480d28f",
        "colab": {
          "base_uri": "https://localhost:8080/",
          "height": 328
        }
      },
      "source": [
        "pd.DataFrame(history.history).plot(figsize=(8, 5))\n",
        "plt.grid(True)\n",
        "plt.gca().set_ylim([0, 1])    # Set vertical range to [0 - 1]\n",
        "plt.show()"
      ],
      "execution_count": 0,
      "outputs": [
        {
          "output_type": "display_data",
          "data": {
            "image/png": "[encoded data removed]",
            "text/plain": [
              "<Figure size 576x360 with 1 Axes>"
            ]
          },
          "metadata": {
            "tags": [],
            "needs_background": "light"
          }
        }
      ]
    },
    {
      "cell_type": "markdown",
      "metadata": {
        "id": "U8kLznQiC0Gs",
        "colab_type": "text"
      },
      "source": [
        "## Evaluating Model on the Test Set"
      ]
    },
    {
      "cell_type": "code",
      "metadata": {
        "id": "wxeI9RNwDVrJ",
        "colab_type": "code",
        "outputId": "6640464a-4a03-4ba0-c2cd-dca0b12f8585",
        "colab": {
          "base_uri": "https://localhost:8080/",
          "height": 68
        }
      },
      "source": [
        "X_new = X_test[:3]\n",
        "y_proba = model.predict(X_new)\n",
        "y_proba.round(2)"
      ],
      "execution_count": 0,
      "outputs": [
        {
          "output_type": "execute_result",
          "data": {
            "text/plain": [
              "array([[0., 0., 0., 0., 0., 0., 0., 0., 0., 1.],\n",
              "       [0., 0., 1., 0., 0., 0., 0., 0., 0., 0.],\n",
              "       [0., 1., 0., 0., 0., 0., 0., 0., 0., 0.]], dtype=float32)"
            ]
          },
          "metadata": {
            "tags": []
          },
          "execution_count": 49
        }
      ]
    },
    {
      "cell_type": "code",
      "metadata": {
        "id": "GlANWMjVDZCe",
        "colab_type": "code",
        "outputId": "695d2231-bc3d-4264-d8a7-941d703d9d5a",
        "colab": {
          "base_uri": "https://localhost:8080/",
          "height": 34
        }
      },
      "source": [
        "y_pred = model.predict_classes(X_new)\n",
        "y_pred  "
      ],
      "execution_count": 0,
      "outputs": [
        {
          "output_type": "execute_result",
          "data": {
            "text/plain": [
              "array([9, 2, 1])"
            ]
          },
          "metadata": {
            "tags": []
          },
          "execution_count": 52
        }
      ]
    },
    {
      "cell_type": "markdown",
      "metadata": {
        "id": "4aJa4AjjFLiM",
        "colab_type": "text"
      },
      "source": [
        "# Example 4 - California Housing Prices (Sequential API)"
      ]
    },
    {
      "cell_type": "code",
      "metadata": {
        "id": "pI5D5x7TFVTR",
        "colab_type": "code",
        "colab": {}
      },
      "source": [
        "import tensorflow as tf\n",
        "from tensorflow import keras\n",
        "\n",
        "from sklearn.datasets import fetch_california_housing\n",
        "from sklearn.model_selection import train_test_split\n",
        "from sklearn.preprocessing import StandardScaler"
      ],
      "execution_count": 0,
      "outputs": []
    },
    {
      "cell_type": "code",
      "metadata": {
        "id": "RuaO9SwmFf6G",
        "colab_type": "code",
        "colab": {}
      },
      "source": [
        "# Fetch the data\n",
        "housing = fetch_california_housing()"
      ],
      "execution_count": 0,
      "outputs": []
    },
    {
      "cell_type": "code",
      "metadata": {
        "id": "0d8-F-jyFjJ4",
        "colab_type": "code",
        "colab": {}
      },
      "source": [
        "# Train-test split - need to specify X and y as attributes of `housing` \n",
        "X_train_full, X_test, y_train_full, y_test = train_test_split(housing.data, housing.target)"
      ],
      "execution_count": 0,
      "outputs": []
    },
    {
      "cell_type": "code",
      "metadata": {
        "id": "adq9BRLoFr3I",
        "colab_type": "code",
        "colab": {}
      },
      "source": [
        "# Another train test split to extract validation data\n",
        "X_train, X_valid, y_train, y_valid = train_test_split(X_train_full, y_train_full)"
      ],
      "execution_count": 0,
      "outputs": []
    },
    {
      "cell_type": "code",
      "metadata": {
        "id": "ysuhP00CFzAr",
        "colab_type": "code",
        "colab": {}
      },
      "source": [
        "# Feature Scaling \n",
        "standard_scaler = StandardScaler()\n",
        "X_train_scaled = standard_scaler.fit_transform(X_train)\n",
        "X_valid_scaled = standard_scaler.transform(X_valid)\n",
        "X_test_scaled = standard_scaler.transform(X_test)"
      ],
      "execution_count": 0,
      "outputs": []
    },
    {
      "cell_type": "code",
      "metadata": {
        "id": "rooHC13gF_lK",
        "colab_type": "code",
        "colab": {}
      },
      "source": [
        "# Build model\n",
        "house_model = keras.models.Sequential([\n",
        "        # noisy data, so a single layer with fewer neurons to prevent overfitting\n",
        "        keras.layers.Dense(30, activation='relu', input_shape=X_train.shape[1:]),\n",
        "\n",
        "        # Output layer has single linear unit so it can produce any range of values \n",
        "        keras.layers.Dense(1)\n",
        "])"
      ],
      "execution_count": 0,
      "outputs": []
    },
    {
      "cell_type": "code",
      "metadata": {
        "id": "k4fQNeRoGW86",
        "colab_type": "code",
        "colab": {}
      },
      "source": [
        "# Compile model\n",
        "house_model.compile(loss='mean_squared_error', \n",
        "              optimizer='sgd')"
      ],
      "execution_count": 0,
      "outputs": []
    },
    {
      "cell_type": "code",
      "metadata": {
        "id": "AADA_Rm3GaD_",
        "colab_type": "code",
        "outputId": "ad1bd8c9-edea-4c83-c689-13d863ba0d62",
        "colab": {
          "base_uri": "https://localhost:8080/",
          "height": 697
        }
      },
      "source": [
        "# Train the model, save its history\n",
        "house_model_history = house_model.fit(X_train_scaled, y_train,\n",
        "                                      validation_data=(X_valid_scaled, y_valid), \n",
        "                                      epochs=20)"
      ],
      "execution_count": 0,
      "outputs": [
        {
          "output_type": "stream",
          "text": [
            "Epoch 1/20\n",
            "363/363 [==============================] - 1s 2ms/step - loss: 0.7980 - val_loss: 0.5654\n",
            "Epoch 2/20\n",
            "363/363 [==============================] - 1s 2ms/step - loss: 0.5276 - val_loss: 0.5064\n",
            "Epoch 3/20\n",
            "363/363 [==============================] - 1s 2ms/step - loss: 0.5054 - val_loss: 0.4824\n",
            "Epoch 4/20\n",
            "363/363 [==============================] - 1s 2ms/step - loss: 0.5084 - val_loss: 0.4754\n",
            "Epoch 5/20\n",
            "363/363 [==============================] - 1s 2ms/step - loss: 0.4540 - val_loss: 0.4630\n",
            "Epoch 6/20\n",
            "363/363 [==============================] - 1s 2ms/step - loss: 0.4338 - val_loss: 0.4649\n",
            "Epoch 7/20\n",
            "363/363 [==============================] - 1s 1ms/step - loss: 0.4250 - val_loss: 0.4536\n",
            "Epoch 8/20\n",
            "363/363 [==============================] - 1s 1ms/step - loss: 0.4153 - val_loss: 0.4385\n",
            "Epoch 9/20\n",
            "363/363 [==============================] - 1s 1ms/step - loss: 0.4072 - val_loss: 0.4358\n",
            "Epoch 10/20\n",
            "363/363 [==============================] - 1s 1ms/step - loss: 0.4013 - val_loss: 0.4318\n",
            "Epoch 11/20\n",
            "363/363 [==============================] - 1s 1ms/step - loss: 0.4157 - val_loss: 0.4250\n",
            "Epoch 12/20\n",
            "363/363 [==============================] - 1s 1ms/step - loss: 0.3928 - val_loss: 0.4235\n",
            "Epoch 13/20\n",
            "363/363 [==============================] - 1s 1ms/step - loss: 0.4049 - val_loss: 0.4200\n",
            "Epoch 14/20\n",
            "363/363 [==============================] - 1s 1ms/step - loss: 0.3853 - val_loss: 0.4166\n",
            "Epoch 15/20\n",
            "363/363 [==============================] - 1s 1ms/step - loss: 0.3856 - val_loss: 0.4126\n",
            "Epoch 16/20\n",
            "363/363 [==============================] - 1s 1ms/step - loss: 0.3795 - val_loss: 0.4112\n",
            "Epoch 17/20\n",
            "363/363 [==============================] - 1s 2ms/step - loss: 0.3816 - val_loss: 0.4078\n",
            "Epoch 18/20\n",
            "363/363 [==============================] - 1s 1ms/step - loss: 0.3755 - val_loss: 0.4031\n",
            "Epoch 19/20\n",
            "363/363 [==============================] - 1s 1ms/step - loss: 0.3738 - val_loss: 0.4016\n",
            "Epoch 20/20\n",
            "363/363 [==============================] - 1s 1ms/step - loss: 0.3690 - val_loss: 0.4062\n"
          ],
          "name": "stdout"
        }
      ]
    },
    {
      "cell_type": "code",
      "metadata": {
        "id": "B0E20JMAGnq0",
        "colab_type": "code",
        "outputId": "071d00c6-85aa-43b8-8b49-bf233818d5f7",
        "colab": {
          "base_uri": "https://localhost:8080/",
          "height": 382
        }
      },
      "source": [
        "# What does the training history look like?\n",
        "pd.DataFrame(house_model_history.history).plot(figsize=(12, 6))\n",
        "plt.grid(True)\n",
        "plt.gca().set_ylim(0, 1)\n",
        "plt.show()"
      ],
      "execution_count": 0,
      "outputs": [
        {
          "output_type": "display_data",
          "data": {
            "image/png": "[encoded data removed]",
            "text/plain": [
              "<Figure size 864x432 with 1 Axes>"
            ]
          },
          "metadata": {
            "tags": [],
            "needs_background": "light"
          }
        }
      ]
    },
    {
      "cell_type": "code",
      "metadata": {
        "id": "XJsuw8y8GveB",
        "colab_type": "code",
        "outputId": "654c79dc-2421-484a-941a-2b583b2b8258",
        "colab": {
          "base_uri": "https://localhost:8080/",
          "height": 34
        }
      },
      "source": [
        "# Evaluating the model\n",
        "mse_test = house_model.evaluate(X_test_scaled, y_test)"
      ],
      "execution_count": 0,
      "outputs": [
        {
          "output_type": "stream",
          "text": [
            "162/162 [==============================] - 0s 1ms/step - loss: 0.3949\n"
          ],
          "name": "stdout"
        }
      ]
    },
    {
      "cell_type": "code",
      "metadata": {
        "id": "9Le1qa82IZXI",
        "colab_type": "code",
        "outputId": "e3d2663b-ad4b-4322-a255-62436d733130",
        "colab": {
          "base_uri": "https://localhost:8080/",
          "height": 68
        }
      },
      "source": [
        "y_pred = house_model.predict(X_test_scaled[:3])\n",
        "y_pred"
      ],
      "execution_count": 0,
      "outputs": [
        {
          "output_type": "execute_result",
          "data": {
            "text/plain": [
              "array([[0.8423238],\n",
              "       [2.138611 ],\n",
              "       [2.6149247]], dtype=float32)"
            ]
          },
          "metadata": {
            "tags": []
          },
          "execution_count": 107
        }
      ]
    },
    {
      "cell_type": "code",
      "metadata": {
        "id": "e6b5C71yIiJY",
        "colab_type": "code",
        "outputId": "9e021a5b-c754-431d-cd8b-802f6a6522ec",
        "colab": {
          "base_uri": "https://localhost:8080/",
          "height": 34
        }
      },
      "source": [
        "y_test[:3]"
      ],
      "execution_count": 0,
      "outputs": [
        {
          "output_type": "execute_result",
          "data": {
            "text/plain": [
              "array([1.303, 1.604, 4.175])"
            ]
          },
          "metadata": {
            "tags": []
          },
          "execution_count": 108
        }
      ]
    },
    {
      "cell_type": "markdown",
      "metadata": {
        "id": "CWyhJnYNUu-9",
        "colab_type": "text"
      },
      "source": [
        "# Example 4 - Subclassing API"
      ]
    },
    {
      "cell_type": "code",
      "metadata": {
        "id": "X90otLM5VLU1",
        "colab_type": "code",
        "colab": {}
      },
      "source": [
        "import tensorflow as tf\n",
        "from tensorflow import keras\n",
        "from keras.utils import plot_model\n",
        "\n",
        "from sklearn.datasets import fetch_california_housing\n",
        "from sklearn.model_selection import train_test_split\n",
        "from sklearn.preprocessing import StandardScaler"
      ],
      "execution_count": 0,
      "outputs": []
    },
    {
      "cell_type": "code",
      "metadata": {
        "colab_type": "code",
        "id": "gw-VLHpyW5nj",
        "outputId": "18001c38-7294-4123-d105-1d0b17147dc6",
        "colab": {
          "base_uri": "https://localhost:8080/",
          "height": 34
        }
      },
      "source": [
        "# Fetch the data\n",
        "housing = fetch_california_housing()"
      ],
      "execution_count": 0,
      "outputs": [
        {
          "output_type": "stream",
          "text": [
            "Downloading Cal. housing from https://ndownloader.figshare.com/files/5976036 to /root/scikit_learn_data\n"
          ],
          "name": "stderr"
        }
      ]
    },
    {
      "cell_type": "code",
      "metadata": {
        "colab_type": "code",
        "id": "a9E0_q_RW5nq",
        "colab": {}
      },
      "source": [
        "# Train-test split - need to specify X and y as attributes of `housing` \n",
        "X_train_full, X_test, y_train_full, y_test = train_test_split(housing.data, housing.target)"
      ],
      "execution_count": 0,
      "outputs": []
    },
    {
      "cell_type": "code",
      "metadata": {
        "colab_type": "code",
        "id": "oHA8_Z8nW5nt",
        "colab": {}
      },
      "source": [
        "# Another train test split to extract validation data\n",
        "X_train, X_valid, y_train, y_valid = train_test_split(X_train_full, y_train_full)"
      ],
      "execution_count": 0,
      "outputs": []
    },
    {
      "cell_type": "code",
      "metadata": {
        "colab_type": "code",
        "id": "MKLDeRXaW5nv",
        "colab": {}
      },
      "source": [
        "# Feature Scaling \n",
        "standard_scaler = StandardScaler()\n",
        "X_train_scaled = standard_scaler.fit_transform(X_train)\n",
        "X_valid_scaled = standard_scaler.transform(X_valid)\n",
        "X_test_scaled = standard_scaler.transform(X_test)"
      ],
      "execution_count": 0,
      "outputs": []
    },
    {
      "cell_type": "code",
      "metadata": {
        "id": "jNRNa6slXvXd",
        "colab_type": "code",
        "colab": {}
      },
      "source": [
        "# Indexing to create inputs for the WDNN\n",
        "X_train_A, X_train_B = X_train[:, :5], X_train[:, 2:]\n",
        "X_valid_A, X_valid_B = X_valid[:, :5], X_valid[:, 2:]\n",
        "X_test_A, X_test_B = X_test[:, :5], X_test[:, 2:]\n",
        "X_new_A, X_new_B = X_test_A[:3], X_test_B[:3]"
      ],
      "execution_count": 0,
      "outputs": []
    },
    {
      "cell_type": "code",
      "metadata": {
        "id": "lddPbRVnUyOe",
        "colab_type": "code",
        "colab": {}
      },
      "source": [
        "class WideAndDeepModel(keras.models.Model):\n",
        "  \"\"\"Sublclassing the `Model` class to create an imperative version of the wide\n",
        "  and deep neural network model. \n",
        "  \n",
        "  This is a more flexible model which can implement\n",
        "  loops, conditional branching, try-catch-finally blocks, and other logic that\n",
        "  was otherwise inaccessible in the static computation graph of a `Model`.\"\"\"\n",
        "  def __init__(self, units=30, activation='relu', **kwargs):\n",
        "    \"\"\"Constructor that defines two hidden layers and two output layers as \n",
        "    attributes of the class. Model is constructed later.\"\"\"\n",
        "    super().__init__(**kwargs)      # Handles standard arguments e.g. names\n",
        "\n",
        "    # Initialise the type of layers - how many units, what activation function\n",
        "    self.hidden1 = keras.layers.Dense(units, activation=activation)\n",
        "    self.hidden2 = keras.layers.Dense(units, activation=activation)\n",
        "    self.main_output = keras.layers.Dense(1)\n",
        "    self.aux_output = keras.layers.Dense(1)\n",
        "\n",
        "  def call(self, inputs):\n",
        "    \"\"\"Creates a computation graph of tensor transformations by by passing the \n",
        "    inputs to the required layers. This is where we would implement additional\n",
        "    functionality such as for loops, conditional branching, etc.\"\"\"\n",
        "    # Input tensors provided as arguments\n",
        "    input_A, input_B = inputs\n",
        "\n",
        "    # Tensor transformations using attribute layers\n",
        "    hidden1 = self.hidden1(input_B)\n",
        "    hidden2 = self.hidden2(hidden1)\n",
        "\n",
        "    # Non-attribute layer for concatenating input_A and the output of the last hidden layer\n",
        "    concat = keras.layers.concatenate([input_A, hidden2])\n",
        "\n",
        "    # Output layers are defined as attributes\n",
        "    main_output = self.main_output(concat)\n",
        "    aux_output = self.aux_output(hidden2)\n",
        "\n",
        "    # Return outputs at the end.\n",
        "    return main_output, aux_output"
      ],
      "execution_count": 0,
      "outputs": []
    },
    {
      "cell_type": "code",
      "metadata": {
        "id": "pO6DGgaLW02c",
        "colab_type": "code",
        "colab": {}
      },
      "source": [
        "# Create an instance of this class\n",
        "model = WideAndDeepModel(30, activation='relu')"
      ],
      "execution_count": 0,
      "outputs": []
    },
    {
      "cell_type": "code",
      "metadata": {
        "id": "ZqJL3G4gXAFV",
        "colab_type": "code",
        "colab": {}
      },
      "source": [
        "# Compile the model - main output loss has higher weight than aux loss\n",
        "model.compile(loss='mse', loss_weights=[0.9, 0.1], optimizer='adam')"
      ],
      "execution_count": 0,
      "outputs": []
    },
    {
      "cell_type": "code",
      "metadata": {
        "id": "X8Cih4GzXObI",
        "colab_type": "code",
        "colab": {}
      },
      "source": [
        "# Fit the model\n",
        "subclassed_wdnn_history = model.fit((X_train_A, X_train_B), (y_train, y_train), \n",
        "                                    epochs=20, \n",
        "                                    validation_data=((X_valid_A, X_valid_B), \n",
        "                                                     (y_valid, y_valid)))"
      ],
      "execution_count": 0,
      "outputs": []
    },
    {
      "cell_type": "code",
      "metadata": {
        "id": "jLQWgtj1X8Pv",
        "colab_type": "code",
        "outputId": "1eefacfc-5aa2-47e6-aacf-46a9b8f8cb3b",
        "colab": {
          "base_uri": "https://localhost:8080/",
          "height": 394
        }
      },
      "source": [
        "pd.DataFrame(subclassed_wdnn_history.history).plot(figsize=(12, 6 ))"
      ],
      "execution_count": 0,
      "outputs": [
        {
          "output_type": "execute_result",
          "data": {
            "text/plain": [
              "<matplotlib.axes._subplots.AxesSubplot at 0x7f3861a334a8>"
            ]
          },
          "metadata": {
            "tags": []
          },
          "execution_count": 36
        },
        {
          "output_type": "display_data",
          "data": {
            "image/png": "[encoded data removed]",
            "text/plain": [
              "<Figure size 864x432 with 1 Axes>"
            ]
          },
          "metadata": {
            "tags": [],
            "needs_background": "light"
          }
        }
      ]
    },
    {
      "cell_type": "code",
      "metadata": {
        "id": "nmAxYNZQY448",
        "colab_type": "code",
        "outputId": "622660de-1b7e-4ced-a8c5-708959e9c862",
        "colab": {
          "base_uri": "https://localhost:8080/",
          "height": 289
        }
      },
      "source": [
        "model.summary()"
      ],
      "execution_count": 0,
      "outputs": [
        {
          "output_type": "stream",
          "text": [
            "Model: \"wide_and_deep_model_3\"\n",
            "_________________________________________________________________\n",
            "Layer (type)                 Output Shape              Param #   \n",
            "=================================================================\n",
            "dense_8 (Dense)              multiple                  210       \n",
            "_________________________________________________________________\n",
            "dense_9 (Dense)              multiple                  930       \n",
            "_________________________________________________________________\n",
            "dense_10 (Dense)             multiple                  36        \n",
            "_________________________________________________________________\n",
            "dense_11 (Dense)             multiple                  31        \n",
            "=================================================================\n",
            "Total params: 1,207\n",
            "Trainable params: 1,207\n",
            "Non-trainable params: 0\n",
            "_________________________________________________________________\n"
          ],
          "name": "stdout"
        }
      ]
    },
    {
      "cell_type": "code",
      "metadata": {
        "id": "L99ofd6jZHQj",
        "colab_type": "code",
        "outputId": "5052bd09-2553-4180-da19-db3f78debe3c",
        "colab": {
          "base_uri": "https://localhost:8080/",
          "height": 69
        }
      },
      "source": [
        "plot_model(model, to_file='model.png', show_shapes=True)"
      ],
      "execution_count": 0,
      "outputs": [
        {
          "output_type": "execute_result",
          "data": {
            "image/png": "[encoded data removed]",
            "text/plain": [
              "<IPython.core.display.Image object>"
            ]
          },
          "metadata": {
            "tags": []
          },
          "execution_count": 39
        }
      ]
    },
    {
      "cell_type": "markdown",
      "metadata": {
        "id": "yQ3FVBSVZO5J",
        "colab_type": "text"
      },
      "source": [
        "No idea what's going on here."
      ]
    },
    {
      "cell_type": "markdown",
      "metadata": {
        "id": "MLHNqQcCZZnf",
        "colab_type": "text"
      },
      "source": [
        "# Example 5 - Saving and Restoring Models\n",
        "\n",
        "Using the HDF5 format, we can save the following information about our model\n",
        "- model architecture: sequence of all layers and their hyperparameters\n",
        "- value of all model parameters (Weights and biases)\n",
        "- optimizer state and hyperparameters"
      ]
    },
    {
      "cell_type": "code",
      "metadata": {
        "id": "q8I5ZoB0ZuY7",
        "colab_type": "code",
        "colab": {}
      },
      "source": [
        "# Seeding random number generators before proceeding with demo\n",
        "tf.random.set_seed(42)\n",
        "np.random.seed(42)"
      ],
      "execution_count": 0,
      "outputs": []
    },
    {
      "cell_type": "code",
      "metadata": {
        "id": "9Zu8CAEyaEtO",
        "colab_type": "code",
        "colab": {}
      },
      "source": [
        "# Build a toy model \n",
        "model = keras.models.Sequential([\n",
        "        keras.layers.Dense(30, activation='relu', input_shape=[8]),\n",
        "        keras.layers.Dense(30, activation='relu'),\n",
        "        keras.layers.Dense(1)\n",
        "])"
      ],
      "execution_count": 0,
      "outputs": []
    },
    {
      "cell_type": "code",
      "metadata": {
        "id": "jajEvYC2acQK",
        "colab_type": "code",
        "colab": {}
      },
      "source": [
        "# Compile it \n",
        "model.compile(loss='mse', optimizer=keras.optimizers.SGD(lr=1e-3))"
      ],
      "execution_count": 0,
      "outputs": []
    },
    {
      "cell_type": "code",
      "metadata": {
        "id": "ye4N-04WacrP",
        "colab_type": "code",
        "outputId": "4779c025-4957-47fb-d2dc-88d847f0dee6",
        "colab": {
          "base_uri": "https://localhost:8080/",
          "height": 357
        }
      },
      "source": [
        "# Train the model\n",
        "history = model.fit(X_train_scaled, y_train, epochs=10, \n",
        "                    validation_data=(X_valid_scaled, y_valid))"
      ],
      "execution_count": 0,
      "outputs": [
        {
          "output_type": "stream",
          "text": [
            "Epoch 1/10\n",
            "363/363 [==============================] - 1s 2ms/step - loss: 1.8518 - val_loss: 0.9695\n",
            "Epoch 2/10\n",
            "363/363 [==============================] - 1s 1ms/step - loss: 0.8409 - val_loss: 0.7683\n",
            "Epoch 3/10\n",
            "363/363 [==============================] - 1s 2ms/step - loss: 0.7351 - val_loss: 0.7132\n",
            "Epoch 4/10\n",
            "363/363 [==============================] - 1s 1ms/step - loss: 0.6877 - val_loss: 0.6738\n",
            "Epoch 5/10\n",
            "363/363 [==============================] - 1s 1ms/step - loss: 0.6499 - val_loss: 0.6402\n",
            "Epoch 6/10\n",
            "363/363 [==============================] - 1s 1ms/step - loss: 0.6172 - val_loss: 0.6124\n",
            "Epoch 7/10\n",
            "363/363 [==============================] - 1s 1ms/step - loss: 0.5888 - val_loss: 0.5882\n",
            "Epoch 8/10\n",
            "363/363 [==============================] - 1s 1ms/step - loss: 0.5643 - val_loss: 0.5664\n",
            "Epoch 9/10\n",
            "363/363 [==============================] - 1s 1ms/step - loss: 0.5434 - val_loss: 0.5480\n",
            "Epoch 10/10\n",
            "363/363 [==============================] - 1s 1ms/step - loss: 0.5261 - val_loss: 0.5327\n"
          ],
          "name": "stdout"
        }
      ]
    },
    {
      "cell_type": "code",
      "metadata": {
        "id": "1h2-SRvQasYh",
        "colab_type": "code",
        "outputId": "05b6cf30-bf1a-40b9-ac37-3b34237cbef1",
        "colab": {
          "base_uri": "https://localhost:8080/",
          "height": 255
        }
      },
      "source": [
        "# What does the model look like?\n",
        "model.summary()"
      ],
      "execution_count": 0,
      "outputs": [
        {
          "output_type": "stream",
          "text": [
            "Model: \"sequential_1\"\n",
            "_________________________________________________________________\n",
            "Layer (type)                 Output Shape              Param #   \n",
            "=================================================================\n",
            "dense_15 (Dense)             (None, 30)                270       \n",
            "_________________________________________________________________\n",
            "dense_16 (Dense)             (None, 30)                930       \n",
            "_________________________________________________________________\n",
            "dense_17 (Dense)             (None, 1)                 31        \n",
            "=================================================================\n",
            "Total params: 1,231\n",
            "Trainable params: 1,231\n",
            "Non-trainable params: 0\n",
            "_________________________________________________________________\n"
          ],
          "name": "stdout"
        }
      ]
    },
    {
      "cell_type": "code",
      "metadata": {
        "id": "VKfiVdPia8PD",
        "colab_type": "code",
        "colab": {}
      },
      "source": [
        "# Save the model\n",
        "model.save('my_keras_model.h5')"
      ],
      "execution_count": 0,
      "outputs": []
    },
    {
      "cell_type": "code",
      "metadata": {
        "id": "zPnlkfwJbXvF",
        "colab_type": "code",
        "outputId": "1f49af15-80b0-4f5e-a6ef-85cdc4251389",
        "colab": {
          "base_uri": "https://localhost:8080/",
          "height": 369
        }
      },
      "source": [
        "keras.utils.plot_model(model)"
      ],
      "execution_count": 0,
      "outputs": [
        {
          "output_type": "execute_result",
          "data": {
            "image/png": "[encoded data removed]",
            "text/plain": [
              "<IPython.core.display.Image object>"
            ]
          },
          "metadata": {
            "tags": []
          },
          "execution_count": 57
        }
      ]
    },
    {
      "cell_type": "code",
      "metadata": {
        "id": "0_8OkD5mbIS8",
        "colab_type": "code",
        "colab": {}
      },
      "source": [
        "# Then load the model from the same file into a new model variable\n",
        "new_model = keras.models.load_model('my_keras_model.h5')"
      ],
      "execution_count": 0,
      "outputs": []
    },
    {
      "cell_type": "code",
      "metadata": {
        "id": "K_cEm1ihbPOT",
        "colab_type": "code",
        "outputId": "b4830624-6fa0-4e42-976f-3de4c5613371",
        "colab": {
          "base_uri": "https://localhost:8080/",
          "height": 255
        }
      },
      "source": [
        "# What does this model look like?\n",
        "new_model.summary()"
      ],
      "execution_count": 0,
      "outputs": [
        {
          "output_type": "stream",
          "text": [
            "Model: \"sequential_1\"\n",
            "_________________________________________________________________\n",
            "Layer (type)                 Output Shape              Param #   \n",
            "=================================================================\n",
            "dense_15 (Dense)             (None, 30)                270       \n",
            "_________________________________________________________________\n",
            "dense_16 (Dense)             (None, 30)                930       \n",
            "_________________________________________________________________\n",
            "dense_17 (Dense)             (None, 1)                 31        \n",
            "=================================================================\n",
            "Total params: 1,231\n",
            "Trainable params: 1,231\n",
            "Non-trainable params: 0\n",
            "_________________________________________________________________\n"
          ],
          "name": "stdout"
        }
      ]
    },
    {
      "cell_type": "code",
      "metadata": {
        "id": "heOHwrixbQlF",
        "colab_type": "code",
        "outputId": "96298455-9aad-48c6-c244-32d5ee490c09",
        "colab": {
          "base_uri": "https://localhost:8080/",
          "height": 369
        }
      },
      "source": [
        "keras.utils.plot_model(model)"
      ],
      "execution_count": 0,
      "outputs": [
        {
          "output_type": "execute_result",
          "data": {
            "image/png": "[encoded data removed]",
            "text/plain": [
              "<IPython.core.display.Image object>"
            ]
          },
          "metadata": {
            "tags": []
          },
          "execution_count": 56
        }
      ]
    },
    {
      "cell_type": "code",
      "metadata": {
        "id": "nvXW_LmTb7fr",
        "colab_type": "code",
        "outputId": "3cfe883d-c017-4477-a3e7-0494032f1b1c",
        "colab": {
          "base_uri": "https://localhost:8080/",
          "height": 51
        }
      },
      "source": [
        "# To confirm that this is a trained model, can evaluate it on the test set\n",
        "new_model.evaluate(X_test_scaled, y_test)"
      ],
      "execution_count": 0,
      "outputs": [
        {
          "output_type": "stream",
          "text": [
            "162/162 [==============================] - 0s 1ms/step - loss: 0.5172\n"
          ],
          "name": "stdout"
        },
        {
          "output_type": "execute_result",
          "data": {
            "text/plain": [
              "0.5172335505485535"
            ]
          },
          "metadata": {
            "tags": []
          },
          "execution_count": 60
        }
      ]
    },
    {
      "cell_type": "code",
      "metadata": {
        "id": "KENqSDypbVGt",
        "colab_type": "code",
        "colab": {}
      },
      "source": [
        "# Can also save only the weights as a checkpoint file \n",
        "model.save_weights('my_keras_weights.ckpt')"
      ],
      "execution_count": 0,
      "outputs": []
    },
    {
      "cell_type": "code",
      "metadata": {
        "id": "qmHXgsw4czXD",
        "colab_type": "code",
        "outputId": "aa643a28-1d20-468c-e04d-c311154c9e43",
        "colab": {
          "base_uri": "https://localhost:8080/",
          "height": 34
        }
      },
      "source": [
        "new_model.load_weights('my_keras_weights.ckpt')"
      ],
      "execution_count": 0,
      "outputs": [
        {
          "output_type": "execute_result",
          "data": {
            "text/plain": [
              "<tensorflow.python.training.tracking.util.CheckpointLoadStatus at 0x7f3863b255c0>"
            ]
          },
          "metadata": {
            "tags": []
          },
          "execution_count": 64
        }
      ]
    },
    {
      "cell_type": "markdown",
      "metadata": {
        "id": "a7BEl2Ihc2mD",
        "colab_type": "text"
      },
      "source": [
        "# Example 6 - Callbacks\n",
        "\n",
        "- Sometimes, training can last for several hours.\n",
        "- It is therefore useful to record model weights/parameters/states at regular intervals, or checkpoints.\n",
        "- This can be done using `keras` callbacks: functions that are invoked after an event/interval e.g.\n",
        "  - at the beginning and end of each epoch\n",
        "  - at the beginning and end of each batch\n",
        "  - at the beginning and end of all batches (training)\n",
        "- `callbacks` are passed to `keras` models in the `fit` method."
      ]
    },
    {
      "cell_type": "code",
      "metadata": {
        "id": "xJznOW_FdcQc",
        "colab_type": "code",
        "colab": {}
      },
      "source": [
        "# Starting anew \n",
        "keras.backend.clear_session()\n",
        "\n",
        "# Seeding the random number generators \n",
        "np.random.seed(42)\n",
        "tf.random.set_seed(42)"
      ],
      "execution_count": 0,
      "outputs": []
    },
    {
      "cell_type": "code",
      "metadata": {
        "id": "l8TiuLwrdlPK",
        "colab_type": "code",
        "colab": {}
      },
      "source": [
        "# Building a toy model\n",
        "model = keras.models.Sequential([\n",
        "        keras.layers.Dense(30, activation='relu', input_shape=[8]),\n",
        "        keras.layers.Dense(30, activation='relu'),\n",
        "        keras.layers.Dense(1)\n",
        "])"
      ],
      "execution_count": 0,
      "outputs": []
    },
    {
      "cell_type": "code",
      "metadata": {
        "id": "orVLUvfHdyid",
        "colab_type": "code",
        "colab": {}
      },
      "source": [
        "# Compile the model as usual\n",
        "model.compile(loss='mse', optimizer=keras.optimizers.SGD(lr=1e-3))"
      ],
      "execution_count": 0,
      "outputs": []
    },
    {
      "cell_type": "markdown",
      "metadata": {
        "id": "Dfwn8MMkd5H6",
        "colab_type": "text"
      },
      "source": [
        "## Callback 1 - `ModelCheckpoint`\n",
        "\n",
        "This is where things become different. \n",
        "\n",
        "We instantiate a `keras callback`. Specifically, the callback will create a `ModelCheckpoint` that, by default, saves the checkpoint (weights) of the model at the end of each epoch. The weights (and other hyperparams?) will be saved in a file called `my_keras_models.h5` (or any other file we specify in the checkpoint callback). \n",
        "\n",
        "When fitting the model, we pass this `ModelCheckpoint` callback to the method's `callback` argument."
      ]
    },
    {
      "cell_type": "code",
      "metadata": {
        "id": "lYp7jhaceYhd",
        "colab_type": "code",
        "colab": {}
      },
      "source": [
        "# Instantiate a new ModelCheckpoint callback to save weights at the end of each epoch\n",
        "checkpoint_cb = keras.callbacks.ModelCheckpoint('my_keras_models.h5', save_best_only=True)"
      ],
      "execution_count": 0,
      "outputs": []
    },
    {
      "cell_type": "code",
      "metadata": {
        "id": "Y68RvbYfeR1l",
        "colab_type": "code",
        "outputId": "f2f437ef-5cb9-496f-f051-a455f183ee9f",
        "colab": {
          "base_uri": "https://localhost:8080/",
          "height": 357
        }
      },
      "source": [
        "history = model.fit(X_train_scaled, y_train, epochs=10, validation_data=(X_valid_scaled, y_valid), \n",
        "          callbacks=[checkpoint_cb])"
      ],
      "execution_count": 0,
      "outputs": [
        {
          "output_type": "stream",
          "text": [
            "Epoch 1/10\n",
            "363/363 [==============================] - 1s 2ms/step - loss: 1.8681 - val_loss: 0.7795\n",
            "Epoch 2/10\n",
            "363/363 [==============================] - 1s 2ms/step - loss: 0.7039 - val_loss: 0.6452\n",
            "Epoch 3/10\n",
            "363/363 [==============================] - 1s 2ms/step - loss: 0.6179 - val_loss: 0.6000\n",
            "Epoch 4/10\n",
            "363/363 [==============================] - 1s 2ms/step - loss: 0.5760 - val_loss: 0.5716\n",
            "Epoch 5/10\n",
            "363/363 [==============================] - 1s 1ms/step - loss: 0.5496 - val_loss: 0.5476\n",
            "Epoch 6/10\n",
            "363/363 [==============================] - 1s 1ms/step - loss: 0.5267 - val_loss: 0.5302\n",
            "Epoch 7/10\n",
            "363/363 [==============================] - 1s 1ms/step - loss: 0.5100 - val_loss: 0.5156\n",
            "Epoch 8/10\n",
            "363/363 [==============================] - 1s 2ms/step - loss: 0.4960 - val_loss: 0.5045\n",
            "Epoch 9/10\n",
            "363/363 [==============================] - 1s 2ms/step - loss: 0.4857 - val_loss: 0.4954\n",
            "Epoch 10/10\n",
            "363/363 [==============================] - 1s 1ms/step - loss: 0.4773 - val_loss: 0.4883\n"
          ],
          "name": "stdout"
        }
      ]
    },
    {
      "cell_type": "code",
      "metadata": {
        "id": "WCf5CQyQe0RD",
        "colab_type": "code",
        "colab": {}
      },
      "source": [
        "# Now rollback to the best model \n",
        "model = keras.models.load_model('my_keras_model.h5')"
      ],
      "execution_count": 0,
      "outputs": []
    },
    {
      "cell_type": "code",
      "metadata": {
        "id": "yqUWXOxDe9BD",
        "colab_type": "code",
        "outputId": "4b5dcedd-ced4-4663-9b27-ab7954757468",
        "colab": {
          "base_uri": "https://localhost:8080/",
          "height": 51
        }
      },
      "source": [
        "# How does the model perform with its best hyperparameters?\n",
        "model.evaluate(X_test_scaled, y_test)"
      ],
      "execution_count": 0,
      "outputs": [
        {
          "output_type": "stream",
          "text": [
            "162/162 [==============================] - 0s 1ms/step - loss: 0.5172\n"
          ],
          "name": "stdout"
        },
        {
          "output_type": "execute_result",
          "data": {
            "text/plain": [
              "0.5172335505485535"
            ]
          },
          "metadata": {
            "tags": []
          },
          "execution_count": 72
        }
      ]
    },
    {
      "cell_type": "markdown",
      "metadata": {
        "id": "gQQSj00qfBVV",
        "colab_type": "text"
      },
      "source": [
        "The benefit of specifying `save_best_only=True` is that we're using the validation data to keep track of the model that gives best performance.\n",
        "\n",
        "With this argument, the model checkpoint will save weights to the specified file only if the model's validation set performance score is better than its previous scores so far.\n",
        "\n",
        "This effectively fights overfitting. The model may end up overfitting, but the saved weigths represent the state of the model when it had not overfit (i.e. when it had its best validation set score) so far. \n",
        "\n",
        "This is a simple way of introducin **early stopping**."
      ]
    },
    {
      "cell_type": "markdown",
      "metadata": {
        "id": "Q5qhSCzrfncv",
        "colab_type": "text"
      },
      "source": [
        "## Callback 2 - `EarlyStopping`\n",
        "\n",
        "`ModelCheckpoint` will save the weigths and other parameters of the model just before it begins to overfit, but won't necessarily stop training when this starts to happen.\n",
        "\n",
        "This means that even though we retain the weights at the required state, we don't really eliminate the computational cost of training for an unnecessarily large number of epochs.\n",
        "\n",
        "The `EarlyStopping` callback helps us achieve this. It stops training when the model's performance on the validation set 'stagnates'.\n",
        "\n"
      ]
    },
    {
      "cell_type": "code",
      "metadata": {
        "id": "ox6E5kiXgWNV",
        "colab_type": "code",
        "colab": {}
      },
      "source": [
        "model.compile(loss='mse', optimizer=keras.optimizers.SGD(lr=1e-3))"
      ],
      "execution_count": 0,
      "outputs": []
    },
    {
      "cell_type": "code",
      "metadata": {
        "id": "-9ZHX7pzhy8u",
        "colab_type": "code",
        "colab": {}
      },
      "source": [
        "# Creating an EarlyStopping callback to halt training after validation set performance\n",
        "# does not improve for 10 or more epochs\n",
        "early_stopping_cb = keras.callbacks.EarlyStopping(patience=10, restore_best_weights=True)"
      ],
      "execution_count": 0,
      "outputs": []
    },
    {
      "cell_type": "markdown",
      "metadata": {
        "id": "WkCoHj2piO3D",
        "colab_type": "text"
      },
      "source": [
        "In this example, we're combining an early stopping callback with a model checkpoint callback. We will not only record model weights in an HDF5 file at regular intervals, but will also stop training if the model's validation set performance does not improve for 10 or more epochs."
      ]
    },
    {
      "cell_type": "code",
      "metadata": {
        "id": "_1mbPa-ZiAaH",
        "colab_type": "code",
        "outputId": "e2f4afea-01e7-42c3-840c-673b220dd590",
        "colab": {
          "base_uri": "https://localhost:8080/",
          "height": 1000
        }
      },
      "source": [
        "# Fit the model\n",
        "history = model.fit(X_train_scaled, y_train, epochs=100, \n",
        "                   validation_data=(X_valid_scaled, y_valid),\n",
        "                   callbacks=[early_stopping_cb, checkpoint_cb])"
      ],
      "execution_count": 0,
      "outputs": [
        {
          "output_type": "stream",
          "text": [
            "Epoch 1/100\n",
            "363/363 [==============================] - 1s 2ms/step - loss: 0.5101 - val_loss: 0.5199\n",
            "Epoch 2/100\n",
            "363/363 [==============================] - 1s 1ms/step - loss: 0.4969 - val_loss: 0.5072\n",
            "Epoch 3/100\n",
            "363/363 [==============================] - 1s 1ms/step - loss: 0.4859 - val_loss: 0.4978\n",
            "Epoch 4/100\n",
            "363/363 [==============================] - 1s 1ms/step - loss: 0.4762 - val_loss: 0.4906\n",
            "Epoch 5/100\n",
            "363/363 [==============================] - 1s 2ms/step - loss: 0.4680 - val_loss: 0.4827\n",
            "Epoch 6/100\n",
            "363/363 [==============================] - 1s 1ms/step - loss: 0.4608 - val_loss: 0.4773\n",
            "Epoch 7/100\n",
            "363/363 [==============================] - 1s 1ms/step - loss: 0.4547 - val_loss: 0.4716\n",
            "Epoch 8/100\n",
            "363/363 [==============================] - 1s 1ms/step - loss: 0.4492 - val_loss: 0.4669\n",
            "Epoch 9/100\n",
            "363/363 [==============================] - 1s 1ms/step - loss: 0.4446 - val_loss: 0.4631\n",
            "Epoch 10/100\n",
            "363/363 [==============================] - 1s 2ms/step - loss: 0.4409 - val_loss: 0.4598\n",
            "Epoch 11/100\n",
            "363/363 [==============================] - 1s 1ms/step - loss: 0.4368 - val_loss: 0.4569\n",
            "Epoch 12/100\n",
            "363/363 [==============================] - 1s 1ms/step - loss: 0.4335 - val_loss: 0.4539\n",
            "Epoch 13/100\n",
            "363/363 [==============================] - 1s 2ms/step - loss: 0.4305 - val_loss: 0.4508\n",
            "Epoch 14/100\n",
            "363/363 [==============================] - 1s 2ms/step - loss: 0.4277 - val_loss: 0.4482\n",
            "Epoch 15/100\n",
            "363/363 [==============================] - 1s 1ms/step - loss: 0.4246 - val_loss: 0.4480\n",
            "Epoch 16/100\n",
            "363/363 [==============================] - 1s 1ms/step - loss: 0.4225 - val_loss: 0.4438\n",
            "Epoch 17/100\n",
            "363/363 [==============================] - 1s 1ms/step - loss: 0.4199 - val_loss: 0.4439\n",
            "Epoch 18/100\n",
            "363/363 [==============================] - 1s 1ms/step - loss: 0.4177 - val_loss: 0.4400\n",
            "Epoch 19/100\n",
            "363/363 [==============================] - 1s 1ms/step - loss: 0.4154 - val_loss: 0.4381\n",
            "Epoch 20/100\n",
            "363/363 [==============================] - 1s 1ms/step - loss: 0.4136 - val_loss: 0.4370\n",
            "Epoch 21/100\n",
            "363/363 [==============================] - 1s 1ms/step - loss: 0.4119 - val_loss: 0.4341\n",
            "Epoch 22/100\n",
            "363/363 [==============================] - 1s 1ms/step - loss: 0.4102 - val_loss: 0.4330\n",
            "Epoch 23/100\n",
            "363/363 [==============================] - 1s 1ms/step - loss: 0.4081 - val_loss: 0.4315\n",
            "Epoch 24/100\n",
            "363/363 [==============================] - 1s 2ms/step - loss: 0.4067 - val_loss: 0.4297\n",
            "Epoch 25/100\n",
            "363/363 [==============================] - 1s 1ms/step - loss: 0.4048 - val_loss: 0.4292\n",
            "Epoch 26/100\n",
            "363/363 [==============================] - 1s 1ms/step - loss: 0.4040 - val_loss: 0.4288\n",
            "Epoch 27/100\n",
            "363/363 [==============================] - 1s 2ms/step - loss: 0.4023 - val_loss: 0.4273\n",
            "Epoch 28/100\n",
            "363/363 [==============================] - 1s 2ms/step - loss: 0.4011 - val_loss: 0.4249\n",
            "Epoch 29/100\n",
            "363/363 [==============================] - 1s 1ms/step - loss: 0.3995 - val_loss: 0.4243\n",
            "Epoch 30/100\n",
            "363/363 [==============================] - 1s 1ms/step - loss: 0.3982 - val_loss: 0.4233\n",
            "Epoch 31/100\n",
            "363/363 [==============================] - 1s 1ms/step - loss: 0.3968 - val_loss: 0.4246\n",
            "Epoch 32/100\n",
            "363/363 [==============================] - 1s 2ms/step - loss: 0.3958 - val_loss: 0.4230\n",
            "Epoch 33/100\n",
            "363/363 [==============================] - 1s 1ms/step - loss: 0.3942 - val_loss: 0.4221\n",
            "Epoch 34/100\n",
            "363/363 [==============================] - 1s 1ms/step - loss: 0.3932 - val_loss: 0.4195\n",
            "Epoch 35/100\n",
            "363/363 [==============================] - 1s 2ms/step - loss: 0.3922 - val_loss: 0.4190\n",
            "Epoch 36/100\n",
            "363/363 [==============================] - 1s 2ms/step - loss: 0.3909 - val_loss: 0.4187\n",
            "Epoch 37/100\n",
            "363/363 [==============================] - 1s 1ms/step - loss: 0.3897 - val_loss: 0.4185\n",
            "Epoch 38/100\n",
            "363/363 [==============================] - 1s 1ms/step - loss: 0.3891 - val_loss: 0.4153\n",
            "Epoch 39/100\n",
            "363/363 [==============================] - 1s 2ms/step - loss: 0.3878 - val_loss: 0.4170\n",
            "Epoch 40/100\n",
            "363/363 [==============================] - 1s 2ms/step - loss: 0.3870 - val_loss: 0.4156\n",
            "Epoch 41/100\n",
            "363/363 [==============================] - 1s 1ms/step - loss: 0.3856 - val_loss: 0.4137\n",
            "Epoch 42/100\n",
            "363/363 [==============================] - 1s 1ms/step - loss: 0.3848 - val_loss: 0.4133\n",
            "Epoch 43/100\n",
            "363/363 [==============================] - 1s 1ms/step - loss: 0.3834 - val_loss: 0.4112\n",
            "Epoch 44/100\n",
            "363/363 [==============================] - 1s 1ms/step - loss: 0.3828 - val_loss: 0.4108\n",
            "Epoch 45/100\n",
            "363/363 [==============================] - 1s 1ms/step - loss: 0.3818 - val_loss: 0.4098\n",
            "Epoch 46/100\n",
            "363/363 [==============================] - 1s 1ms/step - loss: 0.3810 - val_loss: 0.4090\n",
            "Epoch 47/100\n",
            "363/363 [==============================] - 1s 1ms/step - loss: 0.3801 - val_loss: 0.4086\n",
            "Epoch 48/100\n",
            "363/363 [==============================] - 1s 1ms/step - loss: 0.3788 - val_loss: 0.4076\n",
            "Epoch 49/100\n",
            "363/363 [==============================] - 1s 1ms/step - loss: 0.3776 - val_loss: 0.4077\n",
            "Epoch 50/100\n",
            "363/363 [==============================] - 1s 1ms/step - loss: 0.3774 - val_loss: 0.4065\n",
            "Epoch 51/100\n",
            "363/363 [==============================] - 1s 2ms/step - loss: 0.3760 - val_loss: 0.4057\n",
            "Epoch 52/100\n",
            "363/363 [==============================] - 1s 1ms/step - loss: 0.3755 - val_loss: 0.4049\n",
            "Epoch 53/100\n",
            "363/363 [==============================] - 1s 1ms/step - loss: 0.3746 - val_loss: 0.4030\n",
            "Epoch 54/100\n",
            "363/363 [==============================] - 1s 1ms/step - loss: 0.3740 - val_loss: 0.4027\n",
            "Epoch 55/100\n",
            "363/363 [==============================] - 1s 1ms/step - loss: 0.3729 - val_loss: 0.4032\n",
            "Epoch 56/100\n",
            "363/363 [==============================] - 1s 1ms/step - loss: 0.3720 - val_loss: 0.4011\n",
            "Epoch 57/100\n",
            "363/363 [==============================] - 1s 1ms/step - loss: 0.3712 - val_loss: 0.4002\n",
            "Epoch 58/100\n",
            "363/363 [==============================] - 1s 1ms/step - loss: 0.3705 - val_loss: 0.3995\n",
            "Epoch 59/100\n",
            "363/363 [==============================] - 1s 1ms/step - loss: 0.3697 - val_loss: 0.3990\n",
            "Epoch 60/100\n",
            "363/363 [==============================] - 1s 1ms/step - loss: 0.3690 - val_loss: 0.3993\n",
            "Epoch 61/100\n",
            "363/363 [==============================] - 1s 1ms/step - loss: 0.3682 - val_loss: 0.3983\n",
            "Epoch 62/100\n",
            "363/363 [==============================] - 1s 1ms/step - loss: 0.3673 - val_loss: 0.3985\n",
            "Epoch 63/100\n",
            "363/363 [==============================] - 1s 1ms/step - loss: 0.3670 - val_loss: 0.3965\n",
            "Epoch 64/100\n",
            "363/363 [==============================] - 1s 1ms/step - loss: 0.3658 - val_loss: 0.3971\n",
            "Epoch 65/100\n",
            "363/363 [==============================] - 1s 2ms/step - loss: 0.3652 - val_loss: 0.3963\n",
            "Epoch 66/100\n",
            "363/363 [==============================] - 1s 1ms/step - loss: 0.3646 - val_loss: 0.3959\n",
            "Epoch 67/100\n",
            "363/363 [==============================] - 1s 1ms/step - loss: 0.3640 - val_loss: 0.3950\n",
            "Epoch 68/100\n",
            "363/363 [==============================] - 1s 2ms/step - loss: 0.3631 - val_loss: 0.3965\n",
            "Epoch 69/100\n",
            "363/363 [==============================] - 1s 1ms/step - loss: 0.3627 - val_loss: 0.3976\n",
            "Epoch 70/100\n",
            "363/363 [==============================] - 1s 1ms/step - loss: 0.3620 - val_loss: 0.3963\n",
            "Epoch 71/100\n",
            "363/363 [==============================] - 1s 2ms/step - loss: 0.3615 - val_loss: 0.3927\n",
            "Epoch 72/100\n",
            "363/363 [==============================] - 1s 1ms/step - loss: 0.3607 - val_loss: 0.3913\n",
            "Epoch 73/100\n",
            "363/363 [==============================] - 1s 1ms/step - loss: 0.3599 - val_loss: 0.3912\n",
            "Epoch 74/100\n",
            "363/363 [==============================] - 1s 2ms/step - loss: 0.3594 - val_loss: 0.3905\n",
            "Epoch 75/100\n",
            "363/363 [==============================] - 1s 2ms/step - loss: 0.3587 - val_loss: 0.3897\n",
            "Epoch 76/100\n",
            "363/363 [==============================] - 1s 1ms/step - loss: 0.3582 - val_loss: 0.3889\n",
            "Epoch 77/100\n",
            "363/363 [==============================] - 1s 1ms/step - loss: 0.3577 - val_loss: 0.3901\n",
            "Epoch 78/100\n",
            "363/363 [==============================] - 1s 1ms/step - loss: 0.3572 - val_loss: 0.3891\n",
            "Epoch 79/100\n",
            "363/363 [==============================] - 1s 2ms/step - loss: 0.3566 - val_loss: 0.3880\n",
            "Epoch 80/100\n",
            "363/363 [==============================] - 1s 2ms/step - loss: 0.3558 - val_loss: 0.3873\n",
            "Epoch 81/100\n",
            "363/363 [==============================] - 1s 1ms/step - loss: 0.3551 - val_loss: 0.3877\n",
            "Epoch 82/100\n",
            "363/363 [==============================] - 1s 1ms/step - loss: 0.3547 - val_loss: 0.3894\n",
            "Epoch 83/100\n",
            "363/363 [==============================] - 1s 1ms/step - loss: 0.3543 - val_loss: 0.3879\n",
            "Epoch 84/100\n",
            "363/363 [==============================] - 1s 1ms/step - loss: 0.3538 - val_loss: 0.3866\n",
            "Epoch 85/100\n",
            "363/363 [==============================] - 1s 1ms/step - loss: 0.3530 - val_loss: 0.3891\n",
            "Epoch 86/100\n",
            "363/363 [==============================] - 1s 1ms/step - loss: 0.3524 - val_loss: 0.3854\n",
            "Epoch 87/100\n",
            "363/363 [==============================] - 1s 1ms/step - loss: 0.3520 - val_loss: 0.3851\n",
            "Epoch 88/100\n",
            "363/363 [==============================] - 1s 1ms/step - loss: 0.3517 - val_loss: 0.3839\n",
            "Epoch 89/100\n",
            "363/363 [==============================] - 1s 1ms/step - loss: 0.3506 - val_loss: 0.3850\n",
            "Epoch 90/100\n",
            "363/363 [==============================] - 1s 2ms/step - loss: 0.3507 - val_loss: 0.3842\n",
            "Epoch 91/100\n",
            "363/363 [==============================] - 1s 2ms/step - loss: 0.3502 - val_loss: 0.3826\n",
            "Epoch 92/100\n",
            "363/363 [==============================] - 1s 1ms/step - loss: 0.3496 - val_loss: 0.3828\n",
            "Epoch 93/100\n",
            "363/363 [==============================] - 1s 1ms/step - loss: 0.3491 - val_loss: 0.3838\n",
            "Epoch 94/100\n",
            "363/363 [==============================] - 1s 1ms/step - loss: 0.3485 - val_loss: 0.3826\n",
            "Epoch 95/100\n",
            "363/363 [==============================] - 1s 2ms/step - loss: 0.3481 - val_loss: 0.3813\n",
            "Epoch 96/100\n",
            "363/363 [==============================] - 1s 1ms/step - loss: 0.3476 - val_loss: 0.3839\n",
            "Epoch 97/100\n",
            "363/363 [==============================] - 1s 1ms/step - loss: 0.3475 - val_loss: 0.3804\n",
            "Epoch 98/100\n",
            "363/363 [==============================] - 1s 1ms/step - loss: 0.3471 - val_loss: 0.3806\n",
            "Epoch 99/100\n",
            "363/363 [==============================] - 1s 1ms/step - loss: 0.3464 - val_loss: 0.3796\n",
            "Epoch 100/100\n",
            "363/363 [==============================] - 1s 2ms/step - loss: 0.3461 - val_loss: 0.3787\n"
          ],
          "name": "stdout"
        }
      ]
    },
    {
      "cell_type": "markdown",
      "metadata": {
        "id": "Zd_qBQZaihHX",
        "colab_type": "text"
      },
      "source": [
        "In this case, the model's training proceeded for all 100 epochs because the model's validation set MSE did not stagnate (or increase) for more than 10 consecutive epochs. \n",
        "\n",
        "Because of the `restore_best_weights` and `save_best_only` arguments used in initialising the callbacks, the weights in the HDF5 file AND the model itself will both be the training weights corresponding to the epoch with the lowest validation set MSE."
      ]
    },
    {
      "cell_type": "code",
      "metadata": {
        "id": "D0Qes9BakmX0",
        "colab_type": "code",
        "outputId": "05367a93-6335-41f5-aaac-5542c65c13c5",
        "colab": {
          "base_uri": "https://localhost:8080/",
          "height": 415
        }
      },
      "source": [
        "pd.DataFrame(history.history).plot(figsize=(12, 6))\n",
        "plt.xlabel('Epochs', fontsize=14)\n",
        "plt.ylabel('Loss', fontsize=14)\n",
        "plt.title('Training vs Validation Loss', fontsize=18)\n",
        "plt.grid(True)"
      ],
      "execution_count": 0,
      "outputs": [
        {
          "output_type": "display_data",
          "data": {
            "image/png": "[encoded data removed]",
            "text/plain": [
              "<Figure size 864x432 with 1 Axes>"
            ]
          },
          "metadata": {
            "tags": [],
            "needs_background": "light"
          }
        }
      ]
    },
    {
      "cell_type": "code",
      "metadata": {
        "id": "K3Fc95bMkqLk",
        "colab_type": "code",
        "outputId": "4f733d9f-96aa-445a-ba1b-86683812cabb",
        "colab": {
          "base_uri": "https://localhost:8080/",
          "height": 51
        }
      },
      "source": [
        "model.evaluate(X_test_scaled, y_test)"
      ],
      "execution_count": 0,
      "outputs": [
        {
          "output_type": "stream",
          "text": [
            "162/162 [==============================] - 0s 966us/step - loss: 0.3550\n"
          ],
          "name": "stdout"
        },
        {
          "output_type": "execute_result",
          "data": {
            "text/plain": [
              "0.35498112440109253"
            ]
          },
          "metadata": {
            "tags": []
          },
          "execution_count": 83
        }
      ]
    },
    {
      "cell_type": "markdown",
      "metadata": {
        "id": "1EHYOH5Gk94b",
        "colab_type": "text"
      },
      "source": [
        "The lower test set error is a consequence of \n",
        "- training for more epochs (100 vs 10)\n",
        "- saving the weights of the epoch with the lowest validation set (rather than the weights at the latest epoch)."
      ]
    },
    {
      "cell_type": "markdown",
      "metadata": {
        "id": "fsnYy2GulKmW",
        "colab_type": "text"
      },
      "source": [
        "## Callback 3 - Custom Callbacks\n",
        "\n",
        "Can write our own custom callback functions. For example, the following code demonstrates a callback that will log the ratio of the validation loss to the training loss at the end of each epoch during training. \n",
        "\n",
        "This can help detect overfitting."
      ]
    },
    {
      "cell_type": "code",
      "metadata": {
        "id": "q_XqpQFLmegb",
        "colab_type": "code",
        "colab": {}
      },
      "source": [
        "class PrintValToTrainRatioCallback(keras.callbacks.Callback):\n",
        "  \"\"\"Prints the ratio of the validation loss to the training loss at the end of each epoch.\"\"\"\n",
        "  def on_epoch_end(self, epoch, logs):\n",
        "    \"\"\"Prints val-to-train loss ratio at the end of each epoch. `logs` is \n",
        "    dictionary that is popualted during training.\"\"\"\n",
        "    print(\"\\nval / train: {:.2f}\".format(logs['val_loss'] / logs['loss']))"
      ],
      "execution_count": 0,
      "outputs": []
    },
    {
      "cell_type": "code",
      "metadata": {
        "id": "e_HIqwVzm4J3",
        "colab_type": "code",
        "colab": {}
      },
      "source": [
        "# Instantiate the custom callback\n",
        "val_train_ratio_cb = PrintValToTrainRatioCallback()"
      ],
      "execution_count": 0,
      "outputs": []
    },
    {
      "cell_type": "code",
      "metadata": {
        "id": "ybUzCWaCm9Vn",
        "colab_type": "code",
        "colab": {}
      },
      "source": [
        "# Compile the model again to reset params\n",
        "model.compile(loss='mse', optimizer=keras.optimizers.SGD(lr=1e-3))"
      ],
      "execution_count": 0,
      "outputs": []
    },
    {
      "cell_type": "code",
      "metadata": {
        "id": "PQXftjWDnDVt",
        "colab_type": "code",
        "outputId": "c05fc483-de3a-4fa8-cf34-2d71934727e3",
        "colab": {
          "base_uri": "https://localhost:8080/",
          "height": 374
        }
      },
      "source": [
        "# Fit the model\n",
        "model.fit(X_train_scaled, y_train, epochs=5, \n",
        "          validation_data=(X_valid_scaled, y_valid), \n",
        "          callbacks=[val_train_ratio_cb])"
      ],
      "execution_count": 0,
      "outputs": [
        {
          "output_type": "stream",
          "text": [
            "Epoch 1/5\n",
            "360/363 [============================>.] - ETA: 0s - loss: 0.3422\n",
            "val / train: 1.10\n",
            "363/363 [==============================] - 1s 2ms/step - loss: 0.3425 - val_loss: 0.3779\n",
            "Epoch 2/5\n",
            "336/363 [==========================>...] - ETA: 0s - loss: 0.3434\n",
            "val / train: 1.10\n",
            "363/363 [==============================] - 1s 1ms/step - loss: 0.3422 - val_loss: 0.3757\n",
            "Epoch 3/5\n",
            "362/363 [============================>.] - ETA: 0s - loss: 0.3421\n",
            "val / train: 1.10\n",
            "363/363 [==============================] - 1s 2ms/step - loss: 0.3416 - val_loss: 0.3758\n",
            "Epoch 4/5\n",
            "318/363 [=========================>....] - ETA: 0s - loss: 0.3400\n",
            "val / train: 1.10\n",
            "363/363 [==============================] - 1s 1ms/step - loss: 0.3413 - val_loss: 0.3759\n",
            "Epoch 5/5\n",
            "354/363 [============================>.] - ETA: 0s - loss: 0.3400\n",
            "val / train: 1.10\n",
            "363/363 [==============================] - 1s 2ms/step - loss: 0.3409 - val_loss: 0.3752\n"
          ],
          "name": "stdout"
        },
        {
          "output_type": "execute_result",
          "data": {
            "text/plain": [
              "<tensorflow.python.keras.callbacks.History at 0x7f3863653128>"
            ]
          },
          "metadata": {
            "tags": []
          },
          "execution_count": 95
        }
      ]
    },
    {
      "cell_type": "code",
      "metadata": {
        "id": "phlg8mtInLM4",
        "colab_type": "code",
        "colab": {}
      },
      "source": [
        ""
      ],
      "execution_count": 0,
      "outputs": []
    }
  ]
}