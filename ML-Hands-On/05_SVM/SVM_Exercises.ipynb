{
  "nbformat": 4,
  "nbformat_minor": 0,
  "metadata": {
    "colab": {
      "name": "Hands-on-ML-05-SVM.ipynb",
      "provenance": [],
      "collapsed_sections": [],
      "toc_visible": true
    },
    "kernelspec": {
      "name": "python3",
      "display_name": "Python 3"
    },
    "accelerator": "GPU"
  },
  "cells": [
    {
      "cell_type": "markdown",
      "metadata": {
        "id": "c3r9HnJ9hg59",
        "colab_type": "text"
      },
      "source": [
        "# Hands-on Machine Learning - Chapter 5 - Support Vector Machines - Exercises"
      ]
    },
    {
      "cell_type": "markdown",
      "metadata": {
        "id": "n93Yd_ZChu-o",
        "colab_type": "text"
      },
      "source": [
        "# Exercise 10 - SVM Regressor on California Housing Dataset"
      ]
    },
    {
      "cell_type": "markdown",
      "metadata": {
        "id": "5yKiYGa_ioNw",
        "colab_type": "text"
      },
      "source": [
        "## Imports"
      ]
    },
    {
      "cell_type": "code",
      "metadata": {
        "id": "c63bbNa6hzDA",
        "colab_type": "code",
        "colab": {}
      },
      "source": [
        "import numpy as np\n",
        "np.random.seed(42)\n",
        "\n",
        "# Plotting Imports\n",
        "import matplotlib.pyplot as plt \n",
        "import matplotlib as mpl\n",
        "mpl.rc('axes', labelsize=14)\n",
        "mpl.rc('xtick', labelsize=12)\n",
        "mpl.rc('ytick', labelsize=12)\n",
        "\n",
        "# Scikit-imports\n",
        "from sklearn.svm import LinearSVR, SVR\n",
        "from sklearn.model_selection import RandomizedSearchCV, train_test_split\n",
        "from sklearn.preprocessing import StandardScaler\n",
        "from sklearn.metrics import mean_squared_error"
      ],
      "execution_count": 0,
      "outputs": []
    },
    {
      "cell_type": "markdown",
      "metadata": {
        "id": "Y4Hutha2iisM",
        "colab_type": "text"
      },
      "source": [
        "## Loading and Preprocessing Data"
      ]
    },
    {
      "cell_type": "code",
      "metadata": {
        "id": "gdhxqWo6i97P",
        "colab_type": "code",
        "colab": {}
      },
      "source": [
        "from sklearn.datasets import fetch_california_housing"
      ],
      "execution_count": 0,
      "outputs": []
    },
    {
      "cell_type": "code",
      "metadata": {
        "id": "F74Q_K2PjBjJ",
        "colab_type": "code",
        "colab": {
          "base_uri": "https://localhost:8080/",
          "height": 54
        },
        "outputId": "3859caf6-5275-47bd-e967-9cecfdb7c246"
      },
      "source": [
        "# Will download this dataset - requires an internet connection\n",
        "housing = fetch_california_housing()"
      ],
      "execution_count": 3,
      "outputs": [
        {
          "output_type": "stream",
          "text": [
            "Downloading Cal. housing from https://ndownloader.figshare.com/files/5976036 to /root/scikit_learn_data\n"
          ],
          "name": "stderr"
        }
      ]
    },
    {
      "cell_type": "code",
      "metadata": {
        "id": "7qw8UBcTjCf6",
        "colab_type": "code",
        "colab": {
          "base_uri": "https://localhost:8080/",
          "height": 714
        },
        "outputId": "57e9937f-173a-447c-88c4-c1b562b0ccc8"
      },
      "source": [
        "print(housing.DESCR)"
      ],
      "execution_count": 6,
      "outputs": [
        {
          "output_type": "stream",
          "text": [
            ".. _california_housing_dataset:\n",
            "\n",
            "California Housing dataset\n",
            "--------------------------\n",
            "\n",
            "**Data Set Characteristics:**\n",
            "\n",
            "    :Number of Instances: 20640\n",
            "\n",
            "    :Number of Attributes: 8 numeric, predictive attributes and the target\n",
            "\n",
            "    :Attribute Information:\n",
            "        - MedInc        median income in block\n",
            "        - HouseAge      median house age in block\n",
            "        - AveRooms      average number of rooms\n",
            "        - AveBedrms     average number of bedrooms\n",
            "        - Population    block population\n",
            "        - AveOccup      average house occupancy\n",
            "        - Latitude      house block latitude\n",
            "        - Longitude     house block longitude\n",
            "\n",
            "    :Missing Attribute Values: None\n",
            "\n",
            "This dataset was obtained from the StatLib repository.\n",
            "http://lib.stat.cmu.edu/datasets/\n",
            "\n",
            "The target variable is the median house value for California districts.\n",
            "\n",
            "This dataset was derived from the 1990 U.S. census, using one row per census\n",
            "block group. A block group is the smallest geographical unit for which the U.S.\n",
            "Census Bureau publishes sample data (a block group typically has a population\n",
            "of 600 to 3,000 people).\n",
            "\n",
            "It can be downloaded/loaded using the\n",
            ":func:`sklearn.datasets.fetch_california_housing` function.\n",
            "\n",
            ".. topic:: References\n",
            "\n",
            "    - Pace, R. Kelley and Ronald Barry, Sparse Spatial Autoregressions,\n",
            "      Statistics and Probability Letters, 33 (1997) 291-297\n",
            "\n"
          ],
          "name": "stdout"
        }
      ]
    },
    {
      "cell_type": "code",
      "metadata": {
        "id": "K4gtuUQ5jHEJ",
        "colab_type": "code",
        "colab": {}
      },
      "source": [
        "# Extracting features and targets\n",
        "X = housing['data']\n",
        "y = housing['target']"
      ],
      "execution_count": 0,
      "outputs": []
    },
    {
      "cell_type": "markdown",
      "metadata": {
        "id": "9MxVxUxVjVVW",
        "colab_type": "text"
      },
      "source": [
        "## Train-Test Split"
      ]
    },
    {
      "cell_type": "code",
      "metadata": {
        "id": "gDSppQ_NjXBO",
        "colab_type": "code",
        "colab": {}
      },
      "source": [
        "X_train, X_test, y_train, y_test = train_test_split(X, y, test_size=0.2, random_state=42)"
      ],
      "execution_count": 0,
      "outputs": []
    },
    {
      "cell_type": "markdown",
      "metadata": {
        "id": "UASnBrOpjzNY",
        "colab_type": "text"
      },
      "source": [
        "## Feature Scaling "
      ]
    },
    {
      "cell_type": "code",
      "metadata": {
        "id": "Po53mB80j1tc",
        "colab_type": "code",
        "colab": {}
      },
      "source": [
        "# Instantiate a StandardScaler\n",
        "standardScaler = StandardScaler()\n",
        "\n",
        "# Find mean and standard deviation for scaling using training data, and then scale it \n",
        "X_train_scaled = standardScaler.fit_transform(X_train) \n",
        "\n",
        "# Use mean and std from training data to transform the test data \n",
        "X_test_scaled = standardScaler.transform(X_test)"
      ],
      "execution_count": 0,
      "outputs": []
    },
    {
      "cell_type": "markdown",
      "metadata": {
        "id": "6P5QJPH5jb09",
        "colab_type": "text"
      },
      "source": [
        "## Simple Linear Support Vector Regressor\n",
        "\n",
        "Linear SVRs have a time complexity that scales almost linearly with both the number of features `n` and the number of samples `m`. So it's worth investigating the performance of a linear support vector machine before we implement more complicated (and resource-intensive) non-linear/kernelized models."
      ]
    },
    {
      "cell_type": "markdown",
      "metadata": {
        "id": "4TfQZk1tkVei",
        "colab_type": "text"
      },
      "source": [
        "### Training"
      ]
    },
    {
      "cell_type": "code",
      "metadata": {
        "id": "83mrkT_rjrwW",
        "colab_type": "code",
        "colab": {}
      },
      "source": [
        "# Instantiate\n",
        "linear_svr = LinearSVR(random_state=42)"
      ],
      "execution_count": 0,
      "outputs": []
    },
    {
      "cell_type": "code",
      "metadata": {
        "id": "MHgV4Fi4jw_S",
        "colab_type": "code",
        "colab": {
          "base_uri": "https://localhost:8080/",
          "height": 122
        },
        "outputId": "336495f4-f0d0-42dd-8324-61907527e0e0"
      },
      "source": [
        "# Fit to the scaled data\n",
        "linear_svr.fit(X_train_scaled, y_train)"
      ],
      "execution_count": 11,
      "outputs": [
        {
          "output_type": "stream",
          "text": [
            "/usr/local/lib/python3.6/dist-packages/sklearn/svm/_base.py:947: ConvergenceWarning: Liblinear failed to converge, increase the number of iterations.\n",
            "  \"the number of iterations.\", ConvergenceWarning)\n"
          ],
          "name": "stderr"
        },
        {
          "output_type": "execute_result",
          "data": {
            "text/plain": [
              "LinearSVR(C=1.0, dual=True, epsilon=0.0, fit_intercept=True,\n",
              "          intercept_scaling=1.0, loss='epsilon_insensitive', max_iter=1000,\n",
              "          random_state=42, tol=0.0001, verbose=0)"
            ]
          },
          "metadata": {
            "tags": []
          },
          "execution_count": 11
        }
      ]
    },
    {
      "cell_type": "markdown",
      "metadata": {
        "id": "fjSkDSmvkSnx",
        "colab_type": "text"
      },
      "source": [
        "### Evaluating - Training Set"
      ]
    },
    {
      "cell_type": "code",
      "metadata": {
        "id": "1o-mVqnBkXOo",
        "colab_type": "code",
        "colab": {
          "base_uri": "https://localhost:8080/",
          "height": 51
        },
        "outputId": "bd52e3f3-eac1-426a-e1fa-dbbc50fc0413"
      },
      "source": [
        "y_pred = linear_svr.predict(X_train_scaled)\n",
        "\n",
        "# Mean Squared Error - useful if there are outliers in the data\n",
        "mse = mean_squared_error(y_train, y_pred)\n",
        "print(\"MSE on Training Set: {:.5f}\".format(mse))\n",
        "\n",
        "# RMSE Error - In the same units as the actual target, so good for comparison\n",
        "rmse = np.sqrt(mse)\n",
        "print(\"RMSE on Training Set: {:.5f}\".format(rmse))"
      ],
      "execution_count": 13,
      "outputs": [
        {
          "output_type": "stream",
          "text": [
            "MSE on Training Set: 0.94997\n",
            "RMSE on Training Set: 0.97466\n"
          ],
          "name": "stdout"
        }
      ]
    },
    {
      "cell_type": "markdown",
      "metadata": {
        "id": "uMy3sGxYknY-",
        "colab_type": "text"
      },
      "source": [
        "## Kernelized SVM Regressor\n",
        "\n",
        "The `target` of this dataset is the price of a house in tens of thousands of dollars. The RMSE is an error expressed in the same units as the target, and is a measure of the average error between the predictions and targets, with larger 'weightage' for larger errors (due to outliers). \n",
        "\n",
        "The results show that the predicted average error in the price of a house is $0.97466 \\times \\$ 10000 = \\$9746.6$, which means our Linear SVM tends to make prediction errors that are approximately USD 10k higher or lower than the actual price of the house.\n",
        "\n",
        "This is not a good model. Now let's a try a kernelized SVM regressor using the `rbf` function.  \n",
        "\n",
        "Instead of using `GridSearchCV` to find the optimal value of hyperparameters from a list or grid of possible values, we'll use `RandomizedSearchCV` to find the optimal values of hyperparameters in a continuous distribution of possible values."
      ]
    },
    {
      "cell_type": "markdown",
      "metadata": {
        "id": "GP4z38-4oYxN",
        "colab_type": "text"
      },
      "source": [
        "### Parameter Spaces/Distributions"
      ]
    },
    {
      "cell_type": "code",
      "metadata": {
        "id": "fTP3vuJMlXE4",
        "colab_type": "code",
        "colab": {}
      },
      "source": [
        "# Different kind of continuous distributions for random variables\n",
        "from scipy.stats import reciprocal, uniform"
      ],
      "execution_count": 0,
      "outputs": []
    },
    {
      "cell_type": "code",
      "metadata": {
        "id": "qF9XMxPwnrge",
        "colab_type": "code",
        "colab": {}
      },
      "source": [
        "# Defining distributions for each possible parameter's values\n",
        "param_distributions = {\n",
        "    'gamma': reciprocal(0.001, 0.1), \n",
        "    'C': uniform(1, 10)\n",
        "}"
      ],
      "execution_count": 0,
      "outputs": []
    },
    {
      "cell_type": "markdown",
      "metadata": {
        "id": "MMGTfzUdocCZ",
        "colab_type": "text"
      },
      "source": [
        "### Randomized Search for Cross Validation\n",
        "\n",
        "Took 9.0s - 10.5s per fit, 4.6 min for fitting all folds."
      ]
    },
    {
      "cell_type": "code",
      "metadata": {
        "id": "I7o-LZAVn4n3",
        "colab_type": "code",
        "colab": {
          "base_uri": "https://localhost:8080/",
          "height": 1000
        },
        "outputId": "d5209140-f986-49b1-d0bf-b0e00e642b34"
      },
      "source": [
        "# Draw 10 random pairs of values for each hyperparam, fit three folds \n",
        "random_search_cv = RandomizedSearchCV(estimator=SVR(), \n",
        "                                      param_distributions=param_distributions, \n",
        "                                      n_iter=10, \n",
        "                                      verbose=2, \n",
        "                                      cv=3, \n",
        "                                      random_state=42)\n",
        "random_search_cv.fit(X_train_scaled, y_train)"
      ],
      "execution_count": 20,
      "outputs": [
        {
          "output_type": "stream",
          "text": [
            "Fitting 3 folds for each of 10 candidates, totalling 30 fits\n",
            "[CV] C=4.745401188473625, gamma=0.07969454818643928 ..................\n"
          ],
          "name": "stdout"
        },
        {
          "output_type": "stream",
          "text": [
            "[Parallel(n_jobs=1)]: Using backend SequentialBackend with 1 concurrent workers.\n"
          ],
          "name": "stderr"
        },
        {
          "output_type": "stream",
          "text": [
            "[CV] ... C=4.745401188473625, gamma=0.07969454818643928, total=  10.5s\n",
            "[CV] C=4.745401188473625, gamma=0.07969454818643928 ..................\n"
          ],
          "name": "stdout"
        },
        {
          "output_type": "stream",
          "text": [
            "[Parallel(n_jobs=1)]: Done   1 out of   1 | elapsed:   10.5s remaining:    0.0s\n"
          ],
          "name": "stderr"
        },
        {
          "output_type": "stream",
          "text": [
            "[CV] ... C=4.745401188473625, gamma=0.07969454818643928, total=  10.5s\n",
            "[CV] C=4.745401188473625, gamma=0.07969454818643928 ..................\n",
            "[CV] ... C=4.745401188473625, gamma=0.07969454818643928, total=  10.5s\n",
            "[CV] C=8.31993941811405, gamma=0.015751320499779724 ..................\n",
            "[CV] ... C=8.31993941811405, gamma=0.015751320499779724, total=   9.9s\n",
            "[CV] C=8.31993941811405, gamma=0.015751320499779724 ..................\n",
            "[CV] ... C=8.31993941811405, gamma=0.015751320499779724, total=   9.6s\n",
            "[CV] C=8.31993941811405, gamma=0.015751320499779724 ..................\n",
            "[CV] ... C=8.31993941811405, gamma=0.015751320499779724, total=   9.8s\n",
            "[CV] C=2.560186404424365, gamma=0.002051110418843397 .................\n",
            "[CV] .. C=2.560186404424365, gamma=0.002051110418843397, total=   8.9s\n",
            "[CV] C=2.560186404424365, gamma=0.002051110418843397 .................\n",
            "[CV] .. C=2.560186404424365, gamma=0.002051110418843397, total=   8.9s\n",
            "[CV] C=2.560186404424365, gamma=0.002051110418843397 .................\n",
            "[CV] .. C=2.560186404424365, gamma=0.002051110418843397, total=   9.0s\n",
            "[CV] C=1.5808361216819946, gamma=0.05399484409787431 .................\n",
            "[CV] .. C=1.5808361216819946, gamma=0.05399484409787431, total=   8.9s\n",
            "[CV] C=1.5808361216819946, gamma=0.05399484409787431 .................\n",
            "[CV] .. C=1.5808361216819946, gamma=0.05399484409787431, total=   8.9s\n",
            "[CV] C=1.5808361216819946, gamma=0.05399484409787431 .................\n",
            "[CV] .. C=1.5808361216819946, gamma=0.05399484409787431, total=   8.9s\n",
            "[CV] C=7.011150117432088, gamma=0.026070247583707663 .................\n",
            "[CV] .. C=7.011150117432088, gamma=0.026070247583707663, total=   9.7s\n",
            "[CV] C=7.011150117432088, gamma=0.026070247583707663 .................\n",
            "[CV] .. C=7.011150117432088, gamma=0.026070247583707663, total=   9.8s\n",
            "[CV] C=7.011150117432088, gamma=0.026070247583707663 .................\n",
            "[CV] .. C=7.011150117432088, gamma=0.026070247583707663, total=   9.9s\n",
            "[CV] C=1.2058449429580245, gamma=0.0870602087830485 ..................\n",
            "[CV] ... C=1.2058449429580245, gamma=0.0870602087830485, total=   8.6s\n",
            "[CV] C=1.2058449429580245, gamma=0.0870602087830485 ..................\n",
            "[CV] ... C=1.2058449429580245, gamma=0.0870602087830485, total=   8.8s\n",
            "[CV] C=1.2058449429580245, gamma=0.0870602087830485 ..................\n",
            "[CV] ... C=1.2058449429580245, gamma=0.0870602087830485, total=   8.7s\n",
            "[CV] C=9.324426408004218, gamma=0.0026587543983272693 ................\n",
            "[CV] . C=9.324426408004218, gamma=0.0026587543983272693, total=   9.1s\n",
            "[CV] C=9.324426408004218, gamma=0.0026587543983272693 ................\n",
            "[CV] . C=9.324426408004218, gamma=0.0026587543983272693, total=   9.1s\n",
            "[CV] C=9.324426408004218, gamma=0.0026587543983272693 ................\n",
            "[CV] . C=9.324426408004218, gamma=0.0026587543983272693, total=   8.9s\n",
            "[CV] C=2.818249672071006, gamma=0.0023270677083837795 ................\n",
            "[CV] . C=2.818249672071006, gamma=0.0023270677083837795, total=   8.9s\n",
            "[CV] C=2.818249672071006, gamma=0.0023270677083837795 ................\n",
            "[CV] . C=2.818249672071006, gamma=0.0023270677083837795, total=   8.9s\n",
            "[CV] C=2.818249672071006, gamma=0.0023270677083837795 ................\n",
            "[CV] . C=2.818249672071006, gamma=0.0023270677083837795, total=   9.0s\n",
            "[CV] C=4.042422429595377, gamma=0.011207606211860567 .................\n",
            "[CV] .. C=4.042422429595377, gamma=0.011207606211860567, total=   9.0s\n",
            "[CV] C=4.042422429595377, gamma=0.011207606211860567 .................\n",
            "[CV] .. C=4.042422429595377, gamma=0.011207606211860567, total=   9.0s\n",
            "[CV] C=4.042422429595377, gamma=0.011207606211860567 .................\n",
            "[CV] .. C=4.042422429595377, gamma=0.011207606211860567, total=   9.0s\n",
            "[CV] C=5.319450186421157, gamma=0.003823475224675185 .................\n",
            "[CV] .. C=5.319450186421157, gamma=0.003823475224675185, total=   8.8s\n",
            "[CV] C=5.319450186421157, gamma=0.003823475224675185 .................\n",
            "[CV] .. C=5.319450186421157, gamma=0.003823475224675185, total=   9.0s\n",
            "[CV] C=5.319450186421157, gamma=0.003823475224675185 .................\n",
            "[CV] .. C=5.319450186421157, gamma=0.003823475224675185, total=   9.0s\n"
          ],
          "name": "stdout"
        },
        {
          "output_type": "stream",
          "text": [
            "[Parallel(n_jobs=1)]: Done  30 out of  30 | elapsed:  4.6min finished\n"
          ],
          "name": "stderr"
        },
        {
          "output_type": "execute_result",
          "data": {
            "text/plain": [
              "RandomizedSearchCV(cv=3, error_score=nan,\n",
              "                   estimator=SVR(C=1.0, cache_size=200, coef0=0.0, degree=3,\n",
              "                                 epsilon=0.1, gamma='scale', kernel='rbf',\n",
              "                                 max_iter=-1, shrinking=True, tol=0.001,\n",
              "                                 verbose=False),\n",
              "                   iid='deprecated', n_iter=10, n_jobs=None,\n",
              "                   param_distributions={'C': <scipy.stats._distn_infrastructure.rv_frozen object at 0x7ff4108efb38>,\n",
              "                                        'gamma': <scipy.stats._distn_infrastructure.rv_frozen object at 0x7ff410984b70>},\n",
              "                   pre_dispatch='2*n_jobs', random_state=42, refit=True,\n",
              "                   return_train_score=False, scoring=None, verbose=2)"
            ]
          },
          "metadata": {
            "tags": []
          },
          "execution_count": 20
        }
      ]
    },
    {
      "cell_type": "markdown",
      "metadata": {
        "id": "x4bVNWZpoGYZ",
        "colab_type": "text"
      },
      "source": [
        "### Best Estimator\n",
        "\n",
        "**Params Found Through Searching**\n",
        "\n",
        "`C` = 4.745401188473625\n",
        "\n",
        "`gamma` = 0.0796954818643928\n",
        "\n",
        "**Default Prameter Values**\n",
        "`cache_size` = 200\n",
        "\n",
        "`coef0` = 0.0\n",
        "\n",
        "`degree` = 3 \n",
        "\n",
        "`epsilon` = 0.1"
      ]
    },
    {
      "cell_type": "code",
      "metadata": {
        "id": "RZUu6QkGoXdZ",
        "colab_type": "code",
        "colab": {
          "base_uri": "https://localhost:8080/",
          "height": 68
        },
        "outputId": "5726df1e-3274-4219-97e4-4d51f2e8e8ae"
      },
      "source": [
        "# What are the hyperparameters of the best estimator? \n",
        "random_search_cv.best_estimator_"
      ],
      "execution_count": 21,
      "outputs": [
        {
          "output_type": "execute_result",
          "data": {
            "text/plain": [
              "SVR(C=4.745401188473625, cache_size=200, coef0=0.0, degree=3, epsilon=0.1,\n",
              "    gamma=0.07969454818643928, kernel='rbf', max_iter=-1, shrinking=True,\n",
              "    tol=0.001, verbose=False)"
            ]
          },
          "metadata": {
            "tags": []
          },
          "execution_count": 21
        }
      ]
    },
    {
      "cell_type": "markdown",
      "metadata": {
        "id": "Gr6QiVFsoqGx",
        "colab_type": "text"
      },
      "source": [
        "## Evaluation - Training Set \n",
        "\n",
        "Ideally, the RMSE on the training set should be lower than that of the linear SVM."
      ]
    },
    {
      "cell_type": "code",
      "metadata": {
        "id": "3v9fJ36Gow29",
        "colab_type": "code",
        "colab": {
          "base_uri": "https://localhost:8080/",
          "height": 34
        },
        "outputId": "03cead11-0368-4513-b768-a227336fee05"
      },
      "source": [
        "y_pred_train = random_search_cv.best_estimator_.predict(X_train_scaled)\n",
        "mse = mean_squared_error(y_train, y_pred_train)\n",
        "print(\"RMSE on Training Set: {:.5f}\".format(np.sqrt(mse)))"
      ],
      "execution_count": 26,
      "outputs": [
        {
          "output_type": "stream",
          "text": [
            "RMSE on Training Set: 0.57275\n"
          ],
          "name": "stdout"
        }
      ]
    },
    {
      "cell_type": "markdown",
      "metadata": {
        "id": "w0uE1nsZpAIR",
        "colab_type": "text"
      },
      "source": [
        "## Evaluation - Test Set"
      ]
    },
    {
      "cell_type": "code",
      "metadata": {
        "id": "HAnB80hspB_C",
        "colab_type": "code",
        "colab": {
          "base_uri": "https://localhost:8080/",
          "height": 34
        },
        "outputId": "b305ee90-1023-49bf-8f36-19e1779e3f22"
      },
      "source": [
        "y_pred_test = random_search_cv.best_estimator_.predict(X_test_scaled)\n",
        "mse = mean_squared_error(y_test, y_pred_test)\n",
        "print(\"RMSE on Test Set: {:.5f}\".format(np.sqrt(mse)))"
      ],
      "execution_count": 27,
      "outputs": [
        {
          "output_type": "stream",
          "text": [
            "RMSE on Test Set: 0.59292\n"
          ],
          "name": "stdout"
        }
      ]
    },
    {
      "cell_type": "markdown",
      "metadata": {
        "id": "1E_BLYh8pJ-A",
        "colab_type": "text"
      },
      "source": [
        "## Results\n",
        "\n",
        "Using a kernelized SVM regressor (RBF kernel) and carrying out `RandomizedSearch` for its parameters resulted in a model that  ecreased the RMSE on the training set from ~0.97 to ~0.57, which is ~40% improvement. \n",
        "\n",
        "On the test set, this means our errors in housing price predictions are approximately $6,000. While this is far from ideal, it is still an improvement over the linear support vector regressor."
      ]
    },
    {
      "cell_type": "markdown",
      "metadata": {
        "id": "0HAUzAUvqjoU",
        "colab_type": "text"
      },
      "source": [
        "# Exercise 9 - SVM on MNIST\n",
        "\n",
        "Will require one-versus-all classification since SVMs are binary classifiers. "
      ]
    },
    {
      "cell_type": "markdown",
      "metadata": {
        "id": "cK2vLVphqp2O",
        "colab_type": "text"
      },
      "source": [
        "## Loading and Processing Data\n",
        "\n",
        "Usually, we'd use a function like `train_test_split` to get the training and test data. However, with MNIST, its common practice to use the first 60,000 samples for the training set and the remaining 10,000 samples for the test set. \n",
        "\n",
        "This allows us to compare our results with those of other practitioners. "
      ]
    },
    {
      "cell_type": "code",
      "metadata": {
        "id": "YyvrzraVrDGe",
        "colab_type": "code",
        "colab": {}
      },
      "source": [
        "from sklearn.datasets import fetch_openml \n",
        "mnist = fetch_openml('mnist_784', version=1, cache=True)"
      ],
      "execution_count": 0,
      "outputs": []
    },
    {
      "cell_type": "code",
      "metadata": {
        "id": "Pkpm08u1rK9_",
        "colab_type": "code",
        "colab": {}
      },
      "source": [
        "# Extracting features and labels\n",
        "X = mnist['data']\n",
        "y = mnist['target'].astype(np.uint8)    # All labels are 8-bit integers, not floats or strings"
      ],
      "execution_count": 0,
      "outputs": []
    },
    {
      "cell_type": "code",
      "metadata": {
        "id": "G2OioNuqrTPn",
        "colab_type": "code",
        "colab": {}
      },
      "source": [
        "# 60k samples for train, remaining 10k for split\n",
        "N_TRAIN = 60000\n",
        "X_train, y_train = X[:N_TRAIN], y[:N_TRAIN]\n",
        "X_test, y_test = X[N_TRAIN:], y[N_TRAIN:]"
      ],
      "execution_count": 0,
      "outputs": []
    },
    {
      "cell_type": "code",
      "metadata": {
        "id": "P2WjKYZyrlH0",
        "colab_type": "code",
        "colab": {
          "base_uri": "https://localhost:8080/",
          "height": 51
        },
        "outputId": "24075cd5-0dd6-4a43-ff96-7e2547666e9c"
      },
      "source": [
        "# Confirming indexing performed correctly \n",
        "print(\"Training data and label shapes: \", X_train.shape, y_train.shape)\n",
        "print(\"Test data and label shapes: \", X_test.shape, y_test.shape)"
      ],
      "execution_count": 94,
      "outputs": [
        {
          "output_type": "stream",
          "text": [
            "Training data and label shapes:  (60000, 784) (60000,)\n",
            "Test data and label shapes:  (10000, 784) (10000,)\n"
          ],
          "name": "stdout"
        }
      ]
    },
    {
      "cell_type": "markdown",
      "metadata": {
        "id": "X5XR24Nprsyi",
        "colab_type": "text"
      },
      "source": [
        "No need to shuffle this dataset, because it is already shuffled. "
      ]
    },
    {
      "cell_type": "markdown",
      "metadata": {
        "id": "GuTMATKWr_tT",
        "colab_type": "text"
      },
      "source": [
        "## Linear SVM Classifier - Without Scaling\n",
        "\n",
        "Will automatically use the one-vs-all strategy (also called one-vs-rest, OvR) for classification, so we don't really need to do anything other than call fit. \n",
        "\n",
        "Deliberately not scaling features for this model to show how poor SVM classification performance can be without proper feature scaling."
      ]
    },
    {
      "cell_type": "code",
      "metadata": {
        "id": "HOpwjQ6GsQg3",
        "colab_type": "code",
        "colab": {}
      },
      "source": [
        "from sklearn.svm import LinearSVC, SVC"
      ],
      "execution_count": 0,
      "outputs": []
    },
    {
      "cell_type": "code",
      "metadata": {
        "id": "OPIOpfCtsLOi",
        "colab_type": "code",
        "colab": {
          "base_uri": "https://localhost:8080/",
          "height": 139
        },
        "outputId": "4ad92079-2583-4035-da3c-30c32dad2a44"
      },
      "source": [
        "# Instantiate a classifier\n",
        "lin_svm_clf = LinearSVC(random_state=42)\n",
        "\n",
        "# Fit to the training data - Before scaling\n",
        "lin_svm_clf.fit(X_train, y_train)"
      ],
      "execution_count": 37,
      "outputs": [
        {
          "output_type": "stream",
          "text": [
            "/usr/local/lib/python3.6/dist-packages/sklearn/svm/_base.py:947: ConvergenceWarning: Liblinear failed to converge, increase the number of iterations.\n",
            "  \"the number of iterations.\", ConvergenceWarning)\n"
          ],
          "name": "stderr"
        },
        {
          "output_type": "execute_result",
          "data": {
            "text/plain": [
              "LinearSVC(C=1.0, class_weight=None, dual=True, fit_intercept=True,\n",
              "          intercept_scaling=1, loss='squared_hinge', max_iter=1000,\n",
              "          multi_class='ovr', penalty='l2', random_state=42, tol=0.0001,\n",
              "          verbose=0)"
            ]
          },
          "metadata": {
            "tags": []
          },
          "execution_count": 37
        }
      ]
    },
    {
      "cell_type": "markdown",
      "metadata": {
        "id": "81q8TdRhsiKz",
        "colab_type": "text"
      },
      "source": [
        "### Evaluating Model Performance - Training Set\n",
        "\n",
        "We will not evaluate on the test set because we still have lots of hyperparameter tuning to do, and we don't want to overfit to the test data.\n",
        "\n",
        "In any case, making predictions on the training set will give us an idea of how good - or bad - our model is. If it's score is subpar on data it has already seen before, it will obviously not perform well on untrained data."
      ]
    },
    {
      "cell_type": "code",
      "metadata": {
        "id": "-6sFatnytOu2",
        "colab_type": "code",
        "colab": {}
      },
      "source": [
        "from sklearn.metrics import accuracy_score"
      ],
      "execution_count": 0,
      "outputs": []
    },
    {
      "cell_type": "code",
      "metadata": {
        "id": "t8Kyvrv8tZYL",
        "colab_type": "code",
        "colab": {}
      },
      "source": [
        "# Make predictions on the training set \n",
        "y_pred = lin_svm_clf.predict(X_train)"
      ],
      "execution_count": 0,
      "outputs": []
    },
    {
      "cell_type": "code",
      "metadata": {
        "id": "xew2yGlKtnm6",
        "colab_type": "code",
        "colab": {
          "base_uri": "https://localhost:8080/",
          "height": 34
        },
        "outputId": "c8215e28-f268-49a9-c8ba-eb73a58234fd"
      },
      "source": [
        "# Accuracy is number of correctly classified samples\n",
        "accuracy_score(y_train, y_pred)"
      ],
      "execution_count": 40,
      "outputs": [
        {
          "output_type": "execute_result",
          "data": {
            "text/plain": [
              "0.8733"
            ]
          },
          "metadata": {
            "tags": []
          },
          "execution_count": 40
        }
      ]
    },
    {
      "cell_type": "markdown",
      "metadata": {
        "id": "duMLrmO4tr4R",
        "colab_type": "text"
      },
      "source": [
        "This is a very poor accuracy, especially for the MNIST problem and especially for the training set. "
      ]
    },
    {
      "cell_type": "markdown",
      "metadata": {
        "id": "lSfY-w1atxKv",
        "colab_type": "text"
      },
      "source": [
        "## Linear SVM Classifier - With Scaling"
      ]
    },
    {
      "cell_type": "code",
      "metadata": {
        "id": "qpodbpSitzgW",
        "colab_type": "code",
        "colab": {}
      },
      "source": [
        "from sklearn.preprocessing import StandardScaler"
      ],
      "execution_count": 0,
      "outputs": []
    },
    {
      "cell_type": "code",
      "metadata": {
        "id": "96LuPTsqt5Oh",
        "colab_type": "code",
        "colab": {}
      },
      "source": [
        "# Instantiate a StandardScaler\n",
        "standardScaler = StandardScaler() \n",
        "\n",
        "# Fit to the training data to extract means and std for stanardization, then transform training data\n",
        "X_train_scaled = standardScaler.fit_transform(X_train.astype(np.float32))\n",
        "\n",
        "# Transform (but don't fit to) test set\n",
        "X_test_scaled = standardScaler.transform(X_test.astype(np.float32))"
      ],
      "execution_count": 0,
      "outputs": []
    },
    {
      "cell_type": "markdown",
      "metadata": {
        "id": "oDyZrC0N1STW",
        "colab_type": "text"
      },
      "source": [
        "### Training "
      ]
    },
    {
      "cell_type": "code",
      "metadata": {
        "id": "BjBSO4i81duE",
        "colab_type": "code",
        "colab": {
          "base_uri": "https://localhost:8080/",
          "height": 139
        },
        "outputId": "ff9e2130-10b8-43f0-8f64-4faa6a1d13bb"
      },
      "source": [
        "lin_clf = LinearSVC(random_state=42)\n",
        "lin_clf.fit(X_train_scaled, y_train)"
      ],
      "execution_count": 52,
      "outputs": [
        {
          "output_type": "stream",
          "text": [
            "/usr/local/lib/python3.6/dist-packages/sklearn/svm/_base.py:947: ConvergenceWarning: Liblinear failed to converge, increase the number of iterations.\n",
            "  \"the number of iterations.\", ConvergenceWarning)\n"
          ],
          "name": "stderr"
        },
        {
          "output_type": "execute_result",
          "data": {
            "text/plain": [
              "LinearSVC(C=1.0, class_weight=None, dual=True, fit_intercept=True,\n",
              "          intercept_scaling=1, loss='squared_hinge', max_iter=1000,\n",
              "          multi_class='ovr', penalty='l2', random_state=42, tol=0.0001,\n",
              "          verbose=0)"
            ]
          },
          "metadata": {
            "tags": []
          },
          "execution_count": 52
        }
      ]
    },
    {
      "cell_type": "markdown",
      "metadata": {
        "id": "8QKsq8xN1j1m",
        "colab_type": "text"
      },
      "source": [
        "### Evaluating on Training Data"
      ]
    },
    {
      "cell_type": "code",
      "metadata": {
        "id": "RijHXpTD1vB-",
        "colab_type": "code",
        "colab": {}
      },
      "source": [
        "from sklearn.metrics import accuracy_score"
      ],
      "execution_count": 0,
      "outputs": []
    },
    {
      "cell_type": "code",
      "metadata": {
        "id": "SNUtlZLI1oxY",
        "colab_type": "code",
        "colab": {
          "base_uri": "https://localhost:8080/",
          "height": 34
        },
        "outputId": "6b15e820-a264-4e0d-f424-fc06edeb67cd"
      },
      "source": [
        "y_pred = lin_clf.predict(X_train_scaled)\n",
        "accuracy_score(y_train, y_pred)"
      ],
      "execution_count": 58,
      "outputs": [
        {
          "output_type": "execute_result",
          "data": {
            "text/plain": [
              "0.9226833333333333"
            ]
          },
          "metadata": {
            "tags": []
          },
          "execution_count": 58
        }
      ]
    },
    {
      "cell_type": "markdown",
      "metadata": {
        "id": "i5hjNIhW4J7S",
        "colab_type": "text"
      },
      "source": [
        "Objectively, this is a good score. But on MNIST, higher scores are possible. This means we should explore non-linear or kernelized SVMs."
      ]
    },
    {
      "cell_type": "markdown",
      "metadata": {
        "id": "QOuFZvLD1waV",
        "colab_type": "text"
      },
      "source": [
        "## SVC with RBF Kernel \n",
        "\n",
        "Past experiments show that the data is, at least partly, not linearly separable. Will probably get improved performance using a non-linear SVM with kernel function. "
      ]
    },
    {
      "cell_type": "code",
      "metadata": {
        "id": "quH3dLKy190V",
        "colab_type": "code",
        "colab": {}
      },
      "source": [
        "# Instantiating an SVC with RBF kernel\n",
        "svm_clf = SVC(kernel='rbf', gamma='scale')"
      ],
      "execution_count": 0,
      "outputs": []
    },
    {
      "cell_type": "markdown",
      "metadata": {
        "id": "gHTSqF5j2FEP",
        "colab_type": "text"
      },
      "source": [
        "### Training on Subset \n",
        "\n",
        "The time complexity of a non-linear SVM is much larger than that of a linear SVM. As such, it is more efficient to train and validate the SVM using a smaller subset of the training data. Once optimal hyperparameters have been identified in this way, the final SVM can be trained on the entire training data."
      ]
    },
    {
      "cell_type": "code",
      "metadata": {
        "id": "krh594h82VQw",
        "colab_type": "code",
        "colab": {
          "base_uri": "https://localhost:8080/",
          "height": 85
        },
        "outputId": "0d9da14c-14e8-4176-8479-23c0f61e9155"
      },
      "source": [
        "N_SAMPLES_SUBSET = 10000\n",
        "svm_clf.fit(X_train_scaled[:N_SAMPLES_SUBSET], y_train[:N_SAMPLES_SUBSET])"
      ],
      "execution_count": 60,
      "outputs": [
        {
          "output_type": "execute_result",
          "data": {
            "text/plain": [
              "SVC(C=1.0, break_ties=False, cache_size=200, class_weight=None, coef0=0.0,\n",
              "    decision_function_shape='ovr', degree=3, gamma='scale', kernel='rbf',\n",
              "    max_iter=-1, probability=False, random_state=None, shrinking=True,\n",
              "    tol=0.001, verbose=False)"
            ]
          },
          "metadata": {
            "tags": []
          },
          "execution_count": 60
        }
      ]
    },
    {
      "cell_type": "markdown",
      "metadata": {
        "id": "EATMWSnr2g7N",
        "colab_type": "text"
      },
      "source": [
        "### Evaluating on Training Set"
      ]
    },
    {
      "cell_type": "code",
      "metadata": {
        "id": "Hk0MefMA2l3u",
        "colab_type": "code",
        "colab": {
          "base_uri": "https://localhost:8080/",
          "height": 34
        },
        "outputId": "45bcf4ae-8758-4d1b-94bf-d91229b58559"
      },
      "source": [
        "y_pred = svm_clf.predict(X_train_scaled)\n",
        "accuracy_score(y_pred, y_train)"
      ],
      "execution_count": 61,
      "outputs": [
        {
          "output_type": "execute_result",
          "data": {
            "text/plain": [
              "0.9455333333333333"
            ]
          },
          "metadata": {
            "tags": []
          },
          "execution_count": 61
        }
      ]
    },
    {
      "cell_type": "markdown",
      "metadata": {
        "id": "EfODBcYR2oyV",
        "colab_type": "text"
      },
      "source": [
        "## Kernelized SVM - Hyperparameter Tuning\n",
        "\n",
        "An untuned, unregularized kernelized SVM offers much better performance on the training data than an unregularized linear SVC. \n",
        "\n",
        "This is why hyperparameter tuning of the kernelized SVM may actually be worthwhile. \n",
        "\n",
        "Will once again specify a distribution from which the value of a hyperparameter will be drawn. \n",
        "\n",
        "Will train `n_iter` different models, each of which will draw a different combination of hyperparameter values drawn from the specified distributions. \n",
        "\n",
        "The `RandomizedSearchCV` will then return the best model after training it on the entire data."
      ]
    },
    {
      "cell_type": "markdown",
      "metadata": {
        "id": "CBbJSFGB3Ubo",
        "colab_type": "text"
      },
      "source": [
        "### Imports"
      ]
    },
    {
      "cell_type": "code",
      "metadata": {
        "id": "EcU-A7pC3bB0",
        "colab_type": "code",
        "colab": {}
      },
      "source": [
        "from sklearn.model_selection import RandomizedSearchCV\n",
        "from scipy.stats import reciprocal, uniform"
      ],
      "execution_count": 0,
      "outputs": []
    },
    {
      "cell_type": "markdown",
      "metadata": {
        "id": "diN32OL33ge7",
        "colab_type": "text"
      },
      "source": [
        "### Defining Parameter Distributions "
      ]
    },
    {
      "cell_type": "code",
      "metadata": {
        "id": "eVEqaZ7A3jtj",
        "colab_type": "code",
        "colab": {}
      },
      "source": [
        "param_distributions = {\n",
        "    'gamma': reciprocal(0.001, 0.1),    # Smaller values have higher probabilities of being drawn\n",
        "    'C': uniform(1, 10)                 # All values are equally likely to be drawn\n",
        "}"
      ],
      "execution_count": 0,
      "outputs": []
    },
    {
      "cell_type": "markdown",
      "metadata": {
        "id": "uz2sFRb63zs9",
        "colab_type": "text"
      },
      "source": [
        "### Randomized Cross Validation"
      ]
    },
    {
      "cell_type": "code",
      "metadata": {
        "id": "-HVrA2eb6BFX",
        "colab_type": "code",
        "colab": {}
      },
      "source": [
        "svm_clf = SVC(kernel='rbf', gamma='scale', random_state=42)"
      ],
      "execution_count": 0,
      "outputs": []
    },
    {
      "cell_type": "code",
      "metadata": {
        "id": "YShbC-r1320m",
        "colab_type": "code",
        "colab": {}
      },
      "source": [
        "rnd_search_cv = RandomizedSearchCV(svm_clf, \n",
        "                                   param_distributions, \n",
        "                                   n_iter=10, \n",
        "                                   verbose=2,\n",
        "                                   cv=3)"
      ],
      "execution_count": 0,
      "outputs": []
    },
    {
      "cell_type": "code",
      "metadata": {
        "id": "Kmlbz3oZ3-NO",
        "colab_type": "code",
        "colab": {
          "base_uri": "https://localhost:8080/",
          "height": 1000
        },
        "outputId": "289fb687-0aec-48ae-c879-99259d00e1fd"
      },
      "source": [
        "# Must specify the y_train data too, otherwise won't get best estimator\n",
        "rnd_search_cv.fit(X_train_scaled[:1000], y_train[:1000])"
      ],
      "execution_count": 74,
      "outputs": [
        {
          "output_type": "stream",
          "text": [
            "Fitting 3 folds for each of 10 candidates, totalling 30 fits\n",
            "[CV] C=4.998609717152554, gamma=0.001239742034078414 .................\n"
          ],
          "name": "stdout"
        },
        {
          "output_type": "stream",
          "text": [
            "[Parallel(n_jobs=1)]: Using backend SequentialBackend with 1 concurrent workers.\n"
          ],
          "name": "stderr"
        },
        {
          "output_type": "stream",
          "text": [
            "[CV] .. C=4.998609717152554, gamma=0.001239742034078414, total=   0.9s\n",
            "[CV] C=4.998609717152554, gamma=0.001239742034078414 .................\n"
          ],
          "name": "stdout"
        },
        {
          "output_type": "stream",
          "text": [
            "[Parallel(n_jobs=1)]: Done   1 out of   1 | elapsed:    0.9s remaining:    0.0s\n"
          ],
          "name": "stderr"
        },
        {
          "output_type": "stream",
          "text": [
            "[CV] .. C=4.998609717152554, gamma=0.001239742034078414, total=   0.9s\n",
            "[CV] C=4.998609717152554, gamma=0.001239742034078414 .................\n",
            "[CV] .. C=4.998609717152554, gamma=0.001239742034078414, total=   0.9s\n",
            "[CV] C=10.737555188414591, gamma=0.002921074818565714 ................\n",
            "[CV] . C=10.737555188414591, gamma=0.002921074818565714, total=   1.1s\n",
            "[CV] C=10.737555188414591, gamma=0.002921074818565714 ................\n",
            "[CV] . C=10.737555188414591, gamma=0.002921074818565714, total=   1.1s\n",
            "[CV] C=10.737555188414591, gamma=0.002921074818565714 ................\n",
            "[CV] . C=10.737555188414591, gamma=0.002921074818565714, total=   1.1s\n",
            "[CV] C=1.906064345328208, gamma=0.017249321573179 ....................\n",
            "[CV] ..... C=1.906064345328208, gamma=0.017249321573179, total=   1.3s\n",
            "[CV] C=1.906064345328208, gamma=0.017249321573179 ....................\n",
            "[CV] ..... C=1.906064345328208, gamma=0.017249321573179, total=   1.3s\n",
            "[CV] C=1.906064345328208, gamma=0.017249321573179 ....................\n",
            "[CV] ..... C=1.906064345328208, gamma=0.017249321573179, total=   1.3s\n",
            "[CV] C=4.824619912671627, gamma=0.09256818992066876 ..................\n",
            "[CV] ... C=4.824619912671627, gamma=0.09256818992066876, total=   1.3s\n",
            "[CV] C=4.824619912671627, gamma=0.09256818992066876 ..................\n",
            "[CV] ... C=4.824619912671627, gamma=0.09256818992066876, total=   1.3s\n",
            "[CV] C=4.824619912671627, gamma=0.09256818992066876 ..................\n",
            "[CV] ... C=4.824619912671627, gamma=0.09256818992066876, total=   1.3s\n",
            "[CV] C=5.667628932479799, gamma=0.05246634533625283 ..................\n",
            "[CV] ... C=5.667628932479799, gamma=0.05246634533625283, total=   1.3s\n",
            "[CV] C=5.667628932479799, gamma=0.05246634533625283 ..................\n",
            "[CV] ... C=5.667628932479799, gamma=0.05246634533625283, total=   1.3s\n",
            "[CV] C=5.667628932479799, gamma=0.05246634533625283 ..................\n",
            "[CV] ... C=5.667628932479799, gamma=0.05246634533625283, total=   1.3s\n",
            "[CV] C=7.803075385877797, gamma=0.007961566078062943 .................\n",
            "[CV] .. C=7.803075385877797, gamma=0.007961566078062943, total=   1.2s\n",
            "[CV] C=7.803075385877797, gamma=0.007961566078062943 .................\n",
            "[CV] .. C=7.803075385877797, gamma=0.007961566078062943, total=   1.2s\n",
            "[CV] C=7.803075385877797, gamma=0.007961566078062943 .................\n",
            "[CV] .. C=7.803075385877797, gamma=0.007961566078062943, total=   1.2s\n",
            "[CV] C=1.1326496115986653, gamma=0.0766308268025585 ..................\n",
            "[CV] ... C=1.1326496115986653, gamma=0.0766308268025585, total=   1.3s\n",
            "[CV] C=1.1326496115986653, gamma=0.0766308268025585 ..................\n",
            "[CV] ... C=1.1326496115986653, gamma=0.0766308268025585, total=   1.3s\n",
            "[CV] C=1.1326496115986653, gamma=0.0766308268025585 ..................\n",
            "[CV] ... C=1.1326496115986653, gamma=0.0766308268025585, total=   1.3s\n",
            "[CV] C=6.632882178455393, gamma=0.005899741796710488 .................\n",
            "[CV] .. C=6.632882178455393, gamma=0.005899741796710488, total=   1.2s\n",
            "[CV] C=6.632882178455393, gamma=0.005899741796710488 .................\n",
            "[CV] .. C=6.632882178455393, gamma=0.005899741796710488, total=   1.3s\n",
            "[CV] C=6.632882178455393, gamma=0.005899741796710488 .................\n",
            "[CV] .. C=6.632882178455393, gamma=0.005899741796710488, total=   1.2s\n",
            "[CV] C=1.159662522202142, gamma=0.0028959272747088377 ................\n",
            "[CV] . C=1.159662522202142, gamma=0.0028959272747088377, total=   1.1s\n",
            "[CV] C=1.159662522202142, gamma=0.0028959272747088377 ................\n",
            "[CV] . C=1.159662522202142, gamma=0.0028959272747088377, total=   1.1s\n",
            "[CV] C=1.159662522202142, gamma=0.0028959272747088377 ................\n",
            "[CV] . C=1.159662522202142, gamma=0.0028959272747088377, total=   1.1s\n",
            "[CV] C=3.410254660260117, gamma=0.023255572624036783 .................\n",
            "[CV] .. C=3.410254660260117, gamma=0.023255572624036783, total=   1.3s\n",
            "[CV] C=3.410254660260117, gamma=0.023255572624036783 .................\n",
            "[CV] .. C=3.410254660260117, gamma=0.023255572624036783, total=   1.3s\n",
            "[CV] C=3.410254660260117, gamma=0.023255572624036783 .................\n",
            "[CV] .. C=3.410254660260117, gamma=0.023255572624036783, total=   1.3s\n"
          ],
          "name": "stdout"
        },
        {
          "output_type": "stream",
          "text": [
            "[Parallel(n_jobs=1)]: Done  30 out of  30 | elapsed:   35.7s finished\n"
          ],
          "name": "stderr"
        },
        {
          "output_type": "execute_result",
          "data": {
            "text/plain": [
              "RandomizedSearchCV(cv=3, error_score=nan,\n",
              "                   estimator=SVC(C=1.0, break_ties=False, cache_size=200,\n",
              "                                 class_weight=None, coef0=0.0,\n",
              "                                 decision_function_shape='ovr', degree=3,\n",
              "                                 gamma='scale', kernel='rbf', max_iter=-1,\n",
              "                                 probability=False, random_state=42,\n",
              "                                 shrinking=True, tol=0.001, verbose=False),\n",
              "                   iid='deprecated', n_iter=10, n_jobs=None,\n",
              "                   param_distributions={'C': <scipy.stats._distn_infrastructure.rv_frozen object at 0x7ff4106bf240>,\n",
              "                                        'gamma': <scipy.stats._distn_infrastructure.rv_frozen object at 0x7ff4106bff28>},\n",
              "                   pre_dispatch='2*n_jobs', random_state=None, refit=True,\n",
              "                   return_train_score=False, scoring=None, verbose=2)"
            ]
          },
          "metadata": {
            "tags": []
          },
          "execution_count": 74
        }
      ]
    },
    {
      "cell_type": "markdown",
      "metadata": {
        "id": "c9u1j09o4liA",
        "colab_type": "text"
      },
      "source": [
        "## Results of Randomized Search"
      ]
    },
    {
      "cell_type": "code",
      "metadata": {
        "id": "QpC9H3Yd4tON",
        "colab_type": "code",
        "colab": {
          "base_uri": "https://localhost:8080/",
          "height": 85
        },
        "outputId": "c52a4f67-d06c-40f2-e724-d08b97189a5f"
      },
      "source": [
        "# What is the best estimator? \n",
        "rnd_search_cv.best_estimator_"
      ],
      "execution_count": 75,
      "outputs": [
        {
          "output_type": "execute_result",
          "data": {
            "text/plain": [
              "SVC(C=4.998609717152554, break_ties=False, cache_size=200, class_weight=None,\n",
              "    coef0=0.0, decision_function_shape='ovr', degree=3,\n",
              "    gamma=0.001239742034078414, kernel='rbf', max_iter=-1, probability=False,\n",
              "    random_state=42, shrinking=True, tol=0.001, verbose=False)"
            ]
          },
          "metadata": {
            "tags": []
          },
          "execution_count": 75
        }
      ]
    },
    {
      "cell_type": "code",
      "metadata": {
        "id": "pei90NV-4wDh",
        "colab_type": "code",
        "colab": {
          "base_uri": "https://localhost:8080/",
          "height": 34
        },
        "outputId": "6c5af7f1-817f-40ba-815b-635841827bb9"
      },
      "source": [
        "# What is the accuracy score for this estimator?\n",
        "rnd_search_cv.best_score_"
      ],
      "execution_count": 76,
      "outputs": [
        {
          "output_type": "execute_result",
          "data": {
            "text/plain": [
              "0.8639927352502204"
            ]
          },
          "metadata": {
            "tags": []
          },
          "execution_count": 76
        }
      ]
    },
    {
      "cell_type": "markdown",
      "metadata": {
        "id": "HCddkYoV4z7Q",
        "colab_type": "text"
      },
      "source": [
        "This score is lower than the unregularized, kernelized SVM we trained on 1/6th of the available data. However, we need to recognize the fact that we're cross validating on only a dataset that is 10 time smaller than the one originally used for the kernelized SVM.\n",
        "\n",
        "This score will likely increase when the model is trained with the same hyperparameters on more data.\n",
        "\n",
        "The advantage of this approach is that cross validation is quicker, so we can train more models with different values for the hyperparameters. This speeds up the process of hyperparameter tuning."
      ]
    },
    {
      "cell_type": "markdown",
      "metadata": {
        "id": "4rYnLP0M5GmQ",
        "colab_type": "text"
      },
      "source": [
        "### Retraining Best Estimator\n",
        "\n",
        "Now that we've identified the best estimator, we can train it on the entire training set of 60,000 samples. \n",
        "\n",
        "This will take a lot of time to train. \n",
        "\n",
        "But the technique of tuning hyperparameters using a smaller subset of the training data is useful for models like SVM with high time complexity."
      ]
    },
    {
      "cell_type": "code",
      "metadata": {
        "id": "MyjpmEqY5PRt",
        "colab_type": "code",
        "colab": {
          "base_uri": "https://localhost:8080/",
          "height": 85
        },
        "outputId": "fdae8d17-8929-4bfc-81e9-2ce61db93c86"
      },
      "source": [
        "rnd_search_cv.best_estimator_.fit(X_train_scaled, y_train)"
      ],
      "execution_count": 77,
      "outputs": [
        {
          "output_type": "execute_result",
          "data": {
            "text/plain": [
              "SVC(C=4.998609717152554, break_ties=False, cache_size=200, class_weight=None,\n",
              "    coef0=0.0, decision_function_shape='ovr', degree=3,\n",
              "    gamma=0.001239742034078414, kernel='rbf', max_iter=-1, probability=False,\n",
              "    random_state=42, shrinking=True, tol=0.001, verbose=False)"
            ]
          },
          "metadata": {
            "tags": []
          },
          "execution_count": 77
        }
      ]
    },
    {
      "cell_type": "markdown",
      "metadata": {
        "id": "9cCofphl5WKT",
        "colab_type": "text"
      },
      "source": [
        "### Evaluating on Training Set"
      ]
    },
    {
      "cell_type": "code",
      "metadata": {
        "id": "2e2weSgV5YLV",
        "colab_type": "code",
        "colab": {
          "base_uri": "https://localhost:8080/",
          "height": 34
        },
        "outputId": "516e041e-2277-4b53-c789-1bae796232df"
      },
      "source": [
        "y_pred = rnd_search_cv.best_estimator_.predict(X_train_scaled)\n",
        "accuracy_score(y_train, y_pred)"
      ],
      "execution_count": 78,
      "outputs": [
        {
          "output_type": "execute_result",
          "data": {
            "text/plain": [
              "0.997"
            ]
          },
          "metadata": {
            "tags": []
          },
          "execution_count": 78
        }
      ]
    },
    {
      "cell_type": "markdown",
      "metadata": {
        "id": "3ISxNHkQCOVi",
        "colab_type": "text"
      },
      "source": [
        "While this is a very good score, it is indicative of overfitting. The actual test set score will be lower."
      ]
    },
    {
      "cell_type": "markdown",
      "metadata": {
        "id": "ZmbCmAxS5hD0",
        "colab_type": "text"
      },
      "source": [
        "### Evaluating on Test Set"
      ]
    },
    {
      "cell_type": "code",
      "metadata": {
        "id": "LUFT6s9h5lVd",
        "colab_type": "code",
        "colab": {
          "base_uri": "https://localhost:8080/",
          "height": 34
        },
        "outputId": "a09766ea-8378-40dd-88d6-5d1123a35b67"
      },
      "source": [
        "y_pred = rnd_search_cv.best_estimator_.predict(X_test_scaled)\n",
        "accuracy_score(y_test, y_pred)"
      ],
      "execution_count": 79,
      "outputs": [
        {
          "output_type": "execute_result",
          "data": {
            "text/plain": [
              "0.9728"
            ]
          },
          "metadata": {
            "tags": []
          },
          "execution_count": 79
        }
      ]
    },
    {
      "cell_type": "markdown",
      "metadata": {
        "id": "PIf6zoTG5yNt",
        "colab_type": "text"
      },
      "source": [
        "## Best Model\n",
        "\n",
        "The best SVM model found by the ML community uses the following hyperparameters \n",
        " - `C` = 5 \n",
        " - `gamma` = 0.005 \n",
        "\n",
        " It gives a test set accuracy of over 98%. \n",
        "\n",
        " We can find this by running randomized search for longer and on a larger part of the training set. "
      ]
    },
    {
      "cell_type": "code",
      "metadata": {
        "id": "_w7gTg_05yKx",
        "colab_type": "code",
        "colab": {}
      },
      "source": [
        "# Instantiating SVC \n",
        "svc_best = SVC(kernel='rbf', gamma=0.005, C=5, random_state=42)"
      ],
      "execution_count": 0,
      "outputs": []
    },
    {
      "cell_type": "code",
      "metadata": {
        "id": "vbIdMyB95yBU",
        "colab_type": "code",
        "colab": {
          "base_uri": "https://localhost:8080/",
          "height": 85
        },
        "outputId": "9f4a32c6-eef9-4e26-b472-561695efd211"
      },
      "source": [
        "# Training\n",
        "svc_best.fit(X_train_scaled, y_train)"
      ],
      "execution_count": 98,
      "outputs": [
        {
          "output_type": "execute_result",
          "data": {
            "text/plain": [
              "SVC(C=5, break_ties=False, cache_size=200, class_weight=None, coef0=0.0,\n",
              "    decision_function_shape='ovr', degree=3, gamma=0.005, kernel='rbf',\n",
              "    max_iter=-1, probability=False, random_state=42, shrinking=True, tol=0.001,\n",
              "    verbose=False)"
            ]
          },
          "metadata": {
            "tags": []
          },
          "execution_count": 98
        }
      ]
    },
    {
      "cell_type": "code",
      "metadata": {
        "id": "weCLn5Q67CPH",
        "colab_type": "code",
        "colab": {
          "base_uri": "https://localhost:8080/",
          "height": 34
        },
        "outputId": "0b836155-2c19-4df8-dc3b-4dcee207eeba"
      },
      "source": [
        "# Evaluating on Training Data\n",
        "accuracy_score(y_train, svc_best.predict(X_train_scaled))"
      ],
      "execution_count": 99,
      "outputs": [
        {
          "output_type": "execute_result",
          "data": {
            "text/plain": [
              "0.9999833333333333"
            ]
          },
          "metadata": {
            "tags": []
          },
          "execution_count": 99
        }
      ]
    },
    {
      "cell_type": "code",
      "metadata": {
        "id": "4EJl6GAa7Gmn",
        "colab_type": "code",
        "colab": {
          "base_uri": "https://localhost:8080/",
          "height": 34
        },
        "outputId": "8e1aa9b9-437b-4860-f65b-0ac1578e6987"
      },
      "source": [
        "# Evaluating on Test Data\n",
        "accuracy_score(y_test, svc_best.predict(X_test_scaled))"
      ],
      "execution_count": 101,
      "outputs": [
        {
          "output_type": "execute_result",
          "data": {
            "text/plain": [
              "0.945"
            ]
          },
          "metadata": {
            "tags": []
          },
          "execution_count": 101
        }
      ]
    },
    {
      "cell_type": "markdown",
      "metadata": {
        "id": "YjZMaKQE7rKz",
        "colab_type": "text"
      },
      "source": [
        "# Exercise 8 - Linear SVC and SGD Classifier\n",
        "\n",
        "Train a `LinearSVC` on a linearly separable dataset.\n",
        "\n",
        "Then train an `SVC` and a `SGDClassifier` on the same dataset. \n",
        "\n",
        "See if you can get them to produce roughly the same model."
      ]
    },
    {
      "cell_type": "code",
      "metadata": {
        "id": "cE17ALxX7rJJ",
        "colab_type": "code",
        "colab": {}
      },
      "source": [
        "from sklearn.linear_model import SGDClassifier \n",
        "from sklearn.svm import LinearSVC, SVC\n",
        "from sklearn.preprocessing import StandardScaler\n",
        "\n",
        "# The iris dataset is linearly separable when transformed to a binary problem\n",
        "from sklearn.datasets import load_iris"
      ],
      "execution_count": 0,
      "outputs": []
    },
    {
      "cell_type": "markdown",
      "metadata": {
        "id": "vo1CUh6f7rHw",
        "colab_type": "text"
      },
      "source": [
        "## Importing Data"
      ]
    },
    {
      "cell_type": "code",
      "metadata": {
        "id": "dnHxyysA7rF3",
        "colab_type": "code",
        "colab": {}
      },
      "source": [
        "# Loading data\n",
        "iris = load_iris()\n",
        "\n",
        "# Extracting features and labels\n",
        "X = iris['data'][:, (2, 3)]   # Petal length and petal width\n",
        "y = iris['target']"
      ],
      "execution_count": 0,
      "outputs": []
    },
    {
      "cell_type": "code",
      "metadata": {
        "id": "UUheTNMh7rCP",
        "colab_type": "code",
        "colab": {}
      },
      "source": [
        "# Setosa is one class, versicolor is another - disregard virginica\n",
        "\n",
        "# Extract indices of both setosa and versicolor flowers from labels\n",
        "setosa_or_versicolor = (y == 0) | (y == 1)\n",
        "\n",
        "# Use indices to extract corresponding features and labels\n",
        "X = X[setosa_or_versicolor]\n",
        "y = y[setosa_or_versicolor]"
      ],
      "execution_count": 0,
      "outputs": []
    },
    {
      "cell_type": "markdown",
      "metadata": {
        "id": "Wk3xwDIR7rAU",
        "colab_type": "text"
      },
      "source": [
        "## Classifiers"
      ]
    },
    {
      "cell_type": "markdown",
      "metadata": {
        "id": "TJEIc7PG7q7t",
        "colab_type": "text"
      },
      "source": [
        "### Common Parameters"
      ]
    },
    {
      "cell_type": "code",
      "metadata": {
        "id": "-fiev70M9kyu",
        "colab_type": "code",
        "colab": {}
      },
      "source": [
        "C = 5    # Regularization -> higher C -> more regularization -> narrower margin \n",
        "alpha = 1 / (C * len(X))    # For SGD Classifier"
      ],
      "execution_count": 0,
      "outputs": []
    },
    {
      "cell_type": "markdown",
      "metadata": {
        "id": "uITYPcEZ-Q8H",
        "colab_type": "text"
      },
      "source": [
        "### Instantiating"
      ]
    },
    {
      "cell_type": "code",
      "metadata": {
        "id": "4YdY-Vd597sy",
        "colab_type": "code",
        "colab": {}
      },
      "source": [
        "# Instantiating different classifiers \n",
        "lin_clf = LinearSVC(loss='hinge', C=C, random_state=42)\n",
        "svm_clf = SVC(kernel='linear', C=C)\n",
        "sgd_clf = SGDClassifier(loss='hinge', learning_rate='constant', eta0=0.001, \n",
        "                        alpha=alpha, max_iter=1000, tol=1e-3, random_state=42)"
      ],
      "execution_count": 0,
      "outputs": []
    },
    {
      "cell_type": "markdown",
      "metadata": {
        "id": "0yK3aAEF99DZ",
        "colab_type": "text"
      },
      "source": [
        "### Scaling Features"
      ]
    },
    {
      "cell_type": "code",
      "metadata": {
        "id": "jIqfu2CM-ULk",
        "colab_type": "code",
        "colab": {}
      },
      "source": [
        "scaler = StandardScaler()\n",
        "X_train_scaled = scaler.fit_transform(X)"
      ],
      "execution_count": 0,
      "outputs": []
    },
    {
      "cell_type": "markdown",
      "metadata": {
        "id": "5hYi6k72-YVq",
        "colab_type": "text"
      },
      "source": [
        "### Fitting Models"
      ]
    },
    {
      "cell_type": "code",
      "metadata": {
        "id": "4CBdpLhX-Zkf",
        "colab_type": "code",
        "colab": {
          "base_uri": "https://localhost:8080/",
          "height": 119
        },
        "outputId": "9efe418a-5124-44b5-af2b-fd3c20f1c3e3"
      },
      "source": [
        "lin_clf.fit(X_train_scaled, y)\n",
        "svm_clf.fit(X_train_scaled, y)\n",
        "sgd_clf.fit(X_train_scaled, y)"
      ],
      "execution_count": 112,
      "outputs": [
        {
          "output_type": "execute_result",
          "data": {
            "text/plain": [
              "SGDClassifier(alpha=0.002, average=False, class_weight=None,\n",
              "              early_stopping=False, epsilon=0.1, eta0=0.001, fit_intercept=True,\n",
              "              l1_ratio=0.15, learning_rate='constant', loss='hinge',\n",
              "              max_iter=1000, n_iter_no_change=5, n_jobs=None, penalty='l2',\n",
              "              power_t=0.5, random_state=42, shuffle=True, tol=0.001,\n",
              "              validation_fraction=0.1, verbose=0, warm_start=False)"
            ]
          },
          "metadata": {
            "tags": []
          },
          "execution_count": 112
        }
      ]
    },
    {
      "cell_type": "markdown",
      "metadata": {
        "id": "BmpUF--v-eUK",
        "colab_type": "text"
      },
      "source": [
        "### Comparing Final Coefficients"
      ]
    },
    {
      "cell_type": "code",
      "metadata": {
        "id": "A9VCqbJs-jG5",
        "colab_type": "code",
        "colab": {
          "base_uri": "https://localhost:8080/",
          "height": 119
        },
        "outputId": "d3a30d60-9f85-4e5f-e3cc-f1bb6278b6ab"
      },
      "source": [
        "print(\"LinearSVC\\n\", lin_clf.intercept_, lin_clf.coef_)\n",
        "print(\"SVC\\n\", svm_clf.intercept_, svm_clf.coef_)\n",
        "print(\"SGD (alpha = {:.5f})\\n\".format(sgd_clf.alpha), sgd_clf.intercept_, sgd_clf.coef_)"
      ],
      "execution_count": 113,
      "outputs": [
        {
          "output_type": "stream",
          "text": [
            "LinearSVC\n",
            " [0.28474272] [[1.05364736 1.09903308]]\n",
            "SVC\n",
            " [0.31896852] [[1.1203284  1.02625193]]\n",
            "SGD (alpha = 0.00200)\n",
            " [0.117] [[0.77714169 0.72981762]]\n"
          ],
          "name": "stdout"
        }
      ]
    },
    {
      "cell_type": "markdown",
      "metadata": {
        "id": "uv_u1U-P-5gv",
        "colab_type": "text"
      },
      "source": [
        "## Plotting Decision Boundaries"
      ]
    },
    {
      "cell_type": "code",
      "metadata": {
        "id": "Lyc-Bp0E_BKf",
        "colab_type": "code",
        "colab": {}
      },
      "source": [
        "# Compute the slope and bias of each decision boundary\n",
        "w1 = -lin_clf.coef_[0, 0] / lin_clf.coef_[0, 1]\n",
        "b1 = -lin_clf.intercept_[0] / lin_clf.coef_[0, 1]\n",
        "\n",
        "w2 = -svm_clf.coef_[0, 0] / svm_clf.coef_[0, 1]\n",
        "b2 = -svm_clf.intercept_[0] / svm_clf.coef_[0, 1]\n",
        "\n",
        "w3 = -sgd_clf.coef_[0, 0] / sgd_clf.coef_[0, 1]\n",
        "b3 = -sgd_clf.intercept_[0] / sgd_clf.coef_[0, 1]"
      ],
      "execution_count": 0,
      "outputs": []
    },
    {
      "cell_type": "code",
      "metadata": {
        "id": "HQoK9HD6A-XL",
        "colab_type": "code",
        "colab": {}
      },
      "source": [
        "# Transform the decision boundary lines back to the original scale \n",
        "line1 = scaler.inverse_transform([[-10, -10 * w1 + b1], [10, 10 * w1 + b1]])\n",
        "line2 = scaler.inverse_transform([[-10, -10 * w2 + b2], [10, 10 * w2 + b2]])\n",
        "line3 = scaler.inverse_transform([[-10, -10 * w3 + b3], [10, 10 * w3 + b3]])"
      ],
      "execution_count": 0,
      "outputs": []
    },
    {
      "cell_type": "code",
      "metadata": {
        "id": "ZEhX6sokBB1I",
        "colab_type": "code",
        "colab": {
          "base_uri": "https://localhost:8080/",
          "height": 291
        },
        "outputId": "ab9da7e0-3936-4df0-e0cf-fcebc3510921"
      },
      "source": [
        "# Plot all three decision boundaries \n",
        "plt.figure(figsize=(11, 4))\n",
        "plt.plot(line1[:, 0], line1[:, 1], 'k:', label='LinearSVC')\n",
        "plt.plot(line2[:, 0], line2[:, 1], 'b--', label='SVC')\n",
        "plt.plot(line3[:, 0], line3[:, 1], 'r-', label='SGDClassifier')\n",
        "\n",
        "# Plotting samples\n",
        "plt.plot(X[:, 0][y==1], X[:, 1][y==1], \"bs\") # label=\"Iris versicolor\"\n",
        "plt.plot(X[:, 0][y==0], X[:, 1][y==0], \"yo\") # label=\"Iris setosa\"\n",
        "\n",
        "# Annotating graph\n",
        "plt.xlabel(\"Petal length\", fontsize=14)\n",
        "plt.ylabel(\"Petal width\", fontsize=14)\n",
        "plt.legend(loc=\"upper center\", fontsize=14)\n",
        "plt.axis([0, 5.5, 0, 2])\n",
        "\n",
        "plt.show()"
      ],
      "execution_count": 119,
      "outputs": [
        {
          "output_type": "display_data",
          "data": {
            "image/png": "[encoded data removed]",
            "text/plain": [
              "<Figure size 792x288 with 1 Axes>"
            ]
          },
          "metadata": {
            "tags": []
          }
        }
      ]
    },
    {
      "cell_type": "markdown",
      "metadata": {
        "id": "eH5lWE1lD6KU",
        "colab_type": "text"
      },
      "source": [
        "# Exercises 1 - 7"
      ]
    },
    {
      "cell_type": "markdown",
      "metadata": {
        "id": "vMTVLLoED8Xq",
        "colab_type": "text"
      },
      "source": [
        "## Exercise 1 \n",
        "\n",
        "What is the fundamental idea behind support vector machines?\n",
        "\n",
        "**SVM Classifiers**\n",
        "- SVM classifiers attempt to fit the widest possible street between samples of the two classes.\n",
        "- The classification boundary is fully supported or determined by the samples (or vectors) of the two classes that are closest to each other. \n",
        "- The goal is to have the largest possible margin between the classification boundary that separates the two classes and the training instances. \n",
        "- Classification can be of two types\n",
        "  - hard margin: the SVM classifier ensures that there are no margin violations, which often leads to a narrower margin. \n",
        "  - soft margin: SVM classifier allows some margin violations, leading to a wider margin. \n",
        "\n",
        "**SVM Regressors**\n",
        "- SVM will still attempt to fit the a hypothesis hyperplane to the data, and the hyperplane will still have a margin.\n",
        "- The goal is still, in part, to maximise the margin.\n",
        "- However, the regressor now tries to fit as many samples within the margin as possible. \n",
        "- Margin violations in case of the SVM regressor occur when samples are not present within the margin. \n",
        "\n",
        "**Kernel Trick**\n",
        "- SVMs can be used for both linearly separable and non-linearly separably classification and regression.\n",
        "- In the case of the latter, the SVM uses a kernel trick: low dimensional features are passd to a kernel function, which is used to compute the equivalent dot product of highly non-linear features (polynomial features, similarity features) without actually computing the values of the features in a higher dimensional space. "
      ]
    },
    {
      "cell_type": "markdown",
      "metadata": {
        "id": "9XK1XUBfD_Kx",
        "colab_type": "text"
      },
      "source": [
        "## Exercise 2\n",
        "\n",
        "**What is a Support Vector?**\n",
        "\n",
        "The classification boundary/hypothesis function of a SVM is fully determined or supported by samples vectors of the input features that are on the edge of the margin or within the margin. These vectors are called support vectors. \n",
        "\n",
        "In the SVM margin-street analogy, vectors representing any samples **on** the street are the support vectors. \n",
        "\n",
        "- Decison boundary of an SVM classifier is not affected by any samples that aren't support vectors.\n",
        "- Predictions made by SVMs involve the support vectors, not the entire training set."
      ]
    },
    {
      "cell_type": "markdown",
      "metadata": {
        "id": "3QVEKjkmGVbd",
        "colab_type": "text"
      },
      "source": [
        "## Exercise 3\n",
        "\n",
        "**Why is it important to scale inputs when using SVMs?**\n",
        "\n",
        "SVMs are highly sensitive to feature scaling and outliers. The goal of SVMs is to fit the largest possible street between classes (in a classification problem). If the features are not scaled, the SVM will tend to neglect small features. "
      ]
    },
    {
      "cell_type": "markdown",
      "metadata": {
        "id": "4W86buqzGjvu",
        "colab_type": "text"
      },
      "source": [
        "## Exercise 4\n",
        "\n",
        "**Can an SVM classifier output a confidence score when it classifies an instance? What about a probability?**\n",
        "\n",
        "- SVM classifiers **cannot** output confidence scores or probabilities directly: by default, their output is always a class label. \n",
        "- SVMs can, however, output the distance between a test set instance and the decision boundary, which can be used as a confidence score.\n",
        "- Confidence score cannot be directly converted int oa probabilty.\n",
        "- In `sklearn`, if the `probability` argument is set to `True` when instantiating an `SVC`, the `SVC` will output a probability. But these probabilities will be derived using a `LogisticRegression` model which will have been using 5-fold cross validation on the training set, and will drastically slow down training. "
      ]
    },
    {
      "cell_type": "markdown",
      "metadata": {
        "id": "utAT26-fHbuK",
        "colab_type": "text"
      },
      "source": [
        "## Exercise 5 \n",
        "\n",
        "Should you use the primal or dual form of the SVM problem to train a model on a training set with `m` = 1M instances, and `n` = 100s of features?\n",
        "\n",
        "When the number of features `n` is much larger than the number of instances `m`, it is more computationally efficient to use the **primal** form of the SVM.\n",
        "\n",
        "This is because the primal form has approximate complexity of $\\mathcal{O}(m)$, whereas the dual form has a time complexity between $\\mathcal{O}(m^2 \\times n)$ and $\\mathcal{O}(m^3 \\times n)$. \n",
        "\n",
        "This only applies to Linear SVCs. Kernelized SVCs can only use the dual form."
      ]
    },
    {
      "cell_type": "markdown",
      "metadata": {
        "id": "_z2TODdnIA4J",
        "colab_type": "text"
      },
      "source": [
        "## Exercise 6  \n",
        "\n",
        "**Say you trained an SVM using the RBF kernel. It seems to underfit the training set. Should you increase or decrease `gamma`? What about `C`?\n",
        "\n",
        "Too much regularization.\n",
        "- Increase `C`\n",
        "- Increase `gamma`"
      ]
    }
  ]
}