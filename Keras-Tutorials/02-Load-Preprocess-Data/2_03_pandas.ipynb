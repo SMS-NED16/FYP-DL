{
  "nbformat": 4,
  "nbformat_minor": 0,
  "metadata": {
    "colab": {
      "name": "2_03_pandas.ipynb",
      "provenance": [],
      "collapsed_sections": []
    },
    "kernelspec": {
      "name": "python3",
      "display_name": "Python 3"
    }
  },
  "cells": [
    {
      "cell_type": "markdown",
      "metadata": {
        "id": "uzKn2AvzHc6y",
        "colab_type": "text"
      },
      "source": [
        "# TensorFlow Tutorials\n",
        "# Load and Preprocess Data 03 - `pandas`\n",
        "\n",
        "Loading `pandas` dataframes into a `tensorflow.data.Data` objects. Uses a small dataset provided by the Cleveland Clinic Foundation. The dataset is a CSV: each row describes a patient and each column describes an attribute. \n",
        "\n",
        "Going to use the loaded data to perform binary classification (heart disease prediction)."
      ]
    },
    {
      "cell_type": "markdown",
      "metadata": {
        "id": "wFwX9WnMHyXv",
        "colab_type": "text"
      },
      "source": [
        "## Preparing Workspace"
      ]
    },
    {
      "cell_type": "code",
      "metadata": {
        "id": "bHwQtMv0H0qO",
        "colab_type": "code",
        "colab": {}
      },
      "source": [
        "from __future__ import absolute_import, division, print_function, unicode_literals\n",
        "\n",
        "import pandas as pd\n",
        "import tensorflow as tf\n",
        "\n",
        "# Need to enable eager execution for reading from iterator later on\n",
        "tf.enable_eager_execution()"
      ],
      "execution_count": 0,
      "outputs": []
    },
    {
      "cell_type": "code",
      "metadata": {
        "id": "btdZrNRsH5rJ",
        "colab_type": "code",
        "colab": {}
      },
      "source": [
        "# Instead of defining filepath and then using `get_file`, doing it with overloaded call\n",
        "csv_file = tf.keras.utils.get_file('heart.csv', \n",
        "                         'https://storage.googleapis.com/applied-dl/heart.csv')"
      ],
      "execution_count": 0,
      "outputs": []
    },
    {
      "cell_type": "markdown",
      "metadata": {
        "id": "AeAsviR1Ifpz",
        "colab_type": "text"
      },
      "source": [
        "## Data Exploration"
      ]
    },
    {
      "cell_type": "code",
      "metadata": {
        "id": "i3V8G6rNIPIP",
        "colab_type": "code",
        "colab": {}
      },
      "source": [
        "# Read the dataset into a `pandas` dataframe using the `read_csv` function\n",
        "df = pd.read_csv(csv_file)"
      ],
      "execution_count": 0,
      "outputs": []
    },
    {
      "cell_type": "code",
      "metadata": {
        "id": "JCtAYUCAIWkX",
        "colab_type": "code",
        "outputId": "a5a8cf67-a5b4-40c8-f4b8-c8abd9907ba3",
        "colab": {
          "base_uri": "https://localhost:8080/",
          "height": 224
        }
      },
      "source": [
        "# Examine the first five rows of the dataset\n",
        "df.head()"
      ],
      "execution_count": 4,
      "outputs": [
        {
          "output_type": "execute_result",
          "data": {
            "text/html": [
              "<div>\n",
              "<style scoped>\n",
              "    .dataframe tbody tr th:only-of-type {\n",
              "        vertical-align: middle;\n",
              "    }\n",
              "\n",
              "    .dataframe tbody tr th {\n",
              "        vertical-align: top;\n",
              "    }\n",
              "\n",
              "    .dataframe thead th {\n",
              "        text-align: right;\n",
              "    }\n",
              "</style>\n",
              "<table border=\"1\" class=\"dataframe\">\n",
              "  <thead>\n",
              "    <tr style=\"text-align: right;\">\n",
              "      <th></th>\n",
              "      <th>age</th>\n",
              "      <th>sex</th>\n",
              "      <th>cp</th>\n",
              "      <th>trestbps</th>\n",
              "      <th>chol</th>\n",
              "      <th>fbs</th>\n",
              "      <th>restecg</th>\n",
              "      <th>thalach</th>\n",
              "      <th>exang</th>\n",
              "      <th>oldpeak</th>\n",
              "      <th>slope</th>\n",
              "      <th>ca</th>\n",
              "      <th>thal</th>\n",
              "      <th>target</th>\n",
              "    </tr>\n",
              "  </thead>\n",
              "  <tbody>\n",
              "    <tr>\n",
              "      <th>0</th>\n",
              "      <td>63</td>\n",
              "      <td>1</td>\n",
              "      <td>1</td>\n",
              "      <td>145</td>\n",
              "      <td>233</td>\n",
              "      <td>1</td>\n",
              "      <td>2</td>\n",
              "      <td>150</td>\n",
              "      <td>0</td>\n",
              "      <td>2.3</td>\n",
              "      <td>3</td>\n",
              "      <td>0</td>\n",
              "      <td>fixed</td>\n",
              "      <td>0</td>\n",
              "    </tr>\n",
              "    <tr>\n",
              "      <th>1</th>\n",
              "      <td>67</td>\n",
              "      <td>1</td>\n",
              "      <td>4</td>\n",
              "      <td>160</td>\n",
              "      <td>286</td>\n",
              "      <td>0</td>\n",
              "      <td>2</td>\n",
              "      <td>108</td>\n",
              "      <td>1</td>\n",
              "      <td>1.5</td>\n",
              "      <td>2</td>\n",
              "      <td>3</td>\n",
              "      <td>normal</td>\n",
              "      <td>1</td>\n",
              "    </tr>\n",
              "    <tr>\n",
              "      <th>2</th>\n",
              "      <td>67</td>\n",
              "      <td>1</td>\n",
              "      <td>4</td>\n",
              "      <td>120</td>\n",
              "      <td>229</td>\n",
              "      <td>0</td>\n",
              "      <td>2</td>\n",
              "      <td>129</td>\n",
              "      <td>1</td>\n",
              "      <td>2.6</td>\n",
              "      <td>2</td>\n",
              "      <td>2</td>\n",
              "      <td>reversible</td>\n",
              "      <td>0</td>\n",
              "    </tr>\n",
              "    <tr>\n",
              "      <th>3</th>\n",
              "      <td>37</td>\n",
              "      <td>1</td>\n",
              "      <td>3</td>\n",
              "      <td>130</td>\n",
              "      <td>250</td>\n",
              "      <td>0</td>\n",
              "      <td>0</td>\n",
              "      <td>187</td>\n",
              "      <td>0</td>\n",
              "      <td>3.5</td>\n",
              "      <td>3</td>\n",
              "      <td>0</td>\n",
              "      <td>normal</td>\n",
              "      <td>0</td>\n",
              "    </tr>\n",
              "    <tr>\n",
              "      <th>4</th>\n",
              "      <td>41</td>\n",
              "      <td>0</td>\n",
              "      <td>2</td>\n",
              "      <td>130</td>\n",
              "      <td>204</td>\n",
              "      <td>0</td>\n",
              "      <td>2</td>\n",
              "      <td>172</td>\n",
              "      <td>0</td>\n",
              "      <td>1.4</td>\n",
              "      <td>1</td>\n",
              "      <td>0</td>\n",
              "      <td>normal</td>\n",
              "      <td>0</td>\n",
              "    </tr>\n",
              "  </tbody>\n",
              "</table>\n",
              "</div>"
            ],
            "text/plain": [
              "   age  sex  cp  trestbps  chol  ...  oldpeak  slope  ca        thal  target\n",
              "0   63    1   1       145   233  ...      2.3      3   0       fixed       0\n",
              "1   67    1   4       160   286  ...      1.5      2   3      normal       1\n",
              "2   67    1   4       120   229  ...      2.6      2   2  reversible       0\n",
              "3   37    1   3       130   250  ...      3.5      3   0      normal       0\n",
              "4   41    0   2       130   204  ...      1.4      1   0      normal       0\n",
              "\n",
              "[5 rows x 14 columns]"
            ]
          },
          "metadata": {
            "tags": []
          },
          "execution_count": 4
        }
      ]
    },
    {
      "cell_type": "code",
      "metadata": {
        "id": "1kZ4aT1EIZdw",
        "colab_type": "code",
        "outputId": "ce258d8e-bb19-430c-abcb-9a8e92aa035f",
        "colab": {
          "base_uri": "https://localhost:8080/",
          "height": 272
        }
      },
      "source": [
        "# Display the data types of each column (feature) in the dataset\n",
        "df.dtypes"
      ],
      "execution_count": 5,
      "outputs": [
        {
          "output_type": "execute_result",
          "data": {
            "text/plain": [
              "age           int64\n",
              "sex           int64\n",
              "cp            int64\n",
              "trestbps      int64\n",
              "chol          int64\n",
              "fbs           int64\n",
              "restecg       int64\n",
              "thalach       int64\n",
              "exang         int64\n",
              "oldpeak     float64\n",
              "slope         int64\n",
              "ca            int64\n",
              "thal         object\n",
              "target        int64\n",
              "dtype: object"
            ]
          },
          "metadata": {
            "tags": []
          },
          "execution_count": 5
        }
      ]
    },
    {
      "cell_type": "code",
      "metadata": {
        "id": "A3Ik1vJNInAJ",
        "colab_type": "code",
        "colab": {}
      },
      "source": [
        "# One-hot encoding of a a categorical variable to numeric one\n",
        "df['thal'] = pd.Categorical(df['thal']) # in place "
      ],
      "execution_count": 0,
      "outputs": []
    },
    {
      "cell_type": "code",
      "metadata": {
        "id": "GCQW5YVWIzuW",
        "colab_type": "code",
        "colab": {}
      },
      "source": [
        "# Change the categorical data to numerical codes\n",
        "df['thal'] = df.thal.cat.codes"
      ],
      "execution_count": 0,
      "outputs": []
    },
    {
      "cell_type": "code",
      "metadata": {
        "id": "S-beDZ_8I0eE",
        "colab_type": "code",
        "outputId": "4a86ce87-670f-4e4d-d6da-95745bfd1d6e",
        "colab": {
          "base_uri": "https://localhost:8080/",
          "height": 224
        }
      },
      "source": [
        "# Now check the dataset - each possible category of `thal` has been encoded with a digit\n",
        "df.head()"
      ],
      "execution_count": 8,
      "outputs": [
        {
          "output_type": "execute_result",
          "data": {
            "text/html": [
              "<div>\n",
              "<style scoped>\n",
              "    .dataframe tbody tr th:only-of-type {\n",
              "        vertical-align: middle;\n",
              "    }\n",
              "\n",
              "    .dataframe tbody tr th {\n",
              "        vertical-align: top;\n",
              "    }\n",
              "\n",
              "    .dataframe thead th {\n",
              "        text-align: right;\n",
              "    }\n",
              "</style>\n",
              "<table border=\"1\" class=\"dataframe\">\n",
              "  <thead>\n",
              "    <tr style=\"text-align: right;\">\n",
              "      <th></th>\n",
              "      <th>age</th>\n",
              "      <th>sex</th>\n",
              "      <th>cp</th>\n",
              "      <th>trestbps</th>\n",
              "      <th>chol</th>\n",
              "      <th>fbs</th>\n",
              "      <th>restecg</th>\n",
              "      <th>thalach</th>\n",
              "      <th>exang</th>\n",
              "      <th>oldpeak</th>\n",
              "      <th>slope</th>\n",
              "      <th>ca</th>\n",
              "      <th>thal</th>\n",
              "      <th>target</th>\n",
              "    </tr>\n",
              "  </thead>\n",
              "  <tbody>\n",
              "    <tr>\n",
              "      <th>0</th>\n",
              "      <td>63</td>\n",
              "      <td>1</td>\n",
              "      <td>1</td>\n",
              "      <td>145</td>\n",
              "      <td>233</td>\n",
              "      <td>1</td>\n",
              "      <td>2</td>\n",
              "      <td>150</td>\n",
              "      <td>0</td>\n",
              "      <td>2.3</td>\n",
              "      <td>3</td>\n",
              "      <td>0</td>\n",
              "      <td>2</td>\n",
              "      <td>0</td>\n",
              "    </tr>\n",
              "    <tr>\n",
              "      <th>1</th>\n",
              "      <td>67</td>\n",
              "      <td>1</td>\n",
              "      <td>4</td>\n",
              "      <td>160</td>\n",
              "      <td>286</td>\n",
              "      <td>0</td>\n",
              "      <td>2</td>\n",
              "      <td>108</td>\n",
              "      <td>1</td>\n",
              "      <td>1.5</td>\n",
              "      <td>2</td>\n",
              "      <td>3</td>\n",
              "      <td>3</td>\n",
              "      <td>1</td>\n",
              "    </tr>\n",
              "    <tr>\n",
              "      <th>2</th>\n",
              "      <td>67</td>\n",
              "      <td>1</td>\n",
              "      <td>4</td>\n",
              "      <td>120</td>\n",
              "      <td>229</td>\n",
              "      <td>0</td>\n",
              "      <td>2</td>\n",
              "      <td>129</td>\n",
              "      <td>1</td>\n",
              "      <td>2.6</td>\n",
              "      <td>2</td>\n",
              "      <td>2</td>\n",
              "      <td>4</td>\n",
              "      <td>0</td>\n",
              "    </tr>\n",
              "    <tr>\n",
              "      <th>3</th>\n",
              "      <td>37</td>\n",
              "      <td>1</td>\n",
              "      <td>3</td>\n",
              "      <td>130</td>\n",
              "      <td>250</td>\n",
              "      <td>0</td>\n",
              "      <td>0</td>\n",
              "      <td>187</td>\n",
              "      <td>0</td>\n",
              "      <td>3.5</td>\n",
              "      <td>3</td>\n",
              "      <td>0</td>\n",
              "      <td>3</td>\n",
              "      <td>0</td>\n",
              "    </tr>\n",
              "    <tr>\n",
              "      <th>4</th>\n",
              "      <td>41</td>\n",
              "      <td>0</td>\n",
              "      <td>2</td>\n",
              "      <td>130</td>\n",
              "      <td>204</td>\n",
              "      <td>0</td>\n",
              "      <td>2</td>\n",
              "      <td>172</td>\n",
              "      <td>0</td>\n",
              "      <td>1.4</td>\n",
              "      <td>1</td>\n",
              "      <td>0</td>\n",
              "      <td>3</td>\n",
              "      <td>0</td>\n",
              "    </tr>\n",
              "  </tbody>\n",
              "</table>\n",
              "</div>"
            ],
            "text/plain": [
              "   age  sex  cp  trestbps  chol  fbs  ...  exang  oldpeak  slope  ca  thal  target\n",
              "0   63    1   1       145   233    1  ...      0      2.3      3   0     2       0\n",
              "1   67    1   4       160   286    0  ...      1      1.5      2   3     3       1\n",
              "2   67    1   4       120   229    0  ...      1      2.6      2   2     4       0\n",
              "3   37    1   3       130   250    0  ...      0      3.5      3   0     3       0\n",
              "4   41    0   2       130   204    0  ...      0      1.4      1   0     3       0\n",
              "\n",
              "[5 rows x 14 columns]"
            ]
          },
          "metadata": {
            "tags": []
          },
          "execution_count": 8
        }
      ]
    },
    {
      "cell_type": "markdown",
      "metadata": {
        "id": "umuBuv3QJDBw",
        "colab_type": "text"
      },
      "source": [
        "## Using `tf.data.Dataset`\n",
        "\n",
        "We can also use a dataset to read into a `tf.data.Dataset` to create a better, more efficient data pipeline. "
      ]
    },
    {
      "cell_type": "code",
      "metadata": {
        "id": "PONvzHkxJ1fd",
        "colab_type": "code",
        "colab": {}
      },
      "source": [
        "# Extract the column with labels/target - what we're trying to predict\n",
        "target = df.pop('target')"
      ],
      "execution_count": 0,
      "outputs": []
    },
    {
      "cell_type": "code",
      "metadata": {
        "id": "FSwdYRTWJ7zq",
        "colab_type": "code",
        "colab": {}
      },
      "source": [
        "# Again, use `from_tensor_slices` to read in data and labels as tuples of NumPy tensors\n",
        "# Calling .values on a dataframe returns NumPy tensors\n",
        "dataset = tf.data.Dataset.from_tensor_slices((df.values, target.values))"
      ],
      "execution_count": 0,
      "outputs": []
    },
    {
      "cell_type": "code",
      "metadata": {
        "id": "o6NLVtuMKPpF",
        "colab_type": "code",
        "outputId": "5ec532f2-d09e-4fb9-9e56-14a395360909",
        "colab": {
          "base_uri": "https://localhost:8080/",
          "height": 207
        }
      },
      "source": [
        "for feat, targ in dataset.take(5):\n",
        "  print ('Features: {}, Target: {}'.format(feat, targ))"
      ],
      "execution_count": 11,
      "outputs": [
        {
          "output_type": "stream",
          "text": [
            "Features: [ 63.    1.    1.  145.  233.    1.    2.  150.    0.    2.3   3.    0.\n",
            "   2. ], Target: 0\n",
            "Features: [ 67.    1.    4.  160.  286.    0.    2.  108.    1.    1.5   2.    3.\n",
            "   3. ], Target: 1\n",
            "Features: [ 67.    1.    4.  120.  229.    0.    2.  129.    1.    2.6   2.    2.\n",
            "   4. ], Target: 0\n",
            "Features: [ 37.    1.    3.  130.  250.    0.    0.  187.    0.    3.5   3.    0.\n",
            "   3. ], Target: 0\n",
            "Features: [ 41.    0.    2.  130.  204.    0.    2.  172.    0.    1.4   1.    0.\n",
            "   3. ], Target: 0\n"
          ],
          "name": "stdout"
        }
      ]
    },
    {
      "cell_type": "markdown",
      "metadata": {
        "id": "2D2dQZBmKfeA",
        "colab_type": "text"
      },
      "source": [
        "Why did enabling eager execution bypass the infinite loop of the iterator? "
      ]
    },
    {
      "cell_type": "code",
      "metadata": {
        "id": "bOBPHqLBM5JX",
        "colab_type": "code",
        "colab": {
          "base_uri": "https://localhost:8080/",
          "height": 292
        },
        "outputId": "f8d0fe32-4f37-4863-f982-c80191d88dc3"
      },
      "source": [
        "# pd.Series (a column) can be used wherever a tf.Tensor or np.array can\n",
        "# Because all three implement the __array__ protocol\n",
        "tf.constant(df['thal'])"
      ],
      "execution_count": 12,
      "outputs": [
        {
          "output_type": "execute_result",
          "data": {
            "text/plain": [
              "<tf.Tensor: id=31, shape=(303,), dtype=int32, numpy=\n",
              "array([2, 3, 4, 3, 3, 3, 3, 3, 4, 4, 2, 3, 2, 4, 4, 3, 4, 3, 3, 3, 3, 3,\n",
              "       3, 4, 4, 3, 3, 3, 3, 4, 3, 4, 3, 4, 3, 3, 4, 2, 4, 3, 4, 3, 4, 4,\n",
              "       2, 3, 3, 4, 3, 3, 4, 3, 3, 3, 4, 3, 3, 3, 3, 3, 3, 4, 4, 3, 3, 4,\n",
              "       4, 2, 3, 3, 4, 3, 4, 3, 3, 4, 4, 3, 3, 4, 4, 3, 3, 3, 3, 4, 4, 4,\n",
              "       3, 3, 4, 3, 4, 4, 3, 4, 3, 3, 3, 4, 3, 4, 4, 3, 3, 4, 4, 4, 4, 4,\n",
              "       3, 3, 3, 3, 4, 3, 4, 3, 4, 4, 3, 3, 2, 4, 4, 2, 3, 3, 4, 4, 3, 4,\n",
              "       3, 3, 4, 2, 4, 4, 3, 4, 3, 3, 3, 3, 3, 3, 3, 3, 3, 4, 4, 4, 4, 4,\n",
              "       4, 3, 3, 3, 4, 3, 4, 3, 4, 3, 3, 3, 3, 3, 3, 3, 4, 3, 3, 3, 3, 3,\n",
              "       3, 3, 3, 3, 3, 3, 3, 4, 4, 3, 3, 3, 3, 3, 3, 3, 3, 4, 3, 4, 3, 2,\n",
              "       4, 4, 3, 3, 3, 3, 3, 3, 4, 3, 3, 3, 3, 3, 2, 2, 4, 3, 4, 2, 4, 3,\n",
              "       3, 4, 3, 3, 3, 3, 4, 3, 4, 3, 4, 2, 2, 4, 3, 4, 3, 2, 4, 3, 3, 2,\n",
              "       4, 4, 4, 4, 3, 0, 3, 3, 3, 3, 1, 4, 3, 3, 3, 4, 3, 4, 3, 3, 3, 4,\n",
              "       3, 3, 4, 4, 4, 4, 3, 3, 4, 3, 4, 3, 4, 4, 3, 4, 4, 3, 4, 4, 3, 3,\n",
              "       3, 3, 3, 3, 4, 4, 4, 4, 4, 4, 4, 3, 2, 4, 4, 4, 4], dtype=int32)>"
            ]
          },
          "metadata": {
            "tags": []
          },
          "execution_count": 12
        }
      ]
    },
    {
      "cell_type": "code",
      "metadata": {
        "id": "Yql5bBoiNHj2",
        "colab_type": "code",
        "colab": {}
      },
      "source": [
        "# Shuffle the dataset and divide it into batches\n",
        "train_dataset = dataset.shuffle(len(df)).batch(1)"
      ],
      "execution_count": 0,
      "outputs": []
    },
    {
      "cell_type": "markdown",
      "metadata": {
        "id": "bAJyhcraNNpE",
        "colab_type": "text"
      },
      "source": [
        "## Create and Train a Model"
      ]
    },
    {
      "cell_type": "code",
      "metadata": {
        "id": "UYx04XCbNPra",
        "colab_type": "code",
        "colab": {}
      },
      "source": [
        "def get_compiled_model():\n",
        "  # Instantiate\n",
        "  model = tf.keras.Sequential([\n",
        "      tf.keras.layers.Dense(10, activation='relu'),\n",
        "      tf.keras.layers.Dense(10, activation='relu'),\n",
        "      tf.keras.layers.Dense(1, activation='sigmoid')\n",
        "  ])\n",
        "  \n",
        "  # Compile\n",
        "  model.compile(optimizer='adam', loss='binary_crossentropy', metrics=['accuracy'])\n",
        "  \n",
        "  # Return\n",
        "  return model"
      ],
      "execution_count": 0,
      "outputs": []
    },
    {
      "cell_type": "code",
      "metadata": {
        "id": "jJTD6YoZNg9D",
        "colab_type": "code",
        "colab": {
          "base_uri": "https://localhost:8080/",
          "height": 615
        },
        "outputId": "4ba0802b-f042-4d9b-8c08-e76be210be6f"
      },
      "source": [
        "# Reference to instantiated model\n",
        "model = get_compiled_model()\n",
        "\n",
        "# Train\n",
        "model.fit(train_dataset, epochs=15)"
      ],
      "execution_count": 16,
      "outputs": [
        {
          "output_type": "stream",
          "text": [
            "Epoch 1/15\n",
            "WARNING:tensorflow:From /usr/local/lib/python3.6/dist-packages/tensorflow/python/ops/math_grad.py:1250: add_dispatch_support.<locals>.wrapper (from tensorflow.python.ops.array_ops) is deprecated and will be removed in a future version.\n",
            "Instructions for updating:\n",
            "Use tf.where in 2.0, which has the same broadcast rule as np.where\n",
            "303/303 [==============================] - 2s 6ms/step - loss: 3.1715 - acc: 0.6410\n",
            "Epoch 2/15\n",
            "303/303 [==============================] - 1s 2ms/step - loss: 2.7627 - acc: 0.6557\n",
            "Epoch 3/15\n",
            "303/303 [==============================] - 1s 2ms/step - loss: 2.2972 - acc: 0.7126\n",
            "Epoch 4/15\n",
            "303/303 [==============================] - 1s 2ms/step - loss: 1.8719 - acc: 0.7372\n",
            "Epoch 5/15\n",
            "303/303 [==============================] - 1s 2ms/step - loss: 1.4248 - acc: 0.7454\n",
            "Epoch 6/15\n",
            "303/303 [==============================] - 1s 2ms/step - loss: 1.1120 - acc: 0.7580\n",
            "Epoch 7/15\n",
            "303/303 [==============================] - 1s 2ms/step - loss: 0.8995 - acc: 0.7576\n",
            "Epoch 8/15\n",
            "303/303 [==============================] - 1s 2ms/step - loss: 0.7550 - acc: 0.7738\n",
            "Epoch 9/15\n",
            "303/303 [==============================] - 1s 2ms/step - loss: 0.6518 - acc: 0.7937\n",
            "Epoch 10/15\n",
            "303/303 [==============================] - 1s 2ms/step - loss: 0.5855 - acc: 0.8209\n",
            "Epoch 11/15\n",
            "303/303 [==============================] - 1s 2ms/step - loss: 0.5443 - acc: 0.8165\n",
            "Epoch 12/15\n",
            "303/303 [==============================] - 1s 2ms/step - loss: 0.5183 - acc: 0.8219\n",
            "Epoch 13/15\n",
            "303/303 [==============================] - 1s 2ms/step - loss: 0.5008 - acc: 0.8237\n",
            "Epoch 14/15\n",
            "303/303 [==============================] - 1s 2ms/step - loss: 0.4880 - acc: 0.8246\n",
            "Epoch 15/15\n",
            "303/303 [==============================] - 1s 2ms/step - loss: 0.4778 - acc: 0.8178\n"
          ],
          "name": "stdout"
        },
        {
          "output_type": "execute_result",
          "data": {
            "text/plain": [
              "<tensorflow.python.keras.callbacks.History at 0x7f2231ac05f8>"
            ]
          },
          "metadata": {
            "tags": []
          },
          "execution_count": 16
        }
      ]
    },
    {
      "cell_type": "markdown",
      "metadata": {
        "id": "EZsUEuNGNu_I",
        "colab_type": "text"
      },
      "source": [
        "## Alternative to Feature Columns\n",
        "Instead of passing individual feature columns from a `pandas` dataframe into the neural network, we can also use a "
      ]
    },
    {
      "cell_type": "code",
      "metadata": {
        "id": "XD8_amJrOx13",
        "colab_type": "code",
        "colab": {
          "base_uri": "https://localhost:8080/",
          "height": 88
        },
        "outputId": "006e4e2b-4493-4517-d64f-4efda9471832"
      },
      "source": [
        "# df.keys() is a list of column names\n",
        "df.keys()\n",
        "\n",
        "# "
      ],
      "execution_count": 17,
      "outputs": [
        {
          "output_type": "execute_result",
          "data": {
            "text/plain": [
              "Index(['age', 'sex', 'cp', 'trestbps', 'chol', 'fbs', 'restecg', 'thalach',\n",
              "       'exang', 'oldpeak', 'slope', 'ca', 'thal'],\n",
              "      dtype='object')"
            ]
          },
          "metadata": {
            "tags": []
          },
          "execution_count": 17
        }
      ]
    },
    {
      "cell_type": "code",
      "metadata": {
        "id": "8npQDEd_OCbn",
        "colab_type": "code",
        "colab": {}
      },
      "source": [
        "# Create a dictionary of inputs where the key is name of the column and the value is a\n",
        "# keras `Input` instance of arbitrary dimensions (unspecified - accepts all dimensions)\n",
        "inputs = {key: tf.keras.layers.Input(shape=(), name=key) for key in df.keys()}"
      ],
      "execution_count": 0,
      "outputs": []
    },
    {
      "cell_type": "code",
      "metadata": {
        "id": "uge6R4VUO9Rj",
        "colab_type": "code",
        "colab": {
          "base_uri": "https://localhost:8080/",
          "height": 238
        },
        "outputId": "b2f46b6e-58a3-4b14-e030-0a8fe51e7d77"
      },
      "source": [
        "# Check\n",
        "inputs"
      ],
      "execution_count": 21,
      "outputs": [
        {
          "output_type": "execute_result",
          "data": {
            "text/plain": [
              "{'age': <tf.Tensor 'age_1:0' shape=(?,) dtype=float32>,\n",
              " 'ca': <tf.Tensor 'ca_1:0' shape=(?,) dtype=float32>,\n",
              " 'chol': <tf.Tensor 'chol_1:0' shape=(?,) dtype=float32>,\n",
              " 'cp': <tf.Tensor 'cp_1:0' shape=(?,) dtype=float32>,\n",
              " 'exang': <tf.Tensor 'exang_1:0' shape=(?,) dtype=float32>,\n",
              " 'fbs': <tf.Tensor 'fbs_1:0' shape=(?,) dtype=float32>,\n",
              " 'oldpeak': <tf.Tensor 'oldpeak_1:0' shape=(?,) dtype=float32>,\n",
              " 'restecg': <tf.Tensor 'restecg_1:0' shape=(?,) dtype=float32>,\n",
              " 'sex': <tf.Tensor 'sex_1:0' shape=(?,) dtype=float32>,\n",
              " 'slope': <tf.Tensor 'slope_1:0' shape=(?,) dtype=float32>,\n",
              " 'thal': <tf.Tensor 'thal_1:0' shape=(?,) dtype=float32>,\n",
              " 'thalach': <tf.Tensor 'thalach_1:0' shape=(?,) dtype=float32>,\n",
              " 'trestbps': <tf.Tensor 'trestbps_1:0' shape=(?,) dtype=float32>}"
            ]
          },
          "metadata": {
            "tags": []
          },
          "execution_count": 21
        }
      ]
    },
    {
      "cell_type": "code",
      "metadata": {
        "id": "__OmGPWmO_oA",
        "colab_type": "code",
        "colab": {}
      },
      "source": [
        "# Now use the `stack` function to extract values for these columns as a tensor\n",
        "x = tf.stack(list(inputs.values()), axis=-1)"
      ],
      "execution_count": 0,
      "outputs": []
    },
    {
      "cell_type": "code",
      "metadata": {
        "id": "y2Kzu7ibPTT_",
        "colab_type": "code",
        "colab": {}
      },
      "source": [
        "# In the functional API, we make layers and pass individual tensors to them\n",
        "x = tf.keras.layers.Dense(10, activation='relu')(x)"
      ],
      "execution_count": 0,
      "outputs": []
    },
    {
      "cell_type": "code",
      "metadata": {
        "id": "OQCUc6xFPURg",
        "colab_type": "code",
        "colab": {}
      },
      "source": [
        "#  Output is the result of passing the activations of the previous layer to a new layer\n",
        "outputs = tf.keras.layers.Dense(1, activation='sigmoid')(x)"
      ],
      "execution_count": 0,
      "outputs": []
    },
    {
      "cell_type": "code",
      "metadata": {
        "id": "Oo7SqhvdPiKD",
        "colab_type": "code",
        "colab": {}
      },
      "source": [
        "# We don't create a model. We use the I/Os to learn a model cost function\n",
        "model_func = tf.keras.Model(inputs=inputs, outputs=outputs)"
      ],
      "execution_count": 0,
      "outputs": []
    },
    {
      "cell_type": "code",
      "metadata": {
        "id": "XIMdr6iMPshs",
        "colab_type": "code",
        "colab": {}
      },
      "source": [
        "# Optimise \n",
        "model_func.compile(optimizer='adam', loss='binary_crossentropy', metrics=['accuracy'])"
      ],
      "execution_count": 0,
      "outputs": []
    },
    {
      "cell_type": "code",
      "metadata": {
        "id": "5clmVSImPzdu",
        "colab_type": "code",
        "colab": {}
      },
      "source": [
        "# Preserve the column structure of the DataFrame: convert df to dict, slice that \n",
        "dict_slices = tf.data.Dataset.from_tensor_slices((df.to_dict('list'), target.values)).batch(16)"
      ],
      "execution_count": 0,
      "outputs": []
    },
    {
      "cell_type": "code",
      "metadata": {
        "id": "39gzTSLKQFhp",
        "colab_type": "code",
        "colab": {
          "base_uri": "https://localhost:8080/",
          "height": 224
        },
        "outputId": "bb7fd6bb-d9b2-46f6-9735-f14d097bfa83"
      },
      "source": [
        "for dict_slice in dict_slices.take(1):\n",
        "  print(dict_slice)"
      ],
      "execution_count": 33,
      "outputs": [
        {
          "output_type": "stream",
          "text": [
            "({'age': <tf.Tensor: id=51247, shape=(16,), dtype=int32, numpy=\n",
            "array([63, 67, 67, 37, 41, 56, 62, 57, 63, 53, 57, 56, 56, 44, 52, 57],\n",
            "      dtype=int32)>, 'sex': <tf.Tensor: id=51255, shape=(16,), dtype=int32, numpy=array([1, 1, 1, 1, 0, 1, 0, 0, 1, 1, 1, 0, 1, 1, 1, 1], dtype=int32)>, 'cp': <tf.Tensor: id=51250, shape=(16,), dtype=int32, numpy=array([1, 4, 4, 3, 2, 2, 4, 4, 4, 4, 4, 2, 3, 2, 3, 3], dtype=int32)>, 'trestbps': <tf.Tensor: id=51259, shape=(16,), dtype=int32, numpy=\n",
            "array([145, 160, 120, 130, 130, 120, 140, 120, 130, 140, 140, 140, 130,\n",
            "       120, 172, 150], dtype=int32)>, 'chol': <tf.Tensor: id=51249, shape=(16,), dtype=int32, numpy=\n",
            "array([233, 286, 229, 250, 204, 236, 268, 354, 254, 203, 192, 294, 256,\n",
            "       263, 199, 168], dtype=int32)>, 'fbs': <tf.Tensor: id=51252, shape=(16,), dtype=int32, numpy=array([1, 0, 0, 0, 0, 0, 0, 0, 0, 1, 0, 0, 1, 0, 1, 0], dtype=int32)>, 'restecg': <tf.Tensor: id=51254, shape=(16,), dtype=int32, numpy=array([2, 2, 2, 0, 2, 0, 2, 0, 2, 2, 0, 2, 2, 0, 0, 0], dtype=int32)>, 'thalach': <tf.Tensor: id=51258, shape=(16,), dtype=int32, numpy=\n",
            "array([150, 108, 129, 187, 172, 178, 160, 163, 147, 155, 148, 153, 142,\n",
            "       173, 162, 174], dtype=int32)>, 'exang': <tf.Tensor: id=51251, shape=(16,), dtype=int32, numpy=array([0, 1, 1, 0, 0, 0, 0, 1, 0, 1, 0, 0, 1, 0, 0, 0], dtype=int32)>, 'oldpeak': <tf.Tensor: id=51253, shape=(16,), dtype=float32, numpy=\n",
            "array([2.3, 1.5, 2.6, 3.5, 1.4, 0.8, 3.6, 0.6, 1.4, 3.1, 0.4, 1.3, 0.6,\n",
            "       0. , 0.5, 1.6], dtype=float32)>, 'slope': <tf.Tensor: id=51256, shape=(16,), dtype=int32, numpy=array([3, 2, 2, 3, 1, 1, 3, 1, 2, 3, 2, 2, 2, 1, 1, 1], dtype=int32)>, 'ca': <tf.Tensor: id=51248, shape=(16,), dtype=int32, numpy=array([0, 3, 2, 0, 0, 0, 2, 0, 1, 0, 0, 0, 1, 0, 0, 0], dtype=int32)>, 'thal': <tf.Tensor: id=51257, shape=(16,), dtype=int32, numpy=array([2, 3, 4, 3, 3, 3, 3, 3, 4, 4, 2, 3, 2, 4, 4, 3], dtype=int32)>}, <tf.Tensor: id=51260, shape=(16,), dtype=int64, numpy=array([0, 1, 0, 0, 0, 0, 1, 0, 1, 0, 0, 0, 1, 0, 0, 0])>)\n"
          ],
          "name": "stdout"
        }
      ]
    },
    {
      "cell_type": "markdown",
      "metadata": {
        "id": "bDhDWF-rQM4w",
        "colab_type": "text"
      },
      "source": [
        "So by transforming the df to a dictionary and then slicing that dictionary using the `from_tensor_slices` function, we can preserve the dataframe structure. This means we don't have to create an Input layer using the keys of the dataframe like we did in the last few steps. "
      ]
    },
    {
      "cell_type": "code",
      "metadata": {
        "id": "HzdEApszQbno",
        "colab_type": "code",
        "colab": {
          "base_uri": "https://localhost:8080/",
          "height": 581
        },
        "outputId": "1796abc2-a53e-4462-efc2-1b3896415bae"
      },
      "source": [
        "model_func.fit(dict_slices, epochs=15)"
      ],
      "execution_count": 34,
      "outputs": [
        {
          "output_type": "stream",
          "text": [
            "WARNING:tensorflow:Expected a shuffled dataset but input dataset `x` is not shuffled. Please invoke `shuffle()` on input dataset.\n",
            "Epoch 1/15\n",
            "19/19 [==============================] - 1s 33ms/step - loss: 4.2378 - acc: 0.7261\n",
            "Epoch 2/15\n",
            "19/19 [==============================] - 0s 4ms/step - loss: 4.2378 - acc: 0.7261\n",
            "Epoch 3/15\n",
            "19/19 [==============================] - 0s 3ms/step - loss: 4.2378 - acc: 0.7261\n",
            "Epoch 4/15\n",
            "19/19 [==============================] - 0s 3ms/step - loss: 4.2378 - acc: 0.7261\n",
            "Epoch 5/15\n",
            "19/19 [==============================] - 0s 3ms/step - loss: 4.2378 - acc: 0.7261\n",
            "Epoch 6/15\n",
            "19/19 [==============================] - 0s 4ms/step - loss: 4.2378 - acc: 0.7261\n",
            "Epoch 7/15\n",
            "19/19 [==============================] - 0s 4ms/step - loss: 4.2378 - acc: 0.7261\n",
            "Epoch 8/15\n",
            "19/19 [==============================] - 0s 3ms/step - loss: 4.2378 - acc: 0.7261\n",
            "Epoch 9/15\n",
            "19/19 [==============================] - 0s 3ms/step - loss: 4.2378 - acc: 0.7261\n",
            "Epoch 10/15\n",
            "19/19 [==============================] - 0s 4ms/step - loss: 4.2378 - acc: 0.7261\n",
            "Epoch 11/15\n",
            "19/19 [==============================] - 0s 3ms/step - loss: 4.2378 - acc: 0.7261\n",
            "Epoch 12/15\n",
            "19/19 [==============================] - 0s 4ms/step - loss: 4.2378 - acc: 0.7261\n",
            "Epoch 13/15\n",
            "19/19 [==============================] - 0s 4ms/step - loss: 4.2378 - acc: 0.7261\n",
            "Epoch 14/15\n",
            "19/19 [==============================] - 0s 3ms/step - loss: 4.2378 - acc: 0.7261\n",
            "Epoch 15/15\n",
            "19/19 [==============================] - 0s 4ms/step - loss: 4.2378 - acc: 0.7261\n"
          ],
          "name": "stdout"
        },
        {
          "output_type": "execute_result",
          "data": {
            "text/plain": [
              "<tensorflow.python.keras.callbacks.History at 0x7f222b488fd0>"
            ]
          },
          "metadata": {
            "tags": []
          },
          "execution_count": 34
        }
      ]
    },
    {
      "cell_type": "markdown",
      "metadata": {
        "id": "1QHAdmzcQeqn",
        "colab_type": "text"
      },
      "source": [
        "Still works"
      ]
    }
  ]
}