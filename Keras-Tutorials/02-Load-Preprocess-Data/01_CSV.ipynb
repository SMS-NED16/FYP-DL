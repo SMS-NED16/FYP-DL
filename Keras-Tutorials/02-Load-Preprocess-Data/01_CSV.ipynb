{
  "nbformat": 4,
  "nbformat_minor": 0,
  "metadata": {
    "colab": {
      "name": "01_CSV.ipynb",
      "provenance": [],
      "collapsed_sections": []
    },
    "kernelspec": {
      "name": "python3",
      "display_name": "Python 3"
    }
  },
  "cells": [
    {
      "cell_type": "markdown",
      "metadata": {
        "id": "jiHe2RABmJTp",
        "colab_type": "text"
      },
      "source": [
        "# TensorFlow Tutorials\n",
        "# Load and Preprocess Data 01 - CSV\n",
        "\n",
        "Using the `titanic` dataset from Kaggle to demonstrate how to load and preprocess data from CSV (comma-separated value) files using `tensorflow` `csv_dataset` structures."
      ]
    },
    {
      "cell_type": "code",
      "metadata": {
        "id": "Y1noAfDEmaIO",
        "colab_type": "code",
        "outputId": "53f8f217-c4ac-42af-fc7a-131d4cafc494",
        "colab": {
          "base_uri": "https://localhost:8080/",
          "height": 34
        }
      },
      "source": [
        "try:\n",
        "  # %tensorflow_version only exists in CoLab\n",
        "  %tensorflow_version 2.x\n",
        "except Exception:\n",
        "  pass"
      ],
      "execution_count": 0,
      "outputs": [
        {
          "output_type": "stream",
          "text": [
            "TensorFlow 2.x selected.\n"
          ],
          "name": "stdout"
        }
      ]
    },
    {
      "cell_type": "code",
      "metadata": {
        "id": "cDSJ2RnFmgYp",
        "colab_type": "code",
        "colab": {}
      },
      "source": [
        "from __future__ import absolute_import, division, print_function, unicode_literals"
      ],
      "execution_count": 0,
      "outputs": []
    },
    {
      "cell_type": "code",
      "metadata": {
        "id": "ZCA1gfZPmlaF",
        "colab_type": "code",
        "colab": {}
      },
      "source": [
        "# functools is a library that allows us to use higher order functions\n",
        "# these are functions that can both take other functions as params and return them\n",
        "import functools"
      ],
      "execution_count": 0,
      "outputs": []
    },
    {
      "cell_type": "code",
      "metadata": {
        "id": "RWjIP5wImtIQ",
        "colab_type": "code",
        "outputId": "8a0f9964-0aa1-42a5-b63f-9e823663071f",
        "colab": {
          "base_uri": "https://localhost:8080/",
          "height": 34
        }
      },
      "source": [
        "import numpy as np\n",
        "import tensorflow as tf\n",
        "\n",
        "# Checking version\n",
        "print(tf.__version__)"
      ],
      "execution_count": 0,
      "outputs": [
        {
          "output_type": "stream",
          "text": [
            "2.0.0-rc1\n"
          ],
          "name": "stdout"
        }
      ]
    },
    {
      "cell_type": "markdown",
      "metadata": {
        "id": "4Ga7Su_ymwpQ",
        "colab_type": "text"
      },
      "source": [
        "## Loading Data\n",
        "Data is stored as CSV files on Google's CDN. It will first be downloaded to the storage linked to this CoLab notebook, and will then be read into a `tf.dataset` structure using `tf.experimental.make_csv_dataset` function."
      ]
    },
    {
      "cell_type": "code",
      "metadata": {
        "id": "yuwXfXX9nABl",
        "colab_type": "code",
        "colab": {}
      },
      "source": [
        "# URLs for CSV files\n",
        "TRAIN_DATA_URL = \"https://storage.googleapis.com/tf-datasets/titanic/train.csv\"\n",
        "TEST_DATA_URL = \"https://storage.googleapis.com/tf-datasets/titanic/eval.csv\""
      ],
      "execution_count": 0,
      "outputs": []
    },
    {
      "cell_type": "code",
      "metadata": {
        "id": "VqayhEaHnDmw",
        "colab_type": "code",
        "outputId": "991d5cd6-a813-462f-eda2-0151f58b8adc",
        "colab": {
          "base_uri": "https://localhost:8080/",
          "height": 85
        }
      },
      "source": [
        "# Store filepaths for these CSVs\n",
        "train_file_path = tf.keras.utils.get_file(\"train.csv\", TRAIN_DATA_URL)\n",
        "test_file_path = tf.keras.utils.get_file(\"eval.csv\", TEST_DATA_URL)"
      ],
      "execution_count": 0,
      "outputs": [
        {
          "output_type": "stream",
          "text": [
            "Downloading data from https://storage.googleapis.com/tf-datasets/titanic/train.csv\n",
            "32768/30874 [===============================] - 0s 0us/step\n",
            "Downloading data from https://storage.googleapis.com/tf-datasets/titanic/eval.csv\n",
            "16384/13049 [=====================================] - 0s 0us/step\n"
          ],
          "name": "stdout"
        }
      ]
    },
    {
      "cell_type": "code",
      "metadata": {
        "id": "H1xYvDswnHbz",
        "colab_type": "code",
        "colab": {}
      },
      "source": [
        "# Make numpy values easier to read - round to 3 decimal places, suppress trailing digits\n",
        "np.set_printoptions(precision=3, suppress=True)"
      ],
      "execution_count": 0,
      "outputs": []
    },
    {
      "cell_type": "code",
      "metadata": {
        "id": "R1Y02gRmnQau",
        "colab_type": "code",
        "outputId": "6f58374f-d904-4583-fa08-e715e72a35c7",
        "colab": {
          "base_uri": "https://localhost:8080/",
          "height": 187
        }
      },
      "source": [
        "# Look at the head (top 10 lines) of the CSV file to see how it is formatted\n",
        "!head {train_file_path}"
      ],
      "execution_count": 0,
      "outputs": [
        {
          "output_type": "stream",
          "text": [
            "survived,sex,age,n_siblings_spouses,parch,fare,class,deck,embark_town,alone\n",
            "0,male,22.0,1,0,7.25,Third,unknown,Southampton,n\n",
            "1,female,38.0,1,0,71.2833,First,C,Cherbourg,n\n",
            "1,female,26.0,0,0,7.925,Third,unknown,Southampton,y\n",
            "1,female,35.0,1,0,53.1,First,C,Southampton,n\n",
            "0,male,28.0,0,0,8.4583,Third,unknown,Queenstown,y\n",
            "0,male,2.0,3,1,21.075,Third,unknown,Southampton,n\n",
            "1,female,27.0,0,2,11.1333,Third,unknown,Southampton,n\n",
            "1,female,14.0,1,0,30.0708,Second,unknown,Cherbourg,n\n",
            "1,female,4.0,1,1,16.7,Third,G,Southampton,n\n"
          ],
          "name": "stdout"
        }
      ]
    },
    {
      "cell_type": "markdown",
      "metadata": {
        "id": "KbvERipKnU2A",
        "colab_type": "text"
      },
      "source": [
        "This dataset can be read into a `pandas` `DataFrame` and then transformed into a `numpy` array which can then be loaded into a `tf` model.\n",
        "\n",
        "However, for scalability or compatibility with `tf`, we can also use the `tensorflow.experimental.make_csv_dataset` function."
      ]
    },
    {
      "cell_type": "code",
      "metadata": {
        "id": "JwRuf9U4ni6L",
        "colab_type": "code",
        "colab": {}
      },
      "source": [
        "# Label is the only column we need to identify \n",
        "LABEL_COLUMN = 'survived'\n",
        "LABELS = [0, 1]"
      ],
      "execution_count": 0,
      "outputs": []
    },
    {
      "cell_type": "code",
      "metadata": {
        "id": "3QE9WgCEnnlj",
        "colab_type": "code",
        "colab": {}
      },
      "source": [
        "# Reading the CSV datad\n",
        "def get_dataset(file_path, **kwargs):\n",
        "  dataset = tf.data.experimental.make_csv_dataset(\n",
        "      file_path, \n",
        "      batch_size=5,    # Artificially small to make samples easier to show\n",
        "      label_name=LABEL_COLUMN,\n",
        "      na_value=\"?\",    # Missing values will be substituted with this\n",
        "      num_epochs=1,    \n",
        "      ignore_errors=True,\n",
        "      **kwargs)\n",
        "  \n",
        "  return dataset"
      ],
      "execution_count": 0,
      "outputs": []
    },
    {
      "cell_type": "code",
      "metadata": {
        "id": "1GkPwfucpaY4",
        "colab_type": "code",
        "colab": {}
      },
      "source": [
        "# Use this function to read in the raw data from the CSV files\n",
        "raw_train_data = get_dataset(train_file_path)\n",
        "raw_test_data = get_dataset(test_file_path)"
      ],
      "execution_count": 0,
      "outputs": []
    },
    {
      "cell_type": "code",
      "metadata": {
        "id": "b3UK0J-6pq6A",
        "colab_type": "code",
        "colab": {}
      },
      "source": [
        "def show_batch(dataset):\n",
        "  for batch, label in dataset.take(1):\n",
        "    for key, value in batch.items():\n",
        "      print(\"{:20s}: {}\".format(key, value.numpy()))"
      ],
      "execution_count": 0,
      "outputs": []
    },
    {
      "cell_type": "markdown",
      "metadata": {
        "id": "s9V1Cidop3V8",
        "colab_type": "text"
      },
      "source": [
        "Each item in the dataset is a batch represented as tuple of multiple examples and labels. The data from the examples is organized into column-based (rather than row-based) tensors. Basically, instead of having one row in the tensor = one sample (multiple features), the dataset stores the samples as columns (in batches of `n` - `n` determined by us during init). "
      ]
    },
    {
      "cell_type": "code",
      "metadata": {
        "id": "2wS490QmqBBB",
        "colab_type": "code",
        "colab": {
          "base_uri": "https://localhost:8080/",
          "height": 170
        },
        "outputId": "a0ae4c07-a76f-4359-c9d3-ad3a0f9da646"
      },
      "source": [
        "show_batch(raw_train_data)"
      ],
      "execution_count": 19,
      "outputs": [
        {
          "output_type": "stream",
          "text": [
            "sex                 : [b'female' b'male' b'female' b'male' b'female']\n",
            "age                 : [17. 28. 14. 28. 36.]\n",
            "n_siblings_spouses  : [4 0 1 0 0]\n",
            "parch               : [2 0 0 0 2]\n",
            "fare                : [ 7.925 56.496 30.071  7.896 71.   ]\n",
            "class               : [b'Third' b'Third' b'Second' b'Third' b'First']\n",
            "deck                : [b'unknown' b'unknown' b'unknown' b'unknown' b'B']\n",
            "embark_town         : [b'Southampton' b'Southampton' b'Cherbourg' b'Cherbourg' b'Southampton']\n",
            "alone               : [b'n' b'y' b'n' b'y' b'n']\n"
          ],
          "name": "stdout"
        }
      ]
    },
    {
      "cell_type": "code",
      "metadata": {
        "id": "hrvZaxs1qC0Y",
        "colab_type": "code",
        "colab": {}
      },
      "source": [
        "CSV_COLUMNS = ['survived', 'sex', 'age', 'n_siblings_spouses', 'parch', 'fare', 'class', 'deck', 'embark_town', 'alone']"
      ],
      "execution_count": 0,
      "outputs": []
    },
    {
      "cell_type": "code",
      "metadata": {
        "id": "MFL7JMzxrkqy",
        "colab_type": "code",
        "colab": {}
      },
      "source": [
        "# Initialise a temporary dataset with column names this time\n",
        "temp_dataset = get_dataset(train_file_path, column_names=CSV_COLUMNS)"
      ],
      "execution_count": 0,
      "outputs": []
    },
    {
      "cell_type": "code",
      "metadata": {
        "id": "oQu8jWiQrsAm",
        "colab_type": "code",
        "colab": {
          "base_uri": "https://localhost:8080/",
          "height": 187
        },
        "outputId": "034f91b2-701a-4f58-8ced-a0d1724a00a0"
      },
      "source": [
        "# Show batch will still show the same results because in the case of this dataset,\n",
        "# the column names were in the first line, so were read automatically\n",
        "show_batch(temp_dataset)"
      ],
      "execution_count": 22,
      "outputs": [
        {
          "output_type": "stream",
          "text": [
            "sex                 : [b'female' b'male' b'female' b'male' b'male']\n",
            "age                 : [24. 30. 15. 17. 21.]\n",
            "n_siblings_spouses  : [0 0 0 0 0]\n",
            "parch               : [2 0 1 0 0]\n",
            "fare                : [ 16.7    10.5   211.337   7.125   7.796]\n",
            "class               : [b'Third' b'Second' b'First' b'Third' b'Third']\n",
            "deck                : [b'G' b'unknown' b'B' b'unknown' b'unknown']\n",
            "embark_town         : [b'Southampton' b'Southampton' b'Southampton' b'Southampton'\n",
            " b'Southampton']\n",
            "alone               : [b'n' b'y' b'n' b'y' b'y']\n"
          ],
          "name": "stdout"
        }
      ]
    },
    {
      "cell_type": "code",
      "metadata": {
        "id": "a5JDqsWUr3gq",
        "colab_type": "code",
        "colab": {
          "base_uri": "https://localhost:8080/",
          "height": 102
        },
        "outputId": "8d6c33d8-e503-452d-f52e-ba90b0fa8002"
      },
      "source": [
        "# Can also choose to select specific columns from the dataset\n",
        "SELECT_COLUMNS = ['survived', 'age', 'n_siblings_spouses', 'class', 'deck', 'alone']\n",
        "temp_dataset = get_dataset(train_file_path, select_columns=SELECT_COLUMNS)\n",
        "show_batch(temp_dataset)"
      ],
      "execution_count": 23,
      "outputs": [
        {
          "output_type": "stream",
          "text": [
            "age                 : [23. 17. 25. 45. 33.]\n",
            "n_siblings_spouses  : [0 0 1 0 0]\n",
            "class               : [b'Second' b'Third' b'Second' b'Third' b'Third']\n",
            "deck                : [b'unknown' b'unknown' b'unknown' b'unknown' b'unknown']\n",
            "alone               : [b'y' b'y' b'n' b'y' b'y']\n"
          ],
          "name": "stdout"
        }
      ]
    },
    {
      "cell_type": "markdown",
      "metadata": {
        "id": "y0n50OzzsFAn",
        "colab_type": "text"
      },
      "source": [
        "## Data Preprocessing\n",
        "CSV may contain a variety of data types. Ideally, we would want to convert to these types into a single, fixed length vector. `tf.feature_column` can be used for this, but we don't really need it here since the features we will use are all numeric anyway. "
      ]
    },
    {
      "cell_type": "code",
      "metadata": {
        "id": "v51apcv2szSW",
        "colab_type": "code",
        "colab": {}
      },
      "source": [
        "SELECT_COLUMNS = ['survived', 'age', 'n_siblings_spouses', 'parch', 'fare']\n",
        "\n",
        "# Default values to be substituted in place of missing data\n",
        "# Only the label is an int 0 - we're assuming if no data is available on the passenger's\n",
        "# survival status then that passenger died. \n",
        "# All others are floats because they will be inputs for the tf model\n",
        "DEFAULTS = [0, 0.0, 0.0, 0.0, 0.0] "
      ],
      "execution_count": 0,
      "outputs": []
    },
    {
      "cell_type": "code",
      "metadata": {
        "id": "9Rqkjh2XtIVO",
        "colab_type": "code",
        "colab": {}
      },
      "source": [
        "temp_dataset = get_dataset(train_file_path, \n",
        "                          select_columns=SELECT_COLUMNS,\n",
        "                          column_defaults=DEFAULTS)"
      ],
      "execution_count": 0,
      "outputs": []
    },
    {
      "cell_type": "code",
      "metadata": {
        "id": "hZwzpwrTtOIi",
        "colab_type": "code",
        "colab": {
          "base_uri": "https://localhost:8080/",
          "height": 85
        },
        "outputId": "7eb07a0d-93c6-4d99-9fa4-8ffb3032da96"
      },
      "source": [
        "show_batch(temp_dataset)"
      ],
      "execution_count": 26,
      "outputs": [
        {
          "output_type": "stream",
          "text": [
            "age                 : [23. 28.  7. 26. 25.]\n",
            "n_siblings_spouses  : [1. 0. 4. 0. 1.]\n",
            "parch               : [0. 0. 1. 0. 0.]\n",
            "fare                : [113.275   7.75   39.688   7.896  91.079]\n"
          ],
          "name": "stdout"
        }
      ]
    },
    {
      "cell_type": "code",
      "metadata": {
        "id": "AnDvOzVDtQIU",
        "colab_type": "code",
        "colab": {}
      },
      "source": [
        "# Read in this batch from the `iterator` object\n",
        "example_batch, labels_batch = next(iter(temp_dataset))"
      ],
      "execution_count": 0,
      "outputs": []
    },
    {
      "cell_type": "code",
      "metadata": {
        "id": "9YdWeEPStXiD",
        "colab_type": "code",
        "colab": {}
      },
      "source": [
        "# A function to pack together all the feature columns for the NN input\n",
        "def pack(features, label):\n",
        "  return tf.stack(list(features.values()), axis=-1), label"
      ],
      "execution_count": 0,
      "outputs": []
    },
    {
      "cell_type": "code",
      "metadata": {
        "id": "txY7J0XctisU",
        "colab_type": "code",
        "colab": {
          "base_uri": "https://localhost:8080/",
          "height": 71
        },
        "outputId": "e12a9d9e-f2de-4389-c6ad-0b95cfdd96d9"
      },
      "source": [
        "# Apply this to every element of the dataset\n",
        "packed_dataset = temp_dataset.map(pack)"
      ],
      "execution_count": 31,
      "outputs": [
        {
          "output_type": "stream",
          "text": [
            "WARNING:tensorflow:Entity <function pack at 0x7f38c5193e18> could not be transformed and will be executed as-is. Please report this to the AutoGraph team. When filing the bug, set the verbosity to 10 (on Linux, `export AUTOGRAPH_VERBOSITY=10`) and attach the full output. Cause: Bad argument number for Name: 3, expecting 4\n",
            "WARNING: Entity <function pack at 0x7f38c5193e18> could not be transformed and will be executed as-is. Please report this to the AutoGraph team. When filing the bug, set the verbosity to 10 (on Linux, `export AUTOGRAPH_VERBOSITY=10`) and attach the full output. Cause: Bad argument number for Name: 3, expecting 4\n"
          ],
          "name": "stdout"
        }
      ]
    },
    {
      "cell_type": "code",
      "metadata": {
        "id": "B6iJqn_KxR5A",
        "colab_type": "code",
        "colab": {
          "base_uri": "https://localhost:8080/",
          "height": 136
        },
        "outputId": "3821a8c9-3767-4f42-b962-943fcca991dd"
      },
      "source": [
        "# Checking that the packing operation was successful\n",
        "for features, labels in packed_dataset.take(1):\n",
        "  print(features.numpy())\n",
        "  print() # empty line\n",
        "  print(labels.numpy())"
      ],
      "execution_count": 32,
      "outputs": [
        {
          "output_type": "stream",
          "text": [
            "[[28.     0.     0.     7.55 ]\n",
            " [45.     1.     1.    26.25 ]\n",
            " [42.     1.     0.    52.   ]\n",
            " [27.     0.     0.     8.663]\n",
            " [ 5.     2.     1.    19.258]]\n",
            "\n",
            "[0 1 0 1 1]\n"
          ],
          "name": "stdout"
        }
      ]
    },
    {
      "cell_type": "markdown",
      "metadata": {
        "id": "OtUpuA3XxcIu",
        "colab_type": "text"
      },
      "source": [
        "This was just to show that one way of dealing with mixed datasets is to separate out simple numeric fields. The `tf.feature_column` API can handle non-numeric features as well as numeric ones. However, this incurs some overhead and should be avoided unless necessary.\n",
        "\n",
        "IRL, you would actually use a mixed dataset. "
      ]
    },
    {
      "cell_type": "code",
      "metadata": {
        "id": "1fOLpqoGxxba",
        "colab_type": "code",
        "colab": {
          "base_uri": "https://localhost:8080/",
          "height": 170
        },
        "outputId": "3284a5d7-2f71-45ea-a6a6-347d504debe4"
      },
      "source": [
        "show_batch(raw_train_data)"
      ],
      "execution_count": 33,
      "outputs": [
        {
          "output_type": "stream",
          "text": [
            "sex                 : [b'male' b'male' b'male' b'male' b'male']\n",
            "age                 : [17. 18. 45. 28.  1.]\n",
            "n_siblings_spouses  : [0 1 0 0 4]\n",
            "parch               : [0 0 0 0 1]\n",
            "fare                : [ 8.663  6.496  6.975 15.05  39.688]\n",
            "class               : [b'Third' b'Third' b'Third' b'Second' b'Third']\n",
            "deck                : [b'unknown' b'unknown' b'unknown' b'unknown' b'unknown']\n",
            "embark_town         : [b'Southampton' b'Southampton' b'Southampton' b'Cherbourg' b'Southampton']\n",
            "alone               : [b'y' b'n' b'y' b'y' b'n']\n"
          ],
          "name": "stdout"
        }
      ]
    },
    {
      "cell_type": "code",
      "metadata": {
        "id": "6pDO2FxFxy8S",
        "colab_type": "code",
        "colab": {}
      },
      "source": [
        "example_batch, labels_batch = next(iter(temp_dataset))"
      ],
      "execution_count": 0,
      "outputs": []
    },
    {
      "cell_type": "code",
      "metadata": {
        "id": "18s_M-Y9x1yS",
        "colab_type": "code",
        "colab": {}
      },
      "source": [
        "# Define a more general preprocessor that selects a list of numeric features and packs them into a single column\n",
        "class PackNumericFeatures(object):\n",
        "  # Constructor which will take a list of feature names to extract\n",
        "  def __init__(self, names):\n",
        "    self.names = names\n",
        "  \n",
        "  def __call__(self, features, labels):\n",
        "    # Extract a feature from the dataset based on a column name passed in init\n",
        "    numeric_features = [features.pop(name) for name in self.names]\n",
        "    \n",
        "    # Cast all the values for this feature to 32-bit floating point values\n",
        "    numeric_features = [tf.cast(feat, tf.float32) for feat in numeric_features]\n",
        "    \n",
        "    # Create a column of these values in a numpy/tf stack structure\n",
        "    numeric_features = tf.stack(numeric_features, axis=-1)\n",
        "    \n",
        "    # Map these values back onto the features array\n",
        "    features['numeric'] = numeric_features\n",
        "    \n",
        "    # Return the modified features and their corresponding labels\n",
        "    return features, labels"
      ],
      "execution_count": 0,
      "outputs": []
    },
    {
      "cell_type": "code",
      "metadata": {
        "id": "OziNao7CywP1",
        "colab_type": "code",
        "colab": {
          "base_uri": "https://localhost:8080/",
          "height": 105
        },
        "outputId": "8f2d8c73-121d-497a-8180-bf58d83cf048"
      },
      "source": [
        "# Now defining a list of names of numeric features\n",
        "NUMERIC_FEATURES = ['age', 'n_siblings_spouses', 'parch', 'fare']\n",
        "\n",
        "# Use the Class to transform the training data for these features\n",
        "packed_train_data = raw_train_data.map(\n",
        "  PackNumericFeatures(NUMERIC_FEATURES))\n",
        "\n",
        "# Do the same for the test set\n",
        "packed_test_data = raw_test_data.map(\n",
        "  PackNumericFeatures(NUMERIC_FEATURES))"
      ],
      "execution_count": 36,
      "outputs": [
        {
          "output_type": "stream",
          "text": [
            "WARNING:tensorflow:Entity <bound method PackNumericFeatures.__call__ of <__main__.PackNumericFeatures object at 0x7f38c409a7b8>> could not be transformed and will be executed as-is. Please report this to the AutoGraph team. When filing the bug, set the verbosity to 10 (on Linux, `export AUTOGRAPH_VERBOSITY=10`) and attach the full output. Cause: module 'gast' has no attribute 'Num'\n",
            "WARNING: Entity <bound method PackNumericFeatures.__call__ of <__main__.PackNumericFeatures object at 0x7f38c409a7b8>> could not be transformed and will be executed as-is. Please report this to the AutoGraph team. When filing the bug, set the verbosity to 10 (on Linux, `export AUTOGRAPH_VERBOSITY=10`) and attach the full output. Cause: module 'gast' has no attribute 'Num'\n",
            "WARNING:tensorflow:Entity <bound method PackNumericFeatures.__call__ of <__main__.PackNumericFeatures object at 0x7f38c409a7f0>> could not be transformed and will be executed as-is. Please report this to the AutoGraph team. When filing the bug, set the verbosity to 10 (on Linux, `export AUTOGRAPH_VERBOSITY=10`) and attach the full output. Cause: module 'gast' has no attribute 'Num'\n",
            "WARNING: Entity <bound method PackNumericFeatures.__call__ of <__main__.PackNumericFeatures object at 0x7f38c409a7f0>> could not be transformed and will be executed as-is. Please report this to the AutoGraph team. When filing the bug, set the verbosity to 10 (on Linux, `export AUTOGRAPH_VERBOSITY=10`) and attach the full output. Cause: module 'gast' has no attribute 'Num'\n"
          ],
          "name": "stdout"
        }
      ]
    },
    {
      "cell_type": "code",
      "metadata": {
        "id": "TXiXnfrazBic",
        "colab_type": "code",
        "colab": {
          "base_uri": "https://localhost:8080/",
          "height": 187
        },
        "outputId": "999aa079-fc6e-4f76-e958-65c39cd2efca"
      },
      "source": [
        "# Now examine the first batch of training data\n",
        "show_batch(packed_train_data)"
      ],
      "execution_count": 37,
      "outputs": [
        {
          "output_type": "stream",
          "text": [
            "sex                 : [b'male' b'male' b'male' b'female' b'female']\n",
            "class               : [b'Second' b'Third' b'First' b'First' b'Second']\n",
            "deck                : [b'unknown' b'unknown' b'B' b'unknown' b'unknown']\n",
            "embark_town         : [b'Southampton' b'Cherbourg' b'Southampton' b'Cherbourg' b'Southampton']\n",
            "alone               : [b'y' b'y' b'y' b'y' b'n']\n",
            "numeric             : [[47.     0.     0.    15.   ]\n",
            " [35.     0.     0.     7.896]\n",
            " [28.     0.     0.     0.   ]\n",
            " [30.     0.     0.    31.   ]\n",
            " [24.     1.     2.    65.   ]]\n"
          ],
          "name": "stdout"
        }
      ]
    },
    {
      "cell_type": "code",
      "metadata": {
        "id": "ALNnPlV3zJ_U",
        "colab_type": "code",
        "colab": {}
      },
      "source": [
        "# Read this batch and its labels into vars\n",
        "example_batch, labels_batch = next(iter(packed_train_data))"
      ],
      "execution_count": 0,
      "outputs": []
    },
    {
      "cell_type": "markdown",
      "metadata": {
        "id": "j1waOVuhzSjL",
        "colab_type": "text"
      },
      "source": [
        "## Data Normalization\n",
        "Continuous data should always be normalized\n",
        "- mean normalization\n",
        "- range or standard deviation normalization\n",
        "\n",
        "But why use `tf.dataset` if the point was to use `pandas`?"
      ]
    },
    {
      "cell_type": "code",
      "metadata": {
        "id": "DBEGCCkYzhcT",
        "colab_type": "code",
        "colab": {
          "base_uri": "https://localhost:8080/",
          "height": 297
        },
        "outputId": "8da227e1-083d-448d-db6b-1bc4addea20a"
      },
      "source": [
        "import pandas as pd\n",
        "\n",
        "# Chaining together function calls that will read CSV data from the file path\n",
        "# Then extract the columns that we know to be numeric using their names\n",
        "# And then displays central tendency and quartile statistics about them\n",
        "desc = pd.read_csv(train_file_path)[NUMERIC_FEATURES].describe()\n",
        "desc"
      ],
      "execution_count": 41,
      "outputs": [
        {
          "output_type": "execute_result",
          "data": {
            "text/html": [
              "<div>\n",
              "<style scoped>\n",
              "    .dataframe tbody tr th:only-of-type {\n",
              "        vertical-align: middle;\n",
              "    }\n",
              "\n",
              "    .dataframe tbody tr th {\n",
              "        vertical-align: top;\n",
              "    }\n",
              "\n",
              "    .dataframe thead th {\n",
              "        text-align: right;\n",
              "    }\n",
              "</style>\n",
              "<table border=\"1\" class=\"dataframe\">\n",
              "  <thead>\n",
              "    <tr style=\"text-align: right;\">\n",
              "      <th></th>\n",
              "      <th>age</th>\n",
              "      <th>n_siblings_spouses</th>\n",
              "      <th>parch</th>\n",
              "      <th>fare</th>\n",
              "    </tr>\n",
              "  </thead>\n",
              "  <tbody>\n",
              "    <tr>\n",
              "      <th>count</th>\n",
              "      <td>627.000000</td>\n",
              "      <td>627.000000</td>\n",
              "      <td>627.000000</td>\n",
              "      <td>627.000000</td>\n",
              "    </tr>\n",
              "    <tr>\n",
              "      <th>mean</th>\n",
              "      <td>29.631308</td>\n",
              "      <td>0.545455</td>\n",
              "      <td>0.379585</td>\n",
              "      <td>34.385399</td>\n",
              "    </tr>\n",
              "    <tr>\n",
              "      <th>std</th>\n",
              "      <td>12.511818</td>\n",
              "      <td>1.151090</td>\n",
              "      <td>0.792999</td>\n",
              "      <td>54.597730</td>\n",
              "    </tr>\n",
              "    <tr>\n",
              "      <th>min</th>\n",
              "      <td>0.750000</td>\n",
              "      <td>0.000000</td>\n",
              "      <td>0.000000</td>\n",
              "      <td>0.000000</td>\n",
              "    </tr>\n",
              "    <tr>\n",
              "      <th>25%</th>\n",
              "      <td>23.000000</td>\n",
              "      <td>0.000000</td>\n",
              "      <td>0.000000</td>\n",
              "      <td>7.895800</td>\n",
              "    </tr>\n",
              "    <tr>\n",
              "      <th>50%</th>\n",
              "      <td>28.000000</td>\n",
              "      <td>0.000000</td>\n",
              "      <td>0.000000</td>\n",
              "      <td>15.045800</td>\n",
              "    </tr>\n",
              "    <tr>\n",
              "      <th>75%</th>\n",
              "      <td>35.000000</td>\n",
              "      <td>1.000000</td>\n",
              "      <td>0.000000</td>\n",
              "      <td>31.387500</td>\n",
              "    </tr>\n",
              "    <tr>\n",
              "      <th>max</th>\n",
              "      <td>80.000000</td>\n",
              "      <td>8.000000</td>\n",
              "      <td>5.000000</td>\n",
              "      <td>512.329200</td>\n",
              "    </tr>\n",
              "  </tbody>\n",
              "</table>\n",
              "</div>"
            ],
            "text/plain": [
              "              age  n_siblings_spouses       parch        fare\n",
              "count  627.000000          627.000000  627.000000  627.000000\n",
              "mean    29.631308            0.545455    0.379585   34.385399\n",
              "std     12.511818            1.151090    0.792999   54.597730\n",
              "min      0.750000            0.000000    0.000000    0.000000\n",
              "25%     23.000000            0.000000    0.000000    7.895800\n",
              "50%     28.000000            0.000000    0.000000   15.045800\n",
              "75%     35.000000            1.000000    0.000000   31.387500\n",
              "max     80.000000            8.000000    5.000000  512.329200"
            ]
          },
          "metadata": {
            "tags": []
          },
          "execution_count": 41
        }
      ]
    },
    {
      "cell_type": "code",
      "metadata": {
        "id": "DM-5k17Wzye-",
        "colab_type": "code",
        "colab": {}
      },
      "source": [
        "# Get the mean and standard deviation of each numeric column\n",
        "MEAN = np.array(desc.T['mean']) # transpose?\n",
        "STD  = np.array(desc.T['std'])\n"
      ],
      "execution_count": 0,
      "outputs": []
    },
    {
      "cell_type": "code",
      "metadata": {
        "id": "4KvO4heUz9rq",
        "colab_type": "code",
        "colab": {}
      },
      "source": [
        "# Use these values to normalize all numeric entries\n",
        "def normalize_numeric_data(data, mean, std):\n",
        "  # Center the data \n",
        "  return (data - mean) / std"
      ],
      "execution_count": 0,
      "outputs": []
    },
    {
      "cell_type": "code",
      "metadata": {
        "id": "4V7402RA0GaL",
        "colab_type": "code",
        "colab": {
          "base_uri": "https://localhost:8080/",
          "height": 54
        },
        "outputId": "5fa3cc2e-ed8e-4452-94be-64b500731025"
      },
      "source": [
        "normalizer = functools.partial(normalize_numeric_data, mean=MEAN, std=STD)\n",
        "numeric_column = tf.feature_column.numeric_column('numeric', normalizer_fn=normalizer, \n",
        "                                                 shape=[len(NUMERIC_FEATURES)])\n",
        "numeric_columns = [numeric_column]\n",
        "numeric_column"
      ],
      "execution_count": 44,
      "outputs": [
        {
          "output_type": "execute_result",
          "data": {
            "text/plain": [
              "NumericColumn(key='numeric', shape=(4,), default_value=None, dtype=tf.float32, normalizer_fn=functools.partial(<function normalize_numeric_data at 0x7f38c3fefea0>, mean=array([29.631,  0.545,  0.38 , 34.385]), std=array([12.512,  1.151,  0.793, 54.598])))"
            ]
          },
          "metadata": {
            "tags": []
          },
          "execution_count": 44
        }
      ]
    },
    {
      "cell_type": "code",
      "metadata": {
        "id": "bzh5MCFV4yfj",
        "colab_type": "code",
        "colab": {
          "base_uri": "https://localhost:8080/",
          "height": 119
        },
        "outputId": "62ed1439-6531-4270-ac4f-76e2a07eecdc"
      },
      "source": [
        "example_batch['numeric']"
      ],
      "execution_count": 45,
      "outputs": [
        {
          "output_type": "execute_result",
          "data": {
            "text/plain": [
              "<tf.Tensor: id=729, shape=(5, 4), dtype=float32, numpy=\n",
              "array([[28.   ,  0.   ,  0.   ,  7.896],\n",
              "       [28.   ,  0.   ,  0.   ,  7.25 ],\n",
              "       [28.   ,  0.   ,  0.   ,  6.95 ],\n",
              "       [32.5  ,  1.   ,  0.   , 30.071],\n",
              "       [40.   ,  0.   ,  0.   , 13.   ]], dtype=float32)>"
            ]
          },
          "metadata": {
            "tags": []
          },
          "execution_count": 45
        }
      ]
    },
    {
      "cell_type": "code",
      "metadata": {
        "id": "wTdeUGHR44EK",
        "colab_type": "code",
        "colab": {
          "base_uri": "https://localhost:8080/",
          "height": 102
        },
        "outputId": "93be77ce-80b4-4889-aef4-f6a040bfbb41"
      },
      "source": [
        "# Creating a densely connected layer using these featueres\n",
        "numeric_layer = tf.keras.layers.DenseFeatures(numeric_columns)\n",
        "numeric_layer(example_batch).numpy()"
      ],
      "execution_count": 46,
      "outputs": [
        {
          "output_type": "execute_result",
          "data": {
            "text/plain": [
              "array([[-0.13 , -0.474, -0.479, -0.485],\n",
              "       [-0.13 , -0.474, -0.479, -0.497],\n",
              "       [-0.13 , -0.474, -0.479, -0.503],\n",
              "       [ 0.229,  0.395, -0.479, -0.079],\n",
              "       [ 0.829, -0.474, -0.479, -0.392]], dtype=float32)"
            ]
          },
          "metadata": {
            "tags": []
          },
          "execution_count": 46
        }
      ]
    },
    {
      "cell_type": "markdown",
      "metadata": {
        "id": "C9NcLqgw5DDV",
        "colab_type": "text"
      },
      "source": [
        "## Categorical Data\n",
        "Can use the `tf.feature_column` API to transform categorical features to numeric ones."
      ]
    },
    {
      "cell_type": "code",
      "metadata": {
        "id": "jD-iiGbf5NGt",
        "colab_type": "code",
        "colab": {}
      },
      "source": [
        "# Create a dictionary of categories - keys are the col names, vals are possible categorical values\n",
        "CATEGORIES = {\n",
        "    'sex': ['male', 'female'], \n",
        "    'class': ['First', 'Second', 'Third'], \n",
        "    'deck': ['A', 'B', 'C', 'D', 'E', 'F'], \n",
        "    'embark_town': ['Cherbourg', 'Southampton', 'Queenstown'],\n",
        "    'alone': ['y', 'n']\n",
        "}"
      ],
      "execution_count": 0,
      "outputs": []
    },
    {
      "cell_type": "code",
      "metadata": {
        "id": "ihtgfOSv5bZE",
        "colab_type": "code",
        "colab": {}
      },
      "source": [
        "# Initialise as empty list\n",
        "categorical_columns = []\n",
        "\n",
        "# For every feature and list of possible values in the categorical dictionary\n",
        "for feature, vocab in CATEGORIES.items():\n",
        "  # idk this is some API mumbo jumbo\n",
        "  cat_col = tf.feature_column.categorical_column_with_vocabulary_list(key=feature, vocabulary_list=vocab)\n",
        "  categorical_columns.append(tf.feature_column.indicator_column(cat_col))"
      ],
      "execution_count": 0,
      "outputs": []
    },
    {
      "cell_type": "code",
      "metadata": {
        "id": "N5HN-8QHIAKj",
        "colab_type": "code",
        "colab": {
          "base_uri": "https://localhost:8080/",
          "height": 122
        },
        "outputId": "6abb0d32-2b0d-4289-c9f4-8541d20f5b34"
      },
      "source": [
        "# What did I just do?\n",
        "categorical_columns"
      ],
      "execution_count": 49,
      "outputs": [
        {
          "output_type": "execute_result",
          "data": {
            "text/plain": [
              "[IndicatorColumn(categorical_column=VocabularyListCategoricalColumn(key='sex', vocabulary_list=('male', 'female'), dtype=tf.string, default_value=-1, num_oov_buckets=0)),\n",
              " IndicatorColumn(categorical_column=VocabularyListCategoricalColumn(key='class', vocabulary_list=('First', 'Second', 'Third'), dtype=tf.string, default_value=-1, num_oov_buckets=0)),\n",
              " IndicatorColumn(categorical_column=VocabularyListCategoricalColumn(key='deck', vocabulary_list=('A', 'B', 'C', 'D', 'E', 'F'), dtype=tf.string, default_value=-1, num_oov_buckets=0)),\n",
              " IndicatorColumn(categorical_column=VocabularyListCategoricalColumn(key='embark_town', vocabulary_list=('Cherbourg', 'Southampton', 'Queenstown'), dtype=tf.string, default_value=-1, num_oov_buckets=0)),\n",
              " IndicatorColumn(categorical_column=VocabularyListCategoricalColumn(key='alone', vocabulary_list=('y', 'n'), dtype=tf.string, default_value=-1, num_oov_buckets=0))]"
            ]
          },
          "metadata": {
            "tags": []
          },
          "execution_count": 49
        }
      ]
    },
    {
      "cell_type": "code",
      "metadata": {
        "id": "Nig79KF2IDjc",
        "colab_type": "code",
        "colab": {
          "base_uri": "https://localhost:8080/",
          "height": 156
        },
        "outputId": "68af47e9-8046-4e58-c97b-7935afdcd3e7"
      },
      "source": [
        "categorical_layer = tf.keras.layers.DenseFeatures(categorical_columns)\n",
        "print(categorical_layer(example_batch).numpy()[0])"
      ],
      "execution_count": 50,
      "outputs": [
        {
          "output_type": "stream",
          "text": [
            "WARNING:tensorflow:From /tensorflow-2.0.0-rc1/python3.6/tensorflow_core/python/feature_column/feature_column_v2.py:4273: IndicatorColumn._variable_shape (from tensorflow.python.feature_column.feature_column_v2) is deprecated and will be removed in a future version.\n",
            "Instructions for updating:\n",
            "The old _FeatureColumn APIs are being deprecated. Please use the new FeatureColumn APIs instead.\n",
            "WARNING:tensorflow:From /tensorflow-2.0.0-rc1/python3.6/tensorflow_core/python/feature_column/feature_column_v2.py:4328: VocabularyListCategoricalColumn._num_buckets (from tensorflow.python.feature_column.feature_column_v2) is deprecated and will be removed in a future version.\n",
            "Instructions for updating:\n",
            "The old _FeatureColumn APIs are being deprecated. Please use the new FeatureColumn APIs instead.\n",
            "[1. 0. 0. 0. 1. 0. 0. 0. 0. 0. 0. 0. 1. 0. 1. 0.]\n"
          ],
          "name": "stdout"
        }
      ]
    },
    {
      "cell_type": "code",
      "metadata": {
        "id": "soxOCUgOIM9T",
        "colab_type": "code",
        "colab": {}
      },
      "source": [
        "# Concatenate both the categorical and non-categorical features\n",
        "preprocessing_layer = tf.keras.layers.DenseFeatures(categorical_columns + numeric_columns)"
      ],
      "execution_count": 0,
      "outputs": []
    },
    {
      "cell_type": "markdown",
      "metadata": {
        "id": "-jqLorljIc_7",
        "colab_type": "text"
      },
      "source": [
        "## Build The Model"
      ]
    },
    {
      "cell_type": "code",
      "metadata": {
        "id": "xFqGD_kGIfKn",
        "colab_type": "code",
        "colab": {}
      },
      "source": [
        "model = tf.keras.Sequential([\n",
        "    preprocessing_layer,\n",
        "    tf.keras.layers.Dense(128, activation='relu'),\n",
        "    tf.keras.layers.Dense(128, activation='relu'),\n",
        "    tf.keras.layers.Dense(1, activation='sigmoid')\n",
        "])"
      ],
      "execution_count": 0,
      "outputs": []
    },
    {
      "cell_type": "code",
      "metadata": {
        "id": "iJ7Jb5t0IrFO",
        "colab_type": "code",
        "colab": {}
      },
      "source": [
        "model.compile(\n",
        "    loss='binary_crossentropy',\n",
        "    optimizer='adam',\n",
        "    metrics=['accuracy']\n",
        ")"
      ],
      "execution_count": 0,
      "outputs": []
    },
    {
      "cell_type": "code",
      "metadata": {
        "id": "lhuSeQg6Iygy",
        "colab_type": "code",
        "colab": {
          "base_uri": "https://localhost:8080/",
          "height": 819
        },
        "outputId": "cd57c75c-6859-4bda-e775-9ef838f47754"
      },
      "source": [
        "train_data = packed_train_data.shuffle(500)\n",
        "test_data = packed_test_data\n",
        "model.fit(train_data, epochs=20)"
      ],
      "execution_count": 54,
      "outputs": [
        {
          "output_type": "stream",
          "text": [
            "Epoch 1/20\n",
            "WARNING:tensorflow:From /tensorflow-2.0.0-rc1/python3.6/tensorflow_core/python/ops/nn_impl.py:183: where (from tensorflow.python.ops.array_ops) is deprecated and will be removed in a future version.\n",
            "Instructions for updating:\n",
            "Use tf.where in 2.0, which has the same broadcast rule as np.where\n",
            "WARNING:tensorflow:Entity <function Function._initialize_uninitialized_variables.<locals>.initialize_variables at 0x7f38c3b87ae8> could not be transformed and will be executed as-is. Please report this to the AutoGraph team. When filing the bug, set the verbosity to 10 (on Linux, `export AUTOGRAPH_VERBOSITY=10`) and attach the full output. Cause: module 'gast' has no attribute 'Num'\n",
            "WARNING: Entity <function Function._initialize_uninitialized_variables.<locals>.initialize_variables at 0x7f38c3b87ae8> could not be transformed and will be executed as-is. Please report this to the AutoGraph team. When filing the bug, set the verbosity to 10 (on Linux, `export AUTOGRAPH_VERBOSITY=10`) and attach the full output. Cause: module 'gast' has no attribute 'Num'\n",
            "126/126 [==============================] - 2s 16ms/step - loss: 0.5152 - accuracy: 0.7656\n",
            "Epoch 2/20\n",
            "126/126 [==============================] - 0s 3ms/step - loss: 0.4227 - accuracy: 0.8214\n",
            "Epoch 3/20\n",
            "126/126 [==============================] - 0s 3ms/step - loss: 0.4066 - accuracy: 0.8214\n",
            "Epoch 4/20\n",
            "126/126 [==============================] - 0s 3ms/step - loss: 0.3923 - accuracy: 0.8278\n",
            "Epoch 5/20\n",
            "126/126 [==============================] - 0s 3ms/step - loss: 0.3805 - accuracy: 0.8485\n",
            "Epoch 6/20\n",
            "126/126 [==============================] - 0s 3ms/step - loss: 0.3720 - accuracy: 0.8437\n",
            "Epoch 7/20\n",
            "126/126 [==============================] - 0s 3ms/step - loss: 0.3668 - accuracy: 0.8485\n",
            "Epoch 8/20\n",
            "126/126 [==============================] - 0s 3ms/step - loss: 0.3525 - accuracy: 0.8565\n",
            "Epoch 9/20\n",
            "126/126 [==============================] - 0s 3ms/step - loss: 0.3511 - accuracy: 0.8565\n",
            "Epoch 10/20\n",
            "126/126 [==============================] - 0s 3ms/step - loss: 0.3504 - accuracy: 0.8453\n",
            "Epoch 11/20\n",
            "126/126 [==============================] - 0s 3ms/step - loss: 0.3439 - accuracy: 0.8565\n",
            "Epoch 12/20\n",
            "126/126 [==============================] - 0s 3ms/step - loss: 0.3345 - accuracy: 0.8549\n",
            "Epoch 13/20\n",
            "126/126 [==============================] - 0s 3ms/step - loss: 0.3281 - accuracy: 0.8533\n",
            "Epoch 14/20\n",
            "126/126 [==============================] - 0s 3ms/step - loss: 0.3206 - accuracy: 0.8596\n",
            "Epoch 15/20\n",
            "126/126 [==============================] - 0s 3ms/step - loss: 0.3280 - accuracy: 0.8596\n",
            "Epoch 16/20\n",
            "126/126 [==============================] - 0s 3ms/step - loss: 0.3084 - accuracy: 0.8692\n",
            "Epoch 17/20\n",
            "126/126 [==============================] - 0s 3ms/step - loss: 0.3118 - accuracy: 0.8692\n",
            "Epoch 18/20\n",
            "126/126 [==============================] - 0s 3ms/step - loss: 0.3120 - accuracy: 0.8692\n",
            "Epoch 19/20\n",
            "126/126 [==============================] - 0s 3ms/step - loss: 0.3061 - accuracy: 0.8676\n",
            "Epoch 20/20\n",
            "126/126 [==============================] - 0s 3ms/step - loss: 0.2999 - accuracy: 0.8772\n"
          ],
          "name": "stdout"
        },
        {
          "output_type": "execute_result",
          "data": {
            "text/plain": [
              "<tensorflow.python.keras.callbacks.History at 0x7f38c3f9a8d0>"
            ]
          },
          "metadata": {
            "tags": []
          },
          "execution_count": 54
        }
      ]
    },
    {
      "cell_type": "code",
      "metadata": {
        "id": "nEhglTyUI5C0",
        "colab_type": "code",
        "colab": {
          "base_uri": "https://localhost:8080/",
          "height": 34
        },
        "outputId": "3a0a3b62-51ce-4017-b932-a61d0428fb65"
      },
      "source": [
        "test_loss, test_accuracy = model.evaluate(test_data)"
      ],
      "execution_count": 55,
      "outputs": [
        {
          "output_type": "stream",
          "text": [
            "53/53 [==============================] - 0s 9ms/step - loss: 0.4685 - accuracy: 0.8068\n"
          ],
          "name": "stdout"
        }
      ]
    },
    {
      "cell_type": "code",
      "metadata": {
        "id": "s5m6KQPWJAVD",
        "colab_type": "code",
        "colab": {
          "base_uri": "https://localhost:8080/",
          "height": 68
        },
        "outputId": "ddb885a8-47e6-4ac7-81e8-c314e513cd1f"
      },
      "source": [
        "print(\"\\n\\nTest Loss{}, Test Accuracy {}\".format(test_loss, test_accuracy))"
      ],
      "execution_count": 56,
      "outputs": [
        {
          "output_type": "stream",
          "text": [
            "\n",
            "\n",
            "Test Loss0.46849653462194046, Test Accuracy 0.8068181872367859\n"
          ],
          "name": "stdout"
        }
      ]
    },
    {
      "cell_type": "code",
      "metadata": {
        "id": "lAzZbFQrJHb2",
        "colab_type": "code",
        "colab": {}
      },
      "source": [
        "predictions = model.predict(test_data)"
      ],
      "execution_count": 0,
      "outputs": []
    },
    {
      "cell_type": "code",
      "metadata": {
        "id": "cF-0YBk2JMpG",
        "colab_type": "code",
        "colab": {
          "base_uri": "https://localhost:8080/",
          "height": 102
        },
        "outputId": "f2b9a391-9023-4ed4-83e1-284c1ae62f7d"
      },
      "source": [
        "# Show results\n",
        "for prediction, survived in zip(predictions[:10], list(test_data)[0][1][:10]):\n",
        "  print(\"Predicted Survival: {:.2%}\".format(prediction[0]),\n",
        "       \"| Actual outcome: \", \n",
        "       (\"SURVIVED\" if bool(survived) else \"DIED\"))"
      ],
      "execution_count": 59,
      "outputs": [
        {
          "output_type": "stream",
          "text": [
            "Predicted Survival: 99.95% | Actual outcome:  SURVIVED\n",
            "Predicted Survival: 67.67% | Actual outcome:  DIED\n",
            "Predicted Survival: 91.19% | Actual outcome:  SURVIVED\n",
            "Predicted Survival: 91.31% | Actual outcome:  DIED\n",
            "Predicted Survival: 1.41% | Actual outcome:  DIED\n"
          ],
          "name": "stdout"
        }
      ]
    }
  ]
}