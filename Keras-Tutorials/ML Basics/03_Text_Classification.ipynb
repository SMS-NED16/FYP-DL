{
 "cells": [
  {
   "cell_type": "markdown",
   "metadata": {},
   "source": [
    "# TensorFlow Tutorials\n",
    "# ML Basics 03 - Text Classification"
   ]
  },
  {
   "cell_type": "markdown",
   "metadata": {},
   "source": [
    "## Setting Up Workspace"
   ]
  },
  {
   "cell_type": "code",
   "execution_count": 1,
   "metadata": {},
   "outputs": [],
   "source": [
    "from __future__ import absolute_import, division, print_function, unicode_literals\n",
    "\n",
    "try:\n",
    "    %tensorflow_version 2.x\n",
    "except Exception:\n",
    "    pass"
   ]
  },
  {
   "cell_type": "code",
   "execution_count": 2,
   "metadata": {},
   "outputs": [
    {
     "name": "stdout",
     "output_type": "stream",
     "text": [
      "1.13.1\n"
     ]
    }
   ],
   "source": [
    "# Tensorflow and Keras API\n",
    "import tensorflow as tf\n",
    "from tensorflow import keras\n",
    "\n",
    "import numpy as np\n",
    "\n",
    "print(tf.__version__)"
   ]
  },
  {
   "cell_type": "markdown",
   "metadata": {},
   "source": [
    "## Loading Data\n",
    "- IMDb dataset: 50k reviews (25k positive, 25k negative so balanced)\n",
    "- Balanced binary classification problem: only two classes (1 - positive, 0 - negative) for reviews.\n",
    "- Reviews have been preprocessed as sequences of integers. "
   ]
  },
  {
   "cell_type": "code",
   "execution_count": 3,
   "metadata": {},
   "outputs": [],
   "source": [
    "imdb = keras.datasets.imdb"
   ]
  },
  {
   "cell_type": "code",
   "execution_count": 5,
   "metadata": {},
   "outputs": [],
   "source": [
    "# Configuring numpy to read from IMDb pickle file\n",
    "import numpy as np\n",
    "old = np.load\n",
    "np.load = lambda *a,**k: old(*a, allow_pickle=True, **k)"
   ]
  },
  {
   "cell_type": "code",
   "execution_count": 6,
   "metadata": {},
   "outputs": [],
   "source": [
    "# Tuple unpacking for train-test split: limiting reviews to 10k most commonly occurring words\n",
    "(train_data, train_labels), (test_data, test_labels) = imdb.load_data(num_words=10000)"
   ]
  },
  {
   "cell_type": "markdown",
   "metadata": {},
   "source": [
    "## Exploring Data\n",
    "Each review is an array or sequence of integers, where each integer is a way of encoding one of 10k commonly occurring words. \n",
    "\n",
    "Labels are 1 for positive reviews, and 0 for negative reviews."
   ]
  },
  {
   "cell_type": "code",
   "execution_count": 8,
   "metadata": {},
   "outputs": [
    {
     "name": "stdout",
     "output_type": "stream",
     "text": [
      "Training entries: 25000, labels: 25000\n"
     ]
    }
   ],
   "source": [
    "print(\"Training entries: {}, labels: {}\".format(len(train_data), len(train_labels)))"
   ]
  },
  {
   "cell_type": "code",
   "execution_count": 9,
   "metadata": {},
   "outputs": [
    {
     "name": "stdout",
     "output_type": "stream",
     "text": [
      "[1, 14, 22, 16, 43, 530, 973, 1622, 1385, 65, 458, 4468, 66, 3941, 4, 173, 36, 256, 5, 25, 100, 43, 838, 112, 50, 670, 2, 9, 35, 480, 284, 5, 150, 4, 172, 112, 167, 2, 336, 385, 39, 4, 172, 4536, 1111, 17, 546, 38, 13, 447, 4, 192, 50, 16, 6, 147, 2025, 19, 14, 22, 4, 1920, 4613, 469, 4, 22, 71, 87, 12, 16, 43, 530, 38, 76, 15, 13, 1247, 4, 22, 17, 515, 17, 12, 16, 626, 18, 2, 5, 62, 386, 12, 8, 316, 8, 106, 5, 4, 2223, 5244, 16, 480, 66, 3785, 33, 4, 130, 12, 16, 38, 619, 5, 25, 124, 51, 36, 135, 48, 25, 1415, 33, 6, 22, 12, 215, 28, 77, 52, 5, 14, 407, 16, 82, 2, 8, 4, 107, 117, 5952, 15, 256, 4, 2, 7, 3766, 5, 723, 36, 71, 43, 530, 476, 26, 400, 317, 46, 7, 4, 2, 1029, 13, 104, 88, 4, 381, 15, 297, 98, 32, 2071, 56, 26, 141, 6, 194, 7486, 18, 4, 226, 22, 21, 134, 476, 26, 480, 5, 144, 30, 5535, 18, 51, 36, 28, 224, 92, 25, 104, 4, 226, 65, 16, 38, 1334, 88, 12, 16, 283, 5, 16, 4472, 113, 103, 32, 15, 16, 5345, 19, 178, 32]\n"
     ]
    }
   ],
   "source": [
    "print(train_data[0])"
   ]
  },
  {
   "cell_type": "code",
   "execution_count": 11,
   "metadata": {
    "scrolled": true
   },
   "outputs": [
    {
     "name": "stdout",
     "output_type": "stream",
     "text": [
      "218 189\n"
     ]
    }
   ],
   "source": [
    "# Not all reviews will have the same number of words\n",
    "# NN inputs must have the same dimensions - will resolve with padding\n",
    "print(len(train_data[0]), len(train_data[1]))"
   ]
  },
  {
   "cell_type": "code",
   "execution_count": 13,
   "metadata": {},
   "outputs": [
    {
     "name": "stdout",
     "output_type": "stream",
     "text": [
      "Downloading data from https://storage.googleapis.com/tensorflow/tf-keras-datasets/imdb_word_index.json\n",
      "1646592/1641221 [==============================] - 5s 3us/step\n"
     ]
    }
   ],
   "source": [
    "# Can convert the integers back to words using a dictionary lookup\n",
    "word_index = imdb.get_word_index()"
   ]
  },
  {
   "cell_type": "code",
   "execution_count": 15,
   "metadata": {},
   "outputs": [],
   "source": [
    "# The first four indices are reserved - so shift all values will be shifted by 3\n",
    "word_index = {k:(v+3) for k, v in word_index.items()}\n",
    "\n",
    "# Inserting values for the four reserved keywords\n",
    "word_index['<PAD>'] = 0\n",
    "word_index['<START>'] = 1\n",
    "word_index['<UNK>'] = 2     # Unknown\n",
    "word_index['<UNUSED>'] = 3  "
   ]
  },
  {
   "cell_type": "code",
   "execution_count": 16,
   "metadata": {},
   "outputs": [],
   "source": [
    "# Create a new dictionary from the word_index dictionary\n",
    "# In which the key is the integer and the value is the word it encodes\n",
    "reverse_word_index = dict([(value, key) for (key, value) in word_index.items()])"
   ]
  },
  {
   "cell_type": "code",
   "execution_count": 19,
   "metadata": {},
   "outputs": [],
   "source": [
    "# A function decode reviews\n",
    "def decode_review(text):\n",
    "    return ' '.join([reverse_word_index.get(i, '?') for i in text])"
   ]
  },
  {
   "cell_type": "code",
   "execution_count": 21,
   "metadata": {},
   "outputs": [
    {
     "data": {
      "text/plain": [
       "\"<START> in with i like horrible business chinese charm would killer waited which explosion ? going at fun ? film make like lame character has novel <UNK> a all final sense ? real ? find character nothing <UNK> second perhaps they ? find valuable cover this city an br overall ? horror has i ? should shop was in with ? delightful 00 despite ? with their people is i like horrible an well it br garbage ? with this genre this is i taken that <UNK> ? she sex is and house and after ? ? product bud i final which returned be ? does is i an annoying ? film where if at man it's film sent be ? with is comedy you than some ? in perfect i get <UNK> and ? think plot windows it fun ? <UNK> the lou ? sequence at their like horrible wanted on getting night just the ? <UNK> rich br any other ? couple it someone then he decade more on why ? can't ajay that ? family with for still wanted on final ? such his lindsay that if at you interesting how film any ? family would i an g other is i once ? i boot seen could he it i pitiful was every he\""
      ]
     },
     "execution_count": 21,
     "metadata": {},
     "output_type": "execute_result"
    }
   ],
   "source": [
    "# Can now use this function to find the words for the first review\n",
    "decode_review(train_data[0])"
   ]
  },
  {
   "cell_type": "markdown",
   "metadata": {},
   "source": [
    "## Preparing Data\n",
    "NN must receive inputs of the same, standardised dimensions/lengths. Because different reviews will have different number of words (and thus different lengths) we can either one-hot encode all reviews or pad them with blank characters so that they have the same length."
   ]
  },
  {
   "cell_type": "code",
   "execution_count": 22,
   "metadata": {},
   "outputs": [],
   "source": [
    "# Padding sequences so that they have the same length \n",
    "train_data = keras.preprocessing.sequence.pad_sequences(train_data,\n",
    "                                                       value=word_index[\"<PAD>\"], \n",
    "                                                       padding='post', \n",
    "                                                       maxlen=256)\n",
    "\n",
    "test_data = keras.preprocessing.sequence.pad_sequences(test_data, \n",
    "                                                      value=word_index[\"<PAD>\"], \n",
    "                                                      padding='post', \n",
    "                                                      maxlen=256)"
   ]
  },
  {
   "cell_type": "markdown",
   "metadata": {},
   "source": [
    "## Building the Model"
   ]
  },
  {
   "cell_type": "code",
   "execution_count": 25,
   "metadata": {},
   "outputs": [
    {
     "name": "stdout",
     "output_type": "stream",
     "text": [
      "_________________________________________________________________\n",
      "Layer (type)                 Output Shape              Param #   \n",
      "=================================================================\n",
      "embedding_1 (Embedding)      (None, None, 16)          160000    \n",
      "_________________________________________________________________\n",
      "global_average_pooling1d_1 ( (None, 16)                0         \n",
      "_________________________________________________________________\n",
      "dense_2 (Dense)              (None, 16)                272       \n",
      "_________________________________________________________________\n",
      "dense_3 (Dense)              (None, 1)                 17        \n",
      "=================================================================\n",
      "Total params: 160,289\n",
      "Trainable params: 160,289\n",
      "Non-trainable params: 0\n",
      "_________________________________________________________________\n"
     ]
    }
   ],
   "source": [
    "# input shape is the vocabulary count used for the movie\n",
    "vocab_size = 10000\n",
    "\n",
    "model = keras.Sequential()\n",
    "model.add(keras.layers.Embedding(vocab_size, 16))\n",
    "model.add(keras.layers.GlobalAveragePooling1D())\n",
    "model.add(keras.layers.Dense(16, activation='relu'))\n",
    "model.add(keras.layers.Dense(1, activation='sigmoid'))\n",
    "\n",
    "# Display basic details about the model\n",
    "model.summary()"
   ]
  },
  {
   "cell_type": "markdown",
   "metadata": {},
   "source": [
    "First layer is an `Embedding` layer. It will take a sequence of words representing a single review, and will encode each word in the review as a 16-dimensional vector.\n",
    "\n",
    "Second layer is a `GlobalAveragePooling1D` layer. It reutrns a fixed-lenght output vector by averaging over the sequence dimension. This is the simplest way of allowing the model to handle input of variable length. \n",
    "\n",
    "Third and fourth layers are conventional densely connected ANN layers. The last layer has a single output node which outputs the probability of a specific review belonging to the positive class (y = 1)."
   ]
  },
  {
   "cell_type": "code",
   "execution_count": 26,
   "metadata": {},
   "outputs": [],
   "source": [
    "model.compile(optimizer='adam', \n",
    "             loss='binary_crossentropy', \n",
    "             metrics=['accuracy'])"
   ]
  },
  {
   "cell_type": "code",
   "execution_count": 28,
   "metadata": {},
   "outputs": [],
   "source": [
    "# Creating a validation set from the training set to monitor performance during training\n",
    "x_val = train_data[:10000]\n",
    "partial_x_train = train_data[10000:]\n",
    "\n",
    "y_val = train_labels[:10000]\n",
    "partial_y_train = train_labels[10000:]"
   ]
  },
  {
   "cell_type": "markdown",
   "metadata": {},
   "source": [
    "## Train the Model"
   ]
  },
  {
   "cell_type": "code",
   "execution_count": 29,
   "metadata": {},
   "outputs": [
    {
     "name": "stdout",
     "output_type": "stream",
     "text": [
      "Train on 15000 samples, validate on 10000 samples\n",
      "WARNING:tensorflow:From C:\\Users\\saads\\Anaconda3\\lib\\site-packages\\tensorflow\\python\\ops\\math_ops.py:3066: to_int32 (from tensorflow.python.ops.math_ops) is deprecated and will be removed in a future version.\n",
      "Instructions for updating:\n",
      "Use tf.cast instead.\n",
      "Epoch 1/40\n",
      "15000/15000 [==============================] - 3s 170us/sample - loss: 0.6918 - acc: 0.5783 - val_loss: 0.6894 - val_acc: 0.6402\n",
      "Epoch 2/40\n",
      "15000/15000 [==============================] - 1s 93us/sample - loss: 0.6844 - acc: 0.7089 - val_loss: 0.6793 - val_acc: 0.7368\n",
      "Epoch 3/40\n",
      "15000/15000 [==============================] - 1s 91us/sample - loss: 0.6693 - acc: 0.7523 - val_loss: 0.6607 - val_acc: 0.7571\n",
      "Epoch 4/40\n",
      "15000/15000 [==============================] - 1s 89us/sample - loss: 0.6437 - acc: 0.7617 - val_loss: 0.6318 - val_acc: 0.7678\n",
      "Epoch 5/40\n",
      "15000/15000 [==============================] - 1s 89us/sample - loss: 0.6068 - acc: 0.7925 - val_loss: 0.5938 - val_acc: 0.7894\n",
      "Epoch 6/40\n",
      "15000/15000 [==============================] - 1s 93us/sample - loss: 0.5605 - acc: 0.8153 - val_loss: 0.5492 - val_acc: 0.8067\n",
      "Epoch 7/40\n",
      "15000/15000 [==============================] - 1s 93us/sample - loss: 0.5091 - acc: 0.8326 - val_loss: 0.5017 - val_acc: 0.8247\n",
      "Epoch 8/40\n",
      "15000/15000 [==============================] - 1s 92us/sample - loss: 0.4591 - acc: 0.8519 - val_loss: 0.4593 - val_acc: 0.8378\n",
      "Epoch 9/40\n",
      "15000/15000 [==============================] - 1s 94us/sample - loss: 0.4141 - acc: 0.8663 - val_loss: 0.4226 - val_acc: 0.8485\n",
      "Epoch 10/40\n",
      "15000/15000 [==============================] - 1s 92us/sample - loss: 0.3756 - acc: 0.8779 - val_loss: 0.3935 - val_acc: 0.8547\n",
      "Epoch 11/40\n",
      "15000/15000 [==============================] - 1s 95us/sample - loss: 0.3438 - acc: 0.8863 - val_loss: 0.3701 - val_acc: 0.8618\n",
      "Epoch 12/40\n",
      "15000/15000 [==============================] - 1s 91us/sample - loss: 0.3174 - acc: 0.8933 - val_loss: 0.3525 - val_acc: 0.8662\n",
      "Epoch 13/40\n",
      "15000/15000 [==============================] - 1s 91us/sample - loss: 0.2958 - acc: 0.9007 - val_loss: 0.3373 - val_acc: 0.8717\n",
      "Epoch 14/40\n",
      "15000/15000 [==============================] - 1s 92us/sample - loss: 0.2764 - acc: 0.9061 - val_loss: 0.3261 - val_acc: 0.8746\n",
      "Epoch 15/40\n",
      "15000/15000 [==============================] - 1s 93us/sample - loss: 0.2601 - acc: 0.9107 - val_loss: 0.3170 - val_acc: 0.8769\n",
      "Epoch 16/40\n",
      "15000/15000 [==============================] - 1s 92us/sample - loss: 0.2454 - acc: 0.9167 - val_loss: 0.3096 - val_acc: 0.8771\n",
      "Epoch 17/40\n",
      "15000/15000 [==============================] - 1s 93us/sample - loss: 0.2318 - acc: 0.9205 - val_loss: 0.3035 - val_acc: 0.8804\n",
      "Epoch 18/40\n",
      "15000/15000 [==============================] - 1s 92us/sample - loss: 0.2198 - acc: 0.9249 - val_loss: 0.2987 - val_acc: 0.8824\n",
      "Epoch 19/40\n",
      "15000/15000 [==============================] - 1s 92us/sample - loss: 0.2089 - acc: 0.9270 - val_loss: 0.2944 - val_acc: 0.8832\n",
      "Epoch 20/40\n",
      "15000/15000 [==============================] - 1s 94us/sample - loss: 0.1991 - acc: 0.9323 - val_loss: 0.2917 - val_acc: 0.8842\n",
      "Epoch 21/40\n",
      "15000/15000 [==============================] - 1s 94us/sample - loss: 0.1889 - acc: 0.9372 - val_loss: 0.2894 - val_acc: 0.8842\n",
      "Epoch 22/40\n",
      "15000/15000 [==============================] - 1s 92us/sample - loss: 0.1805 - acc: 0.9408 - val_loss: 0.2876 - val_acc: 0.8856\n",
      "Epoch 23/40\n",
      "15000/15000 [==============================] - 1s 92us/sample - loss: 0.1721 - acc: 0.9452 - val_loss: 0.2875 - val_acc: 0.8848\n",
      "Epoch 24/40\n",
      "15000/15000 [==============================] - 1s 92us/sample - loss: 0.1647 - acc: 0.9478 - val_loss: 0.2867 - val_acc: 0.8857\n",
      "Epoch 25/40\n",
      "15000/15000 [==============================] - 1s 92us/sample - loss: 0.1572 - acc: 0.9509 - val_loss: 0.2858 - val_acc: 0.8860\n",
      "Epoch 26/40\n",
      "15000/15000 [==============================] - 1s 93us/sample - loss: 0.1505 - acc: 0.9530 - val_loss: 0.2872 - val_acc: 0.8842\n",
      "Epoch 27/40\n",
      "15000/15000 [==============================] - 1s 92us/sample - loss: 0.1441 - acc: 0.9561 - val_loss: 0.2873 - val_acc: 0.8856\n",
      "Epoch 28/40\n",
      "15000/15000 [==============================] - 1s 92us/sample - loss: 0.1380 - acc: 0.9583 - val_loss: 0.2889 - val_acc: 0.8863\n",
      "Epoch 29/40\n",
      "15000/15000 [==============================] - 1s 93us/sample - loss: 0.1326 - acc: 0.9613 - val_loss: 0.2909 - val_acc: 0.8848\n",
      "Epoch 30/40\n",
      "15000/15000 [==============================] - 1s 94us/sample - loss: 0.1270 - acc: 0.9629 - val_loss: 0.2910 - val_acc: 0.8862\n",
      "Epoch 31/40\n",
      "15000/15000 [==============================] - 1s 92us/sample - loss: 0.1212 - acc: 0.9657 - val_loss: 0.2927 - val_acc: 0.8865\n",
      "Epoch 32/40\n",
      "15000/15000 [==============================] - 1s 91us/sample - loss: 0.1162 - acc: 0.9683 - val_loss: 0.2949 - val_acc: 0.8855\n",
      "Epoch 33/40\n",
      "15000/15000 [==============================] - 1s 94us/sample - loss: 0.1114 - acc: 0.9693 - val_loss: 0.2979 - val_acc: 0.8847\n",
      "Epoch 34/40\n",
      "15000/15000 [==============================] - 1s 90us/sample - loss: 0.1069 - acc: 0.9707 - val_loss: 0.3010 - val_acc: 0.8841\n",
      "Epoch 35/40\n",
      "15000/15000 [==============================] - 1s 91us/sample - loss: 0.1027 - acc: 0.9717 - val_loss: 0.3043 - val_acc: 0.8850\n",
      "Epoch 36/40\n",
      "15000/15000 [==============================] - 1s 91us/sample - loss: 0.0985 - acc: 0.9737 - val_loss: 0.3065 - val_acc: 0.8833\n",
      "Epoch 37/40\n",
      "15000/15000 [==============================] - 1s 91us/sample - loss: 0.0942 - acc: 0.9749 - val_loss: 0.3099 - val_acc: 0.8829\n",
      "Epoch 38/40\n",
      "15000/15000 [==============================] - 1s 92us/sample - loss: 0.0903 - acc: 0.9767 - val_loss: 0.3143 - val_acc: 0.8817\n",
      "Epoch 39/40\n",
      "15000/15000 [==============================] - 1s 91us/sample - loss: 0.0872 - acc: 0.9781 - val_loss: 0.3191 - val_acc: 0.8807\n",
      "Epoch 40/40\n",
      "15000/15000 [==============================] - 1s 91us/sample - loss: 0.0830 - acc: 0.9799 - val_loss: 0.3228 - val_acc: 0.8811\n"
     ]
    }
   ],
   "source": [
    "history = model.fit(partial_x_train, \n",
    "                   partial_y_train, \n",
    "                   epochs=40, \n",
    "                   batch_size=512, \n",
    "                   validation_data=(x_val, y_val), \n",
    "                   verbose=1)"
   ]
  },
  {
   "cell_type": "markdown",
   "metadata": {},
   "source": [
    "## Evaluating the Model\n",
    "How well does the model perform on the test set?"
   ]
  },
  {
   "cell_type": "code",
   "execution_count": 30,
   "metadata": {},
   "outputs": [
    {
     "name": "stdout",
     "output_type": "stream",
     "text": [
      "25000/25000 [==============================] - 1s 53us/sample - loss: 0.3457 - acc: 0.8693\n",
      "[0.3457086467790604, 0.86928]\n"
     ]
    }
   ],
   "source": [
    "results = model.evaluate(test_data, test_labels)\n",
    "print(results)"
   ]
  },
  {
   "cell_type": "markdown",
   "metadata": {},
   "source": [
    "Validation set gave accuracy of 88.11%, while the test set gives a lower accuracy of 86.93%. This means there may be a little overfitting in the model."
   ]
  },
  {
   "cell_type": "markdown",
   "metadata": {},
   "source": [
    "## Plotting Training Data"
   ]
  },
  {
   "cell_type": "code",
   "execution_count": 32,
   "metadata": {},
   "outputs": [
    {
     "data": {
      "text/plain": [
       "dict_keys(['loss', 'acc', 'val_loss', 'val_acc'])"
      ]
     },
     "execution_count": 32,
     "metadata": {},
     "output_type": "execute_result"
    }
   ],
   "source": [
    "history_dict = history.history\n",
    "history_dict.keys() # loss, acc, val_loss, val_acc"
   ]
  },
  {
   "cell_type": "code",
   "execution_count": 33,
   "metadata": {},
   "outputs": [],
   "source": [
    "import matplotlib.pyplot as plt \n",
    "%matplotlib inline"
   ]
  },
  {
   "cell_type": "code",
   "execution_count": 35,
   "metadata": {},
   "outputs": [],
   "source": [
    "acc = history_dict['acc']\n",
    "val_acc = history_dict['val_acc']\n",
    "loss = history_dict['loss']\n",
    "val_loss = history_dict['val_loss']"
   ]
  },
  {
   "cell_type": "code",
   "execution_count": 36,
   "metadata": {},
   "outputs": [],
   "source": [
    "epochs = range(1, len(acc) + 1)"
   ]
  },
  {
   "cell_type": "code",
   "execution_count": 37,
   "metadata": {},
   "outputs": [
    {
     "data": {
      "image/png": "[encoded data removed]",
      "text/plain": [
       "<Figure size 432x288 with 1 Axes>"
      ]
     },
     "metadata": {
      "needs_background": "light"
     },
     "output_type": "display_data"
    }
   ],
   "source": [
    "# Plotting training and validation loss\n",
    "plt.plot(epochs, loss, 'bo', label='Training Loss')\n",
    "plt.plot(epochs, val_loss, 'b-', label='Validation Loss')\n",
    "plt.xlabel('Epochs')\n",
    "plt.ylabel('Loss')\n",
    "plt.grid(True)\n",
    "plt.legend()\n",
    "plt.show()"
   ]
  },
  {
   "cell_type": "code",
   "execution_count": 38,
   "metadata": {},
   "outputs": [
    {
     "data": {
      "image/png": "[encoded data removed]",
      "text/plain": [
       "<Figure size 432x288 with 1 Axes>"
      ]
     },
     "metadata": {
      "needs_background": "light"
     },
     "output_type": "display_data"
    }
   ],
   "source": [
    "# Plotting training and validation accuracy\n",
    "plt.plot(epochs, acc, 'bo', label='Training Accuracy')\n",
    "plt.plot(epochs, val_acc, 'b-', label='Validation Accuracy')\n",
    "plt.xlabel('Epochs')\n",
    "plt.ylabel('Accuracy')\n",
    "plt.grid(True)\n",
    "plt.legend()\n",
    "plt.show()"
   ]
  }
 ],
 "metadata": {
  "kernelspec": {
   "display_name": "Python 3",
   "language": "python",
   "name": "python3"
  },
  "language_info": {
   "codemirror_mode": {
    "name": "ipython",
    "version": 3
   },
   "file_extension": ".py",
   "mimetype": "text/x-python",
   "name": "python",
   "nbconvert_exporter": "python",
   "pygments_lexer": "ipython3",
   "version": "3.7.3"
  }
 },
 "nbformat": 4,
 "nbformat_minor": 2
}
