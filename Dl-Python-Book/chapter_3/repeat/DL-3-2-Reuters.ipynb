{
 "cells": [
  {
   "cell_type": "markdown",
   "metadata": {},
   "source": [
    "# Deep Learning with Python - 3.2\n",
    "## Multiclass Classification - Reuters Dataset"
   ]
  },
  {
   "cell_type": "markdown",
   "metadata": {},
   "source": [
    "### Reading the Data"
   ]
  },
  {
   "cell_type": "code",
   "execution_count": 1,
   "metadata": {},
   "outputs": [],
   "source": [
    "from tensorflow import keras"
   ]
  },
  {
   "cell_type": "code",
   "execution_count": 2,
   "metadata": {},
   "outputs": [],
   "source": [
    "from tensorflow.keras.datasets import reuters"
   ]
  },
  {
   "cell_type": "code",
   "execution_count": 3,
   "metadata": {},
   "outputs": [],
   "source": [
    "# Setting up `numpy` to read in pickle files\n",
    "import numpy as np\n",
    "\n",
    "# save np.load\n",
    "np_load_old = np.load\n",
    "\n",
    "# modify the default parameters of np.load\n",
    "np.load = lambda *a,**k: np_load_old(*a, allow_pickle=True, **k)\n",
    "\n",
    "# call load_data with allow_pickle implicitly set to true\n",
    "(train_data, train_labels), (test_data, test_labels) = reuters.load_data(num_words=10000)\n",
    "\n",
    "# restore np.load for future normal usage\n",
    "np.load = np_load_old"
   ]
  },
  {
   "cell_type": "markdown",
   "metadata": {},
   "source": [
    "### Data Preprocessing"
   ]
  },
  {
   "cell_type": "code",
   "execution_count": 6,
   "metadata": {},
   "outputs": [
    {
     "name": "stdout",
     "output_type": "stream",
     "text": [
      "Number of training examples =\t 8982\n",
      "Number of test examples =\t 2246\n"
     ]
    }
   ],
   "source": [
    "# How many training examples do we have?\n",
    "print(\"Number of training examples =\\t\", len(train_data))\n",
    "\n",
    "# Howe many test examples do we have?\n",
    "print(\"Number of test examples =\\t\", len(test_data))"
   ]
  },
  {
   "cell_type": "code",
   "execution_count": 7,
   "metadata": {},
   "outputs": [
    {
     "data": {
      "text/plain": [
       "[1,\n",
       " 2,\n",
       " 2,\n",
       " 8,\n",
       " 43,\n",
       " 10,\n",
       " 447,\n",
       " 5,\n",
       " 25,\n",
       " 207,\n",
       " 270,\n",
       " 5,\n",
       " 3095,\n",
       " 111,\n",
       " 16,\n",
       " 369,\n",
       " 186,\n",
       " 90,\n",
       " 67,\n",
       " 7,\n",
       " 89,\n",
       " 5,\n",
       " 19,\n",
       " 102,\n",
       " 6,\n",
       " 19,\n",
       " 124,\n",
       " 15,\n",
       " 90,\n",
       " 67,\n",
       " 84,\n",
       " 22,\n",
       " 482,\n",
       " 26,\n",
       " 7,\n",
       " 48,\n",
       " 4,\n",
       " 49,\n",
       " 8,\n",
       " 864,\n",
       " 39,\n",
       " 209,\n",
       " 154,\n",
       " 6,\n",
       " 151,\n",
       " 6,\n",
       " 83,\n",
       " 11,\n",
       " 15,\n",
       " 22,\n",
       " 155,\n",
       " 11,\n",
       " 15,\n",
       " 7,\n",
       " 48,\n",
       " 9,\n",
       " 4579,\n",
       " 1005,\n",
       " 504,\n",
       " 6,\n",
       " 258,\n",
       " 6,\n",
       " 272,\n",
       " 11,\n",
       " 15,\n",
       " 22,\n",
       " 134,\n",
       " 44,\n",
       " 11,\n",
       " 15,\n",
       " 16,\n",
       " 8,\n",
       " 197,\n",
       " 1245,\n",
       " 90,\n",
       " 67,\n",
       " 52,\n",
       " 29,\n",
       " 209,\n",
       " 30,\n",
       " 32,\n",
       " 132,\n",
       " 6,\n",
       " 109,\n",
       " 15,\n",
       " 17,\n",
       " 12]"
      ]
     },
     "execution_count": 7,
     "metadata": {},
     "output_type": "execute_result"
    }
   ],
   "source": [
    "# Each review is an array of integers, with each integer encoding one of 10_000 commonly ocurring words\n",
    "train_data[0]"
   ]
  },
  {
   "cell_type": "code",
   "execution_count": 17,
   "metadata": {},
   "outputs": [],
   "source": [
    "# Vectorizing the sequence of words using one-hot encoding\n",
    "def vectorize_sequences(sequences, dimensions=10000):\n",
    "    results = np.zeros((len(sequences), dimensions))\n",
    "    for i, sequence in enumerate(sequences):\n",
    "        results[i, sequence] = 1.\n",
    "    return results\n",
    "\n",
    "# Have to either cast the multiclass labels to integer tensor\n",
    "# Alternatively, we can also use one-hot encoding for the labels\n",
    "def to_one_hot(labels, dimensions=46):\n",
    "    results = np.zeros((len(labels), dimensions))\n",
    "    for i, label in enumerate(labels):\n",
    "        results[i, label] = 1.\n",
    "    return results"
   ]
  },
  {
   "cell_type": "code",
   "execution_count": 19,
   "metadata": {},
   "outputs": [],
   "source": [
    "# Vectorizing data\n",
    "x_train = vectorize_sequences(train_data)\n",
    "x_test = vectorize_sequences(test_data)\n",
    "\n",
    "# One-Hot Encoding the labels\n",
    "y_train = to_one_hot(train_labels)\n",
    "y_test = to_one_hot(test_labels)"
   ]
  },
  {
   "cell_type": "code",
   "execution_count": 30,
   "metadata": {},
   "outputs": [],
   "source": [
    "# Also possible to convert labels to categorical data using built-in keras functions\n",
    "from tensorflow.keras.utils import to_categorical\n",
    "\n",
    "one_hot_train_labels = to_categorical(train_labels)\n",
    "one_hot_test_labels = to_categorical(test_labels)"
   ]
  },
  {
   "cell_type": "code",
   "execution_count": 41,
   "metadata": {},
   "outputs": [],
   "source": [
    "# Extracting validation data from the training data\n",
    "x_val = x_train[:1000]\n",
    "y_val = y_train[:1000]\n",
    "\n",
    "partial_x_train = x_train[1000:]\n",
    "partial_y_train = y_train[1000:]"
   ]
  },
  {
   "cell_type": "markdown",
   "metadata": {},
   "source": [
    "## Building a Network\n",
    "Because each sample can be classified into one of 46 different classes, using only 16 units per hidden layer will not provide us with a rich enough hypothesis space to learn the complicated non-linear transformation required to map to one of these 46 classes.\n",
    "\n",
    "So we will use 64 hidden units per class instead. Hidden units are usually incremented in powers of 2: 8, 16, 32, 64, 128, and so on.\n",
    "\n",
    "Using fewer than 64 units would create an **information bottleneck** - layers earlier in the network lose out on important information because they do not possess enough hidden units and thus do not have a rich enough hypothesis space to learn the required mapping from a 10k dimensional vector to one of 46 classes.\n",
    "\n",
    "This means layers added later in the network also miss out on this information, and the entire network's performance is **bottlenecked** by the lack of sufficient nonlinearity earlier on in the network"
   ]
  },
  {
   "cell_type": "code",
   "execution_count": 39,
   "metadata": {},
   "outputs": [
    {
     "name": "stdout",
     "output_type": "stream",
     "text": [
      "WARNING:tensorflow:From C:\\Users\\saads\\Anaconda3\\lib\\site-packages\\tensorflow\\python\\ops\\resource_variable_ops.py:435: colocate_with (from tensorflow.python.framework.ops) is deprecated and will be removed in a future version.\n",
      "Instructions for updating:\n",
      "Colocations handled automatically by placer.\n"
     ]
    }
   ],
   "source": [
    "from tensorflow.keras import models, layers\n",
    "model = models.Sequential()\n",
    "model.add(layers.Dense(activation='relu', input_shape=(10000,), units=64))\n",
    "model.add(layers.Dense(activation='relu', units=64))\n",
    "\n",
    "# In the output layer, there will be one hidden unit for each possible output class\n",
    "# The sum of probabilities of all units in the softmax layer will be 1\n",
    "model.add(layers.Dense(activation='softmax', units=46))"
   ]
  },
  {
   "cell_type": "code",
   "execution_count": 40,
   "metadata": {},
   "outputs": [],
   "source": [
    "# Compile the model\n",
    "model.compile(optimizer='rmsprop', \n",
    "             loss='categorical_crossentropy', \n",
    "             metrics=['accuracy'])"
   ]
  },
  {
   "cell_type": "markdown",
   "metadata": {},
   "source": [
    "### Training the Model"
   ]
  },
  {
   "cell_type": "code",
   "execution_count": 42,
   "metadata": {},
   "outputs": [
    {
     "name": "stdout",
     "output_type": "stream",
     "text": [
      "Train on 7982 samples, validate on 1000 samples\n",
      "WARNING:tensorflow:From C:\\Users\\saads\\Anaconda3\\lib\\site-packages\\tensorflow\\python\\ops\\math_ops.py:3066: to_int32 (from tensorflow.python.ops.math_ops) is deprecated and will be removed in a future version.\n",
      "Instructions for updating:\n",
      "Use tf.cast instead.\n",
      "Epoch 1/20\n",
      "7982/7982 [==============================] - 3s 336us/sample - loss: 2.5979 - acc: 0.4832 - val_loss: 1.6867 - val_acc: 0.6570\n",
      "Epoch 2/20\n",
      "7982/7982 [==============================] - 2s 226us/sample - loss: 1.3763 - acc: 0.7230 - val_loss: 1.2557 - val_acc: 0.7430\n",
      "Epoch 3/20\n",
      "7982/7982 [==============================] - 2s 213us/sample - loss: 1.0125 - acc: 0.7854 - val_loss: 1.1020 - val_acc: 0.7630\n",
      "Epoch 4/20\n",
      "7982/7982 [==============================] - 2s 232us/sample - loss: 0.7912 - acc: 0.8341 - val_loss: 1.0218 - val_acc: 0.7880\n",
      "Epoch 5/20\n",
      "7982/7982 [==============================] - 2s 216us/sample - loss: 0.6319 - acc: 0.8693 - val_loss: 0.9410 - val_acc: 0.8100\n",
      "Epoch 6/20\n",
      "7982/7982 [==============================] - 2s 219us/sample - loss: 0.5042 - acc: 0.8965 - val_loss: 0.9054 - val_acc: 0.8160\n",
      "Epoch 7/20\n",
      "7982/7982 [==============================] - 2s 227us/sample - loss: 0.4085 - acc: 0.9161 - val_loss: 0.8966 - val_acc: 0.8160\n",
      "Epoch 8/20\n",
      "7982/7982 [==============================] - 2s 218us/sample - loss: 0.3356 - acc: 0.9280 - val_loss: 0.8968 - val_acc: 0.8190\n",
      "Epoch 9/20\n",
      "7982/7982 [==============================] - 2s 214us/sample - loss: 0.2764 - acc: 0.9402 - val_loss: 0.9079 - val_acc: 0.8100\n",
      "Epoch 10/20\n",
      "7982/7982 [==============================] - 2s 256us/sample - loss: 0.2363 - acc: 0.9453 - val_loss: 0.9260 - val_acc: 0.8080\n",
      "Epoch 11/20\n",
      "7982/7982 [==============================] - 2s 218us/sample - loss: 0.2068 - acc: 0.9496 - val_loss: 0.8955 - val_acc: 0.8200\n",
      "Epoch 12/20\n",
      "7982/7982 [==============================] - 2s 215us/sample - loss: 0.1782 - acc: 0.9538 - val_loss: 0.9414 - val_acc: 0.8170\n",
      "Epoch 13/20\n",
      "7982/7982 [==============================] - 2s 253us/sample - loss: 0.1617 - acc: 0.9548 - val_loss: 0.9461 - val_acc: 0.8110\n",
      "Epoch 14/20\n",
      "7982/7982 [==============================] - 2s 290us/sample - loss: 0.1488 - acc: 0.9546 - val_loss: 0.9788 - val_acc: 0.8110\n",
      "Epoch 15/20\n",
      "7982/7982 [==============================] - 2s 280us/sample - loss: 0.1411 - acc: 0.9554 - val_loss: 0.9940 - val_acc: 0.8060\n",
      "Epoch 16/20\n",
      "7982/7982 [==============================] - 3s 349us/sample - loss: 0.1324 - acc: 0.9563 - val_loss: 1.0266 - val_acc: 0.8060\n",
      "Epoch 17/20\n",
      "7982/7982 [==============================] - 3s 320us/sample - loss: 0.1253 - acc: 0.9550 - val_loss: 1.0549 - val_acc: 0.8040\n",
      "Epoch 18/20\n",
      "7982/7982 [==============================] - 2s 308us/sample - loss: 0.1251 - acc: 0.9560 - val_loss: 1.0642 - val_acc: 0.8050\n",
      "Epoch 19/20\n",
      "7982/7982 [==============================] - 3s 338us/sample - loss: 0.1141 - acc: 0.9569 - val_loss: 1.0394 - val_acc: 0.8070\n",
      "Epoch 20/20\n",
      "7982/7982 [==============================] - 2s 303us/sample - loss: 0.1151 - acc: 0.9577 - val_loss: 1.0877 - val_acc: 0.7990\n"
     ]
    }
   ],
   "source": [
    "history = model.fit(x=partial_x_train,\n",
    "                   y=partial_y_train,\n",
    "                   batch_size=512,\n",
    "                   epochs=20,\n",
    "                   validation_data=(x_val, y_val))"
   ]
  },
  {
   "cell_type": "markdown",
   "metadata": {},
   "source": [
    "### Visualizing Training Results\n"
   ]
  },
  {
   "cell_type": "code",
   "execution_count": 45,
   "metadata": {},
   "outputs": [],
   "source": [
    "# First import matplotlib and configure Jupyter Notebook to display graph in the notebook\n",
    "import matplotlib.pyplot as plt\n",
    "%matplotlib inline"
   ]
  },
  {
   "cell_type": "code",
   "execution_count": 46,
   "metadata": {},
   "outputs": [],
   "source": [
    "# Getting data for plotting\n",
    "loss = history.history['loss']\n",
    "acc = history.history['acc']\n",
    "val_loss = history.history['val_loss']\n",
    "val_acc = history.history['val_acc']\n",
    "epochs = range(1, len(loss) + 1)"
   ]
  },
  {
   "cell_type": "code",
   "execution_count": 48,
   "metadata": {},
   "outputs": [
    {
     "data": {
      "image/png": "[encoded data removed]",
      "text/plain": [
       "<Figure size 432x288 with 1 Axes>"
      ]
     },
     "metadata": {
      "needs_background": "light"
     },
     "output_type": "display_data"
    }
   ],
   "source": [
    "# Plotting loss\n",
    "plt.figure(); plt.plot(epochs, loss, 'bo', label='Training Loss')\n",
    "plt.plot(epochs, val_loss, 'b-', label='Validation Loss')\n",
    "plt.xlabel('Epochs'); plt.ylabel('Loss'); plt.grid(True); plt.legend()\n",
    "plt.title('Training vs Validation Loss - Reuters, 64 Layers, 20 Epochs')\n",
    "plt.show()"
   ]
  },
  {
   "cell_type": "code",
   "execution_count": 49,
   "metadata": {},
   "outputs": [
    {
     "data": {
      "image/png": "[encoded data removed]",
      "text/plain": [
       "<Figure size 432x288 with 1 Axes>"
      ]
     },
     "metadata": {
      "needs_background": "light"
     },
     "output_type": "display_data"
    }
   ],
   "source": [
    "# Plotting accuracy\n",
    "plt.figure(); plt.plot(epochs, acc, 'bo', label='Training Accuracy')\n",
    "plt.plot(epochs, val_acc, 'b-', label='Validation Accuracy')\n",
    "plt.xlabel('Epochs'); plt.ylabel('Accuracy'); plt.grid(True); plt.legend()\n",
    "plt.title('Training vs Validation Accuracy - Reuters, 64 Layers, 20 Epochs')\n",
    "plt.show()"
   ]
  },
  {
   "cell_type": "markdown",
   "metadata": {},
   "source": [
    "It is clear from the visualizations for both loss and accuracy that the network begins to overfit after 9 epochs. The training acccuracy approaches 1 but the validation accuracy plateaus around 0.8, and actually seems to decrease as we approach 20 epochs."
   ]
  },
  {
   "cell_type": "markdown",
   "metadata": {},
   "source": [
    "### Retraining a model with fewer epochs"
   ]
  },
  {
   "cell_type": "code",
   "execution_count": 56,
   "metadata": {},
   "outputs": [],
   "source": [
    "# Instantiate\n",
    "newModel = models.Sequential()\n",
    "\n",
    "# Add Layers\n",
    "newModel.add(layers.Dense(units=64, input_shape=(10000,), activation='relu'))\n",
    "newModel.add(layers.Dense(units=64, activation='relu'))\n",
    "newModel.add(layers.Dense(units=46, activation='softmax'))\n",
    "\n",
    "# Compile\n",
    "newModel.compile(optimizer='rmsprop', loss='categorical_crossentropy', metrics=['accuracy'])"
   ]
  },
  {
   "cell_type": "code",
   "execution_count": 57,
   "metadata": {},
   "outputs": [
    {
     "name": "stdout",
     "output_type": "stream",
     "text": [
      "Train on 7982 samples, validate on 1000 samples\n",
      "Epoch 1/9\n",
      "7982/7982 [==============================] - 2s 251us/sample - loss: 2.6528 - acc: 0.5452 - val_loss: 1.7446 - val_acc: 0.6450\n",
      "Epoch 2/9\n",
      "7982/7982 [==============================] - 2s 214us/sample - loss: 1.4230 - acc: 0.7072 - val_loss: 1.3196 - val_acc: 0.7190\n",
      "Epoch 3/9\n",
      "7982/7982 [==============================] - 2s 217us/sample - loss: 1.0492 - acc: 0.7783 - val_loss: 1.1358 - val_acc: 0.7570\n",
      "Epoch 4/9\n",
      "7982/7982 [==============================] - 2s 233us/sample - loss: 0.8266 - acc: 0.8242 - val_loss: 1.0492 - val_acc: 0.7740\n",
      "Epoch 5/9\n",
      "7982/7982 [==============================] - 2s 242us/sample - loss: 0.6576 - acc: 0.8614 - val_loss: 0.9709 - val_acc: 0.7930\n",
      "Epoch 6/9\n",
      "7982/7982 [==============================] - 2s 234us/sample - loss: 0.5258 - acc: 0.8906 - val_loss: 0.9295 - val_acc: 0.8090\n",
      "Epoch 7/9\n",
      "7982/7982 [==============================] - 2s 235us/sample - loss: 0.4288 - acc: 0.9099 - val_loss: 0.9039 - val_acc: 0.8130\n",
      "Epoch 8/9\n",
      "7982/7982 [==============================] - 2s 222us/sample - loss: 0.3437 - acc: 0.9252 - val_loss: 0.9040 - val_acc: 0.8160\n",
      "Epoch 9/9\n",
      "7982/7982 [==============================] - 2s 221us/sample - loss: 0.2853 - acc: 0.9369 - val_loss: 0.8950 - val_acc: 0.8140\n"
     ]
    }
   ],
   "source": [
    "# Train with fewer epochs but the same validation data, training data, and batch size\n",
    "newModelHistory = newModel.fit(partial_x_train,\n",
    "                              partial_y_train,\n",
    "                              epochs=9,\n",
    "                              batch_size=512,\n",
    "                              validation_data=(x_val, y_val))"
   ]
  },
  {
   "cell_type": "code",
   "execution_count": 53,
   "metadata": {},
   "outputs": [],
   "source": [
    "# Getting data for plotting\n",
    "loss = newModelHistory.history['loss']\n",
    "acc = newModelHistory.history['acc']\n",
    "val_loss = newModelHistory.history['val_loss']\n",
    "val_acc = newModelHistory.history['val_acc']\n",
    "epochs = range(1, len(loss) + 1)"
   ]
  },
  {
   "cell_type": "code",
   "execution_count": 54,
   "metadata": {},
   "outputs": [
    {
     "data": {
      "image/png": "[encoded data removed]",
      "text/plain": [
       "<Figure size 432x288 with 1 Axes>"
      ]
     },
     "metadata": {
      "needs_background": "light"
     },
     "output_type": "display_data"
    }
   ],
   "source": [
    "# Plotting accuracy\n",
    "plt.figure(); plt.plot(epochs, acc, 'bo', label='Training Accuracy')\n",
    "plt.plot(epochs, val_acc, 'b-', label='Validation Accuracy')\n",
    "plt.xlabel('Epochs'); plt.ylabel('Accuracy'); plt.grid(True); plt.legend()\n",
    "plt.title('Training vs Validation Accuracy - Reuters, 64 Layers, 9 Epochs')\n",
    "plt.show()"
   ]
  },
  {
   "cell_type": "code",
   "execution_count": 55,
   "metadata": {},
   "outputs": [
    {
     "data": {
      "image/png": "[encoded data removed]",
      "text/plain": [
       "<Figure size 432x288 with 1 Axes>"
      ]
     },
     "metadata": {
      "needs_background": "light"
     },
     "output_type": "display_data"
    }
   ],
   "source": [
    "# Plotting loss\n",
    "plt.figure(); plt.plot(epochs, loss, 'bo', label='Training Loss')\n",
    "plt.plot(epochs, val_loss, 'b-', label='Validation Loss')\n",
    "plt.xlabel('Epochs'); plt.ylabel('Loss'); plt.grid(True); plt.legend()\n",
    "plt.title('Training vs Validation Loss - Reuters, 64 Layers, 20 Epochs')\n",
    "plt.show()"
   ]
  },
  {
   "cell_type": "markdown",
   "metadata": {},
   "source": [
    "### Predictions\n",
    "Using the model trained on 9 epochs, we will make predictions on our test set.\n",
    "\n",
    "`evaluate` outputs loss of our model on the data we pass to it, along with any other metrics we passed to it during training.\n",
    "\n",
    "`predict` outputs the actual predicted labels for each example in the training data. Its output is not loss or accuracy, but can be used to compute them."
   ]
  },
  {
   "cell_type": "code",
   "execution_count": 58,
   "metadata": {},
   "outputs": [
    {
     "name": "stdout",
     "output_type": "stream",
     "text": [
      "2246/2246 [==============================] - 1s 241us/sample - loss: 0.9817 - acc: 0.7898\n"
     ]
    }
   ],
   "source": [
    "results = newModel.evaluate(x_test, y_test)"
   ]
  },
  {
   "cell_type": "code",
   "execution_count": 59,
   "metadata": {},
   "outputs": [],
   "source": [
    "predictedLabels = newModel.predict(x_test)"
   ]
  },
  {
   "cell_type": "code",
   "execution_count": 60,
   "metadata": {},
   "outputs": [
    {
     "data": {
      "text/plain": [
       "(46,)"
      ]
     },
     "execution_count": 60,
     "metadata": {},
     "output_type": "execute_result"
    }
   ],
   "source": [
    "# Each entry in `prediction` is a vector of length 46\n",
    "predictedLabels[0].shape"
   ]
  },
  {
   "cell_type": "code",
   "execution_count": 62,
   "metadata": {},
   "outputs": [
    {
     "data": {
      "text/plain": [
       "1.0"
      ]
     },
     "execution_count": 62,
     "metadata": {},
     "output_type": "execute_result"
    }
   ],
   "source": [
    "# The coefficients in this vector sum to 1\n",
    "np.sum(predictedLabels[0])"
   ]
  },
  {
   "cell_type": "code",
   "execution_count": 63,
   "metadata": {},
   "outputs": [
    {
     "data": {
      "text/plain": [
       "array([1.64473640e-05, 5.44650720e-05, 1.20499381e-05, 3.73581409e-01,\n",
       "       6.07339442e-01, 5.52514075e-06, 4.64815617e-04, 3.10689938e-04,\n",
       "       4.22702497e-03, 9.07234935e-05, 1.30911227e-04, 8.23856215e-04,\n",
       "       5.08871279e-04, 2.30953190e-03, 2.62937334e-04, 2.31836202e-05,\n",
       "       2.18367204e-03, 3.65759042e-04, 5.23891395e-05, 1.60107028e-03,\n",
       "       5.73530735e-04, 1.09260734e-04, 3.88460721e-05, 5.51154721e-04,\n",
       "       6.93874608e-05, 4.34501650e-04, 1.09809625e-05, 1.32304252e-04,\n",
       "       4.01268946e-04, 3.58188612e-04, 7.59546820e-04, 8.53230449e-05,\n",
       "       4.04742714e-05, 2.46738473e-05, 1.06882500e-04, 5.97205399e-05,\n",
       "       3.87617212e-04, 1.70206695e-04, 1.90127976e-05, 2.19907233e-04,\n",
       "       1.35102919e-05, 1.02575647e-03, 1.80340139e-05, 2.41703083e-06,\n",
       "       1.75528658e-05, 5.22593746e-06], dtype=float32)"
      ]
     },
     "execution_count": 63,
     "metadata": {},
     "output_type": "execute_result"
    }
   ],
   "source": [
    "# So the prediction for each test sample is a vector of probabilities\n",
    "# Each probability is the likelihood that the tested sample belongs \n",
    "# to the class that is encoded by that index in the column\n",
    "predictedLabels[0]"
   ]
  },
  {
   "cell_type": "code",
   "execution_count": 64,
   "metadata": {},
   "outputs": [
    {
     "data": {
      "text/plain": [
       "4"
      ]
     },
     "execution_count": 64,
     "metadata": {},
     "output_type": "execute_result"
    }
   ],
   "source": [
    "np.argmax(predictedLabels[0])"
   ]
  },
  {
   "cell_type": "code",
   "execution_count": 65,
   "metadata": {},
   "outputs": [],
   "source": [
    "# The maximum probability is at index 4, so it means that the current\n",
    "# tested belongs to the topic class encoded by 4"
   ]
  },
  {
   "cell_type": "markdown",
   "metadata": {},
   "source": [
    "## Information Bottleneck - Fewer Hidden Units"
   ]
  },
  {
   "cell_type": "code",
   "execution_count": 68,
   "metadata": {},
   "outputs": [],
   "source": [
    "bnModel = models.Sequential()\n",
    "bnModel.add(layers.Dense(units=64, activation='relu', input_shape=(10000,)))\n",
    "bnModel.add(layers.Dense(units=4, activation='relu'))\n",
    "bnModel.add(layers.Dense(units=46, activation='softmax'))"
   ]
  },
  {
   "cell_type": "code",
   "execution_count": 69,
   "metadata": {},
   "outputs": [],
   "source": [
    "bnModel.compile(optimizer='rmsprop',\n",
    "               loss='categorical_crossentropy', \n",
    "               metrics=['accuracy'])"
   ]
  },
  {
   "cell_type": "code",
   "execution_count": 70,
   "metadata": {},
   "outputs": [
    {
     "name": "stdout",
     "output_type": "stream",
     "text": [
      "Train on 7982 samples, validate on 1000 samples\n",
      "Epoch 1/20\n",
      "7982/7982 [==============================] - 3s 373us/sample - loss: 2.5956 - acc: 0.3586 - val_loss: 1.9926 - val_acc: 0.3750\n",
      "Epoch 2/20\n",
      "7982/7982 [==============================] - 3s 316us/sample - loss: 1.7772 - acc: 0.5355 - val_loss: 1.6244 - val_acc: 0.5830\n",
      "Epoch 3/20\n",
      "7982/7982 [==============================] - 3s 338us/sample - loss: 1.5034 - acc: 0.6041 - val_loss: 1.5183 - val_acc: 0.6040\n",
      "Epoch 4/20\n",
      "7982/7982 [==============================] - 3s 320us/sample - loss: 1.3512 - acc: 0.6654 - val_loss: 1.4477 - val_acc: 0.6500\n",
      "Epoch 5/20\n",
      "7982/7982 [==============================] - 3s 314us/sample - loss: 1.2411 - acc: 0.6842 - val_loss: 1.4553 - val_acc: 0.6570\n",
      "Epoch 6/20\n",
      "7982/7982 [==============================] - 3s 320us/sample - loss: 1.1536 - acc: 0.6883 - val_loss: 1.3788 - val_acc: 0.6670\n",
      "Epoch 7/20\n",
      "7982/7982 [==============================] - 3s 320us/sample - loss: 1.0828 - acc: 0.6926 - val_loss: 1.3890 - val_acc: 0.6600\n",
      "Epoch 8/20\n",
      "7982/7982 [==============================] - 3s 329us/sample - loss: 1.0243 - acc: 0.6996 - val_loss: 1.4009 - val_acc: 0.6650\n",
      "Epoch 9/20\n",
      "7982/7982 [==============================] - 3s 386us/sample - loss: 0.9731 - acc: 0.7134 - val_loss: 1.4070 - val_acc: 0.6690\n",
      "Epoch 10/20\n",
      "7982/7982 [==============================] - 3s 402us/sample - loss: 0.9318 - acc: 0.7289 - val_loss: 1.4237 - val_acc: 0.6790\n",
      "Epoch 11/20\n",
      "7982/7982 [==============================] - 3s 396us/sample - loss: 0.8967 - acc: 0.7395 - val_loss: 1.4397 - val_acc: 0.6810\n",
      "Epoch 12/20\n",
      "7982/7982 [==============================] - 3s 394us/sample - loss: 0.8621 - acc: 0.7507 - val_loss: 1.4724 - val_acc: 0.6860\n",
      "Epoch 13/20\n",
      "7982/7982 [==============================] - 3s 391us/sample - loss: 0.8312 - acc: 0.7626 - val_loss: 1.4890 - val_acc: 0.6790\n",
      "Epoch 14/20\n",
      "7982/7982 [==============================] - 3s 404us/sample - loss: 0.8058 - acc: 0.7699 - val_loss: 1.5445 - val_acc: 0.6800\n",
      "Epoch 15/20\n",
      "7982/7982 [==============================] - 3s 388us/sample - loss: 0.7743 - acc: 0.7803 - val_loss: 1.6075 - val_acc: 0.6860\n",
      "Epoch 16/20\n",
      "7982/7982 [==============================] - 3s 385us/sample - loss: 0.7400 - acc: 0.7930 - val_loss: 1.6033 - val_acc: 0.6850\n",
      "Epoch 17/20\n",
      "7982/7982 [==============================] - 3s 389us/sample - loss: 0.6978 - acc: 0.8098 - val_loss: 1.6629 - val_acc: 0.6950\n",
      "Epoch 18/20\n",
      "7982/7982 [==============================] - 3s 409us/sample - loss: 0.6581 - acc: 0.8200 - val_loss: 1.6134 - val_acc: 0.6960\n",
      "Epoch 19/20\n",
      "7982/7982 [==============================] - 3s 392us/sample - loss: 0.6196 - acc: 0.8266 - val_loss: 1.6419 - val_acc: 0.6990\n",
      "Epoch 20/20\n",
      "7982/7982 [==============================] - 3s 391us/sample - loss: 0.5875 - acc: 0.8330 - val_loss: 1.6947 - val_acc: 0.7060\n"
     ]
    },
    {
     "data": {
      "text/plain": [
       "<tensorflow.python.keras.callbacks.History at 0x20380280a90>"
      ]
     },
     "execution_count": 70,
     "metadata": {},
     "output_type": "execute_result"
    }
   ],
   "source": [
    "bnModel.fit(partial_x_train, \n",
    "           partial_y_train,\n",
    "           epochs=20, \n",
    "           batch_size=128, \n",
    "           validation_data=(x_val, y_val))"
   ]
  },
  {
   "cell_type": "markdown",
   "metadata": {},
   "source": [
    "With an information bottleneck, the validation accuracy peaks at 70.6%, which is approximately an 8% drop from the validation accuracy observed without the information bottleneck.\n",
    "\n",
    "This means the we're trying to compress a lot of information - enough to recover the separation hyperplanes of 46 classes - into an intermediate space that is too low-dimensional. "
   ]
  },
  {
   "cell_type": "code",
   "execution_count": null,
   "metadata": {},
   "outputs": [],
   "source": []
  }
 ],
 "metadata": {
  "kernelspec": {
   "display_name": "Python 3",
   "language": "python",
   "name": "python3"
  },
  "language_info": {
   "codemirror_mode": {
    "name": "ipython",
    "version": 3
   },
   "file_extension": ".py",
   "mimetype": "text/x-python",
   "name": "python",
   "nbconvert_exporter": "python",
   "pygments_lexer": "ipython3",
   "version": "3.7.0"
  }
 },
 "nbformat": 4,
 "nbformat_minor": 2
}
