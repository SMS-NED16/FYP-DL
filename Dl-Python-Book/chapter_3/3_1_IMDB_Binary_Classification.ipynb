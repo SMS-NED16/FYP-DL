{
 "cells": [
  {
   "cell_type": "markdown",
   "metadata": {},
   "source": [
    "# Deep Learning with Python - Chapter 3\n",
    "## Example 1 - IMDB Binary Classification"
   ]
  },
  {
   "cell_type": "code",
   "execution_count": 39,
   "metadata": {},
   "outputs": [],
   "source": [
    "# importing keras and tf for backend \n",
    "import tensorflow as tf\n",
    "import keras\n",
    "\n",
    "# Necessary for reading dataset\n",
    "import numpy as np\n",
    "old = np.load\n",
    "np.load = lambda *a,**k: old(*a, allow_pickle=True, **k)"
   ]
  },
  {
   "cell_type": "markdown",
   "metadata": {},
   "source": [
    "`IMDB` dataset comes preloaded with Keras. It is a dataset of 50k movie reviews that have already been preprocessed/tokenized. \n",
    "\n",
    "**If first time running this Notebook, 80MB dataset will be downloaded**."
   ]
  },
  {
   "cell_type": "code",
   "execution_count": 2,
   "metadata": {},
   "outputs": [],
   "source": [
    "from keras.datasets import imdb"
   ]
  },
  {
   "cell_type": "code",
   "execution_count": 3,
   "metadata": {},
   "outputs": [],
   "source": [
    "# train/test split - each review is limited to having 10k most frequent words\n",
    "(train_data, train_labels), (test_data, test_labels) = imdb.load_data(num_words=10000)"
   ]
  },
  {
   "cell_type": "code",
   "execution_count": 4,
   "metadata": {},
   "outputs": [
    {
     "name": "stdout",
     "output_type": "stream",
     "text": [
      "[1, 14, 22, 16, 43, 530, 973, 1622, 1385, 65]\n",
      "1\n"
     ]
    }
   ],
   "source": [
    "# explore training and test data\n",
    "print(train_data[0][:10])    # first ten words \n",
    "print(train_labels[0])       # binary flag"
   ]
  },
  {
   "cell_type": "code",
   "execution_count": 59,
   "metadata": {},
   "outputs": [
    {
     "data": {
      "text/plain": [
       "[7486, 9837, 6905, 9941, 7224, 7982, 9363, 9820, 7612, 8419]"
      ]
     },
     "execution_count": 59,
     "metadata": {},
     "output_type": "execute_result"
    }
   ],
   "source": [
    "# Limiting ourselves to top 10k words, so no word index exceeds 10k\n",
    "\n",
    "# This list comprehension prints the largest word index in each tokenized review of training data\n",
    "[max(word_index) for word_index in train_data][:10]"
   ]
  },
  {
   "cell_type": "code",
   "execution_count": 6,
   "metadata": {},
   "outputs": [
    {
     "name": "stdout",
     "output_type": "stream",
     "text": [
      "25000\n"
     ]
    }
   ],
   "source": [
    "# Confirm that there is one word_index per review\n",
    "print(len([max(word_index) for word_index in train_data]))"
   ]
  },
  {
   "cell_type": "code",
   "execution_count": 7,
   "metadata": {},
   "outputs": [
    {
     "name": "stdout",
     "output_type": "stream",
     "text": [
      "9999\n"
     ]
    }
   ],
   "source": [
    "# Confirm further that the largest word index amongst all revies is < 10k\n",
    "print(max([max(word_index) for word_index in train_data]))"
   ]
  },
  {
   "cell_type": "code",
   "execution_count": 8,
   "metadata": {},
   "outputs": [],
   "source": [
    "# In dataset, each word is encoded as a number. Check word corresponding to each index\n",
    "word_index = imdb.get_word_index()"
   ]
  },
  {
   "cell_type": "markdown",
   "metadata": {},
   "source": [
    "The first three indexes are reserved for `<START>`, `<STOP>`, `<UNKNOWN>` and `<UNUSED>`."
   ]
  },
  {
   "cell_type": "code",
   "execution_count": 9,
   "metadata": {},
   "outputs": [
    {
     "data": {
      "text/plain": [
       "\"? this film was just brilliant casting location scenery story direction everyone's really suited the part they played and you could just imagine being there robert ? is an amazing actor and now the same being director ? father came from the same scottish island as myself so i loved the fact there was a real connection with this film the witty remarks throughout the film were great it was just brilliant so much that i bought the film as soon as it was released for ? and would recommend it to everyone to watch and the fly fishing was amazing really cried at the end it was so sad and you know what they say if you cry at a film it must have been good and this definitely was also ? to the two little boy's that played the ? of norman and paul they were just brilliant children are often left out of the ? list i think because the stars that play them all grown up are such a big profile for the whole film but these children are amazing and should be praised for what they have done don't you think the whole story was so lovely because it was true and was someone's life after all that was shared with us all\""
      ]
     },
     "execution_count": 9,
     "metadata": {},
     "output_type": "execute_result"
    }
   ],
   "source": [
    "# Get the dictionary mapping individual words to index numbers\n",
    "word_index = imdb.get_word_index()\n",
    "\n",
    "# Create a new dictionary in which the index number is the key and the word is the value\n",
    "reverse_word_index = dict(\n",
    "    [(value, key) for (key, value) in word_index.items()])\n",
    "\n",
    "# Decode message by looking up value for each index number in the message\n",
    "# Shift by 3 is necessary because first three indices were reserved for \n",
    "# padding, start, and unknown, and have been removed.\n",
    "decoded_review = ' '.join(\n",
    "    # returns '?' if index i - 3 not found\n",
    "    [reverse_word_index.get(i-3, '?') for i in train_data[0]])\n",
    "\n",
    "decoded_review"
   ]
  },
  {
   "cell_type": "markdown",
   "metadata": {},
   "source": [
    "### One-Hot Encoding\n",
    "All messages are converted to vectors of dimension 10k. These are sparse vectors: each column of the vector represents one of the 10k possible words that can be present in a message. When any word is present in a message, the value in its corresponding  column is 1"
   ]
  },
  {
   "cell_type": "code",
   "execution_count": 14,
   "metadata": {},
   "outputs": [],
   "source": [
    "def vectorize_sequences(sequences, dimension=10000):\n",
    "    # Matrix with one row per message and one column per possible word\n",
    "    results = np.zeros((len(sequences), dimension))\n",
    "    \n",
    "    # For every word in the message, set the corresponding column value to 1\n",
    "    for i, sequence in enumerate(sequences):\n",
    "        results[i, sequence] = 1\n",
    "    \n",
    "    # Return sparse one-hot encoded matrix\n",
    "    return results"
   ]
  },
  {
   "cell_type": "code",
   "execution_count": 15,
   "metadata": {},
   "outputs": [],
   "source": [
    "# One-Hot encode the training and test data\n",
    "x_train = vectorize_sequences(train_data)\n",
    "x_test = vectorize_sequences(test_data)"
   ]
  },
  {
   "cell_type": "code",
   "execution_count": 16,
   "metadata": {},
   "outputs": [
    {
     "data": {
      "text/plain": [
       "array([0., 1., 1., ..., 0., 0., 0.])"
      ]
     },
     "execution_count": 16,
     "metadata": {},
     "output_type": "execute_result"
    }
   ],
   "source": [
    "# After one hot encoding \n",
    "x_train[0] # 1 if word at that index occurs in the message, 0 otherwise"
   ]
  },
  {
   "cell_type": "code",
   "execution_count": 17,
   "metadata": {},
   "outputs": [],
   "source": [
    "# Vectorize labels\n",
    "y_train = np.asarray(train_labels).astype('float32')\n",
    "y_test = np.asarray(test_labels).astype('float32')"
   ]
  },
  {
   "cell_type": "markdown",
   "metadata": {},
   "source": [
    "### Building the Network"
   ]
  },
  {
   "cell_type": "code",
   "execution_count": 18,
   "metadata": {},
   "outputs": [],
   "source": [
    "from keras import models, layers\n",
    "\n",
    "# Create a Sequential model\n",
    "model = models.Sequential()\n",
    "\n",
    "# Add input layer - 16 units\n",
    "model.add(layers.Dense(16, activation='relu', input_shape=(10000,)))\n",
    "\n",
    "# Add hidden layer - 16 units\n",
    "model.add(layers.Dense(16, activation='relu')) # input shape automatically inferred\n",
    "\n",
    "# Add output layer - 1 unit that predicts a probability\n",
    "model.add(layers.Dense(1, activation='sigmoid'))"
   ]
  },
  {
   "cell_type": "markdown",
   "metadata": {},
   "source": [
    "### Configuring the Network"
   ]
  },
  {
   "cell_type": "code",
   "execution_count": 19,
   "metadata": {},
   "outputs": [],
   "source": [
    "# Prepare the network for training by specifying how it will measure\n",
    "# its performance, how it will measure the difference between actual and predicted\n",
    "# behaviour, and how it will minimise the difference (what variant of SGD)\n",
    "model.compile(optimizer='rmsprop', \n",
    "             loss='binary_crossentropy',\n",
    "             metrics=['accuracy'])"
   ]
  },
  {
   "cell_type": "markdown",
   "metadata": {},
   "source": [
    "### Defining Validation Set\n",
    "The validation set is a subset of the training set that the model will use during training to assess its accuracy on data that it has never seen before. "
   ]
  },
  {
   "cell_type": "code",
   "execution_count": 20,
   "metadata": {},
   "outputs": [],
   "source": [
    "x_val = x_train[:10000]\n",
    "partial_x_train = x_train[10000:]\n",
    "\n",
    "y_val = y_train[:10000]\n",
    "partial_y_train = y_train[10000:]"
   ]
  },
  {
   "cell_type": "markdown",
   "metadata": {},
   "source": [
    "### Train Model"
   ]
  },
  {
   "cell_type": "code",
   "execution_count": 21,
   "metadata": {},
   "outputs": [
    {
     "name": "stdout",
     "output_type": "stream",
     "text": [
      "Train on 15000 samples, validate on 10000 samples\n",
      "Epoch 1/20\n",
      "15000/15000 [==============================] - 4s 244us/step - loss: 0.5086 - acc: 0.7821 - val_loss: 0.3799 - val_acc: 0.8686\n",
      "Epoch 2/20\n",
      "15000/15000 [==============================] - 1s 97us/step - loss: 0.3005 - acc: 0.9046 - val_loss: 0.3005 - val_acc: 0.8900\n",
      "Epoch 3/20\n",
      "15000/15000 [==============================] - 1s 99us/step - loss: 0.2180 - acc: 0.9282 - val_loss: 0.3085 - val_acc: 0.8718\n",
      "Epoch 4/20\n",
      "15000/15000 [==============================] - 1s 99us/step - loss: 0.1750 - acc: 0.9433 - val_loss: 0.2840 - val_acc: 0.8838\n",
      "Epoch 5/20\n",
      "15000/15000 [==============================] - 2s 102us/step - loss: 0.1426 - acc: 0.9543 - val_loss: 0.2848 - val_acc: 0.8864\n",
      "Epoch 6/20\n",
      "15000/15000 [==============================] - 1s 98us/step - loss: 0.1149 - acc: 0.9655 - val_loss: 0.3156 - val_acc: 0.8771\n",
      "Epoch 7/20\n",
      "15000/15000 [==============================] - 2s 119us/step - loss: 0.0980 - acc: 0.9705 - val_loss: 0.3126 - val_acc: 0.8846\n",
      "Epoch 8/20\n",
      "15000/15000 [==============================] - 1s 98us/step - loss: 0.0806 - acc: 0.9763 - val_loss: 0.3859 - val_acc: 0.8651\n",
      "Epoch 9/20\n",
      "15000/15000 [==============================] - 1s 95us/step - loss: 0.0660 - acc: 0.9821 - val_loss: 0.3636 - val_acc: 0.8782\n",
      "Epoch 10/20\n",
      "15000/15000 [==============================] - 1s 96us/step - loss: 0.0558 - acc: 0.9853 - val_loss: 0.3842 - val_acc: 0.8788\n",
      "Epoch 11/20\n",
      "15000/15000 [==============================] - 1s 95us/step - loss: 0.0444 - acc: 0.9887 - val_loss: 0.4155 - val_acc: 0.8773\n",
      "Epoch 12/20\n",
      "15000/15000 [==============================] - 1s 96us/step - loss: 0.0382 - acc: 0.9916 - val_loss: 0.4511 - val_acc: 0.8696\n",
      "Epoch 13/20\n",
      "15000/15000 [==============================] - 1s 95us/step - loss: 0.0298 - acc: 0.9929 - val_loss: 0.4712 - val_acc: 0.8724\n",
      "Epoch 14/20\n",
      "15000/15000 [==============================] - 2s 109us/step - loss: 0.0245 - acc: 0.9947 - val_loss: 0.5044 - val_acc: 0.8721\n",
      "Epoch 15/20\n",
      "15000/15000 [==============================] - 2s 102us/step - loss: 0.0171 - acc: 0.9983 - val_loss: 0.5454 - val_acc: 0.8689\n",
      "Epoch 16/20\n",
      "15000/15000 [==============================] - 1s 96us/step - loss: 0.0157 - acc: 0.9975 - val_loss: 0.5788 - val_acc: 0.8691\n",
      "Epoch 17/20\n",
      "15000/15000 [==============================] - 1s 97us/step - loss: 0.0093 - acc: 0.9993 - val_loss: 0.6722 - val_acc: 0.8574\n",
      "Epoch 18/20\n",
      "15000/15000 [==============================] - 1s 97us/step - loss: 0.0126 - acc: 0.9970 - val_loss: 0.6460 - val_acc: 0.8681\n",
      "Epoch 19/20\n",
      "15000/15000 [==============================] - 1s 96us/step - loss: 0.0052 - acc: 0.9998 - val_loss: 0.7209 - val_acc: 0.8572\n",
      "Epoch 20/20\n",
      "15000/15000 [==============================] - 1s 97us/step - loss: 0.0098 - acc: 0.9980 - val_loss: 0.7029 - val_acc: 0.8664\n"
     ]
    }
   ],
   "source": [
    "history = model.fit(\n",
    "    partial_x_train, partial_y_train, epochs=20,\n",
    "    batch_size=512, validation_data=(x_val, y_val))"
   ]
  },
  {
   "cell_type": "code",
   "execution_count": 24,
   "metadata": {},
   "outputs": [
    {
     "data": {
      "text/plain": [
       "dict_keys(['val_loss', 'val_acc', 'loss', 'acc'])"
      ]
     },
     "execution_count": 24,
     "metadata": {},
     "output_type": "execute_result"
    }
   ],
   "source": [
    "# History object contains data about everything that happened during training\n",
    "history_dict = history.history\n",
    "\n",
    "# Dictionary keys are the different parameters it has stord\n",
    "history_dict.keys()"
   ]
  },
  {
   "cell_type": "code",
   "execution_count": 28,
   "metadata": {},
   "outputs": [
    {
     "data": {
      "image/png": "[encoded data removed]",
      "text/plain": [
       "<Figure size 864x432 with 1 Axes>"
      ]
     },
     "metadata": {},
     "output_type": "display_data"
    }
   ],
   "source": [
    "# To plot validation and training accuracy and loss\n",
    "import matplotlib.pyplot as plt\n",
    "%matplotlib inline\n",
    "\n",
    "# store loss values from history\n",
    "train_loss_values = history_dict['loss']\n",
    "val_loss_values = history_dict['val_loss']\n",
    "\n",
    "# Epochs are not zero indexed\n",
    "epochs = range(1, len(history_dict['acc']) + 1)\n",
    "\n",
    "# Plot the loss\n",
    "plt.figure(figsize=(12,6)); \n",
    "plt.plot(epochs, train_loss_values, 'b-', label='Training Loss')\n",
    "plt.plot(epochs, val_loss_values, 'r-', label='Validaton Loss')\n",
    "plt.xlabel('Epochs'); plt.ylabel('Loss'); plt.legend(); plt.grid(True);\n",
    "plt.title('Training vs Validation Loss - IMDb ANN Classifier')\n",
    "plt.tight_layout()"
   ]
  },
  {
   "cell_type": "markdown",
   "metadata": {},
   "source": [
    "The results show that while the training loss decreased with increasing epochs, the validation set loss actully increased."
   ]
  },
  {
   "cell_type": "code",
   "execution_count": 30,
   "metadata": {},
   "outputs": [
    {
     "data": {
      "text/plain": [
       "Text(0.5,1,'Training vs Validation Accuracy - IMDb ANN Classifier')"
      ]
     },
     "execution_count": 30,
     "metadata": {},
     "output_type": "execute_result"
    },
    {
     "data": {
      "image/png": "[encoded data removed]",
      "text/plain": [
       "<Figure size 864x432 with 1 Axes>"
      ]
     },
     "metadata": {},
     "output_type": "display_data"
    }
   ],
   "source": [
    "# Get data\n",
    "train_acc_values = history_dict['acc']\n",
    "val_acc_values = history_dict['val_acc']\n",
    "\n",
    "# Plot training and validation accuracy\n",
    "plt.figure(figsize=(12,6))\n",
    "plt.plot(epochs, train_acc_values, 'b-', label='Training Accuracy')\n",
    "plt.plot(epochs, val_acc_values, 'r-', label='Validation Accuracy')\n",
    "plt.grid(True); plt.xlabel('Epochs'); plt.ylabel('Accuracy'); plt.legend()\n",
    "plt.title('Training vs Validation Accuracy - IMDb ANN Classifier')"
   ]
  },
  {
   "cell_type": "markdown",
   "metadata": {},
   "source": [
    "### Training a Network with 4 Epochs"
   ]
  },
  {
   "cell_type": "code",
   "execution_count": 33,
   "metadata": {},
   "outputs": [
    {
     "name": "stdout",
     "output_type": "stream",
     "text": [
      "Epoch 1/4\n",
      "25000/25000 [==============================] - 2s 81us/step - loss: 0.4466 - acc: 0.8243\n",
      "Epoch 2/4\n",
      "25000/25000 [==============================] - 2s 65us/step - loss: 0.2556 - acc: 0.9099\n",
      "Epoch 3/4\n",
      "25000/25000 [==============================] - 2s 66us/step - loss: 0.1968 - acc: 0.9300\n",
      "Epoch 4/4\n",
      "25000/25000 [==============================] - 2s 66us/step - loss: 0.1646 - acc: 0.9422\n",
      "25000/25000 [==============================] - 4s 154us/step\n"
     ]
    }
   ],
   "source": [
    "# Instantiate\n",
    "model = models.Sequential()\n",
    "\n",
    "# Add layers\n",
    "model.add(layers.Dense(16, activation='relu', input_shape=(10000,)))\n",
    "model.add(layers.Dense(16, activation='relu'))\n",
    "model.add(layers.Dense(1, activation='sigmoid'))\n",
    "\n",
    "# Compile\n",
    "model.compile(optimizer='rmsprop', loss='binary_crossentropy',\n",
    "            metrics=['accuracy'])\n",
    "\n",
    "# Train\n",
    "model.fit(x_train, y_train, epochs=4, batch_size=512)\n",
    "\n",
    "# Get accuracy on test set\n",
    "results = model.evaluate(x_test, y_test)"
   ]
  },
  {
   "cell_type": "code",
   "execution_count": 34,
   "metadata": {},
   "outputs": [
    {
     "data": {
      "text/plain": [
       "[0.31688259531974794, 0.87516]"
      ]
     },
     "execution_count": 34,
     "metadata": {},
     "output_type": "execute_result"
    }
   ],
   "source": [
    "# What are the final results?\n",
    "results"
   ]
  },
  {
   "cell_type": "code",
   "execution_count": 35,
   "metadata": {},
   "outputs": [
    {
     "data": {
      "text/plain": [
       "array([[0.295065  ],\n",
       "       [0.9996718 ],\n",
       "       [0.93878824],\n",
       "       ...,\n",
       "       [0.16449548],\n",
       "       [0.15535626],\n",
       "       [0.75665873]], dtype=float32)"
      ]
     },
     "execution_count": 35,
     "metadata": {},
     "output_type": "execute_result"
    }
   ],
   "source": [
    "# Use the model to make predictions\n",
    "model.predict(x_test)"
   ]
  },
  {
   "cell_type": "markdown",
   "metadata": {},
   "source": [
    "# Experiment 1 - Varying Layers"
   ]
  },
  {
   "cell_type": "markdown",
   "metadata": {},
   "source": [
    "## Experiment 1a - No Hidden/Input Layer"
   ]
  },
  {
   "cell_type": "code",
   "execution_count": 48,
   "metadata": {},
   "outputs": [
    {
     "name": "stdout",
     "output_type": "stream",
     "text": [
      "Train on 15000 samples, validate on 10000 samples\n",
      "Epoch 1/20\n",
      "15000/15000 [==============================] - 2s 128us/step - loss: 0.6136 - acc: 0.7475 - val_loss: 0.5615 - val_acc: 0.8084\n",
      "Epoch 2/20\n",
      "15000/15000 [==============================] - 1s 76us/step - loss: 0.5161 - acc: 0.8450 - val_loss: 0.5024 - val_acc: 0.8213\n",
      "Epoch 3/20\n",
      "15000/15000 [==============================] - 1s 73us/step - loss: 0.4551 - acc: 0.8677 - val_loss: 0.4525 - val_acc: 0.8505\n",
      "Epoch 4/20\n",
      "15000/15000 [==============================] - 1s 80us/step - loss: 0.4092 - acc: 0.8810 - val_loss: 0.4185 - val_acc: 0.8606\n",
      "Epoch 5/20\n",
      "15000/15000 [==============================] - 1s 72us/step - loss: 0.3737 - acc: 0.8925 - val_loss: 0.3934 - val_acc: 0.8656\n",
      "Epoch 6/20\n",
      "15000/15000 [==============================] - 1s 72us/step - loss: 0.3454 - acc: 0.9008 - val_loss: 0.3723 - val_acc: 0.8723\n",
      "Epoch 7/20\n",
      "15000/15000 [==============================] - 1s 72us/step - loss: 0.3224 - acc: 0.9073 - val_loss: 0.3557 - val_acc: 0.8773\n",
      "Epoch 8/20\n",
      "15000/15000 [==============================] - 1s 79us/step - loss: 0.3030 - acc: 0.9129 - val_loss: 0.3429 - val_acc: 0.8813\n",
      "Epoch 9/20\n",
      "15000/15000 [==============================] - 1s 86us/step - loss: 0.2864 - acc: 0.9178 - val_loss: 0.3322 - val_acc: 0.8811\n",
      "Epoch 10/20\n",
      "15000/15000 [==============================] - 1s 74us/step - loss: 0.2721 - acc: 0.9219 - val_loss: 0.3226 - val_acc: 0.8851\n",
      "Epoch 11/20\n",
      "15000/15000 [==============================] - 1s 83us/step - loss: 0.2595 - acc: 0.9259 - val_loss: 0.3149 - val_acc: 0.8876\n",
      "Epoch 12/20\n",
      "15000/15000 [==============================] - 1s 81us/step - loss: 0.2486 - acc: 0.9283 - val_loss: 0.3085 - val_acc: 0.8885\n",
      "Epoch 13/20\n",
      "15000/15000 [==============================] - 1s 72us/step - loss: 0.2385 - acc: 0.9319 - val_loss: 0.3031 - val_acc: 0.8889\n",
      "Epoch 14/20\n",
      "15000/15000 [==============================] - 1s 73us/step - loss: 0.2297 - acc: 0.9347 - val_loss: 0.2987 - val_acc: 0.8885\n",
      "Epoch 15/20\n",
      "15000/15000 [==============================] - 1s 78us/step - loss: 0.2216 - acc: 0.9368 - val_loss: 0.2953 - val_acc: 0.8881\n",
      "Epoch 16/20\n",
      "15000/15000 [==============================] - 1s 75us/step - loss: 0.2142 - acc: 0.9399 - val_loss: 0.2914 - val_acc: 0.8896\n",
      "Epoch 17/20\n",
      "15000/15000 [==============================] - 1s 85us/step - loss: 0.2074 - acc: 0.9420 - val_loss: 0.2886 - val_acc: 0.8891\n",
      "Epoch 18/20\n",
      "15000/15000 [==============================] - 1s 80us/step - loss: 0.2010 - acc: 0.9439 - val_loss: 0.2862 - val_acc: 0.8896\n",
      "Epoch 19/20\n",
      "15000/15000 [==============================] - 1s 72us/step - loss: 0.1952 - acc: 0.9455 - val_loss: 0.2842 - val_acc: 0.8899\n",
      "Epoch 20/20\n",
      "15000/15000 [==============================] - 1s 85us/step - loss: 0.1898 - acc: 0.9476 - val_loss: 0.2820 - val_acc: 0.8893\n"
     ]
    },
    {
     "data": {
      "text/plain": [
       "<keras.callbacks.History at 0xb2659ab70>"
      ]
     },
     "execution_count": 48,
     "metadata": {},
     "output_type": "execute_result"
    }
   ],
   "source": [
    "# Instanitate model\n",
    "model = models.Sequential()\n",
    "\n",
    "# Add a single layer - probability\n",
    "model.add(layers.Dense(1, activation='sigmoid', input_shape=(10000,)))\n",
    "\n",
    "# Compile\n",
    "model.compile(loss='binary_crossentropy', \n",
    "             optimizer='rmsprop',\n",
    "             metrics=['accuracy'])\n",
    "\n",
    "# Train\n",
    "model.fit(partial_x_train, partial_y_train, \n",
    "          epochs=20, batch_size=512,\n",
    "         validation_data=(x_val, y_val))"
   ]
  },
  {
   "cell_type": "markdown",
   "metadata": {},
   "source": [
    "Achieved a maximum validation set accuracy of 94.76! This could mean maybe a second linear transformation was unnecessary. "
   ]
  },
  {
   "cell_type": "code",
   "execution_count": 49,
   "metadata": {},
   "outputs": [
    {
     "name": "stdout",
     "output_type": "stream",
     "text": [
      "25000/25000 [==============================] - 1s 54us/step\n",
      "[0.2979289028835297, 0.88384]\n"
     ]
    }
   ],
   "source": [
    "# Evaluate model performance\n",
    "results = model.evaluate(x_test, y_test)\n",
    "\n",
    "print(results)"
   ]
  },
  {
   "cell_type": "markdown",
   "metadata": {},
   "source": [
    "Test set accuracy increased from 87.5 to 88.3 percent, which shows that there may still be some overfitting."
   ]
  },
  {
   "cell_type": "markdown",
   "metadata": {},
   "source": [
    "## Experiment 1b - Three Hidden Layers"
   ]
  },
  {
   "cell_type": "code",
   "execution_count": 51,
   "metadata": {},
   "outputs": [
    {
     "name": "stdout",
     "output_type": "stream",
     "text": [
      "Train on 15000 samples, validate on 10000 samples\n",
      "Epoch 1/20\n",
      "15000/15000 [==============================] - 2s 154us/step - loss: 0.6175 - acc: 0.7370 - val_loss: 0.4983 - val_acc: 0.8644\n",
      "Epoch 2/20\n",
      "15000/15000 [==============================] - 1s 95us/step - loss: 0.3831 - acc: 0.8918 - val_loss: 0.3586 - val_acc: 0.8655\n",
      "Epoch 3/20\n",
      "15000/15000 [==============================] - 1s 96us/step - loss: 0.2547 - acc: 0.9165 - val_loss: 0.2931 - val_acc: 0.8891\n",
      "Epoch 4/20\n",
      "15000/15000 [==============================] - 1s 96us/step - loss: 0.1884 - acc: 0.9394 - val_loss: 0.2786 - val_acc: 0.8913\n",
      "Epoch 5/20\n",
      "15000/15000 [==============================] - 2s 111us/step - loss: 0.1501 - acc: 0.9500 - val_loss: 0.2966 - val_acc: 0.8854\n",
      "Epoch 6/20\n",
      "15000/15000 [==============================] - 1s 100us/step - loss: 0.1182 - acc: 0.9631 - val_loss: 0.3065 - val_acc: 0.8822\n",
      "Epoch 7/20\n",
      "15000/15000 [==============================] - 2s 105us/step - loss: 0.0974 - acc: 0.9728 - val_loss: 0.4093 - val_acc: 0.8642\n",
      "Epoch 8/20\n",
      "15000/15000 [==============================] - 1s 99us/step - loss: 0.0812 - acc: 0.9747 - val_loss: 0.3604 - val_acc: 0.8797\n",
      "Epoch 9/20\n",
      "15000/15000 [==============================] - 1s 97us/step - loss: 0.0638 - acc: 0.9815 - val_loss: 0.4112 - val_acc: 0.8771\n",
      "Epoch 10/20\n",
      "15000/15000 [==============================] - 2s 108us/step - loss: 0.0563 - acc: 0.9839 - val_loss: 0.4244 - val_acc: 0.8748\n",
      "Epoch 11/20\n",
      "15000/15000 [==============================] - 2s 117us/step - loss: 0.0437 - acc: 0.9883 - val_loss: 0.4693 - val_acc: 0.8719\n",
      "Epoch 12/20\n",
      "15000/15000 [==============================] - 2s 112us/step - loss: 0.0399 - acc: 0.9886 - val_loss: 0.4920 - val_acc: 0.8732\n",
      "Epoch 13/20\n",
      "15000/15000 [==============================] - 2s 103us/step - loss: 0.0334 - acc: 0.9905 - val_loss: 0.5364 - val_acc: 0.8686\n",
      "Epoch 14/20\n",
      "15000/15000 [==============================] - 2s 123us/step - loss: 0.0144 - acc: 0.9978 - val_loss: 0.5572 - val_acc: 0.8696\n",
      "Epoch 15/20\n",
      "15000/15000 [==============================] - 2s 113us/step - loss: 0.0257 - acc: 0.9925 - val_loss: 0.6009 - val_acc: 0.8691\n",
      "Epoch 16/20\n",
      "15000/15000 [==============================] - 2s 105us/step - loss: 0.0265 - acc: 0.9929 - val_loss: 0.6247 - val_acc: 0.8701\n",
      "Epoch 17/20\n",
      "15000/15000 [==============================] - 1s 99us/step - loss: 0.0051 - acc: 0.9995 - val_loss: 0.6477 - val_acc: 0.8703\n",
      "Epoch 18/20\n",
      "15000/15000 [==============================] - 1s 99us/step - loss: 0.0191 - acc: 0.9942 - val_loss: 0.6926 - val_acc: 0.8681\n",
      "Epoch 19/20\n",
      "15000/15000 [==============================] - 2s 112us/step - loss: 0.0028 - acc: 0.9999 - val_loss: 0.7173 - val_acc: 0.8676\n",
      "Epoch 20/20\n",
      "15000/15000 [==============================] - 2s 110us/step - loss: 0.0020 - acc: 0.9999 - val_loss: 0.7751 - val_acc: 0.8655\n"
     ]
    },
    {
     "data": {
      "text/plain": [
       "<keras.callbacks.History at 0xb26b61240>"
      ]
     },
     "execution_count": 51,
     "metadata": {},
     "output_type": "execute_result"
    }
   ],
   "source": [
    "# Instantiate model\n",
    "model = models.Sequential()\n",
    "\n",
    "# Add input layer\n",
    "model.add(layers.Dense(16, activation='relu', input_shape=(10000,)))\n",
    "\n",
    "# First hidden layer\n",
    "model.add(layers.Dense(16, activation='relu'))\n",
    "\n",
    "# Second hidden layer\n",
    "model.add(layers.Dense(16, activation='relu'))\n",
    "\n",
    "# Third hidden layer\n",
    "model.add(layers.Dense(16, activation='relu'))\n",
    "\n",
    "# Output layer\n",
    "model.add(layers.Dense(1, activation='sigmoid'))\n",
    "\n",
    "\n",
    "# Compile and Train\n",
    "model.compile(loss='binary_crossentropy', optimizer='rmsprop',\n",
    "             metrics=['accuracy'])\n",
    "model.fit(partial_x_train, partial_y_train, \n",
    "         epochs=20, batch_size=512,\n",
    "         validation_data=(x_val, y_val))"
   ]
  },
  {
   "cell_type": "markdown",
   "metadata": {},
   "source": [
    "Training set accuracy approaches 100 but validation set accuracy is 86.55, suggesting that the addition of a third hidden layer has led to considerable overfitting - the model does not generalize well to data that it has not seen before."
   ]
  },
  {
   "cell_type": "code",
   "execution_count": 52,
   "metadata": {},
   "outputs": [
    {
     "name": "stdout",
     "output_type": "stream",
     "text": [
      "25000/25000 [==============================] - 3s 100us/step\n",
      "[0.8731731408023834, 0.84892]\n"
     ]
    }
   ],
   "source": [
    "results = model.evaluate(x_test, y_test)\n",
    "print(results)"
   ]
  },
  {
   "cell_type": "markdown",
   "metadata": {},
   "source": [
    "As expected, the accuracy on the test set is much lower than with one hidden layer. Surprisingly, the loss value is higher than the actual accuracy, which suggests I may have done something wrong."
   ]
  },
  {
   "cell_type": "markdown",
   "metadata": {},
   "source": [
    "## Experiment 1c - One Hidden Layer"
   ]
  },
  {
   "cell_type": "code",
   "execution_count": 57,
   "metadata": {},
   "outputs": [
    {
     "name": "stdout",
     "output_type": "stream",
     "text": [
      "Train on 15000 samples, validate on 10000 samples\n",
      "Epoch 1/20\n",
      "15000/15000 [==============================] - 2s 133us/step - loss: 0.5111 - acc: 0.7873 - val_loss: 0.3970 - val_acc: 0.8570\n",
      "Epoch 2/20\n",
      "15000/15000 [==============================] - 2s 114us/step - loss: 0.3069 - acc: 0.9010 - val_loss: 0.3076 - val_acc: 0.8835\n",
      "Epoch 3/20\n",
      "15000/15000 [==============================] - 2s 137us/step - loss: 0.2227 - acc: 0.9280 - val_loss: 0.2828 - val_acc: 0.8875\n",
      "Epoch 4/20\n",
      "15000/15000 [==============================] - 2s 111us/step - loss: 0.1759 - acc: 0.9433 - val_loss: 0.2766 - val_acc: 0.8880\n",
      "Epoch 5/20\n",
      "15000/15000 [==============================] - 2s 108us/step - loss: 0.1408 - acc: 0.9527 - val_loss: 0.2828 - val_acc: 0.8878\n",
      "Epoch 6/20\n",
      "15000/15000 [==============================] - 2s 120us/step - loss: 0.1136 - acc: 0.9642 - val_loss: 0.2991 - val_acc: 0.8849\n",
      "Epoch 7/20\n",
      "15000/15000 [==============================] - 2s 102us/step - loss: 0.0933 - acc: 0.9723 - val_loss: 0.3304 - val_acc: 0.8795\n",
      "Epoch 8/20\n",
      "15000/15000 [==============================] - 2s 106us/step - loss: 0.0779 - acc: 0.9764 - val_loss: 0.3514 - val_acc: 0.8785\n",
      "Epoch 9/20\n",
      "15000/15000 [==============================] - 2s 135us/step - loss: 0.0633 - acc: 0.9828 - val_loss: 0.3642 - val_acc: 0.8771\n",
      "Epoch 10/20\n",
      "15000/15000 [==============================] - 2s 114us/step - loss: 0.0533 - acc: 0.9857 - val_loss: 0.4267 - val_acc: 0.8704\n",
      "Epoch 11/20\n",
      "15000/15000 [==============================] - 1s 95us/step - loss: 0.0427 - acc: 0.9901 - val_loss: 0.4306 - val_acc: 0.8749\n",
      "Epoch 12/20\n",
      "15000/15000 [==============================] - 1s 91us/step - loss: 0.0383 - acc: 0.9905 - val_loss: 0.4471 - val_acc: 0.8745\n",
      "Epoch 13/20\n",
      "15000/15000 [==============================] - 1s 93us/step - loss: 0.0281 - acc: 0.9943 - val_loss: 0.4728 - val_acc: 0.8746\n",
      "Epoch 14/20\n",
      "15000/15000 [==============================] - 1s 91us/step - loss: 0.0231 - acc: 0.9954 - val_loss: 0.5023 - val_acc: 0.8719\n",
      "Epoch 15/20\n",
      "15000/15000 [==============================] - 1s 93us/step - loss: 0.0181 - acc: 0.9974 - val_loss: 0.5340 - val_acc: 0.8712\n",
      "Epoch 16/20\n",
      "15000/15000 [==============================] - 2s 107us/step - loss: 0.0165 - acc: 0.9973 - val_loss: 0.5675 - val_acc: 0.8680\n",
      "Epoch 17/20\n",
      "15000/15000 [==============================] - 2s 104us/step - loss: 0.0098 - acc: 0.9995 - val_loss: 0.6023 - val_acc: 0.8678\n",
      "Epoch 18/20\n",
      "15000/15000 [==============================] - 2s 115us/step - loss: 0.0115 - acc: 0.9979 - val_loss: 0.6372 - val_acc: 0.8676\n",
      "Epoch 19/20\n",
      "15000/15000 [==============================] - 2s 127us/step - loss: 0.0050 - acc: 0.9999 - val_loss: 0.6702 - val_acc: 0.8662\n",
      "Epoch 20/20\n",
      "15000/15000 [==============================] - 2s 103us/step - loss: 0.0088 - acc: 0.9981 - val_loss: 0.7055 - val_acc: 0.8664\n",
      "25000/25000 [==============================] - 2s 66us/step\n"
     ]
    }
   ],
   "source": [
    "# Instantiate model\n",
    "model = models.Sequential()\n",
    "\n",
    "# Input layer and the only hidden layer\n",
    "model.add(layers.Dense(16, activation='relu', input_shape=(10000,)))\n",
    "model.add(layers.Dense(16, activation='relu'))\n",
    "model.add(layers.Dense(1, activation='sigmoid'))\n",
    "\n",
    "# Compile\n",
    "model.compile(metrics=['accuracy'], loss='binary_crossentropy',\n",
    "             optimizer='rmsprop')\n",
    "\n",
    "# Fit\n",
    "model.fit(partial_x_train, partial_y_train, \n",
    "         epochs=20, batch_size=512, \n",
    "         validation_data=(x_val, y_val))\n",
    "\n",
    "# Evaluate\n",
    "results = model.evaluate(x_test, y_test)"
   ]
  },
  {
   "cell_type": "code",
   "execution_count": 58,
   "metadata": {},
   "outputs": [
    {
     "name": "stdout",
     "output_type": "stream",
     "text": [
      "[0.78794461322546, 0.8496]\n"
     ]
    }
   ],
   "source": [
    "print(results)"
   ]
  },
  {
   "cell_type": "markdown",
   "metadata": {},
   "source": [
    "## Summary of Results - Experiment 1\n",
    "- The highest validation set accuracy achieved was 88.34% when there was no hidden or input layer. The data was fed directly to the output layer, which computed a probability using the weighted sum of the inputs.\n",
    "- Increasing the number of layers led to serious overfitting. With three hidden layers, the validation set accuracy dropped to 86.55 while the training set accuracy approached 100. Test set accuracy was even lower - 84.32, which suggests that even validation set accuracy is not a lower bound for actual performance.\n",
    "- A model with only one layer did not fare much better: at 84.96, its test set accuracy was only marginally higher than that of a 3 hidden layer model. "
   ]
  },
  {
   "cell_type": "markdown",
   "metadata": {},
   "source": [
    "# Experiment 2 - Number of Units in Hidden Layer\n",
    "**Hypothesis**: Increasing the number of hidden units will initially increase the validation set and test set accuracy as more units will mean more flexibility and decreasing bias. But excessive hidden units (64) will cause overfitting as the variance will increase disproportionately w.r.t the decreasing bias."
   ]
  },
  {
   "cell_type": "markdown",
   "metadata": {},
   "source": [
    "## Experiment 2a - 32 hidden units"
   ]
  },
  {
   "cell_type": "code",
   "execution_count": 76,
   "metadata": {},
   "outputs": [],
   "source": [
    "# Define a function that will instantiate a model with the specified number of units per layer\n",
    "def create_model(units_per_layer):\n",
    "    \"\"\"Creates an ANN which passes a tensor of 10k dimensional vectors through two densely connected layers of recitifed linear unit\n",
    "    activation before otuputting a sigmoid probability. Number of units per layer is defined by user.\"\"\"\n",
    "    model = models.Sequential()\n",
    "    model.add(layers.Dense(units_per_layer, activation='relu', input_shape=(10000,)))\n",
    "    model.add(layers.Dense(units_per_layer, activation='relu'))\n",
    "    model.add(layers.Dense(1, activation='sigmoid'))\n",
    "    \n",
    "    # Once instantiated, return the model\n",
    "    return model"
   ]
  },
  {
   "cell_type": "code",
   "execution_count": 112,
   "metadata": {},
   "outputs": [],
   "source": [
    "# Function to automate testing\n",
    "def train_model(model, train_samples, train_labels, val_samples, val_labels):\n",
    "    \"\"\"Train a given model using the specified training and validation sets. Return history object for model\"\"\"\n",
    "    # Compile\n",
    "    model.compile(loss='binary_crossentropy', optimizer='rmsprop', metrics=['accuracy'])\n",
    "    \n",
    "    # Fit\n",
    "    history = model.fit(x=train_samples, y=train_labels, validation_data=(val_samples, val_labels), \n",
    "             epochs=4, batch_size=512, verbose=0)\n",
    "    \n",
    "    # Message to confirm completion of training\n",
    "    print(\"Training done.\")\n",
    "    \n",
    "    # Return history\n",
    "    return history"
   ]
  },
  {
   "cell_type": "code",
   "execution_count": 113,
   "metadata": {},
   "outputs": [],
   "source": [
    "# Instantiate three models for testing - 16 nodes, 32 nodes, and 64 nodes per layer\n",
    "model_16 = create_model(16)\n",
    "model_32 = create_model(32)\n",
    "model_64 = create_model(64)"
   ]
  },
  {
   "cell_type": "code",
   "execution_count": 114,
   "metadata": {},
   "outputs": [
    {
     "name": "stdout",
     "output_type": "stream",
     "text": [
      "Training done.\n",
      "Training done.\n",
      "Training done.\n"
     ]
    }
   ],
   "source": [
    "# Train and record history of each sample\n",
    "model_16_hist = train_model(model_16, partial_x_train, partial_y_train, x_val, y_val)\n",
    "model_32_hist = train_model(model_32, partial_x_train, partial_y_train, x_val, y_val)\n",
    "model_64_hist = train_model(model_64, partial_x_train, partial_y_train, x_val, y_val)"
   ]
  },
  {
   "cell_type": "code",
   "execution_count": 115,
   "metadata": {},
   "outputs": [
    {
     "name": "stdout",
     "output_type": "stream",
     "text": [
      "-------------------------------------\n",
      "val_loss = 0.2818631315231323\n",
      "val_acc = 0.8891000003814697\n",
      "loss = 0.1855263468503952\n",
      "acc = 0.9408666666348775\n",
      "-------------------------------------\n",
      "val_loss = 0.3048083951950073\n",
      "val_acc = 0.8818000001907349\n",
      "loss = 0.15426329040527345\n",
      "acc = 0.9460000000635783\n",
      "-------------------------------------\n",
      "val_loss = 0.3453937162399292\n",
      "val_acc = 0.8694999997138977\n",
      "loss = 0.13932128021717072\n",
      "acc = 0.9503999998410543\n"
     ]
    }
   ],
   "source": [
    "# From each model's history\n",
    "for hist_data in [model_16_hist, model_32_hist, model_64_hist]:\n",
    "    print(\"-------------------------------------\")\n",
    "    # Print the value of each metric from the last epoch\n",
    "    for (key, values) in hist_data.history.items():\n",
    "        print(key + \" = \" + str(values[-1]))"
   ]
  },
  {
   "cell_type": "code",
   "execution_count": 116,
   "metadata": {},
   "outputs": [
    {
     "name": "stdout",
     "output_type": "stream",
     "text": [
      "25000/25000 [==============================] - 3s 121us/step\n",
      "25000/25000 [==============================] - 2s 85us/step\n",
      "25000/25000 [==============================] - 3s 106us/step\n"
     ]
    },
    {
     "data": {
      "text/plain": [
       "[(0.3050468949794769, 0.87684),\n",
       " (0.3205286073923111, 0.87152),\n",
       " (0.38274630262374876, 0.85716)]"
      ]
     },
     "execution_count": 116,
     "metadata": {},
     "output_type": "execute_result"
    }
   ],
   "source": [
    "# Performance metrics stored in list of tuples (model_loss, model_acc)\n",
    "model_performance = []\n",
    "\n",
    "# Evaluate each model using the test set\n",
    "for model in [model_16, model_32, model_64]:\n",
    "    (model_loss, model_acc) = model.evaluate(x_test, y_test)\n",
    "    model_performance.append((model_loss, model_acc))\n",
    "    \n",
    "# Echo model performance - 16, 32, 64\n",
    "model_performance"
   ]
  },
  {
   "cell_type": "markdown",
   "metadata": {},
   "source": [
    "## Analysis of Results\n",
    "- Training set shows that validation loss, validation accuracy, test loss, and test accuracy are optimal for an ANN with 16 nodes per layer.\n",
    "- Increasing the number of nodes per layer seems to decrease the validation set accuracy, although the decrease from 16 -> 32 is much lower than that from 32 -> 64.\n",
    "- This could suggest that 16 nodes per layer is the optimal number of nodes among the three.\n",
    "- However, when the same ANN was tested on 20 epochs, the 64 layer neural network had the highest accuracy and lowest loss.\n",
    "- Overfitting due to the increased number of epochs seems to have a more substantial effect on the model accuracy than overfitting due to increased number of units."
   ]
  },
  {
   "cell_type": "markdown",
   "metadata": {},
   "source": [
    "# Experiment 3 - `mse` vs `binary_crossentropy`\n",
    "**Hypothesis**: Binary cross-entropy is a better loss function for binary classifiation. It quantizes accuracy by measuring the difference between the predicted and actual probability distributions for a dataset. MSE is better suited for regression problems instead of binary classification ones."
   ]
  },
  {
   "cell_type": "code",
   "execution_count": 120,
   "metadata": {},
   "outputs": [
    {
     "name": "stdout",
     "output_type": "stream",
     "text": [
      "25000/25000 [==============================] - 3s 105us/step\n"
     ]
    }
   ],
   "source": [
    "model = models.Sequential()\n",
    "model.add(layers.Dense(16, activation='relu', input_shape=(10000,)))\n",
    "model.add(layers.Dense(16, activation='relu'))\n",
    "model.add(layers.Dense(1, activation='sigmoid'))\n",
    "\n",
    "model.compile(loss='binary_crossentropy', optimizer='rmsprop', metrics=['accuracy'])\n",
    "bin_cross_training = model.fit(partial_x_train, partial_y_train, epochs=4, batch_size=512, verbose=0, \n",
    "                              validation_data=(x_val, y_val))\n",
    "bin_cross_results = model.evaluate(x_test, y_test)"
   ]
  },
  {
   "cell_type": "code",
   "execution_count": 121,
   "metadata": {},
   "outputs": [
    {
     "name": "stdout",
     "output_type": "stream",
     "text": [
      "25000/25000 [==============================] - 2s 90us/step\n"
     ]
    }
   ],
   "source": [
    "model.compile(loss='binary_crossentropy', optimizer='rmsprop', metrics=['accuracy'])\n",
    "mse_training = model.fit(partial_x_train, partial_y_train, epochs=4, batch_size=512, verbose=0, \n",
    "                              validation_data=(x_val, y_val))\n",
    "mse_results = model.evaluate(x_test, y_test)"
   ]
  },
  {
   "cell_type": "code",
   "execution_count": 125,
   "metadata": {},
   "outputs": [
    {
     "name": "stdout",
     "output_type": "stream",
     "text": [
      "LAST EPOCH'S METRICS\n",
      "val_loss = 0.2734814458847046\n",
      "val_acc = 0.8894999999046326\n",
      "loss = 0.18848649396101633\n",
      "acc = 0.9413333336194356\n",
      "-----------------------------------------\n",
      "val_loss = 0.3293539672374725\n",
      "val_acc = 0.8818999999046325\n",
      "loss = 0.08534907901883125\n",
      "acc = 0.9752666668256124\n",
      "-----------------------------------------\n"
     ]
    }
   ],
   "source": [
    "# Comparing Training and Validation Results\n",
    "print(\"LAST EPOCH'S METRICS\")\n",
    "for model_history in [bin_cross_training, mse_training]:\n",
    "    for (key, value) in model_history.history.items():\n",
    "        print(key + \" = \" + str(value[-1]))\n",
    "    print(\"-----------------------------------------\")"
   ]
  },
  {
   "cell_type": "code",
   "execution_count": 127,
   "metadata": {},
   "outputs": [
    {
     "name": "stdout",
     "output_type": "stream",
     "text": [
      "TESTING RESULTS\n",
      "BINARY CROSS ENTROPY\n",
      "[0.2912606569290161, 0.88496]\n",
      "\n",
      "MEAN SQUARED ERROR\n",
      "[0.352365430727005, 0.86812]\n"
     ]
    }
   ],
   "source": [
    "# Comparing Testing Results\n",
    "print(\"TESTING RESULTS\")\n",
    "print(\"Binary Cross Entropy\".upper())\n",
    "print(bin_cross_results)\n",
    "\n",
    "print(\"\\nMean Squared Error\".upper())\n",
    "print(mse_results)"
   ]
  },
  {
   "cell_type": "markdown",
   "metadata": {},
   "source": [
    "## Analysis of Results\n",
    "- Binary cross-entropy is indeed a better loss function for the binary classification task, as it leads to an 88.5 percent test set accuracy and a total loss of 0.29126 compared to the MSE accuracy of 86.812.\n",
    "- However, these results also show that the even though MSE is usually associated with regression problems, it can still be used to optimise neural nets for classification problems.\n",
    "- This is evidenced by the MSE test set accuracy of 86.812, which is still pretty high, all things considered."
   ]
  },
  {
   "cell_type": "markdown",
   "metadata": {},
   "source": [
    "# Experiment 4 - `tanh` Activation Function\n",
    "**Hypothesis**: The hyperbolic tangent function `tanh` will map any given input to the range $[-1, 1]$. I don't understand how this is a good choice for the output layer which is supposed to predict probabilities (between 0 and 1), but since this was a popular activation function before `ReLU`, I'm assuming it will give satisfactory results."
   ]
  },
  {
   "cell_type": "code",
   "execution_count": 132,
   "metadata": {},
   "outputs": [
    {
     "data": {
      "image/png": "[encoded data removed]",
      "text/plain": [
       "<Figure size 432x216 with 1 Axes>"
      ]
     },
     "metadata": {},
     "output_type": "display_data"
    }
   ],
   "source": [
    "# First, confirming that `tanh` does look like I think it looks\n",
    "x = np.arange(-3, 3, 0.001);\n",
    "y = np.tanh(x)\n",
    "plt.figure(figsize=(6,3)); plt.plot(x, y); plt.grid(True);\n",
    "plt.xlabel('x'); plt.ylabel('tanh'); plt.title('Hyperbolic Tangent');"
   ]
  },
  {
   "cell_type": "code",
   "execution_count": 135,
   "metadata": {},
   "outputs": [
    {
     "name": "stdout",
     "output_type": "stream",
     "text": [
      "25000/25000 [==============================] - 2s 87us/step\n"
     ]
    }
   ],
   "source": [
    "# Creating a model with the hyperbolic tan function for activation\n",
    "model = models.Sequential()\n",
    "model.add(layers.Dense(16, activation='tanh', input_shape=(10000,)))\n",
    "model.add(layers.Dense(16, activation='tanh'))\n",
    "model.add(layers.Dense(1, activation='sigmoid'))\n",
    "\n",
    "model.compile(loss='binary_crossentropy', optimizer='rmsprop', metrics=['accuracy'])\n",
    "\n",
    "tanh_model_train = model.fit(partial_x_train, partial_y_train, epochs=4, batch_size=512, \n",
    "         validation_data=(x_val, y_val), verbose=0)\n",
    "\n",
    "tanh_model_test = model.evaluate(x_test, y_test)"
   ]
  },
  {
   "cell_type": "code",
   "execution_count": 137,
   "metadata": {},
   "outputs": [
    {
     "name": "stdout",
     "output_type": "stream",
     "text": [
      "Training Results\n",
      "val_loss = 0.37772479724884034\n",
      "val_acc = 0.8695999998092652\n",
      "loss = 0.49602046639124553\n",
      "acc = 0.8003333331425985\n",
      "\n",
      "--------------------------\n",
      "Test Results\n",
      "[0.31047076488494874, 0.87192]\n"
     ]
    }
   ],
   "source": [
    "# TRAINING RESULTS\n",
    "print(\"Training Results\") \n",
    "for (key, value) in tanh_model_train.history.items():\n",
    "    print(key + \" = \" + str(value[0]))\n",
    "    \n",
    "print(\"\\n--------------------------\\nTest Results\")\n",
    "print(tanh_model_test)"
   ]
  },
  {
   "cell_type": "markdown",
   "metadata": {},
   "source": [
    "## Analysis of Results\n",
    "- Surprisingly, the training set accuracy is lower than the validation set and test set accuracies!\n",
    "- However, the loss is signficantly higher in both cases. \n",
    "- Not sure why this is happening, but the hyperbolic tan function seems to give an even better accuracy than the rectified linear unit function."
   ]
  }
 ],
 "metadata": {
  "kernelspec": {
   "display_name": "Python 3",
   "language": "python",
   "name": "python3"
  },
  "language_info": {
   "codemirror_mode": {
    "name": "ipython",
    "version": 3
   },
   "file_extension": ".py",
   "mimetype": "text/x-python",
   "name": "python",
   "nbconvert_exporter": "python",
   "pygments_lexer": "ipython3",
   "version": "3.7.3"
  }
 },
 "nbformat": 4,
 "nbformat_minor": 2
}
