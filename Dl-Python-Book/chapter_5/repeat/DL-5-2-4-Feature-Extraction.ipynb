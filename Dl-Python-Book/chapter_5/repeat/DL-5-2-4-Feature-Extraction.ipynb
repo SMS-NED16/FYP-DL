{
 "cells": [
  {
   "cell_type": "markdown",
   "metadata": {},
   "source": [
    "# Deep Learning with Python\n",
    "# 5.2.4 - Feature Extraction"
   ]
  },
  {
   "cell_type": "markdown",
   "metadata": {},
   "source": [
    "## VGG 16 Conv Base - Feature Extraction\n",
    "Will be using the convolutional base of the VGG16 model that was trained on 1M images belonging to 1,000 different classes of the ImageNet database.\n",
    "\n",
    "Feature extraction means we'll use the generic, repurposable representations learnt by the convolutional base of a pre-trained model to extract useful featues for a new densely connected classifier that will be trained from scratch.\n",
    "\n",
    "We don't use the densely connected classifier because \n",
    "- it has learnt representations that are neither translation invariant nor spatially hierarchical. \n",
    "- it has learnt representations that are specific to the class the model was originally trained on, and are likely to be irrelevant for the classes of our problem.\n",
    "- it does not preserve information about the location or position of objects in the original image. \n",
    "\n",
    "On the other hand, the convolutional base\n",
    "- has learnt highly generic, abstract features that are relevant across most classification problems e.g. edges, eyes, textures.\n",
    "- has learnt representations that are translation invariant.\n",
    "- has learnt representations that are spatially hierarchical - it preserves information about how low-level features combine to form high-level features\n",
    "\n",
    "\n",
    "If the convolutional base was trained on a large enough dataset, its representations are a sufficiently generic to be models of the real world. This makes it more generic, repurposable, and reusable.\n",
    "\n",
    "But this is only true if the data that the model was initially trained on is at least somewhat similar to the data for your problem. If it differs too much from the original training data, then you are better off training the convolutional base from scratch. Or, at most, use only the first few layers of the convolutional base that will have learnt the most generic features (hyperlocal edges, diagonals, etc.)."
   ]
  },
  {
   "cell_type": "code",
   "execution_count": 1,
   "metadata": {},
   "outputs": [],
   "source": [
    "from tensorflow.keras.applications import VGG16"
   ]
  },
  {
   "cell_type": "markdown",
   "metadata": {},
   "source": [
    "Description of params for `VGG16` initializer\n",
    "- `weights`: Specifying which dataset/checkpoint the model should be initialized from\n",
    "- `include_top`: Whether or not to include the densely connected classifier in the instantiated model\n",
    "- `input_shape`: shape of the image tnesors that will be fed to the network. Optional argument. If unspecified, the network will be able to process inputs of any size."
   ]
  },
  {
   "cell_type": "code",
   "execution_count": 2,
   "metadata": {},
   "outputs": [
    {
     "name": "stdout",
     "output_type": "stream",
     "text": [
      "WARNING:tensorflow:From C:\\Users\\saads\\Anaconda3\\lib\\site-packages\\tensorflow\\python\\ops\\resource_variable_ops.py:435: colocate_with (from tensorflow.python.framework.ops) is deprecated and will be removed in a future version.\n",
      "Instructions for updating:\n",
      "Colocations handled automatically by placer.\n"
     ]
    }
   ],
   "source": [
    "conv_base = VGG16(weights='imagenet', \n",
    "                 include_top=False, \n",
    "                 input_shape=(150, 150, 3))"
   ]
  },
  {
   "cell_type": "markdown",
   "metadata": {},
   "source": [
    "### Convolutional Base Summary"
   ]
  },
  {
   "cell_type": "code",
   "execution_count": 3,
   "metadata": {},
   "outputs": [
    {
     "name": "stdout",
     "output_type": "stream",
     "text": [
      "_________________________________________________________________\n",
      "Layer (type)                 Output Shape              Param #   \n",
      "=================================================================\n",
      "input_1 (InputLayer)         (None, 150, 150, 3)       0         \n",
      "_________________________________________________________________\n",
      "block1_conv1 (Conv2D)        (None, 150, 150, 64)      1792      \n",
      "_________________________________________________________________\n",
      "block1_conv2 (Conv2D)        (None, 150, 150, 64)      36928     \n",
      "_________________________________________________________________\n",
      "block1_pool (MaxPooling2D)   (None, 75, 75, 64)        0         \n",
      "_________________________________________________________________\n",
      "block2_conv1 (Conv2D)        (None, 75, 75, 128)       73856     \n",
      "_________________________________________________________________\n",
      "block2_conv2 (Conv2D)        (None, 75, 75, 128)       147584    \n",
      "_________________________________________________________________\n",
      "block2_pool (MaxPooling2D)   (None, 37, 37, 128)       0         \n",
      "_________________________________________________________________\n",
      "block3_conv1 (Conv2D)        (None, 37, 37, 256)       295168    \n",
      "_________________________________________________________________\n",
      "block3_conv2 (Conv2D)        (None, 37, 37, 256)       590080    \n",
      "_________________________________________________________________\n",
      "block3_conv3 (Conv2D)        (None, 37, 37, 256)       590080    \n",
      "_________________________________________________________________\n",
      "block3_pool (MaxPooling2D)   (None, 18, 18, 256)       0         \n",
      "_________________________________________________________________\n",
      "block4_conv1 (Conv2D)        (None, 18, 18, 512)       1180160   \n",
      "_________________________________________________________________\n",
      "block4_conv2 (Conv2D)        (None, 18, 18, 512)       2359808   \n",
      "_________________________________________________________________\n",
      "block4_conv3 (Conv2D)        (None, 18, 18, 512)       2359808   \n",
      "_________________________________________________________________\n",
      "block4_pool (MaxPooling2D)   (None, 9, 9, 512)         0         \n",
      "_________________________________________________________________\n",
      "block5_conv1 (Conv2D)        (None, 9, 9, 512)         2359808   \n",
      "_________________________________________________________________\n",
      "block5_conv2 (Conv2D)        (None, 9, 9, 512)         2359808   \n",
      "_________________________________________________________________\n",
      "block5_conv3 (Conv2D)        (None, 9, 9, 512)         2359808   \n",
      "_________________________________________________________________\n",
      "block5_pool (MaxPooling2D)   (None, 4, 4, 512)         0         \n",
      "=================================================================\n",
      "Total params: 14,714,688\n",
      "Trainable params: 14,714,688\n",
      "Non-trainable params: 0\n",
      "_________________________________________________________________\n"
     ]
    }
   ],
   "source": [
    "conv_base.summary()"
   ]
  },
  {
   "cell_type": "markdown",
   "metadata": {},
   "source": [
    "## Fast Feature Extraction - No Augmentation\n",
    "- Use the convolutional base to produce input for training a densely connected classifier (from scratch).\n",
    "- Involves running all data through the convolutional base and then recording the output as a `numpy` tensor that will then act as the input to a classifier. \n",
    "- Cheap: only the classifier's weights are optimized through gradient descent.\n",
    "- Data augmentation not possible (why???)"
   ]
  },
  {
   "cell_type": "code",
   "execution_count": 4,
   "metadata": {},
   "outputs": [],
   "source": [
    "import os\n",
    "import numpy as np\n",
    "from tensorflow.keras.preprocessing.image import ImageDataGenerator"
   ]
  },
  {
   "cell_type": "markdown",
   "metadata": {},
   "source": [
    "### Defining Directories for Data Generator"
   ]
  },
  {
   "cell_type": "code",
   "execution_count": 5,
   "metadata": {},
   "outputs": [],
   "source": [
    "base_dir = '/Users/saads/OneDrive/Desktop/DL-Python/chapter-5/ch-5-repeat/cats_dogs_small'\n",
    "train_dir = os.path.join(base_dir, 'train')\n",
    "test_dir = os.path.join(base_dir, 'test')\n",
    "validation_dir = os.path.join(base_dir, 'validation')"
   ]
  },
  {
   "cell_type": "markdown",
   "metadata": {},
   "source": [
    "### Data Generator for ConvBase I/P "
   ]
  },
  {
   "cell_type": "code",
   "execution_count": 6,
   "metadata": {},
   "outputs": [],
   "source": [
    "# The only transformation is rescaling all pixels to [0, 1] range\n",
    "datagen = ImageDataGenerator(rescale=1./255)\n",
    "\n",
    "# Global variable used in defining DataGenerator O/P later\n",
    "batch_size=20"
   ]
  },
  {
   "cell_type": "code",
   "execution_count": 7,
   "metadata": {},
   "outputs": [],
   "source": [
    "def extract_features(directory, sample_count):\n",
    "    # Empty array to store O/Ps of convolutional base predictions\n",
    "    features = np.zeros(shape=(sample_count, 4, 4, 512))\n",
    "    \n",
    "    # Data generator will also provide labels for these I/Ps\n",
    "    labels = np.zeros(shape=(sample_count))\n",
    "    \n",
    "    # Instantiating a generator that will process images as `numpy` arrays \n",
    "    # of 150 px by 150px in batches of 20 images. Labels that this will produce\n",
    "    # will be either 0 or 1, depending on variants of the names in the target directory\n",
    "    generator = datagen.flow_from_directory(\n",
    "        directory, \n",
    "        target_size=(150, 150), \n",
    "        batch_size=batch_size, \n",
    "        class_mode='binary')\n",
    "    \n",
    "    # Batch counter \n",
    "    i = 0\n",
    "    \n",
    "    # For every batch of inputs and labels produced by the generator\n",
    "    for inputs_batch, labels_batch in generator:\n",
    "        # Features will be the output generated by the conv base for training data as I/P\n",
    "        features_batch = conv_base.predict(inputs_batch)\n",
    "        \n",
    "        # Append features (convbase outputs) for each batch into the same array's rows\n",
    "        features[i * batch_size : (i + 1) * batch_size] = features_batch\n",
    "        labels[i * batch_size : (i + 1) * batch_size] = labels_batch\n",
    "        \n",
    "        # Increment the number of batches processed\n",
    "        i += 1\n",
    "        \n",
    "        # Total number of images generated = batch size * batch counter\n",
    "        # If this exceeds the sample count specified for the directory\n",
    "        # We have iterated over all training samples - conv base must see every\n",
    "        # sample only once, so break the iteration process\n",
    "        if i * batch_size >= sample_count:\n",
    "            break\n",
    "    \n",
    "    # Return the extracted features and labels for use with the classifier\n",
    "    return features, labels"
   ]
  },
  {
   "cell_type": "code",
   "execution_count": 8,
   "metadata": {},
   "outputs": [
    {
     "name": "stdout",
     "output_type": "stream",
     "text": [
      "Found 2000 images belonging to 2 classes.\n"
     ]
    }
   ],
   "source": [
    "train_features, train_labels = extract_features(train_dir, 2000)"
   ]
  },
  {
   "cell_type": "code",
   "execution_count": 9,
   "metadata": {},
   "outputs": [
    {
     "name": "stdout",
     "output_type": "stream",
     "text": [
      "Found 1000 images belonging to 2 classes.\n"
     ]
    }
   ],
   "source": [
    "validation_features, validation_labels = extract_features(validation_dir, 1000)"
   ]
  },
  {
   "cell_type": "code",
   "execution_count": 10,
   "metadata": {},
   "outputs": [
    {
     "name": "stdout",
     "output_type": "stream",
     "text": [
      "Found 1000 images belonging to 2 classes.\n"
     ]
    }
   ],
   "source": [
    "test_features, test_labels = extract_features(test_dir, 1000)"
   ]
  },
  {
   "cell_type": "markdown",
   "metadata": {},
   "source": [
    "Extracting features and training labels will take some time because we're using a convolutional network with 14 M parameters to extract a multidimensional tensor of features and labels."
   ]
  },
  {
   "cell_type": "markdown",
   "metadata": {},
   "source": [
    "Before the Convolution Base's features can be fed into the densely connected classifier, it must be flattened. This is usually done through a dot product with the convolution kernel for the netowrk, but in this case we'll just use reshaping. It's the same thing. \n",
    "\n",
    "**Why aren't we just using the `Flatten` layer?**"
   ]
  },
  {
   "cell_type": "markdown",
   "metadata": {},
   "source": [
    "## Densely Connected Classifier"
   ]
  },
  {
   "cell_type": "code",
   "execution_count": 11,
   "metadata": {},
   "outputs": [],
   "source": [
    "from tensorflow.keras import models, layers, optimizers"
   ]
  },
  {
   "cell_type": "code",
   "execution_count": 12,
   "metadata": {},
   "outputs": [],
   "source": [
    "# Reshape all features before feeding them into the densely connected network\n",
    "train_features = np.reshape(train_features, (2000, 4 * 4 * 512))\n",
    "test_features = np.reshape(test_features, (1000, 4 * 4 * 512))\n",
    "validation_features = np.reshape(validation_features, (1000, 4 * 4 * 512))"
   ]
  },
  {
   "cell_type": "code",
   "execution_count": 13,
   "metadata": {},
   "outputs": [
    {
     "name": "stdout",
     "output_type": "stream",
     "text": [
      "WARNING:tensorflow:From C:\\Users\\saads\\Anaconda3\\lib\\site-packages\\tensorflow\\python\\keras\\layers\\core.py:143: calling dropout (from tensorflow.python.ops.nn_ops) with keep_prob is deprecated and will be removed in a future version.\n",
      "Instructions for updating:\n",
      "Please use `rate` instead of `keep_prob`. Rate should be set to `rate = 1 - keep_prob`.\n"
     ]
    }
   ],
   "source": [
    "model = models.Sequential()\n",
    "\n",
    "# Using `dim` instead of `input_shape` because we don't know the exact number of samples\n",
    "model.add(layers.Dense(256, activation='relu', input_dim=4 * 4 * 512))\n",
    "\n",
    "# Droput layer for regularization\n",
    "model.add(layers.Dropout(0.5))\n",
    "\n",
    "# Output layer\n",
    "model.add(layers.Dense(1, activation='sigmoid'))"
   ]
  },
  {
   "cell_type": "code",
   "execution_count": 14,
   "metadata": {},
   "outputs": [],
   "source": [
    "# Compile\n",
    "model.compile(optimizer=optimizers.RMSprop(lr=2e-5), \n",
    "             loss='binary_crossentropy', \n",
    "             metrics=['acc'])"
   ]
  },
  {
   "cell_type": "code",
   "execution_count": 23,
   "metadata": {},
   "outputs": [
    {
     "name": "stdout",
     "output_type": "stream",
     "text": [
      "Train on 2000 samples, validate on 1000 samples\n",
      "Epoch 1/30\n",
      "2000/2000 [==============================] - 5s 3ms/sample - loss: 0.0859 - acc: 0.9700 - val_loss: 0.2417 - val_acc: 0.9010\n",
      "Epoch 2/30\n",
      "2000/2000 [==============================] - 6s 3ms/sample - loss: 0.0827 - acc: 0.9750 - val_loss: 0.2395 - val_acc: 0.8990\n",
      "Epoch 3/30\n",
      "2000/2000 [==============================] - 6s 3ms/sample - loss: 0.0816 - acc: 0.9755 - val_loss: 0.2413 - val_acc: 0.8990\n",
      "Epoch 4/30\n",
      "2000/2000 [==============================] - 6s 3ms/sample - loss: 0.0783 - acc: 0.9780 - val_loss: 0.2391 - val_acc: 0.9000\n",
      "Epoch 5/30\n",
      "2000/2000 [==============================] - 6s 3ms/sample - loss: 0.0807 - acc: 0.9745 - val_loss: 0.2392 - val_acc: 0.9000\n",
      "Epoch 6/30\n",
      "2000/2000 [==============================] - 6s 3ms/sample - loss: 0.0763 - acc: 0.9785 - val_loss: 0.2407 - val_acc: 0.9010\n",
      "Epoch 7/30\n",
      "2000/2000 [==============================] - 7s 3ms/sample - loss: 0.0723 - acc: 0.9830 - val_loss: 0.2503 - val_acc: 0.9050\n",
      "Epoch 8/30\n",
      "2000/2000 [==============================] - 6s 3ms/sample - loss: 0.0729 - acc: 0.9830 - val_loss: 0.2421 - val_acc: 0.9020\n",
      "Epoch 9/30\n",
      "2000/2000 [==============================] - 7s 3ms/sample - loss: 0.0691 - acc: 0.9790 - val_loss: 0.2425 - val_acc: 0.9000\n",
      "Epoch 10/30\n",
      "2000/2000 [==============================] - 6s 3ms/sample - loss: 0.0713 - acc: 0.9790 - val_loss: 0.2552 - val_acc: 0.9040\n",
      "Epoch 11/30\n",
      "2000/2000 [==============================] - 5s 3ms/sample - loss: 0.0652 - acc: 0.9840 - val_loss: 0.2491 - val_acc: 0.9050\n",
      "Epoch 12/30\n",
      "2000/2000 [==============================] - 6s 3ms/sample - loss: 0.0678 - acc: 0.9810 - val_loss: 0.2480 - val_acc: 0.9000\n",
      "Epoch 13/30\n",
      "2000/2000 [==============================] - 5s 3ms/sample - loss: 0.0645 - acc: 0.9845 - val_loss: 0.2458 - val_acc: 0.9000\n",
      "Epoch 14/30\n",
      "2000/2000 [==============================] - 6s 3ms/sample - loss: 0.0615 - acc: 0.9860 - val_loss: 0.2480 - val_acc: 0.9000\n",
      "Epoch 15/30\n",
      "2000/2000 [==============================] - 5s 3ms/sample - loss: 0.0617 - acc: 0.9870 - val_loss: 0.2477 - val_acc: 0.9010\n",
      "Epoch 16/30\n",
      "2000/2000 [==============================] - 6s 3ms/sample - loss: 0.0650 - acc: 0.9810 - val_loss: 0.2475 - val_acc: 0.8990\n",
      "Epoch 17/30\n",
      "2000/2000 [==============================] - 6s 3ms/sample - loss: 0.0575 - acc: 0.9875 - val_loss: 0.2510 - val_acc: 0.9020\n",
      "Epoch 18/30\n",
      "2000/2000 [==============================] - 6s 3ms/sample - loss: 0.0599 - acc: 0.9870 - val_loss: 0.2486 - val_acc: 0.8990\n",
      "Epoch 19/30\n",
      "2000/2000 [==============================] - 6s 3ms/sample - loss: 0.0598 - acc: 0.9850 - val_loss: 0.2485 - val_acc: 0.9000\n",
      "Epoch 20/30\n",
      "2000/2000 [==============================] - 5s 3ms/sample - loss: 0.0509 - acc: 0.9910 - val_loss: 0.2562 - val_acc: 0.9020\n",
      "Epoch 21/30\n",
      "2000/2000 [==============================] - 6s 3ms/sample - loss: 0.0559 - acc: 0.9875 - val_loss: 0.2518 - val_acc: 0.9010\n",
      "Epoch 22/30\n",
      "2000/2000 [==============================] - 6s 3ms/sample - loss: 0.0570 - acc: 0.9860 - val_loss: 0.2562 - val_acc: 0.9020\n",
      "Epoch 23/30\n",
      "2000/2000 [==============================] - 6s 3ms/sample - loss: 0.0527 - acc: 0.9880 - val_loss: 0.2544 - val_acc: 0.9000\n",
      "Epoch 24/30\n",
      "2000/2000 [==============================] - 6s 3ms/sample - loss: 0.0510 - acc: 0.9890 - val_loss: 0.2545 - val_acc: 0.9000\n",
      "Epoch 25/30\n",
      "2000/2000 [==============================] - 6s 3ms/sample - loss: 0.0530 - acc: 0.9875 - val_loss: 0.2581 - val_acc: 0.9020\n",
      "Epoch 26/30\n",
      "2000/2000 [==============================] - 6s 3ms/sample - loss: 0.0508 - acc: 0.9900 - val_loss: 0.2562 - val_acc: 0.9020\n",
      "Epoch 27/30\n",
      "2000/2000 [==============================] - 6s 3ms/sample - loss: 0.0483 - acc: 0.9900 - val_loss: 0.2557 - val_acc: 0.9000\n",
      "Epoch 28/30\n",
      "2000/2000 [==============================] - 6s 3ms/sample - loss: 0.0461 - acc: 0.9910 - val_loss: 0.2619 - val_acc: 0.9020\n",
      "Epoch 29/30\n",
      "2000/2000 [==============================] - 6s 3ms/sample - loss: 0.0468 - acc: 0.9920 - val_loss: 0.2577 - val_acc: 0.9020\n",
      "Epoch 30/30\n",
      "2000/2000 [==============================] - 6s 3ms/sample - loss: 0.0457 - acc: 0.9890 - val_loss: 0.2563 - val_acc: 0.8990\n"
     ]
    }
   ],
   "source": [
    "# Fit the model\n",
    "histoy = model.fit(train_features, train_labels, \n",
    "                   epochs=30, batch_size=20, \n",
    "                   validation_data=(validation_features, validation_labels))"
   ]
  },
  {
   "cell_type": "code",
   "execution_count": 24,
   "metadata": {},
   "outputs": [],
   "source": [
    "# Save the model\n",
    "model.save('vgg_16_no_aug.h5')"
   ]
  },
  {
   "cell_type": "markdown",
   "metadata": {},
   "source": [
    "## Visualizing Results"
   ]
  },
  {
   "cell_type": "code",
   "execution_count": 39,
   "metadata": {},
   "outputs": [],
   "source": [
    "import matplotlib.pyplot as plt\n",
    "%matplotlib inline"
   ]
  },
  {
   "cell_type": "code",
   "execution_count": 41,
   "metadata": {},
   "outputs": [],
   "source": [
    "# Extracting data from training history\n",
    "acc = history.history['acc']\n",
    "val_acc = history.history['val_acc']\n",
    "loss = history.history['loss']\n",
    "val_loss = history.history['val_loss']\n",
    "epochs = range(1, len(acc) + 1)"
   ]
  },
  {
   "cell_type": "code",
   "execution_count": 43,
   "metadata": {},
   "outputs": [
    {
     "data": {
      "text/plain": [
       "Text(0.5,1,'VGG 16 (No Augmentation) - Accuracy')"
      ]
     },
     "execution_count": 43,
     "metadata": {},
     "output_type": "execute_result"
    },
    {
     "data": {
      "image/png": "[encoded data removed]",
      "text/plain": [
       "<Figure size 432x288 with 1 Axes>"
      ]
     },
     "metadata": {
      "needs_background": "light"
     },
     "output_type": "display_data"
    }
   ],
   "source": [
    "# Plotting accuracy\n",
    "plt.plot(epochs, acc, 'bo', label='Training Accuracy')\n",
    "plt.plot(epochs, val_acc, 'b-', label='Validation Accuracy')\n",
    "plt.xlabel('Epochs'); plt.ylabel('Accuracy'); plt.grid(True); plt.legend();\n",
    "plt.title('VGG 16 (No Augmentation) - Accuracy')"
   ]
  },
  {
   "cell_type": "code",
   "execution_count": 45,
   "metadata": {},
   "outputs": [
    {
     "data": {
      "text/plain": [
       "Text(0.5,1,'VGG 16 (No Augmentation) - Loss')"
      ]
     },
     "execution_count": 45,
     "metadata": {},
     "output_type": "execute_result"
    },
    {
     "data": {
      "image/png": "[encoded data removed]",
      "text/plain": [
       "<Figure size 432x288 with 1 Axes>"
      ]
     },
     "metadata": {
      "needs_background": "light"
     },
     "output_type": "display_data"
    }
   ],
   "source": [
    "# Plotting loss\n",
    "plt.plot(epochs, loss, 'bo', label='Training Loss')\n",
    "plt.plot(epochs, val_loss, 'b-', label='Validation Loss')\n",
    "plt.xlabel('Epochs'); plt.ylabel('Loss'); plt.grid(True); plt.legend();\n",
    "plt.title('VGG 16 (No Augmentation) - Loss')"
   ]
  },
  {
   "cell_type": "markdown",
   "metadata": {},
   "source": [
    "## Feature Extraction with Data Augmentation"
   ]
  },
  {
   "cell_type": "code",
   "execution_count": 50,
   "metadata": {},
   "outputs": [],
   "source": [
    "from tensorflow.keras import models, layers"
   ]
  },
  {
   "cell_type": "code",
   "execution_count": 56,
   "metadata": {},
   "outputs": [],
   "source": [
    "new_model = models.Sequential()\n",
    "new_model.add(conv_base)\n",
    "new_model.add(layers.Flatten())\n",
    "new_model.add(layers.Dense(256, activation='relu'))\n",
    "new_model.add(layers.Dense(1, activation='sigmoid'))"
   ]
  },
  {
   "cell_type": "code",
   "execution_count": 57,
   "metadata": {},
   "outputs": [
    {
     "name": "stdout",
     "output_type": "stream",
     "text": [
      "_________________________________________________________________\n",
      "Layer (type)                 Output Shape              Param #   \n",
      "=================================================================\n",
      "vgg16 (Model)                (None, 4, 4, 512)         14714688  \n",
      "_________________________________________________________________\n",
      "flatten_2 (Flatten)          (None, 8192)              0         \n",
      "_________________________________________________________________\n",
      "dense_10 (Dense)             (None, 256)               2097408   \n",
      "_________________________________________________________________\n",
      "dense_11 (Dense)             (None, 1)                 257       \n",
      "=================================================================\n",
      "Total params: 16,812,353\n",
      "Trainable params: 16,812,353\n",
      "Non-trainable params: 0\n",
      "_________________________________________________________________\n"
     ]
    }
   ],
   "source": [
    "new_model.summary()"
   ]
  },
  {
   "cell_type": "code",
   "execution_count": 59,
   "metadata": {},
   "outputs": [
    {
     "name": "stdout",
     "output_type": "stream",
     "text": [
      "This is the number of trainable weights before freezing the conv base  4\n",
      "This is the number of trainable weights after freezing the conv base 4\n"
     ]
    }
   ],
   "source": [
    "print(\"This is the number of trainable weights before freezing the conv base \", len(model.trainable_weights)) # should be 30?\n",
    "\n",
    "conv_base.trainable = False\n",
    "    \n",
    "print(\"This is the number of trainable weights after freezing the conv base\", len(model.trainable_weights))"
   ]
  },
  {
   "cell_type": "code",
   "execution_count": null,
   "metadata": {},
   "outputs": [],
   "source": [
    "from tensorflow.keras.preprocessing.image import ImageDataGenerator"
   ]
  },
  {
   "cell_type": "code",
   "execution_count": null,
   "metadata": {},
   "outputs": [],
   "source": [
    "from tensorflow.keras import optimizers"
   ]
  },
  {
   "cell_type": "code",
   "execution_count": null,
   "metadata": {},
   "outputs": [],
   "source": [
    "train_datagen = ImageDataGenerator(\n",
    "    rescale= 1./255, \n",
    "    rotation_range=40, \n",
    "    width_shift_range=0.2, \n",
    "    height_shift_range=0.2, \n",
    "    shear_range=0.2, \n",
    "    zoom_range=0.2,\n",
    "    horizontal_flip=True, \n",
    "    fill_mode='nearest')"
   ]
  },
  {
   "cell_type": "code",
   "execution_count": null,
   "metadata": {},
   "outputs": [],
   "source": [
    "test_datagen = ImageDataGenerator(rescale=1./255)"
   ]
  },
  {
   "cell_type": "code",
   "execution_count": null,
   "metadata": {},
   "outputs": [],
   "source": [
    "train_generator = train_datagen.flow_from_directory(\n",
    "    train_dir, \n",
    "    target_size=(150, 150), \n",
    "    batch_size=20, \n",
    "    clas_s_mode='binary')"
   ]
  },
  {
   "cell_type": "code",
   "execution_count": null,
   "metadata": {},
   "outputs": [],
   "source": [
    "validation_generator = test_datagen.flow_from_directory(\n",
    "    validation_dir, \n",
    "    target_size=(150, 150), \n",
    "    batch_size=20, \n",
    "    class_mode='binary')"
   ]
  },
  {
   "cell_type": "code",
   "execution_count": null,
   "metadata": {},
   "outputs": [],
   "source": [
    "model.compile(loss='binary_crossentropy', \n",
    "             optimizer=optimizers.RMSprop(lr=2e-5), \n",
    "             metrics=['acc'])"
   ]
  },
  {
   "cell_type": "code",
   "execution_count": null,
   "metadata": {},
   "outputs": [],
   "source": [
    "history = model.fit_generator(\n",
    "    train_generator, \n",
    "    steps_per_epoch=100, \n",
    "    epochs=30,\n",
    "    validation_data=validation_generator, \n",
    "    validation_steps=50\n",
    ")"
   ]
  },
  {
   "cell_type": "markdown",
   "metadata": {},
   "source": [
    "### Plotting VGG w/Data Augmentation Results"
   ]
  },
  {
   "cell_type": "code",
   "execution_count": null,
   "metadata": {},
   "outputs": [],
   "source": [
    "# Extract data from history object\n",
    "acc = history.history['acc']\n",
    "val_acc = history.history['val_acc']\n",
    "loss = history.history['loss']\n",
    "val_loss = history.history['val_loss']\n",
    "epochs = range(1, len(acc) + 1)"
   ]
  },
  {
   "cell_type": "code",
   "execution_count": null,
   "metadata": {},
   "outputs": [],
   "source": [
    "# Plot Accuracy\n",
    "plt.figure(); plt.plot(epochs, acc, 'bo', label='Training Accuracy')\n",
    "plt.plot(epochs, val_acc, 'b-', label='Validation Accuracy')\n",
    "plt.xlabel('Epochs'); plt.ylabel('Accuracy'); plt.grid(True); plt.legend();\n",
    "plt.title('VGG Base with Augmentation - Accuracy');"
   ]
  },
  {
   "cell_type": "code",
   "execution_count": null,
   "metadata": {},
   "outputs": [],
   "source": [
    "# Plot Loss\n",
    "plt.figure(); plt.plot(epochs, loss, 'bo', label='Training Loss')\n",
    "plt.plot(epochs, val_loss, 'b-', label='Validation Loss')\n",
    "plt.xlabel('Epochs'); plt.ylabel('Loss'); plt.grid(True); plt.legend();\n",
    "plt.title('VGG base with Augmentation - Loss'); "
   ]
  },
  {
   "cell_type": "markdown",
   "metadata": {},
   "source": [
    "# 5.25 - Fine Tuning\n",
    "- Involves unfreezing a few of the top layers of convolutional base and training these layers along with the densely connected classifier.\n",
    "- Called *fine tuning* because we're making small changes (gradient descent updates) to the weights for the top-most layers in the convolutional base.\n",
    "- These weights encode the more abstract representations of the model being reused. So small changes to these models will only modify the model slightly for the specific problem we are trying to solve.\n",
    "\n",
    "## Workflow\n",
    "1. Add your custom network on top of an already-trained base network.\n",
    "2. Freeze the base network.\n",
    "3. Train the part you added. \n",
    "4. Unfreeze some layers in the base network.\n",
    "5. Jointly train both these layers and the part you added.\n",
    "\n",
    "The densely connected classifier for the model must be trained **before** the top-most layers are unfrozen. This ensures that the error signals propagating back through the classifier to the topmost CNN layers are small, and only **tune** their weights (and thus the representations they encode).\n",
    "\n",
    "If the weights of the classifier were randomly initialized and not optimised before adding it to the convolutional base, the error signal generated by gradient descent would be too large. This large error signal would then backpropagate through the network and cause large changes in the weights of the topmost layers of the CNN. This would then lead to a complete loss of the representations encoded by these weights, and we wouldn't be fine-tuning the representations."
   ]
  },
  {
   "cell_type": "markdown",
   "metadata": {},
   "source": [
    "## Fine-Tuning Last Three Conv Layers\n",
    "Don't fine-tune **all** layers because\n",
    "- Only topmost layers need to be repurposed because they encode the most abstact, more specialized features.\n",
    "- More layers => more parameters to train => more capacity => more risk of overfitting => risky on a small dataset."
   ]
  },
  {
   "cell_type": "code",
   "execution_count": 25,
   "metadata": {},
   "outputs": [],
   "source": [
    "# The densely connected classifier has already been trained.\n",
    "# Unfreezing the entire convolutinal base and setting all layers\n",
    "# Except a specific layer to trainable.\n",
    "conv_base.trainable = True"
   ]
  },
  {
   "cell_type": "code",
   "execution_count": 26,
   "metadata": {},
   "outputs": [],
   "source": [
    "# flag variable to control when the switch trainability logi\n",
    "set_trainable = False\n",
    "\n",
    "for layer in conv_base.layers:\n",
    "    # If reached the last convolutional bloc\n",
    "    if layer.name == 'block5_conv1':\n",
    "        set_trainable = True    # change trainable flag state\n",
    "    \n",
    "    # Based on trainable flag, freeze/unfreeze the layer's weights\n",
    "    if set_trainable:\n",
    "        layer.trainable = True\n",
    "    else:\n",
    "        layer.trainable = False"
   ]
  },
  {
   "cell_type": "code",
   "execution_count": 27,
   "metadata": {},
   "outputs": [],
   "source": [
    "# Compiling the model with a new optimizer\n",
    "model.compile(loss='binary_crossentropy', \n",
    "             optimizer=optimizers.RMSprop(lr=1e-5), \n",
    "             metrics=['acc'])"
   ]
  },
  {
   "cell_type": "markdown",
   "metadata": {},
   "source": [
    "### Fine-Tuning"
   ]
  },
  {
   "cell_type": "code",
   "execution_count": 28,
   "metadata": {},
   "outputs": [
    {
     "ename": "NameError",
     "evalue": "name 'train_generator' is not defined",
     "output_type": "error",
     "traceback": [
      "\u001b[1;31m---------------------------------------------------------------------------\u001b[0m",
      "\u001b[1;31mNameError\u001b[0m                                 Traceback (most recent call last)",
      "\u001b[1;32m<ipython-input-28-d94d8606164e>\u001b[0m in \u001b[0;36m<module>\u001b[1;34m()\u001b[0m\n\u001b[0;32m      1\u001b[0m history = model.fit_generator(\n\u001b[1;32m----> 2\u001b[1;33m     \u001b[0mtrain_generator\u001b[0m\u001b[1;33m,\u001b[0m\u001b[1;33m\u001b[0m\u001b[0m\n\u001b[0m\u001b[0;32m      3\u001b[0m     \u001b[0msteps_per_epoch\u001b[0m\u001b[1;33m=\u001b[0m\u001b[1;36m100\u001b[0m\u001b[1;33m,\u001b[0m\u001b[1;33m\u001b[0m\u001b[0m\n\u001b[0;32m      4\u001b[0m     \u001b[0mepochs\u001b[0m\u001b[1;33m=\u001b[0m\u001b[1;36m30\u001b[0m\u001b[1;33m,\u001b[0m    \u001b[1;31m# because using the non-augmented model\u001b[0m\u001b[1;33m\u001b[0m\u001b[0m\n\u001b[0;32m      5\u001b[0m     \u001b[0mvalidation_data\u001b[0m\u001b[1;33m=\u001b[0m\u001b[0mvalidation_generator\u001b[0m\u001b[1;33m,\u001b[0m\u001b[1;33m\u001b[0m\u001b[0m\n",
      "\u001b[1;31mNameError\u001b[0m: name 'train_generator' is not defined"
     ]
    }
   ],
   "source": [
    "# Will have to use `fit_generator` because we are using the augmented model\n",
    "# It is also possible to repurpose this code to use \n",
    "history = model.fit_generator(\n",
    "    train_generator, \n",
    "    steps_per_epoch=100, \n",
    "    epochs=100,    # because using the augmented model\n",
    "    validation_data=validation_generator, \n",
    "    validation_steps=50)"
   ]
  },
  {
   "cell_type": "markdown",
   "metadata": {},
   "source": [
    "### Plotting Fine-Tuning Results"
   ]
  },
  {
   "cell_type": "code",
   "execution_count": null,
   "metadata": {},
   "outputs": [],
   "source": [
    "acc = history.history['acc']\n",
    "val_acc = history.history['val_acc']\n",
    "loss = history.history['loss']\n",
    "val_loss = history.history['val_loss']\n",
    "epochs = range(1, len(acc))"
   ]
  },
  {
   "cell_type": "code",
   "execution_count": null,
   "metadata": {},
   "outputs": [],
   "source": [
    "# Accuracy\n",
    "plt.plot(epochs, acc, 'bo', label='Training Accuracy')\n",
    "plt.plot(epochs, val_acc, 'b-', label='Validation Accuracy')\n",
    "plt.legend(); plt.grid(True); plt.xlabel('Epochs'); plt.ylabel('Accuracy')\n",
    "plt.title('Fine-Tuned VGG16 Model: Accuracy');"
   ]
  },
  {
   "cell_type": "code",
   "execution_count": 22,
   "metadata": {},
   "outputs": [
    {
     "ename": "NameError",
     "evalue": "name 'plt' is not defined",
     "output_type": "error",
     "traceback": [
      "\u001b[1;31m---------------------------------------------------------------------------\u001b[0m",
      "\u001b[1;31mNameError\u001b[0m                                 Traceback (most recent call last)",
      "\u001b[1;32m<ipython-input-22-834cec443cb8>\u001b[0m in \u001b[0;36m<module>\u001b[1;34m()\u001b[0m\n\u001b[0;32m      1\u001b[0m \u001b[1;31m# Loss\u001b[0m\u001b[1;33m\u001b[0m\u001b[1;33m\u001b[0m\u001b[0m\n\u001b[1;32m----> 2\u001b[1;33m \u001b[0mplt\u001b[0m\u001b[1;33m.\u001b[0m\u001b[0mplot\u001b[0m\u001b[1;33m(\u001b[0m\u001b[0mepochs\u001b[0m\u001b[1;33m,\u001b[0m \u001b[0mloss\u001b[0m\u001b[1;33m,\u001b[0m \u001b[1;34m'bo'\u001b[0m\u001b[1;33m,\u001b[0m \u001b[0mlabel\u001b[0m\u001b[1;33m=\u001b[0m\u001b[1;34m'Training Loss'\u001b[0m\u001b[1;33m)\u001b[0m\u001b[1;33m\u001b[0m\u001b[0m\n\u001b[0m\u001b[0;32m      3\u001b[0m \u001b[0mplt\u001b[0m\u001b[1;33m.\u001b[0m\u001b[0mplot\u001b[0m\u001b[1;33m(\u001b[0m\u001b[0mepochs\u001b[0m\u001b[1;33m,\u001b[0m \u001b[0mval_loss\u001b[0m\u001b[1;33m,\u001b[0m \u001b[1;34m'b-'\u001b[0m\u001b[1;33m,\u001b[0m \u001b[0mlabel\u001b[0m\u001b[1;33m=\u001b[0m\u001b[1;34m'Validation Loss'\u001b[0m\u001b[1;33m)\u001b[0m\u001b[1;33m\u001b[0m\u001b[0m\n\u001b[0;32m      4\u001b[0m \u001b[0mplt\u001b[0m\u001b[1;33m.\u001b[0m\u001b[0mlegend\u001b[0m\u001b[1;33m(\u001b[0m\u001b[1;33m)\u001b[0m\u001b[1;33m;\u001b[0m \u001b[0mplt\u001b[0m\u001b[1;33m.\u001b[0m\u001b[0mgrid\u001b[0m\u001b[1;33m(\u001b[0m\u001b[1;32mTrue\u001b[0m\u001b[1;33m)\u001b[0m\u001b[1;33m;\u001b[0m \u001b[0mplt\u001b[0m\u001b[1;33m.\u001b[0m\u001b[0mxlabel\u001b[0m\u001b[1;33m(\u001b[0m\u001b[1;34m'Epochs'\u001b[0m\u001b[1;33m)\u001b[0m\u001b[1;33m;\u001b[0m \u001b[0mplt\u001b[0m\u001b[1;33m.\u001b[0m\u001b[0mylabel\u001b[0m\u001b[1;33m(\u001b[0m\u001b[1;34m'Loss'\u001b[0m\u001b[1;33m)\u001b[0m\u001b[1;33m\u001b[0m\u001b[0m\n\u001b[0;32m      5\u001b[0m \u001b[0mplt\u001b[0m\u001b[1;33m.\u001b[0m\u001b[0mtitle\u001b[0m\u001b[1;33m(\u001b[0m\u001b[1;34m'Fine-Tuned VGG16 Model: Loss'\u001b[0m\u001b[1;33m)\u001b[0m\u001b[1;33m\u001b[0m\u001b[0m\n",
      "\u001b[1;31mNameError\u001b[0m: name 'plt' is not defined"
     ]
    }
   ],
   "source": [
    "# Loss\n",
    "plt.plot(epochs, loss, 'bo', label='Training Loss')\n",
    "plt.plot(epochs, val_loss, 'b-', label='Validation Loss')\n",
    "plt.legend(); plt.grid(True); plt.xlabel('Epochs'); plt.ylabel('Loss')\n",
    "plt.title('Fine-Tuned VGG16 Model: Loss')"
   ]
  },
  {
   "cell_type": "markdown",
   "metadata": {},
   "source": [
    "## Moving Average Filter for Plots"
   ]
  },
  {
   "cell_type": "code",
   "execution_count": 30,
   "metadata": {},
   "outputs": [],
   "source": [
    "# Implements a moving average filter for a set of data\n",
    "def smooth_curve(points, factor=0.8):\n",
    "    smoothed_points=[]     # new list to store smoothed data\n",
    "    \n",
    "    # For every data point in the original dataset\n",
    "    for point in points:\n",
    "        # If points have been smoothed before record the previous point\n",
    "        # And add the weighted average to the data\n",
    "        if smoothed_points:\n",
    "            previous = smoothed_points[-1]\n",
    "            smoothed_points.append(previous * factor + (1 - factor) * point)\n",
    "        # If this is the first point in the dataset\n",
    "        else:\n",
    "            smoothed_points.append(point)\n",
    "    return smoothed_points"
   ]
  },
  {
   "cell_type": "code",
   "execution_count": null,
   "metadata": {},
   "outputs": [],
   "source": [
    "# Plotting accuracy\n",
    "plt.plot(epochs, smooth_curve(acc), 'bo', label='Smoothed Training Accuracy')\n",
    "plt.plot(epochs, smooth_curve(val_acc), 'b-', label='Smoothed Validation Accuracy')\n",
    "plt.xlabel('Epochs'); plt.ylabel('Accuracy'); plt.grid(True); plt.legend();\n",
    "plt.title('VGG16 with Fine-Tuning - Smoothed Accuracy')"
   ]
  },
  {
   "cell_type": "code",
   "execution_count": null,
   "metadata": {},
   "outputs": [],
   "source": [
    "# Plotting loss\n",
    "plt.figure(); plt.plot(epochs, smooth_curve(loss), label='Smoothed Training Loss')\n",
    "plt.plot(epochs, smooth_curve(val_loss), label='Smoothed Validation Loss')\n",
    "plt.xlabel('Epochs'); plt.ylabel('Loss'); plt.grid(True); plt.legend();\n",
    "plt.title('VGG16 with Fine-Tuning - Smoothed Loss')"
   ]
  },
  {
   "cell_type": "markdown",
   "metadata": {},
   "source": [
    "## Evaluating The Model"
   ]
  },
  {
   "cell_type": "code",
   "execution_count": null,
   "metadata": {},
   "outputs": [],
   "source": [
    "test_generator = test_datagen.flow_from_directory(\n",
    "    test_dir, \n",
    "    target_size=(150, 150), \n",
    "    batch_size=20,\n",
    "    class_mode='binary')"
   ]
  },
  {
   "cell_type": "code",
   "execution_count": null,
   "metadata": {},
   "outputs": [],
   "source": [
    "test_loss, test_acc = model.evaluate_generator(test_generator, steps=50)\n",
    "print('test accuracy: ', test_acc)"
   ]
  }
 ],
 "metadata": {
  "kernelspec": {
   "display_name": "Python 3",
   "language": "python",
   "name": "python3"
  },
  "language_info": {
   "codemirror_mode": {
    "name": "ipython",
    "version": 3
   },
   "file_extension": ".py",
   "mimetype": "text/x-python",
   "name": "python",
   "nbconvert_exporter": "python",
   "pygments_lexer": "ipython3",
   "version": "3.7.0"
  }
 },
 "nbformat": 4,
 "nbformat_minor": 2
}
