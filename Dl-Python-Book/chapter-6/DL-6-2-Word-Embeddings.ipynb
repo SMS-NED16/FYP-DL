{
 "cells": [
  {
   "cell_type": "markdown",
   "metadata": {},
   "source": [
    "# Deep Learning with Python\n",
    "# 6.2 - Word Embeddings\n",
    "## What?\n",
    "- **One-hot encoding** or one-hot hashing creates word vectors that are\n",
    "    - High dimensional (> 20k tokens so 20k dimensions)\n",
    "    - Sparse: All elements are 0, only the index corresponding to a specific word is 1. \n",
    "    - Binary: The value of any element in a one-hot vector is either 1 or 0.\n",
    "    - Explicilty defined or hardcoded, not learned through a machine learning algorithm. \n",
    "- **Word embeddings** are vectors of words that are\n",
    "    - Low-dimensional: Word-embedding vectors are 256, 512, or 1024 dimensional for vocabularies of 20k words or more. They pack a lot more words/information in lower dimensions.\n",
    "    - Floating point: Not binary. Each element can be a floating point number. Makes them amenable to tensor models.\n",
    "    - Learned from data.\n",
    "    \n",
    "Two ways to obtain word embeddings\n",
    "- Learn word embeddings jointly with training your model.\n",
    "- Use preconfigured or pretrained word embeddings that were computed using a different machine learning task than the one you are trying to solve.\n",
    "\n",
    "### TLDR: Word Embeddings\n",
    "- Word embeddings map words in the vocabulary for a specific machine learning task to a geometric space.\n",
    "- The separation between individual words in this vector space (such as L2 norm) is analogous to the semantic difference between the words.\n",
    "- Embedding vectors represent transformations that express relationships between words in a word embedding vector space. \n",
    "- E.g. a `female` word embedding vector, when added to the `King` in a word embedding vector space, will form `queen`. "
   ]
  },
  {
   "cell_type": "markdown",
   "metadata": {},
   "source": [
    "## Learning Word Embeddings\n",
    "### Why?\n",
    "- No universal word embedding space that can be used for all languages and all possible NLP tasks.\n",
    "- All languages are different and are not isomorphic: relationships in one language's word-embedding space may not be transferable to that of another language.\n",
    "- In fact, even within the same language, word embedding spaces differ from one application to another.\n",
    "- So it's a good idea to learn a word-embedding space from scratch when working on a new ML problem."
   ]
  },
  {
   "cell_type": "code",
   "execution_count": 17,
   "metadata": {},
   "outputs": [],
   "source": [
    "from tensorflow.keras.layers import Embedding"
   ]
  },
  {
   "cell_type": "markdown",
   "metadata": {},
   "source": [
    "Embedding layer is best understood as a dictionary that mps integer indices (which represent specific words) to dense vectors. It takes integers (indices) as inputs, looks up these integrs in an internal dictionary, and returns the associated vectors as ouput. \n",
    "\n",
    "In this case, the Embedding layer recieves an input tensor containing up to 1000 word tokens (indices representing up to 1000 words in the total vocabulary for our samples) and will return the vectors representing each word as a 64 dimensional word-embedding space vector. "
   ]
  },
  {
   "cell_type": "code",
   "execution_count": 18,
   "metadata": {},
   "outputs": [],
   "source": [
    "# Arg 1: Number of possible tokens - 1000 = 1 + maximum word index\n",
    "# Arg 2: Dimensionality - 64 - Ou\n",
    "embedding_layer = Embedding(1000, 64)"
   ]
  },
  {
   "cell_type": "code",
   "execution_count": 19,
   "metadata": {},
   "outputs": [
    {
     "data": {
      "text/plain": [
       "1000"
      ]
     },
     "execution_count": 19,
     "metadata": {},
     "output_type": "execute_result"
    }
   ],
   "source": [
    "embedding_layer.input_dim"
   ]
  },
  {
   "cell_type": "code",
   "execution_count": 20,
   "metadata": {},
   "outputs": [
    {
     "data": {
      "text/plain": [
       "64"
      ]
     },
     "execution_count": 20,
     "metadata": {},
     "output_type": "execute_result"
    }
   ],
   "source": [
    "embedding_layer.output_dim"
   ]
  },
  {
   "cell_type": "markdown",
   "metadata": {},
   "source": [
    "Embedding Layer will take as input a 2D tensor of integers of shape `(samples, sequence_length)`. Here, each entry represents a single sample and each sample is a sequence of integers. All sample vectors must have the same length, so individual sample vectors may have to be zero-padded. \n",
    "\n",
    "The output will be a 3D `float32` tensor of shape `(samples, sequence_length, embedding_dimensionality)` where each sample is will consist of the sequence of words, and each word will be represented as an `N` dimensional vector, where `N` is the dimensionality of the word-embedding vector space."
   ]
  },
  {
   "cell_type": "markdown",
   "metadata": {},
   "source": [
    "## Learning Embedding for `imdb`\n",
    "\n",
    "1. Prepare data by tokenizing it to a sequence of integers.\n",
    "2. Restrict the movie reviews to the top 10k most common words.\n",
    "3. Parse only the first 20 words in each review for tokenizing.\n",
    "4. Feed each sequence of integers to the Embedding layer which will convert each word (integer) to an 8-dimensional vector. \n",
    "5. Flatten the tensor to 2D.\n",
    "6. Train a single `Dense` layer on top for classification."
   ]
  },
  {
   "cell_type": "code",
   "execution_count": 21,
   "metadata": {},
   "outputs": [],
   "source": [
    "from tensorflow.keras.datasets import imdb\n",
    "from tensorflow.keras import preprocessing"
   ]
  },
  {
   "cell_type": "code",
   "execution_count": 22,
   "metadata": {},
   "outputs": [],
   "source": [
    "# Number of words to consider as features\n",
    "max_features = 10000\n",
    "\n",
    "# Cuts off the text after this number of words\n",
    "maxlen = 20"
   ]
  },
  {
   "cell_type": "code",
   "execution_count": 23,
   "metadata": {},
   "outputs": [],
   "source": [
    "# for loading IMDB dataset from a pickle file\n",
    "import numpy as np\n",
    "# save np.load\n",
    "np_load_old = np.load\n",
    "\n",
    "# modify the default parameters of np.load\n",
    "np.load = lambda *a,**k: np_load_old(*a, allow_pickle=True, **k)\n",
    "\n",
    "# call load_data with allow_pickle implicitly set to true\n",
    "# Data is loaded as lists of integers\n",
    "(x_train, y_train), (x_test, y_test) = imdb.load_data(num_words=max_features)\n",
    "\n",
    "# restore np.load for future normal usage\n",
    "np.load = np_load_old"
   ]
  },
  {
   "cell_type": "markdown",
   "metadata": {},
   "source": [
    "### Preprocesing\n",
    " Turn the list of training and test integers into 2D integer tensor of shape `(samples, maxlen)`. This means any reviews that have less than 20 words will have to be zero-padded. "
   ]
  },
  {
   "cell_type": "code",
   "execution_count": 24,
   "metadata": {},
   "outputs": [],
   "source": [
    "# Turns list of training integers into 2D integer tensor\n",
    "# shape (samples, maxlen) - 0 padding for reviews that are less than 20 words\n",
    "x_train = preprocessing.sequence.pad_sequences(x_train, maxlen=maxlen)"
   ]
  },
  {
   "cell_type": "code",
   "execution_count": 25,
   "metadata": {},
   "outputs": [],
   "source": [
    "# Do the same for the test samples\n",
    "x_test = preprocessing.sequence.pad_sequences(x_test, maxlen=maxlen)"
   ]
  },
  {
   "cell_type": "markdown",
   "metadata": {},
   "source": [
    "## Using `Embedding` Layer and Classifier on IMDB Data"
   ]
  },
  {
   "cell_type": "code",
   "execution_count": 26,
   "metadata": {},
   "outputs": [],
   "source": [
    "from tensorflow.keras.models import Sequential\n",
    "from tensorflow.keras.layers import Flatten, Dense, Embedding"
   ]
  },
  {
   "cell_type": "code",
   "execution_count": 27,
   "metadata": {},
   "outputs": [],
   "source": [
    "model = Sequential()"
   ]
  },
  {
   "cell_type": "markdown",
   "metadata": {},
   "source": [
    "The Embedding layer will accept inputs with upto 10k different words and encodes each word as an 8 dimensional word-embedding vector. The `input_length` argument specifies the dimension of each input to the layer along the samples axis."
   ]
  },
  {
   "cell_type": "code",
   "execution_count": 28,
   "metadata": {},
   "outputs": [],
   "source": [
    "# Specifies maximum input length to Embeddinag layer\n",
    "# So embedded inputs can later be flattened\n",
    "model.add(Embedding(10000, 8, input_length=maxlen))"
   ]
  },
  {
   "cell_type": "code",
   "execution_count": 29,
   "metadata": {},
   "outputs": [],
   "source": [
    "# Flatten the 3D tensor of embeddings into a 2D tensor of shape\n",
    "# (samples, maxlen * 8)\n",
    "model.add(Flatten())"
   ]
  },
  {
   "cell_type": "code",
   "execution_count": 30,
   "metadata": {},
   "outputs": [],
   "source": [
    "# Add a classifier on top \n",
    "# But this will treat each word in the sample separately\n",
    "# Without considering inter-word relationships and structure\n",
    "model.add(Dense(1, activation='sigmoid'))"
   ]
  },
  {
   "cell_type": "code",
   "execution_count": 31,
   "metadata": {},
   "outputs": [],
   "source": [
    "model.compile(optimizer='rmsprop', loss='binary_crossentropy', metrics=['acc'])"
   ]
  },
  {
   "cell_type": "code",
   "execution_count": 32,
   "metadata": {},
   "outputs": [
    {
     "name": "stdout",
     "output_type": "stream",
     "text": [
      "_________________________________________________________________\n",
      "Layer (type)                 Output Shape              Param #   \n",
      "=================================================================\n",
      "embedding_3 (Embedding)      (None, 20, 8)             80000     \n",
      "_________________________________________________________________\n",
      "flatten_2 (Flatten)          (None, 160)               0         \n",
      "_________________________________________________________________\n",
      "dense_1 (Dense)              (None, 1)                 161       \n",
      "=================================================================\n",
      "Total params: 80,161\n",
      "Trainable params: 80,161\n",
      "Non-trainable params: 0\n",
      "_________________________________________________________________\n"
     ]
    }
   ],
   "source": [
    "model.summary()"
   ]
  },
  {
   "cell_type": "code",
   "execution_count": 33,
   "metadata": {},
   "outputs": [
    {
     "name": "stdout",
     "output_type": "stream",
     "text": [
      "Train on 20000 samples, validate on 5000 samples\n",
      "WARNING:tensorflow:From C:\\Users\\saads\\Anaconda3\\lib\\site-packages\\tensorflow\\python\\ops\\math_ops.py:3066: to_int32 (from tensorflow.python.ops.math_ops) is deprecated and will be removed in a future version.\n",
      "Instructions for updating:\n",
      "Use tf.cast instead.\n",
      "Epoch 1/10\n",
      "20000/20000 [==============================] - 3s 169us/sample - loss: 0.6633 - acc: 0.6349 - val_loss: 0.6048 - val_acc: 0.7014\n",
      "Epoch 2/10\n",
      "20000/20000 [==============================] - 2s 107us/sample - loss: 0.5291 - acc: 0.7531 - val_loss: 0.5196 - val_acc: 0.7314\n",
      "Epoch 3/10\n",
      "20000/20000 [==============================] - 2s 108us/sample - loss: 0.4571 - acc: 0.7893 - val_loss: 0.5000 - val_acc: 0.7474\n",
      "Epoch 4/10\n",
      "20000/20000 [==============================] - 2s 117us/sample - loss: 0.4228 - acc: 0.8073 - val_loss: 0.4948 - val_acc: 0.7516\n",
      "Epoch 5/10\n",
      "20000/20000 [==============================] - 2s 120us/sample - loss: 0.3995 - acc: 0.8196 - val_loss: 0.4943 - val_acc: 0.7534\n",
      "Epoch 6/10\n",
      "20000/20000 [==============================] - 2s 109us/sample - loss: 0.3802 - acc: 0.8313 - val_loss: 0.4976 - val_acc: 0.7546\n",
      "Epoch 7/10\n",
      "20000/20000 [==============================] - 2s 110us/sample - loss: 0.3632 - acc: 0.8420 - val_loss: 0.5018 - val_acc: 0.7558\n",
      "Epoch 8/10\n",
      "20000/20000 [==============================] - 2s 110us/sample - loss: 0.3461 - acc: 0.8514 - val_loss: 0.5077 - val_acc: 0.7538\n",
      "Epoch 9/10\n",
      "20000/20000 [==============================] - 2s 116us/sample - loss: 0.3295 - acc: 0.8597 - val_loss: 0.5129 - val_acc: 0.7528\n",
      "Epoch 10/10\n",
      "20000/20000 [==============================] - 3s 161us/sample - loss: 0.3123 - acc: 0.8709 - val_loss: 0.5194 - val_acc: 0.7510\n"
     ]
    }
   ],
   "source": [
    "history = model.fit(x_train, y_train, \n",
    "                   epochs=10, batch_size=32, \n",
    "                   validation_split=0.2)"
   ]
  },
  {
   "cell_type": "markdown",
   "metadata": {},
   "source": [
    "Get a validation accuracy of 76%, which is good considering that we were only using the first 20 words in each review for learning word embeddings. \n",
    "\n",
    "The use of a densely connected classifier without an RNN or Conv1D layer is not the optimal way of learning word embeddings. This is because this architecture will only allow the NN to focus on individual words in the input sequences without considering inter-word relationshops and sentence structure.\n",
    "\n",
    "So this network would be unable to differentiate between \"This movie is a bomb\" and \"This move is the bomb\"."
   ]
  },
  {
   "cell_type": "markdown",
   "metadata": {},
   "source": [
    "## Pretrained Word Embeddings\n",
    "\n",
    "To integrate pretrained word embeddings with our model, we must use the original IMDB data. This is because the IMDB data accessible through built-in `keras` functionality already has associations/its own encoding. We want the machine learnign algorithm to assign these encodings from scratch."
   ]
  },
  {
   "cell_type": "code",
   "execution_count": 119,
   "metadata": {},
   "outputs": [],
   "source": [
    "import os"
   ]
  },
  {
   "cell_type": "code",
   "execution_count": 120,
   "metadata": {},
   "outputs": [],
   "source": [
    "# Path to original IMDB dataset on Drive\n",
    "imdb_dir = '/Users/saads/OneDrive/Desktop/DL-Python-Repo/FYP-DL/Dl-Python-Book/chapter-6/aclImdb'"
   ]
  },
  {
   "cell_type": "code",
   "execution_count": 121,
   "metadata": {},
   "outputs": [],
   "source": [
    "# Path to training directory - renamed to test in the new download\n",
    "train_dir = os.path.join(imdb_dir, 'test')"
   ]
  },
  {
   "cell_type": "code",
   "execution_count": 122,
   "metadata": {},
   "outputs": [],
   "source": [
    "# Empty lists to store class and extracted text from all reviews\n",
    "labels = []\n",
    "texts = []"
   ]
  },
  {
   "cell_type": "code",
   "execution_count": 123,
   "metadata": {},
   "outputs": [],
   "source": [
    "pos_files = os.listdir(os.path.join(train_dir, 'pos'))\n",
    "neg_files = os.listdir(os.path.join(train_dir, 'neg'))"
   ]
  },
  {
   "cell_type": "code",
   "execution_count": 124,
   "metadata": {},
   "outputs": [
    {
     "data": {
      "text/plain": [
       "'.txt'"
      ]
     },
     "execution_count": 124,
     "metadata": {},
     "output_type": "execute_result"
    }
   ],
   "source": [
    "pos_files[0][-4:]"
   ]
  },
  {
   "cell_type": "code",
   "execution_count": 125,
   "metadata": {},
   "outputs": [],
   "source": [
    "# Parse all .txt files in the `neg` and `pos` subdirectories of \n",
    "# the training set. Read all reviews and add their text and labels to the \n",
    "# appropriate lists. \n",
    "for label_type in ['neg', 'pos']:\n",
    "    # Parse the negative and positive class directories in turn\n",
    "    dir_name = os.path.join(train_dir, label_type)\n",
    "    \n",
    "    # For every file in the subdirectory\n",
    "    for fname in os.listdir(dir_name):\n",
    "        # Check if it's a text file. DON'T FORGET CLOSING COLON FOR THE LIST SLICING\n",
    "        if fname[-4:] == '.txt':\n",
    "            # Open it, read its contents, append them to the texts list\n",
    "            # Must specify UTF-8 encoding, otherwise Python has issues reading from file\n",
    "            f = open(os.path.join(dir_name, fname), encoding='utf-8')\n",
    "            texts.append(f.read())\n",
    "            \n",
    "            # Close the filestream\n",
    "            f.close()\n",
    "            \n",
    "            # For each review added to the texts list, also add\n",
    "            # 1 or 0 to the labels category on the corresponding index\n",
    "            if label_type == 'neg':\n",
    "                labels.append(0)  # negative class\n",
    "            else:\n",
    "                labels.append(1)  # positive class"
   ]
  },
  {
   "cell_type": "markdown",
   "metadata": {},
   "source": [
    "### Tokenizing Data\n",
    "\n",
    "The data is now ready to be tokenized i.e. converted from string to a series of integer indices, each of which represents a single word in the vocabulary.\n",
    "\n",
    "A condition where pre-trained word embeddings are practically useful is when we have very little training data available to learn our own embeddings. To simulate this condition, we will limit ourselves to using only 200 samples fromn the training data."
   ]
  },
  {
   "cell_type": "code",
   "execution_count": 141,
   "metadata": {},
   "outputs": [],
   "source": [
    "from tensorflow.keras.preprocessing.text import Tokenizer\n",
    "from tensorflow.keras.preprocessing.sequence import pad_sequences\n",
    "import numpy as np"
   ]
  },
  {
   "cell_type": "code",
   "execution_count": 142,
   "metadata": {},
   "outputs": [],
   "source": [
    "# Cuts off reviews after 100 words\n",
    "maxlen = 100\n",
    "\n",
    "# Trains on only 200 samples - simulating limited training data \n",
    "training_samples = 200\n",
    "\n",
    "# Validate on 10k samples\n",
    "validation_samples = 10000\n",
    "\n",
    "# Considers only the top 10k words in the dataset\n",
    "max_words = 10000"
   ]
  },
  {
   "cell_type": "code",
   "execution_count": 143,
   "metadata": {},
   "outputs": [],
   "source": [
    "# Instantiate a keras tokenizer for 10k words\n",
    "tokenizer = Tokenizer(num_words=max_words)\n",
    "\n",
    "# Tokenize all words in the training data\n",
    "tokenizer.fit_on_texts(texts)\n",
    "\n",
    "# Convert the samples to sequences of tokens\n",
    "sequences = tokenizer.texts_to_sequences(texts)"
   ]
  },
  {
   "cell_type": "code",
   "execution_count": 144,
   "metadata": {},
   "outputs": [],
   "source": [
    "# Dictionary that maps each word in the vocabulary to an index\n",
    "word_index = tokenizer.word_index"
   ]
  },
  {
   "cell_type": "code",
   "execution_count": 145,
   "metadata": {},
   "outputs": [
    {
     "name": "stdout",
     "output_type": "stream",
     "text": [
      "Found 72633 unique tokens.\n"
     ]
    }
   ],
   "source": [
    "print('Found %s unique tokens.' % len(word_index))"
   ]
  },
  {
   "cell_type": "code",
   "execution_count": 146,
   "metadata": {},
   "outputs": [],
   "source": [
    "data = pad_sequences(sequences, maxlen=maxlen)"
   ]
  },
  {
   "cell_type": "code",
   "execution_count": 147,
   "metadata": {},
   "outputs": [],
   "source": [
    "labels = np.asarray(labels)"
   ]
  },
  {
   "cell_type": "code",
   "execution_count": 148,
   "metadata": {},
   "outputs": [
    {
     "name": "stdout",
     "output_type": "stream",
     "text": [
      "Shape of data tensor:  (17243, 100)\n"
     ]
    }
   ],
   "source": [
    "print(\"Shape of data tensor: \", data.shape)"
   ]
  },
  {
   "cell_type": "code",
   "execution_count": 149,
   "metadata": {},
   "outputs": [
    {
     "name": "stdout",
     "output_type": "stream",
     "text": [
      "Shape of label tensor:  (17243, 100)\n"
     ]
    }
   ],
   "source": [
    "print(\"Shape of label tensor: \", data.shape)"
   ]
  },
  {
   "cell_type": "code",
   "execution_count": 150,
   "metadata": {},
   "outputs": [],
   "source": [
    "# Split the data into a training set and validation set\n",
    "# But first shuffle the data b/c we're starting with data\n",
    "# in which samples are ordered (all negative first, then all positive)\n",
    "indices = np.arange(data.shape[0])\n",
    "np.random.shuffle(indices)\n",
    "data = data[indices]\n",
    "labels = labels[indices]"
   ]
  },
  {
   "cell_type": "code",
   "execution_count": 152,
   "metadata": {},
   "outputs": [],
   "source": [
    "x_train = data[:training_samples]\n",
    "y_train = labels[:training_samples]\n",
    "x_val = data[training_samples: training_samples + validation_samples]\n",
    "y_val = labels[training_samples: training_samples + validation_samples]"
   ]
  },
  {
   "cell_type": "code",
   "execution_count": 153,
   "metadata": {},
   "outputs": [
    {
     "name": "stdout",
     "output_type": "stream",
     "text": [
      "(200, 100)\n"
     ]
    }
   ],
   "source": [
    "print(x_train.shape)"
   ]
  },
  {
   "cell_type": "code",
   "execution_count": 154,
   "metadata": {},
   "outputs": [
    {
     "name": "stdout",
     "output_type": "stream",
     "text": [
      "(200,)\n"
     ]
    }
   ],
   "source": [
    "print(y_train.shape)"
   ]
  },
  {
   "cell_type": "code",
   "execution_count": 155,
   "metadata": {},
   "outputs": [
    {
     "name": "stdout",
     "output_type": "stream",
     "text": [
      "(10000, 100)\n"
     ]
    }
   ],
   "source": [
    "print(x_val.shape)"
   ]
  },
  {
   "cell_type": "code",
   "execution_count": 156,
   "metadata": {},
   "outputs": [
    {
     "name": "stdout",
     "output_type": "stream",
     "text": [
      "(10000,)\n"
     ]
    }
   ],
   "source": [
    "print(y_val.shape)"
   ]
  },
  {
   "cell_type": "markdown",
   "metadata": {},
   "source": [
    "## GloVe Word Embeddings"
   ]
  },
  {
   "cell_type": "code",
   "execution_count": 157,
   "metadata": {},
   "outputs": [],
   "source": [
    "# Path to directory with GloVe word embeddings\n",
    "glove_dir = '/Users/saads/OneDrive/Desktop/DL-Python-Repo/FYP-DL/Dl-Python-Book/chapter-6/glove-6B'"
   ]
  },
  {
   "cell_type": "code",
   "execution_count": 158,
   "metadata": {},
   "outputs": [],
   "source": [
    "# Dictionary that will map GloVe word embeddings to indices\n",
    "embeddings_index = {}"
   ]
  },
  {
   "cell_type": "code",
   "execution_count": 160,
   "metadata": {},
   "outputs": [],
   "source": [
    "# Open the word embedding file containing 100-dimensional embeddings\n",
    "f = open(os.path.join(glove_dir, 'glove.6B.100d.txt'), encoding='utf-8')"
   ]
  },
  {
   "cell_type": "code",
   "execution_count": 161,
   "metadata": {},
   "outputs": [],
   "source": [
    "# For every line in this file \n",
    "for line in f:\n",
    "    # Split the line into an array of individual vaues\n",
    "    values = line.split()\n",
    "    \n",
    "    # The first value in each line is the word\n",
    "    word = values[0]\n",
    "    \n",
    "    # The remaining values in the line are coeffs of a 100-dimensional vector\n",
    "    # Encoding that word\n",
    "    coefs = np.asarray(values[1:], dtype='float32')\n",
    "    \n",
    "    # Add the word as a key to the embeddings dictionary, with coeffs as value\n",
    "    embeddings_index[word] = coefs\n",
    "    \n",
    "f.close()"
   ]
  },
  {
   "cell_type": "code",
   "execution_count": 162,
   "metadata": {},
   "outputs": [
    {
     "name": "stdout",
     "output_type": "stream",
     "text": [
      "Found 400000 word vectors.\n"
     ]
    }
   ],
   "source": [
    "print('Found %s word vectors.' %len(embeddings_index))"
   ]
  },
  {
   "cell_type": "markdown",
   "metadata": {},
   "source": [
    "Building an embedding matrix. This matrix will then be loaded into an `Embedding` layer. It must be a matrix of shape `(max_words, embedding_dim)`. Each entry `i` contains the `embedding_dim`-dimensional vector for the word of index `i` in the reference word index that was build during tokenization.\n",
    "\n",
    "Index 0 isn't supposed to stand for any word or token. It is a placeholder."
   ]
  },
  {
   "cell_type": "code",
   "execution_count": 163,
   "metadata": {},
   "outputs": [],
   "source": [
    "embedding_dim = 100\n",
    "embedding_matrix = np.zeros((max_words, embedding_dim))\n",
    "\n",
    "# Key is the word, its index is the word vector        \n",
    "for word, i in word_index.items():\n",
    "    # Word index is the dictionary of distinct words in the IMDB dataaset\n",
    "    # Every word is encoded as a specific numeric integer\n",
    "    if i < max_words:\n",
    "        # Get the word corresponding vector for this word\n",
    "        # This will be from the GloVe embeddings dictionary \n",
    "        # Where each word is encoded as a VECTOR of integers\n",
    "        embedding_vector = embeddings_index.get(word)\n",
    "        \n",
    "        # Set value if not in embedding matrix\n",
    "        if embedding_vector is not None:\n",
    "            # Words not found in the embedding index will be all zeros\n",
    "            embedding_matrix[i] = embedding_vector"
   ]
  },
  {
   "cell_type": "markdown",
   "metadata": {},
   "source": [
    "### GloVe Model\n",
    "Identical to the previous model"
   ]
  },
  {
   "cell_type": "code",
   "execution_count": 164,
   "metadata": {},
   "outputs": [],
   "source": [
    "from tensorflow.keras.models import Sequential\n",
    "from tensorflow.keras.layers import Embedding, Flatten, Dense"
   ]
  },
  {
   "cell_type": "code",
   "execution_count": 165,
   "metadata": {},
   "outputs": [
    {
     "name": "stdout",
     "output_type": "stream",
     "text": [
      "_________________________________________________________________\n",
      "Layer (type)                 Output Shape              Param #   \n",
      "=================================================================\n",
      "embedding_4 (Embedding)      (None, 100, 100)          1000000   \n",
      "_________________________________________________________________\n",
      "flatten_3 (Flatten)          (None, 10000)             0         \n",
      "_________________________________________________________________\n",
      "dense_2 (Dense)              (None, 32)                320032    \n",
      "_________________________________________________________________\n",
      "dense_3 (Dense)              (None, 1)                 33        \n",
      "=================================================================\n",
      "Total params: 1,320,065\n",
      "Trainable params: 1,320,065\n",
      "Non-trainable params: 0\n",
      "_________________________________________________________________\n"
     ]
    }
   ],
   "source": [
    "model = Sequential()\n",
    "model.add(Embedding(max_words, embedding_dim, input_length=maxlen))\n",
    "model.add(Flatten())\n",
    "model.add(Dense(32, activation='relu'))\n",
    "model.add(Dense(1, activation='sigmoid'))\n",
    "model.summary()"
   ]
  },
  {
   "cell_type": "markdown",
   "metadata": {},
   "source": [
    "## Loading the GloVe Embeddings n the Model\n",
    "\n",
    "Weight matrix of the embedding layer is a 2D float matrix where each entry `i` is the word vector meant to be associated with the index `i`. "
   ]
  },
  {
   "cell_type": "code",
   "execution_count": 166,
   "metadata": {},
   "outputs": [],
   "source": [
    "model.layers[0].set_weights([embedding_matrix])\n",
    "\n",
    "# Embedding layer's weights are not trainable\n",
    "# Want to reuse preconfigured features in the word-embedding\n",
    "model.layers[0].trainable = False"
   ]
  },
  {
   "cell_type": "code",
   "execution_count": null,
   "metadata": {},
   "outputs": [],
   "source": [
    "## Train the Model"
   ]
  },
  {
   "cell_type": "code",
   "execution_count": 167,
   "metadata": {},
   "outputs": [],
   "source": [
    "# Training the model\n",
    "model.compile(optimizer='rmsprop', \n",
    "             loss='binary_crossentropy', \n",
    "             metrics=['acc'])"
   ]
  },
  {
   "cell_type": "code",
   "execution_count": 168,
   "metadata": {},
   "outputs": [
    {
     "name": "stdout",
     "output_type": "stream",
     "text": [
      "Train on 200 samples, validate on 10000 samples\n",
      "Epoch 1/10\n",
      "200/200 [==============================] - 1s 6ms/sample - loss: 2.8250 - acc: 0.6300 - val_loss: 0.6949 - val_acc: 0.5620\n",
      "Epoch 2/10\n",
      "200/200 [==============================] - 1s 4ms/sample - loss: 0.4690 - acc: 0.8000 - val_loss: 0.7264 - val_acc: 0.5101\n",
      "Epoch 3/10\n",
      "200/200 [==============================] - 1s 4ms/sample - loss: 0.3918 - acc: 0.8300 - val_loss: 2.0287 - val_acc: 0.2772\n",
      "Epoch 4/10\n",
      "200/200 [==============================] - 1s 4ms/sample - loss: 0.3424 - acc: 0.8750 - val_loss: 0.8291 - val_acc: 0.7212\n",
      "Epoch 5/10\n",
      "200/200 [==============================] - 1s 5ms/sample - loss: 0.1276 - acc: 0.9900 - val_loss: 0.7659 - val_acc: 0.7104\n",
      "Epoch 6/10\n",
      "200/200 [==============================] - 1s 4ms/sample - loss: 0.0594 - acc: 0.9950 - val_loss: 1.2772 - val_acc: 0.7228\n",
      "Epoch 7/10\n",
      "200/200 [==============================] - 1s 5ms/sample - loss: 0.1271 - acc: 0.9800 - val_loss: 0.6964 - val_acc: 0.6217\n",
      "Epoch 8/10\n",
      "200/200 [==============================] - 1s 5ms/sample - loss: 0.0484 - acc: 1.0000 - val_loss: 0.7623 - val_acc: 0.7079\n",
      "Epoch 9/10\n",
      "200/200 [==============================] - 1s 5ms/sample - loss: 0.0277 - acc: 1.0000 - val_loss: 0.7158 - val_acc: 0.6118\n",
      "Epoch 10/10\n",
      "200/200 [==============================] - 1s 5ms/sample - loss: 0.0288 - acc: 1.0000 - val_loss: 0.7986 - val_acc: 0.7001\n"
     ]
    }
   ],
   "source": [
    "history_glove = model.fit(x_train, y_train, \n",
    "                   epochs=10, batch_size=32, \n",
    "                   validation_data=(x_val, y_val))"
   ]
  },
  {
   "cell_type": "markdown",
   "metadata": {},
   "source": [
    "## Save the Model"
   ]
  },
  {
   "cell_type": "code",
   "execution_count": 169,
   "metadata": {},
   "outputs": [],
   "source": [
    "model.save_weights('pre_trained_glove_model.h5')"
   ]
  },
  {
   "cell_type": "markdown",
   "metadata": {},
   "source": [
    "## Plotting Model Performance"
   ]
  },
  {
   "cell_type": "code",
   "execution_count": 170,
   "metadata": {},
   "outputs": [],
   "source": [
    "import matplotlib.pyplot as plt"
   ]
  },
  {
   "cell_type": "code",
   "execution_count": 171,
   "metadata": {},
   "outputs": [],
   "source": [
    "acc = history_glove.history['acc']\n",
    "val_acc = history_glove.history['val_acc']\n",
    "loss = history_glove.history['loss']\n",
    "val_loss = history_glove.history['val_loss']\n",
    "epochs = range(1, len(acc) + 1)"
   ]
  },
  {
   "cell_type": "code",
   "execution_count": 172,
   "metadata": {},
   "outputs": [
    {
     "data": {
      "text/plain": [
       "Text(0.5, 1.0, 'GloVe Embeddings - Accuracy')"
      ]
     },
     "execution_count": 172,
     "metadata": {},
     "output_type": "execute_result"
    },
    {
     "data": {
      "image/png": "[encoded data removed]",
      "text/plain": [
       "<Figure size 432x288 with 1 Axes>"
      ]
     },
     "metadata": {
      "needs_background": "light"
     },
     "output_type": "display_data"
    }
   ],
   "source": [
    "plt.plot(epochs, acc, 'bo', label='Traning Accuracy')\n",
    "plt.plot(epochs, val_acc, 'b-', label='Validation Accuracy')\n",
    "plt.xlabel('Epochs'); plt.ylabel('Accuracy'); plt.grid(True);\n",
    "plt.legend(); plt.title('GloVe Embeddings - Accuracy')"
   ]
  },
  {
   "cell_type": "code",
   "execution_count": 173,
   "metadata": {},
   "outputs": [
    {
     "data": {
      "text/plain": [
       "Text(0.5, 1.0, 'GloVe Embeddings - Loss')"
      ]
     },
     "execution_count": 173,
     "metadata": {},
     "output_type": "execute_result"
    },
    {
     "data": {
      "image/png": "[encoded data removed]",
      "text/plain": [
       "<Figure size 432x288 with 1 Axes>"
      ]
     },
     "metadata": {
      "needs_background": "light"
     },
     "output_type": "display_data"
    }
   ],
   "source": [
    "plt.plot(epochs, loss, 'bo', label='Training Loss')\n",
    "plt.plot(epochs, val_loss, 'b-', label='Validation Loss')\n",
    "plt.xlabel('Epochs'); plt.ylabel('Loss'); plt.grid(True);\n",
    "plt.legend(); plt.title('GloVe Embeddings - Loss')"
   ]
  },
  {
   "cell_type": "markdown",
   "metadata": {},
   "source": [
    "### Explanation\n",
    "- The model shows evidence of overfitting from early epochs, which is not surprising because we are training on a dataset of only 200 samples. \n",
    "- Also, the plots don't exactly match those from the book because the training set is very small, so the weights depend on which specific samples from the original dataset were used for the 200 sample training set.\n",
    "- Validation accuracy also has a high variance for the same reason."
   ]
  },
  {
   "cell_type": "markdown",
   "metadata": {},
   "source": [
    "## Training w/o GloVe Embeddings\n",
    "- Going to use the same 200 samples to also learn a custom word embedding for our model along with training it."
   ]
  },
  {
   "cell_type": "code",
   "execution_count": 174,
   "metadata": {},
   "outputs": [],
   "source": [
    "from tensorflow.keras.models import Sequential\n",
    "from tensorflow.keras.layers import Embedding, Flatten, Dense"
   ]
  },
  {
   "cell_type": "code",
   "execution_count": 175,
   "metadata": {},
   "outputs": [],
   "source": [
    "model = Sequential()"
   ]
  },
  {
   "cell_type": "code",
   "execution_count": 176,
   "metadata": {},
   "outputs": [],
   "source": [
    "model.add(Embedding(max_words, embedding_dim, input_length=maxlen))\n",
    "model.add(Flatten())\n",
    "model.add(Dense(32, activation='relu'))\n",
    "model.add(Dense(1, activation='sigmoid'))"
   ]
  },
  {
   "cell_type": "code",
   "execution_count": 177,
   "metadata": {},
   "outputs": [
    {
     "name": "stdout",
     "output_type": "stream",
     "text": [
      "_________________________________________________________________\n",
      "Layer (type)                 Output Shape              Param #   \n",
      "=================================================================\n",
      "embedding_5 (Embedding)      (None, 100, 100)          1000000   \n",
      "_________________________________________________________________\n",
      "flatten_4 (Flatten)          (None, 10000)             0         \n",
      "_________________________________________________________________\n",
      "dense_4 (Dense)              (None, 32)                320032    \n",
      "_________________________________________________________________\n",
      "dense_5 (Dense)              (None, 1)                 33        \n",
      "=================================================================\n",
      "Total params: 1,320,065\n",
      "Trainable params: 1,320,065\n",
      "Non-trainable params: 0\n",
      "_________________________________________________________________\n"
     ]
    }
   ],
   "source": [
    "model.summary()"
   ]
  },
  {
   "cell_type": "code",
   "execution_count": 178,
   "metadata": {},
   "outputs": [],
   "source": [
    "model.compile(optimizer='rmsprop', loss='binary_crossentropy', \n",
    "             metrics=['acc'])"
   ]
  },
  {
   "cell_type": "code",
   "execution_count": 179,
   "metadata": {},
   "outputs": [
    {
     "name": "stdout",
     "output_type": "stream",
     "text": [
      "Train on 200 samples, validate on 10000 samples\n",
      "Epoch 1/10\n",
      "200/200 [==============================] - 1s 7ms/sample - loss: 0.6649 - acc: 0.7150 - val_loss: 0.6223 - val_acc: 0.7231\n",
      "Epoch 2/10\n",
      "200/200 [==============================] - 1s 5ms/sample - loss: 0.4468 - acc: 0.7700 - val_loss: 0.6040 - val_acc: 0.7229\n",
      "Epoch 3/10\n",
      "200/200 [==============================] - 1s 5ms/sample - loss: 0.2845 - acc: 0.9650 - val_loss: 0.6033 - val_acc: 0.7230\n",
      "Epoch 4/10\n",
      "200/200 [==============================] - 1s 7ms/sample - loss: 0.1431 - acc: 0.9950 - val_loss: 0.6121 - val_acc: 0.7158\n",
      "Epoch 5/10\n",
      "200/200 [==============================] - 1s 5ms/sample - loss: 0.0706 - acc: 1.0000 - val_loss: 0.6258 - val_acc: 0.7207\n",
      "Epoch 6/10\n",
      "200/200 [==============================] - 1s 4ms/sample - loss: 0.0360 - acc: 1.0000 - val_loss: 0.6398 - val_acc: 0.7229\n",
      "Epoch 7/10\n",
      "200/200 [==============================] - 1s 5ms/sample - loss: 0.0197 - acc: 1.0000 - val_loss: 0.6698 - val_acc: 0.7227\n",
      "Epoch 8/10\n",
      "200/200 [==============================] - 1s 6ms/sample - loss: 0.0114 - acc: 1.0000 - val_loss: 0.6985 - val_acc: 0.7229\n",
      "Epoch 9/10\n",
      "200/200 [==============================] - 1s 6ms/sample - loss: 0.0067 - acc: 1.0000 - val_loss: 0.7313 - val_acc: 0.7230\n",
      "Epoch 10/10\n",
      "200/200 [==============================] - 1s 5ms/sample - loss: 0.0041 - acc: 1.0000 - val_loss: 0.7615 - val_acc: 0.7229\n"
     ]
    }
   ],
   "source": [
    "history_custom_embed = model.fit(x_train, y_train, epochs=10, batch_size=32, \n",
    "                   validation_data=(x_val, y_val))"
   ]
  },
  {
   "cell_type": "code",
   "execution_count": 180,
   "metadata": {},
   "outputs": [],
   "source": [
    "acc = history_custom_embed.history['acc']\n",
    "val_acc = history_custom_embed.history['val_acc']\n",
    "loss = history_custom_embed.history['loss']\n",
    "val_loss = history_custom_embed.history['val_loss']\n",
    "epochs = range(1, len(acc) + 1)"
   ]
  },
  {
   "cell_type": "code",
   "execution_count": 182,
   "metadata": {},
   "outputs": [
    {
     "data": {
      "text/plain": [
       "Text(0.5, 1.0, 'Custom Embedding Layer Model - Accuracy')"
      ]
     },
     "execution_count": 182,
     "metadata": {},
     "output_type": "execute_result"
    },
    {
     "data": {
      "image/png": "[encoded data removed]",
      "text/plain": [
       "<Figure size 432x288 with 1 Axes>"
      ]
     },
     "metadata": {
      "needs_background": "light"
     },
     "output_type": "display_data"
    }
   ],
   "source": [
    "# Plotting accuracy\n",
    "plt.plot(epochs, acc, 'bo', label='Training Accuracy')\n",
    "plt.plot(epochs, val_acc, 'b-', label='Validation Accuracy')\n",
    "plt.xlabel('Epochs'); plt.ylabel('Accuracy'); plt.grid(True);\n",
    "plt.legend(); plt.title('Custom Embedding Layer Model - Accuracy')"
   ]
  },
  {
   "cell_type": "code",
   "execution_count": 184,
   "metadata": {},
   "outputs": [
    {
     "data": {
      "text/plain": [
       "Text(0.5, 1.0, 'Custom Embedding Model - Loss')"
      ]
     },
     "execution_count": 184,
     "metadata": {},
     "output_type": "execute_result"
    },
    {
     "data": {
      "image/png": "[encoded data removed]",
      "text/plain": [
       "<Figure size 432x288 with 1 Axes>"
      ]
     },
     "metadata": {
      "needs_background": "light"
     },
     "output_type": "display_data"
    }
   ],
   "source": [
    "# Loss\n",
    "plt.plot(epochs, loss, 'bo', label='Training Loss')\n",
    "plt.plot(epochs, val_loss, 'b-', label='Validation Loss')\n",
    "plt.xlabel('Epochs'); plt.ylabel('Loss'); plt.legend()\n",
    "plt.grid(True); plt.title('Custom Embedding Model - Loss')"
   ]
  },
  {
   "cell_type": "markdown",
   "metadata": {},
   "source": [
    "## Evaluating Model\n",
    "Can't do this. The acl"
   ]
  },
  {
   "cell_type": "code",
   "execution_count": 185,
   "metadata": {},
   "outputs": [],
   "source": [
    "test_dir = os.path.join(imdb_dir, 'test')\n",
    "labels = []\n",
    "texts = []"
   ]
  },
  {
   "cell_type": "code",
   "execution_count": null,
   "metadata": {},
   "outputs": [],
   "source": [
    "for label_type in ['neg', 'pos']:\n",
    "    dir_name = os.path.join(test_dir, label_type)\n",
    "    for fname in sorted(os.listdir(dir_name))\n",
    "    if fname[-4:] == '.txt':\n",
    "        f = open(os.path.join(dir_name, fname))\n",
    "        texts.append(f.read())\n",
    "        f.close()\n",
    "        \n",
    "        if label_type == 'neg':\n",
    "            labels.append(0)\n",
    "            \n",
    "        else:\n",
    "            labels.append(1)"
   ]
  },
  {
   "cell_type": "code",
   "execution_count": null,
   "metadata": {},
   "outputs": [],
   "source": [
    "sequences = tokenizer.texts_to_sequences(texts)\n",
    "x_test = pad_sequences(sequences, maxlen=maxlen)\n",
    "y_test = np.asarray(labels)"
   ]
  },
  {
   "cell_type": "code",
   "execution_count": null,
   "metadata": {},
   "outputs": [],
   "source": [
    "model.load_weights('pre_trained_glove_model.h5')\n",
    "model.evaluate(x_test, y_test)"
   ]
  }
 ],
 "metadata": {
  "kernelspec": {
   "display_name": "Python 3",
   "language": "python",
   "name": "python3"
  },
  "language_info": {
   "codemirror_mode": {
    "name": "ipython",
    "version": 3
   },
   "file_extension": ".py",
   "mimetype": "text/x-python",
   "name": "python",
   "nbconvert_exporter": "python",
   "pygments_lexer": "ipython3",
   "version": "3.7.3"
  }
 },
 "nbformat": 4,
 "nbformat_minor": 2
}
