{
  "nbformat": 4,
  "nbformat_minor": 0,
  "metadata": {
    "colab": {
      "name": "RNN_Examples.ipynb",
      "provenance": [],
      "collapsed_sections": [],
      "toc_visible": true
    },
    "kernelspec": {
      "name": "python3",
      "display_name": "Python 3"
    }
  },
  "cells": [
    {
      "cell_type": "markdown",
      "metadata": {
        "id": "nL_oSvAWeDs_",
        "colab_type": "text"
      },
      "source": [
        "# Simple RNN"
      ]
    },
    {
      "cell_type": "markdown",
      "metadata": {
        "id": "FFn4oH47enFc",
        "colab_type": "text"
      },
      "source": [
        "## Pseudocode RNN"
      ]
    },
    {
      "cell_type": "code",
      "metadata": {
        "id": "6dssfticfMB_",
        "colab_type": "code",
        "colab": {}
      },
      "source": [
        "# For first timestep, no current state - all 0 vector\n",
        "state_t = 0 \n",
        "\n",
        "# For every input (sample) in a sequence of inputs\n",
        "for input_t in input_sequence:\n",
        "  # The current output is a function of the current input and current state (which is the previous output)\n",
        "  output_t = f(input_t, state_t) \n",
        "\n",
        "  # The current output becomes the state for the next iteration\n",
        "  state_t = output_t"
      ],
      "execution_count": 0,
      "outputs": []
    },
    {
      "cell_type": "markdown",
      "metadata": {
        "id": "t9uXCCpGfRhd",
        "colab_type": "text"
      },
      "source": [
        "The function `f` is a non-linear transformation of the current input `input_t` and the previous output `state_t` using dot products and an activation function. \n",
        "\n",
        "It is paramterised by 2 weight matrices - `W` and `U`, and a bias vector `b`."
      ]
    },
    {
      "cell_type": "code",
      "metadata": {
        "id": "OFdexbCrf31n",
        "colab_type": "code",
        "colab": {}
      },
      "source": [
        "# For first timestep, no current state - all 0 vector\n",
        "state_t = 0\n",
        "\n",
        "# For every timestep in a sequence of timesteps:\n",
        "for input_t in input_sequence:\n",
        "  # Current output - activation of linear sum of dot products of input and state\n",
        "  output_t = activation(dot(W, input_t) + dot(U, state_t) + b)\n",
        "  \n",
        "  # State for next step - current output\n",
        "  state_t = output_t"
      ],
      "execution_count": 0,
      "outputs": []
    },
    {
      "cell_type": "markdown",
      "metadata": {
        "id": "SRjb_VzfgKsA",
        "colab_type": "text"
      },
      "source": [
        "## Numpy Implementation of Simple RNN"
      ]
    },
    {
      "cell_type": "code",
      "metadata": {
        "id": "1PjzPJRpgNlx",
        "colab_type": "code",
        "colab": {}
      },
      "source": [
        "import numpy as np\n",
        "\n",
        "timesteps = 100             # Number of timsteps in input sequence\n",
        "input_features = 32         # Dimensionality of input space for RNN layer\n",
        "output_features = 64        # Dimensionality of output space for RNN layer \n",
        "\n",
        "# Input data consists of `input_features`-dimensional vector for each `timestep`\n",
        "# Random for the sake of the example\n",
        "inputs = np.random.random((timesteps, input_features))\n",
        "\n",
        "# Initial state - all zero vector - no state for the first timstep\n",
        "state_t = np.zeros((output_features, ))\n",
        "\n",
        "# Transformation matrices \n",
        "W = np.random.random((output_features, input_features))   # dot product with input_t\n",
        "U = np.random.random((output_features, output_features))  # dot product with state_t\n",
        "b = np.random.random((output_features, ))                 # bias\n",
        "\n",
        "# Store output at each timestep in a list\n",
        "successive_outputs = []\n",
        "\n",
        "# For every timestep in the sequence of timesteps  \n",
        "for input_t in inputs: \n",
        "  # input_t is a vector of shape (input_features, )\n",
        "  # Combine the input with the current state (previous output) to obtain current output\n",
        "  output_t = np.tanh(np.dot(W, input_t) + np.dot(U, state_t) + b)\n",
        "\n",
        "  # Append this output to the list of successive outputs\n",
        "  successive_outputs.append(output_t)\n",
        "\n",
        "  # Update the state of the network for the next timestamp\n",
        "  state_t = output_t \n",
        "\n",
        "\n",
        "# Final output is a 2D tensor of shape (timesteps, output_features)\n",
        "final_output_sequence = np.concatenate(successive_outputs, axis=0) # Along rows"
      ],
      "execution_count": 0,
      "outputs": []
    },
    {
      "cell_type": "markdown",
      "metadata": {
        "id": "agLNwqPsh8fD",
        "colab_type": "text"
      },
      "source": [
        "## RNN in `keras` - Last State Only"
      ]
    },
    {
      "cell_type": "code",
      "metadata": {
        "id": "vrPMUfrgh_tI",
        "colab_type": "code",
        "outputId": "663a90dc-3d31-4042-fd45-5f5184dcfdde",
        "colab": {
          "base_uri": "https://localhost:8080/",
          "height": 97
        }
      },
      "source": [
        "from keras.models import Sequential\n",
        "from keras.layers import Embedding, SimpleRNN"
      ],
      "execution_count": 0,
      "outputs": [
        {
          "output_type": "stream",
          "text": [
            "Using TensorFlow backend.\n"
          ],
          "name": "stderr"
        },
        {
          "output_type": "display_data",
          "data": {
            "text/html": [
              "<p style=\"color: red;\">\n",
              "The default version of TensorFlow in Colab will soon switch to TensorFlow 2.x.<br>\n",
              "We recommend you <a href=\"https://www.tensorflow.org/guide/migrate\" target=\"_blank\">upgrade</a> now \n",
              "or ensure your notebook will continue to use TensorFlow 1.x via the <code>%tensorflow_version 1.x</code> magic:\n",
              "<a href=\"https://colab.research.google.com/notebooks/tensorflow_version.ipynb\" target=\"_blank\">more info</a>.</p>\n"
            ],
            "text/plain": [
              "<IPython.core.display.HTML object>"
            ]
          },
          "metadata": {
            "tags": []
          }
        }
      ]
    },
    {
      "cell_type": "code",
      "metadata": {
        "id": "TyBiVi-CiFPU",
        "colab_type": "code",
        "outputId": "fcc565b2-e611-43fb-81b8-77fff8951a9c",
        "colab": {
          "base_uri": "https://localhost:8080/",
          "height": 343
        }
      },
      "source": [
        "# Instantiate a model\n",
        "model = Sequential()\n",
        "\n",
        "# First layer - Embedding - 10000 dimensional vector condensed to 32 dimensional vector\n",
        "model.add(Embedding(10000, 32))\n",
        "\n",
        "# Second layer - Simple RNN - will output a 32-dimensional vector\n",
        "model.add(SimpleRNN(32))\n",
        "\n",
        "# Describe the model\n",
        "model.summary()"
      ],
      "execution_count": 0,
      "outputs": [
        {
          "output_type": "stream",
          "text": [
            "WARNING:tensorflow:From /usr/local/lib/python3.6/dist-packages/keras/backend/tensorflow_backend.py:66: The name tf.get_default_graph is deprecated. Please use tf.compat.v1.get_default_graph instead.\n",
            "\n",
            "WARNING:tensorflow:From /usr/local/lib/python3.6/dist-packages/keras/backend/tensorflow_backend.py:541: The name tf.placeholder is deprecated. Please use tf.compat.v1.placeholder instead.\n",
            "\n",
            "WARNING:tensorflow:From /usr/local/lib/python3.6/dist-packages/keras/backend/tensorflow_backend.py:4432: The name tf.random_uniform is deprecated. Please use tf.random.uniform instead.\n",
            "\n",
            "Model: \"sequential_1\"\n",
            "_________________________________________________________________\n",
            "Layer (type)                 Output Shape              Param #   \n",
            "=================================================================\n",
            "embedding_1 (Embedding)      (None, None, 32)          320000    \n",
            "_________________________________________________________________\n",
            "simple_rnn_1 (SimpleRNN)     (None, 32)                2080      \n",
            "=================================================================\n",
            "Total params: 322,080\n",
            "Trainable params: 322,080\n",
            "Non-trainable params: 0\n",
            "_________________________________________________________________\n"
          ],
          "name": "stdout"
        }
      ]
    },
    {
      "cell_type": "markdown",
      "metadata": {
        "id": "QGIGxC8wiXzn",
        "colab_type": "text"
      },
      "source": [
        "## RNN with `keras` - Full State Sequence\n",
        "\n",
        "Instead of returning the output only at the last timestep, the RNN below will return the outputs at all timesteps between `t_0` and `t_end`."
      ]
    },
    {
      "cell_type": "code",
      "metadata": {
        "id": "eFeWQItrimDG",
        "colab_type": "code",
        "outputId": "565d5ddf-17da-4b94-eba0-deffc0dc9370",
        "colab": {
          "base_uri": "https://localhost:8080/",
          "height": 221
        }
      },
      "source": [
        "# Instantiate\n",
        "model = Sequential()\n",
        "\n",
        "# First layer is still and Embedding layer\n",
        "model.add(Embedding(10000, 32))\n",
        "\n",
        "# Second layer is RNN, but this time with `return_sequences=True`\n",
        "model.add(SimpleRNN(32, return_sequences=True))\n",
        "\n",
        "# Dimensionality of layers has changed - output layer returns (batch, samples, 32-dimensional vector)\n",
        "model.summary()"
      ],
      "execution_count": 0,
      "outputs": [
        {
          "output_type": "stream",
          "text": [
            "Model: \"sequential_3\"\n",
            "_________________________________________________________________\n",
            "Layer (type)                 Output Shape              Param #   \n",
            "=================================================================\n",
            "embedding_3 (Embedding)      (None, None, 32)          320000    \n",
            "_________________________________________________________________\n",
            "simple_rnn_3 (SimpleRNN)     (None, None, 32)          2080      \n",
            "=================================================================\n",
            "Total params: 322,080\n",
            "Trainable params: 322,080\n",
            "Non-trainable params: 0\n",
            "_________________________________________________________________\n"
          ],
          "name": "stdout"
        }
      ]
    },
    {
      "cell_type": "markdown",
      "metadata": {
        "id": "8pMg3xpCi1-F",
        "colab_type": "text"
      },
      "source": [
        "## Stacking RNN Layers\n",
        "\n",
        "Stacking several RNN layers increases the representational power of the network. It requires that all RNN layers return the full sequence of outputs upto and including `t`. Last layer may or may not return the full sequence - not necessary."
      ]
    },
    {
      "cell_type": "code",
      "metadata": {
        "id": "eVJ0risojKjZ",
        "colab_type": "code",
        "outputId": "d090f746-a74a-4959-d234-bd2e68e59712",
        "colab": {
          "base_uri": "https://localhost:8080/",
          "height": 323
        }
      },
      "source": [
        "# Instantiate \n",
        "model = Sequential()\n",
        "\n",
        "# First layer - Embedding\n",
        "model.add(Embedding(10000, 32))\n",
        "\n",
        "# First RNN Layer - must return sequences for next layer to use\n",
        "model.add(SimpleRNN(32, return_sequences=True))\n",
        "\n",
        "# Second RNN Layer - must also return sequences for next layer to use \n",
        "model.add(SimpleRNN(32, return_sequences=True))\n",
        "\n",
        "# Third RNN Layer - must return sequences because next layer is RNN\n",
        "model.add(SimpleRNN(32, return_sequences=True))\n",
        "\n",
        "# Final RNN Layer - not necessary to return output\n",
        "model.add(SimpleRNN(32))\n",
        "\n",
        "# Model summary - output of the final layer is a single 32-dimensional vector representing\n",
        "# output at the final timestep for each batch \n",
        "model.summary()"
      ],
      "execution_count": 0,
      "outputs": [
        {
          "output_type": "stream",
          "text": [
            "Model: \"sequential_4\"\n",
            "_________________________________________________________________\n",
            "Layer (type)                 Output Shape              Param #   \n",
            "=================================================================\n",
            "embedding_4 (Embedding)      (None, None, 32)          320000    \n",
            "_________________________________________________________________\n",
            "simple_rnn_4 (SimpleRNN)     (None, None, 32)          2080      \n",
            "_________________________________________________________________\n",
            "simple_rnn_5 (SimpleRNN)     (None, None, 32)          2080      \n",
            "_________________________________________________________________\n",
            "simple_rnn_6 (SimpleRNN)     (None, None, 32)          2080      \n",
            "_________________________________________________________________\n",
            "simple_rnn_7 (SimpleRNN)     (None, 32)                2080      \n",
            "=================================================================\n",
            "Total params: 328,320\n",
            "Trainable params: 328,320\n",
            "Non-trainable params: 0\n",
            "_________________________________________________________________\n"
          ],
          "name": "stdout"
        }
      ]
    },
    {
      "cell_type": "markdown",
      "metadata": {
        "id": "Ln7DuiPcjxC2",
        "colab_type": "text"
      },
      "source": [
        "# RNN with IMDB Data"
      ]
    },
    {
      "cell_type": "markdown",
      "metadata": {
        "id": "iYj_DgAvlUMi",
        "colab_type": "text"
      },
      "source": [
        "## Data Preprocessing"
      ]
    },
    {
      "cell_type": "code",
      "metadata": {
        "id": "Pt3gewXHj1cG",
        "colab_type": "code",
        "colab": {}
      },
      "source": [
        "from keras.datasets import imdb\n",
        "from keras.preprocessing import sequence"
      ],
      "execution_count": 0,
      "outputs": []
    },
    {
      "cell_type": "code",
      "metadata": {
        "id": "iYrt5x22j4Vn",
        "colab_type": "code",
        "colab": {}
      },
      "source": [
        "max_features = 10000                # Number of words to consider features \n",
        "maxlen = 500                        # Will only consider first 500 words in review for encoding (among max_features most common words)\n",
        "batch_size = 32                     # RNN will process batches of 32 reviews at a time "
      ],
      "execution_count": 0,
      "outputs": []
    },
    {
      "cell_type": "code",
      "metadata": {
        "id": "TaZq7Q--kI58",
        "colab_type": "code",
        "outputId": "e4502d8a-905e-4e82-8cc0-8e47f0727fb6",
        "colab": {
          "base_uri": "https://localhost:8080/",
          "height": 68
        }
      },
      "source": [
        "print('Loading data...')\n",
        "\n",
        "# Will load reviews that are one-hot encoded in terms of the 10k most commonly occurring words\n",
        "(input_train, y_train), (input_test, y_test) = imdb.load_data(num_words=max_features)"
      ],
      "execution_count": 0,
      "outputs": [
        {
          "output_type": "stream",
          "text": [
            "Loading data...\n",
            "Downloading data from https://s3.amazonaws.com/text-datasets/imdb.npz\n",
            "17465344/17464789 [==============================] - 2s 0us/step\n"
          ],
          "name": "stdout"
        }
      ]
    },
    {
      "cell_type": "code",
      "metadata": {
        "id": "Fi1JIj8jkaad",
        "colab_type": "code",
        "outputId": "3712b0fe-29bc-4354-b34f-a98104c3a1f6",
        "colab": {
          "base_uri": "https://localhost:8080/",
          "height": 51
        }
      },
      "source": [
        "# Number of reviews in the training and test sets\n",
        "print(len(input_train), 'train sequences')\n",
        "print(len(input_test), 'test sequences')"
      ],
      "execution_count": 0,
      "outputs": [
        {
          "output_type": "stream",
          "text": [
            "25000 train sequences\n",
            "25000 test sequences\n"
          ],
          "name": "stdout"
        }
      ]
    },
    {
      "cell_type": "code",
      "metadata": {
        "id": "08LI9wt-kgdI",
        "colab_type": "code",
        "outputId": "35d3d0d9-a99d-4240-dc8b-dd873f7f6407",
        "colab": {
          "base_uri": "https://localhost:8080/",
          "height": 34
        }
      },
      "source": [
        "# Reviews can be of different lengths, but tensors being processed by NN must\n",
        "# be of the same dimensions. Zero padding the sequences so that each review \n",
        "# is a 500 dimensional vector\n",
        "print(\"Pad Sequqences (samples x time)\")\n",
        "input_train = sequence.pad_sequences(input_train, maxlen=maxlen)\n",
        "input_test = sequence.pad_sequences(input_test, maxlen=maxlen)"
      ],
      "execution_count": 0,
      "outputs": [
        {
          "output_type": "stream",
          "text": [
            "Pad Sequqences (samples x time)\n"
          ],
          "name": "stdout"
        }
      ]
    },
    {
      "cell_type": "code",
      "metadata": {
        "id": "NM9pNejFks7E",
        "colab_type": "code",
        "outputId": "1bad5970-0d0a-4038-a058-d71aaccfb37d",
        "colab": {
          "base_uri": "https://localhost:8080/",
          "height": 51
        }
      },
      "source": [
        "# What is the shape of the sequences after padding? \n",
        "print('input_train shape:', input_train.shape)\n",
        "print('input_test.shape:', input_test.shape)"
      ],
      "execution_count": 0,
      "outputs": [
        {
          "output_type": "stream",
          "text": [
            "input_train shape: (25000, 500)\n",
            "input_test.shape: (25000, 500)\n"
          ],
          "name": "stdout"
        }
      ]
    },
    {
      "cell_type": "markdown",
      "metadata": {
        "id": "zjiynGpulOe1",
        "colab_type": "text"
      },
      "source": [
        "## Training - `SimpleRNN` with `Embedding`"
      ]
    },
    {
      "cell_type": "code",
      "metadata": {
        "id": "fmG0ySUnlZVk",
        "colab_type": "code",
        "colab": {}
      },
      "source": [
        "from keras.layers import Dense"
      ],
      "execution_count": 0,
      "outputs": []
    },
    {
      "cell_type": "code",
      "metadata": {
        "id": "NETzf0jSlepv",
        "colab_type": "code",
        "colab": {}
      },
      "source": [
        "# Instantiate\n",
        "model = Sequential()\n",
        "\n",
        "# First layer - converts sparse 500-dimensional vectors to dense 32-dimensional vectos\n",
        "model.add(Embedding(max_features, 32))\n",
        "\n",
        "# Recurrent layer - next layer is not recurrent, so no need to return all output sequences\n",
        "model.add(SimpleRNN(32))\n",
        "\n",
        "# Last layer is sigmoid classifier - 0/1 (negative/positive) review\n",
        "model.add(Dense(1, activation='sigmoid'))"
      ],
      "execution_count": 0,
      "outputs": []
    },
    {
      "cell_type": "code",
      "metadata": {
        "id": "kcGDXuWol1Rr",
        "colab_type": "code",
        "outputId": "c6a20151-37ef-466f-e001-2ba32a5c1e75",
        "colab": {
          "base_uri": "https://localhost:8080/",
          "height": 156
        }
      },
      "source": [
        "model.compile(optimizer='rmsprop', loss='binary_crossentropy', metrics=['acc'])"
      ],
      "execution_count": 0,
      "outputs": [
        {
          "output_type": "stream",
          "text": [
            "WARNING:tensorflow:From /usr/local/lib/python3.6/dist-packages/keras/optimizers.py:793: The name tf.train.Optimizer is deprecated. Please use tf.compat.v1.train.Optimizer instead.\n",
            "\n",
            "WARNING:tensorflow:From /usr/local/lib/python3.6/dist-packages/keras/backend/tensorflow_backend.py:3657: The name tf.log is deprecated. Please use tf.math.log instead.\n",
            "\n",
            "WARNING:tensorflow:From /usr/local/lib/python3.6/dist-packages/tensorflow_core/python/ops/nn_impl.py:183: where (from tensorflow.python.ops.array_ops) is deprecated and will be removed in a future version.\n",
            "Instructions for updating:\n",
            "Use tf.where in 2.0, which has the same broadcast rule as np.where\n"
          ],
          "name": "stdout"
        }
      ]
    },
    {
      "cell_type": "code",
      "metadata": {
        "id": "wLO-UtnGmHme",
        "colab_type": "code",
        "outputId": "7bef1884-1cf4-46e3-c567-84f28536d841",
        "colab": {
          "base_uri": "https://localhost:8080/",
          "height": 666
        }
      },
      "source": [
        "history = model.fit(input_train, y_train, epochs=10, batch_size=128, validation_split=0.2)"
      ],
      "execution_count": 0,
      "outputs": [
        {
          "output_type": "stream",
          "text": [
            "WARNING:tensorflow:From /usr/local/lib/python3.6/dist-packages/keras/backend/tensorflow_backend.py:1033: The name tf.assign_add is deprecated. Please use tf.compat.v1.assign_add instead.\n",
            "\n",
            "WARNING:tensorflow:From /usr/local/lib/python3.6/dist-packages/keras/backend/tensorflow_backend.py:1020: The name tf.assign is deprecated. Please use tf.compat.v1.assign instead.\n",
            "\n",
            "WARNING:tensorflow:From /usr/local/lib/python3.6/dist-packages/keras/backend/tensorflow_backend.py:3005: The name tf.Session is deprecated. Please use tf.compat.v1.Session instead.\n",
            "\n",
            "Train on 20000 samples, validate on 5000 samples\n",
            "Epoch 1/10\n",
            "WARNING:tensorflow:From /usr/local/lib/python3.6/dist-packages/keras/backend/tensorflow_backend.py:190: The name tf.get_default_session is deprecated. Please use tf.compat.v1.get_default_session instead.\n",
            "\n",
            "WARNING:tensorflow:From /usr/local/lib/python3.6/dist-packages/keras/backend/tensorflow_backend.py:197: The name tf.ConfigProto is deprecated. Please use tf.compat.v1.ConfigProto instead.\n",
            "\n",
            "WARNING:tensorflow:From /usr/local/lib/python3.6/dist-packages/keras/backend/tensorflow_backend.py:207: The name tf.global_variables is deprecated. Please use tf.compat.v1.global_variables instead.\n",
            "\n",
            "WARNING:tensorflow:From /usr/local/lib/python3.6/dist-packages/keras/backend/tensorflow_backend.py:216: The name tf.is_variable_initialized is deprecated. Please use tf.compat.v1.is_variable_initialized instead.\n",
            "\n",
            "WARNING:tensorflow:From /usr/local/lib/python3.6/dist-packages/keras/backend/tensorflow_backend.py:223: The name tf.variables_initializer is deprecated. Please use tf.compat.v1.variables_initializer instead.\n",
            "\n",
            "20000/20000 [==============================] - 19s 950us/step - loss: 0.6185 - acc: 0.6409 - val_loss: 0.4500 - val_acc: 0.8080\n",
            "Epoch 2/10\n",
            "20000/20000 [==============================] - 18s 916us/step - loss: 0.4440 - acc: 0.8121 - val_loss: 0.3827 - val_acc: 0.8448\n",
            "Epoch 3/10\n",
            "20000/20000 [==============================] - 18s 904us/step - loss: 0.3171 - acc: 0.8742 - val_loss: 0.3965 - val_acc: 0.8236\n",
            "Epoch 4/10\n",
            "20000/20000 [==============================] - 18s 897us/step - loss: 0.2323 - acc: 0.9118 - val_loss: 0.3277 - val_acc: 0.8790\n",
            "Epoch 5/10\n",
            "20000/20000 [==============================] - 18s 899us/step - loss: 0.1765 - acc: 0.9353 - val_loss: 0.4158 - val_acc: 0.8414\n",
            "Epoch 6/10\n",
            "20000/20000 [==============================] - 18s 894us/step - loss: 0.1218 - acc: 0.9578 - val_loss: 0.4348 - val_acc: 0.8358\n",
            "Epoch 7/10\n",
            "20000/20000 [==============================] - 18s 895us/step - loss: 0.0799 - acc: 0.9741 - val_loss: 0.4565 - val_acc: 0.8428\n",
            "Epoch 8/10\n",
            "20000/20000 [==============================] - 18s 911us/step - loss: 0.0526 - acc: 0.9838 - val_loss: 0.4849 - val_acc: 0.8380\n",
            "Epoch 9/10\n",
            "20000/20000 [==============================] - 18s 885us/step - loss: 0.0338 - acc: 0.9905 - val_loss: 0.5276 - val_acc: 0.8550\n",
            "Epoch 10/10\n",
            "20000/20000 [==============================] - 18s 898us/step - loss: 0.0230 - acc: 0.9938 - val_loss: 0.6384 - val_acc: 0.8198\n"
          ],
          "name": "stdout"
        }
      ]
    },
    {
      "cell_type": "markdown",
      "metadata": {
        "id": "Vwceyc5fmMTa",
        "colab_type": "text"
      },
      "source": [
        "## Plotting Model History"
      ]
    },
    {
      "cell_type": "code",
      "metadata": {
        "id": "53-dYNDfml8Z",
        "colab_type": "code",
        "colab": {}
      },
      "source": [
        "import matplotlib.pyplot as plt "
      ],
      "execution_count": 0,
      "outputs": []
    },
    {
      "cell_type": "code",
      "metadata": {
        "id": "KmMUVdD0moci",
        "colab_type": "code",
        "colab": {}
      },
      "source": [
        "acc = history.history['acc']\n",
        "val_acc = history.history['val_acc']\n",
        "loss = history.history['loss']\n",
        "val_loss = history.history['val_loss']\n",
        "epochs = range(1, len(acc) + 1)"
      ],
      "execution_count": 0,
      "outputs": []
    },
    {
      "cell_type": "code",
      "metadata": {
        "id": "oZ9fUahUmwQq",
        "colab_type": "code",
        "outputId": "d3984d7e-87d0-4d16-91df-d0e25a89160e",
        "colab": {
          "base_uri": "https://localhost:8080/",
          "height": 390
        }
      },
      "source": [
        "plt.figure(figsize=(8, 6))\n",
        "plt.plot(epochs, acc, 'bo', label='Training Accuracy')\n",
        "plt.plot(epochs, val_acc, 'b', label='Validation Accuracy')\n",
        "plt.title('Training and Validation Accuracy - Simple RNN - IMDb Dataset')\n",
        "plt.legend()\n",
        "plt.grid(True)"
      ],
      "execution_count": 0,
      "outputs": [
        {
          "output_type": "display_data",
          "data": {
            "image/png": "[encoded data removed]",
            "text/plain": [
              "<Figure size 576x432 with 1 Axes>"
            ]
          },
          "metadata": {
            "tags": []
          }
        }
      ]
    },
    {
      "cell_type": "code",
      "metadata": {
        "id": "wPboKzPMm870",
        "colab_type": "code",
        "outputId": "b25cbd9d-1dbb-4fef-ee09-27a52e77c606",
        "colab": {
          "base_uri": "https://localhost:8080/",
          "height": 390
        }
      },
      "source": [
        "plt.figure(figsize=(8, 6))\n",
        "plt.plot(epochs, loss, 'bo', label='Training Loss')\n",
        "plt.plot(epochs, val_loss, 'b', label='Validation Loss')\n",
        "plt.title('Training and Validation Loss - Simple RNN - IMDb Dataset')\n",
        "plt.legend()\n",
        "plt.grid(True)"
      ],
      "execution_count": 0,
      "outputs": [
        {
          "output_type": "display_data",
          "data": {
            "image/png": "[encoded data removed]",
            "text/plain": [
              "<Figure size 576x432 with 1 Axes>"
            ]
          },
          "metadata": {
            "tags": []
          }
        }
      ]
    },
    {
      "cell_type": "markdown",
      "metadata": {
        "id": "EkWSYoWanNbD",
        "colab_type": "text"
      },
      "source": [
        "# `LSTM` with `keras`\n",
        "\n",
        "Will build an `LSTM`-based sequence model for the `IMDb` dataset. This will improve review classification performance because the `LSTM` allows information from past timesteps to be reinjected into the computation of a future state at a later time, thus preventing the vanishing gradients problem."
      ]
    },
    {
      "cell_type": "code",
      "metadata": {
        "id": "GiA6b02Fpf8A",
        "colab_type": "code",
        "colab": {}
      },
      "source": [
        "from keras.models import Sequential\n",
        "from keras.layers import Dense, Embedding, LSTM"
      ],
      "execution_count": 0,
      "outputs": []
    },
    {
      "cell_type": "code",
      "metadata": {
        "id": "l8miY4HUppJc",
        "colab_type": "code",
        "colab": {}
      },
      "source": [
        "# Instantiate a model\n",
        "model = Sequential()\n",
        "\n",
        "# First layer is still Embedding \n",
        "model.add(Embedding(max_features, 32))\n",
        "\n",
        "# Second layer - LSTM - need only specify the output dimensionality \n",
        "model.add(LSTM(32))\n",
        "\n",
        "# Final layer - sigmoid activation function - for classification\n",
        "model.add(Dense(1, activation='sigmoid'))"
      ],
      "execution_count": 0,
      "outputs": []
    },
    {
      "cell_type": "code",
      "metadata": {
        "id": "OrG46TcjqMw2",
        "colab_type": "code",
        "colab": {}
      },
      "source": [
        "model.compile(optimizer='rmsprop', loss='binary_crossentropy', metrics=['acc'])"
      ],
      "execution_count": 0,
      "outputs": []
    },
    {
      "cell_type": "code",
      "metadata": {
        "id": "KY0LZZksqQW2",
        "colab_type": "code",
        "outputId": "b9a870e7-70b4-4b15-cf6a-4e34f6171cb2",
        "colab": {
          "base_uri": "https://localhost:8080/",
          "height": 394
        }
      },
      "source": [
        "history = model.fit(input_train, y_train, epochs=10, batch_size=128, validation_split=0.2)"
      ],
      "execution_count": 0,
      "outputs": [
        {
          "output_type": "stream",
          "text": [
            "Train on 20000 samples, validate on 5000 samples\n",
            "Epoch 1/10\n",
            "20000/20000 [==============================] - 88s 4ms/step - loss: 0.5682 - acc: 0.7385 - val_loss: 0.4527 - val_acc: 0.8066\n",
            "Epoch 2/10\n",
            "20000/20000 [==============================] - 90s 4ms/step - loss: 0.3330 - acc: 0.8691 - val_loss: 0.3036 - val_acc: 0.8754\n",
            "Epoch 3/10\n",
            "20000/20000 [==============================] - 90s 5ms/step - loss: 0.2511 - acc: 0.9046 - val_loss: 0.3180 - val_acc: 0.8632\n",
            "Epoch 4/10\n",
            "20000/20000 [==============================] - 90s 5ms/step - loss: 0.2129 - acc: 0.9209 - val_loss: 0.2830 - val_acc: 0.8944\n",
            "Epoch 5/10\n",
            "20000/20000 [==============================] - 92s 5ms/step - loss: 0.1842 - acc: 0.9325 - val_loss: 0.2982 - val_acc: 0.8852\n",
            "Epoch 6/10\n",
            "20000/20000 [==============================] - 92s 5ms/step - loss: 0.1679 - acc: 0.9412 - val_loss: 0.2992 - val_acc: 0.8754\n",
            "Epoch 7/10\n",
            "20000/20000 [==============================] - 90s 5ms/step - loss: 0.1489 - acc: 0.9473 - val_loss: 0.3113 - val_acc: 0.8772\n",
            "Epoch 8/10\n",
            "20000/20000 [==============================] - 88s 4ms/step - loss: 0.1375 - acc: 0.9504 - val_loss: 0.3153 - val_acc: 0.8882\n",
            "Epoch 9/10\n",
            "20000/20000 [==============================] - 89s 4ms/step - loss: 0.1250 - acc: 0.9564 - val_loss: 0.3969 - val_acc: 0.8848\n",
            "Epoch 10/10\n",
            "20000/20000 [==============================] - 88s 4ms/step - loss: 0.1131 - acc: 0.9603 - val_loss: 0.3891 - val_acc: 0.8786\n"
          ],
          "name": "stdout"
        }
      ]
    },
    {
      "cell_type": "code",
      "metadata": {
        "id": "Bujgv7cgqUfs",
        "colab_type": "code",
        "colab": {}
      },
      "source": [
        "acc = history.history['acc']\n",
        "val_acc = history.history['val_acc']\n",
        "loss = history.history['loss']\n",
        "val_loss = history.history['val_loss']\n",
        "epochs = range(1, len(acc) + 1)"
      ],
      "execution_count": 0,
      "outputs": []
    },
    {
      "cell_type": "code",
      "metadata": {
        "id": "zZtleVwuqcL9",
        "colab_type": "code",
        "outputId": "dc42f2d3-9f5c-4fea-882a-9776192e9633",
        "colab": {
          "base_uri": "https://localhost:8080/",
          "height": 390
        }
      },
      "source": [
        "plt.figure(figsize=(8, 6))\n",
        "plt.plot(epochs, acc, 'bo', label='Training Accuracy')\n",
        "plt.plot(epochs, val_acc, 'b', label='Validation Accuracy')\n",
        "plt.title('Training and Validation Accuracy - LSTM - IMDb Dataset')\n",
        "plt.legend()\n",
        "plt.grid(True)"
      ],
      "execution_count": 0,
      "outputs": [
        {
          "output_type": "display_data",
          "data": {
            "image/png": "[encoded data removed]",
            "text/plain": [
              "<Figure size 576x432 with 1 Axes>"
            ]
          },
          "metadata": {
            "tags": []
          }
        }
      ]
    },
    {
      "cell_type": "code",
      "metadata": {
        "id": "jTEDC-scqdNp",
        "colab_type": "code",
        "outputId": "92b84524-3533-4572-92dc-55d17ed3ad8f",
        "colab": {
          "base_uri": "https://localhost:8080/",
          "height": 390
        }
      },
      "source": [
        "plt.figure(figsize=(8, 6))\n",
        "plt.plot(epochs, loss, 'bo', label='Training Loss')\n",
        "plt.plot(epochs, val_loss, 'b', label='Validation Loss')\n",
        "plt.title('Training and Validation Loss - LSTM - IMDb Dataset')\n",
        "plt.legend()\n",
        "plt.grid(True)"
      ],
      "execution_count": 0,
      "outputs": [
        {
          "output_type": "display_data",
          "data": {
            "image/png": "[encoded data removed]",
            "text/plain": [
              "<Figure size 576x432 with 1 Axes>"
            ]
          },
          "metadata": {
            "tags": []
          }
        }
      ]
    },
    {
      "cell_type": "markdown",
      "metadata": {
        "id": "8C0DVFSNqeV-",
        "colab_type": "text"
      },
      "source": [
        "# Sequence Model Case Study: Temperature Forecasting"
      ]
    },
    {
      "cell_type": "markdown",
      "metadata": {
        "id": "7ypoGZF7rP1t",
        "colab_type": "text"
      },
      "source": [
        "## Downloading Data\n",
        "\n",
        "All commands prefaced with an exclamation mark `!` are shell commands that are run by the Google CoLab operating system, and not Python commands that are run by the Python server."
      ]
    },
    {
      "cell_type": "code",
      "metadata": {
        "id": "ujvxUWfmrQ6E",
        "colab_type": "code",
        "outputId": "961544bb-9545-47ad-c3b2-d9cf7d119d1c",
        "colab": {
          "base_uri": "https://localhost:8080/",
          "height": 204
        }
      },
      "source": [
        "!wget https://s3.amazonaws.com/keras-datasets/jena_climate_2009_2016.csv.zip"
      ],
      "execution_count": 1,
      "outputs": [
        {
          "output_type": "stream",
          "text": [
            "--2020-03-03 04:20:05--  https://s3.amazonaws.com/keras-datasets/jena_climate_2009_2016.csv.zip\n",
            "Resolving s3.amazonaws.com (s3.amazonaws.com)... 52.216.143.70\n",
            "Connecting to s3.amazonaws.com (s3.amazonaws.com)|52.216.143.70|:443... connected.\n",
            "HTTP request sent, awaiting response... 200 OK\n",
            "Length: 13568290 (13M) [application/zip]\n",
            "Saving to: ‘jena_climate_2009_2016.csv.zip’\n",
            "\n",
            "jena_climate_2009_2 100%[===================>]  12.94M  6.50MB/s    in 2.0s    \n",
            "\n",
            "2020-03-03 04:20:08 (6.50 MB/s) - ‘jena_climate_2009_2016.csv.zip’ saved [13568290/13568290]\n",
            "\n"
          ],
          "name": "stdout"
        }
      ]
    },
    {
      "cell_type": "code",
      "metadata": {
        "id": "K5pFomVkrVKB",
        "colab_type": "code",
        "outputId": "e585e4de-9477-4895-f5f8-64b1d7aa20e9",
        "colab": {
          "base_uri": "https://localhost:8080/",
          "height": 51
        }
      },
      "source": [
        "!unzip jena_climate_2009_2016.csv.zip"
      ],
      "execution_count": 2,
      "outputs": [
        {
          "output_type": "stream",
          "text": [
            "Archive:  jena_climate_2009_2016.csv.zip\n",
            "  inflating: jena_climate_2009_2016.csv  \n"
          ],
          "name": "stdout"
        }
      ]
    },
    {
      "cell_type": "markdown",
      "metadata": {
        "id": "8A0UN4rArhEr",
        "colab_type": "text"
      },
      "source": [
        "## Inspecting Data"
      ]
    },
    {
      "cell_type": "code",
      "metadata": {
        "id": "Q-YiYln3ri8p",
        "colab_type": "code",
        "colab": {}
      },
      "source": [
        "import os"
      ],
      "execution_count": 0,
      "outputs": []
    },
    {
      "cell_type": "code",
      "metadata": {
        "id": "nmGDOkTArjbU",
        "colab_type": "code",
        "colab": {}
      },
      "source": [
        "data_dir = '.'\n",
        "fname = os.path.join(data_dir, 'jena_climate_2009_2016.csv')"
      ],
      "execution_count": 0,
      "outputs": []
    },
    {
      "cell_type": "code",
      "metadata": {
        "id": "Oxlds_3wrtPQ",
        "colab_type": "code",
        "colab": {}
      },
      "source": [
        "# Open filestream for reading data\n",
        "f = open(fname)\n",
        "\n",
        "# Read the contents into a Python structure (dictionary?)\n",
        "data = f.read()\n",
        "\n",
        "# Close filestream when done\n",
        "f.close()"
      ],
      "execution_count": 0,
      "outputs": []
    },
    {
      "cell_type": "code",
      "metadata": {
        "id": "-r1IG-9qtpDP",
        "colab_type": "code",
        "colab": {}
      },
      "source": [
        "# `data` is a list of lists: each constituent list is one line\n",
        "lines = data.split('\\n')\n",
        "\n",
        "# First line - header - contains column names\n",
        "header = lines[0].split(',')\n",
        "\n",
        "# All subsequent lines are samples - timesteps and their corresponding features\n",
        "lines = lines[1:]"
      ],
      "execution_count": 0,
      "outputs": []
    },
    {
      "cell_type": "code",
      "metadata": {
        "id": "-QwcqmZqueY0",
        "colab_type": "code",
        "outputId": "1894adf8-0669-48cf-cc18-bb1815bf637f",
        "colab": {
          "base_uri": "https://localhost:8080/",
          "height": 272
        }
      },
      "source": [
        "# What does the header look like?\n",
        "for column in header:\n",
        "  print(column)"
      ],
      "execution_count": 29,
      "outputs": [
        {
          "output_type": "stream",
          "text": [
            "\"Date Time\"\n",
            "\"p (mbar)\"\n",
            "\"T (degC)\"\n",
            "\"Tpot (K)\"\n",
            "\"Tdew (degC)\"\n",
            "\"rh (%)\"\n",
            "\"VPmax (mbar)\"\n",
            "\"VPact (mbar)\"\n",
            "\"VPdef (mbar)\"\n",
            "\"sh (g/kg)\"\n",
            "\"H2OC (mmol/mol)\"\n",
            "\"rho (g/m**3)\"\n",
            "\"wv (m/s)\"\n",
            "\"max. wv (m/s)\"\n",
            "\"wd (deg)\"\n"
          ],
          "name": "stdout"
        }
      ]
    },
    {
      "cell_type": "code",
      "metadata": {
        "id": "TlU5ELGWuhDT",
        "colab_type": "code",
        "colab": {}
      },
      "source": [
        "# Converting all lines of data to numpy array\n",
        "import numpy as np"
      ],
      "execution_count": 0,
      "outputs": []
    },
    {
      "cell_type": "code",
      "metadata": {
        "id": "tLeyBB8zu8o8",
        "colab_type": "code",
        "colab": {}
      },
      "source": [
        "# Create null array of same dimensions as (input_samples, features)\n",
        "float_data = np.zeros((len(lines), len(header) - 1))"
      ],
      "execution_count": 0,
      "outputs": []
    },
    {
      "cell_type": "code",
      "metadata": {
        "id": "kzBS2stVvJ5v",
        "colab_type": "code",
        "colab": {}
      },
      "source": [
        "for i, line in enumerate(lines):\n",
        "  values = [float(x) for x in line.split(',')[1:]]\n",
        "  float_data[i, :] = values"
      ],
      "execution_count": 0,
      "outputs": []
    },
    {
      "cell_type": "markdown",
      "metadata": {
        "id": "TqzDRAdmvPc4",
        "colab_type": "text"
      },
      "source": [
        "Each line in the `lines` list was another list of comma-separated values. We split each list into individual samples by looking at the `,` as a demarcator, and then convert them to floating point values (it is possible that they have been read as `string`s).\n",
        "\n",
        "We drop the first value in each list because that is a timestamp, and we aren't concerned with timestamps as a feature.\n",
        "\n",
        "These values replace the zeros in the `values` numpy array we created before running the for loop."
      ]
    },
    {
      "cell_type": "markdown",
      "metadata": {
        "id": "siZl0OzCv2vA",
        "colab_type": "text"
      },
      "source": [
        "## Plotting Temperature Data"
      ]
    },
    {
      "cell_type": "code",
      "metadata": {
        "id": "izvwheZ8xbhC",
        "colab_type": "code",
        "colab": {}
      },
      "source": [
        "from matplotlib import pyplot as plt"
      ],
      "execution_count": 0,
      "outputs": []
    },
    {
      "cell_type": "code",
      "metadata": {
        "id": "-zDCVpnfxeBg",
        "colab_type": "code",
        "outputId": "988bb52d-5d7f-4d7a-d92b-fb3ea8a06dc6",
        "colab": {
          "base_uri": "https://localhost:8080/",
          "height": 457
        }
      },
      "source": [
        "temp = float_data[:, 1] # Temperature in degrees Celsius\n",
        "\n",
        "plt.figure(figsize=(12, 6))\n",
        "# X-axis: sample numbers, y-axis: temperature\n",
        "plt.plot(range(len(temp)), temp)\n",
        "plt.xlabel('Sample Number', fontsize=14)\n",
        "plt.xticks(rotation=90)\n",
        "plt.ylabel('Temperature (Degrees C)', fontsize=14)\n",
        "plt.grid(True)\n",
        "plt.title('JENA Climate Data - Temperature', fontsize=18)"
      ],
      "execution_count": 34,
      "outputs": [
        {
          "output_type": "execute_result",
          "data": {
            "text/plain": [
              "Text(0.5, 1.0, 'JENA Climate Data - Temperature')"
            ]
          },
          "metadata": {
            "tags": []
          },
          "execution_count": 34
        },
        {
          "output_type": "display_data",
          "data": {
            "image/png": "[encoded data removed]",
            "text/plain": [
              "<Figure size 864x432 with 1 Axes>"
            ]
          },
          "metadata": {
            "tags": []
          }
        }
      ]
    },
    {
      "cell_type": "code",
      "metadata": {
        "id": "RtmZmtSIxyGq",
        "colab_type": "code",
        "colab": {}
      },
      "source": [
        "MEASUREMENT_PERIOD_MINS = 10\n",
        "MINS_PER_DAY = 24 * 60 \n",
        "SAMPLES_PER_DAY = MINS_PER_DAY / MEASUREMENT_PERIOD_MINS\n",
        "NUM_DAYS = 10\n",
        "NUM_SAMPLES = NUM_DAYS * SAMPLES_PER_DAY"
      ],
      "execution_count": 0,
      "outputs": []
    },
    {
      "cell_type": "code",
      "metadata": {
        "id": "hJD-Wblnyni9",
        "colab_type": "code",
        "outputId": "c92a0f49-eaef-4aa7-f695-c51aea3f93a8",
        "colab": {
          "base_uri": "https://localhost:8080/",
          "height": 34
        }
      },
      "source": [
        "print(NUM_SAMPLES)"
      ],
      "execution_count": 36,
      "outputs": [
        {
          "output_type": "stream",
          "text": [
            "1440.0\n"
          ],
          "name": "stdout"
        }
      ]
    },
    {
      "cell_type": "code",
      "metadata": {
        "id": "k9knhQyJygpx",
        "colab_type": "code",
        "outputId": "8e131726-2b5c-45f7-814e-fa2e082c118d",
        "colab": {
          "base_uri": "https://localhost:8080/",
          "height": 465
        }
      },
      "source": [
        "# Plot of the first 10 days - since 144 samples per day, 1440 samples\n",
        "plt.figure(figsize=(12, 6))\n",
        "plt.plot(range(int(NUM_SAMPLES)), temp[:int(NUM_SAMPLES)])\n",
        "plt.xlabel('Sample Number', fontsize=14)\n",
        "plt.xticks(rotation=90)\n",
        "plt.ylabel('Temperature (Degrees C)', fontsize=14)\n",
        "plt.grid(True)\n",
        "plt.title('JENA Climate Data - Temperature\\nFirst 10 Days', fontsize=18)"
      ],
      "execution_count": 37,
      "outputs": [
        {
          "output_type": "execute_result",
          "data": {
            "text/plain": [
              "Text(0.5, 1.0, 'JENA Climate Data - Temperature\\nFirst 10 Days')"
            ]
          },
          "metadata": {
            "tags": []
          },
          "execution_count": 37
        },
        {
          "output_type": "display_data",
          "data": {
            "image/png": "[encoded data removed]",
            "text/plain": [
              "<Figure size 864x432 with 1 Axes>"
            ]
          },
          "metadata": {
            "tags": []
          }
        }
      ]
    },
    {
      "cell_type": "markdown",
      "metadata": {
        "id": "t4KtMLdgy0GD",
        "colab_type": "text"
      },
      "source": [
        "## Framing the Problem\n",
        "Given data going as far back as `lookback` timesteps and sampled every `steps` timesteps, can you predict the temperature in `delay` timesteps? \n",
        "\n",
        "In our problem, \n",
        "- `lookback`: 720 - observations will go back 5 days.\n",
        "- `steps`: 6 - observations will be sampled at one data point per hour (1 timestep is 10 mins, 60 mins in an hour, so 60/10 = 6 timesteps if sampled once every hour)\n",
        "- `delay`: 144 - targets will be temperature in 24 hours time."
      ]
    },
    {
      "cell_type": "markdown",
      "metadata": {
        "id": "zLMtUkr6y-oL",
        "colab_type": "text"
      },
      "source": [
        "## Normalizing Data"
      ]
    },
    {
      "cell_type": "code",
      "metadata": {
        "id": "SyxerbzEAL0o",
        "colab_type": "code",
        "colab": {}
      },
      "source": [
        "# Using the first 200,000 timesteps as training data\n",
        "mean = float_data[:200000].mean(axis=0)\n",
        "float_data -= mean \n",
        "std = float_data[:200000].std(axis=0)\n",
        "float_data /= std"
      ],
      "execution_count": 0,
      "outputs": []
    },
    {
      "cell_type": "markdown",
      "metadata": {
        "id": "R0QMra1cB5AE",
        "colab_type": "text"
      },
      "source": [
        "## Generator \n",
        "\n",
        "In simple words, a `generator` is a function which that behaves like an iterator i.e. a function that can be used in place of an iterable data structure such as a list, dictionary, tuple etc. in a for loop.\n",
        "\n",
        "Our generator will take the current sample and yield batches of data from the recent past as well as the target temperature in the future 'on the fly'. \n",
        "\n",
        "Generating these batches on the fly is useful because there is going to be a lot of redundancy in previous samples for samples `N` and `N + 1`. It is inefficient to allocate memory for them every time. So instead, we just generate the sample on the fly. "
      ]
    },
    {
      "cell_type": "markdown",
      "metadata": {
        "id": "Ku7e7NDCSL_D",
        "colab_type": "text"
      },
      "source": [
        "### Generator Parameters\n",
        "- `data`: original data that has been normalized\n",
        "- `lookback`: how many timesteps back the input data should go\n",
        "- `delay`: how many timesteps in the future the target should be \n",
        "- `min_index` and `max_index`: indices in the `data` array that delimit which timesteps to draw data from. \n",
        "- `shuffle`: whether to shuffle the samples or draw them in chronological order.\n",
        "- `batch_size`: the number of samples per batch.\n",
        "- `step`: the period, in timesteps, at which you sample data. To draw one sample per hour, this must be set to 6."
      ]
    },
    {
      "cell_type": "markdown",
      "metadata": {
        "id": "ODI4dyWLSooz",
        "colab_type": "text"
      },
      "source": [
        "### Generator Definition"
      ]
    },
    {
      "cell_type": "code",
      "metadata": {
        "id": "e1YglYZASq9w",
        "colab_type": "code",
        "colab": {}
      },
      "source": [
        "def generator(data, lookback, delay, min_index, max_index, \n",
        "              shuffle=False, batch_size=128, step=6, reverse=False):\n",
        "  \n",
        "  # If no max index specified, assume max index from which to draw data\n",
        "  # is the last index for which a temperature exists `delay` samples later\n",
        "  if max_index is None:\n",
        "    max_index = len(data) - delay - 1\n",
        "\n",
        "  # Start iterating from the first index for which `lookback` previous samples are available\n",
        "  i = min_index + lookback\n",
        "\n",
        "  # Is a generator, so should theoretically yield samples endlessly\n",
        "  while 1:\n",
        "    # If the user has asked to shuffle samples before drawing\n",
        "    if shuffle:\n",
        "      # Get random integers (represented indices) between first index and last index\n",
        "      rows = np.random.randint(min_index + lookback, max_index, size=batch_size)\n",
        "    \n",
        "    # Otherwise, samples are drawn sequentially\n",
        "    else:\n",
        "      # Reset current sample index if 128 further samples cannot be drawn from specified range\n",
        "      if i + batch_size >= max_index:\n",
        "        i = min_index + lookback\n",
        "\n",
        "      # Chronological indices from `i` to either the next `batch_size`, or the `max_index` - whichever is smaller\n",
        "      rows = np.arange(i, min(i + batch_size, max_index))\n",
        "\n",
        "      # Update the index to the first sample of the next batch\n",
        "      i += len(rows)\n",
        "    \n",
        "    # Make a null array to store the features of sampled timesteps in past data\n",
        "    samples = np.zeros((len(rows),            # Batch?\n",
        "                       lookback // step,      # Integer division - samples\n",
        "                       data.shape[-1]))       # Features\n",
        "\n",
        "  \n",
        "    # Make similar null array to store future temperature values for each timestep\n",
        "    targets = np.zeros((len(rows),))\n",
        "\n",
        "    # For every index in list of row indices\n",
        "    for j, row in enumerate(rows):\n",
        "      # Find the indices for the past samples that will be used to make predictions \n",
        "      # Sampled every `step` samples, so must specify this as last argument\n",
        "      indices = range(rows[j] - lookback, rows[j], step)\n",
        "\n",
        "      # Extract past samples used for predicting future temperature\n",
        "      samples[j] = data[indices]\n",
        "\n",
        "      # Extract future temperature  \n",
        "      targets[j] = data[rows[j] + delay][1]\n",
        "\n",
        "    # Return the sample and targets\n",
        "    if reverse:\n",
        "      yield samples[:, ::-1, :], targets\n",
        "    else:\n",
        "      yield samples, targets"
      ],
      "execution_count": 0,
      "outputs": []
    },
    {
      "cell_type": "markdown",
      "metadata": {
        "id": "HgePl9e9Wi5S",
        "colab_type": "text"
      },
      "source": [
        "### Generator Values"
      ]
    },
    {
      "cell_type": "code",
      "metadata": {
        "id": "NDVZeCCOWvRm",
        "colab_type": "code",
        "colab": {}
      },
      "source": [
        "lookback = 1440\n",
        "step = 6\n",
        "delay = 144\n",
        "batch_size = 128 \n",
        "\n",
        "# How many steps to draw from the val_gen in order to see entire validation set\n",
        "val_steps = (300000 - 200001 - lookback) // batch_size\n",
        "\n",
        "# How many steps to draw from test_gen in order to see entire test set \n",
        "test_steps = (len(float_data) - 300001 - lookback) // batch_size"
      ],
      "execution_count": 0,
      "outputs": []
    },
    {
      "cell_type": "markdown",
      "metadata": {
        "id": "wfULREieXhgV",
        "colab_type": "text"
      },
      "source": [
        "### Train Generators"
      ]
    },
    {
      "cell_type": "code",
      "metadata": {
        "id": "6k4RoDcQW1a2",
        "colab_type": "code",
        "colab": {}
      },
      "source": [
        "train_gen = generator(float_data, \n",
        "                      lookback=lookback, \n",
        "                      delay=delay, \n",
        "                      min_index=0, \n",
        "                      max_index=200000, \n",
        "                      shuffle=True, \n",
        "                      step=step, \n",
        "                      batch_size=batch_size)"
      ],
      "execution_count": 0,
      "outputs": []
    },
    {
      "cell_type": "code",
      "metadata": {
        "id": "JmGDfuzYy9pe",
        "colab_type": "code",
        "colab": {}
      },
      "source": [
        "train_gen_reverse = generator(float_data, \n",
        "                              lookback=lookback,\n",
        "                              delay=delay,\n",
        "                              min_index=0,\n",
        "                              max_index=200000, \n",
        "                              shuffle=True,\n",
        "                              step=step, \n",
        "                              batch_size=batch_size,\n",
        "                              reverse=True)"
      ],
      "execution_count": 0,
      "outputs": []
    },
    {
      "cell_type": "markdown",
      "metadata": {
        "id": "60oSXipuXl7P",
        "colab_type": "text"
      },
      "source": [
        "### Validation Generator"
      ]
    },
    {
      "cell_type": "code",
      "metadata": {
        "id": "Bu78oYcbXApQ",
        "colab_type": "code",
        "colab": {}
      },
      "source": [
        "val_gen = generator(float_data, \n",
        "                    lookback=lookback, \n",
        "                    delay=delay, \n",
        "                    min_index=200001, \n",
        "                    max_index=300000, \n",
        "                    step=step, \n",
        "                    batch_size=batch_size)"
      ],
      "execution_count": 0,
      "outputs": []
    },
    {
      "cell_type": "markdown",
      "metadata": {
        "id": "0gc7YMvrXns0",
        "colab_type": "text"
      },
      "source": [
        "### Test Generator"
      ]
    },
    {
      "cell_type": "code",
      "metadata": {
        "id": "UrOpJaZYXJdS",
        "colab_type": "code",
        "colab": {}
      },
      "source": [
        "test_gen = generator(float_data,\n",
        "                     lookback=lookback, \n",
        "                     delay=delay, \n",
        "                     min_index=300001,\n",
        "                     max_index=None, \n",
        "                     step=step, \n",
        "                     batch_size=batch_size)"
      ],
      "execution_count": 0,
      "outputs": []
    },
    {
      "cell_type": "markdown",
      "metadata": {
        "id": "D9eovTyvXRTI",
        "colab_type": "text"
      },
      "source": [
        "## Non-ML Baseline"
      ]
    },
    {
      "cell_type": "code",
      "metadata": {
        "id": "n6i7_LJlXrtM",
        "colab_type": "code",
        "colab": {}
      },
      "source": [
        "def evaluate_naive_method():\n",
        "  batch_maes = []\n",
        "\n",
        "  for step in range(val_steps):\n",
        "    if (step % 2500 == 0):\n",
        "      print(\".\", end=\"\")\n",
        "\n",
        "    samples, targets = next(val_gen)\n",
        "\n",
        "    # Tomorrow's predicted temperature = today's temperature\n",
        "    preds = samples[:, -1, 1]\n",
        "\n",
        "    # Find MAE for this batch's predictions\n",
        "    mae = np.mean(np.abs(preds - targets))\n",
        "\n",
        "    # Append to batch_maes\n",
        "    batch_maes.append(mae)\n",
        "  \n",
        "  # Print the mean MAE of all batches\n",
        "  print()\n",
        "  print(np.mean(batch_maes))\n",
        "  return np.mean(batch_maes)"
      ],
      "execution_count": 0,
      "outputs": []
    },
    {
      "cell_type": "code",
      "metadata": {
        "id": "vGZDnbdyZ6Jq",
        "colab_type": "code",
        "outputId": "6580d288-5661-4193-8139-3cb85018fb9e",
        "colab": {
          "base_uri": "https://localhost:8080/",
          "height": 51
        }
      },
      "source": [
        "naive_mae = evaluate_naive_method()"
      ],
      "execution_count": 0,
      "outputs": [
        {
          "output_type": "stream",
          "text": [
            ".\n",
            "0.2897359729905486\n"
          ],
          "name": "stdout"
        }
      ]
    },
    {
      "cell_type": "code",
      "metadata": {
        "id": "rido_0VXc4bx",
        "colab_type": "code",
        "outputId": "21d69c4e-ceec-40cc-c78f-b2ac975f89d0",
        "colab": {
          "base_uri": "https://localhost:8080/",
          "height": 34
        }
      },
      "source": [
        "# After accounting for standard deviation and scaling\n",
        "celsius_mae =  naive_mae * std[1]\n",
        "print(celsius_mae)"
      ],
      "execution_count": 0,
      "outputs": [
        {
          "output_type": "stream",
          "text": [
            "2.564887434980494\n"
          ],
          "name": "stdout"
        }
      ]
    },
    {
      "cell_type": "markdown",
      "metadata": {
        "id": "NNMS14XidYQ0",
        "colab_type": "text"
      },
      "source": [
        "## Densely Connected Classifier\n",
        "\n",
        "Can we get good performance from a low complexity AI model? "
      ]
    },
    {
      "cell_type": "code",
      "metadata": {
        "id": "PPCf_Oh-dbmU",
        "colab_type": "code",
        "colab": {}
      },
      "source": [
        "from keras.models import Sequential\n",
        "from keras import layers\n",
        "from keras.optimizers import RMSprop"
      ],
      "execution_count": 0,
      "outputs": []
    },
    {
      "cell_type": "code",
      "metadata": {
        "id": "y6GHhoaUdf6D",
        "colab_type": "code",
        "colab": {}
      },
      "source": [
        "model = Sequential()\n",
        "model.add(layers.Flatten(input_shape=(lookback // step, float_data.shape[-1])))\n",
        "model.add(layers.Dense(32, activation='relu'))\n",
        "model.add(layers.Dense(1))\n",
        "\n",
        "# Compile the model\n",
        "model.compile(optimizer='adam', loss='mae')"
      ],
      "execution_count": 0,
      "outputs": []
    },
    {
      "cell_type": "code",
      "metadata": {
        "id": "GeHEymav9wO-",
        "colab_type": "code",
        "outputId": "4be32d98-cb8b-495b-86c0-978ddd67d59a",
        "colab": {
          "base_uri": "https://localhost:8080/",
          "height": 697
        }
      },
      "source": [
        "history = model.fit_generator(train_gen, \n",
        "                              steps_per_epoch=500, \n",
        "                              epochs=20, \n",
        "                              validation_data=val_gen,\n",
        "                              validation_steps=val_steps)"
      ],
      "execution_count": 0,
      "outputs": [
        {
          "output_type": "stream",
          "text": [
            "Epoch 1/20\n",
            "500/500 [==============================] - 15s 31ms/step - loss: 0.4890 - val_loss: 0.4019\n",
            "Epoch 2/20\n",
            "500/500 [==============================] - 15s 30ms/step - loss: 0.3059 - val_loss: 0.3391\n",
            "Epoch 3/20\n",
            "500/500 [==============================] - 16s 31ms/step - loss: 0.2519 - val_loss: 0.3291\n",
            "Epoch 4/20\n",
            "500/500 [==============================] - 16s 32ms/step - loss: 0.2235 - val_loss: 0.3294\n",
            "Epoch 5/20\n",
            "500/500 [==============================] - 15s 31ms/step - loss: 0.2064 - val_loss: 0.3225\n",
            "Epoch 6/20\n",
            "500/500 [==============================] - 15s 31ms/step - loss: 0.1957 - val_loss: 0.3344\n",
            "Epoch 7/20\n",
            "500/500 [==============================] - 15s 31ms/step - loss: 0.1913 - val_loss: 0.3416\n",
            "Epoch 8/20\n",
            "500/500 [==============================] - 15s 31ms/step - loss: 0.1802 - val_loss: 0.3330\n",
            "Epoch 9/20\n",
            "500/500 [==============================] - 15s 31ms/step - loss: 0.1734 - val_loss: 0.3472\n",
            "Epoch 10/20\n",
            "500/500 [==============================] - 16s 31ms/step - loss: 0.1692 - val_loss: 0.3532\n",
            "Epoch 11/20\n",
            "500/500 [==============================] - 15s 30ms/step - loss: 0.1648 - val_loss: 0.3434\n",
            "Epoch 12/20\n",
            "500/500 [==============================] - 15s 31ms/step - loss: 0.1596 - val_loss: 0.3618\n",
            "Epoch 13/20\n",
            "500/500 [==============================] - 15s 30ms/step - loss: 0.1578 - val_loss: 0.3485\n",
            "Epoch 14/20\n",
            "500/500 [==============================] - 15s 30ms/step - loss: 0.1515 - val_loss: 0.3515\n",
            "Epoch 15/20\n",
            "500/500 [==============================] - 16s 32ms/step - loss: 0.1516 - val_loss: 0.3583\n",
            "Epoch 16/20\n",
            "500/500 [==============================] - 15s 30ms/step - loss: 0.1469 - val_loss: 0.3593\n",
            "Epoch 17/20\n",
            "500/500 [==============================] - 15s 30ms/step - loss: 0.1464 - val_loss: 0.3637\n",
            "Epoch 18/20\n",
            "500/500 [==============================] - 15s 30ms/step - loss: 0.1422 - val_loss: 0.3566\n",
            "Epoch 19/20\n",
            "500/500 [==============================] - 15s 30ms/step - loss: 0.1411 - val_loss: 0.3596\n",
            "Epoch 20/20\n",
            "500/500 [==============================] - 16s 32ms/step - loss: 0.1380 - val_loss: 0.3656\n"
          ],
          "name": "stdout"
        }
      ]
    },
    {
      "cell_type": "markdown",
      "metadata": {
        "id": "kPfEIhUR-cCn",
        "colab_type": "text"
      },
      "source": [
        "### Validation and Training Loss Curves"
      ]
    },
    {
      "cell_type": "code",
      "metadata": {
        "id": "NShn18HZ-j8p",
        "colab_type": "code",
        "colab": {}
      },
      "source": [
        "import matplotlib.pyplot as plt "
      ],
      "execution_count": 0,
      "outputs": []
    },
    {
      "cell_type": "code",
      "metadata": {
        "id": "FF4J0jbM-lTI",
        "colab_type": "code",
        "outputId": "6964f459-e5c4-43ad-95dd-72a5a889e7fe",
        "colab": {
          "base_uri": "https://localhost:8080/",
          "height": 390
        }
      },
      "source": [
        "loss = history.history['loss']\n",
        "val_loss = history.history['val_loss']\n",
        "\n",
        "epochs = range(1, len(loss) + 1)\n",
        "\n",
        "plt.figure(figsize=(12, 6))\n",
        "plt.plot(epochs, loss, 'bo', label='Training Loss')\n",
        "plt.plot(epochs, val_loss, 'b', label='Validation Loss')\n",
        "plt.title('Training and Validation Loss')\n",
        "plt.legend()\n",
        "plt.grid(True)"
      ],
      "execution_count": 0,
      "outputs": [
        {
          "output_type": "display_data",
          "data": {
            "image/png": "[encoded data removed]",
            "text/plain": [
              "<Figure size 864x432 with 1 Axes>"
            ]
          },
          "metadata": {
            "tags": []
          }
        }
      ]
    },
    {
      "cell_type": "markdown",
      "metadata": {
        "id": "ucWEVAFu-rMx",
        "colab_type": "text"
      },
      "source": [
        "## Recurrent Baseline"
      ]
    },
    {
      "cell_type": "code",
      "metadata": {
        "id": "k5EOPweFD_A6",
        "colab_type": "code",
        "colab": {}
      },
      "source": [
        "from keras.models import Sequential\n",
        "from keras import layers\n",
        "from keras.optimizers import RMSprop"
      ],
      "execution_count": 0,
      "outputs": []
    },
    {
      "cell_type": "code",
      "metadata": {
        "id": "y4SDsH8gEDHc",
        "colab_type": "code",
        "colab": {}
      },
      "source": [
        "# Instantiate model\n",
        "model = Sequential()\n",
        "\n",
        "# GRU layer - computationally cheaper than LSTM\n",
        "model.add(layers.GRU(32, input_shape=(None, float_data.shape[-1])))\n",
        "model.add(layers.Dense(1))\n",
        "\n",
        "# Compule\n",
        "model.compile(optimizer='adam', loss='mae')"
      ],
      "execution_count": 0,
      "outputs": []
    },
    {
      "cell_type": "code",
      "metadata": {
        "id": "JPQi2kNAER5S",
        "colab_type": "code",
        "outputId": "2b329fac-fe5f-4f79-e809-0d5828d62b00",
        "colab": {
          "base_uri": "https://localhost:8080/",
          "height": 697
        }
      },
      "source": [
        "# Fit to the training data\n",
        "history = model.fit_generator(train_gen,\n",
        "                    steps_per_epoch=500,\n",
        "                    epochs=20, \n",
        "                    validation_data=val_gen, \n",
        "                    validation_steps=val_steps)"
      ],
      "execution_count": 0,
      "outputs": [
        {
          "output_type": "stream",
          "text": [
            "Epoch 1/20\n",
            "500/500 [==============================] - 127s 253ms/step - loss: 0.2918 - val_loss: 0.2694\n",
            "Epoch 2/20\n",
            "500/500 [==============================] - 124s 249ms/step - loss: 0.2804 - val_loss: 0.2672\n",
            "Epoch 3/20\n",
            "500/500 [==============================] - 124s 248ms/step - loss: 0.2719 - val_loss: 0.2644\n",
            "Epoch 4/20\n",
            "500/500 [==============================] - 124s 248ms/step - loss: 0.2665 - val_loss: 0.2701\n",
            "Epoch 5/20\n",
            "500/500 [==============================] - 123s 245ms/step - loss: 0.2589 - val_loss: 0.2679\n",
            "Epoch 6/20\n",
            "500/500 [==============================] - 121s 243ms/step - loss: 0.2539 - val_loss: 0.2696\n",
            "Epoch 7/20\n",
            "500/500 [==============================] - 122s 244ms/step - loss: 0.2489 - val_loss: 0.2718\n",
            "Epoch 8/20\n",
            "500/500 [==============================] - 124s 248ms/step - loss: 0.2423 - val_loss: 0.2770\n",
            "Epoch 9/20\n",
            "500/500 [==============================] - 124s 247ms/step - loss: 0.2380 - val_loss: 0.2810\n",
            "Epoch 10/20\n",
            "500/500 [==============================] - 124s 249ms/step - loss: 0.2329 - val_loss: 0.2842\n",
            "Epoch 11/20\n",
            "500/500 [==============================] - 123s 246ms/step - loss: 0.2279 - val_loss: 0.2818\n",
            "Epoch 12/20\n",
            "500/500 [==============================] - 122s 244ms/step - loss: 0.2225 - val_loss: 0.2911\n",
            "Epoch 13/20\n",
            "500/500 [==============================] - 122s 243ms/step - loss: 0.2201 - val_loss: 0.2913\n",
            "Epoch 14/20\n",
            "500/500 [==============================] - 125s 249ms/step - loss: 0.2147 - val_loss: 0.2970\n",
            "Epoch 15/20\n",
            "500/500 [==============================] - 124s 248ms/step - loss: 0.2118 - val_loss: 0.2998\n",
            "Epoch 16/20\n",
            "500/500 [==============================] - 125s 249ms/step - loss: 0.2069 - val_loss: 0.3031\n",
            "Epoch 17/20\n",
            "500/500 [==============================] - 121s 243ms/step - loss: 0.2044 - val_loss: 0.3014\n",
            "Epoch 18/20\n",
            "500/500 [==============================] - 119s 238ms/step - loss: 0.2021 - val_loss: 0.3099\n",
            "Epoch 19/20\n",
            "500/500 [==============================] - 120s 239ms/step - loss: 0.2078 - val_loss: 0.3104\n",
            "Epoch 20/20\n",
            "500/500 [==============================] - 125s 251ms/step - loss: 0.2034 - val_loss: 0.3136\n"
          ],
          "name": "stdout"
        }
      ]
    },
    {
      "cell_type": "code",
      "metadata": {
        "id": "TFujXYh-EeIn",
        "colab_type": "code",
        "outputId": "def8c087-7d2f-435e-fc7a-21acc546da16",
        "colab": {
          "base_uri": "https://localhost:8080/",
          "height": 410
        }
      },
      "source": [
        "loss = history.history['loss']\n",
        "val_loss = history.history['val_loss']\n",
        "epochs = range(1, len(loss) + 1)\n",
        "\n",
        "plt.figure(figsize=(12, 6))\n",
        "plt.plot(epochs, loss, 'bo', label='Training Loss')\n",
        "plt.plot(epochs, val_loss, 'b-', label='Validation Loss')\n",
        "plt.xlabel('Epochs', fontsize=14)\n",
        "plt.ylabel('MAE', fontsize=14)\n",
        "plt.title('Training vs Validation Loss - GRU Model', fontsize=16)\n",
        "plt.grid(True)"
      ],
      "execution_count": 0,
      "outputs": [
        {
          "output_type": "display_data",
          "data": {
            "image/png": "[encoded data removed]",
            "text/plain": [
              "<Figure size 864x432 with 1 Axes>"
            ]
          },
          "metadata": {
            "tags": []
          }
        }
      ]
    },
    {
      "cell_type": "code",
      "metadata": {
        "id": "nDBeSuWEE9XP",
        "colab_type": "code",
        "outputId": "593ff383-94dc-43ff-b60f-6f14f33d8215",
        "colab": {
          "base_uri": "https://localhost:8080/",
          "height": 34
        }
      },
      "source": [
        "optimal_loss = 0.265\n",
        "print(\"With RNN, mean absolute error in degrees C is: \", optimal_loss * std[1])"
      ],
      "execution_count": 0,
      "outputs": [
        {
          "output_type": "stream",
          "text": [
            "With RNN, mean absolute error in degrees C is:  2.3459122567842243\n"
          ],
          "name": "stdout"
        }
      ]
    },
    {
      "cell_type": "markdown",
      "metadata": {
        "id": "S3LFS3WQGCUn",
        "colab_type": "text"
      },
      "source": [
        "## Regularization Technique 1 - Dropout and Recurrent Dropout \n",
        "\n",
        "- `dropout`: dropout rate for the inputs of the layer (applying dropout before recurrent layer hinders learning).\n",
        "- `recurrent_dropout`: dropout rate of recurrent units (same mask applied to recurrent activations at all timesteps). \n",
        "\n",
        "Networks being regularized with dropout take longer to train and converge, so better to train for more epochs."
      ]
    },
    {
      "cell_type": "code",
      "metadata": {
        "id": "vyKNC1sMNuFr",
        "colab_type": "code",
        "colab": {}
      },
      "source": [
        "from keras.models import Sequential\n",
        "from keras import layers"
      ],
      "execution_count": 0,
      "outputs": []
    },
    {
      "cell_type": "code",
      "metadata": {
        "id": "-XcS_i1sNy8O",
        "colab_type": "code",
        "colab": {}
      },
      "source": [
        "model = Sequential()\n",
        "model.add(layers.GRU(32, \n",
        "                     dropout=0.2, \n",
        "                     recurrent_dropout=0.2, \n",
        "                     input_shape=(None, float_data.shape[-1])))\n",
        "model.add(layers.Dense(1))\n",
        "model.compile(optimizer='adam', loss='mae')"
      ],
      "execution_count": 0,
      "outputs": []
    },
    {
      "cell_type": "code",
      "metadata": {
        "id": "TnjScKyzOHr7",
        "colab_type": "code",
        "colab": {
          "base_uri": "https://localhost:8080/",
          "height": 697
        },
        "outputId": "148bdaa2-ea8d-4a72-d5b2-1b8552ee836c"
      },
      "source": [
        "history = model.fit_generator(train_gen, \n",
        "                              steps_per_epoch=100, \n",
        "                              epochs=20, \n",
        "                              validation_data=val_gen, \n",
        "                              validation_steps=val_steps//5)"
      ],
      "execution_count": 49,
      "outputs": [
        {
          "output_type": "stream",
          "text": [
            "Epoch 1/20\n",
            "100/100 [==============================] - 27s 265ms/step - loss: 0.3873 - val_loss: 0.2757\n",
            "Epoch 2/20\n",
            "100/100 [==============================] - 25s 252ms/step - loss: 0.3339 - val_loss: 0.2937\n",
            "Epoch 3/20\n",
            "100/100 [==============================] - 25s 253ms/step - loss: 0.3273 - val_loss: 0.2736\n",
            "Epoch 4/20\n",
            "100/100 [==============================] - 25s 252ms/step - loss: 0.3224 - val_loss: 0.2941\n",
            "Epoch 5/20\n",
            "100/100 [==============================] - 25s 253ms/step - loss: 0.3209 - val_loss: 0.2715\n",
            "Epoch 6/20\n",
            "100/100 [==============================] - 25s 253ms/step - loss: 0.3178 - val_loss: 0.2587\n",
            "Epoch 7/20\n",
            "100/100 [==============================] - 25s 250ms/step - loss: 0.3124 - val_loss: 0.2783\n",
            "Epoch 8/20\n",
            "100/100 [==============================] - 25s 251ms/step - loss: 0.3159 - val_loss: 0.2718\n",
            "Epoch 9/20\n",
            "100/100 [==============================] - 25s 246ms/step - loss: 0.3129 - val_loss: 0.2839\n",
            "Epoch 10/20\n",
            "100/100 [==============================] - 25s 251ms/step - loss: 0.3099 - val_loss: 0.2711\n",
            "Epoch 11/20\n",
            "100/100 [==============================] - 25s 248ms/step - loss: 0.3097 - val_loss: 0.2532\n",
            "Epoch 12/20\n",
            "100/100 [==============================] - 25s 245ms/step - loss: 0.3115 - val_loss: 0.2774\n",
            "Epoch 13/20\n",
            "100/100 [==============================] - 25s 248ms/step - loss: 0.3082 - val_loss: 0.2737\n",
            "Epoch 14/20\n",
            "100/100 [==============================] - 25s 248ms/step - loss: 0.3093 - val_loss: 0.2843\n",
            "Epoch 15/20\n",
            "100/100 [==============================] - 25s 248ms/step - loss: 0.3057 - val_loss: 0.2712\n",
            "Epoch 16/20\n",
            "100/100 [==============================] - 24s 244ms/step - loss: 0.3018 - val_loss: 0.2570\n",
            "Epoch 17/20\n",
            "100/100 [==============================] - 25s 246ms/step - loss: 0.3041 - val_loss: 0.2719\n",
            "Epoch 18/20\n",
            "100/100 [==============================] - 25s 248ms/step - loss: 0.2995 - val_loss: 0.2773\n",
            "Epoch 19/20\n",
            "100/100 [==============================] - 25s 246ms/step - loss: 0.3051 - val_loss: 0.2812\n",
            "Epoch 20/20\n",
            "100/100 [==============================] - 25s 250ms/step - loss: 0.3000 - val_loss: 0.2695\n"
          ],
          "name": "stdout"
        }
      ]
    },
    {
      "cell_type": "code",
      "metadata": {
        "id": "A6kTHjmus8kr",
        "colab_type": "code",
        "colab": {}
      },
      "source": [
        "def plot_history(history, plot_metrics=False, title_str=None):\n",
        "  loss = history.history['loss']\n",
        "  val_loss = history.history['val_loss']\n",
        "  epochs = range(1, len(loss) + 1)\n",
        "\n",
        "  plt.figure(figsize=(12, 6))\n",
        "  plt.plot(epochs, loss, 'bo', label='Training Loss')\n",
        "  plt.plot(epochs, val_loss, 'b-', label='Validation Loss')\n",
        "  plt.xlabel('Epochs', fontsize=14)\n",
        "  plt.ylabel('MAE', fontsize=14)\n",
        "  title = (title_str + ' - Training and Validation Loss' if title_str is not None\n",
        "           else 'Training and Validation Loss')\n",
        "  plt.title(title, fontsize=18)\n",
        "  plt.grid(True)\n",
        "  plt.legend()\n",
        "\n",
        "\n",
        "  if plot_metrics:\n",
        "    acc = history.history['acc']\n",
        "    val_acc = history.history['val_acc']\n",
        "    plt.figure(figsize=(12, 6))\n",
        "    plt.plot(epochs, acc, 'bo', label='Training Accuracy')\n",
        "    plt.plot(epochs, val_acc, 'b-', label='Validation Accuracy')\n",
        "    plt.xlabel('Epochs', fontsize=14)\n",
        "    plt.ylabel('Accuracy', fontsize=14)\n",
        "    title = (title_str + ' - Training and Validation Accuracy' if title_str is not None \n",
        "             else 'Training and Validation Accuracy')\n",
        "    plt.title(title)\n",
        "    plt.grid(True)\n",
        "\n",
        "  plt.show()"
      ],
      "execution_count": 0,
      "outputs": []
    },
    {
      "cell_type": "code",
      "metadata": {
        "id": "kygihFbHto5O",
        "colab_type": "code",
        "colab": {
          "base_uri": "https://localhost:8080/",
          "height": 441
        },
        "outputId": "4ca9534b-604a-46f0-aeb2-727ee982726a"
      },
      "source": [
        "plot_history(history, title_str='LSTM with Dropout Regularization')"
      ],
      "execution_count": 62,
      "outputs": [
        {
          "output_type": "display_data",
          "data": {
            "image/png": "[encoded data removed]",
            "text/plain": [
              "<Figure size 864x432 with 1 Axes>"
            ]
          },
          "metadata": {
            "tags": []
          }
        }
      ]
    },
    {
      "cell_type": "markdown",
      "metadata": {
        "id": "R5Uw7edvtyR5",
        "colab_type": "text"
      },
      "source": [
        "## Regularization Technique 2 - Stacking Recurrent Layers\n",
        "\n",
        "The training history for the regularized model indicates that while we have achieved more stable validation scores and are no longer overfitting at later epochs, the validation scores are not much better than they were before. \n",
        "\n",
        "This suggests that the model's performance bottleneck has less to do with overfitting and more to do with lack of learning capacity. \n",
        "\n",
        "Increase learning capacity by stacking more recurrent layers.\n",
        "\n",
        "As with `SimpleRNN` layers, each stacked recurrent layer must return the full sequence of outputs (a 3D tensor) rather than their output at the last timestep."
      ]
    },
    {
      "cell_type": "code",
      "metadata": {
        "id": "7-mlgEBAuZ1v",
        "colab_type": "code",
        "colab": {}
      },
      "source": [
        "from keras.models import Sequential\n",
        "from keras import layers\n",
        "from keras.optimizers import RMSprop"
      ],
      "execution_count": 0,
      "outputs": []
    },
    {
      "cell_type": "code",
      "metadata": {
        "id": "C1Zxr5qEuy78",
        "colab_type": "code",
        "colab": {}
      },
      "source": [
        "# Instantiate a model\n",
        "model = Sequential()\n",
        "\n",
        "# First recurrent layer - still has dropout, but rates adjusted - must return outputs at all timesteps\n",
        "model.add(layers.GRU(32, \n",
        "                     dropout=0.1,\n",
        "                     recurrent_dropout=0.5, \n",
        "                     return_sequences=True, \n",
        "                     input_shape=(None, float_data.shape[-1])))\n",
        "\n",
        "# Add anotherr recurrent layer - this one has same dropout, but doesn't return all sequences\n",
        "model.add(layers.GRU(64, \n",
        "                     dropout=0.1, \n",
        "                     recurrent_dropout=0.5))\n",
        "\n",
        "# Adding a final linear activation unit\n",
        "model.add(layers.Dense(1))\n",
        "\n",
        "# Compile the model\n",
        "model.compile(optimizer='adam', loss='mae')"
      ],
      "execution_count": 0,
      "outputs": []
    },
    {
      "cell_type": "code",
      "metadata": {
        "id": "xAq849InvZWJ",
        "colab_type": "code",
        "colab": {
          "base_uri": "https://localhost:8080/",
          "height": 697
        },
        "outputId": "ffc36418-4e2b-49ff-b4f8-ee9553588131"
      },
      "source": [
        "history = model.fit_generator(train_gen, \n",
        "                              steps_per_epoch=50, \n",
        "                              epochs=20, \n",
        "                              validation_data=val_gen, \n",
        "                              validation_steps=val_steps // 5)"
      ],
      "execution_count": 60,
      "outputs": [
        {
          "output_type": "stream",
          "text": [
            "Epoch 1/20\n",
            "50/50 [==============================] - 46s 920ms/step - loss: 0.3878 - val_loss: 0.2524\n",
            "Epoch 2/20\n",
            "50/50 [==============================] - 43s 864ms/step - loss: 0.3494 - val_loss: 0.3052\n",
            "Epoch 3/20\n",
            "50/50 [==============================] - 43s 867ms/step - loss: 0.3393 - val_loss: 0.2963\n",
            "Epoch 4/20\n",
            "50/50 [==============================] - 43s 862ms/step - loss: 0.3352 - val_loss: 0.2978\n",
            "Epoch 5/20\n",
            "50/50 [==============================] - 43s 858ms/step - loss: 0.3356 - val_loss: 0.2794\n",
            "Epoch 6/20\n",
            "50/50 [==============================] - 43s 855ms/step - loss: 0.3310 - val_loss: 0.2482\n",
            "Epoch 7/20\n",
            "50/50 [==============================] - 44s 871ms/step - loss: 0.3264 - val_loss: 0.3012\n",
            "Epoch 8/20\n",
            "50/50 [==============================] - 43s 863ms/step - loss: 0.3234 - val_loss: 0.2761\n",
            "Epoch 9/20\n",
            "50/50 [==============================] - 43s 860ms/step - loss: 0.3301 - val_loss: 0.2891\n",
            "Epoch 10/20\n",
            "50/50 [==============================] - 43s 863ms/step - loss: 0.3251 - val_loss: 0.2744\n",
            "Epoch 11/20\n",
            "50/50 [==============================] - 43s 863ms/step - loss: 0.3244 - val_loss: 0.2596\n",
            "Epoch 12/20\n",
            "50/50 [==============================] - 42s 849ms/step - loss: 0.3196 - val_loss: 0.2972\n",
            "Epoch 13/20\n",
            "50/50 [==============================] - 43s 853ms/step - loss: 0.3247 - val_loss: 0.2785\n",
            "Epoch 14/20\n",
            "50/50 [==============================] - 43s 863ms/step - loss: 0.3153 - val_loss: 0.2800\n",
            "Epoch 15/20\n",
            "50/50 [==============================] - 43s 855ms/step - loss: 0.3128 - val_loss: 0.2697\n",
            "Epoch 16/20\n",
            "50/50 [==============================] - 43s 855ms/step - loss: 0.3179 - val_loss: 0.2572\n",
            "Epoch 17/20\n",
            "50/50 [==============================] - 43s 858ms/step - loss: 0.3143 - val_loss: 0.2962\n",
            "Epoch 18/20\n",
            "50/50 [==============================] - 43s 864ms/step - loss: 0.3104 - val_loss: 0.2771\n",
            "Epoch 19/20\n",
            "50/50 [==============================] - 43s 855ms/step - loss: 0.3081 - val_loss: 0.2861\n",
            "Epoch 20/20\n",
            "50/50 [==============================] - 43s 858ms/step - loss: 0.3106 - val_loss: 0.2607\n"
          ],
          "name": "stdout"
        }
      ]
    },
    {
      "cell_type": "code",
      "metadata": {
        "id": "q7LaRSnivhQk",
        "colab_type": "code",
        "colab": {}
      },
      "source": [
        "plot_history(history, title_str='Stacked GRUs (32 - 64) with Dropout')"
      ],
      "execution_count": 0,
      "outputs": []
    },
    {
      "cell_type": "markdown",
      "metadata": {
        "id": "_zhMudaew5jZ",
        "colab_type": "text"
      },
      "source": [
        "## Regularization Technique 3 - Antichronological RNNs\n",
        "\n",
        "- All networks trained so far have processed data in chronological order.\n",
        "- It is also possible to process sequences in reverse chronological order.\n",
        "- Will this improve performance?"
      ]
    },
    {
      "cell_type": "markdown",
      "metadata": {
        "id": "MxO5GZBXxnOx",
        "colab_type": "text"
      },
      "source": [
        "### Reverse Chronological GRU Baseline - JENA\n",
        "\n",
        "Will evaluate a GRU trained on reverse chronological order training data. \n",
        "\n",
        "This will establish that reversing the order in which sequences are sampled may not work for forecasting problems such as temperature prediction (where the recent past is more indicative of futue predictions than older samples).\n",
        "\n",
        "Without dropout, the information from the recent past - which is more indicative of temperature in the future - will be lost as RNN moves on to next samples (which, in this case, are samples that were measured much earlier than the day for which prediction has to be made)."
      ]
    },
    {
      "cell_type": "code",
      "metadata": {
        "id": "JUjFA2D9yZ_A",
        "colab_type": "code",
        "colab": {}
      },
      "source": [
        "from keras.layers import Dense, GRU \n",
        "from keras.models import Sequential"
      ],
      "execution_count": 0,
      "outputs": []
    },
    {
      "cell_type": "code",
      "metadata": {
        "id": "nRrQCGR6yebf",
        "colab_type": "code",
        "colab": {}
      },
      "source": [
        "# Instantiate\n",
        "model = Sequential()\n",
        "\n",
        "# Add layers\n",
        "model.add(GRU(32, input_shape=(None, float_data.shape[-1])))\n",
        "model.add(layers.Dense(1))\n",
        "\n",
        "# Compile\n",
        "model.compile(optimizer='adam', loss='mae')"
      ],
      "execution_count": 0,
      "outputs": []
    },
    {
      "cell_type": "code",
      "metadata": {
        "id": "2KfRsqiszWnm",
        "colab_type": "code",
        "colab": {
          "base_uri": "https://localhost:8080/",
          "height": 697
        },
        "outputId": "e0aec0dc-1ff2-4b18-b5d1-5f6fb66a37af"
      },
      "source": [
        "history = model.fit_generator(train_gen_reverse,\n",
        "                              steps_per_epoch=100, \n",
        "                              epochs=20, \n",
        "                              validation_data=val_gen, \n",
        "                              validation_steps=val_steps // 5)"
      ],
      "execution_count": 75,
      "outputs": [
        {
          "output_type": "stream",
          "text": [
            "Epoch 1/20\n",
            "100/100 [==============================] - 25s 246ms/step - loss: 0.5444 - val_loss: 0.3244\n",
            "Epoch 2/20\n",
            "100/100 [==============================] - 22s 225ms/step - loss: 0.4803 - val_loss: 0.3428\n",
            "Epoch 3/20\n",
            "100/100 [==============================] - 23s 227ms/step - loss: 0.4769 - val_loss: 0.2953\n",
            "Epoch 4/20\n",
            "100/100 [==============================] - 23s 226ms/step - loss: 0.4677 - val_loss: 0.3365\n",
            "Epoch 5/20\n",
            "100/100 [==============================] - 23s 228ms/step - loss: 0.4686 - val_loss: 0.3459\n",
            "Epoch 6/20\n",
            "100/100 [==============================] - 22s 224ms/step - loss: 0.4724 - val_loss: 0.3399\n",
            "Epoch 7/20\n",
            "100/100 [==============================] - 23s 227ms/step - loss: 0.4628 - val_loss: 0.3742\n",
            "Epoch 8/20\n",
            "100/100 [==============================] - 23s 231ms/step - loss: 0.4620 - val_loss: 0.3208\n",
            "Epoch 9/20\n",
            "100/100 [==============================] - 23s 232ms/step - loss: 0.4521 - val_loss: 0.3495\n",
            "Epoch 10/20\n",
            "100/100 [==============================] - 23s 228ms/step - loss: 0.4496 - val_loss: 0.3384\n",
            "Epoch 11/20\n",
            "100/100 [==============================] - 23s 234ms/step - loss: 0.4484 - val_loss: 0.4032\n",
            "Epoch 12/20\n",
            "100/100 [==============================] - 23s 229ms/step - loss: 0.4376 - val_loss: 0.3669\n",
            "Epoch 13/20\n",
            "100/100 [==============================] - 23s 232ms/step - loss: 0.4319 - val_loss: 0.3365\n",
            "Epoch 14/20\n",
            "100/100 [==============================] - 23s 232ms/step - loss: 0.4235 - val_loss: 0.3841\n",
            "Epoch 15/20\n",
            "100/100 [==============================] - 23s 229ms/step - loss: 0.4033 - val_loss: 0.4288\n",
            "Epoch 16/20\n",
            "100/100 [==============================] - 23s 229ms/step - loss: 0.3902 - val_loss: 0.4930\n",
            "Epoch 17/20\n",
            "100/100 [==============================] - 23s 226ms/step - loss: 0.3796 - val_loss: 0.3835\n",
            "Epoch 18/20\n",
            "100/100 [==============================] - 23s 226ms/step - loss: 0.3585 - val_loss: 0.3764\n",
            "Epoch 19/20\n",
            "100/100 [==============================] - 23s 227ms/step - loss: 0.3550 - val_loss: 0.4763\n",
            "Epoch 20/20\n",
            "100/100 [==============================] - 22s 224ms/step - loss: 0.3432 - val_loss: 0.4359\n"
          ],
          "name": "stdout"
        }
      ]
    },
    {
      "cell_type": "code",
      "metadata": {
        "id": "WvKyppqVziKy",
        "colab_type": "code",
        "colab": {
          "base_uri": "https://localhost:8080/",
          "height": 441
        },
        "outputId": "34f54f48-2c25-4ae1-f817-265b8a6a85d8"
      },
      "source": [
        "plot_history(history, 'GRU Baseline - Reverse Chronological Order')"
      ],
      "execution_count": 76,
      "outputs": [
        {
          "output_type": "display_data",
          "data": {
            "image/png": "[encoded data removed]",
            "text/plain": [
              "<Figure size 864x432 with 1 Axes>"
            ]
          },
          "metadata": {
            "tags": []
          }
        }
      ]
    },
    {
      "cell_type": "markdown",
      "metadata": {
        "id": "4g-hSOaEzrPN",
        "colab_type": "text"
      },
      "source": [
        "As expected, reverse chronological order does not work for problems in which recent samples are more strongly associated with future predictions than earlier samples. "
      ]
    },
    {
      "cell_type": "markdown",
      "metadata": {
        "id": "E2vQcs4E0yIb",
        "colab_type": "text"
      },
      "source": [
        "### Reverse Chronological LSTM - IMDb\n",
        "\n",
        "However, reverse chronological order can be very useful when processing natural language sequences.\n",
        "\n",
        "Intuitively, the importance of a word in understanding a sentence isn't usually dependent on its position in the sentence. "
      ]
    },
    {
      "cell_type": "code",
      "metadata": {
        "id": "Tyhb1hej1DPC",
        "colab_type": "code",
        "colab": {}
      },
      "source": [
        "from keras.datasets import imdb\n",
        "from keras.preprocessing import sequence\n",
        "from keras import layers \n",
        "from keras.models import Sequential"
      ],
      "execution_count": 0,
      "outputs": []
    },
    {
      "cell_type": "code",
      "metadata": {
        "id": "QS24qVCt1Whi",
        "colab_type": "code",
        "colab": {
          "base_uri": "https://localhost:8080/",
          "height": 51
        },
        "outputId": "c694736d-417b-4eb2-e75d-80af7452810c"
      },
      "source": [
        "# Number of words to consider as features - each element of a sample tensor\n",
        "# will thus be encoded using integers in [0, 10000)\n",
        "max_features = 10000\n",
        "\n",
        "# Cuts off texts after this number of words (among the max_features most common words)\n",
        "maxlen = 500\n",
        "\n",
        "# Load data\n",
        "(x_train, y_train), (x_test, y_test) = imdb.load_data(num_words=max_features)"
      ],
      "execution_count": 80,
      "outputs": [
        {
          "output_type": "stream",
          "text": [
            "Downloading data from https://s3.amazonaws.com/text-datasets/imdb.npz\n",
            "17465344/17464789 [==============================] - 2s 0us/step\n"
          ],
          "name": "stdout"
        }
      ]
    },
    {
      "cell_type": "code",
      "metadata": {
        "id": "vZRVk6FU1u4Z",
        "colab_type": "code",
        "colab": {}
      },
      "source": [
        "# Reverse sequences \n",
        "x_train = [x[::-1] for x in x_train]\n",
        "x_test = [x[::-1] for x in x_test]"
      ],
      "execution_count": 0,
      "outputs": []
    },
    {
      "cell_type": "code",
      "metadata": {
        "id": "enDT_CZ811rd",
        "colab_type": "code",
        "colab": {}
      },
      "source": [
        "# Pad sequences so that they have the same length - 500 words\n",
        "x_train = sequence.pad_sequences(x_train, maxlen=maxlen)\n",
        "x_test = sequence.pad_sequences(x_test, maxlen=maxlen)"
      ],
      "execution_count": 0,
      "outputs": []
    },
    {
      "cell_type": "code",
      "metadata": {
        "id": "wGXWMqHl3xsA",
        "colab_type": "code",
        "colab": {}
      },
      "source": [
        "# Instantiate\n",
        "model = Sequential()\n",
        "\n",
        "# Add layers\n",
        "model.add(layers.Embedding(max_features, 128))\n",
        "model.add(layers.LSTM(32))\n",
        "model.add(layers.Dense(1, activation='sigmoid'))\n",
        "\n",
        "# Compile\n",
        "model.compile(loss='binary_crossentropy', optimizer='adam', metrics=['acc'])"
      ],
      "execution_count": 0,
      "outputs": []
    },
    {
      "cell_type": "code",
      "metadata": {
        "id": "f-PznurS4BqL",
        "colab_type": "code",
        "colab": {
          "base_uri": "https://localhost:8080/",
          "height": 394
        },
        "outputId": "8c352392-5d8b-49f7-b838-d26d95fad564"
      },
      "source": [
        "# Train\n",
        "history = model.fit(x_train, y_train, epochs=10, batch_size=128, \n",
        "                    validation_split=0.2)"
      ],
      "execution_count": 90,
      "outputs": [
        {
          "output_type": "stream",
          "text": [
            "Train on 20000 samples, validate on 5000 samples\n",
            "Epoch 1/10\n",
            "20000/20000 [==============================] - 121s 6ms/step - loss: 0.5180 - acc: 0.7308 - val_loss: 0.3571 - val_acc: 0.8636\n",
            "Epoch 2/10\n",
            "20000/20000 [==============================] - 121s 6ms/step - loss: 0.2908 - acc: 0.8892 - val_loss: 0.3470 - val_acc: 0.8752\n",
            "Epoch 3/10\n",
            "20000/20000 [==============================] - 119s 6ms/step - loss: 0.2143 - acc: 0.9220 - val_loss: 0.3342 - val_acc: 0.8768\n",
            "Epoch 4/10\n",
            "20000/20000 [==============================] - 119s 6ms/step - loss: 0.2037 - acc: 0.9234 - val_loss: 0.3634 - val_acc: 0.8620\n",
            "Epoch 5/10\n",
            "20000/20000 [==============================] - 120s 6ms/step - loss: 0.1347 - acc: 0.9552 - val_loss: 0.3956 - val_acc: 0.8656\n",
            "Epoch 6/10\n",
            "20000/20000 [==============================] - 119s 6ms/step - loss: 0.1102 - acc: 0.9655 - val_loss: 0.4460 - val_acc: 0.8664\n",
            "Epoch 7/10\n",
            "20000/20000 [==============================] - 118s 6ms/step - loss: 0.1216 - acc: 0.9597 - val_loss: 0.4625 - val_acc: 0.8506\n",
            "Epoch 8/10\n",
            "20000/20000 [==============================] - 120s 6ms/step - loss: 0.1282 - acc: 0.9553 - val_loss: 0.4515 - val_acc: 0.8534\n",
            "Epoch 9/10\n",
            "20000/20000 [==============================] - 120s 6ms/step - loss: 0.0925 - acc: 0.9692 - val_loss: 0.5756 - val_acc: 0.8550\n",
            "Epoch 10/10\n",
            "20000/20000 [==============================] - 119s 6ms/step - loss: 0.0670 - acc: 0.9805 - val_loss: 0.5240 - val_acc: 0.8556\n"
          ],
          "name": "stdout"
        }
      ]
    },
    {
      "cell_type": "code",
      "metadata": {
        "id": "5wwbshZ-4VGW",
        "colab_type": "code",
        "colab": {
          "base_uri": "https://localhost:8080/",
          "height": 803
        },
        "outputId": "609f3a02-57e1-4006-b6ab-ab5d8ea3e07b"
      },
      "source": [
        "plot_history(history, plot_metrics=True, title_str='LSTM IMDb (Antichronological)')"
      ],
      "execution_count": 95,
      "outputs": [
        {
          "output_type": "display_data",
          "data": {
            "image/png": "[encoded data removed]",
            "text/plain": [
              "<Figure size 864x432 with 1 Axes>"
            ]
          },
          "metadata": {
            "tags": []
          }
        },
        {
          "output_type": "display_data",
          "data": {
            "image/png": "[encoded data removed]",
            "text/plain": [
              "<Figure size 864x432 with 1 Axes>"
            ]
          },
          "metadata": {
            "tags": []
          }
        }
      ]
    },
    {
      "cell_type": "markdown",
      "metadata": {
        "id": "_WW1fFyW6JaT",
        "colab_type": "text"
      },
      "source": [
        "### Bidirectional LSTM - `IMDb`\n",
        "\n",
        "We've just established the following\n",
        "- LSTM model trained on antichronological data performs almost as well as one trained on chronological data.\n",
        "- Order of words in a sequence in NLP matters, but a **specific** order does not.\n",
        "- Models trained on chronological and antichronologial sequences of data will extract different meaningful representations of the same data - these representations complement each other.\n",
        "- Bidirectional LSTMs capture different aspects of the data: combine chronological with antichronological sequences. \n",
        "- Bidirectional models in `keras` take an RNN layer as an input and make two versions of it\n",
        "  - one that processes data in forward sequence\n",
        "  - one that processes data in reverse sequence"
      ]
    },
    {
      "cell_type": "code",
      "metadata": {
        "id": "g_c7AYAK6sdM",
        "colab_type": "code",
        "colab": {}
      },
      "source": [
        "# Instantiate\n",
        "model = Sequential()\n",
        "model.add(layers.Embedding(max_features, 32))\n",
        "model.add(layers.Bidirectional(layers.LSTM(32)))\n",
        "model.add(layers.Dense(1, activation='sigmoid'))\n",
        "\n",
        "# Compile\n",
        "model.compile(optimizer='adam', loss='binary_crossentropy', metrics=['acc'])"
      ],
      "execution_count": 0,
      "outputs": []
    },
    {
      "cell_type": "code",
      "metadata": {
        "id": "kwEK9GQQ7A_I",
        "colab_type": "code",
        "colab": {}
      },
      "source": [
        "# Train - on the JENA Climate data, not IMDB -> use generators\n",
        "history = model.fit_generator(train_gen, \n",
        "                              steps_per_epoch=100,\n",
        "                              epochs=20, \n",
        "                              validation_data=val_gen,\n",
        "                              validation_steps=val_steps // 5)"
      ],
      "execution_count": 0,
      "outputs": []
    },
    {
      "cell_type": "code",
      "metadata": {
        "id": "p1TV9kzu8zLj",
        "colab_type": "code",
        "colab": {
          "base_uri": "https://localhost:8080/",
          "height": 412
        },
        "outputId": "72b05266-3406-47d2-cfcc-fa64ed8b4df6"
      },
      "source": [
        "plot_history(history, plot_metrics=False, title_str='Bidirectional LSTM - JENA Climate')"
      ],
      "execution_count": 108,
      "outputs": [
        {
          "output_type": "display_data",
          "data": {
            "image/png": "[encoded data removed]",
            "text/plain": [
              "<Figure size 864x432 with 1 Axes>"
            ]
          },
          "metadata": {
            "tags": []
          }
        }
      ]
    },
    {
      "cell_type": "markdown",
      "metadata": {
        "id": "YZ6tmdX5Exge",
        "colab_type": "text"
      },
      "source": [
        "# 1-D CNNs\n",
        "\n",
        "- 1D CNNs operate in much the same way as their 2D counterparts for image processing.\n",
        "- 1D CNNs extract windows of specific timesteps, convolve these windows with a weight matrix to transform these extracted patches, then downsample these patches using a pooling operation to reduce length of 1D inputs.\n",
        "- 1D CNNs therefore learn patterns from patches that are translation invariant: a pattern learned at the beginning of a sequence during training will still be identified during testing even if it occurs at the end of the sequence. \n",
        "- However, this translation invariance makes CNNs insensitive to the order of timesteps: they will look for patterns anywhere within the sequence, and won't give preference to patterns occurring at earlier or later timesteps (which may be required for certain problems e.g. temperature forecasting).\n"
      ]
    },
    {
      "cell_type": "code",
      "metadata": {
        "id": "lIale9DUE0PE",
        "colab_type": "code",
        "colab": {}
      },
      "source": [
        "from keras.models import Sequential\n",
        "from keras import layers\n",
        "from keras.optimizers import RMSprop"
      ],
      "execution_count": 0,
      "outputs": []
    },
    {
      "cell_type": "code",
      "metadata": {
        "id": "ACeA8KIFE3o9",
        "colab_type": "code",
        "colab": {}
      },
      "source": [
        "model = Sequential()\n",
        "\n",
        "model.add(layers.Conv1D(32, 5, activation='relu', input_shape=(None, float_data.shape[-1])))\n",
        "model.add(layers.MaxPooling1D(3))\n",
        "\n",
        "model.add(layers.Conv1D(32, 5, activation='relu'))\n",
        "model.add(layers.MaxPooling1D(3))\n",
        "\n",
        "model.add(layers.Conv1D(32, 5, activation='relu'))\n",
        "model.add(layers.GlobalMaxPooling1D())\n",
        "\n",
        "model.add(layers.Dense(1))"
      ],
      "execution_count": 0,
      "outputs": []
    },
    {
      "cell_type": "code",
      "metadata": {
        "id": "UY_uFeNqFNoi",
        "colab_type": "code",
        "colab": {}
      },
      "source": [
        "model.compile(optimizer=RMSprop(), loss='mae')"
      ],
      "execution_count": 0,
      "outputs": []
    },
    {
      "cell_type": "code",
      "metadata": {
        "id": "VuYDUDz_FQYv",
        "colab_type": "code",
        "colab": {
          "base_uri": "https://localhost:8080/",
          "height": 697
        },
        "outputId": "aeb22e01-bdfa-4b2b-c820-224e4211396b"
      },
      "source": [
        "history = model.fit_generator(train_gen, steps_per_epoch=500, \n",
        "                              epochs=20, \n",
        "                              validation_data=val_gen, \n",
        "                              validation_steps=val_steps)"
      ],
      "execution_count": 100,
      "outputs": [
        {
          "output_type": "stream",
          "text": [
            "Epoch 1/20\n",
            "500/500 [==============================] - 49s 98ms/step - loss: 0.4148 - val_loss: 0.4814\n",
            "Epoch 2/20\n",
            "500/500 [==============================] - 46s 91ms/step - loss: 0.3606 - val_loss: 0.4436\n",
            "Epoch 3/20\n",
            "500/500 [==============================] - 46s 92ms/step - loss: 0.3379 - val_loss: 0.4665\n",
            "Epoch 4/20\n",
            "500/500 [==============================] - 46s 91ms/step - loss: 0.3252 - val_loss: 0.4634\n",
            "Epoch 5/20\n",
            "500/500 [==============================] - 46s 92ms/step - loss: 0.3119 - val_loss: 0.4874\n",
            "Epoch 6/20\n",
            "500/500 [==============================] - 46s 92ms/step - loss: 0.3037 - val_loss: 0.4764\n",
            "Epoch 7/20\n",
            "500/500 [==============================] - 46s 92ms/step - loss: 0.2951 - val_loss: 0.4676\n",
            "Epoch 8/20\n",
            "500/500 [==============================] - 46s 92ms/step - loss: 0.2892 - val_loss: 0.4742\n",
            "Epoch 9/20\n",
            "500/500 [==============================] - 46s 92ms/step - loss: 0.2846 - val_loss: 0.4673\n",
            "Epoch 10/20\n",
            "500/500 [==============================] - 46s 92ms/step - loss: 0.2777 - val_loss: 0.4784\n",
            "Epoch 11/20\n",
            "500/500 [==============================] - 46s 92ms/step - loss: 0.2741 - val_loss: 0.4774\n",
            "Epoch 12/20\n",
            "500/500 [==============================] - 46s 91ms/step - loss: 0.2704 - val_loss: 0.4730\n",
            "Epoch 13/20\n",
            "500/500 [==============================] - 45s 91ms/step - loss: 0.2685 - val_loss: 0.5065\n",
            "Epoch 14/20\n",
            "500/500 [==============================] - 46s 91ms/step - loss: 0.2630 - val_loss: 0.4832\n",
            "Epoch 15/20\n",
            "500/500 [==============================] - 46s 92ms/step - loss: 0.2625 - val_loss: 0.4859\n",
            "Epoch 16/20\n",
            "500/500 [==============================] - 46s 92ms/step - loss: 0.2575 - val_loss: 0.4934\n",
            "Epoch 17/20\n",
            "500/500 [==============================] - 46s 91ms/step - loss: 0.2562 - val_loss: 0.4931\n",
            "Epoch 18/20\n",
            "500/500 [==============================] - 46s 93ms/step - loss: 0.2544 - val_loss: 0.5231\n",
            "Epoch 19/20\n",
            "500/500 [==============================] - 46s 91ms/step - loss: 0.2521 - val_loss: 0.4902\n",
            "Epoch 20/20\n",
            "500/500 [==============================] - 46s 93ms/step - loss: 0.2516 - val_loss: 0.4887\n"
          ],
          "name": "stdout"
        }
      ]
    },
    {
      "cell_type": "markdown",
      "metadata": {
        "id": "65bWQQsJFXT5",
        "colab_type": "text"
      },
      "source": [
        "# Combining CNNs with RNNs\n",
        "\n",
        "1D CNNs are much faster than RNNs at extracting features from sequence data, but aren't very good making predictions based on the temporal position of these features within the sequence. \n",
        "\n",
        "RNNs are very good at using the temporal position of features (where the features occur in a sequence - towards the beginning, end, or in the middle) - but are very slow at processing large sequences, and also suffer from information loss over several timesteps. \n",
        "\n",
        "The solution here is to use a 1D CNN as a preprocessing step to extract higher-level, more abstract features and turn the long input sequence into much shorter (downsampled) sequences. \n",
        "\n",
        "This downsampled sequence of higher-level features then becomes the input to the RNN."
      ]
    },
    {
      "cell_type": "markdown",
      "metadata": {
        "id": "kPH-MWyLIGGM",
        "colab_type": "text"
      },
      "source": [
        "## Redefining Generators"
      ]
    },
    {
      "cell_type": "code",
      "metadata": {
        "id": "W4znOe8wHT0A",
        "colab_type": "code",
        "colab": {}
      },
      "source": [
        "# CNNs allow us to look at longer sequences or sequences with more data points\n",
        "# So using a higher resolution - now data is sampled twice every hour instead of once\n",
        "step = 3 \n",
        "\n",
        "# Lookback is same - we are still using 5 days of data to make predictions\n",
        "lookback = 720\n",
        "\n",
        "# Delay is same - we are still going to predict the temperature 24 hours from now\n",
        "delay = 144"
      ],
      "execution_count": 0,
      "outputs": []
    },
    {
      "cell_type": "code",
      "metadata": {
        "id": "zyF9Xv_7Hpvc",
        "colab_type": "code",
        "colab": {}
      },
      "source": [
        "train_gen = generator(float_data, \n",
        "                      lookback=lookback, \n",
        "                      delay=delay, \n",
        "                      min_index=0, \n",
        "                      max_index=200000, \n",
        "                      shuffle=True, \n",
        "                      step=step)"
      ],
      "execution_count": 0,
      "outputs": []
    },
    {
      "cell_type": "code",
      "metadata": {
        "id": "6v34AFSoHxay",
        "colab_type": "code",
        "colab": {}
      },
      "source": [
        "val_gen = generator(float_data,\n",
        "                    lookback=lookback, \n",
        "                    delay=delay, \n",
        "                    min_index=200001, \n",
        "                    max_index=300000,\n",
        "                    step=step)"
      ],
      "execution_count": 0,
      "outputs": []
    },
    {
      "cell_type": "code",
      "metadata": {
        "id": "B2mloogPH3Nt",
        "colab_type": "code",
        "colab": {}
      },
      "source": [
        "test_gen = generator(float_data, \n",
        "                     lookback=lookback, \n",
        "                     delay=delay, \n",
        "                     min_index=300001, \n",
        "                     max_index=None, \n",
        "                     step=step)"
      ],
      "execution_count": 0,
      "outputs": []
    },
    {
      "cell_type": "code",
      "metadata": {
        "id": "cHMxVeNHH963",
        "colab_type": "code",
        "colab": {}
      },
      "source": [
        "val_steps = (300000 - 200001 - lookback) // 128 \n",
        "test_steps = (len(float_data) - 300001 - lookback) // 128"
      ],
      "execution_count": 0,
      "outputs": []
    },
    {
      "cell_type": "markdown",
      "metadata": {
        "id": "0nwWOJuDIEp5",
        "colab_type": "text"
      },
      "source": [
        "## Building Model: 1D CNN Base + GRU Layer"
      ]
    },
    {
      "cell_type": "code",
      "metadata": {
        "id": "MWJM9zPaIMQH",
        "colab_type": "code",
        "colab": {}
      },
      "source": [
        "from keras.models import Sequential\n",
        "from keras import layers\n",
        "from keras.optimizers import RMSprop"
      ],
      "execution_count": 0,
      "outputs": []
    },
    {
      "cell_type": "code",
      "metadata": {
        "id": "TU4KGBVqIQDp",
        "colab_type": "code",
        "colab": {}
      },
      "source": [
        "model = Sequential()\n",
        "\n",
        "model.add(layers.Conv1D(32, 5, activation='relu', \n",
        "                        input_shape=(None, float_data.shape[-1])))\n",
        "model.add(layers.MaxPooling1D(3))\n",
        "\n",
        "model.add(layers.Conv1D(32, 5, activation='relu'))\n",
        "\n",
        "model.add(layers.GRU(32, dropout=0.1, recurrent_dropout=0.5))\n",
        "\n",
        "model.add(layers.Dense(1))\n",
        "\n",
        "model.compile(optimizer=RMSprop(), loss='mae')"
      ],
      "execution_count": 0,
      "outputs": []
    },
    {
      "cell_type": "code",
      "metadata": {
        "id": "m9kJWO0FIhmb",
        "colab_type": "code",
        "colab": {
          "base_uri": "https://localhost:8080/",
          "height": 697
        },
        "outputId": "427454a8-8514-4a76-c222-690ea9c7aec8"
      },
      "source": [
        "history = model.fit_generator(train_gen, \n",
        "                              steps_per_epoch=500, \n",
        "                              epochs=20, \n",
        "                              validation_data=val_gen, \n",
        "                              validation_steps=val_steps)"
      ],
      "execution_count": 113,
      "outputs": [
        {
          "output_type": "stream",
          "text": [
            "Epoch 1/20\n",
            "500/500 [==============================] - 89s 177ms/step - loss: 0.3428 - val_loss: 0.3011\n",
            "Epoch 2/20\n",
            "500/500 [==============================] - 85s 169ms/step - loss: 0.3113 - val_loss: 0.2872\n",
            "Epoch 3/20\n",
            "500/500 [==============================] - 84s 169ms/step - loss: 0.2972 - val_loss: 0.2801\n",
            "Epoch 4/20\n",
            "500/500 [==============================] - 83s 166ms/step - loss: 0.2895 - val_loss: 0.2854\n",
            "Epoch 5/20\n",
            "500/500 [==============================] - 84s 167ms/step - loss: 0.2816 - val_loss: 0.2915\n",
            "Epoch 6/20\n",
            "500/500 [==============================] - 83s 167ms/step - loss: 0.2748 - val_loss: 0.2848\n",
            "Epoch 7/20\n",
            "500/500 [==============================] - 82s 165ms/step - loss: 0.2684 - val_loss: 0.2838\n",
            "Epoch 8/20\n",
            "500/500 [==============================] - 82s 163ms/step - loss: 0.2653 - val_loss: 0.2944\n",
            "Epoch 9/20\n",
            "500/500 [==============================] - 82s 163ms/step - loss: 0.2597 - val_loss: 0.2985\n",
            "Epoch 10/20\n",
            "500/500 [==============================] - 82s 165ms/step - loss: 0.2560 - val_loss: 0.2988\n",
            "Epoch 11/20\n",
            "500/500 [==============================] - 82s 163ms/step - loss: 0.2516 - val_loss: 0.2952\n",
            "Epoch 12/20\n",
            "500/500 [==============================] - 82s 164ms/step - loss: 0.2481 - val_loss: 0.2913\n",
            "Epoch 13/20\n",
            "500/500 [==============================] - 82s 164ms/step - loss: 0.2450 - val_loss: 0.3046\n",
            "Epoch 14/20\n",
            "500/500 [==============================] - 83s 165ms/step - loss: 0.2404 - val_loss: 0.2996\n",
            "Epoch 15/20\n",
            "500/500 [==============================] - 82s 165ms/step - loss: 0.2386 - val_loss: 0.2999\n",
            "Epoch 16/20\n",
            "500/500 [==============================] - 82s 164ms/step - loss: 0.2352 - val_loss: 0.3019\n",
            "Epoch 17/20\n",
            "500/500 [==============================] - 83s 165ms/step - loss: 0.2346 - val_loss: 0.3031\n",
            "Epoch 18/20\n",
            "500/500 [==============================] - 85s 169ms/step - loss: 0.2332 - val_loss: 0.3115\n",
            "Epoch 19/20\n",
            "500/500 [==============================] - 83s 167ms/step - loss: 0.2299 - val_loss: 0.3069\n",
            "Epoch 20/20\n",
            "500/500 [==============================] - 84s 167ms/step - loss: 0.2297 - val_loss: 0.3045\n"
          ],
          "name": "stdout"
        }
      ]
    },
    {
      "cell_type": "code",
      "metadata": {
        "id": "qbA7CwaMQ5xG",
        "colab_type": "code",
        "colab": {
          "base_uri": "https://localhost:8080/",
          "height": 412
        },
        "outputId": "7189f01f-6df8-4106-e566-162fff9ec917"
      },
      "source": [
        "plot_history(history, plot_metrics=False, title_str='CNN + Regularized GRU')"
      ],
      "execution_count": 114,
      "outputs": [
        {
          "output_type": "display_data",
          "data": {
            "image/png": "[encoded data removed]",
            "text/plain": [
              "<Figure size 864x432 with 1 Axes>"
            ]
          },
          "metadata": {
            "tags": []
          }
        }
      ]
    },
    {
      "cell_type": "markdown",
      "metadata": {
        "id": "eL0bMnaRQ_JU",
        "colab_type": "text"
      },
      "source": [
        "Not much improvement in temperature prediction over the original GRU model, but must take into account that it offers comparable performance with much lower training time.\n",
        "\n",
        "This is the advantage of using 1D CNNs with RNNs: by downsampling input sequences and extracting high-level features, they can speed up predictions with recurrent networks."
      ]
    }
  ]
}