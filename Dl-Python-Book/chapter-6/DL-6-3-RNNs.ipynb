{
 "cells": [
  {
   "cell_type": "markdown",
   "metadata": {},
   "source": [
    "# Deep Learning with Python \n",
    "# 6.3 - Recurrent Neural Networks\n",
    "\n",
    "All neural networks we have seen so far do not maintain **state** between processing inputs. This means that each input is processed independently, and previous inputs do not affect the gradient updates to the weights of a model for the current input. \n",
    "\n",
    "To get around this problem, we fed each sequence of inputs to the NN in one go. E.g. each IMDb review can be considered as a sequence of words, but the NN will receive the entire review in one go instead of parsing it word by word (or word-vector by word-vector).\n",
    "\n",
    "RNN **maintains a state between inputs** but the **state is reset between samples**. The output of the current input will act as a feedback input along with the next input for a given sample. In this case, each sample is a sequence of inputs. \n",
    "\n",
    "This is called the **forward pass**"
   ]
  },
  {
   "cell_type": "markdown",
   "metadata": {},
   "source": [
    "## Forward Pass of an RNN\n",
    "- RNN takes as input a sequence of vectors (encoded as 2D `numpy` tensors). \n",
    "- Loops over timesteps and after each timestep it considers its urrent state at `t` and the input at `t` (of shape `input_features`) and combines them to obtain the output at `t`.\n",
    "- Then sets the state for the next step. "
   ]
  },
  {
   "cell_type": "code",
   "execution_count": null,
   "metadata": {},
   "outputs": [],
   "source": [
    "# The state at t - initially this will be 0\n",
    "state_t = 0 \n",
    "\n",
    "# Iterate over sequence elements\n",
    "for input_t in input_seqence:\n",
    "    # Uses the current input and state to compute output\n",
    "    output_t = f(input_t, state_t)"
   ]
  },
  {
   "cell_type": "markdown",
   "metadata": {},
   "source": [
    "Assume that the transformation of the current input and the current state to produce the current output uses kernel matrices `W` and `U` along with a bias vector `b."
   ]
  },
  {
   "cell_type": "code",
   "execution_count": null,
   "metadata": {},
   "outputs": [],
   "source": [
    "state_t = 0\n",
    "for input_t in input_sequence:\n",
    "    output_t = activation(dot(W, input_t) + dot(U, state_t) + b)\n",
    "    state_t = output_t"
   ]
  },
  {
   "cell_type": "markdown",
   "metadata": {},
   "source": [
    "Writing a complete naive `numpy` implementation of an RNN's update based on an input and state."
   ]
  },
  {
   "cell_type": "code",
   "execution_count": 8,
   "metadata": {},
   "outputs": [],
   "source": [
    "import numpy as np"
   ]
  },
  {
   "cell_type": "code",
   "execution_count": 9,
   "metadata": {},
   "outputs": [],
   "source": [
    "timesteps = 100\n",
    "\n",
    "# Dimensionality of the input feature space\n",
    "input_features = 32\n",
    "\n",
    "# Dimensionality of the output feature space\n",
    "output_features = 64\n",
    "\n",
    "# Input data is random noise for the sake of this example\n",
    "# At each of the timesteps, we have the same number of features\n",
    "inputs = np.random.random((timesteps, input_features))"
   ]
  },
  {
   "cell_type": "code",
   "execution_count": 10,
   "metadata": {},
   "outputs": [],
   "source": [
    "# Initial state (prior to any training) will be all zeros\n",
    "state_t = np.zeros((output_features,))"
   ]
  },
  {
   "cell_type": "code",
   "execution_count": 11,
   "metadata": {},
   "outputs": [],
   "source": [
    "# Defining random weight matrices\n",
    "W = np.random.random((output_features, input_features))\n",
    "U = np.random.random((output_features, output_features))\n",
    "b = np.random.random((output_features, ))"
   ]
  },
  {
   "cell_type": "code",
   "execution_count": 12,
   "metadata": {},
   "outputs": [],
   "source": [
    "# Create an empty list to store the outputs produced at each timestep\n",
    "successive_outputs = []"
   ]
  },
  {
   "cell_type": "code",
   "execution_count": 13,
   "metadata": {},
   "outputs": [],
   "source": [
    "# `input_t` is a vector of shape (input_features, )\n",
    "for input_t in inputs:\n",
    "    # Using the hyperbolic tangent activation function\n",
    "    output_t = np.tanh(np.dot(W, input_t) + np.dot(U, state_t) + b)\n",
    "    \n",
    "    # Append this outout to the list of computed outputs\n",
    "    successive_outputs.append(output_t)\n",
    "    \n",
    "    # The state for the next timestep will be the current output\n",
    "    state_t = output_t"
   ]
  },
  {
   "cell_type": "code",
   "execution_count": 14,
   "metadata": {},
   "outputs": [],
   "source": [
    "# The final output is a 2D tensor of shape `(timesteps, output_features)`\n",
    "final_output_sequence = np.concatenate(successive_outputs, axis=0)"
   ]
  },
  {
   "cell_type": "markdown",
   "metadata": {},
   "source": [
    "This is the simplest variant of an RNN. Many other RNN architectures exist, and all of them have different ways of using the current output or state as an input in computing the next state. \n",
    "\n",
    "The output of the RNN is a tensor of shape `(timesteps, output_features)`. The output features for timestep `t` will contain information about outputs of **all timesteps up to and including `t`**. This means we don't often need the entire output tensor for an RNN, and are mostly interested in the final O/P."
   ]
  },
  {
   "cell_type": "markdown",
   "metadata": {},
   "source": [
    "## RNN and Return Sequences\n",
    "When using the `keras` RNN layer, we have the option of specifying whether we want a 3D output tensor which contains all output features for all timesteps for all samples in the batch, or whether we want only the last output for each input sequence. \n",
    "\n",
    "These are controlled by the `return_sequences` constructor argument."
   ]
  },
  {
   "cell_type": "markdown",
   "metadata": {},
   "source": [
    "### Returns only the Last Output for Each Sequence"
   ]
  },
  {
   "cell_type": "code",
   "execution_count": 15,
   "metadata": {},
   "outputs": [],
   "source": [
    "from tensorflow.keras.models import Sequential\n",
    "from tensorflow.keras.layers import Embedding, SimpleRNN"
   ]
  },
  {
   "cell_type": "code",
   "execution_count": 16,
   "metadata": {},
   "outputs": [
    {
     "name": "stdout",
     "output_type": "stream",
     "text": [
      "WARNING:tensorflow:From C:\\Users\\saads\\Anaconda3\\lib\\site-packages\\tensorflow\\python\\ops\\resource_variable_ops.py:435: colocate_with (from tensorflow.python.framework.ops) is deprecated and will be removed in a future version.\n",
      "Instructions for updating:\n",
      "Colocations handled automatically by placer.\n"
     ]
    }
   ],
   "source": [
    "model = Sequential()\n",
    "\n",
    "# Embedding layer will accept samples containing upto 10000\n",
    "# different words and will encode each word as a 32-dimensional vector\n",
    "model.add(Embedding(10000, 32))\n",
    "\n",
    "# Recurrent layer\n",
    "model.add(SimpleRNN(32))"
   ]
  },
  {
   "cell_type": "code",
   "execution_count": 17,
   "metadata": {},
   "outputs": [
    {
     "name": "stdout",
     "output_type": "stream",
     "text": [
      "_________________________________________________________________\n",
      "Layer (type)                 Output Shape              Param #   \n",
      "=================================================================\n",
      "embedding (Embedding)        (None, None, 32)          320000    \n",
      "_________________________________________________________________\n",
      "simple_rnn (SimpleRNN)       (None, 32)                2080      \n",
      "=================================================================\n",
      "Total params: 322,080\n",
      "Trainable params: 322,080\n",
      "Non-trainable params: 0\n",
      "_________________________________________________________________\n"
     ]
    }
   ],
   "source": [
    "model.summary()"
   ]
  },
  {
   "cell_type": "markdown",
   "metadata": {},
   "source": [
    "### Returns the Full State Sequence"
   ]
  },
  {
   "cell_type": "code",
   "execution_count": 18,
   "metadata": {},
   "outputs": [
    {
     "name": "stdout",
     "output_type": "stream",
     "text": [
      "_________________________________________________________________\n",
      "Layer (type)                 Output Shape              Param #   \n",
      "=================================================================\n",
      "embedding_1 (Embedding)      (None, None, 32)          320000    \n",
      "_________________________________________________________________\n",
      "simple_rnn_1 (SimpleRNN)     (None, None, 32)          2080      \n",
      "=================================================================\n",
      "Total params: 322,080\n",
      "Trainable params: 322,080\n",
      "Non-trainable params: 0\n",
      "_________________________________________________________________\n"
     ]
    }
   ],
   "source": [
    "model = Sequential()\n",
    "model.add(Embedding(10000, 32))\n",
    "model.add(SimpleRNN(32, return_sequences=True))\n",
    "model.summary()"
   ]
  },
  {
   "cell_type": "markdown",
   "metadata": {},
   "source": [
    "## Tracking Multiple Recurrent Layers\n",
    "Stacking multiple recurrent layers in sequence increases the representational power of a network. To do this, all intermediate recurrent layers must return the full sequences. Can't just return the last output."
   ]
  },
  {
   "cell_type": "code",
   "execution_count": 19,
   "metadata": {},
   "outputs": [],
   "source": [
    "model = Sequential()\n",
    "model.add(Embedding(10000, 32))\n",
    "model.add(SimpleRNN(32, return_sequences=True))\n",
    "model.add(SimpleRNN(32, return_sequences=True))\n",
    "model.add(SimpleRNN(32, return_sequences=True))\n",
    "\n",
    "# for the last recurrent layer, we need not return outputs for all timesteps\n",
    "model.add(SimpleRNN(32))"
   ]
  },
  {
   "cell_type": "code",
   "execution_count": 20,
   "metadata": {},
   "outputs": [
    {
     "name": "stdout",
     "output_type": "stream",
     "text": [
      "_________________________________________________________________\n",
      "Layer (type)                 Output Shape              Param #   \n",
      "=================================================================\n",
      "embedding_2 (Embedding)      (None, None, 32)          320000    \n",
      "_________________________________________________________________\n",
      "simple_rnn_2 (SimpleRNN)     (None, None, 32)          2080      \n",
      "_________________________________________________________________\n",
      "simple_rnn_3 (SimpleRNN)     (None, None, 32)          2080      \n",
      "_________________________________________________________________\n",
      "simple_rnn_4 (SimpleRNN)     (None, None, 32)          2080      \n",
      "_________________________________________________________________\n",
      "simple_rnn_5 (SimpleRNN)     (None, 32)                2080      \n",
      "=================================================================\n",
      "Total params: 328,320\n",
      "Trainable params: 328,320\n",
      "Non-trainable params: 0\n",
      "_________________________________________________________________\n"
     ]
    }
   ],
   "source": [
    "model.summary()"
   ]
  },
  {
   "cell_type": "markdown",
   "metadata": {},
   "source": [
    "## IMDb RNN\n",
    "Using a recurrent neural network on the IMDb movie dataset. "
   ]
  },
  {
   "cell_type": "markdown",
   "metadata": {},
   "source": [
    "### Importing Dataset"
   ]
  },
  {
   "cell_type": "code",
   "execution_count": 21,
   "metadata": {},
   "outputs": [],
   "source": [
    "from tensorflow.keras.datasets import imdb\n",
    "from tensorflow.keras.preprocessing import sequence"
   ]
  },
  {
   "cell_type": "code",
   "execution_count": 22,
   "metadata": {},
   "outputs": [],
   "source": [
    "# Number of words to consider as features\n",
    "max_features = 10000\n",
    "\n",
    "# Cuts off texts after this many words (among max_features most common words)\n",
    "maxlen = 500\n",
    "\n",
    "# The RNN will process the reviews in batches of 32\n",
    "batch_size = 32"
   ]
  },
  {
   "cell_type": "code",
   "execution_count": 23,
   "metadata": {},
   "outputs": [],
   "source": [
    "# for loading IMDB dataset from a pickle file\n",
    "import numpy as np\n",
    "# save np.load\n",
    "np_load_old = np.load\n",
    "\n",
    "# modify the default parameters of np.load\n",
    "np.load = lambda *a,**k: np_load_old(*a, allow_pickle=True, **k)\n",
    "\n",
    "# call load_data with allow_pickle implicitly set to true\n",
    "# Data is loaded as lists of integers\n",
    "(x_train, y_train), (x_test, y_test) = imdb.load_data(num_words=max_features)\n",
    "\n",
    "# restore np.load for future normal usage\n",
    "np.load = np_load_old"
   ]
  },
  {
   "cell_type": "code",
   "execution_count": 24,
   "metadata": {},
   "outputs": [
    {
     "name": "stdout",
     "output_type": "stream",
     "text": [
      "25000 train sequences\n",
      "25000 test sequences\n"
     ]
    }
   ],
   "source": [
    "# Checking the number of training and test sequences \n",
    "print(len(x_train), 'train sequences')\n",
    "print(len(x_test), 'test sequences')"
   ]
  },
  {
   "cell_type": "code",
   "execution_count": 25,
   "metadata": {},
   "outputs": [
    {
     "name": "stdout",
     "output_type": "stream",
     "text": [
      "Pad Sequences (samples x time)\n"
     ]
    }
   ],
   "source": [
    "print('Pad Sequences (samples x time)')\n",
    "input_train = sequence.pad_sequences(x_train, maxlen=maxlen)\n",
    "input_test = sequence.pad_sequences(x_test, maxlen=maxlen)"
   ]
  },
  {
   "cell_type": "code",
   "execution_count": 27,
   "metadata": {},
   "outputs": [
    {
     "data": {
      "text/plain": [
       "(25000, 500)"
      ]
     },
     "execution_count": 27,
     "metadata": {},
     "output_type": "execute_result"
    }
   ],
   "source": [
    "input_train.shape"
   ]
  },
  {
   "cell_type": "code",
   "execution_count": 29,
   "metadata": {},
   "outputs": [
    {
     "data": {
      "text/plain": [
       "(25000, 500)"
      ]
     },
     "execution_count": 29,
     "metadata": {},
     "output_type": "execute_result"
    }
   ],
   "source": [
    "input_test.shape"
   ]
  },
  {
   "cell_type": "code",
   "execution_count": 28,
   "metadata": {},
   "outputs": [
    {
     "name": "stdout",
     "output_type": "stream",
     "text": [
      "x_train shape:  (25000,)\n",
      "x_test shape:  (25000,)\n"
     ]
    }
   ],
   "source": [
    "print('x_train shape: ', x_train.shape)\n",
    "print('x_test shape: ', x_test.shape)"
   ]
  },
  {
   "cell_type": "markdown",
   "metadata": {},
   "source": [
    "### Instantiating a Sequential Model"
   ]
  },
  {
   "cell_type": "code",
   "execution_count": 29,
   "metadata": {},
   "outputs": [],
   "source": [
    "from tensorflow.keras.models import Sequential"
   ]
  },
  {
   "cell_type": "code",
   "execution_count": 30,
   "metadata": {},
   "outputs": [],
   "source": [
    "from tensorflow.keras.layers import Dense, Embedding, SimpleRNN"
   ]
  },
  {
   "cell_type": "code",
   "execution_count": 31,
   "metadata": {},
   "outputs": [],
   "source": [
    "# Instantiate a sequential model\n",
    "model = Sequential()\n",
    "\n",
    "# First layer will convert sequences containing upto 10k words\n",
    "# into 32-dimensional vectors\n",
    "model.add(Embedding(max_features, 32))\n",
    "\n",
    "# Simple RNN layer\n",
    "model.add(SimpleRNN(32))\n",
    "\n",
    "# Binary classification so a single unit that predicts a \n",
    "# probability between 0 and 1 that input belongs to positive class\n",
    "model.add(Dense(1, activation='sigmoid'))"
   ]
  },
  {
   "cell_type": "markdown",
   "metadata": {},
   "source": [
    "### Compiling the Model"
   ]
  },
  {
   "cell_type": "code",
   "execution_count": 32,
   "metadata": {},
   "outputs": [],
   "source": [
    "model.compile(optimizer='rmsprop', \n",
    "             loss='binary_crossentropy', \n",
    "             metrics=['acc'])"
   ]
  },
  {
   "cell_type": "markdown",
   "metadata": {},
   "source": [
    "### Training the Model"
   ]
  },
  {
   "cell_type": "code",
   "execution_count": 30,
   "metadata": {},
   "outputs": [
    {
     "name": "stdout",
     "output_type": "stream",
     "text": [
      "Train on 20000 samples, validate on 5000 samples\n",
      "Epoch 1/10\n",
      "20000/20000 [==============================] - 27s 1ms/sample - loss: 0.5392 - acc: 0.7230 - val_loss: 0.4069 - val_acc: 0.8280\n",
      "Epoch 2/10\n",
      "20000/20000 [==============================] - 30s 1ms/sample - loss: 0.3387 - acc: 0.8619 - val_loss: 0.4118 - val_acc: 0.8094\n",
      "Epoch 3/10\n",
      "20000/20000 [==============================] - 31s 2ms/sample - loss: 0.2643 - acc: 0.8970 - val_loss: 0.4542 - val_acc: 0.7906\n",
      "Epoch 4/10\n",
      "20000/20000 [==============================] - 31s 2ms/sample - loss: 0.2175 - acc: 0.9182 - val_loss: 0.3658 - val_acc: 0.8488\n",
      "Epoch 5/10\n",
      "20000/20000 [==============================] - 34s 2ms/sample - loss: 0.1708 - acc: 0.9388 - val_loss: 0.3683 - val_acc: 0.8620\n",
      "Epoch 6/10\n",
      "20000/20000 [==============================] - 32s 2ms/sample - loss: 0.1319 - acc: 0.9543 - val_loss: 0.4009 - val_acc: 0.8646\n",
      "Epoch 7/10\n",
      "20000/20000 [==============================] - 32s 2ms/sample - loss: 0.0972 - acc: 0.9675 - val_loss: 0.4487 - val_acc: 0.8378\n",
      "Epoch 8/10\n",
      "20000/20000 [==============================] - 32s 2ms/sample - loss: 0.0664 - acc: 0.9782 - val_loss: 0.6901 - val_acc: 0.8018\n",
      "Epoch 9/10\n",
      "20000/20000 [==============================] - 33s 2ms/sample - loss: 0.0503 - acc: 0.9844 - val_loss: 0.5258 - val_acc: 0.8402\n",
      "Epoch 10/10\n",
      "20000/20000 [==============================] - 34s 2ms/sample - loss: 0.0376 - acc: 0.9886 - val_loss: 0.6062 - val_acc: 0.8442\n"
     ]
    }
   ],
   "source": [
    "history = model.fit(input_train, y_train, \n",
    "                   epochs=10, batch_size=128,\n",
    "                   validation_split=0.2)"
   ]
  },
  {
   "cell_type": "markdown",
   "metadata": {},
   "source": [
    "### Visualizing Results"
   ]
  },
  {
   "cell_type": "code",
   "execution_count": 33,
   "metadata": {},
   "outputs": [],
   "source": [
    "import matplotlib.pyplot as plt\n",
    "%matplotlib inline"
   ]
  },
  {
   "cell_type": "code",
   "execution_count": 36,
   "metadata": {},
   "outputs": [],
   "source": [
    "# Extracting data\n",
    "acc = history.history['acc']\n",
    "val_acc = history.history['val_acc']\n",
    "loss = history.history['loss']\n",
    "val_loss = history.history['val_loss']\n",
    "epochs = range(1, len(acc) + 1)"
   ]
  },
  {
   "cell_type": "code",
   "execution_count": 37,
   "metadata": {},
   "outputs": [
    {
     "data": {
      "text/plain": [
       "Text(0.5, 1.0, 'RNN IMDb - Accuracy')"
      ]
     },
     "execution_count": 37,
     "metadata": {},
     "output_type": "execute_result"
    },
    {
     "data": {
      "image/png": "[encoded data removed]",
      "text/plain": [
       "<Figure size 432x288 with 1 Axes>"
      ]
     },
     "metadata": {
      "needs_background": "light"
     },
     "output_type": "display_data"
    }
   ],
   "source": [
    "# Plotting accuracy\n",
    "plt.plot(epochs, acc, 'bo', label='Training Accuracy')\n",
    "plt.plot(epochs, val_acc, 'b-', label='Validation Accuracy')\n",
    "plt.xlabel('Epochs'); plt.ylabel('Accuracy'); plt.grid(True)\n",
    "plt.legend(); plt.title('RNN IMDb - Accuracy')"
   ]
  },
  {
   "cell_type": "code",
   "execution_count": 38,
   "metadata": {},
   "outputs": [
    {
     "data": {
      "text/plain": [
       "Text(0.5, 1.0, 'RNN IMDb - Loss')"
      ]
     },
     "execution_count": 38,
     "metadata": {},
     "output_type": "execute_result"
    },
    {
     "data": {
      "image/png": "[encoded data removed]",
      "text/plain": [
       "<Figure size 432x288 with 1 Axes>"
      ]
     },
     "metadata": {
      "needs_background": "light"
     },
     "output_type": "display_data"
    }
   ],
   "source": [
    "# Plotting loss\n",
    "plt.plot(epochs, loss, 'bo', label='Training Loss')\n",
    "plt.plot(epochs, val_loss, 'b-', label='Validation Loss')\n",
    "plt.xlabel('Epochs'); plt.ylabel('Loss'); plt.grid(True);\n",
    "plt.legend(); plt.title('RNN IMDb - Loss')"
   ]
  },
  {
   "cell_type": "markdown",
   "metadata": {},
   "source": [
    "## `LSTM` \n",
    "- Long short term memory\n",
    "- A kind of RNN layer that allows RNNs to bypass the **vanishing gradient** problem: adding more and more SimpleRNN layers to the model will make it untrainable.\n",
    "- This is because the backpropagation gradients will become too small to make meaningful updates to the weights of the RNN layer.\n",
    "- So SimpleRNN layers cannot remember information about a sufficiently large number of timesteps.\n",
    "- LSTM layers bypass this problem by including a **carry track** - best visualized as a \"conveyor belt\" running parallel to the I/O tracks of an RNN.\n",
    "- Information from any timestep can be placed on the carry track and \"fast forwarded\" to a RNN block later in the model.\n",
    "\n",
    "### Some Mathematics\n",
    "- The LSTM layer will still compute an output using an input and a state, but will also use the **carry** produced by the previous step.\n",
    "- `output_t  = activation(dot(W_o, input_t) + dot(U_o, state_t) + dot(V_0, c_t) + b_o)` where `W_o, U_o, V_o` are all weight matrices or kernels for calculating an output using the input, state, and carry at time t, while `b_0` is the biasing vector. \n",
    "- The carry `c_t+1` for any given step is computed using a product of three different vectors for each LSTM timestep - `i_t, f_t, k_t`.\n",
    "- These are computed using three different versions of weight matrices and biases using an activation function and dot products.\n",
    "- Concretely\n",
    "    - `i_t = activation(dot(W_i, input_t) + dot(U_i, input_t) + b_i`\n",
    "    - `k_t = activation(dot(W_k, input_t) + dot(U_k, input_t) + b_k`\n",
    "    - `f_t = activation(dot(W_f, input_t) + dot(U_f, input_t) + b_f`\n",
    "    - `c_t+1 = i_t x k_t + c_t x f_t`\n",
    "\n",
    "### Interpretation\n",
    "- There is no point in trying to interpret the role `i`, `k`, or `f` or their products play in computing the `c_t` for any given LSTM layer.\n",
    "- This is because their products and their significance depends a lot on the actual values of the weight matrices.\n",
    "- These weight matrices are different for each training cycle, so there is no standard function of each term.\n",
    "- THe specification of an RNN cell (`i`, `f`, `k`, and the weight matrices) defines the hypothesis space - the space in which we will search for a good model configuration - but **not what the cell does - this depends on the cell weights**.\n",
    "- Think of the combinatio ns of operations making up an RNN cell as a **set of constraints** on your search for the optimal model, and not **design** in the engineering sense."
   ]
  },
  {
   "cell_type": "markdown",
   "metadata": {},
   "source": [
    "## Concrete `LSTM` Example"
   ]
  },
  {
   "cell_type": "code",
   "execution_count": 33,
   "metadata": {},
   "outputs": [],
   "source": [
    "from tensorflow.keras.layers import LSTM"
   ]
  },
  {
   "cell_type": "code",
   "execution_count": 34,
   "metadata": {},
   "outputs": [],
   "source": [
    "# Instantiate a sequential model\n",
    "model = Sequential()\n",
    "\n",
    "# First layer will still be an embedding layer that will\n",
    "# encode words as 32-dimension vectors\n",
    "model.add(Embedding(max_features, 32))\n",
    "\n",
    "# A 32 cell ? LSTM model\n",
    "model.add(LSTM(32))\n",
    "\n",
    "# Add the final classification layer\n",
    "model.add(Dense(1, activation='sigmoid'))"
   ]
  },
  {
   "cell_type": "code",
   "execution_count": 35,
   "metadata": {},
   "outputs": [],
   "source": [
    "model.compile(optimizer='rmsprop',\n",
    "             loss='binary_crossentropy', \n",
    "             metrics=['acc'])"
   ]
  },
  {
   "cell_type": "code",
   "execution_count": 36,
   "metadata": {},
   "outputs": [
    {
     "name": "stdout",
     "output_type": "stream",
     "text": [
      "Train on 20000 samples, validate on 5000 samples\n",
      "WARNING:tensorflow:From C:\\Users\\saads\\Anaconda3\\lib\\site-packages\\tensorflow\\python\\ops\\math_ops.py:3066: to_int32 (from tensorflow.python.ops.math_ops) is deprecated and will be removed in a future version.\n",
      "Instructions for updating:\n",
      "Use tf.cast instead.\n",
      "Epoch 1/10\n",
      "20000/20000 [==============================] - 130s 7ms/sample - loss: 0.5149 - acc: 0.7534 - val_loss: 0.3315 - val_acc: 0.8706\n",
      "Epoch 2/10\n",
      "20000/20000 [==============================] - 123s 6ms/sample - loss: 0.2939 - acc: 0.8850 - val_loss: 0.4016 - val_acc: 0.8586\n",
      "Epoch 3/10\n",
      "20000/20000 [==============================] - 121s 6ms/sample - loss: 0.2346 - acc: 0.9115 - val_loss: 0.2893 - val_acc: 0.8786\n",
      "Epoch 4/10\n",
      "20000/20000 [==============================] - 117s 6ms/sample - loss: 0.2018 - acc: 0.9263 - val_loss: 0.2890 - val_acc: 0.8852\n",
      "Epoch 5/10\n",
      "20000/20000 [==============================] - 119s 6ms/sample - loss: 0.1733 - acc: 0.9385 - val_loss: 0.3125 - val_acc: 0.8652\n",
      "Epoch 6/10\n",
      "20000/20000 [==============================] - 125s 6ms/sample - loss: 0.1575 - acc: 0.9449 - val_loss: 0.3185 - val_acc: 0.8726\n",
      "Epoch 7/10\n",
      "20000/20000 [==============================] - 121s 6ms/sample - loss: 0.1462 - acc: 0.9503 - val_loss: 0.3145 - val_acc: 0.8732\n",
      "Epoch 8/10\n",
      "20000/20000 [==============================] - 123s 6ms/sample - loss: 0.1324 - acc: 0.9557 - val_loss: 0.3943 - val_acc: 0.8494\n",
      "Epoch 9/10\n",
      "20000/20000 [==============================] - 117s 6ms/sample - loss: 0.1206 - acc: 0.9589 - val_loss: 0.3265 - val_acc: 0.8692\n",
      "Epoch 10/10\n",
      "20000/20000 [==============================] - 118s 6ms/sample - loss: 0.1128 - acc: 0.9621 - val_loss: 0.3538 - val_acc: 0.8842\n"
     ]
    }
   ],
   "source": [
    "history_LSTM = model.fit(input_train, y_train, \n",
    "                        epochs=10, batch_size=128, \n",
    "                        validation_split=0.2)"
   ]
  },
  {
   "cell_type": "code",
   "execution_count": 38,
   "metadata": {},
   "outputs": [],
   "source": [
    "# Save the LSTM model\n",
    "model.save('LSTM_IMDB.h5')"
   ]
  },
  {
   "cell_type": "markdown",
   "metadata": {},
   "source": [
    "## Note to Self\n",
    "Training an LSTM model takes a lot of time. The `SimpleRNN` model took only 30s per epoch, whereas the `LSTM` model is taking 3 mins."
   ]
  },
  {
   "cell_type": "markdown",
   "metadata": {},
   "source": [
    "### Visualizing Results"
   ]
  },
  {
   "cell_type": "code",
   "execution_count": 39,
   "metadata": {},
   "outputs": [],
   "source": [
    "import matplotlib.pyplot as plt\n",
    "%matplotlib inline\n",
    "\n",
    "# Extracting Data\n",
    "acc = history_LSTM.history['acc']\n",
    "val_acc = history_LSTM.history['val_acc']\n",
    "loss = history_LSTM.history['loss']\n",
    "val_loss = history_LSTM.history['val_loss']\n",
    "epochs = range(1, len(acc) + 1)"
   ]
  },
  {
   "cell_type": "code",
   "execution_count": 40,
   "metadata": {},
   "outputs": [
    {
     "data": {
      "text/plain": [
       "Text(0.5, 1.0, 'LSTM IMDb Model - Accuracy')"
      ]
     },
     "execution_count": 40,
     "metadata": {},
     "output_type": "execute_result"
    },
    {
     "data": {
      "image/png": "[encoded data removed]",
      "text/plain": [
       "<Figure size 432x288 with 1 Axes>"
      ]
     },
     "metadata": {
      "needs_background": "light"
     },
     "output_type": "display_data"
    }
   ],
   "source": [
    "# Plotting Accuracy\n",
    "plt.plot(epochs, acc, 'bo', label='Training Accuracy')\n",
    "plt.plot(epochs, val_acc, 'b-', label='Validation Accuracy')\n",
    "plt.xlabel('Epochs'); plt.ylabel('Accuracy'); plt.grid(True);\n",
    "plt.legend(); plt.title('LSTM IMDb Model - Accuracy')"
   ]
  },
  {
   "cell_type": "code",
   "execution_count": 42,
   "metadata": {},
   "outputs": [
    {
     "data": {
      "text/plain": [
       "Text(0.5, 1.0, 'LSTM IMDb Model - Loss')"
      ]
     },
     "execution_count": 42,
     "metadata": {},
     "output_type": "execute_result"
    },
    {
     "data": {
      "image/png": "[encoded data removed]",
      "text/plain": [
       "<Figure size 432x288 with 1 Axes>"
      ]
     },
     "metadata": {
      "needs_background": "light"
     },
     "output_type": "display_data"
    }
   ],
   "source": [
    "# Plotting Loss\n",
    "plt.plot(epochs, loss, 'bo', label='Training Loss')\n",
    "plt.plot(epochs, val_loss, 'b-', label='Validation Loss')\n",
    "plt.xlabel('Epochs'); plt.ylabel('Loss'); plt.grid(True);\n",
    "plt.legend(); plt.title('LSTM IMDb Model - Loss')"
   ]
  },
  {
   "cell_type": "markdown",
   "metadata": {},
   "source": [
    "### Interpretation\n",
    "- The LSTM model performs much better than the `SimpleRNN` model as well as the original densely connected classifier. \n",
    "- The improved performance relative to the `SimpleRNN` model is due to the `LSTM` model being more effective in solving the problem of vanishing gradients.\n",
    "- The performance of the `LSTM` model is also better with respect to the original densely connected classifier, despite the fact that the `LSTM` model is dealing with much less data.\n",
    "- `LSTM` model truncates reviews after 500 words whereas the LSTM model considered all words in all reviews when learning how to classify them.\n",
    "- However, this kind of accuracy comes at the cost of training complexity: the LSTM RNN took almost as much time to train as a CNN.\n",
    "- Why isn't the LSTM model performing better?\n",
    "    - No effort made to tune hyperparameters such as the embeddings dimensionality of the LSTM output.\n",
    "    - Lack of regularization.\n",
    "\n",
    "### When to use LSTMs?\n",
    "- LSTM isn't good for a sentiment analysis problem.\n",
    "- LSTMs are good at analyzing the global, long-term structure of the reviews, while a more effective way of sentiment analysis is to identify which words appear in a review along with their frequency."
   ]
  }
 ],
 "metadata": {
  "kernelspec": {
   "display_name": "Python 3",
   "language": "python",
   "name": "python3"
  },
  "language_info": {
   "codemirror_mode": {
    "name": "ipython",
    "version": 3
   },
   "file_extension": ".py",
   "mimetype": "text/x-python",
   "name": "python",
   "nbconvert_exporter": "python",
   "pygments_lexer": "ipython3",
   "version": "3.7.3"
  }
 },
 "nbformat": 4,
 "nbformat_minor": 2
}
