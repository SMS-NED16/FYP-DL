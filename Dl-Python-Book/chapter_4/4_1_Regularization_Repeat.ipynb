{
 "cells": [
  {
   "cell_type": "markdown",
   "metadata": {},
   "source": [
    "# Deep Learning with Python\n",
    "## Example 4.1 (Repeat) - Regularization Methods"
   ]
  },
  {
   "cell_type": "markdown",
   "metadata": {},
   "source": [
    "### Importing Libraries and Dataset"
   ]
  },
  {
   "cell_type": "code",
   "execution_count": 1,
   "metadata": {},
   "outputs": [
    {
     "name": "stderr",
     "output_type": "stream",
     "text": [
      "/anaconda3/lib/python3.6/site-packages/h5py/__init__.py:36: FutureWarning: Conversion of the second argument of issubdtype from `float` to `np.floating` is deprecated. In future, it will be treated as `np.float64 == np.dtype(float).type`.\n",
      "  from ._conv import register_converters as _register_converters\n",
      "Using TensorFlow backend.\n"
     ]
    }
   ],
   "source": [
    "import tensorflow, keras\n",
    "\n",
    "# necessary to read dataset from pickle file - Numpy compatibility issues\n",
    "import numpy as np\n",
    "old = np.load\n",
    "np.load = lambda *a,**k: old(*a, allow_pickle=True, **k)"
   ]
  },
  {
   "cell_type": "code",
   "execution_count": 2,
   "metadata": {},
   "outputs": [],
   "source": [
    "# Read the dataset\n",
    "from keras.datasets import imdb\n",
    "\n",
    "# Extract samples and labels\n",
    "(train_data, train_labels), (test_data, test_labels) = imdb.load_data(num_words=10000) # 10k most commonly occurring words only"
   ]
  },
  {
   "cell_type": "markdown",
   "metadata": {},
   "source": [
    "### Creating Original Model"
   ]
  },
  {
   "cell_type": "code",
   "execution_count": 8,
   "metadata": {},
   "outputs": [],
   "source": [
    "# Try newer version of numpy\n",
    "import numpy as np\n",
    "\n",
    "# Vectorization - converting each review to tensor of floats \n",
    "# Each sample is a sparse One-Hot encoded tensor of dim 10k that is 1 only when the word index matches column index\n",
    "def vectorize_sequences(sequences, dimension=10000):\n",
    "    # Matrix with one row per message and one column per possible word\n",
    "    results = np.zeros((len(sequences), dimension))\n",
    "    \n",
    "    # For every word in the sequence of integers representing a review\n",
    "    for i, sequence in enumerate(sequences):\n",
    "        results[i, sequence] = 1.    # set the column to 1 if word index = column index (NOT INTEGER)\n",
    "        \n",
    "    # Return one-hot encoded sample matrix\n",
    "    return results"
   ]
  },
  {
   "cell_type": "code",
   "execution_count": 9,
   "metadata": {},
   "outputs": [],
   "source": [
    "# Encode training and test samples\n",
    "x_train = vectorize_sequences(train_data)\n",
    "x_test = vectorize_sequences(test_data)"
   ]
  },
  {
   "cell_type": "code",
   "execution_count": 10,
   "metadata": {},
   "outputs": [],
   "source": [
    "# Convert the labels to floating numpy arrays\n",
    "y_train = np.asarray(train_labels).astype('float32')\n",
    "y_test = np.asarray(test_labels).astype('float32')"
   ]
  },
  {
   "cell_type": "code",
   "execution_count": 14,
   "metadata": {},
   "outputs": [],
   "source": [
    "# Creating model\n",
    "from keras import models, layers\n",
    "\n",
    "# Defining a function to create a Sequential, densely connected model with specific nodes\n",
    "def create_model_with_n_nodes(n_nodes=16):\n",
    "    # Instantiate\n",
    "    model = models.Sequential()\n",
    "\n",
    "    # Add layers with specified number of nodes per layer\n",
    "    model.add(layers.Dense(n_nodes, activation='relu', input_shape=(10000,)))\n",
    "    model.add(layers.Dense(n_nodes, activation='relu'))\n",
    "    model.add(layers.Dense(1, activation='sigmoid'))\n",
    "    \n",
    "    # Compile model with required optimizer and loss\n",
    "    model.compile(optimizer='rmsprop', loss='binary_crossentropy', metrics=['accuracy'])\n",
    "    \n",
    "    # Return the model\n",
    "    return model"
   ]
  },
  {
   "cell_type": "code",
   "execution_count": 24,
   "metadata": {},
   "outputs": [],
   "source": [
    "# Creating partial training and validation data\n",
    "x_val = x_train[:10000]\n",
    "y_val = y_train[:10000]\n",
    "partial_x_train = x_train[10000:]\n",
    "partial_y_train = y_train[10000:]"
   ]
  },
  {
   "cell_type": "code",
   "execution_count": 25,
   "metadata": {},
   "outputs": [],
   "source": [
    "# Defining a function that will train model using partial training and test data \n",
    "# Not good programming practice because global variables but I'm just testing\n",
    "def train_model(my_model, verbose_flag=0):\n",
    "    my_model_history = my_model.fit(partial_x_train, partial_y_train, epochs=20, batch_size=512, \n",
    "                                    verbose=verbose_flag, validation_data=(x_val, y_val))\n",
    "    return my_model_history"
   ]
  },
  {
   "cell_type": "code",
   "execution_count": 26,
   "metadata": {},
   "outputs": [
    {
     "name": "stdout",
     "output_type": "stream",
     "text": [
      "Train on 15000 samples, validate on 10000 samples\n",
      "Epoch 1/20\n",
      "15000/15000 [==============================] - 2s 166us/step - loss: 0.5224 - acc: 0.7745 - val_loss: 0.3962 - val_acc: 0.8602\n",
      "Epoch 2/20\n",
      "15000/15000 [==============================] - 1s 97us/step - loss: 0.3146 - acc: 0.8999 - val_loss: 0.3118 - val_acc: 0.8842\n",
      "Epoch 3/20\n",
      "15000/15000 [==============================] - 1s 93us/step - loss: 0.2305 - acc: 0.9254 - val_loss: 0.3006 - val_acc: 0.8801\n",
      "Epoch 4/20\n",
      "15000/15000 [==============================] - 1s 94us/step - loss: 0.1815 - acc: 0.9435 - val_loss: 0.2788 - val_acc: 0.8879\n",
      "Epoch 5/20\n",
      "15000/15000 [==============================] - 1s 94us/step - loss: 0.1481 - acc: 0.9545 - val_loss: 0.2776 - val_acc: 0.8873\n",
      "Epoch 6/20\n",
      "15000/15000 [==============================] - 2s 132us/step - loss: 0.1215 - acc: 0.9634 - val_loss: 0.3098 - val_acc: 0.8792\n",
      "Epoch 7/20\n",
      "15000/15000 [==============================] - 2s 120us/step - loss: 0.0998 - acc: 0.9721 - val_loss: 0.3023 - val_acc: 0.8835\n",
      "Epoch 8/20\n",
      "15000/15000 [==============================] - 2s 112us/step - loss: 0.0829 - acc: 0.9769 - val_loss: 0.3254 - val_acc: 0.8791\n",
      "Epoch 9/20\n",
      "15000/15000 [==============================] - 1s 94us/step - loss: 0.0669 - acc: 0.9823 - val_loss: 0.3466 - val_acc: 0.8774\n",
      "Epoch 10/20\n",
      "15000/15000 [==============================] - 1s 95us/step - loss: 0.0538 - acc: 0.9879 - val_loss: 0.3662 - val_acc: 0.8793\n",
      "Epoch 11/20\n",
      "15000/15000 [==============================] - 1s 95us/step - loss: 0.0456 - acc: 0.9893 - val_loss: 0.3915 - val_acc: 0.8758\n",
      "Epoch 12/20\n",
      "15000/15000 [==============================] - 1s 94us/step - loss: 0.0327 - acc: 0.9943 - val_loss: 0.4383 - val_acc: 0.8692\n",
      "Epoch 13/20\n",
      "15000/15000 [==============================] - 1s 99us/step - loss: 0.0286 - acc: 0.9941 - val_loss: 0.4532 - val_acc: 0.8762\n",
      "Epoch 14/20\n",
      "15000/15000 [==============================] - 2s 101us/step - loss: 0.0218 - acc: 0.9964 - val_loss: 0.4825 - val_acc: 0.8725\n",
      "Epoch 15/20\n",
      "15000/15000 [==============================] - 2s 100us/step - loss: 0.0181 - acc: 0.9963 - val_loss: 0.5160 - val_acc: 0.8697\n",
      "Epoch 16/20\n",
      "15000/15000 [==============================] - 2s 100us/step - loss: 0.0102 - acc: 0.9992 - val_loss: 0.5619 - val_acc: 0.8659\n",
      "Epoch 17/20\n",
      "15000/15000 [==============================] - 1s 99us/step - loss: 0.0107 - acc: 0.9987 - val_loss: 0.5883 - val_acc: 0.8665\n",
      "Epoch 18/20\n",
      "15000/15000 [==============================] - 2s 104us/step - loss: 0.0090 - acc: 0.9987 - val_loss: 0.6081 - val_acc: 0.8684\n",
      "Epoch 19/20\n",
      "15000/15000 [==============================] - 2s 108us/step - loss: 0.0042 - acc: 0.9999 - val_loss: 0.6354 - val_acc: 0.8671\n",
      "Epoch 20/20\n",
      "15000/15000 [==============================] - 2s 108us/step - loss: 0.0071 - acc: 0.9983 - val_loss: 0.6620 - val_acc: 0.8661\n"
     ]
    }
   ],
   "source": [
    "# Training Original Model\n",
    "org_model = create_model_with_n_nodes(n_nodes=16)\n",
    "org_model_hist = train_model(org_model, verbose_flag=1)"
   ]
  },
  {
   "cell_type": "markdown",
   "metadata": {},
   "source": [
    "### Training Model with 4 Nodes per Layer"
   ]
  },
  {
   "cell_type": "code",
   "execution_count": 45,
   "metadata": {},
   "outputs": [],
   "source": [
    "# Instantiate\n",
    "model_4_nodes = create_model_with_n_nodes(n_nodes=4)\n",
    "\n",
    "# Train\n",
    "model_4_nodes_hist = train_model(model_4_nodes, verbose_flag=0)"
   ]
  },
  {
   "cell_type": "code",
   "execution_count": 46,
   "metadata": {},
   "outputs": [],
   "source": [
    "import matplotlib.pyplot as plt\n",
    "%matplotlib inline\n",
    "\n",
    "# Defining a function make plot of validation losses using two model hist objects\n",
    "def plot_validation_loss(model_1_history, model_2_history, title_str, model_2_str):\n",
    "    plt.figure(figsize=(6,4))\n",
    "    epochs = range(1, len(model_2_history.history['val_loss']) + 1)\n",
    "    plt.plot(epochs, model_1_history.history['val_loss'], 'b+', label='Original Model')\n",
    "    plt.plot(epochs, model_2_history.history['val_loss'], 'ro', label=str(model_2_str))\n",
    "    plt.legend(); plt.grid(True); plt.xlabel('Epochs'); plt.ylabel('Validation Loss')\n",
    "    plt.title(title_str); plt.tight_layout(); plt.show();"
   ]
  },
  {
   "cell_type": "code",
   "execution_count": 47,
   "metadata": {},
   "outputs": [
    {
     "data": {
      "image/png": "[encoded data removed]",
      "text/plain": [
       "<Figure size 432x288 with 1 Axes>"
      ]
     },
     "metadata": {},
     "output_type": "display_data"
    }
   ],
   "source": [
    "# Plotting validation set losses for original model and 4 node model\n",
    "plot_validation_loss(org_model_hist, model_4_nodes_hist, title_str='Validation Loss Comparison - 4 Nodes/Layer',\n",
    "                     model_2_str='4 Nodes')"
   ]
  },
  {
   "cell_type": "markdown",
   "metadata": {},
   "source": [
    "### Interpretation\n",
    "- My model's validation loss trends finally match those of the book\n",
    "- I think the previous error could have been caused by\n",
    "    - Old `numpy` version. This time I imported a new numpy version in the vectorization sequence function.\n",
    "    - Different `random_state`s at some point in the workflow.\n",
    "    - Changing the loss flags from integer `(1)` to `float32` `1.` in the `vectorize_sequences` function.\n",
    "- It's stil not the exact same trend as the book for the 4 node model, but it's close enough."
   ]
  },
  {
   "cell_type": "markdown",
   "metadata": {},
   "source": [
    "### Training Model with 512 Nodes per Layer - Serious Overfitting"
   ]
  },
  {
   "cell_type": "code",
   "execution_count": 48,
   "metadata": {},
   "outputs": [],
   "source": [
    "model_512_nodes = create_model_with_n_nodes(n_nodes=512)\n",
    "model_512_hist = train_model(model_512_nodes, verbose_flag=0)"
   ]
  },
  {
   "cell_type": "code",
   "execution_count": 50,
   "metadata": {},
   "outputs": [
    {
     "data": {
      "image/png": "[encoded data removed]",
      "text/plain": [
       "<Figure size 432x288 with 1 Axes>"
      ]
     },
     "metadata": {},
     "output_type": "display_data"
    }
   ],
   "source": [
    "plot_validation_loss(org_model_hist, model_512_hist, title_str='Validation Loss Comparison - 512 Nodes/Layer', \n",
    "                    model_2_str='512 Nodes')"
   ]
  },
  {
   "cell_type": "code",
   "execution_count": 55,
   "metadata": {},
   "outputs": [
    {
     "data": {
      "image/png": "[encoded data removed]",
      "text/plain": [
       "<Figure size 432x288 with 1 Axes>"
      ]
     },
     "metadata": {},
     "output_type": "display_data"
    }
   ],
   "source": [
    "plt.figure(figsize=(6,4))\n",
    "epochs = range(1, len(model_512_hist.history['loss']) + 1)\n",
    "plt.plot(epochs, org_model_hist.history['loss'], 'b+', label='Original Model')\n",
    "plt.plot(epochs, model_512_hist.history['loss'], 'ro', label=str('512 Nodes'))\n",
    "plt.legend(); plt.grid(True); plt.xlabel('Epochs'); plt.ylabel('Training Loss')\n",
    "plt.title('Training Loss Comparison - 512 Nodes/Layer'); plt.tight_layout(); plt.show();"
   ]
  },
  {
   "cell_type": "markdown",
   "metadata": {},
   "source": [
    "### Interpretation\n",
    "- 512 nodes for layers drastically increases the memorization capacity of the neural network - far more than is required for the given problem.\n",
    "- Thus, the 512 node/layer model is more susceptible to overfitting than the original model.\n",
    "- Evidence for this can be seen in the graphs comparing the model's validation loss and training loss with those of the original model.\n",
    "- The 512 node/layer model starts overfitting almost instantly (after 2 epochs), as its validation set loss increases and continues to be larger than that of the original model for all subsequent epochs.\n",
    "- Similarly, because it is so quick to overfit, its training set loss become susbstantially lower than the original model's after only 2 epochs, and becomes virtually zero from epoch 6 onwards. \n",
    "- As the original model has fewer nodes per layers and thus lower memorization capacity, it doesn't start overfitting until much later in the training process (epochs 6 - 7), and even then its validation loss increases more slowly than that of the 512 node model."
   ]
  },
  {
   "cell_type": "markdown",
   "metadata": {},
   "source": [
    "### Weight Regularization - L2\n",
    "The larger the values taken by a given weight of the neural network, the larger the range of values occupied by all its weights, and the higher the model's entropy. To minimise overfitting, we must minimize entropy. One way to do this is to limit the range of values that a model's parameters can take. This is done by specifying a **cost** that scales in proportion to the weight values and is added to the loss of a network.\n",
    "\n",
    "The higher the weight/parameter, the greater the additional cost incurred by the loss function, which makes incents the network to optimize each parameter to as small a value as possible. This is called **weight regularization**, and has two types\n",
    "- **L1 Regularization** - cost is proportial to absolute value of parameters (L1 Norm)\n",
    "- **L2 Regularization** - cost is proportional to square of the value of the parameters (L2 Norm)"
   ]
  },
  {
   "cell_type": "code",
   "execution_count": 61,
   "metadata": {},
   "outputs": [],
   "source": [
    "# Creating a model with L2 regularization\n",
    "from keras import regularizers\n",
    "\n",
    "# Instantiate and add layers\n",
    "model_L2 = models.Sequential()\n",
    "# Every coeff in weight matrix will add 0.001 * weight_coefficient^2 to total loss\n",
    "model_L2.add(layers.Dense(16, kernel_regularizer=regularizers.l2(0.001), activation='relu', \n",
    "                          input_shape=(10000,)))\n",
    "model_L2.add(layers.Dense(16, kernel_regularizer=regularizers.l2(0.001), activation='relu'))\n",
    "model_L2.add(layers.Dense(1, activation='sigmoid'))\n",
    "\n",
    "# Compule\n",
    "model_L2.compile(optimizer='rmsprop', loss='binary_crossentropy', metrics=['accuracy'])"
   ]
  },
  {
   "cell_type": "code",
   "execution_count": 62,
   "metadata": {},
   "outputs": [],
   "source": [
    "model_L2_hist = train_model(model_L2, verbose_flag=0)"
   ]
  },
  {
   "cell_type": "code",
   "execution_count": 64,
   "metadata": {},
   "outputs": [
    {
     "data": {
      "image/png": "[encoded data removed]",
      "text/plain": [
       "<Figure size 432x288 with 1 Axes>"
      ]
     },
     "metadata": {},
     "output_type": "display_data"
    }
   ],
   "source": [
    "# Plot its validation loss - actual testing loss will be much lower because of regularization\n",
    "plt.figure(figsize=(6,4))\n",
    "epochs = range(1, len(model_L2_hist.history['val_loss']) + 1)\n",
    "plt.plot(epochs, org_model_hist.history['val_loss'], 'b+', label='Original Model')\n",
    "plt.plot(epochs, model_L2_hist.history['val_loss'], 'ro', label=str('L2-Regularized Model'))\n",
    "plt.legend(); plt.grid(True); plt.xlabel('Epochs'); plt.ylabel('Validation Loss')\n",
    "plt.title('Validation Loss Comparison - L2 Regularization'); plt.tight_layout(); plt.show();"
   ]
  },
  {
   "cell_type": "markdown",
   "metadata": {},
   "source": [
    "### Interpretation\n",
    "- Again, almost the same trend as the plot in the book, but slight variation in values. \n",
    "- But the key takeaway is that the L2-regularized model has become much more resistant to overfitting.\n",
    "- The validation loss of the original model rises sharply after 5 epochs, while the validation loss for the L2-regularized model experiences a very slow increase in the same,\n",
    "- This is evidence of the fact that after incurring large initial loss due to additional costs associated with regularization, the values of the weight coefficients have been scaled to a lower range, and therefore by default make it less likely to overfit the data."
   ]
  },
  {
   "cell_type": "code",
   "execution_count": null,
   "metadata": {},
   "outputs": [],
   "source": []
  }
 ],
 "metadata": {
  "kernelspec": {
   "display_name": "Python 3",
   "language": "python",
   "name": "python3"
  },
  "language_info": {
   "codemirror_mode": {
    "name": "ipython",
    "version": 3
   },
   "file_extension": ".py",
   "mimetype": "text/x-python",
   "name": "python",
   "nbconvert_exporter": "python",
   "pygments_lexer": "ipython3",
   "version": "3.6.5"
  }
 },
 "nbformat": 4,
 "nbformat_minor": 2
}
