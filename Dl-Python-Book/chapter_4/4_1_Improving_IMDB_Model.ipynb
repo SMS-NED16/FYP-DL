{
 "cells": [
  {
   "cell_type": "markdown",
   "metadata": {},
   "source": [
    "# Deep Learning with Python\n",
    "## Example 4.1 - Improving IMDB Model"
   ]
  },
  {
   "cell_type": "markdown",
   "metadata": {},
   "source": [
    "Every Deep Learning model must make a compromise between **optimization** and **generalization**. Optimization is a measure of the model's ability to make accurate predictions on the training data. Generalization, on the other hand, is its ability to make accurate predictions on data it has never seen during training, namely the validation and test sets.\n",
    "\n",
    "If the model is not optimized, it suffers from underfitting - it simply hasn't learnt the associations needed to make accurate predictions. The model's loss on both training and validation and/or test sets will be high.\n",
    "\n",
    "However, eventually the model can **overfit** the data - it can 'overoptimize' its parameters to perfectly fit the training data at the expense of its ability to make predictions on the test data.\n",
    "\n",
    "One way of to prevent overfitting is to reduce the network's size. This reduces the number of layers and hence the number of nodes and, by extension, the **learnable parameters** for the network. The number of learnable parameters is called **memorization capacity**. \n",
    "\n",
    "A lower memorization capacity means the network is compelled to learn compressed representations of the data instead of memorizing a mapping of inputs to outputs."
   ]
  },
  {
   "cell_type": "markdown",
   "metadata": {},
   "source": [
    "We will decrease the size/number of layers in the original IMDB classification ANN to see if this decrease in memorization capacity has any effect on the model's performance."
   ]
  },
  {
   "cell_type": "code",
   "execution_count": 1,
   "metadata": {},
   "outputs": [
    {
     "name": "stderr",
     "output_type": "stream",
     "text": [
      "/anaconda3/lib/python3.6/site-packages/h5py/__init__.py:36: FutureWarning: Conversion of the second argument of issubdtype from `float` to `np.floating` is deprecated. In future, it will be treated as `np.float64 == np.dtype(float).type`.\n",
      "  from ._conv import register_converters as _register_converters\n",
      "Using TensorFlow backend.\n"
     ]
    }
   ],
   "source": [
    "# importing keras and tf for backend \n",
    "import tensorflow as tf, keras\n",
    "\n",
    "# Necessary for reading dataset\n",
    "import numpy as np\n",
    "old = np.load\n",
    "np.load = lambda *a,**k: old(*a, allow_pickle=True, **k)"
   ]
  },
  {
   "cell_type": "code",
   "execution_count": 5,
   "metadata": {},
   "outputs": [],
   "source": [
    "# Import dataset\n",
    "from keras.datasets import imdb\n",
    "\n",
    "# Load dataset\n",
    "(train_data, train_labels), (test_data, test_labels) = imdb.load_data(num_words=10000)"
   ]
  },
  {
   "cell_type": "code",
   "execution_count": 6,
   "metadata": {},
   "outputs": [],
   "source": [
    "def vectorize_sequences(sequences, dimension=10000):\n",
    "    # Matrix with one row per message and one column per possible word\n",
    "    results = np.zeros((len(sequences), dimension))\n",
    "    \n",
    "    # For every word in the message, set the corresponding column value to 1\n",
    "    for i, sequence in enumerate(sequences):\n",
    "        results[i, sequence] = 1\n",
    "    \n",
    "    # Return sparse one-hot encoded matrix\n",
    "    return results"
   ]
  },
  {
   "cell_type": "code",
   "execution_count": 7,
   "metadata": {},
   "outputs": [],
   "source": [
    "# One-Hot encode the training and test data\n",
    "x_train = vectorize_sequences(train_data)\n",
    "x_test = vectorize_sequences(test_data)"
   ]
  },
  {
   "cell_type": "code",
   "execution_count": 8,
   "metadata": {},
   "outputs": [],
   "source": [
    "# Vectorize labels\n",
    "y_train = np.asarray(train_labels).astype('float32')\n",
    "y_test = np.asarray(test_labels).astype('float32')"
   ]
  },
  {
   "cell_type": "code",
   "execution_count": 9,
   "metadata": {},
   "outputs": [],
   "source": [
    "# Develop model with 16 nodes per layer\n",
    "from keras import models, layers\n",
    "\n",
    "# Instantiate\n",
    "old_model = models.Sequential()\n",
    "old_model.add(layers.Dense(16, activation='relu', input_shape=(10000,)))\n",
    "old_model.add(layers.Dense(16, activation='relu'))\n",
    "old_model.add(layers.Dense(1, activation='sigmoid'))\n",
    "\n",
    "# Compile\n",
    "old_model.compile(optimizer='rmsprop', loss='binary_crossentropy', metrics=['accuracy'])"
   ]
  },
  {
   "cell_type": "code",
   "execution_count": 10,
   "metadata": {},
   "outputs": [],
   "source": [
    "# Develop model with 4 nodes per layer - fewer params, lower memorization capacity\n",
    "new_model = models.Sequential()\n",
    "new_model.add(layers.Dense(4, activation='relu', input_shape=(10000,)))\n",
    "new_model.add(layers.Dense(4, activation='relu'))\n",
    "new_model.add(layers.Dense(1, activation='sigmoid'))\n",
    "new_model.compile(optimizer='rmsprop', loss='binary_crossentropy', metrics=['accuracy'])"
   ]
  },
  {
   "cell_type": "code",
   "execution_count": 11,
   "metadata": {},
   "outputs": [],
   "source": [
    "# Validation set\n",
    "x_val = x_train[:10000]\n",
    "partial_x_train = x_train[10000:]\n",
    "\n",
    "y_val = y_train[:10000]\n",
    "partial_y_train = y_train[10000:]"
   ]
  },
  {
   "cell_type": "code",
   "execution_count": 13,
   "metadata": {},
   "outputs": [
    {
     "name": "stdout",
     "output_type": "stream",
     "text": [
      "Train on 15000 samples, validate on 10000 samples\n",
      "Epoch 1/20\n",
      "15000/15000 [==============================] - 1s 99us/step - loss: 0.0022 - acc: 0.9999 - val_loss: 0.7345 - val_acc: 0.8631\n",
      "Epoch 2/20\n",
      "15000/15000 [==============================] - 1s 93us/step - loss: 0.0053 - acc: 0.9986 - val_loss: 0.7572 - val_acc: 0.8663\n",
      "Epoch 3/20\n",
      "15000/15000 [==============================] - 1s 93us/step - loss: 0.0013 - acc: 0.9999 - val_loss: 0.7778 - val_acc: 0.8654\n",
      "Epoch 4/20\n",
      "15000/15000 [==============================] - 1s 94us/step - loss: 0.0042 - acc: 0.9987 - val_loss: 0.8087 - val_acc: 0.8641\n",
      "Epoch 5/20\n",
      "15000/15000 [==============================] - 1s 93us/step - loss: 8.3734e-04 - acc: 0.9999 - val_loss: 0.8303 - val_acc: 0.8627\n",
      "Epoch 6/20\n",
      "15000/15000 [==============================] - 2s 101us/step - loss: 7.1461e-04 - acc: 0.9999 - val_loss: 0.8753 - val_acc: 0.8601\n",
      "Epoch 7/20\n",
      "15000/15000 [==============================] - 2s 103us/step - loss: 0.0032 - acc: 0.9993 - val_loss: 0.8973 - val_acc: 0.8620\n",
      "Epoch 8/20\n",
      "15000/15000 [==============================] - 1s 95us/step - loss: 3.6255e-04 - acc: 1.0000 - val_loss: 0.9157 - val_acc: 0.8617\n",
      "Epoch 9/20\n",
      "15000/15000 [==============================] - 1s 95us/step - loss: 2.9907e-04 - acc: 1.0000 - val_loss: 0.9449 - val_acc: 0.8623\n",
      "Epoch 10/20\n",
      "15000/15000 [==============================] - 1s 95us/step - loss: 0.0025 - acc: 0.9991 - val_loss: 0.9993 - val_acc: 0.8598\n",
      "Epoch 11/20\n",
      "15000/15000 [==============================] - 2s 101us/step - loss: 1.6744e-04 - acc: 1.0000 - val_loss: 1.0001 - val_acc: 0.8602\n",
      "Epoch 12/20\n",
      "15000/15000 [==============================] - 1s 96us/step - loss: 1.3612e-04 - acc: 1.0000 - val_loss: 1.0152 - val_acc: 0.8591\n",
      "Epoch 13/20\n",
      "15000/15000 [==============================] - 1s 99us/step - loss: 1.0913e-04 - acc: 1.0000 - val_loss: 1.0518 - val_acc: 0.8587\n",
      "Epoch 14/20\n",
      "15000/15000 [==============================] - 1s 99us/step - loss: 0.0020 - acc: 0.9995 - val_loss: 1.0764 - val_acc: 0.8607\n",
      "Epoch 15/20\n",
      "15000/15000 [==============================] - 2s 100us/step - loss: 5.9708e-05 - acc: 1.0000 - val_loss: 1.0843 - val_acc: 0.8598\n",
      "Epoch 16/20\n",
      "15000/15000 [==============================] - 1s 99us/step - loss: 5.2259e-05 - acc: 1.0000 - val_loss: 1.0953 - val_acc: 0.8600\n",
      "Epoch 17/20\n",
      "15000/15000 [==============================] - 1s 100us/step - loss: 4.4160e-05 - acc: 1.0000 - val_loss: 1.1232 - val_acc: 0.8576\n",
      "Epoch 18/20\n",
      "15000/15000 [==============================] - 2s 107us/step - loss: 0.0019 - acc: 0.9995 - val_loss: 1.1564 - val_acc: 0.8592\n",
      "Epoch 19/20\n",
      "15000/15000 [==============================] - 2s 106us/step - loss: 3.6343e-05 - acc: 1.0000 - val_loss: 1.1544 - val_acc: 0.8583\n",
      "Epoch 20/20\n",
      "15000/15000 [==============================] - 2s 104us/step - loss: 2.5238e-05 - acc: 1.0000 - val_loss: 1.1603 - val_acc: 0.8599\n"
     ]
    }
   ],
   "source": [
    "# Train old model\n",
    "old_hist = old_model.fit(partial_x_train, partial_y_train, epochs=20, \n",
    "             batch_size=512, validation_data=(x_val, y_val))"
   ]
  },
  {
   "cell_type": "code",
   "execution_count": 15,
   "metadata": {},
   "outputs": [],
   "source": [
    "# Train new model\n",
    "new_hist = new_model.fit(partial_x_train, partial_y_train, epochs=20, batch_size=512,\n",
    "             validation_data=(x_val, y_val), verbose=0)"
   ]
  },
  {
   "cell_type": "code",
   "execution_count": 60,
   "metadata": {},
   "outputs": [
    {
     "data": {
      "image/png": "[encoded data removed]",
      "text/plain": [
       "<Figure size 432x288 with 1 Axes>"
      ]
     },
     "metadata": {},
     "output_type": "display_data"
    }
   ],
   "source": [
    "# Plot validation loss for both models\n",
    "import matplotlib.pyplot as plt\n",
    "%matplotlib inline\n",
    "\n",
    "plt.figure(figsize=(6,4))\n",
    "epochs = range(1, len(old_hist.history['acc']) + 1)\n",
    "plt.plot(epochs, old_hist.history['val_loss'], 'b+', label='Original Model')\n",
    "plt.plot(epochs, new_hist.history['val_loss'], 'ro', label='Smaller Model')\n",
    "plt.xlabel('Epochs'); plt.ylabel('Validation Loss'); plt.grid(True); plt.legend()\n",
    "plt.title('Memorization Capacity and Validation Loss - 4 vs 16 nodes per layer')\n",
    "plt.tight_layout()"
   ]
  },
  {
   "cell_type": "markdown",
   "metadata": {},
   "source": [
    "## Repeating with Higher Capacity"
   ]
  },
  {
   "cell_type": "code",
   "execution_count": 35,
   "metadata": {},
   "outputs": [],
   "source": [
    "# Model with 512 nodes per layer\n",
    "model_512 = models.Sequential()\n",
    "model_512.add(layers.Dense(512, activation='relu', input_shape=(10000,)))\n",
    "model_512.add(layers.Dense(512, activation='relu'))\n",
    "model_512.add(layers.Dense(1, activation='sigmoid'))\n",
    "\n",
    "# Compile\n",
    "model_512.compile(optimizer='rmsprop', loss='binary_crossentropy', \n",
    "             metrics=['accuracy'])"
   ]
  },
  {
   "cell_type": "code",
   "execution_count": 36,
   "metadata": {},
   "outputs": [
    {
     "name": "stdout",
     "output_type": "stream",
     "text": [
      "Train on 15000 samples, validate on 10000 samples\n",
      "Epoch 1/20\n",
      "15000/15000 [==============================] - 8s 558us/step - loss: 0.5624 - acc: 0.7545 - val_loss: 0.3013 - val_acc: 0.8832\n",
      "Epoch 2/20\n",
      "15000/15000 [==============================] - 8s 513us/step - loss: 0.2518 - acc: 0.8997 - val_loss: 0.2659 - val_acc: 0.8937\n",
      "Epoch 3/20\n",
      "15000/15000 [==============================] - 8s 510us/step - loss: 0.1616 - acc: 0.9429 - val_loss: 0.2940 - val_acc: 0.8906\n",
      "Epoch 4/20\n",
      "15000/15000 [==============================] - 9s 578us/step - loss: 0.0924 - acc: 0.9686 - val_loss: 0.4235 - val_acc: 0.8759\n",
      "Epoch 5/20\n",
      "15000/15000 [==============================] - 8s 542us/step - loss: 0.1188 - acc: 0.9763 - val_loss: 0.3093 - val_acc: 0.8864\n",
      "Epoch 6/20\n",
      "15000/15000 [==============================] - 8s 558us/step - loss: 0.0055 - acc: 0.9997 - val_loss: 0.4767 - val_acc: 0.8871\n",
      "Epoch 7/20\n",
      "15000/15000 [==============================] - 8s 520us/step - loss: 5.8168e-04 - acc: 1.0000 - val_loss: 0.5850 - val_acc: 0.8888\n",
      "Epoch 8/20\n",
      "15000/15000 [==============================] - 9s 575us/step - loss: 1.0360e-04 - acc: 1.0000 - val_loss: 0.6515 - val_acc: 0.8854\n",
      "Epoch 9/20\n",
      "15000/15000 [==============================] - 8s 554us/step - loss: 1.7793e-05 - acc: 1.0000 - val_loss: 0.7440 - val_acc: 0.8829\n",
      "Epoch 10/20\n",
      "15000/15000 [==============================] - 8s 564us/step - loss: 4.1453e-06 - acc: 1.0000 - val_loss: 0.7876 - val_acc: 0.8861\n",
      "Epoch 11/20\n",
      "15000/15000 [==============================] - 8s 566us/step - loss: 1.1016e-06 - acc: 1.0000 - val_loss: 0.8433 - val_acc: 0.8860\n",
      "Epoch 12/20\n",
      "15000/15000 [==============================] - 8s 516us/step - loss: 4.2744e-07 - acc: 1.0000 - val_loss: 0.8795 - val_acc: 0.8866\n",
      "Epoch 13/20\n",
      "15000/15000 [==============================] - 8s 545us/step - loss: 2.1135e-07 - acc: 1.0000 - val_loss: 0.9090 - val_acc: 0.8864\n",
      "Epoch 14/20\n",
      "15000/15000 [==============================] - 8s 521us/step - loss: 1.4752e-07 - acc: 1.0000 - val_loss: 0.9321 - val_acc: 0.8859\n",
      "Epoch 15/20\n",
      "15000/15000 [==============================] - 8s 522us/step - loss: 1.2634e-07 - acc: 1.0000 - val_loss: 0.9451 - val_acc: 0.8859\n",
      "Epoch 16/20\n",
      "15000/15000 [==============================] - 8s 502us/step - loss: 1.1881e-07 - acc: 1.0000 - val_loss: 0.9543 - val_acc: 0.8856\n",
      "Epoch 17/20\n",
      "15000/15000 [==============================] - 7s 499us/step - loss: 1.1525e-07 - acc: 1.0000 - val_loss: 0.9608 - val_acc: 0.8856\n",
      "Epoch 18/20\n",
      "15000/15000 [==============================] - 7s 500us/step - loss: 1.1353e-07 - acc: 1.0000 - val_loss: 0.9653 - val_acc: 0.8857\n",
      "Epoch 19/20\n",
      "15000/15000 [==============================] - 7s 498us/step - loss: 1.1249e-07 - acc: 1.0000 - val_loss: 0.9699 - val_acc: 0.8860\n",
      "Epoch 20/20\n",
      "15000/15000 [==============================] - 7s 499us/step - loss: 1.1186e-07 - acc: 1.0000 - val_loss: 0.9731 - val_acc: 0.8865\n"
     ]
    }
   ],
   "source": [
    "# Fit \n",
    "model_512_hist = model_512.fit(partial_x_train, partial_y_train, \n",
    "                              batch_size=512, epochs=20, validation_data=(x_val, y_val))"
   ]
  },
  {
   "cell_type": "code",
   "execution_count": 59,
   "metadata": {},
   "outputs": [
    {
     "data": {
      "image/png": "[encoded data removed]",
      "text/plain": [
       "<Figure size 432x288 with 1 Axes>"
      ]
     },
     "metadata": {},
     "output_type": "display_data"
    }
   ],
   "source": [
    "# Comparing the plots\n",
    "plt.figure(figsize=(6,4))\n",
    "epochs = range(1, len(model_512_hist.history['acc']) + 1)\n",
    "plt.plot(epochs, old_hist.history['val_loss'], 'b+', label='Original Model')\n",
    "plt.plot(epochs, model_512_hist.history['val_loss'], 'ro', label='Larger Model')\n",
    "plt.xlabel('Epochs'); plt.ylabel('Validation Loss'); plt.grid(True); plt.legend()\n",
    "plt.title('Memorization Capacity and Validation Loss - 16 vs 512 nodes per layer')\n",
    "plt.tight_layout()"
   ]
  },
  {
   "cell_type": "markdown",
   "metadata": {},
   "source": [
    "## Weight Regularization"
   ]
  },
  {
   "cell_type": "code",
   "execution_count": 47,
   "metadata": {},
   "outputs": [
    {
     "name": "stdout",
     "output_type": "stream",
     "text": [
      "Train on 15000 samples, validate on 10000 samples\n",
      "Epoch 1/20\n",
      "15000/15000 [==============================] - 2s 130us/step - loss: 0.5747 - acc: 0.7647 - val_loss: 0.4362 - val_acc: 0.8708\n",
      "Epoch 2/20\n",
      "15000/15000 [==============================] - 1s 96us/step - loss: 0.3695 - acc: 0.8959 - val_loss: 0.3578 - val_acc: 0.8883\n",
      "Epoch 3/20\n",
      "15000/15000 [==============================] - 2s 102us/step - loss: 0.2920 - acc: 0.9199 - val_loss: 0.3556 - val_acc: 0.8784\n",
      "Epoch 4/20\n",
      "15000/15000 [==============================] - 1s 97us/step - loss: 0.2537 - acc: 0.9326 - val_loss: 0.3667 - val_acc: 0.8709\n",
      "Epoch 5/20\n",
      "15000/15000 [==============================] - 1s 97us/step - loss: 0.2295 - acc: 0.9417 - val_loss: 0.3294 - val_acc: 0.8881\n",
      "Epoch 6/20\n",
      "15000/15000 [==============================] - 1s 97us/step - loss: 0.2165 - acc: 0.9465 - val_loss: 0.3349 - val_acc: 0.8854\n",
      "Epoch 7/20\n",
      "15000/15000 [==============================] - 1s 100us/step - loss: 0.2030 - acc: 0.9531 - val_loss: 0.3430 - val_acc: 0.8849\n",
      "Epoch 8/20\n",
      "15000/15000 [==============================] - 2s 113us/step - loss: 0.1960 - acc: 0.9536 - val_loss: 0.3551 - val_acc: 0.8841\n",
      "Epoch 9/20\n",
      "15000/15000 [==============================] - 2s 106us/step - loss: 0.1845 - acc: 0.9603 - val_loss: 0.3642 - val_acc: 0.8830\n",
      "Epoch 10/20\n",
      "15000/15000 [==============================] - 1s 96us/step - loss: 0.1807 - acc: 0.9607 - val_loss: 0.3763 - val_acc: 0.8761\n",
      "Epoch 11/20\n",
      "15000/15000 [==============================] - 1s 99us/step - loss: 0.1738 - acc: 0.9649 - val_loss: 0.4373 - val_acc: 0.8591\n",
      "Epoch 12/20\n",
      "15000/15000 [==============================] - 2s 105us/step - loss: 0.1691 - acc: 0.9657 - val_loss: 0.3868 - val_acc: 0.8763\n",
      "Epoch 13/20\n",
      "15000/15000 [==============================] - 2s 108us/step - loss: 0.1688 - acc: 0.9667 - val_loss: 0.3941 - val_acc: 0.8753\n",
      "Epoch 14/20\n",
      "15000/15000 [==============================] - 1s 100us/step - loss: 0.1553 - acc: 0.9729 - val_loss: 0.4331 - val_acc: 0.8645\n",
      "Epoch 15/20\n",
      "15000/15000 [==============================] - 1s 98us/step - loss: 0.1576 - acc: 0.9723 - val_loss: 0.4223 - val_acc: 0.8685\n",
      "Epoch 16/20\n",
      "15000/15000 [==============================] - 1s 98us/step - loss: 0.1543 - acc: 0.9714 - val_loss: 0.4482 - val_acc: 0.8679\n",
      "Epoch 17/20\n",
      "15000/15000 [==============================] - 2s 103us/step - loss: 0.1528 - acc: 0.9705 - val_loss: 0.4187 - val_acc: 0.8757\n",
      "Epoch 18/20\n",
      "15000/15000 [==============================] - 2s 116us/step - loss: 0.1512 - acc: 0.9718 - val_loss: 0.5123 - val_acc: 0.8558\n",
      "Epoch 19/20\n",
      "15000/15000 [==============================] - 2s 114us/step - loss: 0.1447 - acc: 0.9761 - val_loss: 0.4368 - val_acc: 0.8707\n",
      "Epoch 20/20\n",
      "15000/15000 [==============================] - 2s 116us/step - loss: 0.1450 - acc: 0.9749 - val_loss: 0.4358 - val_acc: 0.8732\n"
     ]
    }
   ],
   "source": [
    "from keras import regularizers\n",
    "\n",
    "model_l2 = models.Sequential()\n",
    "model_l2.add(layers.Dense(16, kernel_regularizer=regularizers.l2(0.001), \n",
    "                      activation='relu', input_shape=(10000,)))\n",
    "model_l2.add(layers.Dense(16, kernel_regularizer=regularizers.l2(0.001), \n",
    "                         activation='relu'))\n",
    "model_l2.add(layers.Dense(1, activation='sigmoid'))\n",
    "\n",
    "model_l2.compile(optimizer='rmsprop', loss='binary_crossentropy', \n",
    "                metrics=['accuracy'])\n",
    "\n",
    "model_l2_hist = model_l2.fit(partial_x_train, partial_y_train, epochs=20, batch_size=512, \n",
    "            validation_data=(x_val, y_val))"
   ]
  },
  {
   "cell_type": "code",
   "execution_count": 58,
   "metadata": {},
   "outputs": [
    {
     "data": {
      "image/png": "[encoded data removed]",
      "text/plain": [
       "<Figure size 432x288 with 1 Axes>"
      ]
     },
     "metadata": {},
     "output_type": "display_data"
    }
   ],
   "source": [
    "# Comparing the plots\n",
    "plt.figure(figsize=(6,4))\n",
    "epochs = range(1, len(model_l2_hist.history['acc']) + 1)\n",
    "plt.plot(epochs, old_hist.history['val_loss'], 'b+', label='Original Model')\n",
    "plt.plot(epochs, model_l2_hist.history['val_loss'], 'ro', label='Larger Model')\n",
    "plt.xlabel('Epochs'); plt.ylabel('Validation Loss'); plt.grid(True); plt.legend()\n",
    "plt.title('Memorization Capacity and Validation Loss - L2 Normalization')\n",
    "plt.tight_layout()"
   ]
  },
  {
   "cell_type": "markdown",
   "metadata": {},
   "source": [
    "# Dropout"
   ]
  },
  {
   "cell_type": "code",
   "execution_count": 55,
   "metadata": {},
   "outputs": [],
   "source": [
    "model_dropout = models.Sequential()\n",
    "model_dropout.add(layers.Dense(16, activation='relu', input_shape=(10000,)))\n",
    "model_dropout.add(layers.Dropout(0.5))\n",
    "model_dropout.add(layers.Dense(16, activation='relu'))\n",
    "model_dropout.add(layers.Dropout(0.5))\n",
    "model_dropout.add(layers.Dense(1, activation='sigmoid'))\n",
    "model_dropout.compile(loss='binary_crossentropy', optimizer='rmsprop', metrics=['accuracy'])\n",
    "dropout_hist = model_dropout.fit(partial_x_train, partial_y_train, epochs=20, batch_size=512,\n",
    "                 validation_data=(x_val, y_val), verbose=0)"
   ]
  },
  {
   "cell_type": "code",
   "execution_count": 57,
   "metadata": {},
   "outputs": [
    {
     "data": {
      "image/png": "[encoded data removed]",
      "text/plain": [
       "<Figure size 432x288 with 1 Axes>"
      ]
     },
     "metadata": {},
     "output_type": "display_data"
    }
   ],
   "source": [
    "# Comparing the plots\n",
    "plt.figure(figsize=(6,4))\n",
    "epochs = range(1, len(dropout_hist.history['acc']) + 1)\n",
    "plt.plot(epochs, old_hist.history['val_loss'], 'b+', label='Original Model')\n",
    "plt.plot(epochs, model_dropout_hist.history['val_loss'], 'ro', label='Larger Model')\n",
    "plt.xlabel('Epochs'); plt.ylabel('Validation Loss'); plt.grid(True); plt.legend()\n",
    "plt.title('Dropout')\n",
    "plt.tight_layout()"
   ]
  },
  {
   "cell_type": "code",
   "execution_count": null,
   "metadata": {},
   "outputs": [],
   "source": []
  }
 ],
 "metadata": {
  "kernelspec": {
   "display_name": "Python 3",
   "language": "python",
   "name": "python3"
  },
  "language_info": {
   "codemirror_mode": {
    "name": "ipython",
    "version": 3
   },
   "file_extension": ".py",
   "mimetype": "text/x-python",
   "name": "python",
   "nbconvert_exporter": "python",
   "pygments_lexer": "ipython3",
   "version": "3.6.5"
  }
 },
 "nbformat": 4,
 "nbformat_minor": 2
}
