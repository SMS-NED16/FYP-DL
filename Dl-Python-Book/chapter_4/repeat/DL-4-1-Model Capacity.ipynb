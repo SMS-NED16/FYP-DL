{
 "cells": [
  {
   "cell_type": "markdown",
   "metadata": {},
   "source": [
    "# Deep Learning with Python\n",
    "# Tutorial 4.1 - Model Capacity"
   ]
  },
  {
   "cell_type": "markdown",
   "metadata": {},
   "source": [
    "## Preparing workspace"
   ]
  },
  {
   "cell_type": "code",
   "execution_count": 1,
   "metadata": {},
   "outputs": [],
   "source": [
    "from tensorflow.keras.datasets import imdb"
   ]
  },
  {
   "cell_type": "code",
   "execution_count": 2,
   "metadata": {},
   "outputs": [],
   "source": [
    "# Setting up `numpy` to read in pickle files\n",
    "import numpy as np\n",
    "# save np.load\n",
    "np_load_old = np.load\n",
    "\n",
    "# modify the default parameters of np.load\n",
    "np.load = lambda *a,**k: np_load_old(*a, allow_pickle=True, **k)\n",
    "\n",
    "# call load_data with allow_pickle implicitly set to true\n",
    "(train_data, train_labels), (test_data, test_labels) = imdb.load_data(num_words=10000)\n",
    "\n",
    "# restore np.load for future normal usage\n",
    "np.load = np_load_old"
   ]
  },
  {
   "cell_type": "markdown",
   "metadata": {},
   "source": [
    "## Data Preprocessing"
   ]
  },
  {
   "cell_type": "code",
   "execution_count": 34,
   "metadata": {},
   "outputs": [],
   "source": [
    "def vectorize_sequences(sequences, dimension=10000):\n",
    "    results = np.zeros((len(sequences), dimension))\n",
    "    for index, sequence in enumerate(sequences):\n",
    "        results[index, sequence] = 1.\n",
    "    return results"
   ]
  },
  {
   "cell_type": "code",
   "execution_count": 35,
   "metadata": {},
   "outputs": [],
   "source": [
    "# Vectorize the training data \n",
    "vectorized_training_data = vectorize_sequences(train_data, 10000)\n",
    "\n",
    "# Vectorize the test data\n",
    "vectorized_test_data = vectorize_sequences(test_data, 10000)"
   ]
  },
  {
   "cell_type": "code",
   "execution_count": 36,
   "metadata": {},
   "outputs": [],
   "source": [
    "# Converting training and test labels to numpy arrays of float32\n",
    "train_labels = np.asarray(train_labels).astype('float32')\n",
    "test_labels = np.asarray(test_labels).astype('float32')"
   ]
  },
  {
   "cell_type": "code",
   "execution_count": 43,
   "metadata": {},
   "outputs": [],
   "source": [
    "# Extracting validation set from training set\n",
    "num_val_samples = 10000\n",
    "\n",
    "# Validation set - first 10000 training samples\n",
    "x_val = vectorized_training_data[:num_val_samples]\n",
    "y_val = train_labels[:num_val_samples]\n",
    "\n",
    "# Training set - remaining 15000 samples\n",
    "partial_x_train = vectorized_training_data[num_val_samples:]\n",
    "partial_y_train = train_labels[num_val_samples:]"
   ]
  },
  {
   "cell_type": "markdown",
   "metadata": {},
   "source": [
    "## Model 1 - Original Model"
   ]
  },
  {
   "cell_type": "code",
   "execution_count": 53,
   "metadata": {},
   "outputs": [],
   "source": [
    "from tensorflow.keras import layers, models"
   ]
  },
  {
   "cell_type": "code",
   "execution_count": 70,
   "metadata": {},
   "outputs": [],
   "source": [
    "model_original = models.Sequential()\n",
    "model_original.add(layers.Dense(units=16, activation='relu', input_shape=(10000,)))\n",
    "model_original.add(layers.Dense(units=16, activation='relu'))\n",
    "model_original.add(layers.Dense(units=1, activation='sigmoid'))"
   ]
  },
  {
   "cell_type": "code",
   "execution_count": 71,
   "metadata": {},
   "outputs": [],
   "source": [
    "model_original.compile(optimizer='rmsprop', loss='binary_crossentropy', metrics=['accuracy'])"
   ]
  },
  {
   "cell_type": "code",
   "execution_count": 72,
   "metadata": {},
   "outputs": [
    {
     "name": "stdout",
     "output_type": "stream",
     "text": [
      "Train on 15000 samples, validate on 10000 samples\n",
      "Epoch 1/20\n",
      "15000/15000 [==============================] - 6s 396us/sample - loss: 0.5295 - acc: 0.7845 - val_loss: 0.4006 - val_acc: 0.8720\n",
      "Epoch 2/20\n",
      "15000/15000 [==============================] - 5s 356us/sample - loss: 0.3185 - acc: 0.9031 - val_loss: 0.3111 - val_acc: 0.8867\n",
      "Epoch 3/20\n",
      "15000/15000 [==============================] - 5s 352us/sample - loss: 0.2310 - acc: 0.9270 - val_loss: 0.2934 - val_acc: 0.8836\n",
      "Epoch 4/20\n",
      "15000/15000 [==============================] - 5s 345us/sample - loss: 0.1832 - acc: 0.9418 - val_loss: 0.2796 - val_acc: 0.8872\n",
      "Epoch 5/20\n",
      "15000/15000 [==============================] - 6s 368us/sample - loss: 0.1489 - acc: 0.9558 - val_loss: 0.2828 - val_acc: 0.8874\n",
      "Epoch 6/20\n",
      "15000/15000 [==============================] - 6s 381us/sample - loss: 0.1247 - acc: 0.9613 - val_loss: 0.2877 - val_acc: 0.8866\n",
      "Epoch 7/20\n",
      "15000/15000 [==============================] - 6s 376us/sample - loss: 0.1033 - acc: 0.9697 - val_loss: 0.3185 - val_acc: 0.8819\n",
      "Epoch 8/20\n",
      "15000/15000 [==============================] - 5s 342us/sample - loss: 0.0905 - acc: 0.9744 - val_loss: 0.3403 - val_acc: 0.8793\n",
      "Epoch 9/20\n",
      "15000/15000 [==============================] - 5s 352us/sample - loss: 0.0734 - acc: 0.9809 - val_loss: 0.3420 - val_acc: 0.8814\n",
      "Epoch 10/20\n",
      "15000/15000 [==============================] - 5s 344us/sample - loss: 0.0627 - acc: 0.9835 - val_loss: 0.3619 - val_acc: 0.8782\n",
      "Epoch 11/20\n",
      "15000/15000 [==============================] - 5s 351us/sample - loss: 0.0507 - acc: 0.9881 - val_loss: 0.4578 - val_acc: 0.8645\n",
      "Epoch 12/20\n",
      "15000/15000 [==============================] - 5s 338us/sample - loss: 0.0438 - acc: 0.9893 - val_loss: 0.4216 - val_acc: 0.8721\n",
      "Epoch 13/20\n",
      "15000/15000 [==============================] - 5s 339us/sample - loss: 0.0343 - acc: 0.9935 - val_loss: 0.5233 - val_acc: 0.8526\n",
      "Epoch 14/20\n",
      "15000/15000 [==============================] - 6s 372us/sample - loss: 0.0292 - acc: 0.9945 - val_loss: 0.4826 - val_acc: 0.8743\n",
      "Epoch 15/20\n",
      "15000/15000 [==============================] - 5s 357us/sample - loss: 0.0240 - acc: 0.9965 - val_loss: 0.4964 - val_acc: 0.8719\n",
      "Epoch 16/20\n",
      "15000/15000 [==============================] - 5s 336us/sample - loss: 0.0200 - acc: 0.9963 - val_loss: 0.5320 - val_acc: 0.8714\n",
      "Epoch 17/20\n",
      "15000/15000 [==============================] - 5s 337us/sample - loss: 0.0156 - acc: 0.9981 - val_loss: 0.5591 - val_acc: 0.8674\n",
      "Epoch 18/20\n",
      "15000/15000 [==============================] - 5s 338us/sample - loss: 0.0131 - acc: 0.9987 - val_loss: 0.5937 - val_acc: 0.8695\n",
      "Epoch 19/20\n",
      "15000/15000 [==============================] - 5s 342us/sample - loss: 0.0080 - acc: 0.9997 - val_loss: 0.6489 - val_acc: 0.8677\n",
      "Epoch 20/20\n",
      "15000/15000 [==============================] - 6s 368us/sample - loss: 0.0081 - acc: 0.9993 - val_loss: 0.6542 - val_acc: 0.8653\n"
     ]
    }
   ],
   "source": [
    "# Train the model\n",
    "hist_original = model_original.fit(partial_x_train, partial_y_train, epochs=20, batch_size=512, \n",
    "                  validation_data=(x_val, y_val))"
   ]
  },
  {
   "cell_type": "markdown",
   "metadata": {},
   "source": [
    "## Model 2 - Lower Capacity Model\n",
    "A model with fewer layers or fewer hidden units per layers is said to have a lower learning capacity - there are fewer parameters that it can use to learn an I/O mapping between sanmples and targets."
   ]
  },
  {
   "cell_type": "code",
   "execution_count": 83,
   "metadata": {},
   "outputs": [],
   "source": [
    "model_low_capacity = models.Sequential()\n",
    "model_low_capacity.add(layers.Dense(units=4, activation='relu', input_shape=(10000,)))\n",
    "model_low_capacity.add(layers.Dense(units=4, activation='relu'))\n",
    "model_low_capacity.add(layers.Dense(units=1, activation='sigmoid'))\n",
    "\n",
    "model_low_capacity.compile(optimizer='rmsprop', metrics=['accuracy'], loss='binary_crossentropy')"
   ]
  },
  {
   "cell_type": "code",
   "execution_count": 84,
   "metadata": {},
   "outputs": [
    {
     "name": "stdout",
     "output_type": "stream",
     "text": [
      "Train on 15000 samples, validate on 10000 samples\n",
      "Epoch 1/20\n",
      "15000/15000 [==============================] - 6s 372us/sample - loss: 0.6465 - acc: 0.6485 - val_loss: 0.6089 - val_acc: 0.7934\n",
      "Epoch 2/20\n",
      "15000/15000 [==============================] - 5s 326us/sample - loss: 0.5668 - acc: 0.7627 - val_loss: 0.5563 - val_acc: 0.7659\n",
      "Epoch 3/20\n",
      "15000/15000 [==============================] - 5s 309us/sample - loss: 0.5143 - acc: 0.8258 - val_loss: 0.5163 - val_acc: 0.8294\n",
      "Epoch 4/20\n",
      "15000/15000 [==============================] - 5s 343us/sample - loss: 0.4718 - acc: 0.8679 - val_loss: 0.4973 - val_acc: 0.8141\n",
      "Epoch 5/20\n",
      "15000/15000 [==============================] - 5s 313us/sample - loss: 0.4411 - acc: 0.8919 - val_loss: 0.4860 - val_acc: 0.8192\n",
      "Epoch 6/20\n",
      "15000/15000 [==============================] - 5s 313us/sample - loss: 0.4174 - acc: 0.9109 - val_loss: 0.4628 - val_acc: 0.8800\n",
      "Epoch 7/20\n",
      "15000/15000 [==============================] - 5s 318us/sample - loss: 0.3980 - acc: 0.9252 - val_loss: 0.4536 - val_acc: 0.8778\n",
      "Epoch 8/20\n",
      "15000/15000 [==============================] - 5s 312us/sample - loss: 0.3812 - acc: 0.9364 - val_loss: 0.4537 - val_acc: 0.8600\n",
      "Epoch 9/20\n",
      "15000/15000 [==============================] - 5s 309us/sample - loss: 0.3654 - acc: 0.9433 - val_loss: 0.4516 - val_acc: 0.8591\n",
      "Epoch 10/20\n",
      "15000/15000 [==============================] - 5s 316us/sample - loss: 0.3514 - acc: 0.9507 - val_loss: 0.4396 - val_acc: 0.8736\n",
      "Epoch 11/20\n",
      "15000/15000 [==============================] - 5s 307us/sample - loss: 0.3381 - acc: 0.9579 - val_loss: 0.4441 - val_acc: 0.8678\n",
      "Epoch 12/20\n",
      "15000/15000 [==============================] - 5s 312us/sample - loss: 0.3266 - acc: 0.9614 - val_loss: 0.4510 - val_acc: 0.8604\n",
      "Epoch 13/20\n",
      "15000/15000 [==============================] - 5s 313us/sample - loss: 0.3154 - acc: 0.9663 - val_loss: 0.4705 - val_acc: 0.8466\n",
      "Epoch 14/20\n",
      "15000/15000 [==============================] - 5s 313us/sample - loss: 0.3045 - acc: 0.9703 - val_loss: 0.4512 - val_acc: 0.8610\n",
      "Epoch 15/20\n",
      "15000/15000 [==============================] - 5s 311us/sample - loss: 0.2947 - acc: 0.9729 - val_loss: 0.4633 - val_acc: 0.8561\n",
      "Epoch 16/20\n",
      "15000/15000 [==============================] - 5s 322us/sample - loss: 0.2849 - acc: 0.9765 - val_loss: 0.4606 - val_acc: 0.8595\n",
      "Epoch 17/20\n",
      "15000/15000 [==============================] - 5s 309us/sample - loss: 0.2764 - acc: 0.9797 - val_loss: 0.4499 - val_acc: 0.8633\n",
      "Epoch 18/20\n",
      "15000/15000 [==============================] - 5s 315us/sample - loss: 0.2674 - acc: 0.9811 - val_loss: 0.4828 - val_acc: 0.8530\n",
      "Epoch 19/20\n",
      "15000/15000 [==============================] - 5s 321us/sample - loss: 0.2598 - acc: 0.9824 - val_loss: 0.4454 - val_acc: 0.8680\n",
      "Epoch 20/20\n",
      "15000/15000 [==============================] - 5s 320us/sample - loss: 0.2521 - acc: 0.9843 - val_loss: 0.4754 - val_acc: 0.8583\n"
     ]
    }
   ],
   "source": [
    "# Training the model using the same data, epochs, validation set and batch size\n",
    "hist_lower_capacity = model_low_capacity.fit(partial_x_train, partial_y_train, epochs=20, batch_size=512,\n",
    "                                            validation_data=(x_val, y_val))"
   ]
  },
  {
   "cell_type": "markdown",
   "metadata": {},
   "source": [
    "## Comparing Validation Loss for Both Models"
   ]
  },
  {
   "cell_type": "code",
   "execution_count": 86,
   "metadata": {},
   "outputs": [],
   "source": [
    "import matplotlib.pyplot as plt\n",
    "%matplotlib inline"
   ]
  },
  {
   "cell_type": "code",
   "execution_count": 87,
   "metadata": {},
   "outputs": [
    {
     "data": {
      "image/png": "[encoded data removed]",
      "text/plain": [
       "<Figure size 432x288 with 1 Axes>"
      ]
     },
     "metadata": {
      "needs_background": "light"
     },
     "output_type": "display_data"
    }
   ],
   "source": [
    "# Extracting data\n",
    "epochs = range(1, len(hist_original.history['val_loss']) + 1)\n",
    "val_loss_original = hist_original.history['val_loss']\n",
    "val_loss_low_capacity = hist_lower_capacity.history['val_loss']\n",
    "\n",
    "# Plotting values\n",
    "plt.figure(); plt.plot(epochs, val_loss_original, 'b+', label='Original Model')\n",
    "plt.plot(epochs, val_loss_low_capacity, 'bo', label='Smaller Model')\n",
    "plt.grid(True); plt.xlabel('Epochs'); plt.ylabel('Loss'); plt.legend()\n",
    "plt.title('Effect of Model Capacity on Validation Loss')\n",
    "plt.show()"
   ]
  },
  {
   "cell_type": "markdown",
   "metadata": {},
   "source": [
    "## Model 3 - Higher Capacity"
   ]
  },
  {
   "cell_type": "code",
   "execution_count": 85,
   "metadata": {},
   "outputs": [],
   "source": [
    "model_higher_capacity = models.Sequential()\n",
    "model_higher_capacity.add(layers.Dense(activation='relu', units=512, input_shape=(10000,)))\n",
    "model_higher_capacity.add(layers.Dense(activation='relu', units=512))\n",
    "model_higher_capacity.add(layers.Dense(activation='sigmoid', units=1))\n",
    "model_higher_capacity.compile(optimizer='rmsprop', loss='binary_crossentropy', metrics=['accuracy'])"
   ]
  },
  {
   "cell_type": "code",
   "execution_count": 89,
   "metadata": {},
   "outputs": [
    {
     "name": "stdout",
     "output_type": "stream",
     "text": [
      "Train on 15000 samples, validate on 10000 samples\n",
      "Epoch 1/20\n",
      "15000/15000 [==============================] - 21s 1ms/sample - loss: 0.5377 - acc: 0.7668 - val_loss: 0.3742 - val_acc: 0.8413\n",
      "Epoch 2/20\n",
      "15000/15000 [==============================] - 18s 1ms/sample - loss: 0.2563 - acc: 0.8957 - val_loss: 0.3178 - val_acc: 0.8709\n",
      "Epoch 3/20\n",
      "15000/15000 [==============================] - 19s 1ms/sample - loss: 0.1622 - acc: 0.9369 - val_loss: 0.3023 - val_acc: 0.8802\n",
      "Epoch 4/20\n",
      "15000/15000 [==============================] - 19s 1ms/sample - loss: 0.0634 - acc: 0.9792 - val_loss: 0.4416 - val_acc: 0.8736\n",
      "Epoch 5/20\n",
      "15000/15000 [==============================] - 18s 1ms/sample - loss: 0.0865 - acc: 0.9794 - val_loss: 0.3368 - val_acc: 0.8877\n",
      "Epoch 6/20\n",
      "15000/15000 [==============================] - 17s 1ms/sample - loss: 0.0042 - acc: 0.9997 - val_loss: 0.4953 - val_acc: 0.8883\n",
      "Epoch 7/20\n",
      "15000/15000 [==============================] - 21s 1ms/sample - loss: 3.7796e-04 - acc: 1.0000 - val_loss: 0.6015 - val_acc: 0.8868\n",
      "Epoch 8/20\n",
      "15000/15000 [==============================] - 19s 1ms/sample - loss: 6.2829e-05 - acc: 1.0000 - val_loss: 0.6811 - val_acc: 0.8856\n",
      "Epoch 9/20\n",
      "15000/15000 [==============================] - 19s 1ms/sample - loss: 1.1073e-05 - acc: 1.0000 - val_loss: 0.7633 - val_acc: 0.8850\n",
      "Epoch 10/20\n",
      "15000/15000 [==============================] - 21s 1ms/sample - loss: 2.4720e-06 - acc: 1.0000 - val_loss: 0.8158 - val_acc: 0.8850\n",
      "Epoch 11/20\n",
      "15000/15000 [==============================] - 20s 1ms/sample - loss: 8.2423e-07 - acc: 1.0000 - val_loss: 0.8656 - val_acc: 0.8842\n",
      "Epoch 12/20\n",
      "15000/15000 [==============================] - 19s 1ms/sample - loss: 3.2604e-07 - acc: 1.0000 - val_loss: 0.9040 - val_acc: 0.8852\n",
      "Epoch 13/20\n",
      "15000/15000 [==============================] - 19s 1ms/sample - loss: 1.7953e-07 - acc: 1.0000 - val_loss: 0.9330 - val_acc: 0.8844\n",
      "Epoch 14/20\n",
      "15000/15000 [==============================] - 20s 1ms/sample - loss: 1.3768e-07 - acc: 1.0000 - val_loss: 0.9538 - val_acc: 0.8854\n",
      "Epoch 15/20\n",
      "15000/15000 [==============================] - 19s 1ms/sample - loss: 1.2356e-07 - acc: 1.0000 - val_loss: 0.9655 - val_acc: 0.8849\n",
      "Epoch 16/20\n",
      "15000/15000 [==============================] - 19s 1ms/sample - loss: 1.1760e-07 - acc: 1.0000 - val_loss: 0.9752 - val_acc: 0.8847\n",
      "Epoch 17/20\n",
      "15000/15000 [==============================] - 20s 1ms/sample - loss: 1.1496e-07 - acc: 1.0000 - val_loss: 0.9813 - val_acc: 0.8856\n",
      "Epoch 18/20\n",
      "15000/15000 [==============================] - 18s 1ms/sample - loss: 1.1351e-07 - acc: 1.0000 - val_loss: 0.9862 - val_acc: 0.8851\n",
      "Epoch 19/20\n",
      "15000/15000 [==============================] - 19s 1ms/sample - loss: 1.1238e-07 - acc: 1.0000 - val_loss: 0.9905 - val_acc: 0.8850\n",
      "Epoch 20/20\n",
      "15000/15000 [==============================] - 20s 1ms/sample - loss: 1.1185e-07 - acc: 1.0000 - val_loss: 0.9937 - val_acc: 0.8858\n"
     ]
    }
   ],
   "source": [
    "hist_higher_capacity = model_higher_capacity.fit(partial_x_train, partial_y_train, \n",
    "                                                epochs=20, batch_size=512, \n",
    "                                                validation_data=(x_val, y_val))"
   ]
  },
  {
   "cell_type": "code",
   "execution_count": 90,
   "metadata": {},
   "outputs": [
    {
     "data": {
      "image/png": "[encoded data removed]",
      "text/plain": [
       "<Figure size 432x288 with 1 Axes>"
      ]
     },
     "metadata": {
      "needs_background": "light"
     },
     "output_type": "display_data"
    }
   ],
   "source": [
    "# Extracting data\n",
    "epochs = range(1, len(hist_original.history['val_loss']) + 1)\n",
    "val_loss_original = hist_original.history['val_loss']\n",
    "val_loss_high_capacity = hist_higher_capacity.history['val_loss']\n",
    "\n",
    "# Plotting values\n",
    "plt.figure(); plt.plot(epochs, val_loss_original, 'b+', label='Original Model')\n",
    "plt.plot(epochs, val_loss_high_capacity, 'bo', label='Larger Model')\n",
    "plt.grid(True); plt.xlabel('Epochs'); plt.ylabel('Loss'); plt.legend()\n",
    "plt.title('Effect of Model Capacity on Validation Loss')\n",
    "plt.show()"
   ]
  },
  {
   "cell_type": "markdown",
   "metadata": {},
   "source": [
    "The larger model starts overfitting around 3p epochs while the smaller model starts overfitting around 5 or 6 epochs. Once overfitting begins, the larger model overfits at a greater rate than the original model. \n",
    "\n",
    "This shows that having a model with too large a capacity promotes ovefitting because the model has more parameters that it can use to map the training inputs to outputs. The generalization capability for the second model is almost zero - it has the maximum possible validation loss, which shows it's a very poorly generalized/overoptimized model."
   ]
  },
  {
   "cell_type": "code",
   "execution_count": 92,
   "metadata": {},
   "outputs": [
    {
     "data": {
      "image/png": "[encoded data removed]",
      "text/plain": [
       "<Figure size 432x288 with 1 Axes>"
      ]
     },
     "metadata": {
      "needs_background": "light"
     },
     "output_type": "display_data"
    }
   ],
   "source": [
    "# Also plotting the training loss\n",
    "# Extracting data\n",
    "epochs = range(1, len(hist_original.history['loss']) + 1)\n",
    "train_loss_original = hist_original.history['loss']\n",
    "train_loss_high_capacity = hist_higher_capacity.history['loss']\n",
    "\n",
    "# Plotting values\n",
    "plt.plot(epochs, train_loss_high_capacity, 'bo', label='Larger Model')\n",
    "plt.grid(True); plt.xlabel('Epochs'); plt.ylabel('Loss'); plt.legend()\n",
    "plt.title('Effect of Model Capacity on Training Loss')\n",
    "plt.show()"
   ]
  },
  {
   "cell_type": "markdown",
   "metadata": {},
   "source": [
    "## Weight Regularization\n",
    "Based on Occam's Razor, a simpler model is more likely to be correct and make accurate predictions than a complex one. A simpler model is one that has lower crossentropy. Concretely, this means\n",
    "- the model has fewer parameters\n",
    "    - fewer layers\n",
    "    - fewer hidden units per layer\n",
    "- the model has regularized weights\n",
    "\n",
    "This means the model's weights are distributed more regularly - there is smaller deviation in the value of the weights. Regularization is achieved by attaching a cost to the model's optimizer - the cost is a quantity that the model's optimizer will attempt to minimize while also minimising the loss. \n",
    "\n",
    "So weight regularization is an added constraint on models that prevents them from becoming too complex and incentivizes the optimizer to find weight values that satisfy two (often conflicting) requirements\n",
    "- weight magnitudes should not be too large and should only take small values\n",
    "- weights should be such that they minimise the loss\n",
    "\n",
    "The larger the value of the weigths, the larger the cost. \n",
    "\n",
    "### Weight Regularization Techniques\n",
    "- L1 Regularization: Proportional to the absolute value of the weight coefficients.\n",
    "- L2 Regularization: Proportional to the square of the value of the weight coefficients i.e. the L2 norm of the weights. Also known as weight decay."
   ]
  },
  {
   "cell_type": "markdown",
   "metadata": {},
   "source": [
    "## Model 3 - L2 Weight Regularization\n",
    "\n",
    "In the following model, each parameter/weight will ad 0.001 times its value to the total cost of the network. This penalty is only added at training time, so loss for the network will be much higher at training than at test time.\n",
    "\n",
    "This is because the training loss is no longer being optimized on its own. It is being optimized with the added constraint of minimizing the cost of having very large weights too. So the weights optimised during training will not be the best possible weights for minimal training loss.\n",
    "\n",
    "However, because the regularization will have improved the generalizing power of the neural network, this means the loss on the test data will be lower."
   ]
  },
  {
   "cell_type": "code",
   "execution_count": 101,
   "metadata": {},
   "outputs": [],
   "source": [
    "from tensorflow.keras import regularizers\\\n",
    "\n",
    "model_L2 = models.Sequential()\n",
    "model_L2.add(layers.Dense(16, kernel_regularizer=regularizers.l2(0.001), \n",
    "                         activation='relu', input_shape=(10000,)))\n",
    "model_L2.add(layers.Dense(16, kernel_regularizer=regularizers.l2(0.001), \n",
    "                         activation='relu'))\n",
    "model_L2.add(layers.Dense(1, activation='sigmoid'))\n",
    "\n",
    "model_L2.compile(optimizer='rmsprop', loss='binary_crossentropy', metrics=['accuracy'])"
   ]
  },
  {
   "cell_type": "code",
   "execution_count": 102,
   "metadata": {},
   "outputs": [
    {
     "name": "stdout",
     "output_type": "stream",
     "text": [
      "Train on 15000 samples, validate on 10000 samples\n",
      "Epoch 1/20\n",
      "15000/15000 [==============================] - 6s 429us/sample - loss: 0.5701 - acc: 0.7924 - val_loss: 0.4505 - val_acc: 0.8685\n",
      "Epoch 2/20\n",
      "15000/15000 [==============================] - 5s 340us/sample - loss: 0.3783 - acc: 0.8997 - val_loss: 0.3798 - val_acc: 0.8767\n",
      "Epoch 3/20\n",
      "15000/15000 [==============================] - 5s 341us/sample - loss: 0.3007 - acc: 0.9207 - val_loss: 0.3377 - val_acc: 0.8904\n",
      "Epoch 4/20\n",
      "15000/15000 [==============================] - 5s 339us/sample - loss: 0.2601 - acc: 0.9309 - val_loss: 0.3302 - val_acc: 0.8868\n",
      "Epoch 5/20\n",
      "15000/15000 [==============================] - 5s 345us/sample - loss: 0.2376 - acc: 0.9393 - val_loss: 0.3387 - val_acc: 0.8839\n",
      "Epoch 6/20\n",
      "15000/15000 [==============================] - 5s 341us/sample - loss: 0.2202 - acc: 0.9473 - val_loss: 0.3451 - val_acc: 0.8813\n",
      "Epoch 7/20\n",
      "15000/15000 [==============================] - 5s 340us/sample - loss: 0.2082 - acc: 0.9491 - val_loss: 0.3500 - val_acc: 0.8820\n",
      "Epoch 8/20\n",
      "15000/15000 [==============================] - 5s 342us/sample - loss: 0.1963 - acc: 0.9583 - val_loss: 0.3469 - val_acc: 0.8836\n",
      "Epoch 9/20\n",
      "15000/15000 [==============================] - 5s 342us/sample - loss: 0.1931 - acc: 0.9558 - val_loss: 0.3539 - val_acc: 0.8810\n",
      "Epoch 10/20\n",
      "15000/15000 [==============================] - 5s 343us/sample - loss: 0.1823 - acc: 0.9610 - val_loss: 0.3634 - val_acc: 0.8805\n",
      "Epoch 11/20\n",
      "15000/15000 [==============================] - 6s 382us/sample - loss: 0.1805 - acc: 0.9611 - val_loss: 0.3722 - val_acc: 0.8807\n",
      "Epoch 12/20\n",
      "15000/15000 [==============================] - 5s 342us/sample - loss: 0.1716 - acc: 0.9649 - val_loss: 0.3755 - val_acc: 0.8785\n",
      "Epoch 13/20\n",
      "15000/15000 [==============================] - 5s 351us/sample - loss: 0.1742 - acc: 0.9643 - val_loss: 0.3844 - val_acc: 0.8758\n",
      "Epoch 14/20\n",
      "15000/15000 [==============================] - 5s 349us/sample - loss: 0.1623 - acc: 0.9687 - val_loss: 0.3897 - val_acc: 0.8779\n",
      "Epoch 15/20\n",
      "15000/15000 [==============================] - 5s 347us/sample - loss: 0.1644 - acc: 0.9668 - val_loss: 0.3941 - val_acc: 0.8774\n",
      "Epoch 16/20\n",
      "15000/15000 [==============================] - 6s 382us/sample - loss: 0.1553 - acc: 0.9719 - val_loss: 0.4015 - val_acc: 0.8745\n",
      "Epoch 17/20\n",
      "15000/15000 [==============================] - 5s 346us/sample - loss: 0.1596 - acc: 0.9672 - val_loss: 0.4075 - val_acc: 0.8775\n",
      "Epoch 18/20\n",
      "15000/15000 [==============================] - 5s 342us/sample - loss: 0.1521 - acc: 0.9726 - val_loss: 0.4242 - val_acc: 0.8694\n",
      "Epoch 19/20\n",
      "15000/15000 [==============================] - 5s 341us/sample - loss: 0.1471 - acc: 0.9744 - val_loss: 0.4435 - val_acc: 0.8699\n",
      "Epoch 20/20\n",
      "15000/15000 [==============================] - 5s 342us/sample - loss: 0.1473 - acc: 0.9726 - val_loss: 0.4258 - val_acc: 0.8754\n"
     ]
    }
   ],
   "source": [
    "# Train the regularized model\n",
    "hist_L2 = model_L2.fit(partial_x_train, partial_y_train, batch_size=512, epochs=20, \n",
    "                      validation_data=(x_val, y_val))"
   ]
  },
  {
   "cell_type": "code",
   "execution_count": 105,
   "metadata": {},
   "outputs": [
    {
     "data": {
      "image/png": "[encoded data removed]",
      "text/plain": [
       "<Figure size 432x288 with 1 Axes>"
      ]
     },
     "metadata": {
      "needs_background": "light"
     },
     "output_type": "display_data"
    }
   ],
   "source": [
    "# Plotting the validation loss for the regularized network on the same plot as the original\n",
    "# Extracting data\n",
    "epochs = range(1, len(hist_original.history['val_loss']) + 1)\n",
    "val_loss_original = hist_original.history['val_loss']\n",
    "val_loss_L2 = hist_L2.history['val_loss']\n",
    "\n",
    "# Plotting values\n",
    "plt.figure(); \n",
    "plt.plot(epochs, val_loss_original, 'b+', label='Original Model')\n",
    "plt.plot(epochs, val_loss_L2, 'bo', label='L2 Regularized Model')\n",
    "plt.xlabel('Epochs'); plt.ylabel('Validation Loss'); plt.grid(True); plt.legend()\n",
    "plt.title('Effect of Regularization on Validation Loss'); plt.show()"
   ]
  },
  {
   "cell_type": "markdown",
   "metadata": {},
   "source": [
    "Regularization's effect is evident: the regularized network still overfits, but is much more resistant to overfitting over 20 epochs than the first model. This can be seen by the fact that the even though both models start overfitting around 4 epochs, the regularized model's validation loss increases at a much lower rate than the original model's. This is why at the end of 20 epochs, the regularized model's validation loss is susbtantially lower than the original model's."
   ]
  },
  {
   "cell_type": "markdown",
   "metadata": {},
   "source": [
    "## Dropout\n",
    "Another regularization technique which involves setting the outputs of a random number of activation units in a layer to 0. This adds noise to to the neural network's output during training that helps mitigate the effect of happenstance patterns that aren't significant."
   ]
  },
  {
   "cell_type": "code",
   "execution_count": 107,
   "metadata": {},
   "outputs": [
    {
     "name": "stdout",
     "output_type": "stream",
     "text": [
      "WARNING:tensorflow:From C:\\Users\\saads\\Anaconda3\\lib\\site-packages\\tensorflow\\python\\keras\\layers\\core.py:143: calling dropout (from tensorflow.python.ops.nn_ops) with keep_prob is deprecated and will be removed in a future version.\n",
      "Instructions for updating:\n",
      "Please use `rate` instead of `keep_prob`. Rate should be set to `rate = 1 - keep_prob`.\n"
     ]
    }
   ],
   "source": [
    "# Create a new model\n",
    "model_dropout = models.Sequential()\n",
    "model_dropout.add(layers.Dense(16, activation='relu', input_shape=(10000,)))\n",
    "model_dropout.add(layers.Dropout(0.5))\n",
    "model_dropout.add(layers.Dense(16, activation='relu'))\n",
    "model_dropout.add(layers.Dropout(0.5))\n",
    "model_dropout.add(layers.Dense(1, activation='sigmoid'))"
   ]
  },
  {
   "cell_type": "code",
   "execution_count": 108,
   "metadata": {},
   "outputs": [],
   "source": [
    "# Compiling the model\n",
    "model_dropout.compile(optimizer='rmsprop', loss='binary_crossentropy', metrics=['accuracy'])"
   ]
  },
  {
   "cell_type": "code",
   "execution_count": 110,
   "metadata": {},
   "outputs": [
    {
     "name": "stdout",
     "output_type": "stream",
     "text": [
      "Train on 15000 samples, validate on 10000 samples\n",
      "Epoch 1/20\n",
      "15000/15000 [==============================] - 6s 430us/sample - loss: 0.6201 - acc: 0.6506 - val_loss: 0.4762 - val_acc: 0.8521\n",
      "Epoch 2/20\n",
      "15000/15000 [==============================] - 6s 384us/sample - loss: 0.4736 - acc: 0.7947 - val_loss: 0.3918 - val_acc: 0.8638\n",
      "Epoch 3/20\n",
      "15000/15000 [==============================] - 7s 450us/sample - loss: 0.3869 - acc: 0.8457 - val_loss: 0.3223 - val_acc: 0.8802\n",
      "Epoch 4/20\n",
      "15000/15000 [==============================] - 5s 352us/sample - loss: 0.3243 - acc: 0.8770 - val_loss: 0.2875 - val_acc: 0.8887\n",
      "Epoch 5/20\n",
      "15000/15000 [==============================] - 6s 376us/sample - loss: 0.2814 - acc: 0.9013 - val_loss: 0.2723 - val_acc: 0.8916\n",
      "Epoch 6/20\n",
      "15000/15000 [==============================] - 5s 361us/sample - loss: 0.2463 - acc: 0.9143 - val_loss: 0.2787 - val_acc: 0.8894\n",
      "Epoch 7/20\n",
      "15000/15000 [==============================] - 6s 401us/sample - loss: 0.2146 - acc: 0.9295 - val_loss: 0.2772 - val_acc: 0.8915\n",
      "Epoch 8/20\n",
      "15000/15000 [==============================] - 6s 369us/sample - loss: 0.1861 - acc: 0.9403 - val_loss: 0.2893 - val_acc: 0.8909\n",
      "Epoch 9/20\n",
      "15000/15000 [==============================] - 6s 388us/sample - loss: 0.1679 - acc: 0.9451 - val_loss: 0.3008 - val_acc: 0.8907\n",
      "Epoch 10/20\n",
      "15000/15000 [==============================] - 5s 353us/sample - loss: 0.1452 - acc: 0.9523 - val_loss: 0.3222 - val_acc: 0.8919\n",
      "Epoch 11/20\n",
      "15000/15000 [==============================] - 5s 351us/sample - loss: 0.1336 - acc: 0.9572 - val_loss: 0.3543 - val_acc: 0.8887\n",
      "Epoch 12/20\n",
      "15000/15000 [==============================] - 5s 350us/sample - loss: 0.1164 - acc: 0.9615 - val_loss: 0.3960 - val_acc: 0.8821\n",
      "Epoch 13/20\n",
      "15000/15000 [==============================] - 5s 351us/sample - loss: 0.1058 - acc: 0.9654 - val_loss: 0.3924 - val_acc: 0.8842\n",
      "Epoch 14/20\n",
      "15000/15000 [==============================] - 5s 351us/sample - loss: 0.0988 - acc: 0.9674 - val_loss: 0.4192 - val_acc: 0.8873\n",
      "Epoch 15/20\n",
      "15000/15000 [==============================] - 5s 354us/sample - loss: 0.0900 - acc: 0.9701 - val_loss: 0.4626 - val_acc: 0.8863\n",
      "Epoch 16/20\n",
      "15000/15000 [==============================] - 5s 347us/sample - loss: 0.0832 - acc: 0.9735 - val_loss: 0.4667 - val_acc: 0.8835\n",
      "Epoch 17/20\n",
      "15000/15000 [==============================] - 5s 342us/sample - loss: 0.0831 - acc: 0.9737 - val_loss: 0.5054 - val_acc: 0.8854\n",
      "Epoch 18/20\n",
      "15000/15000 [==============================] - 5s 348us/sample - loss: 0.0751 - acc: 0.9747 - val_loss: 0.5317 - val_acc: 0.8817\n",
      "Epoch 19/20\n",
      "15000/15000 [==============================] - 5s 353us/sample - loss: 0.0682 - acc: 0.9786 - val_loss: 0.5527 - val_acc: 0.8817\n",
      "Epoch 20/20\n",
      "15000/15000 [==============================] - 5s 341us/sample - loss: 0.0688 - acc: 0.9783 - val_loss: 0.5882 - val_acc: 0.8804\n"
     ]
    }
   ],
   "source": [
    "hist_dropout = model_dropout.fit(partial_x_train, partial_y_train, epochs=20, batch_size=512,\n",
    "                               validation_data=(x_val, y_val))"
   ]
  },
  {
   "cell_type": "code",
   "execution_count": 111,
   "metadata": {},
   "outputs": [
    {
     "data": {
      "image/png": "[encoded data removed]",
      "text/plain": [
       "<Figure size 432x288 with 1 Axes>"
      ]
     },
     "metadata": {
      "needs_background": "light"
     },
     "output_type": "display_data"
    }
   ],
   "source": [
    "# Plotting the validation loss for the regularized network on the same plot as the original\n",
    "# Extracting data\n",
    "epochs = range(1, len(hist_original.history['val_loss']) + 1)\n",
    "val_loss_original = hist_original.history['val_loss']\n",
    "val_loss_dropout = hist_dropout.history['val_loss']\n",
    "\n",
    "# Plotting values\n",
    "plt.figure(); \n",
    "plt.plot(epochs, val_loss_original, 'b+', label='Original Model')\n",
    "plt.plot(epochs, val_loss_dropout, 'bo', label='Dropout Model')\n",
    "plt.xlabel('Epochs'); plt.ylabel('Validation Loss'); plt.grid(True); plt.legend()\n",
    "plt.title('Effect of Dropout on Validation Loss'); plt.show()"
   ]
  },
  {
   "cell_type": "markdown",
   "metadata": {},
   "source": [
    "Not as marked an effect on overfitting as was observed in the case of L2 regularization, but it is still an improvement. With dropout, the validation loss still follows the trend of the original model, but the validation loss is slightly lower than the original's after overfitting."
   ]
  },
  {
   "cell_type": "code",
   "execution_count": null,
   "metadata": {},
   "outputs": [],
   "source": []
  }
 ],
 "metadata": {
  "kernelspec": {
   "display_name": "Python 3",
   "language": "python",
   "name": "python3"
  },
  "language_info": {
   "codemirror_mode": {
    "name": "ipython",
    "version": 3
   },
   "file_extension": ".py",
   "mimetype": "text/x-python",
   "name": "python",
   "nbconvert_exporter": "python",
   "pygments_lexer": "ipython3",
   "version": "3.7.0"
  }
 },
 "nbformat": 4,
 "nbformat_minor": 2
}
