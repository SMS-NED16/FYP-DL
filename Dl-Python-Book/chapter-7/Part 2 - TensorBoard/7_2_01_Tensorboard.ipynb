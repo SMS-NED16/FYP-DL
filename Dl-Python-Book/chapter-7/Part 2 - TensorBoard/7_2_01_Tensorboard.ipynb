{
 "cells": [
  {
   "cell_type": "markdown",
   "metadata": {
    "colab_type": "text",
    "id": "NtCJZvGk-AbQ"
   },
   "source": [
    "# Deep Learning with Python - Chapter 7 \n",
    "\n",
    "# TensorBoard"
   ]
  },
  {
   "cell_type": "markdown",
   "metadata": {
    "colab_type": "text",
    "id": "LA-6J0VR-FYQ"
   },
   "source": [
    "# Example 1 - `IMDb` with TensorBoard"
   ]
  },
  {
   "cell_type": "markdown",
   "metadata": {
    "colab_type": "text",
    "id": "Hunx8hQpBDd6"
   },
   "source": [
    "## Imports"
   ]
  },
  {
   "cell_type": "code",
   "execution_count": 0,
   "metadata": {
    "colab": {},
    "colab_type": "code",
    "id": "0wPQG-7C-OrS"
   },
   "outputs": [],
   "source": [
    "%tensorflow_version 2.x   \n",
    "import tensorflow\n",
    "\n",
    "# Tensorboard will only work when keras is used with a TF backend\n",
    "import keras \n",
    "from tensorflow.keras import layers\n",
    "from tensorflow.keras.datasets import imdb \n",
    "from tensorflow.keras.preprocessing import sequence\n",
    "from tensorflow.keras.models import Sequential\n",
    "\n",
    "# For specifying filepaths\n",
    "import datetime\n",
    "import os"
   ]
  },
  {
   "cell_type": "markdown",
   "metadata": {
    "colab_type": "text",
    "id": "svRNX2QTBEwC"
   },
   "source": [
    "## Loading and Processing Data"
   ]
  },
  {
   "cell_type": "code",
   "execution_count": 0,
   "metadata": {
    "colab": {},
    "colab_type": "code",
    "id": "dlHXvextAyLX"
   },
   "outputs": [],
   "source": [
    "# Limiting review vocabulary to 2000 most frequently occurring words\n",
    "max_features = 2000\n",
    "\n",
    "# Reviews will be cut off after 500 words (among max_features most common words)\n",
    "max_len = 500"
   ]
  },
  {
   "cell_type": "code",
   "execution_count": 3,
   "metadata": {
    "colab": {
     "base_uri": "https://localhost:8080/",
     "height": 51
    },
    "colab_type": "code",
    "id": "FEcjz6ntBCjk",
    "outputId": "efb9ad40-682b-4ced-fd0c-18dbb2bfafaf"
   },
   "outputs": [
    {
     "name": "stdout",
     "output_type": "stream",
     "text": [
      "Downloading data from https://s3.amazonaws.com/text-datasets/imdb.npz\n",
      "17465344/17464789 [==============================] - 1s 0us/step\n"
     ]
    }
   ],
   "source": [
    "(x_train, y_train), (x_test, y_test) = imdb.load_data(num_words=max_features)"
   ]
  },
  {
   "cell_type": "code",
   "execution_count": 0,
   "metadata": {
    "colab": {},
    "colab_type": "code",
    "id": "FGy63AvuBKyO"
   },
   "outputs": [],
   "source": [
    "# Padding all reviews so that they have the same length - 500 words\n",
    "x_train = sequence.pad_sequences(x_train, maxlen=max_len)\n",
    "x_test = sequence.pad_sequences(x_test, maxlen=max_len)"
   ]
  },
  {
   "cell_type": "markdown",
   "metadata": {
    "colab_type": "text",
    "id": "ipNkf0AFCipX"
   },
   "source": [
    "## Creating Model"
   ]
  },
  {
   "cell_type": "code",
   "execution_count": 0,
   "metadata": {
    "colab": {},
    "colab_type": "code",
    "id": "3Ng5dTSrBQ4F"
   },
   "outputs": [],
   "source": [
    "# Creating a Sequential model \n",
    "model = Sequential()"
   ]
  },
  {
   "cell_type": "code",
   "execution_count": 0,
   "metadata": {
    "colab": {},
    "colab_type": "code",
    "id": "tm6BiWPMBUDv"
   },
   "outputs": [],
   "source": [
    "# Embedding layer encodes vectors of 2k-unique to 128-dimensional embeddings\n",
    "model.add(layers.Embedding(max_features, 128, input_length=max_len, name='embed'))"
   ]
  },
  {
   "cell_type": "code",
   "execution_count": 0,
   "metadata": {
    "colab": {},
    "colab_type": "code",
    "id": "PHP4wMzWBxdt"
   },
   "outputs": [],
   "source": [
    "# Add Convolutional and Pooling layers to extract sequence data\n",
    "model.add(layers.Conv1D(32, 7, activation='relu'))\n",
    "model.add(layers.MaxPooling1D(5))\n",
    "\n",
    "model.add(layers.Conv1D(32, 7, activation='relu'))\n",
    "model.add(layers.GlobalMaxPooling1D())"
   ]
  },
  {
   "cell_type": "code",
   "execution_count": 0,
   "metadata": {
    "colab": {},
    "colab_type": "code",
    "id": "qUXLaabvCG24"
   },
   "outputs": [],
   "source": [
    "# Densely connected classifier\n",
    "model.add(layers.Dense(1))"
   ]
  },
  {
   "cell_type": "code",
   "execution_count": 80,
   "metadata": {
    "colab": {
     "base_uri": "https://localhost:8080/",
     "height": 357
    },
    "colab_type": "code",
    "id": "jONouZdFCJd9",
    "outputId": "90c03440-4f8d-4b1e-9f60-109b37003456"
   },
   "outputs": [
    {
     "name": "stdout",
     "output_type": "stream",
     "text": [
      "Model: \"sequential_2\"\n",
      "_________________________________________________________________\n",
      "Layer (type)                 Output Shape              Param #   \n",
      "=================================================================\n",
      "embed (Embedding)            (None, 500, 128)          256000    \n",
      "_________________________________________________________________\n",
      "conv1d_4 (Conv1D)            (None, 494, 32)           28704     \n",
      "_________________________________________________________________\n",
      "max_pooling1d_2 (MaxPooling1 (None, 98, 32)            0         \n",
      "_________________________________________________________________\n",
      "conv1d_5 (Conv1D)            (None, 92, 32)            7200      \n",
      "_________________________________________________________________\n",
      "global_max_pooling1d_2 (Glob (None, 32)                0         \n",
      "_________________________________________________________________\n",
      "dense_2 (Dense)              (None, 1)                 33        \n",
      "=================================================================\n",
      "Total params: 291,937\n",
      "Trainable params: 291,937\n",
      "Non-trainable params: 0\n",
      "_________________________________________________________________\n"
     ]
    }
   ],
   "source": [
    "# What does this model look like?\n",
    "model.summary()"
   ]
  },
  {
   "cell_type": "markdown",
   "metadata": {
    "colab_type": "text",
    "id": "Ya2HZbWACki1"
   },
   "source": [
    "## Compiling Model"
   ]
  },
  {
   "cell_type": "code",
   "execution_count": 0,
   "metadata": {
    "colab": {},
    "colab_type": "code",
    "id": "17xbZBkICLQ0"
   },
   "outputs": [],
   "source": [
    "# Compile the model\n",
    "model.compile(optimizer='rmsprop', loss='binary_crossentropy', metrics=['acc'])"
   ]
  },
  {
   "cell_type": "markdown",
   "metadata": {
    "colab_type": "text",
    "id": "gDygLCljCSd_"
   },
   "source": [
    "## Logs Directory\n",
    "\n",
    "In order to use `TensorBoard`, we must make a \n",
    "directory where `TensorBoard` will store generated logs."
   ]
  },
  {
   "cell_type": "code",
   "execution_count": 100,
   "metadata": {
    "colab": {
     "base_uri": "https://localhost:8080/",
     "height": 34
    },
    "colab_type": "code",
    "id": "_RZjiVKPCZ48",
    "outputId": "d2e3215d-4385-42a4-a40c-da06206692da"
   },
   "outputs": [
    {
     "name": "stdout",
     "output_type": "stream",
     "text": [
      "mkdir: cannot create directory ‘my_log_dir’: File exists\n"
     ]
    }
   ],
   "source": [
    "!mkdir my_log_dir"
   ]
  },
  {
   "cell_type": "code",
   "execution_count": 0,
   "metadata": {
    "colab": {},
    "colab_type": "code",
    "id": "LFf1jI_OL3vP"
   },
   "outputs": [],
   "source": [
    "!touch ./my_log_dir/test.txt"
   ]
  },
  {
   "cell_type": "code",
   "execution_count": 0,
   "metadata": {
    "colab": {},
    "colab_type": "code",
    "id": "cNomiVgnL3tV"
   },
   "outputs": [],
   "source": [
    "log_dir = os.path.join('.', 'my_log_dir')"
   ]
  },
  {
   "cell_type": "code",
   "execution_count": 0,
   "metadata": {
    "colab": {},
    "colab_type": "code",
    "id": "Q2ylNbUVHVHW"
   },
   "outputs": [],
   "source": [
    "callbacks = [tensorflow.keras.callbacks.TensorBoard(\n",
    "                 log_dir=log_dir,                 # Log files will be written at this location \n",
    "                 histogram_freq=1,                # Activation histograms recorded every epoch\n",
    "                 embeddings_freq=1                # Embedding data recorded every epoch\n",
    "             )]"
   ]
  },
  {
   "cell_type": "markdown",
   "metadata": {
    "colab_type": "text",
    "id": "5wA3UzM8HSSW"
   },
   "source": [
    "## Launch TensorBoard\n",
    "\n",
    "First load a Notebook extension that displays `TensorBoard` within the Jupyter notebook.\n",
    "\n",
    "Then launch `TensorBoard` with a magic notebook command. \n",
    "\n",
    "Initially, `TensorBoard` will display no information because the model will not have been `fit` yet, so there will be not logs in the logs directory for `TensorBoard` to read.\n",
    "\n",
    "Will update as soon as we start fitting models."
   ]
  },
  {
   "cell_type": "code",
   "execution_count": 103,
   "metadata": {
    "colab": {
     "base_uri": "https://localhost:8080/",
     "height": 51
    },
    "colab_type": "code",
    "id": "vN21mye1HT5_",
    "outputId": "7e97b9d7-52c4-48e8-84b0-9b535b1a794a"
   },
   "outputs": [
    {
     "name": "stdout",
     "output_type": "stream",
     "text": [
      "The tensorboard extension is already loaded. To reload it, use:\n",
      "  %reload_ext tensorboard\n"
     ]
    }
   ],
   "source": [
    "%load_ext tensorboard"
   ]
  },
  {
   "cell_type": "code",
   "execution_count": null,
   "metadata": {},
   "outputs": [],
   "source": [
    "%tensorboard --logdir ./my_log_dir"
   ]
  },
  {
   "cell_type": "markdown",
   "metadata": {
    "colab_type": "text",
    "id": "6VAIebxMFD8H"
   },
   "source": [
    "## Fitting Model"
   ]
  },
  {
   "cell_type": "code",
   "execution_count": 105,
   "metadata": {
    "colab": {
     "base_uri": "https://localhost:8080/",
     "height": 734
    },
    "colab_type": "code",
    "id": "3jO9cF1IFHcV",
    "outputId": "1c6dd710-8d89-4fef-f7f5-605742180a87"
   },
   "outputs": [
    {
     "name": "stdout",
     "output_type": "stream",
     "text": [
      "Train on 20000 samples, validate on 5000 samples\n",
      "Epoch 1/20\n",
      "20000/20000 [==============================] - 7s 375us/sample - loss: 0.0884 - acc: 0.9931 - val_loss: 1.2261 - val_acc: 0.8670\n",
      "Epoch 2/20\n",
      "20000/20000 [==============================] - 7s 374us/sample - loss: 0.0860 - acc: 0.9930 - val_loss: 1.2122 - val_acc: 0.8676\n",
      "Epoch 3/20\n",
      "20000/20000 [==============================] - 7s 372us/sample - loss: 0.0848 - acc: 0.9935 - val_loss: 1.4027 - val_acc: 0.8612\n",
      "Epoch 4/20\n",
      "20000/20000 [==============================] - 7s 372us/sample - loss: 0.0837 - acc: 0.9926 - val_loss: 1.3138 - val_acc: 0.8614\n",
      "Epoch 5/20\n",
      "20000/20000 [==============================] - 7s 371us/sample - loss: 0.0829 - acc: 0.9937 - val_loss: 1.3107 - val_acc: 0.8640\n",
      "Epoch 6/20\n",
      "20000/20000 [==============================] - 7s 372us/sample - loss: 0.0851 - acc: 0.9931 - val_loss: 1.2939 - val_acc: 0.8676\n",
      "Epoch 7/20\n",
      "20000/20000 [==============================] - 7s 369us/sample - loss: 0.0862 - acc: 0.9930 - val_loss: 1.3408 - val_acc: 0.8666\n",
      "Epoch 8/20\n",
      "20000/20000 [==============================] - 7s 372us/sample - loss: 0.0883 - acc: 0.9932 - val_loss: 1.3044 - val_acc: 0.8666\n",
      "Epoch 9/20\n",
      "20000/20000 [==============================] - 7s 371us/sample - loss: 0.0837 - acc: 0.9937 - val_loss: 1.3841 - val_acc: 0.8662\n",
      "Epoch 10/20\n",
      "20000/20000 [==============================] - 7s 369us/sample - loss: 0.0840 - acc: 0.9937 - val_loss: 1.4066 - val_acc: 0.8658\n",
      "Epoch 11/20\n",
      "20000/20000 [==============================] - 7s 370us/sample - loss: 0.0854 - acc: 0.9936 - val_loss: 1.3721 - val_acc: 0.8724\n",
      "Epoch 12/20\n",
      "20000/20000 [==============================] - 7s 370us/sample - loss: 0.0815 - acc: 0.9942 - val_loss: 1.7859 - val_acc: 0.8420\n",
      "Epoch 13/20\n",
      "20000/20000 [==============================] - 7s 370us/sample - loss: 0.0835 - acc: 0.9941 - val_loss: 1.4082 - val_acc: 0.8682\n",
      "Epoch 14/20\n",
      "20000/20000 [==============================] - 7s 370us/sample - loss: 0.0843 - acc: 0.9935 - val_loss: 1.3980 - val_acc: 0.8670\n",
      "Epoch 15/20\n",
      "20000/20000 [==============================] - 8s 376us/sample - loss: 0.0828 - acc: 0.9940 - val_loss: 1.4057 - val_acc: 0.8702\n",
      "Epoch 16/20\n",
      "20000/20000 [==============================] - 7s 373us/sample - loss: 0.0832 - acc: 0.9935 - val_loss: 1.4753 - val_acc: 0.8634\n",
      "Epoch 17/20\n",
      "20000/20000 [==============================] - 7s 370us/sample - loss: 0.0851 - acc: 0.9934 - val_loss: 2.0523 - val_acc: 0.8220\n",
      "Epoch 18/20\n",
      "20000/20000 [==============================] - 8s 379us/sample - loss: 0.0822 - acc: 0.9938 - val_loss: 1.3695 - val_acc: 0.8676\n",
      "Epoch 19/20\n",
      "20000/20000 [==============================] - 8s 388us/sample - loss: 0.0834 - acc: 0.9941 - val_loss: 1.3873 - val_acc: 0.8656\n",
      "Epoch 20/20\n",
      "20000/20000 [==============================] - 7s 368us/sample - loss: 0.0845 - acc: 0.9934 - val_loss: 1.4673 - val_acc: 0.8632\n"
     ]
    }
   ],
   "source": [
    "history = model.fit(x_train, y_train, epochs=20, batch_size=128, \n",
    "                    validation_split=0.2, callbacks=callbacks)"
   ]
  },
  {
   "cell_type": "markdown",
   "metadata": {
    "colab_type": "text",
    "id": "hHFDWqXqI7L9"
   },
   "source": [
    "## Plotting Model"
   ]
  },
  {
   "cell_type": "code",
   "execution_count": 0,
   "metadata": {
    "colab": {},
    "colab_type": "code",
    "id": "3b80PlffQCqg"
   },
   "outputs": [],
   "source": [
    "from tensorflow.keras.utils import plot_model"
   ]
  },
  {
   "cell_type": "code",
   "execution_count": 109,
   "metadata": {
    "colab": {
     "base_uri": "https://localhost:8080/",
     "height": 661
    },
    "colab_type": "code",
    "id": "ulVvnRjxQEgC",
    "outputId": "48909036-ffd5-44ca-bac5-4785c0dc46a7"
   },
   "outputs": [
    {
     "data": {
      "image/png": "[encoded data removed]",
      "text/plain": [
       "<IPython.core.display.Image object>"
      ]
     },
     "execution_count": 109,
     "metadata": {
      "tags": []
     },
     "output_type": "execute_result"
    }
   ],
   "source": [
    "plot_model(model, to_file='model.png')"
   ]
  },
  {
   "cell_type": "code",
   "execution_count": 110,
   "metadata": {
    "colab": {
     "base_uri": "https://localhost:8080/",
     "height": 754
    },
    "colab_type": "code",
    "id": "3f2c6wl9QGJs",
    "outputId": "4a0978d1-1ac3-4011-ead3-169dc27a9ff4"
   },
   "outputs": [
    {
     "data": {
      "image/png": "[encoded data removed]",
      "text/plain": [
       "<IPython.core.display.Image object>"
      ]
     },
     "execution_count": 110,
     "metadata": {
      "tags": []
     },
     "output_type": "execute_result"
    }
   ],
   "source": [
    "plot_model(model, show_shapes=True, to_file='model_shapes.png')"
   ]
  },
  {
   "cell_type": "code",
   "execution_count": 111,
   "metadata": {
    "colab": {
     "base_uri": "https://localhost:8080/",
     "height": 136
    },
    "colab_type": "code",
    "id": "HhIFg0fOQQei",
    "outputId": "db6956f9-1e09-4c6b-e31c-8a84822b92b8"
   },
   "outputs": [
    {
     "name": "stdout",
     "output_type": "stream",
     "text": [
      "  adding: content/sample_data/ (stored 0%)\n",
      "  adding: content/sample_data/anscombe.json (deflated 83%)\n",
      "  adding: content/sample_data/README.md (deflated 42%)\n",
      "  adding: content/sample_data/california_housing_train.csv (deflated 79%)\n",
      "  adding: content/sample_data/california_housing_test.csv (deflated 76%)\n",
      "  adding: content/sample_data/mnist_train_small.csv (deflated 88%)\n",
      "  adding: content/sample_data/mnist_test.csv (deflated 88%)\n"
     ]
    }
   ],
   "source": [
    "!zip -r /content/sample_data.zip /content/sample_data"
   ]
  },
  {
   "cell_type": "code",
   "execution_count": 0,
   "metadata": {
    "colab": {},
    "colab_type": "code",
    "id": "8cTo9c97QqXR"
   },
   "outputs": [],
   "source": [
    "# Downloading the TensorBoard data\n",
    "from google.colab import files\n",
    "files.download('/content/sample_data.zip')"
   ]
  },
  {
   "cell_type": "code",
   "execution_count": 0,
   "metadata": {
    "colab": {},
    "colab_type": "code",
    "id": "W10FzTkQQzHF"
   },
   "outputs": [],
   "source": []
  }
 ],
 "metadata": {
  "accelerator": "GPU",
  "colab": {
   "collapsed_sections": [],
   "name": "DLP_7_2_Tensorboard.ipynb",
   "provenance": [],
   "toc_visible": true
  },
  "kernelspec": {
   "display_name": "Python 3",
   "language": "python",
   "name": "python3"
  },
  "language_info": {
   "codemirror_mode": {
    "name": "ipython",
    "version": 3
   },
   "file_extension": ".py",
   "mimetype": "text/x-python",
   "name": "python",
   "nbconvert_exporter": "python",
   "pygments_lexer": "ipython3",
   "version": "3.6.5"
  }
 },
 "nbformat": 4,
 "nbformat_minor": 1
}
