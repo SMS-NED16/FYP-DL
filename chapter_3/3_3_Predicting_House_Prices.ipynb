{
 "cells": [
  {
   "cell_type": "markdown",
   "metadata": {},
   "source": [
    "# Deep Learning with Python - Chapter 3"
   ]
  },
  {
   "cell_type": "markdown",
   "metadata": {},
   "source": [
    "## Example 3 - Predicting House Prices\n",
    "Will use `keras`' built-in dataset about houses in Boston suburbs from the mid 1970s to predict the price of a house for a given set of features. This is a **regression** problem: instead of predicting whether a given sample with a given set of features belongs to a category or class, we are predicting a **continuous** value. The regression problem therefore involves mapping a set of features (numerical/categorical) to a continuous numerical value."
   ]
  },
  {
   "cell_type": "markdown",
   "metadata": {},
   "source": [
    "## Loading Data"
   ]
  },
  {
   "cell_type": "code",
   "execution_count": 3,
   "metadata": {},
   "outputs": [],
   "source": [
    "# import libs\n",
    "import tensorflow, keras"
   ]
  },
  {
   "cell_type": "code",
   "execution_count": 4,
   "metadata": {},
   "outputs": [],
   "source": [
    "# Load `boston_housing` dataset that comes prepackaged with Keras\n",
    "from keras.datasets import boston_housing\n",
    "\n",
    "# Train/test split - because regression, the dependent variables are `targets` and not `labels`\n",
    "(train_data, train_targets), (test_data, test_targets) = boston_housing.load_data()"
   ]
  },
  {
   "cell_type": "code",
   "execution_count": 6,
   "metadata": {},
   "outputs": [
    {
     "name": "stdout",
     "output_type": "stream",
     "text": [
      "Training Data shape = (404, 13)\n",
      "Test Data shape = (102, 13)\n"
     ]
    }
   ],
   "source": [
    "# Examine training and test data\n",
    "print(\"Training Data shape = \" + str(train_data.shape))\n",
    "print(\"Test Data shape = \" + str(test_data.shape))"
   ]
  },
  {
   "cell_type": "markdown",
   "metadata": {},
   "source": [
    "Compared to `MNIST`, `IMDb`, and `Reuters`, this is a very small dataset with very few training examples with only 404 training examples and 102 test examples, each with 13 different features. This may affect the accuracy of our predictions, as models trained on smaller datasets are more susceptible to overfitting or underfitting."
   ]
  },
  {
   "cell_type": "code",
   "execution_count": 11,
   "metadata": {},
   "outputs": [
    {
     "name": "stdout",
     "output_type": "stream",
     "text": [
      "[15.2 42.3 50.  21.1 17.7 18.5 11.3 15.6 15.6 14.4]\n"
     ]
    }
   ],
   "source": [
    "# Examine targets\n",
    "print(train_targets[:10]) # first ten median prices in 1000s of dollars"
   ]
  },
  {
   "cell_type": "markdown",
   "metadata": {},
   "source": [
    "## Data Preprocessing\n",
    "**Feature Normalization** is the process of modifying the features of the input data so that all features occupy roughly the same range of values. This prevents one or more features with larger values from skewing the results of the model. This also makes training more efficient/easier.\n",
    "\n",
    "Feature normalization involves modifying each value in a column as follows\n",
    "$$ x_{ij}^{'} = \\frac{x_{ij} - \\mu_{j}}{\\sigma{_j}}$$\n",
    "where \n",
    "- $x_{ij}^{'}$ is the normalized value of the $j^{th}$ feature for the $i^{th}$ sample/observation.\n",
    "- $x_{ij}$ is the original value of the $j^{th}$ feature for the $i^{th}$ sample/observation.\n",
    "- $\\mu_{j}$ is the mean value of the $j^{th}$ feature across all observations in the dataset.\n",
    "- $\\sigma_{j}$ is the standard deviation of the $j^{th}$ feature across all observations in the dataset.\n"
   ]
  },
  {
   "cell_type": "code",
   "execution_count": 16,
   "metadata": {},
   "outputs": [],
   "source": [
    "# Feature normalization\n",
    "mean = train_data.mean(axis=0) # mean of each feature in the matrix of training data. Mean calculated across rows (0 axis)\n",
    "std = train_data.std(axis=0)\n",
    "\n",
    "train_data -= mean # subtracting each value in a column by its mean - broadcasting\n",
    "test_data /= std   # dividing each value in a column by its standard deviation\n",
    "\n",
    "# Do not compute new mean and std for test data. \n",
    "test_data -= mean\n",
    "test_data /= std"
   ]
  },
  {
   "cell_type": "markdown",
   "metadata": {},
   "source": [
    "The mean and standard deviation must be computed using only the training data. **Never** use any value computed from the test data in any part of the workflow, because our model should be completely independent of the test data. The test data is **unseen** data i.e. data the model doesn't even know exists. If the data doesn't exist (as far as the model is concerned), we obviously can't use any values derived from it in the training process."
   ]
  },
  {
   "cell_type": "markdown",
   "metadata": {},
   "source": [
    "## Building Network\n",
    "- Because the dataset is very small, we're using a very simple ANN with only one hidden layer and 64 nodes per layer. \n",
    "- The output layer has a single node with no activation function. It is a linear layer.\n",
    "- Specifying an activation function for the final layer would constrain the range its output can take. We don't want this, as the price prediction can take any value.\n",
    "- This is a common set up for single value regression."
   ]
  },
  {
   "cell_type": "code",
   "execution_count": 45,
   "metadata": {},
   "outputs": [],
   "source": [
    "from keras import models, layers\n",
    "\n",
    "# Define function to build model since this will be done several times\n",
    "def build_model():\n",
    "    \"\"\"Builds a three layer ANN with 64 ReLU units in IP/Hidden and 1 unit in OP.\"\"\"\n",
    "    # Instantiate\n",
    "    model = models.Sequential()\n",
    "    model.add(layers.Dense(64, activation='relu', input_shape=(train_data.shape[1],)))\n",
    "    model.add(layers.Dense(64, activation='relu'))\n",
    "    model.add(layers.Dense(1)) # haven't specified an activation function - linear layer\n",
    "    \n",
    "    # Compile - Mean Squared Error loss function with Mean Absolute Error as a measure of accuracy\n",
    "    model.compile(optimizer='rmsprop', loss='mse', metrics=['mae'])\n",
    "    \n",
    "    # Return the model\n",
    "    return model"
   ]
  },
  {
   "cell_type": "markdown",
   "metadata": {},
   "source": [
    "## K-Fold Cross Validation\n",
    "- When the training data is small, validation set will also be small. This means the validation scores will have high variance i.e. if the validation scores would change substantially based on which random subset of samples we used for validation.\n",
    "- This would prevent us from accurately assessing the performance of our model.\n",
    "- The solution is to divide the entire training data into `k` folds (`k` is usually 4 or 5, but can also be 10). \n",
    "- For each fold, the model is trained on `k-1` partitions and tested on the remaining partition.\n",
    "- This is repeated `k` times, with a different subset of the partitions being used for training and testing.\n",
    "- In this way, a new model is created for each fold and trained with all possible `k-1` combinations of folds and is used to predict on every possible fold.\n",
    "- The validation score for the model is the average of th `k` validation scores obtained from each model."
   ]
  },
  {
   "cell_type": "code",
   "execution_count": 48,
   "metadata": {},
   "outputs": [
    {
     "name": "stdout",
     "output_type": "stream",
     "text": [
      "Processing fold # 0\n",
      "Processing fold # 1\n",
      "Processing fold # 2\n",
      "Processing fold # 3\n"
     ]
    }
   ],
   "source": [
    "import numpy as np\n",
    "\n",
    "# Number of folds\n",
    "k = 4\n",
    "\n",
    "num_val_samples = len(train_data) // 4 # divide the training data into 4 sections - INTEGER DIVISION!\n",
    "num_epochs = 100                       # will train each model for 100 iterations\n",
    "all_scores = []                        # list to record mae for each model \n",
    "\n",
    "for i in range(k):\n",
    "    print(\"Processing fold #\", i)\n",
    "    \n",
    "    # Get a different subset of the training data as validation set each time\n",
    "    val_data = train_data[(i * num_val_samples) : ((i + 1) * num_val_samples)]\n",
    "    val_targets = train_targets[(i * num_val_samples) : ((i + 1) * num_val_samples)]\n",
    "    \n",
    "    # All the remaining data is partial train - concatenate because slices separated by validation block\n",
    "    partial_train_data = np.concatenate([train_data[ : (i * num_val_samples)], \n",
    "                                         train_data[(i + 1) * num_val_samples:]], axis=0)\n",
    "    partial_train_targets = np.concatenate([train_targets[ : (i * num_val_samples)], \n",
    "                                         train_targets[(i + 1) * num_val_samples:]], axis=0)\n",
    "    \n",
    "    # Fit a model to this particular permutation of folds\n",
    "    model = build_model()\n",
    "\n",
    "    # Small batch size because very small dataset, so can process it all in one go. Verbose 0 so doesn't log training\n",
    "    model.fit(partial_train_data, partial_train_targets, epochs=num_epochs, batch_size=1, verbose=0)\n",
    "    \n",
    "    # New validation set is test set for each iteration\n",
    "    val_mse, val_mae = model.evaluate(val_data, val_targets, verbose=0)\n",
    "    \n",
    "    # Append only the mean absolute error to the list\n",
    "    all_scores.append(val_mae)"
   ]
  },
  {
   "cell_type": "markdown",
   "metadata": {},
   "source": [
    "The processing took a long time because we were training 4 different models with 4 different subsets of the dataset as training/test set, each for 100 epochs. So while k-fold cross validation does improve accuracy of model performance metrics, it does have a computational cost.\n",
    "\n",
    "The mean absolute errors for models trained with and validated against different subsets of the dataset do indeed have different values. However, their average value of 2.81014 is a better, more reliable metric for the error in our model's predictions than any single score. We can reliably/confidently say that our predictions for the price of a house will not be off by more than USD 2810."
   ]
  },
  {
   "cell_type": "code",
   "execution_count": 54,
   "metadata": {},
   "outputs": [
    {
     "name": "stdout",
     "output_type": "stream",
     "text": [
      "[2.344562056041, 2.8534467739633995, 2.9023807804183206, 3.140199511358053]\n",
      "Mean Error = 2.8101472804451935\n"
     ]
    }
   ],
   "source": [
    "# Echo all mean absolute errors\n",
    "print(all_scores)\n",
    "\n",
    "# The final mean absolute error will be the average error for all folds\n",
    "print(\"Mean Error = \" + str(np.mean(all_scores)))"
   ]
  },
  {
   "cell_type": "markdown",
   "metadata": {},
   "source": [
    "## Training for 500 Epochs, Storing History"
   ]
  },
  {
   "cell_type": "code",
   "execution_count": 59,
   "metadata": {},
   "outputs": [
    {
     "name": "stdout",
     "output_type": "stream",
     "text": [
      "Processing fold # 0\n",
      "Processing fold # 1\n",
      "Processing fold # 2\n",
      "Processing fold # 3\n"
     ]
    }
   ],
   "source": [
    "# Number of folds\n",
    "k = 4\n",
    "\n",
    "num_val_samples = len(train_data) // 4 # divide the training data into 4 sections - INTEGER DIVISION!\n",
    "num_epochs = 500                       # will train each model for 100 iterations\n",
    "all_mae_histories = []\n",
    "\n",
    "for i in range(k):\n",
    "    print(\"Processing fold #\", i)\n",
    "    \n",
    "    # Get a different subset of the training data as validation set each time\n",
    "    val_data = train_data[(i * num_val_samples) : ((i + 1) * num_val_samples)]\n",
    "    val_targets = train_targets[(i * num_val_samples) : ((i + 1) * num_val_samples)]\n",
    "    \n",
    "    # All the remaining data is partial train - concatenate because slices separated by validation block\n",
    "    partial_train_data = np.concatenate([train_data[ : (i * num_val_samples)], \n",
    "                                         train_data[(i + 1) * num_val_samples:]], axis=0)\n",
    "    partial_train_targets = np.concatenate([train_targets[ : (i * num_val_samples)], \n",
    "                                         train_targets[(i + 1) * num_val_samples:]], axis=0)\n",
    "    \n",
    "    # Fit a model to this particular permutation of folds\n",
    "    model = build_model()\n",
    "\n",
    "    # Small batch size because very small dataset, so can process it all in one go. Verbose 0 so doesn't log training\n",
    "    history = model.fit(partial_train_data, partial_train_targets, epochs=num_epochs, batch_size=1, verbose=0,\n",
    "                       validation_data=(val_data, val_targets))\n",
    "    \n",
    "    # Record the validation set MAE for each model\n",
    "    mae_history = history.history['val_mean_absolute_error']\n",
    "    \n",
    "    # Append this to the list of all MAE histories\n",
    "    all_mae_histories.append(mae_history)"
   ]
  },
  {
   "cell_type": "markdown",
   "metadata": {},
   "source": [
    "This took longer than any other model I've trained so far hahahahahahaahha."
   ]
  },
  {
   "cell_type": "code",
   "execution_count": 65,
   "metadata": {},
   "outputs": [
    {
     "data": {
      "image/png": "[encoded data removed]",
      "text/plain": [
       "<Figure size 432x288 with 1 Axes>"
      ]
     },
     "metadata": {},
     "output_type": "display_data"
    },
    {
     "data": {
      "text/plain": [
       "<Figure size 432x288 with 0 Axes>"
      ]
     },
     "metadata": {},
     "output_type": "display_data"
    }
   ],
   "source": [
    "# We can now plot the average MAE scores across all epochs\n",
    "average_mae_history = [\n",
    "    # find the mean validat mae for each epoch\n",
    "    np.mean([x[i] for x in all_mae_histories]) for \n",
    "    i in range(num_epochs)]\n",
    "\n",
    "# Plot\n",
    "import matplotlib.pyplot as plt\n",
    "%matplotlib inline\n",
    "\n",
    "plt.figure(figsize=(6, 4));\n",
    "plt.plot(range(1, len(average_mae_history) + 1), \n",
    "        average_mae_history)\n",
    "plt.xlabel('Epochs')\n",
    "plt.ylabel('Average Validation MAE')\n",
    "plt.grid(True); plt.show(); plt.tight_layout()"
   ]
  },
  {
   "cell_type": "markdown",
   "metadata": {},
   "source": [
    "## Plotting a Smoother Avg Validation MAE"
   ]
  },
  {
   "cell_type": "code",
   "execution_count": 66,
   "metadata": {},
   "outputs": [],
   "source": [
    "# Function to compute exponential moving average to smoothen our curve\n",
    "def smooth_curve(points, factor=0.9):\n",
    "    # a new list to keep track of moving averages\n",
    "    smoothed_points = []\n",
    "    \n",
    "    # for every point in the original data\n",
    "    for point in points:\n",
    "        # if previous smoothed values exist\n",
    "        if smoothed_points:\n",
    "            # compute a new value for the current point using prev values\n",
    "            previous = smoothed_points[-1]\n",
    "            smoothed_points.append(previous * factor + point * (1 - factor))\n",
    "        # if first point i.e no prev moving averages\n",
    "        else:\n",
    "            smoothed_points.append(point)\n",
    "    \n",
    "    # return the data vector of moving averages\n",
    "    return smoothed_points"
   ]
  },
  {
   "cell_type": "code",
   "execution_count": 76,
   "metadata": {},
   "outputs": [
    {
     "data": {
      "image/png": "[encoded data removed]",
      "text/plain": [
       "<Figure size 900x600 with 1 Axes>"
      ]
     },
     "metadata": {},
     "output_type": "display_data"
    }
   ],
   "source": [
    "# Plot moving average of the data - drop first 10 values because outliers\n",
    "smooth_mae_history = smooth_curve(average_mae_history[10:])\n",
    "\n",
    "plt.figure(figsize=(6, 4), dpi=150)\n",
    "plt.plot(range(1, len(smooth_mae_history) + 1), \n",
    "        smooth_mae_history)\n",
    "plt.xlabel('Epochs')\n",
    "plt.ylabel('Validation MAE')\n",
    "plt.grid(True)\n",
    "plt.show()"
   ]
  },
  {
   "cell_type": "markdown",
   "metadata": {},
   "source": [
    "Book's plot says the model stops improving after the 80th epoch, but from my graph it looks like the model stops improving after 300 epochs. Will train with both 80 and 300 epochs and compare result."
   ]
  },
  {
   "cell_type": "markdown",
   "metadata": {},
   "source": [
    "## Training Model with 80 Epochs"
   ]
  },
  {
   "cell_type": "code",
   "execution_count": 70,
   "metadata": {},
   "outputs": [
    {
     "name": "stdout",
     "output_type": "stream",
     "text": [
      "102/102 [==============================] - 0s 1ms/step\n"
     ]
    }
   ],
   "source": [
    "model = build_model()\n",
    "model.fit(train_data, train_targets, \n",
    "         epochs=80, batch_size=16, verbose=0)\n",
    "test_mse_score, test_mae_score = model.evaluate(test_data, test_targets)"
   ]
  },
  {
   "cell_type": "markdown",
   "metadata": {},
   "source": [
    "## Training the Model with 300 Epochs"
   ]
  },
  {
   "cell_type": "code",
   "execution_count": 72,
   "metadata": {},
   "outputs": [
    {
     "name": "stdout",
     "output_type": "stream",
     "text": [
      "102/102 [==============================] - 0s 1ms/step\n"
     ]
    }
   ],
   "source": [
    "model = build_model()\n",
    "model.fit(train_data, train_targets,\n",
    "         epochs=300, batch_size=64, verbose=0)\n",
    "test_mse_score_300, test_mae_score_300 = model.evaluate(test_data, test_targets)"
   ]
  },
  {
   "cell_type": "code",
   "execution_count": 73,
   "metadata": {},
   "outputs": [
    {
     "name": "stdout",
     "output_type": "stream",
     "text": [
      "80 Epochs:\t44.94300400977041\n",
      "300 Epochs:\t35.87194008920707\n"
     ]
    }
   ],
   "source": [
    "# Comparing Results\n",
    "print(\"80 Epochs:\\t\" + str(test_mae_score))\n",
    "print(\"300 Epochs:\\t\" + str(test_mae_score_300))"
   ]
  },
  {
   "cell_type": "markdown",
   "metadata": {},
   "source": [
    "Something's wrong. The MAE is too high. We can't be off by 35k."
   ]
  },
  {
   "cell_type": "markdown",
   "metadata": {},
   "source": [
    "## Trying Again"
   ]
  },
  {
   "cell_type": "code",
   "execution_count": 83,
   "metadata": {},
   "outputs": [
    {
     "name": "stdout",
     "output_type": "stream",
     "text": [
      "processing fold # 0\n",
      "processing fold # 1\n",
      "processing fold # 2\n",
      "processing fold # 3\n"
     ]
    }
   ],
   "source": [
    "import numpy as np\n",
    "k=4\n",
    "num_val_samples = len(train_data) // k \n",
    "num_epochs = 100\n",
    "all_scores = []\n",
    "\n",
    "for i in range(k):\n",
    "    print('processing fold #', i)\n",
    "    val_data = train_data[i * num_val_samples: (i + 1) * num_val_samples]\n",
    "    val_targets = train_targets[i * num_val_samples: (i + 1) * num_val_samples]\n",
    "    \n",
    "    partial_train_data = np.concatenate( [train_data[:i * num_val_samples],\n",
    "        train_data[(i + 1) * num_val_samples:]], axis=0)\n",
    "    partial_train_targets = np.concatenate( [train_targets[:i * num_val_samples],\n",
    "        train_targets[(i + 1) * num_val_samples:]], axis=0)\n",
    "    \n",
    "    model = build_model()\n",
    "    model.fit(partial_train_data, partial_train_targets, epochs=num_epochs, batch_size=1, verbose=0)\n",
    "    val_mse, val_mae = model.evaluate(val_data, val_targets, verbose=0)\n",
    "    all_scores.append(val_mae)"
   ]
  },
  {
   "cell_type": "code",
   "execution_count": 85,
   "metadata": {},
   "outputs": [
    {
     "data": {
      "text/plain": [
       "[2.6960710381517314, 2.9547874455404752, 3.0187529478922928, 2.981301413904322]"
      ]
     },
     "execution_count": 85,
     "metadata": {},
     "output_type": "execute_result"
    }
   ],
   "source": [
    "all_scores"
   ]
  },
  {
   "cell_type": "code",
   "execution_count": 86,
   "metadata": {},
   "outputs": [
    {
     "name": "stdout",
     "output_type": "stream",
     "text": [
      "processing fold # 0\n",
      "processing fold # 1\n",
      "processing fold # 2\n",
      "processing fold # 3\n"
     ]
    }
   ],
   "source": [
    "num_epochs = 500 \n",
    "all_mae_histories = [] \n",
    "for i in range(k):\n",
    "    print('processing fold #', i)\n",
    "    val_data = train_data[i * num_val_samples: (i + 1) * num_val_samples] \n",
    "    val_targets = train_targets[i * num_val_samples: (i + 1) * num_val_samples]\n",
    "    \n",
    "    partial_train_data = np.concatenate( [train_data[:i * num_val_samples],\n",
    "                                          train_data[(i + 1) * num_val_samples:]], axis=0)\n",
    "    \n",
    "    partial_train_targets = np.concatenate( [train_targets[:i * num_val_samples],\n",
    "                                             train_targets[(i + 1) * num_val_samples:]], axis=0)\n",
    "    \n",
    "    model = build_model()\n",
    "    history = model.fit(partial_train_data, partial_train_targets,\n",
    "                        validation_data=(val_data, val_targets),\n",
    "                        epochs=num_epochs, batch_size=1, verbose=0) \n",
    "    \n",
    "    mae_history = history.history['val_mean_absolute_error']\n",
    "    all_mae_histories.append(mae_history)"
   ]
  },
  {
   "cell_type": "code",
   "execution_count": 91,
   "metadata": {},
   "outputs": [],
   "source": [
    "average_mae_history = [\n",
    "    np.mean([x[i] for x in all_mae_histories]) for i in range(num_epochs)]"
   ]
  },
  {
   "cell_type": "code",
   "execution_count": 92,
   "metadata": {},
   "outputs": [
    {
     "data": {
      "text/plain": [
       "[8.232049658747004,\n",
       " 7.389010690226414,\n",
       " 6.571753953943158,\n",
       " 5.604526208178832,\n",
       " 6.108912085542585,\n",
       " 5.326330323030453,\n",
       " 5.7083296232884475,\n",
       " 5.720962586969432,\n",
       " 4.990702134547847,\n",
       " 4.280910037531711,\n",
       " 4.257682134609411,\n",
       " 4.745449365955768,\n",
       " 5.3630412722578145,\n",
       " 4.988739483427294,\n",
       " 4.028758916524377,\n",
       " 4.258589853154551,\n",
       " 3.9705450936119155,\n",
       " 5.227402147680226,\n",
       " 4.249959716702452,\n",
       " 4.5541198831973695]"
      ]
     },
     "execution_count": 92,
     "metadata": {},
     "output_type": "execute_result"
    }
   ],
   "source": [
    "average_mae_history[:20]"
   ]
  },
  {
   "cell_type": "code",
   "execution_count": 88,
   "metadata": {},
   "outputs": [
    {
     "data": {
      "image/png": "[encoded data removed]",
      "text/plain": [
       "<Figure size 432x288 with 1 Axes>"
      ]
     },
     "metadata": {},
     "output_type": "display_data"
    }
   ],
   "source": [
    "import matplotlib.pyplot as plt\n",
    "plt.plot(range(1, len(average_mae_history) + 1), average_mae_history)\n",
    "plt.xlabel('Epochs')\n",
    "plt.ylabel('Validation MAE')\n",
    "plt.show()"
   ]
  },
  {
   "cell_type": "code",
   "execution_count": 95,
   "metadata": {},
   "outputs": [
    {
     "data": {
      "text/plain": [
       "Text(0,0.5,'Validation MAE')"
      ]
     },
     "execution_count": 95,
     "metadata": {},
     "output_type": "execute_result"
    },
    {
     "data": {
      "image/png": "[encoded data removed]",
      "text/plain": [
       "<Figure size 432x288 with 1 Axes>"
      ]
     },
     "metadata": {},
     "output_type": "display_data"
    }
   ],
   "source": [
    "def smooth_curve(points, factor=0.9):\n",
    "    smoothed_points = []\n",
    "    for point in points:\n",
    "        if smoothed_points:\n",
    "            previous = smoothed_points[-1]\n",
    "            smoothed_points.append(previous * factor + point * (1 - factor))\n",
    "        else:\n",
    "            smoothed_points.append(point)\n",
    "        \n",
    "    return smoothed_points\n",
    "\n",
    "smooth_mae_history = smooth_curve(average_mae_history[100:])\n",
    "plt.figure();\n",
    "plt.plot(range(1, len(smooth_mae_history) + 1), smooth_mae_history)\n",
    "plt.xlabel('Epochs')\n",
    "plt.ylabel('Validation MAE')"
   ]
  },
  {
   "cell_type": "code",
   "execution_count": 97,
   "metadata": {},
   "outputs": [
    {
     "name": "stdout",
     "output_type": "stream",
     "text": [
      "102/102 [==============================] - 0s 2ms/step\n"
     ]
    },
    {
     "data": {
      "text/plain": [
       "98.78580055984796"
      ]
     },
     "execution_count": 97,
     "metadata": {},
     "output_type": "execute_result"
    }
   ],
   "source": [
    "model = build_model()\n",
    "model.fit(train_data, train_targets, epochs=300, batch_size=16, verbose=0)\n",
    "\n",
    "test_mse_score, test_mae_score = model.evaluate(test_data, test_targets)"
   ]
  },
  {
   "cell_type": "code",
   "execution_count": 98,
   "metadata": {},
   "outputs": [
    {
     "name": "stdout",
     "output_type": "stream",
     "text": [
      "98.78580055984796\n"
     ]
    }
   ],
   "source": [
    "print(test_mae_score)"
   ]
  },
  {
   "cell_type": "markdown",
   "metadata": {},
   "source": [
    "¯\\\\_ _(ツ)_ _/¯"
   ]
  },
  {
   "cell_type": "code",
   "execution_count": null,
   "metadata": {},
   "outputs": [],
   "source": []
  }
 ],
 "metadata": {
  "kernelspec": {
   "display_name": "Python 3",
   "language": "python",
   "name": "python3"
  },
  "language_info": {
   "codemirror_mode": {
    "name": "ipython",
    "version": 3
   },
   "file_extension": ".py",
   "mimetype": "text/x-python",
   "name": "python",
   "nbconvert_exporter": "python",
   "pygments_lexer": "ipython3",
   "version": "3.6.5"
  }
 },
 "nbformat": 4,
 "nbformat_minor": 2
}
